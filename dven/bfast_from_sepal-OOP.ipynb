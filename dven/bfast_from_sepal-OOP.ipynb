{
 "cells": [
  {
   "cell_type": "markdown",
   "metadata": {},
   "source": [
    "# Bfastmonitor CPU using Python\n",
    "## This is bfastmonitor Python"
   ]
  },
  {
   "cell_type": "code",
   "execution_count": 1,
   "metadata": {},
   "outputs": [],
   "source": [
    "import os\n",
    "import wget\n",
    "import numpy as np\n",
    "from datetime import datetime\n",
    "\n",
    "from bfast import BFASTMonitor\n",
    "from bfast.utils import crop_data_dates\n",
    "\n",
    "import copy\n",
    "\n",
    "import matplotlib\n",
    "import matplotlib.pyplot as plt\n",
    "\n",
    "#from sar so extra\n",
    "import csv\n",
    "from shutil import copyfile\n",
    "import pandas as pd\n",
    "from osgeo import gdal\n",
    "from osgeo import gdal_array\n",
    "from osgeo import osr\n",
    "\n",
    "import time\n",
    "import ipywidgets as widgets\n",
    "\n",
    "from ipyfilechooser import FileChooser\n",
    "import folium\n",
    "\n",
    "#specific imports\n",
    "from functions import set_output_dir, get_size, get_data_dict"
   ]
  },
  {
   "cell_type": "code",
   "execution_count": 2,
   "metadata": {},
   "outputs": [],
   "source": [
    "%matplotlib inline"
   ]
  },
  {
   "cell_type": "markdown",
   "metadata": {},
   "source": [
    "## Select a time series folder using ipyfilechooser. The standard download location is in downloads/time_series_name/[0,1,2..n]\n",
    "\n",
    "### Optional: select a name for your output folder. "
   ]
  },
  {
   "cell_type": "code",
   "execution_count": 4,
   "metadata": {},
   "outputs": [
    {
     "data": {
      "application/vnd.jupyter.widget-view+json": {
       "model_id": "393b25d0ef8a41cb9fd0e15544c757f6",
       "version_major": 2,
       "version_minor": 0
      },
      "text/plain": [
       "FileChooser(path='/home/dven', filename='', show_hidden='False')"
      ]
     },
     "metadata": {},
     "output_type": "display_data"
    },
    {
     "data": {
      "application/vnd.jupyter.widget-view+json": {
       "model_id": "9af8011d5c914a128b420914efc1f285",
       "version_major": 2,
       "version_minor": 0
      },
      "text/plain": [
       "interactive(children=(Text(value='', description='Output storage name:', placeholder='output', style=Descripti…"
      ]
     },
     "metadata": {},
     "output_type": "display_data"
    }
   ],
   "source": [
    "from os.path import expanduser\n",
    "path = expanduser(\"~\")\n",
    "\n",
    "def g(directory):\n",
    "    return(directory)\n",
    "                          \n",
    "output_directory_chooser = widgets.interactive(g, \n",
    "                        directory=widgets.Text(description=\"Output storage name:\", \n",
    "                                               style = {'description_width': 'initial'},\n",
    "                                               placeholder = \"output\"))\n",
    "file_chooser = FileChooser(path)\n",
    "\n",
    "display(file_chooser)\n",
    "display(output_directory_chooser)\n",
    "\n"
   ]
  },
  {
   "cell_type": "code",
   "execution_count": 101,
   "metadata": {},
   "outputs": [
    {
     "name": "stdout",
     "output_type": "stream",
     "text": [
      "/home/dven/downloads/Time_series_2020-07-06_16-31-46_Portugal_Bigger/1/\n",
      "Defaulting to output directory name \"output\" \n"
     ]
    }
   ],
   "source": [
    "timeseries_directory = file_chooser.selected\n",
    "\n",
    "if not timeseries_directory:\n",
    "    raise Exception(\"Please choose a time series directory above with the file selector\")\n",
    "else:\n",
    "    print(timeseries_directory)\n",
    "    set_output_dir(output_directory_chooser)"
   ]
  },
  {
   "cell_type": "code",
   "execution_count": 114,
   "metadata": {},
   "outputs": [],
   "source": [
    "from osgeo import gdal\n",
    "import matplotlib.pyplot as plt\n",
    "import numpy as np\n",
    "from numpy import nan\n",
    "\n",
    "from bfast import BFASTMonitor\n",
    "from bfast.utils import crop_data_dates\n",
    "\n",
    "\n",
    "class Timeseries:\n",
    "    '''\n",
    "    \n",
    "    This is a class that holds a numpy array with time series data, a csv containing dates, and associated geographical metadata.\n",
    "    \n",
    "    '''\n",
    "    \n",
    "    def __init__(self, time_series_path, dates_path):\n",
    "        \n",
    "        self.name = time_series_path + \"stack.vrt\"\n",
    "        self.dir = time_series_path\n",
    "        \n",
    "        self.time_series = gdal.Open(self.name)\n",
    "        time_series = self.time_series\n",
    "        geotransform = time_series.GetGeoTransform()\n",
    "        \n",
    "        # geo metadata\n",
    "        self.xpixelsize = geotransform[1]\n",
    "        self.ypixelsize = geotransform[5]\n",
    "        self.latitude = geotransform[3]\n",
    "        self.longitude = geotransform[0]\n",
    "        self.ncols = time_series.RasterXSize\n",
    "        self.nrows = time_series.RasterYSize\n",
    "        self.projection = time_series.GetProjection()\n",
    "        self.nbands = time_series.RasterCount\n",
    "        \n",
    "        band = time_series.GetRasterBand(1)\n",
    "        self.block_size = band.GetBlockSize()\n",
    "        \n",
    "        # self.raster_stack_orig = time_series.ReadAsArray()\n",
    "        \n",
    "        # dates file\n",
    "        with open(dates_path) as f:\n",
    "            dates_list = f.read().split('\\n')\n",
    "            self.dates = [datetime.strptime(d, '%Y-%m-%d') for d in dates_list if len(d) > 0]\n",
    "        \n",
    "    def __str__(self):\n",
    "        return(\"Timeseries holds {} dates, sized {} by {}.\".format(self.nbands,\n",
    "                                                                        self.ncols,\n",
    "                                                                        self.nrows))\n",
    "    def __repr__(self):\n",
    "            return(\"Timeseries: {} \".format(self.name))\n",
    "\n",
    "    def run_bfast(self, block):\n",
    "        print(\"start monitor: \", self.start_monitor)\n",
    "        print(\"end monitor: \", self.end_monitor)\n",
    "        print(\"start history: \", self.start_hist)\n",
    "        data, dates = crop_data_dates(block, self.dates, self.start_hist, self.end_monitor)\n",
    "        print(\"First date: {}\".format(dates[0]))\n",
    "        print(\"Last date: {}\".format(dates[-1]))\n",
    "\n",
    "        # only apply on a small subset\n",
    "        data = data[:,:40,:40]\n",
    "        self.model.fit(data, dates, nan_value=nan) #changed to nan\n",
    "        breaks = self.model.breaks # index of date that has a break in dates\n",
    "        means = self.model.means # magnitudes of breaks\n",
    "        return(breaks,means)\n",
    "    \n",
    "    def loop_blocks(self):\n",
    "\n",
    "        x_block_size = self.block_size[0]\n",
    "        y_block_size = self.block_size[1]\n",
    "        print(\"rastersize: \",self.ncols,self.nrows)\n",
    "        print(\"blocksize: \",self.block_size)\n",
    "        print(\"bytes required: \", str(8 * self.ncols * self.nrows * self.nbands))\n",
    "\n",
    "        # pseudeocode\n",
    "        # set x_block_size and y_block_size based on bytes required and available ram\n",
    "\n",
    "        first_verstack=True\n",
    "\n",
    "        time_series = self.time_series\n",
    "        # loop over yblocks\n",
    "        for i in range(0, self.nrows, y_block_size):\n",
    "            first_horstack = True\n",
    "            if i + y_block_size < self.nrows:\n",
    "                rows = y_block_size\n",
    "            else:\n",
    "                rows = self.nrows - i\n",
    "\n",
    "            # Loop over xblocks\n",
    "            for j in range(0, self.ncols, x_block_size):\n",
    "                #counter+=1\n",
    "                if j + x_block_size < self.ncols:\n",
    "                    cols = x_block_size\n",
    "                else:\n",
    "                    cols = self.ncols - j\n",
    "\n",
    "                print(j,i,cols,rows)\n",
    "\n",
    "                # first step creates the array\n",
    "                if first_horstack==True:\n",
    "                    data = time_series.ReadAsArray(j, i, cols, rows)\n",
    "\n",
    "                    breaks,means = self.run_bfast(data)\n",
    "                    breaks_array = breaks\n",
    "                    means_array = means\n",
    "                    first_horstack=False\n",
    "                    \n",
    "                # after that add to array\n",
    "                else:                    \n",
    "                    data = time_series.ReadAsArray(j, i, cols, rows)\n",
    "                    \n",
    "                    breaks,means = self.run_bfast(data)\n",
    "                    breaks_array = np.concatenate((breaks_array,breaks),axis = 1)\n",
    "                    means_array = np.concatenate((means_array,means),axis = 1)\n",
    "                    #data = np.concatenate((data, time_series.ReadAsArray(j, i, cols, rows)),axis=2)\n",
    "                    \n",
    "                    print(data.nbytes)\n",
    "\n",
    "            # first step create new variable verstack for the data\n",
    "            if first_verstack == True:\n",
    "                stack_breaks_array = breaks_array\n",
    "                stack_means_array = means_array\n",
    "                print(stack_breaks_array)\n",
    "                first_verstack = False\n",
    "            # after that add data to array\n",
    "            else:\n",
    "                stack_breaks_array = np.concatenate((stack_breaks_array,breaks_array),axis=0)\n",
    "                stack_means_array = np.concatenate((stack_means_array,means_array),axis=0)\n",
    "                #verstack_data = np.concatenate((verstack_data, data),axis = 1)\n",
    "                print(stack_breaks_array)\n",
    "\n",
    "        self.raster_stack = verstack_data\n",
    "\n",
    "        \n",
    "        # numpy raster\n",
    "        \n",
    "        # what we want to do is try to download the whole tile, if it doesn't work, do it per block and then merge? \n",
    "        #self.raster_stack = time_series.ReadAsArray()\n",
    "    \n",
    "    def set_bfast_parameters(self, start_monitor, end_monitor, start_hist,freq,k,hfrac,trend,level,backend='python',verbose=1):\n",
    "        self.start_monitor = start_monitor\n",
    "        self.end_monitor = end_monitor\n",
    "        self.start_hist = start_hist\n",
    "        \n",
    "        self.model = BFASTMonitor(\n",
    "                    self.start_monitor,\n",
    "                    freq=freq, # add these\n",
    "                    k=k,\n",
    "                    hfrac=hfrac,\n",
    "                    trend=trend,\n",
    "                    level=level,\n",
    "                    backend='python',\n",
    "                    verbose=1\n",
    "                    )\n",
    "        \n",
    "    def get_bfast_parameters(self):\n",
    "        print(self.model)\n",
    "    \n",
    "    \n",
    "\n",
    "    def plot_hist(self):\n",
    "        histlist = []\n",
    "        for x in range(self.nbands):\n",
    "            histlist.append(np.isnan(self.raster_stack[x]).sum()/(self.ncols*self.nrows))\n",
    "        plt.hist(histlist)\n",
    "        plt.show()\n",
    "        \n",
    "    def get_size(self):\n",
    "        total_size = 0\n",
    "        for dirpath, dirnames, filenames in os.walk(self.dir):\n",
    "            for f in filenames:\n",
    "                fp = os.path.join(dirpath, f)\n",
    "                # skip if it is symbolic link\n",
    "                if not os.path.islink(fp):\n",
    "                    total_size += os.path.getsize(fp)\n",
    "        print(self.dir + \"   holds  \" + str(total_size) + \" bytes\")\n",
    "\n",
    "      "
   ]
  },
  {
   "cell_type": "code",
   "execution_count": null,
   "metadata": {},
   "outputs": [],
   "source": []
  },
  {
   "cell_type": "markdown",
   "metadata": {},
   "source": [
    "# Load in data: if there are tiles in the directory, create a list and load per tile"
   ]
  },
  {
   "cell_type": "code",
   "execution_count": 115,
   "metadata": {
    "scrolled": true
   },
   "outputs": [],
   "source": [
    "start_time = time.time()\n",
    "\n",
    "# # set paths to data\n",
    "dates_path = os.path.join(timeseries_directory, \"dates.csv\")\n",
    "data_list=[]\n",
    "tile_paths = []\n",
    "\n",
    "# # check for tiles\n",
    "for file in os.listdir(timeseries_directory):\n",
    "    if file.startswith('tile'):\n",
    "        time_series_path =  timeseries_directory + file + \"/\"\n",
    "        tile_paths.append(time_series_path)\n"
   ]
  },
  {
   "cell_type": "code",
   "execution_count": 116,
   "metadata": {
    "scrolled": true
   },
   "outputs": [
    {
     "name": "stdout",
     "output_type": "stream",
     "text": [
      "No tiles, loading in data as a whole\n"
     ]
    }
   ],
   "source": [
    "# # load in time series and its metadata\n",
    "if not tile_paths:\n",
    "    print(\"No tiles, loading in data as a whole\")\n",
    "#     time_series_path = os.path.join(timeseries_directory, 'stack.vrt')\n",
    "    ts_data = Timeseries(timeseries_directory, dates_path)\n",
    "    data_list.append(ts_data)\n",
    "    \n",
    "else:\n",
    "    print(\"Data consists of tiles, loading in tiles one by one\")\n",
    "    for time_series_path in tile_paths:\n",
    "        ts_data = Timeseries(time_series_path, dates_path)\n",
    "        data_list.append(ts_data)\n",
    "        \n",
    "        end_time = time.time()\n",
    "        print(time_series_path, ' loaded \\n', \"Loading data took {} seconds.\".format(end_time - start_time))\n",
    "\n",
    "# Save time and log\n",
    "end_time = time.time()\n",
    "#print(\"Total loading took {} seconds.\".format(end_time - start_time))\n",
    "\n",
    "# log\n",
    "with open(\"log.txt\",\"a\") as file:\n",
    "    file.write(\"Loading in: \" + timeseries_directory)\n",
    "    file.write(\" took {} seconds.\".format(end_time - start_time))\n",
    "    file.write(\"\\n\")"
   ]
  },
  {
   "cell_type": "code",
   "execution_count": null,
   "metadata": {},
   "outputs": [],
   "source": []
  },
  {
   "cell_type": "code",
   "execution_count": 86,
   "metadata": {
    "scrolled": true
   },
   "outputs": [
    {
     "ename": "AttributeError",
     "evalue": "'Timeseries' object has no attribute 'raster_stack'",
     "output_type": "error",
     "traceback": [
      "\u001b[0;31m---------------------------------------------------------------------------\u001b[0m",
      "\u001b[0;31mAttributeError\u001b[0m                            Traceback (most recent call last)",
      "\u001b[0;32m<ipython-input-86-2d5b82fd4846>\u001b[0m in \u001b[0;36m<module>\u001b[0;34m\u001b[0m\n\u001b[0;32m----> 1\u001b[0;31m \u001b[0mprint\u001b[0m\u001b[0;34m(\u001b[0m\u001b[0mts_data\u001b[0m\u001b[0;34m.\u001b[0m\u001b[0mraster_stack\u001b[0m\u001b[0;34m[\u001b[0m\u001b[0;36m1\u001b[0m\u001b[0;34m]\u001b[0m\u001b[0;34m)\u001b[0m\u001b[0;34m\u001b[0m\u001b[0;34m\u001b[0m\u001b[0m\n\u001b[0m\u001b[1;32m      2\u001b[0m \u001b[0mprint\u001b[0m\u001b[0;34m(\u001b[0m\u001b[0mts_data\u001b[0m\u001b[0;34m.\u001b[0m\u001b[0mraster_stack_orig\u001b[0m\u001b[0;34m[\u001b[0m\u001b[0;36m1\u001b[0m\u001b[0;34m]\u001b[0m\u001b[0;34m)\u001b[0m\u001b[0;34m\u001b[0m\u001b[0;34m\u001b[0m\u001b[0m\n\u001b[1;32m      3\u001b[0m \u001b[0;34m\u001b[0m\u001b[0m\n\u001b[1;32m      4\u001b[0m \u001b[0mprint\u001b[0m\u001b[0;34m(\u001b[0m\u001b[0mts_data\u001b[0m\u001b[0;34m.\u001b[0m\u001b[0mraster_stack\u001b[0m\u001b[0;34m[\u001b[0m\u001b[0;36m1\u001b[0m\u001b[0;34m]\u001b[0m \u001b[0;34m==\u001b[0m \u001b[0mts_data\u001b[0m\u001b[0;34m.\u001b[0m\u001b[0mraster_stack_orig\u001b[0m\u001b[0;34m[\u001b[0m\u001b[0;36m1\u001b[0m\u001b[0;34m]\u001b[0m\u001b[0;34m)\u001b[0m\u001b[0;34m\u001b[0m\u001b[0;34m\u001b[0m\u001b[0m\n\u001b[1;32m      5\u001b[0m \u001b[0;34m\u001b[0m\u001b[0m\n",
      "\u001b[0;31mAttributeError\u001b[0m: 'Timeseries' object has no attribute 'raster_stack'"
     ]
    }
   ],
   "source": [
    "print(ts_data.raster_stack[1])\n",
    "print(ts_data.raster_stack_orig[1])\n",
    "\n",
    "print(ts_data.raster_stack[1] == ts_data.raster_stack_orig[1])\n",
    "\n",
    "ts_data.raster_stack = ts_data.raster_stack_orig"
   ]
  },
  {
   "cell_type": "markdown",
   "metadata": {},
   "source": [
    "### Check some metadata of the created Timeseries class"
   ]
  },
  {
   "cell_type": "code",
   "execution_count": 117,
   "metadata": {},
   "outputs": [
    {
     "name": "stdout",
     "output_type": "stream",
     "text": [
      "projection:  GEOGCS[\"WGS 84\",DATUM[\"WGS_1984\",SPHEROID[\"WGS 84\",6378137,298.257223563,AUTHORITY[\"EPSG\",\"7030\"]],AUTHORITY[\"EPSG\",\"6326\"]],PRIMEM[\"Greenwich\",0],UNIT[\"degree\",0.0174532925199433,AUTHORITY[\"EPSG\",\"9122\"]],AXIS[\"Latitude\",NORTH],AXIS[\"Longitude\",EAST],AUTHORITY[\"EPSG\",\"4326\"]]\n",
      "pixel size:  0.0002694945852358618\n"
     ]
    }
   ],
   "source": [
    "for ts_data in data_list:\n",
    "    #ts_data.get_size()\n",
    "    #ts_data.plot_hist()\n",
    "    print(\"projection: \", ts_data.projection)\n",
    "    print(\"pixel size: \", ts_data.xpixelsize)"
   ]
  },
  {
   "cell_type": "code",
   "execution_count": 88,
   "metadata": {
    "scrolled": true
   },
   "outputs": [
    {
     "ename": "AttributeError",
     "evalue": "'Timeseries' object has no attribute 'raster_stack'",
     "output_type": "error",
     "traceback": [
      "\u001b[0;31m---------------------------------------------------------------------------\u001b[0m",
      "\u001b[0;31mAttributeError\u001b[0m                            Traceback (most recent call last)",
      "\u001b[0;32m<ipython-input-88-6e29907113b2>\u001b[0m in \u001b[0;36m<module>\u001b[0;34m\u001b[0m\n\u001b[1;32m      1\u001b[0m \u001b[0;31m# here one may loop over the data_list and run the whole bfastmonitor, or choose a tile\u001b[0m\u001b[0;34m\u001b[0m\u001b[0;34m\u001b[0m\u001b[0;34m\u001b[0m\u001b[0m\n\u001b[0;32m----> 2\u001b[0;31m \u001b[0mraster_stack\u001b[0m \u001b[0;34m=\u001b[0m \u001b[0mts_data\u001b[0m\u001b[0;34m.\u001b[0m\u001b[0mraster_stack\u001b[0m\u001b[0;34m\u001b[0m\u001b[0;34m\u001b[0m\u001b[0m\n\u001b[0m\u001b[1;32m      3\u001b[0m \u001b[0mdata_orig\u001b[0m \u001b[0;34m=\u001b[0m \u001b[0mraster_stack\u001b[0m\u001b[0;34m\u001b[0m\u001b[0;34m\u001b[0m\u001b[0m\n",
      "\u001b[0;31mAttributeError\u001b[0m: 'Timeseries' object has no attribute 'raster_stack'"
     ]
    }
   ],
   "source": []
  },
  {
   "cell_type": "markdown",
   "metadata": {},
   "source": [
    "# Set parameters"
   ]
  },
  {
   "cell_type": "code",
   "execution_count": 118,
   "metadata": {},
   "outputs": [],
   "source": [
    "# make a big ipywidget part\n",
    "\n",
    "# parameters\n",
    "k = 3\n",
    "freq = 365\n",
    "trend = False\n",
    "hfrac = 0.25\n",
    "level = 0.05\n",
    "start_hist = datetime(2000, 1, 1)\n",
    "start_monitor = datetime(2010, 1, 1)\n",
    "end_monitor = datetime(2018, 1, 1)\n",
    "position = (100,100)\n",
    "\n",
    "# put set parameter stuff here\n",
    "\n",
    "ts_data.set_bfast_parameters(start_monitor,end_monitor,start_hist,freq,k,hfrac,trend,level)\n"
   ]
  },
  {
   "cell_type": "code",
   "execution_count": 119,
   "metadata": {},
   "outputs": [
    {
     "name": "stdout",
     "output_type": "stream",
     "text": [
      "rastersize:  1326 1184\n",
      "blocksize:  [128, 128]\n",
      "bytes required:  11793719808\n",
      "0 0 128 128\n",
      "start monitor:  2010-01-01 00:00:00\n",
      "end monitor:  2018-01-01 00:00:00\n",
      "start history:  2000-01-01 00:00:00\n",
      "First date: 2002-01-06 00:00:00\n",
      "Last date: 2017-12-16 00:00:00\n",
      "Processing row 0\n",
      "Processing row 1\n",
      "Processing row 2\n",
      "Processing row 3\n",
      "Processing row 4\n",
      "Processing row 5\n",
      "Processing row 6\n",
      "Processing row 7\n",
      "Processing row 8\n",
      "Processing row 9\n",
      "Processing row 10\n",
      "Processing row 11\n",
      "Processing row 12\n",
      "Processing row 13\n",
      "Processing row 14\n",
      "Processing row 15\n",
      "Processing row 16\n",
      "Processing row 17\n",
      "Processing row 18\n",
      "Processing row 19\n",
      "Processing row 20\n",
      "Processing row 21\n",
      "Processing row 22\n",
      "Processing row 23\n",
      "Processing row 24\n",
      "Processing row 25\n",
      "Processing row 26\n",
      "Processing row 27\n",
      "Processing row 28\n",
      "Processing row 29\n",
      "Processing row 30\n",
      "Processing row 31\n",
      "Processing row 32\n",
      "Processing row 33\n",
      "Processing row 34\n",
      "Processing row 35\n",
      "Processing row 36\n",
      "Processing row 37\n",
      "Processing row 38\n",
      "Processing row 39\n",
      "128 0 128 128\n",
      "start monitor:  2010-01-01 00:00:00\n",
      "end monitor:  2018-01-01 00:00:00\n",
      "start history:  2000-01-01 00:00:00\n",
      "First date: 2002-01-06 00:00:00\n",
      "Last date: 2017-12-16 00:00:00\n",
      "Processing row 0\n"
     ]
    },
    {
     "ename": "AttributeError",
     "evalue": "'BFASTMonitorPython' object has no attribute 'first_break'",
     "output_type": "error",
     "traceback": [
      "\u001b[0;31m---------------------------------------------------------------------------\u001b[0m",
      "\u001b[0;31mAttributeError\u001b[0m                            Traceback (most recent call last)",
      "\u001b[0;32m<ipython-input-119-27e213d16c48>\u001b[0m in \u001b[0;36m<module>\u001b[0;34m\u001b[0m\n\u001b[0;32m----> 1\u001b[0;31m \u001b[0mts_data\u001b[0m\u001b[0;34m.\u001b[0m\u001b[0mloop_blocks\u001b[0m\u001b[0;34m(\u001b[0m\u001b[0;34m)\u001b[0m\u001b[0;34m\u001b[0m\u001b[0;34m\u001b[0m\u001b[0m\n\u001b[0m",
      "\u001b[0;32m<ipython-input-114-c631551ad9f2>\u001b[0m in \u001b[0;36mloop_blocks\u001b[0;34m(self)\u001b[0m\n\u001b[1;32m    111\u001b[0m                     \u001b[0mdata\u001b[0m \u001b[0;34m=\u001b[0m \u001b[0mtime_series\u001b[0m\u001b[0;34m.\u001b[0m\u001b[0mReadAsArray\u001b[0m\u001b[0;34m(\u001b[0m\u001b[0mj\u001b[0m\u001b[0;34m,\u001b[0m \u001b[0mi\u001b[0m\u001b[0;34m,\u001b[0m \u001b[0mcols\u001b[0m\u001b[0;34m,\u001b[0m \u001b[0mrows\u001b[0m\u001b[0;34m)\u001b[0m\u001b[0;34m\u001b[0m\u001b[0;34m\u001b[0m\u001b[0m\n\u001b[1;32m    112\u001b[0m \u001b[0;34m\u001b[0m\u001b[0m\n\u001b[0;32m--> 113\u001b[0;31m                     \u001b[0mbreaks\u001b[0m\u001b[0;34m,\u001b[0m\u001b[0mmeans\u001b[0m \u001b[0;34m=\u001b[0m \u001b[0mself\u001b[0m\u001b[0;34m.\u001b[0m\u001b[0mrun_bfast\u001b[0m\u001b[0;34m(\u001b[0m\u001b[0mdata\u001b[0m\u001b[0;34m)\u001b[0m\u001b[0;34m\u001b[0m\u001b[0;34m\u001b[0m\u001b[0m\n\u001b[0m\u001b[1;32m    114\u001b[0m                     \u001b[0mbreaks_array\u001b[0m \u001b[0;34m=\u001b[0m \u001b[0mnp\u001b[0m\u001b[0;34m.\u001b[0m\u001b[0mconcatenate\u001b[0m\u001b[0;34m(\u001b[0m\u001b[0;34m(\u001b[0m\u001b[0mbreaks_array\u001b[0m\u001b[0;34m,\u001b[0m\u001b[0mbreaks\u001b[0m\u001b[0;34m)\u001b[0m\u001b[0;34m,\u001b[0m\u001b[0maxis\u001b[0m \u001b[0;34m=\u001b[0m \u001b[0;36m1\u001b[0m\u001b[0;34m)\u001b[0m\u001b[0;34m\u001b[0m\u001b[0;34m\u001b[0m\u001b[0m\n\u001b[1;32m    115\u001b[0m                     \u001b[0mmeans_array\u001b[0m \u001b[0;34m=\u001b[0m \u001b[0mnp\u001b[0m\u001b[0;34m.\u001b[0m\u001b[0mconcatenate\u001b[0m\u001b[0;34m(\u001b[0m\u001b[0;34m(\u001b[0m\u001b[0mmeans_array\u001b[0m\u001b[0;34m,\u001b[0m\u001b[0mmeans\u001b[0m\u001b[0;34m)\u001b[0m\u001b[0;34m,\u001b[0m\u001b[0maxis\u001b[0m \u001b[0;34m=\u001b[0m \u001b[0;36m1\u001b[0m\u001b[0;34m)\u001b[0m\u001b[0;34m\u001b[0m\u001b[0;34m\u001b[0m\u001b[0m\n",
      "\u001b[0;32m<ipython-input-114-c631551ad9f2>\u001b[0m in \u001b[0;36mrun_bfast\u001b[0;34m(self, block)\u001b[0m\n\u001b[1;32m     61\u001b[0m         \u001b[0;31m# only apply on a small subset\u001b[0m\u001b[0;34m\u001b[0m\u001b[0;34m\u001b[0m\u001b[0;34m\u001b[0m\u001b[0m\n\u001b[1;32m     62\u001b[0m         \u001b[0mdata\u001b[0m \u001b[0;34m=\u001b[0m \u001b[0mdata\u001b[0m\u001b[0;34m[\u001b[0m\u001b[0;34m:\u001b[0m\u001b[0;34m,\u001b[0m\u001b[0;34m:\u001b[0m\u001b[0;36m40\u001b[0m\u001b[0;34m,\u001b[0m\u001b[0;34m:\u001b[0m\u001b[0;36m40\u001b[0m\u001b[0;34m]\u001b[0m\u001b[0;34m\u001b[0m\u001b[0;34m\u001b[0m\u001b[0m\n\u001b[0;32m---> 63\u001b[0;31m         \u001b[0mself\u001b[0m\u001b[0;34m.\u001b[0m\u001b[0mmodel\u001b[0m\u001b[0;34m.\u001b[0m\u001b[0mfit\u001b[0m\u001b[0;34m(\u001b[0m\u001b[0mdata\u001b[0m\u001b[0;34m,\u001b[0m \u001b[0mdates\u001b[0m\u001b[0;34m,\u001b[0m \u001b[0mnan_value\u001b[0m\u001b[0;34m=\u001b[0m\u001b[0mnan\u001b[0m\u001b[0;34m)\u001b[0m \u001b[0;31m#changed to nan\u001b[0m\u001b[0;34m\u001b[0m\u001b[0;34m\u001b[0m\u001b[0m\n\u001b[0m\u001b[1;32m     64\u001b[0m         \u001b[0mbreaks\u001b[0m \u001b[0;34m=\u001b[0m \u001b[0mself\u001b[0m\u001b[0;34m.\u001b[0m\u001b[0mmodel\u001b[0m\u001b[0;34m.\u001b[0m\u001b[0mbreaks\u001b[0m \u001b[0;31m# index of date that has a break in dates\u001b[0m\u001b[0;34m\u001b[0m\u001b[0;34m\u001b[0m\u001b[0m\n\u001b[1;32m     65\u001b[0m         \u001b[0mmeans\u001b[0m \u001b[0;34m=\u001b[0m \u001b[0mself\u001b[0m\u001b[0;34m.\u001b[0m\u001b[0mmodel\u001b[0m\u001b[0;34m.\u001b[0m\u001b[0mmeans\u001b[0m \u001b[0;31m# magnitudes of breaks\u001b[0m\u001b[0;34m\u001b[0m\u001b[0;34m\u001b[0m\u001b[0m\n",
      "\u001b[0;32m~/.local/share/virtualenvs/bfastmonitor_cpu-LhLEOv6G/lib/python3.6/site-packages/bfast/models.py\u001b[0m in \u001b[0;36mfit\u001b[0;34m(self, data, dates, n_chunks, nan_value)\u001b[0m\n\u001b[1;32m    159\u001b[0m                         \u001b[0mdates\u001b[0m\u001b[0;34m=\u001b[0m\u001b[0mdates\u001b[0m\u001b[0;34m,\u001b[0m\u001b[0;34m\u001b[0m\u001b[0;34m\u001b[0m\u001b[0m\n\u001b[1;32m    160\u001b[0m                         \u001b[0mn_chunks\u001b[0m\u001b[0;34m=\u001b[0m\u001b[0mn_chunks\u001b[0m\u001b[0;34m,\u001b[0m\u001b[0;34m\u001b[0m\u001b[0;34m\u001b[0m\u001b[0m\n\u001b[0;32m--> 161\u001b[0;31m                         nan_value=nan_value)\n\u001b[0m\u001b[1;32m    162\u001b[0m         \u001b[0mself\u001b[0m\u001b[0;34m.\u001b[0m\u001b[0m_model_fitted\u001b[0m \u001b[0;34m=\u001b[0m \u001b[0;32mTrue\u001b[0m\u001b[0;34m\u001b[0m\u001b[0;34m\u001b[0m\u001b[0m\n\u001b[1;32m    163\u001b[0m \u001b[0;34m\u001b[0m\u001b[0m\n",
      "\u001b[0;32m~/.local/share/virtualenvs/bfastmonitor_cpu-LhLEOv6G/lib/python3.6/site-packages/bfast/monitor/python/base.py\u001b[0m in \u001b[0;36mfit\u001b[0;34m(self, data, dates, n_chunks, nan_value)\u001b[0m\n\u001b[1;32m    138\u001b[0m                 \u001b[0my\u001b[0m \u001b[0;34m=\u001b[0m \u001b[0mdata\u001b[0m\u001b[0;34m[\u001b[0m\u001b[0;34m:\u001b[0m\u001b[0;34m,\u001b[0m\u001b[0mi\u001b[0m\u001b[0;34m,\u001b[0m\u001b[0mj\u001b[0m\u001b[0;34m]\u001b[0m\u001b[0;34m\u001b[0m\u001b[0;34m\u001b[0m\u001b[0m\n\u001b[1;32m    139\u001b[0m                 \u001b[0mself\u001b[0m\u001b[0;34m.\u001b[0m\u001b[0mfit_single\u001b[0m\u001b[0;34m(\u001b[0m\u001b[0my\u001b[0m\u001b[0;34m,\u001b[0m \u001b[0mdates\u001b[0m\u001b[0;34m)\u001b[0m\u001b[0;34m\u001b[0m\u001b[0;34m\u001b[0m\u001b[0m\n\u001b[0;32m--> 140\u001b[0;31m                 \u001b[0mbreaks_global\u001b[0m\u001b[0;34m[\u001b[0m\u001b[0mi\u001b[0m\u001b[0;34m,\u001b[0m\u001b[0mj\u001b[0m\u001b[0;34m]\u001b[0m \u001b[0;34m=\u001b[0m \u001b[0mself\u001b[0m\u001b[0;34m.\u001b[0m\u001b[0mfirst_break\u001b[0m\u001b[0;34m\u001b[0m\u001b[0;34m\u001b[0m\u001b[0m\n\u001b[0m\u001b[1;32m    141\u001b[0m                 \u001b[0mmeans_global\u001b[0m\u001b[0;34m[\u001b[0m\u001b[0mi\u001b[0m\u001b[0;34m,\u001b[0m\u001b[0mj\u001b[0m\u001b[0;34m]\u001b[0m \u001b[0;34m=\u001b[0m \u001b[0mself\u001b[0m\u001b[0;34m.\u001b[0m\u001b[0mmean\u001b[0m\u001b[0;34m\u001b[0m\u001b[0;34m\u001b[0m\u001b[0m\n\u001b[1;32m    142\u001b[0m \u001b[0;34m\u001b[0m\u001b[0m\n",
      "\u001b[0;31mAttributeError\u001b[0m: 'BFASTMonitorPython' object has no attribute 'first_break'"
     ]
    }
   ],
   "source": [
    "ts_data.loop_blocks()"
   ]
  },
  {
   "cell_type": "markdown",
   "metadata": {},
   "source": [
    "# Select monitoring period"
   ]
  },
  {
   "cell_type": "code",
   "execution_count": 12,
   "metadata": {
    "scrolled": false
   },
   "outputs": [
    {
     "name": "stdout",
     "output_type": "stream",
     "text": [
      "start monitoring period 2000-03-04 00:00:00\n"
     ]
    },
    {
     "data": {
      "application/vnd.jupyter.widget-view+json": {
       "model_id": "7aa8912a57f14ad7be824c02b338b484",
       "version_major": 2,
       "version_minor": 0
      },
      "text/plain": [
       "interactive(children=(SelectionRangeSlider(description='Select the monitoring date range: ', index=(0, 7400), …"
      ]
     },
     "metadata": {},
     "output_type": "display_data"
    },
    {
     "data": {
      "application/vnd.jupyter.widget-view+json": {
       "model_id": "a3690c02657943dbb6abc22c9d7bc290",
       "version_major": 2,
       "version_minor": 0
      },
      "text/plain": [
       "interactive(children=(SelectionSlider(description='Start history period:', options=(('2000-03-04', Timestamp('…"
      ]
     },
     "metadata": {},
     "output_type": "display_data"
    }
   ],
   "source": [
    "dates = ts_data.dates\n",
    "start_date = dates[10] # 0 or 10 does not work.. 100 did\n",
    "print(\"start monitoring period\",start_date)\n",
    "end_date = dates[-1]\n",
    "\n",
    "def h(y):\n",
    "    return(y)\n",
    "\n",
    "pandas_dates = pd.date_range(start_date, end_date, freq='D')\n",
    "\n",
    "options =  [(date.strftime('%Y-%m-%d'),date) for date in pandas_dates]\n",
    "index = (0, len(options)-1)\n",
    "\n",
    "\n",
    "monitoring_period = widgets.interactive(h,\n",
    "                                     y=widgets.SelectionRangeSlider(\n",
    "                                            options=options,\n",
    "                                            index=index,\n",
    "                                            description='Select the monitoring date range: ',\n",
    "                                            style = {'description_width': 'initial'},\n",
    "                                            orientation='horizontal',\n",
    "                                            layout={'width': '800px',\"height\":\"50px\"}))\n",
    "\n",
    "\n",
    "history_period = widgets.interactive(h, \n",
    "                                     y=widgets.SelectionSlider(description=\"Start history period:\", \n",
    "                                            options = options,\n",
    "                                            style = {'description_width': 'initial'}))\n",
    "\n",
    "display(monitoring_period)\n",
    "display(history_period)"
   ]
  },
  {
   "cell_type": "code",
   "execution_count": 13,
   "metadata": {},
   "outputs": [
    {
     "name": "stdout",
     "output_type": "stream",
     "text": [
      "start monitor:  2007-10-03 00:00:00\n",
      "end monitor:  2020-06-07 00:00:00\n",
      "start history:  2000-03-04 00:00:00\n"
     ]
    }
   ],
   "source": [
    "start_monitor, end_monitor = monitoring_period.result\n",
    "start_hist = history_period.result\n",
    "\n",
    "if history_period.result > start_monitor:\n",
    "    raise Exception(\"Your history period must start before the monitoring period\")\n",
    "\n",
    "start_monitor = datetime(2007, 10, 3)\n",
    "\n",
    "print(\"start monitor: \", start_monitor)\n",
    "print(\"end monitor: \", end_monitor)\n",
    "print(\"start history: \", start_hist)"
   ]
  },
  {
   "cell_type": "code",
   "execution_count": 14,
   "metadata": {},
   "outputs": [
    {
     "name": "stdout",
     "output_type": "stream",
     "text": [
      "First date: 2000-03-28 00:00:00\n",
      "Last date: 2020-06-07 00:00:00\n",
      "Shape of data array: (527, 8, 14)\n"
     ]
    }
   ],
   "source": [
    "data, dates = crop_data_dates(data_orig, dates, start_hist, end_monitor)\n",
    "print(\"First date: {}\".format(dates[0]))\n",
    "print(\"Last date: {}\".format(dates[-1]))\n",
    "print(\"Shape of data array: {}\".format(data.shape))"
   ]
  },
  {
   "cell_type": "markdown",
   "metadata": {},
   "source": [
    "# Run bfastmonitor()"
   ]
  },
  {
   "cell_type": "code",
   "execution_count": 54,
   "metadata": {
    "scrolled": true
   },
   "outputs": [
    {
     "name": "stdout",
     "output_type": "stream",
     "text": [
      "Processing row 0\n",
      "Processing row 1\n",
      "Processing row 2\n",
      "Processing row 3\n",
      "Processing row 4\n",
      "Processing row 5\n",
      "Processing row 6\n",
      "Processing row 7\n",
      "Fitting model took 1.3845024108886719 seconds.\n"
     ]
    }
   ],
   "source": [
    "# fit BFAST using the CPU implementation (single pixel)\n",
    "from numpy import nan\n",
    "\n",
    "start_time = time.time()\n",
    "\n",
    "\n",
    "model = BFASTMonitor(\n",
    "            start_monitor,\n",
    "            freq=freq,\n",
    "            k=k,\n",
    "            hfrac=hfrac,\n",
    "            trend=trend,\n",
    "            level=level,\n",
    "            backend='python',\n",
    "            verbose=1\n",
    "            )\n",
    "\n",
    "\n",
    "# only apply on a small subset\n",
    "data = data[:,:200,:200]\n",
    "model.fit(data, dates, nan_value=nan) #changed to nan\n",
    "\n",
    "end_time = time.time()\n",
    "print(\"Fitting model took {} seconds.\".format(end_time - start_time))\n"
   ]
  },
  {
   "cell_type": "markdown",
   "metadata": {},
   "source": [
    "# Select negative magnitudes"
   ]
  },
  {
   "cell_type": "code",
   "execution_count": 55,
   "metadata": {
    "scrolled": true
   },
   "outputs": [],
   "source": [
    "# select only negative magnitudes\n",
    "breaks = model.breaks # index of date that has a break in dates\n",
    "means = model.means # magnitudes of breaks\n",
    "\n",
    "no_breaks_indices = (breaks == -1)\n",
    "means[no_breaks_indices] = 0\n",
    "means[means > 0] = 0 # only want negative mean changes\n",
    "\n",
    "breaks_plot = breaks.astype(np.float)\n",
    "breaks_plot[breaks == -2] = np.nan\n",
    "breaks_plot[breaks == -1] = np.nan\n",
    "breaks_plot[means >= 0] = np.nan\n"
   ]
  },
  {
   "cell_type": "code",
   "execution_count": 56,
   "metadata": {},
   "outputs": [],
   "source": [
    "dates_monitor = []\n",
    "\n",
    "# collect dates for monitor period\n",
    "for i in range(len(dates)):\n",
    "    if start_monitor <= dates[i]:\n",
    "        dates_monitor.append(dates[i])\n",
    "dates_array = np.array(dates_monitor) # dates_array is the dates that are in the monitoring period\n"
   ]
  },
  {
   "cell_type": "markdown",
   "metadata": {},
   "source": [
    "# Classify output for plotting"
   ]
  },
  {
   "cell_type": "code",
   "execution_count": 57,
   "metadata": {},
   "outputs": [
    {
     "name": "stdout",
     "output_type": "stream",
     "text": [
      "{2007: 0, 2008: 2, 2009: 21, 2010: 43, 2011: 58, 2012: 73, 2013: 85, 2014: 114, 2015: 146, 2016: 187, 2017: 228, 2018: 267, 2019: 301}\n",
      "['2007', '2008', '2009', '2010', '2011', '2012', '2013', '2014', '2015', '2016', '2017', '2018', '2019']\n",
      "[[ 9.  1. nan nan  2.  7.  5.  5.  4.  8. nan nan  8.  8.]\n",
      " [ 8.  1.  2.  2.  2.  7. 10. 10.  7.  2. nan nan nan  8.]\n",
      " [ 1.  6. nan nan nan  8.  2.  2. nan  2.  6.  6. nan  2.]\n",
      " [ 0.  0.  0.  0.  0.  2.  2.  2.  5.  2.  2.  2.  6.  2.]\n",
      " [ 0.  0.  0.  0.  0.  3.  5.  5.  5.  2.  0.  0.  4.  3.]\n",
      " [ 0.  0.  0.  0.  0.  4.  2.  2.  1. nan  6.  6.  1.  0.]\n",
      " [ 0.  0.  0.  0.  5. nan  2.  2.  1.  2.  0.  0.  0.  0.]\n",
      " [nan  0.  8.  8.  1. nan nan nan  2.  4.  0.  0.  0.  0.]]\n"
     ]
    }
   ],
   "source": [
    "idx_starts = {}\n",
    "\n",
    "# this gives the index of all the data points in the year and after\n",
    "for year in range(start_monitor.year,end_monitor.year):\n",
    "    idx_starts[year] = np.argmax((dates_array >= datetime(year, 1, 1)) > False) \n",
    "    \n",
    "print(idx_starts)\n",
    "breaks_plot_years = copy.deepcopy(breaks_plot)\n",
    "\n",
    "#classifying for plotting\n",
    "ticklist=[]\n",
    "for idx, year in enumerate(idx_starts):\n",
    "    ticklist.append(str(year))\n",
    "\n",
    "    if idx == 0:\n",
    "        breaks_plot_years[breaks_plot <= idx_starts[year+1]] = 0\n",
    "        continue\n",
    "    \n",
    "    if idx == len(idx_starts)-1:\n",
    "        breaks_plot_years[np.where(idx_starts[year] < breaks_plot)] = len(idx_starts)-1\n",
    "        continue\n",
    "        \n",
    "    breaks_plot_years[np.where(np.logical_and(idx_starts[year] < breaks_plot, breaks_plot <= idx_starts[year+1]))] = idx\n",
    "print(ticklist)\n",
    "print(breaks_plot_years)"
   ]
  },
  {
   "cell_type": "markdown",
   "metadata": {},
   "source": [
    "# Plot output"
   ]
  },
  {
   "cell_type": "code",
   "execution_count": 58,
   "metadata": {},
   "outputs": [
    {
     "data": {
      "image/png": "[encoded data removed]",
      "text/plain": [
       "<Figure size 720x720 with 2 Axes>"
      ]
     },
     "metadata": {
      "needs_background": "light"
     },
     "output_type": "display_data"
    }
   ],
   "source": [
    "bins = len(idx_starts)\n",
    "\n",
    "cmap = plt.get_cmap(\"rainbow\")\n",
    "cmaplist = [cmap(i) for i in range(cmap.N)]\n",
    "cmap = cmap.from_list('Custom cmap', cmaplist, cmap.N)\n",
    "\n",
    "bounds = np.linspace(0, bins-1, bins) #third number is the amount of bins in the colorbar 0=0, 6 = ncolors, 7= nyears\n",
    "norm = matplotlib.colors.BoundaryNorm(bounds, cmap.N)\n",
    "\n",
    "fig, axes = plt.subplots(nrows=1, ncols=1, figsize=(10, 10))\n",
    "im = axes.imshow(breaks_plot_years, cmap=cmap, vmin=0, vmax=bins, norm=norm)\n",
    "fig.subplots_adjust(right=0.8)\n",
    "cbar_ax = fig.add_axes([0.85, 0.15, 0.05, 0.7])\n",
    "fig.colorbar(im, cax=cbar_ax, ticks=range(bins))\n",
    "labels = cbar_ax.set_yticklabels(ticklist)\n",
    "\n",
    "plt.savefig(\"./output/picture.png\")\n",
    "plt.show()\n"
   ]
  },
  {
   "cell_type": "code",
   "execution_count": 45,
   "metadata": {},
   "outputs": [],
   "source": [
    "# #this doesn't work yet\n",
    "\n",
    "# output_raster = gdal.GetDriverByName('GTiff').Create('myraster.tif',cols, rows, 1 ,gdal.GDT_Float32)  # Open the file\n",
    "\n",
    "# output_raster.SetGeoTransform(geotransform)  # Specify its coordinates\n",
    "# srs = osr.SpatialReference()                 # Establish its coordinate encoding\n",
    "# srs.ImportFromEPSG(4326)                     # This one specifies WGS84 lat long.\n",
    "#                                              # Anyone know how to specify the \n",
    "#                                              # IAU2000:49900 Mars encoding?\n",
    "# output_raster.SetProjection( srs.ExportToWkt() )   # Exports the coordinate system \n",
    "#                                                    # to the file\n",
    "# output_raster.GetRasterBand(1).WriteArray(breaks_plot_years)   # Writes my array to the raster\n",
    "\n",
    "# output_raster.FlushCache()\n",
    "\n",
    "# output_raster"
   ]
  },
  {
   "cell_type": "code",
   "execution_count": 46,
   "metadata": {},
   "outputs": [
    {
     "name": "stdout",
     "output_type": "stream",
     "text": [
      "[[nan nan nan nan nan nan 11. 11. 11. nan nan nan nan nan]\n",
      " [nan nan nan nan nan 10.  0.  0. 12. nan nan nan nan nan]\n",
      " [nan nan 12. 12. nan 12. 12. 12. nan nan nan nan nan nan]\n",
      " [nan nan nan nan nan nan nan nan nan nan nan nan nan nan]\n",
      " [nan nan 12. 12. nan 12. 12. 12. nan nan nan nan nan nan]\n",
      " [nan nan nan nan nan 12. 12. 12. nan nan nan nan nan nan]\n",
      " [12. nan 12. 12. nan 12. nan nan 12. nan nan nan nan nan]\n",
      " [nan nan nan nan 12. 12. 12. 12. nan nan nan nan nan nan]]\n",
      "[[           nan            nan            nan            nan\n",
      "             nan            nan 9.08265213e-02 9.08265213e-02\n",
      "  9.08265213e-02            nan            nan            nan\n",
      "             nan            nan]\n",
      " [           nan            nan            nan            nan\n",
      "             nan 9.99000999e-02 1.00000000e+02 1.00000000e+02\n",
      "  8.32639467e-02            nan            nan            nan\n",
      "             nan            nan]\n",
      " [           nan            nan 8.32639467e-02 8.32639467e-02\n",
      "             nan 8.32639467e-02 8.32639467e-02 8.32639467e-02\n",
      "             nan            nan            nan            nan\n",
      "             nan            nan]\n",
      " [           nan            nan            nan            nan\n",
      "             nan            nan            nan            nan\n",
      "             nan            nan            nan            nan\n",
      "             nan            nan]\n",
      " [           nan            nan 8.32639467e-02 8.32639467e-02\n",
      "             nan 8.32639467e-02 8.32639467e-02 8.32639467e-02\n",
      "             nan            nan            nan            nan\n",
      "             nan            nan]\n",
      " [           nan            nan            nan            nan\n",
      "             nan 8.32639467e-02 8.32639467e-02 8.32639467e-02\n",
      "             nan            nan            nan            nan\n",
      "             nan            nan]\n",
      " [8.32639467e-02            nan 8.32639467e-02 8.32639467e-02\n",
      "             nan 8.32639467e-02            nan            nan\n",
      "  8.32639467e-02            nan            nan            nan\n",
      "             nan            nan]\n",
      " [           nan            nan            nan            nan\n",
      "  8.32639467e-02 8.32639467e-02 8.32639467e-02 8.32639467e-02\n",
      "             nan            nan            nan            nan\n",
      "             nan            nan]]\n"
     ]
    }
   ],
   "source": [
    "print(breaks_plot_years)\n",
    "breaks_plot_years_norm = 1/(breaks_plot_years + 0.01)\n",
    "print(breaks_plot_years_norm)"
   ]
  },
  {
   "cell_type": "code",
   "execution_count": null,
   "metadata": {},
   "outputs": [],
   "source": [
    "#cmap = plt.get_cmap(\"Oranges\")\n",
    "\n",
    "#cmaplist = [cmap(i) for i in range(cmap.N)]\n",
    "\n",
    "#cmap = cmap.from_list('Custom cmap', cmaplist, cmap.N)\n",
    "\n",
    "from matplotlib import cm\n",
    "from matplotlib.colors import ListedColormap, LinearSegmentedColormap\n",
    "\n",
    "# viridis = cm.get_cmap('viridis', 12)\n",
    "# print(viridis)\n",
    "# print(viridis(0.56))\n",
    "\n",
    "viridis = cm.get_cmap('rainbow', 256)\n",
    "newcolors = viridis(np.linspace(0, 1, 256))\n",
    "pink = np.array([248/256, 24/256, 148/256, 0])\n",
    "newcolors[:1, :] = pink\n",
    "newcmp = ListedColormap(newcolors)"
   ]
  },
  {
   "cell_type": "code",
   "execution_count": null,
   "metadata": {},
   "outputs": [],
   "source": [
    "print(latitude)\n",
    "print(xpixelsize)\n",
    "print(cols)\n",
    "print(longitude)\n",
    "print(ypixelsize)\n",
    "print(rows)"
   ]
  },
  {
   "cell_type": "code",
   "execution_count": null,
   "metadata": {},
   "outputs": [],
   "source": [
    "from folium.plugins import FloatImage\n",
    "import base64\n",
    "m = folium.folium.Map(location = (latitude,longitude),tiles = \"Stamen Terrain\",zoom_start=13)\n",
    "\n",
    "# if not all data is \n",
    "#rows = 200\n",
    "#cols = 200\n",
    "\n",
    "\n",
    "# bounds = [[lat_min, lon_min], [lat_max, lon_max]]\n",
    "\n",
    "folium.raster_layers.ImageOverlay(\n",
    "    image=breaks_plot_years_norm,\n",
    "    bounds=[[latitude, longitude], [latitude + rows*xpixelsize, longitude + cols*xpixelsize]],\n",
    "    colormap = newcmp\n",
    ").add_to(m)\n",
    "img = \"output/picture.png\" \n",
    "\n",
    "\n",
    "####\n",
    "resolution, width, height = 75, 4,4\n",
    "encoded = base64.b64encode(open(\"output/picture.png\", 'rb').read()).decode()\n",
    "from folium import IFrame\n",
    "\n",
    "html = '<img src=\"data:image/png;base64,{}\">'.format\n",
    "iframe = IFrame(html(encoded), width=(width*resolution)+20, height=(height*resolution)+20)\n",
    "popup = folium.Popup(iframe, max_width=2650)\n",
    "\n",
    "icon = folium.Icon(color=\"red\", icon=\"ok\")\n",
    "marker = folium.Marker(location=[latitude, longitude], popup=popup, icon=icon)\n",
    "marker.add_to(m)\n",
    "####\n",
    "\n",
    "m.save(os.path.join('output/PortugalBigger.html'))\n",
    "m"
   ]
  },
  {
   "cell_type": "code",
   "execution_count": null,
   "metadata": {},
   "outputs": [],
   "source": []
  },
  {
   "cell_type": "code",
   "execution_count": null,
   "metadata": {},
   "outputs": [],
   "source": []
  }
 ],
 "metadata": {
  "kernelspec": {
   "display_name": "bfastmonitor_cpu",
   "language": "python",
   "name": "bfastmonitor_cpu"
  },
  "language_info": {
   "codemirror_mode": {
    "name": "ipython",
    "version": 3
   },
   "file_extension": ".py",
   "mimetype": "text/x-python",
   "name": "python",
   "nbconvert_exporter": "python",
   "pygments_lexer": "ipython3",
   "version": "3.6.9"
  }
 },
 "nbformat": 4,
 "nbformat_minor": 4
}
