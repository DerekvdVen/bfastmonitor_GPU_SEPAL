{
 "cells": [
  {
   "cell_type": "markdown",
   "metadata": {},
   "source": [
    "# GPU implementation of Bfastmonitor using Python\n",
    "The bfast package provides a highly-efficient parallel implementation for the Breaks For Additive Season and Trend (BFASTmonitor) proposed by Verbesselt et al. The implementation is based on OpenCL."
   ]
  },
  {
   "cell_type": "markdown",
   "metadata": {},
   "source": [
    "The script below runs bfastmonitor over the timeseries data downloaded in SEPAL in blocks, and patches together tiles to export mean magnitudes and breaks .npy files. The output is also displayed in a digital map. Make sure to run through the cells sequentially. \n",
    "\n",
    "* Import packages\n",
    "\n",
    "* Select data\n",
    "\n",
    "* Set parameters\n",
    "\n",
    "* Select monitoring period*\n",
    "\n",
    "* Run bfastmonitor*\n",
    "\n",
    "* Optional: Load output*\n",
    "\n",
    "* Merge and save tiles output\n",
    "\n",
    "* Display output\n",
    "\n",
    "*After saving the output, one may load it in again instead of running bfastmonitor again\n"
   ]
  },
  {
   "cell_type": "markdown",
   "metadata": {},
   "source": [
    "### Import packages"
   ]
  },
  {
   "cell_type": "code",
   "execution_count": 1,
   "metadata": {},
   "outputs": [
    {
     "name": "stdout",
     "output_type": "stream",
     "text": [
      "\n",
      "    The timeseries class is a wrapper for using SEPAL timeseries data with bfast. \n",
      "    It wraps together a data tile with associated dates file and metadata. \n",
      "    It also allows for saving and loading the output rasters in a specified directory. \n",
      "    \n"
     ]
    }
   ],
   "source": [
    "import os\n",
    "from os.path import expanduser\n",
    "\n",
    "import wget\n",
    "import numpy as np\n",
    "from datetime import datetime\n",
    "import copy\n",
    "import matplotlib\n",
    "import matplotlib.pyplot as plt\n",
    "\n",
    "import json\n",
    "\n",
    "from bfast import BFASTMonitor\n",
    "from bfast.utils import crop_data_dates\n",
    "\n",
    "import csv\n",
    "from shutil import copyfile\n",
    "import pandas as pd\n",
    "from osgeo import gdal, gdal_array, osr\n",
    "\n",
    "import time\n",
    "from tqdm import tqdm\n",
    "\n",
    "import ipywidgets as widgets\n",
    "from ipywidgets import Layout\n",
    "from ipyfilechooser import FileChooser\n",
    "import folium\n",
    "\n",
    "from PIL import Image\n",
    "from matplotlib import cm\n",
    "\n",
    "# import functions from functions.py\n",
    "from functions import set_base_output_dir, set_output_dir, get_data_dict, merge_tiles, set_paths, _find_index_date, save_plot, normalize, merge_plots \n",
    "\n",
    "# Import the Timeseries class from time_series.py\n",
    "from time_series import Timeseries\n",
    "print(Timeseries.__doc__)\n",
    "\n",
    "# Import widgets for GUI parameter selection\n",
    "from widgets import get_widgets, get_dates_widgets\n",
    "output_directory_chooser, k_chooser,freq_chooser,trend_chooser,hfrac_chooser,level_chooser,backend_chooser, load_chooser, block_size_chooser, plot_display_data_chooser = get_widgets()"
   ]
  },
  {
   "cell_type": "code",
   "execution_count": 2,
   "metadata": {},
   "outputs": [],
   "source": [
    "%matplotlib inline"
   ]
  },
  {
   "cell_type": "markdown",
   "metadata": {},
   "source": [
    "### Select data\n",
    "\n",
    "#### Select a name for your output folder. All the segments you run through will be saved here: \"./stored_time_series/[yourfoldername]\n",
    "\n"
   ]
  },
  {
   "cell_type": "code",
   "execution_count": 3,
   "metadata": {},
   "outputs": [
    {
     "data": {
      "application/vnd.jupyter.widget-view+json": {
       "model_id": "d34c7b1a734a4ed8b807cf33f190db07",
       "version_major": 2,
       "version_minor": 0
      },
      "text/plain": [
       "interactive(children=(Text(value='', description='Output storage name: (country/location name, e.g. \"Guyana\")'…"
      ]
     },
     "metadata": {},
     "output_type": "display_data"
    }
   ],
   "source": [
    "display(output_directory_chooser)"
   ]
  },
  {
   "cell_type": "code",
   "execution_count": 4,
   "metadata": {},
   "outputs": [
    {
     "name": "stdout",
     "output_type": "stream",
     "text": [
      "Output directory name: stored_time_series/Guyana\n"
     ]
    }
   ],
   "source": [
    "base_output_dir = set_base_output_dir(output_directory_chooser)"
   ]
  },
  {
   "cell_type": "markdown",
   "metadata": {},
   "source": [
    "#### Select a time series segment folder using ipyfilechooser.  The standard download location is in downloads/time_series_name/[0,1,2..n]\n"
   ]
  },
  {
   "cell_type": "code",
   "execution_count": 5,
   "metadata": {},
   "outputs": [
    {
     "data": {
      "application/vnd.jupyter.widget-view+json": {
       "model_id": "5084a1a6b31f4fabad5751338963a11c",
       "version_major": 2,
       "version_minor": 0
      },
      "text/plain": [
       "FileChooser(path='/home/dven', filename='', title='HTML(value='', layout=Layout(display='none'))', show_hidden…"
      ]
     },
     "metadata": {},
     "output_type": "display_data"
    }
   ],
   "source": [
    "path = expanduser(\"~\")\n",
    "file_chooser = FileChooser(path)\n",
    "display(file_chooser)"
   ]
  },
  {
   "cell_type": "code",
   "execution_count": 6,
   "metadata": {},
   "outputs": [
    {
     "name": "stdout",
     "output_type": "stream",
     "text": [
      "/home/dven/downloads/Time_series_2020-09-01_16-22-26/1/\n",
      "stored_time_series/Guyana/Guyana_1\n"
     ]
    }
   ],
   "source": [
    "timeseries_directory = file_chooser.selected\n",
    "\n",
    "if not timeseries_directory:\n",
    "    raise Exception(\"Please choose a time series directory above with the file selector\")\n",
    "else:\n",
    "    print(timeseries_directory)\n",
    "    output_dir = set_output_dir(output_directory_chooser,timeseries_directory)\n",
    "    print(output_dir)"
   ]
  },
  {
   "cell_type": "markdown",
   "metadata": {},
   "source": [
    "#### Load in data: if there are tiles in the directory, create a list and load per tile. The Timeseries tiles and their associated data are put in the list: 'data_list'\n"
   ]
  },
  {
   "cell_type": "code",
   "execution_count": 7,
   "metadata": {
    "scrolled": true
   },
   "outputs": [
    {
     "name": "stdout",
     "output_type": "stream",
     "text": [
      "Data consists of tiles, setting up tiles in 'data_list' \n",
      "Timeseries class holding 574 dates, sized 2048 by 2048.\n",
      "Timeseries class holding 574 dates, sized 1858 by 2048.\n",
      "Timeseries class holding 574 dates, sized 2048 by 2048.\n",
      "Timeseries class holding 574 dates, sized 1858 by 2048.\n",
      "Timeseries class holding 574 dates, sized 2048 by 2048.\n",
      "Timeseries class holding 574 dates, sized 1858 by 2048.\n",
      "Timeseries class holding 574 dates, sized 2048 by 1281.\n",
      "Timeseries class holding 574 dates, sized 1858 by 1281.\n"
     ]
    }
   ],
   "source": [
    "# set path to dates file\n",
    "data_list = set_paths(timeseries_directory = timeseries_directory)\n",
    "for tile in data_list:\n",
    "    print(tile)"
   ]
  },
  {
   "cell_type": "markdown",
   "metadata": {},
   "source": [
    "### Check some metadata of the created Timeseries class"
   ]
  },
  {
   "cell_type": "code",
   "execution_count": 8,
   "metadata": {
    "scrolled": true
   },
   "outputs": [
    {
     "name": "stdout",
     "output_type": "stream",
     "text": [
      "projection:  GEOGCS[\"WGS 84\",DATUM[\"WGS_1984\",SPHEROID[\"WGS 84\",6378137,298.257223563,AUTHORITY[\"EPSG\",\"7030\"]],AUTHORITY[\"EPSG\",\"6326\"]],PRIMEM[\"Greenwich\",0],UNIT[\"degree\",0.0174532925199433,AUTHORITY[\"EPSG\",\"9122\"]],AXIS[\"Latitude\",NORTH],AXIS[\"Longitude\",EAST],AUTHORITY[\"EPSG\",\"4326\"]]\n",
      "pixel size:  0.0002694945852358578\n",
      "n dates in timeseries:  574\n"
     ]
    }
   ],
   "source": [
    "print(\"projection: \", data_list[0].projection)\n",
    "print(\"pixel size: \", data_list[0].xpixelsize)\n",
    "print(\"n dates in timeseries: \", data_list[0].nbands)\n",
    "\n",
    "# Uncomment to see al vars associated with the tile\n",
    "#vars(data_list[0])"
   ]
  },
  {
   "cell_type": "markdown",
   "metadata": {},
   "source": [
    "# Set parameters"
   ]
  },
  {
   "cell_type": "code",
   "execution_count": 9,
   "metadata": {},
   "outputs": [
    {
     "data": {
      "application/vnd.jupyter.widget-view+json": {
       "model_id": "eb810a8ab35a476daff269d09dac098a",
       "version_major": 2,
       "version_minor": 0
      },
      "text/plain": [
       "interactive(children=(Dropdown(description='k, harmonic terms', index=2, layout=Layout(height='auto', width='5…"
      ]
     },
     "metadata": {},
     "output_type": "display_data"
    },
    {
     "data": {
      "application/vnd.jupyter.widget-view+json": {
       "model_id": "4b7bc82f87df44b581e5eae154657c8f",
       "version_major": 2,
       "version_minor": 0
      },
      "text/plain": [
       "interactive(children=(IntSlider(value=365, description='freq, frequency of seasonal model (days)', layout=Layo…"
      ]
     },
     "metadata": {},
     "output_type": "display_data"
    },
    {
     "data": {
      "application/vnd.jupyter.widget-view+json": {
       "model_id": "3cab8ebf506d41c2bc6d7bf1ee189d1e",
       "version_major": 2,
       "version_minor": 0
      },
      "text/plain": [
       "interactive(children=(Checkbox(value=True, description='add trend', layout=Layout(height='auto', width='500px'…"
      ]
     },
     "metadata": {},
     "output_type": "display_data"
    },
    {
     "data": {
      "application/vnd.jupyter.widget-view+json": {
       "model_id": "6eda35bdddcd4e1fb765bcafe2fee9c9",
       "version_major": 2,
       "version_minor": 0
      },
      "text/plain": [
       "interactive(children=(FloatSlider(value=0.25, description='Bandwith relative to sample size', layout=Layout(he…"
      ]
     },
     "metadata": {},
     "output_type": "display_data"
    },
    {
     "data": {
      "application/vnd.jupyter.widget-view+json": {
       "model_id": "1410d37cc007469d80d2146c8d38cd26",
       "version_major": 2,
       "version_minor": 0
      },
      "text/plain": [
       "interactive(children=(SelectionSlider(description='Significance level of the monitoring', layout=Layout(height…"
      ]
     },
     "metadata": {},
     "output_type": "display_data"
    },
    {
     "data": {
      "application/vnd.jupyter.widget-view+json": {
       "model_id": "e7eb6e255b574beaabba5c35df591eb7",
       "version_major": 2,
       "version_minor": 0
      },
      "text/plain": [
       "interactive(children=(Dropdown(description='backend', layout=Layout(height='auto', width='500px'), options=('o…"
      ]
     },
     "metadata": {},
     "output_type": "display_data"
    }
   ],
   "source": [
    "# Choose parameters\n",
    "display(k_chooser)\n",
    "display(freq_chooser)\n",
    "display(trend_chooser)\n",
    "display(hfrac_chooser)\n",
    "display(level_chooser)\n",
    "display(backend_chooser)"
   ]
  },
  {
   "cell_type": "code",
   "execution_count": 10,
   "metadata": {},
   "outputs": [],
   "source": [
    "# Set parameters\n",
    "k = k_chooser.result\n",
    "freq = freq_chooser.result\n",
    "trend = trend_chooser.result\n",
    "hfrac = hfrac_chooser.result\n",
    "level = 1 - level_chooser.result\n",
    "backend = backend_chooser.result\n",
    "verbose = 1\n",
    "device_id = 0"
   ]
  },
  {
   "cell_type": "markdown",
   "metadata": {},
   "source": [
    "# Select monitoring period"
   ]
  },
  {
   "cell_type": "code",
   "execution_count": 11,
   "metadata": {},
   "outputs": [
    {
     "data": {
      "application/vnd.jupyter.widget-view+json": {
       "model_id": "68bd080b42364a2e8fc8ce39bb486190",
       "version_major": 2,
       "version_minor": 0
      },
      "text/plain": [
       "interactive(children=(SelectionRangeSlider(description='Select the monitoring date range: ', index=(0, 3144), …"
      ]
     },
     "metadata": {},
     "output_type": "display_data"
    },
    {
     "data": {
      "application/vnd.jupyter.widget-view+json": {
       "model_id": "6fa56de484624b1f992a9ac0e58d2331",
       "version_major": 2,
       "version_minor": 0
      },
      "text/plain": [
       "interactive(children=(SelectionSlider(description='Start history period:', options=(('2012-01-05', Timestamp('…"
      ]
     },
     "metadata": {},
     "output_type": "display_data"
    }
   ],
   "source": [
    "dates = data_list[0].dates\n",
    "start_date = dates[0] # 0 or 10 does not work.. 100 did ########\n",
    "end_date = dates[-1]\n",
    "pandas_dates = pd.date_range(start_date, end_date, freq='D')\n",
    "\n",
    "options =  [(date.strftime('%Y-%m-%d'),date) for date in pandas_dates]\n",
    "index = (0, len(options)-1)\n",
    "\n",
    "monitoring_period_chooser, history_period_chooser = get_dates_widgets(options = options, index = index)\n",
    "\n",
    "display(monitoring_period_chooser)\n",
    "display(history_period_chooser)"
   ]
  },
  {
   "cell_type": "code",
   "execution_count": 12,
   "metadata": {},
   "outputs": [],
   "source": [
    "start_monitor, end_monitor = monitoring_period_chooser.result\n",
    "start_hist = history_period_chooser.result\n",
    "\n",
    "if history_period_chooser.result > start_monitor:\n",
    "    raise Exception(\"Your history period must start before the monitoring period\")\n",
    "\n",
    "start_monitor = datetime(2018, 9, 14)\n",
    "\n"
   ]
  },
  {
   "cell_type": "markdown",
   "metadata": {},
   "source": [
    "## Loop over tiles, (or single tile), in data_list\n",
    "### Alternatively, if your means and breaks arrays already exist, skip this code and run load from file in the next block\n",
    "### If you get a memory error, change the x_block and y_block size to a smaller power of 2: 1080, 512, 256, 128"
   ]
  },
  {
   "cell_type": "code",
   "execution_count": 28,
   "metadata": {},
   "outputs": [
    {
     "data": {
      "application/vnd.jupyter.widget-view+json": {
       "model_id": "cb660e792400436da81d7af2f0808e84",
       "version_major": 2,
       "version_minor": 0
      },
      "text/plain": [
       "interactive(children=(Dropdown(description='block size, bigger is generally faster, but may result in memory i…"
      ]
     },
     "metadata": {},
     "output_type": "display_data"
    }
   ],
   "source": [
    "display(block_size_chooser)"
   ]
  },
  {
   "cell_type": "code",
   "execution_count": 29,
   "metadata": {
    "scrolled": true
   },
   "outputs": [
    {
     "name": "stderr",
     "output_type": "stream",
     "text": [
      "Processing tile 1 out of 12:   0%|          | 0/12 [00:00<?, ?it/s]\n",
      "  0%|          | 0/16.0 [00:00<?, ?it/s]\u001b[A\n",
      "Processing blocks of tile::   0%|          | 0/16.0 [00:00<?, ?it/s]\u001b[A"
     ]
    },
    {
     "name": "stdout",
     "output_type": "stream",
     "text": [
      "device:  [<pyopencl.Device 'Tesla T4' on 'NVIDIA CUDA' at 0x3b8f870>]\n",
      "Monitoring starts at:  2018-09-14 00:00:00\n",
      "Monitoring ends at:  2020-08-19 00:00:00\n",
      "Dataset history starts at:  2016-01-05 00:00:00\n",
      "frequency:  365\n",
      "harmonic term:  3\n",
      "Hfrac: Float in the interval (0,1) specifying the bandwidth relative to the sample size in the MOSUM/ME monitoring processes.:  0.25\n",
      "Trend: Whether a tend offset term shall be used or not:  True\n",
      "Level: Significance level of the monitoring (and ROC, if selected) procedure, i.e., probability of type I error:  0.050000000000000044\n",
      "backend: GPU opencl or CPU python:  opencl\n",
      "verbose: The verbosity level (0=no output, 1=output):  1\n",
      "rastersize:  2048 2048\n",
      "The natural block size is the block size that is most efficient for accessing the format, gdal found blocksize:  [128, 128]\n",
      "set blocksize explicitly:  512 ,  512\n",
      "start monitor:  2018-09-14 00:00:00\n",
      "end monitor:  2020-08-19 00:00:00\n",
      "start history:  2016-01-05 00:00:00\n",
      "0 0 512 512\n",
      "--- runtime for data initialization:\t\t0.0017940998077392578\n",
      "--- runtime for data transfer (host->device):\t0.06249880790710449\n",
      "--- runtime for data preprocessing:\t\t0.010963201522827148\n"
     ]
    },
    {
     "name": "stderr",
     "output_type": "stream",
     "text": [
      "/usr/local/lib/python3.6/dist-packages/bfast/monitor/opencl/bfastfinal.py:17894: RuntimeWarning: overflow encountered in int_scalars\n",
      "  num_threads_32532 = (n_30761 * convop_x_37235)\n",
      "\n",
      "Processing blocks of tile::  12%|█▎        | 2/16.0 [00:09<01:09,  4.98s/it]\u001b[A"
     ]
    },
    {
     "name": "stdout",
     "output_type": "stream",
     "text": [
      "--- runtime for kernel execution:\t\t0.41129112243652344\n",
      "--- runtime for data transfer (device->host):\t0.013386011123657227\n",
      "512 0 512 512\n",
      "--- runtime for data initialization:\t\t0.0017828941345214844\n",
      "--- runtime for data transfer (host->device):\t0.06240677833557129\n",
      "--- runtime for data preprocessing:\t\t0.011004924774169922\n"
     ]
    },
    {
     "name": "stderr",
     "output_type": "stream",
     "text": [
      "/usr/local/lib/python3.6/dist-packages/bfast/monitor/opencl/bfastfinal.py:17894: RuntimeWarning: overflow encountered in int_scalars\n",
      "  num_threads_32532 = (n_30761 * convop_x_37235)\n",
      "\n",
      "Processing blocks of tile::  19%|█▉        | 3/16.0 [00:16<01:11,  5.53s/it]\u001b[A"
     ]
    },
    {
     "name": "stdout",
     "output_type": "stream",
     "text": [
      "--- runtime for kernel execution:\t\t0.1313011646270752\n",
      "--- runtime for data transfer (device->host):\t0.014751911163330078\n",
      "1024 0 512 512\n"
     ]
    },
    {
     "name": "stderr",
     "output_type": "stream",
     "text": [
      "/usr/local/lib/python3.6/dist-packages/bfast/monitor/opencl/bfastfinal.py:17894: RuntimeWarning: overflow encountered in int_scalars\n",
      "  num_threads_32532 = (n_30761 * convop_x_37235)\n",
      "\n",
      "Processing blocks of tile::  25%|██▌       | 4/16.0 [00:23<01:09,  5.83s/it]\u001b[A"
     ]
    },
    {
     "name": "stdout",
     "output_type": "stream",
     "text": [
      "--- runtime for data initialization:\t\t0.0017781257629394531\n",
      "--- runtime for data transfer (host->device):\t0.062333106994628906\n",
      "--- runtime for data preprocessing:\t\t0.009760618209838867\n",
      "--- runtime for kernel execution:\t\t0.10669422149658203\n",
      "--- runtime for data transfer (device->host):\t0.013458013534545898\n",
      "1536 0 512 512\n"
     ]
    },
    {
     "name": "stderr",
     "output_type": "stream",
     "text": [
      "/usr/local/lib/python3.6/dist-packages/bfast/monitor/opencl/bfastfinal.py:17894: RuntimeWarning: overflow encountered in int_scalars\n",
      "  num_threads_32532 = (n_30761 * convop_x_37235)\n",
      "\n",
      "Processing blocks of tile::  31%|███▏      | 5/16.0 [00:30<01:07,  6.16s/it]\u001b[A"
     ]
    },
    {
     "name": "stdout",
     "output_type": "stream",
     "text": [
      "--- runtime for data initialization:\t\t0.0017888545989990234\n",
      "--- runtime for data transfer (host->device):\t0.06254959106445312\n",
      "--- runtime for data preprocessing:\t\t0.009574651718139648\n",
      "--- runtime for kernel execution:\t\t0.09304666519165039\n",
      "--- runtime for data transfer (device->host):\t0.008921146392822266\n",
      "0 512 512 512\n",
      "--- runtime for data initialization:\t\t0.0017750263214111328\n",
      "--- runtime for data transfer (host->device):\t0.06241416931152344\n",
      "--- runtime for data preprocessing:\t\t0.010880231857299805\n",
      "--- runtime for kernel execution:\t\t0.11744213104248047\n",
      "--- runtime for data transfer (device->host):\t0.00986170768737793\n"
     ]
    },
    {
     "name": "stderr",
     "output_type": "stream",
     "text": [
      "/usr/local/lib/python3.6/dist-packages/bfast/monitor/opencl/bfastfinal.py:17894: RuntimeWarning: overflow encountered in int_scalars\n",
      "  num_threads_32532 = (n_30761 * convop_x_37235)\n",
      "\n",
      "Processing blocks of tile::  38%|███▊      | 6/16.0 [00:37<01:04,  6.42s/it]\u001b[A"
     ]
    },
    {
     "name": "stdout",
     "output_type": "stream",
     "text": [
      "512 512 512 512\n",
      "--- runtime for data initialization:\t\t0.001771688461303711\n",
      "--- runtime for data transfer (host->device):\t0.06236386299133301\n",
      "--- runtime for data preprocessing:\t\t0.012026786804199219\n"
     ]
    },
    {
     "name": "stderr",
     "output_type": "stream",
     "text": [
      "/usr/local/lib/python3.6/dist-packages/bfast/monitor/opencl/bfastfinal.py:17894: RuntimeWarning: overflow encountered in int_scalars\n",
      "  num_threads_32532 = (n_30761 * convop_x_37235)\n",
      "\n",
      "Processing blocks of tile::  44%|████▍     | 7/16.0 [00:44<00:59,  6.59s/it]\u001b[A"
     ]
    },
    {
     "name": "stdout",
     "output_type": "stream",
     "text": [
      "--- runtime for kernel execution:\t\t0.13061237335205078\n",
      "--- runtime for data transfer (device->host):\t0.00827789306640625\n",
      "1024 512 512 512\n",
      "--- runtime for data initialization:\t\t0.0017583370208740234\n",
      "--- runtime for data transfer (host->device):\t0.06233716011047363\n",
      "--- runtime for data preprocessing:\t\t0.010782480239868164\n"
     ]
    },
    {
     "name": "stderr",
     "output_type": "stream",
     "text": [
      "/usr/local/lib/python3.6/dist-packages/bfast/monitor/opencl/bfastfinal.py:17894: RuntimeWarning: overflow encountered in int_scalars\n",
      "  num_threads_32532 = (n_30761 * convop_x_37235)\n",
      "\n",
      "Processing blocks of tile::  50%|█████     | 8/16.0 [00:51<00:53,  6.71s/it]\u001b[A"
     ]
    },
    {
     "name": "stdout",
     "output_type": "stream",
     "text": [
      "--- runtime for kernel execution:\t\t0.12876224517822266\n",
      "--- runtime for data transfer (device->host):\t0.01713705062866211\n",
      "1536 512 512 512\n"
     ]
    },
    {
     "name": "stderr",
     "output_type": "stream",
     "text": [
      "/usr/local/lib/python3.6/dist-packages/bfast/monitor/opencl/bfastfinal.py:17894: RuntimeWarning: overflow encountered in int_scalars\n",
      "  num_threads_32532 = (n_30761 * convop_x_37235)\n",
      "\n",
      "Processing blocks of tile::  56%|█████▋    | 9/16.0 [00:58<00:47,  6.84s/it]\u001b[A"
     ]
    },
    {
     "name": "stdout",
     "output_type": "stream",
     "text": [
      "--- runtime for data initialization:\t\t0.0017571449279785156\n",
      "--- runtime for data transfer (host->device):\t0.06243252754211426\n",
      "--- runtime for data preprocessing:\t\t0.009697437286376953\n",
      "--- runtime for kernel execution:\t\t0.10442304611206055\n",
      "--- runtime for data transfer (device->host):\t0.013062715530395508\n",
      "0 1024 512 512\n",
      "--- runtime for data initialization:\t\t0.001786947250366211\n",
      "--- runtime for data transfer (host->device):\t0.06240129470825195\n",
      "--- runtime for data preprocessing:\t\t0.010865449905395508\n"
     ]
    },
    {
     "name": "stderr",
     "output_type": "stream",
     "text": [
      "/usr/local/lib/python3.6/dist-packages/bfast/monitor/opencl/bfastfinal.py:17894: RuntimeWarning: overflow encountered in int_scalars\n",
      "  num_threads_32532 = (n_30761 * convop_x_37235)\n",
      "\n",
      "Processing blocks of tile::  62%|██████▎   | 10/16.0 [01:05<00:41,  6.87s/it]\u001b[A"
     ]
    },
    {
     "name": "stdout",
     "output_type": "stream",
     "text": [
      "--- runtime for kernel execution:\t\t0.1296398639678955\n",
      "--- runtime for data transfer (device->host):\t0.00840902328491211\n",
      "512 1024 512 512\n"
     ]
    },
    {
     "name": "stderr",
     "output_type": "stream",
     "text": [
      "/usr/local/lib/python3.6/dist-packages/bfast/monitor/opencl/bfastfinal.py:17894: RuntimeWarning: overflow encountered in int_scalars\n",
      "  num_threads_32532 = (n_30761 * convop_x_37235)\n",
      "\n",
      "Processing blocks of tile::  69%|██████▉   | 11/16.0 [01:12<00:34,  6.92s/it]\u001b[A"
     ]
    },
    {
     "name": "stdout",
     "output_type": "stream",
     "text": [
      "--- runtime for data initialization:\t\t0.001794576644897461\n",
      "--- runtime for data transfer (host->device):\t0.06256365776062012\n",
      "--- runtime for data preprocessing:\t\t0.009894132614135742\n",
      "--- runtime for kernel execution:\t\t0.10789752006530762\n",
      "--- runtime for data transfer (device->host):\t0.007838964462280273\n",
      "1024 1024 512 512\n",
      "--- runtime for data initialization:\t\t0.0017659664154052734\n",
      "--- runtime for data transfer (host->device):\t0.06263518333435059\n",
      "--- runtime for data preprocessing:\t\t0.010519742965698242\n",
      "--- runtime for kernel execution:\t\t0.12212181091308594\n"
     ]
    },
    {
     "name": "stderr",
     "output_type": "stream",
     "text": [
      "/usr/local/lib/python3.6/dist-packages/bfast/monitor/opencl/bfastfinal.py:17894: RuntimeWarning: overflow encountered in int_scalars\n",
      "  num_threads_32532 = (n_30761 * convop_x_37235)\n",
      "\n",
      "Processing blocks of tile::  75%|███████▌  | 12/16.0 [01:19<00:27,  6.93s/it]\u001b[A"
     ]
    },
    {
     "name": "stdout",
     "output_type": "stream",
     "text": [
      "--- runtime for data transfer (device->host):\t0.01601099967956543\n",
      "1536 1024 512 512\n",
      "--- runtime for data initialization:\t\t0.0017843246459960938\n",
      "--- runtime for data transfer (host->device):\t0.062384605407714844\n",
      "--- runtime for data preprocessing:\t\t0.01088857650756836\n"
     ]
    },
    {
     "name": "stderr",
     "output_type": "stream",
     "text": [
      "/usr/local/lib/python3.6/dist-packages/bfast/monitor/opencl/bfastfinal.py:17894: RuntimeWarning: overflow encountered in int_scalars\n",
      "  num_threads_32532 = (n_30761 * convop_x_37235)\n",
      "\n",
      "Processing blocks of tile::  81%|████████▏ | 13/16.0 [01:26<00:21,  7.09s/it]\u001b[A"
     ]
    },
    {
     "name": "stdout",
     "output_type": "stream",
     "text": [
      "--- runtime for kernel execution:\t\t0.1313188076019287\n",
      "--- runtime for data transfer (device->host):\t0.017507314682006836\n",
      "0 1536 512 512\n"
     ]
    },
    {
     "name": "stderr",
     "output_type": "stream",
     "text": [
      "/usr/local/lib/python3.6/dist-packages/bfast/monitor/opencl/bfastfinal.py:17894: RuntimeWarning: overflow encountered in int_scalars\n",
      "  num_threads_32532 = (n_30761 * convop_x_37235)\n",
      "\n",
      "Processing blocks of tile::  88%|████████▊ | 14/16.0 [01:33<00:14,  7.05s/it]\u001b[A"
     ]
    },
    {
     "name": "stdout",
     "output_type": "stream",
     "text": [
      "--- runtime for data initialization:\t\t0.0017936229705810547\n",
      "--- runtime for data transfer (host->device):\t0.06238913536071777\n",
      "--- runtime for data preprocessing:\t\t0.009589672088623047\n",
      "--- runtime for kernel execution:\t\t0.10409307479858398\n",
      "--- runtime for data transfer (device->host):\t0.012989044189453125\n",
      "512 1536 512 512\n"
     ]
    },
    {
     "name": "stderr",
     "output_type": "stream",
     "text": [
      "/usr/local/lib/python3.6/dist-packages/bfast/monitor/opencl/bfastfinal.py:17894: RuntimeWarning: overflow encountered in int_scalars\n",
      "  num_threads_32532 = (n_30761 * convop_x_37235)\n",
      "\n",
      "Processing blocks of tile::  94%|█████████▍| 15/16.0 [01:40<00:07,  7.01s/it]\u001b[A"
     ]
    },
    {
     "name": "stdout",
     "output_type": "stream",
     "text": [
      "--- runtime for data initialization:\t\t0.0017609596252441406\n",
      "--- runtime for data transfer (host->device):\t0.06238198280334473\n",
      "--- runtime for data preprocessing:\t\t0.009508848190307617\n",
      "--- runtime for kernel execution:\t\t0.09288167953491211\n",
      "--- runtime for data transfer (device->host):\t0.008374452590942383\n",
      "1024 1536 512 512\n"
     ]
    },
    {
     "name": "stderr",
     "output_type": "stream",
     "text": [
      "/usr/local/lib/python3.6/dist-packages/bfast/monitor/opencl/bfastfinal.py:17894: RuntimeWarning: overflow encountered in int_scalars\n",
      "  num_threads_32532 = (n_30761 * convop_x_37235)\n",
      "\n",
      "Processing blocks of tile:: 100%|██████████| 16/16.0 [01:47<00:00,  6.91s/it]\u001b[A"
     ]
    },
    {
     "name": "stdout",
     "output_type": "stream",
     "text": [
      "--- runtime for data initialization:\t\t0.0018322467803955078\n",
      "--- runtime for data transfer (host->device):\t0.06238913536071777\n",
      "--- runtime for data preprocessing:\t\t0.010648965835571289\n",
      "--- runtime for kernel execution:\t\t0.10244512557983398\n",
      "--- runtime for data transfer (device->host):\t0.012678384780883789\n",
      "1536 1536 512 512\n",
      "--- runtime for data initialization:\t\t0.0017614364624023438\n",
      "--- runtime for data transfer (host->device):\t0.062430381774902344\n",
      "--- runtime for data preprocessing:\t\t0.009625434875488281\n",
      "--- runtime for kernel execution:\t\t0.10411524772644043\n",
      "--- runtime for data transfer (device->host):\t0.01304936408996582\n"
     ]
    },
    {
     "name": "stderr",
     "output_type": "stream",
     "text": [
      "/usr/local/lib/python3.6/dist-packages/bfast/monitor/opencl/bfastfinal.py:17894: RuntimeWarning: overflow encountered in int_scalars\n",
      "  num_threads_32532 = (n_30761 * convop_x_37235)\n",
      "Processing blocks of tile:: 100%|██████████| 16/16.0 [01:55<00:00,  7.20s/it]\n"
     ]
    },
    {
     "name": "stdout",
     "output_type": "stream",
     "text": [
      "Fitting model over all blocks took 115.17603707313538 seconds.\n"
     ]
    },
    {
     "name": "stderr",
     "output_type": "stream",
     "text": [
      "Processing tile 2 out of 12:   0%|          | 0/12 [01:55<?, ?it/s]\n",
      "  0%|          | 0/16.0 [00:00<?, ?it/s]\u001b[A\n",
      "Processing blocks of tile::   0%|          | 0/16.0 [00:00<?, ?it/s]\u001b[A"
     ]
    },
    {
     "name": "stdout",
     "output_type": "stream",
     "text": [
      "device:  [<pyopencl.Device 'Tesla T4' on 'NVIDIA CUDA' at 0x3b8f870>]\n",
      "Monitoring starts at:  2018-09-14 00:00:00\n",
      "Monitoring ends at:  2020-08-19 00:00:00\n",
      "Dataset history starts at:  2016-01-05 00:00:00\n",
      "frequency:  365\n",
      "harmonic term:  3\n",
      "Hfrac: Float in the interval (0,1) specifying the bandwidth relative to the sample size in the MOSUM/ME monitoring processes.:  0.25\n",
      "Trend: Whether a tend offset term shall be used or not:  True\n",
      "Level: Significance level of the monitoring (and ROC, if selected) procedure, i.e., probability of type I error:  0.050000000000000044\n",
      "backend: GPU opencl or CPU python:  opencl\n",
      "verbose: The verbosity level (0=no output, 1=output):  1\n",
      "rastersize:  2048 2048\n",
      "The natural block size is the block size that is most efficient for accessing the format, gdal found blocksize:  [128, 128]\n",
      "set blocksize explicitly:  512 ,  512\n",
      "start monitor:  2018-09-14 00:00:00\n",
      "end monitor:  2020-08-19 00:00:00\n",
      "start history:  2016-01-05 00:00:00\n",
      "0 0 512 512\n"
     ]
    },
    {
     "name": "stderr",
     "output_type": "stream",
     "text": [
      "/usr/local/lib/python3.6/dist-packages/bfast/monitor/opencl/bfastfinal.py:17894: RuntimeWarning: overflow encountered in int_scalars\n",
      "  num_threads_32532 = (n_30761 * convop_x_37235)\n",
      "\n"
     ]
    },
    {
     "name": "stdout",
     "output_type": "stream",
     "text": [
      "--- runtime for data initialization:\t\t0.0017638206481933594\n",
      "--- runtime for data transfer (host->device):\t0.06245779991149902\n",
      "--- runtime for data preprocessing:\t\t0.011992454528808594\n",
      "--- runtime for kernel execution:\t\t0.11299681663513184\n",
      "--- runtime for data transfer (device->host):\t0.011248111724853516\n",
      "512 0 512 512\n"
     ]
    },
    {
     "name": "stderr",
     "output_type": "stream",
     "text": [
      "Processing blocks of tile::  12%|█▎        | 2/16.0 [00:11<01:23,  5.95s/it]\u001b[A/usr/local/lib/python3.6/dist-packages/bfast/monitor/opencl/bfastfinal.py:17894: RuntimeWarning: overflow encountered in int_scalars\n",
      "  num_threads_32532 = (n_30761 * convop_x_37235)\n",
      "\n",
      "Processing blocks of tile::  19%|█▉        | 3/16.0 [00:20<01:26,  6.69s/it]\u001b[A"
     ]
    },
    {
     "name": "stdout",
     "output_type": "stream",
     "text": [
      "--- runtime for data initialization:\t\t0.0017762184143066406\n",
      "--- runtime for data transfer (host->device):\t0.06241869926452637\n",
      "--- runtime for data preprocessing:\t\t0.010590076446533203\n",
      "--- runtime for kernel execution:\t\t0.09330177307128906\n",
      "--- runtime for data transfer (device->host):\t0.00826883316040039\n",
      "1024 0 512 512\n"
     ]
    },
    {
     "name": "stderr",
     "output_type": "stream",
     "text": [
      "Processing blocks of tile::  19%|█▉        | 3/16.0 [00:27<02:00,  9.30s/it]\n",
      "Processing tile 2 out of 12:   0%|          | 0/12 [02:23<?, ?it/s]\n"
     ]
    },
    {
     "ename": "KeyboardInterrupt",
     "evalue": "",
     "output_type": "error",
     "traceback": [
      "\u001b[0;31m---------------------------------------------------------------------------\u001b[0m",
      "\u001b[0;31mKeyboardInterrupt\u001b[0m                         Traceback (most recent call last)",
      "\u001b[0;32m<ipython-input-29-0f9720f3e38b>\u001b[0m in \u001b[0;36m<module>\u001b[0;34m\u001b[0m\n\u001b[1;32m     23\u001b[0m \u001b[0;34m\u001b[0m\u001b[0m\n\u001b[1;32m     24\u001b[0m         tile.loop_blocks(x_block_size = x_block,\n\u001b[0;32m---> 25\u001b[0;31m                             y_block_size=y_block)\n\u001b[0m\u001b[1;32m     26\u001b[0m \u001b[0;34m\u001b[0m\u001b[0m\n\u001b[1;32m     27\u001b[0m         \u001b[0mtile\u001b[0m\u001b[0;34m.\u001b[0m\u001b[0mlog_all_output\u001b[0m\u001b[0;34m(\u001b[0m\u001b[0moutput_dir_name\u001b[0m\u001b[0;34m=\u001b[0m\u001b[0moutput_dir\u001b[0m\u001b[0;34m)\u001b[0m\u001b[0;34m\u001b[0m\u001b[0;34m\u001b[0m\u001b[0m\n",
      "\u001b[0;32m~/bfastmonitor_cpu/dven/time_series.py\u001b[0m in \u001b[0;36mloop_blocks\u001b[0;34m(self, x_block_size, y_block_size)\u001b[0m\n\u001b[1;32m    194\u001b[0m                     \u001b[0;31m# after that add to array\u001b[0m\u001b[0;34m\u001b[0m\u001b[0;34m\u001b[0m\u001b[0;34m\u001b[0m\u001b[0m\n\u001b[1;32m    195\u001b[0m                     \u001b[0;32melse\u001b[0m\u001b[0;34m:\u001b[0m\u001b[0;34m\u001b[0m\u001b[0;34m\u001b[0m\u001b[0m\n\u001b[0;32m--> 196\u001b[0;31m                         \u001b[0mdata\u001b[0m \u001b[0;34m=\u001b[0m \u001b[0mself\u001b[0m\u001b[0;34m.\u001b[0m\u001b[0mtime_series\u001b[0m\u001b[0;34m.\u001b[0m\u001b[0mReadAsArray\u001b[0m\u001b[0;34m(\u001b[0m\u001b[0mj\u001b[0m\u001b[0;34m,\u001b[0m \u001b[0mi\u001b[0m\u001b[0;34m,\u001b[0m \u001b[0mcols\u001b[0m\u001b[0;34m,\u001b[0m \u001b[0mrows\u001b[0m\u001b[0;34m)\u001b[0m\u001b[0;31m#.astype(\"int16\")\u001b[0m\u001b[0;34m\u001b[0m\u001b[0;34m\u001b[0m\u001b[0m\n\u001b[0m\u001b[1;32m    197\u001b[0m                         \u001b[0mdata\u001b[0m \u001b[0;34m=\u001b[0m \u001b[0mdata\u001b[0m\u001b[0;34m*\u001b[0m\u001b[0;36m10000\u001b[0m\u001b[0;34m\u001b[0m\u001b[0;34m\u001b[0m\u001b[0m\n\u001b[1;32m    198\u001b[0m                         \u001b[0mdata\u001b[0m\u001b[0;34m=\u001b[0m\u001b[0mdata\u001b[0m\u001b[0;34m.\u001b[0m\u001b[0mastype\u001b[0m\u001b[0;34m(\u001b[0m\u001b[0;34m\"int16\"\u001b[0m\u001b[0;34m)\u001b[0m\u001b[0;34m\u001b[0m\u001b[0;34m\u001b[0m\u001b[0m\n",
      "\u001b[0;32m/usr/lib/python3/dist-packages/osgeo/gdal.py\u001b[0m in \u001b[0;36mReadAsArray\u001b[0;34m(self, xoff, yoff, xsize, ysize, buf_obj, buf_xsize, buf_ysize, buf_type, resample_alg, callback, callback_data, interleave)\u001b[0m\n\u001b[1;32m   2284\u001b[0m                                               \u001b[0mcallback\u001b[0m\u001b[0;34m=\u001b[0m\u001b[0mcallback\u001b[0m\u001b[0;34m,\u001b[0m\u001b[0;34m\u001b[0m\u001b[0;34m\u001b[0m\u001b[0m\n\u001b[1;32m   2285\u001b[0m                                               \u001b[0mcallback_data\u001b[0m\u001b[0;34m=\u001b[0m\u001b[0mcallback_data\u001b[0m\u001b[0;34m,\u001b[0m\u001b[0;34m\u001b[0m\u001b[0;34m\u001b[0m\u001b[0m\n\u001b[0;32m-> 2286\u001b[0;31m                                               interleave=interleave )\n\u001b[0m\u001b[1;32m   2287\u001b[0m \u001b[0;34m\u001b[0m\u001b[0m\n\u001b[1;32m   2288\u001b[0m     def WriteRaster(self, xoff, yoff, xsize, ysize,\n",
      "\u001b[0;32m/usr/lib/python3/dist-packages/osgeo/gdal_array.py\u001b[0m in \u001b[0;36mDatasetReadAsArray\u001b[0;34m(ds, xoff, yoff, win_xsize, win_ysize, buf_obj, buf_xsize, buf_ysize, buf_type, resample_alg, callback, callback_data, interleave)\u001b[0m\n\u001b[1;32m    338\u001b[0m \u001b[0;34m\u001b[0m\u001b[0m\n\u001b[1;32m    339\u001b[0m     if DatasetIONumPy(ds, 0, xoff, yoff, win_xsize, win_ysize,\n\u001b[0;32m--> 340\u001b[0;31m                       buf_obj, buf_type, resample_alg, callback, callback_data, interleave) != 0:\n\u001b[0m\u001b[1;32m    341\u001b[0m         \u001b[0m_RaiseException\u001b[0m\u001b[0;34m(\u001b[0m\u001b[0;34m)\u001b[0m\u001b[0;34m\u001b[0m\u001b[0;34m\u001b[0m\u001b[0m\n\u001b[1;32m    342\u001b[0m         \u001b[0;32mreturn\u001b[0m \u001b[0;32mNone\u001b[0m\u001b[0;34m\u001b[0m\u001b[0;34m\u001b[0m\u001b[0m\n",
      "\u001b[0;32m/usr/lib/python3/dist-packages/osgeo/gdal_array.py\u001b[0m in \u001b[0;36mDatasetIONumPy\u001b[0;34m(ds, bWrite, xoff, yoff, xsize, ysize, psArray, buf_type, resample_alg, callback, callback_data, binterleave)\u001b[0m\n\u001b[1;32m    152\u001b[0m \u001b[0;32mdef\u001b[0m \u001b[0mDatasetIONumPy\u001b[0m\u001b[0;34m(\u001b[0m\u001b[0mds\u001b[0m\u001b[0;34m,\u001b[0m \u001b[0mbWrite\u001b[0m\u001b[0;34m,\u001b[0m \u001b[0mxoff\u001b[0m\u001b[0;34m,\u001b[0m \u001b[0myoff\u001b[0m\u001b[0;34m,\u001b[0m \u001b[0mxsize\u001b[0m\u001b[0;34m,\u001b[0m \u001b[0mysize\u001b[0m\u001b[0;34m,\u001b[0m \u001b[0mpsArray\u001b[0m\u001b[0;34m,\u001b[0m \u001b[0mbuf_type\u001b[0m\u001b[0;34m,\u001b[0m \u001b[0mresample_alg\u001b[0m\u001b[0;34m,\u001b[0m \u001b[0mcallback\u001b[0m\u001b[0;34m=\u001b[0m\u001b[0;36m0\u001b[0m\u001b[0;34m,\u001b[0m \u001b[0mcallback_data\u001b[0m\u001b[0;34m=\u001b[0m\u001b[0;32mNone\u001b[0m\u001b[0;34m,\u001b[0m \u001b[0mbinterleave\u001b[0m\u001b[0;34m=\u001b[0m\u001b[0;32mTrue\u001b[0m\u001b[0;34m)\u001b[0m\u001b[0;34m:\u001b[0m\u001b[0;34m\u001b[0m\u001b[0;34m\u001b[0m\u001b[0m\n\u001b[1;32m    153\u001b[0m     \u001b[0;34m\"\"\"DatasetIONumPy(Dataset ds, int bWrite, int xoff, int yoff, int xsize, int ysize, PyArrayObject * psArray, int buf_type, GDALRIOResampleAlg resample_alg, GDALProgressFunc callback=0, void * callback_data=None, bool binterleave=True) -> CPLErr\"\"\"\u001b[0m\u001b[0;34m\u001b[0m\u001b[0;34m\u001b[0m\u001b[0m\n\u001b[0;32m--> 154\u001b[0;31m     \u001b[0;32mreturn\u001b[0m \u001b[0m_gdal_array\u001b[0m\u001b[0;34m.\u001b[0m\u001b[0mDatasetIONumPy\u001b[0m\u001b[0;34m(\u001b[0m\u001b[0mds\u001b[0m\u001b[0;34m,\u001b[0m \u001b[0mbWrite\u001b[0m\u001b[0;34m,\u001b[0m \u001b[0mxoff\u001b[0m\u001b[0;34m,\u001b[0m \u001b[0myoff\u001b[0m\u001b[0;34m,\u001b[0m \u001b[0mxsize\u001b[0m\u001b[0;34m,\u001b[0m \u001b[0mysize\u001b[0m\u001b[0;34m,\u001b[0m \u001b[0mpsArray\u001b[0m\u001b[0;34m,\u001b[0m \u001b[0mbuf_type\u001b[0m\u001b[0;34m,\u001b[0m \u001b[0mresample_alg\u001b[0m\u001b[0;34m,\u001b[0m \u001b[0mcallback\u001b[0m\u001b[0;34m,\u001b[0m \u001b[0mcallback_data\u001b[0m\u001b[0;34m,\u001b[0m \u001b[0mbinterleave\u001b[0m\u001b[0;34m)\u001b[0m\u001b[0;34m\u001b[0m\u001b[0;34m\u001b[0m\u001b[0m\n\u001b[0m\u001b[1;32m    155\u001b[0m \u001b[0;34m\u001b[0m\u001b[0m\n\u001b[1;32m    156\u001b[0m \u001b[0;32mdef\u001b[0m \u001b[0mVirtualMemGetArray\u001b[0m\u001b[0;34m(\u001b[0m\u001b[0mvirtualmem\u001b[0m\u001b[0;34m)\u001b[0m\u001b[0;34m:\u001b[0m\u001b[0;34m\u001b[0m\u001b[0;34m\u001b[0m\u001b[0m\n",
      "\u001b[0;31mKeyboardInterrupt\u001b[0m: "
     ]
    }
   ],
   "source": [
    "x_block = y_block = block_size_chooser.result\n",
    "\n",
    "# loading bar\n",
    "with tqdm(total=len(data_list)) as pbar1:\n",
    "    \n",
    "    # loop over tile(s) in the data_list\n",
    "    for counter, tile in enumerate(data_list):\n",
    "        pbar1.set_description(\"Processing tile %s out of %s\" % (counter+1, len(data_list)) )\n",
    "\n",
    "        tile.set_bfast_parameters(start_monitor = start_monitor, \n",
    "                                     end_monitor = end_monitor,\n",
    "                                     start_hist = start_hist,\n",
    "                                     freq = freq,\n",
    "                                     k = k,\n",
    "                                     hfrac = hfrac,\n",
    "                                     trend = trend,\n",
    "                                     level = level,\n",
    "                                     backend=backend,\n",
    "                                     verbose=verbose,\n",
    "                                     device_id=device_id)\n",
    "        \n",
    "        tile.get_bfast_parameters()\n",
    "        \n",
    "        tile.loop_blocks(x_block_size = x_block,\n",
    "                            y_block_size=y_block)\n",
    "        \n",
    "        tile.log_all_output(output_dir_name=output_dir)\n",
    "        \n",
    "        pbar1.update(counter)\n",
    "        \n",
    "pbar1.close()\n",
    "\n",
    "# Store the cropped dates for optional loading later\n",
    "with open(output_dir + \"/cropped_dates.csv\",\"w\") as f:\n",
    "    for date in data_list[0].cropped_dates:\n",
    "        f.write(date.strftime(\"%m/%d/%Y\"))\n",
    "        f.write(\"\\n\")\n",
    "\n",
    "# # temporary solution\n",
    "# with open(output_dir + \"/hist_dates.csv\",\"w\") as f:\n",
    "#     for date in data_list[0].dates:\n",
    "#         f.write(date.strftime(\"%m/%d/%Y\"))\n",
    "#         f.write(\"\\n\")"
   ]
  },
  {
   "cell_type": "code",
   "execution_count": 16,
   "metadata": {},
   "outputs": [],
   "source": []
  },
  {
   "cell_type": "markdown",
   "metadata": {},
   "source": [
    "### If you want to load previously saved files. Only do this if you have saved tiles previously"
   ]
  },
  {
   "cell_type": "code",
   "execution_count": 13,
   "metadata": {},
   "outputs": [
    {
     "data": {
      "application/vnd.jupyter.widget-view+json": {
       "model_id": "aa70fc47fdb547f0ab85891942db1f0a",
       "version_major": 2,
       "version_minor": 0
      },
      "text/plain": [
       "interactive(children=(Checkbox(value=False, description='load tiles', layout=Layout(height='auto', width='500p…"
      ]
     },
     "metadata": {},
     "output_type": "display_data"
    }
   ],
   "source": [
    "display(load_chooser)"
   ]
  },
  {
   "cell_type": "code",
   "execution_count": 14,
   "metadata": {},
   "outputs": [
    {
     "name": "stdout",
     "output_type": "stream",
     "text": [
      "stored_time_series/Guyana/Guyana_1/tile-0000000000-0000000000_means.npy\n",
      "stored_time_series/Guyana/Guyana_1/tile-0000000000-0000000000_breaks.npy\n",
      "stored_time_series/Guyana/Guyana_1/tile-0000000000-0000002048_means.npy\n",
      "stored_time_series/Guyana/Guyana_1/tile-0000000000-0000002048_breaks.npy\n",
      "stored_time_series/Guyana/Guyana_1/tile-0000002048-0000000000_means.npy\n",
      "stored_time_series/Guyana/Guyana_1/tile-0000002048-0000000000_breaks.npy\n",
      "stored_time_series/Guyana/Guyana_1/tile-0000002048-0000002048_means.npy\n",
      "stored_time_series/Guyana/Guyana_1/tile-0000002048-0000002048_breaks.npy\n",
      "stored_time_series/Guyana/Guyana_1/tile-0000004096-0000000000_means.npy\n",
      "stored_time_series/Guyana/Guyana_1/tile-0000004096-0000000000_breaks.npy\n",
      "stored_time_series/Guyana/Guyana_1/tile-0000004096-0000002048_means.npy\n",
      "stored_time_series/Guyana/Guyana_1/tile-0000004096-0000002048_breaks.npy\n",
      "stored_time_series/Guyana/Guyana_1/tile-0000006144-0000000000_means.npy\n",
      "stored_time_series/Guyana/Guyana_1/tile-0000006144-0000000000_breaks.npy\n",
      "stored_time_series/Guyana/Guyana_1/tile-0000006144-0000002048_means.npy\n",
      "stored_time_series/Guyana/Guyana_1/tile-0000006144-0000002048_breaks.npy\n"
     ]
    }
   ],
   "source": [
    "if load_chooser.result == True:\n",
    "    \n",
    "    for tile in data_list:\n",
    "\n",
    "        with open(output_dir + \"/cropped_dates.csv\",\"r\") as f:\n",
    "            dates_list = f.read().split('\\n')\n",
    "            tile.cropped_dates = [datetime.strptime(d, '%m/%d/%Y') for d in dates_list if len(d) > 0]\n",
    "#         with open(output_dir + \"/hist_dates.csv\",\"r\") as f:\n",
    "#             dates_list = f.read().split('\\n')\n",
    "#             tile.dates = [datetime.strptime(d, '%m/%d/%Y') for d in dates_list if len(d) > 0]\n",
    "              \n",
    "        tile.start_hist = tile.cropped_dates[0]\n",
    "#         tile.start_monitor = tile.cropped_dates[0]\n",
    "        tile.end_monitor = tile.cropped_dates[-1]\n",
    "        tile.load_breaks_means_arrays_from_file(output_dir_name = output_dir)\n",
    "        \n",
    "else:\n",
    "    print(\"no tiles loaded, make sure to run the block above, if you want to load tiles\")\n",
    "    \n"
   ]
  },
  {
   "cell_type": "markdown",
   "metadata": {},
   "source": [
    "### Check tiles for output quality"
   ]
  },
  {
   "cell_type": "code",
   "execution_count": 15,
   "metadata": {
    "scrolled": true
   },
   "outputs": [
    {
     "name": "stdout",
     "output_type": "stream",
     "text": [
      "/home/dven/downloads/Time_series_2020-09-01_16-22-26/1/tile-0000000000-0000000000/\n",
      "minus2s:  0\n",
      "minus1s:  4121050\n",
      "total 4194304\n",
      "percentage cells that lacked enough data for finding means or breaks: 0.0\n",
      "percentage cells where breaks were found: 1.746511459350586\n",
      "amount of nans in means:  3163099\n",
      "/home/dven/downloads/Time_series_2020-09-01_16-22-26/1/tile-0000000000-0000002048/\n",
      "minus2s:  0\n",
      "minus1s:  3384648\n",
      "total 3805184\n",
      "percentage cells that lacked enough data for finding means or breaks: 0.0\n",
      "percentage cells where breaks were found: 11.051660051130249\n",
      "amount of nans in means:  4006\n",
      "/home/dven/downloads/Time_series_2020-09-01_16-22-26/1/tile-0000002048-0000000000/\n",
      "minus2s:  0\n",
      "minus1s:  4175804\n",
      "total 4194304\n",
      "percentage cells that lacked enough data for finding means or breaks: 0.0\n",
      "percentage cells where breaks were found: 0.4410743713378906\n",
      "amount of nans in means:  3774937\n",
      "/home/dven/downloads/Time_series_2020-09-01_16-22-26/1/tile-0000002048-0000002048/\n",
      "minus2s:  0\n",
      "minus1s:  3479167\n",
      "total 3805184\n",
      "percentage cells that lacked enough data for finding means or breaks: 0.0\n",
      "percentage cells where breaks were found: 8.56770658133746\n",
      "amount of nans in means:  991270\n",
      "/home/dven/downloads/Time_series_2020-09-01_16-22-26/1/tile-0000004096-0000000000/\n",
      "minus2s:  0\n",
      "minus1s:  4194304\n",
      "total 4194304\n",
      "percentage cells that lacked enough data for finding means or breaks: 0.0\n",
      "percentage cells where breaks were found: 0.0\n",
      "amount of nans in means:  4194304\n",
      "/home/dven/downloads/Time_series_2020-09-01_16-22-26/1/tile-0000004096-0000002048/\n",
      "minus2s:  0\n",
      "minus1s:  3589934\n",
      "total 3805184\n",
      "percentage cells that lacked enough data for finding means or breaks: 0.0\n",
      "percentage cells where breaks were found: 5.6567566772066735\n",
      "amount of nans in means:  1714489\n",
      "/home/dven/downloads/Time_series_2020-09-01_16-22-26/1/tile-0000006144-0000000000/\n",
      "minus2s:  0\n",
      "minus1s:  2623345\n",
      "total 2623488\n",
      "percentage cells that lacked enough data for finding means or breaks: 0.0\n",
      "percentage cells where breaks were found: 0.005450758684621389\n",
      "amount of nans in means:  2613383\n",
      "/home/dven/downloads/Time_series_2020-09-01_16-22-26/1/tile-0000006144-0000002048/\n",
      "minus2s:  0\n",
      "minus1s:  2162227\n",
      "total 2380098\n",
      "percentage cells that lacked enough data for finding means or breaks: 0.0\n",
      "percentage cells where breaks were found: 9.153866773553023\n",
      "amount of nans in means:  229486\n"
     ]
    }
   ],
   "source": [
    "for tile in data_list:\n",
    "    print(tile.dir)\n",
    "    \n",
    "    # do some plots\n",
    "    breaks = tile.breaks_array\n",
    "    means = tile.means_array\n",
    "    \n",
    "    tile.check_arrays(min_perc_lacking_data = 50)\n"
   ]
  },
  {
   "cell_type": "markdown",
   "metadata": {},
   "source": [
    "### Merge tiles together and save as all_means.npy and all_breaks.npy"
   ]
  },
  {
   "cell_type": "code",
   "execution_count": 16,
   "metadata": {},
   "outputs": [
    {
     "name": "stdout",
     "output_type": "stream",
     "text": [
      "stored_time_series/Guyana/Guyana_1/all_means.npy\n",
      "stored_time_series/Guyana/Guyana_1/all_breaks.npy\n"
     ]
    }
   ],
   "source": [
    "if len(data_list) > 1:\n",
    "    big_means_array, big_breaks_array = merge_tiles(data_list,output_dir_name = output_dir)"
   ]
  },
  {
   "cell_type": "markdown",
   "metadata": {},
   "source": [
    "#### Select negative magnitudes"
   ]
  },
  {
   "cell_type": "code",
   "execution_count": 17,
   "metadata": {
    "scrolled": true
   },
   "outputs": [
    {
     "data": {
      "image/png": "[encoded data removed]",
      "text/plain": [
       "<Figure size 432x72 with 1 Axes>"
      ]
     },
     "metadata": {
      "needs_background": "light"
     },
     "output_type": "display_data"
    },
    {
     "data": {
      "image/png": "[encoded data removed]",
      "text/plain": [
       "<Figure size 432x72 with 1 Axes>"
      ]
     },
     "metadata": {
      "needs_background": "light"
     },
     "output_type": "display_data"
    }
   ],
   "source": [
    "if len(data_list)>1:\n",
    "    means = big_means_array\n",
    "    breaks = big_breaks_array\n",
    "else:\n",
    "    means = data_list[0].means_array\n",
    "    breaks = data_list[0].breaks_array\n",
    "\n",
    "save_plot(means,output_dir, save_name = \"all_means\")\n",
    "save_plot(breaks,output_dir, save_name = \"all_breaks\")"
   ]
  },
  {
   "cell_type": "code",
   "execution_count": 21,
   "metadata": {},
   "outputs": [],
   "source": []
  },
  {
   "cell_type": "code",
   "execution_count": 18,
   "metadata": {},
   "outputs": [
    {
     "data": {
      "image/png": "[encoded data removed]",
      "text/plain": [
       "<Figure size 432x72 with 1 Axes>"
      ]
     },
     "metadata": {
      "needs_background": "light"
     },
     "output_type": "display_data"
    },
    {
     "data": {
      "image/png": "[encoded data removed]",
      "text/plain": [
       "<Figure size 432x72 with 1 Axes>"
      ]
     },
     "metadata": {
      "needs_background": "light"
     },
     "output_type": "display_data"
    }
   ],
   "source": [
    "# select only negative magnitudes\n",
    "no_breaks_indices = (breaks == -1)\n",
    "means[no_breaks_indices] = np.nan\n",
    "means[means > 0] = np.nan # only want negative mean changes\n",
    "\n",
    "breaks_plot = breaks.astype(np.float)\n",
    "breaks_plot[breaks == -2] = np.nan\n",
    "breaks_plot[breaks == -1] = np.nan\n",
    "breaks_plot[means >= 0] = np.nan\n",
    "\n",
    "save_plot(means, output_dir, save_name = \"all_negative_means\")\n",
    "save_plot(breaks_plot, output_dir, save_name = \"all_negative_breaks\")\n"
   ]
  },
  {
   "cell_type": "code",
   "execution_count": 19,
   "metadata": {},
   "outputs": [
    {
     "data": {
      "text/plain": [
       "array([datetime.datetime(2018, 9, 18, 0, 0),\n",
       "       datetime.datetime(2018, 9, 19, 0, 0),\n",
       "       datetime.datetime(2018, 9, 26, 0, 0),\n",
       "       datetime.datetime(2018, 9, 27, 0, 0),\n",
       "       datetime.datetime(2018, 10, 4, 0, 0),\n",
       "       datetime.datetime(2018, 10, 5, 0, 0),\n",
       "       datetime.datetime(2018, 10, 12, 0, 0),\n",
       "       datetime.datetime(2018, 10, 13, 0, 0),\n",
       "       datetime.datetime(2018, 10, 20, 0, 0),\n",
       "       datetime.datetime(2018, 10, 21, 0, 0),\n",
       "       datetime.datetime(2018, 10, 28, 0, 0),\n",
       "       datetime.datetime(2018, 10, 29, 0, 0),\n",
       "       datetime.datetime(2018, 11, 5, 0, 0),\n",
       "       datetime.datetime(2018, 11, 6, 0, 0),\n",
       "       datetime.datetime(2018, 11, 13, 0, 0),\n",
       "       datetime.datetime(2018, 11, 14, 0, 0),\n",
       "       datetime.datetime(2018, 11, 21, 0, 0),\n",
       "       datetime.datetime(2018, 11, 22, 0, 0),\n",
       "       datetime.datetime(2018, 11, 30, 0, 0),\n",
       "       datetime.datetime(2018, 12, 7, 0, 0),\n",
       "       datetime.datetime(2018, 12, 15, 0, 0),\n",
       "       datetime.datetime(2018, 12, 23, 0, 0),\n",
       "       datetime.datetime(2018, 12, 31, 0, 0),\n",
       "       datetime.datetime(2019, 1, 1, 0, 0),\n",
       "       datetime.datetime(2019, 1, 8, 0, 0),\n",
       "       datetime.datetime(2019, 1, 9, 0, 0),\n",
       "       datetime.datetime(2019, 1, 16, 0, 0),\n",
       "       datetime.datetime(2019, 1, 24, 0, 0),\n",
       "       datetime.datetime(2019, 1, 25, 0, 0),\n",
       "       datetime.datetime(2019, 2, 1, 0, 0),\n",
       "       datetime.datetime(2019, 2, 9, 0, 0),\n",
       "       datetime.datetime(2019, 2, 17, 0, 0),\n",
       "       datetime.datetime(2019, 2, 18, 0, 0),\n",
       "       datetime.datetime(2019, 2, 25, 0, 0),\n",
       "       datetime.datetime(2019, 3, 5, 0, 0),\n",
       "       datetime.datetime(2019, 3, 6, 0, 0),\n",
       "       datetime.datetime(2019, 3, 13, 0, 0),\n",
       "       datetime.datetime(2019, 3, 14, 0, 0),\n",
       "       datetime.datetime(2019, 3, 21, 0, 0),\n",
       "       datetime.datetime(2019, 3, 22, 0, 0),\n",
       "       datetime.datetime(2019, 3, 29, 0, 0),\n",
       "       datetime.datetime(2019, 3, 30, 0, 0),\n",
       "       datetime.datetime(2019, 4, 6, 0, 0),\n",
       "       datetime.datetime(2019, 4, 7, 0, 0),\n",
       "       datetime.datetime(2019, 4, 14, 0, 0),\n",
       "       datetime.datetime(2019, 4, 22, 0, 0),\n",
       "       datetime.datetime(2019, 4, 23, 0, 0),\n",
       "       datetime.datetime(2019, 4, 30, 0, 0),\n",
       "       datetime.datetime(2019, 5, 24, 0, 0),\n",
       "       datetime.datetime(2019, 5, 25, 0, 0),\n",
       "       datetime.datetime(2019, 6, 2, 0, 0),\n",
       "       datetime.datetime(2019, 6, 17, 0, 0),\n",
       "       datetime.datetime(2019, 6, 18, 0, 0),\n",
       "       datetime.datetime(2019, 6, 25, 0, 0),\n",
       "       datetime.datetime(2019, 7, 4, 0, 0),\n",
       "       datetime.datetime(2019, 7, 11, 0, 0),\n",
       "       datetime.datetime(2019, 7, 19, 0, 0),\n",
       "       datetime.datetime(2019, 7, 20, 0, 0),\n",
       "       datetime.datetime(2019, 8, 4, 0, 0),\n",
       "       datetime.datetime(2019, 8, 5, 0, 0),\n",
       "       datetime.datetime(2019, 8, 12, 0, 0),\n",
       "       datetime.datetime(2019, 8, 20, 0, 0),\n",
       "       datetime.datetime(2019, 8, 21, 0, 0),\n",
       "       datetime.datetime(2019, 8, 28, 0, 0),\n",
       "       datetime.datetime(2019, 8, 29, 0, 0),\n",
       "       datetime.datetime(2019, 9, 5, 0, 0),\n",
       "       datetime.datetime(2019, 9, 6, 0, 0),\n",
       "       datetime.datetime(2019, 9, 13, 0, 0),\n",
       "       datetime.datetime(2019, 9, 14, 0, 0),\n",
       "       datetime.datetime(2019, 9, 21, 0, 0),\n",
       "       datetime.datetime(2019, 9, 22, 0, 0),\n",
       "       datetime.datetime(2019, 9, 29, 0, 0),\n",
       "       datetime.datetime(2019, 9, 30, 0, 0),\n",
       "       datetime.datetime(2019, 10, 7, 0, 0),\n",
       "       datetime.datetime(2019, 10, 8, 0, 0),\n",
       "       datetime.datetime(2019, 10, 15, 0, 0),\n",
       "       datetime.datetime(2019, 10, 16, 0, 0),\n",
       "       datetime.datetime(2019, 10, 23, 0, 0),\n",
       "       datetime.datetime(2019, 10, 24, 0, 0),\n",
       "       datetime.datetime(2019, 10, 31, 0, 0),\n",
       "       datetime.datetime(2019, 11, 1, 0, 0),\n",
       "       datetime.datetime(2019, 11, 8, 0, 0),\n",
       "       datetime.datetime(2019, 11, 9, 0, 0),\n",
       "       datetime.datetime(2019, 11, 16, 0, 0),\n",
       "       datetime.datetime(2019, 11, 24, 0, 0),\n",
       "       datetime.datetime(2019, 11, 25, 0, 0),\n",
       "       datetime.datetime(2019, 12, 2, 0, 0),\n",
       "       datetime.datetime(2019, 12, 3, 0, 0),\n",
       "       datetime.datetime(2019, 12, 10, 0, 0),\n",
       "       datetime.datetime(2019, 12, 11, 0, 0),\n",
       "       datetime.datetime(2019, 12, 18, 0, 0),\n",
       "       datetime.datetime(2019, 12, 19, 0, 0),\n",
       "       datetime.datetime(2019, 12, 26, 0, 0),\n",
       "       datetime.datetime(2020, 1, 3, 0, 0),\n",
       "       datetime.datetime(2020, 1, 4, 0, 0),\n",
       "       datetime.datetime(2020, 1, 11, 0, 0),\n",
       "       datetime.datetime(2020, 1, 12, 0, 0),\n",
       "       datetime.datetime(2020, 1, 19, 0, 0),\n",
       "       datetime.datetime(2020, 1, 20, 0, 0),\n",
       "       datetime.datetime(2020, 1, 28, 0, 0),\n",
       "       datetime.datetime(2020, 2, 4, 0, 0),\n",
       "       datetime.datetime(2020, 2, 5, 0, 0),\n",
       "       datetime.datetime(2020, 2, 13, 0, 0),\n",
       "       datetime.datetime(2020, 2, 20, 0, 0),\n",
       "       datetime.datetime(2020, 2, 21, 0, 0),\n",
       "       datetime.datetime(2020, 2, 28, 0, 0),\n",
       "       datetime.datetime(2020, 2, 29, 0, 0),\n",
       "       datetime.datetime(2020, 3, 7, 0, 0),\n",
       "       datetime.datetime(2020, 3, 8, 0, 0),\n",
       "       datetime.datetime(2020, 3, 16, 0, 0),\n",
       "       datetime.datetime(2020, 3, 23, 0, 0),\n",
       "       datetime.datetime(2020, 3, 24, 0, 0),\n",
       "       datetime.datetime(2020, 3, 31, 0, 0),\n",
       "       datetime.datetime(2020, 4, 1, 0, 0),\n",
       "       datetime.datetime(2020, 4, 8, 0, 0),\n",
       "       datetime.datetime(2020, 4, 16, 0, 0),\n",
       "       datetime.datetime(2020, 4, 17, 0, 0),\n",
       "       datetime.datetime(2020, 4, 24, 0, 0),\n",
       "       datetime.datetime(2020, 4, 25, 0, 0),\n",
       "       datetime.datetime(2020, 5, 10, 0, 0),\n",
       "       datetime.datetime(2020, 5, 11, 0, 0),\n",
       "       datetime.datetime(2020, 5, 18, 0, 0),\n",
       "       datetime.datetime(2020, 5, 19, 0, 0),\n",
       "       datetime.datetime(2020, 5, 26, 0, 0),\n",
       "       datetime.datetime(2020, 6, 3, 0, 0),\n",
       "       datetime.datetime(2020, 6, 4, 0, 0),\n",
       "       datetime.datetime(2020, 6, 19, 0, 0),\n",
       "       datetime.datetime(2020, 6, 20, 0, 0),\n",
       "       datetime.datetime(2020, 6, 27, 0, 0),\n",
       "       datetime.datetime(2020, 6, 28, 0, 0),\n",
       "       datetime.datetime(2020, 7, 5, 0, 0),\n",
       "       datetime.datetime(2020, 7, 13, 0, 0),\n",
       "       datetime.datetime(2020, 7, 14, 0, 0),\n",
       "       datetime.datetime(2020, 7, 29, 0, 0),\n",
       "       datetime.datetime(2020, 7, 30, 0, 0),\n",
       "       datetime.datetime(2020, 8, 7, 0, 0),\n",
       "       datetime.datetime(2020, 8, 14, 0, 0)], dtype=object)"
      ]
     },
     "execution_count": 19,
     "metadata": {},
     "output_type": "execute_result"
    }
   ],
   "source": [
    "dates_monitor = []\n",
    "dates = data_list[0].cropped_dates\n",
    "\n",
    "# collect dates for monitor period\n",
    "for i in range(len(dates)):\n",
    "    if start_monitor <= dates[i]:\n",
    "        dates_monitor.append(dates[i])\n",
    "dates_array = np.array(dates_monitor) # dates_array is the dates that are in the monitoring period\n",
    "\n",
    "dates_array"
   ]
  },
  {
   "cell_type": "markdown",
   "metadata": {},
   "source": [
    "# Classify output for plotting"
   ]
  },
  {
   "cell_type": "code",
   "execution_count": 20,
   "metadata": {},
   "outputs": [
    {
     "name": "stdout",
     "output_type": "stream",
     "text": [
      "{2018: 0, 2019: 23, 2020: 93}\n",
      "first\n",
      "mid\n",
      "last\n",
      "[[0.00000e+00 1.50900e+04]\n",
      " [1.00000e+00 5.85097e+05]\n",
      " [2.00000e+00 6.71384e+05]\n",
      " [        nan 1.00000e+00]\n",
      " [        nan 1.00000e+00]\n",
      " [        nan 1.00000e+00]\n",
      " [        nan 1.00000e+00]\n",
      " [        nan 1.00000e+00]\n",
      " [        nan 1.00000e+00]\n",
      " [        nan 1.00000e+00]]\n"
     ]
    },
    {
     "data": {
      "image/png": "[encoded data removed]",
      "text/plain": [
       "<Figure size 432x72 with 1 Axes>"
      ]
     },
     "metadata": {
      "needs_background": "light"
     },
     "output_type": "display_data"
    }
   ],
   "source": [
    "idx_starts = {}\n",
    "\n",
    "# this gives the index of all the data points in the year and after\n",
    "for year in range(start_monitor.year,end_monitor.year+1):\n",
    "    idx_starts[year] = np.argmax((dates_array >= datetime(year, 1, 1)) > False) \n",
    "print(idx_starts)\n",
    "\n",
    "breaks_plot_years = copy.deepcopy(breaks_plot)\n",
    "\n",
    "#classifying for plotting\n",
    "ticklist=[]\n",
    "for idx, year in enumerate(idx_starts):\n",
    "    ticklist.append(str(year))\n",
    "    \n",
    "    # if we're at the last year\n",
    "    if idx == len(idx_starts)-1:\n",
    "        breaks_plot_years[np.where(idx_starts[year] < breaks_plot)] = len(idx_starts)-1 \n",
    "        print(\"last\")\n",
    "        continue\n",
    "    \n",
    "    # if we're at the first year\n",
    "    if idx == 0:\n",
    "        breaks_plot_years[breaks_plot <= idx_starts[year+1]] = 0\n",
    "        print(\"first\")\n",
    "        continue\n",
    "    \n",
    "    # all other years in between\n",
    "    breaks_plot_years[np.where(np.logical_and(idx_starts[year] < breaks_plot, breaks_plot <= idx_starts[year+1]))] = idx\n",
    "    print(\"mid\")\n",
    "\n",
    "\n",
    "save_plot(breaks_plot_years, output_dir, save_name = \"all_negative_breaks_years\")\n",
    "\n",
    "#breaks_plot_years = normalize(breaks_plot_years.astype('float'))\n",
    "#breaks_plot_years = (breaks_plot_years*255)\n",
    "unique, counts = np.unique(breaks_plot_years, return_counts=True)\n",
    "print(np.asarray((unique, counts)).T[0:10])"
   ]
  },
  {
   "cell_type": "markdown",
   "metadata": {},
   "source": [
    "# Plot output"
   ]
  },
  {
   "cell_type": "code",
   "execution_count": 21,
   "metadata": {
    "scrolled": false
   },
   "outputs": [
    {
     "name": "stderr",
     "output_type": "stream",
     "text": [
      "/usr/local/lib/python3.6/dist-packages/ipykernel_launcher.py:18: MatplotlibDeprecationWarning: Passing parameters norm and vmin/vmax simultaneously is deprecated since 3.3 and will become an error two minor releases later. Please pass vmin/vmax directly to the norm when creating it.\n"
     ]
    },
    {
     "data": {
      "image/png": "[encoded data removed]",
      "text/plain": [
       "<Figure size 3600x3600 with 2 Axes>"
      ]
     },
     "metadata": {
      "needs_background": "light"
     },
     "output_type": "display_data"
    },
    {
     "data": {
      "image/png": "[encoded data removed]",
      "text/plain": [
       "<Figure size 432x72 with 1 Axes>"
      ]
     },
     "metadata": {
      "needs_background": "light"
     },
     "output_type": "display_data"
    }
   ],
   "source": [
    "bins = len(idx_starts)\n",
    "\n",
    "cmap = plt.get_cmap(\"Spectral\")\n",
    "cmaplist = [cmap(i) for i in range(cmap.N)]\n",
    "cmap = cmap.from_list('Custom cmap', cmaplist, cmap.N)\n",
    "\n",
    "bounds = np.linspace(0, bins-1, bins) #third number is the amount of bins in the colorbar 0=0, 6 = ncolors, 7= nyears\n",
    "norm = matplotlib.colors.BoundaryNorm(bounds, cmap.N)\n",
    "fig, axes = plt.subplots(nrows=1, ncols=1, figsize=(50, 50))\n",
    "\n",
    "#norm doesn't work with bins = 2 or less... now the colorbar is ugly, fix it later\n",
    "\n",
    "if bins == 1:\n",
    "    im = axes.imshow(breaks_plot_years,cmap=cmap,vmin=0,vmax=bins)\n",
    "if bins == 2:\n",
    "    im = axes.imshow(breaks_plot_years,cmap=cmap,vmin=0,vmax=bins)\n",
    "else:\n",
    "    im = axes.imshow(breaks_plot_years, cmap=cmap, vmin=0, vmax=bins, norm=norm)\n",
    "\n",
    "fig.subplots_adjust(right=0.8)\n",
    "cbar_ax = fig.add_axes([0.85, 0.15, 0.05, 0.7])\n",
    "fig.colorbar(im, cax=cbar_ax, ticks=range(bins))\n",
    "labels = cbar_ax.set_yticklabels(ticklist)\n",
    "\n",
    "plt.show()\n",
    "\n",
    "save_plot(breaks_plot_years, output_dir, save_name = \"breaks_per_year\")"
   ]
  },
  {
   "cell_type": "code",
   "execution_count": 22,
   "metadata": {},
   "outputs": [
    {
     "name": "stdout",
     "output_type": "stream",
     "text": [
      "min_lat  5.17779946613651\n",
      "max_lat  3.176802170760274\n",
      "min_lon  -60.4392811362603\n",
      "max_lon  -59.386635286329046\n"
     ]
    }
   ],
   "source": [
    "# set corners\n",
    "min_lat = data_list[0].latitude\n",
    "max_lat = data_list[0].latitude\n",
    "min_lon = data_list[0].longitude\n",
    "max_lon = data_list[0].longitude\n",
    "\n",
    "for i in range(len(data_list)):\n",
    "    if data_list[i].latitude > min_lat:\n",
    "        min_lat = data_list[i].latitude\n",
    "    if data_list[i].longitude < min_lon:\n",
    "        min_lon = data_list[i].longitude\n",
    "        \n",
    "    if data_list[i].latitude < max_lat:\n",
    "        max_lat = data_list[i].latitude - data_list[i].nrows*data_list[i].xpixelsize\n",
    "    if data_list[i].longitude > max_lon:\n",
    "        max_lon = data_list[i].longitude + data_list[i].ncols*data_list[i].xpixelsize\n",
    "\n",
    "print(\"min_lat \" , min_lat)\n",
    "print(\"max_lat \" , max_lat)\n",
    "print(\"min_lon \" , min_lon)\n",
    "print(\"max_lon \" , max_lon)\n",
    "corner_dict = {\"min_lat\": min_lat,\"max_lat\": max_lat,\"min_lon\": min_lon,\"max_lon\": max_lon}\n",
    "\n",
    "\n",
    "with open(output_dir + \"/\" + \"corners.json\",\"w\") as f:\n",
    "    json.dump(corner_dict, f)"
   ]
  },
  {
   "cell_type": "markdown",
   "metadata": {},
   "source": [
    "## Plot all of your segments and save as a html map"
   ]
  },
  {
   "cell_type": "code",
   "execution_count": 23,
   "metadata": {},
   "outputs": [
    {
     "data": {
      "application/vnd.jupyter.widget-view+json": {
       "model_id": "58d30169d65d4a0ca15330224371b7c5",
       "version_major": 2,
       "version_minor": 0
      },
      "text/plain": [
       "interactive(children=(Dropdown(description='data to plot', index=2, layout=Layout(height='auto', width='500px'…"
      ]
     },
     "metadata": {},
     "output_type": "display_data"
    }
   ],
   "source": [
    "display(plot_display_data_chooser)"
   ]
  },
  {
   "cell_type": "code",
   "execution_count": null,
   "metadata": {
    "scrolled": false
   },
   "outputs": [],
   "source": [
    "from folium.plugins import FloatImage\n",
    "import base64\n",
    "\n",
    "import json\n",
    "# have the user choose a type of output plot with a widget \n",
    "#plot_name = \"all_negative_means.png\"\n",
    "\n",
    "\n",
    "m = merge_plots(base_output_dir=base_output_dir,plot_name=plot_display_data_chooser.result + \".png\")\n",
    "\n",
    "#m = merge_plots(base_output_dir=base_output_dir,plot_name=\"breaks_per_year.png\")\n",
    "\n",
    "\n",
    "####\n",
    "# resolution, width, height = 75, 4,4\n",
    "# encoded = base64.b64encode(open(\"output/testcolorbar.png\", 'rb').read()).decode()\n",
    "# from folium import IFrame\n",
    "\n",
    "# html = '<img src=\"data:image/png;base64,{}\">'.format\n",
    "# iframe = IFrame(html(encoded), width=(width*resolution)+20, height=(height*resolution)+20)\n",
    "# popup = folium.Popup(iframe, max_width=2650)\n",
    "\n",
    "# icon = folium.Icon(color=\"red\", icon=\"ok\")\n",
    "# marker = folium.Marker([data_list[0].latitude, data_list[0].longitude], popup=popup, icon=icon)\n",
    "# marker.add_to(m)\n",
    "####\n",
    "\n",
    "\n",
    "#m.save('output/' + output_directory_chooser.result + \"_\" + plot_display_data_chooser.result + \".html\")\n",
    "m"
   ]
  },
  {
   "cell_type": "code",
   "execution_count": null,
   "metadata": {},
   "outputs": [],
   "source": [
    "# from ipyleaflet import Map, basemaps, basemap_to_tiles, Marker\n",
    "# from ipyleaflet import Map, LayersControl, ImageOverlay\n",
    "\n",
    "# m = Map(center=(max_lat, min_lon), zoom=8)\n",
    "# url = \"stored_time_series/Guyana/image.png\"\n",
    "\n",
    "# image = ImageOverlay(url = url,\n",
    "#                      bounds=((min_lat, min_lon), (max_lat, max_lon)))\n",
    "\n",
    "# m.add_layer(Marker(location=(max_lat, min_lon)))\n",
    "\n",
    "# control = LayersControl(position='topright')\n",
    "# m.add_control(control)\n",
    "# m.add_layer(image);\n",
    "\n",
    "# m\n",
    "\n",
    "# #m.save('my_map.html', title='My Map')"
   ]
  }
 ],
 "metadata": {
  "kernelspec": {
   "display_name": "Python 3",
   "language": "python",
   "name": "python3"
  },
  "language_info": {
   "codemirror_mode": {
    "name": "ipython",
    "version": 3
   },
   "file_extension": ".py",
   "mimetype": "text/x-python",
   "name": "python",
   "nbconvert_exporter": "python",
   "pygments_lexer": "ipython3",
   "version": "3.6.9"
  }
 },
 "nbformat": 4,
 "nbformat_minor": 4
}
