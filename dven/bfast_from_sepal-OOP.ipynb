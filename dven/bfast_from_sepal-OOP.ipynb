{
 "cells": [
  {
   "cell_type": "markdown",
   "metadata": {},
   "source": [
    "# Bfastmonitor CPU using Python\n",
    "## This is bfastmonitor Python"
   ]
  },
  {
   "cell_type": "code",
   "execution_count": 1,
   "metadata": {},
   "outputs": [
    {
     "name": "stdout",
     "output_type": "stream",
     "text": [
      "\n",
      "    The timeseries class is a wrapper for using SEPAL timeseries data with bfast. \n",
      "    It wraps together the data tiles with associated dates files, and their metadata. \n",
      "    It also allows for saving and loading the output rasters. \n",
      "    \n"
     ]
    }
   ],
   "source": [
    "import os\n",
    "import wget\n",
    "import numpy as np\n",
    "from datetime import datetime\n",
    "\n",
    "from bfast import BFASTMonitor\n",
    "from bfast.utils import crop_data_dates\n",
    "\n",
    "import copy\n",
    "\n",
    "import matplotlib\n",
    "import matplotlib.pyplot as plt\n",
    "\n",
    "#from sar so extra\n",
    "import csv\n",
    "from shutil import copyfile\n",
    "import pandas as pd\n",
    "from osgeo import gdal\n",
    "from osgeo import gdal_array\n",
    "from osgeo import osr\n",
    "\n",
    "import time\n",
    "import ipywidgets as widgets\n",
    "\n",
    "from ipyfilechooser import FileChooser\n",
    "import folium\n",
    "\n",
    "from tqdm import tqdm\n",
    "\n",
    "#specific imports\n",
    "from functions import set_output_dir, get_size, get_data_dict, merge_tiles\n",
    "\n",
    "# Import the Timeseries class\n",
    "from time_series import Timeseries\n",
    "print(Timeseries.__doc__)"
   ]
  },
  {
   "cell_type": "code",
   "execution_count": 2,
   "metadata": {},
   "outputs": [],
   "source": [
    "%matplotlib inline"
   ]
  },
  {
   "cell_type": "markdown",
   "metadata": {},
   "source": [
    "## Select a time series folder using ipyfilechooser. The standard download location is in downloads/time_series_name/[0,1,2..n]\n",
    "\n",
    "### Optional: select a name for your output folder. "
   ]
  },
  {
   "cell_type": "code",
   "execution_count": 3,
   "metadata": {},
   "outputs": [
    {
     "data": {
      "application/vnd.jupyter.widget-view+json": {
       "model_id": "f2e4b6e6fcf94435b73e8b7f11645fd8",
       "version_major": 2,
       "version_minor": 0
      },
      "text/plain": [
       "FileChooser(path='/home/dven', filename='', title='HTML(value='', layout=Layout(display='none'))', show_hidden…"
      ]
     },
     "metadata": {},
     "output_type": "display_data"
    },
    {
     "data": {
      "application/vnd.jupyter.widget-view+json": {
       "model_id": "55e11ae67e1d4052899986ac3bdc03d5",
       "version_major": 2,
       "version_minor": 0
      },
      "text/plain": [
       "interactive(children=(Text(value='', description='Output storage name:', placeholder='output', style=Descripti…"
      ]
     },
     "metadata": {},
     "output_type": "display_data"
    }
   ],
   "source": [
    "from os.path import expanduser\n",
    "path = expanduser(\"~\")\n",
    "\n",
    "def g(directory):\n",
    "    return(directory)\n",
    "                          \n",
    "output_directory_chooser = widgets.interactive(g, \n",
    "                        directory=widgets.Text(description=\"Output storage name:\", \n",
    "                                               style = {'description_width': 'initial'},\n",
    "                                               placeholder = \"output\"))\n",
    "file_chooser = FileChooser(path)\n",
    "\n",
    "display(file_chooser)\n",
    "display(output_directory_chooser)\n",
    "\n"
   ]
  },
  {
   "cell_type": "code",
   "execution_count": 4,
   "metadata": {},
   "outputs": [
    {
     "name": "stdout",
     "output_type": "stream",
     "text": [
      "/home/dven/downloads/Time_series_2020-08-27_13-49-00_Portugal_all/8/\n",
      "Defaulting to output directory name \"output\" \n"
     ]
    }
   ],
   "source": [
    "timeseries_directory = file_chooser.selected\n",
    "\n",
    "if not timeseries_directory:\n",
    "    raise Exception(\"Please choose a time series directory above with the file selector\")\n",
    "else:\n",
    "    print(timeseries_directory)\n",
    "    set_output_dir(output_directory_chooser)"
   ]
  },
  {
   "cell_type": "markdown",
   "metadata": {},
   "source": [
    "# Load in data: if there are tiles in the directory, create a list and load per tile"
   ]
  },
  {
   "cell_type": "code",
   "execution_count": 5,
   "metadata": {
    "scrolled": true
   },
   "outputs": [
    {
     "name": "stdout",
     "output_type": "stream",
     "text": [
      "tile-0000000000-0000000000\n",
      "tile-0000000000-0000002048\n",
      "tile-0000000000-0000004096\n",
      "tile-0000000000-0000006144\n",
      "tile-0000002048-0000000000\n",
      "tile-0000002048-0000002048\n",
      "tile-0000002048-0000004096\n",
      "tile-0000002048-0000006144\n",
      "tile-0000004096-0000000000\n",
      "tile-0000004096-0000002048\n",
      "tile-0000004096-0000004096\n",
      "tile-0000004096-0000006144\n"
     ]
    }
   ],
   "source": [
    "# set paths to data\n",
    "dates_path = os.path.join(timeseries_directory, \"dates.csv\")\n",
    "data_list=[]\n",
    "tile_paths = []\n",
    "\n",
    "# check for tiles\n",
    "file_list = os.listdir(timeseries_directory)\n",
    "file_list.sort()\n",
    "for file in file_list:\n",
    "    if file.startswith('tile'):\n",
    "        print(file)\n",
    "        time_series_path =  timeseries_directory + file + \"/\"\n",
    "        tile_paths.append(time_series_path)\n"
   ]
  },
  {
   "cell_type": "code",
   "execution_count": 6,
   "metadata": {
    "scrolled": true
   },
   "outputs": [
    {
     "name": "stdout",
     "output_type": "stream",
     "text": [
      "Data consists of tiles, setting up tiles in 'data_list' \n"
     ]
    }
   ],
   "source": [
    "# # Set up list of time series tiles and their metadata\n",
    "if not tile_paths:\n",
    "    print(\"No tiles, setting up data as one tile\")\n",
    "    ts_data = Timeseries(timeseries_directory, dates_path)\n",
    "    data_list.append(ts_data)\n",
    "    \n",
    "else:\n",
    "    print(\"Data consists of tiles, setting up tiles in 'data_list' \")\n",
    "    for time_series_path in tile_paths:\n",
    "        ts_data = Timeseries(time_series_path, dates_path)\n",
    "        data_list.append(ts_data)"
   ]
  },
  {
   "cell_type": "markdown",
   "metadata": {},
   "source": [
    "### Check some metadata of the created Timeseries class"
   ]
  },
  {
   "cell_type": "code",
   "execution_count": 7,
   "metadata": {
    "scrolled": true
   },
   "outputs": [
    {
     "name": "stdout",
     "output_type": "stream",
     "text": [
      "projection:  GEOGCS[\"WGS 84\",DATUM[\"WGS_1984\",SPHEROID[\"WGS 84\",6378137,298.257223563,AUTHORITY[\"EPSG\",\"7030\"]],AUTHORITY[\"EPSG\",\"6326\"]],PRIMEM[\"Greenwich\",0],UNIT[\"degree\",0.0174532925199433,AUTHORITY[\"EPSG\",\"9122\"]],AXIS[\"Latitude\",NORTH],AXIS[\"Longitude\",EAST],AUTHORITY[\"EPSG\",\"4326\"]]\n",
      "pixel size:  0.0002694945852358576\n"
     ]
    },
    {
     "data": {
      "text/plain": [
       "[Timeseries: /home/dven/downloads/Time_series_2020-08-27_13-49-00_Portugal_all/8/tile-0000000000-0000000000/stack.vrt ,\n",
       " Timeseries: /home/dven/downloads/Time_series_2020-08-27_13-49-00_Portugal_all/8/tile-0000000000-0000002048/stack.vrt ,\n",
       " Timeseries: /home/dven/downloads/Time_series_2020-08-27_13-49-00_Portugal_all/8/tile-0000000000-0000004096/stack.vrt ,\n",
       " Timeseries: /home/dven/downloads/Time_series_2020-08-27_13-49-00_Portugal_all/8/tile-0000000000-0000006144/stack.vrt ,\n",
       " Timeseries: /home/dven/downloads/Time_series_2020-08-27_13-49-00_Portugal_all/8/tile-0000002048-0000000000/stack.vrt ,\n",
       " Timeseries: /home/dven/downloads/Time_series_2020-08-27_13-49-00_Portugal_all/8/tile-0000002048-0000002048/stack.vrt ,\n",
       " Timeseries: /home/dven/downloads/Time_series_2020-08-27_13-49-00_Portugal_all/8/tile-0000002048-0000004096/stack.vrt ,\n",
       " Timeseries: /home/dven/downloads/Time_series_2020-08-27_13-49-00_Portugal_all/8/tile-0000002048-0000006144/stack.vrt ,\n",
       " Timeseries: /home/dven/downloads/Time_series_2020-08-27_13-49-00_Portugal_all/8/tile-0000004096-0000000000/stack.vrt ,\n",
       " Timeseries: /home/dven/downloads/Time_series_2020-08-27_13-49-00_Portugal_all/8/tile-0000004096-0000002048/stack.vrt ,\n",
       " Timeseries: /home/dven/downloads/Time_series_2020-08-27_13-49-00_Portugal_all/8/tile-0000004096-0000004096/stack.vrt ,\n",
       " Timeseries: /home/dven/downloads/Time_series_2020-08-27_13-49-00_Portugal_all/8/tile-0000004096-0000006144/stack.vrt ]"
      ]
     },
     "execution_count": 7,
     "metadata": {},
     "output_type": "execute_result"
    }
   ],
   "source": [
    "# data_list = data_list[0:2]\n",
    "#ts_data = data_list[0]\n",
    "print(\"projection: \", data_list[0].projection)\n",
    "print(\"pixel size: \", data_list[0].xpixelsize)\n",
    "#ts_data.log_output_to_txt()\n",
    "\n",
    "#data_list = data_list[0:6]\n",
    "#data_list = data_list[3:6]\n",
    "data_list"
   ]
  },
  {
   "cell_type": "markdown",
   "metadata": {},
   "source": [
    "# Set parameters"
   ]
  },
  {
   "cell_type": "code",
   "execution_count": 8,
   "metadata": {},
   "outputs": [],
   "source": [
    "# parameters\n",
    "k = 3\n",
    "freq = 365\n",
    "trend = True\n",
    "hfrac = 0.25\n",
    "level = 0.05\n",
    "position = (100,100)\n",
    "\n",
    "backend = 'opencl'\n",
    "verbose = 1\n",
    "device_id = 0\n",
    "\n",
    "\n",
    "# start_hist = datetime(2018, 1, 1)\n",
    "# start_monitor = datetime(2019, 1, 1)\n",
    "# end_monitor = datetime(2020, 1, 1)\n"
   ]
  },
  {
   "cell_type": "markdown",
   "metadata": {},
   "source": [
    "# Select monitoring period"
   ]
  },
  {
   "cell_type": "code",
   "execution_count": 9,
   "metadata": {},
   "outputs": [
    {
     "name": "stdout",
     "output_type": "stream",
     "text": [
      "start monitoring period 2016-02-05 00:00:00\n"
     ]
    },
    {
     "data": {
      "application/vnd.jupyter.widget-view+json": {
       "model_id": "885b6c46acae43ccb96747d33aa58f85",
       "version_major": 2,
       "version_minor": 0
      },
      "text/plain": [
       "interactive(children=(SelectionRangeSlider(description='Select the monitoring date range: ', index=(0, 1657), …"
      ]
     },
     "metadata": {},
     "output_type": "display_data"
    },
    {
     "data": {
      "application/vnd.jupyter.widget-view+json": {
       "model_id": "f8e67e9bd6d04350800923ba314f9d44",
       "version_major": 2,
       "version_minor": 0
      },
      "text/plain": [
       "interactive(children=(SelectionSlider(description='Start history period:', options=(('2016-02-05', Timestamp('…"
      ]
     },
     "metadata": {},
     "output_type": "display_data"
    }
   ],
   "source": [
    "dates = ts_data.dates\n",
    "start_date = dates[10] # 0 or 10 does not work.. 100 did\n",
    "print(\"start monitoring period\",start_date)\n",
    "end_date = dates[-1]\n",
    "\n",
    "def h(y):\n",
    "    return(y)\n",
    "\n",
    "pandas_dates = pd.date_range(start_date, end_date, freq='D')\n",
    "\n",
    "options =  [(date.strftime('%Y-%m-%d'),date) for date in pandas_dates]\n",
    "index = (0, len(options)-1)\n",
    "\n",
    "\n",
    "monitoring_period = widgets.interactive(h,\n",
    "                                     y=widgets.SelectionRangeSlider(\n",
    "                                            options=options,\n",
    "                                            index=index,\n",
    "                                            description='Select the monitoring date range: ',\n",
    "                                            style = {'description_width': 'initial'},\n",
    "                                            orientation='horizontal',\n",
    "                                            layout={'width': '800px',\"height\":\"50px\"}))\n",
    "\n",
    "\n",
    "history_period = widgets.interactive(h, \n",
    "                                     y=widgets.SelectionSlider(description=\"Start history period:\", \n",
    "                                            options = options,\n",
    "                                            style = {'description_width': 'initial'}))\n",
    "\n",
    "display(monitoring_period)\n",
    "display(history_period)"
   ]
  },
  {
   "cell_type": "code",
   "execution_count": 10,
   "metadata": {},
   "outputs": [
    {
     "name": "stdout",
     "output_type": "stream",
     "text": [
      "start monitor:  2018-09-14 00:00:00\n",
      "end monitor:  2020-08-19 00:00:00\n",
      "start history:  2016-02-05 00:00:00\n"
     ]
    }
   ],
   "source": [
    "start_monitor, end_monitor = monitoring_period.result\n",
    "start_hist = history_period.result\n",
    "\n",
    "if history_period.result > start_monitor:\n",
    "    raise Exception(\"Your history period must start before the monitoring period\")\n",
    "\n",
    "start_monitor = datetime(2018, 9, 14)\n",
    "\n",
    "print(\"start monitor: \", start_monitor)\n",
    "print(\"end monitor: \", end_monitor)\n",
    "print(\"start history: \", start_hist)"
   ]
  },
  {
   "cell_type": "markdown",
   "metadata": {},
   "source": [
    "### Loop over tiles, (or single tile), in data_list\n",
    "### Alternatively, if your means and breaks arrays already exist, skip this code and run load from file in the next block"
   ]
  },
  {
   "cell_type": "code",
   "execution_count": null,
   "metadata": {
    "scrolled": true
   },
   "outputs": [
    {
     "name": "stderr",
     "output_type": "stream",
     "text": [
      "Processing tile 1 out of 12:   0%|          | 0/12 [00:00<?, ?it/s]\n",
      "  0%|          | 0/16.0 [00:00<?, ?it/s]\u001b[A\n",
      "Processing blocks of tile::   0%|          | 0/16.0 [00:00<?, ?it/s]\u001b[A"
     ]
    },
    {
     "name": "stdout",
     "output_type": "stream",
     "text": [
      "[<pyopencl.Device 'Tesla T4' on 'NVIDIA CUDA' at 0x3fc4c80>]\n",
      "rastersize:  2048 2048\n",
      "The natural block size is the block size that is most efficient for accessing the format, gdal found blocksize:  [128, 128]\n",
      "set blocksize explicitly:  512 ,  512\n",
      "bytes required:  18991808512\n",
      "start monitor:  2018-09-14 00:00:00\n",
      "end monitor:  2020-08-19 00:00:00\n",
      "start history:  2016-02-05 00:00:00\n",
      "0 0 512 512\n",
      "cropped\n"
     ]
    },
    {
     "name": "stderr",
     "output_type": "stream",
     "text": [
      "/usr/local/lib/python3.6/dist-packages/bfast/monitor/opencl/bfastfinal.py:17894: RuntimeWarning: overflow encountered in int_scalars\n",
      "  num_threads_32532 = (n_30761 * convop_x_37235)\n",
      "\n",
      "Processing blocks of tile::  12%|█▎        | 2/16.0 [00:06<00:48,  3.44s/it]\u001b[A"
     ]
    },
    {
     "name": "stdout",
     "output_type": "stream",
     "text": [
      "--- runtime for data initialization:\t\t0.0019080638885498047\n",
      "--- runtime for data transfer (host->device):\t0.06062769889831543\n",
      "--- runtime for data preprocessing:\t\t0.010737895965576172\n",
      "--- runtime for kernel execution:\t\t0.11266160011291504\n",
      "--- runtime for data transfer (device->host):\t0.012191295623779297\n",
      "512 0 512 512\n",
      "cropped\n",
      "--- runtime for data initialization:\t\t0.0017387866973876953\n",
      "--- runtime for data transfer (host->device):\t0.060762643814086914\n",
      "--- runtime for data preprocessing:\t\t0.010175943374633789\n",
      "--- runtime for kernel execution:\t\t0.11910009384155273\n"
     ]
    },
    {
     "name": "stderr",
     "output_type": "stream",
     "text": [
      "/usr/local/lib/python3.6/dist-packages/bfast/monitor/opencl/bfastfinal.py:17894: RuntimeWarning: overflow encountered in int_scalars\n",
      "  num_threads_32532 = (n_30761 * convop_x_37235)\n",
      "\n",
      "Processing blocks of tile::  19%|█▉        | 3/16.0 [00:13<00:56,  4.36s/it]\u001b[A"
     ]
    },
    {
     "name": "stdout",
     "output_type": "stream",
     "text": [
      "--- runtime for data transfer (device->host):\t0.015592575073242188\n",
      "1024 0 512 512\n",
      "cropped\n"
     ]
    },
    {
     "name": "stderr",
     "output_type": "stream",
     "text": [
      "/usr/local/lib/python3.6/dist-packages/bfast/monitor/opencl/bfastfinal.py:17894: RuntimeWarning: overflow encountered in int_scalars\n",
      "  num_threads_32532 = (n_30761 * convop_x_37235)\n",
      "\n",
      "Processing blocks of tile::  25%|██▌       | 4/16.0 [00:19<00:58,  4.89s/it]\u001b[A"
     ]
    },
    {
     "name": "stdout",
     "output_type": "stream",
     "text": [
      "--- runtime for data initialization:\t\t0.0017628669738769531\n",
      "--- runtime for data transfer (host->device):\t0.06079459190368652\n",
      "--- runtime for data preprocessing:\t\t0.009424924850463867\n",
      "--- runtime for kernel execution:\t\t0.09342527389526367\n",
      "--- runtime for data transfer (device->host):\t0.00994563102722168\n",
      "1536 0 512 512\n",
      "cropped\n"
     ]
    },
    {
     "name": "stderr",
     "output_type": "stream",
     "text": [
      "/usr/local/lib/python3.6/dist-packages/bfast/monitor/opencl/bfastfinal.py:17894: RuntimeWarning: overflow encountered in int_scalars\n",
      "  num_threads_32532 = (n_30761 * convop_x_37235)\n",
      "\n",
      "Processing blocks of tile::  31%|███▏      | 5/16.0 [00:26<00:59,  5.37s/it]\u001b[A"
     ]
    },
    {
     "name": "stdout",
     "output_type": "stream",
     "text": [
      "--- runtime for data initialization:\t\t0.001789093017578125\n",
      "--- runtime for data transfer (host->device):\t0.06067967414855957\n",
      "--- runtime for data preprocessing:\t\t0.009763479232788086\n",
      "--- runtime for kernel execution:\t\t0.11026310920715332\n",
      "--- runtime for data transfer (device->host):\t0.014055967330932617\n",
      "0 512 512 512\n",
      "cropped\n",
      "--- runtime for data initialization:\t\t0.001760721206665039\n",
      "--- runtime for data transfer (host->device):\t0.06085538864135742\n",
      "--- runtime for data preprocessing:\t\t0.010747909545898438\n"
     ]
    },
    {
     "name": "stderr",
     "output_type": "stream",
     "text": [
      "/usr/local/lib/python3.6/dist-packages/bfast/monitor/opencl/bfastfinal.py:17894: RuntimeWarning: overflow encountered in int_scalars\n",
      "  num_threads_32532 = (n_30761 * convop_x_37235)\n",
      "\n",
      "Processing blocks of tile::  38%|███▊      | 6/16.0 [00:32<00:57,  5.71s/it]\u001b[A"
     ]
    },
    {
     "name": "stdout",
     "output_type": "stream",
     "text": [
      "--- runtime for kernel execution:\t\t0.13031697273254395\n",
      "--- runtime for data transfer (device->host):\t0.01739048957824707\n",
      "512 512 512 512\n",
      "cropped\n",
      "--- runtime for data initialization:\t\t0.001773834228515625\n",
      "--- runtime for data transfer (host->device):\t0.06065845489501953\n",
      "--- runtime for data preprocessing:\t\t0.010605096817016602\n",
      "--- runtime for kernel execution:\t\t0.12764310836791992\n"
     ]
    },
    {
     "name": "stderr",
     "output_type": "stream",
     "text": [
      "/usr/local/lib/python3.6/dist-packages/bfast/monitor/opencl/bfastfinal.py:17894: RuntimeWarning: overflow encountered in int_scalars\n",
      "  num_threads_32532 = (n_30761 * convop_x_37235)\n",
      "\n",
      "Processing blocks of tile::  44%|████▍     | 7/16.0 [00:39<00:53,  5.97s/it]\u001b[A"
     ]
    },
    {
     "name": "stdout",
     "output_type": "stream",
     "text": [
      "--- runtime for data transfer (device->host):\t0.017119884490966797\n",
      "1024 512 512 512\n",
      "cropped\n"
     ]
    },
    {
     "name": "stderr",
     "output_type": "stream",
     "text": [
      "/usr/local/lib/python3.6/dist-packages/bfast/monitor/opencl/bfastfinal.py:17894: RuntimeWarning: overflow encountered in int_scalars\n",
      "  num_threads_32532 = (n_30761 * convop_x_37235)\n",
      "\n",
      "Processing blocks of tile::  50%|█████     | 8/16.0 [00:45<00:49,  6.14s/it]\u001b[A"
     ]
    },
    {
     "name": "stdout",
     "output_type": "stream",
     "text": [
      "--- runtime for data initialization:\t\t0.0017769336700439453\n",
      "--- runtime for data transfer (host->device):\t0.06069636344909668\n",
      "--- runtime for data preprocessing:\t\t0.009405374526977539\n",
      "--- runtime for kernel execution:\t\t0.09529376029968262\n",
      "--- runtime for data transfer (device->host):\t0.010946273803710938\n",
      "1536 512 512 512\n",
      "cropped\n",
      "--- runtime for data initialization:\t\t0.001813650131225586\n",
      "--- runtime for data transfer (host->device):\t0.06072878837585449\n",
      "--- runtime for data preprocessing:\t\t0.011783599853515625\n"
     ]
    },
    {
     "name": "stderr",
     "output_type": "stream",
     "text": [
      "/usr/local/lib/python3.6/dist-packages/bfast/monitor/opencl/bfastfinal.py:17894: RuntimeWarning: overflow encountered in int_scalars\n",
      "  num_threads_32532 = (n_30761 * convop_x_37235)\n",
      "\n",
      "Processing blocks of tile::  56%|█████▋    | 9/16.0 [00:52<00:44,  6.32s/it]\u001b[A"
     ]
    },
    {
     "name": "stdout",
     "output_type": "stream",
     "text": [
      "--- runtime for kernel execution:\t\t0.13002467155456543\n",
      "--- runtime for data transfer (device->host):\t0.017548799514770508\n",
      "0 1024 512 512\n",
      "cropped\n",
      "--- runtime for data initialization:\t\t0.0017538070678710938\n",
      "--- runtime for data transfer (host->device):\t0.06068849563598633\n",
      "--- runtime for data preprocessing:\t\t0.010266780853271484\n",
      "--- runtime for kernel execution:\t\t0.12098455429077148\n"
     ]
    },
    {
     "name": "stderr",
     "output_type": "stream",
     "text": [
      "/usr/local/lib/python3.6/dist-packages/bfast/monitor/opencl/bfastfinal.py:17894: RuntimeWarning: overflow encountered in int_scalars\n",
      "  num_threads_32532 = (n_30761 * convop_x_37235)\n",
      "\n",
      "Processing blocks of tile::  62%|██████▎   | 10/16.0 [00:58<00:38,  6.41s/it]\u001b[A"
     ]
    },
    {
     "name": "stdout",
     "output_type": "stream",
     "text": [
      "--- runtime for data transfer (device->host):\t0.01392054557800293\n",
      "512 1024 512 512\n",
      "cropped\n",
      "--- runtime for data initialization:\t\t0.0017931461334228516\n",
      "--- runtime for data transfer (host->device):\t0.0606541633605957\n",
      "--- runtime for data preprocessing:\t\t0.011372566223144531\n",
      "--- runtime for kernel execution:\t\t0.12093138694763184\n"
     ]
    },
    {
     "name": "stderr",
     "output_type": "stream",
     "text": [
      "/usr/local/lib/python3.6/dist-packages/bfast/monitor/opencl/bfastfinal.py:17894: RuntimeWarning: overflow encountered in int_scalars\n",
      "  num_threads_32532 = (n_30761 * convop_x_37235)\n",
      "\n",
      "Processing blocks of tile::  69%|██████▉   | 11/16.0 [01:05<00:32,  6.46s/it]\u001b[A"
     ]
    },
    {
     "name": "stdout",
     "output_type": "stream",
     "text": [
      "--- runtime for data transfer (device->host):\t0.01606464385986328\n",
      "1024 1024 512 512\n",
      "cropped\n"
     ]
    },
    {
     "name": "stderr",
     "output_type": "stream",
     "text": [
      "/usr/local/lib/python3.6/dist-packages/bfast/monitor/opencl/bfastfinal.py:17894: RuntimeWarning: overflow encountered in int_scalars\n",
      "  num_threads_32532 = (n_30761 * convop_x_37235)\n",
      "\n",
      "Processing blocks of tile::  75%|███████▌  | 12/16.0 [01:12<00:25,  6.48s/it]\u001b[A"
     ]
    },
    {
     "name": "stdout",
     "output_type": "stream",
     "text": [
      "--- runtime for data initialization:\t\t0.0017671585083007812\n",
      "--- runtime for data transfer (host->device):\t0.060564517974853516\n",
      "--- runtime for data preprocessing:\t\t0.009396553039550781\n",
      "--- runtime for kernel execution:\t\t0.0957789421081543\n",
      "--- runtime for data transfer (device->host):\t0.010985374450683594\n",
      "1536 1024 512 512\n",
      "cropped\n"
     ]
    },
    {
     "name": "stderr",
     "output_type": "stream",
     "text": [
      "/usr/local/lib/python3.6/dist-packages/bfast/monitor/opencl/bfastfinal.py:17894: RuntimeWarning: overflow encountered in int_scalars\n",
      "  num_threads_32532 = (n_30761 * convop_x_37235)\n",
      "\n",
      "Processing blocks of tile::  81%|████████▏ | 13/16.0 [01:19<00:19,  6.64s/it]\u001b[A"
     ]
    },
    {
     "name": "stdout",
     "output_type": "stream",
     "text": [
      "--- runtime for data initialization:\t\t0.0018148422241210938\n",
      "--- runtime for data transfer (host->device):\t0.06064176559448242\n",
      "--- runtime for data preprocessing:\t\t0.009417533874511719\n",
      "--- runtime for kernel execution:\t\t0.09315609931945801\n",
      "--- runtime for data transfer (device->host):\t0.009978055953979492\n",
      "0 1536 512 512\n",
      "cropped\n",
      "--- runtime for data initialization:\t\t0.001737833023071289\n",
      "--- runtime for data transfer (host->device):\t0.06061196327209473\n",
      "--- runtime for data preprocessing:\t\t0.010650396347045898\n",
      "--- runtime for kernel execution:\t\t0.12804436683654785\n"
     ]
    },
    {
     "name": "stderr",
     "output_type": "stream",
     "text": [
      "/usr/local/lib/python3.6/dist-packages/bfast/monitor/opencl/bfastfinal.py:17894: RuntimeWarning: overflow encountered in int_scalars\n",
      "  num_threads_32532 = (n_30761 * convop_x_37235)\n",
      "\n",
      "Processing blocks of tile::  88%|████████▊ | 14/16.0 [01:25<00:13,  6.62s/it]\u001b[A"
     ]
    },
    {
     "name": "stdout",
     "output_type": "stream",
     "text": [
      "--- runtime for data transfer (device->host):\t0.016986846923828125\n",
      "512 1536 512 512\n",
      "cropped\n"
     ]
    },
    {
     "name": "stderr",
     "output_type": "stream",
     "text": [
      "/usr/local/lib/python3.6/dist-packages/bfast/monitor/opencl/bfastfinal.py:17894: RuntimeWarning: overflow encountered in int_scalars\n",
      "  num_threads_32532 = (n_30761 * convop_x_37235)\n",
      "\n",
      "Processing blocks of tile::  94%|█████████▍| 15/16.0 [01:32<00:06,  6.60s/it]\u001b[A"
     ]
    },
    {
     "name": "stdout",
     "output_type": "stream",
     "text": [
      "--- runtime for data initialization:\t\t0.0017368793487548828\n",
      "--- runtime for data transfer (host->device):\t0.060617923736572266\n",
      "--- runtime for data preprocessing:\t\t0.00949406623840332\n",
      "--- runtime for kernel execution:\t\t0.1044466495513916\n",
      "--- runtime for data transfer (device->host):\t0.01318669319152832\n",
      "1024 1536 512 512\n",
      "cropped\n",
      "--- runtime for data initialization:\t\t0.0017251968383789062\n",
      "--- runtime for data transfer (host->device):\t0.06064915657043457\n",
      "--- runtime for data preprocessing:\t\t0.010744094848632812\n"
     ]
    },
    {
     "name": "stderr",
     "output_type": "stream",
     "text": [
      "/usr/local/lib/python3.6/dist-packages/bfast/monitor/opencl/bfastfinal.py:17894: RuntimeWarning: overflow encountered in int_scalars\n",
      "  num_threads_32532 = (n_30761 * convop_x_37235)\n",
      "\n",
      "Processing blocks of tile:: 100%|██████████| 16/16.0 [01:38<00:00,  6.49s/it]\u001b[A"
     ]
    },
    {
     "name": "stdout",
     "output_type": "stream",
     "text": [
      "--- runtime for kernel execution:\t\t0.13036537170410156\n",
      "--- runtime for data transfer (device->host):\t0.017432689666748047\n",
      "1536 1536 512 512\n",
      "cropped\n",
      "--- runtime for data initialization:\t\t0.0017333030700683594\n",
      "--- runtime for data transfer (host->device):\t0.06056833267211914\n",
      "--- runtime for data preprocessing:\t\t0.010754823684692383\n"
     ]
    },
    {
     "name": "stderr",
     "output_type": "stream",
     "text": [
      "/usr/local/lib/python3.6/dist-packages/bfast/monitor/opencl/bfastfinal.py:17894: RuntimeWarning: overflow encountered in int_scalars\n",
      "  num_threads_32532 = (n_30761 * convop_x_37235)\n",
      "Processing blocks of tile:: 100%|██████████| 16/16.0 [01:45<00:00,  6.62s/it]\n"
     ]
    },
    {
     "name": "stdout",
     "output_type": "stream",
     "text": [
      "--- runtime for kernel execution:\t\t0.1300363540649414\n",
      "--- runtime for data transfer (device->host):\t0.017261743545532227\n",
      "Fitting model over all blocks took 105.92710423469543 seconds.\n",
      "#####################  555 ###############\n",
      "Monitoring starts at:  2018-09-14 00:00:00\n",
      "Monitoring ends at:  2020-08-19 00:00:00\n",
      "Dataset history starts at:  2016-02-05 00:00:00\n",
      "frequency:  365\n",
      "harmonic term:  3\n",
      "Hfrac: Float in the interval (0,1) specifying the bandwidth relative to the sample size in the MOSUM/ME monitoring processes.:  0.25\n",
      "Trend: Whether a tend offset term shall be used or not:  True\n",
      "Level: Significance level of the monitoring (and ROC, if selected) procedure, i.e., probability of type I error:  0.05\n",
      "backend: GPU opencl or CPU python:  opencl\n",
      "verbose: The verbosity level (0=no output, 1=output):  1\n",
      "output_arrays/Time_series_2020-08-27_13-49-00_Portugal_all-8-tile-0000000000-0000000000_means.npy\n",
      "output_arrays/Time_series_2020-08-27_13-49-00_Portugal_all-8-tile-0000000000-0000000000_breaks.npy\n"
     ]
    },
    {
     "name": "stderr",
     "output_type": "stream",
     "text": [
      "Processing tile 2 out of 12:   0%|          | 0/12 [01:46<?, ?it/s]\n",
      "  0%|          | 0/16.0 [00:00<?, ?it/s]\u001b[A\n",
      "Processing blocks of tile::   0%|          | 0/16.0 [00:00<?, ?it/s]\u001b[A"
     ]
    },
    {
     "name": "stdout",
     "output_type": "stream",
     "text": [
      "[<pyopencl.Device 'Tesla T4' on 'NVIDIA CUDA' at 0x3fc4c80>]\n",
      "rastersize:  2048 2048\n",
      "The natural block size is the block size that is most efficient for accessing the format, gdal found blocksize:  [128, 128]\n",
      "set blocksize explicitly:  512 ,  512\n",
      "bytes required:  18991808512\n",
      "start monitor:  2018-09-14 00:00:00\n",
      "end monitor:  2020-08-19 00:00:00\n",
      "start history:  2016-02-05 00:00:00\n",
      "0 0 512 512\n",
      "cropped\n",
      "--- runtime for data initialization:\t\t0.0017747879028320312\n",
      "--- runtime for data transfer (host->device):\t0.060625314712524414\n",
      "--- runtime for data preprocessing:\t\t0.010737895965576172\n"
     ]
    },
    {
     "name": "stderr",
     "output_type": "stream",
     "text": [
      "/usr/local/lib/python3.6/dist-packages/bfast/monitor/opencl/bfastfinal.py:17894: RuntimeWarning: overflow encountered in int_scalars\n",
      "  num_threads_32532 = (n_30761 * convop_x_37235)\n",
      "\n",
      "Processing blocks of tile::  12%|█▎        | 2/16.0 [00:07<00:52,  3.73s/it]\u001b[A"
     ]
    },
    {
     "name": "stdout",
     "output_type": "stream",
     "text": [
      "--- runtime for kernel execution:\t\t0.13007688522338867\n",
      "--- runtime for data transfer (device->host):\t0.01737046241760254\n",
      "512 0 512 512\n",
      "cropped\n"
     ]
    },
    {
     "name": "stderr",
     "output_type": "stream",
     "text": [
      "/usr/local/lib/python3.6/dist-packages/bfast/monitor/opencl/bfastfinal.py:17894: RuntimeWarning: overflow encountered in int_scalars\n",
      "  num_threads_32532 = (n_30761 * convop_x_37235)\n",
      "\n",
      "Processing blocks of tile::  19%|█▉        | 3/16.0 [00:15<01:04,  4.98s/it]\u001b[A"
     ]
    },
    {
     "name": "stdout",
     "output_type": "stream",
     "text": [
      "--- runtime for data initialization:\t\t0.0017445087432861328\n",
      "--- runtime for data transfer (host->device):\t0.06061816215515137\n",
      "--- runtime for data preprocessing:\t\t0.009247541427612305\n",
      "--- runtime for kernel execution:\t\t0.09519410133361816\n",
      "--- runtime for data transfer (device->host):\t0.007573843002319336\n",
      "1024 0 512 512\n",
      "cropped\n",
      "--- runtime for data initialization:\t\t0.0017712116241455078\n",
      "--- runtime for data transfer (host->device):\t0.06069207191467285\n",
      "--- runtime for data preprocessing:\t\t0.010722875595092773\n"
     ]
    },
    {
     "name": "stderr",
     "output_type": "stream",
     "text": [
      "/usr/local/lib/python3.6/dist-packages/bfast/monitor/opencl/bfastfinal.py:17894: RuntimeWarning: overflow encountered in int_scalars\n",
      "  num_threads_32532 = (n_30761 * convop_x_37235)\n",
      "\n",
      "Processing blocks of tile::  25%|██▌       | 4/16.0 [00:23<01:10,  5.89s/it]\u001b[A"
     ]
    },
    {
     "name": "stdout",
     "output_type": "stream",
     "text": [
      "--- runtime for kernel execution:\t\t0.13038253784179688\n",
      "--- runtime for data transfer (device->host):\t0.01745295524597168\n",
      "1536 0 512 512\n",
      "cropped\n",
      "--- runtime for data initialization:\t\t0.0017497539520263672\n",
      "--- runtime for data transfer (host->device):\t0.06074190139770508\n",
      "--- runtime for data preprocessing:\t\t0.010744571685791016\n"
     ]
    },
    {
     "name": "stderr",
     "output_type": "stream",
     "text": [
      "/usr/local/lib/python3.6/dist-packages/bfast/monitor/opencl/bfastfinal.py:17894: RuntimeWarning: overflow encountered in int_scalars\n",
      "  num_threads_32532 = (n_30761 * convop_x_37235)\n",
      "\n",
      "Processing blocks of tile::  31%|███▏      | 5/16.0 [00:31<01:11,  6.53s/it]\u001b[A"
     ]
    },
    {
     "name": "stdout",
     "output_type": "stream",
     "text": [
      "--- runtime for kernel execution:\t\t0.13045883178710938\n",
      "--- runtime for data transfer (device->host):\t0.015118837356567383\n",
      "0 512 512 512\n",
      "cropped\n"
     ]
    },
    {
     "name": "stderr",
     "output_type": "stream",
     "text": [
      "/usr/local/lib/python3.6/dist-packages/bfast/monitor/opencl/bfastfinal.py:17894: RuntimeWarning: overflow encountered in int_scalars\n",
      "  num_threads_32532 = (n_30761 * convop_x_37235)\n",
      "\n",
      "Processing blocks of tile::  38%|███▊      | 6/16.0 [00:39<01:08,  6.88s/it]\u001b[A"
     ]
    },
    {
     "name": "stdout",
     "output_type": "stream",
     "text": [
      "--- runtime for data initialization:\t\t0.0017545223236083984\n",
      "--- runtime for data transfer (host->device):\t0.060637474060058594\n",
      "--- runtime for data preprocessing:\t\t0.009402990341186523\n",
      "--- runtime for kernel execution:\t\t0.1032412052154541\n",
      "--- runtime for data transfer (device->host):\t0.013008594512939453\n",
      "512 512 512 512\n",
      "cropped\n"
     ]
    },
    {
     "name": "stderr",
     "output_type": "stream",
     "text": [
      "/usr/local/lib/python3.6/dist-packages/bfast/monitor/opencl/bfastfinal.py:17894: RuntimeWarning: overflow encountered in int_scalars\n",
      "  num_threads_32532 = (n_30761 * convop_x_37235)\n",
      "\n",
      "Processing blocks of tile::  44%|████▍     | 7/16.0 [00:47<01:04,  7.20s/it]\u001b[A"
     ]
    },
    {
     "name": "stdout",
     "output_type": "stream",
     "text": [
      "--- runtime for data initialization:\t\t0.0017633438110351562\n",
      "--- runtime for data transfer (host->device):\t0.06102895736694336\n",
      "--- runtime for data preprocessing:\t\t0.009557723999023438\n",
      "--- runtime for kernel execution:\t\t0.10570836067199707\n",
      "--- runtime for data transfer (device->host):\t0.013302087783813477\n",
      "1024 512 512 512\n",
      "cropped\n"
     ]
    },
    {
     "name": "stderr",
     "output_type": "stream",
     "text": [
      "/usr/local/lib/python3.6/dist-packages/bfast/monitor/opencl/bfastfinal.py:17894: RuntimeWarning: overflow encountered in int_scalars\n",
      "  num_threads_32532 = (n_30761 * convop_x_37235)\n",
      "\n",
      "Processing blocks of tile::  50%|█████     | 8/16.0 [00:54<00:59,  7.42s/it]\u001b[A"
     ]
    },
    {
     "name": "stdout",
     "output_type": "stream",
     "text": [
      "--- runtime for data initialization:\t\t0.0017924308776855469\n",
      "--- runtime for data transfer (host->device):\t0.060658931732177734\n",
      "--- runtime for data preprocessing:\t\t0.009643793106079102\n",
      "--- runtime for kernel execution:\t\t0.10738229751586914\n",
      "--- runtime for data transfer (device->host):\t0.013660430908203125\n",
      "1536 512 512 512\n",
      "cropped\n"
     ]
    },
    {
     "name": "stderr",
     "output_type": "stream",
     "text": [
      "/usr/local/lib/python3.6/dist-packages/bfast/monitor/opencl/bfastfinal.py:17894: RuntimeWarning: overflow encountered in int_scalars\n",
      "  num_threads_32532 = (n_30761 * convop_x_37235)\n",
      "\n",
      "Processing blocks of tile::  56%|█████▋    | 9/16.0 [01:02<00:53,  7.60s/it]\u001b[A"
     ]
    },
    {
     "name": "stdout",
     "output_type": "stream",
     "text": [
      "--- runtime for data initialization:\t\t0.0017595291137695312\n",
      "--- runtime for data transfer (host->device):\t0.060755014419555664\n",
      "--- runtime for data preprocessing:\t\t0.010488748550415039\n",
      "--- runtime for kernel execution:\t\t0.10301327705383301\n",
      "--- runtime for data transfer (device->host):\t0.01282644271850586\n",
      "0 1024 512 512\n",
      "cropped\n"
     ]
    },
    {
     "name": "stderr",
     "output_type": "stream",
     "text": [
      "/usr/local/lib/python3.6/dist-packages/bfast/monitor/opencl/bfastfinal.py:17894: RuntimeWarning: overflow encountered in int_scalars\n",
      "  num_threads_32532 = (n_30761 * convop_x_37235)\n",
      "\n",
      "Processing blocks of tile::  62%|██████▎   | 10/16.0 [01:10<00:46,  7.69s/it]\u001b[A"
     ]
    },
    {
     "name": "stdout",
     "output_type": "stream",
     "text": [
      "--- runtime for data initialization:\t\t0.0017247200012207031\n",
      "--- runtime for data transfer (host->device):\t0.06067967414855957\n",
      "--- runtime for data preprocessing:\t\t0.009331226348876953\n",
      "--- runtime for kernel execution:\t\t0.10071277618408203\n",
      "--- runtime for data transfer (device->host):\t0.012579679489135742\n",
      "512 1024 512 512\n",
      "cropped\n",
      "--- runtime for data initialization:\t\t0.0017457008361816406\n",
      "--- runtime for data transfer (host->device):\t0.060674190521240234\n",
      "--- runtime for data preprocessing:\t\t0.010828495025634766\n"
     ]
    },
    {
     "name": "stderr",
     "output_type": "stream",
     "text": [
      "/usr/local/lib/python3.6/dist-packages/bfast/monitor/opencl/bfastfinal.py:17894: RuntimeWarning: overflow encountered in int_scalars\n",
      "  num_threads_32532 = (n_30761 * convop_x_37235)\n",
      "\n",
      "Processing blocks of tile::  69%|██████▉   | 11/16.0 [01:18<00:38,  7.79s/it]\u001b[A"
     ]
    },
    {
     "name": "stdout",
     "output_type": "stream",
     "text": [
      "--- runtime for kernel execution:\t\t0.13024568557739258\n",
      "--- runtime for data transfer (device->host):\t0.017302274703979492\n",
      "1024 1024 512 512\n",
      "cropped\n"
     ]
    },
    {
     "name": "stderr",
     "output_type": "stream",
     "text": [
      "/usr/local/lib/python3.6/dist-packages/bfast/monitor/opencl/bfastfinal.py:17894: RuntimeWarning: overflow encountered in int_scalars\n",
      "  num_threads_32532 = (n_30761 * convop_x_37235)\n",
      "\n",
      "Processing blocks of tile::  75%|███████▌  | 12/16.0 [01:26<00:31,  7.82s/it]\u001b[A"
     ]
    },
    {
     "name": "stdout",
     "output_type": "stream",
     "text": [
      "--- runtime for data initialization:\t\t0.0017826557159423828\n",
      "--- runtime for data transfer (host->device):\t0.06069612503051758\n",
      "--- runtime for data preprocessing:\t\t0.00938105583190918\n",
      "--- runtime for kernel execution:\t\t0.09216976165771484\n",
      "--- runtime for data transfer (device->host):\t0.008808374404907227\n",
      "1536 1024 512 512\n",
      "cropped\n"
     ]
    },
    {
     "name": "stderr",
     "output_type": "stream",
     "text": [
      "/usr/local/lib/python3.6/dist-packages/bfast/monitor/opencl/bfastfinal.py:17894: RuntimeWarning: overflow encountered in int_scalars\n",
      "  num_threads_32532 = (n_30761 * convop_x_37235)\n",
      "\n",
      "Processing blocks of tile::  81%|████████▏ | 13/16.0 [01:34<00:23,  7.84s/it]\u001b[A"
     ]
    },
    {
     "name": "stdout",
     "output_type": "stream",
     "text": [
      "--- runtime for data initialization:\t\t0.0017583370208740234\n",
      "--- runtime for data transfer (host->device):\t0.06057548522949219\n",
      "--- runtime for data preprocessing:\t\t0.009482622146606445\n",
      "--- runtime for kernel execution:\t\t0.10440278053283691\n",
      "--- runtime for data transfer (device->host):\t0.01306009292602539\n",
      "0 1536 512 512\n",
      "cropped\n",
      "--- runtime for data initialization:\t\t0.0017390251159667969\n",
      "--- runtime for data transfer (host->device):\t0.060698747634887695\n",
      "--- runtime for data preprocessing:\t\t0.010786056518554688\n"
     ]
    },
    {
     "name": "stderr",
     "output_type": "stream",
     "text": [
      "/usr/local/lib/python3.6/dist-packages/bfast/monitor/opencl/bfastfinal.py:17894: RuntimeWarning: overflow encountered in int_scalars\n",
      "  num_threads_32532 = (n_30761 * convop_x_37235)\n",
      "\n",
      "Processing blocks of tile::  88%|████████▊ | 14/16.0 [01:42<00:15,  7.87s/it]\u001b[A"
     ]
    },
    {
     "name": "stdout",
     "output_type": "stream",
     "text": [
      "--- runtime for kernel execution:\t\t0.13041973114013672\n",
      "--- runtime for data transfer (device->host):\t0.0174257755279541\n",
      "512 1536 512 512\n",
      "cropped\n"
     ]
    },
    {
     "name": "stderr",
     "output_type": "stream",
     "text": [
      "/usr/local/lib/python3.6/dist-packages/bfast/monitor/opencl/bfastfinal.py:17894: RuntimeWarning: overflow encountered in int_scalars\n",
      "  num_threads_32532 = (n_30761 * convop_x_37235)\n",
      "\n",
      "Processing blocks of tile::  94%|█████████▍| 15/16.0 [01:50<00:07,  7.95s/it]\u001b[A"
     ]
    },
    {
     "name": "stdout",
     "output_type": "stream",
     "text": [
      "--- runtime for data initialization:\t\t0.0017480850219726562\n",
      "--- runtime for data transfer (host->device):\t0.06070232391357422\n",
      "--- runtime for data preprocessing:\t\t0.009421110153198242\n",
      "--- runtime for kernel execution:\t\t0.10327386856079102\n",
      "--- runtime for data transfer (device->host):\t0.012973546981811523\n",
      "1024 1536 512 512\n",
      "cropped\n"
     ]
    },
    {
     "name": "stderr",
     "output_type": "stream",
     "text": [
      "/usr/local/lib/python3.6/dist-packages/bfast/monitor/opencl/bfastfinal.py:17894: RuntimeWarning: overflow encountered in int_scalars\n",
      "  num_threads_32532 = (n_30761 * convop_x_37235)\n",
      "\n",
      "Processing blocks of tile:: 100%|██████████| 16/16.0 [01:58<00:00,  7.96s/it]\u001b[A"
     ]
    },
    {
     "name": "stdout",
     "output_type": "stream",
     "text": [
      "--- runtime for data initialization:\t\t0.0017404556274414062\n",
      "--- runtime for data transfer (host->device):\t0.06075882911682129\n",
      "--- runtime for data preprocessing:\t\t0.009444236755371094\n",
      "--- runtime for kernel execution:\t\t0.10323905944824219\n",
      "--- runtime for data transfer (device->host):\t0.012984991073608398\n",
      "1536 1536 512 512\n",
      "cropped\n",
      "--- runtime for data initialization:\t\t0.0017743110656738281\n",
      "--- runtime for data transfer (host->device):\t0.060717105865478516\n",
      "--- runtime for data preprocessing:\t\t0.010745525360107422\n"
     ]
    },
    {
     "name": "stderr",
     "output_type": "stream",
     "text": [
      "/usr/local/lib/python3.6/dist-packages/bfast/monitor/opencl/bfastfinal.py:17894: RuntimeWarning: overflow encountered in int_scalars\n",
      "  num_threads_32532 = (n_30761 * convop_x_37235)\n",
      "Processing blocks of tile:: 100%|██████████| 16/16.0 [02:06<00:00,  7.92s/it]\n"
     ]
    },
    {
     "name": "stdout",
     "output_type": "stream",
     "text": [
      "--- runtime for kernel execution:\t\t0.13039898872375488\n",
      "--- runtime for data transfer (device->host):\t0.01745152473449707\n",
      "Fitting model over all blocks took 126.68170976638794 seconds.\n",
      "#####################  555 ###############\n",
      "Monitoring starts at:  2018-09-14 00:00:00\n",
      "Monitoring ends at:  2020-08-19 00:00:00\n",
      "Dataset history starts at:  2016-02-05 00:00:00\n",
      "frequency:  365\n",
      "harmonic term:  3\n",
      "Hfrac: Float in the interval (0,1) specifying the bandwidth relative to the sample size in the MOSUM/ME monitoring processes.:  0.25\n",
      "Trend: Whether a tend offset term shall be used or not:  True\n",
      "Level: Significance level of the monitoring (and ROC, if selected) procedure, i.e., probability of type I error:  0.05\n",
      "backend: GPU opencl or CPU python:  opencl\n",
      "verbose: The verbosity level (0=no output, 1=output):  1\n",
      "output_arrays/Time_series_2020-08-27_13-49-00_Portugal_all-8-tile-0000000000-0000002048_means.npy\n",
      "output_arrays/Time_series_2020-08-27_13-49-00_Portugal_all-8-tile-0000000000-0000002048_breaks.npy\n"
     ]
    },
    {
     "name": "stderr",
     "output_type": "stream",
     "text": [
      "Processing tile 3 out of 12:   8%|▊         | 1/12 [03:53<23:19, 127.19s/it]\n",
      "  0%|          | 0/16.0 [00:00<?, ?it/s]\u001b[A\n",
      "Processing blocks of tile::   0%|          | 0/16.0 [00:00<?, ?it/s]\u001b[A"
     ]
    },
    {
     "name": "stdout",
     "output_type": "stream",
     "text": [
      "[<pyopencl.Device 'Tesla T4' on 'NVIDIA CUDA' at 0x3fc4c80>]\n",
      "rastersize:  2048 2048\n",
      "The natural block size is the block size that is most efficient for accessing the format, gdal found blocksize:  [128, 128]\n",
      "set blocksize explicitly:  512 ,  512\n",
      "bytes required:  18991808512\n",
      "start monitor:  2018-09-14 00:00:00\n",
      "end monitor:  2020-08-19 00:00:00\n",
      "start history:  2016-02-05 00:00:00\n",
      "0 0 512 512\n",
      "cropped\n",
      "--- runtime for data initialization:\t\t0.001749277114868164\n",
      "--- runtime for data transfer (host->device):\t0.06065726280212402\n",
      "--- runtime for data preprocessing:\t\t0.010803699493408203\n"
     ]
    },
    {
     "name": "stderr",
     "output_type": "stream",
     "text": [
      "/usr/local/lib/python3.6/dist-packages/bfast/monitor/opencl/bfastfinal.py:17894: RuntimeWarning: overflow encountered in int_scalars\n",
      "  num_threads_32532 = (n_30761 * convop_x_37235)\n",
      "\n",
      "Processing blocks of tile::  12%|█▎        | 2/16.0 [00:07<00:55,  3.94s/it]\u001b[A"
     ]
    },
    {
     "name": "stdout",
     "output_type": "stream",
     "text": [
      "--- runtime for kernel execution:\t\t0.13032269477844238\n",
      "--- runtime for data transfer (device->host):\t0.017354249954223633\n",
      "512 0 512 512\n",
      "cropped\n",
      "--- runtime for data initialization:\t\t0.0017609596252441406\n",
      "--- runtime for data transfer (host->device):\t0.06075096130371094\n",
      "--- runtime for data preprocessing:\t\t0.010741233825683594\n"
     ]
    },
    {
     "name": "stderr",
     "output_type": "stream",
     "text": [
      "/usr/local/lib/python3.6/dist-packages/bfast/monitor/opencl/bfastfinal.py:17894: RuntimeWarning: overflow encountered in int_scalars\n",
      "  num_threads_32532 = (n_30761 * convop_x_37235)\n",
      "\n",
      "Processing blocks of tile::  19%|█▉        | 3/16.0 [00:15<01:04,  4.93s/it]\u001b[A"
     ]
    },
    {
     "name": "stdout",
     "output_type": "stream",
     "text": [
      "--- runtime for kernel execution:\t\t0.13035917282104492\n",
      "--- runtime for data transfer (device->host):\t0.01751852035522461\n",
      "1024 0 512 512\n",
      "cropped\n"
     ]
    },
    {
     "name": "stderr",
     "output_type": "stream",
     "text": [
      "/usr/local/lib/python3.6/dist-packages/bfast/monitor/opencl/bfastfinal.py:17894: RuntimeWarning: overflow encountered in int_scalars\n",
      "  num_threads_32532 = (n_30761 * convop_x_37235)\n",
      "\n",
      "Processing blocks of tile::  25%|██▌       | 4/16.0 [00:21<01:06,  5.51s/it]\u001b[A"
     ]
    },
    {
     "name": "stdout",
     "output_type": "stream",
     "text": [
      "--- runtime for data initialization:\t\t0.0017414093017578125\n",
      "--- runtime for data transfer (host->device):\t0.06070518493652344\n",
      "--- runtime for data preprocessing:\t\t0.009379386901855469\n",
      "--- runtime for kernel execution:\t\t0.09287357330322266\n",
      "--- runtime for data transfer (device->host):\t0.008774280548095703\n",
      "1536 0 512 512\n",
      "cropped\n"
     ]
    },
    {
     "name": "stderr",
     "output_type": "stream",
     "text": [
      "/usr/local/lib/python3.6/dist-packages/bfast/monitor/opencl/bfastfinal.py:17894: RuntimeWarning: overflow encountered in int_scalars\n",
      "  num_threads_32532 = (n_30761 * convop_x_37235)\n",
      "\n",
      "Processing blocks of tile::  31%|███▏      | 5/16.0 [00:28<01:05,  5.92s/it]\u001b[A"
     ]
    },
    {
     "name": "stdout",
     "output_type": "stream",
     "text": [
      "--- runtime for data initialization:\t\t0.0017788410186767578\n",
      "--- runtime for data transfer (host->device):\t0.06070899963378906\n",
      "--- runtime for data preprocessing:\t\t0.009424209594726562\n",
      "--- runtime for kernel execution:\t\t0.09602999687194824\n",
      "--- runtime for data transfer (device->host):\t0.011234045028686523\n",
      "0 512 512 512\n",
      "cropped\n"
     ]
    },
    {
     "name": "stderr",
     "output_type": "stream",
     "text": [
      "/usr/local/lib/python3.6/dist-packages/bfast/monitor/opencl/bfastfinal.py:17894: RuntimeWarning: overflow encountered in int_scalars\n",
      "  num_threads_32532 = (n_30761 * convop_x_37235)\n",
      "\n",
      "Processing blocks of tile::  38%|███▊      | 6/16.0 [00:36<01:04,  6.49s/it]\u001b[A"
     ]
    },
    {
     "name": "stdout",
     "output_type": "stream",
     "text": [
      "--- runtime for data initialization:\t\t0.0018138885498046875\n",
      "--- runtime for data transfer (host->device):\t0.06062912940979004\n",
      "--- runtime for data preprocessing:\t\t0.009439706802368164\n",
      "--- runtime for kernel execution:\t\t0.09727621078491211\n",
      "--- runtime for data transfer (device->host):\t0.011607646942138672\n",
      "512 512 512 512\n",
      "cropped\n"
     ]
    },
    {
     "name": "stderr",
     "output_type": "stream",
     "text": [
      "/usr/local/lib/python3.6/dist-packages/bfast/monitor/opencl/bfastfinal.py:17894: RuntimeWarning: overflow encountered in int_scalars\n",
      "  num_threads_32532 = (n_30761 * convop_x_37235)\n",
      "\n",
      "Processing blocks of tile::  44%|████▍     | 7/16.0 [00:43<00:59,  6.63s/it]\u001b[A"
     ]
    },
    {
     "name": "stdout",
     "output_type": "stream",
     "text": [
      "--- runtime for data initialization:\t\t0.0017490386962890625\n",
      "--- runtime for data transfer (host->device):\t0.06080937385559082\n",
      "--- runtime for data preprocessing:\t\t0.009284734725952148\n",
      "--- runtime for kernel execution:\t\t0.09497547149658203\n",
      "--- runtime for data transfer (device->host):\t0.008071422576904297\n",
      "1024 512 512 512\n",
      "cropped\n"
     ]
    },
    {
     "name": "stderr",
     "output_type": "stream",
     "text": [
      "/usr/local/lib/python3.6/dist-packages/bfast/monitor/opencl/bfastfinal.py:17894: RuntimeWarning: overflow encountered in int_scalars\n",
      "  num_threads_32532 = (n_30761 * convop_x_37235)\n",
      "\n",
      "Processing blocks of tile::  50%|█████     | 8/16.0 [00:50<00:53,  6.70s/it]\u001b[A"
     ]
    },
    {
     "name": "stdout",
     "output_type": "stream",
     "text": [
      "--- runtime for data initialization:\t\t0.0017464160919189453\n",
      "--- runtime for data transfer (host->device):\t0.06075859069824219\n",
      "--- runtime for data preprocessing:\t\t0.009413957595825195\n",
      "--- runtime for kernel execution:\t\t0.09319829940795898\n",
      "--- runtime for data transfer (device->host):\t0.009889841079711914\n",
      "1536 512 512 512\n",
      "cropped\n",
      "--- runtime for data initialization:\t\t0.0017299652099609375\n",
      "--- runtime for data transfer (host->device):\t0.060868024826049805\n",
      "--- runtime for data preprocessing:\t\t0.010738611221313477\n"
     ]
    },
    {
     "name": "stderr",
     "output_type": "stream",
     "text": [
      "/usr/local/lib/python3.6/dist-packages/bfast/monitor/opencl/bfastfinal.py:17894: RuntimeWarning: overflow encountered in int_scalars\n",
      "  num_threads_32532 = (n_30761 * convop_x_37235)\n",
      "\n",
      "Processing blocks of tile::  56%|█████▋    | 9/16.0 [00:57<00:47,  6.78s/it]\u001b[A"
     ]
    },
    {
     "name": "stdout",
     "output_type": "stream",
     "text": [
      "--- runtime for kernel execution:\t\t0.1304638385772705\n",
      "--- runtime for data transfer (device->host):\t0.01743626594543457\n",
      "0 1024 512 512\n",
      "cropped\n",
      "--- runtime for data initialization:\t\t0.0017714500427246094\n",
      "--- runtime for data transfer (host->device):\t0.060709238052368164\n",
      "--- runtime for data preprocessing:\t\t0.010685205459594727\n",
      "--- runtime for kernel execution:\t\t0.12786149978637695\n"
     ]
    },
    {
     "name": "stderr",
     "output_type": "stream",
     "text": [
      "/usr/local/lib/python3.6/dist-packages/bfast/monitor/opencl/bfastfinal.py:17894: RuntimeWarning: overflow encountered in int_scalars\n",
      "  num_threads_32532 = (n_30761 * convop_x_37235)\n",
      "\n",
      "Processing blocks of tile::  62%|██████▎   | 10/16.0 [01:05<00:42,  7.04s/it]\u001b[A"
     ]
    },
    {
     "name": "stdout",
     "output_type": "stream",
     "text": [
      "--- runtime for data transfer (device->host):\t0.01381063461303711\n",
      "512 1024 512 512\n",
      "cropped\n"
     ]
    },
    {
     "name": "stderr",
     "output_type": "stream",
     "text": [
      "/usr/local/lib/python3.6/dist-packages/bfast/monitor/opencl/bfastfinal.py:17894: RuntimeWarning: overflow encountered in int_scalars\n",
      "  num_threads_32532 = (n_30761 * convop_x_37235)\n",
      "\n",
      "Processing blocks of tile::  69%|██████▉   | 11/16.0 [01:11<00:34,  7.00s/it]\u001b[A"
     ]
    },
    {
     "name": "stdout",
     "output_type": "stream",
     "text": [
      "--- runtime for data initialization:\t\t0.0017888545989990234\n",
      "--- runtime for data transfer (host->device):\t0.06080484390258789\n",
      "--- runtime for data preprocessing:\t\t0.009445428848266602\n",
      "--- runtime for kernel execution:\t\t0.10335326194763184\n",
      "--- runtime for data transfer (device->host):\t0.012974023818969727\n",
      "1024 1024 512 512\n",
      "cropped\n",
      "--- runtime for data initialization:\t\t0.0017483234405517578\n",
      "--- runtime for data transfer (host->device):\t0.06071209907531738\n",
      "--- runtime for data preprocessing:\t\t0.010297536849975586\n",
      "--- runtime for kernel execution:\t\t0.12106585502624512\n"
     ]
    },
    {
     "name": "stderr",
     "output_type": "stream",
     "text": [
      "/usr/local/lib/python3.6/dist-packages/bfast/monitor/opencl/bfastfinal.py:17894: RuntimeWarning: overflow encountered in int_scalars\n",
      "  num_threads_32532 = (n_30761 * convop_x_37235)\n",
      "\n",
      "Processing blocks of tile::  75%|███████▌  | 12/16.0 [01:18<00:27,  6.98s/it]\u001b[A"
     ]
    },
    {
     "name": "stdout",
     "output_type": "stream",
     "text": [
      "--- runtime for data transfer (device->host):\t0.016025781631469727\n",
      "1536 1024 512 512\n",
      "cropped\n"
     ]
    },
    {
     "name": "stderr",
     "output_type": "stream",
     "text": [
      "/usr/local/lib/python3.6/dist-packages/bfast/monitor/opencl/bfastfinal.py:17894: RuntimeWarning: overflow encountered in int_scalars\n",
      "  num_threads_32532 = (n_30761 * convop_x_37235)\n",
      "\n",
      "Processing blocks of tile::  81%|████████▏ | 13/16.0 [01:25<00:20,  6.96s/it]\u001b[A"
     ]
    },
    {
     "name": "stdout",
     "output_type": "stream",
     "text": [
      "--- runtime for data initialization:\t\t0.00179290771484375\n",
      "--- runtime for data transfer (host->device):\t0.06068992614746094\n",
      "--- runtime for data preprocessing:\t\t0.009415388107299805\n",
      "--- runtime for kernel execution:\t\t0.10127425193786621\n",
      "--- runtime for data transfer (device->host):\t0.012552022933959961\n",
      "0 1536 512 512\n",
      "cropped\n"
     ]
    },
    {
     "name": "stderr",
     "output_type": "stream",
     "text": [
      "/usr/local/lib/python3.6/dist-packages/bfast/monitor/opencl/bfastfinal.py:17894: RuntimeWarning: overflow encountered in int_scalars\n",
      "  num_threads_32532 = (n_30761 * convop_x_37235)\n",
      "\n",
      "Processing blocks of tile::  88%|████████▊ | 14/16.0 [01:33<00:14,  7.03s/it]\u001b[A"
     ]
    },
    {
     "name": "stdout",
     "output_type": "stream",
     "text": [
      "--- runtime for data initialization:\t\t0.0017673969268798828\n",
      "--- runtime for data transfer (host->device):\t0.06064867973327637\n",
      "--- runtime for data preprocessing:\t\t0.009368896484375\n",
      "--- runtime for kernel execution:\t\t0.09924864768981934\n",
      "--- runtime for data transfer (device->host):\t0.012021303176879883\n",
      "512 1536 512 512\n",
      "cropped\n"
     ]
    },
    {
     "name": "stderr",
     "output_type": "stream",
     "text": [
      "/usr/local/lib/python3.6/dist-packages/bfast/monitor/opencl/bfastfinal.py:17894: RuntimeWarning: overflow encountered in int_scalars\n",
      "  num_threads_32532 = (n_30761 * convop_x_37235)\n",
      "\n",
      "Processing blocks of tile::  94%|█████████▍| 15/16.0 [01:39<00:06,  6.95s/it]\u001b[A"
     ]
    },
    {
     "name": "stdout",
     "output_type": "stream",
     "text": [
      "--- runtime for data initialization:\t\t0.001741170883178711\n",
      "--- runtime for data transfer (host->device):\t0.06072497367858887\n",
      "--- runtime for data preprocessing:\t\t0.009311437606811523\n",
      "--- runtime for kernel execution:\t\t0.09613895416259766\n",
      "--- runtime for data transfer (device->host):\t0.008003473281860352\n",
      "1024 1536 512 512\n",
      "cropped\n",
      "--- runtime for data initialization:\t\t0.0017714500427246094\n",
      "--- runtime for data transfer (host->device):\t0.0607142448425293\n",
      "--- runtime for data preprocessing:\t\t0.010747194290161133\n"
     ]
    },
    {
     "name": "stderr",
     "output_type": "stream",
     "text": [
      "/usr/local/lib/python3.6/dist-packages/bfast/monitor/opencl/bfastfinal.py:17894: RuntimeWarning: overflow encountered in int_scalars\n",
      "  num_threads_32532 = (n_30761 * convop_x_37235)\n",
      "\n",
      "Processing blocks of tile:: 100%|██████████| 16/16.0 [01:46<00:00,  6.96s/it]\u001b[A"
     ]
    },
    {
     "name": "stdout",
     "output_type": "stream",
     "text": [
      "--- runtime for kernel execution:\t\t0.13063311576843262\n",
      "--- runtime for data transfer (device->host):\t0.01742386817932129\n",
      "1536 1536 512 512\n",
      "cropped\n"
     ]
    },
    {
     "name": "stderr",
     "output_type": "stream",
     "text": [
      "/usr/local/lib/python3.6/dist-packages/bfast/monitor/opencl/bfastfinal.py:17894: RuntimeWarning: overflow encountered in int_scalars\n",
      "  num_threads_32532 = (n_30761 * convop_x_37235)\n",
      "\r",
      "Processing blocks of tile:: 100%|██████████| 16/16.0 [01:53<00:00,  7.10s/it]"
     ]
    },
    {
     "name": "stdout",
     "output_type": "stream",
     "text": [
      "--- runtime for data initialization:\t\t0.001737833023071289\n",
      "--- runtime for data transfer (host->device):\t0.0607607364654541\n",
      "--- runtime for data preprocessing:\t\t0.009387731552124023\n",
      "--- runtime for kernel execution:\t\t0.10213160514831543\n",
      "--- runtime for data transfer (device->host):\t0.012762308120727539\n",
      "Fitting model over all blocks took 113.62369084358215 seconds.\n",
      "#####################  555 ###############\n",
      "Monitoring starts at:  2018-09-14 00:00:00\n",
      "Monitoring ends at:  2020-08-19 00:00:00\n",
      "Dataset history starts at:  2016-02-05 00:00:00\n",
      "frequency:  365\n",
      "harmonic term:  3\n",
      "Hfrac: Float in the interval (0,1) specifying the bandwidth relative to the sample size in the MOSUM/ME monitoring processes.:  0.25\n",
      "Trend: Whether a tend offset term shall be used or not:  True\n",
      "Level: Significance level of the monitoring (and ROC, if selected) procedure, i.e., probability of type I error:  0.05\n",
      "backend: GPU opencl or CPU python:  opencl\n",
      "verbose: The verbosity level (0=no output, 1=output):  1\n"
     ]
    },
    {
     "name": "stderr",
     "output_type": "stream",
     "text": [
      "\n"
     ]
    },
    {
     "name": "stdout",
     "output_type": "stream",
     "text": [
      "output_arrays/Time_series_2020-08-27_13-49-00_Portugal_all-8-tile-0000000000-0000004096_means.npy\n",
      "output_arrays/Time_series_2020-08-27_13-49-00_Portugal_all-8-tile-0000000000-0000004096_breaks.npy\n"
     ]
    },
    {
     "name": "stderr",
     "output_type": "stream",
     "text": [
      "Processing tile 4 out of 12:  25%|██▌       | 3/12 [05:47<15:55, 106.15s/it]\n",
      "  0%|          | 0/8.671875 [00:00<?, ?it/s]\u001b[A\n",
      "Processing blocks of tile::   0%|          | 0/8.671875 [00:00<?, ?it/s]\u001b[A"
     ]
    },
    {
     "name": "stdout",
     "output_type": "stream",
     "text": [
      "[<pyopencl.Device 'Tesla T4' on 'NVIDIA CUDA' at 0x3fc4c80>]\n",
      "rastersize:  1110 2048\n",
      "The natural block size is the block size that is most efficient for accessing the format, gdal found blocksize:  [128, 128]\n",
      "set blocksize explicitly:  512 ,  512\n",
      "bytes required:  10293411840\n",
      "start monitor:  2018-09-14 00:00:00\n",
      "end monitor:  2020-08-19 00:00:00\n",
      "start history:  2016-02-05 00:00:00\n",
      "0 0 512 512\n",
      "cropped\n",
      "--- runtime for data initialization:\t\t0.0017881393432617188\n",
      "--- runtime for data transfer (host->device):\t0.06095290184020996\n",
      "--- runtime for data preprocessing:\t\t0.0107574462890625\n",
      "--- runtime for kernel execution:\t\t0.11941385269165039\n",
      "--- runtime for data transfer (device->host):\t0.009198665618896484\n"
     ]
    },
    {
     "name": "stderr",
     "output_type": "stream",
     "text": [
      "/usr/local/lib/python3.6/dist-packages/bfast/monitor/opencl/bfastfinal.py:17894: RuntimeWarning: overflow encountered in int_scalars\n",
      "  num_threads_32532 = (n_30761 * convop_x_37235)\n",
      "\n",
      "Processing blocks of tile::  23%|██▎       | 2/8.671875 [00:06<00:22,  3.39s/it]\u001b[A"
     ]
    },
    {
     "name": "stdout",
     "output_type": "stream",
     "text": [
      "512 0 512 512\n",
      "cropped\n"
     ]
    },
    {
     "name": "stderr",
     "output_type": "stream",
     "text": [
      "/usr/local/lib/python3.6/dist-packages/bfast/monitor/opencl/bfastfinal.py:17894: RuntimeWarning: overflow encountered in int_scalars\n",
      "  num_threads_32532 = (n_30761 * convop_x_37235)\n",
      "\n",
      "Processing blocks of tile::  35%|███▍      | 3/8.671875 [00:13<00:24,  4.39s/it]\u001b[A"
     ]
    },
    {
     "name": "stdout",
     "output_type": "stream",
     "text": [
      "--- runtime for data initialization:\t\t0.0017583370208740234\n",
      "--- runtime for data transfer (host->device):\t0.06063199043273926\n",
      "--- runtime for data preprocessing:\t\t0.009453773498535156\n",
      "--- runtime for kernel execution:\t\t0.10309648513793945\n",
      "--- runtime for data transfer (device->host):\t0.012900829315185547\n",
      "1024 0 86 512\n",
      "cropped\n"
     ]
    },
    {
     "name": "stderr",
     "output_type": "stream",
     "text": [
      "\n",
      "Processing blocks of tile::  46%|████▌     | 4/8.671875 [00:16<00:18,  3.95s/it]\u001b[A"
     ]
    },
    {
     "name": "stdout",
     "output_type": "stream",
     "text": [
      "--- runtime for data initialization:\t\t0.001741647720336914\n",
      "--- runtime for data transfer (host->device):\t0.01058816909790039\n",
      "--- runtime for data preprocessing:\t\t0.003919363021850586\n",
      "--- runtime for kernel execution:\t\t0.021378278732299805\n",
      "--- runtime for data transfer (device->host):\t0.002760171890258789\n",
      "0 512 512 512\n"
     ]
    }
   ],
   "source": [
    "\n",
    "# if you get a memory error, set this lower: 256, 128, 512\n",
    "x_block = y_block = 512\n",
    "\n",
    "# loading bar\n",
    "with tqdm(total=len(data_list)) as pbar1:\n",
    "    \n",
    "    # loop over tile(s) in the data_list\n",
    "    for counter, ts_data in enumerate(data_list):\n",
    "        pbar1.set_description(\"Processing tile %s out of %s\" % (counter+1, len(data_list)) )\n",
    "        \n",
    "        ts_data.set_bfast_parameters(start_monitor,end_monitor,start_hist,freq,k,hfrac,trend,level,backend=backend,verbose=verbose,device_id=device_id)\n",
    "        ts_data.loop_blocks(x_block_size = x_block,y_block_size=y_block)\n",
    "        print(\"##################### \", len(ts_data.cropped_dates), '###############')\n",
    "        ts_data.get_bfast_parameters()\n",
    "        ts_data.log_output_to_txt()\n",
    "        ts_data.log_breaks_means_arrays()\n",
    "        \n",
    "        pbar1.update(counter)\n",
    "pbar1.close()\n",
    "\n",
    "# add warning for large block size, gets stuck? or so?"
   ]
  },
  {
   "cell_type": "markdown",
   "metadata": {},
   "source": [
    "### Check tiles for output quality"
   ]
  },
  {
   "cell_type": "code",
   "execution_count": null,
   "metadata": {
    "scrolled": false
   },
   "outputs": [],
   "source": [
    "for tile in data_list:\n",
    "    print(tile.dir)\n",
    "    \n",
    "    # if you want to load in previously saved tiles\n",
    "#     tile.load_breaks_means_arrays_from_file()\n",
    "#     tile.start_hist = datetime(2018, 9, 14) # get these from log (automatically?) # probs save a dict as log\n",
    "#     tile.end_monitor = datetime(2020, 8, 19) \n",
    "#     tile.crop_dates(dates)\n",
    "    \n",
    "    # do some plots\n",
    "    breaks = tile.breaks_array#.astype(\"int\") # it looks like for the new or big data you need to add astype(\"int\") for means\n",
    "    means = tile.means_array#.astype(\"int\")\n",
    "    \n",
    "    tile.check_arrays(min_perc_lacking_data = 50)\n",
    "    \n",
    "    #means = means.astype('int')\n",
    "    \n",
    "    #plt.hist(means)\n",
    "    #plt.show()\n",
    "    \n",
    "    print(\"breaks datatype: \",breaks.dtype)\n",
    "    print(\"means datatype: \", means.dtype)\n",
    "    im = plt.imshow(means, cmap=plt.cm.OrRd)\n",
    "    plt.colorbar(im);\n",
    "    plt.title('means')\n",
    "    plt.show()\n",
    "    \n",
    "    im = plt.imshow(breaks, cmap=plt.cm.OrRd)\n",
    "    plt.colorbar(im);\n",
    "    plt.title('breaks')\n",
    "    plt.show()\n",
    "    \n",
    "    \n",
    "    #unique, counts = np.unique(means, return_counts=True)\n",
    "    \n",
    "    #print(\"mean counts\")\n",
    "    #print(np.asarray((unique, counts)).T[0:10])\n",
    "    \n"
   ]
  },
  {
   "cell_type": "code",
   "execution_count": null,
   "metadata": {},
   "outputs": [],
   "source": [
    "for tile in data_list:\n",
    "    print(tile.means_array.shape)\n"
   ]
  },
  {
   "cell_type": "code",
   "execution_count": null,
   "metadata": {},
   "outputs": [],
   "source": [
    "# # So this is for merging tiles back together, it seems to work... but need to know for sure.. \n",
    "# # since it does not work in one direction, this one should be correct?\n",
    "\n",
    "\n",
    "\n",
    "if len(data_list) > 1:\n",
    "    \n",
    "    big_means_array, big_breaks_array = merge_tiles(data_list)\n",
    "    \n"
   ]
  },
  {
   "cell_type": "markdown",
   "metadata": {},
   "source": [
    "## Run bfastmonitor() The loop_blocks code runs over smaller blocks, that may be set based on ram space or user itself..?\n"
   ]
  },
  {
   "cell_type": "code",
   "execution_count": null,
   "metadata": {},
   "outputs": [],
   "source": []
  },
  {
   "cell_type": "markdown",
   "metadata": {},
   "source": [
    "# Select negative magnitudes"
   ]
  },
  {
   "cell_type": "code",
   "execution_count": null,
   "metadata": {
    "scrolled": false
   },
   "outputs": [],
   "source": [
    "if len(data_list)>1:\n",
    "    print(\"tiles\")\n",
    "    means = big_means_array.astype(\"int\")\n",
    "    breaks = big_breaks_array\n",
    "else:\n",
    "    breaks = data_list[0].breaks_array\n",
    "    means = data_list[0].means_array#.astype(\"int\")\n",
    "\n",
    "plt.imshow(means)\n",
    "plt.show()\n",
    "plt.imshow(breaks)\n",
    "plt.show()\n"
   ]
  },
  {
   "cell_type": "code",
   "execution_count": null,
   "metadata": {},
   "outputs": [],
   "source": [
    "# positive and negative\n",
    "\n",
    "#means = data_list[0].means_array\n",
    "#breaks = data_list[0].breaks_array\n",
    "\n",
    "# no_breaks_indices = (breaks == -1)\n",
    "# means[no_breaks_indices] = 0\n",
    "\n",
    "# breaks_plot = breaks.astype(np.float)\n",
    "# breaks_plot[breaks == -2] = np.nan\n",
    "# breaks_plot[breaks == -1] = np.nan\n",
    "# #breaks_plot[means >= 0] = np.nan\n"
   ]
  },
  {
   "cell_type": "code",
   "execution_count": null,
   "metadata": {},
   "outputs": [],
   "source": [
    "# import seaborn as sns\n",
    "\n",
    "# select only negative magnitudes\n",
    "no_breaks_indices = (breaks == -1)\n",
    "means[no_breaks_indices] = 0\n",
    "means[means > 0] = 0 # only want negative mean changes\n",
    "\n",
    "breaks_plot = breaks.astype(np.float)\n",
    "breaks_plot[breaks == -2] = np.nan\n",
    "breaks_plot[breaks == -1] = np.nan\n",
    "breaks_plot[means >= 0] = np.nan\n",
    "\n",
    "# print(\"magnitude change heatmap\")\n",
    "# sns.heatmap(orig_means,  linewidths=1)\n",
    "\n",
    "plt.imshow(means)\n",
    "plt.show()\n",
    "plt.imshow(breaks)\n",
    "plt.show()\n"
   ]
  },
  {
   "cell_type": "code",
   "execution_count": null,
   "metadata": {},
   "outputs": [],
   "source": [
    "dates_monitor = []\n",
    "dates = data_list[0].cropped_dates\n",
    "\n",
    "# collect dates for monitor period\n",
    "for i in range(len(dates)):\n",
    "    if start_monitor <= dates[i]:\n",
    "        dates_monitor.append(dates[i])\n",
    "dates_array = np.array(dates_monitor) # dates_array is the dates that are in the monitoring period\n"
   ]
  },
  {
   "cell_type": "markdown",
   "metadata": {},
   "source": [
    "# Classify output for plotting"
   ]
  },
  {
   "cell_type": "code",
   "execution_count": null,
   "metadata": {},
   "outputs": [],
   "source": [
    "idx_starts = {}\n",
    "\n",
    "# this gives the index of all the data points in the year and after\n",
    "for year in range(start_monitor.year,end_monitor.year+1):\n",
    "    idx_starts[year] = np.argmax((dates_array >= datetime(year, 1, 1)) > False) \n",
    "print(idx_starts)\n",
    "\n",
    "breaks_plot_years = copy.deepcopy(breaks_plot)\n",
    "\n",
    "#classifying for plotting\n",
    "ticklist=[]\n",
    "for idx, year in enumerate(idx_starts):\n",
    "    ticklist.append(str(year))\n",
    "    \n",
    "    # if we're at the last year\n",
    "    if idx == len(idx_starts)-1:\n",
    "        breaks_plot_years[np.where(idx_starts[year] < breaks_plot)] = len(idx_starts)-1 \n",
    "        print(\"last\")\n",
    "        continue\n",
    "    \n",
    "    # if we're at the first year\n",
    "    if idx == 0:\n",
    "        breaks_plot_years[breaks_plot <= idx_starts[year+1]] = 0\n",
    "        print(\"first\")\n",
    "        continue\n",
    "    \n",
    "    # all other years in between\n",
    "    breaks_plot_years[np.where(np.logical_and(idx_starts[year] < breaks_plot, breaks_plot <= idx_starts[year+1]))] = idx\n",
    "    print(\"mid\")\n",
    "\n",
    "unique, counts = np.unique(breaks_plot_years, return_counts=True)\n",
    "print(np.asarray((unique, counts)).T[0:10])\n"
   ]
  },
  {
   "cell_type": "markdown",
   "metadata": {},
   "source": [
    "# Plot output"
   ]
  },
  {
   "cell_type": "code",
   "execution_count": null,
   "metadata": {},
   "outputs": [],
   "source": [
    "bins = len(idx_starts)\n",
    "# from matplotlib.pyplot import figure\n",
    "# figure(num=None, figsize=(20, 15), dpi=80, facecolor='w', edgecolor='k')\n",
    "\n",
    "cmap = plt.get_cmap(\"rainbow\")\n",
    "cmaplist = [cmap(i) for i in range(cmap.N)]\n",
    "cmap = cmap.from_list('Custom cmap', cmaplist, cmap.N)\n",
    "\n",
    "bounds = np.linspace(0, bins-1, bins) #third number is the amount of bins in the colorbar 0=0, 6 = ncolors, 7= nyears\n",
    "norm = matplotlib.colors.BoundaryNorm(bounds, cmap.N)\n",
    "print(bins)\n",
    "fig, axes = plt.subplots(nrows=1, ncols=1, figsize=(500, 500))\n",
    "\n",
    "#norm doesn't work with bins = 2 or less... now the colorbar is ugly, fix it later\n",
    "\n",
    "if bins == 1:\n",
    "    im = axes.imshow(breaks_plot_years,cmap=cmap,vmin=0,vmax=bins)\n",
    "if bins == 2:\n",
    "    im = axes.imshow(breaks_plot_years,cmap=cmap,vmin=0,vmax=bins)\n",
    "else:\n",
    "    im = axes.imshow(breaks_plot_years, cmap=cmap, vmin=0, vmax=bins, norm=norm)\n",
    "\n",
    "fig.subplots_adjust(right=0.8)\n",
    "cbar_ax = fig.add_axes([0.85, 0.15, 0.05, 0.7])\n",
    "fig.colorbar(im, cax=cbar_ax, ticks=range(bins))\n",
    "labels = cbar_ax.set_yticklabels(ticklist)\n",
    "\n",
    "plt.savefig(\"./output/picture.png\")\n",
    "plt.show()\n",
    "\n"
   ]
  },
  {
   "cell_type": "markdown",
   "metadata": {},
   "source": [
    "print(bounds)"
   ]
  },
  {
   "cell_type": "code",
   "execution_count": null,
   "metadata": {},
   "outputs": [],
   "source": []
  },
  {
   "cell_type": "code",
   "execution_count": null,
   "metadata": {},
   "outputs": [],
   "source": [
    "# #this doesn't work yet\n",
    "\n",
    "# output_raster = gdal.GetDriverByName('GTiff').Create('myraster.tif',cols, rows, 1 ,gdal.GDT_Float32)  # Open the file\n",
    "\n",
    "# output_raster.SetGeoTransform(geotransform)  # Specify its coordinates\n",
    "# srs = osr.SpatialReference()                 # Establish its coordinate encoding\n",
    "# srs.ImportFromEPSG(4326)                     # This one specifies WGS84 lat long.\n",
    "#                                              # Anyone know how to specify the \n",
    "#                                              # IAU2000:49900 Mars encoding?\n",
    "# output_raster.SetProjection( srs.ExportToWkt() )   # Exports the coordinate system \n",
    "#                                                    # to the file\n",
    "# output_raster.GetRasterBand(1).WriteArray(breaks_plot_years)   # Writes my array to the raster\n",
    "\n",
    "# output_raster.FlushCache()\n",
    "\n",
    "# output_raster"
   ]
  },
  {
   "cell_type": "code",
   "execution_count": null,
   "metadata": {},
   "outputs": [],
   "source": [
    "print(breaks_plot_years)\n",
    "breaks_plot_years_norm = 1/(breaks_plot_years + 0.01)\n",
    "print(breaks_plot_years_norm)"
   ]
  },
  {
   "cell_type": "code",
   "execution_count": null,
   "metadata": {},
   "outputs": [],
   "source": [
    "#cmap = plt.get_cmap(\"Oranges\")\n",
    "\n",
    "#cmaplist = [cmap(i) for i in range(cmap.N)]\n",
    "\n",
    "#cmap = cmap.from_list('Custom cmap', cmaplist, cmap.N)\n",
    "\n",
    "from matplotlib import cm\n",
    "from matplotlib.colors import ListedColormap, LinearSegmentedColormap\n",
    "\n",
    "# viridis = cm.get_cmap('viridis', 12)\n",
    "# print(viridis)\n",
    "# print(viridis(0.56))\n",
    "\n",
    "viridis = cm.get_cmap('rainbow', 256)\n",
    "newcolors = viridis(np.linspace(0, 1, 256))\n",
    "pink = np.array([248/256, 24/256, 148/256, 0])\n",
    "newcolors[:1, :] = pink\n",
    "newcmp = ListedColormap(newcolors)"
   ]
  },
  {
   "cell_type": "code",
   "execution_count": null,
   "metadata": {},
   "outputs": [],
   "source": [
    "print(latitude)\n",
    "print(xpixelsize)\n",
    "print(cols)\n",
    "print(longitude)\n",
    "print(ypixelsize)\n",
    "print(rows)"
   ]
  },
  {
   "cell_type": "code",
   "execution_count": null,
   "metadata": {},
   "outputs": [],
   "source": [
    "print(ts_data.latitude)\n",
    "print(ts_data.longitude)"
   ]
  },
  {
   "cell_type": "code",
   "execution_count": null,
   "metadata": {},
   "outputs": [],
   "source": [
    "# this is probs still wrong, maybe not though, we have to plot in a loop, maybe use ipy thing?\n",
    "\n",
    "from folium.plugins import FloatImage\n",
    "import base64\n",
    "latitude = ts_data.latitude\n",
    "longitude = ts_data.longitude\n",
    "xpixelsize= ts_data.xpixelsize\n",
    "ypixelsize= ts_data.ypixelsize\n",
    "rows = ts_data.nrows\n",
    "cols = ts_data.ncols\n",
    "\n",
    "m = folium.folium.Map(location = (latitude,longitude),tiles = \"Stamen Terrain\",zoom_start=13)\n",
    "\n",
    "# if not all data is \n",
    "#rows = 200\n",
    "#cols = 200\n",
    "\n",
    "\n",
    "# bounds = [[lat_min, lon_min], [lat_max, lon_max]]\n",
    "\n",
    "folium.raster_layers.ImageOverlay(\n",
    "    image=breaks_plot_years_norm,\n",
    "    bounds=[[latitude, longitude], [latitude + (rows*xpixelsize), longitude + (cols*xpixelsize)]],\n",
    "    colormap = newcmp\n",
    ").add_to(m)\n",
    "img = \"output/picture.png\" \n",
    "\n",
    "\n",
    "####\n",
    "resolution, width, height = 75, 4,4\n",
    "encoded = base64.b64encode(open(\"output/picture.png\", 'rb').read()).decode()\n",
    "from folium import IFrame\n",
    "\n",
    "html = '<img src=\"data:image/png;base64,{}\">'.format\n",
    "iframe = IFrame(html(encoded), width=(width*resolution)+20, height=(height*resolution)+20)\n",
    "popup = folium.Popup(iframe, max_width=2650)\n",
    "\n",
    "icon = folium.Icon(color=\"red\", icon=\"ok\")\n",
    "marker = folium.Marker(location=[latitude, longitude], popup=popup, icon=icon)\n",
    "marker.add_to(m)\n",
    "####\n",
    "\n",
    "m.save(os.path.join('output/PortugalBigger_gpu.html'))\n",
    "m"
   ]
  },
  {
   "cell_type": "code",
   "execution_count": null,
   "metadata": {},
   "outputs": [],
   "source": []
  },
  {
   "cell_type": "code",
   "execution_count": null,
   "metadata": {},
   "outputs": [],
   "source": []
  }
 ],
 "metadata": {
  "kernelspec": {
   "display_name": "Python 3",
   "language": "python",
   "name": "python3"
  },
  "language_info": {
   "codemirror_mode": {
    "name": "ipython",
    "version": 3
   },
   "file_extension": ".py",
   "mimetype": "text/x-python",
   "name": "python",
   "nbconvert_exporter": "python",
   "pygments_lexer": "ipython3",
   "version": "3.6.9"
  }
 },
 "nbformat": 4,
 "nbformat_minor": 4
}
