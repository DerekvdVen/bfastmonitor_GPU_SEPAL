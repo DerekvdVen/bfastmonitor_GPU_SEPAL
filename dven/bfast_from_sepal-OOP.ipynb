{
 "cells": [
  {
   "cell_type": "markdown",
   "metadata": {},
   "source": [
    "# GPU implementation of Bfastmonitor using Python\n",
    "The bfast package provides a highly-efficient parallel implementation for the Breaks For Additive Season and Trend (BFASTmonitor) proposed by Verbesselt et al. The implementation is based on OpenCL."
   ]
  },
  {
   "cell_type": "markdown",
   "metadata": {},
   "source": [
    "The script below runs bfastmonitor over the timeseries data downloaded in SEPAL in blocks, and patches together tiles to export mean magnitudes and breaks .npy files. The output is also displayed in a digital map. Make sure to run through the cells sequentially and keep the parameters constant if you are running over multiple directories of you Area of Interest.\n",
    "\n",
    "* First download data using the SEPAL time series downloader (not in this script). The downloads will be saved in your downloads folder and look like: /home/'username'/downloads/Time_series_2020-09-01_16-22-26/0|1|2|3\n",
    "\n",
    "* Import packages\n",
    "\n",
    "* Select data\n",
    "\n",
    "* Set parameters\n",
    "\n",
    "* Select monitoring period*\n",
    "\n",
    "* Run bfastmonitor*\n",
    "\n",
    "* Optional: Load output*\n",
    "\n",
    "* Merge and save tiles output\n",
    "\n",
    "* Display output\n",
    "\n",
    "*After saving the output, one may load it in again instead of running bfastmonitor again\n"
   ]
  },
  {
   "cell_type": "markdown",
   "metadata": {},
   "source": [
    "### Import packages"
   ]
  },
  {
   "cell_type": "code",
   "execution_count": 5,
   "metadata": {},
   "outputs": [
    {
     "name": "stdout",
     "output_type": "stream",
     "text": [
      "\n",
      "    The timeseries class is a wrapper for using SEPAL timeseries data with bfast. \n",
      "    It wraps together a data tile with associated dates file and metadata. \n",
      "    It also allows for saving and loading the output rasters in a specified directory. \n",
      "    \n"
     ]
    }
   ],
   "source": [
    "import os\n",
    "from os.path import expanduser\n",
    "\n",
    "import wget\n",
    "import numpy as np\n",
    "from datetime import datetime\n",
    "import copy\n",
    "import matplotlib\n",
    "import matplotlib.pyplot as plt\n",
    "\n",
    "import json\n",
    "\n",
    "from bfast import BFASTMonitor\n",
    "from bfast.utils import crop_data_dates\n",
    "\n",
    "import csv\n",
    "from shutil import copyfile\n",
    "import pandas as pd\n",
    "from osgeo import gdal, gdal_array, osr\n",
    "\n",
    "import time\n",
    "from tqdm import tqdm\n",
    "\n",
    "import ipywidgets as widgets\n",
    "from ipywidgets import Layout\n",
    "from ipyfilechooser import FileChooser\n",
    "import folium\n",
    "\n",
    "from PIL import Image\n",
    "from matplotlib import cm\n",
    "\n",
    "# import functions from functions.py and plotting_funcs.py\n",
    "from functions import set_base_output_dir, set_output_dir, get_data_dict, merge_tiles, set_paths, _find_index_date, normalize \n",
    "from plotting_funcs import save_plot, merge_plots, classify_output, plot_output_matplotlib, set_corners\n",
    "\n",
    "# Import the Timeseries class from time_series.py\n",
    "from time_series import Timeseries\n",
    "print(Timeseries.__doc__)\n",
    "\n",
    "# Import widgets for GUI parameter selection\n",
    "from widgets import get_widgets, get_dates_widgets\n",
    "output_directory_chooser, k_chooser,freq_chooser,trend_chooser,hfrac_chooser,level_chooser,backend_chooser, load_chooser, block_size_chooser, plot_display_data_chooser = get_widgets()"
   ]
  },
  {
   "cell_type": "code",
   "execution_count": 6,
   "metadata": {},
   "outputs": [],
   "source": [
    "%matplotlib inline"
   ]
  },
  {
   "cell_type": "markdown",
   "metadata": {},
   "source": [
    "### Select data\n",
    "\n",
    "#### Select a name for your output folder. All the segments you run through will be saved here: \"./stored_time_series/[yourfoldername]\n",
    "\n"
   ]
  },
  {
   "cell_type": "code",
   "execution_count": 7,
   "metadata": {},
   "outputs": [
    {
     "data": {
      "application/vnd.jupyter.widget-view+json": {
       "model_id": "ba68a35c4cbb4fca96bffb30b16de5d8",
       "version_major": 2,
       "version_minor": 0
      },
      "text/plain": [
       "interactive(children=(Text(value='', description='Output storage name: (country/location name, e.g. \"Guyana\")'…"
      ]
     },
     "metadata": {},
     "output_type": "display_data"
    }
   ],
   "source": [
    "display(output_directory_chooser)"
   ]
  },
  {
   "cell_type": "code",
   "execution_count": 4,
   "metadata": {},
   "outputs": [
    {
     "name": "stdout",
     "output_type": "stream",
     "text": [
      "Defaulting to output directory name: stored_time_series/output\n"
     ]
    }
   ],
   "source": [
    "base_output_dir = set_base_output_dir(output_directory_chooser)"
   ]
  },
  {
   "cell_type": "markdown",
   "metadata": {},
   "source": [
    "#### Select a time series segment folder using ipyfilechooser.  The standard download location is in downloads/time_series_name/[0,1,2..n]\n"
   ]
  },
  {
   "cell_type": "code",
   "execution_count": 6,
   "metadata": {},
   "outputs": [
    {
     "data": {
      "application/vnd.jupyter.widget-view+json": {
       "model_id": "fdd1a0c8fef94dadadc0fc9dc7b827d1",
       "version_major": 2,
       "version_minor": 0
      },
      "text/plain": [
       "FileChooser(path='/home/dven', filename='', title='HTML(value='', layout=Layout(display='none'))', show_hidden…"
      ]
     },
     "metadata": {},
     "output_type": "display_data"
    }
   ],
   "source": [
    "path = expanduser(\"~\")\n",
    "file_chooser = FileChooser(path)\n",
    "display(file_chooser)"
   ]
  },
  {
   "cell_type": "code",
   "execution_count": 7,
   "metadata": {},
   "outputs": [
    {
     "name": "stdout",
     "output_type": "stream",
     "text": [
      "/home/dven/downloads/Time_series_2020-07-07_11-51-35_Portugal/1/\n",
      "stored_time_series/Portugal_small/Portugal_small_1\n"
     ]
    }
   ],
   "source": [
    "timeseries_directory = file_chooser.selected\n",
    "\n",
    "if not timeseries_directory:\n",
    "    raise Exception(\"Please choose a time series directory above with the file selector\")\n",
    "else:\n",
    "    print(timeseries_directory)\n",
    "    output_dir = set_output_dir(output_directory_chooser,timeseries_directory)\n",
    "    print(output_dir)"
   ]
  },
  {
   "cell_type": "markdown",
   "metadata": {},
   "source": [
    "#### Load in data: if there are tiles in the directory, create a list and load per tile. The Timeseries tiles and their associated data are put in the list: 'data_list'\n"
   ]
  },
  {
   "cell_type": "code",
   "execution_count": 8,
   "metadata": {
    "scrolled": true
   },
   "outputs": [
    {
     "name": "stdout",
     "output_type": "stream",
     "text": [
      "No tiles, setting up data as one tile\n",
      "Timeseries class holding 529 dates, sized 14 by 8.\n"
     ]
    }
   ],
   "source": [
    "# Create Timeseries class objects for every tile\n",
    "data_list = set_paths(timeseries_directory = timeseries_directory)\n",
    "for tile in data_list:\n",
    "    print(tile)"
   ]
  },
  {
   "cell_type": "markdown",
   "metadata": {},
   "source": [
    "### Check some metadata of the created Timeseries class"
   ]
  },
  {
   "cell_type": "code",
   "execution_count": 9,
   "metadata": {
    "scrolled": true
   },
   "outputs": [
    {
     "name": "stdout",
     "output_type": "stream",
     "text": [
      "projection:  GEOGCS[\"WGS 84\",DATUM[\"WGS_1984\",SPHEROID[\"WGS 84\",6378137,298.257223563,AUTHORITY[\"EPSG\",\"7030\"]],AUTHORITY[\"EPSG\",\"6326\"]],PRIMEM[\"Greenwich\",0],UNIT[\"degree\",0.0174532925199433,AUTHORITY[\"EPSG\",\"9122\"]],AXIS[\"Latitude\",NORTH],AXIS[\"Longitude\",EAST],AUTHORITY[\"EPSG\",\"4326\"]]\n",
      "pixel size:  0.0002694945852358568\n",
      "n dates in timeseries:  529\n"
     ]
    }
   ],
   "source": [
    "print(\"projection: \", data_list[0].projection)\n",
    "print(\"pixel size: \", data_list[0].xpixelsize)\n",
    "print(\"n dates in timeseries: \", data_list[0].nbands)\n",
    "\n",
    "# Uncomment to see al vars associated with the tile\n",
    "#vars(data_list[0])"
   ]
  },
  {
   "cell_type": "markdown",
   "metadata": {},
   "source": [
    "# Set parameters\n",
    "\n",
    "## Make sure not to re-run these blocks if you want to use the same dates for every segment 1|2|3|4"
   ]
  },
  {
   "cell_type": "code",
   "execution_count": 10,
   "metadata": {},
   "outputs": [
    {
     "data": {
      "application/vnd.jupyter.widget-view+json": {
       "model_id": "5424693c5b954697862142d79434c1b1",
       "version_major": 2,
       "version_minor": 0
      },
      "text/plain": [
       "interactive(children=(Dropdown(description='k, harmonic terms', index=2, layout=Layout(height='auto', width='5…"
      ]
     },
     "metadata": {},
     "output_type": "display_data"
    },
    {
     "data": {
      "application/vnd.jupyter.widget-view+json": {
       "model_id": "abaa4df8fbb14964afa53319a89771d3",
       "version_major": 2,
       "version_minor": 0
      },
      "text/plain": [
       "interactive(children=(IntSlider(value=365, description='freq, frequency of seasonal model (days)', layout=Layo…"
      ]
     },
     "metadata": {},
     "output_type": "display_data"
    },
    {
     "data": {
      "application/vnd.jupyter.widget-view+json": {
       "model_id": "fac173b7314f4aa28271faf29a4ffd34",
       "version_major": 2,
       "version_minor": 0
      },
      "text/plain": [
       "interactive(children=(Checkbox(value=True, description='add trend', layout=Layout(height='auto', width='500px'…"
      ]
     },
     "metadata": {},
     "output_type": "display_data"
    },
    {
     "data": {
      "application/vnd.jupyter.widget-view+json": {
       "model_id": "3031ed9aa37842eab107008d6a9a9727",
       "version_major": 2,
       "version_minor": 0
      },
      "text/plain": [
       "interactive(children=(FloatSlider(value=0.25, description='Bandwith relative to sample size', layout=Layout(he…"
      ]
     },
     "metadata": {},
     "output_type": "display_data"
    },
    {
     "data": {
      "application/vnd.jupyter.widget-view+json": {
       "model_id": "eed07742a36a42bc90b26bec46b55450",
       "version_major": 2,
       "version_minor": 0
      },
      "text/plain": [
       "interactive(children=(SelectionSlider(description='Significance level of the monitoring', layout=Layout(height…"
      ]
     },
     "metadata": {},
     "output_type": "display_data"
    },
    {
     "data": {
      "application/vnd.jupyter.widget-view+json": {
       "model_id": "fd9d38aed43d4e31b2c2cd4bd23f7bfa",
       "version_major": 2,
       "version_minor": 0
      },
      "text/plain": [
       "interactive(children=(Dropdown(description='backend', layout=Layout(height='auto', width='500px'), options=('o…"
      ]
     },
     "metadata": {},
     "output_type": "display_data"
    }
   ],
   "source": [
    "# Choose parameters\n",
    "display(k_chooser)\n",
    "display(freq_chooser)\n",
    "display(trend_chooser)\n",
    "display(hfrac_chooser)\n",
    "display(level_chooser)\n",
    "display(backend_chooser)"
   ]
  },
  {
   "cell_type": "code",
   "execution_count": 11,
   "metadata": {},
   "outputs": [],
   "source": [
    "# Set parameters\n",
    "k = k_chooser.result\n",
    "freq = freq_chooser.result\n",
    "trend = trend_chooser.result\n",
    "hfrac = hfrac_chooser.result\n",
    "level = 1 - level_chooser.result\n",
    "backend = backend_chooser.result\n",
    "verbose = 1\n",
    "device_id = 0"
   ]
  },
  {
   "cell_type": "markdown",
   "metadata": {},
   "source": [
    "# Select monitoring period\n",
    "\n",
    "## Make sure not to re-run these blocks if you want to use the same dates for every segment 1|2|3|4"
   ]
  },
  {
   "cell_type": "code",
   "execution_count": 12,
   "metadata": {},
   "outputs": [
    {
     "data": {
      "application/vnd.jupyter.widget-view+json": {
       "model_id": "bf562f6efd014a29995bab918a3f50c6",
       "version_major": 2,
       "version_minor": 0
      },
      "text/plain": [
       "interactive(children=(SelectionRangeSlider(description='Select the monitoring date range: ', index=(0, 7456), …"
      ]
     },
     "metadata": {},
     "output_type": "display_data"
    },
    {
     "data": {
      "application/vnd.jupyter.widget-view+json": {
       "model_id": "ea08bc9dc7f34c04b5fa13d754ae6610",
       "version_major": 2,
       "version_minor": 0
      },
      "text/plain": [
       "interactive(children=(SelectionSlider(description='Start history period:', options=(('2000-01-08', Timestamp('…"
      ]
     },
     "metadata": {},
     "output_type": "display_data"
    }
   ],
   "source": [
    "dates = data_list[0].dates\n",
    "start_date = dates[0] # 0 or 10 does not work.. 100 did ########\n",
    "end_date = dates[-1]\n",
    "pandas_dates = pd.date_range(start_date, end_date, freq='D')\n",
    "\n",
    "options =  [(date.strftime('%Y-%m-%d'),date) for date in pandas_dates]\n",
    "index = (0, len(options)-1)\n",
    "\n",
    "monitoring_period_chooser, history_period_chooser = get_dates_widgets(options = options, index = index)\n",
    "\n",
    "display(monitoring_period_chooser)\n",
    "display(history_period_chooser)"
   ]
  },
  {
   "cell_type": "code",
   "execution_count": 13,
   "metadata": {},
   "outputs": [],
   "source": [
    "start_monitor, end_monitor = monitoring_period_chooser.result\n",
    "start_hist = history_period_chooser.result\n",
    "\n",
    "if history_period_chooser.result > start_monitor:\n",
    "    raise Exception(\"Your history period must start before the monitoring period\")\n",
    "if start_monitor < dates[50]:\n",
    "    raise Warning(\"Your history period is relatively short, did you move the monitoring date range to a later date?\")\n",
    "\n",
    "# start_monitor = datetime(2018, 9, 14)\n",
    "\n"
   ]
  },
  {
   "cell_type": "markdown",
   "metadata": {},
   "source": [
    "## Loop over tiles, (or single tile), in data_list\n",
    "### Alternatively, if your magnituede_changes and breaks arrays already exist, skip this code and run load from file in the next block\n",
    "### If you get a memory error, change the x_block and y_block size to a smaller power of 2: 1080, 512, 256, 128"
   ]
  },
  {
   "cell_type": "code",
   "execution_count": 14,
   "metadata": {},
   "outputs": [
    {
     "data": {
      "application/vnd.jupyter.widget-view+json": {
       "model_id": "647005f19b5c4d1bb5fc201493fb0772",
       "version_major": 2,
       "version_minor": 0
      },
      "text/plain": [
       "interactive(children=(Dropdown(description='block size, bigger is generally faster, but may result in memory i…"
      ]
     },
     "metadata": {},
     "output_type": "display_data"
    }
   ],
   "source": [
    "display(block_size_chooser)"
   ]
  },
  {
   "cell_type": "code",
   "execution_count": 15,
   "metadata": {
    "scrolled": true
   },
   "outputs": [
    {
     "name": "stderr",
     "output_type": "stream",
     "text": [
      "Processing tile 1 out of 1:   0%|          | 0/1 [00:00<?, ?it/s]\n",
      "  0%|          | 0/0.001708984375 [00:00<?, ?it/s]\u001b[A\n",
      "Processing blocks of tile::   0%|          | 0/0.001708984375 [00:00<?, ?it/s]\u001b[A"
     ]
    },
    {
     "name": "stdout",
     "output_type": "stream",
     "text": [
      "device:  [<pyopencl.Device 'Tesla T4' on 'NVIDIA CUDA' at 0x4705370>]\n",
      "Monitoring starts at:  2010-11-09 00:00:00\n",
      "Monitoring ends at:  2020-06-07 00:00:00\n",
      "Dataset history starts at:  2000-01-08 00:00:00\n",
      "frequency:  365\n",
      "harmonic term:  3\n",
      "Hfrac: Float in the interval (0,1) specifying the bandwidth relative to the sample size in the MOSUM/ME monitoring processes.:  0.25\n",
      "Trend: Whether a tend offset term shall be used or not:  True\n",
      "Level: Significance level of the monitoring (and ROC, if selected) procedure, i.e., probability of type I error:  0.050000000000000044\n",
      "backend: GPU opencl or CPU python:  opencl\n",
      "verbose: The verbosity level (0=no output, 1=output):  1\n",
      "rastersize:  14 8\n",
      "The natural block size is the block size that is most efficient for accessing the format, gdal found blocksize:  [14, 8]\n",
      "set blocksize explicitly:  256 ,  256\n",
      "start monitor:  2010-11-09 00:00:00\n",
      "end monitor:  2020-06-07 00:00:00\n",
      "start history:  2000-01-08 00:00:00\n",
      "0 0 14 8\n"
     ]
    },
    {
     "name": "stderr",
     "output_type": "stream",
     "text": [
      "Processing blocks of tile:: : 1it [00:02,  2.84s/it]                          \n",
      "Processing tile 1 out of 1:   0%|          | 0/1 [00:02<?, ?it/s]"
     ]
    },
    {
     "name": "stdout",
     "output_type": "stream",
     "text": [
      "--- runtime for data initialization:\t\t0.002246379852294922\n",
      "--- runtime for data transfer (host->device):\t0.0002491474151611328\n",
      "--- runtime for data preprocessing:\t\t0.00042819976806640625\n",
      "--- runtime for kernel execution:\t\t0.0019059181213378906\n",
      "--- runtime for data transfer (device->host):\t0.00013875961303710938\n",
      "Fitting model over all blocks took 2.8458828926086426 seconds.\n"
     ]
    },
    {
     "name": "stderr",
     "output_type": "stream",
     "text": [
      "\n"
     ]
    }
   ],
   "source": [
    "x_block = y_block = block_size_chooser.result\n",
    "\n",
    "# loading bar\n",
    "with tqdm(total=len(data_list)) as pbar1:\n",
    "    \n",
    "    # loop over tile(s) in the data_list\n",
    "    for counter, tile in enumerate(data_list):\n",
    "        pbar1.set_description(\"Processing tile %s out of %s\" % (counter+1, len(data_list)) )\n",
    "\n",
    "        tile.set_bfast_parameters(start_monitor = start_monitor, \n",
    "                                     end_monitor = end_monitor,\n",
    "                                     start_hist = start_hist,\n",
    "                                     freq = freq,\n",
    "                                     k = k,\n",
    "                                     hfrac = hfrac,\n",
    "                                     trend = trend,\n",
    "                                     level = level,\n",
    "                                     backend=backend,\n",
    "                                     verbose=verbose,\n",
    "                                     device_id=device_id)\n",
    "        \n",
    "        tile.get_bfast_parameters()\n",
    "        \n",
    "        tile.loop_blocks(x_block_size = x_block,\n",
    "                            y_block_size=y_block)\n",
    "        \n",
    "        tile.log_all_output(output_dir_name=output_dir)\n",
    "        \n",
    "        pbar1.update(counter)\n",
    "        \n",
    "pbar1.close()\n",
    "\n",
    "# Store the cropped dates for optional loading later\n",
    "with open(output_dir + \"/cropped_dates.csv\",\"w\") as f:\n",
    "    for date in data_list[0].cropped_dates:\n",
    "        f.write(date.strftime(\"%m/%d/%Y\"))\n",
    "        f.write(\"\\n\")\n"
   ]
  },
  {
   "cell_type": "markdown",
   "metadata": {},
   "source": [
    "### If you want to load previously saved files. Only do this if you have saved tiles previously"
   ]
  },
  {
   "cell_type": "code",
   "execution_count": 16,
   "metadata": {},
   "outputs": [
    {
     "data": {
      "application/vnd.jupyter.widget-view+json": {
       "model_id": "6b44cb22a16b40f4bb7f1ea3d2d1167d",
       "version_major": 2,
       "version_minor": 0
      },
      "text/plain": [
       "interactive(children=(Checkbox(value=False, description='load tiles', layout=Layout(height='auto', width='500p…"
      ]
     },
     "metadata": {},
     "output_type": "display_data"
    }
   ],
   "source": [
    "display(load_chooser)"
   ]
  },
  {
   "cell_type": "code",
   "execution_count": 17,
   "metadata": {},
   "outputs": [
    {
     "name": "stdout",
     "output_type": "stream",
     "text": [
      "no tiles loaded, make sure to run the block above and uncheck the marker, if you want to load tiles\n"
     ]
    }
   ],
   "source": [
    "if load_chooser.result == True:\n",
    "    \n",
    "    for tile in data_list:\n",
    "\n",
    "        with open(output_dir + \"/cropped_dates.csv\",\"r\") as f:\n",
    "            dates_list = f.read().split('\\n')\n",
    "            tile.cropped_dates = [datetime.strptime(d, '%m/%d/%Y') for d in dates_list if len(d) > 0]\n",
    "        \n",
    "        tile.start_hist = tile.cropped_dates[0]\n",
    "        tile.end_monitor = tile.cropped_dates[-1]\n",
    "        tile.load_breaks_means_arrays_from_file(output_dir_name = output_dir)\n",
    "        \n",
    "else:\n",
    "    print(\"no tiles loaded, make sure to run the block above and uncheck the marker, if you want to load tiles\")\n",
    "    \n"
   ]
  },
  {
   "cell_type": "markdown",
   "metadata": {},
   "source": [
    "### Check tiles for output quality"
   ]
  },
  {
   "cell_type": "code",
   "execution_count": 18,
   "metadata": {
    "scrolled": true
   },
   "outputs": [
    {
     "name": "stdout",
     "output_type": "stream",
     "text": [
      "/home/dven/downloads/Time_series_2020-07-07_11-51-35_Portugal/1/\n",
      "minus2s:  0\n",
      "minus1s:  69\n",
      "total 112\n",
      "percentage cells that lacked enough data for finding means or breaks: 0.0\n",
      "percentage cells where breaks were found: 38.392857142857146\n",
      "amount of nans in means:  1\n"
     ]
    }
   ],
   "source": [
    "for tile in data_list:\n",
    "    print(tile.dir)\n",
    "    \n",
    "    # do some plots\n",
    "    breaks = tile.breaks_array\n",
    "    means = tile.means_array\n",
    "    \n",
    "    tile.check_arrays(min_perc_lacking_data = 50)\n"
   ]
  },
  {
   "cell_type": "markdown",
   "metadata": {},
   "source": [
    "### Merge tiles together and save as all_means.npy and all_breaks.npy"
   ]
  },
  {
   "cell_type": "code",
   "execution_count": 19,
   "metadata": {},
   "outputs": [],
   "source": [
    "if len(data_list) > 1:\n",
    "    big_means_array, big_breaks_array = merge_tiles(data_list,output_dir_name = output_dir)"
   ]
  },
  {
   "cell_type": "markdown",
   "metadata": {},
   "source": [
    "#### Select negative magnitudes"
   ]
  },
  {
   "cell_type": "code",
   "execution_count": 20,
   "metadata": {
    "scrolled": true
   },
   "outputs": [
    {
     "data": {
      "image/png": "[encoded data removed]",
      "text/plain": [
       "<Figure size 432x72 with 1 Axes>"
      ]
     },
     "metadata": {
      "needs_background": "light"
     },
     "output_type": "display_data"
    },
    {
     "data": {
      "image/png": "[encoded data removed]",
      "text/plain": [
       "<Figure size 432x72 with 1 Axes>"
      ]
     },
     "metadata": {
      "needs_background": "light"
     },
     "output_type": "display_data"
    }
   ],
   "source": [
    "if len(data_list)>1:\n",
    "    means = big_means_array\n",
    "    breaks = big_breaks_array\n",
    "else:\n",
    "    means = data_list[0].means_array\n",
    "    breaks = data_list[0].breaks_array\n",
    "\n",
    "save_plot(means,output_dir, save_name = \"all_magnitudes\")\n",
    "save_plot(breaks,output_dir, save_name = \"all_breaks\")"
   ]
  },
  {
   "cell_type": "code",
   "execution_count": 21,
   "metadata": {},
   "outputs": [
    {
     "data": {
      "image/png": "[encoded data removed]",
      "text/plain": [
       "<Figure size 432x72 with 1 Axes>"
      ]
     },
     "metadata": {
      "needs_background": "light"
     },
     "output_type": "display_data"
    },
    {
     "data": {
      "image/png": "[encoded data removed]",
      "text/plain": [
       "<Figure size 432x72 with 1 Axes>"
      ]
     },
     "metadata": {
      "needs_background": "light"
     },
     "output_type": "display_data"
    }
   ],
   "source": [
    "# select only negative magnitudes\n",
    "no_breaks_indices = (breaks == -1)\n",
    "means[no_breaks_indices] = np.nan\n",
    "means[means > 0] = np.nan # only want negative mean changes\n",
    "\n",
    "breaks_plot = breaks.astype(np.float)\n",
    "breaks_plot[breaks == -2] = np.nan\n",
    "breaks_plot[breaks == -1] = np.nan\n",
    "breaks_plot[means >= 0] = np.nan\n",
    "\n",
    "save_plot(means, output_dir, save_name = \"all_negative_magnitudes\")\n",
    "save_plot(breaks_plot, output_dir, save_name = \"all_negative_breaks\")\n"
   ]
  },
  {
   "cell_type": "code",
   "execution_count": 22,
   "metadata": {},
   "outputs": [
    {
     "data": {
      "text/plain": [
       "array([datetime.datetime(2010, 12, 13, 0, 0),\n",
       "       datetime.datetime(2011, 4, 28, 0, 0),\n",
       "       datetime.datetime(2011, 5, 14, 0, 0),\n",
       "       datetime.datetime(2011, 5, 30, 0, 0),\n",
       "       datetime.datetime(2011, 8, 18, 0, 0),\n",
       "       datetime.datetime(2011, 9, 3, 0, 0),\n",
       "       datetime.datetime(2011, 9, 19, 0, 0),\n",
       "       datetime.datetime(2011, 10, 5, 0, 0),\n",
       "       datetime.datetime(2011, 10, 21, 0, 0),\n",
       "       datetime.datetime(2011, 11, 6, 0, 0),\n",
       "       datetime.datetime(2011, 3, 19, 0, 0),\n",
       "       datetime.datetime(2011, 4, 4, 0, 0),\n",
       "       datetime.datetime(2011, 7, 25, 0, 0),\n",
       "       datetime.datetime(2011, 8, 10, 0, 0),\n",
       "       datetime.datetime(2011, 10, 13, 0, 0),\n",
       "       datetime.datetime(2011, 10, 29, 0, 0),\n",
       "       datetime.datetime(2012, 2, 2, 0, 0),\n",
       "       datetime.datetime(2012, 2, 18, 0, 0),\n",
       "       datetime.datetime(2012, 3, 5, 0, 0),\n",
       "       datetime.datetime(2012, 3, 21, 0, 0),\n",
       "       datetime.datetime(2012, 5, 24, 0, 0),\n",
       "       datetime.datetime(2012, 6, 25, 0, 0),\n",
       "       datetime.datetime(2012, 7, 11, 0, 0),\n",
       "       datetime.datetime(2012, 9, 13, 0, 0),\n",
       "       datetime.datetime(2012, 9, 29, 0, 0),\n",
       "       datetime.datetime(2012, 10, 15, 0, 0),\n",
       "       datetime.datetime(2012, 10, 31, 0, 0),\n",
       "       datetime.datetime(2012, 12, 2, 0, 0),\n",
       "       datetime.datetime(2013, 1, 3, 0, 0),\n",
       "       datetime.datetime(2013, 4, 25, 0, 0),\n",
       "       datetime.datetime(2013, 5, 11, 0, 0),\n",
       "       datetime.datetime(2013, 5, 27, 0, 0),\n",
       "       datetime.datetime(2013, 6, 12, 0, 0),\n",
       "       datetime.datetime(2013, 6, 28, 0, 0),\n",
       "       datetime.datetime(2013, 7, 14, 0, 0),\n",
       "       datetime.datetime(2013, 7, 30, 0, 0),\n",
       "       datetime.datetime(2013, 8, 31, 0, 0),\n",
       "       datetime.datetime(2013, 9, 16, 0, 0),\n",
       "       datetime.datetime(2013, 11, 3, 0, 0),\n",
       "       datetime.datetime(2013, 11, 19, 0, 0),\n",
       "       datetime.datetime(2013, 12, 5, 0, 0),\n",
       "       datetime.datetime(2013, 12, 21, 0, 0),\n",
       "       datetime.datetime(2013, 4, 17, 0, 0),\n",
       "       datetime.datetime(2013, 5, 19, 0, 0),\n",
       "       datetime.datetime(2013, 6, 4, 0, 0),\n",
       "       datetime.datetime(2013, 6, 20, 0, 0),\n",
       "       datetime.datetime(2013, 7, 6, 0, 0),\n",
       "       datetime.datetime(2013, 7, 22, 0, 0),\n",
       "       datetime.datetime(2013, 8, 7, 0, 0),\n",
       "       datetime.datetime(2013, 8, 23, 0, 0),\n",
       "       datetime.datetime(2013, 9, 8, 0, 0),\n",
       "       datetime.datetime(2013, 9, 24, 0, 0),\n",
       "       datetime.datetime(2013, 10, 10, 0, 0),\n",
       "       datetime.datetime(2013, 10, 26, 0, 0),\n",
       "       datetime.datetime(2013, 11, 11, 0, 0),\n",
       "       datetime.datetime(2013, 11, 27, 0, 0),\n",
       "       datetime.datetime(2013, 12, 29, 0, 0),\n",
       "       datetime.datetime(2014, 1, 22, 0, 0),\n",
       "       datetime.datetime(2014, 2, 23, 0, 0),\n",
       "       datetime.datetime(2014, 3, 11, 0, 0),\n",
       "       datetime.datetime(2014, 4, 12, 0, 0),\n",
       "       datetime.datetime(2014, 4, 28, 0, 0),\n",
       "       datetime.datetime(2014, 5, 14, 0, 0),\n",
       "       datetime.datetime(2014, 5, 30, 0, 0),\n",
       "       datetime.datetime(2014, 6, 15, 0, 0),\n",
       "       datetime.datetime(2014, 7, 17, 0, 0),\n",
       "       datetime.datetime(2014, 8, 18, 0, 0),\n",
       "       datetime.datetime(2014, 9, 19, 0, 0),\n",
       "       datetime.datetime(2014, 10, 5, 0, 0),\n",
       "       datetime.datetime(2014, 10, 21, 0, 0),\n",
       "       datetime.datetime(2014, 12, 8, 0, 0),\n",
       "       datetime.datetime(2014, 12, 24, 0, 0),\n",
       "       datetime.datetime(2014, 1, 30, 0, 0),\n",
       "       datetime.datetime(2014, 3, 19, 0, 0),\n",
       "       datetime.datetime(2014, 4, 20, 0, 0),\n",
       "       datetime.datetime(2014, 5, 6, 0, 0),\n",
       "       datetime.datetime(2014, 5, 22, 0, 0),\n",
       "       datetime.datetime(2014, 6, 7, 0, 0),\n",
       "       datetime.datetime(2014, 6, 23, 0, 0),\n",
       "       datetime.datetime(2014, 7, 9, 0, 0),\n",
       "       datetime.datetime(2014, 7, 25, 0, 0),\n",
       "       datetime.datetime(2014, 8, 10, 0, 0),\n",
       "       datetime.datetime(2014, 8, 26, 0, 0),\n",
       "       datetime.datetime(2014, 9, 11, 0, 0),\n",
       "       datetime.datetime(2014, 9, 27, 0, 0),\n",
       "       datetime.datetime(2014, 10, 29, 0, 0),\n",
       "       datetime.datetime(2014, 11, 14, 0, 0),\n",
       "       datetime.datetime(2014, 11, 30, 0, 0),\n",
       "       datetime.datetime(2014, 12, 16, 0, 0),\n",
       "       datetime.datetime(2015, 1, 9, 0, 0),\n",
       "       datetime.datetime(2015, 1, 25, 0, 0),\n",
       "       datetime.datetime(2015, 2, 10, 0, 0),\n",
       "       datetime.datetime(2015, 3, 14, 0, 0),\n",
       "       datetime.datetime(2015, 3, 30, 0, 0),\n",
       "       datetime.datetime(2015, 5, 17, 0, 0),\n",
       "       datetime.datetime(2015, 6, 2, 0, 0),\n",
       "       datetime.datetime(2015, 6, 18, 0, 0),\n",
       "       datetime.datetime(2015, 7, 4, 0, 0),\n",
       "       datetime.datetime(2015, 7, 20, 0, 0),\n",
       "       datetime.datetime(2015, 8, 5, 0, 0),\n",
       "       datetime.datetime(2015, 8, 21, 0, 0),\n",
       "       datetime.datetime(2015, 9, 6, 0, 0),\n",
       "       datetime.datetime(2015, 9, 22, 0, 0),\n",
       "       datetime.datetime(2015, 10, 8, 0, 0),\n",
       "       datetime.datetime(2015, 11, 9, 0, 0),\n",
       "       datetime.datetime(2015, 11, 25, 0, 0),\n",
       "       datetime.datetime(2015, 12, 11, 0, 0),\n",
       "       datetime.datetime(2015, 12, 27, 0, 0),\n",
       "       datetime.datetime(2015, 1, 1, 0, 0),\n",
       "       datetime.datetime(2015, 1, 17, 0, 0),\n",
       "       datetime.datetime(2015, 2, 18, 0, 0),\n",
       "       datetime.datetime(2015, 3, 6, 0, 0),\n",
       "       datetime.datetime(2015, 3, 22, 0, 0),\n",
       "       datetime.datetime(2015, 4, 7, 0, 0),\n",
       "       datetime.datetime(2015, 4, 23, 0, 0),\n",
       "       datetime.datetime(2015, 5, 9, 0, 0),\n",
       "       datetime.datetime(2015, 5, 25, 0, 0),\n",
       "       datetime.datetime(2015, 6, 10, 0, 0),\n",
       "       datetime.datetime(2015, 6, 26, 0, 0),\n",
       "       datetime.datetime(2015, 7, 12, 0, 0),\n",
       "       datetime.datetime(2015, 7, 28, 0, 0),\n",
       "       datetime.datetime(2015, 8, 13, 0, 0),\n",
       "       datetime.datetime(2015, 8, 29, 0, 0),\n",
       "       datetime.datetime(2015, 9, 14, 0, 0),\n",
       "       datetime.datetime(2015, 9, 30, 0, 0),\n",
       "       datetime.datetime(2015, 10, 16, 0, 0),\n",
       "       datetime.datetime(2015, 11, 1, 0, 0),\n",
       "       datetime.datetime(2015, 11, 17, 0, 0),\n",
       "       datetime.datetime(2015, 12, 3, 0, 0),\n",
       "       datetime.datetime(2015, 12, 19, 0, 0),\n",
       "       datetime.datetime(2016, 1, 12, 0, 0),\n",
       "       datetime.datetime(2016, 1, 28, 0, 0),\n",
       "       datetime.datetime(2016, 2, 29, 0, 0),\n",
       "       datetime.datetime(2016, 3, 16, 0, 0),\n",
       "       datetime.datetime(2016, 4, 1, 0, 0),\n",
       "       datetime.datetime(2016, 5, 3, 0, 0),\n",
       "       datetime.datetime(2016, 5, 19, 0, 0),\n",
       "       datetime.datetime(2016, 6, 4, 0, 0),\n",
       "       datetime.datetime(2016, 6, 20, 0, 0),\n",
       "       datetime.datetime(2016, 7, 6, 0, 0),\n",
       "       datetime.datetime(2016, 7, 22, 0, 0),\n",
       "       datetime.datetime(2016, 8, 7, 0, 0),\n",
       "       datetime.datetime(2016, 8, 23, 0, 0),\n",
       "       datetime.datetime(2016, 9, 8, 0, 0),\n",
       "       datetime.datetime(2016, 9, 24, 0, 0),\n",
       "       datetime.datetime(2016, 10, 10, 0, 0),\n",
       "       datetime.datetime(2016, 10, 26, 0, 0),\n",
       "       datetime.datetime(2016, 11, 11, 0, 0),\n",
       "       datetime.datetime(2016, 12, 13, 0, 0),\n",
       "       datetime.datetime(2016, 12, 29, 0, 0),\n",
       "       datetime.datetime(2016, 1, 20, 0, 0),\n",
       "       datetime.datetime(2016, 2, 5, 0, 0),\n",
       "       datetime.datetime(2016, 2, 21, 0, 0),\n",
       "       datetime.datetime(2016, 3, 8, 0, 0),\n",
       "       datetime.datetime(2016, 3, 24, 0, 0),\n",
       "       datetime.datetime(2016, 4, 9, 0, 0),\n",
       "       datetime.datetime(2016, 4, 25, 0, 0),\n",
       "       datetime.datetime(2016, 5, 27, 0, 0),\n",
       "       datetime.datetime(2016, 6, 12, 0, 0),\n",
       "       datetime.datetime(2016, 6, 28, 0, 0),\n",
       "       datetime.datetime(2016, 7, 14, 0, 0),\n",
       "       datetime.datetime(2016, 7, 30, 0, 0),\n",
       "       datetime.datetime(2016, 8, 15, 0, 0),\n",
       "       datetime.datetime(2016, 8, 31, 0, 0),\n",
       "       datetime.datetime(2016, 9, 16, 0, 0),\n",
       "       datetime.datetime(2016, 10, 2, 0, 0),\n",
       "       datetime.datetime(2016, 10, 18, 0, 0),\n",
       "       datetime.datetime(2016, 11, 3, 0, 0),\n",
       "       datetime.datetime(2016, 11, 19, 0, 0),\n",
       "       datetime.datetime(2016, 12, 5, 0, 0),\n",
       "       datetime.datetime(2016, 12, 21, 0, 0),\n",
       "       datetime.datetime(2017, 1, 14, 0, 0),\n",
       "       datetime.datetime(2017, 2, 15, 0, 0),\n",
       "       datetime.datetime(2017, 3, 19, 0, 0),\n",
       "       datetime.datetime(2017, 4, 4, 0, 0),\n",
       "       datetime.datetime(2017, 4, 20, 0, 0),\n",
       "       datetime.datetime(2017, 5, 22, 0, 0),\n",
       "       datetime.datetime(2017, 6, 7, 0, 0),\n",
       "       datetime.datetime(2017, 6, 23, 0, 0),\n",
       "       datetime.datetime(2017, 7, 9, 0, 0),\n",
       "       datetime.datetime(2017, 7, 25, 0, 0),\n",
       "       datetime.datetime(2017, 8, 10, 0, 0),\n",
       "       datetime.datetime(2017, 8, 26, 0, 0),\n",
       "       datetime.datetime(2017, 9, 11, 0, 0),\n",
       "       datetime.datetime(2017, 9, 27, 0, 0),\n",
       "       datetime.datetime(2017, 10, 13, 0, 0),\n",
       "       datetime.datetime(2017, 10, 29, 0, 0),\n",
       "       datetime.datetime(2017, 11, 14, 0, 0),\n",
       "       datetime.datetime(2017, 11, 30, 0, 0),\n",
       "       datetime.datetime(2017, 12, 16, 0, 0),\n",
       "       datetime.datetime(2017, 1, 6, 0, 0),\n",
       "       datetime.datetime(2017, 1, 22, 0, 0),\n",
       "       datetime.datetime(2017, 2, 7, 0, 0),\n",
       "       datetime.datetime(2017, 2, 23, 0, 0),\n",
       "       datetime.datetime(2017, 3, 11, 0, 0),\n",
       "       datetime.datetime(2017, 4, 12, 0, 0),\n",
       "       datetime.datetime(2017, 4, 28, 0, 0),\n",
       "       datetime.datetime(2017, 5, 14, 0, 0),\n",
       "       datetime.datetime(2017, 5, 30, 0, 0),\n",
       "       datetime.datetime(2017, 6, 15, 0, 0),\n",
       "       datetime.datetime(2017, 7, 1, 0, 0),\n",
       "       datetime.datetime(2017, 7, 17, 0, 0),\n",
       "       datetime.datetime(2017, 8, 2, 0, 0),\n",
       "       datetime.datetime(2017, 8, 18, 0, 0),\n",
       "       datetime.datetime(2017, 9, 3, 0, 0),\n",
       "       datetime.datetime(2017, 9, 19, 0, 0),\n",
       "       datetime.datetime(2017, 10, 5, 0, 0),\n",
       "       datetime.datetime(2017, 10, 21, 0, 0),\n",
       "       datetime.datetime(2017, 11, 6, 0, 0),\n",
       "       datetime.datetime(2017, 12, 24, 0, 0),\n",
       "       datetime.datetime(2018, 1, 1, 0, 0),\n",
       "       datetime.datetime(2018, 1, 17, 0, 0),\n",
       "       datetime.datetime(2018, 2, 2, 0, 0),\n",
       "       datetime.datetime(2018, 2, 18, 0, 0),\n",
       "       datetime.datetime(2018, 4, 23, 0, 0),\n",
       "       datetime.datetime(2018, 5, 9, 0, 0),\n",
       "       datetime.datetime(2018, 6, 26, 0, 0),\n",
       "       datetime.datetime(2018, 7, 28, 0, 0),\n",
       "       datetime.datetime(2018, 8, 13, 0, 0),\n",
       "       datetime.datetime(2018, 8, 29, 0, 0),\n",
       "       datetime.datetime(2018, 9, 14, 0, 0),\n",
       "       datetime.datetime(2018, 9, 30, 0, 0),\n",
       "       datetime.datetime(2018, 10, 16, 0, 0),\n",
       "       datetime.datetime(2018, 11, 1, 0, 0),\n",
       "       datetime.datetime(2018, 1, 25, 0, 0),\n",
       "       datetime.datetime(2018, 2, 10, 0, 0),\n",
       "       datetime.datetime(2018, 2, 26, 0, 0),\n",
       "       datetime.datetime(2018, 3, 30, 0, 0),\n",
       "       datetime.datetime(2018, 4, 15, 0, 0),\n",
       "       datetime.datetime(2018, 5, 1, 0, 0),\n",
       "       datetime.datetime(2018, 5, 17, 0, 0),\n",
       "       datetime.datetime(2018, 6, 2, 0, 0),\n",
       "       datetime.datetime(2018, 6, 18, 0, 0),\n",
       "       datetime.datetime(2018, 7, 4, 0, 0),\n",
       "       datetime.datetime(2018, 7, 20, 0, 0),\n",
       "       datetime.datetime(2018, 8, 5, 0, 0),\n",
       "       datetime.datetime(2018, 8, 21, 0, 0),\n",
       "       datetime.datetime(2018, 9, 6, 0, 0),\n",
       "       datetime.datetime(2018, 9, 22, 0, 0),\n",
       "       datetime.datetime(2018, 10, 8, 0, 0),\n",
       "       datetime.datetime(2018, 10, 24, 0, 0),\n",
       "       datetime.datetime(2018, 11, 9, 0, 0),\n",
       "       datetime.datetime(2018, 11, 25, 0, 0),\n",
       "       datetime.datetime(2018, 12, 11, 0, 0),\n",
       "       datetime.datetime(2019, 1, 4, 0, 0),\n",
       "       datetime.datetime(2019, 1, 20, 0, 0),\n",
       "       datetime.datetime(2019, 2, 5, 0, 0),\n",
       "       datetime.datetime(2019, 2, 21, 0, 0),\n",
       "       datetime.datetime(2019, 3, 9, 0, 0),\n",
       "       datetime.datetime(2019, 3, 25, 0, 0),\n",
       "       datetime.datetime(2019, 5, 12, 0, 0),\n",
       "       datetime.datetime(2019, 5, 28, 0, 0),\n",
       "       datetime.datetime(2019, 6, 13, 0, 0),\n",
       "       datetime.datetime(2019, 6, 29, 0, 0),\n",
       "       datetime.datetime(2019, 7, 15, 0, 0),\n",
       "       datetime.datetime(2019, 7, 31, 0, 0),\n",
       "       datetime.datetime(2019, 8, 16, 0, 0),\n",
       "       datetime.datetime(2019, 9, 1, 0, 0),\n",
       "       datetime.datetime(2019, 9, 17, 0, 0),\n",
       "       datetime.datetime(2019, 10, 3, 0, 0),\n",
       "       datetime.datetime(2019, 12, 6, 0, 0),\n",
       "       datetime.datetime(2019, 1, 12, 0, 0),\n",
       "       datetime.datetime(2019, 1, 28, 0, 0),\n",
       "       datetime.datetime(2019, 2, 13, 0, 0),\n",
       "       datetime.datetime(2019, 3, 1, 0, 0),\n",
       "       datetime.datetime(2019, 3, 17, 0, 0),\n",
       "       datetime.datetime(2019, 4, 2, 0, 0),\n",
       "       datetime.datetime(2019, 4, 18, 0, 0),\n",
       "       datetime.datetime(2019, 5, 4, 0, 0),\n",
       "       datetime.datetime(2019, 5, 20, 0, 0),\n",
       "       datetime.datetime(2019, 6, 5, 0, 0),\n",
       "       datetime.datetime(2019, 6, 21, 0, 0),\n",
       "       datetime.datetime(2019, 7, 7, 0, 0),\n",
       "       datetime.datetime(2019, 7, 23, 0, 0),\n",
       "       datetime.datetime(2019, 8, 24, 0, 0),\n",
       "       datetime.datetime(2019, 9, 9, 0, 0),\n",
       "       datetime.datetime(2019, 9, 25, 0, 0),\n",
       "       datetime.datetime(2019, 10, 11, 0, 0),\n",
       "       datetime.datetime(2019, 10, 27, 0, 0),\n",
       "       datetime.datetime(2019, 11, 12, 0, 0),\n",
       "       datetime.datetime(2019, 12, 30, 0, 0),\n",
       "       datetime.datetime(2020, 1, 7, 0, 0),\n",
       "       datetime.datetime(2020, 2, 24, 0, 0),\n",
       "       datetime.datetime(2020, 3, 11, 0, 0),\n",
       "       datetime.datetime(2020, 3, 27, 0, 0),\n",
       "       datetime.datetime(2020, 4, 12, 0, 0),\n",
       "       datetime.datetime(2020, 5, 30, 0, 0),\n",
       "       datetime.datetime(2020, 3, 3, 0, 0),\n",
       "       datetime.datetime(2020, 3, 19, 0, 0),\n",
       "       datetime.datetime(2020, 4, 4, 0, 0),\n",
       "       datetime.datetime(2020, 5, 6, 0, 0),\n",
       "       datetime.datetime(2020, 5, 22, 0, 0),\n",
       "       datetime.datetime(2020, 6, 7, 0, 0)], dtype=object)"
      ]
     },
     "execution_count": 22,
     "metadata": {},
     "output_type": "execute_result"
    }
   ],
   "source": [
    "dates_monitor = []\n",
    "dates = data_list[0].cropped_dates\n",
    "\n",
    "# collect dates for monitor period\n",
    "for i in range(len(dates)):\n",
    "    if start_monitor <= dates[i]:\n",
    "        dates_monitor.append(dates[i])\n",
    "dates_array = np.array(dates_monitor) # dates_array is the dates that are in the monitoring period\n",
    "\n",
    "dates_array"
   ]
  },
  {
   "cell_type": "markdown",
   "metadata": {},
   "source": [
    "# Classify output for plotting"
   ]
  },
  {
   "cell_type": "code",
   "execution_count": 23,
   "metadata": {},
   "outputs": [
    {
     "name": "stdout",
     "output_type": "stream",
     "text": [
      "{2010: 0, 2011: 1, 2012: 16, 2013: 28, 2014: 57, 2015: 89, 2016: 130, 2017: 171, 2018: 210, 2019: 244, 2020: 281}\n"
     ]
    },
    {
     "data": {
      "image/png": "[encoded data removed]",
      "text/plain": [
       "<Figure size 432x72 with 1 Axes>"
      ]
     },
     "metadata": {
      "needs_background": "light"
     },
     "output_type": "display_data"
    }
   ],
   "source": [
    "breaks_plot_years, idx_starts = classify_output(start_monitor,end_monitor,breaks_plot,dates_array)\n",
    "save_plot(breaks_plot_years, output_dir, save_name = \"all_negative_breaks_years\")"
   ]
  },
  {
   "cell_type": "markdown",
   "metadata": {},
   "source": [
    "# Plot output"
   ]
  },
  {
   "cell_type": "code",
   "execution_count": 25,
   "metadata": {
    "scrolled": false
   },
   "outputs": [
    {
     "ename": "NameError",
     "evalue": "name 'ticklist' is not defined",
     "output_type": "error",
     "traceback": [
      "\u001b[0;31m---------------------------------------------------------------------------\u001b[0m",
      "\u001b[0;31mNameError\u001b[0m                                 Traceback (most recent call last)",
      "\u001b[0;32m<ipython-input-25-24d0ffaf7dd0>\u001b[0m in \u001b[0;36m<module>\u001b[0;34m\u001b[0m\n\u001b[0;32m----> 1\u001b[0;31m \u001b[0mplot_output_matplotlib\u001b[0m\u001b[0;34m(\u001b[0m\u001b[0midx_starts\u001b[0m\u001b[0;34m,\u001b[0m\u001b[0mbreaks_plot_years\u001b[0m\u001b[0;34m,\u001b[0m\u001b[0mticklist\u001b[0m\u001b[0;34m)\u001b[0m\u001b[0;34m\u001b[0m\u001b[0;34m\u001b[0m\u001b[0m\n\u001b[0m\u001b[1;32m      2\u001b[0m \u001b[0msave_plot\u001b[0m\u001b[0;34m(\u001b[0m\u001b[0mbreaks_plot_years\u001b[0m\u001b[0;34m,\u001b[0m \u001b[0moutput_dir\u001b[0m\u001b[0;34m,\u001b[0m \u001b[0msave_name\u001b[0m \u001b[0;34m=\u001b[0m \u001b[0;34m\"breaks_per_year\"\u001b[0m\u001b[0;34m)\u001b[0m\u001b[0;34m\u001b[0m\u001b[0;34m\u001b[0m\u001b[0m\n",
      "\u001b[0;31mNameError\u001b[0m: name 'ticklist' is not defined"
     ]
    }
   ],
   "source": [
    "plot_output_matplotlib(idx_starts,breaks_plot_years,ticklist)\n",
    "save_plot(breaks_plot_years, output_dir, save_name = \"breaks_per_year\")"
   ]
  },
  {
   "cell_type": "code",
   "execution_count": 26,
   "metadata": {},
   "outputs": [
    {
     "name": "stdout",
     "output_type": "stream",
     "text": [
      "min_lat  40.701497713586164\n",
      "max_lat  40.701497713586164\n",
      "min_lon  -8.420088821109099\n",
      "max_lon  -8.420088821109099\n"
     ]
    }
   ],
   "source": [
    "\n",
    "set_corners(output_dir,data_list)"
   ]
  },
  {
   "cell_type": "markdown",
   "metadata": {},
   "source": [
    "## Plot all of your segments and save as a html map"
   ]
  },
  {
   "cell_type": "code",
   "execution_count": 38,
   "metadata": {},
   "outputs": [
    {
     "data": {
      "application/vnd.jupyter.widget-view+json": {
       "model_id": "cd7d5c1dbae142d89639780b6dae9856",
       "version_major": 2,
       "version_minor": 0
      },
      "text/plain": [
       "interactive(children=(Dropdown(description='data to plot', index=2, layout=Layout(height='auto', width='500px'…"
      ]
     },
     "metadata": {},
     "output_type": "display_data"
    }
   ],
   "source": [
    "display(plot_display_data_chooser)"
   ]
  },
  {
   "cell_type": "code",
   "execution_count": 39,
   "metadata": {
    "scrolled": false
   },
   "outputs": [
    {
     "name": "stdout",
     "output_type": "stream",
     "text": [
      "Guyana_0\n",
      "Guyana_6\n"
     ]
    },
    {
     "ename": "FileNotFoundError",
     "evalue": "[Errno 2] No such file or directory: 'stored_time_series/Guyana/Guyana_6/corners.json'",
     "output_type": "error",
     "traceback": [
      "\u001b[0;31m---------------------------------------------------------------------------\u001b[0m",
      "\u001b[0;31mFileNotFoundError\u001b[0m                         Traceback (most recent call last)",
      "\u001b[0;32m<ipython-input-39-41ae8a21b34a>\u001b[0m in \u001b[0;36m<module>\u001b[0;34m\u001b[0m\n\u001b[1;32m      7\u001b[0m \u001b[0;34m\u001b[0m\u001b[0m\n\u001b[1;32m      8\u001b[0m \u001b[0;34m\u001b[0m\u001b[0m\n\u001b[0;32m----> 9\u001b[0;31m \u001b[0mm\u001b[0m \u001b[0;34m=\u001b[0m \u001b[0mmerge_plots\u001b[0m\u001b[0;34m(\u001b[0m\u001b[0mbase_output_dir\u001b[0m\u001b[0;34m=\u001b[0m\u001b[0mbase_output_dir\u001b[0m\u001b[0;34m,\u001b[0m\u001b[0mplot_name\u001b[0m\u001b[0;34m=\u001b[0m\u001b[0mplot_display_data_chooser\u001b[0m\u001b[0;34m.\u001b[0m\u001b[0mresult\u001b[0m \u001b[0;34m+\u001b[0m \u001b[0;34m\".png\"\u001b[0m\u001b[0;34m)\u001b[0m\u001b[0;34m\u001b[0m\u001b[0;34m\u001b[0m\u001b[0m\n\u001b[0m\u001b[1;32m     10\u001b[0m \u001b[0;34m\u001b[0m\u001b[0m\n\u001b[1;32m     11\u001b[0m \u001b[0;31m#m = merge_plots(base_output_dir=base_output_dir,plot_name=\"breaks_per_year.png\")\u001b[0m\u001b[0;34m\u001b[0m\u001b[0;34m\u001b[0m\u001b[0;34m\u001b[0m\u001b[0m\n",
      "\u001b[0;32m~/bfastmonitor_cpu/dven/functions.py\u001b[0m in \u001b[0;36mmerge_plots\u001b[0;34m(base_output_dir, plot_name)\u001b[0m\n\u001b[1;32m    179\u001b[0m         \u001b[0;32mif\u001b[0m \u001b[0;32mnot\u001b[0m \u001b[0mdirectory\u001b[0m\u001b[0;34m.\u001b[0m\u001b[0mstartswith\u001b[0m\u001b[0;34m(\u001b[0m\u001b[0;34m'.'\u001b[0m\u001b[0;34m)\u001b[0m\u001b[0;34m:\u001b[0m\u001b[0;34m\u001b[0m\u001b[0;34m\u001b[0m\u001b[0m\n\u001b[1;32m    180\u001b[0m             \u001b[0mprint\u001b[0m\u001b[0;34m(\u001b[0m\u001b[0mdirectory\u001b[0m\u001b[0;34m)\u001b[0m\u001b[0;34m\u001b[0m\u001b[0;34m\u001b[0m\u001b[0m\n\u001b[0;32m--> 181\u001b[0;31m             \u001b[0;32mwith\u001b[0m \u001b[0mopen\u001b[0m\u001b[0;34m(\u001b[0m\u001b[0mbase_output_dir\u001b[0m \u001b[0;34m+\u001b[0m \u001b[0;34m\"/\"\u001b[0m \u001b[0;34m+\u001b[0m \u001b[0mdirectory\u001b[0m \u001b[0;34m+\u001b[0m \u001b[0;34m\"/corners.json\"\u001b[0m\u001b[0;34m,\u001b[0m\u001b[0;34m\"r\"\u001b[0m\u001b[0;34m)\u001b[0m \u001b[0;32mas\u001b[0m \u001b[0mf\u001b[0m\u001b[0;34m:\u001b[0m\u001b[0;34m\u001b[0m\u001b[0;34m\u001b[0m\u001b[0m\n\u001b[0m\u001b[1;32m    182\u001b[0m                 \u001b[0mcorner_dict\u001b[0m \u001b[0;34m=\u001b[0m \u001b[0mjson\u001b[0m\u001b[0;34m.\u001b[0m\u001b[0mload\u001b[0m\u001b[0;34m(\u001b[0m\u001b[0mf\u001b[0m\u001b[0;34m)\u001b[0m\u001b[0;34m\u001b[0m\u001b[0;34m\u001b[0m\u001b[0m\n\u001b[1;32m    183\u001b[0m             \u001b[0mmin_lat\u001b[0m \u001b[0;34m=\u001b[0m \u001b[0mcorner_dict\u001b[0m\u001b[0;34m[\u001b[0m\u001b[0;34m\"min_lat\"\u001b[0m\u001b[0;34m]\u001b[0m\u001b[0;34m\u001b[0m\u001b[0;34m\u001b[0m\u001b[0m\n",
      "\u001b[0;31mFileNotFoundError\u001b[0m: [Errno 2] No such file or directory: 'stored_time_series/Guyana/Guyana_6/corners.json'"
     ]
    }
   ],
   "source": [
    "from folium.plugins import FloatImage\n",
    "import base64\n",
    "\n",
    "import json\n",
    "# have the user choose a type of output plot with a widget \n",
    "#plot_name = \"all_negative_means.png\"\n",
    "\n",
    "\n",
    "m = merge_plots(base_output_dir=base_output_dir,plot_name=plot_display_data_chooser.result + \".png\")\n",
    "\n",
    "#m = merge_plots(base_output_dir=base_output_dir,plot_name=\"breaks_per_year.png\")\n",
    "\n",
    "\n",
    "####\n",
    "# resolution, width, height = 75, 4,4\n",
    "# encoded = base64.b64encode(open(\"output/testcolorbar.png\", 'rb').read()).decode()\n",
    "# from folium import IFrame\n",
    "\n",
    "# html = '<img src=\"data:image/png;base64,{}\">'.format\n",
    "# iframe = IFrame(html(encoded), width=(width*resolution)+20, height=(height*resolution)+20)\n",
    "# popup = folium.Popup(iframe, max_width=2650)\n",
    "\n",
    "# icon = folium.Icon(color=\"red\", icon=\"ok\")\n",
    "# marker = folium.Marker([data_list[0].latitude, data_list[0].longitude], popup=popup, icon=icon)\n",
    "# marker.add_to(m)\n",
    "####\n",
    "\n",
    "\n",
    "#m.save('output/' + output_directory_chooser.result + \"_\" + plot_display_data_chooser.result + \".html\")\n",
    "m"
   ]
  },
  {
   "cell_type": "code",
   "execution_count": null,
   "metadata": {},
   "outputs": [],
   "source": [
    "# from ipyleaflet import Map, basemaps, basemap_to_tiles, Marker\n",
    "# from ipyleaflet import Map, LayersControl, ImageOverlay\n",
    "\n",
    "# m = Map(center=(max_lat, min_lon), zoom=8)\n",
    "# url = \"stored_time_series/Guyana/image.png\"\n",
    "\n",
    "# image = ImageOverlay(url = url,\n",
    "#                      bounds=((min_lat, min_lon), (max_lat, max_lon)))\n",
    "\n",
    "# m.add_layer(Marker(location=(max_lat, min_lon)))\n",
    "\n",
    "# control = LayersControl(position='topright')\n",
    "# m.add_control(control)\n",
    "# m.add_layer(image);\n",
    "\n",
    "# m\n",
    "\n",
    "# #m.save('my_map.html', title='My Map')"
   ]
  }
 ],
 "metadata": {
  "kernelspec": {
   "display_name": "Python 3",
   "language": "python",
   "name": "python3"
  },
  "language_info": {
   "codemirror_mode": {
    "name": "ipython",
    "version": 3
   },
   "file_extension": ".py",
   "mimetype": "text/x-python",
   "name": "python",
   "nbconvert_exporter": "python",
   "pygments_lexer": "ipython3",
   "version": "3.6.9"
  }
 },
 "nbformat": 4,
 "nbformat_minor": 4
}
