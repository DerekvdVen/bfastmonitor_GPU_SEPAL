{
 "cells": [
  {
   "cell_type": "markdown",
   "metadata": {},
   "source": [
    "# This code runs bfastmonitor over an entire time series data set"
   ]
  },
  {
   "cell_type": "code",
   "execution_count": 1,
   "metadata": {},
   "outputs": [
    {
     "name": "stdout",
     "output_type": "stream",
     "text": [
      "\n",
      "    The timeseries class is a wrapper for using SEPAL timeseries data with bfast. \n",
      "    It wraps together a data tile with associated dates file and metadata. \n",
      "    It also allows for saving and loading the output rasters in a specified directory. \n",
      "    \n"
     ]
    }
   ],
   "source": [
    "import os\n",
    "from os.path import expanduser\n",
    "\n",
    "import wget\n",
    "import numpy as np\n",
    "from datetime import datetime\n",
    "import copy\n",
    "import matplotlib\n",
    "import matplotlib.pyplot as plt\n",
    "\n",
    "import json\n",
    "\n",
    "from bfast import BFASTMonitor\n",
    "from bfast.utils import crop_data_dates\n",
    "\n",
    "import csv\n",
    "from shutil import copyfile\n",
    "import pandas as pd\n",
    "from osgeo import gdal, gdal_array, osr\n",
    "\n",
    "import time\n",
    "from tqdm import tqdm\n",
    "\n",
    "import ipywidgets as widgets\n",
    "from ipywidgets import Layout\n",
    "from ipyfilechooser import FileChooser\n",
    "import folium\n",
    "\n",
    "from PIL import Image\n",
    "from matplotlib import cm\n",
    "\n",
    "# import functions from functions.py\n",
    "from functions import set_base_output_dir, set_output_dir, get_data_dict, merge_tiles, set_paths, _find_index_date, normalize \n",
    "from plotting_funcs import save_plot, merge_plots, classify_output, plot_output_matplotlib, set_corners\n",
    "\n",
    "# Import the Timeseries class from time_series.py\n",
    "from time_series import Timeseries\n",
    "print(Timeseries.__doc__)\n",
    "\n",
    "# Import widgets for GUI parameter selection\n",
    "from widgets import get_widgets, get_dates_widgets\n",
    "output_directory_chooser, k_chooser,freq_chooser,trend_chooser,hfrac_chooser,level_chooser,backend_chooser, load_chooser, block_size_chooser, plot_display_data_chooser = get_widgets()"
   ]
  },
  {
   "cell_type": "code",
   "execution_count": 2,
   "metadata": {},
   "outputs": [],
   "source": [
    "%matplotlib inline"
   ]
  },
  {
   "cell_type": "code",
   "execution_count": 3,
   "metadata": {},
   "outputs": [
    {
     "data": {
      "application/vnd.jupyter.widget-view+json": {
       "model_id": "cf224c9146bd43a494f37ad0679dd10d",
       "version_major": 2,
       "version_minor": 0
      },
      "text/plain": [
       "interactive(children=(Text(value='', description='Output storage name: (country/location name, e.g. \"Guyana\")'…"
      ]
     },
     "metadata": {},
     "output_type": "display_data"
    }
   ],
   "source": [
    "display(output_directory_chooser)"
   ]
  },
  {
   "cell_type": "code",
   "execution_count": 4,
   "metadata": {},
   "outputs": [
    {
     "name": "stdout",
     "output_type": "stream",
     "text": [
      "Output directory name: stored_time_series/Portugal_small\n"
     ]
    }
   ],
   "source": [
    "base_output_dir = set_base_output_dir(output_directory_chooser)"
   ]
  },
  {
   "cell_type": "markdown",
   "metadata": {},
   "source": [
    "# Select your timeseries folder"
   ]
  },
  {
   "cell_type": "code",
   "execution_count": 5,
   "metadata": {},
   "outputs": [
    {
     "data": {
      "application/vnd.jupyter.widget-view+json": {
       "model_id": "ccc217dc8e7c410788fbbe4e6b7790a6",
       "version_major": 2,
       "version_minor": 0
      },
      "text/plain": [
       "FileChooser(path='/home/dven', filename='', title='HTML(value='', layout=Layout(display='none'))', show_hidden…"
      ]
     },
     "metadata": {},
     "output_type": "display_data"
    }
   ],
   "source": [
    "path = expanduser(\"~\")\n",
    "file_chooser = FileChooser(path)\n",
    "display(file_chooser)"
   ]
  },
  {
   "cell_type": "code",
   "execution_count": 6,
   "metadata": {},
   "outputs": [
    {
     "name": "stdout",
     "output_type": "stream",
     "text": [
      "/home/dven/downloads/Time_series_2020-07-07_11-51-35_Portugal/\n"
     ]
    }
   ],
   "source": [
    "timeseries_directory = file_chooser.selected\n",
    "\n",
    "if not timeseries_directory:\n",
    "    raise Exception(\"Please choose a time series directory above with the file selector\")\n",
    "else:\n",
    "    print(timeseries_directory)\n",
    "    #output_dir = set_output_dir(output_directory_chooser,timeseries_directory)\n",
    "    #print(output_dir)"
   ]
  },
  {
   "cell_type": "code",
   "execution_count": 7,
   "metadata": {},
   "outputs": [
    {
     "name": "stdout",
     "output_type": "stream",
     "text": [
      "No tiles, setting up data as one tile\n",
      "Timeseries class holding 529 dates, sized 14 by 8.\n"
     ]
    }
   ],
   "source": [
    "# set path to dates file\n",
    "run_dict = {}\n",
    "for directory in os.listdir(timeseries_directory):\n",
    "    \n",
    "    segment_location = timeseries_directory + directory + \"/\"\n",
    "    \n",
    "    data_list = set_paths(timeseries_directory = segment_location)\n",
    "    \n",
    "    run_dict[directory] = data_list\n",
    "    \n",
    "    for tile in data_list:\n",
    "        print(tile)"
   ]
  },
  {
   "cell_type": "code",
   "execution_count": 8,
   "metadata": {},
   "outputs": [
    {
     "name": "stdout",
     "output_type": "stream",
     "text": [
      "[Timeseries: /home/dven/downloads/Time_series_2020-07-07_11-51-35_Portugal/1/stack.vrt ]\n"
     ]
    }
   ],
   "source": [
    "for data_list in run_dict.values():\n",
    "    print(data_list)\n"
   ]
  },
  {
   "cell_type": "code",
   "execution_count": 9,
   "metadata": {},
   "outputs": [
    {
     "data": {
      "application/vnd.jupyter.widget-view+json": {
       "model_id": "40c1ab13470f45b7b7bcdcfbceca92a9",
       "version_major": 2,
       "version_minor": 0
      },
      "text/plain": [
       "interactive(children=(Dropdown(description='k, harmonic terms', index=2, layout=Layout(height='auto', width='5…"
      ]
     },
     "metadata": {},
     "output_type": "display_data"
    },
    {
     "data": {
      "application/vnd.jupyter.widget-view+json": {
       "model_id": "defad5db23404d50b388e5aea634f1ce",
       "version_major": 2,
       "version_minor": 0
      },
      "text/plain": [
       "interactive(children=(IntSlider(value=365, description='freq, frequency of seasonal model (days)', layout=Layo…"
      ]
     },
     "metadata": {},
     "output_type": "display_data"
    },
    {
     "data": {
      "application/vnd.jupyter.widget-view+json": {
       "model_id": "17cd45e6558d4c7680902910afbb111e",
       "version_major": 2,
       "version_minor": 0
      },
      "text/plain": [
       "interactive(children=(Checkbox(value=True, description='add trend', layout=Layout(height='auto', width='500px'…"
      ]
     },
     "metadata": {},
     "output_type": "display_data"
    },
    {
     "data": {
      "application/vnd.jupyter.widget-view+json": {
       "model_id": "5a1da93ebb684f45977e96212936e683",
       "version_major": 2,
       "version_minor": 0
      },
      "text/plain": [
       "interactive(children=(FloatSlider(value=0.25, description='Bandwith relative to sample size', layout=Layout(he…"
      ]
     },
     "metadata": {},
     "output_type": "display_data"
    },
    {
     "data": {
      "application/vnd.jupyter.widget-view+json": {
       "model_id": "bb3c2f4bac3842259122df8e4eb5159d",
       "version_major": 2,
       "version_minor": 0
      },
      "text/plain": [
       "interactive(children=(SelectionSlider(description='Significance level of the monitoring', layout=Layout(height…"
      ]
     },
     "metadata": {},
     "output_type": "display_data"
    },
    {
     "data": {
      "application/vnd.jupyter.widget-view+json": {
       "model_id": "cabec9e937c94188b1ad2aa9c714f536",
       "version_major": 2,
       "version_minor": 0
      },
      "text/plain": [
       "interactive(children=(Dropdown(description='backend', layout=Layout(height='auto', width='500px'), options=('o…"
      ]
     },
     "metadata": {},
     "output_type": "display_data"
    }
   ],
   "source": [
    "# Choose parameters\n",
    "display(k_chooser)\n",
    "display(freq_chooser)\n",
    "display(trend_chooser)\n",
    "display(hfrac_chooser)\n",
    "display(level_chooser)\n",
    "display(backend_chooser)"
   ]
  },
  {
   "cell_type": "code",
   "execution_count": 10,
   "metadata": {},
   "outputs": [],
   "source": [
    "# Set parameters\n",
    "k = k_chooser.result\n",
    "freq = freq_chooser.result\n",
    "trend = trend_chooser.result\n",
    "hfrac = hfrac_chooser.result\n",
    "level = 1 - level_chooser.result\n",
    "backend = backend_chooser.result\n",
    "verbose = 1\n",
    "device_id = 0"
   ]
  },
  {
   "cell_type": "code",
   "execution_count": 11,
   "metadata": {},
   "outputs": [
    {
     "data": {
      "application/vnd.jupyter.widget-view+json": {
       "model_id": "0b2318d8210d457482aaf19f6e82fefe",
       "version_major": 2,
       "version_minor": 0
      },
      "text/plain": [
       "interactive(children=(SelectionRangeSlider(description='Select the monitoring date range: ', index=(0, 7456), …"
      ]
     },
     "metadata": {},
     "output_type": "display_data"
    },
    {
     "data": {
      "application/vnd.jupyter.widget-view+json": {
       "model_id": "7dbc9cd2a0284b2dbfba3e14acbac7ca",
       "version_major": 2,
       "version_minor": 0
      },
      "text/plain": [
       "interactive(children=(SelectionSlider(description='Start history period:', options=(('2000-01-08', Timestamp('…"
      ]
     },
     "metadata": {},
     "output_type": "display_data"
    }
   ],
   "source": [
    "dates = data_list[0].dates\n",
    "start_date = dates[0] # 0 or 10 does not work.. 100 did ########\n",
    "end_date = dates[-1]\n",
    "pandas_dates = pd.date_range(start_date, end_date, freq='D')\n",
    "\n",
    "options =  [(date.strftime('%Y-%m-%d'),date) for date in pandas_dates]\n",
    "index = (0, len(options)-1)\n",
    "\n",
    "monitoring_period_chooser, history_period_chooser = get_dates_widgets(options = options, index = index)\n",
    "\n",
    "display(monitoring_period_chooser)\n",
    "display(history_period_chooser)"
   ]
  },
  {
   "cell_type": "code",
   "execution_count": 12,
   "metadata": {},
   "outputs": [],
   "source": [
    "start_monitor, end_monitor = monitoring_period_chooser.result\n",
    "start_hist = history_period_chooser.result\n",
    "\n",
    "if history_period_chooser.result > start_monitor:\n",
    "    raise Exception(\"Your history period must start before the monitoring period\")\n",
    "if start_monitor < dates[50]:\n",
    "    raise Warning(\"Your history period is relatively short, did you move the monitoring date range to a later date?\")\n",
    "\n",
    "\n"
   ]
  },
  {
   "cell_type": "code",
   "execution_count": 13,
   "metadata": {},
   "outputs": [
    {
     "data": {
      "application/vnd.jupyter.widget-view+json": {
       "model_id": "59b489f13e95449e8660ad7d7704063f",
       "version_major": 2,
       "version_minor": 0
      },
      "text/plain": [
       "interactive(children=(Dropdown(description='block size, bigger is generally faster, but may result in memory i…"
      ]
     },
     "metadata": {},
     "output_type": "display_data"
    }
   ],
   "source": [
    "display(block_size_chooser)"
   ]
  },
  {
   "cell_type": "code",
   "execution_count": 14,
   "metadata": {
    "scrolled": true
   },
   "outputs": [
    {
     "name": "stderr",
     "output_type": "stream",
     "text": [
      "Processing tile 1 out of 1:   0%|          | 0/1 [00:00<?, ?it/s]\n",
      "  0%|          | 0/0.001708984375 [00:00<?, ?it/s]\u001b[A\n",
      "Processing blocks of tile::   0%|          | 0/0.001708984375 [00:00<?, ?it/s]\u001b[A"
     ]
    },
    {
     "name": "stdout",
     "output_type": "stream",
     "text": [
      "device:  [<pyopencl.Device 'Tesla T4' on 'NVIDIA CUDA' at 0x310f670>]\n",
      "Monitoring starts at:  2012-03-06 00:00:00\n",
      "Monitoring ends at:  2020-06-07 00:00:00\n",
      "Dataset history starts at:  2000-01-08 00:00:00\n",
      "frequency:  365\n",
      "harmonic term:  3\n",
      "Hfrac: Float in the interval (0,1) specifying the bandwidth relative to the sample size in the MOSUM/ME monitoring processes.:  0.25\n",
      "Trend: Whether a tend offset term shall be used or not:  True\n",
      "Level: Significance level of the monitoring (and ROC, if selected) procedure, i.e., probability of type I error:  0.050000000000000044\n",
      "backend: GPU opencl or CPU python:  opencl\n",
      "verbose: The verbosity level (0=no output, 1=output):  1\n",
      "rastersize:  14 8\n",
      "The natural block size is the block size that is most efficient for accessing the format, gdal found blocksize:  [14, 8]\n",
      "set blocksize explicitly:  256 ,  256\n",
      "start monitor:  2012-03-06 00:00:00\n",
      "end monitor:  2020-06-07 00:00:00\n",
      "start history:  2000-01-08 00:00:00\n",
      "0 0 14 8\n"
     ]
    },
    {
     "name": "stderr",
     "output_type": "stream",
     "text": [
      "Processing blocks of tile:: : 1it [00:02,  2.69s/it]                          \n",
      "Processing tile 1 out of 1:   0%|          | 0/1 [00:02<?, ?it/s]"
     ]
    },
    {
     "name": "stdout",
     "output_type": "stream",
     "text": [
      "--- runtime for data initialization:\t\t0.0022139549255371094\n",
      "--- runtime for data transfer (host->device):\t0.00019669532775878906\n",
      "--- runtime for data preprocessing:\t\t0.00037789344787597656\n",
      "--- runtime for kernel execution:\t\t0.0018956661224365234\n",
      "--- runtime for data transfer (device->host):\t0.0002219676971435547\n",
      "Fitting model over all blocks took 2.6925477981567383 seconds.\n"
     ]
    },
    {
     "name": "stderr",
     "output_type": "stream",
     "text": [
      "\n"
     ]
    }
   ],
   "source": [
    "x_block = y_block = block_size_chooser.result\n",
    "\n",
    "\n",
    "for data_list in run_dict:\n",
    "    # loading bar\n",
    "    with tqdm(total=len(data_list)) as pbar1:\n",
    "        \n",
    "        \n",
    "        save_location = base_output_dir + \"/\" + data_list\n",
    "        if not os.path.exists(save_location):\n",
    "            os.makedirs(save_location)\n",
    "        \n",
    "\n",
    "        # loop over tile(s) in the data_list\n",
    "        for counter, tile in enumerate(run_dict[data_list]):\n",
    "            pbar1.set_description(\"Processing tile %s out of %s\" % (counter+1, len(data_list)) )\n",
    "\n",
    "            tile.set_bfast_parameters(start_monitor = start_monitor, \n",
    "                                         end_monitor = end_monitor,\n",
    "                                         start_hist = start_hist,\n",
    "                                         freq = freq,\n",
    "                                         k = k,\n",
    "                                         hfrac = hfrac,\n",
    "                                         trend = trend,\n",
    "                                         level = level,\n",
    "                                         backend=backend,\n",
    "                                         verbose=verbose,\n",
    "                                         device_id=device_id)\n",
    "\n",
    "            tile.get_bfast_parameters()\n",
    "\n",
    "            tile.loop_blocks(x_block_size = x_block,\n",
    "                                y_block_size=y_block)\n",
    "\n",
    "            tile.log_all_output(output_dir_name=save_location)\n",
    "\n",
    "            pbar1.update(counter)\n",
    "\n",
    "    pbar1.close()\n",
    "\n",
    "    # Store the cropped dates for optional loading later\n",
    "    with open(save_location + \"/cropped_dates.csv\",\"w\") as f:\n",
    "        for date in run_dict[data_list][0].cropped_dates:\n",
    "            f.write(date.strftime(\"%m/%d/%Y\"))\n",
    "            f.write(\"\\n\")\n"
   ]
  },
  {
   "cell_type": "code",
   "execution_count": 16,
   "metadata": {},
   "outputs": [
    {
     "name": "stdout",
     "output_type": "stream",
     "text": [
      "minus2s:  0\n",
      "minus1s:  80\n",
      "total 112\n",
      "percentage cells that lacked enough data for finding means or breaks: 0.0\n",
      "percentage cells where breaks were found: 28.57142857142857\n",
      "amount of nans in means:  96\n",
      "{2012: 0, 2013: 9, 2014: 38, 2015: 70, 2016: 111, 2017: 152, 2018: 191, 2019: 225, 2020: 262}\n"
     ]
    },
    {
     "name": "stderr",
     "output_type": "stream",
     "text": [
      "/home/dven/bfastmonitor_cpu/dven/plotting_funcs.py:127: MatplotlibDeprecationWarning: Passing parameters norm and vmin/vmax simultaneously is deprecated since 3.3 and will become an error two minor releases later. Please pass vmin/vmax directly to the norm when creating it.\n",
      "  im = axes.imshow(breaks_plot_years, cmap=cmap, vmin=0, vmax=bins, norm=norm)\n"
     ]
    },
    {
     "data": {
      "image/png": "[encoded data removed]",
      "text/plain": [
       "<Figure size 432x72 with 1 Axes>"
      ]
     },
     "metadata": {
      "needs_background": "light"
     },
     "output_type": "display_data"
    },
    {
     "data": {
      "image/png": "[encoded data removed]",
      "text/plain": [
       "<Figure size 432x72 with 1 Axes>"
      ]
     },
     "metadata": {
      "needs_background": "light"
     },
     "output_type": "display_data"
    },
    {
     "data": {
      "image/png": "[encoded data removed]",
      "text/plain": [
       "<Figure size 432x72 with 1 Axes>"
      ]
     },
     "metadata": {
      "needs_background": "light"
     },
     "output_type": "display_data"
    },
    {
     "data": {
      "image/png": "[encoded data removed]",
      "text/plain": [
       "<Figure size 432x72 with 1 Axes>"
      ]
     },
     "metadata": {
      "needs_background": "light"
     },
     "output_type": "display_data"
    },
    {
     "data": {
      "image/png": "[encoded data removed]",
      "text/plain": [
       "<Figure size 432x72 with 1 Axes>"
      ]
     },
     "metadata": {
      "needs_background": "light"
     },
     "output_type": "display_data"
    },
    {
     "data": {
      "image/png": "[encoded data removed]",
      "text/plain": [
       "<Figure size 3600x3600 with 2 Axes>"
      ]
     },
     "metadata": {
      "needs_background": "light"
     },
     "output_type": "display_data"
    },
    {
     "name": "stdout",
     "output_type": "stream",
     "text": [
      "min_lat  40.701497713586164\n",
      "max_lat  40.701497713586164\n",
      "min_lon  -8.420088821109099\n",
      "max_lon  -8.420088821109099\n"
     ]
    },
    {
     "data": {
      "image/png": "[encoded data removed]",
      "text/plain": [
       "<Figure size 432x72 with 1 Axes>"
      ]
     },
     "metadata": {
      "needs_background": "light"
     },
     "output_type": "display_data"
    }
   ],
   "source": [
    "for data_list in run_dict:\n",
    "    save_location = base_output_dir + \"/\" + data_list\n",
    "    \n",
    "    for tile in run_dict[data_list]:\n",
    "        tile.check_arrays(min_perc_lacking_data = 50)\n",
    "    \n",
    "    if len(run_dict[data_list]) > 1:\n",
    "        big_means_array, big_breaks_array = merge_tiles(run_dict[data_list],output_dir_name = save_location)\n",
    "    \n",
    "    if len(run_dict[data_list])>1:\n",
    "        means = big_means_array\n",
    "        breaks = big_breaks_array\n",
    "    else:\n",
    "        means = run_dict[data_list][0].means_array\n",
    "        breaks = run_dict[data_list][0].breaks_array\n",
    "    \n",
    "    save_plot(means, save_location, save_name = \"all_magnitudes\")\n",
    "    save_plot(breaks, save_location, save_name = \"all_breaks\")\n",
    "    \n",
    "    # select only negative magnitudes\n",
    "    no_breaks_indices = (breaks == -1)\n",
    "    means[no_breaks_indices] = np.nan\n",
    "    means[means > 0] = np.nan # only want negative mean changes\n",
    "\n",
    "    breaks_plot = breaks.astype(np.float)\n",
    "    breaks_plot[breaks == -2] = np.nan\n",
    "    breaks_plot[breaks == -1] = np.nan\n",
    "    breaks_plot[means >= 0] = np.nan\n",
    "\n",
    "    save_plot(means, save_location, save_name = \"all_negative_magnitudes\")\n",
    "    save_plot(breaks_plot, save_location, save_name = \"all_negative_breaks\")\n",
    "\n",
    "    dates_monitor = []\n",
    "    dates = run_dict[data_list][0].cropped_dates\n",
    "\n",
    "    # collect dates for monitor period\n",
    "    for i in range(len(dates)):\n",
    "        if start_monitor <= dates[i]:\n",
    "            dates_monitor.append(dates[i])\n",
    "    dates_array = np.array(dates_monitor) # dates_array is the dates that are in the monitoring period\n",
    "    \n",
    "    breaks_plot_years, idx_starts, ticklist = classify_output(start_monitor,end_monitor,breaks_plot,dates_array)\n",
    "    save_plot(breaks_plot_years, save_location, save_name = \"all_negative_breaks_years\")\n",
    "    \n",
    "    plot_output_matplotlib(idx_starts,breaks_plot_years,ticklist)\n",
    "    save_plot(breaks_plot_years, save_location, save_name = \"breaks_per_year\")\n",
    "    \n",
    "    set_corners(save_location, run_dict[data_list])\n",
    "    \n",
    "    \n",
    "    "
   ]
  },
  {
   "cell_type": "code",
   "execution_count": 17,
   "metadata": {},
   "outputs": [
    {
     "data": {
      "application/vnd.jupyter.widget-view+json": {
       "model_id": "3b5afa3730c24a5a8da30d5785d501f5",
       "version_major": 2,
       "version_minor": 0
      },
      "text/plain": [
       "interactive(children=(Dropdown(description='data to plot', index=1, layout=Layout(height='auto', width='500px'…"
      ]
     },
     "metadata": {},
     "output_type": "display_data"
    }
   ],
   "source": [
    "display(plot_display_data_chooser)"
   ]
  },
  {
   "cell_type": "code",
   "execution_count": 18,
   "metadata": {},
   "outputs": [
    {
     "name": "stdout",
     "output_type": "stream",
     "text": [
      "Portugal_small_1\n",
      "1\n"
     ]
    },
    {
     "data": {
      "text/html": [
       "<div style=\"width:100%;\"><div style=\"position:relative;width:100%;height:0;padding-bottom:60%;\"><span style=\"color:#565656\">Make this Notebook Trusted to load map: File -> Trust Notebook</span><iframe src=\"about:blank\" style=\"position:absolute;width:100%;height:100%;left:0;top:0;border:none !important;\" data-html=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 onload=\"this.contentDocument.open();this.contentDocument.write(atob(this.getAttribute('data-html')));this.contentDocument.close();\" allowfullscreen webkitallowfullscreen mozallowfullscreen></iframe></div></div>"
      ],
      "text/plain": [
       "<folium.folium.Map at 0x7f6b20063908>"
      ]
     },
     "execution_count": 18,
     "metadata": {},
     "output_type": "execute_result"
    }
   ],
   "source": [
    "from folium.plugins import FloatImage\n",
    "import base64\n",
    "\n",
    "import json\n",
    "\n",
    "m = merge_plots(base_output_dir=base_output_dir,plot_name=plot_display_data_chooser.result + \".png\")\n",
    "\n",
    "\n",
    "####\n",
    "# resolution, width, height = 75, 4,4\n",
    "# encoded = base64.b64encode(open(\"output/testcolorbar.png\", 'rb').read()).decode()\n",
    "# from folium import IFrame\n",
    "\n",
    "# html = '<img src=\"data:image/png;base64,{}\">'.format\n",
    "# iframe = IFrame(html(encoded), width=(width*resolution)+20, height=(height*resolution)+20)\n",
    "# popup = folium.Popup(iframe, max_width=2650)\n",
    "\n",
    "# icon = folium.Icon(color=\"red\", icon=\"ok\")\n",
    "# marker = folium.Marker([data_list[0].latitude, data_list[0].longitude], popup=popup, icon=icon)\n",
    "# marker.add_to(m)\n",
    "####\n",
    "\n",
    "\n",
    "#m.save('output/' + output_directory_chooser.result + \"_\" + plot_display_data_chooser.result + \".html\")\n",
    "m"
   ]
  }
 ],
 "metadata": {
  "kernelspec": {
   "display_name": "Python 3",
   "language": "python",
   "name": "python3"
  },
  "language_info": {
   "codemirror_mode": {
    "name": "ipython",
    "version": 3
   },
   "file_extension": ".py",
   "mimetype": "text/x-python",
   "name": "python",
   "nbconvert_exporter": "python",
   "pygments_lexer": "ipython3",
   "version": "3.6.9"
  }
 },
 "nbformat": 4,
 "nbformat_minor": 4
}
