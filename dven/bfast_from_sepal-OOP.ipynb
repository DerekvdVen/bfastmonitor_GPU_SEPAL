{
 "cells": [
  {
   "cell_type": "markdown",
   "metadata": {},
   "source": [
    "# Bfastmonitor CPU using Python\n",
    "## This is bfastmonitor Python"
   ]
  },
  {
   "cell_type": "code",
   "execution_count": 1,
   "metadata": {},
   "outputs": [],
   "source": [
    "import os\n",
    "import wget\n",
    "import numpy as np\n",
    "from datetime import datetime\n",
    "\n",
    "from bfast import BFASTMonitor\n",
    "from bfast.utils import crop_data_dates\n",
    "\n",
    "import copy\n",
    "\n",
    "import matplotlib\n",
    "import matplotlib.pyplot as plt\n",
    "\n",
    "#from sar so extra\n",
    "import csv\n",
    "from shutil import copyfile\n",
    "import pandas as pd\n",
    "from osgeo import gdal\n",
    "from osgeo import gdal_array\n",
    "from osgeo import osr\n",
    "\n",
    "import time\n",
    "import ipywidgets as widgets\n",
    "\n",
    "from ipyfilechooser import FileChooser\n",
    "import folium\n",
    "\n",
    "#specific imports\n",
    "from functions import set_output_dir, get_size, get_data_dict"
   ]
  },
  {
   "cell_type": "code",
   "execution_count": 2,
   "metadata": {},
   "outputs": [],
   "source": [
    "%matplotlib inline"
   ]
  },
  {
   "cell_type": "markdown",
   "metadata": {},
   "source": [
    "## Select a time series folder using ipyfilechooser. The standard download location is in downloads/time_series_name/[0,1,2..n]\n",
    "\n",
    "### Optional: select a name for your output folder. "
   ]
  },
  {
   "cell_type": "code",
   "execution_count": 3,
   "metadata": {},
   "outputs": [
    {
     "data": {
      "application/vnd.jupyter.widget-view+json": {
       "model_id": "9c9801a9152748e7b7be3b1ad8fada27",
       "version_major": 2,
       "version_minor": 0
      },
      "text/plain": [
       "FileChooser(path='/home/dven', filename='', title='HTML(value='', layout=Layout(display='none'))', show_hidden…"
      ]
     },
     "metadata": {},
     "output_type": "display_data"
    },
    {
     "data": {
      "application/vnd.jupyter.widget-view+json": {
       "model_id": "031fc043017e430fae5cf23f936db267",
       "version_major": 2,
       "version_minor": 0
      },
      "text/plain": [
       "interactive(children=(Text(value='', description='Output storage name:', placeholder='output', style=Descripti…"
      ]
     },
     "metadata": {},
     "output_type": "display_data"
    }
   ],
   "source": [
    "from os.path import expanduser\n",
    "path = expanduser(\"~\")\n",
    "\n",
    "def g(directory):\n",
    "    return(directory)\n",
    "                          \n",
    "output_directory_chooser = widgets.interactive(g, \n",
    "                        directory=widgets.Text(description=\"Output storage name:\", \n",
    "                                               style = {'description_width': 'initial'},\n",
    "                                               placeholder = \"output\"))\n",
    "file_chooser = FileChooser(path)\n",
    "\n",
    "display(file_chooser)\n",
    "display(output_directory_chooser)\n",
    "\n"
   ]
  },
  {
   "cell_type": "code",
   "execution_count": 5,
   "metadata": {},
   "outputs": [
    {
     "name": "stdout",
     "output_type": "stream",
     "text": [
      "/home/dven/downloads/Time_series_2020-08-17_15-03-19_Australia/0/\n",
      "Defaulting to output directory name \"output\" \n"
     ]
    }
   ],
   "source": [
    "timeseries_directory = file_chooser.selected\n",
    "\n",
    "if not timeseries_directory:\n",
    "    raise Exception(\"Please choose a time series directory above with the file selector\")\n",
    "else:\n",
    "    print(timeseries_directory)\n",
    "    set_output_dir(output_directory_chooser)"
   ]
  },
  {
   "cell_type": "code",
   "execution_count": 6,
   "metadata": {},
   "outputs": [],
   "source": [
    "from osgeo import gdal\n",
    "\n",
    "import matplotlib.pyplot as plt\n",
    "\n",
    "import numpy as np\n",
    "from numpy import nan\n",
    "from numpy import isnan\n",
    "\n",
    "from bfast import BFASTMonitor\n",
    "from bfast.utils import crop_data_dates\n",
    "\n",
    "import pyopencl\n",
    "import inspect\n",
    "\n",
    "import time\n",
    "from datetime import datetime\n",
    "\n",
    "from tqdm import tqdm\n",
    "\n",
    "import warnings\n",
    "warnings.filterwarnings('always')\n",
    "class Timeseries:\n",
    "    '''\n",
    "    \n",
    "    This is a class that holds a numpy array with time series data, a csv containing dates, and associated geographical metadata.\n",
    "    \n",
    "    '''\n",
    "    \n",
    "    def __init__(self, time_series_path, dates_path):\n",
    "        \n",
    "        self.name = time_series_path + \"stack.vrt\"\n",
    "        self.dir = time_series_path\n",
    "        \n",
    "        self.time_series = gdal.Open(self.name)\n",
    "        #time_series = self.time_series\n",
    "        geotransform = self.time_series.GetGeoTransform()\n",
    "        \n",
    "        # geo metadata\n",
    "        self.xpixelsize = geotransform[1]\n",
    "        self.ypixelsize = geotransform[5]\n",
    "        self.latitude = geotransform[3]\n",
    "        self.longitude = geotransform[0]\n",
    "        self.ncols = self.time_series.RasterXSize\n",
    "        self.nrows = self.time_series.RasterYSize\n",
    "        self.projection = self.time_series.GetProjection()\n",
    "        self.nbands = self.time_series.RasterCount\n",
    "        \n",
    "        band = self.time_series.GetRasterBand(1)\n",
    "        self.block_size = band.GetBlockSize()\n",
    "        self.time_dict = {}\n",
    "        \n",
    "        # self.raster_stack_orig = time_series.ReadAsArray()\n",
    "        # This takes really long and will likely cause memory issues when running on large countries, so don't use it\n",
    "        # Use blocks and base block size on what gdal sets or on ram calculation \n",
    "        \n",
    "        # dates file\n",
    "        with open(dates_path) as f:\n",
    "            dates_list = f.read().split('\\n')\n",
    "            self.dates = [datetime.strptime(d, '%Y-%m-%d') for d in dates_list if len(d) > 0]\n",
    "        \n",
    "    def __str__(self):\n",
    "        return(\"Timeseries holds {} dates, sized {} by {}.\".format(self.nbands,\n",
    "                                                                        self.ncols,\n",
    "                                                                        self.nrows))\n",
    "    def __repr__(self):\n",
    "            return(\"Timeseries: {} \".format(self.name))\n",
    "\n",
    "    def run_bfast(self, block):\n",
    "        data, dates = crop_data_dates(block, self.dates, self.start_hist, self.end_monitor)\n",
    "\n",
    "        # only apply on a small subset\n",
    "        #data = data[:,:80,:80]\n",
    "        \n",
    "        # change nans to a number bfastmonitor-GPU can work with\n",
    "        where_are_NaNs = isnan(data)\n",
    "        data[where_are_NaNs] = -32768\n",
    "\n",
    "        # fit model\n",
    "        self.model.fit(data, dates, nan_value = -32768) \n",
    "        \n",
    "        # save breaks and mean magnitudes\n",
    "        breaks = self.model.breaks # index of date that has a break in dates\n",
    "        means = self.model.means # magnitudes of breaks\n",
    "        \n",
    "        return(breaks,means)\n",
    "    \n",
    "    def loop_blocks(self,x_block_size,y_block_size):\n",
    "\n",
    "        start_time = time.time()\n",
    "        \n",
    "        if not x_block_size:\n",
    "            x_block_size =  self.block_size[0]\n",
    "        else:\n",
    "            self.x_block_size = x_block_size\n",
    "        if not y_block_size:\n",
    "            y_block_size = self.block_size[1]\n",
    "        else:\n",
    "            self.y_block_size = y_block_size\n",
    "        \n",
    "        #x_block_size = self.block_size[0]\n",
    "        #y_block_size = self.block_size[1]\n",
    "        print(\"rastersize: \",self.ncols,self.nrows)\n",
    "        print(\"The natural block size is the block size that is most efficient for accessing the format, gdal found blocksize: \",self.block_size)\n",
    "        print(\"set blocksize explicitly: \",x_block_size,\", \" ,y_block_size)\n",
    "        print(\"bytes required: \", str(8 * self.ncols * self.nrows * self.nbands))\n",
    "        print(\"start monitor: \", self.start_monitor)\n",
    "        print(\"end monitor: \", self.end_monitor)\n",
    "        print(\"start history: \", self.start_hist)\n",
    "        \n",
    "        \n",
    "        first_verstack=True\n",
    "\n",
    "        # loop over yblocks\n",
    "        with tqdm(total=(self.ncols/x_block_size)*(self.nrows/y_block_size)) as pbar2:\n",
    "            pbar2.set_description(\"Processing blocks of tile:\")\n",
    "                    \n",
    "                \n",
    "            for i in range(0, self.nrows, y_block_size):\n",
    "                \n",
    "                \n",
    "                first_horstack = True\n",
    "                if i + y_block_size < self.nrows:\n",
    "                    rows = y_block_size\n",
    "                else:\n",
    "                    rows = self.nrows - i\n",
    "\n",
    "                # Loop over xblocks\n",
    "                for j in range(0, self.ncols, x_block_size):\n",
    "                    \n",
    "                    \n",
    "                    if j + x_block_size < self.ncols:\n",
    "                        cols = x_block_size\n",
    "                    else:\n",
    "                        cols = self.ncols - j\n",
    "\n",
    "                    print(j,i,cols,rows)\n",
    "\n",
    "                    # first step creates the array\n",
    "                    pbar2.update(1)\n",
    "                    \n",
    "                    if first_horstack==True:\n",
    "                        data = self.time_series.ReadAsArray(j, i, cols, rows).astype(np.int16)\n",
    "\n",
    "                        breaks,means = self.run_bfast(data)\n",
    "                        breaks_array = breaks\n",
    "                        means_array = means\n",
    "                        first_horstack=False\n",
    "\n",
    "                    # after that add to array\n",
    "                    else:                    \n",
    "                        data = self.time_series.ReadAsArray(j, i, cols, rows).astype(np.int16)\n",
    "\n",
    "                        breaks,means = self.run_bfast(data)\n",
    "                        breaks_array = np.concatenate((breaks_array,breaks),axis = 1)\n",
    "                        means_array = np.concatenate((means_array,means),axis = 1)\n",
    "                \n",
    "                \n",
    "                # first step create new variable verstack for the data\n",
    "\n",
    "                if first_verstack == True:\n",
    "                    stack_breaks_array = breaks_array\n",
    "                    stack_means_array = means_array\n",
    "                    first_verstack = False\n",
    "                \n",
    "                # after that add data to array\n",
    "                else:\n",
    "                    stack_breaks_array = np.concatenate((stack_breaks_array,breaks_array),axis=0)\n",
    "                    stack_means_array = np.concatenate((stack_means_array,means_array),axis=0)\n",
    "\n",
    "            self.breaks_array = stack_breaks_array\n",
    "            self.means_array = stack_means_array\n",
    "            \n",
    "            pbar2.close()\n",
    "            end_time = time.time()\n",
    "            print(\"Fitting model over all blocks took {} seconds.\".format(end_time - start_time))\n",
    "            self.time_dict[self.name] = str(end_time - start_time) + \" seconds\"\n",
    "\n",
    "    def set_bfast_parameters(self, start_monitor, end_monitor, start_hist,freq,k,hfrac,trend,level,backend='opencl',verbose=1,device_id=0):\n",
    "        self.start_monitor = start_monitor\n",
    "        self.end_monitor = end_monitor\n",
    "        self.start_hist = start_hist\n",
    "        self.freq = freq\n",
    "        self.k = k\n",
    "        self.hfrac = hfrac\n",
    "        self.trend = trend\n",
    "        self.level = level\n",
    "        self.backend = backend\n",
    "        self.verbose = verbose\n",
    "        \n",
    "        self.model = BFASTMonitor(\n",
    "                    self.start_monitor,\n",
    "                    freq=freq, # add these\n",
    "                    k=k,\n",
    "                    hfrac=hfrac,\n",
    "                    trend=trend,\n",
    "                    level=level,\n",
    "                    backend=backend,\n",
    "                    verbose=verbose,\n",
    "                    device_id=device_id,\n",
    "                    )\n",
    "        \n",
    "        try:\n",
    "            print(pyopencl.get_platforms()[0].get_devices())\n",
    "        except:\n",
    "            print(\"You selected  openCL, but no device was found, are you sure you set up a gpu session?\")\n",
    "\n",
    "    \n",
    "    def get_bfast_parameters(self):\n",
    "        print(\"Monitoring starts at: \", self.start_monitor)\n",
    "        print(\"Monitoring ends at: \", self.end_monitor)\n",
    "        print(\"Dataset history starts at: \", self.start_hist)\n",
    "        print(\"frequency: \", self.freq)\n",
    "        print(\"harmonic term: \", self.k)\n",
    "        print(\"Hfrac: Float in the interval (0,1) specifying the bandwidth relative to the sample size in the MOSUM/ME monitoring processes.: \", self.hfrac)\n",
    "        print(\"Trend: Whether a tend offset term shall be used or not: \", self.trend)\n",
    "        print(\"Level: Significance level of the monitoring (and ROC, if selected) procedure, i.e., probability of type I error: \", self.level)\n",
    "        print(\"backend: GPU opencl or CPU python: \", self.backend)\n",
    "        print(\"verbose: The verbosity level (0=no output, 1=output): \", self.verbose)\n",
    "        \n",
    "    \n",
    "    def check_arrays(self, min_perc_lacking_data = 20):\n",
    "        \n",
    "        minus1count = np.count_nonzero(self.breaks_array == -1) # no break found\n",
    "        minus2count = np.count_nonzero(self.breaks_array == -2) # not enough data for output\n",
    "        total_count = self.nrows*self.ncols\n",
    "        \n",
    "        print(\"minus2s: \", minus2count)\n",
    "        print(\"minus1s: \", minus1count)\n",
    "        print(\"total\", total_count)\n",
    "        \n",
    "        perc_lacking_data = minus2count/total_count*100\n",
    "        perc_breaks = (total_count - (minus1count + minus2count))/total_count * 100\n",
    "        \n",
    "        print(\"percentage cells that lacked enough data for finding means or breaks: \" + str(perc_lacking_data))\n",
    "        print(\"percentage cells where breaks were found: \" + str(perc_breaks))\n",
    "        \n",
    "\n",
    "        if perc_lacking_data > min_perc_lacking_data:\n",
    "            return(warnings.warn(\"Warning: More than {} percent of the pixels in this tile lack sufficient data, resulting in NaNs. Consider selecting a longer monitoring period or a larger area.\".format(min_perc_lacking_data)))\n",
    "    \n",
    "    def log_output_to_txt(self):\n",
    "\n",
    "        self.date = str(datetime.now())\n",
    "        self.device = pyopencl.get_platforms()[0].get_devices()\n",
    "        \n",
    "        attributes = inspect.getmembers(self, lambda a:not(inspect.isroutine(a)))\n",
    "        \n",
    "        logs_directory = \"logs\"\n",
    "        if not os.path.exists(\"logs\"):\n",
    "            os.makedirs(logs_directory)\n",
    "        \n",
    "        save_dir = self.dir\n",
    "        try:\n",
    "            start_index = save_dir.find(\"Time_series\")\n",
    "        except:\n",
    "            start_index = 1\n",
    "        save_dir = self.dir.replace(\"/\",\"-\")[start_index:] + datetime.now().strftime(\"%Y-%m-%d-%H-%M-%S\") + \".txt\"\n",
    "        \n",
    "        \n",
    "        with open(str(logs_directory + \"/\" + save_dir), \"w\") as f:\n",
    "            for a in attributes:\n",
    "                if not(a[0].startswith('__') and a[0].endswith('__')):\n",
    "                    f.write(str(a))\n",
    "                    f.write(\"\\n\")\n",
    "    \n",
    "    def log_breaks_means_arrays(self):\n",
    "        \n",
    "        arrays_directory = \"output_arrays\"\n",
    "        if not os.path.exists(\"output_arrays\"):\n",
    "            os.makedirs(arrays_directory)\n",
    "        \n",
    "        save_dir = self.dir\n",
    "        try:\n",
    "            start_index = save_dir.find(\"Time_series\")\n",
    "        except:\n",
    "            start_index = 1\n",
    "        \n",
    "        save_means_dir = arrays_directory + '/' + self.dir.replace(\"/\",\"-\")[start_index:-1] + \"_means.npy\"\n",
    "        save_breaks_dir = arrays_directory + '/' +self.dir.replace(\"/\",\"-\")[start_index:-1] + \"_breaks.npy\"\n",
    "        print(save_means_dir)\n",
    "        print(save_breaks_dir)\n",
    "        try:\n",
    "            np.save(save_means_dir, self.means_array)\n",
    "            np.save(save_breaks_dir,self.breaks_array)\n",
    "        except:\n",
    "            print(\"No arrays are currently loaded\")\n",
    "    \n",
    "    def load_breaks_means_arrays_from_file(self):\n",
    "        \n",
    "        \n",
    "        arrays_directory = \"output_arrays\"\n",
    "        load_dir = self.dir\n",
    "        try:\n",
    "            start_index = load_dir.find(\"Time_series\")\n",
    "        except:\n",
    "            start_index = 1\n",
    "        \n",
    "        load_means_dir = arrays_directory + '/' + self.dir.replace(\"/\",\"-\")[start_index:-1] + \"_means.npy\"\n",
    "        load_breaks_dir = arrays_directory + '/' +self.dir.replace(\"/\",\"-\")[start_index:-1] + \"_breaks.npy\"\n",
    "        \n",
    "        self.means_array = np.load(load_means_dir)\n",
    "        self.breaks_array = np.load(load_breaks_dir)\n",
    "        \n",
    "    # Don't work anymore, fix later\n",
    "    def plot_hist(self):\n",
    "        histlist = []\n",
    "        for x in range(self.nbands):\n",
    "            histlist.append(np.isnan(self.raster_stack[x]).sum()/(self.ncols*self.nrows))\n",
    "        plt.hist(histlist)\n",
    "        plt.show()\n",
    "        \n",
    "    def get_size(self):\n",
    "        total_size = 0\n",
    "        for dirpath, dirnames, filenames in os.walk(self.dir):\n",
    "            for f in filenames:\n",
    "                fp = os.path.join(dirpath, f)\n",
    "                # skip if it is symbolic link\n",
    "                if not os.path.islink(fp):\n",
    "                    total_size += os.path.getsize(fp)\n",
    "        print(self.dir + \"   holds  \" + str(total_size) + \" bytes\")\n",
    "\n",
    "      "
   ]
  },
  {
   "cell_type": "code",
   "execution_count": null,
   "metadata": {},
   "outputs": [],
   "source": [
    "\n",
    "\n"
   ]
  },
  {
   "cell_type": "markdown",
   "metadata": {},
   "source": [
    "# Load in data: if there are tiles in the directory, create a list and load per tile"
   ]
  },
  {
   "cell_type": "code",
   "execution_count": 7,
   "metadata": {
    "scrolled": true
   },
   "outputs": [
    {
     "name": "stdout",
     "output_type": "stream",
     "text": [
      "tile-0000000000-0000000000\n"
     ]
    }
   ],
   "source": [
    "# set paths to data\n",
    "dates_path = os.path.join(timeseries_directory, \"dates.csv\")\n",
    "data_list=[]\n",
    "tile_paths = []\n",
    "\n",
    "# check for tiles\n",
    "file_list = os.listdir(timeseries_directory)\n",
    "file_list.sort()\n",
    "for file in file_list:\n",
    "    if file.startswith('tile'):\n",
    "        print(file)\n",
    "        time_series_path =  timeseries_directory + file + \"/\"\n",
    "        tile_paths.append(time_series_path)\n"
   ]
  },
  {
   "cell_type": "code",
   "execution_count": 8,
   "metadata": {
    "scrolled": true
   },
   "outputs": [
    {
     "name": "stdout",
     "output_type": "stream",
     "text": [
      "Data consists of tiles, setting up tiles in 'data_list' \n"
     ]
    }
   ],
   "source": [
    "# # Set up list of time series tiles and their metadata\n",
    "if not tile_paths:\n",
    "    print(\"No tiles, setting up data as one tile\")\n",
    "    ts_data = Timeseries(timeseries_directory, dates_path)\n",
    "    data_list.append(ts_data)\n",
    "    \n",
    "else:\n",
    "    print(\"Data consists of tiles, setting up tiles in 'data_list' \")\n",
    "    for time_series_path in tile_paths:\n",
    "        ts_data = Timeseries(time_series_path, dates_path)\n",
    "        data_list.append(ts_data)"
   ]
  },
  {
   "cell_type": "markdown",
   "metadata": {},
   "source": [
    "### Check some metadata of the created Timeseries class"
   ]
  },
  {
   "cell_type": "code",
   "execution_count": 9,
   "metadata": {
    "scrolled": true
   },
   "outputs": [
    {
     "name": "stdout",
     "output_type": "stream",
     "text": [
      "projection:  GEOGCS[\"WGS 84\",DATUM[\"WGS_1984\",SPHEROID[\"WGS 84\",6378137,298.257223563,AUTHORITY[\"EPSG\",\"7030\"]],AUTHORITY[\"EPSG\",\"6326\"]],PRIMEM[\"Greenwich\",0],UNIT[\"degree\",0.0174532925199433,AUTHORITY[\"EPSG\",\"9122\"]],AXIS[\"Latitude\",NORTH],AXIS[\"Longitude\",EAST],AUTHORITY[\"EPSG\",\"4326\"]]\n",
      "pixel size:  0.00026949458523585994\n"
     ]
    },
    {
     "data": {
      "text/plain": [
       "[Timeseries: /home/dven/downloads/Time_series_2020-08-17_15-03-19_Australia/0/tile-0000000000-0000000000/stack.vrt ]"
      ]
     },
     "execution_count": 9,
     "metadata": {},
     "output_type": "execute_result"
    }
   ],
   "source": [
    "# data_list = data_list[0:2]\n",
    "#ts_data = data_list[0]\n",
    "print(\"projection: \", data_list[0].projection)\n",
    "print(\"pixel size: \", data_list[0].xpixelsize)\n",
    "#ts_data.log_output_to_txt()\n",
    "\n",
    "data_list = data_list[0:6]\n",
    "data_list"
   ]
  },
  {
   "cell_type": "markdown",
   "metadata": {},
   "source": [
    "# Set parameters"
   ]
  },
  {
   "cell_type": "code",
   "execution_count": 21,
   "metadata": {},
   "outputs": [],
   "source": [
    "# parameters\n",
    "k = 3\n",
    "freq = 365\n",
    "trend = True\n",
    "hfrac = 0.25\n",
    "level = 0.05\n",
    "position = (100,100)\n",
    "\n",
    "backend = 'opencl'\n",
    "verbose = 1\n",
    "device_id = 0\n",
    "\n",
    "\n",
    "# start_hist = datetime(2018, 1, 1)\n",
    "# start_monitor = datetime(2019, 1, 1)\n",
    "# end_monitor = datetime(2020, 1, 1)\n"
   ]
  },
  {
   "cell_type": "markdown",
   "metadata": {},
   "source": [
    "# Select monitoring period"
   ]
  },
  {
   "cell_type": "code",
   "execution_count": 22,
   "metadata": {},
   "outputs": [
    {
     "name": "stdout",
     "output_type": "stream",
     "text": [
      "start monitoring period 2010-03-17 00:00:00\n"
     ]
    },
    {
     "data": {
      "application/vnd.jupyter.widget-view+json": {
       "model_id": "1cb51e2fb1f04637ae3e3257cfb4f9d3",
       "version_major": 2,
       "version_minor": 0
      },
      "text/plain": [
       "interactive(children=(SelectionRangeSlider(description='Select the monitoring date range: ', index=(0, 3791), …"
      ]
     },
     "metadata": {},
     "output_type": "display_data"
    },
    {
     "data": {
      "application/vnd.jupyter.widget-view+json": {
       "model_id": "32a1410c900a44e98c78268f3b787640",
       "version_major": 2,
       "version_minor": 0
      },
      "text/plain": [
       "interactive(children=(SelectionSlider(description='Start history period:', options=(('2010-03-17', Timestamp('…"
      ]
     },
     "metadata": {},
     "output_type": "display_data"
    }
   ],
   "source": [
    "dates = ts_data.dates\n",
    "start_date = dates[10] # 0 or 10 does not work.. 100 did\n",
    "print(\"start monitoring period\",start_date)\n",
    "end_date = dates[-1]\n",
    "\n",
    "def h(y):\n",
    "    return(y)\n",
    "\n",
    "pandas_dates = pd.date_range(start_date, end_date, freq='D')\n",
    "\n",
    "options =  [(date.strftime('%Y-%m-%d'),date) for date in pandas_dates]\n",
    "index = (0, len(options)-1)\n",
    "\n",
    "\n",
    "monitoring_period = widgets.interactive(h,\n",
    "                                     y=widgets.SelectionRangeSlider(\n",
    "                                            options=options,\n",
    "                                            index=index,\n",
    "                                            description='Select the monitoring date range: ',\n",
    "                                            style = {'description_width': 'initial'},\n",
    "                                            orientation='horizontal',\n",
    "                                            layout={'width': '800px',\"height\":\"50px\"}))\n",
    "\n",
    "\n",
    "history_period = widgets.interactive(h, \n",
    "                                     y=widgets.SelectionSlider(description=\"Start history period:\", \n",
    "                                            options = options,\n",
    "                                            style = {'description_width': 'initial'}))\n",
    "\n",
    "display(monitoring_period)\n",
    "display(history_period)"
   ]
  },
  {
   "cell_type": "code",
   "execution_count": 23,
   "metadata": {},
   "outputs": [
    {
     "name": "stdout",
     "output_type": "stream",
     "text": [
      "start monitor:  2015-10-07 00:00:00\n",
      "end monitor:  2020-08-02 00:00:00\n",
      "start history:  2010-03-17 00:00:00\n"
     ]
    }
   ],
   "source": [
    "start_monitor, end_monitor = monitoring_period.result\n",
    "start_hist = history_period.result\n",
    "\n",
    "if history_period.result > start_monitor:\n",
    "    raise Exception(\"Your history period must start before the monitoring period\")\n",
    "\n",
    "#start_monitor = datetime(2013, 10, 30)\n",
    "\n",
    "print(\"start monitor: \", start_monitor)\n",
    "print(\"end monitor: \", end_monitor)\n",
    "print(\"start history: \", start_hist)"
   ]
  },
  {
   "cell_type": "code",
   "execution_count": null,
   "metadata": {},
   "outputs": [],
   "source": []
  },
  {
   "cell_type": "markdown",
   "metadata": {},
   "source": [
    "### Loop over tiles, (or single tile), in data_list"
   ]
  },
  {
   "cell_type": "code",
   "execution_count": 24,
   "metadata": {
    "scrolled": true
   },
   "outputs": [
    {
     "name": "stderr",
     "output_type": "stream",
     "text": [
      "Processing tile 1 out of 1:   0%|          | 0/1 [00:00<?, ?it/s]\n",
      "  0%|          | 0/3.234100341796875 [00:00<?, ?it/s]\u001b[A\n",
      "Processing blocks of tile::   0%|          | 0/3.234100341796875 [00:00<?, ?it/s]\u001b[A"
     ]
    },
    {
     "name": "stdout",
     "output_type": "stream",
     "text": [
      "[<pyopencl.Device 'Tesla T4' on 'NVIDIA CUDA' at 0x3501f30>]\n",
      "rastersize:  450 471\n",
      "The natural block size is the block size that is most efficient for accessing the format, gdal found blocksize:  [128, 128]\n",
      "set blocksize explicitly:  256 ,  256\n",
      "bytes required:  1215745200\n",
      "start monitor:  2015-10-07 00:00:00\n",
      "end monitor:  2020-08-02 00:00:00\n",
      "start history:  2010-03-17 00:00:00\n",
      "0 0 256 256\n"
     ]
    },
    {
     "name": "stderr",
     "output_type": "stream",
     "text": [
      "\n",
      "Processing blocks of tile::  62%|██████▏   | 2/3.234100341796875 [00:04<00:02,  2.03s/it]\u001b[A"
     ]
    },
    {
     "name": "stdout",
     "output_type": "stream",
     "text": [
      "--- runtime for data initialization:\t\t0.002142190933227539\n",
      "--- runtime for data transfer (host->device):\t0.01965808868408203\n",
      "--- runtime for data preprocessing:\t\t0.005482912063598633\n",
      "--- runtime for kernel execution:\t\t0.03636431694030762\n",
      "--- runtime for data transfer (device->host):\t0.007969379425048828\n",
      "256 0 194 256\n"
     ]
    },
    {
     "name": "stderr",
     "output_type": "stream",
     "text": [
      "\n",
      "Processing blocks of tile::  93%|█████████▎| 3/3.234100341796875 [00:07<00:00,  2.53s/it]\u001b[A"
     ]
    },
    {
     "name": "stdout",
     "output_type": "stream",
     "text": [
      "--- runtime for data initialization:\t\t0.0021076202392578125\n",
      "--- runtime for data transfer (host->device):\t0.015018701553344727\n",
      "--- runtime for data preprocessing:\t\t0.003538370132446289\n",
      "--- runtime for kernel execution:\t\t0.027830839157104492\n",
      "--- runtime for data transfer (device->host):\t0.005880832672119141\n",
      "0 256 256 215\n"
     ]
    },
    {
     "name": "stderr",
     "output_type": "stream",
     "text": [
      "\n",
      "Processing blocks of tile:: : 4it [00:11,  2.88s/it]                                     \u001b[A"
     ]
    },
    {
     "name": "stdout",
     "output_type": "stream",
     "text": [
      "--- runtime for data initialization:\t\t0.002109050750732422\n",
      "--- runtime for data transfer (host->device):\t0.016658544540405273\n",
      "--- runtime for data preprocessing:\t\t0.0037682056427001953\n",
      "--- runtime for kernel execution:\t\t0.030621051788330078\n",
      "--- runtime for data transfer (device->host):\t0.006699562072753906\n",
      "256 256 194 215\n"
     ]
    },
    {
     "name": "stderr",
     "output_type": "stream",
     "text": [
      "\r",
      "Processing blocks of tile:: : 4it [00:14,  3.72s/it]"
     ]
    },
    {
     "name": "stdout",
     "output_type": "stream",
     "text": [
      "--- runtime for data initialization:\t\t0.0021147727966308594\n",
      "--- runtime for data transfer (host->device):\t0.012725591659545898\n",
      "--- runtime for data preprocessing:\t\t0.003233671188354492\n",
      "--- runtime for kernel execution:\t\t0.023480892181396484\n",
      "--- runtime for data transfer (device->host):\t0.0050792694091796875\n",
      "Fitting model over all blocks took 14.888345718383789 seconds.\n",
      "Monitoring starts at:  2015-10-07 00:00:00\n",
      "Monitoring ends at:  2020-08-02 00:00:00\n",
      "Dataset history starts at:  2010-03-17 00:00:00\n",
      "frequency:  365\n",
      "harmonic term:  3\n",
      "Hfrac: Float in the interval (0,1) specifying the bandwidth relative to the sample size in the MOSUM/ME monitoring processes.:  0.25\n",
      "Trend: Whether a tend offset term shall be used or not:  True\n",
      "Level: Significance level of the monitoring (and ROC, if selected) procedure, i.e., probability of type I error:  0.05\n",
      "backend: GPU opencl or CPU python:  opencl\n",
      "verbose: The verbosity level (0=no output, 1=output):  1\n",
      "output_arrays/Time_series_2020-08-17_15-03-19_Australia-0-tile-0000000000-0000000000_means.npy\n",
      "output_arrays/Time_series_2020-08-17_15-03-19_Australia-0-tile-0000000000-0000000000_breaks.npy\n"
     ]
    },
    {
     "name": "stderr",
     "output_type": "stream",
     "text": [
      "\n",
      "Processing tile 1 out of 1:   0%|          | 0/1 [00:15<?, ?it/s]\n"
     ]
    }
   ],
   "source": [
    "from tqdm import tqdm\n",
    "\n",
    "# if you get a memory error, set this lower: 256, 128, 512\n",
    "x_block = y_block = 256\n",
    "\n",
    "\n",
    "with tqdm(total=len(data_list)) as pbar1:\n",
    "        \n",
    "    for counter, ts_data in enumerate(data_list):\n",
    "        pbar1.set_description(\"Processing tile %s out of %s\" % (counter+1, len(data_list)) )\n",
    "        ts_data.set_bfast_parameters(start_monitor,end_monitor,start_hist,freq,k,hfrac,trend,level,backend=backend,verbose=verbose,device_id=device_id)\n",
    "        ts_data.loop_blocks(x_block_size = x_block,y_block_size=y_block)\n",
    "        ts_data.get_bfast_parameters()\n",
    "        ts_data.log_output_to_txt()\n",
    "        ts_data.log_breaks_means_arrays()\n",
    "        pbar1.update(counter)\n",
    "pbar1.close()\n",
    "\n",
    "# add warning for large block size, gets stuck? or so?"
   ]
  },
  {
   "cell_type": "markdown",
   "metadata": {},
   "source": [
    "### Check tiles for output quality"
   ]
  },
  {
   "cell_type": "code",
   "execution_count": 30,
   "metadata": {
    "scrolled": true
   },
   "outputs": [
    {
     "name": "stdout",
     "output_type": "stream",
     "text": [
      "/home/dven/downloads/Time_series_2020-08-17_15-03-19_Australia/0/tile-0000000000-0000000000/\n",
      "breaks datatype:  int32\n",
      "means datatype:  int32\n"
     ]
    },
    {
     "data": {
      "image/png": "[encoded data removed]",
      "text/plain": [
       "<Figure size 432x288 with 2 Axes>"
      ]
     },
     "metadata": {
      "needs_background": "light"
     },
     "output_type": "display_data"
    },
    {
     "data": {
      "image/png": "[encoded data removed]",
      "text/plain": [
       "<Figure size 432x288 with 2 Axes>"
      ]
     },
     "metadata": {
      "needs_background": "light"
     },
     "output_type": "display_data"
    },
    {
     "name": "stdout",
     "output_type": "stream",
     "text": [
      "minus2s:  0\n",
      "minus1s:  208738\n",
      "total 211950\n",
      "percentage cells that lacked enough data for finding means or breaks: 0.0\n",
      "percentage cells where breaks were found: 1.515451757489974\n",
      "mean counts\n",
      "[[-2147483648      209577]\n",
      " [       -488           1]\n",
      " [       -400           2]\n",
      " [       -396           1]\n",
      " [       -394           1]\n",
      " [       -389           1]\n",
      " [       -366           1]\n",
      " [       -359           8]\n",
      " [       -354           1]\n",
      " [       -336          30]\n",
      " [       -331           1]\n",
      " [       -325         222]\n",
      " [       -320           2]\n",
      " [       -319          40]\n",
      " [       -315           1]\n",
      " [       -314           2]\n",
      " [       -310          36]\n",
      " [       -303           1]\n",
      " [       -288           2]\n",
      " [       -285           1]\n",
      " [       -284           1]\n",
      " [       -281           1]\n",
      " [       -280           4]\n",
      " [       -277           1]\n",
      " [       -274           1]\n",
      " [       -273           1]\n",
      " [       -251          12]\n",
      " [       -244           7]\n",
      " [       -240          32]\n",
      " [       -235           2]\n",
      " [       -230           1]\n",
      " [       -225          92]\n",
      " [       -222           1]\n",
      " [       -221          15]\n",
      " [       -220           1]\n",
      " [       -216           2]\n",
      " [       -215           1]\n",
      " [       -212           2]\n",
      " [       -208           2]\n",
      " [       -206           1]\n",
      " [       -202           4]\n",
      " [       -196           1]\n",
      " [       -188           7]\n",
      " [       -187           3]\n",
      " [       -183           1]\n",
      " [       -180           2]\n",
      " [       -179           6]\n",
      " [       -177           2]\n",
      " [       -172           1]\n",
      " [       -167           2]\n",
      " [       -166           1]\n",
      " [       -155           5]\n",
      " [       -153           1]\n",
      " [       -152           1]\n",
      " [       -149           1]\n",
      " [       -146           7]\n",
      " [       -142           1]\n",
      " [       -140          11]\n",
      " [       -139           1]\n",
      " [       -137           1]\n",
      " [       -136           6]\n",
      " [       -135           1]\n",
      " [       -132           2]\n",
      " [       -124           1]\n",
      " [       -118           2]\n",
      " [       -117          11]\n",
      " [       -114           1]\n",
      " [       -106           1]\n",
      " [       -104          22]\n",
      " [       -103           3]\n",
      " [       -102           1]\n",
      " [       -100          12]\n",
      " [        -97           1]\n",
      " [        -91           1]\n",
      " [        -88           1]\n",
      " [        -87           2]\n",
      " [        -86           2]\n",
      " [        -82           1]\n",
      " [        -81           1]\n",
      " [        -78           2]\n",
      " [        -77           2]\n",
      " [        -75         275]\n",
      " [        -73           1]\n",
      " [        -72          64]\n",
      " [        -70         256]\n",
      " [        -67           1]\n",
      " [        -66           2]\n",
      " [        -65          27]\n",
      " [        -64           1]\n",
      " [        -61          15]\n",
      " [        -60           3]\n",
      " [        -57           3]\n",
      " [        -55           7]\n",
      " [        -46           4]\n",
      " [        -44           1]\n",
      " [        -41           2]\n",
      " [        -33           2]\n",
      " [        -32           3]\n",
      " [        -31           2]\n",
      " [        -24           2]\n",
      " [        -11           2]\n",
      " [         -8           6]\n",
      " [         -7           3]\n",
      " [         -4           1]\n",
      " [         -2           5]\n",
      " [         -1           2]\n",
      " [          0           8]\n",
      " [          2           3]\n",
      " [          4           4]\n",
      " [          5           5]\n",
      " [          6           1]\n",
      " [          7           4]\n",
      " [          8          38]\n",
      " [         10           1]\n",
      " [         11           2]\n",
      " [         12          28]\n",
      " [         14          24]\n",
      " [         21           1]\n",
      " [         31           1]\n",
      " [         41          16]\n",
      " [         46           2]\n",
      " [         49           1]\n",
      " [         51           2]\n",
      " [         52           3]\n",
      " [         55           1]\n",
      " [         56           2]\n",
      " [         58           1]\n",
      " [         60         207]\n",
      " [         65           5]\n",
      " [         70           2]\n",
      " [         73         236]\n",
      " [         78           4]\n",
      " [         79          17]\n",
      " [         80           2]\n",
      " [         81          31]\n",
      " [         83           1]\n",
      " [         86           2]\n",
      " [         88           2]\n",
      " [         89           2]\n",
      " [         93           3]\n",
      " [         94           1]\n",
      " [         95           6]\n",
      " [         97           1]\n",
      " [         99           2]\n",
      " [        100           1]\n",
      " [        102           1]\n",
      " [        108           1]\n",
      " [        110           8]\n",
      " [        111           1]\n",
      " [        113           2]\n",
      " [        115           2]\n",
      " [        121           2]\n",
      " [        122           1]\n",
      " [        126           5]\n",
      " [        141           2]\n",
      " [        145          28]\n",
      " [        150           3]\n",
      " [        154           1]\n",
      " [        155           1]\n",
      " [        156           2]\n",
      " [        158          49]\n",
      " [        165           1]\n",
      " [        198           1]\n",
      " [        203           1]\n",
      " [        204           2]\n",
      " [        214           1]\n",
      " [        215          17]\n",
      " [        217           3]\n",
      " [        218           2]\n",
      " [        219           2]\n",
      " [        221           1]\n",
      " [        222          13]\n",
      " [        228           3]\n",
      " [        230           1]\n",
      " [        231           2]\n",
      " [        232          57]\n",
      " [        242           3]\n",
      " [        245           1]\n",
      " [        247           1]\n",
      " [        250           1]\n",
      " [        283           3]\n",
      " [        300           4]\n",
      " [        306           1]\n",
      " [        312           2]\n",
      " [        313           1]\n",
      " [        314           6]\n",
      " [        317           8]\n",
      " [        324           1]\n",
      " [        377          25]\n",
      " [        381          37]\n",
      " [        384          13]\n",
      " [        386           4]\n",
      " [        392           1]\n",
      " [        407           1]\n",
      " [        435           1]\n",
      " [        458           1]\n",
      " [        462           7]\n",
      " [        466           2]\n",
      " [        633           1]]\n"
     ]
    }
   ],
   "source": [
    "for tile in data_list:\n",
    "    print(tile.dir)\n",
    "    \n",
    "    # if you want to load in previously saved tiles\n",
    "    #tile.load_breaks_means_arrays_from_file()\n",
    "    \n",
    "    # do some plots\n",
    "    breaks = ts_data.breaks_array\n",
    "    means = ts_data.means_array.astype(\"int32\")\n",
    "    \n",
    "    print(\"breaks datatype: \",breaks.dtype)\n",
    "    print(\"means datatype: \", means.dtype)\n",
    "    im = plt.imshow(means, cmap=plt.cm.OrRd)\n",
    "    plt.colorbar(im);\n",
    "    plt.title('means')\n",
    "    plt.show()\n",
    "    \n",
    "    im = plt.imshow(breaks, cmap=plt.cm.OrRd)\n",
    "    plt.colorbar(im);\n",
    "    plt.title('breaks')\n",
    "    plt.show()\n",
    "    \n",
    "    tile.check_arrays(min_perc_lacking_data = 50)\n",
    "    \n",
    "    unique, counts = np.unique(means, return_counts=True)\n",
    "    \n",
    "    print(\"mean counts\")\n",
    "    print(np.asarray((unique, counts)).T[0:300])\n",
    "    \n"
   ]
  },
  {
   "cell_type": "code",
   "execution_count": null,
   "metadata": {},
   "outputs": [],
   "source": []
  },
  {
   "cell_type": "code",
   "execution_count": null,
   "metadata": {},
   "outputs": [],
   "source": [
    "# # So this is for merging tiles back together, it seems to work... but need to know for sure.. \n",
    "# # since it does not work in one direction, this one should be correct?\n",
    "\n",
    "# # Make a function to do this\n",
    "\n",
    "\n",
    "\n",
    "\n",
    "# if len(data_list) > 1:\n",
    "    \n",
    "#     x_locs = []\n",
    "#     y_locs = []\n",
    "#     for tile in data_list:\n",
    "#         loc_index = tile.dir.find(\"tile-\")\n",
    "#         tile_loc = tile.dir[loc_index+5:-1].split(\"-\")\n",
    "#         print(tile_loc)\n",
    "#         if tile_loc[0] not in x_locs:\n",
    "#             x_locs.append(tile_loc[0])\n",
    "#         if tile_loc[1] not in y_locs:\n",
    "#             y_locs.append(tile_loc[1])\n",
    "\n",
    "#     firstx=True\n",
    "#     for tile in data_list:\n",
    "#         for x in x_locs:\n",
    "#             firsty = True\n",
    "\n",
    "#             for y in y_locs:\n",
    "#                 if firsty == True:\n",
    "#                     means_array = tile.means_array\n",
    "#                     small_means_array = tile.means_array[]\n",
    "#                     breaks_array = tile.breaks_array\n",
    "#                     firsty = False\n",
    "#                 else:\n",
    "#                     means_array = np.concatenate((means_array, tile.means_array), axis = 1)\n",
    "#                     breaks_array = np.concatenate((breaks_array, tile.breaks_array), axis = 1)\n",
    "\n",
    "#         if firstx==True:\n",
    "#             big_means_array = means_array\n",
    "#             big_breaks_array = breaks_array     \n",
    "#             firstx=False\n",
    "#         else:\n",
    "#             big_means_array = np.concatenate((big_means_array, means_array),axis = 0)\n",
    "#             big_breaks_array = np.concatenate((big_breaks_array, breaks_array),axis = 0)\n",
    "\n",
    "\n",
    "#     # work on new names, and output bit tile stuff so we only have to do it once\n",
    "    \n",
    "#     arrays_directory = \"output_arrays\"\n",
    "#     if not os.path.exists(\"output_arrays\"):\n",
    "#         os.makedirs(arrays_directory)\n",
    "\n",
    "#     try:\n",
    "#         start_index = save_dir.find(\"Time_series\")\n",
    "#     except:\n",
    "#         start_index = 1\n",
    "    \n",
    "#     save_dir = timeseries_directory.replace(\"/\",\"-\")[start_index:]\n",
    "    \n",
    "    \n",
    "#     save_means_dir = arrays_directory + \"/\" + save_dir + \"_\" + datetime.now().strftime(\"%Y-%m-%d-%H-%M-%S\") + \"_all_means.npy\"\n",
    "#     save_breaks_dir = arrays_directory + \"/\" + save_dir + \"_\" + datetime.now().strftime(\"%Y-%m-%d-%H-%M-%S\") + \"_all_breaks.npy\"\n",
    "#     print(save_means_dir)\n",
    "#     print(save_breaks_dir)\n",
    "#     np.save(save_means_dir, big_means_array)\n",
    "#     np.save(save_breaks_dir, big_breaks_array)\n",
    "\n",
    "    \n",
    "\n",
    "\n",
    "\n",
    "# # for tile in data_list:\n",
    "# #     # regex for the word tile:\n",
    "# #     # then call the numbers col and row\n",
    "# #     # then first loop over cols, then over rows\n",
    "# #     print(tile.dir)\n",
    "# #     namelist.append(tile.dir)\n",
    "# # tile0_0.\n",
    "# #print(namelist.sort())"
   ]
  },
  {
   "cell_type": "markdown",
   "metadata": {},
   "source": [
    "## Run bfastmonitor() The loop_blocks code runs over smaller blocks, that may be set based on ram space or user itself..?\n"
   ]
  },
  {
   "cell_type": "markdown",
   "metadata": {},
   "source": [
    "# Select negative magnitudes"
   ]
  },
  {
   "cell_type": "code",
   "execution_count": null,
   "metadata": {
    "scrolled": false
   },
   "outputs": [],
   "source": [
    "if len(data_list)>1:\n",
    "    means = big_means_array\n",
    "    breaks = big_breaks_array\n",
    "else:\n",
    "    breaks = ts_data.breaks_array\n",
    "    means = ts_data.means_array\n",
    "\n",
    "plt.imshow(means)\n",
    "plt.show()\n",
    "plt.imshow(breaks)\n",
    "plt.show()\n"
   ]
  },
  {
   "cell_type": "code",
   "execution_count": null,
   "metadata": {},
   "outputs": [],
   "source": [
    "means = data_list[-1].means_array\n",
    "breaks = data_list[-1].breaks_array"
   ]
  },
  {
   "cell_type": "code",
   "execution_count": null,
   "metadata": {},
   "outputs": [],
   "source": [
    "# import seaborn as sns\n",
    "\n",
    "# select only negative magnitudes\n",
    "no_breaks_indices = (breaks == -1)\n",
    "means[no_breaks_indices] = 0\n",
    "means[means > 0] = 0 # only want negative mean changes\n",
    "\n",
    "breaks_plot = breaks.astype(np.float)\n",
    "breaks_plot[breaks == -2] = np.nan\n",
    "breaks_plot[breaks == -1] = np.nan\n",
    "breaks_plot[means >= 0] = np.nan\n",
    "\n",
    "# print(\"magnitude change heatmap\")\n",
    "# sns.heatmap(orig_means,  linewidths=1)\n"
   ]
  },
  {
   "cell_type": "code",
   "execution_count": null,
   "metadata": {},
   "outputs": [],
   "source": [
    "dates_monitor = []\n",
    "dates = ts_data.dates\n",
    "# collect dates for monitor period\n",
    "for i in range(len(dates)):\n",
    "    if start_monitor <= dates[i]:\n",
    "        dates_monitor.append(dates[i])\n",
    "dates_array = np.array(dates_monitor) # dates_array is the dates that are in the monitoring period\n"
   ]
  },
  {
   "cell_type": "markdown",
   "metadata": {},
   "source": [
    "# Classify output for plotting"
   ]
  },
  {
   "cell_type": "code",
   "execution_count": null,
   "metadata": {},
   "outputs": [],
   "source": [
    "idx_starts = {}\n",
    "\n",
    "# this gives the index of all the data points in the year and after\n",
    "for year in range(start_monitor.year,end_monitor.year+1):\n",
    "    idx_starts[year] = np.argmax((dates_array >= datetime(year, 1, 1)) > False) \n",
    "\n",
    "    breaks_plot_years = copy.deepcopy(breaks_plot)\n",
    "\n",
    "#classifying for plotting\n",
    "ticklist=[]\n",
    "for idx, year in enumerate(idx_starts):\n",
    "    ticklist.append(str(year))\n",
    "    \n",
    "    # if we're at the last year\n",
    "    if idx == len(idx_starts)-1:\n",
    "        breaks_plot_years[np.where(idx_starts[year] < breaks_plot)] = len(idx_starts)-1 \n",
    "        continue\n",
    "    \n",
    "    # if we're at the first year\n",
    "    if idx == 0:\n",
    "        breaks_plot_years[breaks_plot <= idx_starts[year+1]] = 0\n",
    "        continue\n",
    "    \n",
    "    # all other years in between\n",
    "    breaks_plot_years[np.where(np.logical_and(idx_starts[year] < breaks_plot, breaks_plot <= idx_starts[year+1]))] = idx\n",
    "    "
   ]
  },
  {
   "cell_type": "markdown",
   "metadata": {},
   "source": [
    "# Plot output"
   ]
  },
  {
   "cell_type": "code",
   "execution_count": null,
   "metadata": {},
   "outputs": [],
   "source": [
    "bins = len(idx_starts)\n",
    "# from matplotlib.pyplot import figure\n",
    "# figure(num=None, figsize=(20, 15), dpi=80, facecolor='w', edgecolor='k')\n",
    "\n",
    "cmap = plt.get_cmap(\"rainbow\")\n",
    "cmaplist = [cmap(i) for i in range(cmap.N)]\n",
    "cmap = cmap.from_list('Custom cmap', cmaplist, cmap.N)\n",
    "\n",
    "bounds = np.linspace(0, bins-1, bins) #third number is the amount of bins in the colorbar 0=0, 6 = ncolors, 7= nyears\n",
    "norm = matplotlib.colors.BoundaryNorm(bounds, cmap.N)\n",
    "\n",
    "fig, axes = plt.subplots(nrows=1, ncols=1, figsize=(10, 10))\n",
    "\n",
    "#norm doesn't work with bins = 2 or less... now the colorbar is ugly, fix it later\n",
    "\n",
    "if bins == 1:\n",
    "    im = axes.imshow(breaks_plot_years,cmap=cmap,vmin=0,vmax=bins)\n",
    "if bins == 2:\n",
    "    im = axes.imshow(breaks_plot_years,cmap=cmap,vmin=0,vmax=bins)\n",
    "else:\n",
    "    im = axes.imshow(breaks_plot_years, cmap=cmap, vmin=0, vmax=bins, norm=norm)\n",
    "\n",
    "fig.subplots_adjust(right=0.8)\n",
    "cbar_ax = fig.add_axes([0.85, 0.15, 0.05, 0.7])\n",
    "fig.colorbar(im, cax=cbar_ax, ticks=range(bins))\n",
    "labels = cbar_ax.set_yticklabels(ticklist)\n",
    "\n",
    "plt.savefig(\"./output/picture.png\")\n",
    "plt.show()\n",
    "\n"
   ]
  },
  {
   "cell_type": "markdown",
   "metadata": {},
   "source": [
    "print(bounds)"
   ]
  },
  {
   "cell_type": "code",
   "execution_count": null,
   "metadata": {},
   "outputs": [],
   "source": [
    "print(bounds)"
   ]
  },
  {
   "cell_type": "code",
   "execution_count": null,
   "metadata": {},
   "outputs": [],
   "source": [
    "# #this doesn't work yet\n",
    "\n",
    "# output_raster = gdal.GetDriverByName('GTiff').Create('myraster.tif',cols, rows, 1 ,gdal.GDT_Float32)  # Open the file\n",
    "\n",
    "# output_raster.SetGeoTransform(geotransform)  # Specify its coordinates\n",
    "# srs = osr.SpatialReference()                 # Establish its coordinate encoding\n",
    "# srs.ImportFromEPSG(4326)                     # This one specifies WGS84 lat long.\n",
    "#                                              # Anyone know how to specify the \n",
    "#                                              # IAU2000:49900 Mars encoding?\n",
    "# output_raster.SetProjection( srs.ExportToWkt() )   # Exports the coordinate system \n",
    "#                                                    # to the file\n",
    "# output_raster.GetRasterBand(1).WriteArray(breaks_plot_years)   # Writes my array to the raster\n",
    "\n",
    "# output_raster.FlushCache()\n",
    "\n",
    "# output_raster"
   ]
  },
  {
   "cell_type": "code",
   "execution_count": null,
   "metadata": {},
   "outputs": [],
   "source": [
    "print(breaks_plot_years)\n",
    "breaks_plot_years_norm = 1/(breaks_plot_years + 0.01)\n",
    "print(breaks_plot_years_norm)"
   ]
  },
  {
   "cell_type": "code",
   "execution_count": null,
   "metadata": {},
   "outputs": [],
   "source": [
    "#cmap = plt.get_cmap(\"Oranges\")\n",
    "\n",
    "#cmaplist = [cmap(i) for i in range(cmap.N)]\n",
    "\n",
    "#cmap = cmap.from_list('Custom cmap', cmaplist, cmap.N)\n",
    "\n",
    "from matplotlib import cm\n",
    "from matplotlib.colors import ListedColormap, LinearSegmentedColormap\n",
    "\n",
    "# viridis = cm.get_cmap('viridis', 12)\n",
    "# print(viridis)\n",
    "# print(viridis(0.56))\n",
    "\n",
    "viridis = cm.get_cmap('rainbow', 256)\n",
    "newcolors = viridis(np.linspace(0, 1, 256))\n",
    "pink = np.array([248/256, 24/256, 148/256, 0])\n",
    "newcolors[:1, :] = pink\n",
    "newcmp = ListedColormap(newcolors)"
   ]
  },
  {
   "cell_type": "code",
   "execution_count": null,
   "metadata": {},
   "outputs": [],
   "source": [
    "print(latitude)\n",
    "print(xpixelsize)\n",
    "print(cols)\n",
    "print(longitude)\n",
    "print(ypixelsize)\n",
    "print(rows)"
   ]
  },
  {
   "cell_type": "code",
   "execution_count": null,
   "metadata": {},
   "outputs": [],
   "source": [
    "print(ts_data.latitude)\n",
    "print(ts_data.longitude)"
   ]
  },
  {
   "cell_type": "code",
   "execution_count": null,
   "metadata": {},
   "outputs": [],
   "source": [
    "# this is probs still wrong\n",
    "\n",
    "from folium.plugins import FloatImage\n",
    "import base64\n",
    "latitude = ts_data.latitude\n",
    "longitude = ts_data.longitude\n",
    "xpixelsize= ts_data.xpixelsize\n",
    "ypixelsize= ts_data.ypixelsize\n",
    "rows = ts_data.nrows\n",
    "cols = ts_data.ncols\n",
    "\n",
    "m = folium.folium.Map(location = (latitude,longitude),tiles = \"Stamen Terrain\",zoom_start=13)\n",
    "\n",
    "# if not all data is \n",
    "#rows = 200\n",
    "#cols = 200\n",
    "\n",
    "\n",
    "# bounds = [[lat_min, lon_min], [lat_max, lon_max]]\n",
    "\n",
    "folium.raster_layers.ImageOverlay(\n",
    "    image=breaks_plot_years_norm,\n",
    "    bounds=[[latitude, longitude], [latitude + (rows*xpixelsize), longitude + (cols*xpixelsize)]],\n",
    "    colormap = newcmp\n",
    ").add_to(m)\n",
    "img = \"output/picture.png\" \n",
    "\n",
    "\n",
    "####\n",
    "resolution, width, height = 75, 4,4\n",
    "encoded = base64.b64encode(open(\"output/picture.png\", 'rb').read()).decode()\n",
    "from folium import IFrame\n",
    "\n",
    "html = '<img src=\"data:image/png;base64,{}\">'.format\n",
    "iframe = IFrame(html(encoded), width=(width*resolution)+20, height=(height*resolution)+20)\n",
    "popup = folium.Popup(iframe, max_width=2650)\n",
    "\n",
    "icon = folium.Icon(color=\"red\", icon=\"ok\")\n",
    "marker = folium.Marker(location=[latitude, longitude], popup=popup, icon=icon)\n",
    "marker.add_to(m)\n",
    "####\n",
    "\n",
    "m.save(os.path.join('output/PortugalBigger_gpu.html'))\n",
    "m"
   ]
  },
  {
   "cell_type": "code",
   "execution_count": null,
   "metadata": {},
   "outputs": [],
   "source": []
  },
  {
   "cell_type": "code",
   "execution_count": null,
   "metadata": {},
   "outputs": [],
   "source": []
  }
 ],
 "metadata": {
  "kernelspec": {
   "display_name": "Python 3",
   "language": "python",
   "name": "python3"
  },
  "language_info": {
   "codemirror_mode": {
    "name": "ipython",
    "version": 3
   },
   "file_extension": ".py",
   "mimetype": "text/x-python",
   "name": "python",
   "nbconvert_exporter": "python",
   "pygments_lexer": "ipython3",
   "version": "3.6.9"
  }
 },
 "nbformat": 4,
 "nbformat_minor": 4
}
