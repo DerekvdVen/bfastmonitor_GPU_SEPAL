{
 "cells": [
  {
   "cell_type": "markdown",
   "metadata": {},
   "source": [
    "# Bfastmonitor CPU using Python\n",
    "## This is bfastmonitor Python"
   ]
  },
  {
   "cell_type": "code",
   "execution_count": 1,
   "metadata": {},
   "outputs": [],
   "source": [
    "import os\n",
    "import wget\n",
    "import numpy as np\n",
    "from datetime import datetime\n",
    "\n",
    "from bfast import BFASTMonitor\n",
    "from bfast.utils import crop_data_dates\n",
    "\n",
    "import copy\n",
    "\n",
    "import matplotlib\n",
    "import matplotlib.pyplot as plt\n",
    "\n",
    "#from sar so extra\n",
    "import csv\n",
    "from shutil import copyfile\n",
    "import pandas as pd\n",
    "from osgeo import gdal\n",
    "from osgeo import gdal_array\n",
    "from osgeo import osr\n",
    "\n",
    "import time\n",
    "import ipywidgets as widgets\n",
    "\n",
    "from ipyfilechooser import FileChooser\n",
    "import folium\n",
    "\n",
    "#specific imports\n",
    "from functions import set_output_dir, get_size, get_data_dict"
   ]
  },
  {
   "cell_type": "code",
   "execution_count": 2,
   "metadata": {},
   "outputs": [],
   "source": [
    "%matplotlib inline"
   ]
  },
  {
   "cell_type": "markdown",
   "metadata": {},
   "source": [
    "## Select a time series folder using ipyfilechooser. The standard download location is in downloads/time_series_name/[0,1,2..n]\n",
    "\n",
    "### Optional: select a name for your output folder. "
   ]
  },
  {
   "cell_type": "code",
   "execution_count": 3,
   "metadata": {},
   "outputs": [
    {
     "data": {
      "application/vnd.jupyter.widget-view+json": {
       "model_id": "d6d485c0c2fd4bc2a110b669c321e2b8",
       "version_major": 2,
       "version_minor": 0
      },
      "text/plain": [
       "FileChooser(path='/home/dven', filename='', title='HTML(value='', layout=Layout(display='none'))', show_hidden…"
      ]
     },
     "metadata": {},
     "output_type": "display_data"
    },
    {
     "data": {
      "application/vnd.jupyter.widget-view+json": {
       "model_id": "18f3b96b2a644b03b9f111c5119d6472",
       "version_major": 2,
       "version_minor": 0
      },
      "text/plain": [
       "interactive(children=(Text(value='', description='Output storage name:', placeholder='output', style=Descripti…"
      ]
     },
     "metadata": {},
     "output_type": "display_data"
    }
   ],
   "source": [
    "from os.path import expanduser\n",
    "path = expanduser(\"~\")\n",
    "\n",
    "def g(directory):\n",
    "    return(directory)\n",
    "                          \n",
    "output_directory_chooser = widgets.interactive(g, \n",
    "                        directory=widgets.Text(description=\"Output storage name:\", \n",
    "                                               style = {'description_width': 'initial'},\n",
    "                                               placeholder = \"output\"))\n",
    "file_chooser = FileChooser(path)\n",
    "\n",
    "display(file_chooser)\n",
    "display(output_directory_chooser)\n",
    "\n"
   ]
  },
  {
   "cell_type": "code",
   "execution_count": 4,
   "metadata": {},
   "outputs": [
    {
     "name": "stdout",
     "output_type": "stream",
     "text": [
      "/home/dven/downloads/Time_series_2020-08-24_11-43-37_lake/0/\n",
      "Defaulting to output directory name \"output\" \n"
     ]
    }
   ],
   "source": [
    "timeseries_directory = file_chooser.selected\n",
    "\n",
    "if not timeseries_directory:\n",
    "    raise Exception(\"Please choose a time series directory above with the file selector\")\n",
    "else:\n",
    "    print(timeseries_directory)\n",
    "    set_output_dir(output_directory_chooser)"
   ]
  },
  {
   "cell_type": "code",
   "execution_count": null,
   "metadata": {},
   "outputs": [],
   "source": [
    "from osgeo import gdal\n",
    "import matplotlib.pyplot as plt\n",
    "import numpy as np\n",
    "from numpy import nan\n",
    "from numpy import isnan\n",
    "\n",
    "from bfast import BFASTMonitor\n",
    "from bfast.utils import crop_data_dates\n",
    "\n",
    "import pyopencl\n",
    "\n",
    "import inspect\n",
    "        \n",
    "import time\n",
    "\n",
    "from datetime import datetime\n",
    "\n",
    "from tqdm import tqdm\n",
    "\n",
    "class Timeseries:\n",
    "    '''\n",
    "    \n",
    "    This is a class that holds a numpy array with time series data, a csv containing dates, and associated geographical metadata.\n",
    "    \n",
    "    '''\n",
    "    \n",
    "    def __init__(self, time_series_path, dates_path):\n",
    "        \n",
    "        self.name = time_series_path + \"stack.vrt\"\n",
    "        self.dir = time_series_path\n",
    "        \n",
    "        self.time_series = gdal.Open(self.name)\n",
    "        #time_series = self.time_series\n",
    "        geotransform = self.time_series.GetGeoTransform()\n",
    "        \n",
    "        # geo metadata\n",
    "        self.xpixelsize = geotransform[1]\n",
    "        self.ypixelsize = geotransform[5]\n",
    "        self.latitude = geotransform[3]\n",
    "        self.longitude = geotransform[0]\n",
    "        self.ncols = self.time_series.RasterXSize\n",
    "        self.nrows = self.time_series.RasterYSize\n",
    "        self.projection = self.time_series.GetProjection()\n",
    "        self.nbands = self.time_series.RasterCount\n",
    "        \n",
    "        band = self.time_series.GetRasterBand(1)\n",
    "        self.block_size = band.GetBlockSize()\n",
    "        self.time_dict = {}\n",
    "        \n",
    "        # self.raster_stack_orig = time_series.ReadAsArray()\n",
    "        # This takes really long and will likely cause memory issues when running on large countries, so don't use it\n",
    "        # Use blocks and base block size on what gdal sets or on ram calculation \n",
    "        \n",
    "        # dates file\n",
    "        with open(dates_path) as f:\n",
    "            dates_list = f.read().split('\\n')\n",
    "            self.dates = [datetime.strptime(d, '%Y-%m-%d') for d in dates_list if len(d) > 0]\n",
    "        \n",
    "    def __str__(self):\n",
    "        return(\"Timeseries holds {} dates, sized {} by {}.\".format(self.nbands,\n",
    "                                                                        self.ncols,\n",
    "                                                                        self.nrows))\n",
    "    def __repr__(self):\n",
    "            return(\"Timeseries: {} \".format(self.name))\n",
    "\n",
    "    def run_bfast(self, block):\n",
    "        data, dates = crop_data_dates(block, self.dates, self.start_hist, self.end_monitor)\n",
    "\n",
    "        # only apply on a small subset\n",
    "        #data = data[:,:80,:80]\n",
    "        \n",
    "        # change nans to a number bfastmonitor-GPU can work with\n",
    "        where_are_NaNs = isnan(data)\n",
    "        data[where_are_NaNs] = -32768\n",
    "\n",
    "        # fit model\n",
    "        self.model.fit(data, dates, nan_value = -32768) \n",
    "        \n",
    "        # save breaks and mean magnitudes\n",
    "        breaks = self.model.breaks # index of date that has a break in dates\n",
    "        means = self.model.means # magnitudes of breaks\n",
    "        \n",
    "        return(breaks,means)\n",
    "    \n",
    "    def loop_blocks(self):\n",
    "\n",
    "        start_time = time.time()\n",
    "        \n",
    "        x_block_size = self.block_size[0]\n",
    "        y_block_size = self.block_size[1]\n",
    "        print(\"rastersize: \",self.ncols,self.nrows)\n",
    "        print(\"The natural block size is the block size that is most efficient for accessing the format, gdal found blocksize: \",self.block_size)\n",
    "        print(\"set blocksize explicitly: \",x_block_size,\", \" ,y_block_size)\n",
    "        print(\"bytes required: \", str(8 * self.ncols * self.nrows * self.nbands))\n",
    "        print(\"start monitor: \", self.start_monitor)\n",
    "        print(\"end monitor: \", self.end_monitor)\n",
    "        print(\"start history: \", self.start_hist)\n",
    "        \n",
    "        \n",
    "        first_verstack=True\n",
    "\n",
    "        # loop over yblocks\n",
    "        with tqdm(total=(self.ncols/x_block_size)*(self.nrows/y_block_size)) as pbar2:\n",
    "            pbar2.set_description(\"Processing blocks of tile:\")\n",
    "                    \n",
    "                \n",
    "            for i in range(0, self.nrows, y_block_size):\n",
    "                \n",
    "                \n",
    "                first_horstack = True\n",
    "                if i + y_block_size < self.nrows:\n",
    "                    rows = y_block_size\n",
    "                else:\n",
    "                    rows = self.nrows - i\n",
    "\n",
    "                # Loop over xblocks\n",
    "                for j in range(0, self.ncols, x_block_size):\n",
    "                    \n",
    "                    \n",
    "                    if j + x_block_size < self.ncols:\n",
    "                        cols = x_block_size\n",
    "                    else:\n",
    "                        cols = self.ncols - j\n",
    "\n",
    "                    print(j,i,cols,rows)\n",
    "\n",
    "                    # first step creates the array\n",
    "                    pbar2.update(1)\n",
    "                    \n",
    "                    if first_horstack==True:\n",
    "                        data = self.time_series.ReadAsArray(j, i, cols, rows).astype(np.int16)\n",
    "\n",
    "                        breaks,means = self.run_bfast(data)\n",
    "                        breaks_array = breaks\n",
    "                        means_array = means\n",
    "                        first_horstack=False\n",
    "\n",
    "                    # after that add to array\n",
    "                    else:                    \n",
    "                        data = self.time_series.ReadAsArray(j, i, cols, rows).astype(np.int16)\n",
    "\n",
    "                        breaks,means = self.run_bfast(data)\n",
    "                        breaks_array = np.concatenate((breaks_array,breaks),axis = 1)\n",
    "                        means_array = np.concatenate((means_array,means),axis = 1)\n",
    "                \n",
    "                \n",
    "                # first step create new variable verstack for the data\n",
    "\n",
    "                if first_verstack == True:\n",
    "                    stack_breaks_array = breaks_array\n",
    "                    stack_means_array = means_array\n",
    "                    first_verstack = False\n",
    "                \n",
    "                # after that add data to array\n",
    "                else:\n",
    "                    stack_breaks_array = np.concatenate((stack_breaks_array,breaks_array),axis=0)\n",
    "                    stack_means_array = np.concatenate((stack_means_array,means_array),axis=0)\n",
    "\n",
    "            self.breaks_array = stack_breaks_array\n",
    "            self.means_array = stack_means_array\n",
    "            \n",
    "            pbar2.close()\n",
    "            end_time = time.time()\n",
    "            print(\"Fitting model over all blocks took {} seconds.\".format(end_time - start_time))\n",
    "            self.time_dict[self.name] = str(end_time - start_time) + \" seconds\"\n",
    "\n",
    "    def set_bfast_parameters(self, start_monitor, end_monitor, start_hist,freq,k,hfrac,trend,level,backend='opencl',verbose=1,device_id=0):\n",
    "        self.start_monitor = start_monitor\n",
    "        self.end_monitor = end_monitor\n",
    "        self.start_hist = start_hist\n",
    "        self.freq = freq\n",
    "        self.k = k\n",
    "        self.hfrac = hfrac\n",
    "        self.trend = trend\n",
    "        self.level = level\n",
    "        self.backend = backend\n",
    "        self.verbose = verbose\n",
    "        \n",
    "        self.model = BFASTMonitor(\n",
    "                    self.start_monitor,\n",
    "                    freq=freq, # add these\n",
    "                    k=k,\n",
    "                    hfrac=hfrac,\n",
    "                    trend=trend,\n",
    "                    level=level,\n",
    "                    backend=backend,\n",
    "                    verbose=verbose,\n",
    "                    device_id=device_id,\n",
    "                    )\n",
    "        \n",
    "        try:\n",
    "            print(pyopencl.get_platforms()[0].get_devices())\n",
    "        except:\n",
    "            print(\"You selected  openCL, but no device was found, are you sure you set up a gpu session?\")\n",
    "\n",
    "    \n",
    "    def get_bfast_parameters(self):\n",
    "        print(\"Monitoring starts at: \", self.start_monitor)\n",
    "        print(\"Monitoring ends at: \", self.end_monitor)\n",
    "        print(\"Dataset history starts at: \", self.start_hist)\n",
    "        print(\"frequency: \", self.freq)\n",
    "        print(\"harmonic term: \", self.k)\n",
    "        print(\"Float in the interval (0,1) specifying the bandwidth relative to the sample size in the MOSUM/ME monitoring processes.: \", self.hfrac)\n",
    "        print(\"Whether a tend offset term shall be used or not: \", self.trend)\n",
    "        print(\"Significance level of the monitoring (and ROC, if selected) procedure, i.e., probability of type I error: \", self.level)\n",
    "        print(\"GPU opencl or CPU python: \", self.backend)\n",
    "        print(\"The verbosity level (0=no output, 1=output): \", self.verbose)\n",
    "        \n",
    "    \n",
    "    def log_output_to_txt(self):\n",
    "\n",
    "        self.date = str(datetime.now())\n",
    "        self.device = pyopencl.get_platforms()[0].get_devices()\n",
    "        \n",
    "        attributes = inspect.getmembers(self, lambda a:not(inspect.isroutine(a)))\n",
    "        \n",
    "        logs_directory = \"logs\"\n",
    "        if not os.path.exists(\"logs\"):\n",
    "            os.makedirs(logs_directory)\n",
    "        \n",
    "        save_dir = self.dir\n",
    "        try:\n",
    "            start_index = save_dir.find(\"Time_series\")\n",
    "        except:\n",
    "            start_index = 1\n",
    "        save_dir = self.dir.replace(\"/\",\"-\")[start_index:] + datetime.now().strftime(\"%Y-%m-%d-%H-%M-%S\") + \".txt\"\n",
    "        \n",
    "        \n",
    "        with open(str(logs_directory + \"/\" + save_dir), \"w\") as f:\n",
    "            for a in attributes:\n",
    "                if not(a[0].startswith('__') and a[0].endswith('__')):\n",
    "                    f.write(str(a))\n",
    "                    f.write(\"\\n\")\n",
    "    \n",
    "    def log_breaks_means_arrays(self):\n",
    "        \n",
    "        arrays_directory = \"output_arrays\"\n",
    "        if not os.path.exists(\"output_arrays\"):\n",
    "            os.makedirs(arrays_directory)\n",
    "        \n",
    "        \n",
    "        \n",
    "        \n",
    "        with open()\n",
    "        \n",
    "    # Don't work anymore, fix later\n",
    "    def plot_hist(self):\n",
    "        histlist = []\n",
    "        for x in range(self.nbands):\n",
    "            histlist.append(np.isnan(self.raster_stack[x]).sum()/(self.ncols*self.nrows))\n",
    "        plt.hist(histlist)\n",
    "        plt.show()\n",
    "        \n",
    "    def get_size(self):\n",
    "        total_size = 0\n",
    "        for dirpath, dirnames, filenames in os.walk(self.dir):\n",
    "            for f in filenames:\n",
    "                fp = os.path.join(dirpath, f)\n",
    "                # skip if it is symbolic link\n",
    "                if not os.path.islink(fp):\n",
    "                    total_size += os.path.getsize(fp)\n",
    "        print(self.dir + \"   holds  \" + str(total_size) + \" bytes\")\n",
    "\n",
    "      "
   ]
  },
  {
   "cell_type": "code",
   "execution_count": null,
   "metadata": {},
   "outputs": [],
   "source": [
    "\n",
    "\n"
   ]
  },
  {
   "cell_type": "markdown",
   "metadata": {},
   "source": [
    "# Load in data: if there are tiles in the directory, create a list and load per tile"
   ]
  },
  {
   "cell_type": "code",
   "execution_count": 130,
   "metadata": {
    "scrolled": true
   },
   "outputs": [
    {
     "name": "stdout",
     "output_type": "stream",
     "text": [
      "tile-0000000000-0000000000\n",
      "tile-0000000000-0000002048\n",
      "tile-0000000000-0000004096\n",
      "tile-0000002048-0000000000\n",
      "tile-0000002048-0000002048\n",
      "tile-0000002048-0000004096\n",
      "tile-0000004096-0000000000\n",
      "tile-0000004096-0000002048\n",
      "tile-0000004096-0000004096\n"
     ]
    }
   ],
   "source": [
    "# set paths to data\n",
    "dates_path = os.path.join(timeseries_directory, \"dates.csv\")\n",
    "data_list=[]\n",
    "tile_paths = []\n",
    "\n",
    "# check for tiles\n",
    "file_list = os.listdir(timeseries_directory)\n",
    "file_list.sort()\n",
    "for file in file_list:\n",
    "    if file.startswith('tile'):\n",
    "        print(file)\n",
    "        time_series_path =  timeseries_directory + file + \"/\"\n",
    "        tile_paths.append(time_series_path)\n"
   ]
  },
  {
   "cell_type": "code",
   "execution_count": 131,
   "metadata": {
    "scrolled": true
   },
   "outputs": [
    {
     "name": "stdout",
     "output_type": "stream",
     "text": [
      "Data consists of tiles, setting up tiles\n"
     ]
    }
   ],
   "source": [
    "# # Set up list of time series tiles and their metadata\n",
    "if not tile_paths:\n",
    "    print(\"No tiles, setting up data as one tile\")\n",
    "    ts_data = Timeseries(timeseries_directory, dates_path)\n",
    "    data_list.append(ts_data)\n",
    "    \n",
    "else:\n",
    "    print(\"Data consists of tiles, setting up tiles\")\n",
    "    for time_series_path in tile_paths:\n",
    "        ts_data = Timeseries(time_series_path, dates_path)\n",
    "        data_list.append(ts_data)\n",
    "        \n",
    "# log\n",
    "# with open(\"log.txt\",\"a\") as file:\n",
    "#     file.write(\"Loading in: \" + timeseries_directory)\n",
    "#     file.write(\" took {} seconds.\".format(end_time - start_time))\n",
    "#     file.write(\"\\n\")"
   ]
  },
  {
   "cell_type": "markdown",
   "metadata": {},
   "source": [
    "### Check some metadata of the created Timeseries class"
   ]
  },
  {
   "cell_type": "code",
   "execution_count": 132,
   "metadata": {
    "scrolled": true
   },
   "outputs": [
    {
     "name": "stdout",
     "output_type": "stream",
     "text": [
      "projection:  GEOGCS[\"WGS 84\",DATUM[\"WGS_1984\",SPHEROID[\"WGS 84\",6378137,298.257223563,AUTHORITY[\"EPSG\",\"7030\"]],AUTHORITY[\"EPSG\",\"6326\"]],PRIMEM[\"Greenwich\",0],UNIT[\"degree\",0.0174532925199433,AUTHORITY[\"EPSG\",\"9122\"]],AXIS[\"Latitude\",NORTH],AXIS[\"Longitude\",EAST],AUTHORITY[\"EPSG\",\"4326\"]]\n",
      "pixel size:  0.00026949458523586184\n"
     ]
    }
   ],
   "source": [
    "# data_list = data_list[0:2]\n",
    "#ts_data = data_list[0]\n",
    "print(\"projection: \", data_list[0].projection)\n",
    "print(\"pixel size: \", data_list[0].xpixelsize)\n",
    "#ts_data.log_output_to_txt()\n",
    "\n",
    "# data_list = data_list[0:8]\n",
    "# data_list"
   ]
  },
  {
   "cell_type": "markdown",
   "metadata": {},
   "source": [
    "# Set parameters"
   ]
  },
  {
   "cell_type": "code",
   "execution_count": 133,
   "metadata": {},
   "outputs": [],
   "source": [
    "# parameters\n",
    "k = 3\n",
    "freq = 365\n",
    "trend = False\n",
    "hfrac = 0.25\n",
    "level = 0.05\n",
    "position = (100,100)\n",
    "\n",
    "backend = 'opencl'\n",
    "verbose = 1\n",
    "device_id = 0\n",
    "\n",
    "\n",
    "# start_hist = datetime(2018, 1, 1)\n",
    "# start_monitor = datetime(2019, 1, 1)\n",
    "# end_monitor = datetime(2020, 1, 1)\n"
   ]
  },
  {
   "cell_type": "markdown",
   "metadata": {},
   "source": [
    "# Select monitoring period"
   ]
  },
  {
   "cell_type": "code",
   "execution_count": 134,
   "metadata": {},
   "outputs": [
    {
     "name": "stdout",
     "output_type": "stream",
     "text": [
      "start monitoring period 2000-10-06 00:00:00\n"
     ]
    },
    {
     "data": {
      "application/vnd.jupyter.widget-view+json": {
       "model_id": "488d6a0ace6a4c6d894dfbcba2ce2e43",
       "version_major": 2,
       "version_minor": 0
      },
      "text/plain": [
       "interactive(children=(SelectionRangeSlider(description='Select the monitoring date range: ', index=(0, 7240), …"
      ]
     },
     "metadata": {},
     "output_type": "display_data"
    },
    {
     "data": {
      "application/vnd.jupyter.widget-view+json": {
       "model_id": "679e425e644d467d80df6332bd06b3f0",
       "version_major": 2,
       "version_minor": 0
      },
      "text/plain": [
       "interactive(children=(SelectionSlider(description='Start history period:', options=(('2000-10-06', Timestamp('…"
      ]
     },
     "metadata": {},
     "output_type": "display_data"
    }
   ],
   "source": [
    "dates = ts_data.dates\n",
    "start_date = dates[10] # 0 or 10 does not work.. 100 did\n",
    "print(\"start monitoring period\",start_date)\n",
    "end_date = dates[-1]\n",
    "\n",
    "def h(y):\n",
    "    return(y)\n",
    "\n",
    "pandas_dates = pd.date_range(start_date, end_date, freq='D')\n",
    "\n",
    "options =  [(date.strftime('%Y-%m-%d'),date) for date in pandas_dates]\n",
    "index = (0, len(options)-1)\n",
    "\n",
    "\n",
    "monitoring_period = widgets.interactive(h,\n",
    "                                     y=widgets.SelectionRangeSlider(\n",
    "                                            options=options,\n",
    "                                            index=index,\n",
    "                                            description='Select the monitoring date range: ',\n",
    "                                            style = {'description_width': 'initial'},\n",
    "                                            orientation='horizontal',\n",
    "                                            layout={'width': '800px',\"height\":\"50px\"}))\n",
    "\n",
    "\n",
    "history_period = widgets.interactive(h, \n",
    "                                     y=widgets.SelectionSlider(description=\"Start history period:\", \n",
    "                                            options = options,\n",
    "                                            style = {'description_width': 'initial'}))\n",
    "\n",
    "display(monitoring_period)\n",
    "display(history_period)"
   ]
  },
  {
   "cell_type": "code",
   "execution_count": 135,
   "metadata": {},
   "outputs": [
    {
     "name": "stdout",
     "output_type": "stream",
     "text": [
      "start monitor:  2007-12-27 00:00:00\n",
      "end monitor:  2020-08-02 00:00:00\n",
      "start history:  2000-10-06 00:00:00\n"
     ]
    }
   ],
   "source": [
    "start_monitor, end_monitor = monitoring_period.result\n",
    "start_hist = history_period.result\n",
    "\n",
    "if history_period.result > start_monitor:\n",
    "    raise Exception(\"Your history period must start before the monitoring period\")\n",
    "\n",
    "#start_monitor = datetime(2011, 11, 23)\n",
    "\n",
    "print(\"start monitor: \", start_monitor)\n",
    "print(\"end monitor: \", end_monitor)\n",
    "print(\"start history: \", start_hist)"
   ]
  },
  {
   "cell_type": "code",
   "execution_count": null,
   "metadata": {},
   "outputs": [],
   "source": []
  },
  {
   "cell_type": "markdown",
   "metadata": {},
   "source": [
    "### if you have tiles loop over them, or select the first"
   ]
  },
  {
   "cell_type": "code",
   "execution_count": 136,
   "metadata": {
    "scrolled": true
   },
   "outputs": [
    {
     "name": "stderr",
     "output_type": "stream",
     "text": [
      "Processing tile 0 out of 9:   0%|          | 0/9 [00:00<?, ?it/s]\n",
      "  0%|          | 0/256.0 [00:00<?, ?it/s]\u001b[A\n",
      "Processing blocks of tile::   0%|          | 0/256.0 [00:00<?, ?it/s]\u001b[A"
     ]
    },
    {
     "name": "stdout",
     "output_type": "stream",
     "text": [
      "[<pyopencl.Device 'Tesla T4' on 'NVIDIA CUDA' at 0x2e48420>]\n",
      "rastersize:  2048 2048\n",
      "The natural block size is the block size that is most efficient for accessing the format, gdal found blocksize:  [128, 128]\n",
      "set blocksize explicitly:  128 ,  128\n",
      "bytes required:  30500978688\n",
      "start monitor:  2007-12-27 00:00:00\n",
      "end monitor:  2020-08-02 00:00:00\n",
      "start history:  2000-10-06 00:00:00\n",
      "0 0 128 128\n"
     ]
    },
    {
     "name": "stderr",
     "output_type": "stream",
     "text": [
      "\n",
      "Processing blocks of tile::   1%|          | 2/256.0 [00:03<08:07,  1.92s/it]\u001b[A"
     ]
    },
    {
     "name": "stdout",
     "output_type": "stream",
     "text": [
      "--- runtime for data initialization:\t\t0.002368450164794922\n",
      "--- runtime for data transfer (host->device):\t0.006841421127319336\n",
      "--- runtime for data preprocessing:\t\t0.002470731735229492\n",
      "--- runtime for kernel execution:\t\t0.008451223373413086\n",
      "--- runtime for data transfer (device->host):\t0.005045652389526367\n",
      "128 0 128 128\n"
     ]
    },
    {
     "name": "stderr",
     "output_type": "stream",
     "text": [
      "\n",
      "Processing blocks of tile::   1%|          | 3/256.0 [00:07<10:33,  2.50s/it]\u001b[A"
     ]
    },
    {
     "name": "stdout",
     "output_type": "stream",
     "text": [
      "--- runtime for data initialization:\t\t0.0023665428161621094\n",
      "--- runtime for data transfer (host->device):\t0.006777048110961914\n",
      "--- runtime for data preprocessing:\t\t0.0024671554565429688\n",
      "--- runtime for kernel execution:\t\t0.008273839950561523\n",
      "--- runtime for data transfer (device->host):\t0.0050504207611083984\n",
      "256 0 128 128\n"
     ]
    },
    {
     "name": "stderr",
     "output_type": "stream",
     "text": [
      "\n",
      "Processing blocks of tile::   2%|▏         | 4/256.0 [00:11<12:17,  2.93s/it]\u001b[A"
     ]
    },
    {
     "name": "stdout",
     "output_type": "stream",
     "text": [
      "--- runtime for data initialization:\t\t0.002328157424926758\n",
      "--- runtime for data transfer (host->device):\t0.006780147552490234\n",
      "--- runtime for data preprocessing:\t\t0.002475261688232422\n",
      "--- runtime for kernel execution:\t\t0.008297204971313477\n",
      "--- runtime for data transfer (device->host):\t0.005034923553466797\n",
      "384 0 128 128\n"
     ]
    },
    {
     "name": "stderr",
     "output_type": "stream",
     "text": [
      "\n",
      "Processing blocks of tile::   2%|▏         | 5/256.0 [00:15<13:23,  3.20s/it]\u001b[A"
     ]
    },
    {
     "name": "stdout",
     "output_type": "stream",
     "text": [
      "--- runtime for data initialization:\t\t0.002396821975708008\n",
      "--- runtime for data transfer (host->device):\t0.006768465042114258\n",
      "--- runtime for data preprocessing:\t\t0.002517223358154297\n",
      "--- runtime for kernel execution:\t\t0.008249282836914062\n",
      "--- runtime for data transfer (device->host):\t0.00504755973815918\n",
      "512 0 128 128\n"
     ]
    },
    {
     "name": "stderr",
     "output_type": "stream",
     "text": [
      "\n",
      "Processing blocks of tile::   2%|▏         | 6/256.0 [00:19<14:09,  3.40s/it]\u001b[A"
     ]
    },
    {
     "name": "stdout",
     "output_type": "stream",
     "text": [
      "--- runtime for data initialization:\t\t0.0023310184478759766\n",
      "--- runtime for data transfer (host->device):\t0.006811857223510742\n",
      "--- runtime for data preprocessing:\t\t0.002466917037963867\n",
      "--- runtime for kernel execution:\t\t0.008247613906860352\n",
      "--- runtime for data transfer (device->host):\t0.004881858825683594\n",
      "640 0 128 128\n"
     ]
    },
    {
     "name": "stderr",
     "output_type": "stream",
     "text": [
      "\n",
      "Processing blocks of tile::   3%|▎         | 7/256.0 [00:23<14:41,  3.54s/it]\u001b[A"
     ]
    },
    {
     "name": "stdout",
     "output_type": "stream",
     "text": [
      "--- runtime for data initialization:\t\t0.0023345947265625\n",
      "--- runtime for data transfer (host->device):\t0.0068132877349853516\n",
      "--- runtime for data preprocessing:\t\t0.002451658248901367\n",
      "--- runtime for kernel execution:\t\t0.008429527282714844\n",
      "--- runtime for data transfer (device->host):\t0.005057096481323242\n",
      "768 0 128 128\n"
     ]
    },
    {
     "name": "stderr",
     "output_type": "stream",
     "text": [
      "\n",
      "Processing blocks of tile::   3%|▎         | 8/256.0 [00:27<15:07,  3.66s/it]\u001b[A"
     ]
    },
    {
     "name": "stdout",
     "output_type": "stream",
     "text": [
      "--- runtime for data initialization:\t\t0.0023529529571533203\n",
      "--- runtime for data transfer (host->device):\t0.00672602653503418\n",
      "--- runtime for data preprocessing:\t\t0.0024971961975097656\n",
      "--- runtime for kernel execution:\t\t0.00845956802368164\n",
      "--- runtime for data transfer (device->host):\t0.0050508975982666016\n",
      "896 0 128 128\n"
     ]
    },
    {
     "name": "stderr",
     "output_type": "stream",
     "text": [
      "\n",
      "Processing blocks of tile::   4%|▎         | 9/256.0 [00:30<15:17,  3.71s/it]\u001b[A"
     ]
    },
    {
     "name": "stdout",
     "output_type": "stream",
     "text": [
      "--- runtime for data initialization:\t\t0.002300739288330078\n",
      "--- runtime for data transfer (host->device):\t0.006791830062866211\n",
      "--- runtime for data preprocessing:\t\t0.0024743080139160156\n",
      "--- runtime for kernel execution:\t\t0.008269786834716797\n",
      "--- runtime for data transfer (device->host):\t0.005044460296630859\n",
      "1024 0 128 128\n"
     ]
    },
    {
     "name": "stderr",
     "output_type": "stream",
     "text": [
      "\n",
      "Processing blocks of tile::   4%|▍         | 10/256.0 [00:34<15:27,  3.77s/it]\u001b[A"
     ]
    },
    {
     "name": "stdout",
     "output_type": "stream",
     "text": [
      "--- runtime for data initialization:\t\t0.0023920536041259766\n",
      "--- runtime for data transfer (host->device):\t0.006786346435546875\n",
      "--- runtime for data preprocessing:\t\t0.002462625503540039\n",
      "--- runtime for kernel execution:\t\t0.008279800415039062\n",
      "--- runtime for data transfer (device->host):\t0.005043506622314453\n",
      "1152 0 128 128\n"
     ]
    },
    {
     "name": "stderr",
     "output_type": "stream",
     "text": [
      "\n",
      "Processing blocks of tile::   4%|▍         | 11/256.0 [00:38<15:29,  3.79s/it]\u001b[A"
     ]
    },
    {
     "name": "stdout",
     "output_type": "stream",
     "text": [
      "--- runtime for data initialization:\t\t0.002365589141845703\n",
      "--- runtime for data transfer (host->device):\t0.006778240203857422\n",
      "--- runtime for data preprocessing:\t\t0.0024709701538085938\n",
      "--- runtime for kernel execution:\t\t0.00845646858215332\n",
      "--- runtime for data transfer (device->host):\t0.004886627197265625\n",
      "1280 0 128 128\n"
     ]
    },
    {
     "name": "stderr",
     "output_type": "stream",
     "text": [
      "\n",
      "Processing blocks of tile::   5%|▍         | 12/256.0 [00:42<15:32,  3.82s/it]\u001b[A"
     ]
    },
    {
     "name": "stdout",
     "output_type": "stream",
     "text": [
      "--- runtime for data initialization:\t\t0.002300262451171875\n",
      "--- runtime for data transfer (host->device):\t0.006732463836669922\n",
      "--- runtime for data preprocessing:\t\t0.002481698989868164\n",
      "--- runtime for kernel execution:\t\t0.008280038833618164\n",
      "--- runtime for data transfer (device->host):\t0.005033731460571289\n",
      "1408 0 128 128\n"
     ]
    },
    {
     "name": "stderr",
     "output_type": "stream",
     "text": [
      "\n",
      "Processing blocks of tile::   5%|▌         | 13/256.0 [00:46<15:36,  3.85s/it]\u001b[A"
     ]
    },
    {
     "name": "stdout",
     "output_type": "stream",
     "text": [
      "--- runtime for data initialization:\t\t0.002355337142944336\n",
      "--- runtime for data transfer (host->device):\t0.0068128108978271484\n",
      "--- runtime for data preprocessing:\t\t0.0024895668029785156\n",
      "--- runtime for kernel execution:\t\t0.008275508880615234\n",
      "--- runtime for data transfer (device->host):\t0.0050504207611083984\n",
      "1536 0 128 128\n"
     ]
    },
    {
     "name": "stderr",
     "output_type": "stream",
     "text": [
      "\n",
      "Processing blocks of tile::   5%|▌         | 14/256.0 [00:50<15:30,  3.85s/it]\u001b[A"
     ]
    },
    {
     "name": "stdout",
     "output_type": "stream",
     "text": [
      "--- runtime for data initialization:\t\t0.0024118423461914062\n",
      "--- runtime for data transfer (host->device):\t0.006734609603881836\n",
      "--- runtime for data preprocessing:\t\t0.0024785995483398438\n",
      "--- runtime for kernel execution:\t\t0.00827646255493164\n",
      "--- runtime for data transfer (device->host):\t0.005043745040893555\n",
      "1664 0 128 128\n"
     ]
    },
    {
     "name": "stderr",
     "output_type": "stream",
     "text": [
      "\n",
      "Processing blocks of tile::   6%|▌         | 15/256.0 [00:54<15:28,  3.85s/it]\u001b[A"
     ]
    },
    {
     "name": "stdout",
     "output_type": "stream",
     "text": [
      "--- runtime for data initialization:\t\t0.0023958683013916016\n",
      "--- runtime for data transfer (host->device):\t0.006762981414794922\n",
      "--- runtime for data preprocessing:\t\t0.002497434616088867\n",
      "--- runtime for kernel execution:\t\t0.008254051208496094\n",
      "--- runtime for data transfer (device->host):\t0.005053281784057617\n",
      "1792 0 128 128\n"
     ]
    },
    {
     "name": "stderr",
     "output_type": "stream",
     "text": [
      "\n",
      "Processing blocks of tile::   6%|▋         | 16/256.0 [00:58<15:28,  3.87s/it]\u001b[A"
     ]
    },
    {
     "name": "stdout",
     "output_type": "stream",
     "text": [
      "--- runtime for data initialization:\t\t0.0024263858795166016\n",
      "--- runtime for data transfer (host->device):\t0.0067822933197021484\n",
      "--- runtime for data preprocessing:\t\t0.002492189407348633\n",
      "--- runtime for kernel execution:\t\t0.008292913436889648\n",
      "--- runtime for data transfer (device->host):\t0.0050411224365234375\n",
      "1920 0 128 128\n"
     ]
    },
    {
     "name": "stderr",
     "output_type": "stream",
     "text": [
      "\n",
      "Processing blocks of tile::   7%|▋         | 17/256.0 [01:02<15:25,  3.87s/it]\u001b[A"
     ]
    },
    {
     "name": "stdout",
     "output_type": "stream",
     "text": [
      "--- runtime for data initialization:\t\t0.0023345947265625\n",
      "--- runtime for data transfer (host->device):\t0.006795406341552734\n",
      "--- runtime for data preprocessing:\t\t0.002478361129760742\n",
      "--- runtime for kernel execution:\t\t0.008411884307861328\n",
      "--- runtime for data transfer (device->host):\t0.005049705505371094\n",
      "0 128 128 128\n"
     ]
    },
    {
     "name": "stderr",
     "output_type": "stream",
     "text": [
      "\n",
      "Processing blocks of tile::   7%|▋         | 18/256.0 [01:05<15:21,  3.87s/it]\u001b[A"
     ]
    },
    {
     "name": "stdout",
     "output_type": "stream",
     "text": [
      "--- runtime for data initialization:\t\t0.0023491382598876953\n",
      "--- runtime for data transfer (host->device):\t0.006787538528442383\n",
      "--- runtime for data preprocessing:\t\t0.0024755001068115234\n",
      "--- runtime for kernel execution:\t\t0.008290767669677734\n",
      "--- runtime for data transfer (device->host):\t0.005045652389526367\n",
      "128 128 128 128\n"
     ]
    },
    {
     "name": "stderr",
     "output_type": "stream",
     "text": [
      "\n",
      "Processing blocks of tile::   7%|▋         | 19/256.0 [01:09<15:13,  3.86s/it]\u001b[A"
     ]
    },
    {
     "name": "stdout",
     "output_type": "stream",
     "text": [
      "--- runtime for data initialization:\t\t0.0023305416107177734\n",
      "--- runtime for data transfer (host->device):\t0.006793498992919922\n",
      "--- runtime for data preprocessing:\t\t0.0024614334106445312\n",
      "--- runtime for kernel execution:\t\t0.008235692977905273\n",
      "--- runtime for data transfer (device->host):\t0.004924297332763672\n",
      "256 128 128 128\n"
     ]
    },
    {
     "name": "stderr",
     "output_type": "stream",
     "text": [
      "\n",
      "Processing blocks of tile::   8%|▊         | 20/256.0 [01:13<15:11,  3.86s/it]\u001b[A"
     ]
    },
    {
     "name": "stdout",
     "output_type": "stream",
     "text": [
      "--- runtime for data initialization:\t\t0.0024232864379882812\n",
      "--- runtime for data transfer (host->device):\t0.0066983699798583984\n",
      "--- runtime for data preprocessing:\t\t0.002466917037963867\n",
      "--- runtime for kernel execution:\t\t0.008270263671875\n",
      "--- runtime for data transfer (device->host):\t0.005047798156738281\n",
      "384 128 128 128\n"
     ]
    },
    {
     "name": "stderr",
     "output_type": "stream",
     "text": [
      "\n",
      "Processing blocks of tile::   8%|▊         | 21/256.0 [01:17<15:07,  3.86s/it]\u001b[A"
     ]
    },
    {
     "name": "stdout",
     "output_type": "stream",
     "text": [
      "--- runtime for data initialization:\t\t0.002343893051147461\n",
      "--- runtime for data transfer (host->device):\t0.006795406341552734\n",
      "--- runtime for data preprocessing:\t\t0.0024733543395996094\n",
      "--- runtime for kernel execution:\t\t0.008442878723144531\n",
      "--- runtime for data transfer (device->host):\t0.00489354133605957\n",
      "512 128 128 128\n"
     ]
    },
    {
     "name": "stderr",
     "output_type": "stream",
     "text": [
      "\n",
      "Processing blocks of tile::   9%|▊         | 22/256.0 [01:21<15:04,  3.86s/it]\u001b[A"
     ]
    },
    {
     "name": "stdout",
     "output_type": "stream",
     "text": [
      "--- runtime for data initialization:\t\t0.0023348331451416016\n",
      "--- runtime for data transfer (host->device):\t0.006755828857421875\n",
      "--- runtime for data preprocessing:\t\t0.002471923828125\n",
      "--- runtime for kernel execution:\t\t0.008274316787719727\n",
      "--- runtime for data transfer (device->host):\t0.005037784576416016\n",
      "640 128 128 128\n"
     ]
    },
    {
     "name": "stderr",
     "output_type": "stream",
     "text": [
      "\n",
      "Processing blocks of tile::   9%|▉         | 23/256.0 [01:25<14:57,  3.85s/it]\u001b[A"
     ]
    },
    {
     "name": "stdout",
     "output_type": "stream",
     "text": [
      "--- runtime for data initialization:\t\t0.002289295196533203\n",
      "--- runtime for data transfer (host->device):\t0.006742954254150391\n",
      "--- runtime for data preprocessing:\t\t0.002472400665283203\n",
      "--- runtime for kernel execution:\t\t0.008249998092651367\n",
      "--- runtime for data transfer (device->host):\t0.004902839660644531\n",
      "768 128 128 128\n"
     ]
    },
    {
     "name": "stderr",
     "output_type": "stream",
     "text": [
      "\n",
      "Processing blocks of tile::   9%|▉         | 24/256.0 [01:28<14:53,  3.85s/it]\u001b[A"
     ]
    },
    {
     "name": "stdout",
     "output_type": "stream",
     "text": [
      "--- runtime for data initialization:\t\t0.002332448959350586\n",
      "--- runtime for data transfer (host->device):\t0.006791830062866211\n",
      "--- runtime for data preprocessing:\t\t0.0024755001068115234\n",
      "--- runtime for kernel execution:\t\t0.008269071578979492\n",
      "--- runtime for data transfer (device->host):\t0.005042552947998047\n",
      "896 128 128 128\n"
     ]
    },
    {
     "name": "stderr",
     "output_type": "stream",
     "text": [
      "\n",
      "Processing blocks of tile::  10%|▉         | 25/256.0 [01:32<14:48,  3.85s/it]\u001b[A"
     ]
    },
    {
     "name": "stdout",
     "output_type": "stream",
     "text": [
      "--- runtime for data initialization:\t\t0.002343893051147461\n",
      "--- runtime for data transfer (host->device):\t0.006806373596191406\n",
      "--- runtime for data preprocessing:\t\t0.0024688243865966797\n",
      "--- runtime for kernel execution:\t\t0.008297920227050781\n",
      "--- runtime for data transfer (device->host):\t0.005039215087890625\n",
      "1024 128 128 128\n"
     ]
    },
    {
     "name": "stderr",
     "output_type": "stream",
     "text": [
      "\n",
      "Processing blocks of tile::  10%|█         | 26/256.0 [01:36<14:46,  3.85s/it]\u001b[A"
     ]
    },
    {
     "name": "stdout",
     "output_type": "stream",
     "text": [
      "--- runtime for data initialization:\t\t0.0023136138916015625\n",
      "--- runtime for data transfer (host->device):\t0.006766557693481445\n",
      "--- runtime for data preprocessing:\t\t0.0024824142456054688\n",
      "--- runtime for kernel execution:\t\t0.008283138275146484\n",
      "--- runtime for data transfer (device->host):\t0.005045175552368164\n",
      "1152 128 128 128\n"
     ]
    },
    {
     "name": "stderr",
     "output_type": "stream",
     "text": [
      "\n",
      "Processing blocks of tile::  11%|█         | 27/256.0 [01:40<14:40,  3.84s/it]\u001b[A"
     ]
    },
    {
     "name": "stdout",
     "output_type": "stream",
     "text": [
      "--- runtime for data initialization:\t\t0.002603769302368164\n",
      "--- runtime for data transfer (host->device):\t0.006749629974365234\n",
      "--- runtime for data preprocessing:\t\t0.0024585723876953125\n",
      "--- runtime for kernel execution:\t\t0.008321523666381836\n",
      "--- runtime for data transfer (device->host):\t0.005040645599365234\n",
      "1280 128 128 128\n"
     ]
    },
    {
     "name": "stderr",
     "output_type": "stream",
     "text": [
      "\n",
      "Processing blocks of tile::  11%|█         | 28/256.0 [01:44<14:40,  3.86s/it]\u001b[A"
     ]
    },
    {
     "name": "stdout",
     "output_type": "stream",
     "text": [
      "--- runtime for data initialization:\t\t0.00237274169921875\n",
      "--- runtime for data transfer (host->device):\t0.006669521331787109\n",
      "--- runtime for data preprocessing:\t\t0.0024957656860351562\n",
      "--- runtime for kernel execution:\t\t0.008316755294799805\n",
      "--- runtime for data transfer (device->host):\t0.005038261413574219\n",
      "1408 128 128 128\n"
     ]
    },
    {
     "name": "stderr",
     "output_type": "stream",
     "text": [
      "\n",
      "Processing blocks of tile::  11%|█▏        | 29/256.0 [01:48<14:39,  3.87s/it]\u001b[A"
     ]
    },
    {
     "name": "stdout",
     "output_type": "stream",
     "text": [
      "--- runtime for data initialization:\t\t0.0023641586303710938\n",
      "--- runtime for data transfer (host->device):\t0.006836414337158203\n",
      "--- runtime for data preprocessing:\t\t0.0024755001068115234\n",
      "--- runtime for kernel execution:\t\t0.008441925048828125\n",
      "--- runtime for data transfer (device->host):\t0.004885435104370117\n",
      "1536 128 128 128\n"
     ]
    },
    {
     "name": "stderr",
     "output_type": "stream",
     "text": [
      "\n",
      "Processing blocks of tile::  12%|█▏        | 30/256.0 [01:52<14:37,  3.88s/it]\u001b[A"
     ]
    },
    {
     "name": "stdout",
     "output_type": "stream",
     "text": [
      "--- runtime for data initialization:\t\t0.002367734909057617\n",
      "--- runtime for data transfer (host->device):\t0.006813526153564453\n",
      "--- runtime for data preprocessing:\t\t0.002488851547241211\n",
      "--- runtime for kernel execution:\t\t0.008252382278442383\n",
      "--- runtime for data transfer (device->host):\t0.005056142807006836\n",
      "1664 128 128 128\n"
     ]
    },
    {
     "name": "stderr",
     "output_type": "stream",
     "text": [
      "\n",
      "Processing blocks of tile::  12%|█▏        | 31/256.0 [01:56<14:45,  3.93s/it]\u001b[A"
     ]
    },
    {
     "name": "stdout",
     "output_type": "stream",
     "text": [
      "--- runtime for data initialization:\t\t0.002319812774658203\n",
      "--- runtime for data transfer (host->device):\t0.0068895816802978516\n",
      "--- runtime for data preprocessing:\t\t0.002481698989868164\n",
      "--- runtime for kernel execution:\t\t0.008257627487182617\n",
      "--- runtime for data transfer (device->host):\t0.004905223846435547\n",
      "1792 128 128 128\n"
     ]
    },
    {
     "name": "stderr",
     "output_type": "stream",
     "text": [
      "\n",
      "Processing blocks of tile::  12%|█▎        | 32/256.0 [02:00<14:38,  3.92s/it]\u001b[A"
     ]
    },
    {
     "name": "stdout",
     "output_type": "stream",
     "text": [
      "--- runtime for data initialization:\t\t0.002346515655517578\n",
      "--- runtime for data transfer (host->device):\t0.006806612014770508\n",
      "--- runtime for data preprocessing:\t\t0.0024673938751220703\n",
      "--- runtime for kernel execution:\t\t0.00828099250793457\n",
      "--- runtime for data transfer (device->host):\t0.004889011383056641\n",
      "1920 128 128 128\n"
     ]
    },
    {
     "name": "stderr",
     "output_type": "stream",
     "text": [
      "\n",
      "Processing blocks of tile::  13%|█▎        | 33/256.0 [02:04<14:32,  3.91s/it]\u001b[A"
     ]
    },
    {
     "name": "stdout",
     "output_type": "stream",
     "text": [
      "--- runtime for data initialization:\t\t0.002338886260986328\n",
      "--- runtime for data transfer (host->device):\t0.0067577362060546875\n",
      "--- runtime for data preprocessing:\t\t0.00247955322265625\n",
      "--- runtime for kernel execution:\t\t0.008310079574584961\n",
      "--- runtime for data transfer (device->host):\t0.0050427913665771484\n",
      "0 256 128 128\n"
     ]
    },
    {
     "name": "stderr",
     "output_type": "stream",
     "text": [
      "\n",
      "Processing blocks of tile::  13%|█▎        | 34/256.0 [02:07<14:26,  3.90s/it]\u001b[A"
     ]
    },
    {
     "name": "stdout",
     "output_type": "stream",
     "text": [
      "--- runtime for data initialization:\t\t0.002357006072998047\n",
      "--- runtime for data transfer (host->device):\t0.0067844390869140625\n",
      "--- runtime for data preprocessing:\t\t0.002485036849975586\n",
      "--- runtime for kernel execution:\t\t0.008286714553833008\n",
      "--- runtime for data transfer (device->host):\t0.004880428314208984\n",
      "128 256 128 128\n"
     ]
    },
    {
     "name": "stderr",
     "output_type": "stream",
     "text": [
      "\n",
      "Processing blocks of tile::  14%|█▎        | 35/256.0 [02:11<14:17,  3.88s/it]\u001b[A"
     ]
    },
    {
     "name": "stdout",
     "output_type": "stream",
     "text": [
      "--- runtime for data initialization:\t\t0.0023550987243652344\n",
      "--- runtime for data transfer (host->device):\t0.006884336471557617\n",
      "--- runtime for data preprocessing:\t\t0.002501249313354492\n",
      "--- runtime for kernel execution:\t\t0.00824117660522461\n",
      "--- runtime for data transfer (device->host):\t0.00488591194152832\n",
      "256 256 128 128\n"
     ]
    },
    {
     "name": "stderr",
     "output_type": "stream",
     "text": [
      "\n",
      "Processing blocks of tile::  14%|█▍        | 36/256.0 [02:15<14:15,  3.89s/it]\u001b[A"
     ]
    },
    {
     "name": "stdout",
     "output_type": "stream",
     "text": [
      "--- runtime for data initialization:\t\t0.0023474693298339844\n",
      "--- runtime for data transfer (host->device):\t0.0068514347076416016\n",
      "--- runtime for data preprocessing:\t\t0.002474546432495117\n",
      "--- runtime for kernel execution:\t\t0.008320808410644531\n",
      "--- runtime for data transfer (device->host):\t0.005046844482421875\n",
      "384 256 128 128\n"
     ]
    },
    {
     "name": "stderr",
     "output_type": "stream",
     "text": [
      "\n",
      "Processing blocks of tile::  14%|█▍        | 37/256.0 [02:19<14:09,  3.88s/it]\u001b[A"
     ]
    },
    {
     "name": "stdout",
     "output_type": "stream",
     "text": [
      "--- runtime for data initialization:\t\t0.0023491382598876953\n",
      "--- runtime for data transfer (host->device):\t0.006852626800537109\n",
      "--- runtime for data preprocessing:\t\t0.0024733543395996094\n",
      "--- runtime for kernel execution:\t\t0.008452653884887695\n",
      "--- runtime for data transfer (device->host):\t0.0048868656158447266\n",
      "512 256 128 128\n"
     ]
    },
    {
     "name": "stderr",
     "output_type": "stream",
     "text": [
      "\n",
      "Processing blocks of tile::  15%|█▍        | 38/256.0 [02:23<14:06,  3.88s/it]\u001b[A"
     ]
    },
    {
     "name": "stdout",
     "output_type": "stream",
     "text": [
      "--- runtime for data initialization:\t\t0.0023827552795410156\n",
      "--- runtime for data transfer (host->device):\t0.0068128108978271484\n",
      "--- runtime for data preprocessing:\t\t0.0025043487548828125\n",
      "--- runtime for kernel execution:\t\t0.008282661437988281\n",
      "--- runtime for data transfer (device->host):\t0.005058765411376953\n",
      "640 256 128 128\n"
     ]
    },
    {
     "name": "stderr",
     "output_type": "stream",
     "text": [
      "\n",
      "Processing blocks of tile::  15%|█▌        | 39/256.0 [02:27<14:02,  3.88s/it]\u001b[A"
     ]
    },
    {
     "name": "stdout",
     "output_type": "stream",
     "text": [
      "--- runtime for data initialization:\t\t0.002421140670776367\n",
      "--- runtime for data transfer (host->device):\t0.006796121597290039\n",
      "--- runtime for data preprocessing:\t\t0.0024797916412353516\n",
      "--- runtime for kernel execution:\t\t0.008278608322143555\n",
      "--- runtime for data transfer (device->host):\t0.00504302978515625\n",
      "768 256 128 128\n"
     ]
    },
    {
     "name": "stderr",
     "output_type": "stream",
     "text": [
      "\n",
      "Processing blocks of tile::  16%|█▌        | 40/256.0 [02:31<14:01,  3.90s/it]\u001b[A"
     ]
    },
    {
     "name": "stdout",
     "output_type": "stream",
     "text": [
      "--- runtime for data initialization:\t\t0.0023615360260009766\n",
      "--- runtime for data transfer (host->device):\t0.006805896759033203\n",
      "--- runtime for data preprocessing:\t\t0.0024971961975097656\n",
      "--- runtime for kernel execution:\t\t0.008259296417236328\n",
      "--- runtime for data transfer (device->host):\t0.00490570068359375\n",
      "896 256 128 128\n"
     ]
    },
    {
     "name": "stderr",
     "output_type": "stream",
     "text": [
      "\n",
      "Processing blocks of tile::  16%|█▌        | 41/256.0 [02:35<13:57,  3.90s/it]\u001b[A"
     ]
    },
    {
     "name": "stdout",
     "output_type": "stream",
     "text": [
      "--- runtime for data initialization:\t\t0.0023393630981445312\n",
      "--- runtime for data transfer (host->device):\t0.0068302154541015625\n",
      "--- runtime for data preprocessing:\t\t0.0024874210357666016\n",
      "--- runtime for kernel execution:\t\t0.008281946182250977\n",
      "--- runtime for data transfer (device->host):\t0.005067110061645508\n",
      "1024 256 128 128\n"
     ]
    },
    {
     "name": "stderr",
     "output_type": "stream",
     "text": [
      "\n",
      "Processing blocks of tile::  16%|█▋        | 42/256.0 [02:39<13:56,  3.91s/it]\u001b[A"
     ]
    },
    {
     "name": "stdout",
     "output_type": "stream",
     "text": [
      "--- runtime for data initialization:\t\t0.002324819564819336\n",
      "--- runtime for data transfer (host->device):\t0.0067615509033203125\n",
      "--- runtime for data preprocessing:\t\t0.0024824142456054688\n",
      "--- runtime for kernel execution:\t\t0.008413314819335938\n",
      "--- runtime for data transfer (device->host):\t0.005058765411376953\n",
      "1152 256 128 128\n"
     ]
    },
    {
     "name": "stderr",
     "output_type": "stream",
     "text": [
      "\n",
      "Processing blocks of tile::  17%|█▋        | 43/256.0 [02:43<13:55,  3.92s/it]\u001b[A"
     ]
    },
    {
     "name": "stdout",
     "output_type": "stream",
     "text": [
      "--- runtime for data initialization:\t\t0.002324342727661133\n",
      "--- runtime for data transfer (host->device):\t0.0068051815032958984\n",
      "--- runtime for data preprocessing:\t\t0.0024924278259277344\n",
      "--- runtime for kernel execution:\t\t0.00844264030456543\n",
      "--- runtime for data transfer (device->host):\t0.005041599273681641\n",
      "1280 256 128 128\n"
     ]
    },
    {
     "name": "stderr",
     "output_type": "stream",
     "text": [
      "\n",
      "Processing blocks of tile::  17%|█▋        | 44/256.0 [02:46<13:52,  3.93s/it]\u001b[A"
     ]
    },
    {
     "name": "stdout",
     "output_type": "stream",
     "text": [
      "--- runtime for data initialization:\t\t0.0023818016052246094\n",
      "--- runtime for data transfer (host->device):\t0.006737709045410156\n",
      "--- runtime for data preprocessing:\t\t0.0024950504302978516\n",
      "--- runtime for kernel execution:\t\t0.008307695388793945\n",
      "--- runtime for data transfer (device->host):\t0.0050427913665771484\n",
      "1408 256 128 128\n"
     ]
    },
    {
     "name": "stderr",
     "output_type": "stream",
     "text": [
      "\n",
      "Processing blocks of tile::  18%|█▊        | 45/256.0 [02:50<13:52,  3.95s/it]\u001b[A"
     ]
    },
    {
     "name": "stdout",
     "output_type": "stream",
     "text": [
      "--- runtime for data initialization:\t\t0.0024154186248779297\n",
      "--- runtime for data transfer (host->device):\t0.006757259368896484\n",
      "--- runtime for data preprocessing:\t\t0.002512693405151367\n",
      "--- runtime for kernel execution:\t\t0.00826406478881836\n",
      "--- runtime for data transfer (device->host):\t0.005053520202636719\n",
      "1536 256 128 128\n"
     ]
    },
    {
     "name": "stderr",
     "output_type": "stream",
     "text": [
      "\n",
      "Processing blocks of tile::  18%|█▊        | 46/256.0 [02:54<13:49,  3.95s/it]\u001b[A"
     ]
    },
    {
     "name": "stdout",
     "output_type": "stream",
     "text": [
      "--- runtime for data initialization:\t\t0.002373933792114258\n",
      "--- runtime for data transfer (host->device):\t0.006801128387451172\n",
      "--- runtime for data preprocessing:\t\t0.002486705780029297\n",
      "--- runtime for kernel execution:\t\t0.008316755294799805\n",
      "--- runtime for data transfer (device->host):\t0.005045413970947266\n",
      "1664 256 128 128\n"
     ]
    },
    {
     "name": "stderr",
     "output_type": "stream",
     "text": [
      "\n",
      "Processing blocks of tile::  18%|█▊        | 47/256.0 [02:58<13:42,  3.94s/it]\u001b[A"
     ]
    },
    {
     "name": "stdout",
     "output_type": "stream",
     "text": [
      "--- runtime for data initialization:\t\t0.0023229122161865234\n",
      "--- runtime for data transfer (host->device):\t0.006841182708740234\n",
      "--- runtime for data preprocessing:\t\t0.0025017261505126953\n",
      "--- runtime for kernel execution:\t\t0.008331060409545898\n",
      "--- runtime for data transfer (device->host):\t0.004900693893432617\n",
      "1792 256 128 128\n"
     ]
    },
    {
     "name": "stderr",
     "output_type": "stream",
     "text": [
      "\n",
      "Processing blocks of tile::  19%|█▉        | 48/256.0 [03:02<13:39,  3.94s/it]\u001b[A"
     ]
    },
    {
     "name": "stdout",
     "output_type": "stream",
     "text": [
      "--- runtime for data initialization:\t\t0.0023887157440185547\n",
      "--- runtime for data transfer (host->device):\t0.006832599639892578\n",
      "--- runtime for data preprocessing:\t\t0.002520322799682617\n",
      "--- runtime for kernel execution:\t\t0.008473396301269531\n",
      "--- runtime for data transfer (device->host):\t0.0048906803131103516\n",
      "1920 256 128 128\n"
     ]
    },
    {
     "name": "stderr",
     "output_type": "stream",
     "text": [
      "\n",
      "Processing blocks of tile::  19%|█▉        | 49/256.0 [03:06<13:36,  3.95s/it]\u001b[A"
     ]
    },
    {
     "name": "stdout",
     "output_type": "stream",
     "text": [
      "--- runtime for data initialization:\t\t0.0023076534271240234\n",
      "--- runtime for data transfer (host->device):\t0.006851911544799805\n",
      "--- runtime for data preprocessing:\t\t0.0025115013122558594\n",
      "--- runtime for kernel execution:\t\t0.008249282836914062\n",
      "--- runtime for data transfer (device->host):\t0.004898786544799805\n",
      "0 384 128 128\n"
     ]
    },
    {
     "name": "stderr",
     "output_type": "stream",
     "text": [
      "\n",
      "Processing blocks of tile::  20%|█▉        | 50/256.0 [03:10<13:30,  3.94s/it]\u001b[A"
     ]
    },
    {
     "name": "stdout",
     "output_type": "stream",
     "text": [
      "--- runtime for data initialization:\t\t0.002374410629272461\n",
      "--- runtime for data transfer (host->device):\t0.00677943229675293\n",
      "--- runtime for data preprocessing:\t\t0.002515077590942383\n",
      "--- runtime for kernel execution:\t\t0.008263826370239258\n",
      "--- runtime for data transfer (device->host):\t0.0048944950103759766\n",
      "128 384 128 128\n"
     ]
    },
    {
     "name": "stderr",
     "output_type": "stream",
     "text": [
      "\n",
      "Processing blocks of tile::  20%|█▉        | 51/256.0 [03:14<13:20,  3.90s/it]\u001b[A"
     ]
    },
    {
     "name": "stdout",
     "output_type": "stream",
     "text": [
      "--- runtime for data initialization:\t\t0.0023276805877685547\n",
      "--- runtime for data transfer (host->device):\t0.006763935089111328\n",
      "--- runtime for data preprocessing:\t\t0.0024847984313964844\n",
      "--- runtime for kernel execution:\t\t0.008460521697998047\n",
      "--- runtime for data transfer (device->host):\t0.004895210266113281\n",
      "256 384 128 128\n"
     ]
    },
    {
     "name": "stderr",
     "output_type": "stream",
     "text": [
      "\n",
      "Processing blocks of tile::  20%|██        | 52/256.0 [03:18<13:17,  3.91s/it]\u001b[A"
     ]
    },
    {
     "name": "stdout",
     "output_type": "stream",
     "text": [
      "--- runtime for data initialization:\t\t0.002371072769165039\n",
      "--- runtime for data transfer (host->device):\t0.0067729949951171875\n",
      "--- runtime for data preprocessing:\t\t0.0024852752685546875\n",
      "--- runtime for kernel execution:\t\t0.008330345153808594\n",
      "--- runtime for data transfer (device->host):\t0.005043745040893555\n",
      "384 384 128 128\n"
     ]
    },
    {
     "name": "stderr",
     "output_type": "stream",
     "text": [
      "\n",
      "Processing blocks of tile::  21%|██        | 53/256.0 [03:22<13:12,  3.90s/it]\u001b[A"
     ]
    },
    {
     "name": "stdout",
     "output_type": "stream",
     "text": [
      "--- runtime for data initialization:\t\t0.0023736953735351562\n",
      "--- runtime for data transfer (host->device):\t0.006858348846435547\n",
      "--- runtime for data preprocessing:\t\t0.002482891082763672\n",
      "--- runtime for kernel execution:\t\t0.008463144302368164\n",
      "--- runtime for data transfer (device->host):\t0.004877567291259766\n",
      "512 384 128 128\n"
     ]
    },
    {
     "name": "stderr",
     "output_type": "stream",
     "text": [
      "\n",
      "Processing blocks of tile::  21%|██        | 54/256.0 [03:26<13:08,  3.90s/it]\u001b[A"
     ]
    },
    {
     "name": "stdout",
     "output_type": "stream",
     "text": [
      "--- runtime for data initialization:\t\t0.0023474693298339844\n",
      "--- runtime for data transfer (host->device):\t0.006777763366699219\n",
      "--- runtime for data preprocessing:\t\t0.0024802684783935547\n",
      "--- runtime for kernel execution:\t\t0.008476018905639648\n",
      "--- runtime for data transfer (device->host):\t0.004902362823486328\n",
      "640 384 128 128\n"
     ]
    },
    {
     "name": "stderr",
     "output_type": "stream",
     "text": [
      "\n",
      "Processing blocks of tile::  21%|██▏       | 55/256.0 [03:30<13:09,  3.93s/it]\u001b[A"
     ]
    },
    {
     "name": "stdout",
     "output_type": "stream",
     "text": [
      "--- runtime for data initialization:\t\t0.0023179054260253906\n",
      "--- runtime for data transfer (host->device):\t0.006799221038818359\n",
      "--- runtime for data preprocessing:\t\t0.0025064945220947266\n",
      "--- runtime for kernel execution:\t\t0.008289813995361328\n",
      "--- runtime for data transfer (device->host):\t0.0050334930419921875\n",
      "768 384 128 128\n"
     ]
    },
    {
     "name": "stderr",
     "output_type": "stream",
     "text": [
      "\n",
      "Processing blocks of tile::  22%|██▏       | 56/256.0 [03:34<13:06,  3.93s/it]\u001b[A"
     ]
    },
    {
     "name": "stdout",
     "output_type": "stream",
     "text": [
      "--- runtime for data initialization:\t\t0.002356290817260742\n",
      "--- runtime for data transfer (host->device):\t0.0067386627197265625\n",
      "--- runtime for data preprocessing:\t\t0.0024785995483398438\n",
      "--- runtime for kernel execution:\t\t0.008454322814941406\n",
      "--- runtime for data transfer (device->host):\t0.004880428314208984\n",
      "896 384 128 128\n"
     ]
    },
    {
     "name": "stderr",
     "output_type": "stream",
     "text": [
      "\n",
      "Processing blocks of tile::  22%|██▏       | 57/256.0 [03:38<13:04,  3.94s/it]\u001b[A"
     ]
    },
    {
     "name": "stdout",
     "output_type": "stream",
     "text": [
      "--- runtime for data initialization:\t\t0.002342700958251953\n",
      "--- runtime for data transfer (host->device):\t0.0067291259765625\n",
      "--- runtime for data preprocessing:\t\t0.0024788379669189453\n",
      "--- runtime for kernel execution:\t\t0.008300304412841797\n",
      "--- runtime for data transfer (device->host):\t0.005061149597167969\n",
      "1024 384 128 128\n"
     ]
    },
    {
     "name": "stderr",
     "output_type": "stream",
     "text": [
      "\n",
      "Processing blocks of tile::  23%|██▎       | 58/256.0 [03:42<13:03,  3.96s/it]\u001b[A"
     ]
    },
    {
     "name": "stdout",
     "output_type": "stream",
     "text": [
      "--- runtime for data initialization:\t\t0.002285480499267578\n",
      "--- runtime for data transfer (host->device):\t0.006781816482543945\n",
      "--- runtime for data preprocessing:\t\t0.0024709701538085938\n",
      "--- runtime for kernel execution:\t\t0.008295059204101562\n",
      "--- runtime for data transfer (device->host):\t0.005043745040893555\n",
      "1152 384 128 128\n"
     ]
    },
    {
     "name": "stderr",
     "output_type": "stream",
     "text": [
      "\n",
      "Processing blocks of tile::  23%|██▎       | 59/256.0 [03:45<12:58,  3.95s/it]\u001b[A"
     ]
    },
    {
     "name": "stdout",
     "output_type": "stream",
     "text": [
      "--- runtime for data initialization:\t\t0.002326488494873047\n",
      "--- runtime for data transfer (host->device):\t0.006757259368896484\n",
      "--- runtime for data preprocessing:\t\t0.0024728775024414062\n",
      "--- runtime for kernel execution:\t\t0.008465051651000977\n",
      "--- runtime for data transfer (device->host):\t0.004903078079223633\n",
      "1280 384 128 128\n"
     ]
    },
    {
     "name": "stderr",
     "output_type": "stream",
     "text": [
      "\n",
      "Processing blocks of tile::  23%|██▎       | 60/256.0 [03:49<12:54,  3.95s/it]\u001b[A"
     ]
    },
    {
     "name": "stdout",
     "output_type": "stream",
     "text": [
      "--- runtime for data initialization:\t\t0.002368927001953125\n",
      "--- runtime for data transfer (host->device):\t0.006766557693481445\n",
      "--- runtime for data preprocessing:\t\t0.002460479736328125\n",
      "--- runtime for kernel execution:\t\t0.008269309997558594\n",
      "--- runtime for data transfer (device->host):\t0.005041837692260742\n",
      "1408 384 128 128\n"
     ]
    },
    {
     "name": "stderr",
     "output_type": "stream",
     "text": [
      "\n",
      "Processing blocks of tile::  24%|██▍       | 61/256.0 [03:53<12:52,  3.96s/it]\u001b[A"
     ]
    },
    {
     "name": "stdout",
     "output_type": "stream",
     "text": [
      "--- runtime for data initialization:\t\t0.0023441314697265625\n",
      "--- runtime for data transfer (host->device):\t0.00673985481262207\n",
      "--- runtime for data preprocessing:\t\t0.0024728775024414062\n",
      "--- runtime for kernel execution:\t\t0.008282184600830078\n",
      "--- runtime for data transfer (device->host):\t0.00504612922668457\n",
      "1536 384 128 128\n"
     ]
    },
    {
     "name": "stderr",
     "output_type": "stream",
     "text": [
      "\n",
      "Processing blocks of tile::  24%|██▍       | 62/256.0 [03:57<12:47,  3.96s/it]\u001b[A"
     ]
    },
    {
     "name": "stdout",
     "output_type": "stream",
     "text": [
      "--- runtime for data initialization:\t\t0.002356290817260742\n",
      "--- runtime for data transfer (host->device):\t0.006697893142700195\n",
      "--- runtime for data preprocessing:\t\t0.002485990524291992\n",
      "--- runtime for kernel execution:\t\t0.008280515670776367\n",
      "--- runtime for data transfer (device->host):\t0.005051851272583008\n",
      "1664 384 128 128\n"
     ]
    },
    {
     "name": "stderr",
     "output_type": "stream",
     "text": [
      "\n",
      "Processing blocks of tile::  25%|██▍       | 63/256.0 [04:01<12:46,  3.97s/it]\u001b[A"
     ]
    },
    {
     "name": "stdout",
     "output_type": "stream",
     "text": [
      "--- runtime for data initialization:\t\t0.002352476119995117\n",
      "--- runtime for data transfer (host->device):\t0.0066907405853271484\n",
      "--- runtime for data preprocessing:\t\t0.0024836063385009766\n",
      "--- runtime for kernel execution:\t\t0.008299589157104492\n",
      "--- runtime for data transfer (device->host):\t0.005043745040893555\n",
      "1792 384 128 128\n"
     ]
    },
    {
     "name": "stderr",
     "output_type": "stream",
     "text": [
      "\n",
      "Processing blocks of tile::  25%|██▌       | 64/256.0 [04:05<12:36,  3.94s/it]\u001b[A"
     ]
    },
    {
     "name": "stdout",
     "output_type": "stream",
     "text": [
      "--- runtime for data initialization:\t\t0.0023174285888671875\n",
      "--- runtime for data transfer (host->device):\t0.006698131561279297\n",
      "--- runtime for data preprocessing:\t\t0.0024471282958984375\n",
      "--- runtime for kernel execution:\t\t0.008315324783325195\n",
      "--- runtime for data transfer (device->host):\t0.0050427913665771484\n",
      "1920 384 128 128\n"
     ]
    },
    {
     "name": "stderr",
     "output_type": "stream",
     "text": [
      "\n",
      "Processing blocks of tile::  25%|██▌       | 65/256.0 [04:09<12:35,  3.95s/it]\u001b[A"
     ]
    },
    {
     "name": "stdout",
     "output_type": "stream",
     "text": [
      "--- runtime for data initialization:\t\t0.002347230911254883\n",
      "--- runtime for data transfer (host->device):\t0.006715536117553711\n",
      "--- runtime for data preprocessing:\t\t0.002475261688232422\n",
      "--- runtime for kernel execution:\t\t0.008291959762573242\n",
      "--- runtime for data transfer (device->host):\t0.005041599273681641\n",
      "0 512 128 128\n"
     ]
    },
    {
     "name": "stderr",
     "output_type": "stream",
     "text": [
      "\n",
      "Processing blocks of tile::  26%|██▌       | 66/256.0 [04:13<12:29,  3.94s/it]\u001b[A"
     ]
    },
    {
     "name": "stdout",
     "output_type": "stream",
     "text": [
      "--- runtime for data initialization:\t\t0.002285480499267578\n",
      "--- runtime for data transfer (host->device):\t0.006698131561279297\n",
      "--- runtime for data preprocessing:\t\t0.0024721622467041016\n",
      "--- runtime for kernel execution:\t\t0.00828695297241211\n",
      "--- runtime for data transfer (device->host):\t0.005045175552368164\n",
      "128 512 128 128\n"
     ]
    },
    {
     "name": "stderr",
     "output_type": "stream",
     "text": [
      "\n",
      "Processing blocks of tile::  26%|██▌       | 67/256.0 [04:17<12:18,  3.91s/it]\u001b[A"
     ]
    },
    {
     "name": "stdout",
     "output_type": "stream",
     "text": [
      "--- runtime for data initialization:\t\t0.0023033618927001953\n",
      "--- runtime for data transfer (host->device):\t0.006743907928466797\n",
      "--- runtime for data preprocessing:\t\t0.002476930618286133\n",
      "--- runtime for kernel execution:\t\t0.008469104766845703\n",
      "--- runtime for data transfer (device->host):\t0.004889011383056641\n",
      "256 512 128 128\n"
     ]
    },
    {
     "name": "stderr",
     "output_type": "stream",
     "text": [
      "\n",
      "Processing blocks of tile::  27%|██▋       | 68/256.0 [04:21<12:20,  3.94s/it]\u001b[A"
     ]
    },
    {
     "name": "stdout",
     "output_type": "stream",
     "text": [
      "--- runtime for data initialization:\t\t0.0023403167724609375\n",
      "--- runtime for data transfer (host->device):\t0.00677800178527832\n",
      "--- runtime for data preprocessing:\t\t0.002463102340698242\n",
      "--- runtime for kernel execution:\t\t0.008292913436889648\n",
      "--- runtime for data transfer (device->host):\t0.005030393600463867\n",
      "384 512 128 128\n"
     ]
    },
    {
     "name": "stderr",
     "output_type": "stream",
     "text": [
      "\n",
      "Processing blocks of tile::  27%|██▋       | 69/256.0 [04:25<12:12,  3.92s/it]\u001b[A"
     ]
    },
    {
     "name": "stdout",
     "output_type": "stream",
     "text": [
      "--- runtime for data initialization:\t\t0.0023000240325927734\n",
      "--- runtime for data transfer (host->device):\t0.006718158721923828\n",
      "--- runtime for data preprocessing:\t\t0.0024580955505371094\n",
      "--- runtime for kernel execution:\t\t0.008316993713378906\n",
      "--- runtime for data transfer (device->host):\t0.005041837692260742\n",
      "512 512 128 128\n"
     ]
    },
    {
     "name": "stderr",
     "output_type": "stream",
     "text": [
      "\n",
      "Processing blocks of tile::  27%|██▋       | 70/256.0 [04:29<12:09,  3.92s/it]\u001b[A"
     ]
    },
    {
     "name": "stdout",
     "output_type": "stream",
     "text": [
      "--- runtime for data initialization:\t\t0.002386808395385742\n",
      "--- runtime for data transfer (host->device):\t0.006754636764526367\n",
      "--- runtime for data preprocessing:\t\t0.002470731735229492\n",
      "--- runtime for kernel execution:\t\t0.008240938186645508\n",
      "--- runtime for data transfer (device->host):\t0.004926443099975586\n",
      "640 512 128 128\n"
     ]
    },
    {
     "name": "stderr",
     "output_type": "stream",
     "text": [
      "\n",
      "Processing blocks of tile::  28%|██▊       | 71/256.0 [04:33<12:03,  3.91s/it]\u001b[A"
     ]
    },
    {
     "name": "stdout",
     "output_type": "stream",
     "text": [
      "--- runtime for data initialization:\t\t0.002301454544067383\n",
      "--- runtime for data transfer (host->device):\t0.006680488586425781\n",
      "--- runtime for data preprocessing:\t\t0.0024404525756835938\n",
      "--- runtime for kernel execution:\t\t0.008330106735229492\n",
      "--- runtime for data transfer (device->host):\t0.005043983459472656\n",
      "768 512 128 128\n"
     ]
    },
    {
     "name": "stderr",
     "output_type": "stream",
     "text": [
      "\n",
      "Processing blocks of tile::  28%|██▊       | 72/256.0 [04:37<12:03,  3.93s/it]\u001b[A"
     ]
    },
    {
     "name": "stdout",
     "output_type": "stream",
     "text": [
      "--- runtime for data initialization:\t\t0.002360820770263672\n",
      "--- runtime for data transfer (host->device):\t0.0067899227142333984\n",
      "--- runtime for data preprocessing:\t\t0.002485990524291992\n",
      "--- runtime for kernel execution:\t\t0.008460760116577148\n",
      "--- runtime for data transfer (device->host):\t0.00490880012512207\n",
      "896 512 128 128\n"
     ]
    },
    {
     "name": "stderr",
     "output_type": "stream",
     "text": [
      "\n",
      "Processing blocks of tile::  29%|██▊       | 73/256.0 [04:41<12:02,  3.95s/it]\u001b[A"
     ]
    },
    {
     "name": "stdout",
     "output_type": "stream",
     "text": [
      "--- runtime for data initialization:\t\t0.002296924591064453\n",
      "--- runtime for data transfer (host->device):\t0.006726741790771484\n",
      "--- runtime for data preprocessing:\t\t0.0024547576904296875\n",
      "--- runtime for kernel execution:\t\t0.008310079574584961\n",
      "--- runtime for data transfer (device->host):\t0.005036830902099609\n",
      "1024 512 128 128\n"
     ]
    },
    {
     "name": "stderr",
     "output_type": "stream",
     "text": [
      "\n",
      "Processing blocks of tile::  29%|██▉       | 74/256.0 [04:45<12:02,  3.97s/it]\u001b[A"
     ]
    },
    {
     "name": "stdout",
     "output_type": "stream",
     "text": [
      "--- runtime for data initialization:\t\t0.0023190975189208984\n",
      "--- runtime for data transfer (host->device):\t0.006802558898925781\n",
      "--- runtime for data preprocessing:\t\t0.0024950504302978516\n",
      "--- runtime for kernel execution:\t\t0.008468151092529297\n",
      "--- runtime for data transfer (device->host):\t0.004912137985229492\n",
      "1152 512 128 128\n"
     ]
    },
    {
     "name": "stderr",
     "output_type": "stream",
     "text": [
      "\n",
      "Processing blocks of tile::  29%|██▉       | 75/256.0 [04:49<11:55,  3.95s/it]\u001b[A"
     ]
    },
    {
     "name": "stdout",
     "output_type": "stream",
     "text": [
      "--- runtime for data initialization:\t\t0.002301931381225586\n",
      "--- runtime for data transfer (host->device):\t0.006820201873779297\n",
      "--- runtime for data preprocessing:\t\t0.0024678707122802734\n",
      "--- runtime for kernel execution:\t\t0.008462190628051758\n",
      "--- runtime for data transfer (device->host):\t0.004877328872680664\n",
      "1280 512 128 128\n"
     ]
    },
    {
     "name": "stderr",
     "output_type": "stream",
     "text": [
      "\n",
      "Processing blocks of tile::  30%|██▉       | 76/256.0 [04:52<11:49,  3.94s/it]\u001b[A"
     ]
    },
    {
     "name": "stdout",
     "output_type": "stream",
     "text": [
      "--- runtime for data initialization:\t\t0.0023353099822998047\n",
      "--- runtime for data transfer (host->device):\t0.0067844390869140625\n",
      "--- runtime for data preprocessing:\t\t0.0024633407592773438\n",
      "--- runtime for kernel execution:\t\t0.008259773254394531\n",
      "--- runtime for data transfer (device->host):\t0.0049092769622802734\n",
      "1408 512 128 128\n"
     ]
    },
    {
     "name": "stderr",
     "output_type": "stream",
     "text": [
      "\n",
      "Processing blocks of tile::  30%|███       | 77/256.0 [04:56<11:47,  3.95s/it]\u001b[A"
     ]
    },
    {
     "name": "stdout",
     "output_type": "stream",
     "text": [
      "--- runtime for data initialization:\t\t0.0023620128631591797\n",
      "--- runtime for data transfer (host->device):\t0.00672602653503418\n",
      "--- runtime for data preprocessing:\t\t0.0024623870849609375\n",
      "--- runtime for kernel execution:\t\t0.008255720138549805\n",
      "--- runtime for data transfer (device->host):\t0.005048036575317383\n",
      "1536 512 128 128\n"
     ]
    },
    {
     "name": "stderr",
     "output_type": "stream",
     "text": [
      "\n",
      "Processing blocks of tile::  30%|███       | 78/256.0 [05:01<11:48,  3.98s/it]\u001b[A"
     ]
    },
    {
     "name": "stdout",
     "output_type": "stream",
     "text": [
      "--- runtime for data initialization:\t\t0.0023190975189208984\n",
      "--- runtime for data transfer (host->device):\t0.006758689880371094\n",
      "--- runtime for data preprocessing:\t\t0.002474069595336914\n",
      "--- runtime for kernel execution:\t\t0.008293628692626953\n",
      "--- runtime for data transfer (device->host):\t0.005050182342529297\n",
      "1664 512 128 128\n"
     ]
    },
    {
     "name": "stderr",
     "output_type": "stream",
     "text": [
      "\n",
      "Processing blocks of tile::  31%|███       | 79/256.0 [05:04<11:43,  3.98s/it]\u001b[A"
     ]
    },
    {
     "name": "stdout",
     "output_type": "stream",
     "text": [
      "--- runtime for data initialization:\t\t0.0023043155670166016\n",
      "--- runtime for data transfer (host->device):\t0.006762027740478516\n",
      "--- runtime for data preprocessing:\t\t0.002475261688232422\n",
      "--- runtime for kernel execution:\t\t0.00832986831665039\n",
      "--- runtime for data transfer (device->host):\t0.005045413970947266\n",
      "1792 512 128 128\n"
     ]
    },
    {
     "name": "stderr",
     "output_type": "stream",
     "text": [
      "\n",
      "Processing blocks of tile::  31%|███▏      | 80/256.0 [05:08<11:39,  3.98s/it]\u001b[A"
     ]
    },
    {
     "name": "stdout",
     "output_type": "stream",
     "text": [
      "--- runtime for data initialization:\t\t0.002294301986694336\n",
      "--- runtime for data transfer (host->device):\t0.006760358810424805\n",
      "--- runtime for data preprocessing:\t\t0.002506256103515625\n",
      "--- runtime for kernel execution:\t\t0.008450746536254883\n",
      "--- runtime for data transfer (device->host):\t0.004891157150268555\n",
      "1920 512 128 128\n"
     ]
    },
    {
     "name": "stderr",
     "output_type": "stream",
     "text": [
      "\n",
      "Processing blocks of tile::  32%|███▏      | 81/256.0 [05:12<11:33,  3.96s/it]\u001b[A"
     ]
    },
    {
     "name": "stdout",
     "output_type": "stream",
     "text": [
      "--- runtime for data initialization:\t\t0.0023484230041503906\n",
      "--- runtime for data transfer (host->device):\t0.006733894348144531\n",
      "--- runtime for data preprocessing:\t\t0.0024967193603515625\n",
      "--- runtime for kernel execution:\t\t0.008289337158203125\n",
      "--- runtime for data transfer (device->host):\t0.005034446716308594\n",
      "0 640 128 128\n"
     ]
    },
    {
     "name": "stderr",
     "output_type": "stream",
     "text": [
      "\n",
      "Processing blocks of tile::  32%|███▏      | 82/256.0 [05:16<11:26,  3.95s/it]\u001b[A"
     ]
    },
    {
     "name": "stdout",
     "output_type": "stream",
     "text": [
      "--- runtime for data initialization:\t\t0.002344369888305664\n",
      "--- runtime for data transfer (host->device):\t0.006758213043212891\n",
      "--- runtime for data preprocessing:\t\t0.002463102340698242\n",
      "--- runtime for kernel execution:\t\t0.008299827575683594\n",
      "--- runtime for data transfer (device->host):\t0.005053520202636719\n",
      "128 640 128 128\n"
     ]
    },
    {
     "name": "stderr",
     "output_type": "stream",
     "text": [
      "\n",
      "Processing blocks of tile::  32%|███▏      | 83/256.0 [05:20<11:14,  3.90s/it]\u001b[A"
     ]
    },
    {
     "name": "stdout",
     "output_type": "stream",
     "text": [
      "--- runtime for data initialization:\t\t0.0023818016052246094\n",
      "--- runtime for data transfer (host->device):\t0.00667119026184082\n",
      "--- runtime for data preprocessing:\t\t0.0024743080139160156\n",
      "--- runtime for kernel execution:\t\t0.008303165435791016\n",
      "--- runtime for data transfer (device->host):\t0.00506281852722168\n",
      "256 640 128 128\n"
     ]
    },
    {
     "name": "stderr",
     "output_type": "stream",
     "text": [
      "\n",
      "Processing blocks of tile::  33%|███▎      | 84/256.0 [05:24<11:17,  3.94s/it]\u001b[A"
     ]
    },
    {
     "name": "stdout",
     "output_type": "stream",
     "text": [
      "--- runtime for data initialization:\t\t0.0023326873779296875\n",
      "--- runtime for data transfer (host->device):\t0.006705522537231445\n",
      "--- runtime for data preprocessing:\t\t0.0024602413177490234\n",
      "--- runtime for kernel execution:\t\t0.008312702178955078\n",
      "--- runtime for data transfer (device->host):\t0.0050694942474365234\n",
      "384 640 128 128\n"
     ]
    },
    {
     "name": "stderr",
     "output_type": "stream",
     "text": [
      "\n",
      "Processing blocks of tile::  33%|███▎      | 85/256.0 [05:28<11:11,  3.92s/it]\u001b[A"
     ]
    },
    {
     "name": "stdout",
     "output_type": "stream",
     "text": [
      "--- runtime for data initialization:\t\t0.002307891845703125\n",
      "--- runtime for data transfer (host->device):\t0.006682395935058594\n",
      "--- runtime for data preprocessing:\t\t0.0025103092193603516\n",
      "--- runtime for kernel execution:\t\t0.008296728134155273\n",
      "--- runtime for data transfer (device->host):\t0.005074977874755859\n",
      "512 640 128 128\n"
     ]
    },
    {
     "name": "stderr",
     "output_type": "stream",
     "text": [
      "\n",
      "Processing blocks of tile::  34%|███▎      | 86/256.0 [05:32<11:05,  3.92s/it]\u001b[A"
     ]
    },
    {
     "name": "stdout",
     "output_type": "stream",
     "text": [
      "--- runtime for data initialization:\t\t0.0023293495178222656\n",
      "--- runtime for data transfer (host->device):\t0.00676274299621582\n",
      "--- runtime for data preprocessing:\t\t0.0024750232696533203\n",
      "--- runtime for kernel execution:\t\t0.008455753326416016\n",
      "--- runtime for data transfer (device->host):\t0.004889488220214844\n",
      "640 640 128 128\n"
     ]
    },
    {
     "name": "stderr",
     "output_type": "stream",
     "text": [
      "\n",
      "Processing blocks of tile::  34%|███▍      | 87/256.0 [05:36<10:55,  3.88s/it]\u001b[A"
     ]
    },
    {
     "name": "stdout",
     "output_type": "stream",
     "text": [
      "--- runtime for data initialization:\t\t0.0023920536041259766\n",
      "--- runtime for data transfer (host->device):\t0.0067751407623291016\n",
      "--- runtime for data preprocessing:\t\t0.0024929046630859375\n",
      "--- runtime for kernel execution:\t\t0.008499383926391602\n",
      "--- runtime for data transfer (device->host):\t0.0050623416900634766\n",
      "768 640 128 128\n"
     ]
    },
    {
     "name": "stderr",
     "output_type": "stream",
     "text": [
      "\n",
      "Processing blocks of tile::  34%|███▍      | 88/256.0 [05:40<10:54,  3.90s/it]\u001b[A"
     ]
    },
    {
     "name": "stdout",
     "output_type": "stream",
     "text": [
      "--- runtime for data initialization:\t\t0.00247955322265625\n",
      "--- runtime for data transfer (host->device):\t0.006690025329589844\n",
      "--- runtime for data preprocessing:\t\t0.00244903564453125\n",
      "--- runtime for kernel execution:\t\t0.008299589157104492\n",
      "--- runtime for data transfer (device->host):\t0.0050508975982666016\n",
      "896 640 128 128\n"
     ]
    },
    {
     "name": "stderr",
     "output_type": "stream",
     "text": [
      "\n",
      "Processing blocks of tile::  35%|███▍      | 89/256.0 [05:44<10:52,  3.90s/it]\u001b[A"
     ]
    },
    {
     "name": "stdout",
     "output_type": "stream",
     "text": [
      "--- runtime for data initialization:\t\t0.0022974014282226562\n",
      "--- runtime for data transfer (host->device):\t0.00672149658203125\n",
      "--- runtime for data preprocessing:\t\t0.0024788379669189453\n",
      "--- runtime for kernel execution:\t\t0.00830221176147461\n",
      "--- runtime for data transfer (device->host):\t0.005044221878051758\n",
      "1024 640 128 128\n"
     ]
    },
    {
     "name": "stderr",
     "output_type": "stream",
     "text": [
      "\n",
      "Processing blocks of tile::  35%|███▌      | 90/256.0 [05:48<10:50,  3.92s/it]\u001b[A"
     ]
    },
    {
     "name": "stdout",
     "output_type": "stream",
     "text": [
      "--- runtime for data initialization:\t\t0.002307415008544922\n",
      "--- runtime for data transfer (host->device):\t0.006731271743774414\n",
      "--- runtime for data preprocessing:\t\t0.0024673938751220703\n",
      "--- runtime for kernel execution:\t\t0.008275032043457031\n",
      "--- runtime for data transfer (device->host):\t0.004923582077026367\n",
      "1152 640 128 128\n"
     ]
    },
    {
     "name": "stderr",
     "output_type": "stream",
     "text": [
      "\n",
      "Processing blocks of tile::  36%|███▌      | 91/256.0 [05:51<10:45,  3.91s/it]\u001b[A"
     ]
    },
    {
     "name": "stdout",
     "output_type": "stream",
     "text": [
      "--- runtime for data initialization:\t\t0.002535581588745117\n",
      "--- runtime for data transfer (host->device):\t0.006798744201660156\n",
      "--- runtime for data preprocessing:\t\t0.002466440200805664\n",
      "--- runtime for kernel execution:\t\t0.008275508880615234\n",
      "--- runtime for data transfer (device->host):\t0.005070924758911133\n",
      "1280 640 128 128\n"
     ]
    },
    {
     "name": "stderr",
     "output_type": "stream",
     "text": [
      "\n",
      "Processing blocks of tile::  36%|███▌      | 92/256.0 [05:55<10:41,  3.91s/it]\u001b[A"
     ]
    },
    {
     "name": "stdout",
     "output_type": "stream",
     "text": [
      "--- runtime for data initialization:\t\t0.002305269241333008\n",
      "--- runtime for data transfer (host->device):\t0.00666046142578125\n",
      "--- runtime for data preprocessing:\t\t0.0024514198303222656\n",
      "--- runtime for kernel execution:\t\t0.008300542831420898\n",
      "--- runtime for data transfer (device->host):\t0.005043506622314453\n",
      "1408 640 128 128\n"
     ]
    },
    {
     "name": "stderr",
     "output_type": "stream",
     "text": [
      "\n",
      "Processing blocks of tile::  36%|███▋      | 93/256.0 [05:59<10:37,  3.91s/it]\u001b[A"
     ]
    },
    {
     "name": "stdout",
     "output_type": "stream",
     "text": [
      "--- runtime for data initialization:\t\t0.002439737319946289\n",
      "--- runtime for data transfer (host->device):\t0.006780385971069336\n",
      "--- runtime for data preprocessing:\t\t0.002522706985473633\n",
      "--- runtime for kernel execution:\t\t0.0082855224609375\n",
      "--- runtime for data transfer (device->host):\t0.004890918731689453\n",
      "1536 640 128 128\n"
     ]
    },
    {
     "name": "stderr",
     "output_type": "stream",
     "text": [
      "\n",
      "Processing blocks of tile::  37%|███▋      | 94/256.0 [06:03<10:36,  3.93s/it]\u001b[A"
     ]
    },
    {
     "name": "stdout",
     "output_type": "stream",
     "text": [
      "--- runtime for data initialization:\t\t0.0023872852325439453\n",
      "--- runtime for data transfer (host->device):\t0.006671428680419922\n",
      "--- runtime for data preprocessing:\t\t0.002454996109008789\n",
      "--- runtime for kernel execution:\t\t0.008252859115600586\n",
      "--- runtime for data transfer (device->host):\t0.0050389766693115234\n",
      "1664 640 128 128\n"
     ]
    },
    {
     "name": "stderr",
     "output_type": "stream",
     "text": [
      "\n",
      "Processing blocks of tile::  37%|███▋      | 95/256.0 [06:07<10:32,  3.93s/it]\u001b[A"
     ]
    },
    {
     "name": "stdout",
     "output_type": "stream",
     "text": [
      "--- runtime for data initialization:\t\t0.002397775650024414\n",
      "--- runtime for data transfer (host->device):\t0.006681680679321289\n",
      "--- runtime for data preprocessing:\t\t0.002468109130859375\n",
      "--- runtime for kernel execution:\t\t0.008325815200805664\n",
      "--- runtime for data transfer (device->host):\t0.005036830902099609\n",
      "1792 640 128 128\n"
     ]
    },
    {
     "name": "stderr",
     "output_type": "stream",
     "text": [
      "\n",
      "Processing blocks of tile::  38%|███▊      | 96/256.0 [06:11<10:25,  3.91s/it]\u001b[A"
     ]
    },
    {
     "name": "stdout",
     "output_type": "stream",
     "text": [
      "--- runtime for data initialization:\t\t0.0023670196533203125\n",
      "--- runtime for data transfer (host->device):\t0.006789684295654297\n",
      "--- runtime for data preprocessing:\t\t0.0024933815002441406\n",
      "--- runtime for kernel execution:\t\t0.008458852767944336\n",
      "--- runtime for data transfer (device->host):\t0.005064725875854492\n",
      "1920 640 128 128\n"
     ]
    },
    {
     "name": "stderr",
     "output_type": "stream",
     "text": [
      "\n",
      "Processing blocks of tile::  38%|███▊      | 97/256.0 [06:15<10:18,  3.89s/it]\u001b[A"
     ]
    },
    {
     "name": "stdout",
     "output_type": "stream",
     "text": [
      "--- runtime for data initialization:\t\t0.0023851394653320312\n",
      "--- runtime for data transfer (host->device):\t0.0068018436431884766\n",
      "--- runtime for data preprocessing:\t\t0.0024917125701904297\n",
      "--- runtime for kernel execution:\t\t0.008438587188720703\n",
      "--- runtime for data transfer (device->host):\t0.004928112030029297\n",
      "0 768 128 128\n"
     ]
    },
    {
     "name": "stderr",
     "output_type": "stream",
     "text": [
      "\n",
      "Processing blocks of tile::  38%|███▊      | 98/256.0 [06:19<10:11,  3.87s/it]\u001b[A"
     ]
    },
    {
     "name": "stdout",
     "output_type": "stream",
     "text": [
      "--- runtime for data initialization:\t\t0.002312898635864258\n",
      "--- runtime for data transfer (host->device):\t0.0068361759185791016\n",
      "--- runtime for data preprocessing:\t\t0.002485513687133789\n",
      "--- runtime for kernel execution:\t\t0.008221864700317383\n",
      "--- runtime for data transfer (device->host):\t0.004903078079223633\n",
      "128 768 128 128\n"
     ]
    },
    {
     "name": "stderr",
     "output_type": "stream",
     "text": [
      "\n",
      "Processing blocks of tile::  39%|███▊      | 99/256.0 [06:22<10:04,  3.85s/it]\u001b[A"
     ]
    },
    {
     "name": "stdout",
     "output_type": "stream",
     "text": [
      "--- runtime for data initialization:\t\t0.0023005008697509766\n",
      "--- runtime for data transfer (host->device):\t0.006752967834472656\n",
      "--- runtime for data preprocessing:\t\t0.0024836063385009766\n",
      "--- runtime for kernel execution:\t\t0.008285999298095703\n",
      "--- runtime for data transfer (device->host):\t0.0050394535064697266\n",
      "256 768 128 128\n"
     ]
    },
    {
     "name": "stderr",
     "output_type": "stream",
     "text": [
      "\n",
      "Processing blocks of tile::  39%|███▉      | 100/256.0 [06:26<10:03,  3.87s/it]\u001b[A"
     ]
    },
    {
     "name": "stdout",
     "output_type": "stream",
     "text": [
      "--- runtime for data initialization:\t\t0.0023560523986816406\n",
      "--- runtime for data transfer (host->device):\t0.0066831111907958984\n",
      "--- runtime for data preprocessing:\t\t0.002458333969116211\n",
      "--- runtime for kernel execution:\t\t0.00832986831665039\n",
      "--- runtime for data transfer (device->host):\t0.005041599273681641\n",
      "384 768 128 128\n"
     ]
    },
    {
     "name": "stderr",
     "output_type": "stream",
     "text": [
      "\n",
      "Processing blocks of tile::  39%|███▉      | 101/256.0 [06:30<10:06,  3.91s/it]\u001b[A"
     ]
    },
    {
     "name": "stdout",
     "output_type": "stream",
     "text": [
      "--- runtime for data initialization:\t\t0.0023288726806640625\n",
      "--- runtime for data transfer (host->device):\t0.006768941879272461\n",
      "--- runtime for data preprocessing:\t\t0.0024890899658203125\n",
      "--- runtime for kernel execution:\t\t0.008459806442260742\n",
      "--- runtime for data transfer (device->host):\t0.005051612854003906\n",
      "512 768 128 128\n"
     ]
    },
    {
     "name": "stderr",
     "output_type": "stream",
     "text": [
      "\n",
      "Processing blocks of tile::  40%|███▉      | 102/256.0 [06:34<10:06,  3.94s/it]\u001b[A"
     ]
    },
    {
     "name": "stdout",
     "output_type": "stream",
     "text": [
      "--- runtime for data initialization:\t\t0.002419710159301758\n",
      "--- runtime for data transfer (host->device):\t0.006724834442138672\n",
      "--- runtime for data preprocessing:\t\t0.002492189407348633\n",
      "--- runtime for kernel execution:\t\t0.00828099250793457\n",
      "--- runtime for data transfer (device->host):\t0.005048990249633789\n",
      "640 768 128 128\n"
     ]
    },
    {
     "name": "stderr",
     "output_type": "stream",
     "text": [
      "\n",
      "Processing blocks of tile::  40%|████      | 103/256.0 [06:38<10:00,  3.93s/it]\u001b[A"
     ]
    },
    {
     "name": "stdout",
     "output_type": "stream",
     "text": [
      "--- runtime for data initialization:\t\t0.0023469924926757812\n",
      "--- runtime for data transfer (host->device):\t0.00673222541809082\n",
      "--- runtime for data preprocessing:\t\t0.0025000572204589844\n",
      "--- runtime for kernel execution:\t\t0.008321523666381836\n",
      "--- runtime for data transfer (device->host):\t0.005034685134887695\n",
      "768 768 128 128\n"
     ]
    },
    {
     "name": "stderr",
     "output_type": "stream",
     "text": [
      "\n",
      "Processing blocks of tile::  41%|████      | 104/256.0 [06:42<09:57,  3.93s/it]\u001b[A"
     ]
    },
    {
     "name": "stdout",
     "output_type": "stream",
     "text": [
      "--- runtime for data initialization:\t\t0.00231170654296875\n",
      "--- runtime for data transfer (host->device):\t0.006813526153564453\n",
      "--- runtime for data preprocessing:\t\t0.0024747848510742188\n",
      "--- runtime for kernel execution:\t\t0.008266687393188477\n",
      "--- runtime for data transfer (device->host):\t0.00490570068359375\n",
      "896 768 128 128\n"
     ]
    },
    {
     "name": "stderr",
     "output_type": "stream",
     "text": [
      "\n",
      "Processing blocks of tile::  41%|████      | 105/256.0 [06:46<09:55,  3.94s/it]\u001b[A"
     ]
    },
    {
     "name": "stdout",
     "output_type": "stream",
     "text": [
      "--- runtime for data initialization:\t\t0.0023326873779296875\n",
      "--- runtime for data transfer (host->device):\t0.006871700286865234\n",
      "--- runtime for data preprocessing:\t\t0.002466917037963867\n",
      "--- runtime for kernel execution:\t\t0.008260011672973633\n",
      "--- runtime for data transfer (device->host):\t0.004914283752441406\n",
      "1024 768 128 128\n"
     ]
    },
    {
     "name": "stderr",
     "output_type": "stream",
     "text": [
      "\n",
      "Processing blocks of tile::  41%|████▏     | 106/256.0 [06:50<09:48,  3.93s/it]\u001b[A"
     ]
    },
    {
     "name": "stdout",
     "output_type": "stream",
     "text": [
      "--- runtime for data initialization:\t\t0.0023431777954101562\n",
      "--- runtime for data transfer (host->device):\t0.006827116012573242\n",
      "--- runtime for data preprocessing:\t\t0.0024518966674804688\n",
      "--- runtime for kernel execution:\t\t0.008452415466308594\n",
      "--- runtime for data transfer (device->host):\t0.00506591796875\n",
      "1152 768 128 128\n"
     ]
    },
    {
     "name": "stderr",
     "output_type": "stream",
     "text": [
      "\n",
      "Processing blocks of tile::  42%|████▏     | 107/256.0 [06:54<09:42,  3.91s/it]\u001b[A"
     ]
    },
    {
     "name": "stdout",
     "output_type": "stream",
     "text": [
      "--- runtime for data initialization:\t\t0.002410888671875\n",
      "--- runtime for data transfer (host->device):\t0.006671428680419922\n",
      "--- runtime for data preprocessing:\t\t0.0024764537811279297\n",
      "--- runtime for kernel execution:\t\t0.008275985717773438\n",
      "--- runtime for data transfer (device->host):\t0.005076169967651367\n",
      "1280 768 128 128\n"
     ]
    },
    {
     "name": "stderr",
     "output_type": "stream",
     "text": [
      "\n",
      "Processing blocks of tile::  42%|████▏     | 108/256.0 [06:58<09:36,  3.89s/it]\u001b[A"
     ]
    },
    {
     "name": "stdout",
     "output_type": "stream",
     "text": [
      "--- runtime for data initialization:\t\t0.002439260482788086\n",
      "--- runtime for data transfer (host->device):\t0.0067291259765625\n",
      "--- runtime for data preprocessing:\t\t0.002471446990966797\n",
      "--- runtime for kernel execution:\t\t0.008294343948364258\n",
      "--- runtime for data transfer (device->host):\t0.004913806915283203\n",
      "1408 768 128 128\n"
     ]
    },
    {
     "name": "stderr",
     "output_type": "stream",
     "text": [
      "\n",
      "Processing blocks of tile::  43%|████▎     | 109/256.0 [07:02<09:29,  3.87s/it]\u001b[A"
     ]
    },
    {
     "name": "stdout",
     "output_type": "stream",
     "text": [
      "--- runtime for data initialization:\t\t0.002307891845703125\n",
      "--- runtime for data transfer (host->device):\t0.00669097900390625\n",
      "--- runtime for data preprocessing:\t\t0.0024542808532714844\n",
      "--- runtime for kernel execution:\t\t0.008297920227050781\n",
      "--- runtime for data transfer (device->host):\t0.005040645599365234\n",
      "1536 768 128 128\n"
     ]
    },
    {
     "name": "stderr",
     "output_type": "stream",
     "text": [
      "\n",
      "Processing blocks of tile::  43%|████▎     | 110/256.0 [07:06<09:25,  3.87s/it]\u001b[A"
     ]
    },
    {
     "name": "stdout",
     "output_type": "stream",
     "text": [
      "--- runtime for data initialization:\t\t0.0023403167724609375\n",
      "--- runtime for data transfer (host->device):\t0.006719350814819336\n",
      "--- runtime for data preprocessing:\t\t0.0024576187133789062\n",
      "--- runtime for kernel execution:\t\t0.008326530456542969\n",
      "--- runtime for data transfer (device->host):\t0.005054473876953125\n",
      "1664 768 128 128\n"
     ]
    },
    {
     "name": "stderr",
     "output_type": "stream",
     "text": [
      "\n",
      "Processing blocks of tile::  43%|████▎     | 111/256.0 [07:09<09:19,  3.86s/it]\u001b[A"
     ]
    },
    {
     "name": "stdout",
     "output_type": "stream",
     "text": [
      "--- runtime for data initialization:\t\t0.002360820770263672\n",
      "--- runtime for data transfer (host->device):\t0.0066950321197509766\n",
      "--- runtime for data preprocessing:\t\t0.002471923828125\n",
      "--- runtime for kernel execution:\t\t0.008236169815063477\n",
      "--- runtime for data transfer (device->host):\t0.0050525665283203125\n",
      "1792 768 128 128\n"
     ]
    },
    {
     "name": "stderr",
     "output_type": "stream",
     "text": [
      "\n",
      "Processing blocks of tile::  44%|████▍     | 112/256.0 [07:13<09:16,  3.86s/it]\u001b[A"
     ]
    },
    {
     "name": "stdout",
     "output_type": "stream",
     "text": [
      "--- runtime for data initialization:\t\t0.0023720264434814453\n",
      "--- runtime for data transfer (host->device):\t0.00673985481262207\n",
      "--- runtime for data preprocessing:\t\t0.002477407455444336\n",
      "--- runtime for kernel execution:\t\t0.00830078125\n",
      "--- runtime for data transfer (device->host):\t0.005075931549072266\n",
      "1920 768 128 128\n"
     ]
    },
    {
     "name": "stderr",
     "output_type": "stream",
     "text": [
      "\n",
      "Processing blocks of tile::  44%|████▍     | 113/256.0 [07:17<09:14,  3.88s/it]\u001b[A"
     ]
    },
    {
     "name": "stdout",
     "output_type": "stream",
     "text": [
      "--- runtime for data initialization:\t\t0.0023436546325683594\n",
      "--- runtime for data transfer (host->device):\t0.006775379180908203\n",
      "--- runtime for data preprocessing:\t\t0.002496480941772461\n",
      "--- runtime for kernel execution:\t\t0.008455038070678711\n",
      "--- runtime for data transfer (device->host):\t0.004884243011474609\n",
      "0 896 128 128\n"
     ]
    },
    {
     "name": "stderr",
     "output_type": "stream",
     "text": [
      "\n",
      "Processing blocks of tile::  45%|████▍     | 114/256.0 [07:21<09:11,  3.88s/it]\u001b[A"
     ]
    },
    {
     "name": "stdout",
     "output_type": "stream",
     "text": [
      "--- runtime for data initialization:\t\t0.0023775100708007812\n",
      "--- runtime for data transfer (host->device):\t0.0067861080169677734\n",
      "--- runtime for data preprocessing:\t\t0.002489328384399414\n",
      "--- runtime for kernel execution:\t\t0.00827789306640625\n",
      "--- runtime for data transfer (device->host):\t0.004880666732788086\n",
      "128 896 128 128\n"
     ]
    },
    {
     "name": "stderr",
     "output_type": "stream",
     "text": [
      "\n",
      "Processing blocks of tile::  45%|████▍     | 115/256.0 [07:25<09:06,  3.88s/it]\u001b[A"
     ]
    },
    {
     "name": "stdout",
     "output_type": "stream",
     "text": [
      "--- runtime for data initialization:\t\t0.0023031234741210938\n",
      "--- runtime for data transfer (host->device):\t0.006778240203857422\n",
      "--- runtime for data preprocessing:\t\t0.002452373504638672\n",
      "--- runtime for kernel execution:\t\t0.008457422256469727\n",
      "--- runtime for data transfer (device->host):\t0.005054473876953125\n",
      "256 896 128 128\n"
     ]
    },
    {
     "name": "stderr",
     "output_type": "stream",
     "text": [
      "\n",
      "Processing blocks of tile::  45%|████▌     | 116/256.0 [07:29<09:05,  3.90s/it]\u001b[A"
     ]
    },
    {
     "name": "stdout",
     "output_type": "stream",
     "text": [
      "--- runtime for data initialization:\t\t0.0023751258850097656\n",
      "--- runtime for data transfer (host->device):\t0.006681680679321289\n",
      "--- runtime for data preprocessing:\t\t0.0024797916412353516\n",
      "--- runtime for kernel execution:\t\t0.008281707763671875\n",
      "--- runtime for data transfer (device->host):\t0.005045413970947266\n",
      "384 896 128 128\n"
     ]
    },
    {
     "name": "stderr",
     "output_type": "stream",
     "text": [
      "\n",
      "Processing blocks of tile::  46%|████▌     | 117/256.0 [07:33<09:07,  3.94s/it]\u001b[A"
     ]
    },
    {
     "name": "stdout",
     "output_type": "stream",
     "text": [
      "--- runtime for data initialization:\t\t0.002356290817260742\n",
      "--- runtime for data transfer (host->device):\t0.006726980209350586\n",
      "--- runtime for data preprocessing:\t\t0.002457141876220703\n",
      "--- runtime for kernel execution:\t\t0.008313894271850586\n",
      "--- runtime for data transfer (device->host):\t0.005034446716308594\n",
      "512 896 128 128\n"
     ]
    },
    {
     "name": "stderr",
     "output_type": "stream",
     "text": [
      "\n",
      "Processing blocks of tile::  46%|████▌     | 118/256.0 [07:37<09:07,  3.97s/it]\u001b[A"
     ]
    },
    {
     "name": "stdout",
     "output_type": "stream",
     "text": [
      "--- runtime for data initialization:\t\t0.002354860305786133\n",
      "--- runtime for data transfer (host->device):\t0.006742238998413086\n",
      "--- runtime for data preprocessing:\t\t0.0024840831756591797\n",
      "--- runtime for kernel execution:\t\t0.008336305618286133\n",
      "--- runtime for data transfer (device->host):\t0.005043983459472656\n",
      "640 896 128 128\n"
     ]
    },
    {
     "name": "stderr",
     "output_type": "stream",
     "text": [
      "\n",
      "Processing blocks of tile::  46%|████▋     | 119/256.0 [07:41<09:01,  3.95s/it]\u001b[A"
     ]
    },
    {
     "name": "stdout",
     "output_type": "stream",
     "text": [
      "--- runtime for data initialization:\t\t0.002345561981201172\n",
      "--- runtime for data transfer (host->device):\t0.006700754165649414\n",
      "--- runtime for data preprocessing:\t\t0.002481698989868164\n",
      "--- runtime for kernel execution:\t\t0.008340835571289062\n",
      "--- runtime for data transfer (device->host):\t0.005052804946899414\n",
      "768 896 128 128\n"
     ]
    },
    {
     "name": "stderr",
     "output_type": "stream",
     "text": [
      "\n",
      "Processing blocks of tile::  47%|████▋     | 120/256.0 [07:45<08:55,  3.94s/it]\u001b[A"
     ]
    },
    {
     "name": "stdout",
     "output_type": "stream",
     "text": [
      "--- runtime for data initialization:\t\t0.0023212432861328125\n",
      "--- runtime for data transfer (host->device):\t0.00673222541809082\n",
      "--- runtime for data preprocessing:\t\t0.002452373504638672\n",
      "--- runtime for kernel execution:\t\t0.008338689804077148\n",
      "--- runtime for data transfer (device->host):\t0.005020856857299805\n",
      "896 896 128 128\n"
     ]
    },
    {
     "name": "stderr",
     "output_type": "stream",
     "text": [
      "\n",
      "Processing blocks of tile::  47%|████▋     | 121/256.0 [07:49<08:49,  3.92s/it]\u001b[A"
     ]
    },
    {
     "name": "stdout",
     "output_type": "stream",
     "text": [
      "--- runtime for data initialization:\t\t0.0024063587188720703\n",
      "--- runtime for data transfer (host->device):\t0.006708860397338867\n",
      "--- runtime for data preprocessing:\t\t0.002491474151611328\n",
      "--- runtime for kernel execution:\t\t0.008277654647827148\n",
      "--- runtime for data transfer (device->host):\t0.0050504207611083984\n",
      "1024 896 128 128\n"
     ]
    },
    {
     "name": "stderr",
     "output_type": "stream",
     "text": [
      "\n",
      "Processing blocks of tile::  48%|████▊     | 122/256.0 [07:53<08:46,  3.93s/it]\u001b[A"
     ]
    },
    {
     "name": "stdout",
     "output_type": "stream",
     "text": [
      "--- runtime for data initialization:\t\t0.0023169517517089844\n",
      "--- runtime for data transfer (host->device):\t0.006747007369995117\n",
      "--- runtime for data preprocessing:\t\t0.0024645328521728516\n",
      "--- runtime for kernel execution:\t\t0.008274316787719727\n",
      "--- runtime for data transfer (device->host):\t0.004876136779785156\n",
      "1152 896 128 128\n"
     ]
    },
    {
     "name": "stderr",
     "output_type": "stream",
     "text": [
      "\n",
      "Processing blocks of tile::  48%|████▊     | 123/256.0 [07:56<08:42,  3.93s/it]\u001b[A"
     ]
    },
    {
     "name": "stdout",
     "output_type": "stream",
     "text": [
      "--- runtime for data initialization:\t\t0.002292156219482422\n",
      "--- runtime for data transfer (host->device):\t0.006728649139404297\n",
      "--- runtime for data preprocessing:\t\t0.0024509429931640625\n",
      "--- runtime for kernel execution:\t\t0.008247852325439453\n",
      "--- runtime for data transfer (device->host):\t0.00492095947265625\n",
      "1280 896 128 128\n"
     ]
    },
    {
     "name": "stderr",
     "output_type": "stream",
     "text": [
      "\n",
      "Processing blocks of tile::  48%|████▊     | 124/256.0 [08:00<08:39,  3.93s/it]\u001b[A"
     ]
    },
    {
     "name": "stdout",
     "output_type": "stream",
     "text": [
      "--- runtime for data initialization:\t\t0.002324342727661133\n",
      "--- runtime for data transfer (host->device):\t0.00673365592956543\n",
      "--- runtime for data preprocessing:\t\t0.0024623870849609375\n",
      "--- runtime for kernel execution:\t\t0.008297920227050781\n",
      "--- runtime for data transfer (device->host):\t0.005076169967651367\n",
      "1408 896 128 128\n"
     ]
    },
    {
     "name": "stderr",
     "output_type": "stream",
     "text": [
      "\n",
      "Processing blocks of tile::  49%|████▉     | 125/256.0 [08:04<08:34,  3.92s/it]\u001b[A"
     ]
    },
    {
     "name": "stdout",
     "output_type": "stream",
     "text": [
      "--- runtime for data initialization:\t\t0.002299070358276367\n",
      "--- runtime for data transfer (host->device):\t0.0067291259765625\n",
      "--- runtime for data preprocessing:\t\t0.002467632293701172\n",
      "--- runtime for kernel execution:\t\t0.008285999298095703\n",
      "--- runtime for data transfer (device->host):\t0.005068778991699219\n",
      "1536 896 128 128\n"
     ]
    },
    {
     "name": "stderr",
     "output_type": "stream",
     "text": [
      "\n",
      "Processing blocks of tile::  49%|████▉     | 126/256.0 [08:08<08:28,  3.91s/it]\u001b[A"
     ]
    },
    {
     "name": "stdout",
     "output_type": "stream",
     "text": [
      "--- runtime for data initialization:\t\t0.002327442169189453\n",
      "--- runtime for data transfer (host->device):\t0.006687164306640625\n",
      "--- runtime for data preprocessing:\t\t0.0024514198303222656\n",
      "--- runtime for kernel execution:\t\t0.00831151008605957\n",
      "--- runtime for data transfer (device->host):\t0.0050640106201171875\n",
      "1664 896 128 128\n"
     ]
    },
    {
     "name": "stderr",
     "output_type": "stream",
     "text": [
      "\n",
      "Processing blocks of tile::  50%|████▉     | 127/256.0 [08:12<08:22,  3.89s/it]\u001b[A"
     ]
    },
    {
     "name": "stdout",
     "output_type": "stream",
     "text": [
      "--- runtime for data initialization:\t\t0.0022788047790527344\n",
      "--- runtime for data transfer (host->device):\t0.006786823272705078\n",
      "--- runtime for data preprocessing:\t\t0.002481698989868164\n",
      "--- runtime for kernel execution:\t\t0.00826573371887207\n",
      "--- runtime for data transfer (device->host):\t0.004912137985229492\n",
      "1792 896 128 128\n"
     ]
    },
    {
     "name": "stderr",
     "output_type": "stream",
     "text": [
      "\n",
      "Processing blocks of tile::  50%|█████     | 128/256.0 [08:16<08:19,  3.90s/it]\u001b[A"
     ]
    },
    {
     "name": "stdout",
     "output_type": "stream",
     "text": [
      "--- runtime for data initialization:\t\t0.0022940635681152344\n",
      "--- runtime for data transfer (host->device):\t0.0066738128662109375\n",
      "--- runtime for data preprocessing:\t\t0.002462148666381836\n",
      "--- runtime for kernel execution:\t\t0.008328914642333984\n",
      "--- runtime for data transfer (device->host):\t0.005067348480224609\n",
      "1920 896 128 128\n"
     ]
    },
    {
     "name": "stderr",
     "output_type": "stream",
     "text": [
      "\n",
      "Processing blocks of tile::  50%|█████     | 129/256.0 [08:20<08:13,  3.89s/it]\u001b[A"
     ]
    },
    {
     "name": "stdout",
     "output_type": "stream",
     "text": [
      "--- runtime for data initialization:\t\t0.0023255348205566406\n",
      "--- runtime for data transfer (host->device):\t0.0067632198333740234\n",
      "--- runtime for data preprocessing:\t\t0.002453327178955078\n",
      "--- runtime for kernel execution:\t\t0.008468389511108398\n",
      "--- runtime for data transfer (device->host):\t0.004892826080322266\n",
      "0 1024 128 128\n"
     ]
    },
    {
     "name": "stderr",
     "output_type": "stream",
     "text": [
      "\n",
      "Processing blocks of tile::  51%|█████     | 130/256.0 [08:24<08:11,  3.90s/it]\u001b[A"
     ]
    },
    {
     "name": "stdout",
     "output_type": "stream",
     "text": [
      "--- runtime for data initialization:\t\t0.0023193359375\n",
      "--- runtime for data transfer (host->device):\t0.006830692291259766\n",
      "--- runtime for data preprocessing:\t\t0.002471923828125\n",
      "--- runtime for kernel execution:\t\t0.00826120376586914\n",
      "--- runtime for data transfer (device->host):\t0.0048923492431640625\n",
      "128 1024 128 128\n"
     ]
    },
    {
     "name": "stderr",
     "output_type": "stream",
     "text": [
      "\n",
      "Processing blocks of tile::  51%|█████     | 131/256.0 [08:28<08:04,  3.87s/it]\u001b[A"
     ]
    },
    {
     "name": "stdout",
     "output_type": "stream",
     "text": [
      "--- runtime for data initialization:\t\t0.0023314952850341797\n",
      "--- runtime for data transfer (host->device):\t0.006840705871582031\n",
      "--- runtime for data preprocessing:\t\t0.002485036849975586\n",
      "--- runtime for kernel execution:\t\t0.008256196975708008\n",
      "--- runtime for data transfer (device->host):\t0.005051374435424805\n",
      "256 1024 128 128\n"
     ]
    },
    {
     "name": "stderr",
     "output_type": "stream",
     "text": [
      "\n",
      "Processing blocks of tile::  52%|█████▏    | 132/256.0 [08:32<08:02,  3.89s/it]\u001b[A"
     ]
    },
    {
     "name": "stdout",
     "output_type": "stream",
     "text": [
      "--- runtime for data initialization:\t\t0.0023496150970458984\n",
      "--- runtime for data transfer (host->device):\t0.006804227828979492\n",
      "--- runtime for data preprocessing:\t\t0.0024971961975097656\n",
      "--- runtime for kernel execution:\t\t0.008463382720947266\n",
      "--- runtime for data transfer (device->host):\t0.004900932312011719\n",
      "384 1024 128 128\n"
     ]
    },
    {
     "name": "stderr",
     "output_type": "stream",
     "text": [
      "\n",
      "Processing blocks of tile::  52%|█████▏    | 133/256.0 [08:35<08:00,  3.91s/it]\u001b[A"
     ]
    },
    {
     "name": "stdout",
     "output_type": "stream",
     "text": [
      "--- runtime for data initialization:\t\t0.0022962093353271484\n",
      "--- runtime for data transfer (host->device):\t0.006725311279296875\n",
      "--- runtime for data preprocessing:\t\t0.0024673938751220703\n",
      "--- runtime for kernel execution:\t\t0.008299827575683594\n",
      "--- runtime for data transfer (device->host):\t0.005054473876953125\n",
      "512 1024 128 128\n"
     ]
    },
    {
     "name": "stderr",
     "output_type": "stream",
     "text": [
      "\n",
      "Processing blocks of tile::  52%|█████▏    | 134/256.0 [08:39<07:58,  3.92s/it]\u001b[A"
     ]
    },
    {
     "name": "stdout",
     "output_type": "stream",
     "text": [
      "--- runtime for data initialization:\t\t0.0023279190063476562\n",
      "--- runtime for data transfer (host->device):\t0.0067212581634521484\n",
      "--- runtime for data preprocessing:\t\t0.002451658248901367\n",
      "--- runtime for kernel execution:\t\t0.008300542831420898\n",
      "--- runtime for data transfer (device->host):\t0.0050580501556396484\n",
      "640 1024 128 128\n"
     ]
    },
    {
     "name": "stderr",
     "output_type": "stream",
     "text": [
      "\n",
      "Processing blocks of tile::  53%|█████▎    | 135/256.0 [08:43<07:53,  3.92s/it]\u001b[A"
     ]
    },
    {
     "name": "stdout",
     "output_type": "stream",
     "text": [
      "--- runtime for data initialization:\t\t0.0023250579833984375\n",
      "--- runtime for data transfer (host->device):\t0.0066525936126708984\n",
      "--- runtime for data preprocessing:\t\t0.002501964569091797\n",
      "--- runtime for kernel execution:\t\t0.008328914642333984\n",
      "--- runtime for data transfer (device->host):\t0.005057334899902344\n",
      "768 1024 128 128\n"
     ]
    },
    {
     "name": "stderr",
     "output_type": "stream",
     "text": [
      "\n",
      "Processing blocks of tile::  53%|█████▎    | 136/256.0 [08:47<07:49,  3.91s/it]\u001b[A"
     ]
    },
    {
     "name": "stdout",
     "output_type": "stream",
     "text": [
      "--- runtime for data initialization:\t\t0.002347707748413086\n",
      "--- runtime for data transfer (host->device):\t0.006723165512084961\n",
      "--- runtime for data preprocessing:\t\t0.0024797916412353516\n",
      "--- runtime for kernel execution:\t\t0.008292436599731445\n",
      "--- runtime for data transfer (device->host):\t0.005051851272583008\n",
      "896 1024 128 128\n"
     ]
    },
    {
     "name": "stderr",
     "output_type": "stream",
     "text": [
      "\n",
      "Processing blocks of tile::  54%|█████▎    | 137/256.0 [08:51<07:42,  3.88s/it]\u001b[A"
     ]
    },
    {
     "name": "stdout",
     "output_type": "stream",
     "text": [
      "--- runtime for data initialization:\t\t0.0023193359375\n",
      "--- runtime for data transfer (host->device):\t0.006717681884765625\n",
      "--- runtime for data preprocessing:\t\t0.002490520477294922\n",
      "--- runtime for kernel execution:\t\t0.008263349533081055\n",
      "--- runtime for data transfer (device->host):\t0.005070686340332031\n",
      "1024 1024 128 128\n"
     ]
    },
    {
     "name": "stderr",
     "output_type": "stream",
     "text": [
      "\n",
      "Processing blocks of tile::  54%|█████▍    | 138/256.0 [08:55<07:38,  3.88s/it]\u001b[A"
     ]
    },
    {
     "name": "stdout",
     "output_type": "stream",
     "text": [
      "--- runtime for data initialization:\t\t0.002319812774658203\n",
      "--- runtime for data transfer (host->device):\t0.006779909133911133\n",
      "--- runtime for data preprocessing:\t\t0.002457141876220703\n",
      "--- runtime for kernel execution:\t\t0.008505105972290039\n",
      "--- runtime for data transfer (device->host):\t0.005057573318481445\n",
      "1152 1024 128 128\n"
     ]
    },
    {
     "name": "stderr",
     "output_type": "stream",
     "text": [
      "\n",
      "Processing blocks of tile::  54%|█████▍    | 139/256.0 [08:59<07:36,  3.90s/it]\u001b[A"
     ]
    },
    {
     "name": "stdout",
     "output_type": "stream",
     "text": [
      "--- runtime for data initialization:\t\t0.00238037109375\n",
      "--- runtime for data transfer (host->device):\t0.006699085235595703\n",
      "--- runtime for data preprocessing:\t\t0.002465486526489258\n",
      "--- runtime for kernel execution:\t\t0.008272409439086914\n",
      "--- runtime for data transfer (device->host):\t0.005064487457275391\n",
      "1280 1024 128 128\n"
     ]
    },
    {
     "name": "stderr",
     "output_type": "stream",
     "text": [
      "\n",
      "Processing blocks of tile::  55%|█████▍    | 140/256.0 [09:03<07:31,  3.89s/it]\u001b[A"
     ]
    },
    {
     "name": "stdout",
     "output_type": "stream",
     "text": [
      "--- runtime for data initialization:\t\t0.002303600311279297\n",
      "--- runtime for data transfer (host->device):\t0.006787538528442383\n",
      "--- runtime for data preprocessing:\t\t0.0024688243865966797\n",
      "--- runtime for kernel execution:\t\t0.008234500885009766\n",
      "--- runtime for data transfer (device->host):\t0.004900455474853516\n",
      "1408 1024 128 128\n"
     ]
    },
    {
     "name": "stderr",
     "output_type": "stream",
     "text": [
      "\n",
      "Processing blocks of tile::  55%|█████▌    | 141/256.0 [09:07<07:28,  3.90s/it]\u001b[A"
     ]
    },
    {
     "name": "stdout",
     "output_type": "stream",
     "text": [
      "--- runtime for data initialization:\t\t0.002317190170288086\n",
      "--- runtime for data transfer (host->device):\t0.006702423095703125\n",
      "--- runtime for data preprocessing:\t\t0.002462625503540039\n",
      "--- runtime for kernel execution:\t\t0.008329391479492188\n",
      "--- runtime for data transfer (device->host):\t0.0050525665283203125\n",
      "1536 1024 128 128\n"
     ]
    },
    {
     "name": "stderr",
     "output_type": "stream",
     "text": [
      "\n",
      "Processing blocks of tile::  55%|█████▌    | 142/256.0 [09:10<07:22,  3.88s/it]\u001b[A"
     ]
    },
    {
     "name": "stdout",
     "output_type": "stream",
     "text": [
      "--- runtime for data initialization:\t\t0.0023546218872070312\n",
      "--- runtime for data transfer (host->device):\t0.006702423095703125\n",
      "--- runtime for data preprocessing:\t\t0.0024657249450683594\n",
      "--- runtime for kernel execution:\t\t0.00829005241394043\n",
      "--- runtime for data transfer (device->host):\t0.005069732666015625\n",
      "1664 1024 128 128\n"
     ]
    },
    {
     "name": "stderr",
     "output_type": "stream",
     "text": [
      "\n",
      "Processing blocks of tile::  56%|█████▌    | 143/256.0 [09:14<07:17,  3.87s/it]\u001b[A"
     ]
    },
    {
     "name": "stdout",
     "output_type": "stream",
     "text": [
      "--- runtime for data initialization:\t\t0.0023059844970703125\n",
      "--- runtime for data transfer (host->device):\t0.00675201416015625\n",
      "--- runtime for data preprocessing:\t\t0.0025129318237304688\n",
      "--- runtime for kernel execution:\t\t0.008451700210571289\n",
      "--- runtime for data transfer (device->host):\t0.004916667938232422\n",
      "1792 1024 128 128\n"
     ]
    },
    {
     "name": "stderr",
     "output_type": "stream",
     "text": [
      "\n",
      "Processing blocks of tile::  56%|█████▋    | 144/256.0 [09:18<07:18,  3.92s/it]\u001b[A"
     ]
    },
    {
     "name": "stdout",
     "output_type": "stream",
     "text": [
      "--- runtime for data initialization:\t\t0.002399444580078125\n",
      "--- runtime for data transfer (host->device):\t0.006696939468383789\n",
      "--- runtime for data preprocessing:\t\t0.0025093555450439453\n",
      "--- runtime for kernel execution:\t\t0.008451461791992188\n",
      "--- runtime for data transfer (device->host):\t0.004855632781982422\n",
      "1920 1024 128 128\n"
     ]
    },
    {
     "name": "stderr",
     "output_type": "stream",
     "text": [
      "\n",
      "Processing blocks of tile::  57%|█████▋    | 145/256.0 [09:22<07:15,  3.93s/it]\u001b[A"
     ]
    },
    {
     "name": "stdout",
     "output_type": "stream",
     "text": [
      "--- runtime for data initialization:\t\t0.002348661422729492\n",
      "--- runtime for data transfer (host->device):\t0.006705045700073242\n",
      "--- runtime for data preprocessing:\t\t0.002492666244506836\n",
      "--- runtime for kernel execution:\t\t0.008324146270751953\n",
      "--- runtime for data transfer (device->host):\t0.005045890808105469\n",
      "0 1152 128 128\n"
     ]
    },
    {
     "name": "stderr",
     "output_type": "stream",
     "text": [
      "\n",
      "Processing blocks of tile::  57%|█████▋    | 146/256.0 [09:26<07:09,  3.90s/it]\u001b[A"
     ]
    },
    {
     "name": "stdout",
     "output_type": "stream",
     "text": [
      "--- runtime for data initialization:\t\t0.002393960952758789\n",
      "--- runtime for data transfer (host->device):\t0.006687641143798828\n",
      "--- runtime for data preprocessing:\t\t0.002491474151611328\n",
      "--- runtime for kernel execution:\t\t0.008316993713378906\n",
      "--- runtime for data transfer (device->host):\t0.005047798156738281\n",
      "128 1152 128 128\n"
     ]
    },
    {
     "name": "stderr",
     "output_type": "stream",
     "text": [
      "\n",
      "Processing blocks of tile::  57%|█████▋    | 147/256.0 [09:30<07:01,  3.86s/it]\u001b[A"
     ]
    },
    {
     "name": "stdout",
     "output_type": "stream",
     "text": [
      "--- runtime for data initialization:\t\t0.0022971630096435547\n",
      "--- runtime for data transfer (host->device):\t0.006746053695678711\n",
      "--- runtime for data preprocessing:\t\t0.0024650096893310547\n",
      "--- runtime for kernel execution:\t\t0.008262157440185547\n",
      "--- runtime for data transfer (device->host):\t0.004888057708740234\n",
      "256 1152 128 128\n"
     ]
    },
    {
     "name": "stderr",
     "output_type": "stream",
     "text": [
      "\n",
      "Processing blocks of tile::  58%|█████▊    | 148/256.0 [09:34<06:58,  3.87s/it]\u001b[A"
     ]
    },
    {
     "name": "stdout",
     "output_type": "stream",
     "text": [
      "--- runtime for data initialization:\t\t0.0022945404052734375\n",
      "--- runtime for data transfer (host->device):\t0.0067138671875\n",
      "--- runtime for data preprocessing:\t\t0.002462625503540039\n",
      "--- runtime for kernel execution:\t\t0.008308887481689453\n",
      "--- runtime for data transfer (device->host):\t0.0050449371337890625\n",
      "384 1152 128 128\n"
     ]
    },
    {
     "name": "stderr",
     "output_type": "stream",
     "text": [
      "\n",
      "Processing blocks of tile::  58%|█████▊    | 149/256.0 [09:38<06:54,  3.88s/it]\u001b[A"
     ]
    },
    {
     "name": "stdout",
     "output_type": "stream",
     "text": [
      "--- runtime for data initialization:\t\t0.002418041229248047\n",
      "--- runtime for data transfer (host->device):\t0.006680727005004883\n",
      "--- runtime for data preprocessing:\t\t0.002480030059814453\n",
      "--- runtime for kernel execution:\t\t0.008248567581176758\n",
      "--- runtime for data transfer (device->host):\t0.0049135684967041016\n",
      "512 1152 128 128\n"
     ]
    },
    {
     "name": "stderr",
     "output_type": "stream",
     "text": [
      "\n",
      "Processing blocks of tile::  59%|█████▊    | 150/256.0 [09:42<06:53,  3.90s/it]\u001b[A"
     ]
    },
    {
     "name": "stdout",
     "output_type": "stream",
     "text": [
      "--- runtime for data initialization:\t\t0.002315998077392578\n",
      "--- runtime for data transfer (host->device):\t0.006720781326293945\n",
      "--- runtime for data preprocessing:\t\t0.002462625503540039\n",
      "--- runtime for kernel execution:\t\t0.008291482925415039\n",
      "--- runtime for data transfer (device->host):\t0.0050601959228515625\n",
      "640 1152 128 128\n"
     ]
    },
    {
     "name": "stderr",
     "output_type": "stream",
     "text": [
      "\n",
      "Processing blocks of tile::  59%|█████▉    | 151/256.0 [09:46<06:48,  3.89s/it]\u001b[A"
     ]
    },
    {
     "name": "stdout",
     "output_type": "stream",
     "text": [
      "--- runtime for data initialization:\t\t0.0023565292358398438\n",
      "--- runtime for data transfer (host->device):\t0.006735563278198242\n",
      "--- runtime for data preprocessing:\t\t0.0024929046630859375\n",
      "--- runtime for kernel execution:\t\t0.008296012878417969\n",
      "--- runtime for data transfer (device->host):\t0.005055427551269531\n",
      "768 1152 128 128\n"
     ]
    },
    {
     "name": "stderr",
     "output_type": "stream",
     "text": [
      "\n",
      "Processing blocks of tile::  59%|█████▉    | 152/256.0 [09:49<06:42,  3.87s/it]\u001b[A"
     ]
    },
    {
     "name": "stdout",
     "output_type": "stream",
     "text": [
      "--- runtime for data initialization:\t\t0.00235748291015625\n",
      "--- runtime for data transfer (host->device):\t0.006659030914306641\n",
      "--- runtime for data preprocessing:\t\t0.0024890899658203125\n",
      "--- runtime for kernel execution:\t\t0.008282899856567383\n",
      "--- runtime for data transfer (device->host):\t0.005068302154541016\n",
      "896 1152 128 128\n"
     ]
    },
    {
     "name": "stderr",
     "output_type": "stream",
     "text": [
      "\n",
      "Processing blocks of tile::  60%|█████▉    | 153/256.0 [09:53<06:38,  3.87s/it]\u001b[A"
     ]
    },
    {
     "name": "stdout",
     "output_type": "stream",
     "text": [
      "--- runtime for data initialization:\t\t0.0023479461669921875\n",
      "--- runtime for data transfer (host->device):\t0.0066907405853271484\n",
      "--- runtime for data preprocessing:\t\t0.00244903564453125\n",
      "--- runtime for kernel execution:\t\t0.008299589157104492\n",
      "--- runtime for data transfer (device->host):\t0.005058765411376953\n",
      "1024 1152 128 128\n"
     ]
    },
    {
     "name": "stderr",
     "output_type": "stream",
     "text": [
      "\n",
      "Processing blocks of tile::  60%|██████    | 154/256.0 [09:57<06:32,  3.85s/it]\u001b[A"
     ]
    },
    {
     "name": "stdout",
     "output_type": "stream",
     "text": [
      "--- runtime for data initialization:\t\t0.0023183822631835938\n",
      "--- runtime for data transfer (host->device):\t0.006692647933959961\n",
      "--- runtime for data preprocessing:\t\t0.0024750232696533203\n",
      "--- runtime for kernel execution:\t\t0.008341073989868164\n",
      "--- runtime for data transfer (device->host):\t0.005046844482421875\n",
      "1152 1152 128 128\n"
     ]
    },
    {
     "name": "stderr",
     "output_type": "stream",
     "text": [
      "\n",
      "Processing blocks of tile::  61%|██████    | 155/256.0 [10:01<06:28,  3.85s/it]\u001b[A"
     ]
    },
    {
     "name": "stdout",
     "output_type": "stream",
     "text": [
      "--- runtime for data initialization:\t\t0.0023529529571533203\n",
      "--- runtime for data transfer (host->device):\t0.006685495376586914\n",
      "--- runtime for data preprocessing:\t\t0.002476930618286133\n",
      "--- runtime for kernel execution:\t\t0.008315324783325195\n",
      "--- runtime for data transfer (device->host):\t0.005057573318481445\n",
      "1280 1152 128 128\n"
     ]
    },
    {
     "name": "stderr",
     "output_type": "stream",
     "text": [
      "\n",
      "Processing blocks of tile::  61%|██████    | 156/256.0 [10:05<06:24,  3.84s/it]\u001b[A"
     ]
    },
    {
     "name": "stdout",
     "output_type": "stream",
     "text": [
      "--- runtime for data initialization:\t\t0.002336263656616211\n",
      "--- runtime for data transfer (host->device):\t0.0067522525787353516\n",
      "--- runtime for data preprocessing:\t\t0.0024716854095458984\n",
      "--- runtime for kernel execution:\t\t0.008462905883789062\n",
      "--- runtime for data transfer (device->host):\t0.005072593688964844\n",
      "1408 1152 128 128\n"
     ]
    },
    {
     "name": "stderr",
     "output_type": "stream",
     "text": [
      "\n",
      "Processing blocks of tile::  61%|██████▏   | 157/256.0 [10:09<06:20,  3.84s/it]\u001b[A"
     ]
    },
    {
     "name": "stdout",
     "output_type": "stream",
     "text": [
      "--- runtime for data initialization:\t\t0.002348184585571289\n",
      "--- runtime for data transfer (host->device):\t0.0067462921142578125\n",
      "--- runtime for data preprocessing:\t\t0.0024652481079101562\n",
      "--- runtime for kernel execution:\t\t0.008311033248901367\n",
      "--- runtime for data transfer (device->host):\t0.00505518913269043\n",
      "1536 1152 128 128\n"
     ]
    },
    {
     "name": "stderr",
     "output_type": "stream",
     "text": [
      "\n",
      "Processing blocks of tile::  62%|██████▏   | 158/256.0 [10:12<06:17,  3.85s/it]\u001b[A"
     ]
    },
    {
     "name": "stdout",
     "output_type": "stream",
     "text": [
      "--- runtime for data initialization:\t\t0.0023164749145507812\n",
      "--- runtime for data transfer (host->device):\t0.0067882537841796875\n",
      "--- runtime for data preprocessing:\t\t0.002463102340698242\n",
      "--- runtime for kernel execution:\t\t0.00828099250793457\n",
      "--- runtime for data transfer (device->host):\t0.005053997039794922\n",
      "1664 1152 128 128\n"
     ]
    },
    {
     "name": "stderr",
     "output_type": "stream",
     "text": [
      "\n",
      "Processing blocks of tile::  62%|██████▏   | 159/256.0 [10:16<06:14,  3.86s/it]\u001b[A"
     ]
    },
    {
     "name": "stdout",
     "output_type": "stream",
     "text": [
      "--- runtime for data initialization:\t\t0.002302408218383789\n",
      "--- runtime for data transfer (host->device):\t0.006760597229003906\n",
      "--- runtime for data preprocessing:\t\t0.0024640560150146484\n",
      "--- runtime for kernel execution:\t\t0.008453845977783203\n",
      "--- runtime for data transfer (device->host):\t0.005036830902099609\n",
      "1792 1152 128 128\n"
     ]
    },
    {
     "name": "stderr",
     "output_type": "stream",
     "text": [
      "\n",
      "Processing blocks of tile::  62%|██████▎   | 160/256.0 [10:20<06:13,  3.89s/it]\u001b[A"
     ]
    },
    {
     "name": "stdout",
     "output_type": "stream",
     "text": [
      "--- runtime for data initialization:\t\t0.0023407936096191406\n",
      "--- runtime for data transfer (host->device):\t0.006746530532836914\n",
      "--- runtime for data preprocessing:\t\t0.0024771690368652344\n",
      "--- runtime for kernel execution:\t\t0.008467912673950195\n",
      "--- runtime for data transfer (device->host):\t0.0050508975982666016\n",
      "1920 1152 128 128\n"
     ]
    },
    {
     "name": "stderr",
     "output_type": "stream",
     "text": [
      "\n",
      "Processing blocks of tile::  63%|██████▎   | 161/256.0 [10:24<06:12,  3.92s/it]\u001b[A"
     ]
    },
    {
     "name": "stdout",
     "output_type": "stream",
     "text": [
      "--- runtime for data initialization:\t\t0.0023245811462402344\n",
      "--- runtime for data transfer (host->device):\t0.00678253173828125\n",
      "--- runtime for data preprocessing:\t\t0.0024852752685546875\n",
      "--- runtime for kernel execution:\t\t0.00825357437133789\n",
      "--- runtime for data transfer (device->host):\t0.004903078079223633\n",
      "0 1280 128 128\n"
     ]
    },
    {
     "name": "stderr",
     "output_type": "stream",
     "text": [
      "\n",
      "Processing blocks of tile::  63%|██████▎   | 162/256.0 [10:28<06:04,  3.88s/it]\u001b[A"
     ]
    },
    {
     "name": "stdout",
     "output_type": "stream",
     "text": [
      "--- runtime for data initialization:\t\t0.002305269241333008\n",
      "--- runtime for data transfer (host->device):\t0.006781578063964844\n",
      "--- runtime for data preprocessing:\t\t0.002474546432495117\n",
      "--- runtime for kernel execution:\t\t0.008453369140625\n",
      "--- runtime for data transfer (device->host):\t0.004914045333862305\n",
      "128 1280 128 128\n"
     ]
    },
    {
     "name": "stderr",
     "output_type": "stream",
     "text": [
      "\n",
      "Processing blocks of tile::  64%|██████▎   | 163/256.0 [10:32<05:59,  3.87s/it]\u001b[A"
     ]
    },
    {
     "name": "stdout",
     "output_type": "stream",
     "text": [
      "--- runtime for data initialization:\t\t0.0023543834686279297\n",
      "--- runtime for data transfer (host->device):\t0.0067462921142578125\n",
      "--- runtime for data preprocessing:\t\t0.0024704933166503906\n",
      "--- runtime for kernel execution:\t\t0.008297443389892578\n",
      "--- runtime for data transfer (device->host):\t0.005048513412475586\n",
      "256 1280 128 128\n"
     ]
    },
    {
     "name": "stderr",
     "output_type": "stream",
     "text": [
      "\n",
      "Processing blocks of tile::  64%|██████▍   | 164/256.0 [10:36<05:56,  3.87s/it]\u001b[A"
     ]
    },
    {
     "name": "stdout",
     "output_type": "stream",
     "text": [
      "--- runtime for data initialization:\t\t0.0023436546325683594\n",
      "--- runtime for data transfer (host->device):\t0.006719827651977539\n",
      "--- runtime for data preprocessing:\t\t0.002466440200805664\n",
      "--- runtime for kernel execution:\t\t0.008275508880615234\n",
      "--- runtime for data transfer (device->host):\t0.005042552947998047\n",
      "384 1280 128 128\n"
     ]
    },
    {
     "name": "stderr",
     "output_type": "stream",
     "text": [
      "\n",
      "Processing blocks of tile::  64%|██████▍   | 165/256.0 [10:40<05:54,  3.89s/it]\u001b[A"
     ]
    },
    {
     "name": "stdout",
     "output_type": "stream",
     "text": [
      "--- runtime for data initialization:\t\t0.0023043155670166016\n",
      "--- runtime for data transfer (host->device):\t0.0066983699798583984\n",
      "--- runtime for data preprocessing:\t\t0.0024518966674804688\n",
      "--- runtime for kernel execution:\t\t0.008331775665283203\n",
      "--- runtime for data transfer (device->host):\t0.0050487518310546875\n",
      "512 1280 128 128\n"
     ]
    },
    {
     "name": "stderr",
     "output_type": "stream",
     "text": [
      "\n",
      "Processing blocks of tile::  65%|██████▍   | 166/256.0 [10:44<05:52,  3.91s/it]\u001b[A"
     ]
    },
    {
     "name": "stdout",
     "output_type": "stream",
     "text": [
      "--- runtime for data initialization:\t\t0.0023794174194335938\n",
      "--- runtime for data transfer (host->device):\t0.00673365592956543\n",
      "--- runtime for data preprocessing:\t\t0.002497434616088867\n",
      "--- runtime for kernel execution:\t\t0.00843954086303711\n",
      "--- runtime for data transfer (device->host):\t0.005060434341430664\n",
      "640 1280 128 128\n"
     ]
    },
    {
     "name": "stderr",
     "output_type": "stream",
     "text": [
      "\n",
      "Processing blocks of tile::  65%|██████▌   | 167/256.0 [10:48<05:49,  3.92s/it]\u001b[A"
     ]
    },
    {
     "name": "stdout",
     "output_type": "stream",
     "text": [
      "--- runtime for data initialization:\t\t0.0023458003997802734\n",
      "--- runtime for data transfer (host->device):\t0.006780862808227539\n",
      "--- runtime for data preprocessing:\t\t0.002504110336303711\n",
      "--- runtime for kernel execution:\t\t0.008457660675048828\n",
      "--- runtime for data transfer (device->host):\t0.004901409149169922\n",
      "768 1280 128 128\n"
     ]
    },
    {
     "name": "stderr",
     "output_type": "stream",
     "text": [
      "\n",
      "Processing blocks of tile::  66%|██████▌   | 168/256.0 [10:52<05:45,  3.93s/it]\u001b[A"
     ]
    },
    {
     "name": "stdout",
     "output_type": "stream",
     "text": [
      "--- runtime for data initialization:\t\t0.0023565292358398438\n",
      "--- runtime for data transfer (host->device):\t0.006703615188598633\n",
      "--- runtime for data preprocessing:\t\t0.002463817596435547\n",
      "--- runtime for kernel execution:\t\t0.008481502532958984\n",
      "--- runtime for data transfer (device->host):\t0.00490117073059082\n",
      "896 1280 128 128\n"
     ]
    },
    {
     "name": "stderr",
     "output_type": "stream",
     "text": [
      "\n",
      "Processing blocks of tile::  66%|██████▌   | 169/256.0 [10:55<05:40,  3.92s/it]\u001b[A"
     ]
    },
    {
     "name": "stdout",
     "output_type": "stream",
     "text": [
      "--- runtime for data initialization:\t\t0.0024080276489257812\n",
      "--- runtime for data transfer (host->device):\t0.006639957427978516\n",
      "--- runtime for data preprocessing:\t\t0.002481222152709961\n",
      "--- runtime for kernel execution:\t\t0.008296966552734375\n",
      "--- runtime for data transfer (device->host):\t0.00504755973815918\n",
      "1024 1280 128 128\n"
     ]
    },
    {
     "name": "stderr",
     "output_type": "stream",
     "text": [
      "\n",
      "Processing blocks of tile::  66%|██████▋   | 170/256.0 [10:59<05:33,  3.88s/it]\u001b[A"
     ]
    },
    {
     "name": "stdout",
     "output_type": "stream",
     "text": [
      "--- runtime for data initialization:\t\t0.002325296401977539\n",
      "--- runtime for data transfer (host->device):\t0.006652116775512695\n",
      "--- runtime for data preprocessing:\t\t0.0024526119232177734\n",
      "--- runtime for kernel execution:\t\t0.008298635482788086\n",
      "--- runtime for data transfer (device->host):\t0.00506281852722168\n",
      "1152 1280 128 128\n"
     ]
    },
    {
     "name": "stderr",
     "output_type": "stream",
     "text": [
      "\n",
      "Processing blocks of tile::  67%|██████▋   | 171/256.0 [11:03<05:30,  3.88s/it]\u001b[A"
     ]
    },
    {
     "name": "stdout",
     "output_type": "stream",
     "text": [
      "--- runtime for data initialization:\t\t0.0023822784423828125\n",
      "--- runtime for data transfer (host->device):\t0.006641387939453125\n",
      "--- runtime for data preprocessing:\t\t0.0024509429931640625\n",
      "--- runtime for kernel execution:\t\t0.008285760879516602\n",
      "--- runtime for data transfer (device->host):\t0.00504755973815918\n",
      "1280 1280 128 128\n"
     ]
    },
    {
     "name": "stderr",
     "output_type": "stream",
     "text": [
      "\n",
      "Processing blocks of tile::  67%|██████▋   | 172/256.0 [11:07<05:26,  3.89s/it]\u001b[A"
     ]
    },
    {
     "name": "stdout",
     "output_type": "stream",
     "text": [
      "--- runtime for data initialization:\t\t0.0023119449615478516\n",
      "--- runtime for data transfer (host->device):\t0.006726980209350586\n",
      "--- runtime for data preprocessing:\t\t0.002501249313354492\n",
      "--- runtime for kernel execution:\t\t0.008303403854370117\n",
      "--- runtime for data transfer (device->host):\t0.005057573318481445\n",
      "1408 1280 128 128\n"
     ]
    },
    {
     "name": "stderr",
     "output_type": "stream",
     "text": [
      "\n",
      "Processing blocks of tile::  68%|██████▊   | 173/256.0 [11:11<05:23,  3.90s/it]\u001b[A"
     ]
    },
    {
     "name": "stdout",
     "output_type": "stream",
     "text": [
      "--- runtime for data initialization:\t\t0.0022945404052734375\n",
      "--- runtime for data transfer (host->device):\t0.006780147552490234\n",
      "--- runtime for data preprocessing:\t\t0.0024688243865966797\n",
      "--- runtime for kernel execution:\t\t0.008445024490356445\n",
      "--- runtime for data transfer (device->host):\t0.005056619644165039\n",
      "1536 1280 128 128\n"
     ]
    },
    {
     "name": "stderr",
     "output_type": "stream",
     "text": [
      "\n",
      "Processing blocks of tile::  68%|██████▊   | 174/256.0 [11:15<05:20,  3.91s/it]\u001b[A"
     ]
    },
    {
     "name": "stdout",
     "output_type": "stream",
     "text": [
      "--- runtime for data initialization:\t\t0.002321004867553711\n",
      "--- runtime for data transfer (host->device):\t0.0067462921142578125\n",
      "--- runtime for data preprocessing:\t\t0.002470731735229492\n",
      "--- runtime for kernel execution:\t\t0.008463859558105469\n",
      "--- runtime for data transfer (device->host):\t0.004903554916381836\n",
      "1664 1280 128 128\n"
     ]
    },
    {
     "name": "stderr",
     "output_type": "stream",
     "text": [
      "\n",
      "Processing blocks of tile::  68%|██████▊   | 175/256.0 [11:19<05:17,  3.92s/it]\u001b[A"
     ]
    },
    {
     "name": "stdout",
     "output_type": "stream",
     "text": [
      "--- runtime for data initialization:\t\t0.002405881881713867\n",
      "--- runtime for data transfer (host->device):\t0.0067250728607177734\n",
      "--- runtime for data preprocessing:\t\t0.0024814605712890625\n",
      "--- runtime for kernel execution:\t\t0.008473873138427734\n",
      "--- runtime for data transfer (device->host):\t0.004884004592895508\n",
      "1792 1280 128 128\n"
     ]
    },
    {
     "name": "stderr",
     "output_type": "stream",
     "text": [
      "\n",
      "Processing blocks of tile::  69%|██████▉   | 176/256.0 [11:23<05:12,  3.91s/it]\u001b[A"
     ]
    },
    {
     "name": "stdout",
     "output_type": "stream",
     "text": [
      "--- runtime for data initialization:\t\t0.0023908615112304688\n",
      "--- runtime for data transfer (host->device):\t0.006756305694580078\n",
      "--- runtime for data preprocessing:\t\t0.0024688243865966797\n",
      "--- runtime for kernel execution:\t\t0.008484840393066406\n",
      "--- runtime for data transfer (device->host):\t0.0048809051513671875\n",
      "1920 1280 128 128\n"
     ]
    },
    {
     "name": "stderr",
     "output_type": "stream",
     "text": [
      "\n",
      "Processing blocks of tile::  69%|██████▉   | 177/256.0 [11:27<05:08,  3.91s/it]\u001b[A"
     ]
    },
    {
     "name": "stdout",
     "output_type": "stream",
     "text": [
      "--- runtime for data initialization:\t\t0.0023429393768310547\n",
      "--- runtime for data transfer (host->device):\t0.006737232208251953\n",
      "--- runtime for data preprocessing:\t\t0.002469778060913086\n",
      "--- runtime for kernel execution:\t\t0.008292198181152344\n",
      "--- runtime for data transfer (device->host):\t0.005037069320678711\n",
      "0 1408 128 128\n"
     ]
    },
    {
     "name": "stderr",
     "output_type": "stream",
     "text": [
      "\n",
      "Processing blocks of tile::  70%|██████▉   | 178/256.0 [11:30<05:03,  3.90s/it]\u001b[A"
     ]
    },
    {
     "name": "stdout",
     "output_type": "stream",
     "text": [
      "--- runtime for data initialization:\t\t0.002315521240234375\n",
      "--- runtime for data transfer (host->device):\t0.006749629974365234\n",
      "--- runtime for data preprocessing:\t\t0.002485990524291992\n",
      "--- runtime for kernel execution:\t\t0.008298158645629883\n",
      "--- runtime for data transfer (device->host):\t0.0050487518310546875\n",
      "128 1408 128 128\n"
     ]
    },
    {
     "name": "stderr",
     "output_type": "stream",
     "text": [
      "\n",
      "Processing blocks of tile::  70%|██████▉   | 179/256.0 [11:34<04:56,  3.84s/it]\u001b[A"
     ]
    },
    {
     "name": "stdout",
     "output_type": "stream",
     "text": [
      "--- runtime for data initialization:\t\t0.002298593521118164\n",
      "--- runtime for data transfer (host->device):\t0.006776332855224609\n",
      "--- runtime for data preprocessing:\t\t0.002468585968017578\n",
      "--- runtime for kernel execution:\t\t0.008462667465209961\n",
      "--- runtime for data transfer (device->host):\t0.004893779754638672\n",
      "256 1408 128 128\n"
     ]
    },
    {
     "name": "stderr",
     "output_type": "stream",
     "text": [
      "\n",
      "Processing blocks of tile::  70%|███████   | 180/256.0 [11:38<04:52,  3.85s/it]\u001b[A"
     ]
    },
    {
     "name": "stdout",
     "output_type": "stream",
     "text": [
      "--- runtime for data initialization:\t\t0.002352476119995117\n",
      "--- runtime for data transfer (host->device):\t0.006742000579833984\n",
      "--- runtime for data preprocessing:\t\t0.002467632293701172\n",
      "--- runtime for kernel execution:\t\t0.00847172737121582\n",
      "--- runtime for data transfer (device->host):\t0.004892826080322266\n",
      "384 1408 128 128\n"
     ]
    },
    {
     "name": "stderr",
     "output_type": "stream",
     "text": [
      "\n",
      "Processing blocks of tile::  71%|███████   | 181/256.0 [11:42<04:50,  3.87s/it]\u001b[A"
     ]
    },
    {
     "name": "stdout",
     "output_type": "stream",
     "text": [
      "--- runtime for data initialization:\t\t0.002292633056640625\n",
      "--- runtime for data transfer (host->device):\t0.006719350814819336\n",
      "--- runtime for data preprocessing:\t\t0.0024433135986328125\n",
      "--- runtime for kernel execution:\t\t0.008296012878417969\n",
      "--- runtime for data transfer (device->host):\t0.005034208297729492\n",
      "512 1408 128 128\n"
     ]
    },
    {
     "name": "stderr",
     "output_type": "stream",
     "text": [
      "\n",
      "Processing blocks of tile::  71%|███████   | 182/256.0 [11:46<04:47,  3.88s/it]\u001b[A"
     ]
    },
    {
     "name": "stdout",
     "output_type": "stream",
     "text": [
      "--- runtime for data initialization:\t\t0.002321004867553711\n",
      "--- runtime for data transfer (host->device):\t0.0067369937896728516\n",
      "--- runtime for data preprocessing:\t\t0.002460956573486328\n",
      "--- runtime for kernel execution:\t\t0.00829172134399414\n",
      "--- runtime for data transfer (device->host):\t0.00506281852722168\n",
      "640 1408 128 128\n"
     ]
    },
    {
     "name": "stderr",
     "output_type": "stream",
     "text": [
      "\n",
      "Processing blocks of tile::  71%|███████▏  | 183/256.0 [11:50<04:44,  3.90s/it]\u001b[A"
     ]
    },
    {
     "name": "stdout",
     "output_type": "stream",
     "text": [
      "--- runtime for data initialization:\t\t0.0023436546325683594\n",
      "--- runtime for data transfer (host->device):\t0.006709098815917969\n",
      "--- runtime for data preprocessing:\t\t0.002475261688232422\n",
      "--- runtime for kernel execution:\t\t0.008306264877319336\n",
      "--- runtime for data transfer (device->host):\t0.005035877227783203\n",
      "768 1408 128 128\n"
     ]
    },
    {
     "name": "stderr",
     "output_type": "stream",
     "text": [
      "\n",
      "Processing blocks of tile::  72%|███████▏  | 184/256.0 [11:54<04:39,  3.89s/it]\u001b[A"
     ]
    },
    {
     "name": "stdout",
     "output_type": "stream",
     "text": [
      "--- runtime for data initialization:\t\t0.002323627471923828\n",
      "--- runtime for data transfer (host->device):\t0.006725311279296875\n",
      "--- runtime for data preprocessing:\t\t0.002471446990966797\n",
      "--- runtime for kernel execution:\t\t0.008300542831420898\n",
      "--- runtime for data transfer (device->host):\t0.005031585693359375\n",
      "896 1408 128 128\n"
     ]
    },
    {
     "name": "stderr",
     "output_type": "stream",
     "text": [
      "\n",
      "Processing blocks of tile::  72%|███████▏  | 185/256.0 [11:58<04:35,  3.87s/it]\u001b[A"
     ]
    },
    {
     "name": "stdout",
     "output_type": "stream",
     "text": [
      "--- runtime for data initialization:\t\t0.002326488494873047\n",
      "--- runtime for data transfer (host->device):\t0.0067403316497802734\n",
      "--- runtime for data preprocessing:\t\t0.002453327178955078\n",
      "--- runtime for kernel execution:\t\t0.008284807205200195\n",
      "--- runtime for data transfer (device->host):\t0.005044460296630859\n",
      "1024 1408 128 128\n"
     ]
    },
    {
     "name": "stderr",
     "output_type": "stream",
     "text": [
      "\n",
      "Processing blocks of tile::  73%|███████▎  | 186/256.0 [12:01<04:31,  3.88s/it]\u001b[A"
     ]
    },
    {
     "name": "stdout",
     "output_type": "stream",
     "text": [
      "--- runtime for data initialization:\t\t0.002437114715576172\n",
      "--- runtime for data transfer (host->device):\t0.006728172302246094\n",
      "--- runtime for data preprocessing:\t\t0.0024619102478027344\n",
      "--- runtime for kernel execution:\t\t0.008304357528686523\n",
      "--- runtime for data transfer (device->host):\t0.005063056945800781\n",
      "1152 1408 128 128\n"
     ]
    },
    {
     "name": "stderr",
     "output_type": "stream",
     "text": [
      "\n",
      "Processing blocks of tile::  73%|███████▎  | 187/256.0 [12:05<04:25,  3.85s/it]\u001b[A"
     ]
    },
    {
     "name": "stdout",
     "output_type": "stream",
     "text": [
      "--- runtime for data initialization:\t\t0.002335786819458008\n",
      "--- runtime for data transfer (host->device):\t0.006766319274902344\n",
      "--- runtime for data preprocessing:\t\t0.0024602413177490234\n",
      "--- runtime for kernel execution:\t\t0.008284568786621094\n",
      "--- runtime for data transfer (device->host):\t0.005056619644165039\n",
      "1280 1408 128 128\n"
     ]
    },
    {
     "name": "stderr",
     "output_type": "stream",
     "text": [
      "\n",
      "Processing blocks of tile::  73%|███████▎  | 188/256.0 [12:09<04:21,  3.85s/it]\u001b[A"
     ]
    },
    {
     "name": "stdout",
     "output_type": "stream",
     "text": [
      "--- runtime for data initialization:\t\t0.002358675003051758\n",
      "--- runtime for data transfer (host->device):\t0.006753444671630859\n",
      "--- runtime for data preprocessing:\t\t0.0024805068969726562\n",
      "--- runtime for kernel execution:\t\t0.008288860321044922\n",
      "--- runtime for data transfer (device->host):\t0.00505828857421875\n",
      "1408 1408 128 128\n"
     ]
    },
    {
     "name": "stderr",
     "output_type": "stream",
     "text": [
      "\n",
      "Processing blocks of tile::  74%|███████▍  | 189/256.0 [12:13<04:19,  3.88s/it]\u001b[A"
     ]
    },
    {
     "name": "stdout",
     "output_type": "stream",
     "text": [
      "--- runtime for data initialization:\t\t0.0023207664489746094\n",
      "--- runtime for data transfer (host->device):\t0.0067386627197265625\n",
      "--- runtime for data preprocessing:\t\t0.002478361129760742\n",
      "--- runtime for kernel execution:\t\t0.008310556411743164\n",
      "--- runtime for data transfer (device->host):\t0.005044221878051758\n",
      "1536 1408 128 128\n"
     ]
    },
    {
     "name": "stderr",
     "output_type": "stream",
     "text": [
      "\n",
      "Processing blocks of tile::  74%|███████▍  | 190/256.0 [12:17<04:15,  3.87s/it]\u001b[A"
     ]
    },
    {
     "name": "stdout",
     "output_type": "stream",
     "text": [
      "--- runtime for data initialization:\t\t0.0023598670959472656\n",
      "--- runtime for data transfer (host->device):\t0.006766080856323242\n",
      "--- runtime for data preprocessing:\t\t0.0024652481079101562\n",
      "--- runtime for kernel execution:\t\t0.008316993713378906\n",
      "--- runtime for data transfer (device->host):\t0.004959583282470703\n",
      "1664 1408 128 128\n"
     ]
    },
    {
     "name": "stderr",
     "output_type": "stream",
     "text": [
      "\n",
      "Processing blocks of tile::  75%|███████▍  | 191/256.0 [12:21<04:11,  3.87s/it]\u001b[A"
     ]
    },
    {
     "name": "stdout",
     "output_type": "stream",
     "text": [
      "--- runtime for data initialization:\t\t0.002405405044555664\n",
      "--- runtime for data transfer (host->device):\t0.006752967834472656\n",
      "--- runtime for data preprocessing:\t\t0.002475738525390625\n",
      "--- runtime for kernel execution:\t\t0.008260488510131836\n",
      "--- runtime for data transfer (device->host):\t0.005048990249633789\n",
      "1792 1408 128 128\n"
     ]
    },
    {
     "name": "stderr",
     "output_type": "stream",
     "text": [
      "\n",
      "Processing blocks of tile::  75%|███████▌  | 192/256.0 [12:25<04:08,  3.88s/it]\u001b[A"
     ]
    },
    {
     "name": "stdout",
     "output_type": "stream",
     "text": [
      "--- runtime for data initialization:\t\t0.0023088455200195312\n",
      "--- runtime for data transfer (host->device):\t0.0067157745361328125\n",
      "--- runtime for data preprocessing:\t\t0.0024652481079101562\n",
      "--- runtime for kernel execution:\t\t0.008454561233520508\n",
      "--- runtime for data transfer (device->host):\t0.004913330078125\n",
      "1920 1408 128 128\n"
     ]
    },
    {
     "name": "stderr",
     "output_type": "stream",
     "text": [
      "\n",
      "Processing blocks of tile::  75%|███████▌  | 193/256.0 [12:28<04:04,  3.88s/it]\u001b[A"
     ]
    },
    {
     "name": "stdout",
     "output_type": "stream",
     "text": [
      "--- runtime for data initialization:\t\t0.0024099349975585938\n",
      "--- runtime for data transfer (host->device):\t0.006705284118652344\n",
      "--- runtime for data preprocessing:\t\t0.0024864673614501953\n",
      "--- runtime for kernel execution:\t\t0.008278608322143555\n",
      "--- runtime for data transfer (device->host):\t0.005046367645263672\n",
      "0 1536 128 128\n"
     ]
    },
    {
     "name": "stderr",
     "output_type": "stream",
     "text": [
      "\n",
      "Processing blocks of tile::  76%|███████▌  | 194/256.0 [12:32<03:59,  3.85s/it]\u001b[A"
     ]
    },
    {
     "name": "stdout",
     "output_type": "stream",
     "text": [
      "--- runtime for data initialization:\t\t0.002357006072998047\n",
      "--- runtime for data transfer (host->device):\t0.006758213043212891\n",
      "--- runtime for data preprocessing:\t\t0.0024678707122802734\n",
      "--- runtime for kernel execution:\t\t0.008465766906738281\n",
      "--- runtime for data transfer (device->host):\t0.0048868656158447266\n",
      "128 1536 128 128\n"
     ]
    },
    {
     "name": "stderr",
     "output_type": "stream",
     "text": [
      "\n",
      "Processing blocks of tile::  76%|███████▌  | 195/256.0 [12:36<03:53,  3.84s/it]\u001b[A"
     ]
    },
    {
     "name": "stdout",
     "output_type": "stream",
     "text": [
      "--- runtime for data initialization:\t\t0.002337932586669922\n",
      "--- runtime for data transfer (host->device):\t0.006713390350341797\n",
      "--- runtime for data preprocessing:\t\t0.0025000572204589844\n",
      "--- runtime for kernel execution:\t\t0.008313417434692383\n",
      "--- runtime for data transfer (device->host):\t0.005048036575317383\n",
      "256 1536 128 128\n"
     ]
    },
    {
     "name": "stderr",
     "output_type": "stream",
     "text": [
      "\n",
      "Processing blocks of tile::  77%|███████▋  | 196/256.0 [12:40<03:52,  3.87s/it]\u001b[A"
     ]
    },
    {
     "name": "stdout",
     "output_type": "stream",
     "text": [
      "--- runtime for data initialization:\t\t0.0023293495178222656\n",
      "--- runtime for data transfer (host->device):\t0.006777048110961914\n",
      "--- runtime for data preprocessing:\t\t0.0024628639221191406\n",
      "--- runtime for kernel execution:\t\t0.008239269256591797\n",
      "--- runtime for data transfer (device->host):\t0.004923105239868164\n",
      "384 1536 128 128\n"
     ]
    },
    {
     "name": "stderr",
     "output_type": "stream",
     "text": [
      "\n",
      "Processing blocks of tile::  77%|███████▋  | 197/256.0 [12:44<03:48,  3.88s/it]\u001b[A"
     ]
    },
    {
     "name": "stdout",
     "output_type": "stream",
     "text": [
      "--- runtime for data initialization:\t\t0.0023584365844726562\n",
      "--- runtime for data transfer (host->device):\t0.006747245788574219\n",
      "--- runtime for data preprocessing:\t\t0.002493619918823242\n",
      "--- runtime for kernel execution:\t\t0.008446931838989258\n",
      "--- runtime for data transfer (device->host):\t0.00504755973815918\n",
      "512 1536 128 128\n"
     ]
    },
    {
     "name": "stderr",
     "output_type": "stream",
     "text": [
      "\n",
      "Processing blocks of tile::  77%|███████▋  | 198/256.0 [12:48<03:46,  3.91s/it]\u001b[A"
     ]
    },
    {
     "name": "stdout",
     "output_type": "stream",
     "text": [
      "--- runtime for data initialization:\t\t0.0023450851440429688\n",
      "--- runtime for data transfer (host->device):\t0.006748199462890625\n",
      "--- runtime for data preprocessing:\t\t0.0024662017822265625\n",
      "--- runtime for kernel execution:\t\t0.008291959762573242\n",
      "--- runtime for data transfer (device->host):\t0.005039215087890625\n",
      "640 1536 128 128\n"
     ]
    },
    {
     "name": "stderr",
     "output_type": "stream",
     "text": [
      "\n",
      "Processing blocks of tile::  78%|███████▊  | 199/256.0 [12:52<03:42,  3.90s/it]\u001b[A"
     ]
    },
    {
     "name": "stdout",
     "output_type": "stream",
     "text": [
      "--- runtime for data initialization:\t\t0.002328157424926758\n",
      "--- runtime for data transfer (host->device):\t0.006721019744873047\n",
      "--- runtime for data preprocessing:\t\t0.0024559497833251953\n",
      "--- runtime for kernel execution:\t\t0.008307933807373047\n",
      "--- runtime for data transfer (device->host):\t0.005039691925048828\n",
      "768 1536 128 128\n"
     ]
    },
    {
     "name": "stderr",
     "output_type": "stream",
     "text": [
      "\n",
      "Processing blocks of tile::  78%|███████▊  | 200/256.0 [12:56<03:39,  3.91s/it]\u001b[A"
     ]
    },
    {
     "name": "stdout",
     "output_type": "stream",
     "text": [
      "--- runtime for data initialization:\t\t0.002362489700317383\n",
      "--- runtime for data transfer (host->device):\t0.006710529327392578\n",
      "--- runtime for data preprocessing:\t\t0.002473115921020508\n",
      "--- runtime for kernel execution:\t\t0.008311986923217773\n",
      "--- runtime for data transfer (device->host):\t0.005036354064941406\n",
      "896 1536 128 128\n"
     ]
    },
    {
     "name": "stderr",
     "output_type": "stream",
     "text": [
      "\n",
      "Processing blocks of tile::  79%|███████▊  | 201/256.0 [13:00<03:35,  3.92s/it]\u001b[A"
     ]
    },
    {
     "name": "stdout",
     "output_type": "stream",
     "text": [
      "--- runtime for data initialization:\t\t0.002341032028198242\n",
      "--- runtime for data transfer (host->device):\t0.006697893142700195\n",
      "--- runtime for data preprocessing:\t\t0.002483844757080078\n",
      "--- runtime for kernel execution:\t\t0.008301258087158203\n",
      "--- runtime for data transfer (device->host):\t0.005053281784057617\n",
      "1024 1536 128 128\n"
     ]
    },
    {
     "name": "stderr",
     "output_type": "stream",
     "text": [
      "\n",
      "Processing blocks of tile::  79%|███████▉  | 202/256.0 [13:04<03:31,  3.92s/it]\u001b[A"
     ]
    },
    {
     "name": "stdout",
     "output_type": "stream",
     "text": [
      "--- runtime for data initialization:\t\t0.002376556396484375\n",
      "--- runtime for data transfer (host->device):\t0.006714820861816406\n",
      "--- runtime for data preprocessing:\t\t0.0024983882904052734\n",
      "--- runtime for kernel execution:\t\t0.00845193862915039\n",
      "--- runtime for data transfer (device->host):\t0.005068063735961914\n",
      "1152 1536 128 128\n"
     ]
    },
    {
     "name": "stderr",
     "output_type": "stream",
     "text": [
      "\n",
      "Processing blocks of tile::  79%|███████▉  | 203/256.0 [13:07<03:27,  3.92s/it]\u001b[A"
     ]
    },
    {
     "name": "stdout",
     "output_type": "stream",
     "text": [
      "--- runtime for data initialization:\t\t0.0023491382598876953\n",
      "--- runtime for data transfer (host->device):\t0.0067272186279296875\n",
      "--- runtime for data preprocessing:\t\t0.0024809837341308594\n",
      "--- runtime for kernel execution:\t\t0.008479595184326172\n",
      "--- runtime for data transfer (device->host):\t0.004889249801635742\n",
      "1280 1536 128 128\n"
     ]
    },
    {
     "name": "stderr",
     "output_type": "stream",
     "text": [
      "\n",
      "Processing blocks of tile::  80%|███████▉  | 204/256.0 [13:11<03:23,  3.92s/it]\u001b[A"
     ]
    },
    {
     "name": "stdout",
     "output_type": "stream",
     "text": [
      "--- runtime for data initialization:\t\t0.0023336410522460938\n",
      "--- runtime for data transfer (host->device):\t0.006798505783081055\n",
      "--- runtime for data preprocessing:\t\t0.002469301223754883\n",
      "--- runtime for kernel execution:\t\t0.00846099853515625\n",
      "--- runtime for data transfer (device->host):\t0.0050601959228515625\n",
      "1408 1536 128 128\n"
     ]
    },
    {
     "name": "stderr",
     "output_type": "stream",
     "text": [
      "\n",
      "Processing blocks of tile::  80%|████████  | 205/256.0 [13:15<03:20,  3.92s/it]\u001b[A"
     ]
    },
    {
     "name": "stdout",
     "output_type": "stream",
     "text": [
      "--- runtime for data initialization:\t\t0.0023326873779296875\n",
      "--- runtime for data transfer (host->device):\t0.006691455841064453\n",
      "--- runtime for data preprocessing:\t\t0.0024576187133789062\n",
      "--- runtime for kernel execution:\t\t0.00829768180847168\n",
      "--- runtime for data transfer (device->host):\t0.005049705505371094\n",
      "1536 1536 128 128\n"
     ]
    },
    {
     "name": "stderr",
     "output_type": "stream",
     "text": [
      "\n",
      "Processing blocks of tile::  80%|████████  | 206/256.0 [13:19<03:16,  3.93s/it]\u001b[A"
     ]
    },
    {
     "name": "stdout",
     "output_type": "stream",
     "text": [
      "--- runtime for data initialization:\t\t0.002319812774658203\n",
      "--- runtime for data transfer (host->device):\t0.006761789321899414\n",
      "--- runtime for data preprocessing:\t\t0.0024652481079101562\n",
      "--- runtime for kernel execution:\t\t0.00830984115600586\n",
      "--- runtime for data transfer (device->host):\t0.005041837692260742\n",
      "1664 1536 128 128\n"
     ]
    },
    {
     "name": "stderr",
     "output_type": "stream",
     "text": [
      "\n",
      "Processing blocks of tile::  81%|████████  | 207/256.0 [13:23<03:12,  3.93s/it]\u001b[A"
     ]
    },
    {
     "name": "stdout",
     "output_type": "stream",
     "text": [
      "--- runtime for data initialization:\t\t0.0023233890533447266\n",
      "--- runtime for data transfer (host->device):\t0.006728172302246094\n",
      "--- runtime for data preprocessing:\t\t0.0024728775024414062\n",
      "--- runtime for kernel execution:\t\t0.008305788040161133\n",
      "--- runtime for data transfer (device->host):\t0.005049943923950195\n",
      "1792 1536 128 128\n"
     ]
    },
    {
     "name": "stderr",
     "output_type": "stream",
     "text": [
      "\n",
      "Processing blocks of tile::  81%|████████▏ | 208/256.0 [13:27<03:08,  3.93s/it]\u001b[A"
     ]
    },
    {
     "name": "stdout",
     "output_type": "stream",
     "text": [
      "--- runtime for data initialization:\t\t0.002323627471923828\n",
      "--- runtime for data transfer (host->device):\t0.006705760955810547\n",
      "--- runtime for data preprocessing:\t\t0.0024907588958740234\n",
      "--- runtime for kernel execution:\t\t0.008298873901367188\n",
      "--- runtime for data transfer (device->host):\t0.005047798156738281\n",
      "1920 1536 128 128\n"
     ]
    },
    {
     "name": "stderr",
     "output_type": "stream",
     "text": [
      "\n",
      "Processing blocks of tile::  82%|████████▏ | 209/256.0 [13:31<03:04,  3.93s/it]\u001b[A"
     ]
    },
    {
     "name": "stdout",
     "output_type": "stream",
     "text": [
      "--- runtime for data initialization:\t\t0.0023355484008789062\n",
      "--- runtime for data transfer (host->device):\t0.006788969039916992\n",
      "--- runtime for data preprocessing:\t\t0.00246429443359375\n",
      "--- runtime for kernel execution:\t\t0.008286714553833008\n",
      "--- runtime for data transfer (device->host):\t0.004991292953491211\n",
      "0 1664 128 128\n"
     ]
    },
    {
     "name": "stderr",
     "output_type": "stream",
     "text": [
      "\n",
      "Processing blocks of tile::  82%|████████▏ | 210/256.0 [13:35<02:59,  3.91s/it]\u001b[A"
     ]
    },
    {
     "name": "stdout",
     "output_type": "stream",
     "text": [
      "--- runtime for data initialization:\t\t0.0023262500762939453\n",
      "--- runtime for data transfer (host->device):\t0.0067479610443115234\n",
      "--- runtime for data preprocessing:\t\t0.002490520477294922\n",
      "--- runtime for kernel execution:\t\t0.008256673812866211\n",
      "--- runtime for data transfer (device->host):\t0.004918098449707031\n",
      "128 1664 128 128\n"
     ]
    },
    {
     "name": "stderr",
     "output_type": "stream",
     "text": [
      "\n",
      "Processing blocks of tile::  82%|████████▏ | 211/256.0 [13:39<02:55,  3.90s/it]\u001b[A"
     ]
    },
    {
     "name": "stdout",
     "output_type": "stream",
     "text": [
      "--- runtime for data initialization:\t\t0.002323627471923828\n",
      "--- runtime for data transfer (host->device):\t0.006730556488037109\n",
      "--- runtime for data preprocessing:\t\t0.0024483203887939453\n",
      "--- runtime for kernel execution:\t\t0.008450984954833984\n",
      "--- runtime for data transfer (device->host):\t0.005079984664916992\n",
      "256 1664 128 128\n"
     ]
    },
    {
     "name": "stderr",
     "output_type": "stream",
     "text": [
      "\n",
      "Processing blocks of tile::  83%|████████▎ | 212/256.0 [13:43<02:54,  3.96s/it]\u001b[A"
     ]
    },
    {
     "name": "stdout",
     "output_type": "stream",
     "text": [
      "--- runtime for data initialization:\t\t0.0023415088653564453\n",
      "--- runtime for data transfer (host->device):\t0.006882190704345703\n",
      "--- runtime for data preprocessing:\t\t0.0024950504302978516\n",
      "--- runtime for kernel execution:\t\t0.008303642272949219\n",
      "--- runtime for data transfer (device->host):\t0.005042076110839844\n",
      "384 1664 128 128\n"
     ]
    },
    {
     "name": "stderr",
     "output_type": "stream",
     "text": [
      "\n",
      "Processing blocks of tile::  83%|████████▎ | 213/256.0 [13:47<02:50,  3.97s/it]\u001b[A"
     ]
    },
    {
     "name": "stdout",
     "output_type": "stream",
     "text": [
      "--- runtime for data initialization:\t\t0.002311229705810547\n",
      "--- runtime for data transfer (host->device):\t0.006826877593994141\n",
      "--- runtime for data preprocessing:\t\t0.0024900436401367188\n",
      "--- runtime for kernel execution:\t\t0.008261680603027344\n",
      "--- runtime for data transfer (device->host):\t0.00505518913269043\n",
      "512 1664 128 128\n"
     ]
    },
    {
     "name": "stderr",
     "output_type": "stream",
     "text": [
      "\n",
      "Processing blocks of tile::  84%|████████▎ | 214/256.0 [13:51<02:46,  3.97s/it]\u001b[A"
     ]
    },
    {
     "name": "stdout",
     "output_type": "stream",
     "text": [
      "--- runtime for data initialization:\t\t0.002307891845703125\n",
      "--- runtime for data transfer (host->device):\t0.006834983825683594\n",
      "--- runtime for data preprocessing:\t\t0.002479076385498047\n",
      "--- runtime for kernel execution:\t\t0.008260011672973633\n",
      "--- runtime for data transfer (device->host):\t0.004906177520751953\n",
      "640 1664 128 128\n"
     ]
    },
    {
     "name": "stderr",
     "output_type": "stream",
     "text": [
      "\n",
      "Processing blocks of tile::  84%|████████▍ | 215/256.0 [13:55<02:41,  3.93s/it]\u001b[A"
     ]
    },
    {
     "name": "stdout",
     "output_type": "stream",
     "text": [
      "--- runtime for data initialization:\t\t0.0023179054260253906\n",
      "--- runtime for data transfer (host->device):\t0.006807804107666016\n",
      "--- runtime for data preprocessing:\t\t0.0024766921997070312\n",
      "--- runtime for kernel execution:\t\t0.008465290069580078\n",
      "--- runtime for data transfer (device->host):\t0.004917621612548828\n",
      "768 1664 128 128\n"
     ]
    },
    {
     "name": "stderr",
     "output_type": "stream",
     "text": [
      "\n",
      "Processing blocks of tile::  84%|████████▍ | 216/256.0 [13:59<02:37,  3.93s/it]\u001b[A"
     ]
    },
    {
     "name": "stdout",
     "output_type": "stream",
     "text": [
      "--- runtime for data initialization:\t\t0.0023229122161865234\n",
      "--- runtime for data transfer (host->device):\t0.006688117980957031\n",
      "--- runtime for data preprocessing:\t\t0.002466917037963867\n",
      "--- runtime for kernel execution:\t\t0.008289337158203125\n",
      "--- runtime for data transfer (device->host):\t0.005041360855102539\n",
      "896 1664 128 128\n"
     ]
    },
    {
     "name": "stderr",
     "output_type": "stream",
     "text": [
      "\n",
      "Processing blocks of tile::  85%|████████▍ | 217/256.0 [14:03<02:33,  3.93s/it]\u001b[A"
     ]
    },
    {
     "name": "stdout",
     "output_type": "stream",
     "text": [
      "--- runtime for data initialization:\t\t0.002334117889404297\n",
      "--- runtime for data transfer (host->device):\t0.006803750991821289\n",
      "--- runtime for data preprocessing:\t\t0.0024645328521728516\n",
      "--- runtime for kernel execution:\t\t0.008274078369140625\n",
      "--- runtime for data transfer (device->host):\t0.005051374435424805\n",
      "1024 1664 128 128\n"
     ]
    },
    {
     "name": "stderr",
     "output_type": "stream",
     "text": [
      "\n",
      "Processing blocks of tile::  85%|████████▌ | 218/256.0 [14:06<02:28,  3.91s/it]\u001b[A"
     ]
    },
    {
     "name": "stdout",
     "output_type": "stream",
     "text": [
      "--- runtime for data initialization:\t\t0.0023293495178222656\n",
      "--- runtime for data transfer (host->device):\t0.00678563117980957\n",
      "--- runtime for data preprocessing:\t\t0.0024809837341308594\n",
      "--- runtime for kernel execution:\t\t0.008233308792114258\n",
      "--- runtime for data transfer (device->host):\t0.0051310062408447266\n",
      "1152 1664 128 128\n"
     ]
    },
    {
     "name": "stderr",
     "output_type": "stream",
     "text": [
      "\n",
      "Processing blocks of tile::  86%|████████▌ | 219/256.0 [14:10<02:24,  3.91s/it]\u001b[A"
     ]
    },
    {
     "name": "stdout",
     "output_type": "stream",
     "text": [
      "--- runtime for data initialization:\t\t0.0022995471954345703\n",
      "--- runtime for data transfer (host->device):\t0.006735563278198242\n",
      "--- runtime for data preprocessing:\t\t0.0024628639221191406\n",
      "--- runtime for kernel execution:\t\t0.00831460952758789\n",
      "--- runtime for data transfer (device->host):\t0.005068778991699219\n",
      "1280 1664 128 128\n"
     ]
    },
    {
     "name": "stderr",
     "output_type": "stream",
     "text": [
      "\n",
      "Processing blocks of tile::  86%|████████▌ | 220/256.0 [14:14<02:21,  3.92s/it]\u001b[A"
     ]
    },
    {
     "name": "stdout",
     "output_type": "stream",
     "text": [
      "--- runtime for data initialization:\t\t0.0023224353790283203\n",
      "--- runtime for data transfer (host->device):\t0.006773233413696289\n",
      "--- runtime for data preprocessing:\t\t0.0024607181549072266\n",
      "--- runtime for kernel execution:\t\t0.00826120376586914\n",
      "--- runtime for data transfer (device->host):\t0.005052804946899414\n",
      "1408 1664 128 128\n"
     ]
    },
    {
     "name": "stderr",
     "output_type": "stream",
     "text": [
      "\n",
      "Processing blocks of tile::  86%|████████▋ | 221/256.0 [14:18<02:17,  3.93s/it]\u001b[A"
     ]
    },
    {
     "name": "stdout",
     "output_type": "stream",
     "text": [
      "--- runtime for data initialization:\t\t0.0023543834686279297\n",
      "--- runtime for data transfer (host->device):\t0.0068166255950927734\n",
      "--- runtime for data preprocessing:\t\t0.002479076385498047\n",
      "--- runtime for kernel execution:\t\t0.00847482681274414\n",
      "--- runtime for data transfer (device->host):\t0.00490260124206543\n",
      "1536 1664 128 128\n"
     ]
    },
    {
     "name": "stderr",
     "output_type": "stream",
     "text": [
      "\n",
      "Processing blocks of tile::  87%|████████▋ | 222/256.0 [14:22<02:13,  3.93s/it]\u001b[A"
     ]
    },
    {
     "name": "stdout",
     "output_type": "stream",
     "text": [
      "--- runtime for data initialization:\t\t0.002393007278442383\n",
      "--- runtime for data transfer (host->device):\t0.006722211837768555\n",
      "--- runtime for data preprocessing:\t\t0.0024967193603515625\n",
      "--- runtime for kernel execution:\t\t0.008437156677246094\n",
      "--- runtime for data transfer (device->host):\t0.004887580871582031\n",
      "1664 1664 128 128\n"
     ]
    },
    {
     "name": "stderr",
     "output_type": "stream",
     "text": [
      "\n",
      "Processing blocks of tile::  87%|████████▋ | 223/256.0 [14:26<02:10,  3.94s/it]\u001b[A"
     ]
    },
    {
     "name": "stdout",
     "output_type": "stream",
     "text": [
      "--- runtime for data initialization:\t\t0.0023365020751953125\n",
      "--- runtime for data transfer (host->device):\t0.0068776607513427734\n",
      "--- runtime for data preprocessing:\t\t0.0024805068969726562\n",
      "--- runtime for kernel execution:\t\t0.008269071578979492\n",
      "--- runtime for data transfer (device->host):\t0.004871845245361328\n",
      "1792 1664 128 128\n"
     ]
    },
    {
     "name": "stderr",
     "output_type": "stream",
     "text": [
      "\n",
      "Processing blocks of tile::  88%|████████▊ | 224/256.0 [14:30<02:06,  3.95s/it]\u001b[A"
     ]
    },
    {
     "name": "stdout",
     "output_type": "stream",
     "text": [
      "--- runtime for data initialization:\t\t0.002344369888305664\n",
      "--- runtime for data transfer (host->device):\t0.006807565689086914\n",
      "--- runtime for data preprocessing:\t\t0.002469301223754883\n",
      "--- runtime for kernel execution:\t\t0.00841975212097168\n",
      "--- runtime for data transfer (device->host):\t0.0050640106201171875\n",
      "1920 1664 128 128\n"
     ]
    },
    {
     "name": "stderr",
     "output_type": "stream",
     "text": [
      "\n",
      "Processing blocks of tile::  88%|████████▊ | 225/256.0 [14:34<02:02,  3.97s/it]\u001b[A"
     ]
    },
    {
     "name": "stdout",
     "output_type": "stream",
     "text": [
      "--- runtime for data initialization:\t\t0.0023157596588134766\n",
      "--- runtime for data transfer (host->device):\t0.006744861602783203\n",
      "--- runtime for data preprocessing:\t\t0.0024907588958740234\n",
      "--- runtime for kernel execution:\t\t0.00826573371887207\n",
      "--- runtime for data transfer (device->host):\t0.004895925521850586\n",
      "0 1792 128 128\n"
     ]
    },
    {
     "name": "stderr",
     "output_type": "stream",
     "text": [
      "\n",
      "Processing blocks of tile::  88%|████████▊ | 226/256.0 [14:38<01:58,  3.94s/it]\u001b[A"
     ]
    },
    {
     "name": "stdout",
     "output_type": "stream",
     "text": [
      "--- runtime for data initialization:\t\t0.0024085044860839844\n",
      "--- runtime for data transfer (host->device):\t0.006697893142700195\n",
      "--- runtime for data preprocessing:\t\t0.002478361129760742\n",
      "--- runtime for kernel execution:\t\t0.008302450180053711\n",
      "--- runtime for data transfer (device->host):\t0.0050449371337890625\n",
      "128 1792 128 128\n"
     ]
    },
    {
     "name": "stderr",
     "output_type": "stream",
     "text": [
      "\n",
      "Processing blocks of tile::  89%|████████▊ | 227/256.0 [14:42<01:52,  3.89s/it]\u001b[A"
     ]
    },
    {
     "name": "stdout",
     "output_type": "stream",
     "text": [
      "--- runtime for data initialization:\t\t0.00234222412109375\n",
      "--- runtime for data transfer (host->device):\t0.006691932678222656\n",
      "--- runtime for data preprocessing:\t\t0.002470731735229492\n",
      "--- runtime for kernel execution:\t\t0.008256673812866211\n",
      "--- runtime for data transfer (device->host):\t0.004895925521850586\n",
      "256 1792 128 128\n"
     ]
    },
    {
     "name": "stderr",
     "output_type": "stream",
     "text": [
      "\n",
      "Processing blocks of tile::  89%|████████▉ | 228/256.0 [14:46<01:50,  3.93s/it]\u001b[A"
     ]
    },
    {
     "name": "stdout",
     "output_type": "stream",
     "text": [
      "--- runtime for data initialization:\t\t0.002310514450073242\n",
      "--- runtime for data transfer (host->device):\t0.006716728210449219\n",
      "--- runtime for data preprocessing:\t\t0.0024611949920654297\n",
      "--- runtime for kernel execution:\t\t0.008316993713378906\n",
      "--- runtime for data transfer (device->host):\t0.0050466060638427734\n",
      "384 1792 128 128\n"
     ]
    },
    {
     "name": "stderr",
     "output_type": "stream",
     "text": [
      "\n",
      "Processing blocks of tile::  89%|████████▉ | 229/256.0 [14:50<01:46,  3.95s/it]\u001b[A"
     ]
    },
    {
     "name": "stdout",
     "output_type": "stream",
     "text": [
      "--- runtime for data initialization:\t\t0.0023355484008789062\n",
      "--- runtime for data transfer (host->device):\t0.006854057312011719\n",
      "--- runtime for data preprocessing:\t\t0.0024542808532714844\n",
      "--- runtime for kernel execution:\t\t0.008455514907836914\n",
      "--- runtime for data transfer (device->host):\t0.0048754215240478516\n",
      "512 1792 128 128\n"
     ]
    },
    {
     "name": "stderr",
     "output_type": "stream",
     "text": [
      "\n",
      "Processing blocks of tile::  90%|████████▉ | 230/256.0 [14:54<01:43,  3.97s/it]\u001b[A"
     ]
    },
    {
     "name": "stdout",
     "output_type": "stream",
     "text": [
      "--- runtime for data initialization:\t\t0.0023245811462402344\n",
      "--- runtime for data transfer (host->device):\t0.006714820861816406\n",
      "--- runtime for data preprocessing:\t\t0.0024750232696533203\n",
      "--- runtime for kernel execution:\t\t0.008361101150512695\n",
      "--- runtime for data transfer (device->host):\t0.005035877227783203\n",
      "640 1792 128 128\n"
     ]
    },
    {
     "name": "stderr",
     "output_type": "stream",
     "text": [
      "\n",
      "Processing blocks of tile::  90%|█████████ | 231/256.0 [14:58<01:39,  3.97s/it]\u001b[A"
     ]
    },
    {
     "name": "stdout",
     "output_type": "stream",
     "text": [
      "--- runtime for data initialization:\t\t0.0023164749145507812\n",
      "--- runtime for data transfer (host->device):\t0.006796598434448242\n",
      "--- runtime for data preprocessing:\t\t0.0024716854095458984\n",
      "--- runtime for kernel execution:\t\t0.008261680603027344\n",
      "--- runtime for data transfer (device->host):\t0.005059003829956055\n",
      "768 1792 128 128\n"
     ]
    },
    {
     "name": "stderr",
     "output_type": "stream",
     "text": [
      "\n",
      "Processing blocks of tile::  91%|█████████ | 232/256.0 [15:02<01:35,  3.97s/it]\u001b[A"
     ]
    },
    {
     "name": "stdout",
     "output_type": "stream",
     "text": [
      "--- runtime for data initialization:\t\t0.0023169517517089844\n",
      "--- runtime for data transfer (host->device):\t0.006735324859619141\n",
      "--- runtime for data preprocessing:\t\t0.002494335174560547\n",
      "--- runtime for kernel execution:\t\t0.008326530456542969\n",
      "--- runtime for data transfer (device->host):\t0.0050449371337890625\n",
      "896 1792 128 128\n"
     ]
    },
    {
     "name": "stderr",
     "output_type": "stream",
     "text": [
      "\n",
      "Processing blocks of tile::  91%|█████████ | 233/256.0 [15:06<01:31,  3.96s/it]\u001b[A"
     ]
    },
    {
     "name": "stdout",
     "output_type": "stream",
     "text": [
      "--- runtime for data initialization:\t\t0.002342700958251953\n",
      "--- runtime for data transfer (host->device):\t0.006719112396240234\n",
      "--- runtime for data preprocessing:\t\t0.002469301223754883\n",
      "--- runtime for kernel execution:\t\t0.008301973342895508\n",
      "--- runtime for data transfer (device->host):\t0.005051136016845703\n",
      "1024 1792 128 128\n"
     ]
    },
    {
     "name": "stderr",
     "output_type": "stream",
     "text": [
      "\n",
      "Processing blocks of tile::  91%|█████████▏| 234/256.0 [15:10<01:27,  3.95s/it]\u001b[A"
     ]
    },
    {
     "name": "stdout",
     "output_type": "stream",
     "text": [
      "--- runtime for data initialization:\t\t0.0023984909057617188\n",
      "--- runtime for data transfer (host->device):\t0.006718873977661133\n",
      "--- runtime for data preprocessing:\t\t0.002477407455444336\n",
      "--- runtime for kernel execution:\t\t0.00827932357788086\n",
      "--- runtime for data transfer (device->host):\t0.005064725875854492\n",
      "1152 1792 128 128\n"
     ]
    },
    {
     "name": "stderr",
     "output_type": "stream",
     "text": [
      "\n",
      "Processing blocks of tile::  92%|█████████▏| 235/256.0 [15:14<01:22,  3.93s/it]\u001b[A"
     ]
    },
    {
     "name": "stdout",
     "output_type": "stream",
     "text": [
      "--- runtime for data initialization:\t\t0.002416849136352539\n",
      "--- runtime for data transfer (host->device):\t0.006701469421386719\n",
      "--- runtime for data preprocessing:\t\t0.0024688243865966797\n",
      "--- runtime for kernel execution:\t\t0.008299589157104492\n",
      "--- runtime for data transfer (device->host):\t0.005059957504272461\n",
      "1280 1792 128 128\n"
     ]
    },
    {
     "name": "stderr",
     "output_type": "stream",
     "text": [
      "\n",
      "Processing blocks of tile::  92%|█████████▏| 236/256.0 [15:17<01:18,  3.94s/it]\u001b[A"
     ]
    },
    {
     "name": "stdout",
     "output_type": "stream",
     "text": [
      "--- runtime for data initialization:\t\t0.002378702163696289\n",
      "--- runtime for data transfer (host->device):\t0.0066874027252197266\n",
      "--- runtime for data preprocessing:\t\t0.0024602413177490234\n",
      "--- runtime for kernel execution:\t\t0.008287191390991211\n",
      "--- runtime for data transfer (device->host):\t0.005053281784057617\n",
      "1408 1792 128 128\n"
     ]
    },
    {
     "name": "stderr",
     "output_type": "stream",
     "text": [
      "\n",
      "Processing blocks of tile::  93%|█████████▎| 237/256.0 [15:21<01:14,  3.94s/it]\u001b[A"
     ]
    },
    {
     "name": "stdout",
     "output_type": "stream",
     "text": [
      "--- runtime for data initialization:\t\t0.0023255348205566406\n",
      "--- runtime for data transfer (host->device):\t0.00680088996887207\n",
      "--- runtime for data preprocessing:\t\t0.0024776458740234375\n",
      "--- runtime for kernel execution:\t\t0.008308887481689453\n",
      "--- runtime for data transfer (device->host):\t0.005041360855102539\n",
      "1536 1792 128 128\n"
     ]
    },
    {
     "name": "stderr",
     "output_type": "stream",
     "text": [
      "\n",
      "Processing blocks of tile::  93%|█████████▎| 238/256.0 [15:25<01:11,  3.96s/it]\u001b[A"
     ]
    },
    {
     "name": "stdout",
     "output_type": "stream",
     "text": [
      "--- runtime for data initialization:\t\t0.002348661422729492\n",
      "--- runtime for data transfer (host->device):\t0.0066874027252197266\n",
      "--- runtime for data preprocessing:\t\t0.002462625503540039\n",
      "--- runtime for kernel execution:\t\t0.008334636688232422\n",
      "--- runtime for data transfer (device->host):\t0.00503849983215332\n",
      "1664 1792 128 128\n"
     ]
    },
    {
     "name": "stderr",
     "output_type": "stream",
     "text": [
      "\n",
      "Processing blocks of tile::  93%|█████████▎| 239/256.0 [15:29<01:07,  3.98s/it]\u001b[A"
     ]
    },
    {
     "name": "stdout",
     "output_type": "stream",
     "text": [
      "--- runtime for data initialization:\t\t0.0023713111877441406\n",
      "--- runtime for data transfer (host->device):\t0.006673574447631836\n",
      "--- runtime for data preprocessing:\t\t0.0024650096893310547\n",
      "--- runtime for kernel execution:\t\t0.008315324783325195\n",
      "--- runtime for data transfer (device->host):\t0.005038022994995117\n",
      "1792 1792 128 128\n"
     ]
    },
    {
     "name": "stderr",
     "output_type": "stream",
     "text": [
      "\n",
      "Processing blocks of tile::  94%|█████████▍| 240/256.0 [15:33<01:03,  3.97s/it]\u001b[A"
     ]
    },
    {
     "name": "stdout",
     "output_type": "stream",
     "text": [
      "--- runtime for data initialization:\t\t0.002340555191040039\n",
      "--- runtime for data transfer (host->device):\t0.006757020950317383\n",
      "--- runtime for data preprocessing:\t\t0.002484560012817383\n",
      "--- runtime for kernel execution:\t\t0.008299112319946289\n",
      "--- runtime for data transfer (device->host):\t0.005041360855102539\n",
      "1920 1792 128 128\n"
     ]
    },
    {
     "name": "stderr",
     "output_type": "stream",
     "text": [
      "\n",
      "Processing blocks of tile::  94%|█████████▍| 241/256.0 [15:37<00:59,  3.96s/it]\u001b[A"
     ]
    },
    {
     "name": "stdout",
     "output_type": "stream",
     "text": [
      "--- runtime for data initialization:\t\t0.0023508071899414062\n",
      "--- runtime for data transfer (host->device):\t0.0067026615142822266\n",
      "--- runtime for data preprocessing:\t\t0.0024683475494384766\n",
      "--- runtime for kernel execution:\t\t0.008476495742797852\n",
      "--- runtime for data transfer (device->host):\t0.0048749446868896484\n",
      "0 1920 128 128\n"
     ]
    },
    {
     "name": "stderr",
     "output_type": "stream",
     "text": [
      "\n",
      "Processing blocks of tile::  95%|█████████▍| 242/256.0 [15:41<00:55,  3.94s/it]\u001b[A"
     ]
    },
    {
     "name": "stdout",
     "output_type": "stream",
     "text": [
      "--- runtime for data initialization:\t\t0.002315044403076172\n",
      "--- runtime for data transfer (host->device):\t0.006734371185302734\n",
      "--- runtime for data preprocessing:\t\t0.0024580955505371094\n",
      "--- runtime for kernel execution:\t\t0.008306264877319336\n",
      "--- runtime for data transfer (device->host):\t0.005043506622314453\n",
      "128 1920 128 128\n"
     ]
    },
    {
     "name": "stderr",
     "output_type": "stream",
     "text": [
      "\n",
      "Processing blocks of tile::  95%|█████████▍| 243/256.0 [15:45<00:50,  3.90s/it]\u001b[A"
     ]
    },
    {
     "name": "stdout",
     "output_type": "stream",
     "text": [
      "--- runtime for data initialization:\t\t0.002390146255493164\n",
      "--- runtime for data transfer (host->device):\t0.006809711456298828\n",
      "--- runtime for data preprocessing:\t\t0.0024766921997070312\n",
      "--- runtime for kernel execution:\t\t0.00822591781616211\n",
      "--- runtime for data transfer (device->host):\t0.004902839660644531\n",
      "256 1920 128 128\n"
     ]
    },
    {
     "name": "stderr",
     "output_type": "stream",
     "text": [
      "\n",
      "Processing blocks of tile::  95%|█████████▌| 244/256.0 [15:49<00:46,  3.91s/it]\u001b[A"
     ]
    },
    {
     "name": "stdout",
     "output_type": "stream",
     "text": [
      "--- runtime for data initialization:\t\t0.002313375473022461\n",
      "--- runtime for data transfer (host->device):\t0.006865978240966797\n",
      "--- runtime for data preprocessing:\t\t0.0024776458740234375\n",
      "--- runtime for kernel execution:\t\t0.00846552848815918\n",
      "--- runtime for data transfer (device->host):\t0.004888296127319336\n",
      "384 1920 128 128\n"
     ]
    },
    {
     "name": "stderr",
     "output_type": "stream",
     "text": [
      "\n",
      "Processing blocks of tile::  96%|█████████▌| 245/256.0 [15:53<00:43,  3.93s/it]\u001b[A"
     ]
    },
    {
     "name": "stdout",
     "output_type": "stream",
     "text": [
      "--- runtime for data initialization:\t\t0.002301931381225586\n",
      "--- runtime for data transfer (host->device):\t0.006800174713134766\n",
      "--- runtime for data preprocessing:\t\t0.002475738525390625\n",
      "--- runtime for kernel execution:\t\t0.008281230926513672\n",
      "--- runtime for data transfer (device->host):\t0.00504612922668457\n",
      "512 1920 128 128\n"
     ]
    },
    {
     "name": "stderr",
     "output_type": "stream",
     "text": [
      "\n",
      "Processing blocks of tile::  96%|█████████▌| 246/256.0 [15:57<00:39,  3.92s/it]\u001b[A"
     ]
    },
    {
     "name": "stdout",
     "output_type": "stream",
     "text": [
      "--- runtime for data initialization:\t\t0.0023097991943359375\n",
      "--- runtime for data transfer (host->device):\t0.0067539215087890625\n",
      "--- runtime for data preprocessing:\t\t0.002485513687133789\n",
      "--- runtime for kernel execution:\t\t0.008484601974487305\n",
      "--- runtime for data transfer (device->host):\t0.004889011383056641\n",
      "640 1920 128 128\n"
     ]
    },
    {
     "name": "stderr",
     "output_type": "stream",
     "text": [
      "\n",
      "Processing blocks of tile::  96%|█████████▋| 247/256.0 [16:01<00:35,  3.92s/it]\u001b[A"
     ]
    },
    {
     "name": "stdout",
     "output_type": "stream",
     "text": [
      "--- runtime for data initialization:\t\t0.0023784637451171875\n",
      "--- runtime for data transfer (host->device):\t0.006665468215942383\n",
      "--- runtime for data preprocessing:\t\t0.0024688243865966797\n",
      "--- runtime for kernel execution:\t\t0.008437156677246094\n",
      "--- runtime for data transfer (device->host):\t0.0050394535064697266\n",
      "768 1920 128 128\n"
     ]
    },
    {
     "name": "stderr",
     "output_type": "stream",
     "text": [
      "\n",
      "Processing blocks of tile::  97%|█████████▋| 248/256.0 [16:05<00:31,  3.92s/it]\u001b[A"
     ]
    },
    {
     "name": "stdout",
     "output_type": "stream",
     "text": [
      "--- runtime for data initialization:\t\t0.002413034439086914\n",
      "--- runtime for data transfer (host->device):\t0.006789684295654297\n",
      "--- runtime for data preprocessing:\t\t0.0024840831756591797\n",
      "--- runtime for kernel execution:\t\t0.008270025253295898\n",
      "--- runtime for data transfer (device->host):\t0.004896879196166992\n",
      "896 1920 128 128\n"
     ]
    },
    {
     "name": "stderr",
     "output_type": "stream",
     "text": [
      "\n",
      "Processing blocks of tile::  97%|█████████▋| 249/256.0 [16:09<00:27,  3.93s/it]\u001b[A"
     ]
    },
    {
     "name": "stdout",
     "output_type": "stream",
     "text": [
      "--- runtime for data initialization:\t\t0.002307891845703125\n",
      "--- runtime for data transfer (host->device):\t0.0067539215087890625\n",
      "--- runtime for data preprocessing:\t\t0.0024938583374023438\n",
      "--- runtime for kernel execution:\t\t0.008301258087158203\n",
      "--- runtime for data transfer (device->host):\t0.005052328109741211\n",
      "1024 1920 128 128\n"
     ]
    },
    {
     "name": "stderr",
     "output_type": "stream",
     "text": [
      "\n",
      "Processing blocks of tile::  98%|█████████▊| 250/256.0 [16:13<00:23,  3.92s/it]\u001b[A"
     ]
    },
    {
     "name": "stdout",
     "output_type": "stream",
     "text": [
      "--- runtime for data initialization:\t\t0.0023314952850341797\n",
      "--- runtime for data transfer (host->device):\t0.00673222541809082\n",
      "--- runtime for data preprocessing:\t\t0.0024542808532714844\n",
      "--- runtime for kernel execution:\t\t0.008315086364746094\n",
      "--- runtime for data transfer (device->host):\t0.005054950714111328\n",
      "1152 1920 128 128\n"
     ]
    },
    {
     "name": "stderr",
     "output_type": "stream",
     "text": [
      "\n",
      "Processing blocks of tile::  98%|█████████▊| 251/256.0 [16:16<00:19,  3.91s/it]\u001b[A"
     ]
    },
    {
     "name": "stdout",
     "output_type": "stream",
     "text": [
      "--- runtime for data initialization:\t\t0.0023009777069091797\n",
      "--- runtime for data transfer (host->device):\t0.006745100021362305\n",
      "--- runtime for data preprocessing:\t\t0.0024652481079101562\n",
      "--- runtime for kernel execution:\t\t0.008293867111206055\n",
      "--- runtime for data transfer (device->host):\t0.005059480667114258\n",
      "1280 1920 128 128\n"
     ]
    },
    {
     "name": "stderr",
     "output_type": "stream",
     "text": [
      "\n",
      "Processing blocks of tile::  98%|█████████▊| 252/256.0 [16:20<00:15,  3.91s/it]\u001b[A"
     ]
    },
    {
     "name": "stdout",
     "output_type": "stream",
     "text": [
      "--- runtime for data initialization:\t\t0.0022988319396972656\n",
      "--- runtime for data transfer (host->device):\t0.006762266159057617\n",
      "--- runtime for data preprocessing:\t\t0.00246429443359375\n",
      "--- runtime for kernel execution:\t\t0.008313179016113281\n",
      "--- runtime for data transfer (device->host):\t0.0050678253173828125\n",
      "1408 1920 128 128\n"
     ]
    },
    {
     "name": "stderr",
     "output_type": "stream",
     "text": [
      "\n",
      "Processing blocks of tile::  99%|█████████▉| 253/256.0 [16:24<00:11,  3.92s/it]\u001b[A"
     ]
    },
    {
     "name": "stdout",
     "output_type": "stream",
     "text": [
      "--- runtime for data initialization:\t\t0.0023310184478759766\n",
      "--- runtime for data transfer (host->device):\t0.006781578063964844\n",
      "--- runtime for data preprocessing:\t\t0.0024628639221191406\n",
      "--- runtime for kernel execution:\t\t0.00832986831665039\n",
      "--- runtime for data transfer (device->host):\t0.0050389766693115234\n",
      "1536 1920 128 128\n"
     ]
    },
    {
     "name": "stderr",
     "output_type": "stream",
     "text": [
      "\n",
      "Processing blocks of tile::  99%|█████████▉| 254/256.0 [16:28<00:07,  3.92s/it]\u001b[A"
     ]
    },
    {
     "name": "stdout",
     "output_type": "stream",
     "text": [
      "--- runtime for data initialization:\t\t0.002340555191040039\n",
      "--- runtime for data transfer (host->device):\t0.006708383560180664\n",
      "--- runtime for data preprocessing:\t\t0.002471446990966797\n",
      "--- runtime for kernel execution:\t\t0.008262157440185547\n",
      "--- runtime for data transfer (device->host):\t0.004912853240966797\n",
      "1664 1920 128 128\n"
     ]
    },
    {
     "name": "stderr",
     "output_type": "stream",
     "text": [
      "\n",
      "Processing blocks of tile:: 100%|█████████▉| 255/256.0 [16:32<00:03,  3.90s/it]\u001b[A"
     ]
    },
    {
     "name": "stdout",
     "output_type": "stream",
     "text": [
      "--- runtime for data initialization:\t\t0.0022945404052734375\n",
      "--- runtime for data transfer (host->device):\t0.006734132766723633\n",
      "--- runtime for data preprocessing:\t\t0.002467632293701172\n",
      "--- runtime for kernel execution:\t\t0.008281469345092773\n",
      "--- runtime for data transfer (device->host):\t0.00504302978515625\n",
      "1792 1920 128 128\n"
     ]
    },
    {
     "name": "stderr",
     "output_type": "stream",
     "text": [
      "\n",
      "Processing blocks of tile:: 100%|██████████| 256/256.0 [16:36<00:00,  3.91s/it]\u001b[A"
     ]
    },
    {
     "name": "stdout",
     "output_type": "stream",
     "text": [
      "--- runtime for data initialization:\t\t0.002336263656616211\n",
      "--- runtime for data transfer (host->device):\t0.006766080856323242\n",
      "--- runtime for data preprocessing:\t\t0.0024755001068115234\n",
      "--- runtime for kernel execution:\t\t0.008296728134155273\n",
      "--- runtime for data transfer (device->host):\t0.005041360855102539\n",
      "1920 1920 128 128\n"
     ]
    },
    {
     "name": "stderr",
     "output_type": "stream",
     "text": [
      "Processing blocks of tile:: 100%|██████████| 256/256.0 [16:40<00:00,  3.91s/it]\n",
      "Processing tile 1 out of 9:   0%|          | 0/9 [16:40<?, ?it/s]\n",
      "  0%|          | 0/256.0 [00:00<?, ?it/s]\u001b[A\n",
      "Processing blocks of tile::   0%|          | 0/256.0 [00:00<?, ?it/s]\u001b[A"
     ]
    },
    {
     "name": "stdout",
     "output_type": "stream",
     "text": [
      "--- runtime for data initialization:\t\t0.0024182796478271484\n",
      "--- runtime for data transfer (host->device):\t0.006751060485839844\n",
      "--- runtime for data preprocessing:\t\t0.002469301223754883\n",
      "--- runtime for kernel execution:\t\t0.008229732513427734\n",
      "--- runtime for data transfer (device->host):\t0.005064487457275391\n",
      "Fitting model over all blocks took 1000.4602715969086 seconds.\n",
      "Monitoring starts at:  2007-12-27 00:00:00\n",
      "Monitoring ends at:  2020-08-02 00:00:00\n",
      "Dataset history starts at:  2000-10-06 00:00:00\n",
      "frequency:  365\n",
      "harmonic term:  3\n",
      "Float in the interval (0,1) specifying the bandwidth relative to the sample size in the MOSUM/ME monitoring processes.:  0.25\n",
      "Whether a tend offset term shall be used or not:  False\n",
      "Significance level of the monitoring (and ROC, if selected) procedure, i.e., probability of type I error:  0.05\n",
      "GPU opencl or CPU python:  opencl\n",
      "The verbosity level (0=no output, 1=output):  1\n",
      "[<pyopencl.Device 'Tesla T4' on 'NVIDIA CUDA' at 0x2e48420>]\n",
      "rastersize:  2048 2048\n",
      "The natural block size is the block size that is most efficient for accessing the format, gdal found blocksize:  [128, 128]\n",
      "set blocksize explicitly:  128 ,  128\n",
      "bytes required:  30500978688\n",
      "start monitor:  2007-12-27 00:00:00\n",
      "end monitor:  2020-08-02 00:00:00\n",
      "start history:  2000-10-06 00:00:00\n",
      "0 0 128 128\n"
     ]
    },
    {
     "name": "stderr",
     "output_type": "stream",
     "text": [
      "\n",
      "Processing blocks of tile::   1%|          | 2/256.0 [00:07<15:04,  3.56s/it]\u001b[A"
     ]
    },
    {
     "name": "stdout",
     "output_type": "stream",
     "text": [
      "--- runtime for data initialization:\t\t0.0024178028106689453\n",
      "--- runtime for data transfer (host->device):\t0.006738901138305664\n",
      "--- runtime for data preprocessing:\t\t0.0024628639221191406\n",
      "--- runtime for kernel execution:\t\t0.00843954086303711\n",
      "--- runtime for data transfer (device->host):\t0.004889726638793945\n",
      "128 0 128 128\n"
     ]
    },
    {
     "name": "stderr",
     "output_type": "stream",
     "text": [
      "\n",
      "Processing blocks of tile::   1%|          | 3/256.0 [00:11<15:27,  3.67s/it]\u001b[A"
     ]
    },
    {
     "name": "stdout",
     "output_type": "stream",
     "text": [
      "--- runtime for data initialization:\t\t0.0023796558380126953\n",
      "--- runtime for data transfer (host->device):\t0.0066509246826171875\n",
      "--- runtime for data preprocessing:\t\t0.002481222152709961\n",
      "--- runtime for kernel execution:\t\t0.008271217346191406\n",
      "--- runtime for data transfer (device->host):\t0.0050506591796875\n",
      "256 0 128 128\n"
     ]
    },
    {
     "name": "stderr",
     "output_type": "stream",
     "text": [
      "\n",
      "Processing blocks of tile::   2%|▏         | 4/256.0 [00:15<15:57,  3.80s/it]\u001b[A"
     ]
    },
    {
     "name": "stdout",
     "output_type": "stream",
     "text": [
      "--- runtime for data initialization:\t\t0.002285480499267578\n",
      "--- runtime for data transfer (host->device):\t0.006685495376586914\n",
      "--- runtime for data preprocessing:\t\t0.002473592758178711\n",
      "--- runtime for kernel execution:\t\t0.008274316787719727\n",
      "--- runtime for data transfer (device->host):\t0.005047798156738281\n",
      "384 0 128 128\n"
     ]
    },
    {
     "name": "stderr",
     "output_type": "stream",
     "text": [
      "\n",
      "Processing blocks of tile::   2%|▏         | 5/256.0 [00:19<16:01,  3.83s/it]\u001b[A"
     ]
    },
    {
     "name": "stdout",
     "output_type": "stream",
     "text": [
      "--- runtime for data initialization:\t\t0.0023186206817626953\n",
      "--- runtime for data transfer (host->device):\t0.006806612014770508\n",
      "--- runtime for data preprocessing:\t\t0.0024912357330322266\n",
      "--- runtime for kernel execution:\t\t0.008439064025878906\n",
      "--- runtime for data transfer (device->host):\t0.0050547122955322266\n",
      "512 0 128 128\n"
     ]
    },
    {
     "name": "stderr",
     "output_type": "stream",
     "text": [
      "\n",
      "Processing blocks of tile::   2%|▏         | 6/256.0 [00:23<16:10,  3.88s/it]\u001b[A"
     ]
    },
    {
     "name": "stdout",
     "output_type": "stream",
     "text": [
      "--- runtime for data initialization:\t\t0.002294778823852539\n",
      "--- runtime for data transfer (host->device):\t0.0067996978759765625\n",
      "--- runtime for data preprocessing:\t\t0.002476215362548828\n",
      "--- runtime for kernel execution:\t\t0.008233070373535156\n",
      "--- runtime for data transfer (device->host):\t0.005053520202636719\n",
      "640 0 128 128\n"
     ]
    },
    {
     "name": "stderr",
     "output_type": "stream",
     "text": [
      "\n",
      "Processing blocks of tile::   3%|▎         | 7/256.0 [00:26<16:06,  3.88s/it]\u001b[A"
     ]
    },
    {
     "name": "stdout",
     "output_type": "stream",
     "text": [
      "--- runtime for data initialization:\t\t0.0023009777069091797\n",
      "--- runtime for data transfer (host->device):\t0.006766796112060547\n",
      "--- runtime for data preprocessing:\t\t0.0024824142456054688\n",
      "--- runtime for kernel execution:\t\t0.008246660232543945\n",
      "--- runtime for data transfer (device->host):\t0.004920005798339844\n",
      "768 0 128 128\n"
     ]
    },
    {
     "name": "stderr",
     "output_type": "stream",
     "text": [
      "\n",
      "Processing blocks of tile::   3%|▎         | 8/256.0 [00:30<16:11,  3.92s/it]\u001b[A"
     ]
    },
    {
     "name": "stdout",
     "output_type": "stream",
     "text": [
      "--- runtime for data initialization:\t\t0.0023260116577148438\n",
      "--- runtime for data transfer (host->device):\t0.006770610809326172\n",
      "--- runtime for data preprocessing:\t\t0.0024785995483398438\n",
      "--- runtime for kernel execution:\t\t0.00844573974609375\n",
      "--- runtime for data transfer (device->host):\t0.004889965057373047\n",
      "896 0 128 128\n"
     ]
    },
    {
     "name": "stderr",
     "output_type": "stream",
     "text": [
      "\n",
      "Processing blocks of tile::   4%|▎         | 9/256.0 [00:34<16:03,  3.90s/it]\u001b[A"
     ]
    },
    {
     "name": "stdout",
     "output_type": "stream",
     "text": [
      "--- runtime for data initialization:\t\t0.0023889541625976562\n",
      "--- runtime for data transfer (host->device):\t0.0067844390869140625\n",
      "--- runtime for data preprocessing:\t\t0.002501249313354492\n",
      "--- runtime for kernel execution:\t\t0.008436918258666992\n",
      "--- runtime for data transfer (device->host):\t0.005059003829956055\n",
      "1024 0 128 128\n"
     ]
    },
    {
     "name": "stderr",
     "output_type": "stream",
     "text": [
      "\n",
      "Processing blocks of tile::   4%|▍         | 10/256.0 [00:38<16:12,  3.95s/it]\u001b[A"
     ]
    },
    {
     "name": "stdout",
     "output_type": "stream",
     "text": [
      "--- runtime for data initialization:\t\t0.002282857894897461\n",
      "--- runtime for data transfer (host->device):\t0.006682634353637695\n",
      "--- runtime for data preprocessing:\t\t0.002483367919921875\n",
      "--- runtime for kernel execution:\t\t0.008287191390991211\n",
      "--- runtime for data transfer (device->host):\t0.005043506622314453\n",
      "1152 0 128 128\n"
     ]
    },
    {
     "name": "stderr",
     "output_type": "stream",
     "text": [
      "\n",
      "Processing blocks of tile::   4%|▍         | 11/256.0 [00:42<16:10,  3.96s/it]\u001b[A"
     ]
    },
    {
     "name": "stdout",
     "output_type": "stream",
     "text": [
      "--- runtime for data initialization:\t\t0.0022754669189453125\n",
      "--- runtime for data transfer (host->device):\t0.006706953048706055\n",
      "--- runtime for data preprocessing:\t\t0.002469301223754883\n",
      "--- runtime for kernel execution:\t\t0.008284568786621094\n",
      "--- runtime for data transfer (device->host):\t0.005042076110839844\n",
      "1280 0 128 128\n"
     ]
    },
    {
     "name": "stderr",
     "output_type": "stream",
     "text": [
      "\n",
      "Processing blocks of tile::   5%|▍         | 12/256.0 [00:46<16:06,  3.96s/it]\u001b[A"
     ]
    },
    {
     "name": "stdout",
     "output_type": "stream",
     "text": [
      "--- runtime for data initialization:\t\t0.0022859573364257812\n",
      "--- runtime for data transfer (host->device):\t0.006702423095703125\n",
      "--- runtime for data preprocessing:\t\t0.0024881362915039062\n",
      "--- runtime for kernel execution:\t\t0.008274555206298828\n",
      "--- runtime for data transfer (device->host):\t0.005046844482421875\n",
      "1408 0 128 128\n"
     ]
    },
    {
     "name": "stderr",
     "output_type": "stream",
     "text": [
      "\n",
      "Processing blocks of tile::   5%|▌         | 13/256.0 [00:50<15:57,  3.94s/it]\u001b[A"
     ]
    },
    {
     "name": "stdout",
     "output_type": "stream",
     "text": [
      "--- runtime for data initialization:\t\t0.0023207664489746094\n",
      "--- runtime for data transfer (host->device):\t0.006729602813720703\n",
      "--- runtime for data preprocessing:\t\t0.0025014877319335938\n",
      "--- runtime for kernel execution:\t\t0.008424997329711914\n",
      "--- runtime for data transfer (device->host):\t0.0049250125885009766\n",
      "1536 0 128 128\n"
     ]
    },
    {
     "name": "stderr",
     "output_type": "stream",
     "text": [
      "\n",
      "Processing blocks of tile::   5%|▌         | 14/256.0 [00:54<15:57,  3.96s/it]\u001b[A"
     ]
    },
    {
     "name": "stdout",
     "output_type": "stream",
     "text": [
      "--- runtime for data initialization:\t\t0.0023298263549804688\n",
      "--- runtime for data transfer (host->device):\t0.006748676300048828\n",
      "--- runtime for data preprocessing:\t\t0.0024983882904052734\n",
      "--- runtime for kernel execution:\t\t0.008446455001831055\n",
      "--- runtime for data transfer (device->host):\t0.00493168830871582\n",
      "1664 0 128 128\n"
     ]
    },
    {
     "name": "stderr",
     "output_type": "stream",
     "text": [
      "\n",
      "Processing blocks of tile::   6%|▌         | 15/256.0 [00:58<15:49,  3.94s/it]\u001b[A"
     ]
    },
    {
     "name": "stdout",
     "output_type": "stream",
     "text": [
      "--- runtime for data initialization:\t\t0.002283334732055664\n",
      "--- runtime for data transfer (host->device):\t0.006753206253051758\n",
      "--- runtime for data preprocessing:\t\t0.0024666786193847656\n",
      "--- runtime for kernel execution:\t\t0.00842595100402832\n",
      "--- runtime for data transfer (device->host):\t0.004896640777587891\n",
      "1792 0 128 128\n"
     ]
    },
    {
     "name": "stderr",
     "output_type": "stream",
     "text": [
      "\n",
      "Processing blocks of tile::   6%|▋         | 16/256.0 [01:02<15:54,  3.98s/it]\u001b[A"
     ]
    },
    {
     "name": "stdout",
     "output_type": "stream",
     "text": [
      "--- runtime for data initialization:\t\t0.0023670196533203125\n",
      "--- runtime for data transfer (host->device):\t0.006737709045410156\n",
      "--- runtime for data preprocessing:\t\t0.0024597644805908203\n",
      "--- runtime for kernel execution:\t\t0.008443593978881836\n",
      "--- runtime for data transfer (device->host):\t0.004907369613647461\n",
      "1920 0 128 128\n"
     ]
    },
    {
     "name": "stderr",
     "output_type": "stream",
     "text": [
      "\n",
      "Processing blocks of tile::   7%|▋         | 17/256.0 [01:06<15:45,  3.95s/it]\u001b[A"
     ]
    },
    {
     "name": "stdout",
     "output_type": "stream",
     "text": [
      "--- runtime for data initialization:\t\t0.002315998077392578\n",
      "--- runtime for data transfer (host->device):\t0.006739377975463867\n",
      "--- runtime for data preprocessing:\t\t0.002477884292602539\n",
      "--- runtime for kernel execution:\t\t0.008441686630249023\n",
      "--- runtime for data transfer (device->host):\t0.004914045333862305\n",
      "0 128 128 128\n"
     ]
    },
    {
     "name": "stderr",
     "output_type": "stream",
     "text": [
      "\n",
      "Processing blocks of tile::   7%|▋         | 18/256.0 [01:10<15:35,  3.93s/it]\u001b[A"
     ]
    },
    {
     "name": "stdout",
     "output_type": "stream",
     "text": [
      "--- runtime for data initialization:\t\t0.0023047924041748047\n",
      "--- runtime for data transfer (host->device):\t0.006735324859619141\n",
      "--- runtime for data preprocessing:\t\t0.002511262893676758\n",
      "--- runtime for kernel execution:\t\t0.008403301239013672\n",
      "--- runtime for data transfer (device->host):\t0.005040645599365234\n",
      "128 128 128 128\n"
     ]
    },
    {
     "name": "stderr",
     "output_type": "stream",
     "text": [
      "\n",
      "Processing blocks of tile::   7%|▋         | 19/256.0 [01:14<15:29,  3.92s/it]\u001b[A"
     ]
    },
    {
     "name": "stdout",
     "output_type": "stream",
     "text": [
      "--- runtime for data initialization:\t\t0.0023543834686279297\n",
      "--- runtime for data transfer (host->device):\t0.006721973419189453\n",
      "--- runtime for data preprocessing:\t\t0.0024886131286621094\n",
      "--- runtime for kernel execution:\t\t0.00822758674621582\n",
      "--- runtime for data transfer (device->host):\t0.004913330078125\n",
      "256 128 128 128\n"
     ]
    },
    {
     "name": "stderr",
     "output_type": "stream",
     "text": [
      "\n",
      "Processing blocks of tile::   8%|▊         | 20/256.0 [01:18<15:19,  3.90s/it]\u001b[A"
     ]
    },
    {
     "name": "stdout",
     "output_type": "stream",
     "text": [
      "--- runtime for data initialization:\t\t0.0022945404052734375\n",
      "--- runtime for data transfer (host->device):\t0.0067255496978759766\n",
      "--- runtime for data preprocessing:\t\t0.0024716854095458984\n",
      "--- runtime for kernel execution:\t\t0.008278846740722656\n",
      "--- runtime for data transfer (device->host):\t0.005037069320678711\n",
      "384 128 128 128\n"
     ]
    },
    {
     "name": "stderr",
     "output_type": "stream",
     "text": [
      "\n",
      "Processing blocks of tile::   8%|▊         | 21/256.0 [01:22<15:15,  3.89s/it]\u001b[A"
     ]
    },
    {
     "name": "stdout",
     "output_type": "stream",
     "text": [
      "--- runtime for data initialization:\t\t0.002349376678466797\n",
      "--- runtime for data transfer (host->device):\t0.006788730621337891\n",
      "--- runtime for data preprocessing:\t\t0.002493143081665039\n",
      "--- runtime for kernel execution:\t\t0.008441686630249023\n",
      "--- runtime for data transfer (device->host):\t0.005056142807006836\n",
      "512 128 128 128\n"
     ]
    },
    {
     "name": "stderr",
     "output_type": "stream",
     "text": [
      "\n",
      "Processing blocks of tile::   9%|▊         | 22/256.0 [01:25<15:09,  3.89s/it]\u001b[A"
     ]
    },
    {
     "name": "stdout",
     "output_type": "stream",
     "text": [
      "--- runtime for data initialization:\t\t0.0023093223571777344\n",
      "--- runtime for data transfer (host->device):\t0.006715297698974609\n",
      "--- runtime for data preprocessing:\t\t0.0024864673614501953\n",
      "--- runtime for kernel execution:\t\t0.008463144302368164\n",
      "--- runtime for data transfer (device->host):\t0.004885673522949219\n",
      "640 128 128 128\n"
     ]
    },
    {
     "name": "stderr",
     "output_type": "stream",
     "text": [
      "\n",
      "Processing blocks of tile::   9%|▉         | 23/256.0 [01:29<15:09,  3.90s/it]\u001b[A"
     ]
    },
    {
     "name": "stdout",
     "output_type": "stream",
     "text": [
      "--- runtime for data initialization:\t\t0.002287149429321289\n",
      "--- runtime for data transfer (host->device):\t0.006759166717529297\n",
      "--- runtime for data preprocessing:\t\t0.0024878978729248047\n",
      "--- runtime for kernel execution:\t\t0.008243560791015625\n",
      "--- runtime for data transfer (device->host):\t0.005060672760009766\n",
      "768 128 128 128\n"
     ]
    },
    {
     "name": "stderr",
     "output_type": "stream",
     "text": [
      "\n",
      "Processing blocks of tile::   9%|▉         | 24/256.0 [01:33<15:07,  3.91s/it]\u001b[A"
     ]
    },
    {
     "name": "stdout",
     "output_type": "stream",
     "text": [
      "--- runtime for data initialization:\t\t0.0023660659790039062\n",
      "--- runtime for data transfer (host->device):\t0.006683349609375\n",
      "--- runtime for data preprocessing:\t\t0.0025107860565185547\n",
      "--- runtime for kernel execution:\t\t0.008406877517700195\n",
      "--- runtime for data transfer (device->host):\t0.005047798156738281\n",
      "896 128 128 128\n"
     ]
    },
    {
     "name": "stderr",
     "output_type": "stream",
     "text": [
      "\n",
      "Processing blocks of tile::  10%|▉         | 25/256.0 [01:37<15:15,  3.96s/it]\u001b[A"
     ]
    },
    {
     "name": "stdout",
     "output_type": "stream",
     "text": [
      "--- runtime for data initialization:\t\t0.0023097991943359375\n",
      "--- runtime for data transfer (host->device):\t0.006720304489135742\n",
      "--- runtime for data preprocessing:\t\t0.002477407455444336\n",
      "--- runtime for kernel execution:\t\t0.008461952209472656\n",
      "--- runtime for data transfer (device->host):\t0.0050601959228515625\n",
      "1024 128 128 128\n"
     ]
    },
    {
     "name": "stderr",
     "output_type": "stream",
     "text": [
      "\n",
      "Processing blocks of tile::  10%|█         | 26/256.0 [01:41<15:05,  3.94s/it]\u001b[A"
     ]
    },
    {
     "name": "stdout",
     "output_type": "stream",
     "text": [
      "--- runtime for data initialization:\t\t0.0023648738861083984\n",
      "--- runtime for data transfer (host->device):\t0.006669044494628906\n",
      "--- runtime for data preprocessing:\t\t0.0024595260620117188\n",
      "--- runtime for kernel execution:\t\t0.008300065994262695\n",
      "--- runtime for data transfer (device->host):\t0.005033254623413086\n",
      "1152 128 128 128\n"
     ]
    },
    {
     "name": "stderr",
     "output_type": "stream",
     "text": [
      "\n",
      "Processing blocks of tile::  11%|█         | 27/256.0 [01:45<14:59,  3.93s/it]\u001b[A"
     ]
    },
    {
     "name": "stdout",
     "output_type": "stream",
     "text": [
      "--- runtime for data initialization:\t\t0.0023641586303710938\n",
      "--- runtime for data transfer (host->device):\t0.0066721439361572266\n",
      "--- runtime for data preprocessing:\t\t0.002477884292602539\n",
      "--- runtime for kernel execution:\t\t0.008301973342895508\n",
      "--- runtime for data transfer (device->host):\t0.005021333694458008\n",
      "1280 128 128 128\n"
     ]
    },
    {
     "name": "stderr",
     "output_type": "stream",
     "text": [
      "\n",
      "Processing blocks of tile::  11%|█         | 28/256.0 [01:49<14:53,  3.92s/it]\u001b[A"
     ]
    },
    {
     "name": "stdout",
     "output_type": "stream",
     "text": [
      "--- runtime for data initialization:\t\t0.0023260116577148438\n",
      "--- runtime for data transfer (host->device):\t0.006696939468383789\n",
      "--- runtime for data preprocessing:\t\t0.0024771690368652344\n",
      "--- runtime for kernel execution:\t\t0.00844430923461914\n",
      "--- runtime for data transfer (device->host):\t0.0048983097076416016\n",
      "1408 128 128 128\n"
     ]
    },
    {
     "name": "stderr",
     "output_type": "stream",
     "text": [
      "\n",
      "Processing blocks of tile::  11%|█▏        | 29/256.0 [01:53<14:47,  3.91s/it]\u001b[A"
     ]
    },
    {
     "name": "stdout",
     "output_type": "stream",
     "text": [
      "--- runtime for data initialization:\t\t0.0022954940795898438\n",
      "--- runtime for data transfer (host->device):\t0.006719350814819336\n",
      "--- runtime for data preprocessing:\t\t0.002471446990966797\n",
      "--- runtime for kernel execution:\t\t0.00825357437133789\n",
      "--- runtime for data transfer (device->host):\t0.004892587661743164\n",
      "1536 128 128 128\n"
     ]
    },
    {
     "name": "stderr",
     "output_type": "stream",
     "text": [
      "\n",
      "Processing blocks of tile::  12%|█▏        | 30/256.0 [01:57<14:44,  3.92s/it]\u001b[A"
     ]
    },
    {
     "name": "stdout",
     "output_type": "stream",
     "text": [
      "--- runtime for data initialization:\t\t0.0023369789123535156\n",
      "--- runtime for data transfer (host->device):\t0.0067462921142578125\n",
      "--- runtime for data preprocessing:\t\t0.0025014877319335938\n",
      "--- runtime for kernel execution:\t\t0.008296728134155273\n",
      "--- runtime for data transfer (device->host):\t0.005044221878051758\n",
      "1664 128 128 128\n"
     ]
    },
    {
     "name": "stderr",
     "output_type": "stream",
     "text": [
      "Processing blocks of tile::  12%|█▏        | 30/256.0 [02:00<15:10,  4.03s/it]\n",
      "Processing tile 1 out of 9:   0%|          | 0/9 [18:41<?, ?it/s]\n"
     ]
    },
    {
     "ename": "KeyboardInterrupt",
     "evalue": "",
     "output_type": "error",
     "traceback": [
      "\u001b[0;31m---------------------------------------------------------------------------\u001b[0m",
      "\u001b[0;31mKeyboardInterrupt\u001b[0m                         Traceback (most recent call last)",
      "\u001b[0;32m<ipython-input-136-b4c536c300ac>\u001b[0m in \u001b[0;36m<module>\u001b[0;34m\u001b[0m\n\u001b[1;32m      5\u001b[0m         \u001b[0mpbar1\u001b[0m\u001b[0;34m.\u001b[0m\u001b[0mset_description\u001b[0m\u001b[0;34m(\u001b[0m\u001b[0;34m\"Processing tile %s out of %s\"\u001b[0m \u001b[0;34m%\u001b[0m \u001b[0;34m(\u001b[0m\u001b[0mcounter\u001b[0m\u001b[0;34m,\u001b[0m \u001b[0mlen\u001b[0m\u001b[0;34m(\u001b[0m\u001b[0mdata_list\u001b[0m\u001b[0;34m)\u001b[0m\u001b[0;34m)\u001b[0m \u001b[0;34m)\u001b[0m\u001b[0;34m\u001b[0m\u001b[0;34m\u001b[0m\u001b[0m\n\u001b[1;32m      6\u001b[0m         \u001b[0mts_data\u001b[0m\u001b[0;34m.\u001b[0m\u001b[0mset_bfast_parameters\u001b[0m\u001b[0;34m(\u001b[0m\u001b[0mstart_monitor\u001b[0m\u001b[0;34m,\u001b[0m\u001b[0mend_monitor\u001b[0m\u001b[0;34m,\u001b[0m\u001b[0mstart_hist\u001b[0m\u001b[0;34m,\u001b[0m\u001b[0mfreq\u001b[0m\u001b[0;34m,\u001b[0m\u001b[0mk\u001b[0m\u001b[0;34m,\u001b[0m\u001b[0mhfrac\u001b[0m\u001b[0;34m,\u001b[0m\u001b[0mtrend\u001b[0m\u001b[0;34m,\u001b[0m\u001b[0mlevel\u001b[0m\u001b[0;34m,\u001b[0m\u001b[0mbackend\u001b[0m\u001b[0;34m=\u001b[0m\u001b[0mbackend\u001b[0m\u001b[0;34m,\u001b[0m\u001b[0mverbose\u001b[0m\u001b[0;34m=\u001b[0m\u001b[0mverbose\u001b[0m\u001b[0;34m,\u001b[0m\u001b[0mdevice_id\u001b[0m\u001b[0;34m=\u001b[0m\u001b[0mdevice_id\u001b[0m\u001b[0;34m)\u001b[0m\u001b[0;34m\u001b[0m\u001b[0;34m\u001b[0m\u001b[0m\n\u001b[0;32m----> 7\u001b[0;31m         \u001b[0mts_data\u001b[0m\u001b[0;34m.\u001b[0m\u001b[0mloop_blocks\u001b[0m\u001b[0;34m(\u001b[0m\u001b[0;34m)\u001b[0m\u001b[0;34m\u001b[0m\u001b[0;34m\u001b[0m\u001b[0m\n\u001b[0m\u001b[1;32m      8\u001b[0m         \u001b[0mts_data\u001b[0m\u001b[0;34m.\u001b[0m\u001b[0mget_bfast_parameters\u001b[0m\u001b[0;34m(\u001b[0m\u001b[0;34m)\u001b[0m\u001b[0;34m\u001b[0m\u001b[0;34m\u001b[0m\u001b[0m\n\u001b[1;32m      9\u001b[0m         \u001b[0mts_data\u001b[0m\u001b[0;34m.\u001b[0m\u001b[0mlog_output_to_txt\u001b[0m\u001b[0;34m(\u001b[0m\u001b[0;34m)\u001b[0m\u001b[0;34m\u001b[0m\u001b[0;34m\u001b[0m\u001b[0m\n",
      "\u001b[0;32m<ipython-input-129-ee297d43a8a7>\u001b[0m in \u001b[0;36mloop_blocks\u001b[0;34m(self)\u001b[0m\n\u001b[1;32m    138\u001b[0m                     \u001b[0;31m# after that add to array\u001b[0m\u001b[0;34m\u001b[0m\u001b[0;34m\u001b[0m\u001b[0;34m\u001b[0m\u001b[0m\n\u001b[1;32m    139\u001b[0m                     \u001b[0;32melse\u001b[0m\u001b[0;34m:\u001b[0m\u001b[0;34m\u001b[0m\u001b[0;34m\u001b[0m\u001b[0m\n\u001b[0;32m--> 140\u001b[0;31m                         \u001b[0mdata\u001b[0m \u001b[0;34m=\u001b[0m \u001b[0mself\u001b[0m\u001b[0;34m.\u001b[0m\u001b[0mtime_series\u001b[0m\u001b[0;34m.\u001b[0m\u001b[0mReadAsArray\u001b[0m\u001b[0;34m(\u001b[0m\u001b[0mj\u001b[0m\u001b[0;34m,\u001b[0m \u001b[0mi\u001b[0m\u001b[0;34m,\u001b[0m \u001b[0mcols\u001b[0m\u001b[0;34m,\u001b[0m \u001b[0mrows\u001b[0m\u001b[0;34m)\u001b[0m\u001b[0;34m.\u001b[0m\u001b[0mastype\u001b[0m\u001b[0;34m(\u001b[0m\u001b[0mnp\u001b[0m\u001b[0;34m.\u001b[0m\u001b[0mint16\u001b[0m\u001b[0;34m)\u001b[0m\u001b[0;34m\u001b[0m\u001b[0;34m\u001b[0m\u001b[0m\n\u001b[0m\u001b[1;32m    141\u001b[0m \u001b[0;34m\u001b[0m\u001b[0m\n\u001b[1;32m    142\u001b[0m                         \u001b[0mbreaks\u001b[0m\u001b[0;34m,\u001b[0m\u001b[0mmeans\u001b[0m \u001b[0;34m=\u001b[0m \u001b[0mself\u001b[0m\u001b[0;34m.\u001b[0m\u001b[0mrun_bfast\u001b[0m\u001b[0;34m(\u001b[0m\u001b[0mdata\u001b[0m\u001b[0;34m)\u001b[0m\u001b[0;34m\u001b[0m\u001b[0;34m\u001b[0m\u001b[0m\n",
      "\u001b[0;32m/usr/lib/python3/dist-packages/osgeo/gdal.py\u001b[0m in \u001b[0;36mReadAsArray\u001b[0;34m(self, xoff, yoff, xsize, ysize, buf_obj, buf_xsize, buf_ysize, buf_type, resample_alg, callback, callback_data, interleave)\u001b[0m\n\u001b[1;32m   2284\u001b[0m                                               \u001b[0mcallback\u001b[0m\u001b[0;34m=\u001b[0m\u001b[0mcallback\u001b[0m\u001b[0;34m,\u001b[0m\u001b[0;34m\u001b[0m\u001b[0;34m\u001b[0m\u001b[0m\n\u001b[1;32m   2285\u001b[0m                                               \u001b[0mcallback_data\u001b[0m\u001b[0;34m=\u001b[0m\u001b[0mcallback_data\u001b[0m\u001b[0;34m,\u001b[0m\u001b[0;34m\u001b[0m\u001b[0;34m\u001b[0m\u001b[0m\n\u001b[0;32m-> 2286\u001b[0;31m                                               interleave=interleave )\n\u001b[0m\u001b[1;32m   2287\u001b[0m \u001b[0;34m\u001b[0m\u001b[0m\n\u001b[1;32m   2288\u001b[0m     def WriteRaster(self, xoff, yoff, xsize, ysize,\n",
      "\u001b[0;32m/usr/lib/python3/dist-packages/osgeo/gdal_array.py\u001b[0m in \u001b[0;36mDatasetReadAsArray\u001b[0;34m(ds, xoff, yoff, win_xsize, win_ysize, buf_obj, buf_xsize, buf_ysize, buf_type, resample_alg, callback, callback_data, interleave)\u001b[0m\n\u001b[1;32m    338\u001b[0m \u001b[0;34m\u001b[0m\u001b[0m\n\u001b[1;32m    339\u001b[0m     if DatasetIONumPy(ds, 0, xoff, yoff, win_xsize, win_ysize,\n\u001b[0;32m--> 340\u001b[0;31m                       buf_obj, buf_type, resample_alg, callback, callback_data, interleave) != 0:\n\u001b[0m\u001b[1;32m    341\u001b[0m         \u001b[0m_RaiseException\u001b[0m\u001b[0;34m(\u001b[0m\u001b[0;34m)\u001b[0m\u001b[0;34m\u001b[0m\u001b[0;34m\u001b[0m\u001b[0m\n\u001b[1;32m    342\u001b[0m         \u001b[0;32mreturn\u001b[0m \u001b[0;32mNone\u001b[0m\u001b[0;34m\u001b[0m\u001b[0;34m\u001b[0m\u001b[0m\n",
      "\u001b[0;32m/usr/lib/python3/dist-packages/osgeo/gdal_array.py\u001b[0m in \u001b[0;36mDatasetIONumPy\u001b[0;34m(ds, bWrite, xoff, yoff, xsize, ysize, psArray, buf_type, resample_alg, callback, callback_data, binterleave)\u001b[0m\n\u001b[1;32m    152\u001b[0m \u001b[0;32mdef\u001b[0m \u001b[0mDatasetIONumPy\u001b[0m\u001b[0;34m(\u001b[0m\u001b[0mds\u001b[0m\u001b[0;34m,\u001b[0m \u001b[0mbWrite\u001b[0m\u001b[0;34m,\u001b[0m \u001b[0mxoff\u001b[0m\u001b[0;34m,\u001b[0m \u001b[0myoff\u001b[0m\u001b[0;34m,\u001b[0m \u001b[0mxsize\u001b[0m\u001b[0;34m,\u001b[0m \u001b[0mysize\u001b[0m\u001b[0;34m,\u001b[0m \u001b[0mpsArray\u001b[0m\u001b[0;34m,\u001b[0m \u001b[0mbuf_type\u001b[0m\u001b[0;34m,\u001b[0m \u001b[0mresample_alg\u001b[0m\u001b[0;34m,\u001b[0m \u001b[0mcallback\u001b[0m\u001b[0;34m=\u001b[0m\u001b[0;36m0\u001b[0m\u001b[0;34m,\u001b[0m \u001b[0mcallback_data\u001b[0m\u001b[0;34m=\u001b[0m\u001b[0;32mNone\u001b[0m\u001b[0;34m,\u001b[0m \u001b[0mbinterleave\u001b[0m\u001b[0;34m=\u001b[0m\u001b[0;32mTrue\u001b[0m\u001b[0;34m)\u001b[0m\u001b[0;34m:\u001b[0m\u001b[0;34m\u001b[0m\u001b[0;34m\u001b[0m\u001b[0m\n\u001b[1;32m    153\u001b[0m     \u001b[0;34m\"\"\"DatasetIONumPy(Dataset ds, int bWrite, int xoff, int yoff, int xsize, int ysize, PyArrayObject * psArray, int buf_type, GDALRIOResampleAlg resample_alg, GDALProgressFunc callback=0, void * callback_data=None, bool binterleave=True) -> CPLErr\"\"\"\u001b[0m\u001b[0;34m\u001b[0m\u001b[0;34m\u001b[0m\u001b[0m\n\u001b[0;32m--> 154\u001b[0;31m     \u001b[0;32mreturn\u001b[0m \u001b[0m_gdal_array\u001b[0m\u001b[0;34m.\u001b[0m\u001b[0mDatasetIONumPy\u001b[0m\u001b[0;34m(\u001b[0m\u001b[0mds\u001b[0m\u001b[0;34m,\u001b[0m \u001b[0mbWrite\u001b[0m\u001b[0;34m,\u001b[0m \u001b[0mxoff\u001b[0m\u001b[0;34m,\u001b[0m \u001b[0myoff\u001b[0m\u001b[0;34m,\u001b[0m \u001b[0mxsize\u001b[0m\u001b[0;34m,\u001b[0m \u001b[0mysize\u001b[0m\u001b[0;34m,\u001b[0m \u001b[0mpsArray\u001b[0m\u001b[0;34m,\u001b[0m \u001b[0mbuf_type\u001b[0m\u001b[0;34m,\u001b[0m \u001b[0mresample_alg\u001b[0m\u001b[0;34m,\u001b[0m \u001b[0mcallback\u001b[0m\u001b[0;34m,\u001b[0m \u001b[0mcallback_data\u001b[0m\u001b[0;34m,\u001b[0m \u001b[0mbinterleave\u001b[0m\u001b[0;34m)\u001b[0m\u001b[0;34m\u001b[0m\u001b[0;34m\u001b[0m\u001b[0m\n\u001b[0m\u001b[1;32m    155\u001b[0m \u001b[0;34m\u001b[0m\u001b[0m\n\u001b[1;32m    156\u001b[0m \u001b[0;32mdef\u001b[0m \u001b[0mVirtualMemGetArray\u001b[0m\u001b[0;34m(\u001b[0m\u001b[0mvirtualmem\u001b[0m\u001b[0;34m)\u001b[0m\u001b[0;34m:\u001b[0m\u001b[0;34m\u001b[0m\u001b[0;34m\u001b[0m\u001b[0m\n",
      "\u001b[0;31mKeyboardInterrupt\u001b[0m: "
     ]
    }
   ],
   "source": [
    "from tqdm import tqdm\n",
    "with tqdm(total=len(data_list)) as pbar1:\n",
    "    pbar1.set_description(\"Processing tile %s out of %s\" % (counter, len(data_list)) )\n",
    "        \n",
    "    for counter, ts_data in enumerate(data_list):\n",
    "        ts_data.set_bfast_parameters(start_monitor,end_monitor,start_hist,freq,k,hfrac,trend,level,backend=backend,verbose=verbose,device_id=device_id)\n",
    "        ts_data.loop_blocks()\n",
    "        ts_data.get_bfast_parameters()\n",
    "        ts_data.log_output_to_txt()\n",
    "        pbar1.update(counter)\n",
    "pbar.close()\n",
    "# ts_data.set_bfast_parameters(start_monitor,end_monitor,start_hist,freq,k,hfrac,trend,level,backend,verbose,device_id)\n",
    "# print(ts_data.start_monitor)\n",
    "\n",
    "# ts_data.get_bfast_parameters()"
   ]
  },
  {
   "cell_type": "code",
   "execution_count": null,
   "metadata": {},
   "outputs": [],
   "source": [
    "# So this is for merging tiles back together, it seems to work... but need to know for sure.. \n",
    "# since it does not work in one direction, this one should be correct?\n",
    "\n",
    "x_locs = []\n",
    "y_locs = []\n",
    "for tile in data_list:\n",
    "    loc_index = tile.dir.find(\"tile-\")\n",
    "    tile_loc = tile.dir[loc_index+5:-1].split(\"-\")\n",
    "    \n",
    "    if tile_loc[0] not in x_locs:\n",
    "        x_locs.append(tile_loc[0])\n",
    "    if tile_loc[1] not in y_locs:\n",
    "        y_locs.append(tile_loc[1])\n",
    "\n",
    "firstx=True\n",
    "for tile in data_list:\n",
    "    for x in x_locs:\n",
    "        firsty = True\n",
    "        \n",
    "        for y in y_locs:\n",
    "            if firsty == True:\n",
    "                means_array = tile.means_array\n",
    "                breaks_array = tile.breaks_array\n",
    "                firsty = False\n",
    "            else:\n",
    "                con_means_array = np.concatenate((means_array,tile.means_array), axis = 0)\n",
    "                con_breaks_array = np.concatenate((breaks_array,tile.breaks_array), axis = 0)\n",
    "                \n",
    "    if firstx==True:\n",
    "        big_means_array = con_means_array\n",
    "        big_breaks_array = con_breaks_array     \n",
    "        firstx=False\n",
    "    else:\n",
    "        big_means_array = np.concatenate((big_means_array, con_means_array),axis = 1)\n",
    "        big_breaks_array = np.concatenate((big_breaks_array, con_breaks_array),axis = 1)\n",
    "        \n",
    "\n",
    "#np.concatenate((tile0_0.means_array,tile2048_2048.means_array),axis = 0)\n",
    "print(x_locs)\n",
    "print(y_locs)\n",
    "\n",
    "\n",
    "\n",
    "\n",
    "\n",
    "\n",
    "\n",
    "\n",
    "\n",
    "# for tile in data_list:\n",
    "#     # regex for the word tile:\n",
    "#     # then call the numbers col and row\n",
    "#     # then first loop over cols, then over rows\n",
    "#     print(tile.dir)\n",
    "#     namelist.append(tile.dir)\n",
    "# tile0_0.\n",
    "#print(namelist.sort())"
   ]
  },
  {
   "cell_type": "markdown",
   "metadata": {},
   "source": [
    "## Run bfastmonitor() The loop_blocks code runs over smaller blocks, that may be set based on ram space or user itself..?\n"
   ]
  },
  {
   "cell_type": "markdown",
   "metadata": {},
   "source": [
    "# Select negative magnitudes"
   ]
  },
  {
   "cell_type": "code",
   "execution_count": 132,
   "metadata": {
    "scrolled": true
   },
   "outputs": [],
   "source": [
    "breaks = ts_data.breaks_array\n",
    "means = ts_data.means_array\n",
    "means = big_means_array\n",
    "breaks = big_breaks_array\n",
    "\n",
    "\n",
    "plt.imshow(means)\n",
    "plt.show()\n",
    "\n",
    "plt.imshow(breaks)\n",
    "plt.show()\n"
   ]
  },
  {
   "cell_type": "code",
   "execution_count": 133,
   "metadata": {},
   "outputs": [],
   "source": [
    "# import seaborn as sns\n",
    "\n",
    "# select only negative magnitudes\n",
    "no_breaks_indices = (breaks == -1)\n",
    "means[no_breaks_indices] = 0\n",
    "means[means > 0] = 0 # only want negative mean changes\n",
    "\n",
    "breaks_plot = breaks.astype(np.float)\n",
    "breaks_plot[breaks == -2] = np.nan\n",
    "breaks_plot[breaks == -1] = np.nan\n",
    "breaks_plot[means >= 0] = np.nan\n",
    "\n",
    "# print(\"magnitude change heatmap\")\n",
    "# sns.heatmap(orig_means,  linewidths=1)\n"
   ]
  },
  {
   "cell_type": "code",
   "execution_count": 134,
   "metadata": {},
   "outputs": [],
   "source": [
    "dates_monitor = []\n",
    "dates = ts_data.dates\n",
    "# collect dates for monitor period\n",
    "for i in range(len(dates)):\n",
    "    if start_monitor <= dates[i]:\n",
    "        dates_monitor.append(dates[i])\n",
    "dates_array = np.array(dates_monitor) # dates_array is the dates that are in the monitoring period\n"
   ]
  },
  {
   "cell_type": "markdown",
   "metadata": {},
   "source": [
    "# Classify output for plotting"
   ]
  },
  {
   "cell_type": "code",
   "execution_count": 135,
   "metadata": {},
   "outputs": [],
   "source": [
    "idx_starts = {}\n",
    "\n",
    "# this gives the index of all the data points in the year and after\n",
    "for year in range(start_monitor.year,end_monitor.year+1):\n",
    "    idx_starts[year] = np.argmax((dates_array >= datetime(year, 1, 1)) > False) \n",
    "\n",
    "    breaks_plot_years = copy.deepcopy(breaks_plot)\n",
    "\n",
    "#classifying for plotting\n",
    "ticklist=[]\n",
    "for idx, year in enumerate(idx_starts):\n",
    "    ticklist.append(str(year))\n",
    "    \n",
    "    # if we're at the last year\n",
    "    if idx == len(idx_starts)-1:\n",
    "        breaks_plot_years[np.where(idx_starts[year] < breaks_plot)] = len(idx_starts)-1 \n",
    "        continue\n",
    "    \n",
    "    # if we're at the first year\n",
    "    if idx == 0:\n",
    "        breaks_plot_years[breaks_plot <= idx_starts[year+1]] = 0\n",
    "        continue\n",
    "    \n",
    "    # all other years in between\n",
    "    breaks_plot_years[np.where(np.logical_and(idx_starts[year] < breaks_plot, breaks_plot <= idx_starts[year+1]))] = idx\n",
    "    "
   ]
  },
  {
   "cell_type": "markdown",
   "metadata": {},
   "source": [
    "# Plot output"
   ]
  },
  {
   "cell_type": "code",
   "execution_count": 143,
   "metadata": {},
   "outputs": [
    {
     "data": {
      "text/plain": [
       "<Figure size 1600x1200 with 0 Axes>"
      ]
     },
     "metadata": {},
     "output_type": "display_data"
    },
    {
     "data": {
      "image/png": "[encoded data removed]",
      "text/plain": [
       "<Figure size 720x720 with 2 Axes>"
      ]
     },
     "metadata": {
      "needs_background": "light"
     },
     "output_type": "display_data"
    }
   ],
   "source": [
    "bins = len(idx_starts)\n",
    "# from matplotlib.pyplot import figure\n",
    "# figure(num=None, figsize=(20, 15), dpi=80, facecolor='w', edgecolor='k')\n",
    "\n",
    "cmap = plt.get_cmap(\"rainbow\")\n",
    "cmaplist = [cmap(i) for i in range(cmap.N)]\n",
    "cmap = cmap.from_list('Custom cmap', cmaplist, cmap.N)\n",
    "\n",
    "bounds = np.linspace(0, bins-1, bins) #third number is the amount of bins in the colorbar 0=0, 6 = ncolors, 7= nyears\n",
    "norm = matplotlib.colors.BoundaryNorm(bounds, cmap.N)\n",
    "\n",
    "fig, axes = plt.subplots(nrows=1, ncols=1, figsize=(10, 10))\n",
    "\n",
    "#norm doesn't work with bins = 2 or less... now the colorbar is ugly, fix it later\n",
    "\n",
    "if bins == 1:\n",
    "    im = axes.imshow(breaks_plot_years,cmap=cmap,vmin=0,vmax=bins)\n",
    "if bins == 2:\n",
    "    im = axes.imshow(breaks_plot_years,cmap=cmap,vmin=0,vmax=bins)\n",
    "else:\n",
    "    im = axes.imshow(breaks_plot_years, cmap=cmap, vmin=0, vmax=bins, norm=norm)\n",
    "\n",
    "fig.subplots_adjust(right=0.8)\n",
    "cbar_ax = fig.add_axes([0.85, 0.15, 0.05, 0.7])\n",
    "fig.colorbar(im, cax=cbar_ax, ticks=range(bins))\n",
    "labels = cbar_ax.set_yticklabels(ticklist)\n",
    "\n",
    "plt.savefig(\"./output/picture.png\")\n",
    "plt.show()\n",
    "\n"
   ]
  },
  {
   "cell_type": "markdown",
   "metadata": {},
   "source": [
    "print(bounds)"
   ]
  },
  {
   "cell_type": "code",
   "execution_count": 175,
   "metadata": {},
   "outputs": [
    {
     "name": "stdout",
     "output_type": "stream",
     "text": [
      "[0. 1.]\n"
     ]
    }
   ],
   "source": [
    "print(bounds)"
   ]
  },
  {
   "cell_type": "code",
   "execution_count": null,
   "metadata": {},
   "outputs": [],
   "source": [
    "# #this doesn't work yet\n",
    "\n",
    "# output_raster = gdal.GetDriverByName('GTiff').Create('myraster.tif',cols, rows, 1 ,gdal.GDT_Float32)  # Open the file\n",
    "\n",
    "# output_raster.SetGeoTransform(geotransform)  # Specify its coordinates\n",
    "# srs = osr.SpatialReference()                 # Establish its coordinate encoding\n",
    "# srs.ImportFromEPSG(4326)                     # This one specifies WGS84 lat long.\n",
    "#                                              # Anyone know how to specify the \n",
    "#                                              # IAU2000:49900 Mars encoding?\n",
    "# output_raster.SetProjection( srs.ExportToWkt() )   # Exports the coordinate system \n",
    "#                                                    # to the file\n",
    "# output_raster.GetRasterBand(1).WriteArray(breaks_plot_years)   # Writes my array to the raster\n",
    "\n",
    "# output_raster.FlushCache()\n",
    "\n",
    "# output_raster"
   ]
  },
  {
   "cell_type": "code",
   "execution_count": 121,
   "metadata": {},
   "outputs": [
    {
     "name": "stdout",
     "output_type": "stream",
     "text": [
      "[[nan nan nan ... nan nan nan]\n",
      " [nan nan nan ... nan nan nan]\n",
      " [nan nan nan ... nan nan nan]\n",
      " ...\n",
      " [nan nan nan ... nan nan nan]\n",
      " [nan nan nan ... nan nan nan]\n",
      " [nan nan nan ... nan nan nan]]\n",
      "[[nan nan nan ... nan nan nan]\n",
      " [nan nan nan ... nan nan nan]\n",
      " [nan nan nan ... nan nan nan]\n",
      " ...\n",
      " [nan nan nan ... nan nan nan]\n",
      " [nan nan nan ... nan nan nan]\n",
      " [nan nan nan ... nan nan nan]]\n"
     ]
    }
   ],
   "source": [
    "print(breaks_plot_years)\n",
    "breaks_plot_years_norm = 1/(breaks_plot_years + 0.01)\n",
    "print(breaks_plot_years_norm)"
   ]
  },
  {
   "cell_type": "code",
   "execution_count": 122,
   "metadata": {},
   "outputs": [],
   "source": [
    "#cmap = plt.get_cmap(\"Oranges\")\n",
    "\n",
    "#cmaplist = [cmap(i) for i in range(cmap.N)]\n",
    "\n",
    "#cmap = cmap.from_list('Custom cmap', cmaplist, cmap.N)\n",
    "\n",
    "from matplotlib import cm\n",
    "from matplotlib.colors import ListedColormap, LinearSegmentedColormap\n",
    "\n",
    "# viridis = cm.get_cmap('viridis', 12)\n",
    "# print(viridis)\n",
    "# print(viridis(0.56))\n",
    "\n",
    "viridis = cm.get_cmap('rainbow', 256)\n",
    "newcolors = viridis(np.linspace(0, 1, 256))\n",
    "pink = np.array([248/256, 24/256, 148/256, 0])\n",
    "newcolors[:1, :] = pink\n",
    "newcmp = ListedColormap(newcolors)"
   ]
  },
  {
   "cell_type": "code",
   "execution_count": 182,
   "metadata": {},
   "outputs": [
    {
     "ename": "NameError",
     "evalue": "name 'latitude' is not defined",
     "output_type": "error",
     "traceback": [
      "\u001b[0;31m---------------------------------------------------------------------------\u001b[0m",
      "\u001b[0;31mNameError\u001b[0m                                 Traceback (most recent call last)",
      "\u001b[0;32m<ipython-input-182-f35afe9be848>\u001b[0m in \u001b[0;36m<module>\u001b[0;34m\u001b[0m\n\u001b[0;32m----> 1\u001b[0;31m \u001b[0mprint\u001b[0m\u001b[0;34m(\u001b[0m\u001b[0mlatitude\u001b[0m\u001b[0;34m)\u001b[0m\u001b[0;34m\u001b[0m\u001b[0;34m\u001b[0m\u001b[0m\n\u001b[0m\u001b[1;32m      2\u001b[0m \u001b[0mprint\u001b[0m\u001b[0;34m(\u001b[0m\u001b[0mxpixelsize\u001b[0m\u001b[0;34m)\u001b[0m\u001b[0;34m\u001b[0m\u001b[0;34m\u001b[0m\u001b[0m\n\u001b[1;32m      3\u001b[0m \u001b[0mprint\u001b[0m\u001b[0;34m(\u001b[0m\u001b[0mcols\u001b[0m\u001b[0;34m)\u001b[0m\u001b[0;34m\u001b[0m\u001b[0;34m\u001b[0m\u001b[0m\n\u001b[1;32m      4\u001b[0m \u001b[0mprint\u001b[0m\u001b[0;34m(\u001b[0m\u001b[0mlongitude\u001b[0m\u001b[0;34m)\u001b[0m\u001b[0;34m\u001b[0m\u001b[0;34m\u001b[0m\u001b[0m\n\u001b[1;32m      5\u001b[0m \u001b[0mprint\u001b[0m\u001b[0;34m(\u001b[0m\u001b[0mypixelsize\u001b[0m\u001b[0;34m)\u001b[0m\u001b[0;34m\u001b[0m\u001b[0;34m\u001b[0m\u001b[0m\n",
      "\u001b[0;31mNameError\u001b[0m: name 'latitude' is not defined"
     ]
    }
   ],
   "source": [
    "print(latitude)\n",
    "print(xpixelsize)\n",
    "print(cols)\n",
    "print(longitude)\n",
    "print(ypixelsize)\n",
    "print(rows)"
   ]
  },
  {
   "cell_type": "code",
   "execution_count": 183,
   "metadata": {},
   "outputs": [
    {
     "name": "stdout",
     "output_type": "stream",
     "text": [
      "40.701497713586164\n",
      "-8.420088821109099\n"
     ]
    }
   ],
   "source": [
    "print(ts_data.latitude)\n",
    "print(ts_data.longitude)"
   ]
  },
  {
   "cell_type": "code",
   "execution_count": 123,
   "metadata": {},
   "outputs": [
    {
     "ename": "KeyboardInterrupt",
     "evalue": "",
     "output_type": "error",
     "traceback": [
      "\u001b[0;31m---------------------------------------------------------------------------\u001b[0m",
      "\u001b[0;31mKeyboardInterrupt\u001b[0m                         Traceback (most recent call last)",
      "\u001b[0;32m<ipython-input-123-462aac3b8bc9>\u001b[0m in \u001b[0;36m<module>\u001b[0;34m\u001b[0m\n\u001b[1;32m     22\u001b[0m     \u001b[0mimage\u001b[0m\u001b[0;34m=\u001b[0m\u001b[0mbreaks_plot_years_norm\u001b[0m\u001b[0;34m,\u001b[0m\u001b[0;34m\u001b[0m\u001b[0;34m\u001b[0m\u001b[0m\n\u001b[1;32m     23\u001b[0m     \u001b[0mbounds\u001b[0m\u001b[0;34m=\u001b[0m\u001b[0;34m[\u001b[0m\u001b[0;34m[\u001b[0m\u001b[0mlatitude\u001b[0m\u001b[0;34m,\u001b[0m \u001b[0mlongitude\u001b[0m\u001b[0;34m]\u001b[0m\u001b[0;34m,\u001b[0m \u001b[0;34m[\u001b[0m\u001b[0mlatitude\u001b[0m \u001b[0;34m+\u001b[0m \u001b[0;34m(\u001b[0m\u001b[0mrows\u001b[0m\u001b[0;34m*\u001b[0m\u001b[0mxpixelsize\u001b[0m\u001b[0;34m)\u001b[0m\u001b[0;34m,\u001b[0m \u001b[0mlongitude\u001b[0m \u001b[0;34m+\u001b[0m \u001b[0;34m(\u001b[0m\u001b[0mcols\u001b[0m\u001b[0;34m*\u001b[0m\u001b[0mxpixelsize\u001b[0m\u001b[0;34m)\u001b[0m\u001b[0;34m]\u001b[0m\u001b[0;34m]\u001b[0m\u001b[0;34m,\u001b[0m\u001b[0;34m\u001b[0m\u001b[0;34m\u001b[0m\u001b[0m\n\u001b[0;32m---> 24\u001b[0;31m     \u001b[0mcolormap\u001b[0m \u001b[0;34m=\u001b[0m \u001b[0mnewcmp\u001b[0m\u001b[0;34m\u001b[0m\u001b[0;34m\u001b[0m\u001b[0m\n\u001b[0m\u001b[1;32m     25\u001b[0m ).add_to(m)\n\u001b[1;32m     26\u001b[0m \u001b[0mimg\u001b[0m \u001b[0;34m=\u001b[0m \u001b[0;34m\"output/picture.png\"\u001b[0m\u001b[0;34m\u001b[0m\u001b[0;34m\u001b[0m\u001b[0m\n",
      "\u001b[0;32m~/.local/share/virtualenvs/bfastmonitor_cpu-LhLEOv6G/lib/python3.6/site-packages/folium/raster_layers.py\u001b[0m in \u001b[0;36m__init__\u001b[0;34m(self, image, bounds, origin, colormap, mercator_project, pixelated, name, overlay, control, show, **kwargs)\u001b[0m\n\u001b[1;32m    255\u001b[0m             )\n\u001b[1;32m    256\u001b[0m \u001b[0;34m\u001b[0m\u001b[0m\n\u001b[0;32m--> 257\u001b[0;31m         \u001b[0mself\u001b[0m\u001b[0;34m.\u001b[0m\u001b[0murl\u001b[0m \u001b[0;34m=\u001b[0m \u001b[0mimage_to_url\u001b[0m\u001b[0;34m(\u001b[0m\u001b[0mimage\u001b[0m\u001b[0;34m,\u001b[0m \u001b[0morigin\u001b[0m\u001b[0;34m=\u001b[0m\u001b[0morigin\u001b[0m\u001b[0;34m,\u001b[0m \u001b[0mcolormap\u001b[0m\u001b[0;34m=\u001b[0m\u001b[0mcolormap\u001b[0m\u001b[0;34m)\u001b[0m\u001b[0;34m\u001b[0m\u001b[0;34m\u001b[0m\u001b[0m\n\u001b[0m\u001b[1;32m    258\u001b[0m \u001b[0;34m\u001b[0m\u001b[0m\n\u001b[1;32m    259\u001b[0m     \u001b[0;32mdef\u001b[0m \u001b[0mrender\u001b[0m\u001b[0;34m(\u001b[0m\u001b[0mself\u001b[0m\u001b[0;34m,\u001b[0m \u001b[0;34m**\u001b[0m\u001b[0mkwargs\u001b[0m\u001b[0;34m)\u001b[0m\u001b[0;34m:\u001b[0m\u001b[0;34m\u001b[0m\u001b[0;34m\u001b[0m\u001b[0m\n",
      "\u001b[0;32m~/.local/share/virtualenvs/bfastmonitor_cpu-LhLEOv6G/lib/python3.6/site-packages/folium/utilities.py\u001b[0m in \u001b[0;36mimage_to_url\u001b[0;34m(image, colormap, origin)\u001b[0m\n\u001b[1;32m    136\u001b[0m         \u001b[0murl\u001b[0m \u001b[0;34m=\u001b[0m \u001b[0;34m'data:image/{};base64,{}'\u001b[0m\u001b[0;34m.\u001b[0m\u001b[0mformat\u001b[0m\u001b[0;34m(\u001b[0m\u001b[0mfileformat\u001b[0m\u001b[0;34m,\u001b[0m \u001b[0mb64encoded\u001b[0m\u001b[0;34m)\u001b[0m\u001b[0;34m\u001b[0m\u001b[0;34m\u001b[0m\u001b[0m\n\u001b[1;32m    137\u001b[0m     \u001b[0;32melif\u001b[0m \u001b[0;34m'ndarray'\u001b[0m \u001b[0;32min\u001b[0m \u001b[0mimage\u001b[0m\u001b[0;34m.\u001b[0m\u001b[0m__class__\u001b[0m\u001b[0;34m.\u001b[0m\u001b[0m__name__\u001b[0m\u001b[0;34m:\u001b[0m\u001b[0;34m\u001b[0m\u001b[0;34m\u001b[0m\u001b[0m\n\u001b[0;32m--> 138\u001b[0;31m         \u001b[0mimg\u001b[0m \u001b[0;34m=\u001b[0m \u001b[0mwrite_png\u001b[0m\u001b[0;34m(\u001b[0m\u001b[0mimage\u001b[0m\u001b[0;34m,\u001b[0m \u001b[0morigin\u001b[0m\u001b[0;34m=\u001b[0m\u001b[0morigin\u001b[0m\u001b[0;34m,\u001b[0m \u001b[0mcolormap\u001b[0m\u001b[0;34m=\u001b[0m\u001b[0mcolormap\u001b[0m\u001b[0;34m)\u001b[0m\u001b[0;34m\u001b[0m\u001b[0;34m\u001b[0m\u001b[0m\n\u001b[0m\u001b[1;32m    139\u001b[0m         \u001b[0mb64encoded\u001b[0m \u001b[0;34m=\u001b[0m \u001b[0mbase64\u001b[0m\u001b[0;34m.\u001b[0m\u001b[0mb64encode\u001b[0m\u001b[0;34m(\u001b[0m\u001b[0mimg\u001b[0m\u001b[0;34m)\u001b[0m\u001b[0;34m.\u001b[0m\u001b[0mdecode\u001b[0m\u001b[0;34m(\u001b[0m\u001b[0;34m'utf-8'\u001b[0m\u001b[0;34m)\u001b[0m\u001b[0;34m\u001b[0m\u001b[0;34m\u001b[0m\u001b[0m\n\u001b[1;32m    140\u001b[0m         \u001b[0murl\u001b[0m \u001b[0;34m=\u001b[0m \u001b[0;34m'data:image/png;base64,{}'\u001b[0m\u001b[0;34m.\u001b[0m\u001b[0mformat\u001b[0m\u001b[0;34m(\u001b[0m\u001b[0mb64encoded\u001b[0m\u001b[0;34m)\u001b[0m\u001b[0;34m\u001b[0m\u001b[0;34m\u001b[0m\u001b[0m\n",
      "\u001b[0;32m~/.local/share/virtualenvs/bfastmonitor_cpu-LhLEOv6G/lib/python3.6/site-packages/folium/utilities.py\u001b[0m in \u001b[0;36mwrite_png\u001b[0;34m(data, origin, colormap)\u001b[0m\n\u001b[1;32m    198\u001b[0m \u001b[0;34m\u001b[0m\u001b[0m\n\u001b[1;32m    199\u001b[0m     \u001b[0;32mif\u001b[0m \u001b[0mnblayers\u001b[0m \u001b[0;34m==\u001b[0m \u001b[0;36m1\u001b[0m\u001b[0;34m:\u001b[0m\u001b[0;34m\u001b[0m\u001b[0;34m\u001b[0m\u001b[0m\n\u001b[0;32m--> 200\u001b[0;31m         \u001b[0marr\u001b[0m \u001b[0;34m=\u001b[0m \u001b[0mnp\u001b[0m\u001b[0;34m.\u001b[0m\u001b[0marray\u001b[0m\u001b[0;34m(\u001b[0m\u001b[0mlist\u001b[0m\u001b[0;34m(\u001b[0m\u001b[0mmap\u001b[0m\u001b[0;34m(\u001b[0m\u001b[0mcolormap\u001b[0m\u001b[0;34m,\u001b[0m \u001b[0marr\u001b[0m\u001b[0;34m.\u001b[0m\u001b[0mravel\u001b[0m\u001b[0;34m(\u001b[0m\u001b[0;34m)\u001b[0m\u001b[0;34m)\u001b[0m\u001b[0;34m)\u001b[0m\u001b[0;34m)\u001b[0m\u001b[0;34m\u001b[0m\u001b[0;34m\u001b[0m\u001b[0m\n\u001b[0m\u001b[1;32m    201\u001b[0m         \u001b[0mnblayers\u001b[0m \u001b[0;34m=\u001b[0m \u001b[0marr\u001b[0m\u001b[0;34m.\u001b[0m\u001b[0mshape\u001b[0m\u001b[0;34m[\u001b[0m\u001b[0;36m1\u001b[0m\u001b[0;34m]\u001b[0m\u001b[0;34m\u001b[0m\u001b[0;34m\u001b[0m\u001b[0m\n\u001b[1;32m    202\u001b[0m         \u001b[0;32mif\u001b[0m \u001b[0mnblayers\u001b[0m \u001b[0;32mnot\u001b[0m \u001b[0;32min\u001b[0m \u001b[0;34m[\u001b[0m\u001b[0;36m3\u001b[0m\u001b[0;34m,\u001b[0m \u001b[0;36m4\u001b[0m\u001b[0;34m]\u001b[0m\u001b[0;34m:\u001b[0m\u001b[0;34m\u001b[0m\u001b[0;34m\u001b[0m\u001b[0m\n",
      "\u001b[0;32m~/.local/share/virtualenvs/bfastmonitor_cpu-LhLEOv6G/lib/python3.6/site-packages/matplotlib/colors.py\u001b[0m in \u001b[0;36m__call__\u001b[0;34m(self, X, alpha, bytes)\u001b[0m\n\u001b[1;32m    537\u001b[0m                 \u001b[0;31m# override its alpha just as for any other value.\u001b[0m\u001b[0;34m\u001b[0m\u001b[0;34m\u001b[0m\u001b[0;34m\u001b[0m\u001b[0m\n\u001b[1;32m    538\u001b[0m \u001b[0;34m\u001b[0m\u001b[0m\n\u001b[0;32m--> 539\u001b[0;31m         \u001b[0mrgba\u001b[0m \u001b[0;34m=\u001b[0m \u001b[0mnp\u001b[0m\u001b[0;34m.\u001b[0m\u001b[0mempty\u001b[0m\u001b[0;34m(\u001b[0m\u001b[0mshape\u001b[0m\u001b[0;34m=\u001b[0m\u001b[0mxa\u001b[0m\u001b[0;34m.\u001b[0m\u001b[0mshape\u001b[0m \u001b[0;34m+\u001b[0m \u001b[0;34m(\u001b[0m\u001b[0;36m4\u001b[0m\u001b[0;34m,\u001b[0m\u001b[0;34m)\u001b[0m\u001b[0;34m,\u001b[0m \u001b[0mdtype\u001b[0m\u001b[0;34m=\u001b[0m\u001b[0mlut\u001b[0m\u001b[0;34m.\u001b[0m\u001b[0mdtype\u001b[0m\u001b[0;34m)\u001b[0m\u001b[0;34m\u001b[0m\u001b[0;34m\u001b[0m\u001b[0m\n\u001b[0m\u001b[1;32m    540\u001b[0m         \u001b[0mlut\u001b[0m\u001b[0;34m.\u001b[0m\u001b[0mtake\u001b[0m\u001b[0;34m(\u001b[0m\u001b[0mxa\u001b[0m\u001b[0;34m,\u001b[0m \u001b[0maxis\u001b[0m\u001b[0;34m=\u001b[0m\u001b[0;36m0\u001b[0m\u001b[0;34m,\u001b[0m \u001b[0mmode\u001b[0m\u001b[0;34m=\u001b[0m\u001b[0;34m'clip'\u001b[0m\u001b[0;34m,\u001b[0m \u001b[0mout\u001b[0m\u001b[0;34m=\u001b[0m\u001b[0mrgba\u001b[0m\u001b[0;34m)\u001b[0m\u001b[0;34m\u001b[0m\u001b[0;34m\u001b[0m\u001b[0m\n\u001b[1;32m    541\u001b[0m         \u001b[0;32mif\u001b[0m \u001b[0mvtype\u001b[0m \u001b[0;34m==\u001b[0m \u001b[0;34m'scalar'\u001b[0m\u001b[0;34m:\u001b[0m\u001b[0;34m\u001b[0m\u001b[0;34m\u001b[0m\u001b[0m\n",
      "\u001b[0;31mKeyboardInterrupt\u001b[0m: "
     ]
    }
   ],
   "source": [
    "# this is probs still wrong\n",
    "\n",
    "from folium.plugins import FloatImage\n",
    "import base64\n",
    "latitude = ts_data.latitude\n",
    "longitude = ts_data.longitude\n",
    "xpixelsize= ts_data.xpixelsize\n",
    "ypixelsize= ts_data.ypixelsize\n",
    "rows = ts_data.nrows\n",
    "cols = ts_data.ncols\n",
    "\n",
    "m = folium.folium.Map(location = (latitude,longitude),tiles = \"Stamen Terrain\",zoom_start=13)\n",
    "\n",
    "# if not all data is \n",
    "#rows = 200\n",
    "#cols = 200\n",
    "\n",
    "\n",
    "# bounds = [[lat_min, lon_min], [lat_max, lon_max]]\n",
    "\n",
    "folium.raster_layers.ImageOverlay(\n",
    "    image=breaks_plot_years_norm,\n",
    "    bounds=[[latitude, longitude], [latitude + (rows*xpixelsize), longitude + (cols*xpixelsize)]],\n",
    "    colormap = newcmp\n",
    ").add_to(m)\n",
    "img = \"output/picture.png\" \n",
    "\n",
    "\n",
    "####\n",
    "resolution, width, height = 75, 4,4\n",
    "encoded = base64.b64encode(open(\"output/picture.png\", 'rb').read()).decode()\n",
    "from folium import IFrame\n",
    "\n",
    "html = '<img src=\"data:image/png;base64,{}\">'.format\n",
    "iframe = IFrame(html(encoded), width=(width*resolution)+20, height=(height*resolution)+20)\n",
    "popup = folium.Popup(iframe, max_width=2650)\n",
    "\n",
    "icon = folium.Icon(color=\"red\", icon=\"ok\")\n",
    "marker = folium.Marker(location=[latitude, longitude], popup=popup, icon=icon)\n",
    "marker.add_to(m)\n",
    "####\n",
    "\n",
    "m.save(os.path.join('output/PortugalBigger_gpu.html'))\n",
    "m"
   ]
  },
  {
   "cell_type": "code",
   "execution_count": null,
   "metadata": {},
   "outputs": [],
   "source": []
  },
  {
   "cell_type": "code",
   "execution_count": null,
   "metadata": {},
   "outputs": [],
   "source": []
  }
 ],
 "metadata": {
  "kernelspec": {
   "display_name": "Python 3",
   "language": "python",
   "name": "python3"
  },
  "language_info": {
   "codemirror_mode": {
    "name": "ipython",
    "version": 3
   },
   "file_extension": ".py",
   "mimetype": "text/x-python",
   "name": "python",
   "nbconvert_exporter": "python",
   "pygments_lexer": "ipython3",
   "version": "3.6.9"
  }
 },
 "nbformat": 4,
 "nbformat_minor": 4
}
