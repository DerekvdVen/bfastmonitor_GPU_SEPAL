{
 "cells": [
  {
   "cell_type": "markdown",
   "metadata": {},
   "source": [
    "# Bfastmonitor CPU using Python\n",
    "## This is bfastmonitor Python"
   ]
  },
  {
   "cell_type": "code",
   "execution_count": null,
   "metadata": {},
   "outputs": [],
   "source": [
    "import os\n",
    "import wget\n",
    "import numpy as np\n",
    "from datetime import datetime\n",
    "\n",
    "from bfast import BFASTMonitor\n",
    "from bfast.utils import crop_data_dates\n",
    "\n",
    "import copy\n",
    "\n",
    "import matplotlib\n",
    "import matplotlib.pyplot as plt\n",
    "\n",
    "#from sar so extra\n",
    "import csv\n",
    "from shutil import copyfile\n",
    "import pandas as pd\n",
    "from osgeo import gdal\n",
    "from osgeo import gdal_array\n",
    "from osgeo import osr\n",
    "\n",
    "import time\n",
    "import ipywidgets as widgets\n",
    "\n",
    "from ipyfilechooser import FileChooser\n",
    "import folium\n",
    "\n",
    "#specific imports\n",
    "from functions import set_output_dir, get_size, get_data_dict"
   ]
  },
  {
   "cell_type": "code",
   "execution_count": null,
   "metadata": {},
   "outputs": [],
   "source": [
    "%matplotlib inline"
   ]
  },
  {
   "cell_type": "markdown",
   "metadata": {},
   "source": [
    "## Select a time series folder using ipyfilechooser. The standard download location is in downloads/time_series_name/[0,1,2..n]\n",
    "\n",
    "### Optional: select a name for your output folder. "
   ]
  },
  {
   "cell_type": "code",
   "execution_count": 3,
   "metadata": {},
   "outputs": [
    {
     "data": {
      "application/vnd.jupyter.widget-view+json": {
       "model_id": "8094adc9d585494e995dfffff89e294f",
       "version_major": 2,
       "version_minor": 0
      },
      "text/plain": [
       "FileChooser(path='/home/dven', filename='', title='HTML(value='', layout=Layout(display='none'))', show_hidden…"
      ]
     },
     "metadata": {},
     "output_type": "display_data"
    },
    {
     "data": {
      "application/vnd.jupyter.widget-view+json": {
       "model_id": "149380fdc36540559e0026a243827a3a",
       "version_major": 2,
       "version_minor": 0
      },
      "text/plain": [
       "interactive(children=(Text(value='', description='Output storage name:', placeholder='output', style=Descripti…"
      ]
     },
     "metadata": {},
     "output_type": "display_data"
    }
   ],
   "source": [
    "from os.path import expanduser\n",
    "path = expanduser(\"~\")\n",
    "\n",
    "def g(directory):\n",
    "    return(directory)\n",
    "                          \n",
    "output_directory_chooser = widgets.interactive(g, \n",
    "                        directory=widgets.Text(description=\"Output storage name:\", \n",
    "                                               style = {'description_width': 'initial'},\n",
    "                                               placeholder = \"output\"))\n",
    "file_chooser = FileChooser(path)\n",
    "\n",
    "display(file_chooser)\n",
    "display(output_directory_chooser)\n",
    "\n"
   ]
  },
  {
   "cell_type": "code",
   "execution_count": 4,
   "metadata": {},
   "outputs": [
    {
     "name": "stdout",
     "output_type": "stream",
     "text": [
      "/home/dven/downloads/Time_series_2020-08-24_11-43-37_lake/0/\n",
      "Defaulting to output directory name \"output\" \n"
     ]
    }
   ],
   "source": [
    "timeseries_directory = file_chooser.selected\n",
    "\n",
    "if not timeseries_directory:\n",
    "    raise Exception(\"Please choose a time series directory above with the file selector\")\n",
    "else:\n",
    "    print(timeseries_directory)\n",
    "    set_output_dir(output_directory_chooser)"
   ]
  },
  {
   "cell_type": "code",
   "execution_count": 5,
   "metadata": {},
   "outputs": [],
   "source": [
    "from osgeo import gdal\n",
    "\n",
    "import matplotlib.pyplot as plt\n",
    "\n",
    "import numpy as np\n",
    "from numpy import nan\n",
    "from numpy import isnan\n",
    "\n",
    "from bfast import BFASTMonitor\n",
    "from bfast.utils import crop_data_dates\n",
    "\n",
    "import pyopencl\n",
    "import inspect\n",
    "\n",
    "import time\n",
    "from datetime import datetime\n",
    "\n",
    "from tqdm import tqdm\n",
    "\n",
    "import warnings\n",
    "warnings.filterwarnings('always')\n",
    "class Timeseries:\n",
    "    '''\n",
    "    \n",
    "    This is a class that holds a numpy array with time series data, a csv containing dates, and associated geographical metadata.\n",
    "    \n",
    "    '''\n",
    "    \n",
    "    def __init__(self, time_series_path, dates_path):\n",
    "        \n",
    "        self.name = time_series_path + \"stack.vrt\"\n",
    "        self.dir = time_series_path\n",
    "        \n",
    "        self.time_series = gdal.Open(self.name)\n",
    "        #time_series = self.time_series\n",
    "        geotransform = self.time_series.GetGeoTransform()\n",
    "        \n",
    "        # geo metadata\n",
    "        self.xpixelsize = geotransform[1]\n",
    "        self.ypixelsize = geotransform[5]\n",
    "        self.latitude = geotransform[3]\n",
    "        self.longitude = geotransform[0]\n",
    "        self.ncols = self.time_series.RasterXSize\n",
    "        self.nrows = self.time_series.RasterYSize\n",
    "        self.projection = self.time_series.GetProjection()\n",
    "        self.nbands = self.time_series.RasterCount\n",
    "        \n",
    "        band = self.time_series.GetRasterBand(1)\n",
    "        self.block_size = band.GetBlockSize()\n",
    "        self.time_dict = {}\n",
    "        \n",
    "        # self.raster_stack_orig = time_series.ReadAsArray()\n",
    "        # This takes really long and will likely cause memory issues when running on large countries, so don't use it\n",
    "        # Use blocks and base block size on what gdal sets or on ram calculation \n",
    "        \n",
    "        # dates file\n",
    "        with open(dates_path) as f:\n",
    "            dates_list = f.read().split('\\n')\n",
    "            self.dates = [datetime.strptime(d, '%Y-%m-%d') for d in dates_list if len(d) > 0]\n",
    "        \n",
    "    def __str__(self):\n",
    "        return(\"Timeseries holds {} dates, sized {} by {}.\".format(self.nbands,\n",
    "                                                                        self.ncols,\n",
    "                                                                        self.nrows))\n",
    "    def __repr__(self):\n",
    "            return(\"Timeseries: {} \".format(self.name))\n",
    "\n",
    "    def run_bfast(self, block):\n",
    "        data, dates = crop_data_dates(block, self.dates, self.start_hist, self.end_monitor)\n",
    "\n",
    "        # only apply on a small subset\n",
    "        #data = data[:,:80,:80]\n",
    "        \n",
    "        # change nans to a number bfastmonitor-GPU can work with\n",
    "        where_are_NaNs = isnan(data)\n",
    "        data[where_are_NaNs] = -32768\n",
    "\n",
    "        # fit model\n",
    "        self.model.fit(data, dates, nan_value = -32768) \n",
    "        \n",
    "        # save breaks and mean magnitudes\n",
    "        breaks = self.model.breaks # index of date that has a break in dates\n",
    "        means = self.model.means # magnitudes of breaks\n",
    "        \n",
    "        return(breaks,means)\n",
    "    \n",
    "    def loop_blocks(self,x_block_size,y_block_size):\n",
    "\n",
    "        start_time = time.time()\n",
    "        \n",
    "        if not x_block_size:\n",
    "            x_block_size =  self.block_size[0]\n",
    "        else:\n",
    "            self.x_block_size = x_block_size\n",
    "        if not y_block_size:\n",
    "            y_block_size = self.block_size[1]\n",
    "        else:\n",
    "            self.y_block_size = y_block_size\n",
    "        \n",
    "        #x_block_size = self.block_size[0]\n",
    "        #y_block_size = self.block_size[1]\n",
    "        print(\"rastersize: \",self.ncols,self.nrows)\n",
    "        print(\"The natural block size is the block size that is most efficient for accessing the format, gdal found blocksize: \",self.block_size)\n",
    "        print(\"set blocksize explicitly: \",x_block_size,\", \" ,y_block_size)\n",
    "        print(\"bytes required: \", str(8 * self.ncols * self.nrows * self.nbands))\n",
    "        print(\"start monitor: \", self.start_monitor)\n",
    "        print(\"end monitor: \", self.end_monitor)\n",
    "        print(\"start history: \", self.start_hist)\n",
    "        \n",
    "        \n",
    "        first_verstack=True\n",
    "\n",
    "        # loop over yblocks\n",
    "        with tqdm(total=(self.ncols/x_block_size)*(self.nrows/y_block_size)) as pbar2:\n",
    "            pbar2.set_description(\"Processing blocks of tile:\")\n",
    "                    \n",
    "                \n",
    "            for i in range(0, self.nrows, y_block_size):\n",
    "                \n",
    "                \n",
    "                first_horstack = True\n",
    "                if i + y_block_size < self.nrows:\n",
    "                    rows = y_block_size\n",
    "                else:\n",
    "                    rows = self.nrows - i\n",
    "\n",
    "                # Loop over xblocks\n",
    "                for j in range(0, self.ncols, x_block_size):\n",
    "                    \n",
    "                    \n",
    "                    if j + x_block_size < self.ncols:\n",
    "                        cols = x_block_size\n",
    "                    else:\n",
    "                        cols = self.ncols - j\n",
    "\n",
    "                    print(j,i,cols,rows)\n",
    "\n",
    "                    # first step creates the array\n",
    "                    pbar2.update(1)\n",
    "                    \n",
    "                    if first_horstack==True:\n",
    "                        data = self.time_series.ReadAsArray(j, i, cols, rows).astype(np.int16)\n",
    "\n",
    "                        breaks,means = self.run_bfast(data)\n",
    "                        breaks_array = breaks\n",
    "                        means_array = means\n",
    "                        first_horstack=False\n",
    "\n",
    "                    # after that add to array\n",
    "                    else:                    \n",
    "                        data = self.time_series.ReadAsArray(j, i, cols, rows).astype(np.int16)\n",
    "\n",
    "                        breaks,means = self.run_bfast(data)\n",
    "                        breaks_array = np.concatenate((breaks_array,breaks),axis = 1)\n",
    "                        means_array = np.concatenate((means_array,means),axis = 1)\n",
    "                \n",
    "                \n",
    "                # first step create new variable verstack for the data\n",
    "\n",
    "                if first_verstack == True:\n",
    "                    stack_breaks_array = breaks_array\n",
    "                    stack_means_array = means_array\n",
    "                    first_verstack = False\n",
    "                \n",
    "                # after that add data to array\n",
    "                else:\n",
    "                    stack_breaks_array = np.concatenate((stack_breaks_array,breaks_array),axis=0)\n",
    "                    stack_means_array = np.concatenate((stack_means_array,means_array),axis=0)\n",
    "\n",
    "            self.breaks_array = stack_breaks_array\n",
    "            self.means_array = stack_means_array\n",
    "            \n",
    "            pbar2.close()\n",
    "            end_time = time.time()\n",
    "            print(\"Fitting model over all blocks took {} seconds.\".format(end_time - start_time))\n",
    "            self.time_dict[self.name] = str(end_time - start_time) + \" seconds\"\n",
    "\n",
    "    def set_bfast_parameters(self, start_monitor, end_monitor, start_hist,freq,k,hfrac,trend,level,backend='opencl',verbose=1,device_id=0):\n",
    "        self.start_monitor = start_monitor\n",
    "        self.end_monitor = end_monitor\n",
    "        self.start_hist = start_hist\n",
    "        self.freq = freq\n",
    "        self.k = k\n",
    "        self.hfrac = hfrac\n",
    "        self.trend = trend\n",
    "        self.level = level\n",
    "        self.backend = backend\n",
    "        self.verbose = verbose\n",
    "        \n",
    "        self.model = BFASTMonitor(\n",
    "                    self.start_monitor,\n",
    "                    freq=freq, # add these\n",
    "                    k=k,\n",
    "                    hfrac=hfrac,\n",
    "                    trend=trend,\n",
    "                    level=level,\n",
    "                    backend=backend,\n",
    "                    verbose=verbose,\n",
    "                    device_id=device_id,\n",
    "                    )\n",
    "        \n",
    "        try:\n",
    "            print(pyopencl.get_platforms()[0].get_devices())\n",
    "        except:\n",
    "            print(\"You selected  openCL, but no device was found, are you sure you set up a gpu session?\")\n",
    "\n",
    "    \n",
    "    def get_bfast_parameters(self):\n",
    "        print(\"Monitoring starts at: \", self.start_monitor)\n",
    "        print(\"Monitoring ends at: \", self.end_monitor)\n",
    "        print(\"Dataset history starts at: \", self.start_hist)\n",
    "        print(\"frequency: \", self.freq)\n",
    "        print(\"harmonic term: \", self.k)\n",
    "        print(\"Hfrac: Float in the interval (0,1) specifying the bandwidth relative to the sample size in the MOSUM/ME monitoring processes.: \", self.hfrac)\n",
    "        print(\"Trend: Whether a tend offset term shall be used or not: \", self.trend)\n",
    "        print(\"Level: Significance level of the monitoring (and ROC, if selected) procedure, i.e., probability of type I error: \", self.level)\n",
    "        print(\"backend: GPU opencl or CPU python: \", self.backend)\n",
    "        print(\"verbose: The verbosity level (0=no output, 1=output): \", self.verbose)\n",
    "        \n",
    "    \n",
    "    def check_arrays(self, min_perc_lacking_data = 20):\n",
    "        \n",
    "        minus1count = np.count_nonzero(self.breaks_array == -1) # no break found\n",
    "        minus2count = np.count_nonzero(self.breaks_array == -2) # not enough data for output\n",
    "        total_count = self.nrows*self.ncols\n",
    "        \n",
    "        print(\"minus2s: \", minus2count)\n",
    "        print(\"minus1s: \", minus1count)\n",
    "        print(\"total\", total_count)\n",
    "        \n",
    "        perc_lacking_data = minus2count/total_count*100\n",
    "        perc_breaks = (total_count - (minus1count + minus2count))/total_count * 100\n",
    "        \n",
    "        print(\"percentage cells that lacked enough data for finding means or breaks: \" + str(perc_lacking_data))\n",
    "        print(\"percentage cells where breaks were found: \" + str(perc_breaks))\n",
    "        \n",
    "\n",
    "        if perc_lacking_data > min_perc_lacking_data:\n",
    "            return(warnings.warn(\"Warning: More than {} percent of the pixels in this tile lack sufficient data, resulting in NaNs. Consider selecting a longer monitoring period or a larger area.\".format(min_perc_lacking_data)))\n",
    "    \n",
    "    def log_output_to_txt(self):\n",
    "\n",
    "        self.date = str(datetime.now())\n",
    "        self.device = pyopencl.get_platforms()[0].get_devices()\n",
    "        \n",
    "        attributes = inspect.getmembers(self, lambda a:not(inspect.isroutine(a)))\n",
    "        \n",
    "        logs_directory = \"logs\"\n",
    "        if not os.path.exists(\"logs\"):\n",
    "            os.makedirs(logs_directory)\n",
    "        \n",
    "        save_dir = self.dir\n",
    "        try:\n",
    "            start_index = save_dir.find(\"Time_series\")\n",
    "        except:\n",
    "            start_index = 1\n",
    "        save_dir = self.dir.replace(\"/\",\"-\")[start_index:] + datetime.now().strftime(\"%Y-%m-%d-%H-%M-%S\") + \".txt\"\n",
    "        \n",
    "        \n",
    "        with open(str(logs_directory + \"/\" + save_dir), \"w\") as f:\n",
    "            for a in attributes:\n",
    "                if not(a[0].startswith('__') and a[0].endswith('__')):\n",
    "                    f.write(str(a))\n",
    "                    f.write(\"\\n\")\n",
    "    \n",
    "    def log_breaks_means_arrays(self):\n",
    "        \n",
    "        arrays_directory = \"output_arrays\"\n",
    "        if not os.path.exists(\"output_arrays\"):\n",
    "            os.makedirs(arrays_directory)\n",
    "        \n",
    "        save_dir = self.dir\n",
    "        try:\n",
    "            start_index = save_dir.find(\"Time_series\")\n",
    "        except:\n",
    "            start_index = 1\n",
    "        \n",
    "        save_means_dir = arrays_directory + '/' + self.dir.replace(\"/\",\"-\")[start_index:-1] + \"_means.npy\"\n",
    "        save_breaks_dir = arrays_directory + '/' +self.dir.replace(\"/\",\"-\")[start_index:-1] + \"_breaks.npy\"\n",
    "        print(save_means_dir)\n",
    "        print(save_breaks_dir)\n",
    "        try:\n",
    "            np.save(save_means_dir, self.means_array)\n",
    "            np.save(save_breaks_dir,self.breaks_array)\n",
    "        except:\n",
    "            print(\"No arrays are currently loaded\")\n",
    "    \n",
    "    def load_breaks_means_arrays_from_file(self):\n",
    "        \n",
    "        \n",
    "        arrays_directory = \"output_arrays\"\n",
    "        load_dir = self.dir\n",
    "        try:\n",
    "            start_index = load_dir.find(\"Time_series\")\n",
    "        except:\n",
    "            start_index = 1\n",
    "        \n",
    "        load_means_dir = arrays_directory + '/' + self.dir.replace(\"/\",\"-\")[start_index:-1] + \"_means.npy\"\n",
    "        load_breaks_dir = arrays_directory + '/' +self.dir.replace(\"/\",\"-\")[start_index:-1] + \"_breaks.npy\"\n",
    "        \n",
    "        self.means_array = np.load(load_means_dir)\n",
    "        self.breaks_array = np.load(load_breaks_dir)\n",
    "        \n",
    "    # Don't work anymore, fix later\n",
    "    def plot_hist(self):\n",
    "        histlist = []\n",
    "        for x in range(self.nbands):\n",
    "            histlist.append(np.isnan(self.raster_stack[x]).sum()/(self.ncols*self.nrows))\n",
    "        plt.hist(histlist)\n",
    "        plt.show()\n",
    "        \n",
    "    def get_size(self):\n",
    "        total_size = 0\n",
    "        for dirpath, dirnames, filenames in os.walk(self.dir):\n",
    "            for f in filenames:\n",
    "                fp = os.path.join(dirpath, f)\n",
    "                # skip if it is symbolic link\n",
    "                if not os.path.islink(fp):\n",
    "                    total_size += os.path.getsize(fp)\n",
    "        print(self.dir + \"   holds  \" + str(total_size) + \" bytes\")\n",
    "\n",
    "      "
   ]
  },
  {
   "cell_type": "code",
   "execution_count": null,
   "metadata": {},
   "outputs": [],
   "source": [
    "\n",
    "\n"
   ]
  },
  {
   "cell_type": "markdown",
   "metadata": {},
   "source": [
    "# Load in data: if there are tiles in the directory, create a list and load per tile"
   ]
  },
  {
   "cell_type": "code",
   "execution_count": 6,
   "metadata": {
    "scrolled": true
   },
   "outputs": [
    {
     "name": "stdout",
     "output_type": "stream",
     "text": [
      "tile-0000000000-0000000000\n",
      "tile-0000000000-0000002048\n",
      "tile-0000000000-0000004096\n",
      "tile-0000002048-0000000000\n",
      "tile-0000002048-0000002048\n",
      "tile-0000002048-0000004096\n",
      "tile-0000004096-0000000000\n",
      "tile-0000004096-0000002048\n",
      "tile-0000004096-0000004096\n"
     ]
    }
   ],
   "source": [
    "# set paths to data\n",
    "dates_path = os.path.join(timeseries_directory, \"dates.csv\")\n",
    "data_list=[]\n",
    "tile_paths = []\n",
    "\n",
    "# check for tiles\n",
    "file_list = os.listdir(timeseries_directory)\n",
    "file_list.sort()\n",
    "for file in file_list:\n",
    "    if file.startswith('tile'):\n",
    "        print(file)\n",
    "        time_series_path =  timeseries_directory + file + \"/\"\n",
    "        tile_paths.append(time_series_path)\n"
   ]
  },
  {
   "cell_type": "code",
   "execution_count": 7,
   "metadata": {
    "scrolled": true
   },
   "outputs": [
    {
     "name": "stdout",
     "output_type": "stream",
     "text": [
      "Data consists of tiles, setting up tiles in 'data_list' \n"
     ]
    }
   ],
   "source": [
    "# # Set up list of time series tiles and their metadata\n",
    "if not tile_paths:\n",
    "    print(\"No tiles, setting up data as one tile\")\n",
    "    ts_data = Timeseries(timeseries_directory, dates_path)\n",
    "    data_list.append(ts_data)\n",
    "    \n",
    "else:\n",
    "    print(\"Data consists of tiles, setting up tiles in 'data_list' \")\n",
    "    for time_series_path in tile_paths:\n",
    "        ts_data = Timeseries(time_series_path, dates_path)\n",
    "        data_list.append(ts_data)"
   ]
  },
  {
   "cell_type": "markdown",
   "metadata": {},
   "source": [
    "### Check some metadata of the created Timeseries class"
   ]
  },
  {
   "cell_type": "code",
   "execution_count": 8,
   "metadata": {
    "scrolled": true
   },
   "outputs": [
    {
     "name": "stdout",
     "output_type": "stream",
     "text": [
      "projection:  GEOGCS[\"WGS 84\",DATUM[\"WGS_1984\",SPHEROID[\"WGS 84\",6378137,298.257223563,AUTHORITY[\"EPSG\",\"7030\"]],AUTHORITY[\"EPSG\",\"6326\"]],PRIMEM[\"Greenwich\",0],UNIT[\"degree\",0.0174532925199433,AUTHORITY[\"EPSG\",\"9122\"]],AXIS[\"Latitude\",NORTH],AXIS[\"Longitude\",EAST],AUTHORITY[\"EPSG\",\"4326\"]]\n",
      "pixel size:  0.00026949458523586184\n"
     ]
    },
    {
     "data": {
      "text/plain": [
       "[Timeseries: /home/dven/downloads/Time_series_2020-08-24_11-43-37_lake/0/tile-0000000000-0000000000/stack.vrt ,\n",
       " Timeseries: /home/dven/downloads/Time_series_2020-08-24_11-43-37_lake/0/tile-0000000000-0000002048/stack.vrt ,\n",
       " Timeseries: /home/dven/downloads/Time_series_2020-08-24_11-43-37_lake/0/tile-0000000000-0000004096/stack.vrt ,\n",
       " Timeseries: /home/dven/downloads/Time_series_2020-08-24_11-43-37_lake/0/tile-0000002048-0000000000/stack.vrt ,\n",
       " Timeseries: /home/dven/downloads/Time_series_2020-08-24_11-43-37_lake/0/tile-0000002048-0000002048/stack.vrt ,\n",
       " Timeseries: /home/dven/downloads/Time_series_2020-08-24_11-43-37_lake/0/tile-0000002048-0000004096/stack.vrt ]"
      ]
     },
     "execution_count": 8,
     "metadata": {},
     "output_type": "execute_result"
    }
   ],
   "source": [
    "# data_list = data_list[0:2]\n",
    "#ts_data = data_list[0]\n",
    "print(\"projection: \", data_list[0].projection)\n",
    "print(\"pixel size: \", data_list[0].xpixelsize)\n",
    "#ts_data.log_output_to_txt()\n",
    "\n",
    "data_list = data_list[0:6]\n",
    "data_list"
   ]
  },
  {
   "cell_type": "markdown",
   "metadata": {},
   "source": [
    "# Set parameters"
   ]
  },
  {
   "cell_type": "code",
   "execution_count": 9,
   "metadata": {},
   "outputs": [],
   "source": [
    "# parameters\n",
    "k = 3\n",
    "freq = 365\n",
    "trend = False\n",
    "hfrac = 0.25\n",
    "level = 0.05\n",
    "position = (100,100)\n",
    "\n",
    "backend = 'opencl'\n",
    "verbose = 1\n",
    "device_id = 0\n",
    "\n",
    "\n",
    "# start_hist = datetime(2018, 1, 1)\n",
    "# start_monitor = datetime(2019, 1, 1)\n",
    "# end_monitor = datetime(2020, 1, 1)\n"
   ]
  },
  {
   "cell_type": "markdown",
   "metadata": {},
   "source": [
    "# Select monitoring period"
   ]
  },
  {
   "cell_type": "code",
   "execution_count": 10,
   "metadata": {},
   "outputs": [
    {
     "name": "stdout",
     "output_type": "stream",
     "text": [
      "start monitoring period 2000-10-06 00:00:00\n"
     ]
    },
    {
     "data": {
      "application/vnd.jupyter.widget-view+json": {
       "model_id": "f77a7ccefb114c5a83af22fc607acc6d",
       "version_major": 2,
       "version_minor": 0
      },
      "text/plain": [
       "interactive(children=(SelectionRangeSlider(description='Select the monitoring date range: ', index=(0, 7240), …"
      ]
     },
     "metadata": {},
     "output_type": "display_data"
    },
    {
     "data": {
      "application/vnd.jupyter.widget-view+json": {
       "model_id": "4f0f7c5622414b449069d583f3ee73df",
       "version_major": 2,
       "version_minor": 0
      },
      "text/plain": [
       "interactive(children=(SelectionSlider(description='Start history period:', options=(('2000-10-06', Timestamp('…"
      ]
     },
     "metadata": {},
     "output_type": "display_data"
    }
   ],
   "source": [
    "dates = ts_data.dates\n",
    "start_date = dates[10] # 0 or 10 does not work.. 100 did\n",
    "print(\"start monitoring period\",start_date)\n",
    "end_date = dates[-1]\n",
    "\n",
    "def h(y):\n",
    "    return(y)\n",
    "\n",
    "pandas_dates = pd.date_range(start_date, end_date, freq='D')\n",
    "\n",
    "options =  [(date.strftime('%Y-%m-%d'),date) for date in pandas_dates]\n",
    "index = (0, len(options)-1)\n",
    "\n",
    "\n",
    "monitoring_period = widgets.interactive(h,\n",
    "                                     y=widgets.SelectionRangeSlider(\n",
    "                                            options=options,\n",
    "                                            index=index,\n",
    "                                            description='Select the monitoring date range: ',\n",
    "                                            style = {'description_width': 'initial'},\n",
    "                                            orientation='horizontal',\n",
    "                                            layout={'width': '800px',\"height\":\"50px\"}))\n",
    "\n",
    "\n",
    "history_period = widgets.interactive(h, \n",
    "                                     y=widgets.SelectionSlider(description=\"Start history period:\", \n",
    "                                            options = options,\n",
    "                                            style = {'description_width': 'initial'}))\n",
    "\n",
    "display(monitoring_period)\n",
    "display(history_period)"
   ]
  },
  {
   "cell_type": "code",
   "execution_count": 11,
   "metadata": {},
   "outputs": [
    {
     "name": "stdout",
     "output_type": "stream",
     "text": [
      "start monitor:  2015-08-03 00:00:00\n",
      "end monitor:  2020-08-02 00:00:00\n",
      "start history:  2000-10-06 00:00:00\n"
     ]
    }
   ],
   "source": [
    "start_monitor, end_monitor = monitoring_period.result\n",
    "start_hist = history_period.result\n",
    "\n",
    "if history_period.result > start_monitor:\n",
    "    raise Exception(\"Your history period must start before the monitoring period\")\n",
    "\n",
    "#start_monitor = datetime(2013, 10, 30)\n",
    "\n",
    "print(\"start monitor: \", start_monitor)\n",
    "print(\"end monitor: \", end_monitor)\n",
    "print(\"start history: \", start_hist)"
   ]
  },
  {
   "cell_type": "code",
   "execution_count": null,
   "metadata": {},
   "outputs": [],
   "source": []
  },
  {
   "cell_type": "markdown",
   "metadata": {},
   "source": [
    "### Loop over tiles, (or single tile), in data_list"
   ]
  },
  {
   "cell_type": "code",
   "execution_count": null,
   "metadata": {
    "scrolled": true
   },
   "outputs": [
    {
     "name": "stderr",
     "output_type": "stream",
     "text": [
      "Processing tile 1 out of 6:   0%|          | 0/6 [00:00<?, ?it/s]\n",
      "  0%|          | 0/16.0 [00:00<?, ?it/s]\u001b[A\n",
      "Processing blocks of tile::   0%|          | 0/16.0 [00:00<?, ?it/s]\u001b[A"
     ]
    },
    {
     "name": "stdout",
     "output_type": "stream",
     "text": [
      "[<pyopencl.Device 'Tesla T4' on 'NVIDIA CUDA' at 0x45cc8c0>]\n",
      "rastersize:  2048 2048\n",
      "The natural block size is the block size that is most efficient for accessing the format, gdal found blocksize:  [128, 128]\n",
      "set blocksize explicitly:  512 ,  512\n",
      "bytes required:  30500978688\n",
      "start monitor:  2015-08-03 00:00:00\n",
      "end monitor:  2020-08-02 00:00:00\n",
      "start history:  2000-10-06 00:00:00\n",
      "0 0 512 512\n",
      "--- runtime for data initialization:\t\t0.002651691436767578\n",
      "--- runtime for data transfer (host->device):\t0.09782958030700684\n",
      "--- runtime for data preprocessing:\t\t0.016782760620117188\n"
     ]
    },
    {
     "name": "stderr",
     "output_type": "stream",
     "text": [
      "/usr/local/lib/python3.6/dist-packages/bfast/monitor/opencl/bfastfinal.py:17894: RuntimeWarning: overflow encountered in int_scalars\n",
      "  num_threads_32532 = (n_30761 * convop_x_37235)\n",
      "\n",
      "Processing blocks of tile::  12%|█▎        | 2/16.0 [00:11<01:23,  5.93s/it]\u001b[A"
     ]
    },
    {
     "name": "stdout",
     "output_type": "stream",
     "text": [
      "--- runtime for kernel execution:\t\t0.13319015502929688\n",
      "--- runtime for data transfer (device->host):\t0.0261228084564209\n",
      "512 0 512 512\n",
      "--- runtime for data initialization:\t\t0.002463817596435547\n",
      "--- runtime for data transfer (host->device):\t0.09763598442077637\n",
      "--- runtime for data preprocessing:\t\t0.013668060302734375\n"
     ]
    },
    {
     "name": "stderr",
     "output_type": "stream",
     "text": [
      "/usr/local/lib/python3.6/dist-packages/bfast/monitor/opencl/bfastfinal.py:17894: RuntimeWarning: overflow encountered in int_scalars\n",
      "  num_threads_32532 = (n_30761 * convop_x_37235)\n",
      "\n",
      "Processing blocks of tile::  19%|█▉        | 3/16.0 [00:22<01:35,  7.31s/it]\u001b[A"
     ]
    },
    {
     "name": "stdout",
     "output_type": "stream",
     "text": [
      "--- runtime for kernel execution:\t\t0.12475466728210449\n",
      "--- runtime for data transfer (device->host):\t0.016822099685668945\n",
      "1024 0 512 512\n",
      "--- runtime for data initialization:\t\t0.002508878707885742\n",
      "--- runtime for data transfer (host->device):\t0.09830641746520996\n",
      "--- runtime for data preprocessing:\t\t0.013322830200195312\n"
     ]
    },
    {
     "name": "stderr",
     "output_type": "stream",
     "text": [
      "/usr/local/lib/python3.6/dist-packages/bfast/monitor/opencl/bfastfinal.py:17894: RuntimeWarning: overflow encountered in int_scalars\n",
      "  num_threads_32532 = (n_30761 * convop_x_37235)\n",
      "\n",
      "Processing blocks of tile::  25%|██▌       | 4/16.0 [00:32<01:38,  8.20s/it]\u001b[A"
     ]
    },
    {
     "name": "stdout",
     "output_type": "stream",
     "text": [
      "--- runtime for kernel execution:\t\t0.11118340492248535\n",
      "--- runtime for data transfer (device->host):\t0.016618013381958008\n",
      "1536 0 512 512\n",
      "--- runtime for data initialization:\t\t0.002470254898071289\n",
      "--- runtime for data transfer (host->device):\t0.0974574089050293\n",
      "--- runtime for data preprocessing:\t\t0.01217198371887207\n"
     ]
    },
    {
     "name": "stderr",
     "output_type": "stream",
     "text": [
      "/usr/local/lib/python3.6/dist-packages/bfast/monitor/opencl/bfastfinal.py:17894: RuntimeWarning: overflow encountered in int_scalars\n",
      "  num_threads_32532 = (n_30761 * convop_x_37235)\n",
      "\n",
      "Processing blocks of tile::  31%|███▏      | 5/16.0 [00:42<01:36,  8.82s/it]\u001b[A"
     ]
    },
    {
     "name": "stdout",
     "output_type": "stream",
     "text": [
      "--- runtime for kernel execution:\t\t0.09796142578125\n",
      "--- runtime for data transfer (device->host):\t0.01677727699279785\n",
      "0 512 512 512\n",
      "--- runtime for data initialization:\t\t0.0024476051330566406\n",
      "--- runtime for data transfer (host->device):\t0.09834766387939453\n",
      "--- runtime for data preprocessing:\t\t0.015487194061279297\n"
     ]
    },
    {
     "name": "stderr",
     "output_type": "stream",
     "text": [
      "/usr/local/lib/python3.6/dist-packages/bfast/monitor/opencl/bfastfinal.py:17894: RuntimeWarning: overflow encountered in int_scalars\n",
      "  num_threads_32532 = (n_30761 * convop_x_37235)\n",
      "\n",
      "Processing blocks of tile::  38%|███▊      | 6/16.0 [00:53<01:32,  9.23s/it]\u001b[A"
     ]
    },
    {
     "name": "stdout",
     "output_type": "stream",
     "text": [
      "--- runtime for kernel execution:\t\t0.13392400741577148\n",
      "--- runtime for data transfer (device->host):\t0.015961647033691406\n",
      "512 512 512 512\n",
      "--- runtime for data initialization:\t\t0.0024764537811279297\n",
      "--- runtime for data transfer (host->device):\t0.09838342666625977\n",
      "--- runtime for data preprocessing:\t\t0.012410402297973633\n"
     ]
    },
    {
     "name": "stderr",
     "output_type": "stream",
     "text": [
      "/usr/local/lib/python3.6/dist-packages/bfast/monitor/opencl/bfastfinal.py:17894: RuntimeWarning: overflow encountered in int_scalars\n",
      "  num_threads_32532 = (n_30761 * convop_x_37235)\n",
      "\n",
      "Processing blocks of tile::  44%|████▍     | 7/16.0 [01:03<01:26,  9.63s/it]\u001b[A"
     ]
    },
    {
     "name": "stdout",
     "output_type": "stream",
     "text": [
      "--- runtime for kernel execution:\t\t0.10698723793029785\n",
      "--- runtime for data transfer (device->host):\t0.019001245498657227\n",
      "1024 512 512 512\n",
      "--- runtime for data initialization:\t\t0.0025200843811035156\n",
      "--- runtime for data transfer (host->device):\t0.09823751449584961\n",
      "--- runtime for data preprocessing:\t\t0.012548685073852539\n"
     ]
    },
    {
     "name": "stderr",
     "output_type": "stream",
     "text": [
      "/usr/local/lib/python3.6/dist-packages/bfast/monitor/opencl/bfastfinal.py:17894: RuntimeWarning: overflow encountered in int_scalars\n",
      "  num_threads_32532 = (n_30761 * convop_x_37235)\n",
      "\n",
      "Processing blocks of tile::  50%|█████     | 8/16.0 [01:14<01:18,  9.86s/it]\u001b[A"
     ]
    },
    {
     "name": "stdout",
     "output_type": "stream",
     "text": [
      "--- runtime for kernel execution:\t\t0.10838508605957031\n",
      "--- runtime for data transfer (device->host):\t0.01902627944946289\n",
      "1536 512 512 512\n",
      "--- runtime for data initialization:\t\t0.0024290084838867188\n",
      "--- runtime for data transfer (host->device):\t0.09833192825317383\n",
      "--- runtime for data preprocessing:\t\t0.013160228729248047\n"
     ]
    },
    {
     "name": "stderr",
     "output_type": "stream",
     "text": [
      "/usr/local/lib/python3.6/dist-packages/bfast/monitor/opencl/bfastfinal.py:17894: RuntimeWarning: overflow encountered in int_scalars\n",
      "  num_threads_32532 = (n_30761 * convop_x_37235)\n",
      "\n",
      "Processing blocks of tile::  56%|█████▋    | 9/16.0 [01:24<01:10, 10.01s/it]\u001b[A"
     ]
    },
    {
     "name": "stdout",
     "output_type": "stream",
     "text": [
      "--- runtime for kernel execution:\t\t0.10745787620544434\n",
      "--- runtime for data transfer (device->host):\t0.016333580017089844\n",
      "0 1024 512 512\n",
      "--- runtime for data initialization:\t\t0.0024373531341552734\n",
      "--- runtime for data transfer (host->device):\t0.09843134880065918\n",
      "--- runtime for data preprocessing:\t\t0.015987396240234375\n"
     ]
    },
    {
     "name": "stderr",
     "output_type": "stream",
     "text": [
      "/usr/local/lib/python3.6/dist-packages/bfast/monitor/opencl/bfastfinal.py:17894: RuntimeWarning: overflow encountered in int_scalars\n",
      "  num_threads_32532 = (n_30761 * convop_x_37235)\n",
      "\n",
      "Processing blocks of tile::  62%|██████▎   | 10/16.0 [01:34<01:00, 10.01s/it]\u001b[A"
     ]
    },
    {
     "name": "stdout",
     "output_type": "stream",
     "text": [
      "--- runtime for kernel execution:\t\t0.1410665512084961\n",
      "--- runtime for data transfer (device->host):\t0.01642751693725586\n",
      "512 1024 512 512\n",
      "--- runtime for data initialization:\t\t0.002472400665283203\n",
      "--- runtime for data transfer (host->device):\t0.09749984741210938\n",
      "--- runtime for data preprocessing:\t\t0.01221466064453125\n"
     ]
    },
    {
     "name": "stderr",
     "output_type": "stream",
     "text": [
      "/usr/local/lib/python3.6/dist-packages/bfast/monitor/opencl/bfastfinal.py:17894: RuntimeWarning: overflow encountered in int_scalars\n",
      "  num_threads_32532 = (n_30761 * convop_x_37235)\n",
      "\n",
      "Processing blocks of tile::  69%|██████▉   | 11/16.0 [01:44<00:50, 10.03s/it]\u001b[A"
     ]
    },
    {
     "name": "stdout",
     "output_type": "stream",
     "text": [
      "--- runtime for kernel execution:\t\t0.09882068634033203\n",
      "--- runtime for data transfer (device->host):\t0.016625404357910156\n",
      "1024 1024 512 512\n",
      "--- runtime for data initialization:\t\t0.0024406909942626953\n",
      "--- runtime for data transfer (host->device):\t0.0983433723449707\n",
      "--- runtime for data preprocessing:\t\t0.012214183807373047\n"
     ]
    },
    {
     "name": "stderr",
     "output_type": "stream",
     "text": [
      "/usr/local/lib/python3.6/dist-packages/bfast/monitor/opencl/bfastfinal.py:17894: RuntimeWarning: overflow encountered in int_scalars\n",
      "  num_threads_32532 = (n_30761 * convop_x_37235)\n",
      "\n",
      "Processing blocks of tile::  75%|███████▌  | 12/16.0 [01:54<00:40, 10.03s/it]\u001b[A"
     ]
    },
    {
     "name": "stdout",
     "output_type": "stream",
     "text": [
      "--- runtime for kernel execution:\t\t0.09741568565368652\n",
      "--- runtime for data transfer (device->host):\t0.017086505889892578\n",
      "1536 1024 512 512\n",
      "--- runtime for data initialization:\t\t0.002422809600830078\n",
      "--- runtime for data transfer (host->device):\t0.0980842113494873\n",
      "--- runtime for data preprocessing:\t\t0.012174844741821289\n"
     ]
    },
    {
     "name": "stderr",
     "output_type": "stream",
     "text": [
      "/usr/local/lib/python3.6/dist-packages/bfast/monitor/opencl/bfastfinal.py:17894: RuntimeWarning: overflow encountered in int_scalars\n",
      "  num_threads_32532 = (n_30761 * convop_x_37235)\n",
      "\n",
      "Processing blocks of tile::  81%|████████▏ | 13/16.0 [02:04<00:30, 10.09s/it]\u001b[A"
     ]
    },
    {
     "name": "stdout",
     "output_type": "stream",
     "text": [
      "--- runtime for kernel execution:\t\t0.09784746170043945\n",
      "--- runtime for data transfer (device->host):\t0.01671624183654785\n",
      "0 1536 512 512\n",
      "--- runtime for data initialization:\t\t0.0025300979614257812\n",
      "--- runtime for data transfer (host->device):\t0.09766530990600586\n",
      "--- runtime for data preprocessing:\t\t0.014640092849731445\n"
     ]
    },
    {
     "name": "stderr",
     "output_type": "stream",
     "text": [
      "/usr/local/lib/python3.6/dist-packages/bfast/monitor/opencl/bfastfinal.py:17894: RuntimeWarning: overflow encountered in int_scalars\n",
      "  num_threads_32532 = (n_30761 * convop_x_37235)\n",
      "\n",
      "Processing blocks of tile::  88%|████████▊ | 14/16.0 [02:14<00:20, 10.06s/it]\u001b[A"
     ]
    },
    {
     "name": "stdout",
     "output_type": "stream",
     "text": [
      "--- runtime for kernel execution:\t\t0.12455081939697266\n",
      "--- runtime for data transfer (device->host):\t0.016492843627929688\n",
      "512 1536 512 512\n",
      "--- runtime for data initialization:\t\t0.0024335384368896484\n",
      "--- runtime for data transfer (host->device):\t0.09835696220397949\n",
      "--- runtime for data preprocessing:\t\t0.013204336166381836\n"
     ]
    },
    {
     "name": "stderr",
     "output_type": "stream",
     "text": [
      "/usr/local/lib/python3.6/dist-packages/bfast/monitor/opencl/bfastfinal.py:17894: RuntimeWarning: overflow encountered in int_scalars\n",
      "  num_threads_32532 = (n_30761 * convop_x_37235)\n",
      "\n",
      "Processing blocks of tile::  94%|█████████▍| 15/16.0 [02:25<00:10, 10.15s/it]\u001b[A"
     ]
    },
    {
     "name": "stdout",
     "output_type": "stream",
     "text": [
      "--- runtime for kernel execution:\t\t0.1177058219909668\n",
      "--- runtime for data transfer (device->host):\t0.02154088020324707\n",
      "1024 1536 512 512\n",
      "--- runtime for data initialization:\t\t0.002438783645629883\n",
      "--- runtime for data transfer (host->device):\t0.09769964218139648\n",
      "--- runtime for data preprocessing:\t\t0.015463113784790039\n"
     ]
    },
    {
     "name": "stderr",
     "output_type": "stream",
     "text": [
      "/usr/local/lib/python3.6/dist-packages/bfast/monitor/opencl/bfastfinal.py:17894: RuntimeWarning: overflow encountered in int_scalars\n",
      "  num_threads_32532 = (n_30761 * convop_x_37235)\n",
      "\n",
      "Processing blocks of tile:: 100%|██████████| 16/16.0 [02:35<00:00, 10.19s/it]\u001b[A"
     ]
    },
    {
     "name": "stdout",
     "output_type": "stream",
     "text": [
      "--- runtime for kernel execution:\t\t0.13373565673828125\n",
      "--- runtime for data transfer (device->host):\t0.01636815071105957\n",
      "1536 1536 512 512\n",
      "--- runtime for data initialization:\t\t0.0024161338806152344\n",
      "--- runtime for data transfer (host->device):\t0.09758186340332031\n",
      "--- runtime for data preprocessing:\t\t0.014365911483764648\n"
     ]
    },
    {
     "name": "stderr",
     "output_type": "stream",
     "text": [
      "/usr/local/lib/python3.6/dist-packages/bfast/monitor/opencl/bfastfinal.py:17894: RuntimeWarning: overflow encountered in int_scalars\n",
      "  num_threads_32532 = (n_30761 * convop_x_37235)\n",
      "Processing blocks of tile:: 100%|██████████| 16/16.0 [02:45<00:00, 10.35s/it]\n"
     ]
    },
    {
     "name": "stdout",
     "output_type": "stream",
     "text": [
      "--- runtime for kernel execution:\t\t0.11934900283813477\n",
      "--- runtime for data transfer (device->host):\t0.01665663719177246\n",
      "Fitting model over all blocks took 165.6670594215393 seconds.\n",
      "Monitoring starts at:  2015-08-03 00:00:00\n",
      "Monitoring ends at:  2020-08-02 00:00:00\n",
      "Dataset history starts at:  2000-10-06 00:00:00\n",
      "frequency:  365\n",
      "harmonic term:  3\n",
      "Hfrac: Float in the interval (0,1) specifying the bandwidth relative to the sample size in the MOSUM/ME monitoring processes.:  0.25\n",
      "Trend: Whether a tend offset term shall be used or not:  False\n",
      "Level: Significance level of the monitoring (and ROC, if selected) procedure, i.e., probability of type I error:  0.05\n",
      "backend: GPU opencl or CPU python:  opencl\n",
      "verbose: The verbosity level (0=no output, 1=output):  1\n",
      "output_arrays/Time_series_2020-08-24_11-43-37_lake-0-tile-0000000000-0000000000_means.npy\n",
      "output_arrays/Time_series_2020-08-24_11-43-37_lake-0-tile-0000000000-0000000000_breaks.npy\n"
     ]
    },
    {
     "name": "stderr",
     "output_type": "stream",
     "text": [
      "Processing tile 2 out of 6:   0%|          | 0/6 [02:46<?, ?it/s]\n",
      "  0%|          | 0/16.0 [00:00<?, ?it/s]\u001b[A\n",
      "Processing blocks of tile::   0%|          | 0/16.0 [00:00<?, ?it/s]\u001b[A"
     ]
    },
    {
     "name": "stdout",
     "output_type": "stream",
     "text": [
      "[<pyopencl.Device 'Tesla T4' on 'NVIDIA CUDA' at 0x45cc8c0>]\n",
      "rastersize:  2048 2048\n",
      "The natural block size is the block size that is most efficient for accessing the format, gdal found blocksize:  [128, 128]\n",
      "set blocksize explicitly:  512 ,  512\n",
      "bytes required:  30500978688\n",
      "start monitor:  2015-08-03 00:00:00\n",
      "end monitor:  2020-08-02 00:00:00\n",
      "start history:  2000-10-06 00:00:00\n",
      "0 0 512 512\n",
      "--- runtime for data initialization:\t\t0.002927541732788086\n",
      "--- runtime for data transfer (host->device):\t0.09764671325683594\n",
      "--- runtime for data preprocessing:\t\t0.016915321350097656\n"
     ]
    },
    {
     "name": "stderr",
     "output_type": "stream",
     "text": [
      "/usr/local/lib/python3.6/dist-packages/bfast/monitor/opencl/bfastfinal.py:17894: RuntimeWarning: overflow encountered in int_scalars\n",
      "  num_threads_32532 = (n_30761 * convop_x_37235)\n",
      "\n",
      "Processing blocks of tile::  12%|█▎        | 2/16.0 [00:18<02:07,  9.12s/it]\u001b[A"
     ]
    },
    {
     "name": "stdout",
     "output_type": "stream",
     "text": [
      "--- runtime for kernel execution:\t\t0.13023018836975098\n",
      "--- runtime for data transfer (device->host):\t0.02157449722290039\n",
      "512 0 512 512\n",
      "--- runtime for data initialization:\t\t0.002447843551635742\n",
      "--- runtime for data transfer (host->device):\t0.10284423828125\n",
      "--- runtime for data preprocessing:\t\t0.012232065200805664\n"
     ]
    },
    {
     "name": "stderr",
     "output_type": "stream",
     "text": [
      "/usr/local/lib/python3.6/dist-packages/bfast/monitor/opencl/bfastfinal.py:17894: RuntimeWarning: overflow encountered in int_scalars\n",
      "  num_threads_32532 = (n_30761 * convop_x_37235)\n",
      "\n",
      "Processing blocks of tile::  19%|█▉        | 3/16.0 [00:29<02:06,  9.71s/it]\u001b[A"
     ]
    },
    {
     "name": "stdout",
     "output_type": "stream",
     "text": [
      "--- runtime for kernel execution:\t\t0.10447263717651367\n",
      "--- runtime for data transfer (device->host):\t0.01797795295715332\n",
      "1024 0 512 512\n",
      "--- runtime for data initialization:\t\t0.002420186996459961\n",
      "--- runtime for data transfer (host->device):\t0.09790205955505371\n",
      "--- runtime for data preprocessing:\t\t0.014553070068359375\n"
     ]
    },
    {
     "name": "stderr",
     "output_type": "stream",
     "text": [
      "/usr/local/lib/python3.6/dist-packages/bfast/monitor/opencl/bfastfinal.py:17894: RuntimeWarning: overflow encountered in int_scalars\n",
      "  num_threads_32532 = (n_30761 * convop_x_37235)\n",
      "\n",
      "Processing blocks of tile::  25%|██▌       | 4/16.0 [00:40<02:00, 10.01s/it]\u001b[A"
     ]
    },
    {
     "name": "stdout",
     "output_type": "stream",
     "text": [
      "--- runtime for kernel execution:\t\t0.13553929328918457\n",
      "--- runtime for data transfer (device->host):\t0.01667332649230957\n",
      "1536 0 512 512\n",
      "--- runtime for data initialization:\t\t0.0024220943450927734\n",
      "--- runtime for data transfer (host->device):\t0.09951257705688477\n",
      "--- runtime for data preprocessing:\t\t0.01438760757446289\n"
     ]
    },
    {
     "name": "stderr",
     "output_type": "stream",
     "text": [
      "/usr/local/lib/python3.6/dist-packages/bfast/monitor/opencl/bfastfinal.py:17894: RuntimeWarning: overflow encountered in int_scalars\n",
      "  num_threads_32532 = (n_30761 * convop_x_37235)\n",
      "\n",
      "Processing blocks of tile::  31%|███▏      | 5/16.0 [00:50<01:51, 10.14s/it]\u001b[A"
     ]
    },
    {
     "name": "stdout",
     "output_type": "stream",
     "text": [
      "--- runtime for kernel execution:\t\t0.12587451934814453\n",
      "--- runtime for data transfer (device->host):\t0.016504287719726562\n",
      "0 512 512 512\n",
      "--- runtime for data initialization:\t\t0.002398967742919922\n",
      "--- runtime for data transfer (host->device):\t0.09968447685241699\n",
      "--- runtime for data preprocessing:\t\t0.013057231903076172\n"
     ]
    },
    {
     "name": "stderr",
     "output_type": "stream",
     "text": [
      "/usr/local/lib/python3.6/dist-packages/bfast/monitor/opencl/bfastfinal.py:17894: RuntimeWarning: overflow encountered in int_scalars\n",
      "  num_threads_32532 = (n_30761 * convop_x_37235)\n",
      "\n",
      "Processing blocks of tile::  38%|███▊      | 6/16.0 [01:01<01:42, 10.27s/it]\u001b[A"
     ]
    },
    {
     "name": "stdout",
     "output_type": "stream",
     "text": [
      "--- runtime for kernel execution:\t\t0.11548829078674316\n",
      "--- runtime for data transfer (device->host):\t0.021033048629760742\n",
      "512 512 512 512\n",
      "--- runtime for data initialization:\t\t0.0024657249450683594\n",
      "--- runtime for data transfer (host->device):\t0.09826469421386719\n",
      "--- runtime for data preprocessing:\t\t0.012242317199707031\n"
     ]
    },
    {
     "name": "stderr",
     "output_type": "stream",
     "text": [
      "/usr/local/lib/python3.6/dist-packages/bfast/monitor/opencl/bfastfinal.py:17894: RuntimeWarning: overflow encountered in int_scalars\n",
      "  num_threads_32532 = (n_30761 * convop_x_37235)\n",
      "\n",
      "Processing blocks of tile::  44%|████▍     | 7/16.0 [01:11<01:32, 10.30s/it]\u001b[A"
     ]
    },
    {
     "name": "stdout",
     "output_type": "stream",
     "text": [
      "--- runtime for kernel execution:\t\t0.09840035438537598\n",
      "--- runtime for data transfer (device->host):\t0.01686716079711914\n",
      "1024 512 512 512\n",
      "--- runtime for data initialization:\t\t0.0024347305297851562\n",
      "--- runtime for data transfer (host->device):\t0.09849047660827637\n",
      "--- runtime for data preprocessing:\t\t0.012875080108642578\n"
     ]
    },
    {
     "name": "stderr",
     "output_type": "stream",
     "text": [
      "/usr/local/lib/python3.6/dist-packages/bfast/monitor/opencl/bfastfinal.py:17894: RuntimeWarning: overflow encountered in int_scalars\n",
      "  num_threads_32532 = (n_30761 * convop_x_37235)\n",
      "\n",
      "Processing blocks of tile::  50%|█████     | 8/16.0 [01:21<01:22, 10.36s/it]\u001b[A"
     ]
    },
    {
     "name": "stdout",
     "output_type": "stream",
     "text": [
      "--- runtime for kernel execution:\t\t0.11332964897155762\n",
      "--- runtime for data transfer (device->host):\t0.020595550537109375\n",
      "1536 512 512 512\n",
      "--- runtime for data initialization:\t\t0.0024268627166748047\n",
      "--- runtime for data transfer (host->device):\t0.09795570373535156\n",
      "--- runtime for data preprocessing:\t\t0.01212930679321289\n"
     ]
    },
    {
     "name": "stderr",
     "output_type": "stream",
     "text": [
      "/usr/local/lib/python3.6/dist-packages/bfast/monitor/opencl/bfastfinal.py:17894: RuntimeWarning: overflow encountered in int_scalars\n",
      "  num_threads_32532 = (n_30761 * convop_x_37235)\n",
      "\n",
      "Processing blocks of tile::  56%|█████▋    | 9/16.0 [01:32<01:12, 10.30s/it]\u001b[A"
     ]
    },
    {
     "name": "stdout",
     "output_type": "stream",
     "text": [
      "--- runtime for kernel execution:\t\t0.0984182357788086\n",
      "--- runtime for data transfer (device->host):\t0.016898155212402344\n",
      "0 1024 512 512\n",
      "--- runtime for data initialization:\t\t0.0024271011352539062\n",
      "--- runtime for data transfer (host->device):\t0.09783244132995605\n",
      "--- runtime for data preprocessing:\t\t0.012239694595336914\n"
     ]
    },
    {
     "name": "stderr",
     "output_type": "stream",
     "text": [
      "/usr/local/lib/python3.6/dist-packages/bfast/monitor/opencl/bfastfinal.py:17894: RuntimeWarning: overflow encountered in int_scalars\n",
      "  num_threads_32532 = (n_30761 * convop_x_37235)\n",
      "\n",
      "Processing blocks of tile::  62%|██████▎   | 10/16.0 [01:42<01:02, 10.40s/it]\u001b[A"
     ]
    },
    {
     "name": "stdout",
     "output_type": "stream",
     "text": [
      "--- runtime for kernel execution:\t\t0.0997774600982666\n",
      "--- runtime for data transfer (device->host):\t0.016544580459594727\n",
      "512 1024 512 512\n",
      "--- runtime for data initialization:\t\t0.0024225711822509766\n",
      "--- runtime for data transfer (host->device):\t0.0978403091430664\n",
      "--- runtime for data preprocessing:\t\t0.015507221221923828\n"
     ]
    },
    {
     "name": "stderr",
     "output_type": "stream",
     "text": [
      "/usr/local/lib/python3.6/dist-packages/bfast/monitor/opencl/bfastfinal.py:17894: RuntimeWarning: overflow encountered in int_scalars\n",
      "  num_threads_32532 = (n_30761 * convop_x_37235)\n",
      "\n",
      "Processing blocks of tile::  69%|██████▉   | 11/16.0 [01:53<00:51, 10.39s/it]\u001b[A"
     ]
    },
    {
     "name": "stdout",
     "output_type": "stream",
     "text": [
      "--- runtime for kernel execution:\t\t0.13691306114196777\n",
      "--- runtime for data transfer (device->host):\t0.01601099967956543\n",
      "1024 1024 512 512\n",
      "--- runtime for data initialization:\t\t0.0024933815002441406\n",
      "--- runtime for data transfer (host->device):\t0.09778308868408203\n",
      "--- runtime for data preprocessing:\t\t0.014655590057373047\n"
     ]
    },
    {
     "name": "stderr",
     "output_type": "stream",
     "text": [
      "/usr/local/lib/python3.6/dist-packages/bfast/monitor/opencl/bfastfinal.py:17894: RuntimeWarning: overflow encountered in int_scalars\n",
      "  num_threads_32532 = (n_30761 * convop_x_37235)\n",
      "\n",
      "Processing blocks of tile::  75%|███████▌  | 12/16.0 [02:03<00:41, 10.40s/it]\u001b[A"
     ]
    },
    {
     "name": "stdout",
     "output_type": "stream",
     "text": [
      "--- runtime for kernel execution:\t\t0.13321232795715332\n",
      "--- runtime for data transfer (device->host):\t0.016266584396362305\n",
      "1536 1024 512 512\n",
      "--- runtime for data initialization:\t\t0.002401113510131836\n",
      "--- runtime for data transfer (host->device):\t0.0981907844543457\n",
      "--- runtime for data preprocessing:\t\t0.013363361358642578\n"
     ]
    },
    {
     "name": "stderr",
     "output_type": "stream",
     "text": [
      "/usr/local/lib/python3.6/dist-packages/bfast/monitor/opencl/bfastfinal.py:17894: RuntimeWarning: overflow encountered in int_scalars\n",
      "  num_threads_32532 = (n_30761 * convop_x_37235)\n",
      "\n",
      "Processing blocks of tile::  81%|████████▏ | 13/16.0 [02:13<00:30, 10.31s/it]\u001b[A"
     ]
    },
    {
     "name": "stdout",
     "output_type": "stream",
     "text": [
      "--- runtime for kernel execution:\t\t0.10239171981811523\n",
      "--- runtime for data transfer (device->host):\t0.01663804054260254\n",
      "0 1536 512 512\n",
      "--- runtime for data initialization:\t\t0.0024509429931640625\n",
      "--- runtime for data transfer (host->device):\t0.09833526611328125\n",
      "--- runtime for data preprocessing:\t\t0.014157533645629883\n"
     ]
    },
    {
     "name": "stderr",
     "output_type": "stream",
     "text": [
      "/usr/local/lib/python3.6/dist-packages/bfast/monitor/opencl/bfastfinal.py:17894: RuntimeWarning: overflow encountered in int_scalars\n",
      "  num_threads_32532 = (n_30761 * convop_x_37235)\n",
      "\n",
      "Processing blocks of tile::  88%|████████▊ | 14/16.0 [02:24<00:20, 10.35s/it]\u001b[A"
     ]
    },
    {
     "name": "stdout",
     "output_type": "stream",
     "text": [
      "--- runtime for kernel execution:\t\t0.10545063018798828\n",
      "--- runtime for data transfer (device->host):\t0.016677379608154297\n",
      "512 1536 512 512\n",
      "--- runtime for data initialization:\t\t0.0025234222412109375\n",
      "--- runtime for data transfer (host->device):\t0.09918737411499023\n",
      "--- runtime for data preprocessing:\t\t0.01293182373046875\n"
     ]
    },
    {
     "name": "stderr",
     "output_type": "stream",
     "text": [
      "/usr/local/lib/python3.6/dist-packages/bfast/monitor/opencl/bfastfinal.py:17894: RuntimeWarning: overflow encountered in int_scalars\n",
      "  num_threads_32532 = (n_30761 * convop_x_37235)\n",
      "\n",
      "Processing blocks of tile::  94%|█████████▍| 15/16.0 [02:34<00:10, 10.27s/it]\u001b[A"
     ]
    },
    {
     "name": "stdout",
     "output_type": "stream",
     "text": [
      "--- runtime for kernel execution:\t\t0.11232638359069824\n",
      "--- runtime for data transfer (device->host):\t0.020221233367919922\n",
      "1024 1536 512 512\n",
      "--- runtime for data initialization:\t\t0.0024416446685791016\n",
      "--- runtime for data transfer (host->device):\t0.09840011596679688\n",
      "--- runtime for data preprocessing:\t\t0.012473344802856445\n"
     ]
    },
    {
     "name": "stderr",
     "output_type": "stream",
     "text": [
      "/usr/local/lib/python3.6/dist-packages/bfast/monitor/opencl/bfastfinal.py:17894: RuntimeWarning: overflow encountered in int_scalars\n",
      "  num_threads_32532 = (n_30761 * convop_x_37235)\n",
      "\n",
      "Processing blocks of tile:: 100%|██████████| 16/16.0 [02:44<00:00, 10.25s/it]\u001b[A"
     ]
    },
    {
     "name": "stdout",
     "output_type": "stream",
     "text": [
      "--- runtime for kernel execution:\t\t0.10420751571655273\n",
      "--- runtime for data transfer (device->host):\t0.01786065101623535\n",
      "1536 1536 512 512\n",
      "--- runtime for data initialization:\t\t0.0024209022521972656\n",
      "--- runtime for data transfer (host->device):\t0.09852147102355957\n",
      "--- runtime for data preprocessing:\t\t0.014223098754882812\n"
     ]
    },
    {
     "name": "stderr",
     "output_type": "stream",
     "text": [
      "/usr/local/lib/python3.6/dist-packages/bfast/monitor/opencl/bfastfinal.py:17894: RuntimeWarning: overflow encountered in int_scalars\n",
      "  num_threads_32532 = (n_30761 * convop_x_37235)\n",
      "Processing blocks of tile:: 100%|██████████| 16/16.0 [02:54<00:00, 10.91s/it]\n"
     ]
    },
    {
     "name": "stdout",
     "output_type": "stream",
     "text": [
      "--- runtime for kernel execution:\t\t0.12914299964904785\n",
      "--- runtime for data transfer (device->host):\t0.021062374114990234\n",
      "Fitting model over all blocks took 174.4928891658783 seconds.\n",
      "Monitoring starts at:  2015-08-03 00:00:00\n",
      "Monitoring ends at:  2020-08-02 00:00:00\n",
      "Dataset history starts at:  2000-10-06 00:00:00\n",
      "frequency:  365\n",
      "harmonic term:  3\n",
      "Hfrac: Float in the interval (0,1) specifying the bandwidth relative to the sample size in the MOSUM/ME monitoring processes.:  0.25\n",
      "Trend: Whether a tend offset term shall be used or not:  False\n",
      "Level: Significance level of the monitoring (and ROC, if selected) procedure, i.e., probability of type I error:  0.05\n",
      "backend: GPU opencl or CPU python:  opencl\n",
      "verbose: The verbosity level (0=no output, 1=output):  1\n",
      "output_arrays/Time_series_2020-08-24_11-43-37_lake-0-tile-0000000000-0000002048_means.npy\n",
      "output_arrays/Time_series_2020-08-24_11-43-37_lake-0-tile-0000000000-0000002048_breaks.npy\n"
     ]
    },
    {
     "name": "stderr",
     "output_type": "stream",
     "text": [
      "Processing tile 3 out of 6:  17%|█▋        | 1/6 [05:41<14:35, 175.06s/it]\n",
      "  0%|          | 0/5.515625 [00:00<?, ?it/s]\u001b[A\n",
      "Processing blocks of tile::   0%|          | 0/5.515625 [00:00<?, ?it/s]\u001b[A"
     ]
    },
    {
     "name": "stdout",
     "output_type": "stream",
     "text": [
      "[<pyopencl.Device 'Tesla T4' on 'NVIDIA CUDA' at 0x45cc8c0>]\n",
      "rastersize:  706 2048\n",
      "The natural block size is the block size that is most efficient for accessing the format, gdal found blocksize:  [128, 128]\n",
      "set blocksize explicitly:  512 ,  512\n",
      "bytes required:  10514497536\n",
      "start monitor:  2015-08-03 00:00:00\n",
      "end monitor:  2020-08-02 00:00:00\n",
      "start history:  2000-10-06 00:00:00\n",
      "0 0 512 512\n",
      "--- runtime for data initialization:\t\t0.0023889541625976562\n",
      "--- runtime for data transfer (host->device):\t0.09842061996459961\n",
      "--- runtime for data preprocessing:\t\t0.01718735694885254\n"
     ]
    },
    {
     "name": "stderr",
     "output_type": "stream",
     "text": [
      "/usr/local/lib/python3.6/dist-packages/bfast/monitor/opencl/bfastfinal.py:17894: RuntimeWarning: overflow encountered in int_scalars\n",
      "  num_threads_32532 = (n_30761 * convop_x_37235)\n",
      "\n",
      "Processing blocks of tile::  36%|███▋      | 2/5.515625 [00:16<00:29,  8.44s/it]\u001b[A"
     ]
    },
    {
     "name": "stdout",
     "output_type": "stream",
     "text": [
      "--- runtime for kernel execution:\t\t0.17305898666381836\n",
      "--- runtime for data transfer (device->host):\t0.02689218521118164\n",
      "512 0 194 512\n"
     ]
    },
    {
     "name": "stderr",
     "output_type": "stream",
     "text": [
      "/usr/local/lib/python3.6/dist-packages/bfast/monitor/opencl/bfastfinal.py:17894: RuntimeWarning: overflow encountered in int_scalars\n",
      "  num_threads_32532 = (n_30761 * convop_x_37235)\n",
      "\n",
      "Processing blocks of tile::  54%|█████▍    | 3/5.515625 [00:22<00:19,  7.64s/it]\u001b[A"
     ]
    },
    {
     "name": "stdout",
     "output_type": "stream",
     "text": [
      "--- runtime for data initialization:\t\t0.0023946762084960938\n",
      "--- runtime for data transfer (host->device):\t0.037455081939697266\n",
      "--- runtime for data preprocessing:\t\t0.006181240081787109\n",
      "--- runtime for kernel execution:\t\t0.04199028015136719\n",
      "--- runtime for data transfer (device->host):\t0.007503509521484375\n",
      "0 512 512 512\n",
      "--- runtime for data initialization:\t\t0.002450227737426758\n",
      "--- runtime for data transfer (host->device):\t0.09742140769958496\n",
      "--- runtime for data preprocessing:\t\t0.016887187957763672\n"
     ]
    },
    {
     "name": "stderr",
     "output_type": "stream",
     "text": [
      "/usr/local/lib/python3.6/dist-packages/bfast/monitor/opencl/bfastfinal.py:17894: RuntimeWarning: overflow encountered in int_scalars\n",
      "  num_threads_32532 = (n_30761 * convop_x_37235)\n",
      "\n",
      "Processing blocks of tile::  73%|███████▎  | 4/5.515625 [00:32<00:12,  8.28s/it]\u001b[A"
     ]
    },
    {
     "name": "stdout",
     "output_type": "stream",
     "text": [
      "--- runtime for kernel execution:\t\t0.12965130805969238\n",
      "--- runtime for data transfer (device->host):\t0.02166748046875\n",
      "512 512 194 512\n"
     ]
    },
    {
     "name": "stderr",
     "output_type": "stream",
     "text": [
      "/usr/local/lib/python3.6/dist-packages/bfast/monitor/opencl/bfastfinal.py:17894: RuntimeWarning: overflow encountered in int_scalars\n",
      "  num_threads_32532 = (n_30761 * convop_x_37235)\n",
      "\n",
      "Processing blocks of tile::  91%|█████████ | 5/5.515625 [00:38<00:03,  7.50s/it]\u001b[A"
     ]
    },
    {
     "name": "stdout",
     "output_type": "stream",
     "text": [
      "--- runtime for data initialization:\t\t0.0023987293243408203\n",
      "--- runtime for data transfer (host->device):\t0.03728914260864258\n",
      "--- runtime for data preprocessing:\t\t0.006459712982177734\n",
      "--- runtime for kernel execution:\t\t0.045368194580078125\n",
      "--- runtime for data transfer (device->host):\t0.008465766906738281\n",
      "0 1024 512 512\n",
      "--- runtime for data initialization:\t\t0.002428293228149414\n",
      "--- runtime for data transfer (host->device):\t0.0975198745727539\n",
      "--- runtime for data preprocessing:\t\t0.01685333251953125\n"
     ]
    }
   ],
   "source": [
    "from tqdm import tqdm\n",
    "\n",
    "# if you get a memory error, set this lower: 256, 128, 512\n",
    "x_block = y_block = 512\n",
    "\n",
    "\n",
    "with tqdm(total=len(data_list)) as pbar1:\n",
    "        \n",
    "    for counter, ts_data in enumerate(data_list):\n",
    "        pbar1.set_description(\"Processing tile %s out of %s\" % (counter+1, len(data_list)) )\n",
    "        ts_data.set_bfast_parameters(start_monitor,end_monitor,start_hist,freq,k,hfrac,trend,level,backend=backend,verbose=verbose,device_id=device_id)\n",
    "        ts_data.loop_blocks(x_block_size = x_block,y_block_size=y_block)\n",
    "        ts_data.get_bfast_parameters()\n",
    "        ts_data.log_output_to_txt()\n",
    "        ts_data.log_breaks_means_arrays()\n",
    "        pbar1.update(counter)\n",
    "pbar1.close()\n",
    "\n",
    "# add warning for large block size, gets stuck? or so?"
   ]
  },
  {
   "cell_type": "markdown",
   "metadata": {},
   "source": [
    "### Check tiles for output quality"
   ]
  },
  {
   "cell_type": "code",
   "execution_count": null,
   "metadata": {},
   "outputs": [],
   "source": [
    "for tile in data_list:\n",
    "    print(tile.dir)\n",
    "    \n",
    "    # if you want to load in previously saved tiles\n",
    "    #tile.load_breaks_means_arrays_from_file()\n",
    "    \n",
    "    # do some plots\n",
    "    breaks = ts_data.breaks_array\n",
    "    means = ts_data.means_array\n",
    "    plt.imshow(means)\n",
    "    plt.show()\n",
    "    \n",
    "    plt.imshow(breaks)\n",
    "    plt.show()\n",
    "\n",
    "    tile.check_arrays(min_perc_lacking_data = 50)\n",
    "    \n"
   ]
  },
  {
   "cell_type": "code",
   "execution_count": null,
   "metadata": {},
   "outputs": [],
   "source": []
  },
  {
   "cell_type": "code",
   "execution_count": null,
   "metadata": {},
   "outputs": [],
   "source": [
    "# # So this is for merging tiles back together, it seems to work... but need to know for sure.. \n",
    "# # since it does not work in one direction, this one should be correct?\n",
    "\n",
    "# # Make a function to do this\n",
    "\n",
    "\n",
    "\n",
    "\n",
    "# if len(data_list) > 1:\n",
    "    \n",
    "#     x_locs = []\n",
    "#     y_locs = []\n",
    "#     for tile in data_list:\n",
    "#         loc_index = tile.dir.find(\"tile-\")\n",
    "#         tile_loc = tile.dir[loc_index+5:-1].split(\"-\")\n",
    "#         print(tile_loc)\n",
    "#         if tile_loc[0] not in x_locs:\n",
    "#             x_locs.append(tile_loc[0])\n",
    "#         if tile_loc[1] not in y_locs:\n",
    "#             y_locs.append(tile_loc[1])\n",
    "\n",
    "#     firstx=True\n",
    "#     for tile in data_list:\n",
    "#         for x in x_locs:\n",
    "#             firsty = True\n",
    "\n",
    "#             for y in y_locs:\n",
    "#                 if firsty == True:\n",
    "#                     means_array = tile.means_array\n",
    "#                     small_means_array = tile.means_array[]\n",
    "#                     breaks_array = tile.breaks_array\n",
    "#                     firsty = False\n",
    "#                 else:\n",
    "#                     means_array = np.concatenate((means_array, tile.means_array), axis = 1)\n",
    "#                     breaks_array = np.concatenate((breaks_array, tile.breaks_array), axis = 1)\n",
    "\n",
    "#         if firstx==True:\n",
    "#             big_means_array = means_array\n",
    "#             big_breaks_array = breaks_array     \n",
    "#             firstx=False\n",
    "#         else:\n",
    "#             big_means_array = np.concatenate((big_means_array, means_array),axis = 0)\n",
    "#             big_breaks_array = np.concatenate((big_breaks_array, breaks_array),axis = 0)\n",
    "\n",
    "\n",
    "#     # work on new names, and output bit tile stuff so we only have to do it once\n",
    "    \n",
    "#     arrays_directory = \"output_arrays\"\n",
    "#     if not os.path.exists(\"output_arrays\"):\n",
    "#         os.makedirs(arrays_directory)\n",
    "\n",
    "#     try:\n",
    "#         start_index = save_dir.find(\"Time_series\")\n",
    "#     except:\n",
    "#         start_index = 1\n",
    "    \n",
    "#     save_dir = timeseries_directory.replace(\"/\",\"-\")[start_index:]\n",
    "    \n",
    "    \n",
    "#     save_means_dir = arrays_directory + \"/\" + save_dir + \"_\" + datetime.now().strftime(\"%Y-%m-%d-%H-%M-%S\") + \"_all_means.npy\"\n",
    "#     save_breaks_dir = arrays_directory + \"/\" + save_dir + \"_\" + datetime.now().strftime(\"%Y-%m-%d-%H-%M-%S\") + \"_all_breaks.npy\"\n",
    "#     print(save_means_dir)\n",
    "#     print(save_breaks_dir)\n",
    "#     np.save(save_means_dir, big_means_array)\n",
    "#     np.save(save_breaks_dir, big_breaks_array)\n",
    "\n",
    "    \n",
    "\n",
    "\n",
    "\n",
    "# # for tile in data_list:\n",
    "# #     # regex for the word tile:\n",
    "# #     # then call the numbers col and row\n",
    "# #     # then first loop over cols, then over rows\n",
    "# #     print(tile.dir)\n",
    "# #     namelist.append(tile.dir)\n",
    "# # tile0_0.\n",
    "# #print(namelist.sort())"
   ]
  },
  {
   "cell_type": "markdown",
   "metadata": {},
   "source": [
    "## Run bfastmonitor() The loop_blocks code runs over smaller blocks, that may be set based on ram space or user itself..?\n"
   ]
  },
  {
   "cell_type": "markdown",
   "metadata": {},
   "source": [
    "# Select negative magnitudes"
   ]
  },
  {
   "cell_type": "code",
   "execution_count": null,
   "metadata": {
    "scrolled": false
   },
   "outputs": [],
   "source": [
    "if len(data_list)>1:\n",
    "    means = big_means_array\n",
    "    breaks = big_breaks_array\n",
    "else:\n",
    "    breaks = ts_data.breaks_array\n",
    "    means = ts_data.means_array\n",
    "\n",
    "plt.imshow(means)\n",
    "plt.show()\n",
    "plt.imshow(breaks)\n",
    "plt.show()\n"
   ]
  },
  {
   "cell_type": "code",
   "execution_count": null,
   "metadata": {},
   "outputs": [],
   "source": [
    "means = data_list[-1].means_array\n",
    "breaks = data_list[-1].breaks_array"
   ]
  },
  {
   "cell_type": "code",
   "execution_count": null,
   "metadata": {},
   "outputs": [],
   "source": [
    "# import seaborn as sns\n",
    "\n",
    "# select only negative magnitudes\n",
    "no_breaks_indices = (breaks == -1)\n",
    "means[no_breaks_indices] = 0\n",
    "means[means > 0] = 0 # only want negative mean changes\n",
    "\n",
    "breaks_plot = breaks.astype(np.float)\n",
    "breaks_plot[breaks == -2] = np.nan\n",
    "breaks_plot[breaks == -1] = np.nan\n",
    "breaks_plot[means >= 0] = np.nan\n",
    "\n",
    "# print(\"magnitude change heatmap\")\n",
    "# sns.heatmap(orig_means,  linewidths=1)\n"
   ]
  },
  {
   "cell_type": "code",
   "execution_count": null,
   "metadata": {},
   "outputs": [],
   "source": [
    "dates_monitor = []\n",
    "dates = ts_data.dates\n",
    "# collect dates for monitor period\n",
    "for i in range(len(dates)):\n",
    "    if start_monitor <= dates[i]:\n",
    "        dates_monitor.append(dates[i])\n",
    "dates_array = np.array(dates_monitor) # dates_array is the dates that are in the monitoring period\n"
   ]
  },
  {
   "cell_type": "markdown",
   "metadata": {},
   "source": [
    "# Classify output for plotting"
   ]
  },
  {
   "cell_type": "code",
   "execution_count": null,
   "metadata": {},
   "outputs": [],
   "source": [
    "idx_starts = {}\n",
    "\n",
    "# this gives the index of all the data points in the year and after\n",
    "for year in range(start_monitor.year,end_monitor.year+1):\n",
    "    idx_starts[year] = np.argmax((dates_array >= datetime(year, 1, 1)) > False) \n",
    "\n",
    "    breaks_plot_years = copy.deepcopy(breaks_plot)\n",
    "\n",
    "#classifying for plotting\n",
    "ticklist=[]\n",
    "for idx, year in enumerate(idx_starts):\n",
    "    ticklist.append(str(year))\n",
    "    \n",
    "    # if we're at the last year\n",
    "    if idx == len(idx_starts)-1:\n",
    "        breaks_plot_years[np.where(idx_starts[year] < breaks_plot)] = len(idx_starts)-1 \n",
    "        continue\n",
    "    \n",
    "    # if we're at the first year\n",
    "    if idx == 0:\n",
    "        breaks_plot_years[breaks_plot <= idx_starts[year+1]] = 0\n",
    "        continue\n",
    "    \n",
    "    # all other years in between\n",
    "    breaks_plot_years[np.where(np.logical_and(idx_starts[year] < breaks_plot, breaks_plot <= idx_starts[year+1]))] = idx\n",
    "    "
   ]
  },
  {
   "cell_type": "markdown",
   "metadata": {},
   "source": [
    "# Plot output"
   ]
  },
  {
   "cell_type": "code",
   "execution_count": null,
   "metadata": {},
   "outputs": [],
   "source": [
    "bins = len(idx_starts)\n",
    "# from matplotlib.pyplot import figure\n",
    "# figure(num=None, figsize=(20, 15), dpi=80, facecolor='w', edgecolor='k')\n",
    "\n",
    "cmap = plt.get_cmap(\"rainbow\")\n",
    "cmaplist = [cmap(i) for i in range(cmap.N)]\n",
    "cmap = cmap.from_list('Custom cmap', cmaplist, cmap.N)\n",
    "\n",
    "bounds = np.linspace(0, bins-1, bins) #third number is the amount of bins in the colorbar 0=0, 6 = ncolors, 7= nyears\n",
    "norm = matplotlib.colors.BoundaryNorm(bounds, cmap.N)\n",
    "\n",
    "fig, axes = plt.subplots(nrows=1, ncols=1, figsize=(10, 10))\n",
    "\n",
    "#norm doesn't work with bins = 2 or less... now the colorbar is ugly, fix it later\n",
    "\n",
    "if bins == 1:\n",
    "    im = axes.imshow(breaks_plot_years,cmap=cmap,vmin=0,vmax=bins)\n",
    "if bins == 2:\n",
    "    im = axes.imshow(breaks_plot_years,cmap=cmap,vmin=0,vmax=bins)\n",
    "else:\n",
    "    im = axes.imshow(breaks_plot_years, cmap=cmap, vmin=0, vmax=bins, norm=norm)\n",
    "\n",
    "fig.subplots_adjust(right=0.8)\n",
    "cbar_ax = fig.add_axes([0.85, 0.15, 0.05, 0.7])\n",
    "fig.colorbar(im, cax=cbar_ax, ticks=range(bins))\n",
    "labels = cbar_ax.set_yticklabels(ticklist)\n",
    "\n",
    "plt.savefig(\"./output/picture.png\")\n",
    "plt.show()\n",
    "\n"
   ]
  },
  {
   "cell_type": "markdown",
   "metadata": {},
   "source": [
    "print(bounds)"
   ]
  },
  {
   "cell_type": "code",
   "execution_count": null,
   "metadata": {},
   "outputs": [],
   "source": [
    "print(bounds)"
   ]
  },
  {
   "cell_type": "code",
   "execution_count": null,
   "metadata": {},
   "outputs": [],
   "source": [
    "# #this doesn't work yet\n",
    "\n",
    "# output_raster = gdal.GetDriverByName('GTiff').Create('myraster.tif',cols, rows, 1 ,gdal.GDT_Float32)  # Open the file\n",
    "\n",
    "# output_raster.SetGeoTransform(geotransform)  # Specify its coordinates\n",
    "# srs = osr.SpatialReference()                 # Establish its coordinate encoding\n",
    "# srs.ImportFromEPSG(4326)                     # This one specifies WGS84 lat long.\n",
    "#                                              # Anyone know how to specify the \n",
    "#                                              # IAU2000:49900 Mars encoding?\n",
    "# output_raster.SetProjection( srs.ExportToWkt() )   # Exports the coordinate system \n",
    "#                                                    # to the file\n",
    "# output_raster.GetRasterBand(1).WriteArray(breaks_plot_years)   # Writes my array to the raster\n",
    "\n",
    "# output_raster.FlushCache()\n",
    "\n",
    "# output_raster"
   ]
  },
  {
   "cell_type": "code",
   "execution_count": null,
   "metadata": {},
   "outputs": [],
   "source": [
    "print(breaks_plot_years)\n",
    "breaks_plot_years_norm = 1/(breaks_plot_years + 0.01)\n",
    "print(breaks_plot_years_norm)"
   ]
  },
  {
   "cell_type": "code",
   "execution_count": null,
   "metadata": {},
   "outputs": [],
   "source": [
    "#cmap = plt.get_cmap(\"Oranges\")\n",
    "\n",
    "#cmaplist = [cmap(i) for i in range(cmap.N)]\n",
    "\n",
    "#cmap = cmap.from_list('Custom cmap', cmaplist, cmap.N)\n",
    "\n",
    "from matplotlib import cm\n",
    "from matplotlib.colors import ListedColormap, LinearSegmentedColormap\n",
    "\n",
    "# viridis = cm.get_cmap('viridis', 12)\n",
    "# print(viridis)\n",
    "# print(viridis(0.56))\n",
    "\n",
    "viridis = cm.get_cmap('rainbow', 256)\n",
    "newcolors = viridis(np.linspace(0, 1, 256))\n",
    "pink = np.array([248/256, 24/256, 148/256, 0])\n",
    "newcolors[:1, :] = pink\n",
    "newcmp = ListedColormap(newcolors)"
   ]
  },
  {
   "cell_type": "code",
   "execution_count": null,
   "metadata": {},
   "outputs": [],
   "source": [
    "print(latitude)\n",
    "print(xpixelsize)\n",
    "print(cols)\n",
    "print(longitude)\n",
    "print(ypixelsize)\n",
    "print(rows)"
   ]
  },
  {
   "cell_type": "code",
   "execution_count": null,
   "metadata": {},
   "outputs": [],
   "source": [
    "print(ts_data.latitude)\n",
    "print(ts_data.longitude)"
   ]
  },
  {
   "cell_type": "code",
   "execution_count": null,
   "metadata": {},
   "outputs": [],
   "source": [
    "# this is probs still wrong\n",
    "\n",
    "from folium.plugins import FloatImage\n",
    "import base64\n",
    "latitude = ts_data.latitude\n",
    "longitude = ts_data.longitude\n",
    "xpixelsize= ts_data.xpixelsize\n",
    "ypixelsize= ts_data.ypixelsize\n",
    "rows = ts_data.nrows\n",
    "cols = ts_data.ncols\n",
    "\n",
    "m = folium.folium.Map(location = (latitude,longitude),tiles = \"Stamen Terrain\",zoom_start=13)\n",
    "\n",
    "# if not all data is \n",
    "#rows = 200\n",
    "#cols = 200\n",
    "\n",
    "\n",
    "# bounds = [[lat_min, lon_min], [lat_max, lon_max]]\n",
    "\n",
    "folium.raster_layers.ImageOverlay(\n",
    "    image=breaks_plot_years_norm,\n",
    "    bounds=[[latitude, longitude], [latitude + (rows*xpixelsize), longitude + (cols*xpixelsize)]],\n",
    "    colormap = newcmp\n",
    ").add_to(m)\n",
    "img = \"output/picture.png\" \n",
    "\n",
    "\n",
    "####\n",
    "resolution, width, height = 75, 4,4\n",
    "encoded = base64.b64encode(open(\"output/picture.png\", 'rb').read()).decode()\n",
    "from folium import IFrame\n",
    "\n",
    "html = '<img src=\"data:image/png;base64,{}\">'.format\n",
    "iframe = IFrame(html(encoded), width=(width*resolution)+20, height=(height*resolution)+20)\n",
    "popup = folium.Popup(iframe, max_width=2650)\n",
    "\n",
    "icon = folium.Icon(color=\"red\", icon=\"ok\")\n",
    "marker = folium.Marker(location=[latitude, longitude], popup=popup, icon=icon)\n",
    "marker.add_to(m)\n",
    "####\n",
    "\n",
    "m.save(os.path.join('output/PortugalBigger_gpu.html'))\n",
    "m"
   ]
  },
  {
   "cell_type": "code",
   "execution_count": null,
   "metadata": {},
   "outputs": [],
   "source": []
  },
  {
   "cell_type": "code",
   "execution_count": null,
   "metadata": {},
   "outputs": [],
   "source": []
  }
 ],
 "metadata": {
  "kernelspec": {
   "display_name": "Python 3",
   "language": "python",
   "name": "python3"
  },
  "language_info": {
   "codemirror_mode": {
    "name": "ipython",
    "version": 3
   },
   "file_extension": ".py",
   "mimetype": "text/x-python",
   "name": "python",
   "nbconvert_exporter": "python",
   "pygments_lexer": "ipython3",
   "version": "3.6.9"
  }
 },
 "nbformat": 4,
 "nbformat_minor": 4
}
