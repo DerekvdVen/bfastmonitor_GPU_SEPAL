{
 "cells": [
  {
   "cell_type": "markdown",
   "metadata": {},
   "source": [
    "# Bfastmonitor CPU using Python\n",
    "## This is bfastmonitor Python"
   ]
  },
  {
   "cell_type": "code",
   "execution_count": 1,
   "metadata": {},
   "outputs": [],
   "source": [
    "import os\n",
    "import wget\n",
    "import numpy as np\n",
    "from datetime import datetime\n",
    "\n",
    "from bfast import BFASTMonitor\n",
    "from bfast.utils import crop_data_dates\n",
    "\n",
    "import copy\n",
    "\n",
    "import matplotlib\n",
    "import matplotlib.pyplot as plt\n",
    "\n",
    "#from sar so extra\n",
    "import csv\n",
    "from shutil import copyfile\n",
    "import pandas as pd\n",
    "from osgeo import gdal\n",
    "from osgeo import gdal_array\n",
    "from osgeo import osr\n",
    "\n",
    "import time\n",
    "import ipywidgets as widgets\n",
    "\n",
    "import ipyfilechooser\n",
    "import folium"
   ]
  },
  {
   "cell_type": "code",
   "execution_count": 2,
   "metadata": {},
   "outputs": [],
   "source": [
    "%matplotlib inline"
   ]
  },
  {
   "cell_type": "markdown",
   "metadata": {},
   "source": [
    "## Select the time series data folder in your downloads folder. Alternatively, select a different time series folder using ipyfilechooser"
   ]
  },
  {
   "cell_type": "code",
   "execution_count": 3,
   "metadata": {},
   "outputs": [
    {
     "data": {
      "application/vnd.jupyter.widget-view+json": {
       "model_id": "188b6969c32a4b9bad7631a78e715f43",
       "version_major": 2,
       "version_minor": 0
      },
      "text/plain": [
       "interactive(children=(Combobox(value='', description='Select your time series folder: ', options=('gfc', 'Time…"
      ]
     },
     "metadata": {},
     "output_type": "display_data"
    },
    {
     "data": {
      "application/vnd.jupyter.widget-view+json": {
       "model_id": "af9d376aed394836877b9f7d39ba7ad8",
       "version_major": 2,
       "version_minor": 0
      },
      "text/plain": [
       "interactive(children=(Text(value='', description='Output storage name:', placeholder='output', style=Descripti…"
      ]
     },
     "metadata": {},
     "output_type": "display_data"
    }
   ],
   "source": [
    "from os.path import expanduser\n",
    "path = expanduser(\"~\")\n",
    "\n",
    "def f(time_series):\n",
    "    return(time_series)\n",
    "def g(directory):\n",
    "    return(directory)\n",
    "\n",
    "time_series_folder = widgets.interactive(f, \n",
    "                        time_series=widgets.Combobox(options=os.listdir(path + \"/downloads/\"),\n",
    "                                                     description=\"Select your time series folder: \",\n",
    "                                                     style = {'description_width': 'initial'},\n",
    "                                                     placeholder = \"Time_series_...\"))\n",
    "                            \n",
    "output_directory_name = widgets.interactive(g, \n",
    "                        directory=widgets.Text(description=\"Output storage name:\", \n",
    "                                               style = {'description_width': 'initial'},\n",
    "                                               placeholder = \"output\"))\n",
    "\n",
    "display(time_series_folder)\n",
    "display(output_directory_name)\n",
    "\n",
    "\n",
    "# how to have the thing wait untill a user fills in the time series"
   ]
  },
  {
   "cell_type": "code",
   "execution_count": 5,
   "metadata": {},
   "outputs": [
    {
     "name": "stdout",
     "output_type": "stream",
     "text": [
      "Chosen timeseries:  /home/dven/downloads/Time_series_2020-07-10_13-33-30/1/\n",
      "Defaulting to output directory name \"output\" \n"
     ]
    }
   ],
   "source": [
    "timeseries_directory = time_series_folder.result\n",
    "output_directory = output_directory_name.result\n",
    "\n",
    "if not time_series_folder.result:\n",
    "    raise Exception(\"No timeseries selected. Please choose a timeseries folder above. \")\n",
    "else:\n",
    "    timeseries_directory = path + \"/downloads/\" + time_series_folder.result + \"/1/\"\n",
    "    print(\"Chosen timeseries: \", timeseries_directory)\n",
    "\n",
    "\n",
    "if not output_directory_name.result:\n",
    "    print(\"Defaulting to output directory name \\\"output\\\" \")\n",
    "    if not os.path.exists(\"output\"):\n",
    "        data_directory = \"output\"\n",
    "        os.makedirs(data_directory)\n",
    "else:\n",
    "    data_directory = output_directory_name.result\n",
    "    print(\"Output directory name:\", data_directory)\n",
    "    if not os.path.exists(output_directory_name.result):\n",
    "        os.makedirs(data_directory)\n"
   ]
  },
  {
   "cell_type": "code",
   "execution_count": null,
   "metadata": {},
   "outputs": [],
   "source": [
    "# def get_size(start_path = timeseries_directory):\n",
    "#     total_size = 0\n",
    "#     for dirpath, dirnames, filenames in os.walk(start_path):\n",
    "#         for f in filenames:\n",
    "#             fp = os.path.join(dirpath, f)\n",
    "#             # skip if it is symbolic link\n",
    "#             if not os.path.islink(fp):\n",
    "#                 total_size += os.path.getsize(fp)\n",
    "\n",
    "#     return total_size\n",
    "\n",
    "# print(get_size(), 'bytes')\n",
    "\n",
    "# 4926249639 bytes gave a memory error for m16, m48 could handle this.. but it takes long.. didn't let it run"
   ]
  },
  {
   "cell_type": "code",
   "execution_count": null,
   "metadata": {
    "scrolled": true
   },
   "outputs": [],
   "source": [
    "start_time = time.time()\n",
    "\n",
    "\n",
    "# set paths to data\n",
    "time_series_path = os.path.join(timeseries_directory, 'stack.vrt') ## never start os path with a slash\n",
    "dates_path = os.path.join(timeseries_directory, \"dates.csv\")\n",
    "\n",
    "# load in time series and its metadata\n",
    "time_series = gdal.Open(time_series_path)\n",
    "raster_stack = time_series.ReadAsArray()\n",
    "\n",
    "geotransform = time_series.GetGeoTransform()\n",
    "xpixelsize = time_series.GetGeoTransform()[1]\n",
    "ypixelsize = time_series.GetGeoTransform()[5]\n",
    "latitude = time_series.GetGeoTransform()[3]\n",
    "longitude = time_series.GetGeoTransform()[0]\n",
    "cols = time_series.RasterXSize\n",
    "rows = time_series.RasterYSize\n",
    "\n",
    "print(f\"Number of  bands: {time_series.RasterCount}\")\n",
    "print(f\"Number of pixels: {cols}\")\n",
    "print(f\"Number of  lines: {rows}\")\n",
    "print(f\"Pixel size: {xpixelsize, ypixelsize}\")\n",
    "print(f\"Latitude and longitude: {latitude,longitude}\")\n",
    "\n",
    "\n",
    "end_time = time.time()\n",
    "print(\"Loading data took {} seconds.\".format(end_time - start_time))"
   ]
  },
  {
   "cell_type": "code",
   "execution_count": 65,
   "metadata": {},
   "outputs": [],
   "source": []
  },
  {
   "cell_type": "code",
   "execution_count": 7,
   "metadata": {
    "scrolled": true
   },
   "outputs": [],
   "source": [
    "#Fabians code\n",
    "data_orig = raster_stack\n",
    "\n",
    "with open(dates_path) as f:\n",
    "    dates_list = f.read().split('\\n')\n",
    "    dates = [datetime.strptime(d, '%Y-%m-%d') for d in dates_list if len(d) > 0]"
   ]
  },
  {
   "cell_type": "code",
   "execution_count": 8,
   "metadata": {},
   "outputs": [
    {
     "name": "stdout",
     "output_type": "stream",
     "text": [
      "2002-01-06 00:00:00\n"
     ]
    }
   ],
   "source": [
    "# parameters\n",
    "k = 3\n",
    "freq = 365\n",
    "trend = False\n",
    "hfrac = 0.25\n",
    "level = 0.05\n",
    "start_hist = datetime(2002, 1, 1)\n",
    "start_monitor = datetime(2010, 1, 1)\n",
    "end_monitor = datetime(2018, 1, 1)\n",
    "position = (100,100)\n",
    "\n",
    "print(dates[0])"
   ]
  },
  {
   "cell_type": "code",
   "execution_count": 23,
   "metadata": {},
   "outputs": [
    {
     "name": "stdout",
     "output_type": "stream",
     "text": [
      "start monitoring period 2002-01-14 00:00:00\n"
     ]
    },
    {
     "data": {
      "application/vnd.jupyter.widget-view+json": {
       "model_id": "e0e7d70694244f0c8beceb9d8a431b7b",
       "version_major": 2,
       "version_minor": 0
      },
      "text/plain": [
       "interactive(children=(SelectionRangeSlider(description='Select the monitoring date range: ', index=(0, 6680), …"
      ]
     },
     "metadata": {},
     "output_type": "display_data"
    }
   ],
   "source": [
    "start_date = dates[10] # 0 or 10 does not work.. 100 did\n",
    "print(\"start monitoring period\",start_date)\n",
    "end_date = dates[-1]\n",
    "\n",
    "def h(y):\n",
    "    return(y)\n",
    "\n",
    "pandas_dates = pd.date_range(start_date, end_date, freq='D')\n",
    "\n",
    "options = [(date.strftime(' %d %b %Y '), date) for date in pandas_dates]\n",
    "index = (0, len(options)-1)\n",
    "\n",
    "\n",
    "start_end_date = widgets.interactive(h,\n",
    "                                     y=widgets.SelectionRangeSlider(\n",
    "                                            options=options,\n",
    "                                            index=index,\n",
    "                                            description='Select the monitoring date range: ',\n",
    "                                            style = {'description_width': 'initial'},\n",
    "                                            orientation='horizontal',\n",
    "                                            layout={'width': '800px',\"height\":\"200px\"}))\n",
    "display(start_end_date)"
   ]
  },
  {
   "cell_type": "code",
   "execution_count": 24,
   "metadata": {},
   "outputs": [
    {
     "name": "stdout",
     "output_type": "stream",
     "text": [
      "start monitor:  2015-07-19 00:00:00\n",
      "end monitor:  2020-04-29 00:00:00\n"
     ]
    }
   ],
   "source": [
    "start_monitor, end_monitor = start_end_date.result\n",
    "print(\"start monitor: \",start_monitor)\n",
    "print(\"end monitor: \",end_monitor)"
   ]
  },
  {
   "cell_type": "code",
   "execution_count": 36,
   "metadata": {},
   "outputs": [
    {
     "name": "stdout",
     "output_type": "stream",
     "text": [
      "First date: 2002-01-06 00:00:00\n",
      "Last date: 2020-04-29 00:00:00\n",
      "Shape of data array: (922, 1184, 1326)\n"
     ]
    }
   ],
   "source": [
    "data, dates = crop_data_dates(data_orig, dates, start_hist, end_monitor)\n",
    "print(\"First date: {}\".format(dates[0]))\n",
    "print(\"Last date: {}\".format(dates[-1]))\n",
    "print(\"Shape of data array: {}\".format(data.shape))"
   ]
  },
  {
   "cell_type": "code",
   "execution_count": 38,
   "metadata": {
    "scrolled": true
   },
   "outputs": [
    {
     "name": "stdout",
     "output_type": "stream",
     "text": [
      "Processing row 0\n",
      "Processing row 1\n",
      "Processing row 2\n",
      "Processing row 3\n",
      "Processing row 4\n",
      "Processing row 5\n",
      "Processing row 6\n",
      "Processing row 7\n",
      "Processing row 8\n",
      "Processing row 9\n",
      "Processing row 10\n",
      "Processing row 11\n",
      "Processing row 12\n",
      "Processing row 13\n",
      "Processing row 14\n",
      "Processing row 15\n",
      "Processing row 16\n",
      "Processing row 17\n",
      "Processing row 18\n",
      "Processing row 19\n",
      "Processing row 20\n",
      "Processing row 21\n",
      "Processing row 22\n",
      "Processing row 23\n",
      "Processing row 24\n",
      "Processing row 25\n",
      "Processing row 26\n",
      "Processing row 27\n",
      "Processing row 28\n",
      "Processing row 29\n",
      "Processing row 30\n",
      "Processing row 31\n",
      "Processing row 32\n",
      "Processing row 33\n",
      "Processing row 34\n",
      "Processing row 35\n",
      "Processing row 36\n",
      "Processing row 37\n",
      "Processing row 38\n",
      "Processing row 39\n",
      "Processing row 40\n",
      "Processing row 41\n",
      "Processing row 42\n",
      "Processing row 43\n",
      "Processing row 44\n",
      "Processing row 45\n",
      "Processing row 46\n",
      "Processing row 47\n",
      "Processing row 48\n",
      "Processing row 49\n",
      "Processing row 50\n",
      "Processing row 51\n",
      "Processing row 52\n",
      "Processing row 53\n",
      "Processing row 54\n",
      "Processing row 55\n",
      "Processing row 56\n",
      "Processing row 57\n",
      "Processing row 58\n",
      "Processing row 59\n",
      "Processing row 60\n",
      "Processing row 61\n",
      "Processing row 62\n",
      "Processing row 63\n",
      "Processing row 64\n",
      "Processing row 65\n",
      "Processing row 66\n",
      "Processing row 67\n",
      "Processing row 68\n",
      "Processing row 69\n",
      "Processing row 70\n",
      "Processing row 71\n",
      "Processing row 72\n",
      "Processing row 73\n",
      "Processing row 74\n",
      "Processing row 75\n",
      "Processing row 76\n",
      "Processing row 77\n",
      "Processing row 78\n",
      "Processing row 79\n",
      "Processing row 80\n",
      "Processing row 81\n",
      "Processing row 82\n",
      "Processing row 83\n",
      "Processing row 84\n",
      "Processing row 85\n",
      "Processing row 86\n",
      "Processing row 87\n",
      "Processing row 88\n",
      "Processing row 89\n",
      "Processing row 90\n",
      "Processing row 91\n",
      "Processing row 92\n",
      "Processing row 93\n",
      "Processing row 94\n",
      "Processing row 95\n",
      "Processing row 96\n",
      "Processing row 97\n",
      "Processing row 98\n",
      "Processing row 99\n",
      "Processing row 100\n",
      "Processing row 101\n",
      "Processing row 102\n",
      "Processing row 103\n",
      "Processing row 104\n",
      "Processing row 105\n",
      "Processing row 106\n",
      "Processing row 107\n",
      "Processing row 108\n",
      "Processing row 109\n",
      "Processing row 110\n",
      "Processing row 111\n",
      "Processing row 112\n",
      "Processing row 113\n",
      "Processing row 114\n",
      "Processing row 115\n",
      "Processing row 116\n",
      "Processing row 117\n",
      "Processing row 118\n",
      "Processing row 119\n",
      "Processing row 120\n",
      "Processing row 121\n",
      "Processing row 122\n",
      "Processing row 123\n",
      "Processing row 124\n",
      "Processing row 125\n",
      "Processing row 126\n",
      "Processing row 127\n",
      "Processing row 128\n",
      "Processing row 129\n",
      "Processing row 130\n",
      "Processing row 131\n",
      "Processing row 132\n",
      "Processing row 133\n",
      "Processing row 134\n",
      "Processing row 135\n",
      "Processing row 136\n",
      "Processing row 137\n",
      "Processing row 138\n",
      "Processing row 139\n",
      "Processing row 140\n",
      "Processing row 141\n",
      "Processing row 142\n",
      "Processing row 143\n",
      "Processing row 144\n",
      "Processing row 145\n",
      "Processing row 146\n",
      "Processing row 147\n",
      "Processing row 148\n",
      "Processing row 149\n",
      "Processing row 150\n",
      "Processing row 151\n",
      "Processing row 152\n",
      "Processing row 153\n",
      "Processing row 154\n",
      "Processing row 155\n",
      "Processing row 156\n",
      "Processing row 157\n",
      "Processing row 158\n",
      "Processing row 159\n",
      "Processing row 160\n",
      "Processing row 161\n",
      "Processing row 162\n",
      "Processing row 163\n",
      "Processing row 164\n",
      "Processing row 165\n",
      "Processing row 166\n",
      "Processing row 167\n",
      "Processing row 168\n",
      "Processing row 169\n",
      "Processing row 170\n",
      "Processing row 171\n",
      "Processing row 172\n",
      "Processing row 173\n",
      "Processing row 174\n",
      "Processing row 175\n",
      "Processing row 176\n",
      "Processing row 177\n",
      "Processing row 178\n",
      "Processing row 179\n",
      "Processing row 180\n",
      "Processing row 181\n",
      "Processing row 182\n",
      "Processing row 183\n",
      "Processing row 184\n",
      "Processing row 185\n",
      "Processing row 186\n",
      "Processing row 187\n",
      "Processing row 188\n",
      "Processing row 189\n",
      "Processing row 190\n",
      "Processing row 191\n",
      "Processing row 192\n",
      "Processing row 193\n",
      "Processing row 194\n",
      "Processing row 195\n",
      "Processing row 196\n",
      "Processing row 197\n",
      "Processing row 198\n",
      "Processing row 199\n",
      "Fitting model took 267.9833812713623 seconds.\n"
     ]
    }
   ],
   "source": [
    "# fit BFAST using the CPU implementation (single pixel)\n",
    "from numpy import nan\n",
    "\n",
    "start_time = time.time()\n",
    "\n",
    "\n",
    "model = BFASTMonitor(\n",
    "            start_monitor,\n",
    "            freq=freq,\n",
    "            k=k,\n",
    "            hfrac=hfrac,\n",
    "            trend=trend,\n",
    "            level=level,\n",
    "            backend='python',\n",
    "            verbose=1\n",
    "            )\n",
    "\n",
    "# only apply on a small subset\n",
    "data = data[:,:200,:200]\n",
    "model.fit(data, dates, nan_value=nan) #changed to nan\n",
    "\n",
    "end_time = time.time()\n",
    "print(\"Fitting model took {} seconds.\".format(end_time - start_time))\n"
   ]
  },
  {
   "cell_type": "code",
   "execution_count": 39,
   "metadata": {
    "scrolled": true
   },
   "outputs": [],
   "source": [
    "# select only negative magnitudes\n",
    "breaks = model.breaks # index of date that has a break in dates\n",
    "means = model.means # magnitudes of breaks\n",
    "\n",
    "no_breaks_indices = (breaks == -1)\n",
    "means[no_breaks_indices] = 0\n",
    "means[means > 0] = 0 # only want negative mean changes\n",
    "\n",
    "breaks_plot = breaks.astype(np.float)\n",
    "breaks_plot[breaks == -2] = np.nan\n",
    "breaks_plot[breaks == -1] = np.nan\n",
    "breaks_plot[means >= 0] = np.nan\n"
   ]
  },
  {
   "cell_type": "code",
   "execution_count": 40,
   "metadata": {},
   "outputs": [],
   "source": [
    "dates_monitor = []\n",
    "\n",
    "# collect dates for monitor period\n",
    "for i in range(len(dates)):\n",
    "    if start_monitor <= dates[i]:\n",
    "        dates_monitor.append(dates[i])\n",
    "dates_array = np.array(dates_monitor) # dates_array is the dates that are in the monitoring period\n"
   ]
  },
  {
   "cell_type": "code",
   "execution_count": 41,
   "metadata": {},
   "outputs": [
    {
     "name": "stdout",
     "output_type": "stream",
     "text": [
      "{2015: 0, 2016: 37, 2017: 112, 2018: 193, 2019: 263}\n",
      "['2015', '2016', '2017', '2018', '2019']\n",
      "[[nan nan nan ... nan nan nan]\n",
      " [ 3.  3.  2. ... nan nan nan]\n",
      " [ 2.  2.  0. ... nan nan nan]\n",
      " ...\n",
      " [nan nan nan ... nan nan nan]\n",
      " [nan nan nan ... nan nan nan]\n",
      " [nan nan nan ... nan nan nan]]\n"
     ]
    }
   ],
   "source": [
    "idx_starts = {}\n",
    "\n",
    "# this gives the index of all the data points in the year and after\n",
    "for year in range(start_monitor.year,end_monitor.year):\n",
    "    idx_starts[year] = np.argmax((dates_array >= datetime(year, 1, 1)) > False) \n",
    "    \n",
    "print(idx_starts)\n",
    "breaks_plot_years = copy.deepcopy(breaks_plot)\n",
    "\n",
    "#classifying for plotting\n",
    "ticklist=[]\n",
    "for idx, year in enumerate(idx_starts):\n",
    "    ticklist.append(str(year))\n",
    "\n",
    "    if idx == 0:\n",
    "        breaks_plot_years[breaks_plot <= idx_starts[year+1]] = 0\n",
    "        continue\n",
    "    \n",
    "    if idx == len(idx_starts)-1:\n",
    "        breaks_plot_years[np.where(idx_starts[year] < breaks_plot)] = len(idx_starts)-1\n",
    "        continue\n",
    "        \n",
    "    breaks_plot_years[np.where(np.logical_and(idx_starts[year] < breaks_plot, breaks_plot <= idx_starts[year+1]))] = idx\n",
    "print(ticklist)\n",
    "print(breaks_plot_years)"
   ]
  },
  {
   "cell_type": "code",
   "execution_count": 172,
   "metadata": {},
   "outputs": [
    {
     "ename": "AttributeError",
     "evalue": "'Axes' object has no attribute 'savefig'",
     "output_type": "error",
     "traceback": [
      "\u001b[0;31m---------------------------------------------------------------------------\u001b[0m",
      "\u001b[0;31mAttributeError\u001b[0m                            Traceback (most recent call last)",
      "\u001b[0;32m<ipython-input-172-589de140110d>\u001b[0m in \u001b[0;36m<module>\u001b[0;34m\u001b[0m\n\u001b[1;32m     14\u001b[0m \u001b[0mfig\u001b[0m\u001b[0;34m.\u001b[0m\u001b[0mcolorbar\u001b[0m\u001b[0;34m(\u001b[0m\u001b[0mim\u001b[0m\u001b[0;34m,\u001b[0m \u001b[0mcax\u001b[0m\u001b[0;34m=\u001b[0m\u001b[0mcbar_ax\u001b[0m\u001b[0;34m,\u001b[0m \u001b[0mticks\u001b[0m\u001b[0;34m=\u001b[0m\u001b[0mrange\u001b[0m\u001b[0;34m(\u001b[0m\u001b[0mbins\u001b[0m\u001b[0;34m)\u001b[0m\u001b[0;34m)\u001b[0m\u001b[0;34m\u001b[0m\u001b[0;34m\u001b[0m\u001b[0m\n\u001b[1;32m     15\u001b[0m \u001b[0mlabels\u001b[0m \u001b[0;34m=\u001b[0m \u001b[0mcbar_ax\u001b[0m\u001b[0;34m.\u001b[0m\u001b[0mset_yticklabels\u001b[0m\u001b[0;34m(\u001b[0m\u001b[0mticklist\u001b[0m\u001b[0;34m)\u001b[0m\u001b[0;34m\u001b[0m\u001b[0;34m\u001b[0m\u001b[0m\n\u001b[0;32m---> 16\u001b[0;31m \u001b[0mcbar_ax\u001b[0m\u001b[0;34m.\u001b[0m\u001b[0msavefig\u001b[0m\u001b[0;34m(\u001b[0m\u001b[0;34m\"test.png\"\u001b[0m\u001b[0;34m)\u001b[0m\u001b[0;34m\u001b[0m\u001b[0;34m\u001b[0m\u001b[0m\n\u001b[0m\u001b[1;32m     17\u001b[0m \u001b[0mplt\u001b[0m\u001b[0;34m.\u001b[0m\u001b[0msavefig\u001b[0m\u001b[0;34m(\u001b[0m\u001b[0;34m\"./output/picture.png\"\u001b[0m\u001b[0;34m)\u001b[0m\u001b[0;34m\u001b[0m\u001b[0;34m\u001b[0m\u001b[0m\n\u001b[1;32m     18\u001b[0m \u001b[0mplt\u001b[0m\u001b[0;34m.\u001b[0m\u001b[0mshow\u001b[0m\u001b[0;34m(\u001b[0m\u001b[0;34m)\u001b[0m\u001b[0;34m\u001b[0m\u001b[0;34m\u001b[0m\u001b[0m\n",
      "\u001b[0;31mAttributeError\u001b[0m: 'Axes' object has no attribute 'savefig'"
     ]
    },
    {
     "data": {
      "image/png": "[encoded data removed]",
      "text/plain": [
       "<Figure size 720x720 with 2 Axes>"
      ]
     },
     "metadata": {
      "needs_background": "light"
     },
     "output_type": "display_data"
    }
   ],
   "source": [
    "bins = len(idx_starts)\n",
    "\n",
    "cmap = plt.get_cmap(\"rainbow\")\n",
    "cmaplist = [cmap(i) for i in range(cmap.N)]\n",
    "cmap = cmap.from_list('Custom cmap', cmaplist, cmap.N)\n",
    "\n",
    "bounds = np.linspace(0, bins-1, bins) #third number is the amount of bins in the colorbar 0=0, 6 = ncolors, 7= nyears\n",
    "norm = matplotlib.colors.BoundaryNorm(bounds, cmap.N)\n",
    "\n",
    "fig, axes = plt.subplots(nrows=1, ncols=1, figsize=(10, 10))\n",
    "im = axes.imshow(breaks_plot_years, cmap=cmap, vmin=0, vmax=bins, norm=norm)\n",
    "fig.subplots_adjust(right=0.8)\n",
    "cbar_ax = fig.add_axes([0.85, 0.15, 0.05, 0.7])\n",
    "fig.colorbar(im, cax=cbar_ax, ticks=range(bins))\n",
    "labels = cbar_ax.set_yticklabels(ticklist)\n",
    "\n",
    "plt.savefig(\"./output/picture.png\")\n",
    "plt.show()\n"
   ]
  },
  {
   "cell_type": "code",
   "execution_count": 83,
   "metadata": {},
   "outputs": [],
   "source": [
    "# #this doesn't work yet\n",
    "\n",
    "# output_raster = gdal.GetDriverByName('GTiff').Create('myraster.tif',cols, rows, 1 ,gdal.GDT_Float32)  # Open the file\n",
    "\n",
    "# output_raster.SetGeoTransform(geotransform)  # Specify its coordinates\n",
    "# srs = osr.SpatialReference()                 # Establish its coordinate encoding\n",
    "# srs.ImportFromEPSG(4326)                     # This one specifies WGS84 lat long.\n",
    "#                                              # Anyone know how to specify the \n",
    "#                                              # IAU2000:49900 Mars encoding?\n",
    "# output_raster.SetProjection( srs.ExportToWkt() )   # Exports the coordinate system \n",
    "#                                                    # to the file\n",
    "# output_raster.GetRasterBand(1).WriteArray(breaks_plot_years)   # Writes my array to the raster\n",
    "\n",
    "# output_raster.FlushCache()\n",
    "\n",
    "# output_raster"
   ]
  },
  {
   "cell_type": "code",
   "execution_count": 129,
   "metadata": {},
   "outputs": [
    {
     "ename": "SyntaxError",
     "evalue": "invalid syntax (<ipython-input-129-393401996a58>, line 3)",
     "output_type": "error",
     "traceback": [
      "\u001b[0;36m  File \u001b[0;32m\"<ipython-input-129-393401996a58>\"\u001b[0;36m, line \u001b[0;32m3\u001b[0m\n\u001b[0;31m    print(breaks_plot_years_norm)\u001b[0m\n\u001b[0m        ^\u001b[0m\n\u001b[0;31mSyntaxError\u001b[0m\u001b[0;31m:\u001b[0m invalid syntax\n"
     ]
    }
   ],
   "source": [
    "print(breaks_plot_years)\n",
    "breaks_plot_years_norm = 1/(breaks_plot_years + 0.01\n",
    "print(breaks_plot_years_norm)"
   ]
  },
  {
   "cell_type": "code",
   "execution_count": 144,
   "metadata": {},
   "outputs": [],
   "source": [
    "#cmap = plt.get_cmap(\"Oranges\")\n",
    "\n",
    "#cmaplist = [cmap(i) for i in range(cmap.N)]\n",
    "\n",
    "#cmap = cmap.from_list('Custom cmap', cmaplist, cmap.N)\n",
    "\n",
    "from matplotlib import cm\n",
    "from matplotlib.colors import ListedColormap, LinearSegmentedColormap\n",
    "\n",
    "# viridis = cm.get_cmap('viridis', 12)\n",
    "# print(viridis)\n",
    "# print(viridis(0.56))\n",
    "\n",
    "viridis = cm.get_cmap('rainbow', 256)\n",
    "newcolors = viridis(np.linspace(0, 1, 256))\n",
    "pink = np.array([248/256, 24/256, 148/256, 0])\n",
    "newcolors[:1, :] = pink\n",
    "newcmp = ListedColormap(newcolors)"
   ]
  },
  {
   "cell_type": "code",
   "execution_count": 171,
   "metadata": {},
   "outputs": [
    {
     "data": {
      "text/html": [
       "<div style=\"width:100%;\"><div style=\"position:relative;width:100%;height:0;padding-bottom:60%;\"><span style=\"color:#565656\">Make this Notebook Trusted to load map: File -> Trust Notebook</span><iframe src=\"about:blank\" style=\"position:absolute;width:100%;height:100%;left:0;top:0;border:none !important;\" data-html=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 onload=\"this.contentDocument.open();this.contentDocument.write(atob(this.getAttribute('data-html')));this.contentDocument.close();\" allowfullscreen webkitallowfullscreen mozallowfullscreen></iframe></div></div>"
      ],
      "text/plain": [
       "<folium.folium.Map at 0x7f0fee2075c0>"
      ]
     },
     "execution_count": 171,
     "metadata": {},
     "output_type": "execute_result"
    }
   ],
   "source": [
    "from folium.plugins import FloatImage\n",
    "\n",
    "m = folium.folium.Map(location = (latitude,longitude),tiles = \"Stamen Terrain\",zoom_start=13)\n",
    "\n",
    "# if not all data is \n",
    "rows = 200\n",
    "cols = 200\n",
    "\n",
    "folium.raster_layers.ImageOverlay(\n",
    "    image=breaks_plot_years_norm,\n",
    "    bounds=[[latitude, longitude], [latitude + rows*ypixelsize, longitude + cols*xpixelsize]],\n",
    "    colormap = newcmp\n",
    ").add_to(m)\n",
    "img = \"output/picture.png\" \n",
    "#FloatImage(encoded,bottom=5,left=5).add_to(m)\n",
    "\n",
    "####\n",
    "resolution, width, height = 75, 10,10\n",
    "encoded = base64.b64encode(open(\"output/picture.png\", 'rb').read()).decode()\n",
    "from folium import IFrame\n",
    "\n",
    "html = '<img src=\"data:image/png;base64,{}\">'.format\n",
    "iframe = IFrame(html(encoded), width=(width*resolution)+20, height=(height*resolution)+20)\n",
    "popup = folium.Popup(iframe, max_width=2650)\n",
    "\n",
    "icon = folium.Icon(color=\"red\", icon=\"ok\")\n",
    "marker = folium.Marker(location=[latitude, longitude], popup=popup, icon=icon)\n",
    "marker.add_to(m)\n",
    "####\n",
    "\n",
    "m.save(os.path.join('output/ImageOverlay_4.html'))\n",
    "m"
   ]
  },
  {
   "cell_type": "code",
   "execution_count": null,
   "metadata": {},
   "outputs": [],
   "source": []
  },
  {
   "cell_type": "code",
   "execution_count": null,
   "metadata": {},
   "outputs": [],
   "source": []
  }
 ],
 "metadata": {
  "kernelspec": {
   "display_name": "bfastmonitor_cpu",
   "language": "python",
   "name": "bfastmonitor_cpu"
  },
  "language_info": {
   "codemirror_mode": {
    "name": "ipython",
    "version": 3
   },
   "file_extension": ".py",
   "mimetype": "text/x-python",
   "name": "python",
   "nbconvert_exporter": "python",
   "pygments_lexer": "ipython3",
   "version": "3.6.9"
  }
 },
 "nbformat": 4,
 "nbformat_minor": 4
}
