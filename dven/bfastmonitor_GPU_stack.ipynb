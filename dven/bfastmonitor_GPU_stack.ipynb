{
 "cells": [
  {
   "cell_type": "markdown",
   "metadata": {},
   "source": [
    "# GPU implementation of Bfastmonitor using Python\n",
    "The bfast package provides a highly-efficient parallel implementation for the Breaks For Additive Season and Trend (BFASTmonitor) proposed by Verbesselt et al. The implementation is based on OpenCL."
   ]
  },
  {
   "cell_type": "markdown",
   "metadata": {},
   "source": [
    "## This code runs bfastmonitor over an entire time series folder"
   ]
  },
  {
   "cell_type": "markdown",
   "metadata": {},
   "source": [
    "The script below runs bfastmonitor over the timeseries data downloaded in SEPAL in blocks, and patches together tiles to export mean magnitudes and breaks as geotiffs, pngs, and .npy files. The output is also displayed in a digital map. Make sure to run through the cells sequentially.\n",
    "\n",
    "* Make sure to select the G4 (recommended) or G8 when accessing the terminal. \n",
    "\n",
    "* First download data using the SEPAL time series downloader (not in this script). The downloads will be saved in your downloads folder and look like: /home/'username'/downloads/Time_series_2020-09-01_16-22-26/0|1|2|3\n",
    "\n",
    "* Import packages\n",
    "\n",
    "* Select data\n",
    "\n",
    "* Set parameters\n",
    "\n",
    "* Select monitoring period\n",
    "\n",
    "* Run bfastmonitor and save intermediate output\n",
    "\n",
    "* Load output\n",
    "\n",
    "* Merge and save output\n",
    "\n",
    "* Display output\n",
    "\n",
    "\n"
   ]
  },
  {
   "cell_type": "code",
   "execution_count": 1,
   "metadata": {},
   "outputs": [
    {
     "name": "stdout",
     "output_type": "stream",
     "text": [
      "\n",
      "    The timeseries class is a wrapper for using SEPAL timeseries data with bfast. \n",
      "    It wraps together a data tile with an associated dates file and metadata. \n",
      "    It also allows for saving and loading the output rasters in a specified directory. \n",
      "    \n"
     ]
    }
   ],
   "source": [
    "import os\n",
    "from os.path import expanduser\n",
    "\n",
    "import wget\n",
    "import numpy as np\n",
    "from datetime import datetime\n",
    "import copy\n",
    "import matplotlib\n",
    "import matplotlib.pyplot as plt\n",
    "import subprocess\n",
    "\n",
    "import json\n",
    "\n",
    "from bfast import BFASTMonitor\n",
    "from bfast.utils import crop_data_dates\n",
    "\n",
    "import csv\n",
    "from shutil import copyfile\n",
    "import pandas as pd\n",
    "from osgeo import gdal, gdal_array, osr\n",
    "\n",
    "import time\n",
    "from tqdm import tqdm\n",
    "\n",
    "import ipywidgets as widgets\n",
    "from ipywidgets import Layout\n",
    "from ipyfilechooser import FileChooser\n",
    "import folium\n",
    "\n",
    "from PIL import Image\n",
    "from matplotlib import cm\n",
    "\n",
    "# import functions from functions.py\n",
    "from functions import set_base_output_dir, set_output_dir, get_data_dict, merge_tiles, set_paths, _find_index_date, normalize, select_negatives, get_julian_dates\n",
    "from plotting_funcs import save_plot, merge_plots, classify_output, plot_output_matplotlib, export_GTiff, classify_magnitudes, merge_plots2\n",
    "\n",
    "# Import the Timeseries class from time_series.py\n",
    "from time_series import Timeseries\n",
    "print(Timeseries.__doc__)\n",
    "\n",
    "# Import widgets for GUI parameter selection\n",
    "from widgets import get_widgets, get_dates_widgets\n",
    "output_directory_chooser, k_chooser,freq_chooser,trend_chooser,hfrac_chooser,level_chooser,backend_chooser, load_chooser, block_size_chooser, plot_display_data_chooser = get_widgets()"
   ]
  },
  {
   "cell_type": "code",
   "execution_count": 2,
   "metadata": {},
   "outputs": [],
   "source": [
    "%matplotlib inline"
   ]
  },
  {
   "cell_type": "markdown",
   "metadata": {},
   "source": [
    "### Select output directory name. "
   ]
  },
  {
   "cell_type": "code",
   "execution_count": 3,
   "metadata": {},
   "outputs": [
    {
     "data": {
      "application/vnd.jupyter.widget-view+json": {
       "model_id": "87fb2024857b4f50b63c04e4e80cdcea",
       "version_major": 2,
       "version_minor": 0
      },
      "text/plain": [
       "interactive(children=(Text(value='', description='Output storage name: (country/location name, e.g. \"Guyana\")'…"
      ]
     },
     "metadata": {},
     "output_type": "display_data"
    }
   ],
   "source": [
    "display(output_directory_chooser)"
   ]
  },
  {
   "cell_type": "code",
   "execution_count": 19,
   "metadata": {},
   "outputs": [
    {
     "name": "stdout",
     "output_type": "stream",
     "text": [
      "Defaulting to output directory name: stored_time_series/output\n",
      "stored_time_series/output\n"
     ]
    }
   ],
   "source": [
    "base_output_dir = set_base_output_dir(output_directory_chooser)"
   ]
  },
  {
   "cell_type": "markdown",
   "metadata": {},
   "source": [
    "### Select your timeseries folder"
   ]
  },
  {
   "cell_type": "code",
   "execution_count": 5,
   "metadata": {
    "scrolled": true
   },
   "outputs": [
    {
     "data": {
      "application/vnd.jupyter.widget-view+json": {
       "model_id": "e26d2807191845a5a0b0e73b4221ac8f",
       "version_major": 2,
       "version_minor": 0
      },
      "text/plain": [
       "FileChooser(path='/home/dven', filename='', title='HTML(value='', layout=Layout(display='none'))', show_hidden…"
      ]
     },
     "metadata": {},
     "output_type": "display_data"
    }
   ],
   "source": [
    "path = expanduser(\"~\")\n",
    "file_chooser = FileChooser(path)\n",
    "display(file_chooser)"
   ]
  },
  {
   "cell_type": "code",
   "execution_count": 6,
   "metadata": {},
   "outputs": [
    {
     "name": "stdout",
     "output_type": "stream",
     "text": [
      "/home/dven/downloads/Time_series_2020-09-09_13-02-40_Australia_small/\n"
     ]
    }
   ],
   "source": [
    "timeseries_directory = file_chooser.selected\n",
    "\n",
    "if not timeseries_directory:\n",
    "    raise Exception(\"Please choose a time series directory above with the file selector\")\n",
    "else:\n",
    "    print(timeseries_directory)"
   ]
  },
  {
   "cell_type": "markdown",
   "metadata": {},
   "source": [
    "### Select the directories you are interested in"
   ]
  },
  {
   "cell_type": "code",
   "execution_count": 7,
   "metadata": {},
   "outputs": [
    {
     "data": {
      "application/vnd.jupyter.widget-view+json": {
       "model_id": "8172b536b3be4168a6a352c2037b4f0a",
       "version_major": 2,
       "version_minor": 0
      },
      "text/plain": [
       "VBox(children=(Checkbox(value=True, description='0'),))"
      ]
     },
     "metadata": {},
     "output_type": "display_data"
    }
   ],
   "source": [
    "items = [widgets.Checkbox(value = True,description = i) for i in os.listdir(timeseries_directory)]\n",
    "widgets.VBox(items)"
   ]
  },
  {
   "cell_type": "code",
   "execution_count": 9,
   "metadata": {
    "scrolled": true
   },
   "outputs": [
    {
     "name": "stdout",
     "output_type": "stream",
     "text": [
      "Data consists of tiles, setting up tiles in 'data_list' \n",
      "1\n"
     ]
    }
   ],
   "source": [
    "# set path to dates file and create Timeseries objects of tiles\n",
    "load_list=[]\n",
    "for xi in items:\n",
    "    if xi.value == True:\n",
    "        load_list.append(xi.description)\n",
    "\n",
    "run_dict = {}\n",
    "for directory in load_list:\n",
    "    \n",
    "    segment_location = timeseries_directory + directory + \"/\"\n",
    "    save_location = base_output_dir +\"/\"+ directory + \"/\"\n",
    "    \n",
    "    data_list = set_paths(timeseries_directory = segment_location, save_location = save_location, check_existing = True)\n",
    "    run_dict[directory] = data_list\n",
    "\n",
    "\n",
    "# check for dirs that will be analyzed\n",
    "del_list = []\n",
    "for directory in run_dict:\n",
    "    \n",
    "    if run_dict[directory]:\n",
    "        print(len(run_dict[directory]))\n",
    "    else:\n",
    "        print(\"Warning, All tiles for directory \" + directory +  \" have already generated output, if you want to run again, change your output_dir_name or set check_existing above to False\")\n",
    "        del_list.append(directory)\n",
    "\n",
    "# remove dirs that have already run\n",
    "for item in del_list:\n",
    "    del run_dict[item]\n"
   ]
  },
  {
   "cell_type": "markdown",
   "metadata": {},
   "source": [
    "### Choose parameters"
   ]
  },
  {
   "cell_type": "code",
   "execution_count": 10,
   "metadata": {},
   "outputs": [
    {
     "data": {
      "application/vnd.jupyter.widget-view+json": {
       "model_id": "e62abdac3ce54bebae32e862c1f078bc",
       "version_major": 2,
       "version_minor": 0
      },
      "text/plain": [
       "interactive(children=(Dropdown(description='k, harmonic terms', layout=Layout(height='auto', width='500px'), o…"
      ]
     },
     "metadata": {},
     "output_type": "display_data"
    },
    {
     "data": {
      "application/vnd.jupyter.widget-view+json": {
       "model_id": "d43899e674f1438db5bebc6fe2f65c8f",
       "version_major": 2,
       "version_minor": 0
      },
      "text/plain": [
       "interactive(children=(IntSlider(value=365, description='freq, frequency of seasonal model (days)', layout=Layo…"
      ]
     },
     "metadata": {},
     "output_type": "display_data"
    },
    {
     "data": {
      "application/vnd.jupyter.widget-view+json": {
       "model_id": "c8e321a5ad9849edac79fc4c95faeca5",
       "version_major": 2,
       "version_minor": 0
      },
      "text/plain": [
       "interactive(children=(Checkbox(value=False, description='add trend', layout=Layout(height='auto', width='500px…"
      ]
     },
     "metadata": {},
     "output_type": "display_data"
    },
    {
     "data": {
      "application/vnd.jupyter.widget-view+json": {
       "model_id": "d0be9ee2111d47c7822dcfa1a0b7c218",
       "version_major": 2,
       "version_minor": 0
      },
      "text/plain": [
       "interactive(children=(FloatSlider(value=0.25, description='Bandwith relative to sample size', layout=Layout(he…"
      ]
     },
     "metadata": {},
     "output_type": "display_data"
    },
    {
     "data": {
      "application/vnd.jupyter.widget-view+json": {
       "model_id": "0ac6ffbf873a4c25859f137e50c54aa2",
       "version_major": 2,
       "version_minor": 0
      },
      "text/plain": [
       "interactive(children=(SelectionSlider(description='Significance level of the monitoring', layout=Layout(height…"
      ]
     },
     "metadata": {},
     "output_type": "display_data"
    },
    {
     "data": {
      "application/vnd.jupyter.widget-view+json": {
       "model_id": "393a78c27e9e466ba4b86695e2557e31",
       "version_major": 2,
       "version_minor": 0
      },
      "text/plain": [
       "interactive(children=(Dropdown(description='backend', layout=Layout(height='auto', width='500px'), options=('o…"
      ]
     },
     "metadata": {},
     "output_type": "display_data"
    }
   ],
   "source": [
    "# Choose parameters\n",
    "display(k_chooser)\n",
    "display(freq_chooser)\n",
    "display(trend_chooser)\n",
    "display(hfrac_chooser)\n",
    "display(level_chooser)\n",
    "display(backend_chooser)"
   ]
  },
  {
   "cell_type": "code",
   "execution_count": 11,
   "metadata": {},
   "outputs": [],
   "source": [
    "# Set parameters\n",
    "k = k_chooser.result\n",
    "freq = freq_chooser.result\n",
    "trend = trend_chooser.result\n",
    "hfrac = hfrac_chooser.result\n",
    "level = 1 - level_chooser.result\n",
    "backend = backend_chooser.result\n",
    "verbose = 1\n",
    "device_id = 0"
   ]
  },
  {
   "cell_type": "markdown",
   "metadata": {},
   "source": [
    "### Choose history and monitoring period"
   ]
  },
  {
   "cell_type": "code",
   "execution_count": 12,
   "metadata": {},
   "outputs": [
    {
     "data": {
      "application/vnd.jupyter.widget-view+json": {
       "model_id": "b67e28b0b94b4c75a3d5da1a513777cf",
       "version_major": 2,
       "version_minor": 0
      },
      "text/plain": [
       "interactive(children=(SelectionRangeSlider(description='Select the monitoring date range: ', index=(0, 1077), …"
      ]
     },
     "metadata": {},
     "output_type": "display_data"
    },
    {
     "data": {
      "application/vnd.jupyter.widget-view+json": {
       "model_id": "3ecec268274e41518c74de44a71a81e4",
       "version_major": 2,
       "version_minor": 0
      },
      "text/plain": [
       "interactive(children=(SelectionSlider(description='Start history period:', options=(('2000-01-02', Timestamp('…"
      ]
     },
     "metadata": {},
     "output_type": "display_data"
    }
   ],
   "source": [
    "try:\n",
    "    data_list = run_dict[next(iter(run_dict))]\n",
    "except:\n",
    "    print(\"StopIteration: No tiles are loaded\")\n",
    "\n",
    "dates = data_list[0].dates\n",
    "start_date = dates[0]\n",
    "end_date = dates[-1]\n",
    "pandas_dates = pd.date_range(start_date, end_date, freq='W')\n",
    "\n",
    "options =  [(date.strftime('%Y-%m-%d'), date) for date in pandas_dates]\n",
    "index = (0, len(options)-1)\n",
    "\n",
    "monitoring_period_chooser, history_period_chooser = get_dates_widgets(options = options, index = index)\n",
    "\n",
    "display(monitoring_period_chooser)\n",
    "display(history_period_chooser)"
   ]
  },
  {
   "cell_type": "code",
   "execution_count": 13,
   "metadata": {},
   "outputs": [
    {
     "name": "stdout",
     "output_type": "stream",
     "text": [
      "2012-10-14 00:00:00\n"
     ]
    }
   ],
   "source": [
    "start_monitor, end_monitor = monitoring_period_chooser.result\n",
    "start_hist = history_period_chooser.result\n",
    "print(start_monitor)\n",
    "if history_period_chooser.result > start_monitor:\n",
    "    raise Exception(\"Your history period must start before the monitoring period\")\n",
    "\n",
    "if start_monitor < dates[50]:\n",
    "    raise Warning(\"Your history period is relatively short, did you move the monitoring date range to a later date?\")"
   ]
  },
  {
   "cell_type": "markdown",
   "metadata": {},
   "source": [
    "### Choose block size (512 recommended)"
   ]
  },
  {
   "cell_type": "code",
   "execution_count": 18,
   "metadata": {},
   "outputs": [
    {
     "data": {
      "application/vnd.jupyter.widget-view+json": {
       "model_id": "013d1174fd1b4b95a614aa88d67e7e60",
       "version_major": 2,
       "version_minor": 0
      },
      "text/plain": [
       "interactive(children=(Dropdown(description='block size, bigger is generally faster, but may result in memory i…"
      ]
     },
     "metadata": {},
     "output_type": "display_data"
    },
    {
     "name": "stdout",
     "output_type": "stream",
     "text": [
      "stored_time_series/output\n"
     ]
    }
   ],
   "source": [
    "display(block_size_chooser)"
   ]
  },
  {
   "cell_type": "markdown",
   "metadata": {},
   "source": [
    "## Run bfast"
   ]
  },
  {
   "cell_type": "code",
   "execution_count": 15,
   "metadata": {
    "scrolled": true
   },
   "outputs": [
    {
     "name": "stderr",
     "output_type": "stream",
     "text": [
      "Processing tile 1 out of 1:   0%|          | 0/1 [00:00<?, ?it/s]\n",
      "  0%|          | 0/2 [00:00<?, ?it/s]\u001b[A\n",
      "Processing blocks of tile::   0%|          | 0/2 [00:00<?, ?it/s]\u001b[A"
     ]
    },
    {
     "name": "stdout",
     "output_type": "stream",
     "text": [
      "device:  [<pyopencl.Device 'Tesla T4' on 'NVIDIA CUDA' at 0x4594420>]\n",
      "Monitoring starts at:  2012-10-14 00:00:00\n",
      "Monitoring ends at:  2020-08-23 00:00:00\n",
      "Dataset history starts at:  2000-01-02 00:00:00\n",
      "frequency:  365\n",
      "harmonic term:  3\n",
      "Hfrac: Float in the interval (0,1) specifying the bandwidth relative to the sample size in the MOSUM/ME monitoring processes.:  0.25\n",
      "Trend: Whether a tend offset term shall be used or not:  False\n",
      "Level: Significance level of the monitoring (and ROC, if selected) procedure, i.e., probability of type I error:  0.050000000000000044\n",
      "backend: GPU opencl or CPU python:  opencl\n",
      "verbose: The verbosity level (0=no output, 1=output):  1\n",
      "rastersize:  755 599\n",
      "set blocksize explicitly:  512 ,  512\n",
      "start monitor:  2012-10-14 00:00:00\n",
      "end monitor:  2020-08-23 00:00:00\n",
      "start history:  2000-01-02 00:00:00\n",
      "0 0 512 512\n",
      "--- runtime for data initialization:\t\t0.0028045177459716797\n",
      "--- runtime for data transfer (host->device):\t0.10454273223876953\n",
      "--- runtime for data preprocessing:\t\t0.017633438110351562\n"
     ]
    },
    {
     "name": "stderr",
     "output_type": "stream",
     "text": [
      "/usr/local/lib/python3.6/dist-packages/bfast/monitor/opencl/bfastfinal.py:17894: RuntimeWarning: overflow encountered in int_scalars\n",
      "  num_threads_32532 = (n_30761 * convop_x_37235)\n",
      "\n",
      "Processing blocks of tile:: 100%|██████████| 2/2 [00:14<00:00,  7.46s/it]\u001b[A"
     ]
    },
    {
     "name": "stdout",
     "output_type": "stream",
     "text": [
      "--- runtime for kernel execution:\t\t0.18651461601257324\n",
      "--- runtime for data transfer (device->host):\t0.024872779846191406\n",
      "512 0 243 512\n"
     ]
    },
    {
     "name": "stderr",
     "output_type": "stream",
     "text": [
      "/usr/local/lib/python3.6/dist-packages/bfast/monitor/opencl/bfastfinal.py:17894: RuntimeWarning: overflow encountered in int_scalars\n",
      "  num_threads_32532 = (n_30761 * convop_x_37235)\n",
      "\n",
      "Processing blocks of tile:: : 3it [00:23,  7.66s/it]                     \u001b[A"
     ]
    },
    {
     "name": "stdout",
     "output_type": "stream",
     "text": [
      "--- runtime for data initialization:\t\t0.0025272369384765625\n",
      "--- runtime for data transfer (host->device):\t0.05017542839050293\n",
      "--- runtime for data preprocessing:\t\t0.008326053619384766\n",
      "--- runtime for kernel execution:\t\t0.08246254920959473\n",
      "--- runtime for data transfer (device->host):\t0.012384176254272461\n",
      "0 512 512 87\n"
     ]
    },
    {
     "name": "stderr",
     "output_type": "stream",
     "text": [
      "\n",
      "Processing blocks of tile:: : 4it [00:27,  6.84s/it]\u001b[A"
     ]
    },
    {
     "name": "stdout",
     "output_type": "stream",
     "text": [
      "--- runtime for data initialization:\t\t0.002518892288208008\n",
      "--- runtime for data transfer (host->device):\t0.018219470977783203\n",
      "--- runtime for data preprocessing:\t\t0.003894329071044922\n",
      "--- runtime for kernel execution:\t\t0.035433292388916016\n",
      "--- runtime for data transfer (device->host):\t0.005402326583862305\n",
      "512 512 243 87\n"
     ]
    },
    {
     "name": "stderr",
     "output_type": "stream",
     "text": [
      "\r",
      "Processing blocks of tile:: : 4it [00:31,  7.92s/it]"
     ]
    },
    {
     "name": "stdout",
     "output_type": "stream",
     "text": [
      "--- runtime for data initialization:\t\t0.0025777816772460938\n",
      "--- runtime for data transfer (host->device):\t0.008958101272583008\n",
      "--- runtime for data preprocessing:\t\t0.002716541290283203\n",
      "--- runtime for kernel execution:\t\t0.01789069175720215\n",
      "--- runtime for data transfer (device->host):\t0.0025153160095214844\n",
      "Fitting model over all blocks took 31.686290502548218 seconds.\n"
     ]
    },
    {
     "name": "stderr",
     "output_type": "stream",
     "text": [
      "\n",
      "Processing tile 1 out of 1: 100%|██████████| 1/1 [00:31<00:00, 31.99s/it]\n"
     ]
    }
   ],
   "source": [
    "x_block = y_block = block_size_chooser.result\n",
    "\n",
    "\n",
    "for data_list in run_dict:\n",
    "    # loading bar\n",
    "    with tqdm(total=len(run_dict)) as pbar1:\n",
    "        \n",
    "        \n",
    "        save_location = base_output_dir + \"/\" + data_list\n",
    "        if not os.path.exists(save_location):\n",
    "            os.makedirs(save_location)\n",
    "        \n",
    "\n",
    "        # loop over tile(s) in the data_list\n",
    "        for counter, tile in enumerate(run_dict[data_list]):\n",
    "            pbar1.set_description(\"Processing tile %s out of %s\" % (counter+1, len(run_dict[data_list])) )\n",
    "\n",
    "            tile.set_bfast_parameters(start_monitor = start_monitor, \n",
    "                                         end_monitor = end_monitor,\n",
    "                                         start_hist = start_hist,\n",
    "                                         freq = freq,\n",
    "                                         k = k,\n",
    "                                         hfrac = hfrac,\n",
    "                                         trend = trend,\n",
    "                                         level = level,\n",
    "                                         backend=backend,\n",
    "                                         verbose=verbose,\n",
    "                                         device_id=device_id)\n",
    "\n",
    "            tile.get_bfast_parameters()\n",
    "\n",
    "            tile.loop_blocks(x_block_size = x_block,\n",
    "                                y_block_size = y_block)\n",
    "\n",
    "            tile.log_all_output(output_dir_name=save_location)\n",
    "\n",
    "            run_dict[data_list][counter] = '0'\n",
    "            del(tile)\n",
    "\n",
    "            pbar1.update(1)\n",
    "\n",
    "    pbar1.close()\n"
   ]
  },
  {
   "cell_type": "markdown",
   "metadata": {},
   "source": [
    "### Load saved output"
   ]
  },
  {
   "cell_type": "code",
   "execution_count": 16,
   "metadata": {
    "scrolled": true
   },
   "outputs": [
    {
     "name": "stdout",
     "output_type": "stream",
     "text": [
      "Data consists of tiles, setting up tiles in 'data_list' \n"
     ]
    }
   ],
   "source": [
    "run_dict = {}\n",
    "for directory in load_list:\n",
    "    \n",
    "    segment_location = timeseries_directory + directory + \"/\"\n",
    "    dates_location =  timeseries_directory + directory + \"/dates.csv\"\n",
    "    \n",
    "    data_list = set_paths(timeseries_directory = segment_location)\n",
    "    \n",
    "    run_dict[directory] = data_list\n",
    "    \n",
    "    for tile in data_list:\n",
    "        \n",
    "        tile.start_monitor, tile.end_monitor = monitoring_period_chooser.result\n",
    "        tile.start_hist = history_period_chooser.result\n",
    "        \n",
    "        tile.crop_dates(tile.dates)\n",
    "        tile.load_breaks_means_arrays_from_file(output_dir_name = base_output_dir + \"/\" +  directory)"
   ]
  },
  {
   "cell_type": "markdown",
   "metadata": {},
   "source": [
    "### Output statistics and geotifs"
   ]
  },
  {
   "cell_type": "code",
   "execution_count": 17,
   "metadata": {
    "scrolled": false
   },
   "outputs": [
    {
     "name": "stdout",
     "output_type": "stream",
     "text": [
      "percentage breaks found 67.30511116761933\n",
      "percentage cells lacking data to find results found 0.0\n",
      "png saved in stored_time_series/output/0/pngs/magnitudes_0.png\n",
      "colorbar saved in stored_time_series/output/0/colorbars/colorbar_magnitudes_0.png\n",
      "stored_time_series/output/0/geotifs/magnitudes_0    _stored_time_series/output/0\n",
      "output\n",
      "Geotiff saved in stored_time_series/output/0/geotifs/magnitudes_0\n",
      "stored_time_series/output/0/geotifs/breaks_indexed_0    _stored_time_series/output/0\n",
      "output\n",
      "Geotiff saved in stored_time_series/output/0/geotifs/breaks_indexed_0\n",
      "mean:  398.932\n",
      "stdev:  245.79257\n",
      "max value:  3641.1777\n",
      "min value:  -1637.0354\n",
      "uint16 set\n",
      "stored_time_series/output/0/geotifs/magnitudes_classified_0    _stored_time_series/output/0\n",
      "output\n",
      "Geotiff saved in stored_time_series/output/0/geotifs/magnitudes_classified_0\n",
      "png saved in stored_time_series/output/0/pngs/magnitudes_negative_0.png\n",
      "colorbar saved in stored_time_series/output/0/colorbars/colorbar_magnitudes_negative_0.png\n",
      "stored_time_series/output/0/geotifs/magnitudes_negative_0    _stored_time_series/output/0\n",
      "output\n",
      "Geotiff saved in stored_time_series/output/0/geotifs/magnitudes_negative_0\n",
      "stored_time_series/output/0/geotifs/breaks_binary_0    _stored_time_series/output/0\n",
      "output\n",
      "Geotiff saved in stored_time_series/output/0/geotifs/breaks_binary_0\n",
      "stored_time_series/output/0/geotifs/breaks_binary_negative_0    _stored_time_series/output/0\n",
      "output\n",
      "Geotiff saved in stored_time_series/output/0/geotifs/breaks_binary_negative_0\n",
      "stored_time_series/output/0/geotifs/breaks_julian_0    _stored_time_series/output/0\n",
      "output\n",
      "Geotiff saved in stored_time_series/output/0/geotifs/breaks_julian_0\n",
      "stored_time_series/output/0/geotifs/breaks_julian_negative_0    _stored_time_series/output/0\n",
      "output\n",
      "Geotiff saved in stored_time_series/output/0/geotifs/breaks_julian_negative_0\n",
      "stored_time_series/output/0/geotifs/breaks_year_0    _stored_time_series/output/0\n",
      "output\n",
      "Geotiff saved in stored_time_series/output/0/geotifs/breaks_year_0\n",
      "stored_time_series/output/0/geotifs/breaks_year_negative_0    _stored_time_series/output/0\n",
      "output\n",
      "Geotiff saved in stored_time_series/output/0/geotifs/breaks_year_negative_0\n"
     ]
    },
    {
     "data": {
      "image/png": "[encoded data removed]",
      "text/plain": [
       "<Figure size 432x72 with 1 Axes>"
      ]
     },
     "metadata": {
      "needs_background": "light"
     },
     "output_type": "display_data"
    },
    {
     "data": {
      "image/png": "[encoded data removed]",
      "text/plain": [
       "<Figure size 432x72 with 1 Axes>"
      ]
     },
     "metadata": {
      "needs_background": "light"
     },
     "output_type": "display_data"
    }
   ],
   "source": [
    "for data_list in run_dict:\n",
    "    save_location = base_output_dir + \"/\" + data_list\n",
    "    tiles_data = run_dict[data_list]\n",
    "    \n",
    "    perc_lacking_data_sum, perc_breaks_sum= 0,0\n",
    "    for tile in tiles_data:\n",
    "        minus2count,minus1count,perc_lacking_data,perc_breaks = tile.check_arrays()\n",
    "        perc_breaks_sum += perc_breaks\n",
    "        perc_lacking_data_sum+= perc_lacking_data\n",
    "        \n",
    "    print(\"percentage breaks found\", perc_breaks_sum/len(tiles_data))\n",
    "    print(\"percentage cells lacking data to find results found\", perc_lacking_data_sum/len(tiles_data))\n",
    "    \n",
    "    if len(tiles_data) > 1:\n",
    "        means_orig, breaks_orig = merge_tiles(tiles_data,output_dir_name = save_location)\n",
    "    else:\n",
    "        means_orig = tiles_data[0].means_array\n",
    "        breaks_orig = tiles_data[0].breaks_array\n",
    "    \n",
    "    save_plot(means_orig, save_location, save_name = \"magnitudes_\" + data_list)\n",
    "    export_GTiff(tiles_data, output_dir = save_location, array = means_orig, output_name = \"magnitudes_\" + data_list)\n",
    "    export_GTiff(tiles_data, output_dir = save_location, array = breaks_orig, output_name = \"breaks_indexed_\" + data_list)\n",
    "\n",
    "    classified_means = classify_magnitudes(means_orig)\n",
    "    classified_means = np.nan_to_num(classified_means,nan=0).astype(\"uint16\")\n",
    "    export_GTiff(tiles_data, output_dir = save_location, array = classified_means, output_name = \"magnitudes_classified_\" + data_list)\n",
    "    \n",
    "    # add colors to classified raster\n",
    "    func = \"oft-addpct.py\"\n",
    "    output_key = save_location.replace(\"/\",\"-\").split(\"-\")[1]\n",
    "    clas_tif = save_location + \"/geotifs/magnitudes_classified_\" + data_list + \"_\" + output_key + \".tif\"\n",
    "    clas_tif_result = save_location + \"/geotifs/magnitudes_classified_\" + data_list + \"_\" + output_key + \"_result.tif\"\n",
    "    color_table = \"color_table.txt\"\n",
    "    \n",
    "    ps = subprocess.Popen(('echo', color_table), stdout=subprocess.PIPE)\n",
    "    output = subprocess.check_output((func, clas_tif, clas_tif_result), stdin=ps.stdout)\n",
    "    ps.wait()\n",
    "    \n",
    "    # select only negative magnitudes\n",
    "    means_neg, breaks_indexed, breaks_indexed_neg, binary_breaks, negative_binary_breaks = select_negatives(means_orig, breaks_orig)\n",
    "    save_plot(means_neg, output_dir = save_location, save_name = \"magnitudes_negative_\" + data_list)\n",
    "\n",
    "    # save negative means and breaks\n",
    "    export_GTiff(tiles_data, output_dir = save_location, array = means_neg ,output_name = \"magnitudes_negative_\" + data_list)\n",
    "    export_GTiff(tiles_data, output_dir = save_location, array = binary_breaks ,output_name = \"breaks_binary_\" + data_list)\n",
    "    export_GTiff(tiles_data, output_dir = save_location, array = negative_binary_breaks ,output_name = \"breaks_binary_negative_\" + data_list)\n",
    "\n",
    "    dates_monitor = []\n",
    "    dates = tiles_data[0].cropped_dates\n",
    "\n",
    "    # collect dates for monitor period\n",
    "    for i in range(len(dates)):\n",
    "        if start_monitor <= dates[i]:\n",
    "            dates_monitor.append(dates[i])\n",
    "    dates_array = np.array(dates_monitor) # dates_array is the dates that are in the monitoring period\n",
    "    \n",
    "    # julian_date output\n",
    "    julian_breaks, year_breaks = get_julian_dates(dates_array,breaks_indexed)\n",
    "    negative_julian_breaks, negative_year_breaks = get_julian_dates(dates_array,breaks_indexed_neg)\n",
    "\n",
    "    # save negative means and breaks\n",
    "    export_GTiff(tiles_data, output_dir = save_location, array = julian_breaks ,output_name = \"breaks_julian_\" + data_list)\n",
    "    export_GTiff(tiles_data, output_dir = save_location, array = negative_julian_breaks ,output_name = \"breaks_julian_negative_\" + data_list)\n",
    "\n",
    "    export_GTiff(tiles_data, output_dir = save_location, array = year_breaks, output_name = \"breaks_year_\" + data_list)\n",
    "    export_GTiff(tiles_data, output_dir = save_location, array = negative_year_breaks, output_name = \"breaks_year_negative_\" + data_list)"
   ]
  },
  {
   "cell_type": "markdown",
   "metadata": {},
   "source": [
    "### Display webmap"
   ]
  },
  {
   "cell_type": "code",
   "execution_count": 49,
   "metadata": {},
   "outputs": [
    {
     "data": {
      "application/vnd.jupyter.widget-view+json": {
       "model_id": "c3de2fbc7f0641798e797979077a886c",
       "version_major": 2,
       "version_minor": 0
      },
      "text/plain": [
       "interactive(children=(Dropdown(description='data to plot', layout=Layout(height='auto', width='500px'), option…"
      ]
     },
     "metadata": {},
     "output_type": "display_data"
    }
   ],
   "source": [
    "display(plot_display_data_chooser)"
   ]
  },
  {
   "cell_type": "code",
   "execution_count": 20,
   "metadata": {},
   "outputs": [
    {
     "name": "stdout",
     "output_type": "stream",
     "text": [
      "make sure to run the block above\n",
      "0\n",
      "0 does not have this data output stored\n"
     ]
    },
    {
     "ename": "UnboundLocalError",
     "evalue": "local variable 'map' referenced before assignment",
     "output_type": "error",
     "traceback": [
      "\u001b[0;31m---------------------------------------------------------------------------\u001b[0m",
      "\u001b[0;31mUnboundLocalError\u001b[0m                         Traceback (most recent call last)",
      "\u001b[0;32m<ipython-input-20-299b9378b41c>\u001b[0m in \u001b[0;36m<module>\u001b[0;34m\u001b[0m\n\u001b[1;32m      2\u001b[0m     \u001b[0mprint\u001b[0m\u001b[0;34m(\u001b[0m\u001b[0;34m\"make sure to run the block above\"\u001b[0m\u001b[0;34m)\u001b[0m\u001b[0;34m\u001b[0m\u001b[0;34m\u001b[0m\u001b[0m\n\u001b[1;32m      3\u001b[0m \u001b[0;34m\u001b[0m\u001b[0m\n\u001b[0;32m----> 4\u001b[0;31m \u001b[0mm\u001b[0m \u001b[0;34m=\u001b[0m \u001b[0mmerge_plots2\u001b[0m\u001b[0;34m(\u001b[0m\u001b[0mdata_list\u001b[0m \u001b[0;34m=\u001b[0m \u001b[0mrun_dict\u001b[0m\u001b[0;34m[\u001b[0m\u001b[0mdata_list\u001b[0m\u001b[0;34m]\u001b[0m\u001b[0;34m,\u001b[0m \u001b[0mbase_output_dir\u001b[0m\u001b[0;34m=\u001b[0m\u001b[0mbase_output_dir\u001b[0m\u001b[0;34m,\u001b[0m\u001b[0mplot_name\u001b[0m\u001b[0;34m=\u001b[0m \u001b[0mplot_display_data_chooser\u001b[0m\u001b[0;34m.\u001b[0m\u001b[0mresult\u001b[0m\u001b[0;34m)\u001b[0m\u001b[0;34m\u001b[0m\u001b[0;34m\u001b[0m\u001b[0m\n\u001b[0m\u001b[1;32m      5\u001b[0m \u001b[0mm\u001b[0m\u001b[0;34m.\u001b[0m\u001b[0msave\u001b[0m\u001b[0;34m(\u001b[0m\u001b[0mbase_output_dir\u001b[0m \u001b[0;34m+\u001b[0m \u001b[0;34m\"/\"\u001b[0m \u001b[0;34m+\u001b[0m\u001b[0;34m\"0/\"\u001b[0m \u001b[0;34m+\u001b[0m \u001b[0mplot_display_data_chooser\u001b[0m\u001b[0;34m.\u001b[0m\u001b[0mresult\u001b[0m \u001b[0;34m+\u001b[0m \u001b[0;34m\".html\"\u001b[0m\u001b[0;34m)\u001b[0m\u001b[0;34m\u001b[0m\u001b[0;34m\u001b[0m\u001b[0m\n\u001b[1;32m      6\u001b[0m \u001b[0mm\u001b[0m\u001b[0;34m\u001b[0m\u001b[0;34m\u001b[0m\u001b[0m\n",
      "\u001b[0;32m~/bfastmonitor_cpu/dven/plotting_funcs.py\u001b[0m in \u001b[0;36mmerge_plots2\u001b[0;34m(data_list, base_output_dir, plot_name)\u001b[0m\n\u001b[1;32m    424\u001b[0m \u001b[0;34m\u001b[0m\u001b[0m\n\u001b[1;32m    425\u001b[0m     \u001b[0;32mreturn\u001b[0m\u001b[0;34m(\u001b[0m\u001b[0mmap\u001b[0m\u001b[0;34m)\u001b[0m\u001b[0;34m\u001b[0m\u001b[0;34m\u001b[0m\u001b[0m\n",
      "\u001b[0;31mUnboundLocalError\u001b[0m: local variable 'map' referenced before assignment"
     ]
    }
   ],
   "source": [
    "if not plot_display_data_chooser.result:\n",
    "    print(\"make sure to run the block above\")\n",
    "\n",
    "m = merge_plots2(data_list = run_dict[data_list], base_output_dir=base_output_dir,plot_name= plot_display_data_chooser.result)\n",
    "m.save(base_output_dir + \"/\" +\"0/\" + plot_display_data_chooser.result + \".html\")\n",
    "m"
   ]
  },
  {
   "cell_type": "code",
   "execution_count": null,
   "metadata": {},
   "outputs": [],
   "source": []
  }
 ],
 "metadata": {
  "kernelspec": {
   "display_name": "Python 3",
   "language": "python",
   "name": "python3"
  },
  "language_info": {
   "codemirror_mode": {
    "name": "ipython",
    "version": 3
   },
   "file_extension": ".py",
   "mimetype": "text/x-python",
   "name": "python",
   "nbconvert_exporter": "python",
   "pygments_lexer": "ipython3",
   "version": "3.6.9"
  }
 },
 "nbformat": 4,
 "nbformat_minor": 4
}
