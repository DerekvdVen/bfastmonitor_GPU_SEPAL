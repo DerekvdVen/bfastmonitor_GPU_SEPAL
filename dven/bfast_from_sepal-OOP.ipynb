{
 "cells": [
  {
   "cell_type": "markdown",
   "metadata": {},
   "source": [
    "# Bfastmonitor CPU using Python\n",
    "## This is bfastmonitor Python"
   ]
  },
  {
   "cell_type": "code",
   "execution_count": 2,
   "metadata": {},
   "outputs": [],
   "source": [
    "import os\n",
    "import wget\n",
    "import numpy as np\n",
    "from datetime import datetime\n",
    "\n",
    "from bfast import BFASTMonitor\n",
    "from bfast.utils import crop_data_dates\n",
    "\n",
    "import copy\n",
    "\n",
    "import matplotlib\n",
    "import matplotlib.pyplot as plt\n",
    "\n",
    "#from sar so extra\n",
    "import csv\n",
    "from shutil import copyfile\n",
    "import pandas as pd\n",
    "from osgeo import gdal\n",
    "from osgeo import gdal_array\n",
    "from osgeo import osr\n",
    "\n",
    "import time\n",
    "import ipywidgets as widgets\n",
    "\n",
    "from ipyfilechooser import FileChooser\n",
    "import folium\n",
    "\n",
    "#specific imports\n",
    "from functions import set_output_dir, get_size, get_data_dict"
   ]
  },
  {
   "cell_type": "code",
   "execution_count": 3,
   "metadata": {},
   "outputs": [],
   "source": [
    "%matplotlib inline"
   ]
  },
  {
   "cell_type": "markdown",
   "metadata": {},
   "source": [
    "## Select a time series folder using ipyfilechooser. The standard download location is in downloads/time_series_name/[0,1,2..n]\n",
    "\n",
    "### Optional: select a name for your output folder. "
   ]
  },
  {
   "cell_type": "code",
   "execution_count": 4,
   "metadata": {},
   "outputs": [
    {
     "data": {
      "application/vnd.jupyter.widget-view+json": {
       "model_id": "0ee344a1b4ce417fb2cd228804988be6",
       "version_major": 2,
       "version_minor": 0
      },
      "text/plain": [
       "FileChooser(path='/home/dven', filename='', title='HTML(value='', layout=Layout(display='none'))', show_hidden…"
      ]
     },
     "metadata": {},
     "output_type": "display_data"
    },
    {
     "data": {
      "application/vnd.jupyter.widget-view+json": {
       "model_id": "75cf3d0043154bbb91ac3e9a166061ab",
       "version_major": 2,
       "version_minor": 0
      },
      "text/plain": [
       "interactive(children=(Text(value='', description='Output storage name:', placeholder='output', style=Descripti…"
      ]
     },
     "metadata": {},
     "output_type": "display_data"
    }
   ],
   "source": [
    "from os.path import expanduser\n",
    "path = expanduser(\"~\")\n",
    "\n",
    "def g(directory):\n",
    "    return(directory)\n",
    "                          \n",
    "output_directory_chooser = widgets.interactive(g, \n",
    "                        directory=widgets.Text(description=\"Output storage name:\", \n",
    "                                               style = {'description_width': 'initial'},\n",
    "                                               placeholder = \"output\"))\n",
    "file_chooser = FileChooser(path)\n",
    "\n",
    "display(file_chooser)\n",
    "display(output_directory_chooser)\n",
    "\n"
   ]
  },
  {
   "cell_type": "code",
   "execution_count": 6,
   "metadata": {},
   "outputs": [
    {
     "name": "stdout",
     "output_type": "stream",
     "text": [
      "/home/dven/downloads/Time_series_2020-07-07_11-51-35_Portugal/1/\n",
      "Defaulting to output directory name \"output\" \n"
     ]
    }
   ],
   "source": [
    "timeseries_directory = file_chooser.selected\n",
    "\n",
    "if not timeseries_directory:\n",
    "    raise Exception(\"Please choose a time series directory above with the file selector\")\n",
    "else:\n",
    "    print(timeseries_directory)\n",
    "    set_output_dir(output_directory_chooser)"
   ]
  },
  {
   "cell_type": "code",
   "execution_count": 45,
   "metadata": {},
   "outputs": [],
   "source": [
    "from osgeo import gdal\n",
    "import matplotlib.pyplot as plt\n",
    "import numpy as np\n",
    "from numpy import nan\n",
    "from numpy import isnan\n",
    "\n",
    "from bfast import BFASTMonitor\n",
    "from bfast.utils import crop_data_dates\n",
    "\n",
    "import time\n",
    "\n",
    "class Timeseries:\n",
    "    '''\n",
    "    \n",
    "    This is a class that holds a numpy array with time series data, a csv containing dates, and associated geographical metadata.\n",
    "    \n",
    "    '''\n",
    "    \n",
    "    def __init__(self, time_series_path, dates_path):\n",
    "        \n",
    "        self.name = time_series_path + \"stack.vrt\"\n",
    "        self.dir = time_series_path\n",
    "        \n",
    "        self.time_series = gdal.Open(self.name)\n",
    "        time_series = self.time_series\n",
    "        geotransform = time_series.GetGeoTransform()\n",
    "        \n",
    "        # geo metadata\n",
    "        self.xpixelsize = geotransform[1]\n",
    "        self.ypixelsize = geotransform[5]\n",
    "        self.latitude = geotransform[3]\n",
    "        self.longitude = geotransform[0]\n",
    "        self.ncols = time_series.RasterXSize\n",
    "        self.nrows = time_series.RasterYSize\n",
    "        self.projection = time_series.GetProjection()\n",
    "        self.nbands = time_series.RasterCount\n",
    "        \n",
    "        band = time_series.GetRasterBand(1)\n",
    "        self.block_size = band.GetBlockSize()\n",
    "        \n",
    "        # self.raster_stack_orig = time_series.ReadAsArray()\n",
    "        # This takes really long and will likely cause memory issues when running on large countries, so don't use it\n",
    "        # Use blocks and base block size on what gdal sets or on ram calculation \n",
    "        \n",
    "        # dates file\n",
    "        with open(dates_path) as f:\n",
    "            dates_list = f.read().split('\\n')\n",
    "            self.dates = [datetime.strptime(d, '%Y-%m-%d') for d in dates_list if len(d) > 0]\n",
    "        \n",
    "    def __str__(self):\n",
    "        return(\"Timeseries holds {} dates, sized {} by {}.\".format(self.nbands,\n",
    "                                                                        self.ncols,\n",
    "                                                                        self.nrows))\n",
    "    def __repr__(self):\n",
    "            return(\"Timeseries: {} \".format(self.name))\n",
    "\n",
    "    def run_bfast(self, block):\n",
    "        print(\"start monitor: \", self.start_monitor)\n",
    "        print(\"end monitor: \", self.end_monitor)\n",
    "        print(\"start history: \", self.start_hist)\n",
    "        data, dates = crop_data_dates(block, self.dates, self.start_hist, self.end_monitor)\n",
    "        print(\"First date: {}\".format(dates[0]))\n",
    "        print(\"Last date: {}\".format(dates[-1]))\n",
    "\n",
    "        # only apply on a small subset\n",
    "        #data = data[:,:80,:80]\n",
    "        \n",
    "        # change nans to a number bfastmonitor-GPU can work with\n",
    "        where_are_NaNs = isnan(data)\n",
    "        data[where_are_NaNs] = -32768\n",
    "\n",
    "        # fit model\n",
    "        self.model.fit(data, dates, nan_value = -32768) \n",
    "        \n",
    "        # save breaks and mean magnitudes\n",
    "        breaks = self.model.breaks # index of date that has a break in dates\n",
    "        means = self.model.means # magnitudes of breaks\n",
    "        \n",
    "        return(breaks,means)\n",
    "    \n",
    "    def loop_blocks(self):\n",
    "\n",
    "        start_time = time.time()\n",
    "        \n",
    "        x_block_size = self.block_size[0]\n",
    "        y_block_size = self.block_size[1]\n",
    "        print(\"rastersize: \",self.ncols,self.nrows)\n",
    "        print(\"The natural block size is the block size that is most efficient for accessing the format, gdal found blocksize: \",self.block_size)\n",
    "        print(\"set blocksize explicitly: \",x_block_size,\", \" ,y_block_size)\n",
    "        print(\"bytes required: \", str(8 * self.ncols * self.nrows * self.nbands))\n",
    "\n",
    "        first_verstack=True\n",
    "\n",
    "        # loop over yblocks\n",
    "        for i in range(0, self.nrows, y_block_size):\n",
    "            first_horstack = True\n",
    "            if i + y_block_size < self.nrows:\n",
    "                rows = y_block_size\n",
    "            else:\n",
    "                rows = self.nrows - i\n",
    "\n",
    "            # Loop over xblocks\n",
    "            for j in range(0, self.ncols, x_block_size):\n",
    "                if j + x_block_size < self.ncols:\n",
    "                    cols = x_block_size\n",
    "                else:\n",
    "                    cols = self.ncols - j\n",
    "\n",
    "                print(j,i,cols,rows)\n",
    "\n",
    "                # first step creates the array\n",
    "                if first_horstack==True:\n",
    "                    data = self.time_series.ReadAsArray(j, i, cols, rows).astype(np.int16)\n",
    "\n",
    "                    breaks,means = self.run_bfast(data)\n",
    "                    breaks_array = breaks\n",
    "                    means_array = means\n",
    "                    first_horstack=False\n",
    "                    \n",
    "                # after that add to array\n",
    "                else:                    \n",
    "                    data = self.time_series.ReadAsArray(j, i, cols, rows).astype(np.int16)\n",
    "                    \n",
    "                    breaks,means = self.run_bfast(data)\n",
    "                    breaks_array = np.concatenate((breaks_array,breaks),axis = 1)\n",
    "                    means_array = np.concatenate((means_array,means),axis = 1)\n",
    "                    \n",
    "            # first step create new variable verstack for the data\n",
    "            if first_verstack == True:\n",
    "                stack_breaks_array = breaks_array\n",
    "                stack_means_array = means_array\n",
    "                first_verstack = False\n",
    "            \n",
    "            # after that add data to array\n",
    "            else:\n",
    "                stack_breaks_array = np.concatenate((stack_breaks_array,breaks_array),axis=0)\n",
    "                stack_means_array = np.concatenate((stack_means_array,means_array),axis=0)\n",
    "                \n",
    "        self.breaks_array = stack_breaks_array\n",
    "        self.means_array = stack_means_array\n",
    "        \n",
    "        end_time = time.time()\n",
    "        print(\"Fitting model over all blocks took {} seconds.\".format(end_time - start_time))\n",
    "        \n",
    "        \n",
    "    def set_bfast_parameters(self, start_monitor, end_monitor, start_hist,freq,k,hfrac,trend,level,backend='opencl',verbose=1,device_id=0):\n",
    "        self.start_monitor = start_monitor\n",
    "        self.end_monitor = end_monitor\n",
    "        self.start_hist = start_hist\n",
    "        self.freq = freq\n",
    "        self.k = k\n",
    "        self.hfrac = hfrac\n",
    "        self.trend = trend\n",
    "        self.level = level\n",
    "        self.backend = backend\n",
    "        self.verbose = verbose\n",
    "        \n",
    "        self.model = BFASTMonitor(\n",
    "                    self.start_monitor,\n",
    "                    freq=freq, # add these\n",
    "                    k=k,\n",
    "                    hfrac=hfrac,\n",
    "                    trend=trend,\n",
    "                    level=level,\n",
    "                    backend=backend,\n",
    "                    verbose=verbose,\n",
    "                    device_id=device_id,\n",
    "                    )\n",
    "    \n",
    "    def get_bfast_parameters(self):\n",
    "        print(\"Monitoring starts at: \", self.start_monitor)\n",
    "        print(\"Monitoring ends at: \", self.end_monitor)\n",
    "        print(\"Dataset history starts at: \", self.start_hist)\n",
    "        print(\"frequency: \", self.freq)\n",
    "        print(\"harmonic term: \", self.k)\n",
    "        print(\"hfrac: \", self.hfrac)\n",
    "        print(\"trend: \", self.trend)\n",
    "        print(\"level: \", self.level)\n",
    "        print(\"GPU opencl or CPU python: \", self.backend)\n",
    "        print(\"verbose: \", self.verbose)\n",
    "    \n",
    "    \n",
    "    # Don't work anymore, fix later\n",
    "    def plot_hist(self):\n",
    "        histlist = []\n",
    "        for x in range(self.nbands):\n",
    "            histlist.append(np.isnan(self.raster_stack[x]).sum()/(self.ncols*self.nrows))\n",
    "        plt.hist(histlist)\n",
    "        plt.show()\n",
    "        \n",
    "    def get_size(self):\n",
    "        total_size = 0\n",
    "        for dirpath, dirnames, filenames in os.walk(self.dir):\n",
    "            for f in filenames:\n",
    "                fp = os.path.join(dirpath, f)\n",
    "                # skip if it is symbolic link\n",
    "                if not os.path.islink(fp):\n",
    "                    total_size += os.path.getsize(fp)\n",
    "        print(self.dir + \"   holds  \" + str(total_size) + \" bytes\")\n",
    "\n",
    "      "
   ]
  },
  {
   "cell_type": "code",
   "execution_count": null,
   "metadata": {},
   "outputs": [],
   "source": []
  },
  {
   "cell_type": "markdown",
   "metadata": {},
   "source": [
    "# Load in data: if there are tiles in the directory, create a list and load per tile"
   ]
  },
  {
   "cell_type": "code",
   "execution_count": 46,
   "metadata": {
    "scrolled": true
   },
   "outputs": [],
   "source": [
    "# set paths to data\n",
    "dates_path = os.path.join(timeseries_directory, \"dates.csv\")\n",
    "data_list=[]\n",
    "tile_paths = []\n",
    "\n",
    "# check for tiles\n",
    "for file in os.listdir(timeseries_directory):\n",
    "    if file.startswith('tile'):\n",
    "        time_series_path =  timeseries_directory + file + \"/\"\n",
    "        tile_paths.append(time_series_path)\n"
   ]
  },
  {
   "cell_type": "code",
   "execution_count": 47,
   "metadata": {
    "scrolled": true
   },
   "outputs": [
    {
     "name": "stdout",
     "output_type": "stream",
     "text": [
      "No tiles, setting up data as one tile\n"
     ]
    }
   ],
   "source": [
    "# # Set up list of time series tiles and their metadata\n",
    "if not tile_paths:\n",
    "    print(\"No tiles, setting up data as one tile\")\n",
    "    ts_data = Timeseries(timeseries_directory, dates_path)\n",
    "    data_list.append(ts_data)\n",
    "    \n",
    "else:\n",
    "    print(\"Data consists of tiles, setting up tiles\")\n",
    "    for time_series_path in tile_paths:\n",
    "        ts_data = Timeseries(time_series_path, dates_path)\n",
    "        data_list.append(ts_data)\n",
    "        \n",
    "# log\n",
    "# with open(\"log.txt\",\"a\") as file:\n",
    "#     file.write(\"Loading in: \" + timeseries_directory)\n",
    "#     file.write(\" took {} seconds.\".format(end_time - start_time))\n",
    "#     file.write(\"\\n\")"
   ]
  },
  {
   "cell_type": "markdown",
   "metadata": {},
   "source": [
    "### Check some metadata of the created Timeseries class"
   ]
  },
  {
   "cell_type": "code",
   "execution_count": 48,
   "metadata": {
    "scrolled": true
   },
   "outputs": [
    {
     "name": "stdout",
     "output_type": "stream",
     "text": [
      "projection:  GEOGCS[\"WGS 84\",DATUM[\"WGS_1984\",SPHEROID[\"WGS 84\",6378137,298.257223563,AUTHORITY[\"EPSG\",\"7030\"]],AUTHORITY[\"EPSG\",\"6326\"]],PRIMEM[\"Greenwich\",0],UNIT[\"degree\",0.0174532925199433,AUTHORITY[\"EPSG\",\"9122\"]],AXIS[\"Latitude\",NORTH],AXIS[\"Longitude\",EAST],AUTHORITY[\"EPSG\",\"4326\"]]\n",
      "pixel size:  0.0002694945852358568\n"
     ]
    }
   ],
   "source": [
    "ts_data = data_list[0]\n",
    "print(\"projection: \", data_list[0].projection)\n",
    "print(\"pixel size: \", data_list[0].xpixelsize)"
   ]
  },
  {
   "cell_type": "markdown",
   "metadata": {},
   "source": [
    "# Set parameters"
   ]
  },
  {
   "cell_type": "code",
   "execution_count": 49,
   "metadata": {},
   "outputs": [],
   "source": [
    "# parameters\n",
    "k = 3\n",
    "freq = 365\n",
    "trend = False\n",
    "hfrac = 0.25\n",
    "level = 0.05\n",
    "position = (100,100)\n",
    "\n",
    "backend = 'opencl'\n",
    "verbose = 1\n",
    "device_id = 0\n",
    "\n",
    "\n",
    "# start_hist = datetime(2018, 1, 1)\n",
    "# start_monitor = datetime(2019, 1, 1)\n",
    "# end_monitor = datetime(2020, 1, 1)\n"
   ]
  },
  {
   "cell_type": "markdown",
   "metadata": {},
   "source": [
    "# Select monitoring period"
   ]
  },
  {
   "cell_type": "code",
   "execution_count": 50,
   "metadata": {},
   "outputs": [
    {
     "name": "stdout",
     "output_type": "stream",
     "text": [
      "start monitoring period 2000-03-04 00:00:00\n"
     ]
    },
    {
     "data": {
      "application/vnd.jupyter.widget-view+json": {
       "model_id": "2f670bd18fbd48f6bb1d84d5648f25e4",
       "version_major": 2,
       "version_minor": 0
      },
      "text/plain": [
       "interactive(children=(SelectionRangeSlider(description='Select the monitoring date range: ', index=(0, 7400), …"
      ]
     },
     "metadata": {},
     "output_type": "display_data"
    },
    {
     "data": {
      "application/vnd.jupyter.widget-view+json": {
       "model_id": "7fa8010bcc8544d69c48a57768918feb",
       "version_major": 2,
       "version_minor": 0
      },
      "text/plain": [
       "interactive(children=(SelectionSlider(description='Start history period:', options=(('2000-03-04', Timestamp('…"
      ]
     },
     "metadata": {},
     "output_type": "display_data"
    }
   ],
   "source": [
    "dates = ts_data.dates\n",
    "start_date = dates[10] # 0 or 10 does not work.. 100 did\n",
    "print(\"start monitoring period\",start_date)\n",
    "end_date = dates[-1]\n",
    "\n",
    "def h(y):\n",
    "    return(y)\n",
    "\n",
    "pandas_dates = pd.date_range(start_date, end_date, freq='D')\n",
    "\n",
    "options =  [(date.strftime('%Y-%m-%d'),date) for date in pandas_dates]\n",
    "index = (0, len(options)-1)\n",
    "\n",
    "\n",
    "monitoring_period = widgets.interactive(h,\n",
    "                                     y=widgets.SelectionRangeSlider(\n",
    "                                            options=options,\n",
    "                                            index=index,\n",
    "                                            description='Select the monitoring date range: ',\n",
    "                                            style = {'description_width': 'initial'},\n",
    "                                            orientation='horizontal',\n",
    "                                            layout={'width': '800px',\"height\":\"50px\"}))\n",
    "\n",
    "\n",
    "history_period = widgets.interactive(h, \n",
    "                                     y=widgets.SelectionSlider(description=\"Start history period:\", \n",
    "                                            options = options,\n",
    "                                            style = {'description_width': 'initial'}))\n",
    "\n",
    "display(monitoring_period)\n",
    "display(history_period)"
   ]
  },
  {
   "cell_type": "code",
   "execution_count": 51,
   "metadata": {},
   "outputs": [
    {
     "name": "stdout",
     "output_type": "stream",
     "text": [
      "start monitor:  2010-01-01 00:00:00\n",
      "end monitor:  2020-06-07 00:00:00\n",
      "start history:  2000-03-04 00:00:00\n"
     ]
    }
   ],
   "source": [
    "start_monitor, end_monitor = monitoring_period.result\n",
    "start_hist = history_period.result\n",
    "\n",
    "if history_period.result > start_monitor:\n",
    "    raise Exception(\"Your history period must start before the monitoring period\")\n",
    "\n",
    "#start_monitor = datetime(2011, 11, 23)\n",
    "\n",
    "print(\"start monitor: \", start_monitor)\n",
    "print(\"end monitor: \", end_monitor)\n",
    "print(\"start history: \", start_hist)"
   ]
  },
  {
   "cell_type": "markdown",
   "metadata": {},
   "source": [
    "### if you have tiles loop over them, or select the first"
   ]
  },
  {
   "cell_type": "code",
   "execution_count": 52,
   "metadata": {},
   "outputs": [
    {
     "name": "stdout",
     "output_type": "stream",
     "text": [
      "2010-01-01 00:00:00\n",
      "Monitoring starts at:  2010-01-01 00:00:00\n",
      "Monitoring ends at:  2020-06-07 00:00:00\n",
      "Dataset history starts at:  2000-03-04 00:00:00\n",
      "frequency:  365\n",
      "harmonic term:  3\n",
      "hfrac:  0.25\n",
      "trend:  False\n",
      "level:  0.05\n",
      "GPU opencl or CPU python:  opencl\n",
      "verbose:  1\n"
     ]
    }
   ],
   "source": [
    "# for ts_data in data_list:\n",
    "#     ts_data.set_bfast_parameters(start_monitor,end_monitor,start_hist,freq,k,hfrac,trend,level)\n",
    "#     ts_data.loop_blocks()\n",
    "\n",
    "    \n",
    "ts_data.set_bfast_parameters(start_monitor,end_monitor,start_hist,freq,k,hfrac,trend,level,backend,verbose,device_id)\n",
    "print(ts_data.start_monitor)\n",
    "\n",
    "ts_data.get_bfast_parameters()"
   ]
  },
  {
   "cell_type": "code",
   "execution_count": 11,
   "metadata": {},
   "outputs": [
    {
     "name": "stdout",
     "output_type": "stream",
     "text": [
      "[<pyopencl.Device 'Tesla T4' on 'NVIDIA CUDA' at 0x188e0e0>]\n"
     ]
    }
   ],
   "source": [
    "import pyopencl\n",
    "try:\n",
    "    print(pyopencl.get_platforms()[0].get_devices())\n",
    "except:\n",
    "    print(\"no device found, are you sure you set up a gpu?\")\n"
   ]
  },
  {
   "cell_type": "markdown",
   "metadata": {},
   "source": [
    "## Run bfastmonitor() The loop_blocks code runs over smaller blocks, that may be set based on ram space or user itself..?\n"
   ]
  },
  {
   "cell_type": "code",
   "execution_count": 54,
   "metadata": {
    "scrolled": true
   },
   "outputs": [
    {
     "name": "stdout",
     "output_type": "stream",
     "text": [
      "rastersize:  14 8\n",
      "The natural block size is the block size that is most efficient for accessing the format, gdal found blocksize:  [14, 8]\n",
      "set blocksize explicitly:  14 ,  8\n",
      "bytes required:  473984\n",
      "0 0 14 8\n",
      "start monitor:  2010-01-01 00:00:00\n",
      "end monitor:  2020-06-07 00:00:00\n",
      "start history:  2000-03-04 00:00:00\n",
      "First date: 2000-03-28 00:00:00\n",
      "Last date: 2020-06-07 00:00:00\n"
     ]
    },
    {
     "ename": "Exception",
     "evalue": "Could not access device '0' on platform with '0': clGetPlatformIDs failed: PLATFORM_NOT_FOUND_KHR",
     "output_type": "error",
     "traceback": [
      "\u001b[0;31m---------------------------------------------------------------------------\u001b[0m",
      "\u001b[0;31mLogicError\u001b[0m                                Traceback (most recent call last)",
      "\u001b[0;32m~/.local/share/virtualenvs/bfastmonitor_cpu-LhLEOv6G/lib/python3.6/site-packages/bfast/monitor/opencl/base.py\u001b[0m in \u001b[0;36m_init_device\u001b[0;34m(self, platform_id, device_id)\u001b[0m\n\u001b[1;32m    131\u001b[0m         \u001b[0;32mtry\u001b[0m\u001b[0;34m:\u001b[0m\u001b[0;34m\u001b[0m\u001b[0;34m\u001b[0m\u001b[0m\n\u001b[0;32m--> 132\u001b[0;31m             \u001b[0mplatforms\u001b[0m \u001b[0;34m=\u001b[0m \u001b[0mpyopencl\u001b[0m\u001b[0;34m.\u001b[0m\u001b[0mget_platforms\u001b[0m\u001b[0;34m(\u001b[0m\u001b[0;34m)\u001b[0m\u001b[0;34m\u001b[0m\u001b[0;34m\u001b[0m\u001b[0m\n\u001b[0m\u001b[1;32m    133\u001b[0m             \u001b[0mdevices\u001b[0m \u001b[0;34m=\u001b[0m \u001b[0mplatforms\u001b[0m\u001b[0;34m[\u001b[0m\u001b[0mplatform_id\u001b[0m\u001b[0;34m]\u001b[0m\u001b[0;34m.\u001b[0m\u001b[0mget_devices\u001b[0m\u001b[0;34m(\u001b[0m\u001b[0;34m)\u001b[0m\u001b[0;34m\u001b[0m\u001b[0;34m\u001b[0m\u001b[0m\n",
      "\u001b[0;31mLogicError\u001b[0m: clGetPlatformIDs failed: PLATFORM_NOT_FOUND_KHR",
      "\nDuring handling of the above exception, another exception occurred:\n",
      "\u001b[0;31mException\u001b[0m                                 Traceback (most recent call last)",
      "\u001b[0;32m<ipython-input-54-ac45cd7eabc1>\u001b[0m in \u001b[0;36m<module>\u001b[0;34m\u001b[0m\n\u001b[1;32m      1\u001b[0m \u001b[0;31m# If you have no tiles:\u001b[0m\u001b[0;34m\u001b[0m\u001b[0;34m\u001b[0m\u001b[0;34m\u001b[0m\u001b[0m\n\u001b[0;32m----> 2\u001b[0;31m \u001b[0mts_data\u001b[0m\u001b[0;34m.\u001b[0m\u001b[0mloop_blocks\u001b[0m\u001b[0;34m(\u001b[0m\u001b[0;34m)\u001b[0m\u001b[0;34m\u001b[0m\u001b[0;34m\u001b[0m\u001b[0m\n\u001b[0m\u001b[1;32m      3\u001b[0m \u001b[0;34m\u001b[0m\u001b[0m\n\u001b[1;32m      4\u001b[0m \u001b[0mdevices\u001b[0m \u001b[0;34m=\u001b[0m \u001b[0mplatforms\u001b[0m\u001b[0;34m[\u001b[0m\u001b[0mplatform_id\u001b[0m\u001b[0;34m]\u001b[0m\u001b[0;34m.\u001b[0m\u001b[0mget_devices\u001b[0m\u001b[0;34m(\u001b[0m\u001b[0;34m)\u001b[0m\u001b[0;34m\u001b[0m\u001b[0;34m\u001b[0m\u001b[0m\n",
      "\u001b[0;32m<ipython-input-45-622635656d25>\u001b[0m in \u001b[0;36mloop_blocks\u001b[0;34m(self)\u001b[0m\n\u001b[1;32m    113\u001b[0m                     \u001b[0mdata\u001b[0m \u001b[0;34m=\u001b[0m \u001b[0mself\u001b[0m\u001b[0;34m.\u001b[0m\u001b[0mtime_series\u001b[0m\u001b[0;34m.\u001b[0m\u001b[0mReadAsArray\u001b[0m\u001b[0;34m(\u001b[0m\u001b[0mj\u001b[0m\u001b[0;34m,\u001b[0m \u001b[0mi\u001b[0m\u001b[0;34m,\u001b[0m \u001b[0mcols\u001b[0m\u001b[0;34m,\u001b[0m \u001b[0mrows\u001b[0m\u001b[0;34m)\u001b[0m\u001b[0;34m.\u001b[0m\u001b[0mastype\u001b[0m\u001b[0;34m(\u001b[0m\u001b[0mnp\u001b[0m\u001b[0;34m.\u001b[0m\u001b[0mint16\u001b[0m\u001b[0;34m)\u001b[0m\u001b[0;34m\u001b[0m\u001b[0;34m\u001b[0m\u001b[0m\n\u001b[1;32m    114\u001b[0m \u001b[0;34m\u001b[0m\u001b[0m\n\u001b[0;32m--> 115\u001b[0;31m                     \u001b[0mbreaks\u001b[0m\u001b[0;34m,\u001b[0m\u001b[0mmeans\u001b[0m \u001b[0;34m=\u001b[0m \u001b[0mself\u001b[0m\u001b[0;34m.\u001b[0m\u001b[0mrun_bfast\u001b[0m\u001b[0;34m(\u001b[0m\u001b[0mdata\u001b[0m\u001b[0;34m)\u001b[0m\u001b[0;34m\u001b[0m\u001b[0;34m\u001b[0m\u001b[0m\n\u001b[0m\u001b[1;32m    116\u001b[0m                     \u001b[0mbreaks_array\u001b[0m \u001b[0;34m=\u001b[0m \u001b[0mbreaks\u001b[0m\u001b[0;34m\u001b[0m\u001b[0;34m\u001b[0m\u001b[0m\n\u001b[1;32m    117\u001b[0m                     \u001b[0mmeans_array\u001b[0m \u001b[0;34m=\u001b[0m \u001b[0mmeans\u001b[0m\u001b[0;34m\u001b[0m\u001b[0;34m\u001b[0m\u001b[0m\n",
      "\u001b[0;32m<ipython-input-45-622635656d25>\u001b[0m in \u001b[0;36mrun_bfast\u001b[0;34m(self, block)\u001b[0m\n\u001b[1;32m     71\u001b[0m \u001b[0;34m\u001b[0m\u001b[0m\n\u001b[1;32m     72\u001b[0m         \u001b[0;31m# fit model\u001b[0m\u001b[0;34m\u001b[0m\u001b[0;34m\u001b[0m\u001b[0;34m\u001b[0m\u001b[0m\n\u001b[0;32m---> 73\u001b[0;31m         \u001b[0mself\u001b[0m\u001b[0;34m.\u001b[0m\u001b[0mmodel\u001b[0m\u001b[0;34m.\u001b[0m\u001b[0mfit\u001b[0m\u001b[0;34m(\u001b[0m\u001b[0mdata\u001b[0m\u001b[0;34m,\u001b[0m \u001b[0mdates\u001b[0m\u001b[0;34m,\u001b[0m \u001b[0mnan_value\u001b[0m \u001b[0;34m=\u001b[0m \u001b[0;34m-\u001b[0m\u001b[0;36m32768\u001b[0m\u001b[0;34m)\u001b[0m\u001b[0;34m\u001b[0m\u001b[0;34m\u001b[0m\u001b[0m\n\u001b[0m\u001b[1;32m     74\u001b[0m \u001b[0;34m\u001b[0m\u001b[0m\n\u001b[1;32m     75\u001b[0m         \u001b[0;31m# save breaks and mean magnitudes\u001b[0m\u001b[0;34m\u001b[0m\u001b[0;34m\u001b[0m\u001b[0;34m\u001b[0m\u001b[0m\n",
      "\u001b[0;32m~/.local/share/virtualenvs/bfastmonitor_cpu-LhLEOv6G/lib/python3.6/site-packages/bfast/models.py\u001b[0m in \u001b[0;36mfit\u001b[0;34m(self, data, dates, n_chunks, nan_value)\u001b[0m\n\u001b[1;32m    144\u001b[0m                  \u001b[0mverbose\u001b[0m\u001b[0;34m=\u001b[0m\u001b[0mself\u001b[0m\u001b[0;34m.\u001b[0m\u001b[0mverbose\u001b[0m\u001b[0;34m,\u001b[0m\u001b[0;34m\u001b[0m\u001b[0;34m\u001b[0m\u001b[0m\n\u001b[1;32m    145\u001b[0m                  \u001b[0mplatform_id\u001b[0m\u001b[0;34m=\u001b[0m\u001b[0mself\u001b[0m\u001b[0;34m.\u001b[0m\u001b[0mplatform_id\u001b[0m\u001b[0;34m,\u001b[0m\u001b[0;34m\u001b[0m\u001b[0;34m\u001b[0m\u001b[0m\n\u001b[0;32m--> 146\u001b[0;31m                  \u001b[0mdevice_id\u001b[0m\u001b[0;34m=\u001b[0m\u001b[0mself\u001b[0m\u001b[0;34m.\u001b[0m\u001b[0mdevice_id\u001b[0m\u001b[0;34m\u001b[0m\u001b[0;34m\u001b[0m\u001b[0m\n\u001b[0m\u001b[1;32m    147\u001b[0m                 )\n\u001b[1;32m    148\u001b[0m \u001b[0;34m\u001b[0m\u001b[0m\n",
      "\u001b[0;32m~/.local/share/virtualenvs/bfastmonitor_cpu-LhLEOv6G/lib/python3.6/site-packages/bfast/monitor/opencl/base.py\u001b[0m in \u001b[0;36m__init__\u001b[0;34m(self, start_monitor, freq, k, hfrac, trend, level, detailed_results, old_version, verbose, platform_id, device_id)\u001b[0m\n\u001b[1;32m    103\u001b[0m \u001b[0;34m\u001b[0m\u001b[0m\n\u001b[1;32m    104\u001b[0m         \u001b[0;31m# initialize device\u001b[0m\u001b[0;34m\u001b[0m\u001b[0;34m\u001b[0m\u001b[0;34m\u001b[0m\u001b[0m\n\u001b[0;32m--> 105\u001b[0;31m         \u001b[0mself\u001b[0m\u001b[0;34m.\u001b[0m\u001b[0m_init_device\u001b[0m\u001b[0;34m(\u001b[0m\u001b[0mplatform_id\u001b[0m\u001b[0;34m,\u001b[0m \u001b[0mdevice_id\u001b[0m\u001b[0;34m)\u001b[0m\u001b[0;34m\u001b[0m\u001b[0;34m\u001b[0m\u001b[0m\n\u001b[0m\u001b[1;32m    106\u001b[0m \u001b[0;34m\u001b[0m\u001b[0m\n\u001b[1;32m    107\u001b[0m         \u001b[0;32mif\u001b[0m \u001b[0mself\u001b[0m\u001b[0;34m.\u001b[0m\u001b[0mdetailed_results\u001b[0m\u001b[0;34m:\u001b[0m\u001b[0;34m\u001b[0m\u001b[0;34m\u001b[0m\u001b[0m\n",
      "\u001b[0;32m~/.local/share/virtualenvs/bfastmonitor_cpu-LhLEOv6G/lib/python3.6/site-packages/bfast/monitor/opencl/base.py\u001b[0m in \u001b[0;36m_init_device\u001b[0;34m(self, platform_id, device_id)\u001b[0m\n\u001b[1;32m    133\u001b[0m             \u001b[0mdevices\u001b[0m \u001b[0;34m=\u001b[0m \u001b[0mplatforms\u001b[0m\u001b[0;34m[\u001b[0m\u001b[0mplatform_id\u001b[0m\u001b[0;34m]\u001b[0m\u001b[0;34m.\u001b[0m\u001b[0mget_devices\u001b[0m\u001b[0;34m(\u001b[0m\u001b[0;34m)\u001b[0m\u001b[0;34m\u001b[0m\u001b[0;34m\u001b[0m\u001b[0m\n\u001b[1;32m    134\u001b[0m         \u001b[0;32mexcept\u001b[0m \u001b[0mException\u001b[0m \u001b[0;32mas\u001b[0m \u001b[0me\u001b[0m\u001b[0;34m:\u001b[0m\u001b[0;34m\u001b[0m\u001b[0;34m\u001b[0m\u001b[0m\n\u001b[0;32m--> 135\u001b[0;31m             \u001b[0;32mraise\u001b[0m \u001b[0mException\u001b[0m\u001b[0;34m(\u001b[0m\u001b[0;34m\"Could not access device '{}' on platform with '{}': {}\"\u001b[0m\u001b[0;34m.\u001b[0m\u001b[0mformat\u001b[0m\u001b[0;34m(\u001b[0m\u001b[0mstr\u001b[0m\u001b[0;34m(\u001b[0m\u001b[0mplatform_id\u001b[0m\u001b[0;34m)\u001b[0m\u001b[0;34m,\u001b[0m \u001b[0mstr\u001b[0m\u001b[0;34m(\u001b[0m\u001b[0mdevice_id\u001b[0m\u001b[0;34m)\u001b[0m\u001b[0;34m,\u001b[0m \u001b[0mstr\u001b[0m\u001b[0;34m(\u001b[0m\u001b[0me\u001b[0m\u001b[0;34m)\u001b[0m\u001b[0;34m)\u001b[0m\u001b[0;34m)\u001b[0m\u001b[0;34m\u001b[0m\u001b[0;34m\u001b[0m\u001b[0m\n\u001b[0m\u001b[1;32m    136\u001b[0m \u001b[0;34m\u001b[0m\u001b[0m\n\u001b[1;32m    137\u001b[0m         \u001b[0mself\u001b[0m\u001b[0;34m.\u001b[0m\u001b[0mdevice\u001b[0m \u001b[0;34m=\u001b[0m \u001b[0mdevices\u001b[0m\u001b[0;34m[\u001b[0m\u001b[0mdevice_id\u001b[0m\u001b[0;34m]\u001b[0m\u001b[0;34m\u001b[0m\u001b[0;34m\u001b[0m\u001b[0m\n",
      "\u001b[0;31mException\u001b[0m: Could not access device '0' on platform with '0': clGetPlatformIDs failed: PLATFORM_NOT_FOUND_KHR"
     ]
    }
   ],
   "source": [
    "# If you have no tiles:\n",
    "ts_data.loop_blocks()\n",
    "\n",
    "#devices = platforms[platform_id].get_devices()\n",
    "#try getting devices\n",
    "#if error, say, are you sure your session is a GPU \n"
   ]
  },
  {
   "cell_type": "markdown",
   "metadata": {},
   "source": [
    "# Select negative magnitudes"
   ]
  },
  {
   "cell_type": "code",
   "execution_count": 228,
   "metadata": {
    "scrolled": true
   },
   "outputs": [],
   "source": [
    "# select only negative magnitudes\n",
    "#breaks = model.breaks # index of date that has a break in dates\n",
    "#means = model.means # magnitudes of breaks\n",
    "\n",
    "breaks = ts_data.breaks_array\n",
    "means = ts_data.means_array\n",
    "\n",
    "orig_breaks = copy.deepcopy(breaks)\n",
    "orig_means = copy.deepcopy(means)\n"
   ]
  },
  {
   "cell_type": "code",
   "execution_count": 229,
   "metadata": {},
   "outputs": [
    {
     "name": "stdout",
     "output_type": "stream",
     "text": [
      "magnitude change heatmap\n"
     ]
    },
    {
     "data": {
      "text/plain": [
       "<matplotlib.axes._subplots.AxesSubplot at 0x7f7ee71c87b8>"
      ]
     },
     "execution_count": 229,
     "metadata": {},
     "output_type": "execute_result"
    },
    {
     "data": {
      "image/png": "[encoded data removed]",
      "text/plain": [
       "<Figure size 432x288 with 2 Axes>"
      ]
     },
     "metadata": {
      "needs_background": "light"
     },
     "output_type": "display_data"
    }
   ],
   "source": [
    "\n",
    "no_breaks_indices = (breaks == -1)\n",
    "means[no_breaks_indices] = 0\n",
    "means[means > 0] = 0 # only want negative mean changes\n",
    "\n",
    "breaks_plot = breaks.astype(np.float)\n",
    "breaks_plot[breaks == -2] = np.nan\n",
    "breaks_plot[breaks == -1] = np.nan\n",
    "breaks_plot[means >= 0] = np.nan\n",
    "\n",
    "print(\"magnitude change heatmap\")\n",
    "sns.heatmap(orig_means,  linewidths=1)\n"
   ]
  },
  {
   "cell_type": "code",
   "execution_count": null,
   "metadata": {},
   "outputs": [],
   "source": []
  },
  {
   "cell_type": "code",
   "execution_count": 230,
   "metadata": {},
   "outputs": [
    {
     "name": "stdout",
     "output_type": "stream",
     "text": [
      "negative magnitude change heatmap\n"
     ]
    },
    {
     "data": {
      "text/plain": [
       "<matplotlib.axes._subplots.AxesSubplot at 0x7f7ee53b9668>"
      ]
     },
     "execution_count": 230,
     "metadata": {},
     "output_type": "execute_result"
    },
    {
     "data": {
      "image/png": "[encoded data removed]",
      "text/plain": [
       "<Figure size 432x288 with 2 Axes>"
      ]
     },
     "metadata": {
      "needs_background": "light"
     },
     "output_type": "display_data"
    }
   ],
   "source": [
    "print(\"negative magnitude change heatmap\")\n",
    "sns.heatmap(means,  linewidths=.5)"
   ]
  },
  {
   "cell_type": "code",
   "execution_count": 231,
   "metadata": {},
   "outputs": [],
   "source": [
    "dates_monitor = []\n",
    "dates = ts_data.dates\n",
    "# collect dates for monitor period\n",
    "for i in range(len(dates)):\n",
    "    if start_monitor <= dates[i]:\n",
    "        dates_monitor.append(dates[i])\n",
    "dates_array = np.array(dates_monitor) # dates_array is the dates that are in the monitoring period\n"
   ]
  },
  {
   "cell_type": "code",
   "execution_count": 232,
   "metadata": {},
   "outputs": [
    {
     "data": {
      "text/plain": [
       "array([datetime.datetime(2019, 9, 17, 0, 0),\n",
       "       datetime.datetime(2019, 10, 3, 0, 0),\n",
       "       datetime.datetime(2019, 12, 6, 0, 0),\n",
       "       datetime.datetime(2019, 9, 25, 0, 0),\n",
       "       datetime.datetime(2019, 10, 11, 0, 0),\n",
       "       datetime.datetime(2019, 10, 27, 0, 0),\n",
       "       datetime.datetime(2019, 11, 12, 0, 0),\n",
       "       datetime.datetime(2019, 12, 30, 0, 0),\n",
       "       datetime.datetime(2020, 1, 7, 0, 0),\n",
       "       datetime.datetime(2020, 2, 24, 0, 0),\n",
       "       datetime.datetime(2020, 3, 11, 0, 0),\n",
       "       datetime.datetime(2020, 3, 27, 0, 0),\n",
       "       datetime.datetime(2020, 4, 12, 0, 0),\n",
       "       datetime.datetime(2020, 5, 30, 0, 0),\n",
       "       datetime.datetime(2020, 3, 3, 0, 0),\n",
       "       datetime.datetime(2020, 3, 19, 0, 0),\n",
       "       datetime.datetime(2020, 4, 4, 0, 0),\n",
       "       datetime.datetime(2020, 5, 6, 0, 0),\n",
       "       datetime.datetime(2020, 5, 22, 0, 0),\n",
       "       datetime.datetime(2020, 6, 7, 0, 0)], dtype=object)"
      ]
     },
     "execution_count": 232,
     "metadata": {},
     "output_type": "execute_result"
    }
   ],
   "source": [
    "dates_array"
   ]
  },
  {
   "cell_type": "markdown",
   "metadata": {},
   "source": [
    "# Classify output for plotting"
   ]
  },
  {
   "cell_type": "code",
   "execution_count": 236,
   "metadata": {},
   "outputs": [
    {
     "name": "stdout",
     "output_type": "stream",
     "text": [
      "2019\n",
      "0\n",
      "2020\n",
      "8\n",
      "{2019: 0, 2020: 8}\n",
      "idx==0\n",
      "idx==len(idx_starts)-1\n",
      "['2019', '2020']\n",
      "[[ 0.  1. nan nan  0.  0.  0.  0.  0. nan nan nan  0. nan]\n",
      " [nan nan nan nan  0.  0.  0.  0. nan nan nan nan nan nan]\n",
      " [nan nan nan nan nan  0. nan nan nan nan nan nan nan nan]\n",
      " [nan nan nan nan nan nan nan nan nan nan nan nan nan nan]\n",
      " [nan nan nan nan  0.  0.  0.  0. nan nan nan nan nan nan]\n",
      " [nan nan nan nan nan  0.  0.  0.  0. nan nan nan nan nan]\n",
      " [nan nan nan nan nan nan nan nan  0. nan nan nan nan nan]\n",
      " [nan nan nan nan nan nan nan nan  0.  0. nan nan nan  0.]]\n"
     ]
    }
   ],
   "source": [
    "idx_starts = {}\n",
    "\n",
    "# this gives the index of all the data points in the year and after\n",
    "for year in range(start_monitor.year,end_monitor.year+1):\n",
    "    print(year)\n",
    "    idx_starts[year] = np.argmax((dates_array >= datetime(year, 1, 1)) > False) \n",
    "    print(np.argmax((dates_array >= datetime(year,1,1))))\n",
    "print(idx_starts)\n",
    "breaks_plot_years = copy.deepcopy(breaks_plot)\n",
    "\n",
    "#classifying for plotting\n",
    "ticklist=[]\n",
    "for idx, year in enumerate(idx_starts):\n",
    "    ticklist.append(str(year))\n",
    "    \n",
    "    # if we're at the last year\n",
    "    if idx == len(idx_starts)-1:\n",
    "        breaks_plot_years[np.where(idx_starts[year] < breaks_plot)] = len(idx_starts)-1 \n",
    "        print(\"idx==len(idx_starts)-1\")\n",
    "        continue\n",
    "    \n",
    "    # if we're at the first year\n",
    "    if idx == 0:\n",
    "        breaks_plot_years[breaks_plot <= idx_starts[year+1]] = 0\n",
    "        print(\"idx==0\")\n",
    "        continue\n",
    "    \n",
    "    # all other years in between\n",
    "    breaks_plot_years[np.where(np.logical_and(idx_starts[year] < breaks_plot, breaks_plot <= idx_starts[year+1]))] = idx\n",
    "    \n",
    "print(ticklist)\n",
    "print(breaks_plot_years)"
   ]
  },
  {
   "cell_type": "markdown",
   "metadata": {},
   "source": [
    "# Plot output"
   ]
  },
  {
   "cell_type": "code",
   "execution_count": 194,
   "metadata": {},
   "outputs": [
    {
     "name": "stdout",
     "output_type": "stream",
     "text": [
      "2\n"
     ]
    },
    {
     "data": {
      "image/png": "[encoded data removed]",
      "text/plain": [
       "<Figure size 720x720 with 2 Axes>"
      ]
     },
     "metadata": {
      "needs_background": "light"
     },
     "output_type": "display_data"
    }
   ],
   "source": [
    "bins = len(idx_starts)\n",
    "\n",
    "\n",
    "cmap = plt.get_cmap(\"rainbow\")\n",
    "cmaplist = [cmap(i) for i in range(cmap.N)]\n",
    "cmap = cmap.from_list('Custom cmap', cmaplist, cmap.N)\n",
    "\n",
    "bounds = np.linspace(0, bins-1, bins) #third number is the amount of bins in the colorbar 0=0, 6 = ncolors, 7= nyears\n",
    "norm = matplotlib.colors.BoundaryNorm(bounds, cmap.N)\n",
    "\n",
    "fig, axes = plt.subplots(nrows=1, ncols=1, figsize=(10, 10))\n",
    "print(bins)\n",
    "\n",
    "#norm doesn't work with bins = 2 or less... now the colorbar is ugly, fix it later\n",
    "\n",
    "if bins == 1:\n",
    "    im = axes.imshow(breaks_plot_years,cmap=cmap,vmin=0,vmax=bins)\n",
    "if bins == 2:\n",
    "    im = axes.imshow(breaks_plot_years,cmap=cmap,vmin=0,vmax=bins)\n",
    "else:\n",
    "    im = axes.imshow(breaks_plot_years, cmap=cmap, vmin=0, vmax=bins, norm=norm)\n",
    "\n",
    "fig.subplots_adjust(right=0.8)\n",
    "cbar_ax = fig.add_axes([0.85, 0.15, 0.05, 0.7])\n",
    "fig.colorbar(im, cax=cbar_ax, ticks=range(bins))\n",
    "labels = cbar_ax.set_yticklabels(ticklist)\n",
    "\n",
    "plt.savefig(\"./output/picture.png\")\n",
    "plt.show()\n",
    "\n"
   ]
  },
  {
   "cell_type": "markdown",
   "metadata": {},
   "source": [
    "print(bounds)"
   ]
  },
  {
   "cell_type": "code",
   "execution_count": 175,
   "metadata": {},
   "outputs": [
    {
     "name": "stdout",
     "output_type": "stream",
     "text": [
      "[0. 1.]\n"
     ]
    }
   ],
   "source": [
    "print(bounds)"
   ]
  },
  {
   "cell_type": "code",
   "execution_count": null,
   "metadata": {},
   "outputs": [],
   "source": [
    "# #this doesn't work yet\n",
    "\n",
    "# output_raster = gdal.GetDriverByName('GTiff').Create('myraster.tif',cols, rows, 1 ,gdal.GDT_Float32)  # Open the file\n",
    "\n",
    "# output_raster.SetGeoTransform(geotransform)  # Specify its coordinates\n",
    "# srs = osr.SpatialReference()                 # Establish its coordinate encoding\n",
    "# srs.ImportFromEPSG(4326)                     # This one specifies WGS84 lat long.\n",
    "#                                              # Anyone know how to specify the \n",
    "#                                              # IAU2000:49900 Mars encoding?\n",
    "# output_raster.SetProjection( srs.ExportToWkt() )   # Exports the coordinate system \n",
    "#                                                    # to the file\n",
    "# output_raster.GetRasterBand(1).WriteArray(breaks_plot_years)   # Writes my array to the raster\n",
    "\n",
    "# output_raster.FlushCache()\n",
    "\n",
    "# output_raster"
   ]
  },
  {
   "cell_type": "code",
   "execution_count": 180,
   "metadata": {},
   "outputs": [
    {
     "name": "stdout",
     "output_type": "stream",
     "text": [
      "[[ 0.  1. nan nan  0.  0.  0.  0.  0. nan nan nan  0. nan]\n",
      " [nan nan nan nan  0.  0.  0.  0. nan nan nan nan nan nan]\n",
      " [nan nan nan nan nan  0. nan nan nan nan nan nan nan nan]\n",
      " [nan nan nan nan nan nan nan nan nan nan nan nan nan nan]\n",
      " [nan nan nan nan  0.  0.  0.  0. nan nan nan nan nan nan]\n",
      " [nan nan nan nan nan  0.  0.  0.  0. nan nan nan nan nan]\n",
      " [nan nan nan nan nan nan nan nan  0. nan nan nan nan nan]\n",
      " [nan nan nan nan nan nan nan nan  0.  0. nan nan nan  0.]]\n",
      "[[100.           0.99009901          nan          nan 100.\n",
      "  100.         100.         100.         100.                  nan\n",
      "           nan          nan 100.                  nan]\n",
      " [         nan          nan          nan          nan 100.\n",
      "  100.         100.         100.                  nan          nan\n",
      "           nan          nan          nan          nan]\n",
      " [         nan          nan          nan          nan          nan\n",
      "  100.                  nan          nan          nan          nan\n",
      "           nan          nan          nan          nan]\n",
      " [         nan          nan          nan          nan          nan\n",
      "           nan          nan          nan          nan          nan\n",
      "           nan          nan          nan          nan]\n",
      " [         nan          nan          nan          nan 100.\n",
      "  100.         100.         100.                  nan          nan\n",
      "           nan          nan          nan          nan]\n",
      " [         nan          nan          nan          nan          nan\n",
      "  100.         100.         100.         100.                  nan\n",
      "           nan          nan          nan          nan]\n",
      " [         nan          nan          nan          nan          nan\n",
      "           nan          nan          nan 100.                  nan\n",
      "           nan          nan          nan          nan]\n",
      " [         nan          nan          nan          nan          nan\n",
      "           nan          nan          nan 100.         100.\n",
      "           nan          nan          nan 100.        ]]\n"
     ]
    }
   ],
   "source": [
    "print(breaks_plot_years)\n",
    "breaks_plot_years_norm = 1/(breaks_plot_years + 0.01)\n",
    "print(breaks_plot_years_norm)"
   ]
  },
  {
   "cell_type": "code",
   "execution_count": 181,
   "metadata": {},
   "outputs": [],
   "source": [
    "#cmap = plt.get_cmap(\"Oranges\")\n",
    "\n",
    "#cmaplist = [cmap(i) for i in range(cmap.N)]\n",
    "\n",
    "#cmap = cmap.from_list('Custom cmap', cmaplist, cmap.N)\n",
    "\n",
    "from matplotlib import cm\n",
    "from matplotlib.colors import ListedColormap, LinearSegmentedColormap\n",
    "\n",
    "# viridis = cm.get_cmap('viridis', 12)\n",
    "# print(viridis)\n",
    "# print(viridis(0.56))\n",
    "\n",
    "viridis = cm.get_cmap('rainbow', 256)\n",
    "newcolors = viridis(np.linspace(0, 1, 256))\n",
    "pink = np.array([248/256, 24/256, 148/256, 0])\n",
    "newcolors[:1, :] = pink\n",
    "newcmp = ListedColormap(newcolors)"
   ]
  },
  {
   "cell_type": "code",
   "execution_count": 182,
   "metadata": {},
   "outputs": [
    {
     "ename": "NameError",
     "evalue": "name 'latitude' is not defined",
     "output_type": "error",
     "traceback": [
      "\u001b[0;31m---------------------------------------------------------------------------\u001b[0m",
      "\u001b[0;31mNameError\u001b[0m                                 Traceback (most recent call last)",
      "\u001b[0;32m<ipython-input-182-f35afe9be848>\u001b[0m in \u001b[0;36m<module>\u001b[0;34m\u001b[0m\n\u001b[0;32m----> 1\u001b[0;31m \u001b[0mprint\u001b[0m\u001b[0;34m(\u001b[0m\u001b[0mlatitude\u001b[0m\u001b[0;34m)\u001b[0m\u001b[0;34m\u001b[0m\u001b[0;34m\u001b[0m\u001b[0m\n\u001b[0m\u001b[1;32m      2\u001b[0m \u001b[0mprint\u001b[0m\u001b[0;34m(\u001b[0m\u001b[0mxpixelsize\u001b[0m\u001b[0;34m)\u001b[0m\u001b[0;34m\u001b[0m\u001b[0;34m\u001b[0m\u001b[0m\n\u001b[1;32m      3\u001b[0m \u001b[0mprint\u001b[0m\u001b[0;34m(\u001b[0m\u001b[0mcols\u001b[0m\u001b[0;34m)\u001b[0m\u001b[0;34m\u001b[0m\u001b[0;34m\u001b[0m\u001b[0m\n\u001b[1;32m      4\u001b[0m \u001b[0mprint\u001b[0m\u001b[0;34m(\u001b[0m\u001b[0mlongitude\u001b[0m\u001b[0;34m)\u001b[0m\u001b[0;34m\u001b[0m\u001b[0;34m\u001b[0m\u001b[0m\n\u001b[1;32m      5\u001b[0m \u001b[0mprint\u001b[0m\u001b[0;34m(\u001b[0m\u001b[0mypixelsize\u001b[0m\u001b[0;34m)\u001b[0m\u001b[0;34m\u001b[0m\u001b[0;34m\u001b[0m\u001b[0m\n",
      "\u001b[0;31mNameError\u001b[0m: name 'latitude' is not defined"
     ]
    }
   ],
   "source": [
    "print(latitude)\n",
    "print(xpixelsize)\n",
    "print(cols)\n",
    "print(longitude)\n",
    "print(ypixelsize)\n",
    "print(rows)"
   ]
  },
  {
   "cell_type": "code",
   "execution_count": 183,
   "metadata": {},
   "outputs": [
    {
     "name": "stdout",
     "output_type": "stream",
     "text": [
      "40.701497713586164\n",
      "-8.420088821109099\n"
     ]
    }
   ],
   "source": [
    "print(ts_data.latitude)\n",
    "print(ts_data.longitude)"
   ]
  },
  {
   "cell_type": "code",
   "execution_count": 184,
   "metadata": {},
   "outputs": [
    {
     "data": {
      "text/html": [
       "<div style=\"width:100%;\"><div style=\"position:relative;width:100%;height:0;padding-bottom:60%;\"><span style=\"color:#565656\">Make this Notebook Trusted to load map: File -> Trust Notebook</span><iframe src=\"about:blank\" style=\"position:absolute;width:100%;height:100%;left:0;top:0;border:none !important;\" data-html=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 onload=\"this.contentDocument.open();this.contentDocument.write(atob(this.getAttribute('data-html')));this.contentDocument.close();\" allowfullscreen webkitallowfullscreen mozallowfullscreen></iframe></div></div>"
      ],
      "text/plain": [
       "<folium.folium.Map at 0x7f7ee9512b38>"
      ]
     },
     "execution_count": 184,
     "metadata": {},
     "output_type": "execute_result"
    }
   ],
   "source": [
    "# this is probs still wrong\n",
    "\n",
    "from folium.plugins import FloatImage\n",
    "import base64\n",
    "latitude = ts_data.latitude\n",
    "longitude = ts_data.longitude\n",
    "xpixelsize= ts_data.xpixelsize\n",
    "ypixelsize= ts_data.ypixelsize\n",
    "rows = ts_data.nrows\n",
    "cols = ts_data.ncols\n",
    "\n",
    "m = folium.folium.Map(location = (latitude,longitude),tiles = \"Stamen Terrain\",zoom_start=13)\n",
    "\n",
    "# if not all data is \n",
    "#rows = 200\n",
    "#cols = 200\n",
    "\n",
    "\n",
    "# bounds = [[lat_min, lon_min], [lat_max, lon_max]]\n",
    "\n",
    "folium.raster_layers.ImageOverlay(\n",
    "    image=breaks_plot_years_norm,\n",
    "    bounds=[[latitude, longitude], [latitude + (rows*xpixelsize), longitude + (cols*xpixelsize)]],\n",
    "    colormap = newcmp\n",
    ").add_to(m)\n",
    "img = \"output/picture.png\" \n",
    "\n",
    "\n",
    "####\n",
    "resolution, width, height = 75, 4,4\n",
    "encoded = base64.b64encode(open(\"output/picture.png\", 'rb').read()).decode()\n",
    "from folium import IFrame\n",
    "\n",
    "html = '<img src=\"data:image/png;base64,{}\">'.format\n",
    "iframe = IFrame(html(encoded), width=(width*resolution)+20, height=(height*resolution)+20)\n",
    "popup = folium.Popup(iframe, max_width=2650)\n",
    "\n",
    "icon = folium.Icon(color=\"red\", icon=\"ok\")\n",
    "marker = folium.Marker(location=[latitude, longitude], popup=popup, icon=icon)\n",
    "marker.add_to(m)\n",
    "####\n",
    "\n",
    "m.save(os.path.join('output/PortugalBigger_gpu.html'))\n",
    "m"
   ]
  },
  {
   "cell_type": "code",
   "execution_count": null,
   "metadata": {},
   "outputs": [],
   "source": []
  },
  {
   "cell_type": "code",
   "execution_count": null,
   "metadata": {},
   "outputs": [],
   "source": []
  }
 ],
 "metadata": {
  "kernelspec": {
   "display_name": "bfastmonitor_cpu",
   "language": "python",
   "name": "bfastmonitor_cpu"
  },
  "language_info": {
   "codemirror_mode": {
    "name": "ipython",
    "version": 3
   },
   "file_extension": ".py",
   "mimetype": "text/x-python",
   "name": "python",
   "nbconvert_exporter": "python",
   "pygments_lexer": "ipython3",
   "version": "3.6.9"
  }
 },
 "nbformat": 4,
 "nbformat_minor": 4
}
