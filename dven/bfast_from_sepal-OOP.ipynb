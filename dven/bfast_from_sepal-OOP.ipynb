{
 "cells": [
  {
   "cell_type": "markdown",
   "metadata": {},
   "source": [
    "# GPU implementation of Bfastmonitor using Python\n",
    "The bfast package provides a highly-efficient parallel implementation for the Breaks For Additive Season and Trend (BFASTmonitor) proposed by Verbesselt et al. The implementation is based on OpenCL."
   ]
  },
  {
   "cell_type": "markdown",
   "metadata": {},
   "source": [
    "The script below runs bfastmonitor over the timeseries data downloaded in SEPAL in blocks, and patches together tiles to export mean magnitudes and breaks .npy files. The output is also displayed in a digital map. Make sure to run through the cells sequentially and keep the parameters constant if you are running over multiple directories of you Area of Interest.\n",
    "\n",
    "* First download data using the SEPAL time series downloader (not in this script). The downloads will be saved in your downloads folder and look like: /home/'username'/downloads/Time_series_2020-09-01_16-22-26/0|1|2|3\n",
    "\n",
    "* Import packages\n",
    "\n",
    "* Select data\n",
    "\n",
    "* Set parameters\n",
    "\n",
    "* Select monitoring period*\n",
    "\n",
    "* Run bfastmonitor*\n",
    "\n",
    "* Optional: Load output*\n",
    "\n",
    "* Merge and save tiles output\n",
    "\n",
    "* Display output\n",
    "\n",
    "*After saving the output, one may load it in again instead of running bfastmonitor again\n"
   ]
  },
  {
   "cell_type": "markdown",
   "metadata": {},
   "source": [
    "### Import packages"
   ]
  },
  {
   "cell_type": "code",
   "execution_count": 1,
   "metadata": {},
   "outputs": [
    {
     "name": "stdout",
     "output_type": "stream",
     "text": [
      "\n",
      "    The timeseries class is a wrapper for using SEPAL timeseries data with bfast. \n",
      "    It wraps together a data tile with associated dates file and metadata. \n",
      "    It also allows for saving and loading the output rasters in a specified directory. \n",
      "    \n"
     ]
    }
   ],
   "source": [
    "import os # add a comment to test git \n",
    "from os.path import expanduser\n",
    "\n",
    "import wget\n",
    "import numpy as np\n",
    "from datetime import datetime\n",
    "import copy\n",
    "import matplotlib\n",
    "import matplotlib.pyplot as plt\n",
    "\n",
    "import json\n",
    "\n",
    "from bfast import BFASTMonitor\n",
    "from bfast.utils import crop_data_dates\n",
    "\n",
    "import csv\n",
    "from shutil import copyfile\n",
    "import pandas as pd\n",
    "from osgeo import gdal, gdal_array, osr\n",
    "\n",
    "import time\n",
    "from tqdm import tqdm\n",
    "\n",
    "import ipywidgets as widgets\n",
    "from ipywidgets import Layout\n",
    "from ipyfilechooser import FileChooser\n",
    "import folium\n",
    "\n",
    "# from folium.plugins import FloatImage\n",
    "# import base64\n",
    "# import json\n",
    "\n",
    "from PIL import Image\n",
    "from matplotlib import cm\n",
    "\n",
    "# import functions from functions.py and plotting_funcs.py\n",
    "from functions import set_base_output_dir, set_output_dir, get_data_dict, merge_tiles, set_paths, _find_index_date, normalize, select_negatives, get_julian_dates\n",
    "from plotting_funcs import save_plot, merge_plots, classify_output, plot_output_matplotlib, set_corners, export_GTiff\n",
    "\n",
    "# Import the Timeseries class from time_series.py\n",
    "from time_series import Timeseries\n",
    "print(Timeseries.__doc__)\n",
    "\n",
    "# Import widgets for GUI parameter selection\n",
    "from widgets import get_widgets, get_dates_widgets\n",
    "output_directory_chooser, k_chooser,freq_chooser,trend_chooser,hfrac_chooser,level_chooser,backend_chooser, load_chooser, block_size_chooser, plot_display_data_chooser = get_widgets()"
   ]
  },
  {
   "cell_type": "code",
   "execution_count": 2,
   "metadata": {},
   "outputs": [],
   "source": [
    "%matplotlib inline"
   ]
  },
  {
   "cell_type": "markdown",
   "metadata": {},
   "source": [
    "### Select data\n",
    "\n",
    "#### Select a name for your output folder. All the segments you run through will be saved here: \"./stored_time_series/[yourfoldername]\n",
    "\n"
   ]
  },
  {
   "cell_type": "code",
   "execution_count": 3,
   "metadata": {},
   "outputs": [
    {
     "data": {
      "application/vnd.jupyter.widget-view+json": {
       "model_id": "cd9c27697ef043428d387bb0f010a92d",
       "version_major": 2,
       "version_minor": 0
      },
      "text/plain": [
       "interactive(children=(Text(value='', description='Output storage name: (country/location name, e.g. \"Guyana\")'…"
      ]
     },
     "metadata": {},
     "output_type": "display_data"
    }
   ],
   "source": [
    "display(output_directory_chooser)"
   ]
  },
  {
   "cell_type": "code",
   "execution_count": 5,
   "metadata": {},
   "outputs": [
    {
     "name": "stdout",
     "output_type": "stream",
     "text": [
      "Output directory name: stored_time_series/testtest\n"
     ]
    }
   ],
   "source": [
    "base_output_dir = set_base_output_dir(output_directory_chooser)"
   ]
  },
  {
   "cell_type": "markdown",
   "metadata": {},
   "source": [
    "#### Select a time series segment folder using ipyfilechooser.  The standard download location is in downloads/time_series_name/[0,1,2..n]\n"
   ]
  },
  {
   "cell_type": "code",
   "execution_count": 6,
   "metadata": {},
   "outputs": [
    {
     "data": {
      "application/vnd.jupyter.widget-view+json": {
       "model_id": "2622fc6c62b94616b98c0c2b3559e25d",
       "version_major": 2,
       "version_minor": 0
      },
      "text/plain": [
       "FileChooser(path='/home/dven', filename='', title='HTML(value='', layout=Layout(display='none'))', show_hidden…"
      ]
     },
     "metadata": {},
     "output_type": "display_data"
    }
   ],
   "source": [
    "path = expanduser(\"~\")\n",
    "file_chooser = FileChooser(path)\n",
    "display(file_chooser)"
   ]
  },
  {
   "cell_type": "code",
   "execution_count": 7,
   "metadata": {},
   "outputs": [
    {
     "name": "stdout",
     "output_type": "stream",
     "text": [
      "/home/dven/downloads/Time_series_2020-09-09_13-02-40_Australia_small/0/\n",
      "stored_time_series/testtest/testtest_0\n"
     ]
    }
   ],
   "source": [
    "timeseries_directory = file_chooser.selected\n",
    "\n",
    "if not timeseries_directory:\n",
    "    raise Exception(\"Please choose a time series directory above with the file selector\")\n",
    "else:\n",
    "    print(timeseries_directory)\n",
    "    output_dir = set_output_dir(output_directory_chooser,timeseries_directory)\n",
    "    print(output_dir)"
   ]
  },
  {
   "cell_type": "markdown",
   "metadata": {},
   "source": [
    "#### Load in data: if there are tiles in the directory, create a list and load per tile. The Timeseries tiles and their associated data are put in the list: 'data_list'\n"
   ]
  },
  {
   "cell_type": "code",
   "execution_count": 8,
   "metadata": {
    "scrolled": true
   },
   "outputs": [
    {
     "name": "stdout",
     "output_type": "stream",
     "text": [
      "Data consists of tiles, setting up tiles in 'data_list' \n",
      "Timeseries class holding 956 dates, sized 755 by 599.\n"
     ]
    }
   ],
   "source": [
    "# Create Timeseries class objects for every tile\n",
    "data_list = set_paths(timeseries_directory = timeseries_directory)\n",
    "for tile in data_list:\n",
    "    print(tile)"
   ]
  },
  {
   "cell_type": "markdown",
   "metadata": {},
   "source": [
    "### Check some metadata of the created Timeseries class"
   ]
  },
  {
   "cell_type": "code",
   "execution_count": 9,
   "metadata": {
    "scrolled": true
   },
   "outputs": [
    {
     "name": "stdout",
     "output_type": "stream",
     "text": [
      "projection:  GEOGCS[\"WGS 84\",DATUM[\"WGS_1984\",SPHEROID[\"WGS 84\",6378137,298.257223563,AUTHORITY[\"EPSG\",\"7030\"]],AUTHORITY[\"EPSG\",\"6326\"]],PRIMEM[\"Greenwich\",0],UNIT[\"degree\",0.0174532925199433,AUTHORITY[\"EPSG\",\"9122\"]],AXIS[\"Latitude\",NORTH],AXIS[\"Longitude\",EAST],AUTHORITY[\"EPSG\",\"4326\"]]\n",
      "pixel size:  0.00026949458523586135\n",
      "n dates in timeseries:  956\n"
     ]
    }
   ],
   "source": [
    "print(\"projection: \", data_list[0].projection)\n",
    "print(\"pixel size: \", data_list[0].xpixelsize)\n",
    "print(\"n dates in timeseries: \", data_list[0].nbands)\n",
    "\n",
    "# Uncomment to see al vars associated with the tile\n",
    "#vars(data_list[0])"
   ]
  },
  {
   "cell_type": "markdown",
   "metadata": {},
   "source": [
    "# Set parameters\n",
    "\n",
    "## Make sure not to re-run these blocks if you want to use the same dates for every segment 1|2|3|4"
   ]
  },
  {
   "cell_type": "code",
   "execution_count": 10,
   "metadata": {},
   "outputs": [
    {
     "data": {
      "application/vnd.jupyter.widget-view+json": {
       "model_id": "e7eefc385b774959962f5c7adef3dcec",
       "version_major": 2,
       "version_minor": 0
      },
      "text/plain": [
       "interactive(children=(Dropdown(description='k, harmonic terms', index=2, layout=Layout(height='auto', width='5…"
      ]
     },
     "metadata": {},
     "output_type": "display_data"
    },
    {
     "data": {
      "application/vnd.jupyter.widget-view+json": {
       "model_id": "09d3576c03c64fcf9ac5f113f76d9d8f",
       "version_major": 2,
       "version_minor": 0
      },
      "text/plain": [
       "interactive(children=(IntSlider(value=365, description='freq, frequency of seasonal model (days)', layout=Layo…"
      ]
     },
     "metadata": {},
     "output_type": "display_data"
    },
    {
     "data": {
      "application/vnd.jupyter.widget-view+json": {
       "model_id": "bac49fb9960146fab4f3cd3f70a9ba43",
       "version_major": 2,
       "version_minor": 0
      },
      "text/plain": [
       "interactive(children=(Checkbox(value=False, description='add trend', layout=Layout(height='auto', width='500px…"
      ]
     },
     "metadata": {},
     "output_type": "display_data"
    },
    {
     "data": {
      "application/vnd.jupyter.widget-view+json": {
       "model_id": "d72a67dfdee947b89bd51a376ef5ad4f",
       "version_major": 2,
       "version_minor": 0
      },
      "text/plain": [
       "interactive(children=(FloatSlider(value=0.25, description='Bandwith relative to sample size', layout=Layout(he…"
      ]
     },
     "metadata": {},
     "output_type": "display_data"
    },
    {
     "data": {
      "application/vnd.jupyter.widget-view+json": {
       "model_id": "f38b6089aba248e58ed9452e9ccb5724",
       "version_major": 2,
       "version_minor": 0
      },
      "text/plain": [
       "interactive(children=(SelectionSlider(description='Significance level of the monitoring', layout=Layout(height…"
      ]
     },
     "metadata": {},
     "output_type": "display_data"
    },
    {
     "data": {
      "application/vnd.jupyter.widget-view+json": {
       "model_id": "7a64fe24d519419e8ce6a6fa77a9dab9",
       "version_major": 2,
       "version_minor": 0
      },
      "text/plain": [
       "interactive(children=(Dropdown(description='backend', layout=Layout(height='auto', width='500px'), options=('o…"
      ]
     },
     "metadata": {},
     "output_type": "display_data"
    }
   ],
   "source": [
    "# Choose parameters\n",
    "display(k_chooser)\n",
    "display(freq_chooser)\n",
    "display(trend_chooser)\n",
    "display(hfrac_chooser)\n",
    "display(level_chooser)\n",
    "display(backend_chooser)"
   ]
  },
  {
   "cell_type": "code",
   "execution_count": 11,
   "metadata": {},
   "outputs": [],
   "source": [
    "# Set parameters\n",
    "k = k_chooser.result\n",
    "freq = freq_chooser.result\n",
    "trend = trend_chooser.result\n",
    "hfrac = hfrac_chooser.result\n",
    "level = 1 - level_chooser.result\n",
    "backend = backend_chooser.result\n",
    "verbose = 1\n",
    "device_id = 0"
   ]
  },
  {
   "cell_type": "markdown",
   "metadata": {},
   "source": [
    "# Select monitoring period\n",
    "\n",
    "## Make sure not to re-run these blocks if you want to use the same dates for every segment 1|2|3|4"
   ]
  },
  {
   "cell_type": "code",
   "execution_count": 12,
   "metadata": {},
   "outputs": [
    {
     "data": {
      "application/vnd.jupyter.widget-view+json": {
       "model_id": "a519f23c4f304ffd9f5df7f436b7543c",
       "version_major": 2,
       "version_minor": 0
      },
      "text/plain": [
       "interactive(children=(SelectionRangeSlider(description='Select the monitoring date range: ', index=(0, 7544), …"
      ]
     },
     "metadata": {},
     "output_type": "display_data"
    },
    {
     "data": {
      "application/vnd.jupyter.widget-view+json": {
       "model_id": "88f37d01536945ae91a8e110fcc31c7d",
       "version_major": 2,
       "version_minor": 0
      },
      "text/plain": [
       "interactive(children=(SelectionSlider(description='Start history period:', options=(('2000-01-01', Timestamp('…"
      ]
     },
     "metadata": {},
     "output_type": "display_data"
    }
   ],
   "source": [
    "dates = data_list[0].dates\n",
    "start_date = dates[0] # 0 or 10 does not work.. 100 did ########\n",
    "end_date = dates[-1]\n",
    "pandas_dates = pd.date_range(start_date, end_date, freq='D')\n",
    "\n",
    "options =  [(date.strftime('%Y-%m-%d'),date) for date in pandas_dates]\n",
    "index = (0, len(options)-1)\n",
    "\n",
    "monitoring_period_chooser, history_period_chooser = get_dates_widgets(options = options, index = index)\n",
    "\n",
    "display(monitoring_period_chooser)\n",
    "display(history_period_chooser)"
   ]
  },
  {
   "cell_type": "code",
   "execution_count": 14,
   "metadata": {},
   "outputs": [],
   "source": [
    "start_monitor, end_monitor = monitoring_period_chooser.result\n",
    "start_hist = history_period_chooser.result\n",
    "\n",
    "if history_period_chooser.result > start_monitor:\n",
    "    raise Exception(\"Your history period must start before the monitoring period\")\n",
    "if start_monitor < dates[50]:\n",
    "    raise Warning(\"Your history period is relatively short, did you move the monitoring date range to a later date?\")\n",
    "\n"
   ]
  },
  {
   "cell_type": "markdown",
   "metadata": {},
   "source": [
    "## Loop over tiles, (or single tile), in data_list\n",
    "### Alternatively, if your magnituede_changes and breaks arrays already exist, skip this code and run load from file in the next block\n",
    "### If you get a memory error, change the x_block and y_block size to a smaller power of 2: 1080, 512, 256, 128"
   ]
  },
  {
   "cell_type": "code",
   "execution_count": 15,
   "metadata": {},
   "outputs": [
    {
     "data": {
      "application/vnd.jupyter.widget-view+json": {
       "model_id": "ccec8791c6a843519243ca9df723bee6",
       "version_major": 2,
       "version_minor": 0
      },
      "text/plain": [
       "interactive(children=(Dropdown(description='block size, bigger is generally faster, but may result in memory i…"
      ]
     },
     "metadata": {},
     "output_type": "display_data"
    }
   ],
   "source": [
    "display(block_size_chooser)"
   ]
  },
  {
   "cell_type": "code",
   "execution_count": 16,
   "metadata": {
    "scrolled": true
   },
   "outputs": [
    {
     "name": "stderr",
     "output_type": "stream",
     "text": [
      "Processing tile 1 out of 1:   0%|          | 0/1 [00:00<?, ?it/s]\n",
      "  0%|          | 0/6.9007110595703125 [00:00<?, ?it/s]\u001b[A\n",
      "Processing blocks of tile::   0%|          | 0/6.9007110595703125 [00:00<?, ?it/s]\u001b[A"
     ]
    },
    {
     "name": "stdout",
     "output_type": "stream",
     "text": [
      "device:  [<pyopencl.Device 'Tesla T4' on 'NVIDIA CUDA' at 0x4c60560>]\n",
      "Monitoring starts at:  2012-08-16 00:00:00\n",
      "Monitoring ends at:  2020-08-27 00:00:00\n",
      "Dataset history starts at:  2000-01-01 00:00:00\n",
      "frequency:  365\n",
      "harmonic term:  3\n",
      "Hfrac: Float in the interval (0,1) specifying the bandwidth relative to the sample size in the MOSUM/ME monitoring processes.:  0.25\n",
      "Trend: Whether a tend offset term shall be used or not:  False\n",
      "Level: Significance level of the monitoring (and ROC, if selected) procedure, i.e., probability of type I error:  0.050000000000000044\n",
      "backend: GPU opencl or CPU python:  opencl\n",
      "verbose: The verbosity level (0=no output, 1=output):  1\n",
      "rastersize:  755 599\n",
      "The natural block size is the block size that is most efficient for accessing the format, gdal found blocksize:  [128, 128]\n",
      "set blocksize explicitly:  256 ,  256\n",
      "start monitor:  2012-08-16 00:00:00\n",
      "end monitor:  2020-08-27 00:00:00\n",
      "start history:  2000-01-01 00:00:00\n",
      "0 0 256 256\n"
     ]
    },
    {
     "name": "stderr",
     "output_type": "stream",
     "text": [
      "Processing blocks of tile::  14%|█▍        | 1/6.9007110595703125 [00:06<00:38,  6.51s/it]\n",
      "Processing tile 1 out of 1:   0%|          | 0/1 [00:06<?, ?it/s]\n"
     ]
    },
    {
     "ename": "RuntimeError",
     "evalue": "Context failed: OUT_OF_HOST_MEMORY",
     "output_type": "error",
     "traceback": [
      "\u001b[0;31m---------------------------------------------------------------------------\u001b[0m",
      "\u001b[0;31mRuntimeError\u001b[0m                              Traceback (most recent call last)",
      "\u001b[0;32m<ipython-input-16-ecb195a551ac>\u001b[0m in \u001b[0;36m<module>\u001b[0;34m\u001b[0m\n\u001b[1;32m     23\u001b[0m \u001b[0;34m\u001b[0m\u001b[0m\n\u001b[1;32m     24\u001b[0m         tile.loop_blocks(x_block_size = x_block,\n\u001b[0;32m---> 25\u001b[0;31m                             y_block_size=y_block)\n\u001b[0m\u001b[1;32m     26\u001b[0m \u001b[0;34m\u001b[0m\u001b[0m\n\u001b[1;32m     27\u001b[0m         \u001b[0mtile\u001b[0m\u001b[0;34m.\u001b[0m\u001b[0mlog_all_output\u001b[0m\u001b[0;34m(\u001b[0m\u001b[0moutput_dir_name\u001b[0m\u001b[0;34m=\u001b[0m\u001b[0moutput_dir\u001b[0m\u001b[0;34m)\u001b[0m\u001b[0;34m\u001b[0m\u001b[0;34m\u001b[0m\u001b[0m\n",
      "\u001b[0;32m~/bfastmonitor_cpu/dven/time_series.py\u001b[0m in \u001b[0;36mloop_blocks\u001b[0;34m(self, x_block_size, y_block_size)\u001b[0m\n\u001b[1;32m    187\u001b[0m                         \u001b[0;31m#data = data*10000\u001b[0m\u001b[0;34m\u001b[0m\u001b[0;34m\u001b[0m\u001b[0;34m\u001b[0m\u001b[0m\n\u001b[1;32m    188\u001b[0m                         \u001b[0mdata\u001b[0m\u001b[0;34m=\u001b[0m\u001b[0mdata\u001b[0m\u001b[0;34m.\u001b[0m\u001b[0mastype\u001b[0m\u001b[0;34m(\u001b[0m\u001b[0;34m\"int16\"\u001b[0m\u001b[0;34m)\u001b[0m\u001b[0;34m\u001b[0m\u001b[0;34m\u001b[0m\u001b[0m\n\u001b[0;32m--> 189\u001b[0;31m                         \u001b[0mbreaks\u001b[0m\u001b[0;34m,\u001b[0m\u001b[0mmeans\u001b[0m \u001b[0;34m=\u001b[0m \u001b[0mself\u001b[0m\u001b[0;34m.\u001b[0m\u001b[0mrun_bfast\u001b[0m\u001b[0;34m(\u001b[0m\u001b[0mdata\u001b[0m\u001b[0;34m)\u001b[0m\u001b[0;34m\u001b[0m\u001b[0;34m\u001b[0m\u001b[0m\n\u001b[0m\u001b[1;32m    190\u001b[0m                         \u001b[0mbreaks_array\u001b[0m \u001b[0;34m=\u001b[0m \u001b[0mbreaks\u001b[0m\u001b[0;34m\u001b[0m\u001b[0;34m\u001b[0m\u001b[0m\n\u001b[1;32m    191\u001b[0m                         \u001b[0mmeans_array\u001b[0m \u001b[0;34m=\u001b[0m \u001b[0mmeans\u001b[0m\u001b[0;34m\u001b[0m\u001b[0;34m\u001b[0m\u001b[0m\n",
      "\u001b[0;32m~/bfastmonitor_cpu/dven/time_series.py\u001b[0m in \u001b[0;36mrun_bfast\u001b[0;34m(self, block)\u001b[0m\n\u001b[1;32m    114\u001b[0m \u001b[0;34m\u001b[0m\u001b[0m\n\u001b[1;32m    115\u001b[0m         \u001b[0;31m# fit model\u001b[0m\u001b[0;34m\u001b[0m\u001b[0;34m\u001b[0m\u001b[0;34m\u001b[0m\u001b[0m\n\u001b[0;32m--> 116\u001b[0;31m         \u001b[0mself\u001b[0m\u001b[0;34m.\u001b[0m\u001b[0mmodel\u001b[0m\u001b[0;34m.\u001b[0m\u001b[0mfit\u001b[0m\u001b[0;34m(\u001b[0m\u001b[0mdata\u001b[0m\u001b[0;34m,\u001b[0m \u001b[0mself\u001b[0m\u001b[0;34m.\u001b[0m\u001b[0mcropped_dates\u001b[0m\u001b[0;34m,\u001b[0m \u001b[0mnan_value\u001b[0m \u001b[0;34m=\u001b[0m \u001b[0;34m-\u001b[0m\u001b[0;36m32768\u001b[0m\u001b[0;34m)\u001b[0m\u001b[0;34m\u001b[0m\u001b[0;34m\u001b[0m\u001b[0m\n\u001b[0m\u001b[1;32m    117\u001b[0m \u001b[0;34m\u001b[0m\u001b[0m\n\u001b[1;32m    118\u001b[0m         \u001b[0;31m# save breaks and mean magnitudes\u001b[0m\u001b[0;34m\u001b[0m\u001b[0;34m\u001b[0m\u001b[0;34m\u001b[0m\u001b[0m\n",
      "\u001b[0;32m/usr/local/lib/python3.6/dist-packages/bfast/models.py\u001b[0m in \u001b[0;36mfit\u001b[0;34m(self, data, dates, n_chunks, nan_value)\u001b[0m\n\u001b[1;32m    163\u001b[0m                  \u001b[0mverbose\u001b[0m\u001b[0;34m=\u001b[0m\u001b[0mself\u001b[0m\u001b[0;34m.\u001b[0m\u001b[0mverbose\u001b[0m\u001b[0;34m,\u001b[0m\u001b[0;34m\u001b[0m\u001b[0;34m\u001b[0m\u001b[0m\n\u001b[1;32m    164\u001b[0m                  \u001b[0mplatform_id\u001b[0m\u001b[0;34m=\u001b[0m\u001b[0mself\u001b[0m\u001b[0;34m.\u001b[0m\u001b[0mplatform_id\u001b[0m\u001b[0;34m,\u001b[0m\u001b[0;34m\u001b[0m\u001b[0;34m\u001b[0m\u001b[0m\n\u001b[0;32m--> 165\u001b[0;31m                  \u001b[0mdevice_id\u001b[0m\u001b[0;34m=\u001b[0m\u001b[0mself\u001b[0m\u001b[0;34m.\u001b[0m\u001b[0mdevice_id\u001b[0m\u001b[0;34m\u001b[0m\u001b[0;34m\u001b[0m\u001b[0m\n\u001b[0m\u001b[1;32m    166\u001b[0m                 )\n\u001b[1;32m    167\u001b[0m \u001b[0;34m\u001b[0m\u001b[0m\n",
      "\u001b[0;32m/usr/local/lib/python3.6/dist-packages/bfast/monitor/opencl/base.py\u001b[0m in \u001b[0;36m__init__\u001b[0;34m(self, start_monitor, freq, k, hfrac, trend, level, detailed_results, old_version, verbose, platform_id, device_id)\u001b[0m\n\u001b[1;32m    103\u001b[0m \u001b[0;34m\u001b[0m\u001b[0m\n\u001b[1;32m    104\u001b[0m         \u001b[0;31m# initialize device\u001b[0m\u001b[0;34m\u001b[0m\u001b[0;34m\u001b[0m\u001b[0;34m\u001b[0m\u001b[0m\n\u001b[0;32m--> 105\u001b[0;31m         \u001b[0mself\u001b[0m\u001b[0;34m.\u001b[0m\u001b[0m_init_device\u001b[0m\u001b[0;34m(\u001b[0m\u001b[0mplatform_id\u001b[0m\u001b[0;34m,\u001b[0m \u001b[0mdevice_id\u001b[0m\u001b[0;34m)\u001b[0m\u001b[0;34m\u001b[0m\u001b[0;34m\u001b[0m\u001b[0m\n\u001b[0m\u001b[1;32m    106\u001b[0m \u001b[0;34m\u001b[0m\u001b[0m\n\u001b[1;32m    107\u001b[0m         \u001b[0;32mif\u001b[0m \u001b[0mself\u001b[0m\u001b[0;34m.\u001b[0m\u001b[0mdetailed_results\u001b[0m\u001b[0;34m:\u001b[0m\u001b[0;34m\u001b[0m\u001b[0;34m\u001b[0m\u001b[0m\n",
      "\u001b[0;32m/usr/local/lib/python3.6/dist-packages/bfast/monitor/opencl/base.py\u001b[0m in \u001b[0;36m_init_device\u001b[0;34m(self, platform_id, device_id)\u001b[0m\n\u001b[1;32m    136\u001b[0m \u001b[0;34m\u001b[0m\u001b[0m\n\u001b[1;32m    137\u001b[0m         \u001b[0mself\u001b[0m\u001b[0;34m.\u001b[0m\u001b[0mdevice\u001b[0m \u001b[0;34m=\u001b[0m \u001b[0mdevices\u001b[0m\u001b[0;34m[\u001b[0m\u001b[0mdevice_id\u001b[0m\u001b[0;34m]\u001b[0m\u001b[0;34m\u001b[0m\u001b[0;34m\u001b[0m\u001b[0m\n\u001b[0;32m--> 138\u001b[0;31m         \u001b[0mself\u001b[0m\u001b[0;34m.\u001b[0m\u001b[0mctx\u001b[0m \u001b[0;34m=\u001b[0m \u001b[0mpyopencl\u001b[0m\u001b[0;34m.\u001b[0m\u001b[0mContext\u001b[0m\u001b[0;34m(\u001b[0m\u001b[0mdevices\u001b[0m\u001b[0;34m=\u001b[0m\u001b[0;34m[\u001b[0m\u001b[0mself\u001b[0m\u001b[0;34m.\u001b[0m\u001b[0mdevice\u001b[0m\u001b[0;34m]\u001b[0m\u001b[0;34m)\u001b[0m\u001b[0;34m\u001b[0m\u001b[0;34m\u001b[0m\u001b[0m\n\u001b[0m\u001b[1;32m    139\u001b[0m         \u001b[0mself\u001b[0m\u001b[0;34m.\u001b[0m\u001b[0mqueue\u001b[0m \u001b[0;34m=\u001b[0m \u001b[0mpyopencl\u001b[0m\u001b[0;34m.\u001b[0m\u001b[0mCommandQueue\u001b[0m\u001b[0;34m(\u001b[0m\u001b[0mself\u001b[0m\u001b[0;34m.\u001b[0m\u001b[0mctx\u001b[0m\u001b[0;34m)\u001b[0m\u001b[0;34m\u001b[0m\u001b[0;34m\u001b[0m\u001b[0m\n\u001b[1;32m    140\u001b[0m \u001b[0;34m\u001b[0m\u001b[0m\n",
      "\u001b[0;31mRuntimeError\u001b[0m: Context failed: OUT_OF_HOST_MEMORY"
     ]
    }
   ],
   "source": [
    "x_block = y_block = block_size_chooser.result\n",
    "\n",
    "# loading bar\n",
    "with tqdm(total=len(data_list)) as pbar1:\n",
    "    \n",
    "    # loop over tile(s) in the data_list\n",
    "    for counter, tile in enumerate(data_list):\n",
    "        pbar1.set_description(\"Processing tile %s out of %s\" % (counter+1, len(data_list)) )\n",
    "\n",
    "        tile.set_bfast_parameters(start_monitor = start_monitor, \n",
    "                                     end_monitor = end_monitor,\n",
    "                                     start_hist = start_hist,\n",
    "                                     freq = freq,\n",
    "                                     k = k,\n",
    "                                     hfrac = hfrac,\n",
    "                                     trend = trend,\n",
    "                                     level = level,\n",
    "                                     backend=backend,\n",
    "                                     verbose=verbose,\n",
    "                                     device_id=device_id)\n",
    "        \n",
    "        tile.get_bfast_parameters()\n",
    "        \n",
    "        tile.loop_blocks(x_block_size = x_block,\n",
    "                            y_block_size=y_block)\n",
    "        \n",
    "        tile.log_all_output(output_dir_name=output_dir)\n",
    "        \n",
    "        pbar1.update(counter)\n",
    "        \n",
    "pbar1.close()\n",
    "\n",
    "# Store the cropped dates for optional loading later\n",
    "with open(output_dir + \"/cropped_dates.csv\",\"w\") as f:\n",
    "    for date in data_list[0].cropped_dates:\n",
    "        f.write(date.strftime(\"%m/%d/%Y\"))\n",
    "        f.write(\"\\n\")\n"
   ]
  },
  {
   "cell_type": "markdown",
   "metadata": {},
   "source": [
    "## (Optional) Load files\n",
    "### The cell above automatically stores the output intermediately. If you want to load previously saved files you may check the box and run the next two cells. "
   ]
  },
  {
   "cell_type": "code",
   "execution_count": null,
   "metadata": {
    "scrolled": true
   },
   "outputs": [],
   "source": [
    "display(load_chooser)"
   ]
  },
  {
   "cell_type": "code",
   "execution_count": null,
   "metadata": {},
   "outputs": [],
   "source": [
    "if load_chooser.result == True:\n",
    "    \n",
    "    for tile in data_list:\n",
    "\n",
    "        with open(output_dir + \"/cropped_dates.csv\",\"r\") as f:\n",
    "            dates_list = f.read().split('\\n')\n",
    "            tile.cropped_dates = [datetime.strptime(d, '%m/%d/%Y') for d in dates_list if len(d) > 0]\n",
    "        \n",
    "        tile.start_hist = tile.cropped_dates[0]\n",
    "        tile.end_monitor = tile.cropped_dates[-1]\n",
    "        tile.load_breaks_means_arrays_from_file(output_dir_name = output_dir)\n",
    "        \n",
    "else:\n",
    "    print(\"no tiles loaded, make sure to run the block above and uncheck the marker, if you want to load tiles\")\n",
    "    \n"
   ]
  },
  {
   "cell_type": "markdown",
   "metadata": {},
   "source": [
    "### Check tiles for output quality"
   ]
  },
  {
   "cell_type": "code",
   "execution_count": null,
   "metadata": {
    "scrolled": true
   },
   "outputs": [],
   "source": [
    "for tile in data_list:\n",
    "    print(tile.dir)\n",
    "    \n",
    "    # do some plots\n",
    "    breaks = tile.breaks_array\n",
    "    means = tile.means_array\n",
    "    \n",
    "    tile.check_arrays(min_perc_lacking_data = 50)\n"
   ]
  },
  {
   "cell_type": "markdown",
   "metadata": {},
   "source": [
    "### Merge tiles together and save as all_means.npy and all_breaks.npy"
   ]
  },
  {
   "cell_type": "markdown",
   "metadata": {},
   "source": [
    "#### Select negative magnitudes"
   ]
  },
  {
   "cell_type": "code",
   "execution_count": null,
   "metadata": {
    "scrolled": true
   },
   "outputs": [],
   "source": [
    "if len(data_list)>1:\n",
    "    means, breaks = merge_tiles(data_list,output_dir_name = output_dir)\n",
    "else:\n",
    "    means = data_list[0].means_array\n",
    "    breaks = data_list[0].breaks_array\n",
    "\n",
    "save_plot(means,output_dir, save_name = \"all_magnitudes\")\n",
    "save_plot(breaks,output_dir, save_name = \"all_breaks\")\n",
    "\n",
    "export_GTiff(data_list, output_dir, array = breaks, output_name = \"breaks_\" + timeseries_directory[-2] + \".tif\")\n",
    "export_GTiff(data_list, output_dir, array = means, output_name = \"magnitudes_\" + timeseries_directory[-2] + \".tif\")"
   ]
  },
  {
   "cell_type": "code",
   "execution_count": null,
   "metadata": {},
   "outputs": [],
   "source": [
    "binary_breaks = (breaks != -1)\n",
    "\n",
    "# for i in range(len(dates_array)):\n",
    "#     date = dates[i]\n",
    "#     juliandate = julify(date)\n",
    "#     breaks[breaks == i] = juliandate\n",
    "\n",
    "# we want to change the breaks values to julian\n",
    "# also, we want to have binary breaks, so 0 for no break, and 1 for break"
   ]
  },
  {
   "cell_type": "code",
   "execution_count": null,
   "metadata": {},
   "outputs": [],
   "source": [
    "# select only negative magnitudes\n",
    "\n",
    "# def select_negatives(means,breaks):\n",
    "#     no_breaks_indices = (breaks == -1)\n",
    "#     means[no_breaks_indices] = np.nan\n",
    "#     means[means > 0] = np.nan # only want negative mean changes\n",
    "\n",
    "#     breaks_neg = breaks.astype(np.float)\n",
    "#     breaks_neg[breaks == -2] = np.nan\n",
    "#     breaks_neg[breaks == -1] = np.nan\n",
    "#     binary_breaks = (breaks_neg != np.nan)\n",
    "    \n",
    "#     breaks_neg[means >= 0] = np.nan\n",
    "#     negative_binary_breaks = (breaks_neg != np.nan)\n",
    "\n",
    "    \n",
    "#     return(means, breaks_neg, binary_breaks, negative_binary_breaks)\n",
    "\n",
    "means, breaks_neg, binary_breaks, negative_binary_breaks = select_negatives(means,breaks)\n",
    "\n",
    "save_plot(means, output_dir, save_name = \"all_negative_magnitudes\")\n",
    "save_plot(breaks_neg, output_dir, save_name = \"all_negative_breaks\") \n",
    "\n",
    "# save negative means and breaks\n",
    "export_GTiff(data_list, output_dir, array = means ,output_name = \"negative_magnitudes_\" + timeseries_directory[-2] + \".tif\")\n",
    "export_GTiff(data_list, output_dir, array = breaks_neg ,output_name = \"negative_breaks_\" + timeseries_directory[-2] + \".tif\")"
   ]
  },
  {
   "cell_type": "code",
   "execution_count": null,
   "metadata": {
    "scrolled": true
   },
   "outputs": [],
   "source": [
    "dates_monitor = []\n",
    "dates = data_list[0].cropped_dates\n",
    "\n",
    "# collect dates for monitor period\n",
    "for i in range(len(dates)):\n",
    "    if start_monitor <= dates[i]:\n",
    "        dates_monitor.append(dates[i])\n",
    "dates_array = np.array(dates_monitor) # dates_array is the dates that are in the monitoring period\n"
   ]
  },
  {
   "cell_type": "code",
   "execution_count": null,
   "metadata": {},
   "outputs": [],
   "source": [
    "\n",
    "# def get_julian_dates(dates_array, breaks_array):\n",
    "#     breaks_array = breaks_array.astype(np.int)\n",
    "#     for i in range(len(dates_array)):\n",
    "#         date = dates_array[i]\n",
    "#         tt = date.timetuple()\n",
    "#         julian_date = tt.tm_year * 1000 + tt.tm_yday\n",
    "#         breaks_array[breaks_array == i] = julian_date\n",
    "#     return(breaks_array)\n",
    "\n",
    "julian_breaks = get_julian_dates(dates_array,breaks)\n",
    "negative_julian_breaks = get_julian_dates(dates_array,breaks_neg)\n",
    "\n",
    "# save negative means and breaks\n",
    "export_GTiff(data_list, output_dir, array = binary_breaks ,output_name = \"breaks_binary_\" + timeseries_directory[-2] + \".tif\")\n",
    "export_GTiff(data_list, output_dir, array = negative_binary_breaks ,output_name = \"breaks_binary_negative_\" + timeseries_directory[-2] + \".tif\")\n",
    "export_GTiff(data_list, output_dir, array = julian_breaks ,output_name = \"breaks_julian_\" + timeseries_directory[-2] + \".tif\")\n",
    "export_GTiff(data_list, output_dir, array = negative_julian_breaks ,output_name = \"breaks_julian_negative_\" + timeseries_directory[-2] + \".tif\")"
   ]
  },
  {
   "cell_type": "markdown",
   "metadata": {},
   "source": [
    "# Classify output for plotting"
   ]
  },
  {
   "cell_type": "code",
   "execution_count": null,
   "metadata": {},
   "outputs": [],
   "source": [
    "breaks_neg_years, idx_starts, ticklist = classify_output(start_monitor,end_monitor,breaks_neg,dates_array)\n",
    "#save_plot(breaks_neg_years, output_dir, save_name = \"all_negative_breaks_years\")"
   ]
  },
  {
   "cell_type": "markdown",
   "metadata": {},
   "source": [
    "# Plot output"
   ]
  },
  {
   "cell_type": "code",
   "execution_count": null,
   "metadata": {
    "scrolled": false
   },
   "outputs": [],
   "source": [
    "plot_output_matplotlib(idx_starts,breaks_neg_years,ticklist)\n",
    "#asave_plot(breaks_neg_years, output_dir, save_name = \"breaks_per_year\")"
   ]
  },
  {
   "cell_type": "code",
   "execution_count": null,
   "metadata": {},
   "outputs": [],
   "source": [
    "set_corners(output_dir,data_list)"
   ]
  },
  {
   "cell_type": "markdown",
   "metadata": {},
   "source": [
    "## Plot all of your segments and save as a html map"
   ]
  },
  {
   "cell_type": "code",
   "execution_count": null,
   "metadata": {},
   "outputs": [],
   "source": [
    "display(plot_display_data_chooser)"
   ]
  },
  {
   "cell_type": "code",
   "execution_count": null,
   "metadata": {
    "scrolled": false
   },
   "outputs": [],
   "source": [
    "m = merge_plots(data_list = data_list, base_output_dir=base_output_dir,plot_name=plot_display_data_chooser.result + \".png\")\n",
    "m.save(output_dir + \"/\" +  output_directory_chooser.result + \"_\" + plot_display_data_chooser.result + \".html\")\n",
    "m"
   ]
  },
  {
   "cell_type": "code",
   "execution_count": null,
   "metadata": {},
   "outputs": [],
   "source": []
  }
 ],
 "metadata": {
  "kernelspec": {
   "display_name": "Python 3",
   "language": "python",
   "name": "python3"
  },
  "language_info": {
   "codemirror_mode": {
    "name": "ipython",
    "version": 3
   },
   "file_extension": ".py",
   "mimetype": "text/x-python",
   "name": "python",
   "nbconvert_exporter": "python",
   "pygments_lexer": "ipython3",
   "version": "3.6.9"
  }
 },
 "nbformat": 4,
 "nbformat_minor": 4
}
