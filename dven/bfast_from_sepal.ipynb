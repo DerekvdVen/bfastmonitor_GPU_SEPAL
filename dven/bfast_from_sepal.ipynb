{
 "cells": [
  {
   "cell_type": "code",
   "execution_count": 1,
   "metadata": {},
   "outputs": [],
   "source": [
    "import matplotlib\n",
    "matplotlib.use('Agg')\n",
    "\n",
    "import os\n",
    "import wget\n",
    "import numpy as np\n",
    "from datetime import datetime\n",
    "\n",
    "from bfast import BFASTMonitor\n",
    "from bfast.utils import crop_data_dates\n",
    "\n",
    "import copy\n",
    "\n",
    "import matplotlib.pyplot as plt\n",
    "\n",
    "#import matplotlib\n",
    "\n",
    "\n",
    "#from sar so extra\n",
    "import csv\n",
    "from shutil import copyfile\n",
    "import pandas as pd\n",
    "from osgeo import gdal\n",
    "\n",
    "import time\n",
    "import ipywidgets as widgets"
   ]
  },
  {
   "cell_type": "code",
   "execution_count": 2,
   "metadata": {},
   "outputs": [],
   "source": [
    "%matplotlib inline"
   ]
  },
  {
   "cell_type": "code",
   "execution_count": null,
   "metadata": {},
   "outputs": [],
   "source": []
  },
  {
   "cell_type": "code",
   "execution_count": 5,
   "metadata": {},
   "outputs": [
    {
     "data": {
      "application/vnd.jupyter.widget-view+json": {
       "model_id": "26e2a9dedd9a4a03b677cf4c1d7cad2d",
       "version_major": 2,
       "version_minor": 0
      },
      "text/plain": [
       "interactive(children=(Combobox(value='', description='time_series', options=('gfc', 'Time_series_2020-07-10_13…"
      ]
     },
     "metadata": {},
     "output_type": "display_data"
    }
   ],
   "source": [
    "## Set the path to your home directory here (e.g. /home/[username])\n",
    "from os.path import expanduser\n",
    "path = expanduser(\"~\")\n",
    "\n",
    "#big\n",
    "# ts_dir = \"downloads/Time_series_2020-07-06_16-31-46/\"\n",
    "# country_dir = \"temp\"\n",
    "# download_dir = \"1/\"\n",
    "\n",
    "#ts_dir = \"downloads/Time_series_2020-07-07_11-51-35/\"\n",
    "#country_dir = \"portugal_small\"\n",
    "#download_dir = \"1/\"\n",
    "\n",
    "os.listdir(path + \"/downloads/\")\n",
    "def f(time_series):\n",
    "    return(path + \"/downloads/\" + time_series + \"/1/\")\n",
    "\n",
    "#widgets.interact(f, time_series=widgets.Combobox(options=os.listdir(path + \"/downloads/\")));\n",
    "w = widgets.interactive(f, time_series=widgets.Combobox(options=os.listdir(path + \"/downloads/\")))\n",
    "w.children\n",
    "type(w)\n",
    "\n",
    "display(w)"
   ]
  },
  {
   "cell_type": "code",
   "execution_count": null,
   "metadata": {},
   "outputs": [],
   "source": []
  },
  {
   "cell_type": "code",
   "execution_count": null,
   "metadata": {},
   "outputs": [],
   "source": []
  },
  {
   "cell_type": "code",
   "execution_count": 8,
   "metadata": {},
   "outputs": [
    {
     "name": "stdout",
     "output_type": "stream",
     "text": [
      "/home/dven/downloads/Time_series_2020-07-07_11-51-35/1/\n"
     ]
    }
   ],
   "source": [
    "ts_dir = w.result\n",
    "print(ts_dir)"
   ]
  },
  {
   "cell_type": "code",
   "execution_count": 9,
   "metadata": {},
   "outputs": [],
   "source": [
    "# download and parse input data\n",
    "\n",
    "ifile_meta = \"./data/\"+ country_dir + \"/dates.txt\"\n",
    "ifile_data = \"./data/\"+ country_dir + \"/data.npy\"\n",
    "\n",
    "\n",
    "if not os.path.isdir(\"data/\" + country_dir):\n",
    "    os.makedirs(\"data/\" + country_dir)\n",
    "\n",
    "if not os.path.exists(ifile_meta):\n",
    "    copyfile(ts_dir + \"dates.csv\", ifile_meta)\n"
   ]
  },
  {
   "cell_type": "code",
   "execution_count": 10,
   "metadata": {},
   "outputs": [],
   "source": [
    "if not os.path.exists(ifile_data):\n",
    "    start_time = time.time()\n",
    "    image_file = os.path.join(ts_dir, 'stack.vrt') ## never start os path with a slash\n",
    "    print(image_file)\n",
    "\n",
    "    img = gdal.Open(image_file)\n",
    "    print(img)\n",
    "\n",
    "    \n",
    "    cols = img.RasterXSize\n",
    "    rows = img.RasterYSize\n",
    "\n",
    "    print(f\"Number of  bands: {img.RasterCount}\")\n",
    "    print(f\"Number of pixels: {cols}\")\n",
    "    print(f\"Number of  lines: {rows}\")\n",
    "\n",
    "    \n",
    "    # Rewriting NANS to -32668 took 398.04383850097656 seconds for /home/dven/downloads/Time_series_2020-07-06_16-31-46/1/stack.vrt\n",
    "    raster_stack = img.ReadAsArray()\n",
    "    where_are_nans = np.isnan(raster_stack)\n",
    "    raster_stack[where_are_nans] = -32768\n",
    "\n",
    "    end_time = time.time()\n",
    "\n",
    "\n",
    "    print(\"Transferring data and rewriting NANS to -32768 took {} seconds.\".format(end_time - start_time))\n",
    "    \n",
    "    np.save(ifile_data,raster_stack)"
   ]
  },
  {
   "cell_type": "code",
   "execution_count": 46,
   "metadata": {},
   "outputs": [],
   "source": [
    "# parameters\n",
    "k = 3\n",
    "freq = 365\n",
    "trend = False\n",
    "hfrac = 0.25\n",
    "level = 0.05\n",
    "start_hist = datetime(2002, 1, 1)\n",
    "start_monitor = datetime(2005, 1, 1)\n",
    "end_monitor = datetime(2018, 1, 1)\n",
    "position = (100,100)\n"
   ]
  },
  {
   "cell_type": "code",
   "execution_count": 27,
   "metadata": {},
   "outputs": [],
   "source": [
    "#Fabians code\n",
    "data_orig = np.load(ifile_data)\n",
    "with open(ifile_meta) as f:\n",
    "    dates_list = f.read().split('\\n')\n",
    "    dates = [datetime.strptime(d, '%Y-%m-%d') for d in dates_list if len(d) > 0]\n"
   ]
  },
  {
   "cell_type": "code",
   "execution_count": 28,
   "metadata": {
    "scrolled": true
   },
   "outputs": [
    {
     "data": {
      "application/vnd.jupyter.widget-view+json": {
       "model_id": "c5f683385f9a46eebea06a0eb7f7b7ba",
       "version_major": 2,
       "version_minor": 0
      },
      "text/plain": [
       "interactive(children=(SelectionRangeSlider(description='Monitoring Period', index=(0, 0), layout=Layout(height…"
      ]
     },
     "metadata": {},
     "output_type": "display_data"
    }
   ],
   "source": [
    "def f(widget_start_monitor,widget_end_monitor):\n",
    "    return widget_start_monitor, widget_end_monitor\n",
    "\n",
    "#widgets.interact(f, widget_start_monitor=widgets.Combobox(options=dates_list, value=dates_list[1]));\n",
    "\n",
    "\n",
    "\n",
    "layout = widgets.Layout(width='50', height='20px') #set width and height\n",
    "selection_range_slider = widgets.SelectionRangeSlider(options = dates_list, \n",
    "                             description=\"Monitoring Period\",\n",
    "                             display=\"flex\",\n",
    "                             align_items=\"stretch\",\n",
    "                             layout = layout)\n",
    "\n",
    "def print_date_range(date_range):\n",
    "    return(date_range)\n",
    "\n",
    "w = widgets.interactive(print_date_range,\n",
    "    date_range=selection_range_slider\n",
    ");\n",
    "\n",
    "display(w)\n",
    "x = w.result"
   ]
  },
  {
   "cell_type": "code",
   "execution_count": 29,
   "metadata": {},
   "outputs": [
    {
     "data": {
      "text/plain": [
       "()"
      ]
     },
     "execution_count": 29,
     "metadata": {},
     "output_type": "execute_result"
    }
   ],
   "source": [
    "x"
   ]
  },
  {
   "cell_type": "code",
   "execution_count": 30,
   "metadata": {},
   "outputs": [
    {
     "name": "stdout",
     "output_type": "stream",
     "text": [
      "First date: 2002-01-29 00:00:00\n",
      "Last date: 2018-01-01 00:00:00\n",
      "Shape of data array: (391, 8, 14)\n"
     ]
    }
   ],
   "source": [
    "\n",
    "    \n",
    "data, dates = crop_data_dates(data_orig, dates, start_hist, end_monitor)\n",
    "print(\"First date: {}\".format(dates[0]))\n",
    "print(\"Last date: {}\".format(dates[-1]))\n",
    "print(\"Shape of data array: {}\".format(data.shape))\n",
    "\n",
    "# memory errors, work in chunks? \n",
    "\n"
   ]
  },
  {
   "cell_type": "code",
   "execution_count": 31,
   "metadata": {
    "scrolled": true
   },
   "outputs": [
    {
     "name": "stdout",
     "output_type": "stream",
     "text": [
      "Processing row 0\n",
      "Processing row 1\n",
      "Processing row 2\n",
      "Processing row 3\n",
      "Processing row 4\n",
      "Processing row 5\n",
      "Processing row 6\n",
      "Processing row 7\n",
      "Fitting model took 0.811248779296875 seconds.\n"
     ]
    }
   ],
   "source": [
    "# fit BFAST using the CPU implementation (single pixel)\n",
    "\n",
    "start_time = time.time()\n",
    "\n",
    "\n",
    "model = BFASTMonitor(\n",
    "            start_monitor,\n",
    "            freq=freq,\n",
    "            k=k,\n",
    "            hfrac=hfrac,\n",
    "            trend=trend,\n",
    "            level=level,\n",
    "            backend='python',\n",
    "            verbose=1\n",
    "            )\n",
    "\n",
    "# only apply on a small subset\n",
    "data = data[:,:20,:20]\n",
    "model.fit(data, dates, nan_value=-32768)\n",
    "\n",
    "end_time = time.time()\n",
    "print(\"Fitting model took {} seconds.\".format(end_time - start_time))\n"
   ]
  },
  {
   "cell_type": "code",
   "execution_count": 33,
   "metadata": {
    "scrolled": true
   },
   "outputs": [],
   "source": [
    "# select only negative magnitudes\n",
    "breaks = model.breaks # index of date that has a break in dates\n",
    "means = model.means # magnitudes of breaks\n",
    "\n",
    "no_breaks_indices = (breaks == -1)\n",
    "means[no_breaks_indices] = 0\n",
    "means[means > 0] = 0 # only want negative mean changes\n",
    "\n",
    "breaks_plot = breaks.astype(np.float)\n",
    "breaks_plot[breaks == -2] = np.nan\n",
    "breaks_plot[breaks == -1] = np.nan\n",
    "breaks_plot[means >= 0] = np.nan\n"
   ]
  },
  {
   "cell_type": "code",
   "execution_count": 34,
   "metadata": {},
   "outputs": [],
   "source": [
    "dates_monitor = []\n",
    "\n",
    "# collect dates for monitor period\n",
    "for i in range(len(dates)):\n",
    "    if start_monitor <= dates[i]:\n",
    "        dates_monitor.append(dates[i])\n",
    "dates_array = np.array(dates_monitor) # dates_array is the dates that are in the monitoring period\n"
   ]
  },
  {
   "cell_type": "code",
   "execution_count": 47,
   "metadata": {},
   "outputs": [
    {
     "name": "stdout",
     "output_type": "stream",
     "text": [
      "{2005: 0, 2006: 21, 2007: 36, 2008: 56, 2009: 75, 2010: 97, 2011: 112, 2012: 127, 2013: 139, 2014: 168, 2015: 200, 2016: 241, 2017: 282}\n",
      "['2005', '2006', '2007', '2008', '2009', '2010', '2011', '2012', '2013', '2014', '2015', '2016', '2017']\n",
      "[[ 6.  3.  0.  0.  0.  8. nan nan  8.  0.  0.  0.  0.  0.]\n",
      " [10.  6.  0.  0.  0. nan nan nan 10.  0.  0.  0.  0.  0.]\n",
      " [ 1.  1.  0.  0.  0.  4. nan nan  0.  0.  0.  0.  2. 10.]\n",
      " [ 1.  1.  0.  0.  0.  7.  7.  7.  7.  0.  5.  5.  2.  5.]\n",
      " [ 1.  0.  0.  0.  0.  8.  7.  7.  7.  7.  5.  5.  5.  5.]\n",
      " [ 0.  0.  0.  0.  0.  0.  8.  8.  3. nan  8.  8.  2.  0.]\n",
      " [ 0.  0.  0.  0.  1.  0.  0.  0.  4.  8.  1.  1.  0.  0.]\n",
      " [nan  1.  7.  7.  3.  3.  0.  0.  0.  5.  2.  2.  0.  0.]]\n"
     ]
    }
   ],
   "source": [
    "idx_starts = {}\n",
    "\n",
    "# this gives the index of all the data points in the year and after\n",
    "for year in range(start_monitor.year,end_monitor.year):\n",
    "    idx_starts[year] = np.argmax((dates_array >= datetime(year, 1, 1)) > False) \n",
    "    \n",
    "print(idx_starts)\n",
    "breaks_plot_years = copy.deepcopy(breaks_plot)\n",
    "\n",
    "#classifying for plotting\n",
    "ticklist=[]\n",
    "for idx, year in enumerate(idx_starts):\n",
    "    ticklist.append(str(year))\n",
    "\n",
    "    if idx == 0:\n",
    "        breaks_plot_years[breaks_plot <= idx_starts[year+1]] = 0\n",
    "        continue\n",
    "    \n",
    "    if idx == len(idx_starts)-1:\n",
    "        breaks_plot_years[np.where(idx_starts[year] < breaks_plot)] = len(idx_starts)-1\n",
    "        continue\n",
    "        \n",
    "    breaks_plot_years[np.where(np.logical_and(idx_starts[year] < breaks_plot, breaks_plot <= idx_starts[year+1]))] = idx\n",
    "print(ticklist)\n",
    "print(breaks_plot_years)"
   ]
  },
  {
   "cell_type": "code",
   "execution_count": 48,
   "metadata": {},
   "outputs": [
    {
     "data": {
      "image/png": "[encoded data removed]",
      "text/plain": [
       "<Figure size 720x720 with 2 Axes>"
      ]
     },
     "metadata": {
      "needs_background": "light"
     },
     "output_type": "display_data"
    }
   ],
   "source": [
    "bins = len(idx_starts)\n",
    "\n",
    "cmap = plt.get_cmap(\"rainbow\")\n",
    "cmaplist = [cmap(i) for i in range(cmap.N)]\n",
    "cmap = cmap.from_list('Custom cmap', cmaplist, cmap.N)\n",
    "\n",
    "bounds = np.linspace(0, bins-1, bins) #third number is the amount of bins in the colorbar 0=0, 6 = ncolors, 7= nyears\n",
    "norm = matplotlib.colors.BoundaryNorm(bounds, cmap.N)\n",
    "\n",
    "fig, axes = plt.subplots(nrows=1, ncols=1, figsize=(10, 10))\n",
    "im = axes.imshow(breaks_plot_years, cmap=cmap, vmin=0, vmax=bins, norm=norm)\n",
    "fig.subplots_adjust(right=0.8)\n",
    "cbar_ax = fig.add_axes([0.85, 0.15, 0.05, 0.7])\n",
    "fig.colorbar(im, cax=cbar_ax, ticks=range(len(idx_starts)))\n",
    "labels = cbar_ax.set_yticklabels(ticklist)\n",
    "\n",
    "plt.savefig(\"./picture.png\")\n",
    "plt.show()\n"
   ]
  },
  {
   "cell_type": "code",
   "execution_count": null,
   "metadata": {},
   "outputs": [],
   "source": []
  },
  {
   "cell_type": "code",
   "execution_count": 77,
   "metadata": {},
   "outputs": [],
   "source": [
    "# idx_start_2010 = np.argmax((dates_array >= datetime(2010, 1, 1)) > False) \n",
    "# idx_start_2011 = np.argmax((dates_array >= datetime(2011, 1, 1)) > False) # count how many dates do not come after 2011\n",
    "# idx_start_2012 = np.argmax((dates_array >= datetime(2012, 1, 1)) > False) # this gives the index of the date starting in \n",
    "# idx_start_2013 = np.argmax((dates_array >= datetime(2013, 1, 1)) > False) # the respective year\n",
    "# idx_start_2014 = np.argmax((dates_array >= datetime(2014, 1, 1)) > False)\n",
    "# idx_start_2015 = np.argmax((dates_array >= datetime(2015, 1, 1)) > False)\n",
    "# idx_start_2016 = np.argmax((dates_array >= datetime(2016, 1, 1)) > False)\n",
    "\n",
    "# breaks_plot_years = copy.deepcopy(breaks_plot)\n",
    "# breaks_plot_years[breaks_plot <= idx_start_2011] = 0\n",
    "# breaks_plot_years[np.where(np.logical_and(idx_start_2011 < breaks_plot, breaks_plot <= idx_start_2012))] = 1\n",
    "# breaks_plot_years[np.where(np.logical_and(idx_start_2012 < breaks_plot, breaks_plot <= idx_start_2013))] = 2\n",
    "# breaks_plot_years[np.where(np.logical_and(idx_start_2013 < breaks_plot, breaks_plot <= idx_start_2014))] = 3\n",
    "# breaks_plot_years[np.where(np.logical_and(idx_start_2014 < breaks_plot, breaks_plot <= idx_start_2015))] = 4\n",
    "# breaks_plot_years[np.where(np.logical_and(idx_start_2015 < breaks_plot, breaks_plot <= idx_start_2016))] = 5\n",
    "# breaks_plot_years[np.where(idx_start_2016 < breaks_plot)] = 6\n",
    "# print(breaks_plot_years)\n",
    "\n",
    "# cmap = plt.get_cmap(\"rainbow\")\n",
    "# cmaplist = [cmap(i) for i in range(cmap.N)]\n",
    "# cmap = cmap.from_list('Custom cmap', cmaplist, cmap.N)\n",
    "\n",
    "# bounds = np.linspace(0, 6, 7) #third number is the amount of bins in the colorbar 0=0, 6 = ncolors, 7= nyears\n",
    "# norm = matplotlib.colors.BoundaryNorm(bounds, cmap.N)\n",
    "\n",
    "# fig, axes = plt.subplots(nrows=1, ncols=1, figsize=(10, 10))\n",
    "# im = axes.imshow(breaks_plot_years, cmap=cmap, vmin=0, vmax=6, norm=norm)\n",
    "# fig.subplots_adjust(right=0.8)\n",
    "# cbar_ax = fig.add_axes([0.85, 0.15, 0.05, 0.7])\n",
    "# fig.colorbar(im, cax=cbar_ax, ticks=[0, 1, 2, 3, 4, 5, 6])\n",
    "# labels = cbar_ax.set_yticklabels(['2010', '2011', '2012', '2013', '2014', '2015', '2016'])\n",
    "\n",
    "# plt.savefig(\"./picture.png\")\n",
    "# plt.show()\n"
   ]
  },
  {
   "cell_type": "code",
   "execution_count": null,
   "metadata": {},
   "outputs": [],
   "source": []
  }
 ],
 "metadata": {
  "kernelspec": {
   "display_name": "bfastmonitor_cpu",
   "language": "python",
   "name": "bfastmonitor_cpu"
  },
  "language_info": {
   "codemirror_mode": {
    "name": "ipython",
    "version": 3
   },
   "file_extension": ".py",
   "mimetype": "text/x-python",
   "name": "python",
   "nbconvert_exporter": "python",
   "pygments_lexer": "ipython3",
   "version": "3.6.9"
  }
 },
 "nbformat": 4,
 "nbformat_minor": 4
}
