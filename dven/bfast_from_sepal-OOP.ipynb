{
 "cells": [
  {
   "cell_type": "markdown",
   "metadata": {},
   "source": [
    "# Bfastmonitor CPU using Python\n",
    "## This is bfastmonitor Python"
   ]
  },
  {
   "cell_type": "code",
   "execution_count": 1,
   "metadata": {},
   "outputs": [],
   "source": [
    "import os\n",
    "import wget\n",
    "import numpy as np\n",
    "from datetime import datetime\n",
    "\n",
    "from bfast import BFASTMonitor\n",
    "from bfast.utils import crop_data_dates\n",
    "\n",
    "import copy\n",
    "\n",
    "import matplotlib\n",
    "import matplotlib.pyplot as plt\n",
    "\n",
    "#from sar so extra\n",
    "import csv\n",
    "from shutil import copyfile\n",
    "import pandas as pd\n",
    "from osgeo import gdal\n",
    "from osgeo import gdal_array\n",
    "from osgeo import osr\n",
    "\n",
    "import time\n",
    "import ipywidgets as widgets\n",
    "\n",
    "from ipyfilechooser import FileChooser\n",
    "import folium\n",
    "\n",
    "#specific imports\n",
    "from functions import set_output_dir, get_size, get_data_dict"
   ]
  },
  {
   "cell_type": "code",
   "execution_count": 2,
   "metadata": {},
   "outputs": [],
   "source": [
    "%matplotlib inline"
   ]
  },
  {
   "cell_type": "markdown",
   "metadata": {},
   "source": [
    "## Select a time series folder using ipyfilechooser. The standard download location is in downloads/time_series_name/[0,1,3]\n",
    "\n",
    "### Optional: select a name for your output folder. "
   ]
  },
  {
   "cell_type": "code",
   "execution_count": 3,
   "metadata": {},
   "outputs": [
    {
     "data": {
      "application/vnd.jupyter.widget-view+json": {
       "model_id": "632f3159003548db9e0ff35c67512ce8",
       "version_major": 2,
       "version_minor": 0
      },
      "text/plain": [
       "FileChooser(path='/home/dven', filename='', show_hidden='False')"
      ]
     },
     "metadata": {},
     "output_type": "display_data"
    },
    {
     "data": {
      "application/vnd.jupyter.widget-view+json": {
       "model_id": "9aed585436e848f3b3a0e324413d0664",
       "version_major": 2,
       "version_minor": 0
      },
      "text/plain": [
       "interactive(children=(Text(value='', description='Output storage name:', placeholder='output', style=Descripti…"
      ]
     },
     "metadata": {},
     "output_type": "display_data"
    }
   ],
   "source": [
    "from os.path import expanduser\n",
    "path = expanduser(\"~\")\n",
    "\n",
    "def g(directory):\n",
    "    return(directory)\n",
    "                          \n",
    "output_directory_chooser = widgets.interactive(g, \n",
    "                        directory=widgets.Text(description=\"Output storage name:\", \n",
    "                                               style = {'description_width': 'initial'},\n",
    "                                               placeholder = \"output\"))\n",
    "file_chooser = FileChooser(path)\n",
    "\n",
    "display(file_chooser)\n",
    "display(output_directory_chooser)\n",
    "\n"
   ]
  },
  {
   "cell_type": "code",
   "execution_count": 5,
   "metadata": {},
   "outputs": [
    {
     "name": "stdout",
     "output_type": "stream",
     "text": [
      "/home/dven/downloads/Time_series_2020-07-07_11-51-35_Portugal/1/\n",
      "Defaulting to output directory name \"output\" \n"
     ]
    }
   ],
   "source": [
    "timeseries_directory = file_chooser.selected\n",
    "print(timeseries_directory)\n",
    "set_output_dir(output_directory_chooser)\n",
    "\n",
    "\n",
    "#timeseries_directory = \"/home/dven/downloads/Time_series_2020-07-10_13-33-30/\" #big (rwanda presumably)\n",
    "#timeseries_directory = \"/home/dven/downloads/Time_series_2020-07-07_11-51-35_Portugal/1/\" #small"
   ]
  },
  {
   "cell_type": "code",
   "execution_count": 6,
   "metadata": {},
   "outputs": [
    {
     "name": "stdout",
     "output_type": "stream",
     "text": [
      "1680334 bytes\n"
     ]
    }
   ],
   "source": [
    "print(get_size(start_path = timeseries_directory), 'bytes')\n",
    "# 4926249639 bytes gave a memory error for m16, m48 could handle this.. but it takes long.. didn't let it run\n",
    "# 6457220347 bytes 6.45 gb did not give a memory error for m16.. not sure why? maybe the new file structure? took 2334 seconds\n",
    "# which is like 39 minutes\n",
    "# 1452244352 bytes took just a minute tho.. whuu\n"
   ]
  },
  {
   "cell_type": "code",
   "execution_count": 70,
   "metadata": {},
   "outputs": [],
   "source": [
    "from osgeo import gdal\n",
    "import matplotlib.pyplot as plt\n",
    "import numpy as np\n",
    "\n",
    "class Timeseries:\n",
    "    '''\n",
    "    \n",
    "    This is a class that holds a numpy array with associated geographical metadata.\n",
    "    \n",
    "    '''\n",
    "    \n",
    "    def __init__(self, time_series_path,dates_path):\n",
    "        \n",
    "        self.name = time_series_path\n",
    "        \n",
    "        time_series = gdal.Open(time_series_path)\n",
    "        geotransform = time_series.GetGeoTransform()\n",
    "        \n",
    "        self.xpixelsize = geotransform[1]\n",
    "        self.ypixelsize = geotransform[5]\n",
    "        self.latitude = geotransform[3]\n",
    "        self.longitude = geotransform[0]\n",
    "\n",
    "        self.ncols = time_series.RasterXSize\n",
    "        self.nrows = time_series.RasterYSize\n",
    "        self.projection = time_series.GetProjection()\n",
    "        self.raster_stack = time_series.ReadAsArray()\n",
    "        self.nbands = time_series.RasterCount\n",
    "        \n",
    "        with open(dates_path) as f:\n",
    "            dates_list = f.read().split('\\n')\n",
    "            self.dates = [datetime.strptime(d, '%Y-%m-%d') for d in dates_list if len(d) > 0]\n",
    "        \n",
    "    def __str__(self):\n",
    "        return(\"Timeseries holds {} dates, sized {} by {}.\".format(self.nbands,\n",
    "                                                                        self.ncols,\n",
    "                                                                        self.nrows))\n",
    "\n",
    "    def plot_hist(self):\n",
    "        histlist = []\n",
    "        for x in range(self.nbands):\n",
    "            histlist.append(np.isnan(self.raster_stack[x]).sum()/(self.ncols*self.nrows))\n",
    "        plt.hist(histlist)\n",
    "        plt.show()\n",
    "            \n",
    "      "
   ]
  },
  {
   "cell_type": "code",
   "execution_count": 68,
   "metadata": {
    "scrolled": true
   },
   "outputs": [
    {
     "data": {
      "image/png": "[encoded data removed]",
      "text/plain": [
       "<Figure size 432x288 with 1 Axes>"
      ]
     },
     "metadata": {
      "needs_background": "light"
     },
     "output_type": "display_data"
    }
   ],
   "source": [
    "data.plot_hist()"
   ]
  },
  {
   "cell_type": "markdown",
   "metadata": {},
   "source": [
    "# Load in data"
   ]
  },
  {
   "cell_type": "code",
   "execution_count": 71,
   "metadata": {
    "scrolled": true
   },
   "outputs": [
    {
     "name": "stdout",
     "output_type": "stream",
     "text": [
      "No tiles, loading in data as a whole\n",
      "Total loading took 2.6633663177490234 seconds.\n",
      "[]\n"
     ]
    }
   ],
   "source": [
    "start_time = time.time()\n",
    "\n",
    "# # set paths to data\n",
    "dates_path = os.path.join(timeseries_directory, \"dates.csv\")\n",
    "#data_dict = {}\n",
    "data_list=[]\n",
    "tile_paths = []\n",
    "\n",
    "# # check for tiles\n",
    "for file in os.listdir(timeseries_directory):\n",
    "    if file.startswith('tile'):\n",
    "        time_series_path = os.path.join(timeseries_directory, file, 'stack.vrt') ## never start os path with a slash\n",
    "        tile_paths.append(time_series_path)\n",
    "\n",
    "        \n",
    "        \n",
    "\n",
    "# # load in time series and its metadata\n",
    "if not tile_paths:\n",
    "    print(\"No tiles, loading in data as a whole\")\n",
    "    time_series_path = os.path.join(timeseries_directory, 'stack.vrt')\n",
    "    data = Timeseries(time_series_path, dates_path)\n",
    "    \n",
    "else:\n",
    "    print(\"Data consists of tiles, loading in tiles one by one\")\n",
    "    for time_series_path in tile_paths:\n",
    "        #data_dict[time_series_path] = get_data_dict(time_series_path)\n",
    "        data_list.append(get_data_dict(time_series_path))\n",
    "        data = Timeseries(time_series_path, dates_path)\n",
    "        end_time = time.time()\n",
    "        print(tile, ' loaded \\n', \"Loading data took {} seconds.\".format(end_time - start_time))\n",
    "\n",
    "# Save time\n",
    "end_time = time.time()\n",
    "print(\"Total loading took {} seconds.\".format(end_time - start_time))\n",
    "\n",
    "# log\n",
    "with open(\"log.txt\",\"a\") as file:\n",
    "    file.write(\"Loading in: \" + timeseries_directory)\n",
    "    file.write(\" took {} seconds.\".format(end_time - start_time))\n",
    "    file.write(\"\\n\")\n",
    "\n",
    "print(data_list)"
   ]
  },
  {
   "cell_type": "code",
   "execution_count": 72,
   "metadata": {},
   "outputs": [
    {
     "data": {
      "text/plain": [
       "[datetime.datetime(2000, 1, 8, 0, 0),\n",
       " datetime.datetime(2000, 1, 24, 0, 0),\n",
       " datetime.datetime(2000, 3, 28, 0, 0),\n",
       " datetime.datetime(2000, 5, 15, 0, 0),\n",
       " datetime.datetime(2000, 7, 18, 0, 0),\n",
       " datetime.datetime(2000, 9, 4, 0, 0),\n",
       " datetime.datetime(2000, 10, 22, 0, 0),\n",
       " datetime.datetime(2000, 11, 7, 0, 0),\n",
       " datetime.datetime(2000, 11, 23, 0, 0),\n",
       " datetime.datetime(2000, 1, 16, 0, 0),\n",
       " datetime.datetime(2000, 3, 4, 0, 0),\n",
       " datetime.datetime(2000, 3, 20, 0, 0),\n",
       " datetime.datetime(2000, 4, 5, 0, 0),\n",
       " datetime.datetime(2000, 5, 7, 0, 0),\n",
       " datetime.datetime(2000, 5, 23, 0, 0),\n",
       " datetime.datetime(2000, 6, 8, 0, 0),\n",
       " datetime.datetime(2000, 6, 24, 0, 0),\n",
       " datetime.datetime(2000, 7, 10, 0, 0),\n",
       " datetime.datetime(2000, 7, 26, 0, 0),\n",
       " datetime.datetime(2000, 8, 11, 0, 0),\n",
       " datetime.datetime(2000, 8, 27, 0, 0),\n",
       " datetime.datetime(2000, 9, 12, 0, 0),\n",
       " datetime.datetime(2000, 10, 14, 0, 0),\n",
       " datetime.datetime(2000, 11, 15, 0, 0),\n",
       " datetime.datetime(2000, 12, 1, 0, 0),\n",
       " datetime.datetime(2001, 2, 11, 0, 0),\n",
       " datetime.datetime(2001, 2, 27, 0, 0),\n",
       " datetime.datetime(2001, 3, 15, 0, 0),\n",
       " datetime.datetime(2001, 4, 16, 0, 0),\n",
       " datetime.datetime(2001, 5, 18, 0, 0),\n",
       " datetime.datetime(2001, 6, 3, 0, 0),\n",
       " datetime.datetime(2001, 6, 19, 0, 0),\n",
       " datetime.datetime(2001, 7, 21, 0, 0),\n",
       " datetime.datetime(2001, 8, 6, 0, 0),\n",
       " datetime.datetime(2001, 8, 22, 0, 0),\n",
       " datetime.datetime(2001, 9, 7, 0, 0),\n",
       " datetime.datetime(2001, 11, 26, 0, 0),\n",
       " datetime.datetime(2001, 12, 12, 0, 0),\n",
       " datetime.datetime(2001, 12, 28, 0, 0),\n",
       " datetime.datetime(2001, 1, 2, 0, 0),\n",
       " datetime.datetime(2001, 2, 3, 0, 0),\n",
       " datetime.datetime(2001, 2, 19, 0, 0),\n",
       " datetime.datetime(2001, 3, 23, 0, 0),\n",
       " datetime.datetime(2001, 4, 8, 0, 0),\n",
       " datetime.datetime(2001, 5, 10, 0, 0),\n",
       " datetime.datetime(2001, 5, 26, 0, 0),\n",
       " datetime.datetime(2001, 6, 11, 0, 0),\n",
       " datetime.datetime(2001, 6, 27, 0, 0),\n",
       " datetime.datetime(2001, 7, 13, 0, 0),\n",
       " datetime.datetime(2001, 7, 29, 0, 0),\n",
       " datetime.datetime(2001, 8, 14, 0, 0),\n",
       " datetime.datetime(2001, 8, 30, 0, 0),\n",
       " datetime.datetime(2001, 9, 15, 0, 0),\n",
       " datetime.datetime(2001, 11, 2, 0, 0),\n",
       " datetime.datetime(2001, 12, 4, 0, 0),\n",
       " datetime.datetime(2001, 12, 20, 0, 0),\n",
       " datetime.datetime(2002, 1, 29, 0, 0),\n",
       " datetime.datetime(2002, 2, 14, 0, 0),\n",
       " datetime.datetime(2002, 3, 2, 0, 0),\n",
       " datetime.datetime(2002, 5, 21, 0, 0),\n",
       " datetime.datetime(2002, 6, 22, 0, 0),\n",
       " datetime.datetime(2002, 1, 5, 0, 0),\n",
       " datetime.datetime(2002, 1, 21, 0, 0),\n",
       " datetime.datetime(2002, 2, 6, 0, 0),\n",
       " datetime.datetime(2002, 2, 22, 0, 0),\n",
       " datetime.datetime(2002, 3, 10, 0, 0),\n",
       " datetime.datetime(2002, 3, 26, 0, 0),\n",
       " datetime.datetime(2002, 4, 11, 0, 0),\n",
       " datetime.datetime(2002, 4, 27, 0, 0),\n",
       " datetime.datetime(2002, 5, 29, 0, 0),\n",
       " datetime.datetime(2002, 6, 14, 0, 0),\n",
       " datetime.datetime(2002, 6, 30, 0, 0),\n",
       " datetime.datetime(2002, 7, 16, 0, 0),\n",
       " datetime.datetime(2002, 8, 1, 0, 0),\n",
       " datetime.datetime(2002, 8, 17, 0, 0),\n",
       " datetime.datetime(2002, 9, 2, 0, 0),\n",
       " datetime.datetime(2002, 10, 4, 0, 0),\n",
       " datetime.datetime(2002, 11, 5, 0, 0),\n",
       " datetime.datetime(2002, 11, 21, 0, 0),\n",
       " datetime.datetime(2002, 12, 7, 0, 0),\n",
       " datetime.datetime(2002, 12, 23, 0, 0),\n",
       " datetime.datetime(2003, 6, 25, 0, 0),\n",
       " datetime.datetime(2003, 7, 11, 0, 0),\n",
       " datetime.datetime(2003, 7, 27, 0, 0),\n",
       " datetime.datetime(2003, 8, 12, 0, 0),\n",
       " datetime.datetime(2003, 9, 13, 0, 0),\n",
       " datetime.datetime(2003, 9, 29, 0, 0),\n",
       " datetime.datetime(2003, 1, 24, 0, 0),\n",
       " datetime.datetime(2003, 2, 9, 0, 0),\n",
       " datetime.datetime(2003, 2, 25, 0, 0),\n",
       " datetime.datetime(2003, 3, 13, 0, 0),\n",
       " datetime.datetime(2003, 4, 14, 0, 0),\n",
       " datetime.datetime(2003, 4, 30, 0, 0),\n",
       " datetime.datetime(2003, 5, 16, 0, 0),\n",
       " datetime.datetime(2003, 8, 4, 0, 0),\n",
       " datetime.datetime(2003, 11, 8, 0, 0),\n",
       " datetime.datetime(2003, 11, 24, 0, 0),\n",
       " datetime.datetime(2003, 12, 10, 0, 0),\n",
       " datetime.datetime(2003, 12, 26, 0, 0),\n",
       " datetime.datetime(2004, 1, 3, 0, 0),\n",
       " datetime.datetime(2004, 1, 19, 0, 0),\n",
       " datetime.datetime(2004, 2, 4, 0, 0),\n",
       " datetime.datetime(2004, 2, 20, 0, 0),\n",
       " datetime.datetime(2004, 3, 7, 0, 0),\n",
       " datetime.datetime(2004, 4, 24, 0, 0),\n",
       " datetime.datetime(2004, 5, 10, 0, 0),\n",
       " datetime.datetime(2004, 6, 11, 0, 0),\n",
       " datetime.datetime(2004, 6, 27, 0, 0),\n",
       " datetime.datetime(2004, 7, 13, 0, 0),\n",
       " datetime.datetime(2004, 7, 29, 0, 0),\n",
       " datetime.datetime(2004, 8, 14, 0, 0),\n",
       " datetime.datetime(2004, 9, 15, 0, 0),\n",
       " datetime.datetime(2004, 11, 2, 0, 0),\n",
       " datetime.datetime(2004, 11, 18, 0, 0),\n",
       " datetime.datetime(2004, 12, 4, 0, 0),\n",
       " datetime.datetime(2004, 12, 20, 0, 0),\n",
       " datetime.datetime(2004, 2, 12, 0, 0),\n",
       " datetime.datetime(2004, 3, 15, 0, 0),\n",
       " datetime.datetime(2004, 6, 3, 0, 0),\n",
       " datetime.datetime(2004, 7, 21, 0, 0),\n",
       " datetime.datetime(2004, 8, 6, 0, 0),\n",
       " datetime.datetime(2004, 9, 23, 0, 0),\n",
       " datetime.datetime(2004, 11, 10, 0, 0),\n",
       " datetime.datetime(2004, 11, 26, 0, 0),\n",
       " datetime.datetime(2004, 12, 12, 0, 0),\n",
       " datetime.datetime(2005, 1, 21, 0, 0),\n",
       " datetime.datetime(2005, 2, 6, 0, 0),\n",
       " datetime.datetime(2005, 3, 10, 0, 0),\n",
       " datetime.datetime(2005, 3, 26, 0, 0),\n",
       " datetime.datetime(2005, 4, 27, 0, 0),\n",
       " datetime.datetime(2005, 5, 13, 0, 0),\n",
       " datetime.datetime(2005, 6, 14, 0, 0),\n",
       " datetime.datetime(2005, 6, 30, 0, 0),\n",
       " datetime.datetime(2005, 7, 16, 0, 0),\n",
       " datetime.datetime(2005, 8, 17, 0, 0),\n",
       " datetime.datetime(2005, 9, 18, 0, 0),\n",
       " datetime.datetime(2005, 10, 4, 0, 0),\n",
       " datetime.datetime(2005, 11, 5, 0, 0),\n",
       " datetime.datetime(2005, 3, 2, 0, 0),\n",
       " datetime.datetime(2005, 3, 18, 0, 0),\n",
       " datetime.datetime(2005, 5, 5, 0, 0),\n",
       " datetime.datetime(2005, 6, 6, 0, 0),\n",
       " datetime.datetime(2005, 7, 8, 0, 0),\n",
       " datetime.datetime(2005, 8, 25, 0, 0),\n",
       " datetime.datetime(2005, 11, 29, 0, 0),\n",
       " datetime.datetime(2005, 12, 15, 0, 0),\n",
       " datetime.datetime(2006, 2, 9, 0, 0),\n",
       " datetime.datetime(2006, 6, 1, 0, 0),\n",
       " datetime.datetime(2006, 7, 3, 0, 0),\n",
       " datetime.datetime(2006, 7, 19, 0, 0),\n",
       " datetime.datetime(2006, 8, 4, 0, 0),\n",
       " datetime.datetime(2006, 9, 5, 0, 0),\n",
       " datetime.datetime(2006, 10, 7, 0, 0),\n",
       " datetime.datetime(2006, 10, 23, 0, 0),\n",
       " datetime.datetime(2006, 12, 10, 0, 0),\n",
       " datetime.datetime(2006, 12, 26, 0, 0),\n",
       " datetime.datetime(2006, 2, 1, 0, 0),\n",
       " datetime.datetime(2006, 5, 24, 0, 0),\n",
       " datetime.datetime(2006, 6, 9, 0, 0),\n",
       " datetime.datetime(2006, 10, 31, 0, 0),\n",
       " datetime.datetime(2006, 12, 18, 0, 0),\n",
       " datetime.datetime(2007, 1, 27, 0, 0),\n",
       " datetime.datetime(2007, 2, 12, 0, 0),\n",
       " datetime.datetime(2007, 3, 16, 0, 0),\n",
       " datetime.datetime(2007, 4, 1, 0, 0),\n",
       " datetime.datetime(2007, 4, 17, 0, 0),\n",
       " datetime.datetime(2007, 5, 3, 0, 0),\n",
       " datetime.datetime(2007, 5, 19, 0, 0),\n",
       " datetime.datetime(2007, 7, 6, 0, 0),\n",
       " datetime.datetime(2007, 7, 22, 0, 0),\n",
       " datetime.datetime(2007, 8, 7, 0, 0),\n",
       " datetime.datetime(2007, 8, 23, 0, 0),\n",
       " datetime.datetime(2007, 9, 8, 0, 0),\n",
       " datetime.datetime(2007, 9, 24, 0, 0),\n",
       " datetime.datetime(2007, 2, 4, 0, 0),\n",
       " datetime.datetime(2007, 3, 8, 0, 0),\n",
       " datetime.datetime(2007, 3, 24, 0, 0),\n",
       " datetime.datetime(2007, 7, 30, 0, 0),\n",
       " datetime.datetime(2007, 8, 31, 0, 0),\n",
       " datetime.datetime(2007, 11, 3, 0, 0),\n",
       " datetime.datetime(2007, 12, 21, 0, 0),\n",
       " datetime.datetime(2008, 3, 2, 0, 0),\n",
       " datetime.datetime(2008, 4, 3, 0, 0),\n",
       " datetime.datetime(2008, 5, 5, 0, 0),\n",
       " datetime.datetime(2008, 6, 6, 0, 0),\n",
       " datetime.datetime(2008, 6, 22, 0, 0),\n",
       " datetime.datetime(2008, 7, 8, 0, 0),\n",
       " datetime.datetime(2008, 8, 9, 0, 0),\n",
       " datetime.datetime(2008, 8, 25, 0, 0),\n",
       " datetime.datetime(2008, 9, 10, 0, 0),\n",
       " datetime.datetime(2008, 9, 26, 0, 0),\n",
       " datetime.datetime(2008, 10, 12, 0, 0),\n",
       " datetime.datetime(2008, 1, 22, 0, 0),\n",
       " datetime.datetime(2008, 2, 7, 0, 0),\n",
       " datetime.datetime(2008, 4, 11, 0, 0),\n",
       " datetime.datetime(2008, 6, 30, 0, 0),\n",
       " datetime.datetime(2008, 7, 16, 0, 0),\n",
       " datetime.datetime(2008, 10, 20, 0, 0),\n",
       " datetime.datetime(2008, 11, 21, 0, 0),\n",
       " datetime.datetime(2008, 12, 23, 0, 0),\n",
       " datetime.datetime(2009, 3, 5, 0, 0),\n",
       " datetime.datetime(2009, 4, 22, 0, 0),\n",
       " datetime.datetime(2009, 5, 8, 0, 0),\n",
       " datetime.datetime(2009, 6, 25, 0, 0),\n",
       " datetime.datetime(2009, 7, 11, 0, 0),\n",
       " datetime.datetime(2009, 8, 12, 0, 0),\n",
       " datetime.datetime(2009, 8, 28, 0, 0),\n",
       " datetime.datetime(2009, 9, 13, 0, 0),\n",
       " datetime.datetime(2009, 10, 15, 0, 0),\n",
       " datetime.datetime(2009, 10, 31, 0, 0),\n",
       " datetime.datetime(2009, 12, 2, 0, 0),\n",
       " datetime.datetime(2009, 1, 8, 0, 0),\n",
       " datetime.datetime(2009, 1, 24, 0, 0),\n",
       " datetime.datetime(2009, 2, 25, 0, 0),\n",
       " datetime.datetime(2009, 3, 13, 0, 0),\n",
       " datetime.datetime(2009, 3, 29, 0, 0),\n",
       " datetime.datetime(2009, 6, 1, 0, 0),\n",
       " datetime.datetime(2009, 6, 17, 0, 0),\n",
       " datetime.datetime(2009, 8, 20, 0, 0),\n",
       " datetime.datetime(2009, 9, 5, 0, 0),\n",
       " datetime.datetime(2009, 9, 21, 0, 0),\n",
       " datetime.datetime(2009, 11, 24, 0, 0),\n",
       " datetime.datetime(2010, 2, 20, 0, 0),\n",
       " datetime.datetime(2010, 4, 25, 0, 0),\n",
       " datetime.datetime(2010, 6, 12, 0, 0),\n",
       " datetime.datetime(2010, 6, 28, 0, 0),\n",
       " datetime.datetime(2010, 7, 30, 0, 0),\n",
       " datetime.datetime(2010, 10, 2, 0, 0),\n",
       " datetime.datetime(2010, 10, 18, 0, 0),\n",
       " datetime.datetime(2010, 1, 27, 0, 0),\n",
       " datetime.datetime(2010, 5, 3, 0, 0),\n",
       " datetime.datetime(2010, 5, 19, 0, 0),\n",
       " datetime.datetime(2010, 6, 20, 0, 0),\n",
       " datetime.datetime(2010, 7, 6, 0, 0),\n",
       " datetime.datetime(2010, 7, 22, 0, 0),\n",
       " datetime.datetime(2010, 10, 26, 0, 0),\n",
       " datetime.datetime(2010, 12, 13, 0, 0),\n",
       " datetime.datetime(2011, 4, 28, 0, 0),\n",
       " datetime.datetime(2011, 5, 14, 0, 0),\n",
       " datetime.datetime(2011, 5, 30, 0, 0),\n",
       " datetime.datetime(2011, 8, 18, 0, 0),\n",
       " datetime.datetime(2011, 9, 3, 0, 0),\n",
       " datetime.datetime(2011, 9, 19, 0, 0),\n",
       " datetime.datetime(2011, 10, 5, 0, 0),\n",
       " datetime.datetime(2011, 10, 21, 0, 0),\n",
       " datetime.datetime(2011, 11, 6, 0, 0),\n",
       " datetime.datetime(2011, 3, 19, 0, 0),\n",
       " datetime.datetime(2011, 4, 4, 0, 0),\n",
       " datetime.datetime(2011, 7, 25, 0, 0),\n",
       " datetime.datetime(2011, 8, 10, 0, 0),\n",
       " datetime.datetime(2011, 10, 13, 0, 0),\n",
       " datetime.datetime(2011, 10, 29, 0, 0),\n",
       " datetime.datetime(2012, 2, 2, 0, 0),\n",
       " datetime.datetime(2012, 2, 18, 0, 0),\n",
       " datetime.datetime(2012, 3, 5, 0, 0),\n",
       " datetime.datetime(2012, 3, 21, 0, 0),\n",
       " datetime.datetime(2012, 5, 24, 0, 0),\n",
       " datetime.datetime(2012, 6, 25, 0, 0),\n",
       " datetime.datetime(2012, 7, 11, 0, 0),\n",
       " datetime.datetime(2012, 9, 13, 0, 0),\n",
       " datetime.datetime(2012, 9, 29, 0, 0),\n",
       " datetime.datetime(2012, 10, 15, 0, 0),\n",
       " datetime.datetime(2012, 10, 31, 0, 0),\n",
       " datetime.datetime(2012, 12, 2, 0, 0),\n",
       " datetime.datetime(2013, 1, 3, 0, 0),\n",
       " datetime.datetime(2013, 4, 25, 0, 0),\n",
       " datetime.datetime(2013, 5, 11, 0, 0),\n",
       " datetime.datetime(2013, 5, 27, 0, 0),\n",
       " datetime.datetime(2013, 6, 12, 0, 0),\n",
       " datetime.datetime(2013, 6, 28, 0, 0),\n",
       " datetime.datetime(2013, 7, 14, 0, 0),\n",
       " datetime.datetime(2013, 7, 30, 0, 0),\n",
       " datetime.datetime(2013, 8, 31, 0, 0),\n",
       " datetime.datetime(2013, 9, 16, 0, 0),\n",
       " datetime.datetime(2013, 11, 3, 0, 0),\n",
       " datetime.datetime(2013, 11, 19, 0, 0),\n",
       " datetime.datetime(2013, 12, 5, 0, 0),\n",
       " datetime.datetime(2013, 12, 21, 0, 0),\n",
       " datetime.datetime(2013, 4, 17, 0, 0),\n",
       " datetime.datetime(2013, 5, 19, 0, 0),\n",
       " datetime.datetime(2013, 6, 4, 0, 0),\n",
       " datetime.datetime(2013, 6, 20, 0, 0),\n",
       " datetime.datetime(2013, 7, 6, 0, 0),\n",
       " datetime.datetime(2013, 7, 22, 0, 0),\n",
       " datetime.datetime(2013, 8, 7, 0, 0),\n",
       " datetime.datetime(2013, 8, 23, 0, 0),\n",
       " datetime.datetime(2013, 9, 8, 0, 0),\n",
       " datetime.datetime(2013, 9, 24, 0, 0),\n",
       " datetime.datetime(2013, 10, 10, 0, 0),\n",
       " datetime.datetime(2013, 10, 26, 0, 0),\n",
       " datetime.datetime(2013, 11, 11, 0, 0),\n",
       " datetime.datetime(2013, 11, 27, 0, 0),\n",
       " datetime.datetime(2013, 12, 29, 0, 0),\n",
       " datetime.datetime(2014, 1, 22, 0, 0),\n",
       " datetime.datetime(2014, 2, 23, 0, 0),\n",
       " datetime.datetime(2014, 3, 11, 0, 0),\n",
       " datetime.datetime(2014, 4, 12, 0, 0),\n",
       " datetime.datetime(2014, 4, 28, 0, 0),\n",
       " datetime.datetime(2014, 5, 14, 0, 0),\n",
       " datetime.datetime(2014, 5, 30, 0, 0),\n",
       " datetime.datetime(2014, 6, 15, 0, 0),\n",
       " datetime.datetime(2014, 7, 17, 0, 0),\n",
       " datetime.datetime(2014, 8, 18, 0, 0),\n",
       " datetime.datetime(2014, 9, 19, 0, 0),\n",
       " datetime.datetime(2014, 10, 5, 0, 0),\n",
       " datetime.datetime(2014, 10, 21, 0, 0),\n",
       " datetime.datetime(2014, 12, 8, 0, 0),\n",
       " datetime.datetime(2014, 12, 24, 0, 0),\n",
       " datetime.datetime(2014, 1, 30, 0, 0),\n",
       " datetime.datetime(2014, 3, 19, 0, 0),\n",
       " datetime.datetime(2014, 4, 20, 0, 0),\n",
       " datetime.datetime(2014, 5, 6, 0, 0),\n",
       " datetime.datetime(2014, 5, 22, 0, 0),\n",
       " datetime.datetime(2014, 6, 7, 0, 0),\n",
       " datetime.datetime(2014, 6, 23, 0, 0),\n",
       " datetime.datetime(2014, 7, 9, 0, 0),\n",
       " datetime.datetime(2014, 7, 25, 0, 0),\n",
       " datetime.datetime(2014, 8, 10, 0, 0),\n",
       " datetime.datetime(2014, 8, 26, 0, 0),\n",
       " datetime.datetime(2014, 9, 11, 0, 0),\n",
       " datetime.datetime(2014, 9, 27, 0, 0),\n",
       " datetime.datetime(2014, 10, 29, 0, 0),\n",
       " datetime.datetime(2014, 11, 14, 0, 0),\n",
       " datetime.datetime(2014, 11, 30, 0, 0),\n",
       " datetime.datetime(2014, 12, 16, 0, 0),\n",
       " datetime.datetime(2015, 1, 9, 0, 0),\n",
       " datetime.datetime(2015, 1, 25, 0, 0),\n",
       " datetime.datetime(2015, 2, 10, 0, 0),\n",
       " datetime.datetime(2015, 3, 14, 0, 0),\n",
       " datetime.datetime(2015, 3, 30, 0, 0),\n",
       " datetime.datetime(2015, 5, 17, 0, 0),\n",
       " datetime.datetime(2015, 6, 2, 0, 0),\n",
       " datetime.datetime(2015, 6, 18, 0, 0),\n",
       " datetime.datetime(2015, 7, 4, 0, 0),\n",
       " datetime.datetime(2015, 7, 20, 0, 0),\n",
       " datetime.datetime(2015, 8, 5, 0, 0),\n",
       " datetime.datetime(2015, 8, 21, 0, 0),\n",
       " datetime.datetime(2015, 9, 6, 0, 0),\n",
       " datetime.datetime(2015, 9, 22, 0, 0),\n",
       " datetime.datetime(2015, 10, 8, 0, 0),\n",
       " datetime.datetime(2015, 11, 9, 0, 0),\n",
       " datetime.datetime(2015, 11, 25, 0, 0),\n",
       " datetime.datetime(2015, 12, 11, 0, 0),\n",
       " datetime.datetime(2015, 12, 27, 0, 0),\n",
       " datetime.datetime(2015, 1, 1, 0, 0),\n",
       " datetime.datetime(2015, 1, 17, 0, 0),\n",
       " datetime.datetime(2015, 2, 18, 0, 0),\n",
       " datetime.datetime(2015, 3, 6, 0, 0),\n",
       " datetime.datetime(2015, 3, 22, 0, 0),\n",
       " datetime.datetime(2015, 4, 7, 0, 0),\n",
       " datetime.datetime(2015, 4, 23, 0, 0),\n",
       " datetime.datetime(2015, 5, 9, 0, 0),\n",
       " datetime.datetime(2015, 5, 25, 0, 0),\n",
       " datetime.datetime(2015, 6, 10, 0, 0),\n",
       " datetime.datetime(2015, 6, 26, 0, 0),\n",
       " datetime.datetime(2015, 7, 12, 0, 0),\n",
       " datetime.datetime(2015, 7, 28, 0, 0),\n",
       " datetime.datetime(2015, 8, 13, 0, 0),\n",
       " datetime.datetime(2015, 8, 29, 0, 0),\n",
       " datetime.datetime(2015, 9, 14, 0, 0),\n",
       " datetime.datetime(2015, 9, 30, 0, 0),\n",
       " datetime.datetime(2015, 10, 16, 0, 0),\n",
       " datetime.datetime(2015, 11, 1, 0, 0),\n",
       " datetime.datetime(2015, 11, 17, 0, 0),\n",
       " datetime.datetime(2015, 12, 3, 0, 0),\n",
       " datetime.datetime(2015, 12, 19, 0, 0),\n",
       " datetime.datetime(2016, 1, 12, 0, 0),\n",
       " datetime.datetime(2016, 1, 28, 0, 0),\n",
       " datetime.datetime(2016, 2, 29, 0, 0),\n",
       " datetime.datetime(2016, 3, 16, 0, 0),\n",
       " datetime.datetime(2016, 4, 1, 0, 0),\n",
       " datetime.datetime(2016, 5, 3, 0, 0),\n",
       " datetime.datetime(2016, 5, 19, 0, 0),\n",
       " datetime.datetime(2016, 6, 4, 0, 0),\n",
       " datetime.datetime(2016, 6, 20, 0, 0),\n",
       " datetime.datetime(2016, 7, 6, 0, 0),\n",
       " datetime.datetime(2016, 7, 22, 0, 0),\n",
       " datetime.datetime(2016, 8, 7, 0, 0),\n",
       " datetime.datetime(2016, 8, 23, 0, 0),\n",
       " datetime.datetime(2016, 9, 8, 0, 0),\n",
       " datetime.datetime(2016, 9, 24, 0, 0),\n",
       " datetime.datetime(2016, 10, 10, 0, 0),\n",
       " datetime.datetime(2016, 10, 26, 0, 0),\n",
       " datetime.datetime(2016, 11, 11, 0, 0),\n",
       " datetime.datetime(2016, 12, 13, 0, 0),\n",
       " datetime.datetime(2016, 12, 29, 0, 0),\n",
       " datetime.datetime(2016, 1, 20, 0, 0),\n",
       " datetime.datetime(2016, 2, 5, 0, 0),\n",
       " datetime.datetime(2016, 2, 21, 0, 0),\n",
       " datetime.datetime(2016, 3, 8, 0, 0),\n",
       " datetime.datetime(2016, 3, 24, 0, 0),\n",
       " datetime.datetime(2016, 4, 9, 0, 0),\n",
       " datetime.datetime(2016, 4, 25, 0, 0),\n",
       " datetime.datetime(2016, 5, 27, 0, 0),\n",
       " datetime.datetime(2016, 6, 12, 0, 0),\n",
       " datetime.datetime(2016, 6, 28, 0, 0),\n",
       " datetime.datetime(2016, 7, 14, 0, 0),\n",
       " datetime.datetime(2016, 7, 30, 0, 0),\n",
       " datetime.datetime(2016, 8, 15, 0, 0),\n",
       " datetime.datetime(2016, 8, 31, 0, 0),\n",
       " datetime.datetime(2016, 9, 16, 0, 0),\n",
       " datetime.datetime(2016, 10, 2, 0, 0),\n",
       " datetime.datetime(2016, 10, 18, 0, 0),\n",
       " datetime.datetime(2016, 11, 3, 0, 0),\n",
       " datetime.datetime(2016, 11, 19, 0, 0),\n",
       " datetime.datetime(2016, 12, 5, 0, 0),\n",
       " datetime.datetime(2016, 12, 21, 0, 0),\n",
       " datetime.datetime(2017, 1, 14, 0, 0),\n",
       " datetime.datetime(2017, 2, 15, 0, 0),\n",
       " datetime.datetime(2017, 3, 19, 0, 0),\n",
       " datetime.datetime(2017, 4, 4, 0, 0),\n",
       " datetime.datetime(2017, 4, 20, 0, 0),\n",
       " datetime.datetime(2017, 5, 22, 0, 0),\n",
       " datetime.datetime(2017, 6, 7, 0, 0),\n",
       " datetime.datetime(2017, 6, 23, 0, 0),\n",
       " datetime.datetime(2017, 7, 9, 0, 0),\n",
       " datetime.datetime(2017, 7, 25, 0, 0),\n",
       " datetime.datetime(2017, 8, 10, 0, 0),\n",
       " datetime.datetime(2017, 8, 26, 0, 0),\n",
       " datetime.datetime(2017, 9, 11, 0, 0),\n",
       " datetime.datetime(2017, 9, 27, 0, 0),\n",
       " datetime.datetime(2017, 10, 13, 0, 0),\n",
       " datetime.datetime(2017, 10, 29, 0, 0),\n",
       " datetime.datetime(2017, 11, 14, 0, 0),\n",
       " datetime.datetime(2017, 11, 30, 0, 0),\n",
       " datetime.datetime(2017, 12, 16, 0, 0),\n",
       " datetime.datetime(2017, 1, 6, 0, 0),\n",
       " datetime.datetime(2017, 1, 22, 0, 0),\n",
       " datetime.datetime(2017, 2, 7, 0, 0),\n",
       " datetime.datetime(2017, 2, 23, 0, 0),\n",
       " datetime.datetime(2017, 3, 11, 0, 0),\n",
       " datetime.datetime(2017, 4, 12, 0, 0),\n",
       " datetime.datetime(2017, 4, 28, 0, 0),\n",
       " datetime.datetime(2017, 5, 14, 0, 0),\n",
       " datetime.datetime(2017, 5, 30, 0, 0),\n",
       " datetime.datetime(2017, 6, 15, 0, 0),\n",
       " datetime.datetime(2017, 7, 1, 0, 0),\n",
       " datetime.datetime(2017, 7, 17, 0, 0),\n",
       " datetime.datetime(2017, 8, 2, 0, 0),\n",
       " datetime.datetime(2017, 8, 18, 0, 0),\n",
       " datetime.datetime(2017, 9, 3, 0, 0),\n",
       " datetime.datetime(2017, 9, 19, 0, 0),\n",
       " datetime.datetime(2017, 10, 5, 0, 0),\n",
       " datetime.datetime(2017, 10, 21, 0, 0),\n",
       " datetime.datetime(2017, 11, 6, 0, 0),\n",
       " datetime.datetime(2017, 12, 24, 0, 0),\n",
       " datetime.datetime(2018, 1, 1, 0, 0),\n",
       " datetime.datetime(2018, 1, 17, 0, 0),\n",
       " datetime.datetime(2018, 2, 2, 0, 0),\n",
       " datetime.datetime(2018, 2, 18, 0, 0),\n",
       " datetime.datetime(2018, 4, 23, 0, 0),\n",
       " datetime.datetime(2018, 5, 9, 0, 0),\n",
       " datetime.datetime(2018, 6, 26, 0, 0),\n",
       " datetime.datetime(2018, 7, 28, 0, 0),\n",
       " datetime.datetime(2018, 8, 13, 0, 0),\n",
       " datetime.datetime(2018, 8, 29, 0, 0),\n",
       " datetime.datetime(2018, 9, 14, 0, 0),\n",
       " datetime.datetime(2018, 9, 30, 0, 0),\n",
       " datetime.datetime(2018, 10, 16, 0, 0),\n",
       " datetime.datetime(2018, 11, 1, 0, 0),\n",
       " datetime.datetime(2018, 1, 25, 0, 0),\n",
       " datetime.datetime(2018, 2, 10, 0, 0),\n",
       " datetime.datetime(2018, 2, 26, 0, 0),\n",
       " datetime.datetime(2018, 3, 30, 0, 0),\n",
       " datetime.datetime(2018, 4, 15, 0, 0),\n",
       " datetime.datetime(2018, 5, 1, 0, 0),\n",
       " datetime.datetime(2018, 5, 17, 0, 0),\n",
       " datetime.datetime(2018, 6, 2, 0, 0),\n",
       " datetime.datetime(2018, 6, 18, 0, 0),\n",
       " datetime.datetime(2018, 7, 4, 0, 0),\n",
       " datetime.datetime(2018, 7, 20, 0, 0),\n",
       " datetime.datetime(2018, 8, 5, 0, 0),\n",
       " datetime.datetime(2018, 8, 21, 0, 0),\n",
       " datetime.datetime(2018, 9, 6, 0, 0),\n",
       " datetime.datetime(2018, 9, 22, 0, 0),\n",
       " datetime.datetime(2018, 10, 8, 0, 0),\n",
       " datetime.datetime(2018, 10, 24, 0, 0),\n",
       " datetime.datetime(2018, 11, 9, 0, 0),\n",
       " datetime.datetime(2018, 11, 25, 0, 0),\n",
       " datetime.datetime(2018, 12, 11, 0, 0),\n",
       " datetime.datetime(2019, 1, 4, 0, 0),\n",
       " datetime.datetime(2019, 1, 20, 0, 0),\n",
       " datetime.datetime(2019, 2, 5, 0, 0),\n",
       " datetime.datetime(2019, 2, 21, 0, 0),\n",
       " datetime.datetime(2019, 3, 9, 0, 0),\n",
       " datetime.datetime(2019, 3, 25, 0, 0),\n",
       " datetime.datetime(2019, 5, 12, 0, 0),\n",
       " datetime.datetime(2019, 5, 28, 0, 0),\n",
       " datetime.datetime(2019, 6, 13, 0, 0),\n",
       " datetime.datetime(2019, 6, 29, 0, 0),\n",
       " datetime.datetime(2019, 7, 15, 0, 0),\n",
       " datetime.datetime(2019, 7, 31, 0, 0),\n",
       " datetime.datetime(2019, 8, 16, 0, 0),\n",
       " datetime.datetime(2019, 9, 1, 0, 0),\n",
       " datetime.datetime(2019, 9, 17, 0, 0),\n",
       " datetime.datetime(2019, 10, 3, 0, 0),\n",
       " datetime.datetime(2019, 12, 6, 0, 0),\n",
       " datetime.datetime(2019, 1, 12, 0, 0),\n",
       " datetime.datetime(2019, 1, 28, 0, 0),\n",
       " datetime.datetime(2019, 2, 13, 0, 0),\n",
       " datetime.datetime(2019, 3, 1, 0, 0),\n",
       " datetime.datetime(2019, 3, 17, 0, 0),\n",
       " datetime.datetime(2019, 4, 2, 0, 0),\n",
       " datetime.datetime(2019, 4, 18, 0, 0),\n",
       " datetime.datetime(2019, 5, 4, 0, 0),\n",
       " datetime.datetime(2019, 5, 20, 0, 0),\n",
       " datetime.datetime(2019, 6, 5, 0, 0),\n",
       " datetime.datetime(2019, 6, 21, 0, 0),\n",
       " datetime.datetime(2019, 7, 7, 0, 0),\n",
       " datetime.datetime(2019, 7, 23, 0, 0),\n",
       " datetime.datetime(2019, 8, 24, 0, 0),\n",
       " datetime.datetime(2019, 9, 9, 0, 0),\n",
       " datetime.datetime(2019, 9, 25, 0, 0),\n",
       " datetime.datetime(2019, 10, 11, 0, 0),\n",
       " datetime.datetime(2019, 10, 27, 0, 0),\n",
       " datetime.datetime(2019, 11, 12, 0, 0),\n",
       " datetime.datetime(2019, 12, 30, 0, 0),\n",
       " datetime.datetime(2020, 1, 7, 0, 0),\n",
       " datetime.datetime(2020, 2, 24, 0, 0),\n",
       " datetime.datetime(2020, 3, 11, 0, 0),\n",
       " datetime.datetime(2020, 3, 27, 0, 0),\n",
       " datetime.datetime(2020, 4, 12, 0, 0),\n",
       " datetime.datetime(2020, 5, 30, 0, 0),\n",
       " datetime.datetime(2020, 3, 3, 0, 0),\n",
       " datetime.datetime(2020, 3, 19, 0, 0),\n",
       " datetime.datetime(2020, 4, 4, 0, 0),\n",
       " datetime.datetime(2020, 5, 6, 0, 0),\n",
       " datetime.datetime(2020, 5, 22, 0, 0),\n",
       " datetime.datetime(2020, 6, 7, 0, 0)]"
      ]
     },
     "execution_count": 72,
     "metadata": {},
     "output_type": "execute_result"
    }
   ],
   "source": [
    "data.dates"
   ]
  },
  {
   "cell_type": "markdown",
   "metadata": {},
   "source": [
    "# Store metadata"
   ]
  },
  {
   "cell_type": "code",
   "execution_count": null,
   "metadata": {
    "scrolled": true
   },
   "outputs": [],
   "source": []
  },
  {
   "cell_type": "code",
   "execution_count": 35,
   "metadata": {},
   "outputs": [],
   "source": []
  },
  {
   "cell_type": "code",
   "execution_count": 73,
   "metadata": {
    "scrolled": true
   },
   "outputs": [],
   "source": [
    "#Fabians code\n",
    "\n",
    "# here one may loop over the data_list and run the whole bfastmonitor, or choose a tile\n",
    "raster_stack = data.raster_stack\n",
    "data_orig = raster_stack\n",
    "\n"
   ]
  },
  {
   "cell_type": "markdown",
   "metadata": {},
   "source": [
    "# Set parameters"
   ]
  },
  {
   "cell_type": "code",
   "execution_count": 112,
   "metadata": {},
   "outputs": [
    {
     "data": {
      "image/png": "[encoded data removed]",
      "text/plain": [
       "<Figure size 432x288 with 1 Axes>"
      ]
     },
     "metadata": {},
     "output_type": "display_data"
    }
   ],
   "source": [
    "# parameters\n",
    "k = 3\n",
    "freq = 365\n",
    "trend = False\n",
    "hfrac = 0.25\n",
    "level = 0.05\n",
    "start_hist = datetime(2000, 1, 1)\n",
    "start_monitor = datetime(2010, 1, 1)\n",
    "end_monitor = datetime(2018, 1, 1)\n",
    "position = (100,100)\n"
   ]
  },
  {
   "cell_type": "markdown",
   "metadata": {},
   "source": [
    "# Select monitoring period"
   ]
  },
  {
   "cell_type": "code",
   "execution_count": 113,
   "metadata": {},
   "outputs": [
    {
     "name": "stdout",
     "output_type": "stream",
     "text": [
      "start monitoring period 2000-03-04 00:00:00\n"
     ]
    },
    {
     "data": {
      "application/vnd.jupyter.widget-view+json": {
       "model_id": "bf879470e2c847f6bfb918926ccd8dc0",
       "version_major": 2,
       "version_minor": 0
      },
      "text/plain": [
       "interactive(children=(SelectionRangeSlider(description='Select the monitoring date range: ', index=(0, 7400), …"
      ]
     },
     "metadata": {},
     "output_type": "display_data"
    }
   ],
   "source": [
    "start_date = dates[10] # 0 or 10 does not work.. 100 did\n",
    "print(\"start monitoring period\",start_date)\n",
    "end_date = dates[-1]\n",
    "\n",
    "def h(y):\n",
    "    return(y)\n",
    "\n",
    "pandas_dates = pd.date_range(start_date, end_date, freq='D')\n",
    "\n",
    "options = [(date.strftime(' %d %b %Y '), date) for date in pandas_dates]\n",
    "index = (0, len(options)-1)\n",
    "\n",
    "\n",
    "start_end_date = widgets.interactive(h,\n",
    "                                     y=widgets.SelectionRangeSlider(\n",
    "                                            options=options,\n",
    "                                            index=index,\n",
    "                                            description='Select the monitoring date range: ',\n",
    "                                            style = {'description_width': 'initial'},\n",
    "                                            orientation='horizontal',\n",
    "                                            layout={'width': '800px',\"height\":\"200px\"}))\n",
    "display(start_end_date)"
   ]
  },
  {
   "cell_type": "code",
   "execution_count": 114,
   "metadata": {},
   "outputs": [
    {
     "name": "stdout",
     "output_type": "stream",
     "text": [
      "start monitor:  2009-06-06 00:00:00\n",
      "end monitor:  2020-06-07 00:00:00\n"
     ]
    }
   ],
   "source": [
    "start_monitor, end_monitor = start_end_date.result\n",
    "print(\"start monitor: \",start_monitor)\n",
    "print(\"end monitor: \",end_monitor)"
   ]
  },
  {
   "cell_type": "code",
   "execution_count": 115,
   "metadata": {},
   "outputs": [
    {
     "name": "stdout",
     "output_type": "stream",
     "text": [
      "First date: 2000-01-08 00:00:00\n",
      "Last date: 2020-06-07 00:00:00\n",
      "Shape of data array: (529, 8, 14)\n"
     ]
    },
    {
     "data": {
      "text/plain": [
       "datetime.datetime(2000, 1, 1, 0, 0)"
      ]
     },
     "execution_count": 115,
     "metadata": {},
     "output_type": "execute_result"
    }
   ],
   "source": [
    "data, dates = crop_data_dates(data_orig, dates, start_hist, end_monitor)\n",
    "print(\"First date: {}\".format(dates[0]))\n",
    "print(\"Last date: {}\".format(dates[-1]))\n",
    "print(\"Shape of data array: {}\".format(data.shape))\n",
    "start_hist"
   ]
  },
  {
   "cell_type": "markdown",
   "metadata": {},
   "source": [
    "# Run bfastmonitor()"
   ]
  },
  {
   "cell_type": "code",
   "execution_count": 116,
   "metadata": {
    "scrolled": true
   },
   "outputs": [
    {
     "name": "stdout",
     "output_type": "stream",
     "text": [
      "Processing row 0\n",
      "Processing row 1\n",
      "Processing row 2\n",
      "Processing row 3\n",
      "Processing row 4\n",
      "Processing row 5\n",
      "Processing row 6\n",
      "Processing row 7\n",
      "Fitting model took 1.5352685451507568 seconds.\n"
     ]
    }
   ],
   "source": [
    "# fit BFAST using the CPU implementation (single pixel)\n",
    "from numpy import nan\n",
    "\n",
    "start_time = time.time()\n",
    "\n",
    "\n",
    "model = BFASTMonitor(\n",
    "            start_monitor,\n",
    "            freq=freq,\n",
    "            k=k,\n",
    "            hfrac=hfrac,\n",
    "            trend=trend,\n",
    "            level=level,\n",
    "            backend='python',\n",
    "            verbose=1\n",
    "            )\n",
    "\n",
    "\n",
    "# only apply on a small subset\n",
    "data = data[:,:200,:200]\n",
    "model.fit(data, dates, nan_value=nan) #changed to nan\n",
    "\n",
    "end_time = time.time()\n",
    "print(\"Fitting model took {} seconds.\".format(end_time - start_time))\n"
   ]
  },
  {
   "cell_type": "markdown",
   "metadata": {},
   "source": [
    "# Select negative magnitudes"
   ]
  },
  {
   "cell_type": "code",
   "execution_count": 117,
   "metadata": {
    "scrolled": true
   },
   "outputs": [],
   "source": [
    "# select only negative magnitudes\n",
    "breaks = model.breaks # index of date that has a break in dates\n",
    "means = model.means # magnitudes of breaks\n",
    "\n",
    "no_breaks_indices = (breaks == -1)\n",
    "means[no_breaks_indices] = 0\n",
    "means[means > 0] = 0 # only want negative mean changes\n",
    "\n",
    "breaks_plot = breaks.astype(np.float)\n",
    "breaks_plot[breaks == -2] = np.nan\n",
    "breaks_plot[breaks == -1] = np.nan\n",
    "breaks_plot[means >= 0] = np.nan\n"
   ]
  },
  {
   "cell_type": "code",
   "execution_count": 118,
   "metadata": {},
   "outputs": [],
   "source": [
    "dates_monitor = []\n",
    "\n",
    "# collect dates for monitor period\n",
    "for i in range(len(dates)):\n",
    "    if start_monitor <= dates[i]:\n",
    "        dates_monitor.append(dates[i])\n",
    "dates_array = np.array(dates_monitor) # dates_array is the dates that are in the monitoring period\n"
   ]
  },
  {
   "cell_type": "markdown",
   "metadata": {},
   "source": [
    "# Classify output for plotting"
   ]
  },
  {
   "cell_type": "code",
   "execution_count": 119,
   "metadata": {},
   "outputs": [
    {
     "name": "stdout",
     "output_type": "stream",
     "text": [
      "{2009: 0, 2010: 13, 2011: 28, 2012: 43, 2013: 55, 2014: 84, 2015: 116, 2016: 157, 2017: 198, 2018: 237, 2019: 271}\n",
      "['2009', '2010', '2011', '2012', '2013', '2014', '2015', '2016', '2017', '2018', '2019']\n",
      "[[ 7.  3.  4.  4.  1.  5.  3.  3.  3.  6.  0.  0.  6.  6.]\n",
      " [ 6.  0.  6.  6.  2.  6.  8.  8.  5.  3.  1.  1.  1.  6.]\n",
      " [ 4.  5. nan nan nan  6.  0.  0.  0.  0.  5.  5.  4.  1.]\n",
      " [ 4.  4.  0.  0.  3.  0.  0.  0.  3.  4.  3.  3.  4.  1.]\n",
      " [ 4.  0.  0.  0.  6.  4.  4.  4.  3.  6.  0.  0.  2.  1.]\n",
      " [ 0.  0.  5.  5.  4.  2.  0.  0.  0.  0.  4.  4.  0.  0.]\n",
      " [ 0.  6.  6.  6.  4. nan  1.  1.  0.  0.  0.  0.  0.  5.]\n",
      " [nan  6.  6.  6.  0. nan  4.  4.  1.  3.  0.  0.  0.  6.]]\n"
     ]
    }
   ],
   "source": [
    "idx_starts = {}\n",
    "\n",
    "# this gives the index of all the data points in the year and after\n",
    "for year in range(start_monitor.year,end_monitor.year):\n",
    "    idx_starts[year] = np.argmax((dates_array >= datetime(year, 1, 1)) > False) \n",
    "    \n",
    "print(idx_starts)\n",
    "breaks_plot_years = copy.deepcopy(breaks_plot)\n",
    "\n",
    "#classifying for plotting\n",
    "ticklist=[]\n",
    "for idx, year in enumerate(idx_starts):\n",
    "    ticklist.append(str(year))\n",
    "\n",
    "    if idx == 0:\n",
    "        breaks_plot_years[breaks_plot <= idx_starts[year+1]] = 0\n",
    "        continue\n",
    "    \n",
    "    if idx == len(idx_starts)-1:\n",
    "        breaks_plot_years[np.where(idx_starts[year] < breaks_plot)] = len(idx_starts)-1\n",
    "        continue\n",
    "        \n",
    "    breaks_plot_years[np.where(np.logical_and(idx_starts[year] < breaks_plot, breaks_plot <= idx_starts[year+1]))] = idx\n",
    "print(ticklist)\n",
    "print(breaks_plot_years)"
   ]
  },
  {
   "cell_type": "markdown",
   "metadata": {},
   "source": [
    "# Plot output"
   ]
  },
  {
   "cell_type": "code",
   "execution_count": 120,
   "metadata": {},
   "outputs": [
    {
     "data": {
      "image/png": "[encoded data removed]",
      "text/plain": [
       "<Figure size 720x720 with 2 Axes>"
      ]
     },
     "metadata": {},
     "output_type": "display_data"
    }
   ],
   "source": [
    "bins = len(idx_starts)\n",
    "\n",
    "cmap = plt.get_cmap(\"rainbow\")\n",
    "cmaplist = [cmap(i) for i in range(cmap.N)]\n",
    "cmap = cmap.from_list('Custom cmap', cmaplist, cmap.N)\n",
    "\n",
    "bounds = np.linspace(0, bins-1, bins) #third number is the amount of bins in the colorbar 0=0, 6 = ncolors, 7= nyears\n",
    "norm = matplotlib.colors.BoundaryNorm(bounds, cmap.N)\n",
    "\n",
    "fig, axes = plt.subplots(nrows=1, ncols=1, figsize=(10, 10))\n",
    "im = axes.imshow(breaks_plot_years, cmap=cmap, vmin=0, vmax=bins, norm=norm)\n",
    "fig.subplots_adjust(right=0.8)\n",
    "cbar_ax = fig.add_axes([0.85, 0.15, 0.05, 0.7])\n",
    "fig.colorbar(im, cax=cbar_ax, ticks=range(bins))\n",
    "labels = cbar_ax.set_yticklabels(ticklist)\n",
    "\n",
    "plt.savefig(\"./output/picture.png\")\n",
    "plt.show()\n"
   ]
  },
  {
   "cell_type": "code",
   "execution_count": 53,
   "metadata": {},
   "outputs": [],
   "source": [
    "# #this doesn't work yet\n",
    "\n",
    "# output_raster = gdal.GetDriverByName('GTiff').Create('myraster.tif',cols, rows, 1 ,gdal.GDT_Float32)  # Open the file\n",
    "\n",
    "# output_raster.SetGeoTransform(geotransform)  # Specify its coordinates\n",
    "# srs = osr.SpatialReference()                 # Establish its coordinate encoding\n",
    "# srs.ImportFromEPSG(4326)                     # This one specifies WGS84 lat long.\n",
    "#                                              # Anyone know how to specify the \n",
    "#                                              # IAU2000:49900 Mars encoding?\n",
    "# output_raster.SetProjection( srs.ExportToWkt() )   # Exports the coordinate system \n",
    "#                                                    # to the file\n",
    "# output_raster.GetRasterBand(1).WriteArray(breaks_plot_years)   # Writes my array to the raster\n",
    "\n",
    "# output_raster.FlushCache()\n",
    "\n",
    "# output_raster"
   ]
  },
  {
   "cell_type": "code",
   "execution_count": 98,
   "metadata": {},
   "outputs": [
    {
     "name": "stdout",
     "output_type": "stream",
     "text": [
      "[[ 5.  1.  4.  4.  0.  5.  2.  2.  1.  4.  0.  0.  4.  4.]\n",
      " [ 4.  0.  4.  4.  6.  6.  6.  6.  3.  4.  1.  1.  2.  4.]\n",
      " [ 2.  3. nan nan nan  4.  0.  0.  0.  3.  3.  3.  2.  3.]\n",
      " [ 3.  2.  2.  2.  1.  2.  2.  2.  1.  2.  1.  1.  2.  0.]\n",
      " [ 2.  2.  2.  2.  4.  2.  2.  2.  1.  4.  2.  2.  0.  0.]\n",
      " [ 2.  2.  2.  2.  2.  1.  2.  2.  0.  0.  2.  2.  1.  2.]\n",
      " [ 4.  4.  4.  4.  2. nan  4.  4.  4.  4.  2.  2.  2.  2.]\n",
      " [nan  4.  4.  4. nan nan  3.  3.  2.  1.  2.  2.  4.  4.]]\n",
      "[[  0.1996008    0.99009901   0.24937656   0.24937656 100.\n",
      "    0.1996008    0.49751244   0.49751244   0.99009901   0.24937656\n",
      "  100.         100.           0.24937656   0.24937656]\n",
      " [  0.24937656 100.           0.24937656   0.24937656   0.16638935\n",
      "    0.16638935   0.16638935   0.16638935   0.33222591   0.24937656\n",
      "    0.99009901   0.99009901   0.49751244   0.24937656]\n",
      " [  0.49751244   0.33222591          nan          nan          nan\n",
      "    0.24937656 100.         100.         100.           0.33222591\n",
      "    0.33222591   0.33222591   0.49751244   0.33222591]\n",
      " [  0.33222591   0.49751244   0.49751244   0.49751244   0.99009901\n",
      "    0.49751244   0.49751244   0.49751244   0.99009901   0.49751244\n",
      "    0.99009901   0.99009901   0.49751244 100.        ]\n",
      " [  0.49751244   0.49751244   0.49751244   0.49751244   0.24937656\n",
      "    0.49751244   0.49751244   0.49751244   0.99009901   0.24937656\n",
      "    0.49751244   0.49751244 100.         100.        ]\n",
      " [  0.49751244   0.49751244   0.49751244   0.49751244   0.49751244\n",
      "    0.99009901   0.49751244   0.49751244 100.         100.\n",
      "    0.49751244   0.49751244   0.99009901   0.49751244]\n",
      " [  0.24937656   0.24937656   0.24937656   0.24937656   0.49751244\n",
      "           nan   0.24937656   0.24937656   0.24937656   0.24937656\n",
      "    0.49751244   0.49751244   0.49751244   0.49751244]\n",
      " [         nan   0.24937656   0.24937656   0.24937656          nan\n",
      "           nan   0.33222591   0.33222591   0.49751244   0.99009901\n",
      "    0.49751244   0.49751244   0.24937656   0.24937656]]\n"
     ]
    }
   ],
   "source": [
    "print(breaks_plot_years)\n",
    "breaks_plot_years_norm = 1/(breaks_plot_years + 0.01)\n",
    "print(breaks_plot_years_norm)"
   ]
  },
  {
   "cell_type": "code",
   "execution_count": 99,
   "metadata": {},
   "outputs": [],
   "source": [
    "#cmap = plt.get_cmap(\"Oranges\")\n",
    "\n",
    "#cmaplist = [cmap(i) for i in range(cmap.N)]\n",
    "\n",
    "#cmap = cmap.from_list('Custom cmap', cmaplist, cmap.N)\n",
    "\n",
    "from matplotlib import cm\n",
    "from matplotlib.colors import ListedColormap, LinearSegmentedColormap\n",
    "\n",
    "# viridis = cm.get_cmap('viridis', 12)\n",
    "# print(viridis)\n",
    "# print(viridis(0.56))\n",
    "\n",
    "viridis = cm.get_cmap('rainbow', 256)\n",
    "newcolors = viridis(np.linspace(0, 1, 256))\n",
    "pink = np.array([248/256, 24/256, 148/256, 0])\n",
    "newcolors[:1, :] = pink\n",
    "newcmp = ListedColormap(newcolors)"
   ]
  },
  {
   "cell_type": "code",
   "execution_count": 100,
   "metadata": {},
   "outputs": [
    {
     "ename": "NameError",
     "evalue": "name 'latitude' is not defined",
     "output_type": "error",
     "traceback": [
      "\u001b[0;31m---------------------------------------------------------------------------\u001b[0m",
      "\u001b[0;31mNameError\u001b[0m                                 Traceback (most recent call last)",
      "\u001b[0;32m<ipython-input-100-f35afe9be848>\u001b[0m in \u001b[0;36m<module>\u001b[0;34m\u001b[0m\n\u001b[0;32m----> 1\u001b[0;31m \u001b[0mprint\u001b[0m\u001b[0;34m(\u001b[0m\u001b[0mlatitude\u001b[0m\u001b[0;34m)\u001b[0m\u001b[0;34m\u001b[0m\u001b[0;34m\u001b[0m\u001b[0m\n\u001b[0m\u001b[1;32m      2\u001b[0m \u001b[0mprint\u001b[0m\u001b[0;34m(\u001b[0m\u001b[0mxpixelsize\u001b[0m\u001b[0;34m)\u001b[0m\u001b[0;34m\u001b[0m\u001b[0;34m\u001b[0m\u001b[0m\n\u001b[1;32m      3\u001b[0m \u001b[0mprint\u001b[0m\u001b[0;34m(\u001b[0m\u001b[0mcols\u001b[0m\u001b[0;34m)\u001b[0m\u001b[0;34m\u001b[0m\u001b[0;34m\u001b[0m\u001b[0m\n\u001b[1;32m      4\u001b[0m \u001b[0mprint\u001b[0m\u001b[0;34m(\u001b[0m\u001b[0mlongitude\u001b[0m\u001b[0;34m)\u001b[0m\u001b[0;34m\u001b[0m\u001b[0;34m\u001b[0m\u001b[0m\n\u001b[1;32m      5\u001b[0m \u001b[0mprint\u001b[0m\u001b[0;34m(\u001b[0m\u001b[0mypixelsize\u001b[0m\u001b[0;34m)\u001b[0m\u001b[0;34m\u001b[0m\u001b[0;34m\u001b[0m\u001b[0m\n",
      "\u001b[0;31mNameError\u001b[0m: name 'latitude' is not defined"
     ]
    }
   ],
   "source": [
    "print(latitude)\n",
    "print(xpixelsize)\n",
    "print(cols)\n",
    "print(longitude)\n",
    "print(ypixelsize)\n",
    "print(rows)"
   ]
  },
  {
   "cell_type": "code",
   "execution_count": 101,
   "metadata": {},
   "outputs": [
    {
     "ename": "NameError",
     "evalue": "name 'latitude' is not defined",
     "output_type": "error",
     "traceback": [
      "\u001b[0;31m---------------------------------------------------------------------------\u001b[0m",
      "\u001b[0;31mNameError\u001b[0m                                 Traceback (most recent call last)",
      "\u001b[0;32m<ipython-input-101-707ca39fb391>\u001b[0m in \u001b[0;36m<module>\u001b[0;34m\u001b[0m\n\u001b[1;32m      1\u001b[0m \u001b[0;32mfrom\u001b[0m \u001b[0mfolium\u001b[0m\u001b[0;34m.\u001b[0m\u001b[0mplugins\u001b[0m \u001b[0;32mimport\u001b[0m \u001b[0mFloatImage\u001b[0m\u001b[0;34m\u001b[0m\u001b[0;34m\u001b[0m\u001b[0m\n\u001b[1;32m      2\u001b[0m \u001b[0;32mimport\u001b[0m \u001b[0mbase64\u001b[0m\u001b[0;34m\u001b[0m\u001b[0;34m\u001b[0m\u001b[0m\n\u001b[0;32m----> 3\u001b[0;31m \u001b[0mm\u001b[0m \u001b[0;34m=\u001b[0m \u001b[0mfolium\u001b[0m\u001b[0;34m.\u001b[0m\u001b[0mfolium\u001b[0m\u001b[0;34m.\u001b[0m\u001b[0mMap\u001b[0m\u001b[0;34m(\u001b[0m\u001b[0mlocation\u001b[0m \u001b[0;34m=\u001b[0m \u001b[0;34m(\u001b[0m\u001b[0mlatitude\u001b[0m\u001b[0;34m,\u001b[0m\u001b[0mlongitude\u001b[0m\u001b[0;34m)\u001b[0m\u001b[0;34m,\u001b[0m\u001b[0mtiles\u001b[0m \u001b[0;34m=\u001b[0m \u001b[0;34m\"Stamen Terrain\"\u001b[0m\u001b[0;34m,\u001b[0m\u001b[0mzoom_start\u001b[0m\u001b[0;34m=\u001b[0m\u001b[0;36m13\u001b[0m\u001b[0;34m)\u001b[0m\u001b[0;34m\u001b[0m\u001b[0;34m\u001b[0m\u001b[0m\n\u001b[0m\u001b[1;32m      4\u001b[0m \u001b[0;34m\u001b[0m\u001b[0m\n\u001b[1;32m      5\u001b[0m \u001b[0;31m# if not all data is\u001b[0m\u001b[0;34m\u001b[0m\u001b[0;34m\u001b[0m\u001b[0;34m\u001b[0m\u001b[0m\n",
      "\u001b[0;31mNameError\u001b[0m: name 'latitude' is not defined"
     ]
    }
   ],
   "source": [
    "from folium.plugins import FloatImage\n",
    "import base64\n",
    "m = folium.folium.Map(location = (latitude,longitude),tiles = \"Stamen Terrain\",zoom_start=13)\n",
    "\n",
    "# if not all data is \n",
    "#rows = 200\n",
    "#cols = 200\n",
    "\n",
    "\n",
    "# bounds = [[lat_min, lon_min], [lat_max, lon_max]]\n",
    "\n",
    "folium.raster_layers.ImageOverlay(\n",
    "    image=breaks_plot_years_norm,\n",
    "    bounds=[[latitude, longitude], [latitude + rows*xpixelsize, longitude + cols*xpixelsize]],\n",
    "    colormap = newcmp\n",
    ").add_to(m)\n",
    "img = \"output/picture.png\" \n",
    "\n",
    "\n",
    "####\n",
    "resolution, width, height = 75, 4,4\n",
    "encoded = base64.b64encode(open(\"output/picture.png\", 'rb').read()).decode()\n",
    "from folium import IFrame\n",
    "\n",
    "html = '<img src=\"data:image/png;base64,{}\">'.format\n",
    "iframe = IFrame(html(encoded), width=(width*resolution)+20, height=(height*resolution)+20)\n",
    "popup = folium.Popup(iframe, max_width=2650)\n",
    "\n",
    "icon = folium.Icon(color=\"red\", icon=\"ok\")\n",
    "marker = folium.Marker(location=[latitude, longitude], popup=popup, icon=icon)\n",
    "marker.add_to(m)\n",
    "####\n",
    "\n",
    "m.save(os.path.join('output/PortugalBigger.html'))\n",
    "m"
   ]
  },
  {
   "cell_type": "code",
   "execution_count": null,
   "metadata": {},
   "outputs": [],
   "source": []
  },
  {
   "cell_type": "code",
   "execution_count": null,
   "metadata": {},
   "outputs": [],
   "source": []
  }
 ],
 "metadata": {
  "kernelspec": {
   "display_name": "bfastmonitor_cpu",
   "language": "python",
   "name": "bfastmonitor_cpu"
  },
  "language_info": {
   "codemirror_mode": {
    "name": "ipython",
    "version": 3
   },
   "file_extension": ".py",
   "mimetype": "text/x-python",
   "name": "python",
   "nbconvert_exporter": "python",
   "pygments_lexer": "ipython3",
   "version": "3.6.9"
  }
 },
 "nbformat": 4,
 "nbformat_minor": 4
}
