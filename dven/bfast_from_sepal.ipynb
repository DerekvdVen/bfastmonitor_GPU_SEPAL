{
 "cells": [
  {
   "cell_type": "markdown",
   "metadata": {},
   "source": [
    "# Bfastmonitor CPU using Python\n",
    "## This is bfastmonitor Python"
   ]
  },
  {
   "cell_type": "code",
   "execution_count": 1,
   "metadata": {},
   "outputs": [],
   "source": [
    "import os\n",
    "import wget\n",
    "import numpy as np\n",
    "from datetime import datetime\n",
    "\n",
    "from bfast import BFASTMonitor\n",
    "from bfast.utils import crop_data_dates\n",
    "\n",
    "import copy\n",
    "\n",
    "import matplotlib\n",
    "import matplotlib.pyplot as plt\n",
    "\n",
    "#from sar so extra\n",
    "import csv\n",
    "from shutil import copyfile\n",
    "import pandas as pd\n",
    "from osgeo import gdal\n",
    "from osgeo import gdal_array\n",
    "from osgeo import osr\n",
    "\n",
    "import time\n",
    "import ipywidgets as widgets\n",
    "\n",
    "import ipyfilechooser\n",
    "import folium"
   ]
  },
  {
   "cell_type": "code",
   "execution_count": 2,
   "metadata": {},
   "outputs": [],
   "source": [
    "%matplotlib inline"
   ]
  },
  {
   "cell_type": "markdown",
   "metadata": {},
   "source": [
    "## Select the time series data folder in your downloads folder. Alternatively, select a different time series folder using ipyfilechooser"
   ]
  },
  {
   "cell_type": "code",
   "execution_count": 3,
   "metadata": {},
   "outputs": [
    {
     "data": {
      "application/vnd.jupyter.widget-view+json": {
       "model_id": "397323e4147c48379ecd6b41510ab134",
       "version_major": 2,
       "version_minor": 0
      },
      "text/plain": [
       "interactive(children=(Combobox(value='', description='Select your time series folder: ', options=('gfc', 'Time…"
      ]
     },
     "metadata": {},
     "output_type": "display_data"
    },
    {
     "data": {
      "application/vnd.jupyter.widget-view+json": {
       "model_id": "1c5fe587b3804d2087aa0f001b0b4106",
       "version_major": 2,
       "version_minor": 0
      },
      "text/plain": [
       "interactive(children=(Text(value='', description='Output storage name:', placeholder='output', style=Descripti…"
      ]
     },
     "metadata": {},
     "output_type": "display_data"
    }
   ],
   "source": [
    "from os.path import expanduser\n",
    "path = expanduser(\"~\")\n",
    "\n",
    "def f(time_series):\n",
    "    return(time_series)\n",
    "def g(directory):\n",
    "    return(directory)\n",
    "\n",
    "time_series_folder = widgets.interactive(f, \n",
    "                        time_series=widgets.Combobox(options=os.listdir(path + \"/downloads/\"),\n",
    "                                                     description=\"Select your time series folder: \",\n",
    "                                                     style = {'description_width': 'initial'},\n",
    "                                                     placeholder = \"Time_series_...\"))\n",
    "                            \n",
    "output_directory_name = widgets.interactive(g, \n",
    "                        directory=widgets.Text(description=\"Output storage name:\", \n",
    "                                               style = {'description_width': 'initial'},\n",
    "                                               placeholder = \"output\"))\n",
    "\n",
    "display(time_series_folder)\n",
    "display(output_directory_name)\n",
    "\n",
    "\n",
    "# how to have the thing wait untill a user fills in the time series"
   ]
  },
  {
   "cell_type": "code",
   "execution_count": 22,
   "metadata": {},
   "outputs": [
    {
     "name": "stdout",
     "output_type": "stream",
     "text": [
      "Chosen timeseries:  /home/dven/downloads/Time_series_2020-07-06_16-31-46/1/\n",
      "Defaulting to output directory name \"output\" \n"
     ]
    }
   ],
   "source": [
    "timeseries_directory = time_series_folder.result\n",
    "output_directory = output_directory_name.result\n",
    "\n",
    "if not time_series_folder.result:\n",
    "    raise Exception(\"No timeseries selected. Please choose a timeseries folder above. \")\n",
    "else:\n",
    "    timeseries_directory = path + \"/downloads/\" + time_series_folder.result + \"/1/\"\n",
    "    print(\"Chosen timeseries: \", timeseries_directory)\n",
    "\n",
    "\n",
    "if not output_directory_name.result:\n",
    "    print(\"Defaulting to output directory name \\\"output\\\" \")\n",
    "    data_directory = \"output\"\n",
    "    os.makedirs(data_directory)\n",
    "else:\n",
    "    data_directory = output_directory_name.result\n",
    "    print(\"Output directory name:\", data_directory)\n",
    "    os.makedirs(data_directory)\n"
   ]
  },
  {
   "cell_type": "code",
   "execution_count": 6,
   "metadata": {
    "scrolled": true
   },
   "outputs": [
    {
     "name": "stdout",
     "output_type": "stream",
     "text": [
      "Number of  bands: 939\n",
      "Number of pixels: 1326\n",
      "Number of  lines: 1184\n",
      "Pixel size: (0.0002694945852358618, -0.0002694945852358618)\n",
      "Latitude and longitude: (40.37055836291653, -8.31282997618523)\n",
      "Transferring data took 392.77649998664856 seconds.\n"
     ]
    }
   ],
   "source": [
    "start_time = time.time()\n",
    "\n",
    "\n",
    "# set paths to data\n",
    "time_series_path = os.path.join(timeseries_directory, 'stack.vrt') ## never start os path with a slash\n",
    "dates_path = os.path.join(timeseries_directory, \"dates.csv\")\n",
    "\n",
    "# load in time series and its metadata\n",
    "time_series = gdal.Open(time_series_path)\n",
    "raster_stack = time_series.ReadAsArray()\n",
    "\n",
    "geotransform = time_series.GetGeoTransform()\n",
    "xpixelsize = time_series.GetGeoTransform()[1]\n",
    "ypixelsize = time_series.GetGeoTransform()[5]\n",
    "latitude = time_series.GetGeoTransform()[3]\n",
    "longitude = time_series.GetGeoTransform()[0]\n",
    "cols = time_series.RasterXSize\n",
    "rows = time_series.RasterYSize\n",
    "\n",
    "print(f\"Number of  bands: {time_series.RasterCount}\")\n",
    "print(f\"Number of pixels: {cols}\")\n",
    "print(f\"Number of  lines: {rows}\")\n",
    "print(f\"Pixel size: {xpixelsize, ypixelsize}\")\n",
    "print(f\"Latitude and longitude: {latitude,longitude}\")\n",
    "\n",
    "\n",
    "end_time = time.time()\n",
    "print(\"Loading data took {} seconds.\".format(end_time - start_time))"
   ]
  },
  {
   "cell_type": "code",
   "execution_count": 65,
   "metadata": {},
   "outputs": [],
   "source": []
  },
  {
   "cell_type": "code",
   "execution_count": 7,
   "metadata": {
    "scrolled": true
   },
   "outputs": [],
   "source": [
    "#Fabians code\n",
    "data_orig = raster_stack\n",
    "\n",
    "with open(dates_path) as f:\n",
    "    dates_list = f.read().split('\\n')\n",
    "    dates = [datetime.strptime(d, '%Y-%m-%d') for d in dates_list if len(d) > 0]"
   ]
  },
  {
   "cell_type": "code",
   "execution_count": 8,
   "metadata": {},
   "outputs": [
    {
     "name": "stdout",
     "output_type": "stream",
     "text": [
      "2002-01-06 00:00:00\n"
     ]
    }
   ],
   "source": [
    "# parameters\n",
    "k = 3\n",
    "freq = 365\n",
    "trend = False\n",
    "hfrac = 0.25\n",
    "level = 0.05\n",
    "start_hist = datetime(2002, 1, 1)\n",
    "start_monitor = datetime(2010, 1, 1)\n",
    "end_monitor = datetime(2018, 1, 1)\n",
    "position = (100,100)\n",
    "\n",
    "print(dates[0])"
   ]
  },
  {
   "cell_type": "code",
   "execution_count": 23,
   "metadata": {},
   "outputs": [
    {
     "name": "stdout",
     "output_type": "stream",
     "text": [
      "start monitoring period 2002-01-14 00:00:00\n"
     ]
    },
    {
     "data": {
      "application/vnd.jupyter.widget-view+json": {
       "model_id": "e0e7d70694244f0c8beceb9d8a431b7b",
       "version_major": 2,
       "version_minor": 0
      },
      "text/plain": [
       "interactive(children=(SelectionRangeSlider(description='Select the monitoring date range: ', index=(0, 6680), …"
      ]
     },
     "metadata": {},
     "output_type": "display_data"
    }
   ],
   "source": [
    "start_date = dates[10] # 0 or 10 does not work.. 100 did\n",
    "print(\"start monitoring period\",start_date)\n",
    "end_date = dates[-1]\n",
    "\n",
    "def h(y):\n",
    "    return(y)\n",
    "\n",
    "pandas_dates = pd.date_range(start_date, end_date, freq='D')\n",
    "\n",
    "options = [(date.strftime(' %d %b %Y '), date) for date in pandas_dates]\n",
    "index = (0, len(options)-1)\n",
    "\n",
    "\n",
    "start_end_date = widgets.interactive(h,\n",
    "                                     y=widgets.SelectionRangeSlider(\n",
    "                                            options=options,\n",
    "                                            index=index,\n",
    "                                            description='Select the monitoring date range: ',\n",
    "                                            style = {'description_width': 'initial'},\n",
    "                                            orientation='horizontal',\n",
    "                                            layout={'width': '800px',\"height\":\"200px\"}))\n",
    "display(start_end_date)"
   ]
  },
  {
   "cell_type": "code",
   "execution_count": 24,
   "metadata": {},
   "outputs": [
    {
     "name": "stdout",
     "output_type": "stream",
     "text": [
      "start monitor:  2015-07-19 00:00:00\n",
      "end monitor:  2020-04-29 00:00:00\n"
     ]
    }
   ],
   "source": [
    "start_monitor, end_monitor = start_end_date.result\n",
    "print(\"start monitor: \",start_monitor)\n",
    "print(\"end monitor: \",end_monitor)"
   ]
  },
  {
   "cell_type": "code",
   "execution_count": 36,
   "metadata": {},
   "outputs": [
    {
     "name": "stdout",
     "output_type": "stream",
     "text": [
      "First date: 2002-01-06 00:00:00\n",
      "Last date: 2020-04-29 00:00:00\n",
      "Shape of data array: (922, 1184, 1326)\n"
     ]
    }
   ],
   "source": [
    "data, dates = crop_data_dates(data_orig, dates, start_hist, end_monitor)\n",
    "print(\"First date: {}\".format(dates[0]))\n",
    "print(\"Last date: {}\".format(dates[-1]))\n",
    "print(\"Shape of data array: {}\".format(data.shape))"
   ]
  },
  {
   "cell_type": "code",
   "execution_count": 38,
   "metadata": {
    "scrolled": true
   },
   "outputs": [
    {
     "name": "stdout",
     "output_type": "stream",
     "text": [
      "Processing row 0\n",
      "Processing row 1\n",
      "Processing row 2\n",
      "Processing row 3\n",
      "Processing row 4\n",
      "Processing row 5\n",
      "Processing row 6\n",
      "Processing row 7\n",
      "Processing row 8\n",
      "Processing row 9\n",
      "Processing row 10\n",
      "Processing row 11\n",
      "Processing row 12\n",
      "Processing row 13\n",
      "Processing row 14\n",
      "Processing row 15\n",
      "Processing row 16\n",
      "Processing row 17\n",
      "Processing row 18\n",
      "Processing row 19\n",
      "Processing row 20\n",
      "Processing row 21\n",
      "Processing row 22\n",
      "Processing row 23\n",
      "Processing row 24\n",
      "Processing row 25\n",
      "Processing row 26\n",
      "Processing row 27\n",
      "Processing row 28\n",
      "Processing row 29\n",
      "Processing row 30\n",
      "Processing row 31\n",
      "Processing row 32\n",
      "Processing row 33\n",
      "Processing row 34\n",
      "Processing row 35\n",
      "Processing row 36\n",
      "Processing row 37\n",
      "Processing row 38\n",
      "Processing row 39\n",
      "Processing row 40\n",
      "Processing row 41\n",
      "Processing row 42\n",
      "Processing row 43\n",
      "Processing row 44\n",
      "Processing row 45\n",
      "Processing row 46\n",
      "Processing row 47\n",
      "Processing row 48\n",
      "Processing row 49\n",
      "Processing row 50\n",
      "Processing row 51\n",
      "Processing row 52\n",
      "Processing row 53\n",
      "Processing row 54\n",
      "Processing row 55\n",
      "Processing row 56\n",
      "Processing row 57\n",
      "Processing row 58\n",
      "Processing row 59\n",
      "Processing row 60\n",
      "Processing row 61\n",
      "Processing row 62\n",
      "Processing row 63\n",
      "Processing row 64\n",
      "Processing row 65\n",
      "Processing row 66\n",
      "Processing row 67\n",
      "Processing row 68\n",
      "Processing row 69\n",
      "Processing row 70\n",
      "Processing row 71\n",
      "Processing row 72\n",
      "Processing row 73\n",
      "Processing row 74\n",
      "Processing row 75\n",
      "Processing row 76\n",
      "Processing row 77\n",
      "Processing row 78\n",
      "Processing row 79\n",
      "Processing row 80\n",
      "Processing row 81\n",
      "Processing row 82\n",
      "Processing row 83\n",
      "Processing row 84\n",
      "Processing row 85\n",
      "Processing row 86\n",
      "Processing row 87\n",
      "Processing row 88\n",
      "Processing row 89\n",
      "Processing row 90\n",
      "Processing row 91\n",
      "Processing row 92\n",
      "Processing row 93\n",
      "Processing row 94\n",
      "Processing row 95\n",
      "Processing row 96\n",
      "Processing row 97\n",
      "Processing row 98\n",
      "Processing row 99\n",
      "Processing row 100\n",
      "Processing row 101\n",
      "Processing row 102\n",
      "Processing row 103\n",
      "Processing row 104\n",
      "Processing row 105\n",
      "Processing row 106\n",
      "Processing row 107\n",
      "Processing row 108\n",
      "Processing row 109\n",
      "Processing row 110\n",
      "Processing row 111\n",
      "Processing row 112\n",
      "Processing row 113\n",
      "Processing row 114\n",
      "Processing row 115\n",
      "Processing row 116\n",
      "Processing row 117\n",
      "Processing row 118\n",
      "Processing row 119\n",
      "Processing row 120\n",
      "Processing row 121\n",
      "Processing row 122\n",
      "Processing row 123\n",
      "Processing row 124\n",
      "Processing row 125\n",
      "Processing row 126\n",
      "Processing row 127\n",
      "Processing row 128\n",
      "Processing row 129\n",
      "Processing row 130\n",
      "Processing row 131\n",
      "Processing row 132\n",
      "Processing row 133\n",
      "Processing row 134\n",
      "Processing row 135\n",
      "Processing row 136\n",
      "Processing row 137\n",
      "Processing row 138\n",
      "Processing row 139\n",
      "Processing row 140\n",
      "Processing row 141\n",
      "Processing row 142\n",
      "Processing row 143\n",
      "Processing row 144\n",
      "Processing row 145\n",
      "Processing row 146\n",
      "Processing row 147\n",
      "Processing row 148\n",
      "Processing row 149\n",
      "Processing row 150\n",
      "Processing row 151\n",
      "Processing row 152\n",
      "Processing row 153\n",
      "Processing row 154\n",
      "Processing row 155\n",
      "Processing row 156\n",
      "Processing row 157\n",
      "Processing row 158\n",
      "Processing row 159\n",
      "Processing row 160\n",
      "Processing row 161\n",
      "Processing row 162\n",
      "Processing row 163\n",
      "Processing row 164\n",
      "Processing row 165\n",
      "Processing row 166\n",
      "Processing row 167\n",
      "Processing row 168\n",
      "Processing row 169\n",
      "Processing row 170\n",
      "Processing row 171\n",
      "Processing row 172\n",
      "Processing row 173\n",
      "Processing row 174\n",
      "Processing row 175\n",
      "Processing row 176\n",
      "Processing row 177\n",
      "Processing row 178\n",
      "Processing row 179\n",
      "Processing row 180\n",
      "Processing row 181\n",
      "Processing row 182\n",
      "Processing row 183\n",
      "Processing row 184\n",
      "Processing row 185\n",
      "Processing row 186\n",
      "Processing row 187\n",
      "Processing row 188\n",
      "Processing row 189\n",
      "Processing row 190\n",
      "Processing row 191\n",
      "Processing row 192\n",
      "Processing row 193\n",
      "Processing row 194\n",
      "Processing row 195\n",
      "Processing row 196\n",
      "Processing row 197\n",
      "Processing row 198\n",
      "Processing row 199\n",
      "Fitting model took 267.9833812713623 seconds.\n"
     ]
    }
   ],
   "source": [
    "# fit BFAST using the CPU implementation (single pixel)\n",
    "from numpy import nan\n",
    "\n",
    "start_time = time.time()\n",
    "\n",
    "\n",
    "model = BFASTMonitor(\n",
    "            start_monitor,\n",
    "            freq=freq,\n",
    "            k=k,\n",
    "            hfrac=hfrac,\n",
    "            trend=trend,\n",
    "            level=level,\n",
    "            backend='python',\n",
    "            verbose=1\n",
    "            )\n",
    "\n",
    "# only apply on a small subset\n",
    "data = data[:,:200,:200]\n",
    "model.fit(data, dates, nan_value=nan) #changed to nan\n",
    "\n",
    "end_time = time.time()\n",
    "print(\"Fitting model took {} seconds.\".format(end_time - start_time))\n"
   ]
  },
  {
   "cell_type": "code",
   "execution_count": 39,
   "metadata": {
    "scrolled": true
   },
   "outputs": [],
   "source": [
    "# select only negative magnitudes\n",
    "breaks = model.breaks # index of date that has a break in dates\n",
    "means = model.means # magnitudes of breaks\n",
    "\n",
    "no_breaks_indices = (breaks == -1)\n",
    "means[no_breaks_indices] = 0\n",
    "means[means > 0] = 0 # only want negative mean changes\n",
    "\n",
    "breaks_plot = breaks.astype(np.float)\n",
    "breaks_plot[breaks == -2] = np.nan\n",
    "breaks_plot[breaks == -1] = np.nan\n",
    "breaks_plot[means >= 0] = np.nan\n"
   ]
  },
  {
   "cell_type": "code",
   "execution_count": 40,
   "metadata": {},
   "outputs": [],
   "source": [
    "dates_monitor = []\n",
    "\n",
    "# collect dates for monitor period\n",
    "for i in range(len(dates)):\n",
    "    if start_monitor <= dates[i]:\n",
    "        dates_monitor.append(dates[i])\n",
    "dates_array = np.array(dates_monitor) # dates_array is the dates that are in the monitoring period\n"
   ]
  },
  {
   "cell_type": "code",
   "execution_count": 41,
   "metadata": {},
   "outputs": [
    {
     "name": "stdout",
     "output_type": "stream",
     "text": [
      "{2015: 0, 2016: 37, 2017: 112, 2018: 193, 2019: 263}\n",
      "['2015', '2016', '2017', '2018', '2019']\n",
      "[[nan nan nan ... nan nan nan]\n",
      " [ 3.  3.  2. ... nan nan nan]\n",
      " [ 2.  2.  0. ... nan nan nan]\n",
      " ...\n",
      " [nan nan nan ... nan nan nan]\n",
      " [nan nan nan ... nan nan nan]\n",
      " [nan nan nan ... nan nan nan]]\n"
     ]
    }
   ],
   "source": [
    "idx_starts = {}\n",
    "\n",
    "# this gives the index of all the data points in the year and after\n",
    "for year in range(start_monitor.year,end_monitor.year):\n",
    "    idx_starts[year] = np.argmax((dates_array >= datetime(year, 1, 1)) > False) \n",
    "    \n",
    "print(idx_starts)\n",
    "breaks_plot_years = copy.deepcopy(breaks_plot)\n",
    "\n",
    "#classifying for plotting\n",
    "ticklist=[]\n",
    "for idx, year in enumerate(idx_starts):\n",
    "    ticklist.append(str(year))\n",
    "\n",
    "    if idx == 0:\n",
    "        breaks_plot_years[breaks_plot <= idx_starts[year+1]] = 0\n",
    "        continue\n",
    "    \n",
    "    if idx == len(idx_starts)-1:\n",
    "        breaks_plot_years[np.where(idx_starts[year] < breaks_plot)] = len(idx_starts)-1\n",
    "        continue\n",
    "        \n",
    "    breaks_plot_years[np.where(np.logical_and(idx_starts[year] < breaks_plot, breaks_plot <= idx_starts[year+1]))] = idx\n",
    "print(ticklist)\n",
    "print(breaks_plot_years)"
   ]
  },
  {
   "cell_type": "code",
   "execution_count": 42,
   "metadata": {},
   "outputs": [
    {
     "data": {
      "image/png": "[encoded data removed]",
      "text/plain": [
       "<Figure size 720x720 with 2 Axes>"
      ]
     },
     "metadata": {
      "needs_background": "light"
     },
     "output_type": "display_data"
    }
   ],
   "source": [
    "bins = len(idx_starts)\n",
    "\n",
    "cmap = plt.get_cmap(\"rainbow\")\n",
    "cmaplist = [cmap(i) for i in range(cmap.N)]\n",
    "cmap = cmap.from_list('Custom cmap', cmaplist, cmap.N)\n",
    "\n",
    "bounds = np.linspace(0, bins-1, bins) #third number is the amount of bins in the colorbar 0=0, 6 = ncolors, 7= nyears\n",
    "norm = matplotlib.colors.BoundaryNorm(bounds, cmap.N)\n",
    "\n",
    "fig, axes = plt.subplots(nrows=1, ncols=1, figsize=(10, 10))\n",
    "im = axes.imshow(breaks_plot_years, cmap=cmap, vmin=0, vmax=bins, norm=norm)\n",
    "fig.subplots_adjust(right=0.8)\n",
    "cbar_ax = fig.add_axes([0.85, 0.15, 0.05, 0.7])\n",
    "fig.colorbar(im, cax=cbar_ax, ticks=range(bins))\n",
    "labels = cbar_ax.set_yticklabels(ticklist)\n",
    "\n",
    "plt.savefig(\"./output/picture.png\")\n",
    "plt.show()\n"
   ]
  },
  {
   "cell_type": "code",
   "execution_count": 83,
   "metadata": {},
   "outputs": [],
   "source": [
    "# #this doesn't work yet\n",
    "\n",
    "# output_raster = gdal.GetDriverByName('GTiff').Create('myraster.tif',cols, rows, 1 ,gdal.GDT_Float32)  # Open the file\n",
    "\n",
    "# output_raster.SetGeoTransform(geotransform)  # Specify its coordinates\n",
    "# srs = osr.SpatialReference()                 # Establish its coordinate encoding\n",
    "# srs.ImportFromEPSG(4326)                     # This one specifies WGS84 lat long.\n",
    "#                                              # Anyone know how to specify the \n",
    "#                                              # IAU2000:49900 Mars encoding?\n",
    "# output_raster.SetProjection( srs.ExportToWkt() )   # Exports the coordinate system \n",
    "#                                                    # to the file\n",
    "# output_raster.GetRasterBand(1).WriteArray(breaks_plot_years)   # Writes my array to the raster\n",
    "\n",
    "# output_raster.FlushCache()\n",
    "\n",
    "# output_raster"
   ]
  },
  {
   "cell_type": "code",
   "execution_count": 45,
   "metadata": {},
   "outputs": [
    {
     "name": "stdout",
     "output_type": "stream",
     "text": [
      "[[nan nan nan ... nan nan nan]\n",
      " [ 3.  3.  2. ... nan nan nan]\n",
      " [ 2.  2.  0. ... nan nan nan]\n",
      " ...\n",
      " [nan nan nan ... nan nan nan]\n",
      " [nan nan nan ... nan nan nan]\n",
      " [nan nan nan ... nan nan nan]]\n",
      "[[       nan        nan        nan ...        nan        nan        nan]\n",
      " [0.25       0.25       0.33333333 ...        nan        nan        nan]\n",
      " [0.33333333 0.33333333 1.         ...        nan        nan        nan]\n",
      " ...\n",
      " [       nan        nan        nan ...        nan        nan        nan]\n",
      " [       nan        nan        nan ...        nan        nan        nan]\n",
      " [       nan        nan        nan ...        nan        nan        nan]]\n"
     ]
    }
   ],
   "source": [
    "print(breaks_plot_years)\n",
    "breaks_plot_years_norm = 1/(breaks_plot_years + 1)\n",
    "print(breaks_plot_years_norm)"
   ]
  },
  {
   "cell_type": "code",
   "execution_count": 102,
   "metadata": {},
   "outputs": [
    {
     "name": "stdout",
     "output_type": "stream",
     "text": [
      "<matplotlib.colors.ListedColormap object at 0x7f0fee2eda58>\n",
      "(0.119512, 0.607464, 0.540218, 1.0)\n"
     ]
    }
   ],
   "source": [
    "#cmap = plt.get_cmap(\"Oranges\")\n",
    "\n",
    "#cmaplist = [cmap(i) for i in range(cmap.N)]\n",
    "\n",
    "#cmap = cmap.from_list('Custom cmap', cmaplist, cmap.N)\n",
    "\n",
    "from matplotlib import cm\n",
    "\n",
    "viridis = cm.get_cmap('viridis', 12)\n",
    "print(viridis)\n",
    "print(viridis(0.56))"
   ]
  },
  {
   "cell_type": "code",
   "execution_count": 103,
   "metadata": {},
   "outputs": [
    {
     "data": {
      "text/html": [
       "<div style=\"width:100%;\"><div style=\"position:relative;width:100%;height:0;padding-bottom:60%;\"><span style=\"color:#565656\">Make this Notebook Trusted to load map: File -> Trust Notebook</span><iframe src=\"about:blank\" style=\"position:absolute;width:100%;height:100%;left:0;top:0;border:none !important;\" data-html=PCFET0NUWVBFIGh0bWw+CjxoZWFkPiAgICAKICAgIDxtZXRhIGh0dHAtZXF1aXY9ImNvbnRlbnQtdHlwZSIgY29udGVudD0idGV4dC9odG1sOyBjaGFyc2V0PVVURi04IiAvPgogICAgCiAgICAgICAgPHNjcmlwdD4KICAgICAgICAgICAgTF9OT19UT1VDSCA9IGZhbHNlOwogICAgICAgICAgICBMX0RJU0FCTEVfM0QgPSBmYWxzZTsKICAgICAgICA8L3NjcmlwdD4KICAgIAogICAgPHNjcmlwdCBzcmM9Imh0dHBzOi8vY2RuLmpzZGVsaXZyLm5ldC9ucG0vbGVhZmxldEAxLjYuMC9kaXN0L2xlYWZsZXQuanMiPjwvc2NyaXB0PgogICAgPHNjcmlwdCBzcmM9Imh0dHBzOi8vY29kZS5qcXVlcnkuY29tL2pxdWVyeS0xLjEyLjQubWluLmpzIj48L3NjcmlwdD4KICAgIDxzY3JpcHQgc3JjPSJodHRwczovL21heGNkbi5ib290c3RyYXBjZG4uY29tL2Jvb3RzdHJhcC8zLjIuMC9qcy9ib290c3RyYXAubWluLmpzIj48L3NjcmlwdD4KICAgIDxzY3JpcHQgc3JjPSJodHRwczovL2NkbmpzLmNsb3VkZmxhcmUuY29tL2FqYXgvbGlicy9MZWFmbGV0LmF3ZXNvbWUtbWFya2Vycy8yLjAuMi9sZWFmbGV0LmF3ZXNvbWUtbWFya2Vycy5qcyI+PC9zY3JpcHQ+CiAgICA8bGluayByZWw9InN0eWxlc2hlZXQiIGhyZWY9Imh0dHBzOi8vY2RuLmpzZGVsaXZyLm5ldC9ucG0vbGVhZmxldEAxLjYuMC9kaXN0L2xlYWZsZXQuY3NzIi8+CiAgICA8bGluayByZWw9InN0eWxlc2hlZXQiIGhyZWY9Imh0dHBzOi8vbWF4Y2RuLmJvb3RzdHJhcGNkbi5jb20vYm9vdHN0cmFwLzMuMi4wL2Nzcy9ib290c3RyYXAubWluLmNzcyIvPgogICAgPGxpbmsgcmVsPSJzdHlsZXNoZWV0IiBocmVmPSJodHRwczovL21heGNkbi5ib290c3RyYXBjZG4uY29tL2Jvb3RzdHJhcC8zLjIuMC9jc3MvYm9vdHN0cmFwLXRoZW1lLm1pbi5jc3MiLz4KICAgIDxsaW5rIHJlbD0ic3R5bGVzaGVldCIgaHJlZj0iaHR0cHM6Ly9tYXhjZG4uYm9vdHN0cmFwY2RuLmNvbS9mb250LWF3ZXNvbWUvNC42LjMvY3NzL2ZvbnQtYXdlc29tZS5taW4uY3NzIi8+CiAgICA8bGluayByZWw9InN0eWxlc2hlZXQiIGhyZWY9Imh0dHBzOi8vY2RuanMuY2xvdWRmbGFyZS5jb20vYWpheC9saWJzL0xlYWZsZXQuYXdlc29tZS1tYXJrZXJzLzIuMC4yL2xlYWZsZXQuYXdlc29tZS1tYXJrZXJzLmNzcyIvPgogICAgPGxpbmsgcmVsPSJzdHlsZXNoZWV0IiBocmVmPSJodHRwczovL3Jhd2Nkbi5naXRoYWNrLmNvbS9weXRob24tdmlzdWFsaXphdGlvbi9mb2xpdW0vbWFzdGVyL2ZvbGl1bS90ZW1wbGF0ZXMvbGVhZmxldC5hd2Vzb21lLnJvdGF0ZS5jc3MiLz4KICAgIDxzdHlsZT5odG1sLCBib2R5IHt3aWR0aDogMTAwJTtoZWlnaHQ6IDEwMCU7bWFyZ2luOiAwO3BhZGRpbmc6IDA7fTwvc3R5bGU+CiAgICA8c3R5bGU+I21hcCB7cG9zaXRpb246YWJzb2x1dGU7dG9wOjA7Ym90dG9tOjA7cmlnaHQ6MDtsZWZ0OjA7fTwvc3R5bGU+CiAgICAKICAgICAgICAgICAgPG1ldGEgbmFtZT0idmlld3BvcnQiIGNvbnRlbnQ9IndpZHRoPWRldmljZS13aWR0aCwKICAgICAgICAgICAgICAgIGluaXRpYWwtc2NhbGU9MS4wLCBtYXhpbXVtLXNjYWxlPTEuMCwgdXNlci1zY2FsYWJsZT1ubyIgLz4KICAgICAgICAgICAgPHN0eWxlPgogICAgICAgICAgICAgICAgI21hcF8wZWU5NTM3NTJhOGM0ZWU4ODU5OGRkMzlmZTg2YmNhNiB7CiAgICAgICAgICAgICAgICAgICAgcG9zaXRpb246IHJlbGF0aXZlOwogICAgICAgICAgICAgICAgICAgIHdpZHRoOiAxMDAuMCU7CiAgICAgICAgICAgICAgICAgICAgaGVpZ2h0OiAxMDAuMCU7CiAgICAgICAgICAgICAgICAgICAgbGVmdDogMC4wJTsKICAgICAgICAgICAgICAgICAgICB0b3A6IDAuMCU7CiAgICAgICAgICAgICAgICB9CiAgICAgICAgICAgIDwvc3R5bGU+CiAgICAgICAgCiAgICAKICAgICAgICAgICAgICAgIDxzdHlsZT4KICAgICAgICAgICAgICAgICAgICAubGVhZmxldC1pbWFnZS1sYXllciB7CiAgICAgICAgICAgICAgICAgICAgICAgIC8qIG9sZCBhbmRyb2lkL3NhZmFyaSovCiAgICAgICAgICAgICAgICAgICAgICAgIGltYWdlLXJlbmRlcmluZzogLXdlYmtpdC1vcHRpbWl6ZS1jb250cmFzdDsKICAgICAgICAgICAgICAgICAgICAgICAgaW1hZ2UtcmVuZGVyaW5nOiBjcmlzcC1lZGdlczsgLyogc2FmYXJpICovCiAgICAgICAgICAgICAgICAgICAgICAgIGltYWdlLXJlbmRlcmluZzogcGl4ZWxhdGVkOyAvKiBjaHJvbWUgKi8KICAgICAgICAgICAgICAgICAgICAgICAgaW1hZ2UtcmVuZGVyaW5nOiAtbW96LWNyaXNwLWVkZ2VzOyAvKiBmaXJlZm94ICovCiAgICAgICAgICAgICAgICAgICAgICAgIGltYWdlLXJlbmRlcmluZzogLW8tY3Jpc3AtZWRnZXM7IC8qIG9wZXJhICovCiAgICAgICAgICAgICAgICAgICAgICAgIC1tcy1pbnRlcnBvbGF0aW9uLW1vZGU6IG5lYXJlc3QtbmVpZ2hib3I7IC8qIGllICovCiAgICAgICAgICAgICAgICAgICAgfQogICAgICAgICAgICAgICAgPC9zdHlsZT4KICAgICAgICAgICAgCjwvaGVhZD4KPGJvZHk+ICAgIAogICAgCiAgICAgICAgICAgIDxkaXYgY2xhc3M9ImZvbGl1bS1tYXAiIGlkPSJtYXBfMGVlOTUzNzUyYThjNGVlODg1OThkZDM5ZmU4NmJjYTYiID48L2Rpdj4KICAgICAgICAKPC9ib2R5Pgo8c2NyaXB0PiAgICAKICAgIAogICAgICAgICAgICB2YXIgbWFwXzBlZTk1Mzc1MmE4YzRlZTg4NTk4ZGQzOWZlODZiY2E2ID0gTC5tYXAoCiAgICAgICAgICAgICAgICAibWFwXzBlZTk1Mzc1MmE4YzRlZTg4NTk4ZGQzOWZlODZiY2E2IiwKICAgICAgICAgICAgICAgIHsKICAgICAgICAgICAgICAgICAgICBjZW50ZXI6IFs0MC4zNzA1NTgzNjI5MTY1MywgLTguMzEyODI5OTc2MTg1MjNdLAogICAgICAgICAgICAgICAgICAgIGNyczogTC5DUlMuRVBTRzM4NTcsCiAgICAgICAgICAgICAgICAgICAgem9vbTogMTMsCiAgICAgICAgICAgICAgICAgICAgem9vbUNvbnRyb2w6IHRydWUsCiAgICAgICAgICAgICAgICAgICAgcHJlZmVyQ2FudmFzOiBmYWxzZSwKICAgICAgICAgICAgICAgIH0KICAgICAgICAgICAgKTsKCiAgICAgICAgICAgIAoKICAgICAgICAKICAgIAogICAgICAgICAgICB2YXIgdGlsZV9sYXllcl8zODFiOTEyMDcxOTk0N2IzYWU4N2IwOGYyNDBkNTY3YyA9IEwudGlsZUxheWVyKAogICAgICAgICAgICAgICAgImh0dHBzOi8vc3RhbWVuLXRpbGVzLXtzfS5hLnNzbC5mYXN0bHkubmV0L3RlcnJhaW4ve3p9L3t4fS97eX0uanBnIiwKICAgICAgICAgICAgICAgIHsiYXR0cmlidXRpb24iOiAiTWFwIHRpbGVzIGJ5IFx1MDAzY2EgaHJlZj1cImh0dHA6Ly9zdGFtZW4uY29tXCJcdTAwM2VTdGFtZW4gRGVzaWduXHUwMDNjL2FcdTAwM2UsIHVuZGVyIFx1MDAzY2EgaHJlZj1cImh0dHA6Ly9jcmVhdGl2ZWNvbW1vbnMub3JnL2xpY2Vuc2VzL2J5LzMuMFwiXHUwMDNlQ0MgQlkgMy4wXHUwMDNjL2FcdTAwM2UuIERhdGEgYnkgXHUwMDI2Y29weTsgXHUwMDNjYSBocmVmPVwiaHR0cDovL29wZW5zdHJlZXRtYXAub3JnXCJcdTAwM2VPcGVuU3RyZWV0TWFwXHUwMDNjL2FcdTAwM2UsIHVuZGVyIFx1MDAzY2EgaHJlZj1cImh0dHA6Ly9jcmVhdGl2ZWNvbW1vbnMub3JnL2xpY2Vuc2VzL2J5LXNhLzMuMFwiXHUwMDNlQ0MgQlkgU0FcdTAwM2MvYVx1MDAzZS4iLCAiZGV0ZWN0UmV0aW5hIjogZmFsc2UsICJtYXhOYXRpdmVab29tIjogMTgsICJtYXhab29tIjogMTgsICJtaW5ab29tIjogMCwgIm5vV3JhcCI6IGZhbHNlLCAib3BhY2l0eSI6IDEsICJzdWJkb21haW5zIjogImFiYyIsICJ0bXMiOiBmYWxzZX0KICAgICAgICAgICAgKS5hZGRUbyhtYXBfMGVlOTUzNzUyYThjNGVlODg1OThkZDM5ZmU4NmJjYTYpOwogICAgICAgIAogICAgCiAgICAgICAgICAgIHZhciBpbWFnZV9vdmVybGF5XzEwOGFkMGQxMDRmMDQ1MzZiMzE4NGEzZmRiZGFjMDFiID0gTC5pbWFnZU92ZXJsYXkoCiAgICAgICAgICAgICAgICAiZGF0YTppbWFnZS9wbmc7YmFzZTY0LGlWQk9SdzBLR2dvQUFBQU5TVWhFVWdBQUFNZ0FBQURJQ0FZQUFBQ3RXSzZlQUFBaE5rbEVRVlI0MnUxZFM1SWtTMUowTHNJTlpzOFdZUTdDUGJnSGgrQndiRmtnTW8za2lBVGlHUFpSdFkrSFozY3RRbVplVjFWbWhJZXIyMDlOYmYzMUgvNzlsM2I5NDMvODE2OWZ2Lzc1LzF5ZmYvdjhUUHYzei9VdmYvM1AvLzNiNTdJK3YrUDZ5Ny85N2UvWGZtOC8xOC9WZWExLyt0Zi8vdlc1UGh2dDg3L3lGM1lBeU4reEFOUjV5ZS80WERzdzl2dXovbGI3K1g0QVBMOGJmVzkwUFFlRTlmUFBQVmNQanhOci9uTnRBTmszbXdZUTVvVjlOc2dET091ejlnM3l1WkR2bEp2M3VlY0lLTkZtUk80ekFvejN0eEZJdWc0TVp1MytoRXNlK3Q2ZWpON0Rrb3ZlNWZaOEx1UkVsamV0UFlqOExBMGt6TVo3ZnY4NThSR0FhTStnZmE0R0VHK04yYlgvc1NBY1VQWTlwZTB0NzVCVUFjS0NCUDM5NTBiZU90RjIxMHh1M2dna2xqWFEvbDc3WFE4UTdOcDNIV1EvRitoaWVSdWVlV0dkTDQxeGsxQ3JabTMyakV2REFNU3pVcE5yK0hQVkRsTVRJTHNMc3NjSmowL0hXQS9rcEpZeGlZd3JPbHlKNkZUdjlQK2xpNGtBNU9lYXV6TDc1djhCeE5vd3o4YVVtMEVDU05zUTBXYlUwc1FlUUtvTDlibXY2bWVoOTJURlZ4bDM5VWJMOGxuTDU3clpDblRFYUNtQXNDOVljNU9zelNaamhHeDJEUW5BS2d2UEJJbS9HMEIyb0h5TEJaR0pvd2ZnV2tMRmpVRXlibEltNjFKTkRMd1YwRTV1V0tUV2NodUFKZzZoTjliV2luT1hkK0picHovamNraUVSbGtoNjdOMnMvN1VXMDZhK1JNYk1RdVFuMkNhKzV2ZDNhWUJvc1VERllBOHA0c0VuWmZxbEo5bEFjRURpTFlBV2ozbEJvQWdoMFpuRVBxblh4cEFZQmRMRnQrZTJvV1gwNjlzZ3M1MGJwUUUySVAvcnRNZCtUdnBoc2kxMkJrSTJwcGI2ZVFxNlA5a3E1SUd5RzQ1NU12U3NrdElxbGRXdStYZnluOURRZUlCU3FhUFpleHpndVlocTdqSXMzeCt6enRJOW9LbnhsajQwd0ZSUGZ6a3Z5K3Y0dno4LzkyNnNINnlsZ3JXM0NPdmlLZDlya3d6ZThDc3VDWWViU1piZzlHQUxZSDByRS9IQnZpZGcvVHVja0FJRUcyRFpKaXRWcDNEcW4zc0FUaXlLZVRmeTVlV09WazFpM01pZS9MdHBNQW5ZZkpHUERjSkVDak55eFRHV0xCWVFUdTZtVDFpWkdiakllRElwcVF6QWZqdGdhNE1kck1Ba1oreGV6QlZnRlFMdGkwQXFkTEQ1YW1reFEvZTMwcUFTTzZWZGw5WkNvSkhMOUdzbVpjeCtVYVFSTThSdVZ5bjEwSmo5Q0taVHdnZ1NJclJzaEI3aGthekVFaDFIWFYzdEo5ckxwMzhYclFYQmEzUklQY2FiWXBiZ1lONkIyeHA0UFJod2J3ajJJSWdGUEFzV3piSzZLRE5WOVo5V3Y0K1lrWGtTZU05endNUUpQWkJDcVVNRy9oR2dGZ0prZ280OXFSUmhZYjB0SWNqYTd1aTRFdmJlTm9DZEpJTW55QTdTbVZHb0l5QzdpalRoYVFSTzFQR1NFUFo3WFNOcURMdGZSN2krbWg3akdWVk1JZk9ZamFFdC9GM1FIVlpFQWs2OUVTTy9wMDF1WjN1VDZiM2ZWL1hFMklZVER3YXNRQ2l6WWp3ektMVWY2VUFUQUVrQ29hZm4zOGUyanJkVVN2aUlmNnBMRWNBWWNoOGthK1BiTG9KWDFuNjdOcG1reTJqV2FzeTRlY2pMdGQwTWRhcng2RHZOVjBIMlRmenMyazFrN2VmYkVpREV2T2kwVTN1MVVzaTE4aWlvbWpadEU3aW9CWnJXVzVMSnd1Z0N4eVJCZG5YRG5GdHJNOUNBUks1YWF4Vlg1a1R6K3VybGl6ZzUvOUxpNUZoNHpMV29vdTM0eVVnSWtFRzcwVjZtVFJwb2JzMmRzZm5zQlk3QTh6dXpCYlN2SmZPWWlFQVliSXlscTVXaFBMZERVRzZGTHNBWXRWa2tFMmczY3RPU3JUYWNpTkF2dVZTZFd6MHFkNmZTZ0hZNG1HbEFLSzVHVmtLQ3ZNQ1BHcUo5UmtkR1NBSlRJWTZndHdIKzVsdkVmb210UUFtNnlCb05xMFVnMFNvaTZnazdFbUNpQ0dnTlBjT01wM21QaUxOTnRxemFMV1ZVNFd6NldKY2xsazhEWkRzNzN6K2ZhRVB2ZFBmSzZtNmlJdVRQVFU5MmtPMVloN2wvRE51UWRYYW9zemprOWZ6M2RsRDZTM21nQlVMUWdDUlRlOW9MMExHYW5UNTI5SjZaQUdpV1VnazUrN0ZhR3pCRGQwNFdxcjREWmZxRzRVZHJNTTBkTEdpNnJNSEVyVG50OHZVb21RNTlnVFB2UERJQ21uL3ZiTmpaUnpEZ29NdHRGWlBkKy9kZGtnRWRiUWdhSktqVXBlYUJnamlSaUhWYW1UelZZUFNxVGJhS0pkdmtTNnovdi9PQ2tiZEpZdm13ZERHSndMaHJuaktJNGhtZWxja2xTblU1czJjZ0I3VndIcXhrbzR5bGZmdXpyVXptVGVMY2xOOXZyMTJFbVdMbUZZQnRBYmtuY2hJQ3JWYUYrbG9hODVZbkpYTmNuZ3ZCQUZJdEhpVGdhUkZ4MzcrblUwLzd3Y0RBZzRrc044TGl0SlNTZlhLdlQzYW9xNVkzeGRaS3JUZEFCWEdZSnZqc3NJWVRMSUF0aUNacnJES2lmVm04OUMra1N4VlIrUmw3WURZVFQ0TGZxWWJFNDFKdEdlMFhNY29oa0RxVTVsMkI4VHlaTm01RmF2eS9PM0tvcXZUaFVBcTZXOVJ1aVdBcHFRNG83VmswN2NvUURwbGxUUnI1eld6ZGVsNlJRRFplVnFTN21TQkNBWklWc2lCTFNKMUJka240aEpyVWJ0U21wbG44bHpEeWRwSU5BS3ZTd1FqOHhrZVFEUjI5UDRkYWd6Q2tMc3lQbmJrNys0UGdHeTJEc1gyVEtIdEJqMWFaQW9YR21kWXNSQzZ1VzlYZXJmU3ZHa0xvdlZ5b3dzWlphZmVuRENGcEZpamJGYTJMK01OVUZVQWt1RlJmYk5za2ZXdUZ5SVZHc25nUkJtc0U2UFhvczJIRnR5WSswUXpKTmswcEtVS21aVkttcUMydjBFWFFVREplQUpXSDRsWktJd0lkVjRXSSt2dlpsNTR0MW1mT09HN09nQ2xWVDl4Y2tmdnBHUENia2JyZU8rWDBUNExkZm0wVGszNXJoYnFpbWpwUE90aU55NWl6bS9Wb0VVdEJLdEE2SEhDcGdEU2JaV1FlayttN2hiRmtPeitveXZwalBtM3FCZU1SSS8zY2l6UmE5bTVlRHRBSmhSRUluMnZqa3hZSjBBeUFMUmkyTjFLV0RvSUhWbTgxZUhLZUNNU3Vqai90K3RIeWZFRmxWNEtWc2Exb3lJOUVVK2dNK0VabHJkR2drU1VZRWExZVhlRWVyNWZSRnFiVnRBNHhkZnluaVdyUU1KMkxrNVpUMHVSc3R2Rll1bjhVVnhoY2VLc0ZHNHJRQkJCc09qRmRSZnhzak5GVGdoUFN5bzFhcVV0b3FQbVlqTEJLQkp6V0hTUmlnajR5ZFN2M1BUc3VsajN1aENwSDNUZWVUVDJvRnBaOXpSL3V5elVhWGw5dEg0eDBab2JKVnM2SklZNmFEWnZaU0FoQy9LY2FKSFdLcUlacFVuY1YvcVlQV1UvNXVTckNOTk5YSm93SCtONk1WcTNsZ1dKYWw5c09qNHFXa3FMdWJ0SGxreVNuTW8xTVpZdUxCUjJkbjd0Rk83cVEwUjZWYnQvYTkwWHVvRzZpMkRaMHo0U2l2WTRjb2dGa2RQRlRxbWJaRlVVUGV1WEFiWm1oUmJ5UUcvMVlsaWoxYlFSMWRHZ25uMURaWFdFdXpkTkY1RlBBd3FxUzZ6MThYZkhCbDNxa05GaE9aRnVYNmhQYUcwMmJ4WUVBeEMwcnNGa2VIWnJsVDFsTzlxQnMzeTNqSGFYMWJ4a0ZWKzdSODVwQU5rVEVGT01CRXZER0ttV3R3Q0VtVHVJbm5SYS84S0UyTUplby9COGVSa1FleWR0aHpWbDVFcVJsR3lVNmF0dVRubEtJKzhMeWJUdGV3ZnQ3ZkFzc3B3cUpZVVptT2R1QVFnaUZxZjFhMnN1Z2R3VTFxSllCYUtzTUhKRWl6akZmVUxkbkNob2p3NGN4bXA0RnBndE1zdG5RNEhzQVdUdjliQWFvbGpyNWRMZDBST2FIYk5sRlJhMXRDTHljQm9vdlUzQUtvZFBaN0dzU2pEU2Y0Rms3cnJ1VjU3RUdURTdMMnZKeGloUjMvOU9hdlFzMHBpTEZUVVlzU25KS091Rm5BRDcrR2d2Y0sra1FpZUNTNHRmRkpFMU03MGVIZHBqR1hCSlQyR3FnTXNVRWRHTzBKWEpsTWdBenhKQ1FBSmp6ODFoTFVvVnFJeHl4NGttTGtSSzZUWjkza3hWTzh0d1J0OWZsbTFBOWFSclpsWnpZVFRBZE0yNGtHTURHREI3akdDRVJpMnpkeWhyMWZvZXBOSHNOZ0ZyWmpwc0orM0RzcXlXVkpKMWdPNy9qamE3clU3VFpvMTE5amEwbkpPQjlncDdiaDRLRUthWWhrNXUxWVFNdERXSWlsdGR1ZnhvQ3ZDdEF0UHNTTHpJUmMya2VpR0FQQTBvR2RPR2JDcEx4OVhhUEh2amtUYkp5aFBhUnJKdFVlcTBpMHZrcVNGbW1uNnlxaWR2QVdSeW1JNEV5cE1aUkZLOTh1ZHJTcDYvK25PcmlLWFZYanJKY1ptRVFzZW9NZSswOXhJWm5ZVytEb3FKcDZPTGFsSlYzVVA1WGRyM1dsWTZCWkJza1M2YTFZRU8zMlRHQm1nUEtmMThoTC9GQXFhU0VxNHdXUm1BYUdsZ2FXV25XTEU3T3p6YnE4K3NEOXFUSGxYcUYyUE9LaFlsQ3RRMTZva01pclBwWXUzbkdraDJVVEhwaWxtdTJkc0FtUlIrcThZcjNjSWJUTmJLQzlSYkdxWms3SkFCaHhjRHlFNUZqL3FCU29QS1RCY2lycGJ0dFBNQUVtM0VtNmoxYjgwUHJGZ3NwTzVSbVhLMWZ6Wk1kMmRxQ2w2bG02V29lRlZpN1ZSREoyQlYyTGRSVU05cWpiMWxRZDRjc0RrSmtJcjFrL3RtZFJXeUlxbWdLRnVFRVBBeWxkdU9VOVdyeUhzMENlL1prUGlxZzBYN1hEdGh6K29yZWNpQ1VseTZjai9Td21ZRTBpY0ttTEl4eTNMMVZxZm9GenJuejl0WW5hSU1ja05NU081ays4UDN2MFZVWVU3S0NVMXMwRW9MYldYb2tPVnV5UVNGQmRMVmtlK09RSkdoQ25TTjdvb0EyQVdRaUNZdTNZcjlPdVZhZGMyelB4WEFaOWRFQTBWa3BXaUFNRXFKU0NGUnpvYno5SzB5RE5mT1V3MmRRSXZXZVo3Rjl5YmZuaENjc0FCdXViVnZzWnk3d1lGa3IrZzBMMUp4UmdKNERhbFdMVVR5YWs0QVJPYnA1WFNtcUdobnZVUnBJYnlnbk8yTHR4SWUyZTVEZG1PeWgxZVZkWnh4cDZ4M3dqYWxoV2xlNjdUZnU4czhVRlJvQ25zOXdzclhkMVdTdGVtbmxTeVlsMjYyMk5DWlltMG1wYWtWQnhHZnYwTVZzK0lPSXUrNWt1Sk4wOTAxa0dnQVlWNE1LMW9jc1VXcjNDWHIyWmkvbDZDU244SGVKeEtqWmVaQ1JnQ1pkSmVpdm5Mdk1HQU9Ra1lvM0x1WFZVRXpzckJhOGM4RGlDVU1JZjM0YnFKZDFaOUdRQy9wRm15S1dmNjM1Qml4bFhOTmcrb05qV1ByTzZXTHJ3WGVDTFY5VkRpdVVzaUtBa1RtMU9tWXNlSEZDOGdKVjNVakVKV04weE9kM2g0bHgxRGJNd2ZPRVlCRUcwMExpcEFNU2pjZHVnSVFwcktMS0VkcWdYb1ZoTk5xN0ZOakQ5Q3E5ZHVka05ybkx6Um1rT3pZREUyOFM5WVNUYTgrS1dxdG1kL1NWSkl2REhVNXRHZXJkTHhscVRBVnhjUE9KcTBKZ0ZUVVByUEFYa3hRbmNtNVI3bi9UdmFySlgyajNRTXl3N3VyRG9IazNLMS9ZdzREOXQ0dEpqS3ovbEh4czVNSEp3OXNyWkhPYW5YUURrWkVFblV4UWdWTTVadVpEVkhwa2E0MFAwMjZjZEdBU010eXlGbmVudXRuOGJ3bVhDTlp3R1g5LytwNzN2ZmYzbE9DWnVTc3d6RGFrd3MxVC9KVVlCOVVxNDUzbnpUV3lkbzllRWR1UkszWWh2S3Jvc3F2Tnp3MWEvazhGdlhVT0lpVGZMTk9DZzRFa0YxenFwcTVZYm9RTldCbVFlTDFwVXdzZUZUVnRheUlCNWl1emtLV20xYWxtWnljelBzS1FDcDlBakpuTDEwUUJHQ29PQVRDREQ2WjIyZlMwNGlhU3hkQUtwczlVeWV4a2dGVEExQmZCMGhWblcrM0R0MENheWl6dURzTFVuM0JxQXdOcWhidmlUeE14R0lvR1ZBV0pkOGV2aHFWSkVvQW1WelF6bmpqVkxHTDJTUVQ2VlNrQzdNNmpjcEt1WHFLN3lnSXVpMEoybFBpN2FIRlpEYTZOMTNYNmRIcFZxSGl5UlB0clprTndMS0VXWUFnQXVTUy9xRzUweFgzY3JKSVhIS3g1Q21GcUllY3JuNVdONk4xejUzM0lSdW5PcTFXVll3Yk9hUWl2WUhvOEVEVDNDZEF3djcrNmp4ZEk0V1NhaUJhb1gxRUFYMEhaV092ZTFoYXNsMmJ3Qk9RWUVDVnJXRkVXY0FvU1NGbFpwSDl3ZWh2ZFFGcU1hY1VrNG5SZEhZUnFzVVVUNGt4dTlsK0VHL0NWYmU2U3FUN3hXaWRWVFlTcW5ZZjdZWEttTFNzNVVka3BTaUFJT2kwZ2pla0tOWnBYanRHT3pQekowNmtMQzByNFFFZG9hdGtOaGhDN3RSWUJaNzNJS3ZoakNYSVdBMEUySEFNRWdFRW5SUEk5Z3V6VFV0VGhTN1dnbXJQeURaaWFVUkx0dEhveEZnRXhOMnhxREw3czBWV3h0dlFVNGZTWW9OQlp2TkZ6UzFJV3ZRRUZUdHlxYkxDQWROcDNzNzArelJBRUtzYkFlcU5hM1V0WHVSN2U3N242WTNrdFJON0lLbE9wYTJBdnlzRGhzNTJZVGE3TmNyQ2MzL1FVYzJUb3RySXV5d0RKR3BFOGdLeExvQlVoUVRZWFBtdFhYZnNVTld1b2lvNnBkWUN4ODRNbHUvZTZ5cXRkcHNpZjdjcWkrQ2xOTFhVSGJ1NTBlNis2bndRYTdUYTdWYzB6LzJFaXJ3bHBScTlTMHZjRFQwYzJaWUNoamFVcW9QcytrN2FsMFNXZ01uMFpMSVliQ0hRRXBQNEptQ3dBSmtvaU81Wk1wWXNHYVY1V1FXWURuRzlORUNrcjQ2YzdwSHZlWUtLd2d6RnFRcGUzd0tZayt6WXgxUElzSWsxVUdTZklUdFVKN0s0YVJjcmlqbTB6RVMxNzdsSzVXYW5aWjNvQysvTUZsa1R0cWFBSVN2aGUzVmR4aFlUVlc5UDhiS0RkVkdLUWFLcHNLaEk4UDY3S0MrSVBSazh5UmpOdExLYlBHcEh6bFM5YjNMbmtJTlFyb0hNWXNsMzFLVjhtS21CTVgrWGRyRTZxcFpUSFgxVlZiNHVlY3hNYi96ZTlkaWhCbkxTZ3V3cDJYMHpTeWFHdDlIM2c0dmh1VTNVZkZKQitvU3E0ZWxtbUF4UW9tYWxhS2FpWmtrbkNKTnZ1WHBhSlZ6dUhZK1lpSXpMUStMWGp1eGNtczJiMFhGbHhpaFBLQUYyV2hMcjJSR2xsOGg2M3RKKzJ0bW5JalVBOXYvV3NsZFdMWVIxbzFpMXlsYUFaTVcrdEN0amxUSjlGZDN1aUNWaTBTMzBjSnU0QWV1T1I1b0dDRC9QVTZlMGZxZVRxN2N5cHR1S0hhU1lzdVpIZWdoSHFPbzNGK3E2ZUVyWmJGb215OWRCY0VTMGxkbTRBYUdpYUt3TWxoSVUxY2tXKzFJdEMySk5LNUl6UHVRVUthYTlzMXV0cnpJSHBLTnU4bVlzTnltazU0RUU2UzVFQ3NzSVM0UFZOeXRsc1RJV0JoRS9zMzZ2K3ZLaVZIUm10Z2FUVFpJRXUxdGRKbVNOczJ2a0tVMUdZSWxtREhiRWFkN00rblkyTDZQTnRBZHIya2F0am9LV243Ri9salVNcUl2ZlpjMDNtV0trZGxpYjZGbXphVlZMdkJ0dFA0N2FkcnZhbHIwOXU5aVh6OFlvYkJWYlc2Q0tLaCtxM3h2TlpFVFp2dDRBb0RleVZGRmJLUnBQc0ZrOXhGWEs4cTQ2cSt0dGJONU1Ca0FURmNnb2JGUUFnZ3B0eTVOa0NpQnNRTTJNcTBNemtKSkIwQjMzZUlDSUVqYVR2VDZqQU1tUzVxYUtZUlV0TDNUanl6SFlURTkrQkJBVUpCMERSYlY3bjZ6R28xYmpWQjkvUlNodlRmcXpMRUJPTGxUWE5GdGtZMGZVRWJsNW1SZHBFUWJSOWNpTVp1NUt6YjROa3RZNkNDcHNiQVZsRTNLUzNXbkl5UmZEVk9nelU0TmxjYzZia3lFUGlLNk54aFQ5MEdhcGpqM0VIRGpTTFZzbmtNa096TWtJUEx4VkhHUTYrS2Iwd0xRV1ZTdHpWdUdsb1ZuS0xFQzByc1RxMnFEZ2tLNXhTd3lDQUNSYjE4ajBwVE15UGlkOFd2UjV2V3lRTnV6R3E2QS9mU0ZlRTlncGdXL0duWXFVWUJneXBpZG1ibGtORFJ4bGdNalpoZFlRUzI5RGRaMnFudHhuWjdHT0Fielc5NDQ4bCtZeU1kdzFiUlFDV211YWF1Ykt4aHNaYjBMT3BMVG1GaUxKa05XUktjcFNrcWRackpQVUNlYUVZb0cvYjZvOUcyYk4yUENLWDhpWXRkM1NuSnJYd2I3dlV6VWt1VTVVa0I2ZFlBOWEyYWFXYnBCSStmMFRRZmVVbTRLcU1VWXVtQlUvUkRwWnJBcEk5cUN3Wm90RUI4SkVmMHhia042ZFplcktYa1FqZjZlcEc1M3VDVnNKcnN4eXRQenlTaURNWkxhMDcrcnNJR1FPelZhQTdDN0J4SkNZaktLSFZyV2RacXplS0RpSHRMWk9CdW5aTGtUVXMwRDRnUlczZThTQ29HbkVUc28zNm10bkZDS3paRVVyUm5rMjU0bStjamwrV3dQSVJIc3VvazlzS2VEcytyd1JYOHNyQUhzOHU5Y0F3dnFqV3V0cGhyNlNXWVFvRThXY3NKS1pyUEhRM21EMGRybVhKK2tvckp1dGpmZldEcWZNUVhBRUlCM0RJeGs1SFcwaDVHbTlweDZscWU5SWdjcVQrMDJBVENVbHBrR0hBbVIvajlLQ1ZPT1gxUjJBVHdra0l5NldkVkpZVlZxNXdIczZGYTF6SVA2dkZDVjRJMzNaeVMrejNMYTNLRU9UMTRnRm1aYWRZWVNaOS92WlR4WkxRbk8zTkV3aEVJbXYySUpYcHBNdk0wRUx0UXJhZkVmR0E1Q3lSNHgxOEE2U3lmMjJ1azBmMjR6VEpVajlwRVN0aGllMGVtMVZWQ09SWTlTNmVDTWhLc1cwaXJWR2t3V1p6SmZIcnVpcUEwMWFZSHJLclViTG5uQ3hLdmx2NldabGhMS24zVVNMcmg2cGJuVFdRVEtidFhwU3N5TVNrSUxsVHNWNUhTQ1JaWkFwTisxRVoySVp0RkMxYnk0cEJtRzlESzlmL0JSQXJLcnlkR3ppeFJIeW5aMktGNnhEU2dKRXhrTDd6N3VwTWltQVJMM2JDR214dTFkRDBwV1IrRUFLTzhoTjQ3bFVKMnNHcHpOVU54YzQ5M2RkbFZ4cUc4R0crcmxSajNtR3E4TnNFZ3VZeUhOSS90YWt4WkJGdzF0U3Qwd1EveVp3cWwyZzQ0VkNOck9EU0dxK1FRR0pjdXFubE9jclRGYUV4SmkxNHBFbjhLMFdaTHdmUktwMFIxMW5zcWVoeTZSN0JUMkVXc0orNWdSUTBIZ3NxMnErOTBWa3hmYzh0Zm8zQWVMcC9tYVNEMXBhdlFTUWlEcDlVdHFTN2ROQUtUQW55SHlSTzRrT0Z1cGU2NHl3dzBtQVdKVnl0ajdsWmVqVzVFWTk0YzliaERVdG1URHRDbWtGdFlpR255bWVuUUlJV3llWmlEVW1tdWlPVmRMWmNjUFQ1dGxpMUdicUNWbUFzR0psbGdwaDVWU1ZoMFVIVGZ3dExsakhpTzVLSW1STmJ0UlRhVU5OTlg3S3BmT2VNYVBrWjlGZTBBS2E5cjFXaG5IYWNyNmhZN1ZiNW9tTTRIcnI0ZDlnbThvQ1pxWmJ6NkpVVndESHByTGxoa0NzZFFmOS8wMXdlT0lnSFNsZmE4MVc1UUdzT3NlcHR0Vm9KTFdudFp2WjRKb1lRZ2NMbVoyOXB3MEx0WFNkVUJGbnIvQ2JVWlBNcWxBaUJGSDVIVldBZU0rNHVrL3RHNHBlVWZyMDJUQWFnL2NOaTZwTlNZcE9WUWFncUNybS9wbHNIQ1NKbnRISTVtem5weXdVZG1UcTJsMHM3K1U4TWNDVVQ4ajJvMmRKZDVHZXJoV1hUSFRYYVJaanNrTHRpYzR4SU1tbTV4bndhN0t0V1F0L1JRekN0a2xtTnJvMUhkVnJxc295Vnl2OUY1YkFYQmRkaEdWUFIzMzlXVldXMC9VeWJRMzMrOUNFOWE0Q0NEdWJ3eHVWeGVxNFJxZWJCQzVpL2xtT212Wno1dFJqS3NuV0dtZmxjVmpCQ2VRKzVacFhoNk42Z1QzcnFxNXVueTJicWJERXdmWjIyU25WUG9SbUg0azdXQmtsVmxHbGFvMGlGOGFhL3NWK0ZxdVQ2MjNvM2JXVHlSVzJybUhkNnpXcUp0bkNGbE1YT0FHVXlBMlNrM3lmbm5OMmhGdjAreWN0ZWNhMWl5d1RZaFdSd21aRTN2U3lZTS92WldLVDF3QlM5WnV6NUxzT2F5Y0JJb21ZMGNtdHVWYW9sZWtpNkZVRjV6U1h0S1A0bXRYcFJRQ1NvY3AvQlVCT1ZlWXRPVXhQTFgyL3RMcFF4R3RpM1VmTHZjalMrOSt5UmwzM2xhblZNSHBaNjdUcmdtWmZKRjArbzVaU2RhOTJnR2pUZHBIVzNoc2JvYWJGNmQ2b2gxVUE0b0Y3ZFd5Z2JvRElVelZ5VmVSb2dOTzlDRXpONTNRSDRVMTlHcE5XTFVQWEdRT0k3QkNjTUlsSUZrYlNOYndVSzVMK2xVb29LUENZQUhPQ3JuTExoUkpGTFQzZEtZQllhNDNFZjZzellLc0ttM1ZObmQyRmpwbEI5WXp3UTlhOTZlaFd2QlVrbVhGOEhvZXM4L2tsU0NMUmtWRmx4ZW9HUVU5aXE2K1lwWWhFclpmUlJ1NllHRnV0Rk44SUVNdEthNXJGWFJha28rR3NGU0NaU2FrYVlwbTIwb2lLanJnN2xXQ3lRdXBEUUJVVkNORnFlMFhWdkl2aVlXbVlkYytvWitvdFI3aFk3T3pwaUhPRjlqUllMeHlocGlDK2NHZjlKZXRPc1l4cGxwTlZpWUd5UExRM00yN1NYVDVlS0dSNkRTb0E2ZkJOcTkrVDZTSHBHb3ZXRlg5MFNvaEduQ2FtaWw2MTZDam5LMUxXMlN2dnF6T0RnWGJpZGM4UThlanBWczNpbEQ1WFpsTWpaTHRiNG8ycU5jcjJ1TENrU0FrS09jMUt4akZQUnE0TklOYjhDeTM0N1FDSEZhUkhwMXhsb1R0ckxISk5yQVRCS1kydWs5WHpLUFY5S2phU1FmMERtSjFWdnJyQVlXMGd6N1dxYk9Zb3FJOHF1OXJMc0FTc0szS283RW1NV054YnMxamZmTW45OUx6Zkkxa3NhMkpUMXltTURIZnNQUFV5QUdHRFdFMmQ4Z1k2U2NXVnZGVU0yM3ZQcTdvNXM1WHhEdi9TcXF4bnFROXYwT2laSUIzcGs1aWlzdHpxNWsxeDhKNXJkV1JDa0FDcmtnNk1mTWlPemNvTWRibkJCWkFIeEhRQS83c0JCTlV3YUpNZVJmdkR1eGVpcStCME80bFFBa0J6dVRJeGlqV1gwVW9XdkhVWVZOeEE2L09zY1hnamRaRHVta1VFTEpuYmxoWGF6Q0kvcWIwYlFjTm1BRFZpbmxmVnRrUy92eTB4c0hPNldQZGFJN2F1TjN5K1NpRlFPeTEzUG84M3lYYXFhTWJHRkpudlF3QWlON3RHenN2VUpTYlhaK0t6R1Frb0R5Q2Z0VHdLa09yc0RZOE5XaUdwVFc0Q0xZMmIyWGlvMWRDK3d3Slh0NFNUWlpVdFJ2V2t5K1lCUkFQUTN0cHdkY3Z0RkUza0cyZnhaYlNrUFAzZ2JvQjRCYzdiMTFLR0JWWXMrNnFxU1RXMUxJUEl5ZHJFTjRLa1V5MGxrZ0ZGM05wOWRzdWJxdkZhVUw2N3FIc3YwZXIrY2liQXpyZ1pub3JHVlB1dnB5ZjFSb28wUTlmcG1qalY0WTY5bFNxUE1wNVN3clFWSUptQWMzSUF2RlVyWUZrQnNyMVlZd1ZFTDJKWGNPK1lkb1VBcnlKMmZXc0s5MlQ5cEkxcWtqbDFIa0xZZEVVYTBXRDFYSk5NV3REcWlLeHUyQWdnS052Mk5GRGVWbnZ4bUFZeVVOOS85cXpSbWpTNTN1eU82ZEVEVFBGTWJ0d0o0Q0lTbmxrM0RaVXpSV2JJbjh3bXZXRWhJdkVOK2QvclZLQnQ2ZkIya1NUUkUxSTdUWm5wdUpsREkwckpvanE4bFV1bWYwOEM1SnRadm1WVkUxYjBtQ25nZFFUNm5oSmlwbDRnM1JZMElXRUJSR3RIN2dTSXA1ci9UUm04Q1hjTHliNk5UTG5OQWtSVDQvWk9XYVNwQ3JFczBYd1M3K2RSKzJZbDA4Uks2RVNmK1FNUS9aRHozUHcxR1JoM1N2cG42eWJzNzBkenpOa1pIcFVVYkxSZVVoYzRvMHZWUFZUMWQxT0pYSk5wMWJjZmNDSzRSdU9uakN1RW52NmR3bTNkOVJtTHNuSHJ1L2FTQ0NNQTZkeWdtVVdXZmNYZEJUaTAwTlVSV0hzdVYyWU13bFFoTVVNU25XeXNZK1lieXRTdi9PN1ZkV3A0eW9TVFVxWVR2cW0zb1pqaG5panRnNldUZCtoUlRWZ1J6WmRuaEt4UHgwaGFTbDkrLytweXFkaWcyV045M2dJUVMxeHV5anBObjdTWlBwSWIrR1pUZENpa0JyYzZYYW5xQXowV0pFUEplQ3pQOHhsWkduMzN5Y1lFNnl3dGhsV0Z6S1NHdS9ycHY3VzE5eXFBN0VGVHBPS2hTZlRzd0pvV1ZaZ0VDT0tpb3VubVNtelVuZnFmRXJPNEdpQldwYnlUTzJQeFp5UzViQWZJYzZKMkE0V2x4bFFBRXRWdU1qU2RiQVcrbTRKMFkyM2tvYnJ2KzIxMWJod3ZGZHJsMjhvbSs0N1dYOFJDVnRpNFVRSFNBc2lVREdvblJWNkwyVTZrM3ljOGhGR0FTRnI0elVOZVRoUDJ0SmtZRVExbS8vMkp6QjZhWGZ1bXl2dEVVTDl1OE5QL2hLcXRaajJReWJrbzE0eWRoUFc3QVVRcnJGNFZnMFRXSlhxSmJPMUVNN0hvcUxVYitVQ29mbkFsY0syUUhkSHMyZ25WRW9TbXptWUZYd1dJNW1ab0NoY1oxSGYwRzdDVFdUc3lkVGU0RjFGNk42TkM4L3o5M2hyOWx1VkJwSXVpWjdwRzFTU0w4RGVLaTdlNEhOTWRnbGxsK1QxaEkzVzZUcTliTkkzWllvMC9HY0tyWkg5Mmp2N1V5ZG5Sd2NnU0I5a0JveE1BeVU2R3RRcVpGZEcvRzFtNys2ek1uY3UzYnJ2WlNRc3lvU2pDYkdLa3grVW1DMks1b0xjSVFFdys0MWNLeDkyUytjcTZXSkx4Mm5HcVNzQk5pTzU5c3d0ZWplWCtLSUJJOTJwS01PS21BeURxVXB4d1Q3c3M5YVJjVU5RSiswY0M1SGZ0clQ2VjJtWll3MjliZ2grQVhOeFgwc0ZHWUROenlMaURuNHRQdjE5YlNZOEdiUDVPUUg2eVhOV2F6dThteHVDbGxxM2lZUGQrdkFvZ1R3SFJHamVXb2JPZkNraXJMYUxkQ1lTS0JibHRGcnQyUHhvWmRtSVc1WnA2TVBabW8vb0hRc1YrVHVNM1QxYW00ekFxWW5XSlp0eGtWYnJ1UXg2aTJpSFRJVTY0cGhEUGx2WXRNUVNONEhlQ0ZuNmlaNFJwQ0t2VVNONWNMMFFtZFdLTk93YWJqckY1TFc1UFZ3V1dhUTNkcTZPbjQ0dHM3M1VINmZLcEJyTnR1ZE1XSU5PTktkK3hITGYzUEpkY1E3YWdlelFHT1RYK3F6dHdmZTYzRWpBajFKSlRhekloRGhmRkJsT0MxVHNCMHJLTVVnU2t5a1pZcHdLc25jVjc4alJuNlJoeUtHaEhSZ2tWZy9qR1lxUzg5OGtCT1paZWdlV2llaGJUaWxlUFVrMWtVMURIaXptMW9mWVJEZE5weTI4QXgyMUFqcWpzKzJnMTc1NDF6WU1qQU5rcHo5YmM3dXFFMnhOVFV0OGNHZGFSS05ucks1T3pXQ1pudlNCRlZhbTBqM29wdXpDSWR2L3JwSHVWeVdob2ZlNFJRTDdCWmJGQWwvWGhvNkIvRXVUeU1EelJNUGJFR0h0Y2tnV29wNlYySENBZG1ZV28rWVpWRzN5TFV1M0ZSbTlZcld5eHpUdkFyUGlnZXd4MTVUTzl1UGgvQUdWbmYwYWNnR1RHQUFBQUFFbEZUa1N1UW1DQyIsCiAgICAgICAgICAgICAgICBbWzQwLjM3MDU1ODM2MjkxNjUzLCAtOC4zMTI4Mjk5NzYxODUyM10sIFs0MC4zMTY2NTk0NDU4NjkzNiwgLTguMjU4OTMxMDU5MTM4MDU3XV0sCiAgICAgICAgICAgICAgICB7fQogICAgICAgICAgICApLmFkZFRvKG1hcF8wZWU5NTM3NTJhOGM0ZWU4ODU5OGRkMzlmZTg2YmNhNik7CiAgICAgICAgCjwvc2NyaXB0Pg== onload=\"this.contentDocument.open();this.contentDocument.write(atob(this.getAttribute('data-html')));this.contentDocument.close();\" allowfullscreen webkitallowfullscreen mozallowfullscreen></iframe></div></div>"
      ],
      "text/plain": [
       "<folium.folium.Map at 0x7f0fee2f9f98>"
      ]
     },
     "execution_count": 103,
     "metadata": {},
     "output_type": "execute_result"
    }
   ],
   "source": [
    "m = folium.folium.Map(location = (latitude,longitude),tiles = \"Stamen Terrain\",zoom_start=13)\n",
    "\n",
    "rows = 200\n",
    "cols = 200\n",
    "\n",
    "folium.raster_layers.ImageOverlay(\n",
    "    image=breaks_plot_years_norm,\n",
    "    bounds=[[latitude, longitude], [latitude + rows*ypixelsize, longitude + cols*xpixelsize]],\n",
    "    colormap = viridis\n",
    ").add_to(m)\n",
    "\n",
    "m.save(os.path.join('output/ImageOverlay_4.html'))\n",
    "\n",
    "m"
   ]
  },
  {
   "cell_type": "code",
   "execution_count": null,
   "metadata": {},
   "outputs": [],
   "source": [
    "# idx_start_2010 = np.argmax((dates_array >= datetime(2010, 1, 1)) > False) \n",
    "# idx_start_2011 = np.argmax((dates_array >= datetime(2011, 1, 1)) > False) # count how many dates do not come after 2011\n",
    "# idx_start_2012 = np.argmax((dates_array >= datetime(2012, 1, 1)) > False) # this gives the index of the date starting in \n",
    "# idx_start_2013 = np.argmax((dates_array >= datetime(2013, 1, 1)) > False) # the respective year\n",
    "# idx_start_2014 = np.argmax((dates_array >= datetime(2014, 1, 1)) > False)\n",
    "# idx_start_2015 = np.argmax((dates_array >= datetime(2015, 1, 1)) > False)\n",
    "# idx_start_2016 = np.argmax((dates_array >= datetime(2016, 1, 1)) > False)\n",
    "\n",
    "# breaks_plot_years = copy.deepcopy(breaks_plot)\n",
    "# breaks_plot_years[breaks_plot <= idx_start_2011] = 0\n",
    "# breaks_plot_years[np.where(np.logical_and(idx_start_2011 < breaks_plot, breaks_plot <= idx_start_2012))] = 1\n",
    "# breaks_plot_years[np.where(np.logical_and(idx_start_2012 < breaks_plot, breaks_plot <= idx_start_2013))] = 2\n",
    "# breaks_plot_years[np.where(np.logical_and(idx_start_2013 < breaks_plot, breaks_plot <= idx_start_2014))] = 3\n",
    "# breaks_plot_years[np.where(np.logical_and(idx_start_2014 < breaks_plot, breaks_plot <= idx_start_2015))] = 4\n",
    "# breaks_plot_years[np.where(np.logical_and(idx_start_2015 < breaks_plot, breaks_plot <= idx_start_2016))] = 5\n",
    "# breaks_plot_years[np.where(idx_start_2016 < breaks_plot)] = 6\n",
    "# print(breaks_plot_years)\n",
    "\n",
    "# cmap = plt.get_cmap(\"rainbow\")\n",
    "# cmaplist = [cmap(i) for i in range(cmap.N)]\n",
    "# cmap = cmap.from_list('Custom cmap', cmaplist, cmap.N)\n",
    "\n",
    "# bounds = np.linspace(0, 6, 7) #third number is the amount of bins in the colorbar 0=0, 6 = ncolors, 7= nyears\n",
    "# norm = matplotlib.colors.BoundaryNorm(bounds, cmap.N)\n",
    "\n",
    "# fig, axes = plt.subplots(nrows=1, ncols=1, figsize=(10, 10))\n",
    "# im = axes.imshow(breaks_plot_years, cmap=cmap, vmin=0, vmax=6, norm=norm)\n",
    "# fig.subplots_adjust(right=0.8)\n",
    "# cbar_ax = fig.add_axes([0.85, 0.15, 0.05, 0.7])\n",
    "# fig.colorbar(im, cax=cbar_ax, ticks=[0, 1, 2, 3, 4, 5, 6])\n",
    "# labels = cbar_ax.set_yticklabels(['2010', '2011', '2012', '2013', '2014', '2015', '2016'])\n",
    "\n",
    "# plt.savefig(\"./picture.png\")\n",
    "# plt.show()\n"
   ]
  },
  {
   "cell_type": "code",
   "execution_count": null,
   "metadata": {},
   "outputs": [],
   "source": [
    "#big\n",
    "# ts_dir = \"downloads/Time_series_2020-07-06_16-31-46/\"\n",
    "# country_dir = \"temp\"\n",
    "# download_dir = \"1/\"\n",
    "\n",
    "#ts_dir = \"downloads/Time_series_2020-07-07_11-51-35/\"\n",
    "#country_dir = \"portugal_small\"\n",
    "#download_dir = \"1/\"\n",
    "\n",
    "#os.listdir(path + \"/downloads/\")\n",
    "#widgets.interact(f, time_series=widgets.Combobox(options=os.listdir(path + \"/downloads/\")));\n",
    "\n",
    "# def f(widget_start_monitor,widget_end_monitor):\n",
    "#     return widget_start_monitor, widget_end_monitor\n",
    "\n",
    "# #widgets.interact(f, widget_start_monitor=widgets.Combobox(options=dates_list, value=dates_list[1]));\n",
    "\n",
    "\n",
    "\n",
    "# layout = widgets.Layout(width='500px', height='100px') #set width and height\n",
    "\n",
    "\n",
    "# def print_date_range(date_range):\n",
    "#     return(date_range)\n",
    "\n",
    "# start_end_date = widgets.interactive(print_date_range,\n",
    "#     date_range=widgets.SelectionRangeSlider(options = dates_list, \n",
    "#                              max = dates_list[-3],\n",
    "#                              description=\"Monitoring Period\",\n",
    "#                              style = {'description_width': 'initial'},\n",
    "#                              display=\"flex\",\n",
    "#                              align_items=\"stretch\",\n",
    "#                              layout = layout))\n",
    "\n",
    "# display(start_end_date)\n",
    "\n",
    "\n",
    "\n",
    "             "
   ]
  }
 ],
 "metadata": {
  "kernelspec": {
   "display_name": "bfastmonitor_cpu",
   "language": "python",
   "name": "bfastmonitor_cpu"
  },
  "language_info": {
   "codemirror_mode": {
    "name": "ipython",
    "version": 3
   },
   "file_extension": ".py",
   "mimetype": "text/x-python",
   "name": "python",
   "nbconvert_exporter": "python",
   "pygments_lexer": "ipython3",
   "version": "3.6.9"
  }
 },
 "nbformat": 4,
 "nbformat_minor": 4
}
