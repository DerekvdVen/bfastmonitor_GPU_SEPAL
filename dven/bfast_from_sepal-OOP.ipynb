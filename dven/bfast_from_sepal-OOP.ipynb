{
 "cells": [
  {
   "cell_type": "markdown",
   "metadata": {},
   "source": [
    "# GPU implementation of Bfastmonitor using Python\n",
    "The bfast package provides a highly-efficient parallel implementation for the Breaks For Additive Season and Trend (BFASTmonitor) proposed by Verbesselt et al. The implementation is based on OpenCL."
   ]
  },
  {
   "cell_type": "markdown",
   "metadata": {},
   "source": [
    "The script below runs bfastmonitor over the timeseries data downloaded in SEPAL in blocks, and patches together tiles to export mean magnitudes and breaks .npy files. The output is also displayed in a digital map. Make sure to run through the cells sequentially and keep the parameters constant if you are running over multiple directories of you Area of Interest.\n",
    "\n",
    "* First download data using the SEPAL time series downloader (not in this script). The downloads will be saved in your downloads folder and look like: /home/'username'/downloads/Time_series_2020-09-01_16-22-26/0|1|2|3\n",
    "\n",
    "* Import packages\n",
    "\n",
    "* Select data\n",
    "\n",
    "* Set parameters\n",
    "\n",
    "* Select monitoring period*\n",
    "\n",
    "* Run bfastmonitor*\n",
    "\n",
    "* Optional: Load output*\n",
    "\n",
    "* Merge and save tiles output\n",
    "\n",
    "* Display output\n",
    "\n",
    "*After saving the output, one may load it in again instead of running bfastmonitor again\n"
   ]
  },
  {
   "cell_type": "markdown",
   "metadata": {},
   "source": [
    "### Import packages"
   ]
  },
  {
   "cell_type": "code",
   "execution_count": 69,
   "metadata": {},
   "outputs": [
    {
     "name": "stdout",
     "output_type": "stream",
     "text": [
      "\n",
      "    The timeseries class is a wrapper for using SEPAL timeseries data with bfast. \n",
      "    It wraps together a data tile with associated dates file and metadata. \n",
      "    It also allows for saving and loading the output rasters in a specified directory. \n",
      "    \n"
     ]
    }
   ],
   "source": [
    "import os # add a comment to test git \n",
    "from os.path import expanduser\n",
    "\n",
    "import wget\n",
    "import numpy as np\n",
    "from datetime import datetime\n",
    "import copy\n",
    "import matplotlib\n",
    "import matplotlib.pyplot as plt\n",
    "\n",
    "import json\n",
    "\n",
    "from bfast import BFASTMonitor\n",
    "from bfast.utils import crop_data_dates\n",
    "\n",
    "import csv\n",
    "from shutil import copyfile\n",
    "import pandas as pd\n",
    "from osgeo import gdal, gdal_array, osr\n",
    "\n",
    "import time\n",
    "from tqdm import tqdm\n",
    "\n",
    "import ipywidgets as widgets\n",
    "from ipywidgets import Layout\n",
    "from ipyfilechooser import FileChooser\n",
    "import folium\n",
    "\n",
    "# from folium.plugins import FloatImage\n",
    "# import base64\n",
    "# import json\n",
    "\n",
    "from PIL import Image\n",
    "from matplotlib import cm\n",
    "\n",
    "# import functions from functions.py and plotting_funcs.py\n",
    "from functions import set_base_output_dir, set_output_dir, get_data_dict, merge_tiles, set_paths, _find_index_date, normalize, select_negatives, get_julian_dates\n",
    "from plotting_funcs import save_plot, merge_plots, classify_output, plot_output_matplotlib, set_corners, export_GTiff\n",
    "\n",
    "# Import the Timeseries class from time_series.py\n",
    "from time_series import Timeseries\n",
    "print(Timeseries.__doc__)\n",
    "\n",
    "# Import widgets for GUI parameter selection\n",
    "from widgets import get_widgets, get_dates_widgets\n",
    "output_directory_chooser, k_chooser,freq_chooser,trend_chooser,hfrac_chooser,level_chooser,backend_chooser, load_chooser, block_size_chooser, plot_display_data_chooser = get_widgets()"
   ]
  },
  {
   "cell_type": "code",
   "execution_count": 70,
   "metadata": {},
   "outputs": [],
   "source": [
    "%matplotlib inline"
   ]
  },
  {
   "cell_type": "markdown",
   "metadata": {},
   "source": [
    "### Select data\n",
    "\n",
    "#### Select a name for your output folder. All the segments you run through will be saved here: \"./stored_time_series/[yourfoldername]\n",
    "\n"
   ]
  },
  {
   "cell_type": "code",
   "execution_count": 71,
   "metadata": {},
   "outputs": [
    {
     "data": {
      "application/vnd.jupyter.widget-view+json": {
       "model_id": "b2e0595e5a7348c693616257acdc851c",
       "version_major": 2,
       "version_minor": 0
      },
      "text/plain": [
       "interactive(children=(Text(value='', description='Output storage name: (country/location name, e.g. \"Guyana\")'…"
      ]
     },
     "metadata": {},
     "output_type": "display_data"
    }
   ],
   "source": [
    "display(output_directory_chooser)"
   ]
  },
  {
   "cell_type": "code",
   "execution_count": 72,
   "metadata": {},
   "outputs": [
    {
     "name": "stdout",
     "output_type": "stream",
     "text": [
      "Output directory name: stored_time_series/Guyana\n"
     ]
    }
   ],
   "source": [
    "base_output_dir = set_base_output_dir(output_directory_chooser)"
   ]
  },
  {
   "cell_type": "markdown",
   "metadata": {},
   "source": [
    "#### Select a time series segment folder using ipyfilechooser.  The standard download location is in downloads/time_series_name/[0,1,2..n]\n"
   ]
  },
  {
   "cell_type": "code",
   "execution_count": 73,
   "metadata": {},
   "outputs": [
    {
     "data": {
      "application/vnd.jupyter.widget-view+json": {
       "model_id": "a949b7c276b444dd885a56992779abbc",
       "version_major": 2,
       "version_minor": 0
      },
      "text/plain": [
       "FileChooser(path='/home/dven', filename='', title='HTML(value='', layout=Layout(display='none'))', show_hidden…"
      ]
     },
     "metadata": {},
     "output_type": "display_data"
    }
   ],
   "source": [
    "path = expanduser(\"~\")\n",
    "file_chooser = FileChooser(path)\n",
    "display(file_chooser)"
   ]
  },
  {
   "cell_type": "code",
   "execution_count": 74,
   "metadata": {},
   "outputs": [
    {
     "name": "stdout",
     "output_type": "stream",
     "text": [
      "/home/dven/downloads/Time_series_2020-09-01_16-22-26/0/\n",
      "stored_time_series/Guyana/Guyana_0\n"
     ]
    }
   ],
   "source": [
    "timeseries_directory = file_chooser.selected\n",
    "\n",
    "if not timeseries_directory:\n",
    "    raise Exception(\"Please choose a time series directory above with the file selector\")\n",
    "else:\n",
    "    print(timeseries_directory)\n",
    "    output_dir = set_output_dir(output_directory_chooser,timeseries_directory)\n",
    "    print(output_dir)"
   ]
  },
  {
   "cell_type": "markdown",
   "metadata": {},
   "source": [
    "#### Load in data: if there are tiles in the directory, create a list and load per tile. The Timeseries tiles and their associated data are put in the list: 'data_list'\n"
   ]
  },
  {
   "cell_type": "code",
   "execution_count": 75,
   "metadata": {
    "scrolled": true
   },
   "outputs": [
    {
     "name": "stdout",
     "output_type": "stream",
     "text": [
      "Data consists of tiles, setting up tiles in 'data_list' \n",
      "Timeseries class holding 446 dates, sized 2048 by 2048.\n",
      "Timeseries class holding 446 dates, sized 197 by 2048.\n",
      "Timeseries class holding 446 dates, sized 2048 by 2048.\n",
      "Timeseries class holding 446 dates, sized 197 by 2048.\n",
      "Timeseries class holding 446 dates, sized 2048 by 2025.\n",
      "Timeseries class holding 446 dates, sized 197 by 2025.\n"
     ]
    }
   ],
   "source": [
    "# Create Timeseries class objects for every tile\n",
    "data_list = set_paths(timeseries_directory = timeseries_directory)\n",
    "for tile in data_list:\n",
    "    print(tile)"
   ]
  },
  {
   "cell_type": "markdown",
   "metadata": {},
   "source": [
    "### Check some metadata of the created Timeseries class"
   ]
  },
  {
   "cell_type": "code",
   "execution_count": 76,
   "metadata": {
    "scrolled": true
   },
   "outputs": [
    {
     "name": "stdout",
     "output_type": "stream",
     "text": [
      "projection:  GEOGCS[\"WGS 84\",DATUM[\"WGS_1984\",SPHEROID[\"WGS 84\",6378137,298.257223563,AUTHORITY[\"EPSG\",\"7030\"]],AUTHORITY[\"EPSG\",\"6326\"]],PRIMEM[\"Greenwich\",0],UNIT[\"degree\",0.0174532925199433,AUTHORITY[\"EPSG\",\"9122\"]],AXIS[\"Latitude\",NORTH],AXIS[\"Longitude\",EAST],AUTHORITY[\"EPSG\",\"4326\"]]\n",
      "pixel size:  0.0002694945852358551\n",
      "n dates in timeseries:  446\n"
     ]
    }
   ],
   "source": [
    "print(\"projection: \", data_list[0].projection)\n",
    "print(\"pixel size: \", data_list[0].xpixelsize)\n",
    "print(\"n dates in timeseries: \", data_list[0].nbands)\n",
    "\n",
    "# Uncomment to see al vars associated with the tile\n",
    "#vars(data_list[0])"
   ]
  },
  {
   "cell_type": "markdown",
   "metadata": {},
   "source": [
    "# Set parameters\n",
    "\n",
    "## Make sure not to re-run these blocks if you want to use the same dates for every segment 1|2|3|4"
   ]
  },
  {
   "cell_type": "code",
   "execution_count": 77,
   "metadata": {},
   "outputs": [
    {
     "data": {
      "application/vnd.jupyter.widget-view+json": {
       "model_id": "c1dd31a4ccb64b77a213804f503f67b6",
       "version_major": 2,
       "version_minor": 0
      },
      "text/plain": [
       "interactive(children=(Dropdown(description='k, harmonic terms', index=2, layout=Layout(height='auto', width='5…"
      ]
     },
     "metadata": {},
     "output_type": "display_data"
    },
    {
     "data": {
      "application/vnd.jupyter.widget-view+json": {
       "model_id": "6ff72d6de4334f2e94dc6c5c93408688",
       "version_major": 2,
       "version_minor": 0
      },
      "text/plain": [
       "interactive(children=(IntSlider(value=365, description='freq, frequency of seasonal model (days)', layout=Layo…"
      ]
     },
     "metadata": {},
     "output_type": "display_data"
    },
    {
     "data": {
      "application/vnd.jupyter.widget-view+json": {
       "model_id": "dd30031c8acb426b82fb876063b21b56",
       "version_major": 2,
       "version_minor": 0
      },
      "text/plain": [
       "interactive(children=(Checkbox(value=False, description='add trend', layout=Layout(height='auto', width='500px…"
      ]
     },
     "metadata": {},
     "output_type": "display_data"
    },
    {
     "data": {
      "application/vnd.jupyter.widget-view+json": {
       "model_id": "32342ff9c4374ac6a5929b9e9297aaec",
       "version_major": 2,
       "version_minor": 0
      },
      "text/plain": [
       "interactive(children=(FloatSlider(value=0.25, description='Bandwith relative to sample size', layout=Layout(he…"
      ]
     },
     "metadata": {},
     "output_type": "display_data"
    },
    {
     "data": {
      "application/vnd.jupyter.widget-view+json": {
       "model_id": "fc5c64730fe04adea95836c5965baa49",
       "version_major": 2,
       "version_minor": 0
      },
      "text/plain": [
       "interactive(children=(SelectionSlider(description='Significance level of the monitoring', layout=Layout(height…"
      ]
     },
     "metadata": {},
     "output_type": "display_data"
    },
    {
     "data": {
      "application/vnd.jupyter.widget-view+json": {
       "model_id": "921a56e5e09d4a5ba05640804a20eec8",
       "version_major": 2,
       "version_minor": 0
      },
      "text/plain": [
       "interactive(children=(Dropdown(description='backend', layout=Layout(height='auto', width='500px'), options=('o…"
      ]
     },
     "metadata": {},
     "output_type": "display_data"
    }
   ],
   "source": [
    "# Choose parameters\n",
    "display(k_chooser)\n",
    "display(freq_chooser)\n",
    "display(trend_chooser)\n",
    "display(hfrac_chooser)\n",
    "display(level_chooser)\n",
    "display(backend_chooser)"
   ]
  },
  {
   "cell_type": "code",
   "execution_count": 78,
   "metadata": {},
   "outputs": [],
   "source": [
    "# Set parameters\n",
    "k = k_chooser.result\n",
    "freq = freq_chooser.result\n",
    "trend = trend_chooser.result\n",
    "hfrac = hfrac_chooser.result\n",
    "level = 1 - level_chooser.result\n",
    "backend = backend_chooser.result\n",
    "verbose = 1\n",
    "device_id = 0"
   ]
  },
  {
   "cell_type": "markdown",
   "metadata": {},
   "source": [
    "# Select monitoring period\n",
    "\n",
    "## Make sure not to re-run these blocks if you want to use the same dates for every segment 1|2|3|4"
   ]
  },
  {
   "cell_type": "code",
   "execution_count": 79,
   "metadata": {},
   "outputs": [
    {
     "data": {
      "application/vnd.jupyter.widget-view+json": {
       "model_id": "9506c558953f4f6b9feeca5bcef9f703",
       "version_major": 2,
       "version_minor": 0
      },
      "text/plain": [
       "interactive(children=(SelectionRangeSlider(description='Select the monitoring date range: ', index=(0, 3144), …"
      ]
     },
     "metadata": {},
     "output_type": "display_data"
    },
    {
     "data": {
      "application/vnd.jupyter.widget-view+json": {
       "model_id": "d07741a74c8a4e9ead24240e525ed5f8",
       "version_major": 2,
       "version_minor": 0
      },
      "text/plain": [
       "interactive(children=(SelectionSlider(description='Start history period:', options=(('2012-01-05', Timestamp('…"
      ]
     },
     "metadata": {},
     "output_type": "display_data"
    }
   ],
   "source": [
    "dates = data_list[0].dates\n",
    "start_date = dates[0] # 0 or 10 does not work.. 100 did ########\n",
    "end_date = dates[-1]\n",
    "pandas_dates = pd.date_range(start_date, end_date, freq='D')\n",
    "\n",
    "options =  [(date.strftime('%Y-%m-%d'),date) for date in pandas_dates]\n",
    "index = (0, len(options)-1)\n",
    "\n",
    "monitoring_period_chooser, history_period_chooser = get_dates_widgets(options = options, index = index)\n",
    "\n",
    "display(monitoring_period_chooser)\n",
    "display(history_period_chooser)"
   ]
  },
  {
   "cell_type": "code",
   "execution_count": 80,
   "metadata": {},
   "outputs": [
    {
     "ename": "Warning",
     "evalue": "Your history period is relatively short, did you move the monitoring date range to a later date?",
     "output_type": "error",
     "traceback": [
      "\u001b[0;31m---------------------------------------------------------------------------\u001b[0m",
      "\u001b[0;31mWarning\u001b[0m                                   Traceback (most recent call last)",
      "\u001b[0;32m<ipython-input-80-70869ff84613>\u001b[0m in \u001b[0;36m<module>\u001b[0;34m\u001b[0m\n\u001b[1;32m      5\u001b[0m     \u001b[0;32mraise\u001b[0m \u001b[0mException\u001b[0m\u001b[0;34m(\u001b[0m\u001b[0;34m\"Your history period must start before the monitoring period\"\u001b[0m\u001b[0;34m)\u001b[0m\u001b[0;34m\u001b[0m\u001b[0;34m\u001b[0m\u001b[0m\n\u001b[1;32m      6\u001b[0m \u001b[0;32mif\u001b[0m \u001b[0mstart_monitor\u001b[0m \u001b[0;34m<\u001b[0m \u001b[0mdates\u001b[0m\u001b[0;34m[\u001b[0m\u001b[0;36m50\u001b[0m\u001b[0;34m]\u001b[0m\u001b[0;34m:\u001b[0m\u001b[0;34m\u001b[0m\u001b[0;34m\u001b[0m\u001b[0m\n\u001b[0;32m----> 7\u001b[0;31m     \u001b[0;32mraise\u001b[0m \u001b[0mWarning\u001b[0m\u001b[0;34m(\u001b[0m\u001b[0;34m\"Your history period is relatively short, did you move the monitoring date range to a later date?\"\u001b[0m\u001b[0;34m)\u001b[0m\u001b[0;34m\u001b[0m\u001b[0;34m\u001b[0m\u001b[0m\n\u001b[0m\u001b[1;32m      8\u001b[0m \u001b[0;34m\u001b[0m\u001b[0m\n",
      "\u001b[0;31mWarning\u001b[0m: Your history period is relatively short, did you move the monitoring date range to a later date?"
     ]
    }
   ],
   "source": [
    "start_monitor, end_monitor = monitoring_period_chooser.result\n",
    "start_hist = history_period_chooser.result\n",
    "\n",
    "if history_period_chooser.result > start_monitor:\n",
    "    raise Exception(\"Your history period must start before the monitoring period\")\n",
    "if start_monitor < dates[50]:\n",
    "    raise Warning(\"Your history period is relatively short, did you move the monitoring date range to a later date?\")\n",
    "\n"
   ]
  },
  {
   "cell_type": "markdown",
   "metadata": {},
   "source": [
    "## Loop over tiles, (or single tile), in data_list\n",
    "### Alternatively, if your magnituede_changes and breaks arrays already exist, skip this code and run load from file in the next block\n",
    "### If you get a memory error, change the x_block and y_block size to a smaller power of 2: 1080, 512, 256, 128"
   ]
  },
  {
   "cell_type": "code",
   "execution_count": 15,
   "metadata": {},
   "outputs": [
    {
     "data": {
      "application/vnd.jupyter.widget-view+json": {
       "model_id": "2a8744ce4a1d481bb6746596078ae2bc",
       "version_major": 2,
       "version_minor": 0
      },
      "text/plain": [
       "interactive(children=(Dropdown(description='block size, bigger is generally faster, but may result in memory i…"
      ]
     },
     "metadata": {},
     "output_type": "display_data"
    }
   ],
   "source": [
    "display(block_size_chooser)"
   ]
  },
  {
   "cell_type": "code",
   "execution_count": 16,
   "metadata": {
    "scrolled": true
   },
   "outputs": [
    {
     "name": "stderr",
     "output_type": "stream",
     "text": [
      "Processing tile 1 out of 1:   0%|          | 0/1 [00:00<?, ?it/s]\n",
      "  0%|          | 0/6.9007110595703125 [00:00<?, ?it/s]\u001b[A\n",
      "Processing blocks of tile::   0%|          | 0/6.9007110595703125 [00:00<?, ?it/s]\u001b[A"
     ]
    },
    {
     "name": "stdout",
     "output_type": "stream",
     "text": [
      "device:  [<pyopencl.Device 'Tesla T4' on 'NVIDIA CUDA' at 0x36e8930>]\n",
      "Monitoring starts at:  2013-10-29 00:00:00\n",
      "Monitoring ends at:  2020-08-27 00:00:00\n",
      "Dataset history starts at:  2000-01-01 00:00:00\n",
      "frequency:  365\n",
      "harmonic term:  3\n",
      "Hfrac: Float in the interval (0,1) specifying the bandwidth relative to the sample size in the MOSUM/ME monitoring processes.:  0.25\n",
      "Trend: Whether a tend offset term shall be used or not:  False\n",
      "Level: Significance level of the monitoring (and ROC, if selected) procedure, i.e., probability of type I error:  0.050000000000000044\n",
      "backend: GPU opencl or CPU python:  opencl\n",
      "verbose: The verbosity level (0=no output, 1=output):  1\n",
      "rastersize:  755 599\n",
      "The natural block size is the block size that is most efficient for accessing the format, gdal found blocksize:  [128, 128]\n",
      "set blocksize explicitly:  256 ,  256\n",
      "start monitor:  2013-10-29 00:00:00\n",
      "end monitor:  2020-08-27 00:00:00\n",
      "start history:  2000-01-01 00:00:00\n",
      "0 0 256 256\n"
     ]
    },
    {
     "name": "stderr",
     "output_type": "stream",
     "text": [
      "\n",
      "Processing blocks of tile::  29%|██▉       | 2/6.9007110595703125 [00:16<00:39,  8.15s/it]\u001b[A"
     ]
    },
    {
     "name": "stdout",
     "output_type": "stream",
     "text": [
      "--- runtime for data initialization:\t\t0.11482977867126465\n",
      "--- runtime for data transfer (host->device):\t0.026777982711791992\n",
      "--- runtime for data preprocessing:\t\t0.006694316864013672\n",
      "--- runtime for kernel execution:\t\t0.05509233474731445\n",
      "--- runtime for data transfer (device->host):\t0.00784921646118164\n",
      "256 0 256 256\n"
     ]
    },
    {
     "name": "stderr",
     "output_type": "stream",
     "text": [
      "\n",
      "Processing blocks of tile::  43%|████▎     | 3/6.9007110595703125 [00:22<00:29,  7.51s/it]\u001b[A"
     ]
    },
    {
     "name": "stdout",
     "output_type": "stream",
     "text": [
      "--- runtime for data initialization:\t\t0.0025539398193359375\n",
      "--- runtime for data transfer (host->device):\t0.026484966278076172\n",
      "--- runtime for data preprocessing:\t\t0.005347013473510742\n",
      "--- runtime for kernel execution:\t\t0.055046796798706055\n",
      "--- runtime for data transfer (device->host):\t0.0076329708099365234\n",
      "512 0 243 256\n"
     ]
    },
    {
     "name": "stderr",
     "output_type": "stream",
     "text": [
      "\n",
      "Processing blocks of tile::  58%|█████▊    | 4/6.9007110595703125 [00:28<00:20,  6.97s/it]\u001b[A"
     ]
    },
    {
     "name": "stdout",
     "output_type": "stream",
     "text": [
      "--- runtime for data initialization:\t\t0.002640962600708008\n",
      "--- runtime for data transfer (host->device):\t0.025479793548583984\n",
      "--- runtime for data preprocessing:\t\t0.005042076110839844\n",
      "--- runtime for kernel execution:\t\t0.052019357681274414\n",
      "--- runtime for data transfer (device->host):\t0.007353305816650391\n",
      "0 256 256 256\n"
     ]
    },
    {
     "name": "stderr",
     "output_type": "stream",
     "text": [
      "\n",
      "Processing blocks of tile::  72%|███████▏  | 5/6.9007110595703125 [00:34<00:12,  6.70s/it]\u001b[A"
     ]
    },
    {
     "name": "stdout",
     "output_type": "stream",
     "text": [
      "--- runtime for data initialization:\t\t0.0026047229766845703\n",
      "--- runtime for data transfer (host->device):\t0.02686333656311035\n",
      "--- runtime for data preprocessing:\t\t0.006451129913330078\n",
      "--- runtime for kernel execution:\t\t0.055056095123291016\n",
      "--- runtime for data transfer (device->host):\t0.007683992385864258\n",
      "256 256 256 256\n"
     ]
    },
    {
     "name": "stderr",
     "output_type": "stream",
     "text": [
      "\n",
      "Processing blocks of tile::  87%|████████▋ | 6/6.9007110595703125 [00:40<00:05,  6.53s/it]\u001b[A"
     ]
    },
    {
     "name": "stdout",
     "output_type": "stream",
     "text": [
      "--- runtime for data initialization:\t\t0.0025708675384521484\n",
      "--- runtime for data transfer (host->device):\t0.02670764923095703\n",
      "--- runtime for data preprocessing:\t\t0.005300283432006836\n",
      "--- runtime for kernel execution:\t\t0.05476951599121094\n",
      "--- runtime for data transfer (device->host):\t0.007685184478759766\n",
      "512 256 243 256\n"
     ]
    },
    {
     "name": "stderr",
     "output_type": "stream",
     "text": [
      "\n",
      "/usr/local/lib/python3.6/dist-packages/tqdm/std.py:484: TqdmWarning: clamping frac to range [0, 1]\n",
      "  charset=Bar.ASCII if ascii is True else ascii or Bar.UTF)\n",
      "Processing blocks of tile:: 101%|██████████| 7/6.9007110595703125 [00:46<00:00,  6.38s/it]\u001b[A"
     ]
    },
    {
     "name": "stdout",
     "output_type": "stream",
     "text": [
      "--- runtime for data initialization:\t\t0.0025839805603027344\n",
      "--- runtime for data transfer (host->device):\t0.025437593460083008\n",
      "--- runtime for data preprocessing:\t\t0.004950761795043945\n",
      "--- runtime for kernel execution:\t\t0.05207371711730957\n",
      "--- runtime for data transfer (device->host):\t0.007224559783935547\n",
      "0 512 256 87\n"
     ]
    },
    {
     "name": "stderr",
     "output_type": "stream",
     "text": [
      "\n",
      "Processing blocks of tile:: : 8it [00:50,  5.72s/it]                                      \u001b[A"
     ]
    },
    {
     "name": "stdout",
     "output_type": "stream",
     "text": [
      "--- runtime for data initialization:\t\t0.0025429725646972656\n",
      "--- runtime for data transfer (host->device):\t0.009433269500732422\n",
      "--- runtime for data preprocessing:\t\t0.0028128623962402344\n",
      "--- runtime for kernel execution:\t\t0.01902294158935547\n",
      "--- runtime for data transfer (device->host):\t0.002644062042236328\n",
      "256 512 256 87\n"
     ]
    },
    {
     "name": "stderr",
     "output_type": "stream",
     "text": [
      "\n",
      "Processing blocks of tile:: : 9it [00:54,  5.22s/it]\u001b[A"
     ]
    },
    {
     "name": "stdout",
     "output_type": "stream",
     "text": [
      "--- runtime for data initialization:\t\t0.002639293670654297\n",
      "--- runtime for data transfer (host->device):\t0.009383916854858398\n",
      "--- runtime for data preprocessing:\t\t0.002802133560180664\n",
      "--- runtime for kernel execution:\t\t0.019040584564208984\n",
      "--- runtime for data transfer (device->host):\t0.0026111602783203125\n",
      "512 512 243 87\n"
     ]
    },
    {
     "name": "stderr",
     "output_type": "stream",
     "text": [
      "Processing blocks of tile:: : 9it [00:58,  6.52s/it]\n",
      "Processing tile 1 out of 1:   0%|          | 0/1 [00:58<?, ?it/s]"
     ]
    },
    {
     "name": "stdout",
     "output_type": "stream",
     "text": [
      "--- runtime for data initialization:\t\t0.002704143524169922\n",
      "--- runtime for data transfer (host->device):\t0.009052753448486328\n",
      "--- runtime for data preprocessing:\t\t0.0028052330017089844\n",
      "--- runtime for kernel execution:\t\t0.018347740173339844\n",
      "--- runtime for data transfer (device->host):\t0.0024499893188476562\n",
      "Fitting model over all blocks took 58.65805959701538 seconds.\n"
     ]
    },
    {
     "name": "stderr",
     "output_type": "stream",
     "text": [
      "\n"
     ]
    }
   ],
   "source": [
    "x_block = y_block = block_size_chooser.result\n",
    "\n",
    "# loading bar\n",
    "with tqdm(total=len(data_list)) as pbar1:\n",
    "    \n",
    "    # loop over tile(s) in the data_list\n",
    "    for counter, tile in enumerate(data_list):\n",
    "        pbar1.set_description(\"Processing tile %s out of %s\" % (counter+1, len(data_list)) )\n",
    "\n",
    "        tile.set_bfast_parameters(start_monitor = start_monitor, \n",
    "                                     end_monitor = end_monitor,\n",
    "                                     start_hist = start_hist,\n",
    "                                     freq = freq,\n",
    "                                     k = k,\n",
    "                                     hfrac = hfrac,\n",
    "                                     trend = trend,\n",
    "                                     level = level,\n",
    "                                     backend=backend,\n",
    "                                     verbose=verbose,\n",
    "                                     device_id=device_id)\n",
    "        \n",
    "        tile.get_bfast_parameters()\n",
    "        \n",
    "        tile.loop_blocks(x_block_size = x_block,\n",
    "                            y_block_size=y_block)\n",
    "        \n",
    "        tile.log_all_output(output_dir_name=output_dir)\n",
    "        \n",
    "        pbar1.update(counter)\n",
    "        \n",
    "pbar1.close()\n",
    "\n",
    "# Store the cropped dates for optional loading later\n",
    "with open(output_dir + \"/cropped_dates.csv\",\"w\") as f:\n",
    "    for date in data_list[0].cropped_dates:\n",
    "        f.write(date.strftime(\"%m/%d/%Y\"))\n",
    "        f.write(\"\\n\")\n"
   ]
  },
  {
   "cell_type": "markdown",
   "metadata": {},
   "source": [
    "## (Optional) Load files\n",
    "### The cell above automatically stores the output intermediately. If you want to load previously saved files you may check the box and run the next two cells. "
   ]
  },
  {
   "cell_type": "code",
   "execution_count": 81,
   "metadata": {
    "scrolled": true
   },
   "outputs": [
    {
     "data": {
      "application/vnd.jupyter.widget-view+json": {
       "model_id": "5b39252fbbde4d6d88982bf93650aaf1",
       "version_major": 2,
       "version_minor": 0
      },
      "text/plain": [
       "interactive(children=(Checkbox(value=False, description='load tiles', layout=Layout(height='auto', width='500p…"
      ]
     },
     "metadata": {},
     "output_type": "display_data"
    }
   ],
   "source": [
    "display(load_chooser)"
   ]
  },
  {
   "cell_type": "code",
   "execution_count": 82,
   "metadata": {},
   "outputs": [
    {
     "name": "stdout",
     "output_type": "stream",
     "text": [
      "stored_time_series/Guyana/Guyana_0/tile-0000000000-0000000000_means.npy\n",
      "stored_time_series/Guyana/Guyana_0/tile-0000000000-0000000000_breaks.npy\n",
      "stored_time_series/Guyana/Guyana_0/tile-0000000000-0000002048_means.npy\n",
      "stored_time_series/Guyana/Guyana_0/tile-0000000000-0000002048_breaks.npy\n",
      "stored_time_series/Guyana/Guyana_0/tile-0000002048-0000000000_means.npy\n",
      "stored_time_series/Guyana/Guyana_0/tile-0000002048-0000000000_breaks.npy\n",
      "stored_time_series/Guyana/Guyana_0/tile-0000002048-0000002048_means.npy\n",
      "stored_time_series/Guyana/Guyana_0/tile-0000002048-0000002048_breaks.npy\n",
      "stored_time_series/Guyana/Guyana_0/tile-0000004096-0000000000_means.npy\n",
      "stored_time_series/Guyana/Guyana_0/tile-0000004096-0000000000_breaks.npy\n",
      "stored_time_series/Guyana/Guyana_0/tile-0000004096-0000002048_means.npy\n",
      "stored_time_series/Guyana/Guyana_0/tile-0000004096-0000002048_breaks.npy\n"
     ]
    }
   ],
   "source": [
    "if load_chooser.result == True:\n",
    "    \n",
    "    for tile in data_list:\n",
    "\n",
    "        with open(output_dir + \"/cropped_dates.csv\",\"r\") as f:\n",
    "            dates_list = f.read().split('\\n')\n",
    "            tile.cropped_dates = [datetime.strptime(d, '%m/%d/%Y') for d in dates_list if len(d) > 0]\n",
    "        \n",
    "        tile.start_hist = tile.cropped_dates[0]\n",
    "        tile.end_monitor = tile.cropped_dates[-1]\n",
    "        tile.load_breaks_means_arrays_from_file(output_dir_name = output_dir)\n",
    "        \n",
    "else:\n",
    "    print(\"no tiles loaded, make sure to run the block above and uncheck the marker, if you want to load tiles\")\n",
    "    \n"
   ]
  },
  {
   "cell_type": "markdown",
   "metadata": {},
   "source": [
    "### Check tiles for output quality"
   ]
  },
  {
   "cell_type": "code",
   "execution_count": 83,
   "metadata": {
    "scrolled": true
   },
   "outputs": [
    {
     "name": "stdout",
     "output_type": "stream",
     "text": [
      "/home/dven/downloads/Time_series_2020-09-01_16-22-26/0/tile-0000000000-0000000000/\n",
      "minus2s:  0\n",
      "minus1s:  3911569\n",
      "total 4194304\n",
      "percentage cells that lacked enough data for finding means or breaks: 0.0\n",
      "percentage cells where breaks were found: 6.740927696228027\n",
      "amount of nans in means:  200268\n",
      "/home/dven/downloads/Time_series_2020-09-01_16-22-26/0/tile-0000000000-0000002048/\n",
      "minus2s:  0\n",
      "minus1s:  383837\n",
      "total 403456\n",
      "percentage cells that lacked enough data for finding means or breaks: 0.0\n",
      "percentage cells where breaks were found: 4.862735961294416\n",
      "amount of nans in means:  198\n",
      "/home/dven/downloads/Time_series_2020-09-01_16-22-26/0/tile-0000002048-0000000000/\n",
      "minus2s:  0\n",
      "minus1s:  3597234\n",
      "total 4194304\n",
      "percentage cells that lacked enough data for finding means or breaks: 0.0\n",
      "percentage cells where breaks were found: 14.235258102416992\n",
      "amount of nans in means:  1183028\n",
      "/home/dven/downloads/Time_series_2020-09-01_16-22-26/0/tile-0000002048-0000002048/\n",
      "minus2s:  0\n",
      "minus1s:  359473\n",
      "total 403456\n",
      "percentage cells that lacked enough data for finding means or breaks: 0.0\n",
      "percentage cells where breaks were found: 10.90156051713198\n",
      "amount of nans in means:  0\n",
      "/home/dven/downloads/Time_series_2020-09-01_16-22-26/0/tile-0000004096-0000000000/\n",
      "minus2s:  0\n",
      "minus1s:  3829714\n",
      "total 4147200\n",
      "percentage cells that lacked enough data for finding means or breaks: 0.0\n",
      "percentage cells where breaks were found: 7.655430169753085\n",
      "amount of nans in means:  2754056\n",
      "/home/dven/downloads/Time_series_2020-09-01_16-22-26/0/tile-0000004096-0000002048/\n",
      "minus2s:  0\n",
      "minus1s:  354259\n",
      "total 398925\n",
      "percentage cells that lacked enough data for finding means or breaks: 0.0\n",
      "percentage cells where breaks were found: 11.196590837876794\n",
      "amount of nans in means:  30489\n"
     ]
    }
   ],
   "source": [
    "for tile in data_list:\n",
    "    print(tile.dir)\n",
    "    \n",
    "    # do some plots\n",
    "    breaks = tile.breaks_array\n",
    "    means = tile.means_array\n",
    "    \n",
    "    tile.check_arrays(min_perc_lacking_data = 50)\n"
   ]
  },
  {
   "cell_type": "markdown",
   "metadata": {},
   "source": [
    "### Merge tiles together and save as all_means.npy and all_breaks.npy"
   ]
  },
  {
   "cell_type": "markdown",
   "metadata": {},
   "source": [
    "#### Select negative magnitudes"
   ]
  },
  {
   "cell_type": "code",
   "execution_count": 108,
   "metadata": {
    "scrolled": true
   },
   "outputs": [
    {
     "name": "stdout",
     "output_type": "stream",
     "text": [
      "stored_time_series/Guyana/Guyana_0/numpy_arrays/all_magnitudes.npy\n",
      "stored_time_series/Guyana/Guyana_0/numpy_arrays/all_breaks.npy\n",
      "arrays saved in stored_time_series/Guyana/Guyana_0/numpy_arrays\n",
      "png saved in stored_time_series/Guyana/Guyana_0/pngs/all_magnitudes.png\n",
      "colorbar saved in stored_time_series/Guyana/Guyana_0/colorbars/colorbar_all_magnitudes.png\n",
      "Geotiff saved in stored_time_series/Guyana/Guyana_0/geotifs/magnitudes_0.tif\n"
     ]
    },
    {
     "data": {
      "image/png": "[encoded data removed]",
      "text/plain": [
       "<Figure size 432x72 with 1 Axes>"
      ]
     },
     "metadata": {
      "needs_background": "light"
     },
     "output_type": "display_data"
    }
   ],
   "source": [
    "if len(data_list)>1:\n",
    "    means_orig, breaks_orig = merge_tiles(data_list,output_dir_name = output_dir)\n",
    "else:\n",
    "    means_orig = data_list[0].means_array\n",
    "    breaks_orig = data_list[0].breaks_array\n",
    "\n",
    "save_plot(means_orig,output_dir, save_name = \"all_magnitudes\")\n",
    "#save_plot(breaks_orig,output_dir, save_name = \"all_breaks\")\n",
    "\n",
    "#export_GTiff(data_list, output_dir, array = breaks_orig, output_name = \"breaks_\" + timeseries_directory[-2] + \".tif\")\n",
    "export_GTiff(data_list, output_dir, array = means_orig, output_name = \"magnitudes_\" + timeseries_directory[-2] + \".tif\")"
   ]
  },
  {
   "cell_type": "code",
   "execution_count": 109,
   "metadata": {},
   "outputs": [
    {
     "name": "stdout",
     "output_type": "stream",
     "text": [
      "png saved in stored_time_series/Guyana/Guyana_0/pngs/all_negative_magnitudes.png\n",
      "colorbar saved in stored_time_series/Guyana/Guyana_0/colorbars/colorbar_all_negative_magnitudes.png\n",
      "Geotiff saved in stored_time_series/Guyana/Guyana_0/geotifs/magnitudes_negative_0.tif\n",
      "Geotiff saved in stored_time_series/Guyana/Guyana_0/geotifs/breaks_binary_0.tif\n",
      "Geotiff saved in stored_time_series/Guyana/Guyana_0/geotifs/breaks_binary_negative_0.tif\n"
     ]
    },
    {
     "data": {
      "image/png": "[encoded data removed]",
      "text/plain": [
       "<Figure size 432x72 with 1 Axes>"
      ]
     },
     "metadata": {
      "needs_background": "light"
     },
     "output_type": "display_data"
    }
   ],
   "source": [
    "# select only negative magnitudes\n",
    "means_neg, breaks_indexed, breaks_indexed_neg, binary_breaks, negative_binary_breaks = select_negatives(means_orig, breaks_orig)\n",
    "\n",
    "save_plot(means_neg, output_dir, save_name = \"all_negative_magnitudes\")\n",
    "\n",
    "# save negative means and breaks\n",
    "export_GTiff(data_list, output_dir, array = means_neg ,output_name = \"magnitudes_negative_\" + timeseries_directory[-2] + \".tif\")\n",
    "export_GTiff(data_list, output_dir, array = binary_breaks ,output_name = \"breaks_binary_\" + timeseries_directory[-2] + \".tif\")\n",
    "export_GTiff(data_list, output_dir, array = negative_binary_breaks ,output_name = \"breaks_binary_negative_\" + timeseries_directory[-2] + \".tif\")\n"
   ]
  },
  {
   "cell_type": "code",
   "execution_count": 110,
   "metadata": {
    "scrolled": true
   },
   "outputs": [],
   "source": [
    "dates_monitor = []\n",
    "dates = data_list[0].cropped_dates\n",
    "\n",
    "# collect dates for monitor period\n",
    "for i in range(len(dates)):\n",
    "    if start_monitor <= dates[i]:\n",
    "        dates_monitor.append(dates[i])\n",
    "dates_array = np.array(dates_monitor) # dates_array is the dates that are in the monitoring period\n"
   ]
  },
  {
   "cell_type": "code",
   "execution_count": 111,
   "metadata": {},
   "outputs": [
    {
     "name": "stdout",
     "output_type": "stream",
     "text": [
      "Geotiff saved in stored_time_series/Guyana/Guyana_0/geotifs/breaks_julian_0.tif\n",
      "Geotiff saved in stored_time_series/Guyana/Guyana_0/geotifs/breaks_julian_negative_0.tif\n"
     ]
    }
   ],
   "source": [
    "\n",
    "julian_breaks = get_julian_dates(dates_array,breaks_indexed_neg)\n",
    "negative_julian_breaks = get_julian_dates(dates_array,breaks_neg)\n",
    "\n",
    "# save negative means and breaks\n",
    "export_GTiff(data_list, output_dir, array = julian_breaks ,output_name = \"breaks_julian_\" + timeseries_directory[-2] + \".tif\")\n",
    "export_GTiff(data_list, output_dir, array = negative_julian_breaks ,output_name = \"breaks_julian_negative_\" + timeseries_directory[-2] + \".tif\")"
   ]
  },
  {
   "cell_type": "markdown",
   "metadata": {},
   "source": [
    "# Classify output for plotting"
   ]
  },
  {
   "cell_type": "code",
   "execution_count": null,
   "metadata": {},
   "outputs": [],
   "source": [
    "breaks_years_neg, idx_starts, ticklist = classify_output(start_monitor,end_monitor,breaks_indexed_neg,dates_array)\n",
    "#save_plot(breaks_years_neg, output_dir, save_name = \"all_negative_breaks_years\")"
   ]
  },
  {
   "cell_type": "markdown",
   "metadata": {},
   "source": [
    "# Plot output"
   ]
  },
  {
   "cell_type": "code",
   "execution_count": null,
   "metadata": {
    "scrolled": false
   },
   "outputs": [],
   "source": [
    "plot_output_matplotlib(idx_starts,breaks_years_neg,ticklist)\n",
    "#asave_plot(breaks_years_neg, output_dir, save_name = \"breaks_per_year\")"
   ]
  },
  {
   "cell_type": "code",
   "execution_count": null,
   "metadata": {},
   "outputs": [],
   "source": [
    "set_corners(output_dir,data_list)"
   ]
  },
  {
   "cell_type": "markdown",
   "metadata": {},
   "source": [
    "## Plot all of your segments and save as a html map"
   ]
  },
  {
   "cell_type": "code",
   "execution_count": null,
   "metadata": {},
   "outputs": [],
   "source": [
    "display(plot_display_data_chooser)"
   ]
  },
  {
   "cell_type": "code",
   "execution_count": null,
   "metadata": {
    "scrolled": false
   },
   "outputs": [],
   "source": [
    "m = merge_plots(data_list = data_list, base_output_dir=base_output_dir,plot_name=plot_display_data_chooser.result + \".png\")\n",
    "m.save(output_dir + \"/\" +  output_directory_chooser.result + \"_\" + plot_display_data_chooser.result + \".html\")\n",
    "m"
   ]
  },
  {
   "cell_type": "code",
   "execution_count": null,
   "metadata": {},
   "outputs": [],
   "source": []
  }
 ],
 "metadata": {
  "kernelspec": {
   "display_name": "Python 3",
   "language": "python",
   "name": "python3"
  },
  "language_info": {
   "codemirror_mode": {
    "name": "ipython",
    "version": 3
   },
   "file_extension": ".py",
   "mimetype": "text/x-python",
   "name": "python",
   "nbconvert_exporter": "python",
   "pygments_lexer": "ipython3",
   "version": "3.6.9"
  }
 },
 "nbformat": 4,
 "nbformat_minor": 4
}
