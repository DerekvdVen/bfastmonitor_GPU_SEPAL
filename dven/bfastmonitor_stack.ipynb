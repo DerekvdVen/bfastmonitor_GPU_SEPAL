{
 "cells": [
  {
   "cell_type": "markdown",
   "metadata": {},
   "source": [
    "# This code runs bfastmonitor over an entire time series data set"
   ]
  },
  {
   "cell_type": "code",
   "execution_count": 19,
   "metadata": {},
   "outputs": [
    {
     "name": "stdout",
     "output_type": "stream",
     "text": [
      "\n",
      "    The timeseries class is a wrapper for using SEPAL timeseries data with bfast. \n",
      "    It wraps together a data tile with associated dates file and metadata. \n",
      "    It also allows for saving and loading the output rasters in a specified directory. \n",
      "    \n"
     ]
    }
   ],
   "source": [
    "import os\n",
    "from os.path import expanduser\n",
    "\n",
    "import wget\n",
    "import numpy as np\n",
    "from datetime import datetime\n",
    "import copy\n",
    "import matplotlib\n",
    "import matplotlib.pyplot as plt\n",
    "\n",
    "import json\n",
    "\n",
    "from bfast import BFASTMonitor\n",
    "from bfast.utils import crop_data_dates\n",
    "\n",
    "import csv\n",
    "from shutil import copyfile\n",
    "import pandas as pd\n",
    "from osgeo import gdal, gdal_array, osr\n",
    "\n",
    "import time\n",
    "from tqdm import tqdm\n",
    "\n",
    "import ipywidgets as widgets\n",
    "from ipywidgets import Layout\n",
    "from ipyfilechooser import FileChooser\n",
    "import folium\n",
    "\n",
    "from PIL import Image\n",
    "from matplotlib import cm\n",
    "\n",
    "# import functions from functions.py\n",
    "from functions import set_base_output_dir, set_output_dir, get_data_dict, merge_tiles, set_paths, _find_index_date, normalize \n",
    "from plotting_funcs import save_plot, merge_plots, classify_output, plot_output_matplotlib, set_corners\n",
    "\n",
    "# Import the Timeseries class from time_series.py\n",
    "from time_series import Timeseries\n",
    "print(Timeseries.__doc__)\n",
    "\n",
    "# Import widgets for GUI parameter selection\n",
    "from widgets import get_widgets, get_dates_widgets\n",
    "output_directory_chooser, k_chooser,freq_chooser,trend_chooser,hfrac_chooser,level_chooser,backend_chooser, load_chooser, block_size_chooser, plot_display_data_chooser = get_widgets()"
   ]
  },
  {
   "cell_type": "code",
   "execution_count": 20,
   "metadata": {},
   "outputs": [],
   "source": [
    "%matplotlib inline"
   ]
  },
  {
   "cell_type": "code",
   "execution_count": 21,
   "metadata": {},
   "outputs": [
    {
     "data": {
      "application/vnd.jupyter.widget-view+json": {
       "model_id": "9d6f37114edd429691f3bdf9c6dc4648",
       "version_major": 2,
       "version_minor": 0
      },
      "text/plain": [
       "interactive(children=(Text(value='', description='Output storage name: (country/location name, e.g. \"Guyana\")'…"
      ]
     },
     "metadata": {},
     "output_type": "display_data"
    }
   ],
   "source": [
    "display(output_directory_chooser)"
   ]
  },
  {
   "cell_type": "code",
   "execution_count": 22,
   "metadata": {},
   "outputs": [
    {
     "name": "stdout",
     "output_type": "stream",
     "text": [
      "Output directory name: stored_time_series/Guyana_new\n"
     ]
    }
   ],
   "source": [
    "base_output_dir = set_base_output_dir(output_directory_chooser)"
   ]
  },
  {
   "cell_type": "markdown",
   "metadata": {},
   "source": [
    "# Select your timeseries folder"
   ]
  },
  {
   "cell_type": "code",
   "execution_count": 23,
   "metadata": {},
   "outputs": [
    {
     "data": {
      "application/vnd.jupyter.widget-view+json": {
       "model_id": "0c699c30abf9498e93e4997a8f294212",
       "version_major": 2,
       "version_minor": 0
      },
      "text/plain": [
       "FileChooser(path='/home/dven', filename='', title='HTML(value='', layout=Layout(display='none'))', show_hidden…"
      ]
     },
     "metadata": {},
     "output_type": "display_data"
    }
   ],
   "source": [
    "path = expanduser(\"~\")\n",
    "file_chooser = FileChooser(path)\n",
    "display(file_chooser)"
   ]
  },
  {
   "cell_type": "code",
   "execution_count": 24,
   "metadata": {},
   "outputs": [
    {
     "name": "stdout",
     "output_type": "stream",
     "text": [
      "/home/dven/downloads/Time_series_2020-09-09_15-45-55/\n"
     ]
    }
   ],
   "source": [
    "timeseries_directory = file_chooser.selected\n",
    "\n",
    "if not timeseries_directory:\n",
    "    raise Exception(\"Please choose a time series directory above with the file selector\")\n",
    "else:\n",
    "    print(timeseries_directory)\n",
    "    #output_dir = set_output_dir(output_directory_chooser,timeseries_directory)\n",
    "    #print(output_dir)"
   ]
  },
  {
   "cell_type": "code",
   "execution_count": 25,
   "metadata": {},
   "outputs": [
    {
     "name": "stdout",
     "output_type": "stream",
     "text": [
      "Data consists of tiles, setting up tiles in 'data_list' \n",
      "Timeseries class holding 447 dates, sized 2048 by 2048.\n",
      "Timeseries class holding 447 dates, sized 197 by 2048.\n",
      "Timeseries class holding 447 dates, sized 2048 by 2048.\n",
      "Timeseries class holding 447 dates, sized 197 by 2048.\n",
      "Timeseries class holding 447 dates, sized 2048 by 2025.\n",
      "Timeseries class holding 447 dates, sized 197 by 2025.\n",
      "Data consists of tiles, setting up tiles in 'data_list' \n",
      "Timeseries class holding 368 dates, sized 2048 by 2048.\n",
      "Timeseries class holding 368 dates, sized 2048 by 2048.\n",
      "Timeseries class holding 368 dates, sized 2048 by 2048.\n",
      "Timeseries class holding 368 dates, sized 1278 by 2048.\n",
      "Timeseries class holding 368 dates, sized 2048 by 2048.\n",
      "Timeseries class holding 368 dates, sized 2048 by 2048.\n",
      "Timeseries class holding 368 dates, sized 2048 by 2048.\n",
      "Timeseries class holding 368 dates, sized 1278 by 2048.\n",
      "Timeseries class holding 368 dates, sized 2048 by 2048.\n",
      "Timeseries class holding 368 dates, sized 2048 by 2048.\n",
      "Timeseries class holding 368 dates, sized 2048 by 2048.\n",
      "Timeseries class holding 368 dates, sized 1278 by 2048.\n",
      "Timeseries class holding 368 dates, sized 2048 by 1279.\n",
      "Timeseries class holding 368 dates, sized 2048 by 1279.\n",
      "Timeseries class holding 368 dates, sized 2048 by 1279.\n",
      "Timeseries class holding 368 dates, sized 1278 by 1279.\n",
      "Data consists of tiles, setting up tiles in 'data_list' \n",
      "Timeseries class holding 862 dates, sized 2048 by 2048.\n",
      "Timeseries class holding 862 dates, sized 2048 by 2048.\n",
      "Timeseries class holding 862 dates, sized 2048 by 2048.\n",
      "Timeseries class holding 862 dates, sized 1279 by 2048.\n",
      "Timeseries class holding 862 dates, sized 2048 by 2048.\n",
      "Timeseries class holding 862 dates, sized 2048 by 2048.\n",
      "Timeseries class holding 862 dates, sized 2048 by 2048.\n",
      "Timeseries class holding 862 dates, sized 1279 by 2048.\n",
      "Timeseries class holding 862 dates, sized 2048 by 2048.\n",
      "Timeseries class holding 862 dates, sized 2048 by 2048.\n",
      "Timeseries class holding 862 dates, sized 2048 by 2048.\n",
      "Timeseries class holding 862 dates, sized 1279 by 2048.\n",
      "Timeseries class holding 862 dates, sized 2048 by 1282.\n",
      "Timeseries class holding 862 dates, sized 2048 by 1282.\n",
      "Timeseries class holding 862 dates, sized 2048 by 1282.\n",
      "Timeseries class holding 862 dates, sized 1279 by 1282.\n",
      "Data consists of tiles, setting up tiles in 'data_list' \n",
      "Timeseries class holding 576 dates, sized 2048 by 2048.\n",
      "Timeseries class holding 576 dates, sized 1858 by 2048.\n",
      "Timeseries class holding 576 dates, sized 2048 by 2048.\n",
      "Timeseries class holding 576 dates, sized 1858 by 2048.\n",
      "Timeseries class holding 576 dates, sized 2048 by 2048.\n",
      "Timeseries class holding 576 dates, sized 1858 by 2048.\n",
      "Timeseries class holding 576 dates, sized 2048 by 1281.\n",
      "Timeseries class holding 576 dates, sized 1858 by 1281.\n"
     ]
    }
   ],
   "source": [
    "# set path to dates file\n",
    "run_dict = {}\n",
    "for directory in os.listdir(timeseries_directory)[0:-2]:\n",
    "    \n",
    "    segment_location = timeseries_directory + directory + \"/\"\n",
    "    \n",
    "    data_list = set_paths(timeseries_directory = segment_location)\n",
    "    \n",
    "    run_dict[directory] = data_list\n",
    "    \n",
    "    for tile in data_list:\n",
    "        print(tile)"
   ]
  },
  {
   "cell_type": "code",
   "execution_count": 26,
   "metadata": {},
   "outputs": [
    {
     "data": {
      "application/vnd.jupyter.widget-view+json": {
       "model_id": "e8c894c56ccb4fb58683679617566d8a",
       "version_major": 2,
       "version_minor": 0
      },
      "text/plain": [
       "interactive(children=(Dropdown(description='k, harmonic terms', index=2, layout=Layout(height='auto', width='5…"
      ]
     },
     "metadata": {},
     "output_type": "display_data"
    },
    {
     "data": {
      "application/vnd.jupyter.widget-view+json": {
       "model_id": "5f220ac6db8a4be4b8d3439ce8195789",
       "version_major": 2,
       "version_minor": 0
      },
      "text/plain": [
       "interactive(children=(IntSlider(value=365, description='freq, frequency of seasonal model (days)', layout=Layo…"
      ]
     },
     "metadata": {},
     "output_type": "display_data"
    },
    {
     "data": {
      "application/vnd.jupyter.widget-view+json": {
       "model_id": "db67c0e3b0cf48979f8d4c6105491f2b",
       "version_major": 2,
       "version_minor": 0
      },
      "text/plain": [
       "interactive(children=(Checkbox(value=False, description='add trend', layout=Layout(height='auto', width='500px…"
      ]
     },
     "metadata": {},
     "output_type": "display_data"
    },
    {
     "data": {
      "application/vnd.jupyter.widget-view+json": {
       "model_id": "fa7534e3c6ad42968f3ab276ab03252d",
       "version_major": 2,
       "version_minor": 0
      },
      "text/plain": [
       "interactive(children=(FloatSlider(value=0.25, description='Bandwith relative to sample size', layout=Layout(he…"
      ]
     },
     "metadata": {},
     "output_type": "display_data"
    },
    {
     "data": {
      "application/vnd.jupyter.widget-view+json": {
       "model_id": "b552e9f8d2f944ceab1c3ffcf9782133",
       "version_major": 2,
       "version_minor": 0
      },
      "text/plain": [
       "interactive(children=(SelectionSlider(description='Significance level of the monitoring', layout=Layout(height…"
      ]
     },
     "metadata": {},
     "output_type": "display_data"
    },
    {
     "data": {
      "application/vnd.jupyter.widget-view+json": {
       "model_id": "f6ec409d8be046fa8eaf51f050daf67e",
       "version_major": 2,
       "version_minor": 0
      },
      "text/plain": [
       "interactive(children=(Dropdown(description='backend', layout=Layout(height='auto', width='500px'), options=('o…"
      ]
     },
     "metadata": {},
     "output_type": "display_data"
    }
   ],
   "source": [
    "# Choose parameters\n",
    "display(k_chooser)\n",
    "display(freq_chooser)\n",
    "display(trend_chooser)\n",
    "display(hfrac_chooser)\n",
    "display(level_chooser)\n",
    "display(backend_chooser)"
   ]
  },
  {
   "cell_type": "code",
   "execution_count": 27,
   "metadata": {},
   "outputs": [],
   "source": [
    "# Set parameters\n",
    "k = k_chooser.result\n",
    "freq = freq_chooser.result\n",
    "trend = trend_chooser.result\n",
    "hfrac = hfrac_chooser.result\n",
    "level = 1 - level_chooser.result\n",
    "backend = backend_chooser.result\n",
    "verbose = 1\n",
    "device_id = 0"
   ]
  },
  {
   "cell_type": "code",
   "execution_count": 28,
   "metadata": {},
   "outputs": [
    {
     "data": {
      "application/vnd.jupyter.widget-view+json": {
       "model_id": "582090b35008412e88adb6a7c522e5a5",
       "version_major": 2,
       "version_minor": 0
      },
      "text/plain": [
       "interactive(children=(SelectionRangeSlider(description='Select the monitoring date range: ', index=(0, 3153), …"
      ]
     },
     "metadata": {},
     "output_type": "display_data"
    },
    {
     "data": {
      "application/vnd.jupyter.widget-view+json": {
       "model_id": "e11ed21814bb4349a72c64009916b99f",
       "version_major": 2,
       "version_minor": 0
      },
      "text/plain": [
       "interactive(children=(SelectionSlider(description='Start history period:', options=(('2012-01-05', Timestamp('…"
      ]
     },
     "metadata": {},
     "output_type": "display_data"
    }
   ],
   "source": [
    "dates = data_list[0].dates\n",
    "start_date = dates[0] # 0 or 10 does not work.. 100 did ########\n",
    "end_date = dates[-1]\n",
    "pandas_dates = pd.date_range(start_date, end_date, freq='D')\n",
    "\n",
    "options =  [(date.strftime('%Y-%m-%d'),date) for date in pandas_dates]\n",
    "index = (0, len(options)-1)\n",
    "\n",
    "monitoring_period_chooser, history_period_chooser = get_dates_widgets(options = options, index = index)\n",
    "\n",
    "display(monitoring_period_chooser)\n",
    "display(history_period_chooser)"
   ]
  },
  {
   "cell_type": "code",
   "execution_count": 29,
   "metadata": {},
   "outputs": [],
   "source": [
    "start_monitor, end_monitor = monitoring_period_chooser.result\n",
    "start_hist = history_period_chooser.result\n",
    "\n",
    "if history_period_chooser.result > start_monitor:\n",
    "    raise Exception(\"Your history period must start before the monitoring period\")\n",
    "if start_monitor < dates[50]:\n",
    "    raise Warning(\"Your history period is relatively short, did you move the monitoring date range to a later date?\")\n",
    "\n",
    "\n"
   ]
  },
  {
   "cell_type": "code",
   "execution_count": 31,
   "metadata": {},
   "outputs": [
    {
     "data": {
      "application/vnd.jupyter.widget-view+json": {
       "model_id": "5865d8495c624bb8a734ed4e32a273be",
       "version_major": 2,
       "version_minor": 0
      },
      "text/plain": [
       "interactive(children=(Dropdown(description='block size, bigger is generally faster, but may result in memory i…"
      ]
     },
     "metadata": {},
     "output_type": "display_data"
    }
   ],
   "source": [
    "display(block_size_chooser)"
   ]
  },
  {
   "cell_type": "code",
   "execution_count": null,
   "metadata": {
    "scrolled": true
   },
   "outputs": [
    {
     "name": "stderr",
     "output_type": "stream",
     "text": [
      "Processing tile 1 out of 6:   0%|          | 0/1 [00:00<?, ?it/s]\n",
      "  0%|          | 0/64.0 [00:00<?, ?it/s]\u001b[A\n",
      "Processing blocks of tile::   0%|          | 0/64.0 [00:00<?, ?it/s]\u001b[A"
     ]
    },
    {
     "name": "stdout",
     "output_type": "stream",
     "text": [
      "device:  [<pyopencl.Device 'Tesla T4' on 'NVIDIA CUDA' at 0x379bce0>]\n",
      "Monitoring starts at:  2017-04-03 00:00:00\n",
      "Monitoring ends at:  2020-08-23 00:00:00\n",
      "Dataset history starts at:  2012-01-05 00:00:00\n",
      "frequency:  365\n",
      "harmonic term:  3\n",
      "Hfrac: Float in the interval (0,1) specifying the bandwidth relative to the sample size in the MOSUM/ME monitoring processes.:  0.25\n",
      "Trend: Whether a tend offset term shall be used or not:  False\n",
      "Level: Significance level of the monitoring (and ROC, if selected) procedure, i.e., probability of type I error:  0.050000000000000044\n",
      "backend: GPU opencl or CPU python:  opencl\n",
      "verbose: The verbosity level (0=no output, 1=output):  1\n",
      "rastersize:  2048 2048\n",
      "The natural block size is the block size that is most efficient for accessing the format, gdal found blocksize:  [128, 128]\n",
      "set blocksize explicitly:  256 ,  256\n",
      "start monitor:  2017-04-03 00:00:00\n",
      "end monitor:  2020-08-23 00:00:00\n",
      "start history:  2012-01-05 00:00:00\n",
      "0 0 256 256\n"
     ]
    },
    {
     "name": "stderr",
     "output_type": "stream",
     "text": [
      "\n",
      "Processing blocks of tile::   3%|▎         | 2/64.0 [00:09<04:57,  4.80s/it]\u001b[A"
     ]
    },
    {
     "name": "stdout",
     "output_type": "stream",
     "text": [
      "--- runtime for data initialization:\t\t0.08139920234680176\n",
      "--- runtime for data transfer (host->device):\t0.012833833694458008\n",
      "--- runtime for data preprocessing:\t\t0.005605936050415039\n",
      "--- runtime for kernel execution:\t\t0.020925521850585938\n",
      "--- runtime for data transfer (device->host):\t0.003348112106323242\n",
      "256 0 256 256\n"
     ]
    },
    {
     "name": "stderr",
     "output_type": "stream",
     "text": [
      "\n",
      "Processing blocks of tile::   5%|▍         | 3/64.0 [00:13<04:27,  4.39s/it]\u001b[A"
     ]
    },
    {
     "name": "stdout",
     "output_type": "stream",
     "text": [
      "--- runtime for data initialization:\t\t0.0017745494842529297\n",
      "--- runtime for data transfer (host->device):\t0.01267552375793457\n",
      "--- runtime for data preprocessing:\t\t0.0032393932342529297\n",
      "--- runtime for kernel execution:\t\t0.020902395248413086\n",
      "--- runtime for data transfer (device->host):\t0.0033416748046875\n",
      "512 0 256 256\n"
     ]
    },
    {
     "name": "stderr",
     "output_type": "stream",
     "text": [
      "\n",
      "Processing blocks of tile::   6%|▋         | 4/64.0 [00:16<03:57,  3.97s/it]\u001b[A"
     ]
    },
    {
     "name": "stdout",
     "output_type": "stream",
     "text": [
      "--- runtime for data initialization:\t\t0.0017769336700439453\n",
      "--- runtime for data transfer (host->device):\t0.012721538543701172\n",
      "--- runtime for data preprocessing:\t\t0.0032329559326171875\n",
      "--- runtime for kernel execution:\t\t0.020873308181762695\n",
      "--- runtime for data transfer (device->host):\t0.0031588077545166016\n",
      "768 0 256 256\n"
     ]
    },
    {
     "name": "stderr",
     "output_type": "stream",
     "text": [
      "\n",
      "Processing blocks of tile::   8%|▊         | 5/64.0 [00:18<03:36,  3.67s/it]\u001b[A"
     ]
    },
    {
     "name": "stdout",
     "output_type": "stream",
     "text": [
      "--- runtime for data initialization:\t\t0.0017943382263183594\n",
      "--- runtime for data transfer (host->device):\t0.012653589248657227\n",
      "--- runtime for data preprocessing:\t\t0.0032176971435546875\n",
      "--- runtime for kernel execution:\t\t0.021079063415527344\n",
      "--- runtime for data transfer (device->host):\t0.0031805038452148438\n",
      "1024 0 256 256\n"
     ]
    },
    {
     "name": "stderr",
     "output_type": "stream",
     "text": [
      "\n",
      "Processing blocks of tile::   9%|▉         | 6/64.0 [00:22<03:21,  3.48s/it]\u001b[A"
     ]
    },
    {
     "name": "stdout",
     "output_type": "stream",
     "text": [
      "--- runtime for data initialization:\t\t0.001809835433959961\n",
      "--- runtime for data transfer (host->device):\t0.012595891952514648\n",
      "--- runtime for data preprocessing:\t\t0.0032525062561035156\n",
      "--- runtime for kernel execution:\t\t0.021037578582763672\n",
      "--- runtime for data transfer (device->host):\t0.003339529037475586\n",
      "1280 0 256 256\n"
     ]
    },
    {
     "name": "stderr",
     "output_type": "stream",
     "text": [
      "\n",
      "Processing blocks of tile::  11%|█         | 7/64.0 [00:25<03:10,  3.34s/it]\u001b[A"
     ]
    },
    {
     "name": "stdout",
     "output_type": "stream",
     "text": [
      "--- runtime for data initialization:\t\t0.0018267631530761719\n",
      "--- runtime for data transfer (host->device):\t0.012728214263916016\n",
      "--- runtime for data preprocessing:\t\t0.0033121109008789062\n",
      "--- runtime for kernel execution:\t\t0.02102351188659668\n",
      "--- runtime for data transfer (device->host):\t0.003324747085571289\n",
      "1536 0 256 256\n"
     ]
    },
    {
     "name": "stderr",
     "output_type": "stream",
     "text": [
      "\n",
      "Processing blocks of tile::  12%|█▎        | 8/64.0 [00:28<03:00,  3.23s/it]\u001b[A"
     ]
    },
    {
     "name": "stdout",
     "output_type": "stream",
     "text": [
      "--- runtime for data initialization:\t\t0.0018146038055419922\n",
      "--- runtime for data transfer (host->device):\t0.012742042541503906\n",
      "--- runtime for data preprocessing:\t\t0.0032508373260498047\n",
      "--- runtime for kernel execution:\t\t0.021066665649414062\n",
      "--- runtime for data transfer (device->host):\t0.0031816959381103516\n",
      "1792 0 256 256\n"
     ]
    },
    {
     "name": "stderr",
     "output_type": "stream",
     "text": [
      "\n",
      "Processing blocks of tile::  14%|█▍        | 9/64.0 [00:31<02:54,  3.17s/it]\u001b[A"
     ]
    },
    {
     "name": "stdout",
     "output_type": "stream",
     "text": [
      "--- runtime for data initialization:\t\t0.001821279525756836\n",
      "--- runtime for data transfer (host->device):\t0.012764692306518555\n",
      "--- runtime for data preprocessing:\t\t0.0033431053161621094\n",
      "--- runtime for kernel execution:\t\t0.021161556243896484\n",
      "--- runtime for data transfer (device->host):\t0.0033278465270996094\n",
      "0 256 256 256\n"
     ]
    },
    {
     "name": "stderr",
     "output_type": "stream",
     "text": [
      "\n",
      "Processing blocks of tile::  16%|█▌        | 10/64.0 [00:33<02:45,  3.07s/it]\u001b[A"
     ]
    },
    {
     "name": "stdout",
     "output_type": "stream",
     "text": [
      "--- runtime for data initialization:\t\t0.0017883777618408203\n",
      "--- runtime for data transfer (host->device):\t0.012671709060668945\n",
      "--- runtime for data preprocessing:\t\t0.003236055374145508\n",
      "--- runtime for kernel execution:\t\t0.02090597152709961\n",
      "--- runtime for data transfer (device->host):\t0.0031800270080566406\n",
      "256 256 256 256\n"
     ]
    },
    {
     "name": "stderr",
     "output_type": "stream",
     "text": [
      "\n",
      "Processing blocks of tile::  17%|█▋        | 11/64.0 [00:36<02:43,  3.08s/it]\u001b[A"
     ]
    },
    {
     "name": "stdout",
     "output_type": "stream",
     "text": [
      "--- runtime for data initialization:\t\t0.0018138885498046875\n",
      "--- runtime for data transfer (host->device):\t0.012665510177612305\n",
      "--- runtime for data preprocessing:\t\t0.0032417774200439453\n",
      "--- runtime for kernel execution:\t\t0.021091461181640625\n",
      "--- runtime for data transfer (device->host):\t0.0032994747161865234\n",
      "512 256 256 256\n"
     ]
    },
    {
     "name": "stderr",
     "output_type": "stream",
     "text": [
      "\n",
      "Processing blocks of tile::  19%|█▉        | 12/64.0 [00:40<02:40,  3.08s/it]\u001b[A"
     ]
    },
    {
     "name": "stdout",
     "output_type": "stream",
     "text": [
      "--- runtime for data initialization:\t\t0.0018007755279541016\n",
      "--- runtime for data transfer (host->device):\t0.01276850700378418\n",
      "--- runtime for data preprocessing:\t\t0.0033059120178222656\n",
      "--- runtime for kernel execution:\t\t0.020894765853881836\n",
      "--- runtime for data transfer (device->host):\t0.003359556198120117\n",
      "768 256 256 256\n"
     ]
    },
    {
     "name": "stderr",
     "output_type": "stream",
     "text": [
      "\n",
      "Processing blocks of tile::  20%|██        | 13/64.0 [00:43<02:35,  3.04s/it]\u001b[A"
     ]
    },
    {
     "name": "stdout",
     "output_type": "stream",
     "text": [
      "--- runtime for data initialization:\t\t0.0017664432525634766\n",
      "--- runtime for data transfer (host->device):\t0.012655496597290039\n",
      "--- runtime for data preprocessing:\t\t0.003240823745727539\n",
      "--- runtime for kernel execution:\t\t0.0210421085357666\n",
      "--- runtime for data transfer (device->host):\t0.0033540725708007812\n",
      "1024 256 256 256\n"
     ]
    },
    {
     "name": "stderr",
     "output_type": "stream",
     "text": [
      "\n",
      "Processing blocks of tile::  22%|██▏       | 14/64.0 [00:46<02:31,  3.03s/it]\u001b[A"
     ]
    },
    {
     "name": "stdout",
     "output_type": "stream",
     "text": [
      "--- runtime for data initialization:\t\t0.0018076896667480469\n",
      "--- runtime for data transfer (host->device):\t0.012676239013671875\n",
      "--- runtime for data preprocessing:\t\t0.003255128860473633\n",
      "--- runtime for kernel execution:\t\t0.02091693878173828\n",
      "--- runtime for data transfer (device->host):\t0.0033462047576904297\n",
      "1280 256 256 256\n"
     ]
    },
    {
     "name": "stderr",
     "output_type": "stream",
     "text": [
      "\n",
      "Processing blocks of tile::  23%|██▎       | 15/64.0 [00:48<02:26,  2.99s/it]\u001b[A"
     ]
    },
    {
     "name": "stdout",
     "output_type": "stream",
     "text": [
      "--- runtime for data initialization:\t\t0.0017826557159423828\n",
      "--- runtime for data transfer (host->device):\t0.012676239013671875\n",
      "--- runtime for data preprocessing:\t\t0.0032193660736083984\n",
      "--- runtime for kernel execution:\t\t0.020897626876831055\n",
      "--- runtime for data transfer (device->host):\t0.003339529037475586\n",
      "1536 256 256 256\n"
     ]
    },
    {
     "name": "stderr",
     "output_type": "stream",
     "text": [
      "\n",
      "Processing blocks of tile::  25%|██▌       | 16/64.0 [00:51<02:23,  3.00s/it]\u001b[A"
     ]
    },
    {
     "name": "stdout",
     "output_type": "stream",
     "text": [
      "--- runtime for data initialization:\t\t0.0017991065979003906\n",
      "--- runtime for data transfer (host->device):\t0.012712717056274414\n",
      "--- runtime for data preprocessing:\t\t0.003252744674682617\n",
      "--- runtime for kernel execution:\t\t0.020930767059326172\n",
      "--- runtime for data transfer (device->host):\t0.0033330917358398438\n",
      "1792 256 256 256\n"
     ]
    },
    {
     "name": "stderr",
     "output_type": "stream",
     "text": [
      "\n",
      "Processing blocks of tile::  27%|██▋       | 17/64.0 [00:54<02:20,  3.00s/it]\u001b[A"
     ]
    },
    {
     "name": "stdout",
     "output_type": "stream",
     "text": [
      "--- runtime for data initialization:\t\t0.0017914772033691406\n",
      "--- runtime for data transfer (host->device):\t0.012614965438842773\n",
      "--- runtime for data preprocessing:\t\t0.003232717514038086\n",
      "--- runtime for kernel execution:\t\t0.02091240882873535\n",
      "--- runtime for data transfer (device->host):\t0.003339529037475586\n",
      "0 512 256 256\n"
     ]
    },
    {
     "name": "stderr",
     "output_type": "stream",
     "text": [
      "\n",
      "Processing blocks of tile::  28%|██▊       | 18/64.0 [00:57<02:14,  2.93s/it]\u001b[A"
     ]
    },
    {
     "name": "stdout",
     "output_type": "stream",
     "text": [
      "--- runtime for data initialization:\t\t0.001861572265625\n",
      "--- runtime for data transfer (host->device):\t0.012782812118530273\n",
      "--- runtime for data preprocessing:\t\t0.003349781036376953\n",
      "--- runtime for kernel execution:\t\t0.021073579788208008\n",
      "--- runtime for data transfer (device->host):\t0.0033059120178222656\n",
      "256 512 256 256\n"
     ]
    },
    {
     "name": "stderr",
     "output_type": "stream",
     "text": [
      "\n",
      "Processing blocks of tile::  30%|██▉       | 19/64.0 [01:00<02:11,  2.93s/it]\u001b[A"
     ]
    },
    {
     "name": "stdout",
     "output_type": "stream",
     "text": [
      "--- runtime for data initialization:\t\t0.001775979995727539\n",
      "--- runtime for data transfer (host->device):\t0.012639284133911133\n",
      "--- runtime for data preprocessing:\t\t0.003223419189453125\n",
      "--- runtime for kernel execution:\t\t0.02092576026916504\n",
      "--- runtime for data transfer (device->host):\t0.003339052200317383\n",
      "512 512 256 256\n"
     ]
    },
    {
     "name": "stderr",
     "output_type": "stream",
     "text": [
      "\n",
      "Processing blocks of tile::  31%|███▏      | 20/64.0 [01:03<02:10,  2.97s/it]\u001b[A"
     ]
    },
    {
     "name": "stdout",
     "output_type": "stream",
     "text": [
      "--- runtime for data initialization:\t\t0.0018339157104492188\n",
      "--- runtime for data transfer (host->device):\t0.012853145599365234\n",
      "--- runtime for data preprocessing:\t\t0.003362894058227539\n",
      "--- runtime for kernel execution:\t\t0.021037817001342773\n",
      "--- runtime for data transfer (device->host):\t0.0033385753631591797\n",
      "768 512 256 256\n"
     ]
    },
    {
     "name": "stderr",
     "output_type": "stream",
     "text": [
      "\n",
      "Processing blocks of tile::  33%|███▎      | 21/64.0 [01:06<02:08,  2.99s/it]\u001b[A"
     ]
    },
    {
     "name": "stdout",
     "output_type": "stream",
     "text": [
      "--- runtime for data initialization:\t\t0.001794576644897461\n",
      "--- runtime for data transfer (host->device):\t0.012666702270507812\n",
      "--- runtime for data preprocessing:\t\t0.003222942352294922\n",
      "--- runtime for kernel execution:\t\t0.020879507064819336\n",
      "--- runtime for data transfer (device->host):\t0.003348112106323242\n",
      "1024 512 256 256\n"
     ]
    },
    {
     "name": "stderr",
     "output_type": "stream",
     "text": [
      "\n",
      "Processing blocks of tile::  34%|███▍      | 22/64.0 [01:09<02:08,  3.05s/it]\u001b[A"
     ]
    },
    {
     "name": "stdout",
     "output_type": "stream",
     "text": [
      "--- runtime for data initialization:\t\t0.0017795562744140625\n",
      "--- runtime for data transfer (host->device):\t0.012633085250854492\n",
      "--- runtime for data preprocessing:\t\t0.0032286643981933594\n",
      "--- runtime for kernel execution:\t\t0.02096247673034668\n",
      "--- runtime for data transfer (device->host):\t0.003322124481201172\n",
      "1280 512 256 256\n"
     ]
    },
    {
     "name": "stderr",
     "output_type": "stream",
     "text": [
      "\n",
      "Processing blocks of tile::  36%|███▌      | 23/64.0 [01:12<02:05,  3.06s/it]\u001b[A"
     ]
    },
    {
     "name": "stdout",
     "output_type": "stream",
     "text": [
      "--- runtime for data initialization:\t\t0.0018000602722167969\n",
      "--- runtime for data transfer (host->device):\t0.012593507766723633\n",
      "--- runtime for data preprocessing:\t\t0.003210783004760742\n",
      "--- runtime for kernel execution:\t\t0.020907878875732422\n",
      "--- runtime for data transfer (device->host):\t0.003339052200317383\n",
      "1536 512 256 256\n"
     ]
    },
    {
     "name": "stderr",
     "output_type": "stream",
     "text": [
      "\n",
      "Processing blocks of tile::  38%|███▊      | 24/64.0 [01:16<02:01,  3.05s/it]\u001b[A"
     ]
    },
    {
     "name": "stdout",
     "output_type": "stream",
     "text": [
      "--- runtime for data initialization:\t\t0.0017743110656738281\n",
      "--- runtime for data transfer (host->device):\t0.012644767761230469\n",
      "--- runtime for data preprocessing:\t\t0.003203868865966797\n",
      "--- runtime for kernel execution:\t\t0.020934581756591797\n",
      "--- runtime for data transfer (device->host):\t0.0033721923828125\n",
      "1792 512 256 256\n"
     ]
    },
    {
     "name": "stderr",
     "output_type": "stream",
     "text": [
      "\n",
      "Processing blocks of tile::  39%|███▉      | 25/64.0 [01:18<01:57,  3.01s/it]\u001b[A"
     ]
    },
    {
     "name": "stdout",
     "output_type": "stream",
     "text": [
      "--- runtime for data initialization:\t\t0.00179290771484375\n",
      "--- runtime for data transfer (host->device):\t0.012592554092407227\n",
      "--- runtime for data preprocessing:\t\t0.003229856491088867\n",
      "--- runtime for kernel execution:\t\t0.02094888687133789\n",
      "--- runtime for data transfer (device->host):\t0.0033392906188964844\n",
      "0 768 256 256\n"
     ]
    },
    {
     "name": "stderr",
     "output_type": "stream",
     "text": [
      "\n",
      "Processing blocks of tile::  41%|████      | 26/64.0 [01:21<01:53,  2.99s/it]\u001b[A"
     ]
    },
    {
     "name": "stdout",
     "output_type": "stream",
     "text": [
      "--- runtime for data initialization:\t\t0.0018191337585449219\n",
      "--- runtime for data transfer (host->device):\t0.012642860412597656\n",
      "--- runtime for data preprocessing:\t\t0.0032219886779785156\n",
      "--- runtime for kernel execution:\t\t0.020927906036376953\n",
      "--- runtime for data transfer (device->host):\t0.0033435821533203125\n",
      "256 768 256 256\n"
     ]
    },
    {
     "name": "stderr",
     "output_type": "stream",
     "text": [
      "\n",
      "Processing blocks of tile::  42%|████▏     | 27/64.0 [01:24<01:50,  2.98s/it]\u001b[A"
     ]
    },
    {
     "name": "stdout",
     "output_type": "stream",
     "text": [
      "--- runtime for data initialization:\t\t0.0018031597137451172\n",
      "--- runtime for data transfer (host->device):\t0.01272439956665039\n",
      "--- runtime for data preprocessing:\t\t0.0032150745391845703\n",
      "--- runtime for kernel execution:\t\t0.021057605743408203\n",
      "--- runtime for data transfer (device->host):\t0.0031790733337402344\n",
      "512 768 256 256\n"
     ]
    },
    {
     "name": "stderr",
     "output_type": "stream",
     "text": [
      "\n",
      "Processing blocks of tile::  44%|████▍     | 28/64.0 [01:27<01:47,  2.99s/it]\u001b[A"
     ]
    },
    {
     "name": "stdout",
     "output_type": "stream",
     "text": [
      "--- runtime for data initialization:\t\t0.0018036365509033203\n",
      "--- runtime for data transfer (host->device):\t0.012677431106567383\n",
      "--- runtime for data preprocessing:\t\t0.003238677978515625\n",
      "--- runtime for kernel execution:\t\t0.020956993103027344\n",
      "--- runtime for data transfer (device->host):\t0.0032002925872802734\n",
      "768 768 256 256\n"
     ]
    },
    {
     "name": "stderr",
     "output_type": "stream",
     "text": [
      "\n",
      "Processing blocks of tile::  45%|████▌     | 29/64.0 [01:30<01:45,  3.01s/it]\u001b[A"
     ]
    },
    {
     "name": "stdout",
     "output_type": "stream",
     "text": [
      "--- runtime for data initialization:\t\t0.0017969608306884766\n",
      "--- runtime for data transfer (host->device):\t0.012643098831176758\n",
      "--- runtime for data preprocessing:\t\t0.0032262802124023438\n",
      "--- runtime for kernel execution:\t\t0.020920753479003906\n",
      "--- runtime for data transfer (device->host):\t0.003354310989379883\n",
      "1024 768 256 256\n"
     ]
    },
    {
     "name": "stderr",
     "output_type": "stream",
     "text": [
      "\n",
      "Processing blocks of tile::  47%|████▋     | 30/64.0 [01:33<01:42,  3.01s/it]\u001b[A"
     ]
    },
    {
     "name": "stdout",
     "output_type": "stream",
     "text": [
      "--- runtime for data initialization:\t\t0.0017895698547363281\n",
      "--- runtime for data transfer (host->device):\t0.012639045715332031\n",
      "--- runtime for data preprocessing:\t\t0.0032241344451904297\n",
      "--- runtime for kernel execution:\t\t0.020898818969726562\n",
      "--- runtime for data transfer (device->host):\t0.0033431053161621094\n",
      "1280 768 256 256\n"
     ]
    },
    {
     "name": "stderr",
     "output_type": "stream",
     "text": [
      "\n",
      "Processing blocks of tile::  48%|████▊     | 31/64.0 [01:36<01:39,  3.02s/it]\u001b[A"
     ]
    },
    {
     "name": "stdout",
     "output_type": "stream",
     "text": [
      "--- runtime for data initialization:\t\t0.0018169879913330078\n",
      "--- runtime for data transfer (host->device):\t0.012631893157958984\n",
      "--- runtime for data preprocessing:\t\t0.0032122135162353516\n",
      "--- runtime for kernel execution:\t\t0.0209808349609375\n",
      "--- runtime for data transfer (device->host):\t0.0033593177795410156\n",
      "1536 768 256 256\n"
     ]
    },
    {
     "name": "stderr",
     "output_type": "stream",
     "text": [
      "\n",
      "Processing blocks of tile::  50%|█████     | 32/64.0 [01:40<01:36,  3.03s/it]\u001b[A"
     ]
    },
    {
     "name": "stdout",
     "output_type": "stream",
     "text": [
      "--- runtime for data initialization:\t\t0.001806497573852539\n",
      "--- runtime for data transfer (host->device):\t0.012603282928466797\n",
      "--- runtime for data preprocessing:\t\t0.0032210350036621094\n",
      "--- runtime for kernel execution:\t\t0.020919084548950195\n",
      "--- runtime for data transfer (device->host):\t0.003361225128173828\n",
      "1792 768 256 256\n"
     ]
    },
    {
     "name": "stderr",
     "output_type": "stream",
     "text": [
      "\n",
      "Processing blocks of tile::  52%|█████▏    | 33/64.0 [01:42<01:33,  3.01s/it]\u001b[A"
     ]
    },
    {
     "name": "stdout",
     "output_type": "stream",
     "text": [
      "--- runtime for data initialization:\t\t0.0018432140350341797\n",
      "--- runtime for data transfer (host->device):\t0.012677669525146484\n",
      "--- runtime for data preprocessing:\t\t0.0032148361206054688\n",
      "--- runtime for kernel execution:\t\t0.02089524269104004\n",
      "--- runtime for data transfer (device->host):\t0.0032236576080322266\n",
      "0 1024 256 256\n"
     ]
    },
    {
     "name": "stderr",
     "output_type": "stream",
     "text": [
      "\n",
      "Processing blocks of tile::  53%|█████▎    | 34/64.0 [01:45<01:30,  3.00s/it]\u001b[A"
     ]
    },
    {
     "name": "stdout",
     "output_type": "stream",
     "text": [
      "--- runtime for data initialization:\t\t0.001800537109375\n",
      "--- runtime for data transfer (host->device):\t0.012733936309814453\n",
      "--- runtime for data preprocessing:\t\t0.0032460689544677734\n",
      "--- runtime for kernel execution:\t\t0.020923137664794922\n",
      "--- runtime for data transfer (device->host):\t0.0033516883850097656\n",
      "256 1024 256 256\n"
     ]
    },
    {
     "name": "stderr",
     "output_type": "stream",
     "text": [
      "\n",
      "Processing blocks of tile::  55%|█████▍    | 35/64.0 [01:49<01:27,  3.02s/it]\u001b[A"
     ]
    },
    {
     "name": "stdout",
     "output_type": "stream",
     "text": [
      "--- runtime for data initialization:\t\t0.0017824172973632812\n",
      "--- runtime for data transfer (host->device):\t0.012676715850830078\n",
      "--- runtime for data preprocessing:\t\t0.0032439231872558594\n",
      "--- runtime for kernel execution:\t\t0.020931720733642578\n",
      "--- runtime for data transfer (device->host):\t0.0033354759216308594\n",
      "512 1024 256 256\n"
     ]
    },
    {
     "name": "stderr",
     "output_type": "stream",
     "text": [
      "\n",
      "Processing blocks of tile::  56%|█████▋    | 36/64.0 [01:52<01:24,  3.02s/it]\u001b[A"
     ]
    },
    {
     "name": "stdout",
     "output_type": "stream",
     "text": [
      "--- runtime for data initialization:\t\t0.0018134117126464844\n",
      "--- runtime for data transfer (host->device):\t0.012689590454101562\n",
      "--- runtime for data preprocessing:\t\t0.0032510757446289062\n",
      "--- runtime for kernel execution:\t\t0.02090144157409668\n",
      "--- runtime for data transfer (device->host):\t0.003341197967529297\n",
      "768 1024 256 256\n"
     ]
    },
    {
     "name": "stderr",
     "output_type": "stream",
     "text": [
      "\n",
      "Processing blocks of tile::  58%|█████▊    | 37/64.0 [01:55<01:22,  3.04s/it]\u001b[A"
     ]
    },
    {
     "name": "stdout",
     "output_type": "stream",
     "text": [
      "--- runtime for data initialization:\t\t0.0017888545989990234\n",
      "--- runtime for data transfer (host->device):\t0.012633323669433594\n",
      "--- runtime for data preprocessing:\t\t0.0032219886779785156\n",
      "--- runtime for kernel execution:\t\t0.02106022834777832\n",
      "--- runtime for data transfer (device->host):\t0.0033295154571533203\n",
      "1024 1024 256 256\n"
     ]
    },
    {
     "name": "stderr",
     "output_type": "stream",
     "text": [
      "\n",
      "Processing blocks of tile::  59%|█████▉    | 38/64.0 [01:58<01:19,  3.04s/it]\u001b[A"
     ]
    },
    {
     "name": "stdout",
     "output_type": "stream",
     "text": [
      "--- runtime for data initialization:\t\t0.0018262863159179688\n",
      "--- runtime for data transfer (host->device):\t0.01269841194152832\n",
      "--- runtime for data preprocessing:\t\t0.0032432079315185547\n",
      "--- runtime for kernel execution:\t\t0.020960092544555664\n",
      "--- runtime for data transfer (device->host):\t0.003346681594848633\n",
      "1280 1024 256 256\n"
     ]
    },
    {
     "name": "stderr",
     "output_type": "stream",
     "text": [
      "\n",
      "Processing blocks of tile::  61%|██████    | 39/64.0 [02:01<01:16,  3.05s/it]\u001b[A"
     ]
    },
    {
     "name": "stdout",
     "output_type": "stream",
     "text": [
      "--- runtime for data initialization:\t\t0.0017857551574707031\n",
      "--- runtime for data transfer (host->device):\t0.012634754180908203\n",
      "--- runtime for data preprocessing:\t\t0.0032775402069091797\n",
      "--- runtime for kernel execution:\t\t0.021077871322631836\n",
      "--- runtime for data transfer (device->host):\t0.003324747085571289\n",
      "1536 1024 256 256\n"
     ]
    },
    {
     "name": "stderr",
     "output_type": "stream",
     "text": [
      "\n",
      "Processing blocks of tile::  62%|██████▎   | 40/64.0 [02:04<01:12,  3.02s/it]\u001b[A"
     ]
    },
    {
     "name": "stdout",
     "output_type": "stream",
     "text": [
      "--- runtime for data initialization:\t\t0.0018072128295898438\n",
      "--- runtime for data transfer (host->device):\t0.012627363204956055\n",
      "--- runtime for data preprocessing:\t\t0.003226757049560547\n",
      "--- runtime for kernel execution:\t\t0.020929336547851562\n",
      "--- runtime for data transfer (device->host):\t0.003377199172973633\n",
      "1792 1024 256 256\n"
     ]
    },
    {
     "name": "stderr",
     "output_type": "stream",
     "text": [
      "\n",
      "Processing blocks of tile::  64%|██████▍   | 41/64.0 [02:07<01:09,  3.02s/it]\u001b[A"
     ]
    },
    {
     "name": "stdout",
     "output_type": "stream",
     "text": [
      "--- runtime for data initialization:\t\t0.0018048286437988281\n",
      "--- runtime for data transfer (host->device):\t0.012691974639892578\n",
      "--- runtime for data preprocessing:\t\t0.003253936767578125\n",
      "--- runtime for kernel execution:\t\t0.021078109741210938\n",
      "--- runtime for data transfer (device->host):\t0.0033643245697021484\n",
      "0 1280 256 256\n"
     ]
    },
    {
     "name": "stderr",
     "output_type": "stream",
     "text": [
      "\n",
      "Processing blocks of tile::  66%|██████▌   | 42/64.0 [02:10<01:06,  3.01s/it]\u001b[A"
     ]
    },
    {
     "name": "stdout",
     "output_type": "stream",
     "text": [
      "--- runtime for data initialization:\t\t0.0017807483673095703\n",
      "--- runtime for data transfer (host->device):\t0.012678146362304688\n",
      "--- runtime for data preprocessing:\t\t0.0032308101654052734\n",
      "--- runtime for kernel execution:\t\t0.0210721492767334\n",
      "--- runtime for data transfer (device->host):\t0.003342151641845703\n",
      "256 1280 256 256\n"
     ]
    },
    {
     "name": "stderr",
     "output_type": "stream",
     "text": [
      "\n",
      "Processing blocks of tile::  67%|██████▋   | 43/64.0 [02:13<01:02,  2.99s/it]\u001b[A"
     ]
    },
    {
     "name": "stdout",
     "output_type": "stream",
     "text": [
      "--- runtime for data initialization:\t\t0.0017926692962646484\n",
      "--- runtime for data transfer (host->device):\t0.012703418731689453\n",
      "--- runtime for data preprocessing:\t\t0.003223419189453125\n",
      "--- runtime for kernel execution:\t\t0.02091836929321289\n",
      "--- runtime for data transfer (device->host):\t0.003344297409057617\n",
      "512 1280 256 256\n"
     ]
    },
    {
     "name": "stderr",
     "output_type": "stream",
     "text": [
      "\n",
      "Processing blocks of tile::  69%|██████▉   | 44/64.0 [02:16<01:00,  3.02s/it]\u001b[A"
     ]
    },
    {
     "name": "stdout",
     "output_type": "stream",
     "text": [
      "--- runtime for data initialization:\t\t0.0017979145050048828\n",
      "--- runtime for data transfer (host->device):\t0.012617111206054688\n",
      "--- runtime for data preprocessing:\t\t0.0032355785369873047\n",
      "--- runtime for kernel execution:\t\t0.02087998390197754\n",
      "--- runtime for data transfer (device->host):\t0.003204345703125\n",
      "768 1280 256 256\n"
     ]
    },
    {
     "name": "stderr",
     "output_type": "stream",
     "text": [
      "\n",
      "Processing blocks of tile::  70%|███████   | 45/64.0 [02:19<00:57,  3.01s/it]\u001b[A"
     ]
    },
    {
     "name": "stdout",
     "output_type": "stream",
     "text": [
      "--- runtime for data initialization:\t\t0.001852273941040039\n",
      "--- runtime for data transfer (host->device):\t0.012708902359008789\n",
      "--- runtime for data preprocessing:\t\t0.0032494068145751953\n",
      "--- runtime for kernel execution:\t\t0.02108454704284668\n",
      "--- runtime for data transfer (device->host):\t0.0033576488494873047\n",
      "1024 1280 256 256\n"
     ]
    },
    {
     "name": "stderr",
     "output_type": "stream",
     "text": [
      "\n",
      "Processing blocks of tile::  72%|███████▏  | 46/64.0 [02:22<00:53,  2.99s/it]\u001b[A"
     ]
    },
    {
     "name": "stdout",
     "output_type": "stream",
     "text": [
      "--- runtime for data initialization:\t\t0.0018398761749267578\n",
      "--- runtime for data transfer (host->device):\t0.012772798538208008\n",
      "--- runtime for data preprocessing:\t\t0.0032553672790527344\n",
      "--- runtime for kernel execution:\t\t0.021090269088745117\n",
      "--- runtime for data transfer (device->host):\t0.003357410430908203\n",
      "1280 1280 256 256\n"
     ]
    },
    {
     "name": "stderr",
     "output_type": "stream",
     "text": [
      "\n",
      "Processing blocks of tile::  73%|███████▎  | 47/64.0 [02:25<00:50,  2.97s/it]\u001b[A"
     ]
    },
    {
     "name": "stdout",
     "output_type": "stream",
     "text": [
      "--- runtime for data initialization:\t\t0.001786947250366211\n",
      "--- runtime for data transfer (host->device):\t0.012732982635498047\n",
      "--- runtime for data preprocessing:\t\t0.0032215118408203125\n",
      "--- runtime for kernel execution:\t\t0.02108001708984375\n",
      "--- runtime for data transfer (device->host):\t0.003365039825439453\n",
      "1536 1280 256 256\n"
     ]
    },
    {
     "name": "stderr",
     "output_type": "stream",
     "text": [
      "\n",
      "Processing blocks of tile::  75%|███████▌  | 48/64.0 [02:28<00:47,  2.96s/it]\u001b[A"
     ]
    },
    {
     "name": "stdout",
     "output_type": "stream",
     "text": [
      "--- runtime for data initialization:\t\t0.0018286705017089844\n",
      "--- runtime for data transfer (host->device):\t0.01266622543334961\n",
      "--- runtime for data preprocessing:\t\t0.0032243728637695312\n",
      "--- runtime for kernel execution:\t\t0.020930767059326172\n",
      "--- runtime for data transfer (device->host):\t0.0033385753631591797\n",
      "1792 1280 256 256\n"
     ]
    },
    {
     "name": "stderr",
     "output_type": "stream",
     "text": [
      "\n",
      "Processing blocks of tile::  77%|███████▋  | 49/64.0 [02:31<00:44,  2.97s/it]\u001b[A"
     ]
    },
    {
     "name": "stdout",
     "output_type": "stream",
     "text": [
      "--- runtime for data initialization:\t\t0.0018453598022460938\n",
      "--- runtime for data transfer (host->device):\t0.012713909149169922\n",
      "--- runtime for data preprocessing:\t\t0.0032508373260498047\n",
      "--- runtime for kernel execution:\t\t0.020924806594848633\n",
      "--- runtime for data transfer (device->host):\t0.0033349990844726562\n",
      "0 1536 256 256\n"
     ]
    },
    {
     "name": "stderr",
     "output_type": "stream",
     "text": [
      "\n",
      "Processing blocks of tile::  78%|███████▊  | 50/64.0 [02:33<00:41,  2.95s/it]\u001b[A"
     ]
    },
    {
     "name": "stdout",
     "output_type": "stream",
     "text": [
      "--- runtime for data initialization:\t\t0.0018031597137451172\n",
      "--- runtime for data transfer (host->device):\t0.012788057327270508\n",
      "--- runtime for data preprocessing:\t\t0.003297090530395508\n",
      "--- runtime for kernel execution:\t\t0.02089858055114746\n",
      "--- runtime for data transfer (device->host):\t0.0033271312713623047\n",
      "256 1536 256 256\n"
     ]
    },
    {
     "name": "stderr",
     "output_type": "stream",
     "text": [
      "\n",
      "Processing blocks of tile::  80%|███████▉  | 51/64.0 [02:36<00:38,  2.98s/it]\u001b[A"
     ]
    },
    {
     "name": "stdout",
     "output_type": "stream",
     "text": [
      "--- runtime for data initialization:\t\t0.0017948150634765625\n",
      "--- runtime for data transfer (host->device):\t0.012643575668334961\n",
      "--- runtime for data preprocessing:\t\t0.0032384395599365234\n",
      "--- runtime for kernel execution:\t\t0.020964860916137695\n",
      "--- runtime for data transfer (device->host):\t0.0033521652221679688\n",
      "512 1536 256 256\n"
     ]
    },
    {
     "name": "stderr",
     "output_type": "stream",
     "text": [
      "\n",
      "Processing blocks of tile::  81%|████████▏ | 52/64.0 [02:39<00:35,  2.98s/it]\u001b[A"
     ]
    },
    {
     "name": "stdout",
     "output_type": "stream",
     "text": [
      "--- runtime for data initialization:\t\t0.0018041133880615234\n",
      "--- runtime for data transfer (host->device):\t0.012750864028930664\n",
      "--- runtime for data preprocessing:\t\t0.003323793411254883\n",
      "--- runtime for kernel execution:\t\t0.021104812622070312\n",
      "--- runtime for data transfer (device->host):\t0.0031490325927734375\n",
      "768 1536 256 256\n"
     ]
    },
    {
     "name": "stderr",
     "output_type": "stream",
     "text": [
      "\n",
      "Processing blocks of tile::  83%|████████▎ | 53/64.0 [02:42<00:32,  2.97s/it]\u001b[A"
     ]
    },
    {
     "name": "stdout",
     "output_type": "stream",
     "text": [
      "--- runtime for data initialization:\t\t0.0018150806427001953\n",
      "--- runtime for data transfer (host->device):\t0.012834548950195312\n",
      "--- runtime for data preprocessing:\t\t0.003362417221069336\n",
      "--- runtime for kernel execution:\t\t0.021126508712768555\n",
      "--- runtime for data transfer (device->host):\t0.003322124481201172\n",
      "1024 1536 256 256\n"
     ]
    },
    {
     "name": "stderr",
     "output_type": "stream",
     "text": [
      "\n",
      "Processing blocks of tile::  84%|████████▍ | 54/64.0 [02:45<00:29,  2.96s/it]\u001b[A"
     ]
    },
    {
     "name": "stdout",
     "output_type": "stream",
     "text": [
      "--- runtime for data initialization:\t\t0.0018453598022460938\n",
      "--- runtime for data transfer (host->device):\t0.012667179107666016\n",
      "--- runtime for data preprocessing:\t\t0.003247499465942383\n",
      "--- runtime for kernel execution:\t\t0.02115774154663086\n",
      "--- runtime for data transfer (device->host):\t0.0033431053161621094\n",
      "1280 1536 256 256\n"
     ]
    },
    {
     "name": "stderr",
     "output_type": "stream",
     "text": [
      "\n",
      "Processing blocks of tile::  86%|████████▌ | 55/64.0 [02:48<00:26,  2.97s/it]\u001b[A"
     ]
    },
    {
     "name": "stdout",
     "output_type": "stream",
     "text": [
      "--- runtime for data initialization:\t\t0.001779794692993164\n",
      "--- runtime for data transfer (host->device):\t0.012670278549194336\n",
      "--- runtime for data preprocessing:\t\t0.0032351016998291016\n",
      "--- runtime for kernel execution:\t\t0.020964384078979492\n",
      "--- runtime for data transfer (device->host):\t0.003342151641845703\n",
      "1536 1536 256 256\n"
     ]
    },
    {
     "name": "stderr",
     "output_type": "stream",
     "text": [
      "\n",
      "Processing blocks of tile::  88%|████████▊ | 56/64.0 [02:51<00:23,  2.97s/it]\u001b[A"
     ]
    },
    {
     "name": "stdout",
     "output_type": "stream",
     "text": [
      "--- runtime for data initialization:\t\t0.0017828941345214844\n",
      "--- runtime for data transfer (host->device):\t0.01264643669128418\n",
      "--- runtime for data preprocessing:\t\t0.003261566162109375\n",
      "--- runtime for kernel execution:\t\t0.020939350128173828\n",
      "--- runtime for data transfer (device->host):\t0.003251791000366211\n",
      "1792 1536 256 256\n"
     ]
    },
    {
     "name": "stderr",
     "output_type": "stream",
     "text": [
      "\n",
      "Processing blocks of tile::  89%|████████▉ | 57/64.0 [02:54<00:20,  2.98s/it]\u001b[A"
     ]
    },
    {
     "name": "stdout",
     "output_type": "stream",
     "text": [
      "--- runtime for data initialization:\t\t0.001773834228515625\n",
      "--- runtime for data transfer (host->device):\t0.012713193893432617\n",
      "--- runtime for data preprocessing:\t\t0.003279447555541992\n",
      "--- runtime for kernel execution:\t\t0.021068811416625977\n",
      "--- runtime for data transfer (device->host):\t0.003289461135864258\n",
      "0 1792 256 256\n"
     ]
    },
    {
     "name": "stderr",
     "output_type": "stream",
     "text": [
      "\n",
      "Processing blocks of tile::  91%|█████████ | 58/64.0 [02:57<00:17,  2.95s/it]\u001b[A"
     ]
    },
    {
     "name": "stdout",
     "output_type": "stream",
     "text": [
      "--- runtime for data initialization:\t\t0.0018537044525146484\n",
      "--- runtime for data transfer (host->device):\t0.012698173522949219\n",
      "--- runtime for data preprocessing:\t\t0.0032241344451904297\n",
      "--- runtime for kernel execution:\t\t0.02107715606689453\n",
      "--- runtime for data transfer (device->host):\t0.003199338912963867\n",
      "256 1792 256 256\n"
     ]
    },
    {
     "name": "stderr",
     "output_type": "stream",
     "text": [
      "\n",
      "Processing blocks of tile::  92%|█████████▏| 59/64.0 [03:00<00:14,  2.95s/it]\u001b[A"
     ]
    },
    {
     "name": "stdout",
     "output_type": "stream",
     "text": [
      "--- runtime for data initialization:\t\t0.0017828941345214844\n",
      "--- runtime for data transfer (host->device):\t0.012620925903320312\n",
      "--- runtime for data preprocessing:\t\t0.003247499465942383\n",
      "--- runtime for kernel execution:\t\t0.02093982696533203\n",
      "--- runtime for data transfer (device->host):\t0.0033576488494873047\n",
      "512 1792 256 256\n"
     ]
    },
    {
     "name": "stderr",
     "output_type": "stream",
     "text": [
      "\n",
      "Processing blocks of tile::  94%|█████████▍| 60/64.0 [03:03<00:11,  2.95s/it]\u001b[A"
     ]
    },
    {
     "name": "stdout",
     "output_type": "stream",
     "text": [
      "--- runtime for data initialization:\t\t0.0018227100372314453\n",
      "--- runtime for data transfer (host->device):\t0.012697219848632812\n",
      "--- runtime for data preprocessing:\t\t0.003254413604736328\n",
      "--- runtime for kernel execution:\t\t0.02093815803527832\n",
      "--- runtime for data transfer (device->host):\t0.00333404541015625\n",
      "768 1792 256 256\n"
     ]
    },
    {
     "name": "stderr",
     "output_type": "stream",
     "text": [
      "\n",
      "Processing blocks of tile::  95%|█████████▌| 61/64.0 [03:06<00:09,  3.02s/it]\u001b[A"
     ]
    },
    {
     "name": "stdout",
     "output_type": "stream",
     "text": [
      "--- runtime for data initialization:\t\t0.001798391342163086\n",
      "--- runtime for data transfer (host->device):\t0.012666702270507812\n",
      "--- runtime for data preprocessing:\t\t0.0032262802124023438\n",
      "--- runtime for kernel execution:\t\t0.020914793014526367\n",
      "--- runtime for data transfer (device->host):\t0.0033674240112304688\n",
      "1024 1792 256 256\n"
     ]
    },
    {
     "name": "stderr",
     "output_type": "stream",
     "text": [
      "\n",
      "Processing blocks of tile::  97%|█████████▋| 62/64.0 [03:09<00:05,  2.99s/it]\u001b[A"
     ]
    },
    {
     "name": "stdout",
     "output_type": "stream",
     "text": [
      "--- runtime for data initialization:\t\t0.001798391342163086\n",
      "--- runtime for data transfer (host->device):\t0.012604951858520508\n",
      "--- runtime for data preprocessing:\t\t0.0032083988189697266\n",
      "--- runtime for kernel execution:\t\t0.02106952667236328\n",
      "--- runtime for data transfer (device->host):\t0.003330707550048828\n",
      "1280 1792 256 256\n"
     ]
    },
    {
     "name": "stderr",
     "output_type": "stream",
     "text": [
      "\n",
      "Processing blocks of tile::  98%|█████████▊| 63/64.0 [03:12<00:02,  2.97s/it]\u001b[A"
     ]
    },
    {
     "name": "stdout",
     "output_type": "stream",
     "text": [
      "--- runtime for data initialization:\t\t0.0017886161804199219\n",
      "--- runtime for data transfer (host->device):\t0.01270437240600586\n",
      "--- runtime for data preprocessing:\t\t0.0032744407653808594\n",
      "--- runtime for kernel execution:\t\t0.02110433578491211\n",
      "--- runtime for data transfer (device->host):\t0.003152608871459961\n",
      "1536 1792 256 256\n"
     ]
    },
    {
     "name": "stderr",
     "output_type": "stream",
     "text": [
      "\n",
      "Processing blocks of tile:: 100%|██████████| 64/64.0 [03:15<00:00,  2.97s/it]\u001b[A"
     ]
    },
    {
     "name": "stdout",
     "output_type": "stream",
     "text": [
      "--- runtime for data initialization:\t\t0.001817464828491211\n",
      "--- runtime for data transfer (host->device):\t0.012761116027832031\n",
      "--- runtime for data preprocessing:\t\t0.0032341480255126953\n",
      "--- runtime for kernel execution:\t\t0.02108287811279297\n",
      "--- runtime for data transfer (device->host):\t0.003361225128173828\n",
      "1792 1792 256 256\n"
     ]
    },
    {
     "name": "stderr",
     "output_type": "stream",
     "text": [
      "\r",
      "Processing blocks of tile:: 100%|██████████| 64/64.0 [03:18<00:00,  3.10s/it]"
     ]
    },
    {
     "name": "stdout",
     "output_type": "stream",
     "text": [
      "--- runtime for data initialization:\t\t0.001871347427368164\n",
      "--- runtime for data transfer (host->device):\t0.012716531753540039\n",
      "--- runtime for data preprocessing:\t\t0.0032219886779785156\n",
      "--- runtime for kernel execution:\t\t0.021088361740112305\n",
      "--- runtime for data transfer (device->host):\t0.003360748291015625\n",
      "Fitting model over all blocks took 198.506502866745 seconds.\n"
     ]
    },
    {
     "name": "stderr",
     "output_type": "stream",
     "text": [
      "\n",
      "Processing tile 2 out of 6:   0%|          | 0/1 [03:18<?, ?it/s]\n",
      "Processing blocks of tile:: : 7it [00:18,  2.70s/it]                           \u001b[A"
     ]
    },
    {
     "name": "stdout",
     "output_type": "stream",
     "text": [
      "--- runtime for data initialization:\t\t0.0019447803497314453\n",
      "--- runtime for data transfer (host->device):\t0.00988316535949707\n",
      "--- runtime for data preprocessing:\t\t0.0028679370880126953\n",
      "--- runtime for kernel execution:\t\t0.016333580017089844\n",
      "--- runtime for data transfer (device->host):\t0.002560138702392578\n",
      "0 1536 197 256\n"
     ]
    },
    {
     "name": "stderr",
     "output_type": "stream",
     "text": [
      "\n",
      "Processing blocks of tile:: : 8it [00:21,  2.72s/it]\u001b[A"
     ]
    },
    {
     "name": "stdout",
     "output_type": "stream",
     "text": [
      "--- runtime for data initialization:\t\t0.0017726421356201172\n",
      "--- runtime for data transfer (host->device):\t0.00987696647644043\n",
      "--- runtime for data preprocessing:\t\t0.0028917789459228516\n",
      "--- runtime for kernel execution:\t\t0.0163419246673584\n",
      "--- runtime for data transfer (device->host):\t0.0025429725646972656\n",
      "0 1792 197 256\n"
     ]
    },
    {
     "name": "stderr",
     "output_type": "stream",
     "text": [
      "Processing blocks of tile:: : 8it [00:24,  3.02s/it]\n",
      "Processing tile 3 out of 6: 100%|██████████| 1/1 [03:43<00:00, 24.30s/it]\n",
      "  0%|          | 0/64.0 [00:00<?, ?it/s]\u001b[A\n",
      "Processing blocks of tile::   0%|          | 0/64.0 [00:00<?, ?it/s]\u001b[A"
     ]
    },
    {
     "name": "stdout",
     "output_type": "stream",
     "text": [
      "--- runtime for data initialization:\t\t0.0018045902252197266\n",
      "--- runtime for data transfer (host->device):\t0.010039329528808594\n",
      "--- runtime for data preprocessing:\t\t0.0029363632202148438\n",
      "--- runtime for kernel execution:\t\t0.016459226608276367\n",
      "--- runtime for data transfer (device->host):\t0.0025429725646972656\n",
      "Fitting model over all blocks took 24.170021057128906 seconds.\n",
      "device:  [<pyopencl.Device 'Tesla T4' on 'NVIDIA CUDA' at 0x379bce0>]\n",
      "Monitoring starts at:  2017-04-03 00:00:00\n",
      "Monitoring ends at:  2020-08-23 00:00:00\n",
      "Dataset history starts at:  2012-01-05 00:00:00\n",
      "frequency:  365\n",
      "harmonic term:  3\n",
      "Hfrac: Float in the interval (0,1) specifying the bandwidth relative to the sample size in the MOSUM/ME monitoring processes.:  0.25\n",
      "Trend: Whether a tend offset term shall be used or not:  False\n",
      "Level: Significance level of the monitoring (and ROC, if selected) procedure, i.e., probability of type I error:  0.050000000000000044\n",
      "backend: GPU opencl or CPU python:  opencl\n",
      "verbose: The verbosity level (0=no output, 1=output):  1\n",
      "rastersize:  2048 2048\n",
      "The natural block size is the block size that is most efficient for accessing the format, gdal found blocksize:  [128, 128]\n",
      "set blocksize explicitly:  256 ,  256\n",
      "start monitor:  2017-04-03 00:00:00\n",
      "end monitor:  2020-08-23 00:00:00\n",
      "start history:  2012-01-05 00:00:00\n",
      "0 0 256 256\n"
     ]
    },
    {
     "name": "stderr",
     "output_type": "stream",
     "text": [
      "\n",
      "Processing blocks of tile::   3%|▎         | 2/64.0 [00:04<02:31,  2.44s/it]\u001b[A"
     ]
    },
    {
     "name": "stdout",
     "output_type": "stream",
     "text": [
      "--- runtime for data initialization:\t\t0.0018157958984375\n",
      "--- runtime for data transfer (host->device):\t0.01270437240600586\n",
      "--- runtime for data preprocessing:\t\t0.00322723388671875\n",
      "--- runtime for kernel execution:\t\t0.021084070205688477\n",
      "--- runtime for data transfer (device->host):\t0.0033249855041503906\n",
      "256 0 256 256\n"
     ]
    },
    {
     "name": "stderr",
     "output_type": "stream",
     "text": [
      "\n",
      "Processing blocks of tile::   5%|▍         | 3/64.0 [00:07<02:38,  2.60s/it]\u001b[A"
     ]
    },
    {
     "name": "stdout",
     "output_type": "stream",
     "text": [
      "--- runtime for data initialization:\t\t0.0017745494842529297\n",
      "--- runtime for data transfer (host->device):\t0.01260828971862793\n",
      "--- runtime for data preprocessing:\t\t0.0032470226287841797\n",
      "--- runtime for kernel execution:\t\t0.020949125289916992\n",
      "--- runtime for data transfer (device->host):\t0.0033414363861083984\n",
      "512 0 256 256\n"
     ]
    },
    {
     "name": "stderr",
     "output_type": "stream",
     "text": [
      "\n",
      "Processing blocks of tile::   6%|▋         | 4/64.0 [00:10<02:42,  2.70s/it]\u001b[A"
     ]
    },
    {
     "name": "stdout",
     "output_type": "stream",
     "text": [
      "--- runtime for data initialization:\t\t0.0017735958099365234\n",
      "--- runtime for data transfer (host->device):\t0.012590885162353516\n",
      "--- runtime for data preprocessing:\t\t0.0032346248626708984\n",
      "--- runtime for kernel execution:\t\t0.020940303802490234\n",
      "--- runtime for data transfer (device->host):\t0.0033538341522216797\n",
      "768 0 256 256\n"
     ]
    },
    {
     "name": "stderr",
     "output_type": "stream",
     "text": [
      "\n",
      "Processing blocks of tile::   8%|▊         | 5/64.0 [00:13<02:45,  2.80s/it]\u001b[A"
     ]
    },
    {
     "name": "stdout",
     "output_type": "stream",
     "text": [
      "--- runtime for data initialization:\t\t0.0017940998077392578\n",
      "--- runtime for data transfer (host->device):\t0.012644767761230469\n",
      "--- runtime for data preprocessing:\t\t0.0032227039337158203\n",
      "--- runtime for kernel execution:\t\t0.02092432975769043\n",
      "--- runtime for data transfer (device->host):\t0.0033473968505859375\n",
      "1024 0 256 256\n"
     ]
    },
    {
     "name": "stderr",
     "output_type": "stream",
     "text": [
      "\n",
      "Processing blocks of tile::   9%|▉         | 6/64.0 [00:16<02:45,  2.85s/it]\u001b[A"
     ]
    },
    {
     "name": "stdout",
     "output_type": "stream",
     "text": [
      "--- runtime for data initialization:\t\t0.0017774105072021484\n",
      "--- runtime for data transfer (host->device):\t0.012651205062866211\n",
      "--- runtime for data preprocessing:\t\t0.003223896026611328\n",
      "--- runtime for kernel execution:\t\t0.020931482315063477\n",
      "--- runtime for data transfer (device->host):\t0.003375530242919922\n",
      "1280 0 256 256\n"
     ]
    },
    {
     "name": "stderr",
     "output_type": "stream",
     "text": [
      "\n",
      "Processing blocks of tile::  11%|█         | 7/64.0 [00:19<02:45,  2.90s/it]\u001b[A"
     ]
    },
    {
     "name": "stdout",
     "output_type": "stream",
     "text": [
      "--- runtime for data initialization:\t\t0.0018205642700195312\n",
      "--- runtime for data transfer (host->device):\t0.012729167938232422\n",
      "--- runtime for data preprocessing:\t\t0.003290414810180664\n",
      "--- runtime for kernel execution:\t\t0.021126747131347656\n",
      "--- runtime for data transfer (device->host):\t0.0033164024353027344\n",
      "1536 0 256 256\n"
     ]
    },
    {
     "name": "stderr",
     "output_type": "stream",
     "text": [
      "\n",
      "Processing blocks of tile::  12%|█▎        | 8/64.0 [00:22<02:45,  2.95s/it]\u001b[A"
     ]
    },
    {
     "name": "stdout",
     "output_type": "stream",
     "text": [
      "--- runtime for data initialization:\t\t0.0018122196197509766\n",
      "--- runtime for data transfer (host->device):\t0.012618303298950195\n",
      "--- runtime for data preprocessing:\t\t0.0032362937927246094\n",
      "--- runtime for kernel execution:\t\t0.020917654037475586\n",
      "--- runtime for data transfer (device->host):\t0.003343343734741211\n",
      "1792 0 256 256\n"
     ]
    },
    {
     "name": "stderr",
     "output_type": "stream",
     "text": [
      "\n",
      "Processing blocks of tile::  14%|█▍        | 9/64.0 [00:25<02:43,  2.98s/it]\u001b[A"
     ]
    },
    {
     "name": "stdout",
     "output_type": "stream",
     "text": [
      "--- runtime for data initialization:\t\t0.0017762184143066406\n",
      "--- runtime for data transfer (host->device):\t0.012624979019165039\n",
      "--- runtime for data preprocessing:\t\t0.0032415390014648438\n",
      "--- runtime for kernel execution:\t\t0.020910978317260742\n",
      "--- runtime for data transfer (device->host):\t0.0033485889434814453\n",
      "0 256 256 256\n"
     ]
    },
    {
     "name": "stderr",
     "output_type": "stream",
     "text": [
      "\n",
      "Processing blocks of tile::  16%|█▌        | 10/64.0 [00:28<02:40,  2.98s/it]\u001b[A"
     ]
    },
    {
     "name": "stdout",
     "output_type": "stream",
     "text": [
      "--- runtime for data initialization:\t\t0.0017702579498291016\n",
      "--- runtime for data transfer (host->device):\t0.012705326080322266\n",
      "--- runtime for data preprocessing:\t\t0.003238201141357422\n",
      "--- runtime for kernel execution:\t\t0.021114587783813477\n",
      "--- runtime for data transfer (device->host):\t0.0033464431762695312\n",
      "256 256 256 256\n"
     ]
    },
    {
     "name": "stderr",
     "output_type": "stream",
     "text": [
      "\n",
      "Processing blocks of tile::  17%|█▋        | 11/64.0 [00:31<02:37,  2.97s/it]\u001b[A"
     ]
    },
    {
     "name": "stdout",
     "output_type": "stream",
     "text": [
      "--- runtime for data initialization:\t\t0.0018172264099121094\n",
      "--- runtime for data transfer (host->device):\t0.01267242431640625\n",
      "--- runtime for data preprocessing:\t\t0.003251314163208008\n",
      "--- runtime for kernel execution:\t\t0.02094554901123047\n",
      "--- runtime for data transfer (device->host):\t0.0033502578735351562\n",
      "512 256 256 256\n"
     ]
    },
    {
     "name": "stderr",
     "output_type": "stream",
     "text": [
      "\n",
      "Processing blocks of tile::  19%|█▉        | 12/64.0 [00:34<02:35,  2.99s/it]\u001b[A"
     ]
    },
    {
     "name": "stdout",
     "output_type": "stream",
     "text": [
      "--- runtime for data initialization:\t\t0.0018742084503173828\n",
      "--- runtime for data transfer (host->device):\t0.012650489807128906\n",
      "--- runtime for data preprocessing:\t\t0.003239870071411133\n",
      "--- runtime for kernel execution:\t\t0.020934104919433594\n",
      "--- runtime for data transfer (device->host):\t0.003345489501953125\n",
      "768 256 256 256\n"
     ]
    },
    {
     "name": "stderr",
     "output_type": "stream",
     "text": [
      "\n",
      "Processing blocks of tile::  20%|██        | 13/64.0 [00:37<02:33,  3.00s/it]\u001b[A"
     ]
    },
    {
     "name": "stdout",
     "output_type": "stream",
     "text": [
      "--- runtime for data initialization:\t\t0.0018100738525390625\n",
      "--- runtime for data transfer (host->device):\t0.012653589248657227\n",
      "--- runtime for data preprocessing:\t\t0.003226041793823242\n",
      "--- runtime for kernel execution:\t\t0.021091461181640625\n",
      "--- runtime for data transfer (device->host):\t0.0031795501708984375\n",
      "1024 256 256 256\n"
     ]
    },
    {
     "name": "stderr",
     "output_type": "stream",
     "text": [
      "\n",
      "Processing blocks of tile::  22%|██▏       | 14/64.0 [00:40<02:31,  3.03s/it]\u001b[A"
     ]
    },
    {
     "name": "stdout",
     "output_type": "stream",
     "text": [
      "--- runtime for data initialization:\t\t0.001809835433959961\n",
      "--- runtime for data transfer (host->device):\t0.01271367073059082\n",
      "--- runtime for data preprocessing:\t\t0.003232240676879883\n",
      "--- runtime for kernel execution:\t\t0.02088141441345215\n",
      "--- runtime for data transfer (device->host):\t0.003203153610229492\n",
      "1280 256 256 256\n"
     ]
    },
    {
     "name": "stderr",
     "output_type": "stream",
     "text": [
      "\n",
      "Processing blocks of tile::  23%|██▎       | 15/64.0 [00:43<02:27,  3.02s/it]\u001b[A"
     ]
    },
    {
     "name": "stdout",
     "output_type": "stream",
     "text": [
      "--- runtime for data initialization:\t\t0.0018107891082763672\n",
      "--- runtime for data transfer (host->device):\t0.01264333724975586\n",
      "--- runtime for data preprocessing:\t\t0.003238677978515625\n",
      "--- runtime for kernel execution:\t\t0.021026134490966797\n",
      "--- runtime for data transfer (device->host):\t0.003353118896484375\n",
      "1536 256 256 256\n"
     ]
    },
    {
     "name": "stderr",
     "output_type": "stream",
     "text": [
      "\n",
      "Processing blocks of tile::  25%|██▌       | 16/64.0 [00:46<02:24,  3.01s/it]\u001b[A"
     ]
    },
    {
     "name": "stdout",
     "output_type": "stream",
     "text": [
      "--- runtime for data initialization:\t\t0.0018162727355957031\n",
      "--- runtime for data transfer (host->device):\t0.012641668319702148\n",
      "--- runtime for data preprocessing:\t\t0.0032491683959960938\n",
      "--- runtime for kernel execution:\t\t0.02092742919921875\n",
      "--- runtime for data transfer (device->host):\t0.0033490657806396484\n",
      "1792 256 256 256\n"
     ]
    },
    {
     "name": "stderr",
     "output_type": "stream",
     "text": [
      "\n",
      "Processing blocks of tile::  27%|██▋       | 17/64.0 [00:49<02:21,  3.01s/it]\u001b[A"
     ]
    },
    {
     "name": "stdout",
     "output_type": "stream",
     "text": [
      "--- runtime for data initialization:\t\t0.0017957687377929688\n",
      "--- runtime for data transfer (host->device):\t0.012691020965576172\n",
      "--- runtime for data preprocessing:\t\t0.0032308101654052734\n",
      "--- runtime for kernel execution:\t\t0.021141767501831055\n",
      "--- runtime for data transfer (device->host):\t0.0031719207763671875\n",
      "0 512 256 256\n"
     ]
    },
    {
     "name": "stderr",
     "output_type": "stream",
     "text": [
      "\n",
      "Processing blocks of tile::  28%|██▊       | 18/64.0 [00:53<02:20,  3.06s/it]\u001b[A"
     ]
    },
    {
     "name": "stdout",
     "output_type": "stream",
     "text": [
      "--- runtime for data initialization:\t\t0.0018019676208496094\n",
      "--- runtime for data transfer (host->device):\t0.012699365615844727\n",
      "--- runtime for data preprocessing:\t\t0.0032312870025634766\n",
      "--- runtime for kernel execution:\t\t0.021075963973999023\n",
      "--- runtime for data transfer (device->host):\t0.003349781036376953\n",
      "256 512 256 256\n"
     ]
    },
    {
     "name": "stderr",
     "output_type": "stream",
     "text": [
      "\n",
      "Processing blocks of tile::  30%|██▉       | 19/64.0 [00:55<02:14,  2.98s/it]\u001b[A"
     ]
    },
    {
     "name": "stdout",
     "output_type": "stream",
     "text": [
      "--- runtime for data initialization:\t\t0.0017819404602050781\n",
      "--- runtime for data transfer (host->device):\t0.012657642364501953\n",
      "--- runtime for data preprocessing:\t\t0.0032453536987304688\n",
      "--- runtime for kernel execution:\t\t0.020926237106323242\n",
      "--- runtime for data transfer (device->host):\t0.003350973129272461\n",
      "512 512 256 256\n"
     ]
    },
    {
     "name": "stderr",
     "output_type": "stream",
     "text": [
      "\n",
      "Processing blocks of tile::  31%|███▏      | 20/64.0 [00:58<02:10,  2.96s/it]\u001b[A"
     ]
    },
    {
     "name": "stdout",
     "output_type": "stream",
     "text": [
      "--- runtime for data initialization:\t\t0.001779317855834961\n",
      "--- runtime for data transfer (host->device):\t0.012649774551391602\n",
      "--- runtime for data preprocessing:\t\t0.003237009048461914\n",
      "--- runtime for kernel execution:\t\t0.020936012268066406\n",
      "--- runtime for data transfer (device->host):\t0.0033576488494873047\n",
      "768 512 256 256\n"
     ]
    },
    {
     "name": "stderr",
     "output_type": "stream",
     "text": [
      "\n",
      "Processing blocks of tile::  33%|███▎      | 21/64.0 [01:01<02:07,  2.96s/it]\u001b[A"
     ]
    },
    {
     "name": "stdout",
     "output_type": "stream",
     "text": [
      "--- runtime for data initialization:\t\t0.0017790794372558594\n",
      "--- runtime for data transfer (host->device):\t0.012714862823486328\n",
      "--- runtime for data preprocessing:\t\t0.003237009048461914\n",
      "--- runtime for kernel execution:\t\t0.02111673355102539\n",
      "--- runtime for data transfer (device->host):\t0.003360271453857422\n",
      "1024 512 256 256\n"
     ]
    },
    {
     "name": "stderr",
     "output_type": "stream",
     "text": [
      "\n",
      "Processing blocks of tile::  34%|███▍      | 22/64.0 [01:04<02:04,  2.96s/it]\u001b[A"
     ]
    },
    {
     "name": "stdout",
     "output_type": "stream",
     "text": [
      "--- runtime for data initialization:\t\t0.0018520355224609375\n",
      "--- runtime for data transfer (host->device):\t0.012704610824584961\n",
      "--- runtime for data preprocessing:\t\t0.0032317638397216797\n",
      "--- runtime for kernel execution:\t\t0.021081209182739258\n",
      "--- runtime for data transfer (device->host):\t0.0031943321228027344\n",
      "1280 512 256 256\n"
     ]
    },
    {
     "name": "stderr",
     "output_type": "stream",
     "text": [
      "\n",
      "Processing blocks of tile::  36%|███▌      | 23/64.0 [01:07<02:01,  2.96s/it]\u001b[A"
     ]
    },
    {
     "name": "stdout",
     "output_type": "stream",
     "text": [
      "--- runtime for data initialization:\t\t0.00185394287109375\n",
      "--- runtime for data transfer (host->device):\t0.012737751007080078\n",
      "--- runtime for data preprocessing:\t\t0.0032601356506347656\n",
      "--- runtime for kernel execution:\t\t0.021126985549926758\n",
      "--- runtime for data transfer (device->host):\t0.0031745433807373047\n",
      "1536 512 256 256\n"
     ]
    },
    {
     "name": "stderr",
     "output_type": "stream",
     "text": [
      "\n",
      "Processing blocks of tile::  38%|███▊      | 24/64.0 [01:10<01:58,  2.96s/it]\u001b[A"
     ]
    },
    {
     "name": "stdout",
     "output_type": "stream",
     "text": [
      "--- runtime for data initialization:\t\t0.0017819404602050781\n",
      "--- runtime for data transfer (host->device):\t0.01264190673828125\n",
      "--- runtime for data preprocessing:\t\t0.0032520294189453125\n",
      "--- runtime for kernel execution:\t\t0.020934104919433594\n",
      "--- runtime for data transfer (device->host):\t0.003366708755493164\n",
      "1792 512 256 256\n"
     ]
    },
    {
     "name": "stderr",
     "output_type": "stream",
     "text": [
      "\n",
      "Processing blocks of tile::  39%|███▉      | 25/64.0 [01:13<01:55,  2.97s/it]\u001b[A"
     ]
    },
    {
     "name": "stdout",
     "output_type": "stream",
     "text": [
      "--- runtime for data initialization:\t\t0.0018253326416015625\n",
      "--- runtime for data transfer (host->device):\t0.012628316879272461\n",
      "--- runtime for data preprocessing:\t\t0.0032281875610351562\n",
      "--- runtime for kernel execution:\t\t0.02092123031616211\n",
      "--- runtime for data transfer (device->host):\t0.003356456756591797\n",
      "0 768 256 256\n"
     ]
    },
    {
     "name": "stderr",
     "output_type": "stream",
     "text": [
      "\n",
      "Processing blocks of tile::  41%|████      | 26/64.0 [01:16<01:54,  3.02s/it]\u001b[A"
     ]
    },
    {
     "name": "stdout",
     "output_type": "stream",
     "text": [
      "--- runtime for data initialization:\t\t0.0017838478088378906\n",
      "--- runtime for data transfer (host->device):\t0.01267385482788086\n",
      "--- runtime for data preprocessing:\t\t0.0032291412353515625\n",
      "--- runtime for kernel execution:\t\t0.021080732345581055\n",
      "--- runtime for data transfer (device->host):\t0.0033304691314697266\n",
      "256 768 256 256\n"
     ]
    },
    {
     "name": "stderr",
     "output_type": "stream",
     "text": [
      "\n",
      "Processing blocks of tile::  42%|████▏     | 27/64.0 [01:19<01:49,  2.96s/it]\u001b[A"
     ]
    },
    {
     "name": "stdout",
     "output_type": "stream",
     "text": [
      "--- runtime for data initialization:\t\t0.0018258094787597656\n",
      "--- runtime for data transfer (host->device):\t0.01264643669128418\n",
      "--- runtime for data preprocessing:\t\t0.0032320022583007812\n",
      "--- runtime for kernel execution:\t\t0.0209505558013916\n",
      "--- runtime for data transfer (device->host):\t0.003334522247314453\n",
      "512 768 256 256\n"
     ]
    },
    {
     "name": "stderr",
     "output_type": "stream",
     "text": [
      "\n",
      "Processing blocks of tile::  44%|████▍     | 28/64.0 [01:22<01:45,  2.92s/it]\u001b[A"
     ]
    },
    {
     "name": "stdout",
     "output_type": "stream",
     "text": [
      "--- runtime for data initialization:\t\t0.0018010139465332031\n",
      "--- runtime for data transfer (host->device):\t0.012684822082519531\n",
      "--- runtime for data preprocessing:\t\t0.003252267837524414\n",
      "--- runtime for kernel execution:\t\t0.02093958854675293\n",
      "--- runtime for data transfer (device->host):\t0.0033447742462158203\n",
      "768 768 256 256\n"
     ]
    },
    {
     "name": "stderr",
     "output_type": "stream",
     "text": [
      "\n",
      "Processing blocks of tile::  45%|████▌     | 29/64.0 [01:25<01:42,  2.92s/it]\u001b[A"
     ]
    },
    {
     "name": "stdout",
     "output_type": "stream",
     "text": [
      "--- runtime for data initialization:\t\t0.001821279525756836\n",
      "--- runtime for data transfer (host->device):\t0.012628793716430664\n",
      "--- runtime for data preprocessing:\t\t0.003248453140258789\n",
      "--- runtime for kernel execution:\t\t0.020913362503051758\n",
      "--- runtime for data transfer (device->host):\t0.003347158432006836\n",
      "1024 768 256 256\n"
     ]
    },
    {
     "name": "stderr",
     "output_type": "stream",
     "text": [
      "\n",
      "Processing blocks of tile::  47%|████▋     | 30/64.0 [01:28<01:39,  2.92s/it]\u001b[A"
     ]
    },
    {
     "name": "stdout",
     "output_type": "stream",
     "text": [
      "--- runtime for data initialization:\t\t0.0017998218536376953\n",
      "--- runtime for data transfer (host->device):\t0.012675046920776367\n",
      "--- runtime for data preprocessing:\t\t0.003239870071411133\n",
      "--- runtime for kernel execution:\t\t0.02107548713684082\n",
      "--- runtime for data transfer (device->host):\t0.0033621788024902344\n",
      "1280 768 256 256\n"
     ]
    },
    {
     "name": "stderr",
     "output_type": "stream",
     "text": [
      "\n",
      "Processing blocks of tile::  48%|████▊     | 31/64.0 [01:31<01:36,  2.92s/it]\u001b[A"
     ]
    },
    {
     "name": "stdout",
     "output_type": "stream",
     "text": [
      "--- runtime for data initialization:\t\t0.0017879009246826172\n",
      "--- runtime for data transfer (host->device):\t0.01268911361694336\n",
      "--- runtime for data preprocessing:\t\t0.0032503604888916016\n",
      "--- runtime for kernel execution:\t\t0.021103858947753906\n",
      "--- runtime for data transfer (device->host):\t0.003359556198120117\n",
      "1536 768 256 256\n"
     ]
    },
    {
     "name": "stderr",
     "output_type": "stream",
     "text": [
      "\n",
      "Processing blocks of tile::  50%|█████     | 32/64.0 [01:34<01:33,  2.93s/it]\u001b[A"
     ]
    },
    {
     "name": "stdout",
     "output_type": "stream",
     "text": [
      "--- runtime for data initialization:\t\t0.0018115043640136719\n",
      "--- runtime for data transfer (host->device):\t0.01271367073059082\n",
      "--- runtime for data preprocessing:\t\t0.003268718719482422\n",
      "--- runtime for kernel execution:\t\t0.02109241485595703\n",
      "--- runtime for data transfer (device->host):\t0.0033712387084960938\n",
      "1792 768 256 256\n"
     ]
    },
    {
     "name": "stderr",
     "output_type": "stream",
     "text": [
      "\n",
      "Processing blocks of tile::  52%|█████▏    | 33/64.0 [01:37<01:30,  2.92s/it]\u001b[A"
     ]
    },
    {
     "name": "stdout",
     "output_type": "stream",
     "text": [
      "--- runtime for data initialization:\t\t0.001806020736694336\n",
      "--- runtime for data transfer (host->device):\t0.012594938278198242\n",
      "--- runtime for data preprocessing:\t\t0.003247976303100586\n",
      "--- runtime for kernel execution:\t\t0.020936012268066406\n",
      "--- runtime for data transfer (device->host):\t0.003348827362060547\n",
      "0 1024 256 256\n"
     ]
    },
    {
     "name": "stderr",
     "output_type": "stream",
     "text": [
      "\n",
      "Processing blocks of tile::  53%|█████▎    | 34/64.0 [01:40<01:30,  3.00s/it]\u001b[A"
     ]
    },
    {
     "name": "stdout",
     "output_type": "stream",
     "text": [
      "--- runtime for data initialization:\t\t0.0018618106842041016\n",
      "--- runtime for data transfer (host->device):\t0.01266622543334961\n",
      "--- runtime for data preprocessing:\t\t0.003232240676879883\n",
      "--- runtime for kernel execution:\t\t0.021075725555419922\n",
      "--- runtime for data transfer (device->host):\t0.003368377685546875\n",
      "256 1024 256 256\n"
     ]
    },
    {
     "name": "stderr",
     "output_type": "stream",
     "text": [
      "\n",
      "Processing blocks of tile::  55%|█████▍    | 35/64.0 [01:43<01:28,  3.04s/it]\u001b[A"
     ]
    },
    {
     "name": "stdout",
     "output_type": "stream",
     "text": [
      "--- runtime for data initialization:\t\t0.0017876625061035156\n",
      "--- runtime for data transfer (host->device):\t0.01272130012512207\n",
      "--- runtime for data preprocessing:\t\t0.0032808780670166016\n",
      "--- runtime for kernel execution:\t\t0.021104812622070312\n",
      "--- runtime for data transfer (device->host):\t0.0031502246856689453\n",
      "512 1024 256 256\n"
     ]
    },
    {
     "name": "stderr",
     "output_type": "stream",
     "text": [
      "\n",
      "Processing blocks of tile::  56%|█████▋    | 36/64.0 [01:46<01:23,  2.97s/it]\u001b[A"
     ]
    },
    {
     "name": "stdout",
     "output_type": "stream",
     "text": [
      "--- runtime for data initialization:\t\t0.001850128173828125\n",
      "--- runtime for data transfer (host->device):\t0.012633562088012695\n",
      "--- runtime for data preprocessing:\t\t0.0032227039337158203\n",
      "--- runtime for kernel execution:\t\t0.020914554595947266\n",
      "--- runtime for data transfer (device->host):\t0.0033555030822753906\n",
      "768 1024 256 256\n"
     ]
    },
    {
     "name": "stderr",
     "output_type": "stream",
     "text": [
      "\n",
      "Processing blocks of tile::  58%|█████▊    | 37/64.0 [01:49<01:20,  2.97s/it]\u001b[A"
     ]
    },
    {
     "name": "stdout",
     "output_type": "stream",
     "text": [
      "--- runtime for data initialization:\t\t0.0018415451049804688\n",
      "--- runtime for data transfer (host->device):\t0.01289057731628418\n",
      "--- runtime for data preprocessing:\t\t0.0034072399139404297\n",
      "--- runtime for kernel execution:\t\t0.021175146102905273\n",
      "--- runtime for data transfer (device->host):\t0.0031223297119140625\n",
      "1024 1024 256 256\n"
     ]
    },
    {
     "name": "stderr",
     "output_type": "stream",
     "text": [
      "\n",
      "Processing blocks of tile::  59%|█████▉    | 38/64.0 [01:52<01:17,  2.97s/it]\u001b[A"
     ]
    },
    {
     "name": "stdout",
     "output_type": "stream",
     "text": [
      "--- runtime for data initialization:\t\t0.0017964839935302734\n",
      "--- runtime for data transfer (host->device):\t0.012644052505493164\n",
      "--- runtime for data preprocessing:\t\t0.0032296180725097656\n",
      "--- runtime for kernel execution:\t\t0.020961284637451172\n",
      "--- runtime for data transfer (device->host):\t0.00335693359375\n",
      "1280 1024 256 256\n"
     ]
    },
    {
     "name": "stderr",
     "output_type": "stream",
     "text": [
      "\n",
      "Processing blocks of tile::  61%|██████    | 39/64.0 [01:55<01:13,  2.96s/it]\u001b[A"
     ]
    },
    {
     "name": "stdout",
     "output_type": "stream",
     "text": [
      "--- runtime for data initialization:\t\t0.0018084049224853516\n",
      "--- runtime for data transfer (host->device):\t0.012604951858520508\n",
      "--- runtime for data preprocessing:\t\t0.0032372474670410156\n",
      "--- runtime for kernel execution:\t\t0.020966291427612305\n",
      "--- runtime for data transfer (device->host):\t0.003354310989379883\n",
      "1536 1024 256 256\n"
     ]
    },
    {
     "name": "stderr",
     "output_type": "stream",
     "text": [
      "\n",
      "Processing blocks of tile::  62%|██████▎   | 40/64.0 [01:58<01:10,  2.96s/it]\u001b[A"
     ]
    },
    {
     "name": "stdout",
     "output_type": "stream",
     "text": [
      "--- runtime for data initialization:\t\t0.0017838478088378906\n",
      "--- runtime for data transfer (host->device):\t0.012620687484741211\n",
      "--- runtime for data preprocessing:\t\t0.0032846927642822266\n",
      "--- runtime for kernel execution:\t\t0.02089095115661621\n",
      "--- runtime for data transfer (device->host):\t0.0033349990844726562\n",
      "1792 1024 256 256\n"
     ]
    },
    {
     "name": "stderr",
     "output_type": "stream",
     "text": [
      "\n",
      "Processing blocks of tile::  64%|██████▍   | 41/64.0 [02:01<01:08,  2.96s/it]\u001b[A"
     ]
    },
    {
     "name": "stdout",
     "output_type": "stream",
     "text": [
      "--- runtime for data initialization:\t\t0.0018045902252197266\n",
      "--- runtime for data transfer (host->device):\t0.012684822082519531\n",
      "--- runtime for data preprocessing:\t\t0.0032792091369628906\n",
      "--- runtime for kernel execution:\t\t0.021086931228637695\n",
      "--- runtime for data transfer (device->host):\t0.003220796585083008\n",
      "0 1280 256 256\n"
     ]
    },
    {
     "name": "stderr",
     "output_type": "stream",
     "text": [
      "\n",
      "Processing blocks of tile::  66%|██████▌   | 42/64.0 [02:04<01:06,  3.03s/it]\u001b[A"
     ]
    },
    {
     "name": "stdout",
     "output_type": "stream",
     "text": [
      "--- runtime for data initialization:\t\t0.0018572807312011719\n",
      "--- runtime for data transfer (host->device):\t0.012624740600585938\n",
      "--- runtime for data preprocessing:\t\t0.003230571746826172\n",
      "--- runtime for kernel execution:\t\t0.02095770835876465\n",
      "--- runtime for data transfer (device->host):\t0.0033524036407470703\n",
      "256 1280 256 256\n"
     ]
    },
    {
     "name": "stderr",
     "output_type": "stream",
     "text": [
      "\n",
      "Processing blocks of tile::  67%|██████▋   | 43/64.0 [02:07<01:04,  3.06s/it]\u001b[A"
     ]
    },
    {
     "name": "stdout",
     "output_type": "stream",
     "text": [
      "--- runtime for data initialization:\t\t0.0017828941345214844\n",
      "--- runtime for data transfer (host->device):\t0.01270437240600586\n",
      "--- runtime for data preprocessing:\t\t0.0032444000244140625\n",
      "--- runtime for kernel execution:\t\t0.021113157272338867\n",
      "--- runtime for data transfer (device->host):\t0.0033311843872070312\n",
      "512 1280 256 256\n"
     ]
    },
    {
     "name": "stderr",
     "output_type": "stream",
     "text": [
      "\n",
      "Processing blocks of tile::  69%|██████▉   | 44/64.0 [02:10<01:01,  3.08s/it]\u001b[A"
     ]
    },
    {
     "name": "stdout",
     "output_type": "stream",
     "text": [
      "--- runtime for data initialization:\t\t0.001783609390258789\n",
      "--- runtime for data transfer (host->device):\t0.012677431106567383\n",
      "--- runtime for data preprocessing:\t\t0.003223896026611328\n",
      "--- runtime for kernel execution:\t\t0.020951271057128906\n",
      "--- runtime for data transfer (device->host):\t0.0033495426177978516\n",
      "768 1280 256 256\n"
     ]
    },
    {
     "name": "stderr",
     "output_type": "stream",
     "text": [
      "\n",
      "Processing blocks of tile::  70%|███████   | 45/64.0 [02:13<00:56,  2.96s/it]\u001b[A"
     ]
    },
    {
     "name": "stdout",
     "output_type": "stream",
     "text": [
      "--- runtime for data initialization:\t\t0.0018706321716308594\n",
      "--- runtime for data transfer (host->device):\t0.012633562088012695\n",
      "--- runtime for data preprocessing:\t\t0.0032274723052978516\n",
      "--- runtime for kernel execution:\t\t0.020936012268066406\n",
      "--- runtime for data transfer (device->host):\t0.003343820571899414\n",
      "1024 1280 256 256\n"
     ]
    },
    {
     "name": "stderr",
     "output_type": "stream",
     "text": [
      "\n",
      "Processing blocks of tile::  72%|███████▏  | 46/64.0 [02:16<00:53,  2.95s/it]\u001b[A"
     ]
    },
    {
     "name": "stdout",
     "output_type": "stream",
     "text": [
      "--- runtime for data initialization:\t\t0.0018000602722167969\n",
      "--- runtime for data transfer (host->device):\t0.012642145156860352\n",
      "--- runtime for data preprocessing:\t\t0.0032405853271484375\n",
      "--- runtime for kernel execution:\t\t0.02096247673034668\n",
      "--- runtime for data transfer (device->host):\t0.003341197967529297\n",
      "1280 1280 256 256\n"
     ]
    },
    {
     "name": "stderr",
     "output_type": "stream",
     "text": [
      "\n",
      "Processing blocks of tile::  73%|███████▎  | 47/64.0 [02:19<00:50,  2.95s/it]\u001b[A"
     ]
    },
    {
     "name": "stdout",
     "output_type": "stream",
     "text": [
      "--- runtime for data initialization:\t\t0.0017864704132080078\n",
      "--- runtime for data transfer (host->device):\t0.012751340866088867\n",
      "--- runtime for data preprocessing:\t\t0.003293275833129883\n",
      "--- runtime for kernel execution:\t\t0.02110004425048828\n",
      "--- runtime for data transfer (device->host):\t0.0031735897064208984\n",
      "1536 1280 256 256\n"
     ]
    },
    {
     "name": "stderr",
     "output_type": "stream",
     "text": [
      "\n",
      "Processing blocks of tile::  75%|███████▌  | 48/64.0 [02:22<00:47,  2.99s/it]\u001b[A"
     ]
    },
    {
     "name": "stdout",
     "output_type": "stream",
     "text": [
      "--- runtime for data initialization:\t\t0.0018305778503417969\n",
      "--- runtime for data transfer (host->device):\t0.01263427734375\n",
      "--- runtime for data preprocessing:\t\t0.003237009048461914\n",
      "--- runtime for kernel execution:\t\t0.020945310592651367\n",
      "--- runtime for data transfer (device->host):\t0.003358602523803711\n",
      "1792 1280 256 256\n"
     ]
    },
    {
     "name": "stderr",
     "output_type": "stream",
     "text": [
      "\n",
      "Processing blocks of tile::  77%|███████▋  | 49/64.0 [02:25<00:44,  2.97s/it]\u001b[A"
     ]
    },
    {
     "name": "stdout",
     "output_type": "stream",
     "text": [
      "--- runtime for data initialization:\t\t0.00177764892578125\n",
      "--- runtime for data transfer (host->device):\t0.012764930725097656\n",
      "--- runtime for data preprocessing:\t\t0.0032711029052734375\n",
      "--- runtime for kernel execution:\t\t0.020917177200317383\n",
      "--- runtime for data transfer (device->host):\t0.0031991004943847656\n",
      "0 1536 256 256\n"
     ]
    },
    {
     "name": "stderr",
     "output_type": "stream",
     "text": [
      "\n",
      "Processing blocks of tile::  78%|███████▊  | 50/64.0 [02:28<00:42,  3.04s/it]\u001b[A"
     ]
    },
    {
     "name": "stdout",
     "output_type": "stream",
     "text": [
      "--- runtime for data initialization:\t\t0.001809835433959961\n",
      "--- runtime for data transfer (host->device):\t0.01272273063659668\n",
      "--- runtime for data preprocessing:\t\t0.003269195556640625\n",
      "--- runtime for kernel execution:\t\t0.020914554595947266\n",
      "--- runtime for data transfer (device->host):\t0.0032057762145996094\n",
      "256 1536 256 256\n"
     ]
    },
    {
     "name": "stderr",
     "output_type": "stream",
     "text": [
      "\n",
      "Processing blocks of tile::  80%|███████▉  | 51/64.0 [02:31<00:40,  3.08s/it]\u001b[A"
     ]
    },
    {
     "name": "stdout",
     "output_type": "stream",
     "text": [
      "--- runtime for data initialization:\t\t0.001809835433959961\n",
      "--- runtime for data transfer (host->device):\t0.012639284133911133\n",
      "--- runtime for data preprocessing:\t\t0.0032265186309814453\n",
      "--- runtime for kernel execution:\t\t0.020917654037475586\n",
      "--- runtime for data transfer (device->host):\t0.0033416748046875\n",
      "512 1536 256 256\n"
     ]
    },
    {
     "name": "stderr",
     "output_type": "stream",
     "text": [
      "\n",
      "Processing blocks of tile::  81%|████████▏ | 52/64.0 [02:34<00:37,  3.12s/it]\u001b[A"
     ]
    },
    {
     "name": "stdout",
     "output_type": "stream",
     "text": [
      "--- runtime for data initialization:\t\t0.0018041133880615234\n",
      "--- runtime for data transfer (host->device):\t0.012724876403808594\n",
      "--- runtime for data preprocessing:\t\t0.003251791000366211\n",
      "--- runtime for kernel execution:\t\t0.021074771881103516\n",
      "--- runtime for data transfer (device->host):\t0.0033550262451171875\n",
      "768 1536 256 256\n"
     ]
    },
    {
     "name": "stderr",
     "output_type": "stream",
     "text": [
      "\n",
      "Processing blocks of tile::  83%|████████▎ | 53/64.0 [02:37<00:33,  3.01s/it]\u001b[A"
     ]
    },
    {
     "name": "stdout",
     "output_type": "stream",
     "text": [
      "--- runtime for data initialization:\t\t0.0018589496612548828\n",
      "--- runtime for data transfer (host->device):\t0.012778282165527344\n",
      "--- runtime for data preprocessing:\t\t0.0033791065216064453\n",
      "--- runtime for kernel execution:\t\t0.020951509475708008\n",
      "--- runtime for data transfer (device->host):\t0.0033223628997802734\n",
      "1024 1536 256 256\n"
     ]
    },
    {
     "name": "stderr",
     "output_type": "stream",
     "text": [
      "\n",
      "Processing blocks of tile::  84%|████████▍ | 54/64.0 [02:40<00:29,  3.00s/it]\u001b[A"
     ]
    },
    {
     "name": "stdout",
     "output_type": "stream",
     "text": [
      "--- runtime for data initialization:\t\t0.0017812252044677734\n",
      "--- runtime for data transfer (host->device):\t0.012697696685791016\n",
      "--- runtime for data preprocessing:\t\t0.0032341480255126953\n",
      "--- runtime for kernel execution:\t\t0.021100521087646484\n",
      "--- runtime for data transfer (device->host):\t0.003179788589477539\n",
      "1280 1536 256 256\n"
     ]
    },
    {
     "name": "stderr",
     "output_type": "stream",
     "text": [
      "\n",
      "Processing blocks of tile::  86%|████████▌ | 55/64.0 [02:43<00:26,  3.00s/it]\u001b[A"
     ]
    },
    {
     "name": "stdout",
     "output_type": "stream",
     "text": [
      "--- runtime for data initialization:\t\t0.0017726421356201172\n",
      "--- runtime for data transfer (host->device):\t0.012600183486938477\n",
      "--- runtime for data preprocessing:\t\t0.003233194351196289\n",
      "--- runtime for kernel execution:\t\t0.021092891693115234\n",
      "--- runtime for data transfer (device->host):\t0.0033409595489501953\n",
      "1536 1536 256 256\n"
     ]
    },
    {
     "name": "stderr",
     "output_type": "stream",
     "text": [
      "\n",
      "Processing blocks of tile::  88%|████████▊ | 56/64.0 [02:46<00:24,  3.00s/it]\u001b[A"
     ]
    },
    {
     "name": "stdout",
     "output_type": "stream",
     "text": [
      "--- runtime for data initialization:\t\t0.001811981201171875\n",
      "--- runtime for data transfer (host->device):\t0.012731790542602539\n",
      "--- runtime for data preprocessing:\t\t0.0032532215118408203\n",
      "--- runtime for kernel execution:\t\t0.021088361740112305\n",
      "--- runtime for data transfer (device->host):\t0.0031843185424804688\n",
      "1792 1536 256 256\n"
     ]
    },
    {
     "name": "stderr",
     "output_type": "stream",
     "text": [
      "\n",
      "Processing blocks of tile::  89%|████████▉ | 57/64.0 [02:49<00:20,  3.00s/it]\u001b[A"
     ]
    },
    {
     "name": "stdout",
     "output_type": "stream",
     "text": [
      "--- runtime for data initialization:\t\t0.001829385757446289\n",
      "--- runtime for data transfer (host->device):\t0.012655973434448242\n",
      "--- runtime for data preprocessing:\t\t0.003238677978515625\n",
      "--- runtime for kernel execution:\t\t0.02106022834777832\n",
      "--- runtime for data transfer (device->host):\t0.0033483505249023438\n",
      "0 1792 256 256\n"
     ]
    },
    {
     "name": "stderr",
     "output_type": "stream",
     "text": [
      "\n",
      "Processing blocks of tile::  91%|█████████ | 58/64.0 [02:52<00:18,  3.06s/it]\u001b[A"
     ]
    },
    {
     "name": "stdout",
     "output_type": "stream",
     "text": [
      "--- runtime for data initialization:\t\t0.001796722412109375\n",
      "--- runtime for data transfer (host->device):\t0.01279139518737793\n",
      "--- runtime for data preprocessing:\t\t0.003262042999267578\n",
      "--- runtime for kernel execution:\t\t0.020915746688842773\n",
      "--- runtime for data transfer (device->host):\t0.0032002925872802734\n",
      "256 1792 256 256\n"
     ]
    },
    {
     "name": "stderr",
     "output_type": "stream",
     "text": [
      "\n",
      "Processing blocks of tile::  92%|█████████▏| 59/64.0 [02:55<00:15,  3.07s/it]\u001b[A"
     ]
    },
    {
     "name": "stdout",
     "output_type": "stream",
     "text": [
      "--- runtime for data initialization:\t\t0.0017902851104736328\n",
      "--- runtime for data transfer (host->device):\t0.012712478637695312\n",
      "--- runtime for data preprocessing:\t\t0.0032396316528320312\n",
      "--- runtime for kernel execution:\t\t0.021108627319335938\n",
      "--- runtime for data transfer (device->host):\t0.0031795501708984375\n",
      "512 1792 256 256\n"
     ]
    },
    {
     "name": "stderr",
     "output_type": "stream",
     "text": [
      "\n",
      "Processing blocks of tile::  94%|█████████▍| 60/64.0 [02:58<00:12,  3.10s/it]\u001b[A"
     ]
    },
    {
     "name": "stdout",
     "output_type": "stream",
     "text": [
      "--- runtime for data initialization:\t\t0.001775979995727539\n",
      "--- runtime for data transfer (host->device):\t0.012686967849731445\n",
      "--- runtime for data preprocessing:\t\t0.0032453536987304688\n",
      "--- runtime for kernel execution:\t\t0.02090620994567871\n",
      "--- runtime for data transfer (device->host):\t0.0031926631927490234\n",
      "768 1792 256 256\n"
     ]
    },
    {
     "name": "stderr",
     "output_type": "stream",
     "text": [
      "\n",
      "Processing blocks of tile::  95%|█████████▌| 61/64.0 [03:01<00:08,  2.99s/it]\u001b[A"
     ]
    },
    {
     "name": "stdout",
     "output_type": "stream",
     "text": [
      "--- runtime for data initialization:\t\t0.0018150806427001953\n",
      "--- runtime for data transfer (host->device):\t0.012755155563354492\n",
      "--- runtime for data preprocessing:\t\t0.003234386444091797\n",
      "--- runtime for kernel execution:\t\t0.02108311653137207\n",
      "--- runtime for data transfer (device->host):\t0.003185272216796875\n",
      "1024 1792 256 256\n"
     ]
    },
    {
     "name": "stderr",
     "output_type": "stream",
     "text": [
      "\n",
      "Processing blocks of tile::  97%|█████████▋| 62/64.0 [03:04<00:05,  2.96s/it]\u001b[A"
     ]
    },
    {
     "name": "stdout",
     "output_type": "stream",
     "text": [
      "--- runtime for data initialization:\t\t0.0018012523651123047\n",
      "--- runtime for data transfer (host->device):\t0.012715578079223633\n",
      "--- runtime for data preprocessing:\t\t0.003257274627685547\n",
      "--- runtime for kernel execution:\t\t0.021091938018798828\n",
      "--- runtime for data transfer (device->host):\t0.0031876564025878906\n",
      "1280 1792 256 256\n"
     ]
    },
    {
     "name": "stderr",
     "output_type": "stream",
     "text": [
      "\n",
      "Processing blocks of tile::  98%|█████████▊| 63/64.0 [03:07<00:02,  2.96s/it]\u001b[A"
     ]
    },
    {
     "name": "stdout",
     "output_type": "stream",
     "text": [
      "--- runtime for data initialization:\t\t0.0018498897552490234\n",
      "--- runtime for data transfer (host->device):\t0.012762784957885742\n",
      "--- runtime for data preprocessing:\t\t0.0032889842987060547\n",
      "--- runtime for kernel execution:\t\t0.021099328994750977\n",
      "--- runtime for data transfer (device->host):\t0.0031888484954833984\n",
      "1536 1792 256 256\n"
     ]
    },
    {
     "name": "stderr",
     "output_type": "stream",
     "text": [
      "\n",
      "Processing blocks of tile:: 100%|██████████| 64/64.0 [03:10<00:00,  2.94s/it]\u001b[A"
     ]
    },
    {
     "name": "stdout",
     "output_type": "stream",
     "text": [
      "--- runtime for data initialization:\t\t0.0018057823181152344\n",
      "--- runtime for data transfer (host->device):\t0.012716054916381836\n",
      "--- runtime for data preprocessing:\t\t0.003239154815673828\n",
      "--- runtime for kernel execution:\t\t0.021081209182739258\n",
      "--- runtime for data transfer (device->host):\t0.0031740665435791016\n",
      "1792 1792 256 256\n"
     ]
    },
    {
     "name": "stderr",
     "output_type": "stream",
     "text": [
      "\r",
      "Processing blocks of tile:: 100%|██████████| 64/64.0 [03:13<00:00,  3.02s/it]"
     ]
    },
    {
     "name": "stdout",
     "output_type": "stream",
     "text": [
      "--- runtime for data initialization:\t\t0.0018172264099121094\n",
      "--- runtime for data transfer (host->device):\t0.012677192687988281\n",
      "--- runtime for data preprocessing:\t\t0.0032515525817871094\n",
      "--- runtime for kernel execution:\t\t0.02093648910522461\n",
      "--- runtime for data transfer (device->host):\t0.003343820571899414\n",
      "Fitting model over all blocks took 193.17075634002686 seconds.\n"
     ]
    },
    {
     "name": "stderr",
     "output_type": "stream",
     "text": [
      "\n",
      "Processing tile 4 out of 6: : 3it [06:56, 46.07s/it]                     \n",
      "  0%|          | 0/6.15625 [00:00<?, ?it/s]\u001b[A\n",
      "Processing blocks of tile::   0%|          | 0/6.15625 [00:00<?, ?it/s]\u001b[A"
     ]
    },
    {
     "name": "stdout",
     "output_type": "stream",
     "text": [
      "device:  [<pyopencl.Device 'Tesla T4' on 'NVIDIA CUDA' at 0x379bce0>]\n",
      "Monitoring starts at:  2017-04-03 00:00:00\n",
      "Monitoring ends at:  2020-08-23 00:00:00\n",
      "Dataset history starts at:  2012-01-05 00:00:00\n",
      "frequency:  365\n",
      "harmonic term:  3\n",
      "Hfrac: Float in the interval (0,1) specifying the bandwidth relative to the sample size in the MOSUM/ME monitoring processes.:  0.25\n",
      "Trend: Whether a tend offset term shall be used or not:  False\n",
      "Level: Significance level of the monitoring (and ROC, if selected) procedure, i.e., probability of type I error:  0.050000000000000044\n",
      "backend: GPU opencl or CPU python:  opencl\n",
      "verbose: The verbosity level (0=no output, 1=output):  1\n",
      "rastersize:  197 2048\n",
      "The natural block size is the block size that is most efficient for accessing the format, gdal found blocksize:  [128, 128]\n",
      "set blocksize explicitly:  256 ,  256\n",
      "start monitor:  2017-04-03 00:00:00\n",
      "end monitor:  2020-08-23 00:00:00\n",
      "start history:  2012-01-05 00:00:00\n",
      "0 0 197 256\n"
     ]
    },
    {
     "name": "stderr",
     "output_type": "stream",
     "text": [
      "\n",
      "Processing blocks of tile::  32%|███▏      | 2/6.15625 [00:05<00:10,  2.59s/it]\u001b[A"
     ]
    },
    {
     "name": "stdout",
     "output_type": "stream",
     "text": [
      "--- runtime for data initialization:\t\t0.001796722412109375\n",
      "--- runtime for data transfer (host->device):\t0.00992274284362793\n",
      "--- runtime for data preprocessing:\t\t0.002902507781982422\n",
      "--- runtime for kernel execution:\t\t0.016347408294677734\n",
      "--- runtime for data transfer (device->host):\t0.002529621124267578\n",
      "0 256 197 256\n"
     ]
    },
    {
     "name": "stderr",
     "output_type": "stream",
     "text": [
      "\n",
      "Processing blocks of tile::  49%|████▊     | 3/6.15625 [00:08<00:08,  2.68s/it]\u001b[A"
     ]
    },
    {
     "name": "stdout",
     "output_type": "stream",
     "text": [
      "--- runtime for data initialization:\t\t0.001791238784790039\n",
      "--- runtime for data transfer (host->device):\t0.009916067123413086\n",
      "--- runtime for data preprocessing:\t\t0.002907991409301758\n",
      "--- runtime for kernel execution:\t\t0.016357898712158203\n",
      "--- runtime for data transfer (device->host):\t0.002580404281616211\n",
      "0 512 197 256\n"
     ]
    },
    {
     "name": "stderr",
     "output_type": "stream",
     "text": [
      "\n",
      "Processing blocks of tile::  65%|██████▍   | 4/6.15625 [00:11<00:05,  2.78s/it]\u001b[A"
     ]
    },
    {
     "name": "stdout",
     "output_type": "stream",
     "text": [
      "--- runtime for data initialization:\t\t0.0017707347869873047\n",
      "--- runtime for data transfer (host->device):\t0.009923219680786133\n",
      "--- runtime for data preprocessing:\t\t0.002918243408203125\n",
      "--- runtime for kernel execution:\t\t0.016294479370117188\n",
      "--- runtime for data transfer (device->host):\t0.0024061203002929688\n",
      "0 768 197 256\n"
     ]
    },
    {
     "name": "stderr",
     "output_type": "stream",
     "text": [
      "\n",
      "Processing blocks of tile::  81%|████████  | 5/6.15625 [00:13<00:03,  2.81s/it]\u001b[A"
     ]
    },
    {
     "name": "stdout",
     "output_type": "stream",
     "text": [
      "--- runtime for data initialization:\t\t0.0018429756164550781\n",
      "--- runtime for data transfer (host->device):\t0.009846925735473633\n",
      "--- runtime for data preprocessing:\t\t0.0028939247131347656\n",
      "--- runtime for kernel execution:\t\t0.016379356384277344\n",
      "--- runtime for data transfer (device->host):\t0.0025587081909179688\n",
      "0 1024 197 256\n"
     ]
    },
    {
     "name": "stderr",
     "output_type": "stream",
     "text": [
      "\n",
      "Processing blocks of tile::  97%|█████████▋| 6/6.15625 [00:16<00:00,  2.80s/it]\u001b[A"
     ]
    },
    {
     "name": "stdout",
     "output_type": "stream",
     "text": [
      "--- runtime for data initialization:\t\t0.0018513202667236328\n",
      "--- runtime for data transfer (host->device):\t0.010005474090576172\n",
      "--- runtime for data preprocessing:\t\t0.002991914749145508\n",
      "--- runtime for kernel execution:\t\t0.01630854606628418\n",
      "--- runtime for data transfer (device->host):\t0.0025491714477539062\n",
      "0 1280 197 256\n"
     ]
    },
    {
     "name": "stderr",
     "output_type": "stream",
     "text": [
      "\n",
      "Processing blocks of tile:: : 7it [00:19,  2.84s/it]                           \u001b[A"
     ]
    },
    {
     "name": "stdout",
     "output_type": "stream",
     "text": [
      "--- runtime for data initialization:\t\t0.0017936229705810547\n",
      "--- runtime for data transfer (host->device):\t0.00982046127319336\n",
      "--- runtime for data preprocessing:\t\t0.002888202667236328\n",
      "--- runtime for kernel execution:\t\t0.016356945037841797\n",
      "--- runtime for data transfer (device->host):\t0.0025489330291748047\n",
      "0 1536 197 256\n"
     ]
    },
    {
     "name": "stderr",
     "output_type": "stream",
     "text": [
      "\n",
      "Processing blocks of tile:: : 8it [00:22,  2.84s/it]\u001b[A"
     ]
    },
    {
     "name": "stdout",
     "output_type": "stream",
     "text": [
      "--- runtime for data initialization:\t\t0.0017914772033691406\n",
      "--- runtime for data transfer (host->device):\t0.009882926940917969\n",
      "--- runtime for data preprocessing:\t\t0.002909421920776367\n",
      "--- runtime for kernel execution:\t\t0.01635599136352539\n",
      "--- runtime for data transfer (device->host):\t0.002549409866333008\n",
      "0 1792 197 256\n"
     ]
    },
    {
     "name": "stderr",
     "output_type": "stream",
     "text": [
      "Processing blocks of tile:: : 8it [00:25,  3.15s/it]\n",
      "Processing tile 5 out of 6: : 6it [07:22, 34.79s/it]\n",
      "  0%|          | 0/63.28125 [00:00<?, ?it/s]\u001b[A\n",
      "Processing blocks of tile::   0%|          | 0/63.28125 [00:00<?, ?it/s]\u001b[A"
     ]
    },
    {
     "name": "stdout",
     "output_type": "stream",
     "text": [
      "--- runtime for data initialization:\t\t0.0017774105072021484\n",
      "--- runtime for data transfer (host->device):\t0.009914875030517578\n",
      "--- runtime for data preprocessing:\t\t0.0029129981994628906\n",
      "--- runtime for kernel execution:\t\t0.01638317108154297\n",
      "--- runtime for data transfer (device->host):\t0.0024373531341552734\n",
      "Fitting model over all blocks took 25.23557949066162 seconds.\n",
      "device:  [<pyopencl.Device 'Tesla T4' on 'NVIDIA CUDA' at 0x379bce0>]\n",
      "Monitoring starts at:  2017-04-03 00:00:00\n",
      "Monitoring ends at:  2020-08-23 00:00:00\n",
      "Dataset history starts at:  2012-01-05 00:00:00\n",
      "frequency:  365\n",
      "harmonic term:  3\n",
      "Hfrac: Float in the interval (0,1) specifying the bandwidth relative to the sample size in the MOSUM/ME monitoring processes.:  0.25\n",
      "Trend: Whether a tend offset term shall be used or not:  False\n",
      "Level: Significance level of the monitoring (and ROC, if selected) procedure, i.e., probability of type I error:  0.050000000000000044\n",
      "backend: GPU opencl or CPU python:  opencl\n",
      "verbose: The verbosity level (0=no output, 1=output):  1\n",
      "rastersize:  2048 2025\n",
      "The natural block size is the block size that is most efficient for accessing the format, gdal found blocksize:  [128, 128]\n",
      "set blocksize explicitly:  256 ,  256\n",
      "start monitor:  2017-04-03 00:00:00\n",
      "end monitor:  2020-08-23 00:00:00\n",
      "start history:  2012-01-05 00:00:00\n",
      "0 0 256 256\n"
     ]
    },
    {
     "name": "stderr",
     "output_type": "stream",
     "text": [
      "\n",
      "Processing blocks of tile::   3%|▎         | 2/63.28125 [00:05<02:35,  2.54s/it]\u001b[A"
     ]
    },
    {
     "name": "stdout",
     "output_type": "stream",
     "text": [
      "--- runtime for data initialization:\t\t0.0018553733825683594\n",
      "--- runtime for data transfer (host->device):\t0.012609720230102539\n",
      "--- runtime for data preprocessing:\t\t0.0032608509063720703\n",
      "--- runtime for kernel execution:\t\t0.020949602127075195\n",
      "--- runtime for data transfer (device->host):\t0.0033407211303710938\n",
      "256 0 256 256\n"
     ]
    },
    {
     "name": "stderr",
     "output_type": "stream",
     "text": [
      "\n",
      "Processing blocks of tile::   5%|▍         | 3/63.28125 [00:08<02:45,  2.75s/it]\u001b[A"
     ]
    },
    {
     "name": "stdout",
     "output_type": "stream",
     "text": [
      "--- runtime for data initialization:\t\t0.0018200874328613281\n",
      "--- runtime for data transfer (host->device):\t0.01269674301147461\n",
      "--- runtime for data preprocessing:\t\t0.00324249267578125\n",
      "--- runtime for kernel execution:\t\t0.020973682403564453\n",
      "--- runtime for data transfer (device->host):\t0.0033555030822753906\n",
      "512 0 256 256\n"
     ]
    },
    {
     "name": "stderr",
     "output_type": "stream",
     "text": [
      "\n",
      "Processing blocks of tile::   6%|▋         | 4/63.28125 [00:11<02:51,  2.89s/it]\u001b[A"
     ]
    },
    {
     "name": "stdout",
     "output_type": "stream",
     "text": [
      "--- runtime for data initialization:\t\t0.0018422603607177734\n",
      "--- runtime for data transfer (host->device):\t0.012674808502197266\n",
      "--- runtime for data preprocessing:\t\t0.0032722949981689453\n",
      "--- runtime for kernel execution:\t\t0.021026134490966797\n",
      "--- runtime for data transfer (device->host):\t0.0032982826232910156\n",
      "768 0 256 256\n"
     ]
    },
    {
     "name": "stderr",
     "output_type": "stream",
     "text": [
      "\n",
      "Processing blocks of tile::   8%|▊         | 5/63.28125 [00:14<02:47,  2.87s/it]\u001b[A"
     ]
    },
    {
     "name": "stdout",
     "output_type": "stream",
     "text": [
      "--- runtime for data initialization:\t\t0.0017707347869873047\n",
      "--- runtime for data transfer (host->device):\t0.012685775756835938\n",
      "--- runtime for data preprocessing:\t\t0.0032520294189453125\n",
      "--- runtime for kernel execution:\t\t0.020952463150024414\n",
      "--- runtime for data transfer (device->host):\t0.003343820571899414\n",
      "1024 0 256 256\n"
     ]
    },
    {
     "name": "stderr",
     "output_type": "stream",
     "text": [
      "\n",
      "Processing blocks of tile::   9%|▉         | 6/63.28125 [00:17<02:46,  2.90s/it]\u001b[A"
     ]
    },
    {
     "name": "stdout",
     "output_type": "stream",
     "text": [
      "--- runtime for data initialization:\t\t0.0017719268798828125\n",
      "--- runtime for data transfer (host->device):\t0.01268625259399414\n",
      "--- runtime for data preprocessing:\t\t0.0032291412353515625\n",
      "--- runtime for kernel execution:\t\t0.020965099334716797\n",
      "--- runtime for data transfer (device->host):\t0.003373384475708008\n",
      "1280 0 256 256\n"
     ]
    },
    {
     "name": "stderr",
     "output_type": "stream",
     "text": [
      "\n",
      "Processing blocks of tile::  11%|█         | 7/63.28125 [00:20<02:43,  2.91s/it]\u001b[A"
     ]
    },
    {
     "name": "stdout",
     "output_type": "stream",
     "text": [
      "--- runtime for data initialization:\t\t0.001775979995727539\n",
      "--- runtime for data transfer (host->device):\t0.012630939483642578\n",
      "--- runtime for data preprocessing:\t\t0.003269672393798828\n",
      "--- runtime for kernel execution:\t\t0.021085500717163086\n",
      "--- runtime for data transfer (device->host):\t0.0033326148986816406\n",
      "1536 0 256 256\n"
     ]
    },
    {
     "name": "stderr",
     "output_type": "stream",
     "text": [
      "\n",
      "Processing blocks of tile::  13%|█▎        | 8/63.28125 [00:23<02:42,  2.93s/it]\u001b[A"
     ]
    },
    {
     "name": "stdout",
     "output_type": "stream",
     "text": [
      "--- runtime for data initialization:\t\t0.001802682876586914\n",
      "--- runtime for data transfer (host->device):\t0.012770891189575195\n",
      "--- runtime for data preprocessing:\t\t0.003317594528198242\n",
      "--- runtime for kernel execution:\t\t0.02092766761779785\n",
      "--- runtime for data transfer (device->host):\t0.0033462047576904297\n",
      "1792 0 256 256\n"
     ]
    },
    {
     "name": "stderr",
     "output_type": "stream",
     "text": [
      "\n",
      "Processing blocks of tile::  14%|█▍        | 9/63.28125 [00:26<02:39,  2.94s/it]\u001b[A"
     ]
    },
    {
     "name": "stdout",
     "output_type": "stream",
     "text": [
      "--- runtime for data initialization:\t\t0.0017931461334228516\n",
      "--- runtime for data transfer (host->device):\t0.012665510177612305\n",
      "--- runtime for data preprocessing:\t\t0.003262758255004883\n",
      "--- runtime for kernel execution:\t\t0.020977020263671875\n",
      "--- runtime for data transfer (device->host):\t0.003344297409057617\n",
      "0 256 256 256\n"
     ]
    },
    {
     "name": "stderr",
     "output_type": "stream",
     "text": [
      "\n",
      "Processing blocks of tile::  16%|█▌        | 10/63.28125 [00:29<02:40,  3.02s/it]\u001b[A"
     ]
    },
    {
     "name": "stdout",
     "output_type": "stream",
     "text": [
      "--- runtime for data initialization:\t\t0.00180816650390625\n",
      "--- runtime for data transfer (host->device):\t0.012732505798339844\n",
      "--- runtime for data preprocessing:\t\t0.003295421600341797\n",
      "--- runtime for kernel execution:\t\t0.0210113525390625\n",
      "--- runtime for data transfer (device->host):\t0.0033102035522460938\n",
      "256 256 256 256\n"
     ]
    },
    {
     "name": "stderr",
     "output_type": "stream",
     "text": [
      "\n",
      "Processing blocks of tile::  17%|█▋        | 11/63.28125 [00:32<02:40,  3.06s/it]\u001b[A"
     ]
    },
    {
     "name": "stdout",
     "output_type": "stream",
     "text": [
      "--- runtime for data initialization:\t\t0.001850128173828125\n",
      "--- runtime for data transfer (host->device):\t0.012634992599487305\n",
      "--- runtime for data preprocessing:\t\t0.0032541751861572266\n",
      "--- runtime for kernel execution:\t\t0.02094554901123047\n",
      "--- runtime for data transfer (device->host):\t0.003339529037475586\n",
      "512 256 256 256\n"
     ]
    },
    {
     "name": "stderr",
     "output_type": "stream",
     "text": [
      "\n",
      "Processing blocks of tile::  19%|█▉        | 12/63.28125 [00:35<02:38,  3.09s/it]\u001b[A"
     ]
    },
    {
     "name": "stdout",
     "output_type": "stream",
     "text": [
      "--- runtime for data initialization:\t\t0.0018157958984375\n",
      "--- runtime for data transfer (host->device):\t0.012791872024536133\n",
      "--- runtime for data preprocessing:\t\t0.003275156021118164\n",
      "--- runtime for kernel execution:\t\t0.02115321159362793\n",
      "--- runtime for data transfer (device->host):\t0.0031392574310302734\n",
      "768 256 256 256\n"
     ]
    },
    {
     "name": "stderr",
     "output_type": "stream",
     "text": [
      "\n",
      "Processing blocks of tile::  21%|██        | 13/63.28125 [00:38<02:30,  2.99s/it]\u001b[A"
     ]
    },
    {
     "name": "stdout",
     "output_type": "stream",
     "text": [
      "--- runtime for data initialization:\t\t0.0017735958099365234\n",
      "--- runtime for data transfer (host->device):\t0.012730836868286133\n",
      "--- runtime for data preprocessing:\t\t0.0032434463500976562\n",
      "--- runtime for kernel execution:\t\t0.02107715606689453\n",
      "--- runtime for data transfer (device->host):\t0.003198862075805664\n",
      "1024 256 256 256\n"
     ]
    },
    {
     "name": "stderr",
     "output_type": "stream",
     "text": [
      "\n",
      "Processing blocks of tile::  22%|██▏       | 14/63.28125 [00:41<02:24,  2.93s/it]\u001b[A"
     ]
    },
    {
     "name": "stdout",
     "output_type": "stream",
     "text": [
      "--- runtime for data initialization:\t\t0.0018372535705566406\n",
      "--- runtime for data transfer (host->device):\t0.012616634368896484\n",
      "--- runtime for data preprocessing:\t\t0.0032396316528320312\n",
      "--- runtime for kernel execution:\t\t0.020947933197021484\n",
      "--- runtime for data transfer (device->host):\t0.003342151641845703\n",
      "1280 256 256 256\n"
     ]
    },
    {
     "name": "stderr",
     "output_type": "stream",
     "text": [
      "\n",
      "Processing blocks of tile::  24%|██▎       | 15/63.28125 [00:44<02:21,  2.92s/it]\u001b[A"
     ]
    },
    {
     "name": "stdout",
     "output_type": "stream",
     "text": [
      "--- runtime for data initialization:\t\t0.00177764892578125\n",
      "--- runtime for data transfer (host->device):\t0.012620925903320312\n",
      "--- runtime for data preprocessing:\t\t0.0032782554626464844\n",
      "--- runtime for kernel execution:\t\t0.02095627784729004\n",
      "--- runtime for data transfer (device->host):\t0.003326892852783203\n",
      "1536 256 256 256\n"
     ]
    },
    {
     "name": "stderr",
     "output_type": "stream",
     "text": [
      "\n",
      "Processing blocks of tile::  25%|██▌       | 16/63.28125 [00:47<02:18,  2.92s/it]\u001b[A"
     ]
    },
    {
     "name": "stdout",
     "output_type": "stream",
     "text": [
      "--- runtime for data initialization:\t\t0.001779317855834961\n",
      "--- runtime for data transfer (host->device):\t0.012816905975341797\n",
      "--- runtime for data preprocessing:\t\t0.003291606903076172\n",
      "--- runtime for kernel execution:\t\t0.0211029052734375\n",
      "--- runtime for data transfer (device->host):\t0.0031783580780029297\n",
      "1792 256 256 256\n"
     ]
    },
    {
     "name": "stderr",
     "output_type": "stream",
     "text": [
      "\n",
      "Processing blocks of tile::  27%|██▋       | 17/63.28125 [00:49<02:14,  2.91s/it]\u001b[A"
     ]
    },
    {
     "name": "stdout",
     "output_type": "stream",
     "text": [
      "--- runtime for data initialization:\t\t0.0017940998077392578\n",
      "--- runtime for data transfer (host->device):\t0.01275777816772461\n",
      "--- runtime for data preprocessing:\t\t0.0032863616943359375\n",
      "--- runtime for kernel execution:\t\t0.021100997924804688\n",
      "--- runtime for data transfer (device->host):\t0.0033371448516845703\n",
      "0 512 256 256\n"
     ]
    },
    {
     "name": "stderr",
     "output_type": "stream",
     "text": [
      "\n",
      "Processing blocks of tile::  28%|██▊       | 18/63.28125 [00:53<02:14,  2.98s/it]\u001b[A"
     ]
    },
    {
     "name": "stdout",
     "output_type": "stream",
     "text": [
      "--- runtime for data initialization:\t\t0.001821279525756836\n",
      "--- runtime for data transfer (host->device):\t0.01266336441040039\n",
      "--- runtime for data preprocessing:\t\t0.0032508373260498047\n",
      "--- runtime for kernel execution:\t\t0.02096080780029297\n",
      "--- runtime for data transfer (device->host):\t0.0033121109008789062\n",
      "256 512 256 256\n"
     ]
    },
    {
     "name": "stderr",
     "output_type": "stream",
     "text": [
      "\n",
      "Processing blocks of tile::  30%|███       | 19/63.28125 [00:56<02:14,  3.04s/it]\u001b[A"
     ]
    },
    {
     "name": "stdout",
     "output_type": "stream",
     "text": [
      "--- runtime for data initialization:\t\t0.0017910003662109375\n",
      "--- runtime for data transfer (host->device):\t0.012784481048583984\n",
      "--- runtime for data preprocessing:\t\t0.0032477378845214844\n",
      "--- runtime for kernel execution:\t\t0.020927906036376953\n",
      "--- runtime for data transfer (device->host):\t0.0033457279205322266\n",
      "512 512 256 256\n"
     ]
    },
    {
     "name": "stderr",
     "output_type": "stream",
     "text": [
      "\n",
      "Processing blocks of tile::  32%|███▏      | 20/63.28125 [00:59<02:13,  3.09s/it]\u001b[A"
     ]
    },
    {
     "name": "stdout",
     "output_type": "stream",
     "text": [
      "--- runtime for data initialization:\t\t0.0018227100372314453\n",
      "--- runtime for data transfer (host->device):\t0.012848138809204102\n",
      "--- runtime for data preprocessing:\t\t0.003287792205810547\n",
      "--- runtime for kernel execution:\t\t0.02113175392150879\n",
      "--- runtime for data transfer (device->host):\t0.003168821334838867\n",
      "768 512 256 256\n"
     ]
    },
    {
     "name": "stderr",
     "output_type": "stream",
     "text": [
      "\n",
      "Processing blocks of tile::  33%|███▎      | 21/63.28125 [01:02<02:07,  3.01s/it]\u001b[A"
     ]
    },
    {
     "name": "stdout",
     "output_type": "stream",
     "text": [
      "--- runtime for data initialization:\t\t0.0017795562744140625\n",
      "--- runtime for data transfer (host->device):\t0.01276087760925293\n",
      "--- runtime for data preprocessing:\t\t0.003285646438598633\n",
      "--- runtime for kernel execution:\t\t0.02097797393798828\n",
      "--- runtime for data transfer (device->host):\t0.003324747085571289\n",
      "1024 512 256 256\n"
     ]
    },
    {
     "name": "stderr",
     "output_type": "stream",
     "text": [
      "\n",
      "Processing blocks of tile::  35%|███▍      | 22/63.28125 [01:05<02:02,  2.97s/it]\u001b[A"
     ]
    },
    {
     "name": "stdout",
     "output_type": "stream",
     "text": [
      "--- runtime for data initialization:\t\t0.0017752647399902344\n",
      "--- runtime for data transfer (host->device):\t0.012658119201660156\n",
      "--- runtime for data preprocessing:\t\t0.003255128860473633\n",
      "--- runtime for kernel execution:\t\t0.020929574966430664\n",
      "--- runtime for data transfer (device->host):\t0.003337383270263672\n",
      "1280 512 256 256\n"
     ]
    },
    {
     "name": "stderr",
     "output_type": "stream",
     "text": [
      "\n",
      "Processing blocks of tile::  36%|███▋      | 23/63.28125 [01:08<01:58,  2.93s/it]\u001b[A"
     ]
    },
    {
     "name": "stdout",
     "output_type": "stream",
     "text": [
      "--- runtime for data initialization:\t\t0.0018379688262939453\n",
      "--- runtime for data transfer (host->device):\t0.012683629989624023\n",
      "--- runtime for data preprocessing:\t\t0.0032873153686523438\n",
      "--- runtime for kernel execution:\t\t0.0209810733795166\n",
      "--- runtime for data transfer (device->host):\t0.0033309459686279297\n",
      "1536 512 256 256\n"
     ]
    },
    {
     "name": "stderr",
     "output_type": "stream",
     "text": [
      "\n",
      "Processing blocks of tile::  38%|███▊      | 24/63.28125 [01:10<01:55,  2.93s/it]\u001b[A"
     ]
    },
    {
     "name": "stdout",
     "output_type": "stream",
     "text": [
      "--- runtime for data initialization:\t\t0.0017971992492675781\n",
      "--- runtime for data transfer (host->device):\t0.012719154357910156\n",
      "--- runtime for data preprocessing:\t\t0.003302335739135742\n",
      "--- runtime for kernel execution:\t\t0.02104496955871582\n",
      "--- runtime for data transfer (device->host):\t0.003304719924926758\n",
      "1792 512 256 256\n"
     ]
    },
    {
     "name": "stderr",
     "output_type": "stream",
     "text": [
      "\n",
      "Processing blocks of tile::  40%|███▉      | 25/63.28125 [01:13<01:51,  2.92s/it]\u001b[A"
     ]
    },
    {
     "name": "stdout",
     "output_type": "stream",
     "text": [
      "--- runtime for data initialization:\t\t0.0018019676208496094\n",
      "--- runtime for data transfer (host->device):\t0.012746334075927734\n",
      "--- runtime for data preprocessing:\t\t0.0032625198364257812\n",
      "--- runtime for kernel execution:\t\t0.020975351333618164\n",
      "--- runtime for data transfer (device->host):\t0.003351926803588867\n",
      "0 768 256 256\n"
     ]
    },
    {
     "name": "stderr",
     "output_type": "stream",
     "text": [
      "\n",
      "Processing blocks of tile::  41%|████      | 26/63.28125 [01:17<01:51,  2.99s/it]\u001b[A"
     ]
    },
    {
     "name": "stdout",
     "output_type": "stream",
     "text": [
      "--- runtime for data initialization:\t\t0.0017764568328857422\n",
      "--- runtime for data transfer (host->device):\t0.012708663940429688\n",
      "--- runtime for data preprocessing:\t\t0.0033044815063476562\n",
      "--- runtime for kernel execution:\t\t0.02094244956970215\n",
      "--- runtime for data transfer (device->host):\t0.003340005874633789\n",
      "256 768 256 256\n"
     ]
    },
    {
     "name": "stderr",
     "output_type": "stream",
     "text": [
      "\n",
      "Processing blocks of tile::  43%|████▎     | 27/63.28125 [01:20<01:49,  3.03s/it]\u001b[A"
     ]
    },
    {
     "name": "stdout",
     "output_type": "stream",
     "text": [
      "--- runtime for data initialization:\t\t0.0018055438995361328\n",
      "--- runtime for data transfer (host->device):\t0.01264500617980957\n",
      "--- runtime for data preprocessing:\t\t0.003287792205810547\n",
      "--- runtime for kernel execution:\t\t0.020944833755493164\n",
      "--- runtime for data transfer (device->host):\t0.0033402442932128906\n",
      "512 768 256 256\n"
     ]
    },
    {
     "name": "stderr",
     "output_type": "stream",
     "text": [
      "\n",
      "Processing blocks of tile::  44%|████▍     | 28/63.28125 [01:23<01:48,  3.07s/it]\u001b[A"
     ]
    },
    {
     "name": "stdout",
     "output_type": "stream",
     "text": [
      "--- runtime for data initialization:\t\t0.0017926692962646484\n",
      "--- runtime for data transfer (host->device):\t0.01269388198852539\n",
      "--- runtime for data preprocessing:\t\t0.0032465457916259766\n",
      "--- runtime for kernel execution:\t\t0.0209505558013916\n",
      "--- runtime for data transfer (device->host):\t0.003338336944580078\n",
      "768 768 256 256\n"
     ]
    },
    {
     "name": "stderr",
     "output_type": "stream",
     "text": [
      "\n",
      "Processing blocks of tile::  46%|████▌     | 29/63.28125 [01:26<01:44,  3.06s/it]\u001b[A"
     ]
    },
    {
     "name": "stdout",
     "output_type": "stream",
     "text": [
      "--- runtime for data initialization:\t\t0.001796722412109375\n",
      "--- runtime for data transfer (host->device):\t0.012754678726196289\n",
      "--- runtime for data preprocessing:\t\t0.0033261775970458984\n",
      "--- runtime for kernel execution:\t\t0.021120071411132812\n",
      "--- runtime for data transfer (device->host):\t0.003167867660522461\n",
      "1024 768 256 256\n"
     ]
    },
    {
     "name": "stderr",
     "output_type": "stream",
     "text": [
      "\n",
      "Processing blocks of tile::  47%|████▋     | 30/63.28125 [01:29<01:40,  3.03s/it]\u001b[A"
     ]
    },
    {
     "name": "stdout",
     "output_type": "stream",
     "text": [
      "--- runtime for data initialization:\t\t0.0018374919891357422\n",
      "--- runtime for data transfer (host->device):\t0.012655019760131836\n",
      "--- runtime for data preprocessing:\t\t0.00325775146484375\n",
      "--- runtime for kernel execution:\t\t0.020854949951171875\n",
      "--- runtime for data transfer (device->host):\t0.0033409595489501953\n",
      "1280 768 256 256\n"
     ]
    },
    {
     "name": "stderr",
     "output_type": "stream",
     "text": [
      "\n",
      "Processing blocks of tile::  49%|████▉     | 31/63.28125 [01:32<01:36,  2.99s/it]\u001b[A"
     ]
    },
    {
     "name": "stdout",
     "output_type": "stream",
     "text": [
      "--- runtime for data initialization:\t\t0.001817464828491211\n",
      "--- runtime for data transfer (host->device):\t0.012800455093383789\n",
      "--- runtime for data preprocessing:\t\t0.003276348114013672\n",
      "--- runtime for kernel execution:\t\t0.0211789608001709\n",
      "--- runtime for data transfer (device->host):\t0.003348112106323242\n",
      "1536 768 256 256\n"
     ]
    },
    {
     "name": "stderr",
     "output_type": "stream",
     "text": [
      "\n",
      "Processing blocks of tile::  51%|█████     | 32/63.28125 [01:35<01:33,  2.98s/it]\u001b[A"
     ]
    },
    {
     "name": "stdout",
     "output_type": "stream",
     "text": [
      "--- runtime for data initialization:\t\t0.0018224716186523438\n",
      "--- runtime for data transfer (host->device):\t0.012720823287963867\n",
      "--- runtime for data preprocessing:\t\t0.0033121109008789062\n",
      "--- runtime for kernel execution:\t\t0.020927906036376953\n",
      "--- runtime for data transfer (device->host):\t0.003340005874633789\n",
      "1792 768 256 256\n"
     ]
    },
    {
     "name": "stderr",
     "output_type": "stream",
     "text": [
      "\n",
      "Processing blocks of tile::  52%|█████▏    | 33/63.28125 [01:38<01:29,  2.95s/it]\u001b[A"
     ]
    },
    {
     "name": "stdout",
     "output_type": "stream",
     "text": [
      "--- runtime for data initialization:\t\t0.0018324851989746094\n",
      "--- runtime for data transfer (host->device):\t0.012935638427734375\n",
      "--- runtime for data preprocessing:\t\t0.003450155258178711\n",
      "--- runtime for kernel execution:\t\t0.0209805965423584\n",
      "--- runtime for data transfer (device->host):\t0.0033235549926757812\n",
      "0 1024 256 256\n"
     ]
    },
    {
     "name": "stderr",
     "output_type": "stream",
     "text": [
      "\n",
      "Processing blocks of tile::  54%|█████▎    | 34/63.28125 [01:41<01:28,  3.04s/it]\u001b[A"
     ]
    },
    {
     "name": "stdout",
     "output_type": "stream",
     "text": [
      "--- runtime for data initialization:\t\t0.0018091201782226562\n",
      "--- runtime for data transfer (host->device):\t0.012690067291259766\n",
      "--- runtime for data preprocessing:\t\t0.003287076950073242\n",
      "--- runtime for kernel execution:\t\t0.020961284637451172\n",
      "--- runtime for data transfer (device->host):\t0.0033614635467529297\n",
      "256 1024 256 256\n"
     ]
    },
    {
     "name": "stderr",
     "output_type": "stream",
     "text": [
      "\n",
      "Processing blocks of tile::  55%|█████▌    | 35/63.28125 [01:44<01:27,  3.11s/it]\u001b[A"
     ]
    },
    {
     "name": "stdout",
     "output_type": "stream",
     "text": [
      "--- runtime for data initialization:\t\t0.0017855167388916016\n",
      "--- runtime for data transfer (host->device):\t0.012757539749145508\n",
      "--- runtime for data preprocessing:\t\t0.0032701492309570312\n",
      "--- runtime for kernel execution:\t\t0.020960092544555664\n",
      "--- runtime for data transfer (device->host):\t0.0033195018768310547\n",
      "512 1024 256 256\n"
     ]
    },
    {
     "name": "stderr",
     "output_type": "stream",
     "text": [
      "\n",
      "Processing blocks of tile::  57%|█████▋    | 36/63.28125 [01:47<01:25,  3.14s/it]\u001b[A"
     ]
    },
    {
     "name": "stdout",
     "output_type": "stream",
     "text": [
      "--- runtime for data initialization:\t\t0.0017881393432617188\n",
      "--- runtime for data transfer (host->device):\t0.01262807846069336\n",
      "--- runtime for data preprocessing:\t\t0.003267526626586914\n",
      "--- runtime for kernel execution:\t\t0.020968198776245117\n",
      "--- runtime for data transfer (device->host):\t0.0033440589904785156\n",
      "768 1024 256 256\n"
     ]
    },
    {
     "name": "stderr",
     "output_type": "stream",
     "text": [
      "\n",
      "Processing blocks of tile::  58%|█████▊    | 37/63.28125 [01:50<01:23,  3.17s/it]\u001b[A"
     ]
    },
    {
     "name": "stdout",
     "output_type": "stream",
     "text": [
      "--- runtime for data initialization:\t\t0.0018460750579833984\n",
      "--- runtime for data transfer (host->device):\t0.012815475463867188\n",
      "--- runtime for data preprocessing:\t\t0.003287792205810547\n",
      "--- runtime for kernel execution:\t\t0.021132230758666992\n",
      "--- runtime for data transfer (device->host):\t0.003175497055053711\n",
      "1024 1024 256 256\n"
     ]
    },
    {
     "name": "stderr",
     "output_type": "stream",
     "text": [
      "\n",
      "Processing blocks of tile::  60%|██████    | 38/63.28125 [01:53<01:18,  3.10s/it]\u001b[A"
     ]
    },
    {
     "name": "stdout",
     "output_type": "stream",
     "text": [
      "--- runtime for data initialization:\t\t0.001844167709350586\n",
      "--- runtime for data transfer (host->device):\t0.012711763381958008\n",
      "--- runtime for data preprocessing:\t\t0.0032508373260498047\n",
      "--- runtime for kernel execution:\t\t0.02091693878173828\n",
      "--- runtime for data transfer (device->host):\t0.003345966339111328\n",
      "1280 1024 256 256\n"
     ]
    },
    {
     "name": "stderr",
     "output_type": "stream",
     "text": [
      "\n",
      "Processing blocks of tile::  62%|██████▏   | 39/63.28125 [01:56<01:13,  3.02s/it]\u001b[A"
     ]
    },
    {
     "name": "stdout",
     "output_type": "stream",
     "text": [
      "--- runtime for data initialization:\t\t0.0017783641815185547\n",
      "--- runtime for data transfer (host->device):\t0.012725114822387695\n",
      "--- runtime for data preprocessing:\t\t0.003255605697631836\n",
      "--- runtime for kernel execution:\t\t0.020864009857177734\n",
      "--- runtime for data transfer (device->host):\t0.0031898021697998047\n",
      "1536 1024 256 256\n"
     ]
    },
    {
     "name": "stderr",
     "output_type": "stream",
     "text": [
      "\n",
      "Processing blocks of tile::  63%|██████▎   | 40/63.28125 [01:59<01:09,  2.98s/it]\u001b[A"
     ]
    },
    {
     "name": "stdout",
     "output_type": "stream",
     "text": [
      "--- runtime for data initialization:\t\t0.0017848014831542969\n",
      "--- runtime for data transfer (host->device):\t0.012819528579711914\n",
      "--- runtime for data preprocessing:\t\t0.003314971923828125\n",
      "--- runtime for kernel execution:\t\t0.02113795280456543\n",
      "--- runtime for data transfer (device->host):\t0.003167390823364258\n",
      "1792 1024 256 256\n"
     ]
    },
    {
     "name": "stderr",
     "output_type": "stream",
     "text": [
      "\n",
      "Processing blocks of tile::  65%|██████▍   | 41/63.28125 [02:02<01:05,  2.94s/it]\u001b[A"
     ]
    },
    {
     "name": "stdout",
     "output_type": "stream",
     "text": [
      "--- runtime for data initialization:\t\t0.001796722412109375\n",
      "--- runtime for data transfer (host->device):\t0.012709856033325195\n",
      "--- runtime for data preprocessing:\t\t0.0032889842987060547\n",
      "--- runtime for kernel execution:\t\t0.020977020263671875\n",
      "--- runtime for data transfer (device->host):\t0.0033483505249023438\n",
      "0 1280 256 256\n"
     ]
    },
    {
     "name": "stderr",
     "output_type": "stream",
     "text": [
      "\n",
      "Processing blocks of tile::  66%|██████▋   | 42/63.28125 [02:05<01:04,  3.03s/it]\u001b[A"
     ]
    },
    {
     "name": "stdout",
     "output_type": "stream",
     "text": [
      "--- runtime for data initialization:\t\t0.0018062591552734375\n",
      "--- runtime for data transfer (host->device):\t0.012658834457397461\n",
      "--- runtime for data preprocessing:\t\t0.003258228302001953\n",
      "--- runtime for kernel execution:\t\t0.020940542221069336\n",
      "--- runtime for data transfer (device->host):\t0.003336191177368164\n",
      "256 1280 256 256\n"
     ]
    },
    {
     "name": "stderr",
     "output_type": "stream",
     "text": [
      "\n",
      "Processing blocks of tile::  68%|██████▊   | 43/63.28125 [02:08<01:02,  3.06s/it]\u001b[A"
     ]
    },
    {
     "name": "stdout",
     "output_type": "stream",
     "text": [
      "--- runtime for data initialization:\t\t0.0018002986907958984\n",
      "--- runtime for data transfer (host->device):\t0.012813329696655273\n",
      "--- runtime for data preprocessing:\t\t0.0033342838287353516\n",
      "--- runtime for kernel execution:\t\t0.020935773849487305\n",
      "--- runtime for data transfer (device->host):\t0.0033397674560546875\n",
      "512 1280 256 256\n"
     ]
    },
    {
     "name": "stderr",
     "output_type": "stream",
     "text": [
      "\n",
      "Processing blocks of tile::  70%|██████▉   | 44/63.28125 [02:12<00:59,  3.10s/it]\u001b[A"
     ]
    },
    {
     "name": "stdout",
     "output_type": "stream",
     "text": [
      "--- runtime for data initialization:\t\t0.001829385757446289\n",
      "--- runtime for data transfer (host->device):\t0.01273655891418457\n",
      "--- runtime for data preprocessing:\t\t0.003277301788330078\n",
      "--- runtime for kernel execution:\t\t0.02091240882873535\n",
      "--- runtime for data transfer (device->host):\t0.0031845569610595703\n",
      "768 1280 256 256\n"
     ]
    },
    {
     "name": "stderr",
     "output_type": "stream",
     "text": [
      "\n",
      "Processing blocks of tile::  71%|███████   | 45/63.28125 [02:15<00:57,  3.14s/it]\u001b[A"
     ]
    },
    {
     "name": "stdout",
     "output_type": "stream",
     "text": [
      "--- runtime for data initialization:\t\t0.0018658638000488281\n",
      "--- runtime for data transfer (host->device):\t0.01274728775024414\n",
      "--- runtime for data preprocessing:\t\t0.0032629966735839844\n",
      "--- runtime for kernel execution:\t\t0.020926713943481445\n",
      "--- runtime for data transfer (device->host):\t0.0032067298889160156\n",
      "1024 1280 256 256\n"
     ]
    },
    {
     "name": "stderr",
     "output_type": "stream",
     "text": [
      "\n",
      "Processing blocks of tile::  73%|███████▎  | 46/63.28125 [02:18<00:54,  3.14s/it]\u001b[A"
     ]
    },
    {
     "name": "stdout",
     "output_type": "stream",
     "text": [
      "--- runtime for data initialization:\t\t0.0017805099487304688\n",
      "--- runtime for data transfer (host->device):\t0.01268768310546875\n",
      "--- runtime for data preprocessing:\t\t0.0032825469970703125\n",
      "--- runtime for kernel execution:\t\t0.020968198776245117\n",
      "--- runtime for data transfer (device->host):\t0.003359556198120117\n",
      "1280 1280 256 256\n"
     ]
    },
    {
     "name": "stderr",
     "output_type": "stream",
     "text": [
      "\n",
      "Processing blocks of tile::  74%|███████▍  | 47/63.28125 [02:21<00:51,  3.15s/it]\u001b[A"
     ]
    },
    {
     "name": "stdout",
     "output_type": "stream",
     "text": [
      "--- runtime for data initialization:\t\t0.0017809867858886719\n",
      "--- runtime for data transfer (host->device):\t0.012664079666137695\n",
      "--- runtime for data preprocessing:\t\t0.0032503604888916016\n",
      "--- runtime for kernel execution:\t\t0.021043777465820312\n",
      "--- runtime for data transfer (device->host):\t0.0033364295959472656\n",
      "1536 1280 256 256\n"
     ]
    },
    {
     "name": "stderr",
     "output_type": "stream",
     "text": [
      "\n",
      "Processing blocks of tile::  76%|███████▌  | 48/63.28125 [02:24<00:46,  3.02s/it]\u001b[A"
     ]
    },
    {
     "name": "stdout",
     "output_type": "stream",
     "text": [
      "--- runtime for data initialization:\t\t0.0018184185028076172\n",
      "--- runtime for data transfer (host->device):\t0.012667417526245117\n",
      "--- runtime for data preprocessing:\t\t0.00325775146484375\n",
      "--- runtime for kernel execution:\t\t0.020932912826538086\n",
      "--- runtime for data transfer (device->host):\t0.003332376480102539\n",
      "1792 1280 256 256\n"
     ]
    },
    {
     "name": "stderr",
     "output_type": "stream",
     "text": [
      "\n",
      "Processing blocks of tile::  77%|███████▋  | 49/63.28125 [02:27<00:42,  2.96s/it]\u001b[A"
     ]
    },
    {
     "name": "stdout",
     "output_type": "stream",
     "text": [
      "--- runtime for data initialization:\t\t0.0018115043640136719\n",
      "--- runtime for data transfer (host->device):\t0.012654781341552734\n",
      "--- runtime for data preprocessing:\t\t0.0032515525817871094\n",
      "--- runtime for kernel execution:\t\t0.020955801010131836\n",
      "--- runtime for data transfer (device->host):\t0.0033354759216308594\n",
      "0 1536 256 256\n"
     ]
    },
    {
     "name": "stderr",
     "output_type": "stream",
     "text": [
      "\n",
      "Processing blocks of tile::  79%|███████▉  | 50/63.28125 [02:30<00:39,  3.01s/it]\u001b[A"
     ]
    },
    {
     "name": "stdout",
     "output_type": "stream",
     "text": [
      "--- runtime for data initialization:\t\t0.0018336772918701172\n",
      "--- runtime for data transfer (host->device):\t0.012796401977539062\n",
      "--- runtime for data preprocessing:\t\t0.003288745880126953\n",
      "--- runtime for kernel execution:\t\t0.02111339569091797\n",
      "--- runtime for data transfer (device->host):\t0.003190755844116211\n",
      "256 1536 256 256\n"
     ]
    },
    {
     "name": "stderr",
     "output_type": "stream",
     "text": [
      "\n",
      "Processing blocks of tile::  81%|████████  | 51/63.28125 [02:33<00:37,  3.04s/it]\u001b[A"
     ]
    },
    {
     "name": "stdout",
     "output_type": "stream",
     "text": [
      "--- runtime for data initialization:\t\t0.0017657279968261719\n",
      "--- runtime for data transfer (host->device):\t0.012608051300048828\n",
      "--- runtime for data preprocessing:\t\t0.003257274627685547\n",
      "--- runtime for kernel execution:\t\t0.02093029022216797\n",
      "--- runtime for data transfer (device->host):\t0.003332376480102539\n",
      "512 1536 256 256\n"
     ]
    },
    {
     "name": "stderr",
     "output_type": "stream",
     "text": [
      "\n",
      "Processing blocks of tile::  82%|████████▏ | 52/63.28125 [02:36<00:34,  3.08s/it]\u001b[A"
     ]
    },
    {
     "name": "stdout",
     "output_type": "stream",
     "text": [
      "--- runtime for data initialization:\t\t0.0018014907836914062\n",
      "--- runtime for data transfer (host->device):\t0.012727499008178711\n",
      "--- runtime for data preprocessing:\t\t0.0033102035522460938\n",
      "--- runtime for kernel execution:\t\t0.020926713943481445\n",
      "--- runtime for data transfer (device->host):\t0.0033309459686279297\n",
      "768 1536 256 256\n"
     ]
    },
    {
     "name": "stderr",
     "output_type": "stream",
     "text": [
      "\n",
      "Processing blocks of tile::  84%|████████▍ | 53/63.28125 [02:39<00:31,  3.11s/it]\u001b[A"
     ]
    },
    {
     "name": "stdout",
     "output_type": "stream",
     "text": [
      "--- runtime for data initialization:\t\t0.0017788410186767578\n",
      "--- runtime for data transfer (host->device):\t0.01275324821472168\n",
      "--- runtime for data preprocessing:\t\t0.003251791000366211\n",
      "--- runtime for kernel execution:\t\t0.02118396759033203\n",
      "--- runtime for data transfer (device->host):\t0.003159761428833008\n",
      "1024 1536 256 256\n"
     ]
    },
    {
     "name": "stderr",
     "output_type": "stream",
     "text": [
      "\n",
      "Processing blocks of tile::  85%|████████▌ | 54/63.28125 [02:42<00:28,  3.12s/it]\u001b[A"
     ]
    },
    {
     "name": "stdout",
     "output_type": "stream",
     "text": [
      "--- runtime for data initialization:\t\t0.0018453598022460938\n",
      "--- runtime for data transfer (host->device):\t0.012639999389648438\n",
      "--- runtime for data preprocessing:\t\t0.0032558441162109375\n",
      "--- runtime for kernel execution:\t\t0.020946979522705078\n",
      "--- runtime for data transfer (device->host):\t0.0033538341522216797\n",
      "1280 1536 256 256\n"
     ]
    },
    {
     "name": "stderr",
     "output_type": "stream",
     "text": [
      "\n",
      "Processing blocks of tile::  87%|████████▋ | 55/63.28125 [02:45<00:25,  3.11s/it]\u001b[A"
     ]
    },
    {
     "name": "stdout",
     "output_type": "stream",
     "text": [
      "--- runtime for data initialization:\t\t0.0018007755279541016\n",
      "--- runtime for data transfer (host->device):\t0.012617349624633789\n",
      "--- runtime for data preprocessing:\t\t0.0032596588134765625\n",
      "--- runtime for kernel execution:\t\t0.020966291427612305\n",
      "--- runtime for data transfer (device->host):\t0.0033347606658935547\n",
      "1536 1536 256 256\n"
     ]
    },
    {
     "name": "stderr",
     "output_type": "stream",
     "text": [
      "\n",
      "Processing blocks of tile::  88%|████████▊ | 56/63.28125 [02:49<00:22,  3.12s/it]\u001b[A"
     ]
    },
    {
     "name": "stdout",
     "output_type": "stream",
     "text": [
      "--- runtime for data initialization:\t\t0.0018341541290283203\n",
      "--- runtime for data transfer (host->device):\t0.012728452682495117\n",
      "--- runtime for data preprocessing:\t\t0.003278493881225586\n",
      "--- runtime for kernel execution:\t\t0.020946741104125977\n",
      "--- runtime for data transfer (device->host):\t0.0033321380615234375\n",
      "1792 1536 256 256\n"
     ]
    },
    {
     "name": "stderr",
     "output_type": "stream",
     "text": [
      "\n",
      "Processing blocks of tile::  90%|█████████ | 57/63.28125 [02:52<00:19,  3.06s/it]\u001b[A"
     ]
    },
    {
     "name": "stdout",
     "output_type": "stream",
     "text": [
      "--- runtime for data initialization:\t\t0.0017862319946289062\n",
      "--- runtime for data transfer (host->device):\t0.012643575668334961\n",
      "--- runtime for data preprocessing:\t\t0.003274202346801758\n",
      "--- runtime for kernel execution:\t\t0.020934581756591797\n",
      "--- runtime for data transfer (device->host):\t0.0033261775970458984\n",
      "0 1792 256 233\n"
     ]
    },
    {
     "name": "stderr",
     "output_type": "stream",
     "text": [
      "\n",
      "Processing blocks of tile::  92%|█████████▏| 58/63.28125 [02:55<00:16,  3.06s/it]\u001b[A"
     ]
    },
    {
     "name": "stdout",
     "output_type": "stream",
     "text": [
      "--- runtime for data initialization:\t\t0.0017938613891601562\n",
      "--- runtime for data transfer (host->device):\t0.01161956787109375\n",
      "--- runtime for data preprocessing:\t\t0.0031130313873291016\n",
      "--- runtime for kernel execution:\t\t0.019232988357543945\n",
      "--- runtime for data transfer (device->host):\t0.0028879642486572266\n",
      "256 1792 256 233\n"
     ]
    },
    {
     "name": "stderr",
     "output_type": "stream",
     "text": [
      "\n",
      "Processing blocks of tile::  93%|█████████▎| 59/63.28125 [02:58<00:13,  3.05s/it]\u001b[A"
     ]
    },
    {
     "name": "stdout",
     "output_type": "stream",
     "text": [
      "--- runtime for data initialization:\t\t0.0017960071563720703\n",
      "--- runtime for data transfer (host->device):\t0.011574506759643555\n",
      "--- runtime for data preprocessing:\t\t0.003103971481323242\n",
      "--- runtime for kernel execution:\t\t0.019052743911743164\n",
      "--- runtime for data transfer (device->host):\t0.0030405521392822266\n",
      "512 1792 256 233\n"
     ]
    },
    {
     "name": "stderr",
     "output_type": "stream",
     "text": [
      "\n",
      "Processing blocks of tile::  95%|█████████▍| 60/63.28125 [03:01<00:10,  3.05s/it]\u001b[A"
     ]
    },
    {
     "name": "stdout",
     "output_type": "stream",
     "text": [
      "--- runtime for data initialization:\t\t0.001825571060180664\n",
      "--- runtime for data transfer (host->device):\t0.011548995971679688\n",
      "--- runtime for data preprocessing:\t\t0.003106355667114258\n",
      "--- runtime for kernel execution:\t\t0.019041061401367188\n",
      "--- runtime for data transfer (device->host):\t0.003039836883544922\n",
      "768 1792 256 233\n"
     ]
    },
    {
     "name": "stderr",
     "output_type": "stream",
     "text": [
      "\n",
      "Processing blocks of tile::  96%|█████████▋| 61/63.28125 [03:04<00:06,  3.03s/it]\u001b[A"
     ]
    },
    {
     "name": "stdout",
     "output_type": "stream",
     "text": [
      "--- runtime for data initialization:\t\t0.0018038749694824219\n",
      "--- runtime for data transfer (host->device):\t0.011638402938842773\n",
      "--- runtime for data preprocessing:\t\t0.003107786178588867\n",
      "--- runtime for kernel execution:\t\t0.01924586296081543\n",
      "--- runtime for data transfer (device->host):\t0.0030333995819091797\n",
      "1024 1792 256 233\n"
     ]
    },
    {
     "name": "stderr",
     "output_type": "stream",
     "text": [
      "\n",
      "Processing blocks of tile::  98%|█████████▊| 62/63.28125 [03:07<00:03,  3.04s/it]\u001b[A"
     ]
    },
    {
     "name": "stdout",
     "output_type": "stream",
     "text": [
      "--- runtime for data initialization:\t\t0.001798868179321289\n",
      "--- runtime for data transfer (host->device):\t0.011573553085327148\n",
      "--- runtime for data preprocessing:\t\t0.0031082630157470703\n",
      "--- runtime for kernel execution:\t\t0.019057273864746094\n",
      "--- runtime for data transfer (device->host):\t0.003044605255126953\n",
      "1280 1792 256 233\n"
     ]
    },
    {
     "name": "stderr",
     "output_type": "stream",
     "text": [
      "\n",
      "Processing blocks of tile:: 100%|█████████▉| 63/63.28125 [03:10<00:00,  3.04s/it]\u001b[A"
     ]
    },
    {
     "name": "stdout",
     "output_type": "stream",
     "text": [
      "--- runtime for data initialization:\t\t0.0018002986907958984\n",
      "--- runtime for data transfer (host->device):\t0.011687517166137695\n",
      "--- runtime for data preprocessing:\t\t0.0031311511993408203\n",
      "--- runtime for kernel execution:\t\t0.01904892921447754\n",
      "--- runtime for data transfer (device->host):\t0.0030732154846191406\n",
      "1536 1792 256 233\n"
     ]
    },
    {
     "name": "stderr",
     "output_type": "stream",
     "text": [
      "\n",
      "Processing blocks of tile:: : 64it [03:13,  3.06s/it]                            \u001b[A"
     ]
    },
    {
     "name": "stdout",
     "output_type": "stream",
     "text": [
      "--- runtime for data initialization:\t\t0.00182342529296875\n",
      "--- runtime for data transfer (host->device):\t0.011721372604370117\n",
      "--- runtime for data preprocessing:\t\t0.0032472610473632812\n",
      "--- runtime for kernel execution:\t\t0.019118785858154297\n",
      "--- runtime for data transfer (device->host):\t0.002986431121826172\n",
      "1792 1792 256 233\n"
     ]
    },
    {
     "name": "stderr",
     "output_type": "stream",
     "text": [
      "\r",
      "Processing blocks of tile:: : 64it [03:16,  3.07s/it]"
     ]
    },
    {
     "name": "stdout",
     "output_type": "stream",
     "text": [
      "--- runtime for data initialization:\t\t0.0017893314361572266\n",
      "--- runtime for data transfer (host->device):\t0.011668205261230469\n",
      "--- runtime for data preprocessing:\t\t0.0031387805938720703\n",
      "--- runtime for kernel execution:\t\t0.019205093383789062\n",
      "--- runtime for data transfer (device->host):\t0.0028908252716064453\n",
      "Fitting model over all blocks took 196.45740461349487 seconds.\n"
     ]
    },
    {
     "name": "stderr",
     "output_type": "stream",
     "text": [
      "\n",
      "Processing tile 6 out of 6: : 10it [10:39, 39.12s/it]\n",
      "  0%|          | 0/6.0871124267578125 [00:00<?, ?it/s]\u001b[A\n",
      "Processing blocks of tile::   0%|          | 0/6.0871124267578125 [00:00<?, ?it/s]\u001b[A"
     ]
    },
    {
     "name": "stdout",
     "output_type": "stream",
     "text": [
      "device:  [<pyopencl.Device 'Tesla T4' on 'NVIDIA CUDA' at 0x379bce0>]\n",
      "Monitoring starts at:  2017-04-03 00:00:00\n",
      "Monitoring ends at:  2020-08-23 00:00:00\n",
      "Dataset history starts at:  2012-01-05 00:00:00\n",
      "frequency:  365\n",
      "harmonic term:  3\n",
      "Hfrac: Float in the interval (0,1) specifying the bandwidth relative to the sample size in the MOSUM/ME monitoring processes.:  0.25\n",
      "Trend: Whether a tend offset term shall be used or not:  False\n",
      "Level: Significance level of the monitoring (and ROC, if selected) procedure, i.e., probability of type I error:  0.050000000000000044\n",
      "backend: GPU opencl or CPU python:  opencl\n",
      "verbose: The verbosity level (0=no output, 1=output):  1\n",
      "rastersize:  197 2025\n",
      "The natural block size is the block size that is most efficient for accessing the format, gdal found blocksize:  [128, 128]\n",
      "set blocksize explicitly:  256 ,  256\n",
      "start monitor:  2017-04-03 00:00:00\n",
      "end monitor:  2020-08-23 00:00:00\n",
      "start history:  2012-01-05 00:00:00\n",
      "0 0 197 256\n"
     ]
    },
    {
     "name": "stderr",
     "output_type": "stream",
     "text": [
      "\n",
      "Processing blocks of tile::  33%|███▎      | 2/6.0871124267578125 [00:04<00:09,  2.44s/it]\u001b[A"
     ]
    },
    {
     "name": "stdout",
     "output_type": "stream",
     "text": [
      "--- runtime for data initialization:\t\t0.001783132553100586\n",
      "--- runtime for data transfer (host->device):\t0.009934425354003906\n",
      "--- runtime for data preprocessing:\t\t0.002905130386352539\n",
      "--- runtime for kernel execution:\t\t0.016282081604003906\n",
      "--- runtime for data transfer (device->host):\t0.002552509307861328\n",
      "0 256 197 256\n"
     ]
    },
    {
     "name": "stderr",
     "output_type": "stream",
     "text": [
      "\n",
      "Processing blocks of tile::  49%|████▉     | 3/6.0871124267578125 [00:07<00:07,  2.50s/it]\u001b[A"
     ]
    },
    {
     "name": "stdout",
     "output_type": "stream",
     "text": [
      "--- runtime for data initialization:\t\t0.0017888545989990234\n",
      "--- runtime for data transfer (host->device):\t0.009834051132202148\n",
      "--- runtime for data preprocessing:\t\t0.0029032230377197266\n",
      "--- runtime for kernel execution:\t\t0.01633596420288086\n",
      "--- runtime for data transfer (device->host):\t0.002557039260864258\n",
      "0 512 197 256\n"
     ]
    },
    {
     "name": "stderr",
     "output_type": "stream",
     "text": [
      "\n",
      "Processing blocks of tile::  66%|██████▌   | 4/6.0871124267578125 [00:10<00:05,  2.57s/it]\u001b[A"
     ]
    },
    {
     "name": "stdout",
     "output_type": "stream",
     "text": [
      "--- runtime for data initialization:\t\t0.0017962455749511719\n",
      "--- runtime for data transfer (host->device):\t0.009938716888427734\n",
      "--- runtime for data preprocessing:\t\t0.0028982162475585938\n",
      "--- runtime for kernel execution:\t\t0.016283750534057617\n",
      "--- runtime for data transfer (device->host):\t0.0024213790893554688\n",
      "0 768 197 256\n"
     ]
    },
    {
     "name": "stderr",
     "output_type": "stream",
     "text": [
      "\n",
      "Processing blocks of tile::  82%|████████▏ | 5/6.0871124267578125 [00:12<00:02,  2.62s/it]\u001b[A"
     ]
    },
    {
     "name": "stdout",
     "output_type": "stream",
     "text": [
      "--- runtime for data initialization:\t\t0.0018372535705566406\n",
      "--- runtime for data transfer (host->device):\t0.009998083114624023\n",
      "--- runtime for data preprocessing:\t\t0.0029621124267578125\n",
      "--- runtime for kernel execution:\t\t0.01632857322692871\n",
      "--- runtime for data transfer (device->host):\t0.0025510787963867188\n",
      "0 1024 197 256\n"
     ]
    },
    {
     "name": "stderr",
     "output_type": "stream",
     "text": [
      "\n",
      "Processing blocks of tile::  99%|█████████▊| 6/6.0871124267578125 [00:15<00:00,  2.61s/it]\u001b[A"
     ]
    },
    {
     "name": "stdout",
     "output_type": "stream",
     "text": [
      "--- runtime for data initialization:\t\t0.001798868179321289\n",
      "--- runtime for data transfer (host->device):\t0.009837865829467773\n",
      "--- runtime for data preprocessing:\t\t0.0028972625732421875\n",
      "--- runtime for kernel execution:\t\t0.016370534896850586\n",
      "--- runtime for data transfer (device->host):\t0.00255584716796875\n",
      "0 1280 197 256\n"
     ]
    },
    {
     "name": "stderr",
     "output_type": "stream",
     "text": [
      "\n",
      "Processing blocks of tile:: : 7it [00:18,  2.61s/it]                                      \u001b[A"
     ]
    },
    {
     "name": "stdout",
     "output_type": "stream",
     "text": [
      "--- runtime for data initialization:\t\t0.0018055438995361328\n",
      "--- runtime for data transfer (host->device):\t0.009906530380249023\n",
      "--- runtime for data preprocessing:\t\t0.002896547317504883\n",
      "--- runtime for kernel execution:\t\t0.01628422737121582\n",
      "--- runtime for data transfer (device->host):\t0.0025556087493896484\n",
      "0 1536 197 256\n"
     ]
    },
    {
     "name": "stderr",
     "output_type": "stream",
     "text": [
      "\n",
      "Processing blocks of tile:: : 8it [00:20,  2.60s/it]\u001b[A"
     ]
    },
    {
     "name": "stdout",
     "output_type": "stream",
     "text": [
      "--- runtime for data initialization:\t\t0.0018000602722167969\n",
      "--- runtime for data transfer (host->device):\t0.00996088981628418\n",
      "--- runtime for data preprocessing:\t\t0.002908468246459961\n",
      "--- runtime for kernel execution:\t\t0.01648545265197754\n",
      "--- runtime for data transfer (device->host):\t0.0023796558380126953\n",
      "0 1792 197 233\n"
     ]
    },
    {
     "name": "stderr",
     "output_type": "stream",
     "text": [
      "\r",
      "Processing blocks of tile:: : 8it [00:23,  2.91s/it]"
     ]
    },
    {
     "name": "stdout",
     "output_type": "stream",
     "text": [
      "--- runtime for data initialization:\t\t0.0018284320831298828\n",
      "--- runtime for data transfer (host->device):\t0.009073019027709961\n",
      "--- runtime for data preprocessing:\t\t0.002789020538330078\n",
      "--- runtime for kernel execution:\t\t0.015034675598144531\n",
      "--- runtime for data transfer (device->host):\t0.0021560192108154297\n",
      "Fitting model over all blocks took 23.286980867385864 seconds.\n"
     ]
    },
    {
     "name": "stderr",
     "output_type": "stream",
     "text": [
      "\n",
      "Processing tile 6 out of 6: : 15it [11:02, 44.19s/it]\n",
      "Processing tile 1 out of 16:   0%|          | 0/1 [00:00<?, ?it/s]\n",
      "  0%|          | 0/64.0 [00:00<?, ?it/s]\u001b[A\n",
      "Processing blocks of tile::   0%|          | 0/64.0 [00:00<?, ?it/s]\u001b[A"
     ]
    },
    {
     "name": "stdout",
     "output_type": "stream",
     "text": [
      "device:  [<pyopencl.Device 'Tesla T4' on 'NVIDIA CUDA' at 0x379bce0>]\n",
      "Monitoring starts at:  2017-04-03 00:00:00\n",
      "Monitoring ends at:  2020-08-23 00:00:00\n",
      "Dataset history starts at:  2012-01-05 00:00:00\n",
      "frequency:  365\n",
      "harmonic term:  3\n",
      "Hfrac: Float in the interval (0,1) specifying the bandwidth relative to the sample size in the MOSUM/ME monitoring processes.:  0.25\n",
      "Trend: Whether a tend offset term shall be used or not:  False\n",
      "Level: Significance level of the monitoring (and ROC, if selected) procedure, i.e., probability of type I error:  0.050000000000000044\n",
      "backend: GPU opencl or CPU python:  opencl\n",
      "verbose: The verbosity level (0=no output, 1=output):  1\n",
      "rastersize:  2048 2048\n",
      "The natural block size is the block size that is most efficient for accessing the format, gdal found blocksize:  [128, 128]\n",
      "set blocksize explicitly:  256 ,  256\n",
      "start monitor:  2017-04-03 00:00:00\n",
      "end monitor:  2020-08-23 00:00:00\n",
      "start history:  2012-01-05 00:00:00\n",
      "0 0 256 256\n"
     ]
    },
    {
     "name": "stderr",
     "output_type": "stream",
     "text": [
      "\n",
      "Processing blocks of tile::   3%|▎         | 2/64.0 [00:03<01:52,  1.82s/it]\u001b[A"
     ]
    },
    {
     "name": "stdout",
     "output_type": "stream",
     "text": [
      "--- runtime for data initialization:\t\t0.0017123222351074219\n",
      "--- runtime for data transfer (host->device):\t0.01049184799194336\n",
      "--- runtime for data preprocessing:\t\t0.0030105113983154297\n",
      "--- runtime for kernel execution:\t\t0.01894211769104004\n",
      "--- runtime for data transfer (device->host):\t0.002743959426879883\n",
      "256 0 256 256\n"
     ]
    },
    {
     "name": "stderr",
     "output_type": "stream",
     "text": [
      "\n",
      "Processing blocks of tile::   5%|▍         | 3/64.0 [00:06<02:04,  2.04s/it]\u001b[A"
     ]
    },
    {
     "name": "stdout",
     "output_type": "stream",
     "text": [
      "--- runtime for data initialization:\t\t0.0017392635345458984\n",
      "--- runtime for data transfer (host->device):\t0.010587453842163086\n",
      "--- runtime for data preprocessing:\t\t0.0029823780059814453\n",
      "--- runtime for kernel execution:\t\t0.01880025863647461\n",
      "--- runtime for data transfer (device->host):\t0.0026514530181884766\n",
      "512 0 256 256\n"
     ]
    },
    {
     "name": "stderr",
     "output_type": "stream",
     "text": [
      "\n",
      "Processing blocks of tile::   6%|▋         | 4/64.0 [00:08<02:10,  2.18s/it]\u001b[A"
     ]
    },
    {
     "name": "stdout",
     "output_type": "stream",
     "text": [
      "--- runtime for data initialization:\t\t0.0017158985137939453\n",
      "--- runtime for data transfer (host->device):\t0.010534048080444336\n",
      "--- runtime for data preprocessing:\t\t0.002984762191772461\n",
      "--- runtime for kernel execution:\t\t0.018822431564331055\n",
      "--- runtime for data transfer (device->host):\t0.0027780532836914062\n",
      "768 0 256 256\n"
     ]
    },
    {
     "name": "stderr",
     "output_type": "stream",
     "text": [
      "\n",
      "Processing blocks of tile::   8%|▊         | 5/64.0 [00:11<02:13,  2.26s/it]\u001b[A"
     ]
    },
    {
     "name": "stdout",
     "output_type": "stream",
     "text": [
      "--- runtime for data initialization:\t\t0.001697540283203125\n",
      "--- runtime for data transfer (host->device):\t0.010516881942749023\n",
      "--- runtime for data preprocessing:\t\t0.002980947494506836\n",
      "--- runtime for kernel execution:\t\t0.018874168395996094\n",
      "--- runtime for data transfer (device->host):\t0.0027887821197509766\n",
      "1024 0 256 256\n"
     ]
    },
    {
     "name": "stderr",
     "output_type": "stream",
     "text": [
      "\n",
      "Processing blocks of tile::   9%|▉         | 6/64.0 [00:13<02:14,  2.32s/it]\u001b[A"
     ]
    },
    {
     "name": "stdout",
     "output_type": "stream",
     "text": [
      "--- runtime for data initialization:\t\t0.0017323493957519531\n",
      "--- runtime for data transfer (host->device):\t0.010583162307739258\n",
      "--- runtime for data preprocessing:\t\t0.0030188560485839844\n",
      "--- runtime for kernel execution:\t\t0.018784761428833008\n",
      "--- runtime for data transfer (device->host):\t0.0026819705963134766\n",
      "1280 0 256 256\n"
     ]
    },
    {
     "name": "stderr",
     "output_type": "stream",
     "text": [
      "\n",
      "Processing blocks of tile::  11%|█         | 7/64.0 [00:16<02:14,  2.36s/it]\u001b[A"
     ]
    },
    {
     "name": "stdout",
     "output_type": "stream",
     "text": [
      "--- runtime for data initialization:\t\t0.0016837120056152344\n",
      "--- runtime for data transfer (host->device):\t0.010499954223632812\n",
      "--- runtime for data preprocessing:\t\t0.0030083656311035156\n",
      "--- runtime for kernel execution:\t\t0.018842458724975586\n",
      "--- runtime for data transfer (device->host):\t0.0027780532836914062\n",
      "1536 0 256 256\n"
     ]
    },
    {
     "name": "stderr",
     "output_type": "stream",
     "text": [
      "\n",
      "Processing blocks of tile::  12%|█▎        | 8/64.0 [00:18<02:13,  2.39s/it]\u001b[A"
     ]
    },
    {
     "name": "stdout",
     "output_type": "stream",
     "text": [
      "--- runtime for data initialization:\t\t0.0017123222351074219\n",
      "--- runtime for data transfer (host->device):\t0.010506629943847656\n",
      "--- runtime for data preprocessing:\t\t0.0029675960540771484\n",
      "--- runtime for kernel execution:\t\t0.01880788803100586\n",
      "--- runtime for data transfer (device->host):\t0.0027861595153808594\n",
      "1792 0 256 256\n"
     ]
    },
    {
     "name": "stderr",
     "output_type": "stream",
     "text": [
      "\n",
      "Processing blocks of tile::  14%|█▍        | 9/64.0 [00:20<02:11,  2.39s/it]\u001b[A"
     ]
    },
    {
     "name": "stdout",
     "output_type": "stream",
     "text": [
      "--- runtime for data initialization:\t\t0.0016925334930419922\n",
      "--- runtime for data transfer (host->device):\t0.01058816909790039\n",
      "--- runtime for data preprocessing:\t\t0.0029878616333007812\n",
      "--- runtime for kernel execution:\t\t0.01900005340576172\n",
      "--- runtime for data transfer (device->host):\t0.0026214122772216797\n",
      "0 256 256 256\n"
     ]
    },
    {
     "name": "stderr",
     "output_type": "stream",
     "text": [
      "\n",
      "Processing blocks of tile::  16%|█▌        | 10/64.0 [00:23<02:10,  2.42s/it]\u001b[A"
     ]
    },
    {
     "name": "stdout",
     "output_type": "stream",
     "text": [
      "--- runtime for data initialization:\t\t0.0017170906066894531\n",
      "--- runtime for data transfer (host->device):\t0.010542631149291992\n",
      "--- runtime for data preprocessing:\t\t0.002995729446411133\n",
      "--- runtime for kernel execution:\t\t0.018797874450683594\n",
      "--- runtime for data transfer (device->host):\t0.002665996551513672\n",
      "256 256 256 256\n"
     ]
    },
    {
     "name": "stderr",
     "output_type": "stream",
     "text": [
      "\n",
      "Processing blocks of tile::  17%|█▋        | 11/64.0 [00:25<02:10,  2.45s/it]\u001b[A"
     ]
    },
    {
     "name": "stdout",
     "output_type": "stream",
     "text": [
      "--- runtime for data initialization:\t\t0.001680612564086914\n",
      "--- runtime for data transfer (host->device):\t0.010572433471679688\n",
      "--- runtime for data preprocessing:\t\t0.0029985904693603516\n",
      "--- runtime for kernel execution:\t\t0.01899886131286621\n",
      "--- runtime for data transfer (device->host):\t0.0026416778564453125\n",
      "512 256 256 256\n"
     ]
    },
    {
     "name": "stderr",
     "output_type": "stream",
     "text": [
      "\n",
      "Processing blocks of tile::  19%|█▉        | 12/64.0 [00:28<02:09,  2.48s/it]\u001b[A"
     ]
    },
    {
     "name": "stdout",
     "output_type": "stream",
     "text": [
      "--- runtime for data initialization:\t\t0.0017206668853759766\n",
      "--- runtime for data transfer (host->device):\t0.010558366775512695\n",
      "--- runtime for data preprocessing:\t\t0.0029778480529785156\n",
      "--- runtime for kernel execution:\t\t0.018805503845214844\n",
      "--- runtime for data transfer (device->host):\t0.002666473388671875\n",
      "768 256 256 256\n"
     ]
    },
    {
     "name": "stderr",
     "output_type": "stream",
     "text": [
      "\n",
      "Processing blocks of tile::  20%|██        | 13/64.0 [00:31<02:07,  2.50s/it]\u001b[A"
     ]
    },
    {
     "name": "stdout",
     "output_type": "stream",
     "text": [
      "--- runtime for data initialization:\t\t0.0016930103302001953\n",
      "--- runtime for data transfer (host->device):\t0.010538339614868164\n",
      "--- runtime for data preprocessing:\t\t0.003017902374267578\n",
      "--- runtime for kernel execution:\t\t0.018960237503051758\n",
      "--- runtime for data transfer (device->host):\t0.0026252269744873047\n",
      "1024 256 256 256\n"
     ]
    },
    {
     "name": "stderr",
     "output_type": "stream",
     "text": [
      "\n",
      "Processing blocks of tile::  22%|██▏       | 14/64.0 [00:33<02:04,  2.50s/it]\u001b[A"
     ]
    },
    {
     "name": "stdout",
     "output_type": "stream",
     "text": [
      "--- runtime for data initialization:\t\t0.0017368793487548828\n",
      "--- runtime for data transfer (host->device):\t0.010586977005004883\n",
      "--- runtime for data preprocessing:\t\t0.002994060516357422\n",
      "--- runtime for kernel execution:\t\t0.01898646354675293\n",
      "--- runtime for data transfer (device->host):\t0.002616405487060547\n",
      "1280 256 256 256\n"
     ]
    },
    {
     "name": "stderr",
     "output_type": "stream",
     "text": [
      "\n",
      "Processing blocks of tile::  23%|██▎       | 15/64.0 [00:35<02:01,  2.48s/it]\u001b[A"
     ]
    },
    {
     "name": "stdout",
     "output_type": "stream",
     "text": [
      "--- runtime for data initialization:\t\t0.0017039775848388672\n",
      "--- runtime for data transfer (host->device):\t0.010556459426879883\n",
      "--- runtime for data preprocessing:\t\t0.0029861927032470703\n",
      "--- runtime for kernel execution:\t\t0.018879175186157227\n",
      "--- runtime for data transfer (device->host):\t0.002783536911010742\n",
      "1536 256 256 256\n"
     ]
    },
    {
     "name": "stderr",
     "output_type": "stream",
     "text": [
      "\n",
      "Processing blocks of tile::  25%|██▌       | 16/64.0 [00:38<01:57,  2.46s/it]\u001b[A"
     ]
    },
    {
     "name": "stdout",
     "output_type": "stream",
     "text": [
      "--- runtime for data initialization:\t\t0.0018155574798583984\n",
      "--- runtime for data transfer (host->device):\t0.010641813278198242\n",
      "--- runtime for data preprocessing:\t\t0.002999544143676758\n",
      "--- runtime for kernel execution:\t\t0.01876211166381836\n",
      "--- runtime for data transfer (device->host):\t0.0027985572814941406\n",
      "1792 256 256 256\n"
     ]
    },
    {
     "name": "stderr",
     "output_type": "stream",
     "text": [
      "\n",
      "Processing blocks of tile::  27%|██▋       | 17/64.0 [00:40<01:55,  2.45s/it]\u001b[A"
     ]
    },
    {
     "name": "stdout",
     "output_type": "stream",
     "text": [
      "--- runtime for data initialization:\t\t0.001689910888671875\n",
      "--- runtime for data transfer (host->device):\t0.010535478591918945\n",
      "--- runtime for data preprocessing:\t\t0.003021717071533203\n",
      "--- runtime for kernel execution:\t\t0.018829345703125\n",
      "--- runtime for data transfer (device->host):\t0.0027930736541748047\n",
      "0 512 256 256\n"
     ]
    },
    {
     "name": "stderr",
     "output_type": "stream",
     "text": [
      "\n",
      "Processing blocks of tile::  28%|██▊       | 18/64.0 [00:43<01:54,  2.48s/it]\u001b[A"
     ]
    },
    {
     "name": "stdout",
     "output_type": "stream",
     "text": [
      "--- runtime for data initialization:\t\t0.0017130374908447266\n",
      "--- runtime for data transfer (host->device):\t0.010503768920898438\n",
      "--- runtime for data preprocessing:\t\t0.0030031204223632812\n",
      "--- runtime for kernel execution:\t\t0.018824338912963867\n",
      "--- runtime for data transfer (device->host):\t0.002808809280395508\n",
      "256 512 256 256\n"
     ]
    },
    {
     "name": "stderr",
     "output_type": "stream",
     "text": [
      "\n",
      "Processing blocks of tile::  30%|██▉       | 19/64.0 [00:45<01:51,  2.49s/it]\u001b[A"
     ]
    },
    {
     "name": "stdout",
     "output_type": "stream",
     "text": [
      "--- runtime for data initialization:\t\t0.0016977787017822266\n",
      "--- runtime for data transfer (host->device):\t0.010551214218139648\n",
      "--- runtime for data preprocessing:\t\t0.002993345260620117\n",
      "--- runtime for kernel execution:\t\t0.01881575584411621\n",
      "--- runtime for data transfer (device->host):\t0.0028307437896728516\n",
      "512 512 256 256\n"
     ]
    },
    {
     "name": "stderr",
     "output_type": "stream",
     "text": [
      "\n",
      "Processing blocks of tile::  31%|███▏      | 20/64.0 [00:48<01:49,  2.48s/it]\u001b[A"
     ]
    },
    {
     "name": "stdout",
     "output_type": "stream",
     "text": [
      "--- runtime for data initialization:\t\t0.0017299652099609375\n",
      "--- runtime for data transfer (host->device):\t0.010513782501220703\n",
      "--- runtime for data preprocessing:\t\t0.003009319305419922\n",
      "--- runtime for kernel execution:\t\t0.018815994262695312\n",
      "--- runtime for data transfer (device->host):\t0.0026569366455078125\n",
      "768 512 256 256\n"
     ]
    },
    {
     "name": "stderr",
     "output_type": "stream",
     "text": [
      "\n",
      "Processing blocks of tile::  33%|███▎      | 21/64.0 [00:50<01:46,  2.48s/it]\u001b[A"
     ]
    },
    {
     "name": "stdout",
     "output_type": "stream",
     "text": [
      "--- runtime for data initialization:\t\t0.001825571060180664\n",
      "--- runtime for data transfer (host->device):\t0.010512113571166992\n",
      "--- runtime for data preprocessing:\t\t0.0030062198638916016\n",
      "--- runtime for kernel execution:\t\t0.018816232681274414\n",
      "--- runtime for data transfer (device->host):\t0.0028014183044433594\n",
      "1024 512 256 256\n"
     ]
    },
    {
     "name": "stderr",
     "output_type": "stream",
     "text": [
      "\n",
      "Processing blocks of tile::  34%|███▍      | 22/64.0 [00:53<01:44,  2.48s/it]\u001b[A"
     ]
    },
    {
     "name": "stdout",
     "output_type": "stream",
     "text": [
      "--- runtime for data initialization:\t\t0.001710653305053711\n",
      "--- runtime for data transfer (host->device):\t0.010543584823608398\n",
      "--- runtime for data preprocessing:\t\t0.0030181407928466797\n",
      "--- runtime for kernel execution:\t\t0.018867969512939453\n",
      "--- runtime for data transfer (device->host):\t0.0027866363525390625\n",
      "1280 512 256 256\n"
     ]
    },
    {
     "name": "stderr",
     "output_type": "stream",
     "text": [
      "\n",
      "Processing blocks of tile::  36%|███▌      | 23/64.0 [00:55<01:41,  2.48s/it]\u001b[A"
     ]
    },
    {
     "name": "stdout",
     "output_type": "stream",
     "text": [
      "--- runtime for data initialization:\t\t0.0017232894897460938\n",
      "--- runtime for data transfer (host->device):\t0.010472774505615234\n",
      "--- runtime for data preprocessing:\t\t0.002980947494506836\n",
      "--- runtime for kernel execution:\t\t0.018851041793823242\n",
      "--- runtime for data transfer (device->host):\t0.0027816295623779297\n",
      "1536 512 256 256\n"
     ]
    },
    {
     "name": "stderr",
     "output_type": "stream",
     "text": [
      "\n",
      "Processing blocks of tile::  38%|███▊      | 24/64.0 [00:58<01:37,  2.45s/it]\u001b[A"
     ]
    },
    {
     "name": "stdout",
     "output_type": "stream",
     "text": [
      "--- runtime for data initialization:\t\t0.0017039775848388672\n",
      "--- runtime for data transfer (host->device):\t0.0104827880859375\n",
      "--- runtime for data preprocessing:\t\t0.0029675960540771484\n",
      "--- runtime for kernel execution:\t\t0.018834352493286133\n",
      "--- runtime for data transfer (device->host):\t0.002775907516479492\n",
      "1792 512 256 256\n"
     ]
    },
    {
     "name": "stderr",
     "output_type": "stream",
     "text": [
      "\n",
      "Processing blocks of tile::  39%|███▉      | 25/64.0 [01:00<01:34,  2.42s/it]\u001b[A"
     ]
    },
    {
     "name": "stdout",
     "output_type": "stream",
     "text": [
      "--- runtime for data initialization:\t\t0.0017795562744140625\n",
      "--- runtime for data transfer (host->device):\t0.010621070861816406\n",
      "--- runtime for data preprocessing:\t\t0.0029878616333007812\n",
      "--- runtime for kernel execution:\t\t0.018976688385009766\n",
      "--- runtime for data transfer (device->host):\t0.0026400089263916016\n",
      "0 768 256 256\n"
     ]
    },
    {
     "name": "stderr",
     "output_type": "stream",
     "text": [
      "\n",
      "Processing blocks of tile::  41%|████      | 26/64.0 [01:03<01:33,  2.46s/it]\u001b[A"
     ]
    },
    {
     "name": "stdout",
     "output_type": "stream",
     "text": [
      "--- runtime for data initialization:\t\t0.0016980171203613281\n",
      "--- runtime for data transfer (host->device):\t0.01057124137878418\n",
      "--- runtime for data preprocessing:\t\t0.0029942989349365234\n",
      "--- runtime for kernel execution:\t\t0.019008159637451172\n",
      "--- runtime for data transfer (device->host):\t0.0028078556060791016\n",
      "256 768 256 256\n"
     ]
    },
    {
     "name": "stderr",
     "output_type": "stream",
     "text": [
      "\n",
      "Processing blocks of tile::  42%|████▏     | 27/64.0 [01:05<01:31,  2.48s/it]\u001b[A"
     ]
    },
    {
     "name": "stdout",
     "output_type": "stream",
     "text": [
      "--- runtime for data initialization:\t\t0.0017039775848388672\n",
      "--- runtime for data transfer (host->device):\t0.010571956634521484\n",
      "--- runtime for data preprocessing:\t\t0.0030469894409179688\n",
      "--- runtime for kernel execution:\t\t0.018836259841918945\n",
      "--- runtime for data transfer (device->host):\t0.002634763717651367\n",
      "512 768 256 256\n"
     ]
    },
    {
     "name": "stderr",
     "output_type": "stream",
     "text": [
      "\n",
      "Processing blocks of tile::  44%|████▍     | 28/64.0 [01:08<01:29,  2.48s/it]\u001b[A"
     ]
    },
    {
     "name": "stdout",
     "output_type": "stream",
     "text": [
      "--- runtime for data initialization:\t\t0.0016901493072509766\n",
      "--- runtime for data transfer (host->device):\t0.010500669479370117\n",
      "--- runtime for data preprocessing:\t\t0.002990245819091797\n",
      "--- runtime for kernel execution:\t\t0.018825292587280273\n",
      "--- runtime for data transfer (device->host):\t0.0027933120727539062\n",
      "768 768 256 256\n"
     ]
    },
    {
     "name": "stderr",
     "output_type": "stream",
     "text": [
      "\n",
      "Processing blocks of tile::  45%|████▌     | 29/64.0 [01:10<01:27,  2.51s/it]\u001b[A"
     ]
    },
    {
     "name": "stdout",
     "output_type": "stream",
     "text": [
      "--- runtime for data initialization:\t\t0.0017180442810058594\n",
      "--- runtime for data transfer (host->device):\t0.010647058486938477\n",
      "--- runtime for data preprocessing:\t\t0.003009319305419922\n",
      "--- runtime for kernel execution:\t\t0.018976688385009766\n",
      "--- runtime for data transfer (device->host):\t0.0026252269744873047\n",
      "1024 768 256 256\n"
     ]
    },
    {
     "name": "stderr",
     "output_type": "stream",
     "text": [
      "\n",
      "Processing blocks of tile::  47%|████▋     | 30/64.0 [01:13<01:25,  2.50s/it]\u001b[A"
     ]
    },
    {
     "name": "stdout",
     "output_type": "stream",
     "text": [
      "--- runtime for data initialization:\t\t0.0017004013061523438\n",
      "--- runtime for data transfer (host->device):\t0.010621309280395508\n",
      "--- runtime for data preprocessing:\t\t0.0030012130737304688\n",
      "--- runtime for kernel execution:\t\t0.019042491912841797\n",
      "--- runtime for data transfer (device->host):\t0.0027976036071777344\n",
      "1280 768 256 256\n"
     ]
    },
    {
     "name": "stderr",
     "output_type": "stream",
     "text": [
      "\n",
      "Processing blocks of tile::  48%|████▊     | 31/64.0 [01:15<01:21,  2.48s/it]\u001b[A"
     ]
    },
    {
     "name": "stdout",
     "output_type": "stream",
     "text": [
      "--- runtime for data initialization:\t\t0.001744985580444336\n",
      "--- runtime for data transfer (host->device):\t0.010625123977661133\n",
      "--- runtime for data preprocessing:\t\t0.002998828887939453\n",
      "--- runtime for kernel execution:\t\t0.01894545555114746\n",
      "--- runtime for data transfer (device->host):\t0.0025098323822021484\n",
      "1536 768 256 256\n"
     ]
    },
    {
     "name": "stderr",
     "output_type": "stream",
     "text": [
      "\n",
      "Processing blocks of tile::  50%|█████     | 32/64.0 [01:17<01:18,  2.44s/it]\u001b[A"
     ]
    },
    {
     "name": "stdout",
     "output_type": "stream",
     "text": [
      "--- runtime for data initialization:\t\t0.001699686050415039\n",
      "--- runtime for data transfer (host->device):\t0.010543584823608398\n",
      "--- runtime for data preprocessing:\t\t0.002988100051879883\n",
      "--- runtime for kernel execution:\t\t0.018989086151123047\n",
      "--- runtime for data transfer (device->host):\t0.0026183128356933594\n",
      "1792 768 256 256\n"
     ]
    },
    {
     "name": "stderr",
     "output_type": "stream",
     "text": [
      "\n",
      "Processing blocks of tile::  52%|█████▏    | 33/64.0 [01:20<01:15,  2.42s/it]\u001b[A"
     ]
    },
    {
     "name": "stdout",
     "output_type": "stream",
     "text": [
      "--- runtime for data initialization:\t\t0.0017237663269042969\n",
      "--- runtime for data transfer (host->device):\t0.010614871978759766\n",
      "--- runtime for data preprocessing:\t\t0.002991914749145508\n",
      "--- runtime for kernel execution:\t\t0.01912403106689453\n",
      "--- runtime for data transfer (device->host):\t0.002572298049926758\n",
      "0 1024 256 256\n"
     ]
    },
    {
     "name": "stderr",
     "output_type": "stream",
     "text": [
      "\n",
      "Processing blocks of tile::  53%|█████▎    | 34/64.0 [01:22<01:13,  2.47s/it]\u001b[A"
     ]
    },
    {
     "name": "stdout",
     "output_type": "stream",
     "text": [
      "--- runtime for data initialization:\t\t0.0017104148864746094\n",
      "--- runtime for data transfer (host->device):\t0.010562896728515625\n",
      "--- runtime for data preprocessing:\t\t0.0029976367950439453\n",
      "--- runtime for kernel execution:\t\t0.01902914047241211\n",
      "--- runtime for data transfer (device->host):\t0.002641916275024414\n",
      "256 1024 256 256\n"
     ]
    },
    {
     "name": "stderr",
     "output_type": "stream",
     "text": [
      "\n",
      "Processing blocks of tile::  55%|█████▍    | 35/64.0 [01:25<01:12,  2.49s/it]\u001b[A"
     ]
    },
    {
     "name": "stdout",
     "output_type": "stream",
     "text": [
      "--- runtime for data initialization:\t\t0.001692056655883789\n",
      "--- runtime for data transfer (host->device):\t0.010535240173339844\n",
      "--- runtime for data preprocessing:\t\t0.002992868423461914\n",
      "--- runtime for kernel execution:\t\t0.018880128860473633\n",
      "--- runtime for data transfer (device->host):\t0.0027878284454345703\n",
      "512 1024 256 256\n"
     ]
    },
    {
     "name": "stderr",
     "output_type": "stream",
     "text": [
      "\n",
      "Processing blocks of tile::  56%|█████▋    | 36/64.0 [01:27<01:10,  2.51s/it]\u001b[A"
     ]
    },
    {
     "name": "stdout",
     "output_type": "stream",
     "text": [
      "--- runtime for data initialization:\t\t0.0017037391662597656\n",
      "--- runtime for data transfer (host->device):\t0.010521650314331055\n",
      "--- runtime for data preprocessing:\t\t0.003007173538208008\n",
      "--- runtime for kernel execution:\t\t0.018832921981811523\n",
      "--- runtime for data transfer (device->host):\t0.002782106399536133\n",
      "768 1024 256 256\n"
     ]
    },
    {
     "name": "stderr",
     "output_type": "stream",
     "text": [
      "\n",
      "Processing blocks of tile::  58%|█████▊    | 37/64.0 [01:30<01:07,  2.50s/it]\u001b[A"
     ]
    },
    {
     "name": "stdout",
     "output_type": "stream",
     "text": [
      "--- runtime for data initialization:\t\t0.001722574234008789\n",
      "--- runtime for data transfer (host->device):\t0.010474205017089844\n",
      "--- runtime for data preprocessing:\t\t0.00298309326171875\n",
      "--- runtime for kernel execution:\t\t0.018970489501953125\n",
      "--- runtime for data transfer (device->host):\t0.002787351608276367\n",
      "1024 1024 256 256\n"
     ]
    },
    {
     "name": "stderr",
     "output_type": "stream",
     "text": [
      "\n",
      "Processing blocks of tile::  59%|█████▉    | 38/64.0 [01:32<01:04,  2.48s/it]\u001b[A"
     ]
    },
    {
     "name": "stdout",
     "output_type": "stream",
     "text": [
      "--- runtime for data initialization:\t\t0.0016946792602539062\n",
      "--- runtime for data transfer (host->device):\t0.010541439056396484\n",
      "--- runtime for data preprocessing:\t\t0.0029926300048828125\n",
      "--- runtime for kernel execution:\t\t0.018796205520629883\n",
      "--- runtime for data transfer (device->host):\t0.0027954578399658203\n",
      "1280 1024 256 256\n"
     ]
    },
    {
     "name": "stderr",
     "output_type": "stream",
     "text": [
      "\n",
      "Processing blocks of tile::  61%|██████    | 39/64.0 [01:35<01:01,  2.46s/it]\u001b[A"
     ]
    },
    {
     "name": "stdout",
     "output_type": "stream",
     "text": [
      "--- runtime for data initialization:\t\t0.0017330646514892578\n",
      "--- runtime for data transfer (host->device):\t0.010535001754760742\n",
      "--- runtime for data preprocessing:\t\t0.0029892921447753906\n",
      "--- runtime for kernel execution:\t\t0.018822908401489258\n",
      "--- runtime for data transfer (device->host):\t0.002686023712158203\n",
      "1536 1024 256 256\n"
     ]
    },
    {
     "name": "stderr",
     "output_type": "stream",
     "text": [
      "\n",
      "Processing blocks of tile::  62%|██████▎   | 40/64.0 [01:37<00:58,  2.42s/it]\u001b[A"
     ]
    },
    {
     "name": "stdout",
     "output_type": "stream",
     "text": [
      "--- runtime for data initialization:\t\t0.001728057861328125\n",
      "--- runtime for data transfer (host->device):\t0.010558605194091797\n",
      "--- runtime for data preprocessing:\t\t0.003019571304321289\n",
      "--- runtime for kernel execution:\t\t0.018825292587280273\n",
      "--- runtime for data transfer (device->host):\t0.002646923065185547\n",
      "1792 1024 256 256\n"
     ]
    },
    {
     "name": "stderr",
     "output_type": "stream",
     "text": [
      "\n",
      "Processing blocks of tile::  64%|██████▍   | 41/64.0 [01:39<00:55,  2.41s/it]\u001b[A"
     ]
    },
    {
     "name": "stdout",
     "output_type": "stream",
     "text": [
      "--- runtime for data initialization:\t\t0.0017466545104980469\n",
      "--- runtime for data transfer (host->device):\t0.010516881942749023\n",
      "--- runtime for data preprocessing:\t\t0.0029952526092529297\n",
      "--- runtime for kernel execution:\t\t0.018965482711791992\n",
      "--- runtime for data transfer (device->host):\t0.0027871131896972656\n",
      "0 1280 256 256\n"
     ]
    },
    {
     "name": "stderr",
     "output_type": "stream",
     "text": [
      "\n",
      "Processing blocks of tile::  66%|██████▌   | 42/64.0 [01:42<00:53,  2.45s/it]\u001b[A"
     ]
    },
    {
     "name": "stdout",
     "output_type": "stream",
     "text": [
      "--- runtime for data initialization:\t\t0.0017588138580322266\n",
      "--- runtime for data transfer (host->device):\t0.010592937469482422\n",
      "--- runtime for data preprocessing:\t\t0.0029897689819335938\n",
      "--- runtime for kernel execution:\t\t0.018791675567626953\n",
      "--- runtime for data transfer (device->host):\t0.00260162353515625\n",
      "256 1280 256 256\n"
     ]
    },
    {
     "name": "stderr",
     "output_type": "stream",
     "text": [
      "\n",
      "Processing blocks of tile::  67%|██████▋   | 43/64.0 [01:45<00:51,  2.47s/it]\u001b[A"
     ]
    },
    {
     "name": "stdout",
     "output_type": "stream",
     "text": [
      "--- runtime for data initialization:\t\t0.0016942024230957031\n",
      "--- runtime for data transfer (host->device):\t0.010498762130737305\n",
      "--- runtime for data preprocessing:\t\t0.0029783248901367188\n",
      "--- runtime for kernel execution:\t\t0.018871068954467773\n",
      "--- runtime for data transfer (device->host):\t0.002629995346069336\n",
      "512 1280 256 256\n"
     ]
    },
    {
     "name": "stderr",
     "output_type": "stream",
     "text": [
      "\n",
      "Processing blocks of tile::  69%|██████▉   | 44/64.0 [01:47<00:49,  2.48s/it]\u001b[A"
     ]
    },
    {
     "name": "stdout",
     "output_type": "stream",
     "text": [
      "--- runtime for data initialization:\t\t0.0017251968383789062\n",
      "--- runtime for data transfer (host->device):\t0.010656356811523438\n",
      "--- runtime for data preprocessing:\t\t0.003025531768798828\n",
      "--- runtime for kernel execution:\t\t0.019017696380615234\n",
      "--- runtime for data transfer (device->host):\t0.002784252166748047\n",
      "768 1280 256 256\n"
     ]
    },
    {
     "name": "stderr",
     "output_type": "stream",
     "text": [
      "\n",
      "Processing blocks of tile::  70%|███████   | 45/64.0 [01:50<00:47,  2.49s/it]\u001b[A"
     ]
    },
    {
     "name": "stdout",
     "output_type": "stream",
     "text": [
      "--- runtime for data initialization:\t\t0.0016977787017822266\n",
      "--- runtime for data transfer (host->device):\t0.010546684265136719\n",
      "--- runtime for data preprocessing:\t\t0.002993345260620117\n",
      "--- runtime for kernel execution:\t\t0.018991708755493164\n",
      "--- runtime for data transfer (device->host):\t0.002644062042236328\n",
      "1024 1280 256 256\n"
     ]
    },
    {
     "name": "stderr",
     "output_type": "stream",
     "text": [
      "\n",
      "Processing blocks of tile::  72%|███████▏  | 46/64.0 [01:52<00:44,  2.48s/it]\u001b[A"
     ]
    },
    {
     "name": "stdout",
     "output_type": "stream",
     "text": [
      "--- runtime for data initialization:\t\t0.0017049312591552734\n",
      "--- runtime for data transfer (host->device):\t0.010580062866210938\n",
      "--- runtime for data preprocessing:\t\t0.002990245819091797\n",
      "--- runtime for kernel execution:\t\t0.019016265869140625\n",
      "--- runtime for data transfer (device->host):\t0.002629995346069336\n",
      "1280 1280 256 256\n"
     ]
    },
    {
     "name": "stderr",
     "output_type": "stream",
     "text": [
      "\n",
      "Processing blocks of tile::  73%|███████▎  | 47/64.0 [01:54<00:41,  2.46s/it]\u001b[A"
     ]
    },
    {
     "name": "stdout",
     "output_type": "stream",
     "text": [
      "--- runtime for data initialization:\t\t0.0017075538635253906\n",
      "--- runtime for data transfer (host->device):\t0.010597944259643555\n",
      "--- runtime for data preprocessing:\t\t0.0030128955841064453\n",
      "--- runtime for kernel execution:\t\t0.018767118453979492\n",
      "--- runtime for data transfer (device->host):\t0.002809286117553711\n",
      "1536 1280 256 256\n"
     ]
    },
    {
     "name": "stderr",
     "output_type": "stream",
     "text": [
      "\n",
      "Processing blocks of tile::  75%|███████▌  | 48/64.0 [01:57<00:39,  2.45s/it]\u001b[A"
     ]
    },
    {
     "name": "stdout",
     "output_type": "stream",
     "text": [
      "--- runtime for data initialization:\t\t0.0017261505126953125\n",
      "--- runtime for data transfer (host->device):\t0.010528087615966797\n",
      "--- runtime for data preprocessing:\t\t0.002981901168823242\n",
      "--- runtime for kernel execution:\t\t0.018990039825439453\n",
      "--- runtime for data transfer (device->host):\t0.0028030872344970703\n",
      "1792 1280 256 256\n"
     ]
    },
    {
     "name": "stderr",
     "output_type": "stream",
     "text": [
      "\n",
      "Processing blocks of tile::  77%|███████▋  | 49/64.0 [01:59<00:36,  2.44s/it]\u001b[A"
     ]
    },
    {
     "name": "stdout",
     "output_type": "stream",
     "text": [
      "--- runtime for data initialization:\t\t0.001794576644897461\n",
      "--- runtime for data transfer (host->device):\t0.010558843612670898\n",
      "--- runtime for data preprocessing:\t\t0.0029981136322021484\n",
      "--- runtime for kernel execution:\t\t0.018990516662597656\n",
      "--- runtime for data transfer (device->host):\t0.0026297569274902344\n",
      "0 1536 256 256\n"
     ]
    },
    {
     "name": "stderr",
     "output_type": "stream",
     "text": [
      "\n",
      "Processing blocks of tile::  78%|███████▊  | 50/64.0 [02:02<00:34,  2.48s/it]\u001b[A"
     ]
    },
    {
     "name": "stdout",
     "output_type": "stream",
     "text": [
      "--- runtime for data initialization:\t\t0.0016970634460449219\n",
      "--- runtime for data transfer (host->device):\t0.010457992553710938\n",
      "--- runtime for data preprocessing:\t\t0.002983570098876953\n",
      "--- runtime for kernel execution:\t\t0.018815040588378906\n",
      "--- runtime for data transfer (device->host):\t0.0027952194213867188\n",
      "256 1536 256 256\n"
     ]
    },
    {
     "name": "stderr",
     "output_type": "stream",
     "text": [
      "\n",
      "Processing blocks of tile::  80%|███████▉  | 51/64.0 [02:04<00:32,  2.49s/it]\u001b[A"
     ]
    },
    {
     "name": "stdout",
     "output_type": "stream",
     "text": [
      "--- runtime for data initialization:\t\t0.0017011165618896484\n",
      "--- runtime for data transfer (host->device):\t0.010495185852050781\n",
      "--- runtime for data preprocessing:\t\t0.0029892921447753906\n",
      "--- runtime for kernel execution:\t\t0.018843889236450195\n",
      "--- runtime for data transfer (device->host):\t0.002794027328491211\n",
      "512 1536 256 256\n"
     ]
    },
    {
     "name": "stderr",
     "output_type": "stream",
     "text": [
      "\n",
      "Processing blocks of tile::  81%|████████▏ | 52/64.0 [02:07<00:29,  2.50s/it]\u001b[A"
     ]
    },
    {
     "name": "stdout",
     "output_type": "stream",
     "text": [
      "--- runtime for data initialization:\t\t0.0017366409301757812\n",
      "--- runtime for data transfer (host->device):\t0.010429620742797852\n",
      "--- runtime for data preprocessing:\t\t0.0030035972595214844\n",
      "--- runtime for kernel execution:\t\t0.01883220672607422\n",
      "--- runtime for data transfer (device->host):\t0.0028002262115478516\n",
      "768 1536 256 256\n"
     ]
    },
    {
     "name": "stderr",
     "output_type": "stream",
     "text": [
      "\n",
      "Processing blocks of tile::  83%|████████▎ | 53/64.0 [02:09<00:27,  2.49s/it]\u001b[A"
     ]
    },
    {
     "name": "stdout",
     "output_type": "stream",
     "text": [
      "--- runtime for data initialization:\t\t0.0017552375793457031\n",
      "--- runtime for data transfer (host->device):\t0.010438919067382812\n",
      "--- runtime for data preprocessing:\t\t0.0029861927032470703\n",
      "--- runtime for kernel execution:\t\t0.01885223388671875\n",
      "--- runtime for data transfer (device->host):\t0.002786397933959961\n",
      "1024 1536 256 256\n"
     ]
    },
    {
     "name": "stderr",
     "output_type": "stream",
     "text": [
      "\n",
      "Processing blocks of tile::  84%|████████▍ | 54/64.0 [02:12<00:24,  2.45s/it]\u001b[A"
     ]
    },
    {
     "name": "stdout",
     "output_type": "stream",
     "text": [
      "--- runtime for data initialization:\t\t0.0017459392547607422\n",
      "--- runtime for data transfer (host->device):\t0.010575294494628906\n",
      "--- runtime for data preprocessing:\t\t0.0030205249786376953\n",
      "--- runtime for kernel execution:\t\t0.01879262924194336\n",
      "--- runtime for data transfer (device->host):\t0.002805948257446289\n",
      "1280 1536 256 256\n"
     ]
    },
    {
     "name": "stderr",
     "output_type": "stream",
     "text": [
      "\n",
      "Processing blocks of tile::  86%|████████▌ | 55/64.0 [02:14<00:21,  2.44s/it]\u001b[A"
     ]
    },
    {
     "name": "stdout",
     "output_type": "stream",
     "text": [
      "--- runtime for data initialization:\t\t0.0017056465148925781\n",
      "--- runtime for data transfer (host->device):\t0.010506629943847656\n",
      "--- runtime for data preprocessing:\t\t0.002998828887939453\n",
      "--- runtime for kernel execution:\t\t0.0189974308013916\n",
      "--- runtime for data transfer (device->host):\t0.0028221607208251953\n",
      "1536 1536 256 256\n"
     ]
    },
    {
     "name": "stderr",
     "output_type": "stream",
     "text": [
      "\n",
      "Processing blocks of tile::  88%|████████▊ | 56/64.0 [02:16<00:19,  2.41s/it]\u001b[A"
     ]
    },
    {
     "name": "stdout",
     "output_type": "stream",
     "text": [
      "--- runtime for data initialization:\t\t0.0016810894012451172\n",
      "--- runtime for data transfer (host->device):\t0.010499238967895508\n",
      "--- runtime for data preprocessing:\t\t0.0030202865600585938\n",
      "--- runtime for kernel execution:\t\t0.018814563751220703\n",
      "--- runtime for data transfer (device->host):\t0.002789735794067383\n",
      "1792 1536 256 256\n"
     ]
    },
    {
     "name": "stderr",
     "output_type": "stream",
     "text": [
      "\n",
      "Processing blocks of tile::  89%|████████▉ | 57/64.0 [02:19<00:16,  2.41s/it]\u001b[A"
     ]
    },
    {
     "name": "stdout",
     "output_type": "stream",
     "text": [
      "--- runtime for data initialization:\t\t0.0017173290252685547\n",
      "--- runtime for data transfer (host->device):\t0.010402441024780273\n",
      "--- runtime for data preprocessing:\t\t0.002990245819091797\n",
      "--- runtime for kernel execution:\t\t0.018845081329345703\n",
      "--- runtime for data transfer (device->host):\t0.0028181076049804688\n",
      "0 1792 256 256\n"
     ]
    }
   ],
   "source": [
    "x_block = y_block = block_size_chooser.result\n",
    "\n",
    "\n",
    "for data_list in run_dict:\n",
    "    # loading bar\n",
    "    with tqdm(total=len(data_list)) as pbar1:\n",
    "        \n",
    "        \n",
    "        save_location = base_output_dir + \"/\" + data_list\n",
    "        if not os.path.exists(save_location):\n",
    "            os.makedirs(save_location)\n",
    "        \n",
    "\n",
    "        # loop over tile(s) in the data_list\n",
    "        for counter, tile in enumerate(run_dict[data_list]):\n",
    "            pbar1.set_description(\"Processing tile %s out of %s\" % (counter+1, len(run_dict[data_list])) )\n",
    "\n",
    "            tile.set_bfast_parameters(start_monitor = start_monitor, \n",
    "                                         end_monitor = end_monitor,\n",
    "                                         start_hist = start_hist,\n",
    "                                         freq = freq,\n",
    "                                         k = k,\n",
    "                                         hfrac = hfrac,\n",
    "                                         trend = trend,\n",
    "                                         level = level,\n",
    "                                         backend=backend,\n",
    "                                         verbose=verbose,\n",
    "                                         device_id=device_id)\n",
    "\n",
    "            tile.get_bfast_parameters()\n",
    "\n",
    "            tile.loop_blocks(x_block_size = x_block,\n",
    "                                y_block_size = y_block)\n",
    "\n",
    "            tile.log_all_output(output_dir_name=save_location)\n",
    "\n",
    "            pbar1.update(counter)\n",
    "\n",
    "    pbar1.close()\n"
   ]
  },
  {
   "cell_type": "code",
   "execution_count": 16,
   "metadata": {},
   "outputs": [
    {
     "name": "stdout",
     "output_type": "stream",
     "text": [
      "minus2s:  0\n",
      "minus1s:  80\n",
      "total 112\n",
      "percentage cells that lacked enough data for finding means or breaks: 0.0\n",
      "percentage cells where breaks were found: 28.57142857142857\n",
      "amount of nans in means:  96\n",
      "{2012: 0, 2013: 9, 2014: 38, 2015: 70, 2016: 111, 2017: 152, 2018: 191, 2019: 225, 2020: 262}\n"
     ]
    },
    {
     "name": "stderr",
     "output_type": "stream",
     "text": [
      "/home/dven/bfastmonitor_cpu/dven/plotting_funcs.py:127: MatplotlibDeprecationWarning: Passing parameters norm and vmin/vmax simultaneously is deprecated since 3.3 and will become an error two minor releases later. Please pass vmin/vmax directly to the norm when creating it.\n",
      "  im = axes.imshow(breaks_plot_years, cmap=cmap, vmin=0, vmax=bins, norm=norm)\n"
     ]
    },
    {
     "data": {
      "image/png": "[encoded data removed]",
      "text/plain": [
       "<Figure size 432x72 with 1 Axes>"
      ]
     },
     "metadata": {
      "needs_background": "light"
     },
     "output_type": "display_data"
    },
    {
     "data": {
      "image/png": "[encoded data removed]",
      "text/plain": [
       "<Figure size 432x72 with 1 Axes>"
      ]
     },
     "metadata": {
      "needs_background": "light"
     },
     "output_type": "display_data"
    },
    {
     "data": {
      "image/png": "[encoded data removed]",
      "text/plain": [
       "<Figure size 432x72 with 1 Axes>"
      ]
     },
     "metadata": {
      "needs_background": "light"
     },
     "output_type": "display_data"
    },
    {
     "data": {
      "image/png": "[encoded data removed]",
      "text/plain": [
       "<Figure size 432x72 with 1 Axes>"
      ]
     },
     "metadata": {
      "needs_background": "light"
     },
     "output_type": "display_data"
    },
    {
     "data": {
      "image/png": "[encoded data removed]",
      "text/plain": [
       "<Figure size 432x72 with 1 Axes>"
      ]
     },
     "metadata": {
      "needs_background": "light"
     },
     "output_type": "display_data"
    },
    {
     "data": {
      "image/png": "[encoded data removed]",
      "text/plain": [
       "<Figure size 3600x3600 with 2 Axes>"
      ]
     },
     "metadata": {
      "needs_background": "light"
     },
     "output_type": "display_data"
    },
    {
     "name": "stdout",
     "output_type": "stream",
     "text": [
      "min_lat  40.701497713586164\n",
      "max_lat  40.701497713586164\n",
      "min_lon  -8.420088821109099\n",
      "max_lon  -8.420088821109099\n"
     ]
    },
    {
     "data": {
      "image/png": "[encoded data removed]",
      "text/plain": [
       "<Figure size 432x72 with 1 Axes>"
      ]
     },
     "metadata": {
      "needs_background": "light"
     },
     "output_type": "display_data"
    }
   ],
   "source": [
    "for data_list in run_dict:\n",
    "    save_location = base_output_dir + \"/\" + data_list\n",
    "    \n",
    "    for tile in run_dict[data_list]:\n",
    "        tile.check_arrays(min_perc_lacking_data = 50)\n",
    "    \n",
    "    if len(run_dict[data_list]) > 1:\n",
    "        means, breaks = merge_tiles(run_dict[data_list],output_dir_name = save_location)\n",
    "    else:\n",
    "        means = run_dict[data_list][0].means_array\n",
    "        breaks = run_dict[data_list][0].breaks_array\n",
    "    \n",
    "    save_plot(means, save_location, save_name = \"all_magnitudes\")\n",
    "    save_plot(breaks, save_location, save_name = \"all_breaks\")\n",
    "    \n",
    "    # select only negative magnitudes\n",
    "    no_breaks_indices = (breaks == -1)\n",
    "    means[no_breaks_indices] = np.nan\n",
    "    means[means > 0] = np.nan # only want negative mean changes\n",
    "\n",
    "    breaks_plot = breaks.astype(np.float)\n",
    "    breaks_plot[breaks == -2] = np.nan\n",
    "    breaks_plot[breaks == -1] = np.nan\n",
    "    breaks_plot[means >= 0] = np.nan\n",
    "\n",
    "    save_plot(means, save_location, save_name = \"all_negative_magnitudes\")\n",
    "    save_plot(breaks_plot, save_location, save_name = \"all_negative_breaks\")\n",
    "\n",
    "    dates_monitor = []\n",
    "    dates = run_dict[data_list][0].cropped_dates\n",
    "\n",
    "    # collect dates for monitor period\n",
    "    for i in range(len(dates)):\n",
    "        if start_monitor <= dates[i]:\n",
    "            dates_monitor.append(dates[i])\n",
    "    dates_array = np.array(dates_monitor) # dates_array is the dates that are in the monitoring period\n",
    "    \n",
    "    breaks_plot_years, idx_starts, ticklist = classify_output(start_monitor,end_monitor,breaks_plot,dates_array)\n",
    "    #save_plot(breaks_plot_years, save_location, save_name = \"all_negative_breaks_years\")\n",
    "    \n",
    "    plot_output_matplotlib(idx_starts,breaks_plot_years,ticklist)\n",
    "    #save_plot(breaks_plot_years, save_location, save_name = \"breaks_per_year\")\n",
    "    \n",
    "    set_corners(save_location, run_dict[data_list])\n",
    "    \n",
    "    \n",
    "    "
   ]
  },
  {
   "cell_type": "code",
   "execution_count": 17,
   "metadata": {},
   "outputs": [
    {
     "data": {
      "application/vnd.jupyter.widget-view+json": {
       "model_id": "3b5afa3730c24a5a8da30d5785d501f5",
       "version_major": 2,
       "version_minor": 0
      },
      "text/plain": [
       "interactive(children=(Dropdown(description='data to plot', index=1, layout=Layout(height='auto', width='500px'…"
      ]
     },
     "metadata": {},
     "output_type": "display_data"
    }
   ],
   "source": [
    "display(plot_display_data_chooser)"
   ]
  },
  {
   "cell_type": "code",
   "execution_count": 18,
   "metadata": {},
   "outputs": [
    {
     "name": "stdout",
     "output_type": "stream",
     "text": [
      "Portugal_small_1\n",
      "1\n"
     ]
    },
    {
     "data": {
      "text/html": [
       "<div style=\"width:100%;\"><div style=\"position:relative;width:100%;height:0;padding-bottom:60%;\"><span style=\"color:#565656\">Make this Notebook Trusted to load map: File -> Trust Notebook</span><iframe src=\"about:blank\" style=\"position:absolute;width:100%;height:100%;left:0;top:0;border:none !important;\" data-html=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 onload=\"this.contentDocument.open();this.contentDocument.write(atob(this.getAttribute('data-html')));this.contentDocument.close();\" allowfullscreen webkitallowfullscreen mozallowfullscreen></iframe></div></div>"
      ],
      "text/plain": [
       "<folium.folium.Map at 0x7f6b20063908>"
      ]
     },
     "execution_count": 18,
     "metadata": {},
     "output_type": "execute_result"
    }
   ],
   "source": [
    "m = merge_plots(data_list = run_dict[data_list], base_output_dir=base_output_dir,plot_name=plot_display_data_chooser.result + \".png\")\n",
    "m.save(output_dir + \"/\" + output_directory_chooser.result + \"_\" + plot_display_data_chooser.result + \".html\")\n",
    "m"
   ]
  }
 ],
 "metadata": {
  "kernelspec": {
   "display_name": "Python 3",
   "language": "python",
   "name": "python3"
  },
  "language_info": {
   "codemirror_mode": {
    "name": "ipython",
    "version": 3
   },
   "file_extension": ".py",
   "mimetype": "text/x-python",
   "name": "python",
   "nbconvert_exporter": "python",
   "pygments_lexer": "ipython3",
   "version": "3.6.9"
  }
 },
 "nbformat": 4,
 "nbformat_minor": 4
}
