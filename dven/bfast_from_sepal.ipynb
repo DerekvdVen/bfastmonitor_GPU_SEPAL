{
 "cells": [
  {
   "cell_type": "markdown",
   "metadata": {},
   "source": [
    "# Bfastmonitor CPU using Python\n",
    "## This is bfastmonitor Python"
   ]
  },
  {
   "cell_type": "code",
   "execution_count": 1,
   "metadata": {},
   "outputs": [],
   "source": [
    "import os\n",
    "import wget\n",
    "import numpy as np\n",
    "from datetime import datetime\n",
    "\n",
    "from bfast import BFASTMonitor\n",
    "from bfast.utils import crop_data_dates\n",
    "\n",
    "import copy\n",
    "\n",
    "import matplotlib\n",
    "import matplotlib.pyplot as plt\n",
    "\n",
    "#from sar so extra\n",
    "import csv\n",
    "from shutil import copyfile\n",
    "import pandas as pd\n",
    "from osgeo import gdal\n",
    "\n",
    "import time\n",
    "import ipywidgets as widgets\n",
    "\n",
    "import ipyfilechooser"
   ]
  },
  {
   "cell_type": "code",
   "execution_count": 2,
   "metadata": {},
   "outputs": [],
   "source": [
    "%matplotlib inline"
   ]
  },
  {
   "cell_type": "code",
   "execution_count": 3,
   "metadata": {},
   "outputs": [
    {
     "data": {
      "application/vnd.jupyter.widget-view+json": {
       "model_id": "62bcb8167f4b4bc9b23c406a46f112d5",
       "version_major": 2,
       "version_minor": 0
      },
      "text/plain": [
       "interactive(children=(Combobox(value='', description='Select your time series folder: ', options=('gfc', 'Time…"
      ]
     },
     "metadata": {},
     "output_type": "display_data"
    },
    {
     "data": {
      "application/vnd.jupyter.widget-view+json": {
       "model_id": "c1d1689c6ac84c36a4b09c86eea9816a",
       "version_major": 2,
       "version_minor": 0
      },
      "text/plain": [
       "interactive(children=(Text(value='', description='Data storage name:', placeholder='temp', style=DescriptionSt…"
      ]
     },
     "metadata": {},
     "output_type": "display_data"
    }
   ],
   "source": [
    "from os.path import expanduser\n",
    "path = expanduser(\"~\")\n",
    "\n",
    "def f(time_series):\n",
    "    return(time_series)\n",
    "def g(directory):\n",
    "    return(directory)\n",
    "\n",
    "time_series_folder = widgets.interactive(f, \n",
    "                        time_series=widgets.Combobox(options=os.listdir(path + \"/downloads/\"),\n",
    "                                                     description=\"Select your time series folder: \",\n",
    "                                                     style = {'description_width': 'initial'},\n",
    "                                                     placeholder = \"Time_series_...\"))\n",
    "                            \n",
    "data_directory_name = widgets.interactive(g, \n",
    "                        directory=widgets.Text(description=\"Data storage name:\", \n",
    "                                               style = {'description_width': 'initial'},\n",
    "                                               placeholder = \"temp\"))\n",
    "\n",
    "display(time_series_folder)\n",
    "display(data_directory_name)\n",
    "\n",
    "\n",
    "# how to have the thing wait untill a user fills in the time series"
   ]
  },
  {
   "cell_type": "code",
   "execution_count": 5,
   "metadata": {},
   "outputs": [
    {
     "name": "stdout",
     "output_type": "stream",
     "text": [
      "Chosen timeseries:  /home/dven/downloads/Time_series_2020-07-07_11-51-35/1/\n",
      "Defaulting to data directory name \"temp\" \n"
     ]
    }
   ],
   "source": [
    "timeseries_directory = time_series_folder.result\n",
    "data_directory = data_directory_name.result\n",
    "\n",
    "if not time_series_folder.result:\n",
    "    raise Exception(\"No timeseries selected. Please choose a timeseries folder above. \")\n",
    "else:\n",
    "    timeseries_directory = path + \"/downloads/\" + time_series_folder.result + \"/1/\"\n",
    "    print(\"Chosen timeseries: \", timeseries_directory)\n",
    "\n",
    "\n",
    "if not data_directory_name.result:\n",
    "    print(\"Defaulting to data directory name \\\"temp\\\" \")\n",
    "    data_directory = \"temp\"\n",
    "else:\n",
    "    data_directory = data_directory_name.result\n",
    "    print(\"Data directory name:\", data_directory)\n"
   ]
  },
  {
   "cell_type": "code",
   "execution_count": 6,
   "metadata": {},
   "outputs": [],
   "source": [
    "# download and parse input data\n",
    "ifile_meta = \"./data/\"+ data_directory + \"/dates.txt\"\n",
    "ifile_data = \"./data/\"+ data_directory + \"/data.npy\"\n",
    "\n",
    "# create dirs for stoing the data\n",
    "if not os.path.isdir(\"data/\" + data_directory):\n",
    "    os.makedirs(\"data/\" + data_directory)\n",
    "\n",
    "if not os.path.exists(ifile_meta):\n",
    "    copyfile(timeseries_directory + \"dates.csv\", ifile_meta)\n"
   ]
  },
  {
   "cell_type": "code",
   "execution_count": 7,
   "metadata": {},
   "outputs": [],
   "source": [
    "# Copy the data over as a npy file \n",
    "if not os.path.exists(ifile_data):\n",
    "    start_time = time.time()\n",
    "    image_file = os.path.join(timeseries_directory, 'stack.vrt') ## never start os path with a slash\n",
    "    \n",
    "    img = gdal.Open(image_file)\n",
    "    \n",
    "    cols = img.RasterXSize\n",
    "    rows = img.RasterYSize\n",
    "    print(f\"Number of  bands: {img.RasterCount}\")\n",
    "    print(f\"Number of pixels: {cols}\")\n",
    "    print(f\"Number of  lines: {rows}\")\n",
    "    \n",
    "    # Rewriting NANS to -32668 took 398.04383850097656 seconds for /home/dven/downloads/Time_series_2020-07-06_16-31-46/1/stack.vrt\n",
    "    raster_stack = img.ReadAsArray()\n",
    "    print(raster_stack)\n",
    "#    where_are_nans = np.isnan(raster_stack)\n",
    "#    raster_stack[where_are_nans] = -32768\n",
    "\n",
    "    end_time = time.time()\n",
    "\n",
    "\n",
    "    print(\"Transferring datatook {} seconds.\".format(end_time - start_time))\n",
    "    \n",
    "    np.save(ifile_data, raster_stack)"
   ]
  },
  {
   "cell_type": "code",
   "execution_count": 8,
   "metadata": {},
   "outputs": [
    {
     "data": {
      "text/plain": [
       "datetime.datetime(2018, 1, 1, 0, 0)"
      ]
     },
     "execution_count": 8,
     "metadata": {},
     "output_type": "execute_result"
    }
   ],
   "source": [
    "# parameters\n",
    "k = 3\n",
    "freq = 365\n",
    "trend = False\n",
    "hfrac = 0.25\n",
    "level = 0.05\n",
    "start_hist = datetime(2002, 1, 1)\n",
    "start_monitor = datetime(2012, 1, 1)\n",
    "end_monitor = datetime(2018, 1, 1)\n",
    "position = (100,100)\n",
    "\n",
    "end_monitor"
   ]
  },
  {
   "cell_type": "code",
   "execution_count": 9,
   "metadata": {},
   "outputs": [],
   "source": [
    "#Fabians code\n",
    "data_orig = np.load(ifile_data)\n",
    "with open(ifile_meta) as f:\n",
    "    dates_list = f.read().split('\\n')\n",
    "    dates = [datetime.strptime(d, '%Y-%m-%d') for d in dates_list if len(d) > 0]\n"
   ]
  },
  {
   "cell_type": "code",
   "execution_count": 10,
   "metadata": {},
   "outputs": [
    {
     "name": "stdout",
     "output_type": "stream",
     "text": [
      "startdate 2004-01-19 00:00:00\n"
     ]
    },
    {
     "data": {
      "application/vnd.jupyter.widget-view+json": {
       "model_id": "bb314711e5a7454d83613bfc604bb07d",
       "version_major": 2,
       "version_minor": 0
      },
      "text/plain": [
       "interactive(children=(SelectionRangeSlider(description='Select the monitoring date range: ', index=(0, 5984), …"
      ]
     },
     "metadata": {},
     "output_type": "display_data"
    }
   ],
   "source": [
    "start_date = dates[100] # 0 or 10 does not work.. 100 did\n",
    "print(\"startdate\",start_date)\n",
    "end_date = dates[-1]\n",
    "\n",
    "def h(y):\n",
    "    return(y)\n",
    "\n",
    "pandas_dates = pd.date_range(start_date, end_date, freq='D')\n",
    "\n",
    "options = [(date.strftime(' %d %b %Y '), date) for date in pandas_dates]\n",
    "index = (0, len(options)-1)\n",
    "\n",
    "\n",
    "start_end_date = widgets.interactive(h,\n",
    "                                     y=widgets.SelectionRangeSlider(\n",
    "                                            options=options,\n",
    "                                            index=index,\n",
    "                                            description='Select the monitoring date range: ',\n",
    "                                            style = {'description_width': 'initial'},\n",
    "                                            orientation='horizontal',\n",
    "                                            layout={'width': '800px',\"height\":\"200px\"}))\n",
    "display(start_end_date)"
   ]
  },
  {
   "cell_type": "code",
   "execution_count": 18,
   "metadata": {},
   "outputs": [
    {
     "name": "stdout",
     "output_type": "stream",
     "text": [
      "start monitor:  2012-12-03 00:00:00\n",
      "end monitor:  2020-06-07 00:00:00\n"
     ]
    }
   ],
   "source": [
    "start_monitor, end_monitor = start_end_date.result\n",
    "print(\"start monitor: \",start_monitor)\n",
    "print(\"end monitor: \",end_monitor)\n"
   ]
  },
  {
   "cell_type": "code",
   "execution_count": 19,
   "metadata": {},
   "outputs": [
    {
     "name": "stdout",
     "output_type": "stream",
     "text": [
      "First date: 2002-01-29 00:00:00\n",
      "Last date: 2020-06-07 00:00:00\n",
      "Shape of data array: (473, 8, 14)\n"
     ]
    }
   ],
   "source": [
    "data, dates = crop_data_dates(data_orig, dates, start_hist, end_monitor)\n",
    "print(\"First date: {}\".format(dates[0]))\n",
    "print(\"Last date: {}\".format(dates[-1]))\n",
    "print(\"Shape of data array: {}\".format(data.shape))\n",
    "\n",
    "# memory errors, work in chunks? \n",
    "\n"
   ]
  },
  {
   "cell_type": "code",
   "execution_count": 20,
   "metadata": {
    "scrolled": true
   },
   "outputs": [
    {
     "name": "stdout",
     "output_type": "stream",
     "text": [
      "Processing row 0\n",
      "Processing row 1\n",
      "Processing row 2\n",
      "Processing row 3\n",
      "Processing row 4\n",
      "Processing row 5\n",
      "Processing row 6\n",
      "Processing row 7\n",
      "Fitting model took 1.2766058444976807 seconds.\n"
     ]
    }
   ],
   "source": [
    "# fit BFAST using the CPU implementation (single pixel)\n",
    "from numpy import nan\n",
    "\n",
    "start_time = time.time()\n",
    "\n",
    "\n",
    "model = BFASTMonitor(\n",
    "            start_monitor,\n",
    "            freq=freq,\n",
    "            k=k,\n",
    "            hfrac=hfrac,\n",
    "            trend=trend,\n",
    "            level=level,\n",
    "            backend='python',\n",
    "            verbose=1\n",
    "            )\n",
    "\n",
    "# only apply on a small subset\n",
    "data = data[:,:20,:20]\n",
    "model.fit(data, dates, nan_value=nan) #changed to nan\n",
    "\n",
    "end_time = time.time()\n",
    "print(\"Fitting model took {} seconds.\".format(end_time - start_time))\n"
   ]
  },
  {
   "cell_type": "code",
   "execution_count": 21,
   "metadata": {
    "scrolled": true
   },
   "outputs": [],
   "source": [
    "# select only negative magnitudes\n",
    "breaks = model.breaks # index of date that has a break in dates\n",
    "means = model.means # magnitudes of breaks\n",
    "\n",
    "no_breaks_indices = (breaks == -1)\n",
    "means[no_breaks_indices] = 0\n",
    "means[means > 0] = 0 # only want negative mean changes\n",
    "\n",
    "breaks_plot = breaks.astype(np.float)\n",
    "breaks_plot[breaks == -2] = np.nan\n",
    "breaks_plot[breaks == -1] = np.nan\n",
    "breaks_plot[means >= 0] = np.nan\n"
   ]
  },
  {
   "cell_type": "code",
   "execution_count": 22,
   "metadata": {},
   "outputs": [],
   "source": [
    "dates_monitor = []\n",
    "\n",
    "# collect dates for monitor period\n",
    "for i in range(len(dates)):\n",
    "    if start_monitor <= dates[i]:\n",
    "        dates_monitor.append(dates[i])\n",
    "dates_array = np.array(dates_monitor) # dates_array is the dates that are in the monitoring period\n"
   ]
  },
  {
   "cell_type": "code",
   "execution_count": 23,
   "metadata": {},
   "outputs": [
    {
     "name": "stdout",
     "output_type": "stream",
     "text": [
      "{2012: 0, 2013: 0, 2014: 29, 2015: 61, 2016: 102, 2017: 143, 2018: 182, 2019: 216}\n",
      "['2012', '2013', '2014', '2015', '2016', '2017', '2018', '2019']\n",
      "[[ 5.  2.  4.  4.  4.  4.  2.  2.  1.  4.  1.  1.  4.  4.]\n",
      " [ 4.  1.  4.  4.  6.  4.  7.  7.  3.  4.  3.  3.  3.  4.]\n",
      " [ 3.  3.  3.  3. nan  4.  1.  1.  1.  3.  3.  3.  3.  1.]\n",
      " [ 4.  3.  3.  3.  4.  2.  2.  2.  2.  2.  2.  2.  3.  1.]\n",
      " [ 4.  0.  0.  0.  4.  3.  2.  2.  2.  4.  2.  2.  1.  1.]\n",
      " [ 0.  0.  3.  3.  3.  3.  3.  3.  4.  4.  3.  3.  2.  2.]\n",
      " [ 0.  4.  4.  4.  3. nan  4.  4.  1.  1.  3.  3.  0.  3.]\n",
      " [nan  4.  4.  4.  1. nan  3.  3.  2.  2.  0.  0.  0.  4.]]\n"
     ]
    }
   ],
   "source": [
    "idx_starts = {}\n",
    "\n",
    "# this gives the index of all the data points in the year and after\n",
    "for year in range(start_monitor.year,end_monitor.year):\n",
    "    idx_starts[year] = np.argmax((dates_array >= datetime(year, 1, 1)) > False) \n",
    "    \n",
    "print(idx_starts)\n",
    "breaks_plot_years = copy.deepcopy(breaks_plot)\n",
    "\n",
    "#classifying for plotting\n",
    "ticklist=[]\n",
    "for idx, year in enumerate(idx_starts):\n",
    "    ticklist.append(str(year))\n",
    "\n",
    "    if idx == 0:\n",
    "        breaks_plot_years[breaks_plot <= idx_starts[year+1]] = 0\n",
    "        continue\n",
    "    \n",
    "    if idx == len(idx_starts)-1:\n",
    "        breaks_plot_years[np.where(idx_starts[year] < breaks_plot)] = len(idx_starts)-1\n",
    "        continue\n",
    "        \n",
    "    breaks_plot_years[np.where(np.logical_and(idx_starts[year] < breaks_plot, breaks_plot <= idx_starts[year+1]))] = idx\n",
    "print(ticklist)\n",
    "print(breaks_plot_years)"
   ]
  },
  {
   "cell_type": "code",
   "execution_count": 24,
   "metadata": {},
   "outputs": [
    {
     "data": {
      "image/png": "[encoded data removed]",
      "text/plain": [
       "<Figure size 720x720 with 2 Axes>"
      ]
     },
     "metadata": {
      "needs_background": "light"
     },
     "output_type": "display_data"
    }
   ],
   "source": [
    "bins = len(idx_starts)\n",
    "\n",
    "cmap = plt.get_cmap(\"rainbow\")\n",
    "cmaplist = [cmap(i) for i in range(cmap.N)]\n",
    "cmap = cmap.from_list('Custom cmap', cmaplist, cmap.N)\n",
    "\n",
    "bounds = np.linspace(0, bins-1, bins) #third number is the amount of bins in the colorbar 0=0, 6 = ncolors, 7= nyears\n",
    "norm = matplotlib.colors.BoundaryNorm(bounds, cmap.N)\n",
    "\n",
    "fig, axes = plt.subplots(nrows=1, ncols=1, figsize=(10, 10))\n",
    "im = axes.imshow(breaks_plot_years, cmap=cmap, vmin=0, vmax=bins, norm=norm)\n",
    "fig.subplots_adjust(right=0.8)\n",
    "cbar_ax = fig.add_axes([0.85, 0.15, 0.05, 0.7])\n",
    "fig.colorbar(im, cax=cbar_ax, ticks=range(bins))\n",
    "labels = cbar_ax.set_yticklabels(ticklist)\n",
    "\n",
    "plt.savefig(\"./picture.png\")\n",
    "plt.show()\n"
   ]
  },
  {
   "cell_type": "code",
   "execution_count": null,
   "metadata": {},
   "outputs": [],
   "source": []
  },
  {
   "cell_type": "code",
   "execution_count": null,
   "metadata": {},
   "outputs": [],
   "source": [
    "# idx_start_2010 = np.argmax((dates_array >= datetime(2010, 1, 1)) > False) \n",
    "# idx_start_2011 = np.argmax((dates_array >= datetime(2011, 1, 1)) > False) # count how many dates do not come after 2011\n",
    "# idx_start_2012 = np.argmax((dates_array >= datetime(2012, 1, 1)) > False) # this gives the index of the date starting in \n",
    "# idx_start_2013 = np.argmax((dates_array >= datetime(2013, 1, 1)) > False) # the respective year\n",
    "# idx_start_2014 = np.argmax((dates_array >= datetime(2014, 1, 1)) > False)\n",
    "# idx_start_2015 = np.argmax((dates_array >= datetime(2015, 1, 1)) > False)\n",
    "# idx_start_2016 = np.argmax((dates_array >= datetime(2016, 1, 1)) > False)\n",
    "\n",
    "# breaks_plot_years = copy.deepcopy(breaks_plot)\n",
    "# breaks_plot_years[breaks_plot <= idx_start_2011] = 0\n",
    "# breaks_plot_years[np.where(np.logical_and(idx_start_2011 < breaks_plot, breaks_plot <= idx_start_2012))] = 1\n",
    "# breaks_plot_years[np.where(np.logical_and(idx_start_2012 < breaks_plot, breaks_plot <= idx_start_2013))] = 2\n",
    "# breaks_plot_years[np.where(np.logical_and(idx_start_2013 < breaks_plot, breaks_plot <= idx_start_2014))] = 3\n",
    "# breaks_plot_years[np.where(np.logical_and(idx_start_2014 < breaks_plot, breaks_plot <= idx_start_2015))] = 4\n",
    "# breaks_plot_years[np.where(np.logical_and(idx_start_2015 < breaks_plot, breaks_plot <= idx_start_2016))] = 5\n",
    "# breaks_plot_years[np.where(idx_start_2016 < breaks_plot)] = 6\n",
    "# print(breaks_plot_years)\n",
    "\n",
    "# cmap = plt.get_cmap(\"rainbow\")\n",
    "# cmaplist = [cmap(i) for i in range(cmap.N)]\n",
    "# cmap = cmap.from_list('Custom cmap', cmaplist, cmap.N)\n",
    "\n",
    "# bounds = np.linspace(0, 6, 7) #third number is the amount of bins in the colorbar 0=0, 6 = ncolors, 7= nyears\n",
    "# norm = matplotlib.colors.BoundaryNorm(bounds, cmap.N)\n",
    "\n",
    "# fig, axes = plt.subplots(nrows=1, ncols=1, figsize=(10, 10))\n",
    "# im = axes.imshow(breaks_plot_years, cmap=cmap, vmin=0, vmax=6, norm=norm)\n",
    "# fig.subplots_adjust(right=0.8)\n",
    "# cbar_ax = fig.add_axes([0.85, 0.15, 0.05, 0.7])\n",
    "# fig.colorbar(im, cax=cbar_ax, ticks=[0, 1, 2, 3, 4, 5, 6])\n",
    "# labels = cbar_ax.set_yticklabels(['2010', '2011', '2012', '2013', '2014', '2015', '2016'])\n",
    "\n",
    "# plt.savefig(\"./picture.png\")\n",
    "# plt.show()\n"
   ]
  },
  {
   "cell_type": "code",
   "execution_count": null,
   "metadata": {},
   "outputs": [],
   "source": [
    "#big\n",
    "# ts_dir = \"downloads/Time_series_2020-07-06_16-31-46/\"\n",
    "# country_dir = \"temp\"\n",
    "# download_dir = \"1/\"\n",
    "\n",
    "#ts_dir = \"downloads/Time_series_2020-07-07_11-51-35/\"\n",
    "#country_dir = \"portugal_small\"\n",
    "#download_dir = \"1/\"\n",
    "\n",
    "#os.listdir(path + \"/downloads/\")\n",
    "#widgets.interact(f, time_series=widgets.Combobox(options=os.listdir(path + \"/downloads/\")));\n",
    "\n",
    "# def f(widget_start_monitor,widget_end_monitor):\n",
    "#     return widget_start_monitor, widget_end_monitor\n",
    "\n",
    "# #widgets.interact(f, widget_start_monitor=widgets.Combobox(options=dates_list, value=dates_list[1]));\n",
    "\n",
    "\n",
    "\n",
    "# layout = widgets.Layout(width='500px', height='100px') #set width and height\n",
    "\n",
    "\n",
    "# def print_date_range(date_range):\n",
    "#     return(date_range)\n",
    "\n",
    "# start_end_date = widgets.interactive(print_date_range,\n",
    "#     date_range=widgets.SelectionRangeSlider(options = dates_list, \n",
    "#                              max = dates_list[-3],\n",
    "#                              description=\"Monitoring Period\",\n",
    "#                              style = {'description_width': 'initial'},\n",
    "#                              display=\"flex\",\n",
    "#                              align_items=\"stretch\",\n",
    "#                              layout = layout))\n",
    "\n",
    "# display(start_end_date)\n",
    "\n",
    "\n",
    "\n",
    "             "
   ]
  }
 ],
 "metadata": {
  "kernelspec": {
   "display_name": "bfastmonitor_cpu",
   "language": "python",
   "name": "bfastmonitor_cpu"
  },
  "language_info": {
   "codemirror_mode": {
    "name": "ipython",
    "version": 3
   },
   "file_extension": ".py",
   "mimetype": "text/x-python",
   "name": "python",
   "nbconvert_exporter": "python",
   "pygments_lexer": "ipython3",
   "version": "3.6.9"
  }
 },
 "nbformat": 4,
 "nbformat_minor": 4
}
