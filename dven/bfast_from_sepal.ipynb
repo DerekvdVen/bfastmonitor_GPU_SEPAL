{
 "cells": [
  {
   "cell_type": "markdown",
   "metadata": {},
   "source": [
    "# Bfastmonitor CPU using Python\n",
    "## This is bfastmonitor Python"
   ]
  },
  {
   "cell_type": "code",
   "execution_count": 49,
   "metadata": {},
   "outputs": [],
   "source": [
    "import os\n",
    "import wget\n",
    "import numpy as np\n",
    "from datetime import datetime\n",
    "\n",
    "from bfast import BFASTMonitor\n",
    "from bfast.utils import crop_data_dates\n",
    "\n",
    "import copy\n",
    "\n",
    "import matplotlib\n",
    "import matplotlib.pyplot as plt\n",
    "\n",
    "#from sar so extra\n",
    "import csv\n",
    "from shutil import copyfile\n",
    "import pandas as pd\n",
    "from osgeo import gdal\n",
    "from osgeo import gdal_array\n",
    "from osgeo import osr\n",
    "\n",
    "import time\n",
    "import ipywidgets as widgets\n",
    "\n",
    "import ipyfilechooser\n",
    "import folium"
   ]
  },
  {
   "cell_type": "code",
   "execution_count": 11,
   "metadata": {},
   "outputs": [],
   "source": [
    "%matplotlib inline"
   ]
  },
  {
   "cell_type": "code",
   "execution_count": null,
   "metadata": {},
   "outputs": [],
   "source": []
  },
  {
   "cell_type": "markdown",
   "metadata": {},
   "source": [
    "## Select the time series data folder in your downloads folder. Alternatively, select a different time series folder using ipyfilechooser"
   ]
  },
  {
   "cell_type": "code",
   "execution_count": 13,
   "metadata": {},
   "outputs": [
    {
     "data": {
      "application/vnd.jupyter.widget-view+json": {
       "model_id": "14b8b0932cfe4559a6163680932716ac",
       "version_major": 2,
       "version_minor": 0
      },
      "text/plain": [
       "interactive(children=(Combobox(value='', description='Select your time series folder: ', options=('gfc', 'Time…"
      ]
     },
     "metadata": {},
     "output_type": "display_data"
    },
    {
     "data": {
      "application/vnd.jupyter.widget-view+json": {
       "model_id": "f4b1a0c880d543779d139ddf29623361",
       "version_major": 2,
       "version_minor": 0
      },
      "text/plain": [
       "interactive(children=(Text(value='', description='Data storage name:', placeholder='temp', style=DescriptionSt…"
      ]
     },
     "metadata": {},
     "output_type": "display_data"
    }
   ],
   "source": [
    "from os.path import expanduser\n",
    "path = expanduser(\"~\")\n",
    "\n",
    "def f(time_series):\n",
    "    return(time_series)\n",
    "def g(directory):\n",
    "    return(directory)\n",
    "\n",
    "time_series_folder = widgets.interactive(f, \n",
    "                        time_series=widgets.Combobox(options=os.listdir(path + \"/downloads/\"),\n",
    "                                                     description=\"Select your time series folder: \",\n",
    "                                                     style = {'description_width': 'initial'},\n",
    "                                                     placeholder = \"Time_series_...\"))\n",
    "                            \n",
    "data_directory_name = widgets.interactive(g, \n",
    "                        directory=widgets.Text(description=\"Data storage name:\", \n",
    "                                               style = {'description_width': 'initial'},\n",
    "                                               placeholder = \"temp\"))\n",
    "\n",
    "display(time_series_folder)\n",
    "display(data_directory_name)\n",
    "\n",
    "\n",
    "# how to have the thing wait untill a user fills in the time series"
   ]
  },
  {
   "cell_type": "code",
   "execution_count": 14,
   "metadata": {},
   "outputs": [
    {
     "name": "stdout",
     "output_type": "stream",
     "text": [
      "Chosen timeseries:  /home/dven/downloads/Time_series_2020-07-07_11-51-35/1/\n",
      "Data directory name: temp\n"
     ]
    }
   ],
   "source": [
    "timeseries_directory = time_series_folder.result\n",
    "data_directory = data_directory_name.result\n",
    "\n",
    "if not time_series_folder.result:\n",
    "    raise Exception(\"No timeseries selected. Please choose a timeseries folder above. \")\n",
    "else:\n",
    "    timeseries_directory = path + \"/downloads/\" + time_series_folder.result + \"/1/\"\n",
    "    print(\"Chosen timeseries: \", timeseries_directory)\n",
    "\n",
    "\n",
    "if not data_directory_name.result:\n",
    "    print(\"Defaulting to data directory name \\\"temp\\\" \")\n",
    "    data_directory = \"temp\"\n",
    "else:\n",
    "    data_directory = data_directory_name.result\n",
    "    print(\"Data directory name:\", data_directory)\n"
   ]
  },
  {
   "cell_type": "code",
   "execution_count": 15,
   "metadata": {},
   "outputs": [],
   "source": [
    "# download and parse input data\n",
    "ifile_meta = \"./data/\"+ data_directory + \"/dates.txt\"\n",
    "ifile_data = \"./data/\"+ data_directory + \"/data.npy\"\n",
    "\n",
    "# create dirs for stoing the data\n",
    "if not os.path.isdir(\"data/\" + data_directory):\n",
    "    os.makedirs(\"data/\" + data_directory)\n",
    "\n",
    "if not os.path.exists(ifile_meta):\n",
    "    copyfile(timeseries_directory + \"dates.csv\", ifile_meta)\n"
   ]
  },
  {
   "cell_type": "code",
   "execution_count": 16,
   "metadata": {
    "scrolled": true
   },
   "outputs": [
    {
     "name": "stdout",
     "output_type": "stream",
     "text": [
      "Number of  bands: 529\n",
      "Number of pixels: 14\n",
      "Number of  lines: 8\n",
      "[[[  nan   nan   nan ...   nan   nan   nan]\n",
      "  [  nan   nan   nan ...   nan   nan   nan]\n",
      "  [  nan   nan   nan ...   nan   nan   nan]\n",
      "  ...\n",
      "  [  nan   nan   nan ...   nan   nan   nan]\n",
      "  [  nan   nan   nan ...   nan   nan   nan]\n",
      "  [  nan   nan   nan ...   nan   nan   nan]]\n",
      "\n",
      " [[  nan   nan 4404. ... 4889. 5484. 5262.]\n",
      "  [2664. 4704. 5130. ... 4883. 5417. 4990.]\n",
      "  [4290. 4478. 5214. ... 3311. 4354. 5417.]\n",
      "  ...\n",
      "  [3764. 2992. 4639. ... 2728. 3763. 3928.]\n",
      "  [3477. 3607. 5000. ... 3940. 4382. 5344.]\n",
      "  [  nan 4862. 4737. ... 4122. 4382. 4747.]]\n",
      "\n",
      " [[ 968. 1864. 3644. ... 3850. 3816. 3236.]\n",
      "  [2064. 3031. 3391. ... 3644. 3986. 3514.]\n",
      "  [2430. 2759. 3083. ... 2581. 3083. 3724.]\n",
      "  ...\n",
      "  [1651. 2071. 3010. ... 3037. 3031. 2805.]\n",
      "  [1855. 2784. 3171. ... 3267. 4156. 3425.]\n",
      "  [  nan 2933. 2318. ... 3269. 4024. 3007.]]\n",
      "\n",
      " ...\n",
      "\n",
      " [[  nan 3181.   nan ... 4412. 3087. 3205.]\n",
      "  [3497. 3291.   nan ... 4090. 3707. 3819.]\n",
      "  [  nan   nan 2366. ... 3114. 2759. 3481.]\n",
      "  ...\n",
      "  [2710.   nan   nan ...   nan 3222. 2045.]\n",
      "  [  nan   nan 2782. ... 3171. 3772.   nan]\n",
      "  [  nan 2497. 2497. ... 3265. 4065. 2935.]]\n",
      "\n",
      " [[2126. 3937. 3840. ... 4234. 3417. 2498.]\n",
      "  [2800. 3301. 2206. ... 3762. 3820. 3699.]\n",
      "  [4655. 3289. 2155. ... 2941. 2772. 3388.]\n",
      "  ...\n",
      "  [2638. 3273. 3673. ... 2981. 3097. 2060.]\n",
      "  [2695. 2955. 2677. ... 2991. 3617. 1785.]\n",
      "  [  nan 2052. 2356. ... 3369. 4479.   nan]]\n",
      "\n",
      " [[  nan   nan   nan ...   nan   nan   nan]\n",
      "  [  nan   nan   nan ...   nan   nan   nan]\n",
      "  [  nan   nan   nan ...   nan   nan   nan]\n",
      "  ...\n",
      "  [  nan   nan   nan ...   nan   nan   nan]\n",
      "  [  nan   nan   nan ...   nan   nan   nan]\n",
      "  [  nan   nan   nan ...   nan   nan   nan]]]\n",
      "Transferring datamtook 4.107423782348633 seconds.\n"
     ]
    }
   ],
   "source": [
    "# Copy the data over as a npy file \n",
    "if not os.path.exists(ifile_data):\n",
    "    start_time = time.time()\n",
    "    image_file = os.path.join(timeseries_directory, 'stack.vrt') ## never start os path with a slash\n",
    "    \n",
    "    img = gdal.Open(image_file)\n",
    "    \n",
    "    cols = img.RasterXSize\n",
    "    rows = img.RasterYSize\n",
    "    print(f\"Number of  bands: {img.RasterCount}\")\n",
    "    print(f\"Number of pixels: {cols}\")\n",
    "    print(f\"Number of  lines: {rows}\")\n",
    "    \n",
    "    # Rewriting NANS to -32668 took 398.04383850097656 seconds for /home/dven/downloads/Time_series_2020-07-06_16-31-46/1/stack.vrt\n",
    "    raster_stack = img.ReadAsArray()\n",
    "    print(raster_stack)\n",
    "#    where_are_nans = np.isnan(raster_stack)\n",
    "#    raster_stack[where_are_nans] = -32768\n",
    "\n",
    "    end_time = time.time()\n",
    "\n",
    "\n",
    "    print(\"Transferring datamtook {} seconds.\".format(end_time - start_time))\n",
    "    \n",
    "    np.save(ifile_data, raster_stack)"
   ]
  },
  {
   "cell_type": "code",
   "execution_count": 52,
   "metadata": {},
   "outputs": [
    {
     "name": "stdout",
     "output_type": "stream",
     "text": [
      "<osgeo.gdal.Dataset; proxy of <Swig Object of type 'GDALDatasetShadow *' at 0x7f4f573c9c60> >\n",
      "(-8.420088821109099, 0.0002694945852358568, 0.0, 40.701497713586164, 0.0, -0.0002694945852358568)\n"
     ]
    }
   ],
   "source": [
    "#print(dir(img))\n",
    "print(img)\n",
    "#print(img.GetProjection()) # WGS 84\n",
    "print(img.GetGeoTransform()) # pixelsizes are the [1] and [5]\n",
    "xpixelsize = img.GetGeoTransform()[1]\n",
    "ypixelsize = img.GetGeoTransform()[5]\n",
    "longitude = img.GetGeoTransform()[0]\n",
    "latitude = img.GetGeoTransform()[3]\n",
    "cols = img.RasterXSize\n",
    "rows = img.RasterYSize\n",
    "#print(cols,rows)\n",
    "#folium.folium.Map(location = (latitude,longitude),tiles = \"Stamen Terrain\")\n",
    "\n",
    "geotransform = img.GetGeoTransform()\n",
    "\n"
   ]
  },
  {
   "cell_type": "code",
   "execution_count": 53,
   "metadata": {},
   "outputs": [
    {
     "data": {
      "text/plain": [
       "datetime.datetime(2018, 1, 1, 0, 0)"
      ]
     },
     "execution_count": 53,
     "metadata": {},
     "output_type": "execute_result"
    }
   ],
   "source": [
    "# parameters\n",
    "k = 3\n",
    "freq = 365\n",
    "trend = False\n",
    "hfrac = 0.25\n",
    "level = 0.05\n",
    "start_hist = datetime(2002, 1, 1)\n",
    "start_monitor = datetime(2012, 1, 1)\n",
    "end_monitor = datetime(2018, 1, 1)\n",
    "position = (100,100)\n",
    "\n",
    "end_monitor"
   ]
  },
  {
   "cell_type": "code",
   "execution_count": 54,
   "metadata": {},
   "outputs": [],
   "source": [
    "#Fabians code\n",
    "data_orig = np.load(ifile_data)\n",
    "with open(ifile_meta) as f:\n",
    "    dates_list = f.read().split('\\n')\n",
    "    dates = [datetime.strptime(d, '%Y-%m-%d') for d in dates_list if len(d) > 0]\n"
   ]
  },
  {
   "cell_type": "code",
   "execution_count": 55,
   "metadata": {},
   "outputs": [
    {
     "name": "stdout",
     "output_type": "stream",
     "text": [
      "start monitoring period 2004-01-19 00:00:00\n"
     ]
    },
    {
     "data": {
      "application/vnd.jupyter.widget-view+json": {
       "model_id": "9eeb4e7cf04d46928601cfc394892a5f",
       "version_major": 2,
       "version_minor": 0
      },
      "text/plain": [
       "interactive(children=(SelectionRangeSlider(description='Select the monitoring date range: ', index=(0, 5984), …"
      ]
     },
     "metadata": {},
     "output_type": "display_data"
    }
   ],
   "source": [
    "start_date = dates[100] # 0 or 10 does not work.. 100 did\n",
    "print(\"start monitoring period\",start_date)\n",
    "end_date = dates[-1]\n",
    "\n",
    "def h(y):\n",
    "    return(y)\n",
    "\n",
    "pandas_dates = pd.date_range(start_date, end_date, freq='D')\n",
    "\n",
    "options = [(date.strftime(' %d %b %Y '), date) for date in pandas_dates]\n",
    "index = (0, len(options)-1)\n",
    "\n",
    "\n",
    "start_end_date = widgets.interactive(h,\n",
    "                                     y=widgets.SelectionRangeSlider(\n",
    "                                            options=options,\n",
    "                                            index=index,\n",
    "                                            description='Select the monitoring date range: ',\n",
    "                                            style = {'description_width': 'initial'},\n",
    "                                            orientation='horizontal',\n",
    "                                            layout={'width': '800px',\"height\":\"200px\"}))\n",
    "display(start_end_date)"
   ]
  },
  {
   "cell_type": "code",
   "execution_count": 56,
   "metadata": {},
   "outputs": [
    {
     "name": "stdout",
     "output_type": "stream",
     "text": [
      "start monitor:  2013-11-25 00:00:00\n",
      "end monitor:  2020-06-07 00:00:00\n"
     ]
    }
   ],
   "source": [
    "start_monitor, end_monitor = start_end_date.result\n",
    "print(\"start monitor: \",start_monitor)\n",
    "print(\"end monitor: \",end_monitor)\n"
   ]
  },
  {
   "cell_type": "code",
   "execution_count": 57,
   "metadata": {},
   "outputs": [
    {
     "name": "stdout",
     "output_type": "stream",
     "text": [
      "First date: 2002-01-29 00:00:00\n",
      "Last date: 2020-06-07 00:00:00\n",
      "Shape of data array: (473, 8, 14)\n"
     ]
    }
   ],
   "source": [
    "data, dates = crop_data_dates(data_orig, dates, start_hist, end_monitor)\n",
    "print(\"First date: {}\".format(dates[0]))\n",
    "print(\"Last date: {}\".format(dates[-1]))\n",
    "print(\"Shape of data array: {}\".format(data.shape))\n",
    "\n",
    "\n"
   ]
  },
  {
   "cell_type": "code",
   "execution_count": 58,
   "metadata": {
    "scrolled": true
   },
   "outputs": [
    {
     "name": "stdout",
     "output_type": "stream",
     "text": [
      "Processing row 0\n",
      "Processing row 1\n",
      "Processing row 2\n",
      "Processing row 3\n",
      "Processing row 4\n",
      "Processing row 5\n",
      "Processing row 6\n",
      "Processing row 7\n",
      "Fitting model took 1.0408897399902344 seconds.\n"
     ]
    }
   ],
   "source": [
    "# fit BFAST using the CPU implementation (single pixel)\n",
    "from numpy import nan\n",
    "\n",
    "start_time = time.time()\n",
    "\n",
    "\n",
    "model = BFASTMonitor(\n",
    "            start_monitor,\n",
    "            freq=freq,\n",
    "            k=k,\n",
    "            hfrac=hfrac,\n",
    "            trend=trend,\n",
    "            level=level,\n",
    "            backend='python',\n",
    "            verbose=1\n",
    "            )\n",
    "\n",
    "# only apply on a small subset\n",
    "data = data[:,:20,:20]\n",
    "model.fit(data, dates, nan_value=nan) #changed to nan\n",
    "\n",
    "end_time = time.time()\n",
    "print(\"Fitting model took {} seconds.\".format(end_time - start_time))\n"
   ]
  },
  {
   "cell_type": "code",
   "execution_count": 59,
   "metadata": {
    "scrolled": true
   },
   "outputs": [],
   "source": [
    "# select only negative magnitudes\n",
    "breaks = model.breaks # index of date that has a break in dates\n",
    "means = model.means # magnitudes of breaks\n",
    "\n",
    "no_breaks_indices = (breaks == -1)\n",
    "means[no_breaks_indices] = 0\n",
    "means[means > 0] = 0 # only want negative mean changes\n",
    "\n",
    "breaks_plot = breaks.astype(np.float)\n",
    "breaks_plot[breaks == -2] = np.nan\n",
    "breaks_plot[breaks == -1] = np.nan\n",
    "breaks_plot[means >= 0] = np.nan\n"
   ]
  },
  {
   "cell_type": "code",
   "execution_count": 60,
   "metadata": {},
   "outputs": [],
   "source": [
    "dates_monitor = []\n",
    "\n",
    "# collect dates for monitor period\n",
    "for i in range(len(dates)):\n",
    "    if start_monitor <= dates[i]:\n",
    "        dates_monitor.append(dates[i])\n",
    "dates_array = np.array(dates_monitor) # dates_array is the dates that are in the monitoring period\n"
   ]
  },
  {
   "cell_type": "code",
   "execution_count": 61,
   "metadata": {},
   "outputs": [
    {
     "name": "stdout",
     "output_type": "stream",
     "text": [
      "{2013: 0, 2014: 4, 2015: 36, 2016: 77, 2017: 118, 2018: 157, 2019: 191}\n",
      "['2013', '2014', '2015', '2016', '2017', '2018', '2019']\n",
      "[[ 3.  4.  2.  2.  2.  1.  6.  6.  2.  2.  1.  1.  2.  2.]\n",
      " [ 2.  0.  2.  2.  4.  1.  4.  4.  2.  2.  0.  0.  0.  1.]\n",
      " [ 1.  2.  1.  1.  3.  3.  2.  2.  1.  2.  1.  1.  0.  1.]\n",
      " [ 2.  1.  0.  0.  2.  0.  0.  0.  0.  2.  0.  0.  1.  2.]\n",
      " [ 1.  0.  0.  0.  2.  1.  0.  0.  0.  2.  0.  0.  0.  0.]\n",
      " [ 1.  1.  1.  1.  1.  2.  1.  1.  1.  2.  0.  0.  0.  1.]\n",
      " [ 2.  2.  2.  2.  0.  0.  2.  2.  2.  1.  1.  1.  0.  1.]\n",
      " [nan  2.  2.  2.  0. nan  1.  1.  0.  0.  1.  1.  2.  2.]]\n"
     ]
    }
   ],
   "source": [
    "idx_starts = {}\n",
    "\n",
    "# this gives the index of all the data points in the year and after\n",
    "for year in range(start_monitor.year,end_monitor.year):\n",
    "    idx_starts[year] = np.argmax((dates_array >= datetime(year, 1, 1)) > False) \n",
    "    \n",
    "print(idx_starts)\n",
    "breaks_plot_years = copy.deepcopy(breaks_plot)\n",
    "\n",
    "#classifying for plotting\n",
    "ticklist=[]\n",
    "for idx, year in enumerate(idx_starts):\n",
    "    ticklist.append(str(year))\n",
    "\n",
    "    if idx == 0:\n",
    "        breaks_plot_years[breaks_plot <= idx_starts[year+1]] = 0\n",
    "        continue\n",
    "    \n",
    "    if idx == len(idx_starts)-1:\n",
    "        breaks_plot_years[np.where(idx_starts[year] < breaks_plot)] = len(idx_starts)-1\n",
    "        continue\n",
    "        \n",
    "    breaks_plot_years[np.where(np.logical_and(idx_starts[year] < breaks_plot, breaks_plot <= idx_starts[year+1]))] = idx\n",
    "print(ticklist)\n",
    "print(breaks_plot_years)"
   ]
  },
  {
   "cell_type": "code",
   "execution_count": 84,
   "metadata": {},
   "outputs": [
    {
     "data": {
      "image/png": "[encoded data removed]",
      "text/plain": [
       "<Figure size 720x720 with 2 Axes>"
      ]
     },
     "metadata": {
      "needs_background": "light"
     },
     "output_type": "display_data"
    }
   ],
   "source": [
    "bins = len(idx_starts)\n",
    "\n",
    "cmap = plt.get_cmap(\"rainbow\")\n",
    "cmaplist = [cmap(i) for i in range(cmap.N)]\n",
    "cmap = cmap.from_list('Custom cmap', cmaplist, cmap.N)\n",
    "\n",
    "bounds = np.linspace(0, bins-1, bins) #third number is the amount of bins in the colorbar 0=0, 6 = ncolors, 7= nyears\n",
    "norm = matplotlib.colors.BoundaryNorm(bounds, cmap.N)\n",
    "\n",
    "fig, axes = plt.subplots(nrows=1, ncols=1, figsize=(10, 10))\n",
    "im = axes.imshow(breaks_plot_years, cmap=cmap, vmin=0, vmax=bins, norm=norm)\n",
    "fig.subplots_adjust(right=0.8)\n",
    "cbar_ax = fig.add_axes([0.85, 0.15, 0.05, 0.7])\n",
    "fig.colorbar(im, cax=cbar_ax, ticks=range(bins))\n",
    "labels = cbar_ax.set_yticklabels(ticklist)\n",
    "\n",
    "plt.savefig(\"./picture.png\")\n",
    "plt.show()\n"
   ]
  },
  {
   "cell_type": "code",
   "execution_count": 85,
   "metadata": {},
   "outputs": [
    {
     "data": {
      "text/plain": [
       "<osgeo.gdal.Dataset; proxy of <Swig Object of type 'GDALDatasetShadow *' at 0x7f4f54113ea0> >"
      ]
     },
     "execution_count": 85,
     "metadata": {},
     "output_type": "execute_result"
    }
   ],
   "source": [
    "#this doesn't work yet\n",
    "\n",
    "output_raster = gdal.GetDriverByName('GTiff').Create('myraster.tif',cols, rows, 1 ,gdal.GDT_Float32)  # Open the file\n",
    "\n",
    "output_raster.SetGeoTransform(geotransform)  # Specify its coordinates\n",
    "srs = osr.SpatialReference()                 # Establish its coordinate encoding\n",
    "srs.ImportFromEPSG(4326)                     # This one specifies WGS84 lat long.\n",
    "                                             # Anyone know how to specify the \n",
    "                                             # IAU2000:49900 Mars encoding?\n",
    "output_raster.SetProjection( srs.ExportToWkt() )   # Exports the coordinate system \n",
    "                                                   # to the file\n",
    "output_raster.GetRasterBand(1).WriteArray(breaks_plot_years)   # Writes my array to the raster\n",
    "\n",
    "output_raster.FlushCache()\n",
    "\n",
    "output_raster"
   ]
  },
  {
   "cell_type": "code",
   "execution_count": 106,
   "metadata": {},
   "outputs": [
    {
     "name": "stdout",
     "output_type": "stream",
     "text": [
      "[[0.25       0.2        0.33333333 0.33333333 0.33333333 0.5\n",
      "  0.14285714 0.14285714 0.33333333 0.33333333 0.5        0.5\n",
      "  0.33333333 0.33333333]\n",
      " [0.33333333 1.         0.33333333 0.33333333 0.2        0.5\n",
      "  0.2        0.2        0.33333333 0.33333333 1.         1.\n",
      "  1.         0.5       ]\n",
      " [0.5        0.33333333 0.5        0.5        0.25       0.25\n",
      "  0.33333333 0.33333333 0.5        0.33333333 0.5        0.5\n",
      "  1.         0.5       ]\n",
      " [0.33333333 0.5        1.         1.         0.33333333 1.\n",
      "  1.         1.         1.         0.33333333 1.         1.\n",
      "  0.5        0.33333333]\n",
      " [0.5        1.         1.         1.         0.33333333 0.5\n",
      "  1.         1.         1.         0.33333333 1.         1.\n",
      "  1.         1.        ]\n",
      " [0.5        0.5        0.5        0.5        0.5        0.33333333\n",
      "  0.5        0.5        0.5        0.33333333 1.         1.\n",
      "  1.         0.5       ]\n",
      " [0.33333333 0.33333333 0.33333333 0.33333333 1.         1.\n",
      "  0.33333333 0.33333333 0.33333333 0.5        0.5        0.5\n",
      "  1.         0.5       ]\n",
      " [       nan 0.33333333 0.33333333 0.33333333 1.                nan\n",
      "  0.5        0.5        1.         1.         0.5        0.5\n",
      "  0.33333333 0.33333333]]\n"
     ]
    }
   ],
   "source": [
    "breaks_plot_years_norm = 1/(breaks_plot_years + 1)\n",
    "print(breaks_plot_years_norm)"
   ]
  },
  {
   "cell_type": "code",
   "execution_count": 107,
   "metadata": {},
   "outputs": [
    {
     "data": {
      "text/html": [
       "<div style=\"width:100%;\"><div style=\"position:relative;width:100%;height:0;padding-bottom:60%;\"><span style=\"color:#565656\">Make this Notebook Trusted to load map: File -> Trust Notebook</span><iframe src=\"about:blank\" style=\"position:absolute;width:100%;height:100%;left:0;top:0;border:none !important;\" data-html=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 onload=\"this.contentDocument.open();this.contentDocument.write(atob(this.getAttribute('data-html')));this.contentDocument.close();\" allowfullscreen webkitallowfullscreen mozallowfullscreen></iframe></div></div>"
      ],
      "text/plain": [
       "<folium.folium.Map at 0x7f4f4df22978>"
      ]
     },
     "execution_count": 107,
     "metadata": {},
     "output_type": "execute_result"
    }
   ],
   "source": [
    "m = folium.folium.Map(location = (latitude,longitude),tiles = \"Stamen Terrain\",zoom_start=14)\n",
    "\n",
    "folium.raster_layers.ImageOverlay(\n",
    "    image=breaks_plot_years_norm,\n",
    "    bounds=[[latitude, longitude], [latitude + rows*ypixelsize, longitude + cols*xpixelsize]],\n",
    "    colormap=cmap\n",
    ").add_to(m)\n",
    "\n",
    "m.save(os.path.join('ImageOverlay_4.html'))\n",
    "\n",
    "m"
   ]
  },
  {
   "cell_type": "code",
   "execution_count": null,
   "metadata": {},
   "outputs": [],
   "source": [
    "# idx_start_2010 = np.argmax((dates_array >= datetime(2010, 1, 1)) > False) \n",
    "# idx_start_2011 = np.argmax((dates_array >= datetime(2011, 1, 1)) > False) # count how many dates do not come after 2011\n",
    "# idx_start_2012 = np.argmax((dates_array >= datetime(2012, 1, 1)) > False) # this gives the index of the date starting in \n",
    "# idx_start_2013 = np.argmax((dates_array >= datetime(2013, 1, 1)) > False) # the respective year\n",
    "# idx_start_2014 = np.argmax((dates_array >= datetime(2014, 1, 1)) > False)\n",
    "# idx_start_2015 = np.argmax((dates_array >= datetime(2015, 1, 1)) > False)\n",
    "# idx_start_2016 = np.argmax((dates_array >= datetime(2016, 1, 1)) > False)\n",
    "\n",
    "# breaks_plot_years = copy.deepcopy(breaks_plot)\n",
    "# breaks_plot_years[breaks_plot <= idx_start_2011] = 0\n",
    "# breaks_plot_years[np.where(np.logical_and(idx_start_2011 < breaks_plot, breaks_plot <= idx_start_2012))] = 1\n",
    "# breaks_plot_years[np.where(np.logical_and(idx_start_2012 < breaks_plot, breaks_plot <= idx_start_2013))] = 2\n",
    "# breaks_plot_years[np.where(np.logical_and(idx_start_2013 < breaks_plot, breaks_plot <= idx_start_2014))] = 3\n",
    "# breaks_plot_years[np.where(np.logical_and(idx_start_2014 < breaks_plot, breaks_plot <= idx_start_2015))] = 4\n",
    "# breaks_plot_years[np.where(np.logical_and(idx_start_2015 < breaks_plot, breaks_plot <= idx_start_2016))] = 5\n",
    "# breaks_plot_years[np.where(idx_start_2016 < breaks_plot)] = 6\n",
    "# print(breaks_plot_years)\n",
    "\n",
    "# cmap = plt.get_cmap(\"rainbow\")\n",
    "# cmaplist = [cmap(i) for i in range(cmap.N)]\n",
    "# cmap = cmap.from_list('Custom cmap', cmaplist, cmap.N)\n",
    "\n",
    "# bounds = np.linspace(0, 6, 7) #third number is the amount of bins in the colorbar 0=0, 6 = ncolors, 7= nyears\n",
    "# norm = matplotlib.colors.BoundaryNorm(bounds, cmap.N)\n",
    "\n",
    "# fig, axes = plt.subplots(nrows=1, ncols=1, figsize=(10, 10))\n",
    "# im = axes.imshow(breaks_plot_years, cmap=cmap, vmin=0, vmax=6, norm=norm)\n",
    "# fig.subplots_adjust(right=0.8)\n",
    "# cbar_ax = fig.add_axes([0.85, 0.15, 0.05, 0.7])\n",
    "# fig.colorbar(im, cax=cbar_ax, ticks=[0, 1, 2, 3, 4, 5, 6])\n",
    "# labels = cbar_ax.set_yticklabels(['2010', '2011', '2012', '2013', '2014', '2015', '2016'])\n",
    "\n",
    "# plt.savefig(\"./picture.png\")\n",
    "# plt.show()\n"
   ]
  },
  {
   "cell_type": "code",
   "execution_count": null,
   "metadata": {},
   "outputs": [],
   "source": [
    "#big\n",
    "# ts_dir = \"downloads/Time_series_2020-07-06_16-31-46/\"\n",
    "# country_dir = \"temp\"\n",
    "# download_dir = \"1/\"\n",
    "\n",
    "#ts_dir = \"downloads/Time_series_2020-07-07_11-51-35/\"\n",
    "#country_dir = \"portugal_small\"\n",
    "#download_dir = \"1/\"\n",
    "\n",
    "#os.listdir(path + \"/downloads/\")\n",
    "#widgets.interact(f, time_series=widgets.Combobox(options=os.listdir(path + \"/downloads/\")));\n",
    "\n",
    "# def f(widget_start_monitor,widget_end_monitor):\n",
    "#     return widget_start_monitor, widget_end_monitor\n",
    "\n",
    "# #widgets.interact(f, widget_start_monitor=widgets.Combobox(options=dates_list, value=dates_list[1]));\n",
    "\n",
    "\n",
    "\n",
    "# layout = widgets.Layout(width='500px', height='100px') #set width and height\n",
    "\n",
    "\n",
    "# def print_date_range(date_range):\n",
    "#     return(date_range)\n",
    "\n",
    "# start_end_date = widgets.interactive(print_date_range,\n",
    "#     date_range=widgets.SelectionRangeSlider(options = dates_list, \n",
    "#                              max = dates_list[-3],\n",
    "#                              description=\"Monitoring Period\",\n",
    "#                              style = {'description_width': 'initial'},\n",
    "#                              display=\"flex\",\n",
    "#                              align_items=\"stretch\",\n",
    "#                              layout = layout))\n",
    "\n",
    "# display(start_end_date)\n",
    "\n",
    "\n",
    "\n",
    "             "
   ]
  }
 ],
 "metadata": {
  "kernelspec": {
   "display_name": "bfastmonitor_cpu",
   "language": "python",
   "name": "bfastmonitor_cpu"
  },
  "language_info": {
   "codemirror_mode": {
    "name": "ipython",
    "version": 3
   },
   "file_extension": ".py",
   "mimetype": "text/x-python",
   "name": "python",
   "nbconvert_exporter": "python",
   "pygments_lexer": "ipython3",
   "version": "3.6.9"
  }
 },
 "nbformat": 4,
 "nbformat_minor": 4
}
