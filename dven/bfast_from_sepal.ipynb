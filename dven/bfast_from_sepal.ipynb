{
 "cells": [
  {
   "cell_type": "markdown",
   "metadata": {},
   "source": [
    "# Bfastmonitor CPU using Python\n",
    "## This is bfastmonitor Python"
   ]
  },
  {
   "cell_type": "code",
   "execution_count": 1,
   "metadata": {},
   "outputs": [],
   "source": [
    "import os\n",
    "import wget\n",
    "import numpy as np\n",
    "from datetime import datetime\n",
    "\n",
    "from bfast import BFASTMonitor\n",
    "from bfast.utils import crop_data_dates\n",
    "\n",
    "import copy\n",
    "\n",
    "import matplotlib\n",
    "import matplotlib.pyplot as plt\n",
    "\n",
    "#from sar so extra\n",
    "import csv\n",
    "from shutil import copyfile\n",
    "import pandas as pd\n",
    "from osgeo import gdal\n",
    "from osgeo import gdal_array\n",
    "from osgeo import osr\n",
    "\n",
    "import time\n",
    "import ipywidgets as widgets\n",
    "\n",
    "from ipyfilechooser import FileChooser\n",
    "import folium\n",
    "\n",
    "#specific imports\n",
    "from functions import set_output_dir"
   ]
  },
  {
   "cell_type": "code",
   "execution_count": 2,
   "metadata": {},
   "outputs": [],
   "source": [
    "%matplotlib inline"
   ]
  },
  {
   "cell_type": "markdown",
   "metadata": {},
   "source": [
    "## Select a time series folder using ipyfilechooser. The standard download location is in downloads/time_series_name/[0,1,3]\n",
    "\n",
    "### Optional: select a name for your output folder. "
   ]
  },
  {
   "cell_type": "code",
   "execution_count": 3,
   "metadata": {},
   "outputs": [
    {
     "data": {
      "application/vnd.jupyter.widget-view+json": {
       "model_id": "d00e70e0a7e348e3bfefd8108d18dfe7",
       "version_major": 2,
       "version_minor": 0
      },
      "text/plain": [
       "FileChooser(path='/home/dven', filename='', show_hidden='False')"
      ]
     },
     "metadata": {},
     "output_type": "display_data"
    },
    {
     "data": {
      "application/vnd.jupyter.widget-view+json": {
       "model_id": "d56d0546491a44fca57359d2731ac7a2",
       "version_major": 2,
       "version_minor": 0
      },
      "text/plain": [
       "interactive(children=(Text(value='', description='Output storage name:', placeholder='output', style=Descripti…"
      ]
     },
     "metadata": {},
     "output_type": "display_data"
    }
   ],
   "source": [
    "from os.path import expanduser\n",
    "path = expanduser(\"~\")\n",
    "\n",
    "def g(directory):\n",
    "    return(directory)\n",
    "                          \n",
    "output_directory_chooser = widgets.interactive(g, \n",
    "                        directory=widgets.Text(description=\"Output storage name:\", \n",
    "                                               style = {'description_width': 'initial'},\n",
    "                                               placeholder = \"output\"))\n",
    "file_chooser = FileChooser(path)\n",
    "\n",
    "display(file_chooser)\n",
    "display(output_directory_chooser)\n",
    "\n"
   ]
  },
  {
   "cell_type": "code",
   "execution_count": 7,
   "metadata": {},
   "outputs": [
    {
     "name": "stdout",
     "output_type": "stream",
     "text": [
      "None\n",
      "Output directory name: derp\n"
     ]
    }
   ],
   "source": [
    "timeseries_directory = file_chooser.selected\n",
    "print(timeseries_directory)\n",
    "set_output_dir(output_directory_chooser)\n",
    "\n",
    "\n",
    "#timeseries_directory = \"/home/dven/downloads/Time_series_2020-07-10_13-33-30/\" #big (rwanda presumably)\n",
    "#timeseries_directory = \"/home/dven/downloads/Time_series_2020-07-07_11-51-35/1/\" #small"
   ]
  },
  {
   "cell_type": "code",
   "execution_count": 100,
   "metadata": {},
   "outputs": [
    {
     "name": "stdout",
     "output_type": "stream",
     "text": [
      "6457220347 bytes\n"
     ]
    }
   ],
   "source": [
    "def get_size(start_path):\n",
    "    total_size = 0\n",
    "    for dirpath, dirnames, filenames in os.walk(start_path):\n",
    "        for f in filenames:\n",
    "            fp = os.path.join(dirpath, f)\n",
    "            # skip if it is symbolic link\n",
    "            if not os.path.islink(fp):\n",
    "                total_size += os.path.getsize(fp)\n",
    "\n",
    "    return total_size\n",
    "\n",
    "print(get_size(start_path = timeseries_directory), 'bytes')\n",
    "\n",
    "# 4926249639 bytes gave a memory error for m16, m48 could handle this.. but it takes long.. didn't let it run\n",
    "# 6457220347 bytes 6.45 gb did not give a memory error for m16.. not sure why? maybe the new file structure? took 2334 seconds\n",
    "# which is like 39 minutes"
   ]
  },
  {
   "cell_type": "markdown",
   "metadata": {},
   "source": [
    "# Load in data"
   ]
  },
  {
   "cell_type": "code",
   "execution_count": 71,
   "metadata": {
    "scrolled": true
   },
   "outputs": [
    {
     "name": "stdout",
     "output_type": "stream",
     "text": [
      "Loading data took 4.472233533859253 seconds.\n"
     ]
    }
   ],
   "source": [
    "start_time = time.time()\n",
    "\n",
    "# set paths to data\n",
    "time_series_path = os.path.join(timeseries_directory, 'stack.vrt') ## never start os path with a slash\n",
    "dates_path = os.path.join(timeseries_directory, \"dates.csv\")\n",
    "\n",
    "# load in time series and its metadata\n",
    "time_series = gdal.Open(time_series_path)\n",
    "raster_stack = time_series.ReadAsArray() # crashes for large data sets\n",
    "\n",
    "#raster_stack = time_series.GetRasterBand(1).ReadAsArray() # get first date\n",
    "\n",
    "\n",
    "# Save time\n",
    "end_time = time.time()\n",
    "print(\"Loading data took {} seconds.\".format(end_time - start_time))\n",
    "\n",
    "# Loading data took 2334.7296249866486 seconds on m16\n",
    "# /home/dven/downloads/Time_series_2020-08-10_08-39-53_Rwanda/0/\n"
   ]
  },
  {
   "cell_type": "code",
   "execution_count": 60,
   "metadata": {},
   "outputs": [],
   "source": [
    "#np.save(\"./data/rwanda/data.npy\", raster_stack)\n"
   ]
  },
  {
   "cell_type": "markdown",
   "metadata": {},
   "source": [
    "# Store metadata"
   ]
  },
  {
   "cell_type": "code",
   "execution_count": 72,
   "metadata": {},
   "outputs": [
    {
     "name": "stdout",
     "output_type": "stream",
     "text": [
      "Number of  bands: 529\n",
      "Number of columns: 14\n",
      "Number of  rows: 8\n",
      "Pixel size: (0.0002694945852358568, -0.0002694945852358568)\n",
      "Latitude and longitude: (40.701497713586164, -8.420088821109099)\n"
     ]
    }
   ],
   "source": [
    "# Get metadata (geotransform contains )\n",
    "geotransform = time_series.GetGeoTransform()\n",
    "\n",
    "# Pixel size\n",
    "xpixelsize = time_series.GetGeoTransform()[1]\n",
    "ypixelsize = time_series.GetGeoTransform()[5]\n",
    "\n",
    "# Coordinates\n",
    "latitude = time_series.GetGeoTransform()[3]\n",
    "longitude = time_series.GetGeoTransform()[0]\n",
    "\n",
    "# Raster size\n",
    "cols = time_series.RasterXSize\n",
    "rows = time_series.RasterYSize\n",
    "\n",
    "# Print to console\n",
    "print(f\"Number of  bands: {time_series.RasterCount}\")\n",
    "print(f\"Number of columns: {cols}\")\n",
    "print(f\"Number of  rows: {rows}\")\n",
    "print(f\"Pixel size: {xpixelsize, ypixelsize}\")\n",
    "print(f\"Latitude and longitude: {latitude,longitude}\")"
   ]
  },
  {
   "cell_type": "code",
   "execution_count": 74,
   "metadata": {},
   "outputs": [
    {
     "data": {
      "text/plain": [
       "'GEOGCS[\"WGS 84\",DATUM[\"WGS_1984\",SPHEROID[\"WGS 84\",6378137,298.257223563,AUTHORITY[\"EPSG\",\"7030\"]],AUTHORITY[\"EPSG\",\"6326\"]],PRIMEM[\"Greenwich\",0],UNIT[\"degree\",0.0174532925199433,AUTHORITY[\"EPSG\",\"9122\"]],AXIS[\"Latitude\",NORTH],AXIS[\"Longitude\",EAST],AUTHORITY[\"EPSG\",\"4326\"]]'"
      ]
     },
     "execution_count": 74,
     "metadata": {},
     "output_type": "execute_result"
    }
   ],
   "source": [
    "#time_series.GetProjectionRef()"
   ]
  },
  {
   "cell_type": "code",
   "execution_count": 73,
   "metadata": {
    "scrolled": true
   },
   "outputs": [],
   "source": [
    "#Fabians code\n",
    "data_orig = raster_stack\n",
    "\n",
    "with open(dates_path) as f:\n",
    "    dates_list = f.read().split('\\n')\n",
    "    dates = [datetime.strptime(d, '%Y-%m-%d') for d in dates_list if len(d) > 0]"
   ]
  },
  {
   "cell_type": "markdown",
   "metadata": {},
   "source": [
    "# Set parameters"
   ]
  },
  {
   "cell_type": "code",
   "execution_count": 74,
   "metadata": {},
   "outputs": [
    {
     "name": "stdout",
     "output_type": "stream",
     "text": [
      "[datetime.datetime(2000, 1, 8, 0, 0), datetime.datetime(2000, 1, 24, 0, 0), datetime.datetime(2000, 3, 28, 0, 0), datetime.datetime(2000, 5, 15, 0, 0), datetime.datetime(2000, 7, 18, 0, 0), datetime.datetime(2000, 9, 4, 0, 0), datetime.datetime(2000, 10, 22, 0, 0), datetime.datetime(2000, 11, 7, 0, 0), datetime.datetime(2000, 11, 23, 0, 0), datetime.datetime(2000, 1, 16, 0, 0), datetime.datetime(2000, 3, 4, 0, 0), datetime.datetime(2000, 3, 20, 0, 0), datetime.datetime(2000, 4, 5, 0, 0), datetime.datetime(2000, 5, 7, 0, 0), datetime.datetime(2000, 5, 23, 0, 0), datetime.datetime(2000, 6, 8, 0, 0), datetime.datetime(2000, 6, 24, 0, 0), datetime.datetime(2000, 7, 10, 0, 0), datetime.datetime(2000, 7, 26, 0, 0), datetime.datetime(2000, 8, 11, 0, 0), datetime.datetime(2000, 8, 27, 0, 0), datetime.datetime(2000, 9, 12, 0, 0), datetime.datetime(2000, 10, 14, 0, 0), datetime.datetime(2000, 11, 15, 0, 0), datetime.datetime(2000, 12, 1, 0, 0), datetime.datetime(2001, 2, 11, 0, 0), datetime.datetime(2001, 2, 27, 0, 0), datetime.datetime(2001, 3, 15, 0, 0), datetime.datetime(2001, 4, 16, 0, 0), datetime.datetime(2001, 5, 18, 0, 0), datetime.datetime(2001, 6, 3, 0, 0), datetime.datetime(2001, 6, 19, 0, 0), datetime.datetime(2001, 7, 21, 0, 0), datetime.datetime(2001, 8, 6, 0, 0), datetime.datetime(2001, 8, 22, 0, 0), datetime.datetime(2001, 9, 7, 0, 0), datetime.datetime(2001, 11, 26, 0, 0), datetime.datetime(2001, 12, 12, 0, 0), datetime.datetime(2001, 12, 28, 0, 0), datetime.datetime(2001, 1, 2, 0, 0), datetime.datetime(2001, 2, 3, 0, 0), datetime.datetime(2001, 2, 19, 0, 0), datetime.datetime(2001, 3, 23, 0, 0), datetime.datetime(2001, 4, 8, 0, 0), datetime.datetime(2001, 5, 10, 0, 0), datetime.datetime(2001, 5, 26, 0, 0), datetime.datetime(2001, 6, 11, 0, 0), datetime.datetime(2001, 6, 27, 0, 0), datetime.datetime(2001, 7, 13, 0, 0), datetime.datetime(2001, 7, 29, 0, 0), datetime.datetime(2001, 8, 14, 0, 0), datetime.datetime(2001, 8, 30, 0, 0), datetime.datetime(2001, 9, 15, 0, 0), datetime.datetime(2001, 11, 2, 0, 0), datetime.datetime(2001, 12, 4, 0, 0), datetime.datetime(2001, 12, 20, 0, 0), datetime.datetime(2002, 1, 29, 0, 0), datetime.datetime(2002, 2, 14, 0, 0), datetime.datetime(2002, 3, 2, 0, 0), datetime.datetime(2002, 5, 21, 0, 0), datetime.datetime(2002, 6, 22, 0, 0), datetime.datetime(2002, 1, 5, 0, 0), datetime.datetime(2002, 1, 21, 0, 0), datetime.datetime(2002, 2, 6, 0, 0), datetime.datetime(2002, 2, 22, 0, 0), datetime.datetime(2002, 3, 10, 0, 0), datetime.datetime(2002, 3, 26, 0, 0), datetime.datetime(2002, 4, 11, 0, 0), datetime.datetime(2002, 4, 27, 0, 0), datetime.datetime(2002, 5, 29, 0, 0), datetime.datetime(2002, 6, 14, 0, 0), datetime.datetime(2002, 6, 30, 0, 0), datetime.datetime(2002, 7, 16, 0, 0), datetime.datetime(2002, 8, 1, 0, 0), datetime.datetime(2002, 8, 17, 0, 0), datetime.datetime(2002, 9, 2, 0, 0), datetime.datetime(2002, 10, 4, 0, 0), datetime.datetime(2002, 11, 5, 0, 0), datetime.datetime(2002, 11, 21, 0, 0), datetime.datetime(2002, 12, 7, 0, 0), datetime.datetime(2002, 12, 23, 0, 0), datetime.datetime(2003, 6, 25, 0, 0), datetime.datetime(2003, 7, 11, 0, 0), datetime.datetime(2003, 7, 27, 0, 0), datetime.datetime(2003, 8, 12, 0, 0), datetime.datetime(2003, 9, 13, 0, 0), datetime.datetime(2003, 9, 29, 0, 0), datetime.datetime(2003, 1, 24, 0, 0), datetime.datetime(2003, 2, 9, 0, 0), datetime.datetime(2003, 2, 25, 0, 0), datetime.datetime(2003, 3, 13, 0, 0), datetime.datetime(2003, 4, 14, 0, 0), datetime.datetime(2003, 4, 30, 0, 0), datetime.datetime(2003, 5, 16, 0, 0), datetime.datetime(2003, 8, 4, 0, 0), datetime.datetime(2003, 11, 8, 0, 0), datetime.datetime(2003, 11, 24, 0, 0), datetime.datetime(2003, 12, 10, 0, 0), datetime.datetime(2003, 12, 26, 0, 0), datetime.datetime(2004, 1, 3, 0, 0), datetime.datetime(2004, 1, 19, 0, 0), datetime.datetime(2004, 2, 4, 0, 0), datetime.datetime(2004, 2, 20, 0, 0), datetime.datetime(2004, 3, 7, 0, 0), datetime.datetime(2004, 4, 24, 0, 0), datetime.datetime(2004, 5, 10, 0, 0), datetime.datetime(2004, 6, 11, 0, 0), datetime.datetime(2004, 6, 27, 0, 0), datetime.datetime(2004, 7, 13, 0, 0), datetime.datetime(2004, 7, 29, 0, 0), datetime.datetime(2004, 8, 14, 0, 0), datetime.datetime(2004, 9, 15, 0, 0), datetime.datetime(2004, 11, 2, 0, 0), datetime.datetime(2004, 11, 18, 0, 0), datetime.datetime(2004, 12, 4, 0, 0), datetime.datetime(2004, 12, 20, 0, 0), datetime.datetime(2004, 2, 12, 0, 0), datetime.datetime(2004, 3, 15, 0, 0), datetime.datetime(2004, 6, 3, 0, 0), datetime.datetime(2004, 7, 21, 0, 0), datetime.datetime(2004, 8, 6, 0, 0), datetime.datetime(2004, 9, 23, 0, 0), datetime.datetime(2004, 11, 10, 0, 0), datetime.datetime(2004, 11, 26, 0, 0), datetime.datetime(2004, 12, 12, 0, 0), datetime.datetime(2005, 1, 21, 0, 0), datetime.datetime(2005, 2, 6, 0, 0), datetime.datetime(2005, 3, 10, 0, 0), datetime.datetime(2005, 3, 26, 0, 0), datetime.datetime(2005, 4, 27, 0, 0), datetime.datetime(2005, 5, 13, 0, 0), datetime.datetime(2005, 6, 14, 0, 0), datetime.datetime(2005, 6, 30, 0, 0), datetime.datetime(2005, 7, 16, 0, 0), datetime.datetime(2005, 8, 17, 0, 0), datetime.datetime(2005, 9, 18, 0, 0), datetime.datetime(2005, 10, 4, 0, 0), datetime.datetime(2005, 11, 5, 0, 0), datetime.datetime(2005, 3, 2, 0, 0), datetime.datetime(2005, 3, 18, 0, 0), datetime.datetime(2005, 5, 5, 0, 0), datetime.datetime(2005, 6, 6, 0, 0), datetime.datetime(2005, 7, 8, 0, 0), datetime.datetime(2005, 8, 25, 0, 0), datetime.datetime(2005, 11, 29, 0, 0), datetime.datetime(2005, 12, 15, 0, 0), datetime.datetime(2006, 2, 9, 0, 0), datetime.datetime(2006, 6, 1, 0, 0), datetime.datetime(2006, 7, 3, 0, 0), datetime.datetime(2006, 7, 19, 0, 0), datetime.datetime(2006, 8, 4, 0, 0), datetime.datetime(2006, 9, 5, 0, 0), datetime.datetime(2006, 10, 7, 0, 0), datetime.datetime(2006, 10, 23, 0, 0), datetime.datetime(2006, 12, 10, 0, 0), datetime.datetime(2006, 12, 26, 0, 0), datetime.datetime(2006, 2, 1, 0, 0), datetime.datetime(2006, 5, 24, 0, 0), datetime.datetime(2006, 6, 9, 0, 0), datetime.datetime(2006, 10, 31, 0, 0), datetime.datetime(2006, 12, 18, 0, 0), datetime.datetime(2007, 1, 27, 0, 0), datetime.datetime(2007, 2, 12, 0, 0), datetime.datetime(2007, 3, 16, 0, 0), datetime.datetime(2007, 4, 1, 0, 0), datetime.datetime(2007, 4, 17, 0, 0), datetime.datetime(2007, 5, 3, 0, 0), datetime.datetime(2007, 5, 19, 0, 0), datetime.datetime(2007, 7, 6, 0, 0), datetime.datetime(2007, 7, 22, 0, 0), datetime.datetime(2007, 8, 7, 0, 0), datetime.datetime(2007, 8, 23, 0, 0), datetime.datetime(2007, 9, 8, 0, 0), datetime.datetime(2007, 9, 24, 0, 0), datetime.datetime(2007, 2, 4, 0, 0), datetime.datetime(2007, 3, 8, 0, 0), datetime.datetime(2007, 3, 24, 0, 0), datetime.datetime(2007, 7, 30, 0, 0), datetime.datetime(2007, 8, 31, 0, 0), datetime.datetime(2007, 11, 3, 0, 0), datetime.datetime(2007, 12, 21, 0, 0), datetime.datetime(2008, 3, 2, 0, 0), datetime.datetime(2008, 4, 3, 0, 0), datetime.datetime(2008, 5, 5, 0, 0), datetime.datetime(2008, 6, 6, 0, 0), datetime.datetime(2008, 6, 22, 0, 0), datetime.datetime(2008, 7, 8, 0, 0), datetime.datetime(2008, 8, 9, 0, 0), datetime.datetime(2008, 8, 25, 0, 0), datetime.datetime(2008, 9, 10, 0, 0), datetime.datetime(2008, 9, 26, 0, 0), datetime.datetime(2008, 10, 12, 0, 0), datetime.datetime(2008, 1, 22, 0, 0), datetime.datetime(2008, 2, 7, 0, 0), datetime.datetime(2008, 4, 11, 0, 0), datetime.datetime(2008, 6, 30, 0, 0), datetime.datetime(2008, 7, 16, 0, 0), datetime.datetime(2008, 10, 20, 0, 0), datetime.datetime(2008, 11, 21, 0, 0), datetime.datetime(2008, 12, 23, 0, 0), datetime.datetime(2009, 3, 5, 0, 0), datetime.datetime(2009, 4, 22, 0, 0), datetime.datetime(2009, 5, 8, 0, 0), datetime.datetime(2009, 6, 25, 0, 0), datetime.datetime(2009, 7, 11, 0, 0), datetime.datetime(2009, 8, 12, 0, 0), datetime.datetime(2009, 8, 28, 0, 0), datetime.datetime(2009, 9, 13, 0, 0), datetime.datetime(2009, 10, 15, 0, 0), datetime.datetime(2009, 10, 31, 0, 0), datetime.datetime(2009, 12, 2, 0, 0), datetime.datetime(2009, 1, 8, 0, 0), datetime.datetime(2009, 1, 24, 0, 0), datetime.datetime(2009, 2, 25, 0, 0), datetime.datetime(2009, 3, 13, 0, 0), datetime.datetime(2009, 3, 29, 0, 0), datetime.datetime(2009, 6, 1, 0, 0), datetime.datetime(2009, 6, 17, 0, 0), datetime.datetime(2009, 8, 20, 0, 0), datetime.datetime(2009, 9, 5, 0, 0), datetime.datetime(2009, 9, 21, 0, 0), datetime.datetime(2009, 11, 24, 0, 0), datetime.datetime(2010, 2, 20, 0, 0), datetime.datetime(2010, 4, 25, 0, 0), datetime.datetime(2010, 6, 12, 0, 0), datetime.datetime(2010, 6, 28, 0, 0), datetime.datetime(2010, 7, 30, 0, 0), datetime.datetime(2010, 10, 2, 0, 0), datetime.datetime(2010, 10, 18, 0, 0), datetime.datetime(2010, 1, 27, 0, 0), datetime.datetime(2010, 5, 3, 0, 0), datetime.datetime(2010, 5, 19, 0, 0), datetime.datetime(2010, 6, 20, 0, 0), datetime.datetime(2010, 7, 6, 0, 0), datetime.datetime(2010, 7, 22, 0, 0), datetime.datetime(2010, 10, 26, 0, 0), datetime.datetime(2010, 12, 13, 0, 0), datetime.datetime(2011, 4, 28, 0, 0), datetime.datetime(2011, 5, 14, 0, 0), datetime.datetime(2011, 5, 30, 0, 0), datetime.datetime(2011, 8, 18, 0, 0), datetime.datetime(2011, 9, 3, 0, 0), datetime.datetime(2011, 9, 19, 0, 0), datetime.datetime(2011, 10, 5, 0, 0), datetime.datetime(2011, 10, 21, 0, 0), datetime.datetime(2011, 11, 6, 0, 0), datetime.datetime(2011, 3, 19, 0, 0), datetime.datetime(2011, 4, 4, 0, 0), datetime.datetime(2011, 7, 25, 0, 0), datetime.datetime(2011, 8, 10, 0, 0), datetime.datetime(2011, 10, 13, 0, 0), datetime.datetime(2011, 10, 29, 0, 0), datetime.datetime(2012, 2, 2, 0, 0), datetime.datetime(2012, 2, 18, 0, 0), datetime.datetime(2012, 3, 5, 0, 0), datetime.datetime(2012, 3, 21, 0, 0), datetime.datetime(2012, 5, 24, 0, 0), datetime.datetime(2012, 6, 25, 0, 0), datetime.datetime(2012, 7, 11, 0, 0), datetime.datetime(2012, 9, 13, 0, 0), datetime.datetime(2012, 9, 29, 0, 0), datetime.datetime(2012, 10, 15, 0, 0), datetime.datetime(2012, 10, 31, 0, 0), datetime.datetime(2012, 12, 2, 0, 0), datetime.datetime(2013, 1, 3, 0, 0), datetime.datetime(2013, 4, 25, 0, 0), datetime.datetime(2013, 5, 11, 0, 0), datetime.datetime(2013, 5, 27, 0, 0), datetime.datetime(2013, 6, 12, 0, 0), datetime.datetime(2013, 6, 28, 0, 0), datetime.datetime(2013, 7, 14, 0, 0), datetime.datetime(2013, 7, 30, 0, 0), datetime.datetime(2013, 8, 31, 0, 0), datetime.datetime(2013, 9, 16, 0, 0), datetime.datetime(2013, 11, 3, 0, 0), datetime.datetime(2013, 11, 19, 0, 0), datetime.datetime(2013, 12, 5, 0, 0), datetime.datetime(2013, 12, 21, 0, 0), datetime.datetime(2013, 4, 17, 0, 0), datetime.datetime(2013, 5, 19, 0, 0), datetime.datetime(2013, 6, 4, 0, 0), datetime.datetime(2013, 6, 20, 0, 0), datetime.datetime(2013, 7, 6, 0, 0), datetime.datetime(2013, 7, 22, 0, 0), datetime.datetime(2013, 8, 7, 0, 0), datetime.datetime(2013, 8, 23, 0, 0), datetime.datetime(2013, 9, 8, 0, 0), datetime.datetime(2013, 9, 24, 0, 0), datetime.datetime(2013, 10, 10, 0, 0), datetime.datetime(2013, 10, 26, 0, 0), datetime.datetime(2013, 11, 11, 0, 0), datetime.datetime(2013, 11, 27, 0, 0), datetime.datetime(2013, 12, 29, 0, 0), datetime.datetime(2014, 1, 22, 0, 0), datetime.datetime(2014, 2, 23, 0, 0), datetime.datetime(2014, 3, 11, 0, 0), datetime.datetime(2014, 4, 12, 0, 0), datetime.datetime(2014, 4, 28, 0, 0), datetime.datetime(2014, 5, 14, 0, 0), datetime.datetime(2014, 5, 30, 0, 0), datetime.datetime(2014, 6, 15, 0, 0), datetime.datetime(2014, 7, 17, 0, 0), datetime.datetime(2014, 8, 18, 0, 0), datetime.datetime(2014, 9, 19, 0, 0), datetime.datetime(2014, 10, 5, 0, 0), datetime.datetime(2014, 10, 21, 0, 0), datetime.datetime(2014, 12, 8, 0, 0), datetime.datetime(2014, 12, 24, 0, 0), datetime.datetime(2014, 1, 30, 0, 0), datetime.datetime(2014, 3, 19, 0, 0), datetime.datetime(2014, 4, 20, 0, 0), datetime.datetime(2014, 5, 6, 0, 0), datetime.datetime(2014, 5, 22, 0, 0), datetime.datetime(2014, 6, 7, 0, 0), datetime.datetime(2014, 6, 23, 0, 0), datetime.datetime(2014, 7, 9, 0, 0), datetime.datetime(2014, 7, 25, 0, 0), datetime.datetime(2014, 8, 10, 0, 0), datetime.datetime(2014, 8, 26, 0, 0), datetime.datetime(2014, 9, 11, 0, 0), datetime.datetime(2014, 9, 27, 0, 0), datetime.datetime(2014, 10, 29, 0, 0), datetime.datetime(2014, 11, 14, 0, 0), datetime.datetime(2014, 11, 30, 0, 0), datetime.datetime(2014, 12, 16, 0, 0), datetime.datetime(2015, 1, 9, 0, 0), datetime.datetime(2015, 1, 25, 0, 0), datetime.datetime(2015, 2, 10, 0, 0), datetime.datetime(2015, 3, 14, 0, 0), datetime.datetime(2015, 3, 30, 0, 0), datetime.datetime(2015, 5, 17, 0, 0), datetime.datetime(2015, 6, 2, 0, 0), datetime.datetime(2015, 6, 18, 0, 0), datetime.datetime(2015, 7, 4, 0, 0), datetime.datetime(2015, 7, 20, 0, 0), datetime.datetime(2015, 8, 5, 0, 0), datetime.datetime(2015, 8, 21, 0, 0), datetime.datetime(2015, 9, 6, 0, 0), datetime.datetime(2015, 9, 22, 0, 0), datetime.datetime(2015, 10, 8, 0, 0), datetime.datetime(2015, 11, 9, 0, 0), datetime.datetime(2015, 11, 25, 0, 0), datetime.datetime(2015, 12, 11, 0, 0), datetime.datetime(2015, 12, 27, 0, 0), datetime.datetime(2015, 1, 1, 0, 0), datetime.datetime(2015, 1, 17, 0, 0), datetime.datetime(2015, 2, 18, 0, 0), datetime.datetime(2015, 3, 6, 0, 0), datetime.datetime(2015, 3, 22, 0, 0), datetime.datetime(2015, 4, 7, 0, 0), datetime.datetime(2015, 4, 23, 0, 0), datetime.datetime(2015, 5, 9, 0, 0), datetime.datetime(2015, 5, 25, 0, 0), datetime.datetime(2015, 6, 10, 0, 0), datetime.datetime(2015, 6, 26, 0, 0), datetime.datetime(2015, 7, 12, 0, 0), datetime.datetime(2015, 7, 28, 0, 0), datetime.datetime(2015, 8, 13, 0, 0), datetime.datetime(2015, 8, 29, 0, 0), datetime.datetime(2015, 9, 14, 0, 0), datetime.datetime(2015, 9, 30, 0, 0), datetime.datetime(2015, 10, 16, 0, 0), datetime.datetime(2015, 11, 1, 0, 0), datetime.datetime(2015, 11, 17, 0, 0), datetime.datetime(2015, 12, 3, 0, 0), datetime.datetime(2015, 12, 19, 0, 0), datetime.datetime(2016, 1, 12, 0, 0), datetime.datetime(2016, 1, 28, 0, 0), datetime.datetime(2016, 2, 29, 0, 0), datetime.datetime(2016, 3, 16, 0, 0), datetime.datetime(2016, 4, 1, 0, 0), datetime.datetime(2016, 5, 3, 0, 0), datetime.datetime(2016, 5, 19, 0, 0), datetime.datetime(2016, 6, 4, 0, 0), datetime.datetime(2016, 6, 20, 0, 0), datetime.datetime(2016, 7, 6, 0, 0), datetime.datetime(2016, 7, 22, 0, 0), datetime.datetime(2016, 8, 7, 0, 0), datetime.datetime(2016, 8, 23, 0, 0), datetime.datetime(2016, 9, 8, 0, 0), datetime.datetime(2016, 9, 24, 0, 0), datetime.datetime(2016, 10, 10, 0, 0), datetime.datetime(2016, 10, 26, 0, 0), datetime.datetime(2016, 11, 11, 0, 0), datetime.datetime(2016, 12, 13, 0, 0), datetime.datetime(2016, 12, 29, 0, 0), datetime.datetime(2016, 1, 20, 0, 0), datetime.datetime(2016, 2, 5, 0, 0), datetime.datetime(2016, 2, 21, 0, 0), datetime.datetime(2016, 3, 8, 0, 0), datetime.datetime(2016, 3, 24, 0, 0), datetime.datetime(2016, 4, 9, 0, 0), datetime.datetime(2016, 4, 25, 0, 0), datetime.datetime(2016, 5, 27, 0, 0), datetime.datetime(2016, 6, 12, 0, 0), datetime.datetime(2016, 6, 28, 0, 0), datetime.datetime(2016, 7, 14, 0, 0), datetime.datetime(2016, 7, 30, 0, 0), datetime.datetime(2016, 8, 15, 0, 0), datetime.datetime(2016, 8, 31, 0, 0), datetime.datetime(2016, 9, 16, 0, 0), datetime.datetime(2016, 10, 2, 0, 0), datetime.datetime(2016, 10, 18, 0, 0), datetime.datetime(2016, 11, 3, 0, 0), datetime.datetime(2016, 11, 19, 0, 0), datetime.datetime(2016, 12, 5, 0, 0), datetime.datetime(2016, 12, 21, 0, 0), datetime.datetime(2017, 1, 14, 0, 0), datetime.datetime(2017, 2, 15, 0, 0), datetime.datetime(2017, 3, 19, 0, 0), datetime.datetime(2017, 4, 4, 0, 0), datetime.datetime(2017, 4, 20, 0, 0), datetime.datetime(2017, 5, 22, 0, 0), datetime.datetime(2017, 6, 7, 0, 0), datetime.datetime(2017, 6, 23, 0, 0), datetime.datetime(2017, 7, 9, 0, 0), datetime.datetime(2017, 7, 25, 0, 0), datetime.datetime(2017, 8, 10, 0, 0), datetime.datetime(2017, 8, 26, 0, 0), datetime.datetime(2017, 9, 11, 0, 0), datetime.datetime(2017, 9, 27, 0, 0), datetime.datetime(2017, 10, 13, 0, 0), datetime.datetime(2017, 10, 29, 0, 0), datetime.datetime(2017, 11, 14, 0, 0), datetime.datetime(2017, 11, 30, 0, 0), datetime.datetime(2017, 12, 16, 0, 0), datetime.datetime(2017, 1, 6, 0, 0), datetime.datetime(2017, 1, 22, 0, 0), datetime.datetime(2017, 2, 7, 0, 0), datetime.datetime(2017, 2, 23, 0, 0), datetime.datetime(2017, 3, 11, 0, 0), datetime.datetime(2017, 4, 12, 0, 0), datetime.datetime(2017, 4, 28, 0, 0), datetime.datetime(2017, 5, 14, 0, 0), datetime.datetime(2017, 5, 30, 0, 0), datetime.datetime(2017, 6, 15, 0, 0), datetime.datetime(2017, 7, 1, 0, 0), datetime.datetime(2017, 7, 17, 0, 0), datetime.datetime(2017, 8, 2, 0, 0), datetime.datetime(2017, 8, 18, 0, 0), datetime.datetime(2017, 9, 3, 0, 0), datetime.datetime(2017, 9, 19, 0, 0), datetime.datetime(2017, 10, 5, 0, 0), datetime.datetime(2017, 10, 21, 0, 0), datetime.datetime(2017, 11, 6, 0, 0), datetime.datetime(2017, 12, 24, 0, 0), datetime.datetime(2018, 1, 1, 0, 0), datetime.datetime(2018, 1, 17, 0, 0), datetime.datetime(2018, 2, 2, 0, 0), datetime.datetime(2018, 2, 18, 0, 0), datetime.datetime(2018, 4, 23, 0, 0), datetime.datetime(2018, 5, 9, 0, 0), datetime.datetime(2018, 6, 26, 0, 0), datetime.datetime(2018, 7, 28, 0, 0), datetime.datetime(2018, 8, 13, 0, 0), datetime.datetime(2018, 8, 29, 0, 0), datetime.datetime(2018, 9, 14, 0, 0), datetime.datetime(2018, 9, 30, 0, 0), datetime.datetime(2018, 10, 16, 0, 0), datetime.datetime(2018, 11, 1, 0, 0), datetime.datetime(2018, 1, 25, 0, 0), datetime.datetime(2018, 2, 10, 0, 0), datetime.datetime(2018, 2, 26, 0, 0), datetime.datetime(2018, 3, 30, 0, 0), datetime.datetime(2018, 4, 15, 0, 0), datetime.datetime(2018, 5, 1, 0, 0), datetime.datetime(2018, 5, 17, 0, 0), datetime.datetime(2018, 6, 2, 0, 0), datetime.datetime(2018, 6, 18, 0, 0), datetime.datetime(2018, 7, 4, 0, 0), datetime.datetime(2018, 7, 20, 0, 0), datetime.datetime(2018, 8, 5, 0, 0), datetime.datetime(2018, 8, 21, 0, 0), datetime.datetime(2018, 9, 6, 0, 0), datetime.datetime(2018, 9, 22, 0, 0), datetime.datetime(2018, 10, 8, 0, 0), datetime.datetime(2018, 10, 24, 0, 0), datetime.datetime(2018, 11, 9, 0, 0), datetime.datetime(2018, 11, 25, 0, 0), datetime.datetime(2018, 12, 11, 0, 0), datetime.datetime(2019, 1, 4, 0, 0), datetime.datetime(2019, 1, 20, 0, 0), datetime.datetime(2019, 2, 5, 0, 0), datetime.datetime(2019, 2, 21, 0, 0), datetime.datetime(2019, 3, 9, 0, 0), datetime.datetime(2019, 3, 25, 0, 0), datetime.datetime(2019, 5, 12, 0, 0), datetime.datetime(2019, 5, 28, 0, 0), datetime.datetime(2019, 6, 13, 0, 0), datetime.datetime(2019, 6, 29, 0, 0), datetime.datetime(2019, 7, 15, 0, 0), datetime.datetime(2019, 7, 31, 0, 0), datetime.datetime(2019, 8, 16, 0, 0), datetime.datetime(2019, 9, 1, 0, 0), datetime.datetime(2019, 9, 17, 0, 0), datetime.datetime(2019, 10, 3, 0, 0), datetime.datetime(2019, 12, 6, 0, 0), datetime.datetime(2019, 1, 12, 0, 0), datetime.datetime(2019, 1, 28, 0, 0), datetime.datetime(2019, 2, 13, 0, 0), datetime.datetime(2019, 3, 1, 0, 0), datetime.datetime(2019, 3, 17, 0, 0), datetime.datetime(2019, 4, 2, 0, 0), datetime.datetime(2019, 4, 18, 0, 0), datetime.datetime(2019, 5, 4, 0, 0), datetime.datetime(2019, 5, 20, 0, 0), datetime.datetime(2019, 6, 5, 0, 0), datetime.datetime(2019, 6, 21, 0, 0), datetime.datetime(2019, 7, 7, 0, 0), datetime.datetime(2019, 7, 23, 0, 0), datetime.datetime(2019, 8, 24, 0, 0), datetime.datetime(2019, 9, 9, 0, 0), datetime.datetime(2019, 9, 25, 0, 0), datetime.datetime(2019, 10, 11, 0, 0), datetime.datetime(2019, 10, 27, 0, 0), datetime.datetime(2019, 11, 12, 0, 0), datetime.datetime(2019, 12, 30, 0, 0), datetime.datetime(2020, 1, 7, 0, 0), datetime.datetime(2020, 2, 24, 0, 0), datetime.datetime(2020, 3, 11, 0, 0), datetime.datetime(2020, 3, 27, 0, 0), datetime.datetime(2020, 4, 12, 0, 0), datetime.datetime(2020, 5, 30, 0, 0), datetime.datetime(2020, 3, 3, 0, 0), datetime.datetime(2020, 3, 19, 0, 0), datetime.datetime(2020, 4, 4, 0, 0), datetime.datetime(2020, 5, 6, 0, 0), datetime.datetime(2020, 5, 22, 0, 0), datetime.datetime(2020, 6, 7, 0, 0)]\n"
     ]
    }
   ],
   "source": [
    "# parameters\n",
    "k = 3\n",
    "freq = 365\n",
    "trend = False\n",
    "hfrac = 0.25\n",
    "level = 0.05\n",
    "start_hist = datetime(2002, 1, 1)\n",
    "start_monitor = datetime(2010, 1, 1)\n",
    "end_monitor = datetime(2018, 1, 1)\n",
    "position = (100,100)\n",
    "\n",
    "print(dates)\n",
    "\n"
   ]
  },
  {
   "cell_type": "markdown",
   "metadata": {},
   "source": [
    "# Select monitoring period"
   ]
  },
  {
   "cell_type": "code",
   "execution_count": 75,
   "metadata": {},
   "outputs": [
    {
     "name": "stdout",
     "output_type": "stream",
     "text": [
      "start monitoring period 2000-03-04 00:00:00\n"
     ]
    },
    {
     "data": {
      "application/vnd.jupyter.widget-view+json": {
       "model_id": "252195f7e80041c78d7ce0e661c33e34",
       "version_major": 2,
       "version_minor": 0
      },
      "text/plain": [
       "interactive(children=(SelectionRangeSlider(description='Select the monitoring date range: ', index=(0, 7400), …"
      ]
     },
     "metadata": {},
     "output_type": "display_data"
    }
   ],
   "source": [
    "start_date = dates[10] # 0 or 10 does not work.. 100 did\n",
    "print(\"start monitoring period\",start_date)\n",
    "end_date = dates[-1]\n",
    "\n",
    "def h(y):\n",
    "    return(y)\n",
    "\n",
    "pandas_dates = pd.date_range(start_date, end_date, freq='D')\n",
    "\n",
    "options = [(date.strftime(' %d %b %Y '), date) for date in pandas_dates]\n",
    "index = (0, len(options)-1)\n",
    "\n",
    "\n",
    "start_end_date = widgets.interactive(h,\n",
    "                                     y=widgets.SelectionRangeSlider(\n",
    "                                            options=options,\n",
    "                                            index=index,\n",
    "                                            description='Select the monitoring date range: ',\n",
    "                                            style = {'description_width': 'initial'},\n",
    "                                            orientation='horizontal',\n",
    "                                            layout={'width': '800px',\"height\":\"200px\"}))\n",
    "display(start_end_date)"
   ]
  },
  {
   "cell_type": "code",
   "execution_count": 92,
   "metadata": {},
   "outputs": [
    {
     "name": "stdout",
     "output_type": "stream",
     "text": [
      "start monitor:  2010-10-25 00:00:00\n",
      "end monitor:  2020-06-07 00:00:00\n"
     ]
    }
   ],
   "source": [
    "start_monitor, end_monitor = start_end_date.result\n",
    "print(\"start monitor: \",start_monitor)\n",
    "print(\"end monitor: \",end_monitor)"
   ]
  },
  {
   "cell_type": "code",
   "execution_count": 93,
   "metadata": {},
   "outputs": [
    {
     "name": "stdout",
     "output_type": "stream",
     "text": [
      "First date: 2002-01-29 00:00:00\n",
      "Last date: 2020-06-07 00:00:00\n",
      "Shape of data array: (473, 8, 14)\n"
     ]
    }
   ],
   "source": [
    "data, dates = crop_data_dates(data_orig, dates, start_hist, end_monitor)\n",
    "print(\"First date: {}\".format(dates[0]))\n",
    "print(\"Last date: {}\".format(dates[-1]))\n",
    "print(\"Shape of data array: {}\".format(data.shape))"
   ]
  },
  {
   "cell_type": "markdown",
   "metadata": {},
   "source": [
    "# Run bfastmonitor()"
   ]
  },
  {
   "cell_type": "code",
   "execution_count": 94,
   "metadata": {
    "scrolled": true
   },
   "outputs": [
    {
     "name": "stdout",
     "output_type": "stream",
     "text": [
      "Processing row 0\n",
      "Processing row 1\n",
      "Processing row 2\n",
      "Processing row 3\n",
      "Processing row 4\n",
      "Processing row 5\n",
      "Processing row 6\n",
      "Processing row 7\n",
      "Fitting model took 0.6198084354400635 seconds.\n"
     ]
    }
   ],
   "source": [
    "# fit BFAST using the CPU implementation (single pixel)\n",
    "from numpy import nan\n",
    "\n",
    "start_time = time.time()\n",
    "\n",
    "\n",
    "model = BFASTMonitor(\n",
    "            start_monitor,\n",
    "            freq=freq,\n",
    "            k=k,\n",
    "            hfrac=hfrac,\n",
    "            trend=trend,\n",
    "            level=level,\n",
    "            backend='python',\n",
    "            verbose=1\n",
    "            )\n",
    "\n",
    "\n",
    "# only apply on a small subset\n",
    "data = data[:,:200,:200]\n",
    "model.fit(data, dates, nan_value=nan) #changed to nan\n",
    "\n",
    "end_time = time.time()\n",
    "print(\"Fitting model took {} seconds.\".format(end_time - start_time))\n"
   ]
  },
  {
   "cell_type": "markdown",
   "metadata": {},
   "source": [
    "# Select negative magnitudes"
   ]
  },
  {
   "cell_type": "code",
   "execution_count": 82,
   "metadata": {
    "scrolled": true
   },
   "outputs": [],
   "source": [
    "# select only negative magnitudes\n",
    "breaks = model.breaks # index of date that has a break in dates\n",
    "means = model.means # magnitudes of breaks\n",
    "\n",
    "no_breaks_indices = (breaks == -1)\n",
    "means[no_breaks_indices] = 0\n",
    "means[means > 0] = 0 # only want negative mean changes\n",
    "\n",
    "breaks_plot = breaks.astype(np.float)\n",
    "breaks_plot[breaks == -2] = np.nan\n",
    "breaks_plot[breaks == -1] = np.nan\n",
    "breaks_plot[means >= 0] = np.nan\n"
   ]
  },
  {
   "cell_type": "code",
   "execution_count": 83,
   "metadata": {},
   "outputs": [],
   "source": [
    "dates_monitor = []\n",
    "\n",
    "# collect dates for monitor period\n",
    "for i in range(len(dates)):\n",
    "    if start_monitor <= dates[i]:\n",
    "        dates_monitor.append(dates[i])\n",
    "dates_array = np.array(dates_monitor) # dates_array is the dates that are in the monitoring period\n"
   ]
  },
  {
   "cell_type": "markdown",
   "metadata": {},
   "source": [
    "# Classify output for plotting"
   ]
  },
  {
   "cell_type": "code",
   "execution_count": 84,
   "metadata": {},
   "outputs": [
    {
     "name": "stdout",
     "output_type": "stream",
     "text": [
      "{2018: 0, 2019: 9}\n",
      "['2018', '2019']\n",
      "[[ 0.  0. nan nan  0.  0.  1.  1. nan nan  0.  0.  0.  0.]\n",
      " [ 0. nan nan nan  0.  0. nan nan nan nan  0.  0.  0.  0.]\n",
      " [nan nan nan nan nan  0. nan nan nan  0.  0.  0.  0.  0.]\n",
      " [ 0. nan nan nan nan  0.  0.  0. nan  0.  0.  0.  0.  0.]\n",
      " [nan nan  0.  0.  0.  0.  0.  0.  0.  0.  0.  0.  0.  0.]\n",
      " [nan nan nan nan  0.  0.  0.  0.  0.  0. nan nan nan nan]\n",
      " [nan nan  0.  0. nan nan  0.  0.  0.  0. nan nan nan  0.]\n",
      " [nan  0.  0.  0. nan nan nan nan  0.  0. nan nan nan  0.]]\n"
     ]
    }
   ],
   "source": [
    "idx_starts = {}\n",
    "\n",
    "# this gives the index of all the data points in the year and after\n",
    "for year in range(start_monitor.year,end_monitor.year):\n",
    "    idx_starts[year] = np.argmax((dates_array >= datetime(year, 1, 1)) > False) \n",
    "    \n",
    "print(idx_starts)\n",
    "breaks_plot_years = copy.deepcopy(breaks_plot)\n",
    "\n",
    "#classifying for plotting\n",
    "ticklist=[]\n",
    "for idx, year in enumerate(idx_starts):\n",
    "    ticklist.append(str(year))\n",
    "\n",
    "    if idx == 0:\n",
    "        breaks_plot_years[breaks_plot <= idx_starts[year+1]] = 0\n",
    "        continue\n",
    "    \n",
    "    if idx == len(idx_starts)-1:\n",
    "        breaks_plot_years[np.where(idx_starts[year] < breaks_plot)] = len(idx_starts)-1\n",
    "        continue\n",
    "        \n",
    "    breaks_plot_years[np.where(np.logical_and(idx_starts[year] < breaks_plot, breaks_plot <= idx_starts[year+1]))] = idx\n",
    "print(ticklist)\n",
    "print(breaks_plot_years)"
   ]
  },
  {
   "cell_type": "markdown",
   "metadata": {},
   "source": [
    "# Plot output"
   ]
  },
  {
   "cell_type": "code",
   "execution_count": 85,
   "metadata": {},
   "outputs": [
    {
     "ename": "ZeroDivisionError",
     "evalue": "division by zero",
     "output_type": "error",
     "traceback": [
      "\u001b[0;31m---------------------------------------------------------------------------\u001b[0m",
      "\u001b[0;31mZeroDivisionError\u001b[0m                         Traceback (most recent call last)",
      "\u001b[0;32m<ipython-input-85-5ea1053b5e90>\u001b[0m in \u001b[0;36m<module>\u001b[0;34m\u001b[0m\n\u001b[1;32m     15\u001b[0m \u001b[0mlabels\u001b[0m \u001b[0;34m=\u001b[0m \u001b[0mcbar_ax\u001b[0m\u001b[0;34m.\u001b[0m\u001b[0mset_yticklabels\u001b[0m\u001b[0;34m(\u001b[0m\u001b[0mticklist\u001b[0m\u001b[0;34m)\u001b[0m\u001b[0;34m\u001b[0m\u001b[0;34m\u001b[0m\u001b[0m\n\u001b[1;32m     16\u001b[0m \u001b[0;34m\u001b[0m\u001b[0m\n\u001b[0;32m---> 17\u001b[0;31m \u001b[0mplt\u001b[0m\u001b[0;34m.\u001b[0m\u001b[0msavefig\u001b[0m\u001b[0;34m(\u001b[0m\u001b[0;34m\"./output/picture.png\"\u001b[0m\u001b[0;34m)\u001b[0m\u001b[0;34m\u001b[0m\u001b[0;34m\u001b[0m\u001b[0m\n\u001b[0m\u001b[1;32m     18\u001b[0m \u001b[0mplt\u001b[0m\u001b[0;34m.\u001b[0m\u001b[0mshow\u001b[0m\u001b[0;34m(\u001b[0m\u001b[0;34m)\u001b[0m\u001b[0;34m\u001b[0m\u001b[0;34m\u001b[0m\u001b[0m\n",
      "\u001b[0;32m~/.local/share/virtualenvs/bfastmonitor_cpu-LhLEOv6G/lib/python3.6/site-packages/matplotlib/pyplot.py\u001b[0m in \u001b[0;36msavefig\u001b[0;34m(*args, **kwargs)\u001b[0m\n\u001b[1;32m    708\u001b[0m \u001b[0;32mdef\u001b[0m \u001b[0msavefig\u001b[0m\u001b[0;34m(\u001b[0m\u001b[0;34m*\u001b[0m\u001b[0margs\u001b[0m\u001b[0;34m,\u001b[0m \u001b[0;34m**\u001b[0m\u001b[0mkwargs\u001b[0m\u001b[0;34m)\u001b[0m\u001b[0;34m:\u001b[0m\u001b[0;34m\u001b[0m\u001b[0;34m\u001b[0m\u001b[0m\n\u001b[1;32m    709\u001b[0m     \u001b[0mfig\u001b[0m \u001b[0;34m=\u001b[0m \u001b[0mgcf\u001b[0m\u001b[0;34m(\u001b[0m\u001b[0;34m)\u001b[0m\u001b[0;34m\u001b[0m\u001b[0;34m\u001b[0m\u001b[0m\n\u001b[0;32m--> 710\u001b[0;31m     \u001b[0mres\u001b[0m \u001b[0;34m=\u001b[0m \u001b[0mfig\u001b[0m\u001b[0;34m.\u001b[0m\u001b[0msavefig\u001b[0m\u001b[0;34m(\u001b[0m\u001b[0;34m*\u001b[0m\u001b[0margs\u001b[0m\u001b[0;34m,\u001b[0m \u001b[0;34m**\u001b[0m\u001b[0mkwargs\u001b[0m\u001b[0;34m)\u001b[0m\u001b[0;34m\u001b[0m\u001b[0;34m\u001b[0m\u001b[0m\n\u001b[0m\u001b[1;32m    711\u001b[0m     \u001b[0mfig\u001b[0m\u001b[0;34m.\u001b[0m\u001b[0mcanvas\u001b[0m\u001b[0;34m.\u001b[0m\u001b[0mdraw_idle\u001b[0m\u001b[0;34m(\u001b[0m\u001b[0;34m)\u001b[0m   \u001b[0;31m# need this if 'transparent=True' to reset colors\u001b[0m\u001b[0;34m\u001b[0m\u001b[0;34m\u001b[0m\u001b[0m\n\u001b[1;32m    712\u001b[0m     \u001b[0;32mreturn\u001b[0m \u001b[0mres\u001b[0m\u001b[0;34m\u001b[0m\u001b[0;34m\u001b[0m\u001b[0m\n",
      "\u001b[0;32m~/.local/share/virtualenvs/bfastmonitor_cpu-LhLEOv6G/lib/python3.6/site-packages/matplotlib/figure.py\u001b[0m in \u001b[0;36msavefig\u001b[0;34m(self, fname, **kwargs)\u001b[0m\n\u001b[1;32m   2033\u001b[0m             \u001b[0mself\u001b[0m\u001b[0;34m.\u001b[0m\u001b[0mset_frameon\u001b[0m\u001b[0;34m(\u001b[0m\u001b[0mframeon\u001b[0m\u001b[0;34m)\u001b[0m\u001b[0;34m\u001b[0m\u001b[0;34m\u001b[0m\u001b[0m\n\u001b[1;32m   2034\u001b[0m \u001b[0;34m\u001b[0m\u001b[0m\n\u001b[0;32m-> 2035\u001b[0;31m         \u001b[0mself\u001b[0m\u001b[0;34m.\u001b[0m\u001b[0mcanvas\u001b[0m\u001b[0;34m.\u001b[0m\u001b[0mprint_figure\u001b[0m\u001b[0;34m(\u001b[0m\u001b[0mfname\u001b[0m\u001b[0;34m,\u001b[0m \u001b[0;34m**\u001b[0m\u001b[0mkwargs\u001b[0m\u001b[0;34m)\u001b[0m\u001b[0;34m\u001b[0m\u001b[0;34m\u001b[0m\u001b[0m\n\u001b[0m\u001b[1;32m   2036\u001b[0m \u001b[0;34m\u001b[0m\u001b[0m\n\u001b[1;32m   2037\u001b[0m         \u001b[0;32mif\u001b[0m \u001b[0mframeon\u001b[0m\u001b[0;34m:\u001b[0m\u001b[0;34m\u001b[0m\u001b[0;34m\u001b[0m\u001b[0m\n",
      "\u001b[0;32m~/.local/share/virtualenvs/bfastmonitor_cpu-LhLEOv6G/lib/python3.6/site-packages/matplotlib/backend_bases.py\u001b[0m in \u001b[0;36mprint_figure\u001b[0;34m(self, filename, dpi, facecolor, edgecolor, orientation, format, **kwargs)\u001b[0m\n\u001b[1;32m   2261\u001b[0m                 \u001b[0morientation\u001b[0m\u001b[0;34m=\u001b[0m\u001b[0morientation\u001b[0m\u001b[0;34m,\u001b[0m\u001b[0;34m\u001b[0m\u001b[0;34m\u001b[0m\u001b[0m\n\u001b[1;32m   2262\u001b[0m                 \u001b[0mbbox_inches_restore\u001b[0m\u001b[0;34m=\u001b[0m\u001b[0m_bbox_inches_restore\u001b[0m\u001b[0;34m,\u001b[0m\u001b[0;34m\u001b[0m\u001b[0;34m\u001b[0m\u001b[0m\n\u001b[0;32m-> 2263\u001b[0;31m                 **kwargs)\n\u001b[0m\u001b[1;32m   2264\u001b[0m         \u001b[0;32mfinally\u001b[0m\u001b[0;34m:\u001b[0m\u001b[0;34m\u001b[0m\u001b[0;34m\u001b[0m\u001b[0m\n\u001b[1;32m   2265\u001b[0m             \u001b[0;32mif\u001b[0m \u001b[0mbbox_inches\u001b[0m \u001b[0;32mand\u001b[0m \u001b[0mrestore_bbox\u001b[0m\u001b[0;34m:\u001b[0m\u001b[0;34m\u001b[0m\u001b[0;34m\u001b[0m\u001b[0m\n",
      "\u001b[0;32m~/.local/share/virtualenvs/bfastmonitor_cpu-LhLEOv6G/lib/python3.6/site-packages/matplotlib/backends/backend_agg.py\u001b[0m in \u001b[0;36mprint_png\u001b[0;34m(self, filename_or_obj, *args, **kwargs)\u001b[0m\n\u001b[1;32m    511\u001b[0m \u001b[0;34m\u001b[0m\u001b[0m\n\u001b[1;32m    512\u001b[0m     \u001b[0;32mdef\u001b[0m \u001b[0mprint_png\u001b[0m\u001b[0;34m(\u001b[0m\u001b[0mself\u001b[0m\u001b[0;34m,\u001b[0m \u001b[0mfilename_or_obj\u001b[0m\u001b[0;34m,\u001b[0m \u001b[0;34m*\u001b[0m\u001b[0margs\u001b[0m\u001b[0;34m,\u001b[0m \u001b[0;34m**\u001b[0m\u001b[0mkwargs\u001b[0m\u001b[0;34m)\u001b[0m\u001b[0;34m:\u001b[0m\u001b[0;34m\u001b[0m\u001b[0;34m\u001b[0m\u001b[0m\n\u001b[0;32m--> 513\u001b[0;31m         \u001b[0mFigureCanvasAgg\u001b[0m\u001b[0;34m.\u001b[0m\u001b[0mdraw\u001b[0m\u001b[0;34m(\u001b[0m\u001b[0mself\u001b[0m\u001b[0;34m)\u001b[0m\u001b[0;34m\u001b[0m\u001b[0;34m\u001b[0m\u001b[0m\n\u001b[0m\u001b[1;32m    514\u001b[0m         \u001b[0mrenderer\u001b[0m \u001b[0;34m=\u001b[0m \u001b[0mself\u001b[0m\u001b[0;34m.\u001b[0m\u001b[0mget_renderer\u001b[0m\u001b[0;34m(\u001b[0m\u001b[0;34m)\u001b[0m\u001b[0;34m\u001b[0m\u001b[0;34m\u001b[0m\u001b[0m\n\u001b[1;32m    515\u001b[0m         \u001b[0moriginal_dpi\u001b[0m \u001b[0;34m=\u001b[0m \u001b[0mrenderer\u001b[0m\u001b[0;34m.\u001b[0m\u001b[0mdpi\u001b[0m\u001b[0;34m\u001b[0m\u001b[0;34m\u001b[0m\u001b[0m\n",
      "\u001b[0;32m~/.local/share/virtualenvs/bfastmonitor_cpu-LhLEOv6G/lib/python3.6/site-packages/matplotlib/backends/backend_agg.py\u001b[0m in \u001b[0;36mdraw\u001b[0;34m(self)\u001b[0m\n\u001b[1;32m    431\u001b[0m             \u001b[0;31m# if toolbar:\u001b[0m\u001b[0;34m\u001b[0m\u001b[0;34m\u001b[0m\u001b[0;34m\u001b[0m\u001b[0m\n\u001b[1;32m    432\u001b[0m             \u001b[0;31m#     toolbar.set_cursor(cursors.WAIT)\u001b[0m\u001b[0;34m\u001b[0m\u001b[0;34m\u001b[0m\u001b[0;34m\u001b[0m\u001b[0m\n\u001b[0;32m--> 433\u001b[0;31m             \u001b[0mself\u001b[0m\u001b[0;34m.\u001b[0m\u001b[0mfigure\u001b[0m\u001b[0;34m.\u001b[0m\u001b[0mdraw\u001b[0m\u001b[0;34m(\u001b[0m\u001b[0mself\u001b[0m\u001b[0;34m.\u001b[0m\u001b[0mrenderer\u001b[0m\u001b[0;34m)\u001b[0m\u001b[0;34m\u001b[0m\u001b[0;34m\u001b[0m\u001b[0m\n\u001b[0m\u001b[1;32m    434\u001b[0m             \u001b[0;31m# A GUI class may be need to update a window using this draw, so\u001b[0m\u001b[0;34m\u001b[0m\u001b[0;34m\u001b[0m\u001b[0;34m\u001b[0m\u001b[0m\n\u001b[1;32m    435\u001b[0m             \u001b[0;31m# don't forget to call the superclass.\u001b[0m\u001b[0;34m\u001b[0m\u001b[0;34m\u001b[0m\u001b[0;34m\u001b[0m\u001b[0m\n",
      "\u001b[0;32m~/.local/share/virtualenvs/bfastmonitor_cpu-LhLEOv6G/lib/python3.6/site-packages/matplotlib/artist.py\u001b[0m in \u001b[0;36mdraw_wrapper\u001b[0;34m(artist, renderer, *args, **kwargs)\u001b[0m\n\u001b[1;32m     53\u001b[0m                 \u001b[0mrenderer\u001b[0m\u001b[0;34m.\u001b[0m\u001b[0mstart_filter\u001b[0m\u001b[0;34m(\u001b[0m\u001b[0;34m)\u001b[0m\u001b[0;34m\u001b[0m\u001b[0;34m\u001b[0m\u001b[0m\n\u001b[1;32m     54\u001b[0m \u001b[0;34m\u001b[0m\u001b[0m\n\u001b[0;32m---> 55\u001b[0;31m             \u001b[0;32mreturn\u001b[0m \u001b[0mdraw\u001b[0m\u001b[0;34m(\u001b[0m\u001b[0martist\u001b[0m\u001b[0;34m,\u001b[0m \u001b[0mrenderer\u001b[0m\u001b[0;34m,\u001b[0m \u001b[0;34m*\u001b[0m\u001b[0margs\u001b[0m\u001b[0;34m,\u001b[0m \u001b[0;34m**\u001b[0m\u001b[0mkwargs\u001b[0m\u001b[0;34m)\u001b[0m\u001b[0;34m\u001b[0m\u001b[0;34m\u001b[0m\u001b[0m\n\u001b[0m\u001b[1;32m     56\u001b[0m         \u001b[0;32mfinally\u001b[0m\u001b[0;34m:\u001b[0m\u001b[0;34m\u001b[0m\u001b[0;34m\u001b[0m\u001b[0m\n\u001b[1;32m     57\u001b[0m             \u001b[0;32mif\u001b[0m \u001b[0martist\u001b[0m\u001b[0;34m.\u001b[0m\u001b[0mget_agg_filter\u001b[0m\u001b[0;34m(\u001b[0m\u001b[0;34m)\u001b[0m \u001b[0;32mis\u001b[0m \u001b[0;32mnot\u001b[0m \u001b[0;32mNone\u001b[0m\u001b[0;34m:\u001b[0m\u001b[0;34m\u001b[0m\u001b[0;34m\u001b[0m\u001b[0m\n",
      "\u001b[0;32m~/.local/share/virtualenvs/bfastmonitor_cpu-LhLEOv6G/lib/python3.6/site-packages/matplotlib/figure.py\u001b[0m in \u001b[0;36mdraw\u001b[0;34m(self, renderer)\u001b[0m\n\u001b[1;32m   1473\u001b[0m \u001b[0;34m\u001b[0m\u001b[0m\n\u001b[1;32m   1474\u001b[0m             mimage._draw_list_compositing_images(\n\u001b[0;32m-> 1475\u001b[0;31m                 renderer, self, artists, self.suppressComposite)\n\u001b[0m\u001b[1;32m   1476\u001b[0m \u001b[0;34m\u001b[0m\u001b[0m\n\u001b[1;32m   1477\u001b[0m             \u001b[0mrenderer\u001b[0m\u001b[0;34m.\u001b[0m\u001b[0mclose_group\u001b[0m\u001b[0;34m(\u001b[0m\u001b[0;34m'figure'\u001b[0m\u001b[0;34m)\u001b[0m\u001b[0;34m\u001b[0m\u001b[0;34m\u001b[0m\u001b[0m\n",
      "\u001b[0;32m~/.local/share/virtualenvs/bfastmonitor_cpu-LhLEOv6G/lib/python3.6/site-packages/matplotlib/image.py\u001b[0m in \u001b[0;36m_draw_list_compositing_images\u001b[0;34m(renderer, parent, artists, suppress_composite)\u001b[0m\n\u001b[1;32m    139\u001b[0m     \u001b[0;32mif\u001b[0m \u001b[0mnot_composite\u001b[0m \u001b[0;32mor\u001b[0m \u001b[0;32mnot\u001b[0m \u001b[0mhas_images\u001b[0m\u001b[0;34m:\u001b[0m\u001b[0;34m\u001b[0m\u001b[0;34m\u001b[0m\u001b[0m\n\u001b[1;32m    140\u001b[0m         \u001b[0;32mfor\u001b[0m \u001b[0ma\u001b[0m \u001b[0;32min\u001b[0m \u001b[0martists\u001b[0m\u001b[0;34m:\u001b[0m\u001b[0;34m\u001b[0m\u001b[0;34m\u001b[0m\u001b[0m\n\u001b[0;32m--> 141\u001b[0;31m             \u001b[0ma\u001b[0m\u001b[0;34m.\u001b[0m\u001b[0mdraw\u001b[0m\u001b[0;34m(\u001b[0m\u001b[0mrenderer\u001b[0m\u001b[0;34m)\u001b[0m\u001b[0;34m\u001b[0m\u001b[0;34m\u001b[0m\u001b[0m\n\u001b[0m\u001b[1;32m    142\u001b[0m     \u001b[0;32melse\u001b[0m\u001b[0;34m:\u001b[0m\u001b[0;34m\u001b[0m\u001b[0;34m\u001b[0m\u001b[0m\n\u001b[1;32m    143\u001b[0m         \u001b[0;31m# Composite any adjacent images together\u001b[0m\u001b[0;34m\u001b[0m\u001b[0;34m\u001b[0m\u001b[0;34m\u001b[0m\u001b[0m\n",
      "\u001b[0;32m~/.local/share/virtualenvs/bfastmonitor_cpu-LhLEOv6G/lib/python3.6/site-packages/matplotlib/artist.py\u001b[0m in \u001b[0;36mdraw_wrapper\u001b[0;34m(artist, renderer, *args, **kwargs)\u001b[0m\n\u001b[1;32m     53\u001b[0m                 \u001b[0mrenderer\u001b[0m\u001b[0;34m.\u001b[0m\u001b[0mstart_filter\u001b[0m\u001b[0;34m(\u001b[0m\u001b[0;34m)\u001b[0m\u001b[0;34m\u001b[0m\u001b[0;34m\u001b[0m\u001b[0m\n\u001b[1;32m     54\u001b[0m \u001b[0;34m\u001b[0m\u001b[0m\n\u001b[0;32m---> 55\u001b[0;31m             \u001b[0;32mreturn\u001b[0m \u001b[0mdraw\u001b[0m\u001b[0;34m(\u001b[0m\u001b[0martist\u001b[0m\u001b[0;34m,\u001b[0m \u001b[0mrenderer\u001b[0m\u001b[0;34m,\u001b[0m \u001b[0;34m*\u001b[0m\u001b[0margs\u001b[0m\u001b[0;34m,\u001b[0m \u001b[0;34m**\u001b[0m\u001b[0mkwargs\u001b[0m\u001b[0;34m)\u001b[0m\u001b[0;34m\u001b[0m\u001b[0;34m\u001b[0m\u001b[0m\n\u001b[0m\u001b[1;32m     56\u001b[0m         \u001b[0;32mfinally\u001b[0m\u001b[0;34m:\u001b[0m\u001b[0;34m\u001b[0m\u001b[0;34m\u001b[0m\u001b[0m\n\u001b[1;32m     57\u001b[0m             \u001b[0;32mif\u001b[0m \u001b[0martist\u001b[0m\u001b[0;34m.\u001b[0m\u001b[0mget_agg_filter\u001b[0m\u001b[0;34m(\u001b[0m\u001b[0;34m)\u001b[0m \u001b[0;32mis\u001b[0m \u001b[0;32mnot\u001b[0m \u001b[0;32mNone\u001b[0m\u001b[0;34m:\u001b[0m\u001b[0;34m\u001b[0m\u001b[0;34m\u001b[0m\u001b[0m\n",
      "\u001b[0;32m~/.local/share/virtualenvs/bfastmonitor_cpu-LhLEOv6G/lib/python3.6/site-packages/matplotlib/axes/_base.py\u001b[0m in \u001b[0;36mdraw\u001b[0;34m(self, renderer, inframe)\u001b[0m\n\u001b[1;32m   2605\u001b[0m             \u001b[0mrenderer\u001b[0m\u001b[0;34m.\u001b[0m\u001b[0mstop_rasterizing\u001b[0m\u001b[0;34m(\u001b[0m\u001b[0;34m)\u001b[0m\u001b[0;34m\u001b[0m\u001b[0;34m\u001b[0m\u001b[0m\n\u001b[1;32m   2606\u001b[0m \u001b[0;34m\u001b[0m\u001b[0m\n\u001b[0;32m-> 2607\u001b[0;31m         \u001b[0mmimage\u001b[0m\u001b[0;34m.\u001b[0m\u001b[0m_draw_list_compositing_images\u001b[0m\u001b[0;34m(\u001b[0m\u001b[0mrenderer\u001b[0m\u001b[0;34m,\u001b[0m \u001b[0mself\u001b[0m\u001b[0;34m,\u001b[0m \u001b[0martists\u001b[0m\u001b[0;34m)\u001b[0m\u001b[0;34m\u001b[0m\u001b[0;34m\u001b[0m\u001b[0m\n\u001b[0m\u001b[1;32m   2608\u001b[0m \u001b[0;34m\u001b[0m\u001b[0m\n\u001b[1;32m   2609\u001b[0m         \u001b[0mrenderer\u001b[0m\u001b[0;34m.\u001b[0m\u001b[0mclose_group\u001b[0m\u001b[0;34m(\u001b[0m\u001b[0;34m'axes'\u001b[0m\u001b[0;34m)\u001b[0m\u001b[0;34m\u001b[0m\u001b[0;34m\u001b[0m\u001b[0m\n",
      "\u001b[0;32m~/.local/share/virtualenvs/bfastmonitor_cpu-LhLEOv6G/lib/python3.6/site-packages/matplotlib/image.py\u001b[0m in \u001b[0;36m_draw_list_compositing_images\u001b[0;34m(renderer, parent, artists, suppress_composite)\u001b[0m\n\u001b[1;32m    139\u001b[0m     \u001b[0;32mif\u001b[0m \u001b[0mnot_composite\u001b[0m \u001b[0;32mor\u001b[0m \u001b[0;32mnot\u001b[0m \u001b[0mhas_images\u001b[0m\u001b[0;34m:\u001b[0m\u001b[0;34m\u001b[0m\u001b[0;34m\u001b[0m\u001b[0m\n\u001b[1;32m    140\u001b[0m         \u001b[0;32mfor\u001b[0m \u001b[0ma\u001b[0m \u001b[0;32min\u001b[0m \u001b[0martists\u001b[0m\u001b[0;34m:\u001b[0m\u001b[0;34m\u001b[0m\u001b[0;34m\u001b[0m\u001b[0m\n\u001b[0;32m--> 141\u001b[0;31m             \u001b[0ma\u001b[0m\u001b[0;34m.\u001b[0m\u001b[0mdraw\u001b[0m\u001b[0;34m(\u001b[0m\u001b[0mrenderer\u001b[0m\u001b[0;34m)\u001b[0m\u001b[0;34m\u001b[0m\u001b[0;34m\u001b[0m\u001b[0m\n\u001b[0m\u001b[1;32m    142\u001b[0m     \u001b[0;32melse\u001b[0m\u001b[0;34m:\u001b[0m\u001b[0;34m\u001b[0m\u001b[0;34m\u001b[0m\u001b[0m\n\u001b[1;32m    143\u001b[0m         \u001b[0;31m# Composite any adjacent images together\u001b[0m\u001b[0;34m\u001b[0m\u001b[0;34m\u001b[0m\u001b[0;34m\u001b[0m\u001b[0m\n",
      "\u001b[0;32m~/.local/share/virtualenvs/bfastmonitor_cpu-LhLEOv6G/lib/python3.6/site-packages/matplotlib/artist.py\u001b[0m in \u001b[0;36mdraw_wrapper\u001b[0;34m(artist, renderer, *args, **kwargs)\u001b[0m\n\u001b[1;32m     53\u001b[0m                 \u001b[0mrenderer\u001b[0m\u001b[0;34m.\u001b[0m\u001b[0mstart_filter\u001b[0m\u001b[0;34m(\u001b[0m\u001b[0;34m)\u001b[0m\u001b[0;34m\u001b[0m\u001b[0;34m\u001b[0m\u001b[0m\n\u001b[1;32m     54\u001b[0m \u001b[0;34m\u001b[0m\u001b[0m\n\u001b[0;32m---> 55\u001b[0;31m             \u001b[0;32mreturn\u001b[0m \u001b[0mdraw\u001b[0m\u001b[0;34m(\u001b[0m\u001b[0martist\u001b[0m\u001b[0;34m,\u001b[0m \u001b[0mrenderer\u001b[0m\u001b[0;34m,\u001b[0m \u001b[0;34m*\u001b[0m\u001b[0margs\u001b[0m\u001b[0;34m,\u001b[0m \u001b[0;34m**\u001b[0m\u001b[0mkwargs\u001b[0m\u001b[0;34m)\u001b[0m\u001b[0;34m\u001b[0m\u001b[0;34m\u001b[0m\u001b[0m\n\u001b[0m\u001b[1;32m     56\u001b[0m         \u001b[0;32mfinally\u001b[0m\u001b[0;34m:\u001b[0m\u001b[0;34m\u001b[0m\u001b[0;34m\u001b[0m\u001b[0m\n\u001b[1;32m     57\u001b[0m             \u001b[0;32mif\u001b[0m \u001b[0martist\u001b[0m\u001b[0;34m.\u001b[0m\u001b[0mget_agg_filter\u001b[0m\u001b[0;34m(\u001b[0m\u001b[0;34m)\u001b[0m \u001b[0;32mis\u001b[0m \u001b[0;32mnot\u001b[0m \u001b[0;32mNone\u001b[0m\u001b[0;34m:\u001b[0m\u001b[0;34m\u001b[0m\u001b[0;34m\u001b[0m\u001b[0m\n",
      "\u001b[0;32m~/.local/share/virtualenvs/bfastmonitor_cpu-LhLEOv6G/lib/python3.6/site-packages/matplotlib/image.py\u001b[0m in \u001b[0;36mdraw\u001b[0;34m(self, renderer, *args, **kwargs)\u001b[0m\n\u001b[1;32m    591\u001b[0m         \u001b[0;32melse\u001b[0m\u001b[0;34m:\u001b[0m\u001b[0;34m\u001b[0m\u001b[0;34m\u001b[0m\u001b[0m\n\u001b[1;32m    592\u001b[0m             im, l, b, trans = self.make_image(\n\u001b[0;32m--> 593\u001b[0;31m                 renderer, renderer.get_image_magnification())\n\u001b[0m\u001b[1;32m    594\u001b[0m             \u001b[0;32mif\u001b[0m \u001b[0mim\u001b[0m \u001b[0;32mis\u001b[0m \u001b[0;32mnot\u001b[0m \u001b[0;32mNone\u001b[0m\u001b[0;34m:\u001b[0m\u001b[0;34m\u001b[0m\u001b[0;34m\u001b[0m\u001b[0m\n\u001b[1;32m    595\u001b[0m                 \u001b[0mrenderer\u001b[0m\u001b[0;34m.\u001b[0m\u001b[0mdraw_image\u001b[0m\u001b[0;34m(\u001b[0m\u001b[0mgc\u001b[0m\u001b[0;34m,\u001b[0m \u001b[0ml\u001b[0m\u001b[0;34m,\u001b[0m \u001b[0mb\u001b[0m\u001b[0;34m,\u001b[0m \u001b[0mim\u001b[0m\u001b[0;34m)\u001b[0m\u001b[0;34m\u001b[0m\u001b[0;34m\u001b[0m\u001b[0m\n",
      "\u001b[0;32m~/.local/share/virtualenvs/bfastmonitor_cpu-LhLEOv6G/lib/python3.6/site-packages/matplotlib/image.py\u001b[0m in \u001b[0;36mmake_image\u001b[0;34m(self, renderer, magnification, unsampled)\u001b[0m\n\u001b[1;32m    839\u001b[0m         return self._make_image(\n\u001b[1;32m    840\u001b[0m             \u001b[0mself\u001b[0m\u001b[0;34m.\u001b[0m\u001b[0m_A\u001b[0m\u001b[0;34m,\u001b[0m \u001b[0mbbox\u001b[0m\u001b[0;34m,\u001b[0m \u001b[0mtransformed_bbox\u001b[0m\u001b[0;34m,\u001b[0m \u001b[0mself\u001b[0m\u001b[0;34m.\u001b[0m\u001b[0maxes\u001b[0m\u001b[0;34m.\u001b[0m\u001b[0mbbox\u001b[0m\u001b[0;34m,\u001b[0m \u001b[0mmagnification\u001b[0m\u001b[0;34m,\u001b[0m\u001b[0;34m\u001b[0m\u001b[0;34m\u001b[0m\u001b[0m\n\u001b[0;32m--> 841\u001b[0;31m             unsampled=unsampled)\n\u001b[0m\u001b[1;32m    842\u001b[0m \u001b[0;34m\u001b[0m\u001b[0m\n\u001b[1;32m    843\u001b[0m     \u001b[0;32mdef\u001b[0m \u001b[0m_check_unsampled_image\u001b[0m\u001b[0;34m(\u001b[0m\u001b[0mself\u001b[0m\u001b[0;34m,\u001b[0m \u001b[0mrenderer\u001b[0m\u001b[0;34m)\u001b[0m\u001b[0;34m:\u001b[0m\u001b[0;34m\u001b[0m\u001b[0;34m\u001b[0m\u001b[0m\n",
      "\u001b[0;32m~/.local/share/virtualenvs/bfastmonitor_cpu-LhLEOv6G/lib/python3.6/site-packages/matplotlib/image.py\u001b[0m in \u001b[0;36m_make_image\u001b[0;34m(self, A, in_bbox, out_bbox, clip_bbox, magnification, unsampled, round_to_pixel_border)\u001b[0m\n\u001b[1;32m    487\u001b[0m \u001b[0;34m\u001b[0m\u001b[0m\n\u001b[1;32m    488\u001b[0m                 \u001b[0;31m# mask and run through the norm\u001b[0m\u001b[0;34m\u001b[0m\u001b[0;34m\u001b[0m\u001b[0;34m\u001b[0m\u001b[0m\n\u001b[0;32m--> 489\u001b[0;31m                 \u001b[0moutput\u001b[0m \u001b[0;34m=\u001b[0m \u001b[0mself\u001b[0m\u001b[0;34m.\u001b[0m\u001b[0mnorm\u001b[0m\u001b[0;34m(\u001b[0m\u001b[0mnp\u001b[0m\u001b[0;34m.\u001b[0m\u001b[0mma\u001b[0m\u001b[0;34m.\u001b[0m\u001b[0mmasked_array\u001b[0m\u001b[0;34m(\u001b[0m\u001b[0mA_resampled\u001b[0m\u001b[0;34m,\u001b[0m \u001b[0mout_mask\u001b[0m\u001b[0;34m)\u001b[0m\u001b[0;34m)\u001b[0m\u001b[0;34m\u001b[0m\u001b[0;34m\u001b[0m\u001b[0m\n\u001b[0m\u001b[1;32m    490\u001b[0m             \u001b[0;32melse\u001b[0m\u001b[0;34m:\u001b[0m\u001b[0;34m\u001b[0m\u001b[0;34m\u001b[0m\u001b[0m\n\u001b[1;32m    491\u001b[0m                 \u001b[0;31m# Always convert to RGBA, even if only RGB input\u001b[0m\u001b[0;34m\u001b[0m\u001b[0;34m\u001b[0m\u001b[0;34m\u001b[0m\u001b[0m\n",
      "\u001b[0;32m~/.local/share/virtualenvs/bfastmonitor_cpu-LhLEOv6G/lib/python3.6/site-packages/matplotlib/colors.py\u001b[0m in \u001b[0;36m__call__\u001b[0;34m(self, value, clip)\u001b[0m\n\u001b[1;32m   1327\u001b[0m             \u001b[0miret\u001b[0m\u001b[0;34m[\u001b[0m\u001b[0mxx\u001b[0m \u001b[0;34m>=\u001b[0m \u001b[0mb\u001b[0m\u001b[0;34m]\u001b[0m \u001b[0;34m=\u001b[0m \u001b[0mi\u001b[0m\u001b[0;34m\u001b[0m\u001b[0;34m\u001b[0m\u001b[0m\n\u001b[1;32m   1328\u001b[0m         \u001b[0;32mif\u001b[0m \u001b[0mself\u001b[0m\u001b[0;34m.\u001b[0m\u001b[0m_interp\u001b[0m\u001b[0;34m:\u001b[0m\u001b[0;34m\u001b[0m\u001b[0;34m\u001b[0m\u001b[0m\n\u001b[0;32m-> 1329\u001b[0;31m             \u001b[0mscalefac\u001b[0m \u001b[0;34m=\u001b[0m \u001b[0;34m(\u001b[0m\u001b[0mself\u001b[0m\u001b[0;34m.\u001b[0m\u001b[0mNcmap\u001b[0m \u001b[0;34m-\u001b[0m \u001b[0;36m1\u001b[0m\u001b[0;34m)\u001b[0m \u001b[0;34m/\u001b[0m \u001b[0;34m(\u001b[0m\u001b[0mself\u001b[0m\u001b[0;34m.\u001b[0m\u001b[0mN\u001b[0m \u001b[0;34m-\u001b[0m \u001b[0;36m2\u001b[0m\u001b[0;34m)\u001b[0m\u001b[0;34m\u001b[0m\u001b[0;34m\u001b[0m\u001b[0m\n\u001b[0m\u001b[1;32m   1330\u001b[0m             \u001b[0miret\u001b[0m \u001b[0;34m=\u001b[0m \u001b[0;34m(\u001b[0m\u001b[0miret\u001b[0m \u001b[0;34m*\u001b[0m \u001b[0mscalefac\u001b[0m\u001b[0;34m)\u001b[0m\u001b[0;34m.\u001b[0m\u001b[0mastype\u001b[0m\u001b[0;34m(\u001b[0m\u001b[0mnp\u001b[0m\u001b[0;34m.\u001b[0m\u001b[0mint16\u001b[0m\u001b[0;34m)\u001b[0m\u001b[0;34m\u001b[0m\u001b[0;34m\u001b[0m\u001b[0m\n\u001b[1;32m   1331\u001b[0m         \u001b[0miret\u001b[0m\u001b[0;34m[\u001b[0m\u001b[0mxx\u001b[0m \u001b[0;34m<\u001b[0m \u001b[0mself\u001b[0m\u001b[0;34m.\u001b[0m\u001b[0mvmin\u001b[0m\u001b[0;34m]\u001b[0m \u001b[0;34m=\u001b[0m \u001b[0;34m-\u001b[0m\u001b[0;36m1\u001b[0m\u001b[0;34m\u001b[0m\u001b[0;34m\u001b[0m\u001b[0m\n",
      "\u001b[0;31mZeroDivisionError\u001b[0m: division by zero"
     ]
    },
    {
     "name": "stdout",
     "output_type": "stream",
     "text": [
      "Error in callback <function install_repl_displayhook.<locals>.post_execute at 0x7f1316591488> (for post_execute):\n"
     ]
    },
    {
     "ename": "ZeroDivisionError",
     "evalue": "division by zero",
     "output_type": "error",
     "traceback": [
      "\u001b[0;31m---------------------------------------------------------------------------\u001b[0m",
      "\u001b[0;31mZeroDivisionError\u001b[0m                         Traceback (most recent call last)",
      "\u001b[0;32m~/.local/share/virtualenvs/bfastmonitor_cpu-LhLEOv6G/lib/python3.6/site-packages/matplotlib/pyplot.py\u001b[0m in \u001b[0;36mpost_execute\u001b[0;34m()\u001b[0m\n\u001b[1;32m    147\u001b[0m             \u001b[0;32mdef\u001b[0m \u001b[0mpost_execute\u001b[0m\u001b[0;34m(\u001b[0m\u001b[0;34m)\u001b[0m\u001b[0;34m:\u001b[0m\u001b[0;34m\u001b[0m\u001b[0;34m\u001b[0m\u001b[0m\n\u001b[1;32m    148\u001b[0m                 \u001b[0;32mif\u001b[0m \u001b[0mmatplotlib\u001b[0m\u001b[0;34m.\u001b[0m\u001b[0mis_interactive\u001b[0m\u001b[0;34m(\u001b[0m\u001b[0;34m)\u001b[0m\u001b[0;34m:\u001b[0m\u001b[0;34m\u001b[0m\u001b[0;34m\u001b[0m\u001b[0m\n\u001b[0;32m--> 149\u001b[0;31m                     \u001b[0mdraw_all\u001b[0m\u001b[0;34m(\u001b[0m\u001b[0;34m)\u001b[0m\u001b[0;34m\u001b[0m\u001b[0;34m\u001b[0m\u001b[0m\n\u001b[0m\u001b[1;32m    150\u001b[0m \u001b[0;34m\u001b[0m\u001b[0m\n\u001b[1;32m    151\u001b[0m             \u001b[0;31m# IPython >= 2\u001b[0m\u001b[0;34m\u001b[0m\u001b[0;34m\u001b[0m\u001b[0;34m\u001b[0m\u001b[0m\n",
      "\u001b[0;32m~/.local/share/virtualenvs/bfastmonitor_cpu-LhLEOv6G/lib/python3.6/site-packages/matplotlib/_pylab_helpers.py\u001b[0m in \u001b[0;36mdraw_all\u001b[0;34m(cls, force)\u001b[0m\n\u001b[1;32m    134\u001b[0m         \u001b[0;32mfor\u001b[0m \u001b[0mf_mgr\u001b[0m \u001b[0;32min\u001b[0m \u001b[0mcls\u001b[0m\u001b[0;34m.\u001b[0m\u001b[0mget_all_fig_managers\u001b[0m\u001b[0;34m(\u001b[0m\u001b[0;34m)\u001b[0m\u001b[0;34m:\u001b[0m\u001b[0;34m\u001b[0m\u001b[0;34m\u001b[0m\u001b[0m\n\u001b[1;32m    135\u001b[0m             \u001b[0;32mif\u001b[0m \u001b[0mforce\u001b[0m \u001b[0;32mor\u001b[0m \u001b[0mf_mgr\u001b[0m\u001b[0;34m.\u001b[0m\u001b[0mcanvas\u001b[0m\u001b[0;34m.\u001b[0m\u001b[0mfigure\u001b[0m\u001b[0;34m.\u001b[0m\u001b[0mstale\u001b[0m\u001b[0;34m:\u001b[0m\u001b[0;34m\u001b[0m\u001b[0;34m\u001b[0m\u001b[0m\n\u001b[0;32m--> 136\u001b[0;31m                 \u001b[0mf_mgr\u001b[0m\u001b[0;34m.\u001b[0m\u001b[0mcanvas\u001b[0m\u001b[0;34m.\u001b[0m\u001b[0mdraw_idle\u001b[0m\u001b[0;34m(\u001b[0m\u001b[0;34m)\u001b[0m\u001b[0;34m\u001b[0m\u001b[0;34m\u001b[0m\u001b[0m\n\u001b[0m\u001b[1;32m    137\u001b[0m \u001b[0;34m\u001b[0m\u001b[0m\n\u001b[1;32m    138\u001b[0m \u001b[0matexit\u001b[0m\u001b[0;34m.\u001b[0m\u001b[0mregister\u001b[0m\u001b[0;34m(\u001b[0m\u001b[0mGcf\u001b[0m\u001b[0;34m.\u001b[0m\u001b[0mdestroy_all\u001b[0m\u001b[0;34m)\u001b[0m\u001b[0;34m\u001b[0m\u001b[0;34m\u001b[0m\u001b[0m\n",
      "\u001b[0;32m~/.local/share/virtualenvs/bfastmonitor_cpu-LhLEOv6G/lib/python3.6/site-packages/matplotlib/backend_bases.py\u001b[0m in \u001b[0;36mdraw_idle\u001b[0;34m(self, *args, **kwargs)\u001b[0m\n\u001b[1;32m   2053\u001b[0m         \u001b[0;32mif\u001b[0m \u001b[0;32mnot\u001b[0m \u001b[0mself\u001b[0m\u001b[0;34m.\u001b[0m\u001b[0m_is_idle_drawing\u001b[0m\u001b[0;34m:\u001b[0m\u001b[0;34m\u001b[0m\u001b[0;34m\u001b[0m\u001b[0m\n\u001b[1;32m   2054\u001b[0m             \u001b[0;32mwith\u001b[0m \u001b[0mself\u001b[0m\u001b[0;34m.\u001b[0m\u001b[0m_idle_draw_cntx\u001b[0m\u001b[0;34m(\u001b[0m\u001b[0;34m)\u001b[0m\u001b[0;34m:\u001b[0m\u001b[0;34m\u001b[0m\u001b[0;34m\u001b[0m\u001b[0m\n\u001b[0;32m-> 2055\u001b[0;31m                 \u001b[0mself\u001b[0m\u001b[0;34m.\u001b[0m\u001b[0mdraw\u001b[0m\u001b[0;34m(\u001b[0m\u001b[0;34m*\u001b[0m\u001b[0margs\u001b[0m\u001b[0;34m,\u001b[0m \u001b[0;34m**\u001b[0m\u001b[0mkwargs\u001b[0m\u001b[0;34m)\u001b[0m\u001b[0;34m\u001b[0m\u001b[0;34m\u001b[0m\u001b[0m\n\u001b[0m\u001b[1;32m   2056\u001b[0m \u001b[0;34m\u001b[0m\u001b[0m\n\u001b[1;32m   2057\u001b[0m     \u001b[0;32mdef\u001b[0m \u001b[0mdraw_cursor\u001b[0m\u001b[0;34m(\u001b[0m\u001b[0mself\u001b[0m\u001b[0;34m,\u001b[0m \u001b[0mevent\u001b[0m\u001b[0;34m)\u001b[0m\u001b[0;34m:\u001b[0m\u001b[0;34m\u001b[0m\u001b[0;34m\u001b[0m\u001b[0m\n",
      "\u001b[0;32m~/.local/share/virtualenvs/bfastmonitor_cpu-LhLEOv6G/lib/python3.6/site-packages/matplotlib/backends/backend_agg.py\u001b[0m in \u001b[0;36mdraw\u001b[0;34m(self)\u001b[0m\n\u001b[1;32m    431\u001b[0m             \u001b[0;31m# if toolbar:\u001b[0m\u001b[0;34m\u001b[0m\u001b[0;34m\u001b[0m\u001b[0;34m\u001b[0m\u001b[0m\n\u001b[1;32m    432\u001b[0m             \u001b[0;31m#     toolbar.set_cursor(cursors.WAIT)\u001b[0m\u001b[0;34m\u001b[0m\u001b[0;34m\u001b[0m\u001b[0;34m\u001b[0m\u001b[0m\n\u001b[0;32m--> 433\u001b[0;31m             \u001b[0mself\u001b[0m\u001b[0;34m.\u001b[0m\u001b[0mfigure\u001b[0m\u001b[0;34m.\u001b[0m\u001b[0mdraw\u001b[0m\u001b[0;34m(\u001b[0m\u001b[0mself\u001b[0m\u001b[0;34m.\u001b[0m\u001b[0mrenderer\u001b[0m\u001b[0;34m)\u001b[0m\u001b[0;34m\u001b[0m\u001b[0;34m\u001b[0m\u001b[0m\n\u001b[0m\u001b[1;32m    434\u001b[0m             \u001b[0;31m# A GUI class may be need to update a window using this draw, so\u001b[0m\u001b[0;34m\u001b[0m\u001b[0;34m\u001b[0m\u001b[0;34m\u001b[0m\u001b[0m\n\u001b[1;32m    435\u001b[0m             \u001b[0;31m# don't forget to call the superclass.\u001b[0m\u001b[0;34m\u001b[0m\u001b[0;34m\u001b[0m\u001b[0;34m\u001b[0m\u001b[0m\n",
      "\u001b[0;32m~/.local/share/virtualenvs/bfastmonitor_cpu-LhLEOv6G/lib/python3.6/site-packages/matplotlib/artist.py\u001b[0m in \u001b[0;36mdraw_wrapper\u001b[0;34m(artist, renderer, *args, **kwargs)\u001b[0m\n\u001b[1;32m     53\u001b[0m                 \u001b[0mrenderer\u001b[0m\u001b[0;34m.\u001b[0m\u001b[0mstart_filter\u001b[0m\u001b[0;34m(\u001b[0m\u001b[0;34m)\u001b[0m\u001b[0;34m\u001b[0m\u001b[0;34m\u001b[0m\u001b[0m\n\u001b[1;32m     54\u001b[0m \u001b[0;34m\u001b[0m\u001b[0m\n\u001b[0;32m---> 55\u001b[0;31m             \u001b[0;32mreturn\u001b[0m \u001b[0mdraw\u001b[0m\u001b[0;34m(\u001b[0m\u001b[0martist\u001b[0m\u001b[0;34m,\u001b[0m \u001b[0mrenderer\u001b[0m\u001b[0;34m,\u001b[0m \u001b[0;34m*\u001b[0m\u001b[0margs\u001b[0m\u001b[0;34m,\u001b[0m \u001b[0;34m**\u001b[0m\u001b[0mkwargs\u001b[0m\u001b[0;34m)\u001b[0m\u001b[0;34m\u001b[0m\u001b[0;34m\u001b[0m\u001b[0m\n\u001b[0m\u001b[1;32m     56\u001b[0m         \u001b[0;32mfinally\u001b[0m\u001b[0;34m:\u001b[0m\u001b[0;34m\u001b[0m\u001b[0;34m\u001b[0m\u001b[0m\n\u001b[1;32m     57\u001b[0m             \u001b[0;32mif\u001b[0m \u001b[0martist\u001b[0m\u001b[0;34m.\u001b[0m\u001b[0mget_agg_filter\u001b[0m\u001b[0;34m(\u001b[0m\u001b[0;34m)\u001b[0m \u001b[0;32mis\u001b[0m \u001b[0;32mnot\u001b[0m \u001b[0;32mNone\u001b[0m\u001b[0;34m:\u001b[0m\u001b[0;34m\u001b[0m\u001b[0;34m\u001b[0m\u001b[0m\n",
      "\u001b[0;32m~/.local/share/virtualenvs/bfastmonitor_cpu-LhLEOv6G/lib/python3.6/site-packages/matplotlib/figure.py\u001b[0m in \u001b[0;36mdraw\u001b[0;34m(self, renderer)\u001b[0m\n\u001b[1;32m   1473\u001b[0m \u001b[0;34m\u001b[0m\u001b[0m\n\u001b[1;32m   1474\u001b[0m             mimage._draw_list_compositing_images(\n\u001b[0;32m-> 1475\u001b[0;31m                 renderer, self, artists, self.suppressComposite)\n\u001b[0m\u001b[1;32m   1476\u001b[0m \u001b[0;34m\u001b[0m\u001b[0m\n\u001b[1;32m   1477\u001b[0m             \u001b[0mrenderer\u001b[0m\u001b[0;34m.\u001b[0m\u001b[0mclose_group\u001b[0m\u001b[0;34m(\u001b[0m\u001b[0;34m'figure'\u001b[0m\u001b[0;34m)\u001b[0m\u001b[0;34m\u001b[0m\u001b[0;34m\u001b[0m\u001b[0m\n",
      "\u001b[0;32m~/.local/share/virtualenvs/bfastmonitor_cpu-LhLEOv6G/lib/python3.6/site-packages/matplotlib/image.py\u001b[0m in \u001b[0;36m_draw_list_compositing_images\u001b[0;34m(renderer, parent, artists, suppress_composite)\u001b[0m\n\u001b[1;32m    139\u001b[0m     \u001b[0;32mif\u001b[0m \u001b[0mnot_composite\u001b[0m \u001b[0;32mor\u001b[0m \u001b[0;32mnot\u001b[0m \u001b[0mhas_images\u001b[0m\u001b[0;34m:\u001b[0m\u001b[0;34m\u001b[0m\u001b[0;34m\u001b[0m\u001b[0m\n\u001b[1;32m    140\u001b[0m         \u001b[0;32mfor\u001b[0m \u001b[0ma\u001b[0m \u001b[0;32min\u001b[0m \u001b[0martists\u001b[0m\u001b[0;34m:\u001b[0m\u001b[0;34m\u001b[0m\u001b[0;34m\u001b[0m\u001b[0m\n\u001b[0;32m--> 141\u001b[0;31m             \u001b[0ma\u001b[0m\u001b[0;34m.\u001b[0m\u001b[0mdraw\u001b[0m\u001b[0;34m(\u001b[0m\u001b[0mrenderer\u001b[0m\u001b[0;34m)\u001b[0m\u001b[0;34m\u001b[0m\u001b[0;34m\u001b[0m\u001b[0m\n\u001b[0m\u001b[1;32m    142\u001b[0m     \u001b[0;32melse\u001b[0m\u001b[0;34m:\u001b[0m\u001b[0;34m\u001b[0m\u001b[0;34m\u001b[0m\u001b[0m\n\u001b[1;32m    143\u001b[0m         \u001b[0;31m# Composite any adjacent images together\u001b[0m\u001b[0;34m\u001b[0m\u001b[0;34m\u001b[0m\u001b[0;34m\u001b[0m\u001b[0m\n",
      "\u001b[0;32m~/.local/share/virtualenvs/bfastmonitor_cpu-LhLEOv6G/lib/python3.6/site-packages/matplotlib/artist.py\u001b[0m in \u001b[0;36mdraw_wrapper\u001b[0;34m(artist, renderer, *args, **kwargs)\u001b[0m\n\u001b[1;32m     53\u001b[0m                 \u001b[0mrenderer\u001b[0m\u001b[0;34m.\u001b[0m\u001b[0mstart_filter\u001b[0m\u001b[0;34m(\u001b[0m\u001b[0;34m)\u001b[0m\u001b[0;34m\u001b[0m\u001b[0;34m\u001b[0m\u001b[0m\n\u001b[1;32m     54\u001b[0m \u001b[0;34m\u001b[0m\u001b[0m\n\u001b[0;32m---> 55\u001b[0;31m             \u001b[0;32mreturn\u001b[0m \u001b[0mdraw\u001b[0m\u001b[0;34m(\u001b[0m\u001b[0martist\u001b[0m\u001b[0;34m,\u001b[0m \u001b[0mrenderer\u001b[0m\u001b[0;34m,\u001b[0m \u001b[0;34m*\u001b[0m\u001b[0margs\u001b[0m\u001b[0;34m,\u001b[0m \u001b[0;34m**\u001b[0m\u001b[0mkwargs\u001b[0m\u001b[0;34m)\u001b[0m\u001b[0;34m\u001b[0m\u001b[0;34m\u001b[0m\u001b[0m\n\u001b[0m\u001b[1;32m     56\u001b[0m         \u001b[0;32mfinally\u001b[0m\u001b[0;34m:\u001b[0m\u001b[0;34m\u001b[0m\u001b[0;34m\u001b[0m\u001b[0m\n\u001b[1;32m     57\u001b[0m             \u001b[0;32mif\u001b[0m \u001b[0martist\u001b[0m\u001b[0;34m.\u001b[0m\u001b[0mget_agg_filter\u001b[0m\u001b[0;34m(\u001b[0m\u001b[0;34m)\u001b[0m \u001b[0;32mis\u001b[0m \u001b[0;32mnot\u001b[0m \u001b[0;32mNone\u001b[0m\u001b[0;34m:\u001b[0m\u001b[0;34m\u001b[0m\u001b[0;34m\u001b[0m\u001b[0m\n",
      "\u001b[0;32m~/.local/share/virtualenvs/bfastmonitor_cpu-LhLEOv6G/lib/python3.6/site-packages/matplotlib/axes/_base.py\u001b[0m in \u001b[0;36mdraw\u001b[0;34m(self, renderer, inframe)\u001b[0m\n\u001b[1;32m   2605\u001b[0m             \u001b[0mrenderer\u001b[0m\u001b[0;34m.\u001b[0m\u001b[0mstop_rasterizing\u001b[0m\u001b[0;34m(\u001b[0m\u001b[0;34m)\u001b[0m\u001b[0;34m\u001b[0m\u001b[0;34m\u001b[0m\u001b[0m\n\u001b[1;32m   2606\u001b[0m \u001b[0;34m\u001b[0m\u001b[0m\n\u001b[0;32m-> 2607\u001b[0;31m         \u001b[0mmimage\u001b[0m\u001b[0;34m.\u001b[0m\u001b[0m_draw_list_compositing_images\u001b[0m\u001b[0;34m(\u001b[0m\u001b[0mrenderer\u001b[0m\u001b[0;34m,\u001b[0m \u001b[0mself\u001b[0m\u001b[0;34m,\u001b[0m \u001b[0martists\u001b[0m\u001b[0;34m)\u001b[0m\u001b[0;34m\u001b[0m\u001b[0;34m\u001b[0m\u001b[0m\n\u001b[0m\u001b[1;32m   2608\u001b[0m \u001b[0;34m\u001b[0m\u001b[0m\n\u001b[1;32m   2609\u001b[0m         \u001b[0mrenderer\u001b[0m\u001b[0;34m.\u001b[0m\u001b[0mclose_group\u001b[0m\u001b[0;34m(\u001b[0m\u001b[0;34m'axes'\u001b[0m\u001b[0;34m)\u001b[0m\u001b[0;34m\u001b[0m\u001b[0;34m\u001b[0m\u001b[0m\n",
      "\u001b[0;32m~/.local/share/virtualenvs/bfastmonitor_cpu-LhLEOv6G/lib/python3.6/site-packages/matplotlib/image.py\u001b[0m in \u001b[0;36m_draw_list_compositing_images\u001b[0;34m(renderer, parent, artists, suppress_composite)\u001b[0m\n\u001b[1;32m    139\u001b[0m     \u001b[0;32mif\u001b[0m \u001b[0mnot_composite\u001b[0m \u001b[0;32mor\u001b[0m \u001b[0;32mnot\u001b[0m \u001b[0mhas_images\u001b[0m\u001b[0;34m:\u001b[0m\u001b[0;34m\u001b[0m\u001b[0;34m\u001b[0m\u001b[0m\n\u001b[1;32m    140\u001b[0m         \u001b[0;32mfor\u001b[0m \u001b[0ma\u001b[0m \u001b[0;32min\u001b[0m \u001b[0martists\u001b[0m\u001b[0;34m:\u001b[0m\u001b[0;34m\u001b[0m\u001b[0;34m\u001b[0m\u001b[0m\n\u001b[0;32m--> 141\u001b[0;31m             \u001b[0ma\u001b[0m\u001b[0;34m.\u001b[0m\u001b[0mdraw\u001b[0m\u001b[0;34m(\u001b[0m\u001b[0mrenderer\u001b[0m\u001b[0;34m)\u001b[0m\u001b[0;34m\u001b[0m\u001b[0;34m\u001b[0m\u001b[0m\n\u001b[0m\u001b[1;32m    142\u001b[0m     \u001b[0;32melse\u001b[0m\u001b[0;34m:\u001b[0m\u001b[0;34m\u001b[0m\u001b[0;34m\u001b[0m\u001b[0m\n\u001b[1;32m    143\u001b[0m         \u001b[0;31m# Composite any adjacent images together\u001b[0m\u001b[0;34m\u001b[0m\u001b[0;34m\u001b[0m\u001b[0;34m\u001b[0m\u001b[0m\n",
      "\u001b[0;32m~/.local/share/virtualenvs/bfastmonitor_cpu-LhLEOv6G/lib/python3.6/site-packages/matplotlib/artist.py\u001b[0m in \u001b[0;36mdraw_wrapper\u001b[0;34m(artist, renderer, *args, **kwargs)\u001b[0m\n\u001b[1;32m     53\u001b[0m                 \u001b[0mrenderer\u001b[0m\u001b[0;34m.\u001b[0m\u001b[0mstart_filter\u001b[0m\u001b[0;34m(\u001b[0m\u001b[0;34m)\u001b[0m\u001b[0;34m\u001b[0m\u001b[0;34m\u001b[0m\u001b[0m\n\u001b[1;32m     54\u001b[0m \u001b[0;34m\u001b[0m\u001b[0m\n\u001b[0;32m---> 55\u001b[0;31m             \u001b[0;32mreturn\u001b[0m \u001b[0mdraw\u001b[0m\u001b[0;34m(\u001b[0m\u001b[0martist\u001b[0m\u001b[0;34m,\u001b[0m \u001b[0mrenderer\u001b[0m\u001b[0;34m,\u001b[0m \u001b[0;34m*\u001b[0m\u001b[0margs\u001b[0m\u001b[0;34m,\u001b[0m \u001b[0;34m**\u001b[0m\u001b[0mkwargs\u001b[0m\u001b[0;34m)\u001b[0m\u001b[0;34m\u001b[0m\u001b[0;34m\u001b[0m\u001b[0m\n\u001b[0m\u001b[1;32m     56\u001b[0m         \u001b[0;32mfinally\u001b[0m\u001b[0;34m:\u001b[0m\u001b[0;34m\u001b[0m\u001b[0;34m\u001b[0m\u001b[0m\n\u001b[1;32m     57\u001b[0m             \u001b[0;32mif\u001b[0m \u001b[0martist\u001b[0m\u001b[0;34m.\u001b[0m\u001b[0mget_agg_filter\u001b[0m\u001b[0;34m(\u001b[0m\u001b[0;34m)\u001b[0m \u001b[0;32mis\u001b[0m \u001b[0;32mnot\u001b[0m \u001b[0;32mNone\u001b[0m\u001b[0;34m:\u001b[0m\u001b[0;34m\u001b[0m\u001b[0;34m\u001b[0m\u001b[0m\n",
      "\u001b[0;32m~/.local/share/virtualenvs/bfastmonitor_cpu-LhLEOv6G/lib/python3.6/site-packages/matplotlib/image.py\u001b[0m in \u001b[0;36mdraw\u001b[0;34m(self, renderer, *args, **kwargs)\u001b[0m\n\u001b[1;32m    591\u001b[0m         \u001b[0;32melse\u001b[0m\u001b[0;34m:\u001b[0m\u001b[0;34m\u001b[0m\u001b[0;34m\u001b[0m\u001b[0m\n\u001b[1;32m    592\u001b[0m             im, l, b, trans = self.make_image(\n\u001b[0;32m--> 593\u001b[0;31m                 renderer, renderer.get_image_magnification())\n\u001b[0m\u001b[1;32m    594\u001b[0m             \u001b[0;32mif\u001b[0m \u001b[0mim\u001b[0m \u001b[0;32mis\u001b[0m \u001b[0;32mnot\u001b[0m \u001b[0;32mNone\u001b[0m\u001b[0;34m:\u001b[0m\u001b[0;34m\u001b[0m\u001b[0;34m\u001b[0m\u001b[0m\n\u001b[1;32m    595\u001b[0m                 \u001b[0mrenderer\u001b[0m\u001b[0;34m.\u001b[0m\u001b[0mdraw_image\u001b[0m\u001b[0;34m(\u001b[0m\u001b[0mgc\u001b[0m\u001b[0;34m,\u001b[0m \u001b[0ml\u001b[0m\u001b[0;34m,\u001b[0m \u001b[0mb\u001b[0m\u001b[0;34m,\u001b[0m \u001b[0mim\u001b[0m\u001b[0;34m)\u001b[0m\u001b[0;34m\u001b[0m\u001b[0;34m\u001b[0m\u001b[0m\n",
      "\u001b[0;32m~/.local/share/virtualenvs/bfastmonitor_cpu-LhLEOv6G/lib/python3.6/site-packages/matplotlib/image.py\u001b[0m in \u001b[0;36mmake_image\u001b[0;34m(self, renderer, magnification, unsampled)\u001b[0m\n\u001b[1;32m    839\u001b[0m         return self._make_image(\n\u001b[1;32m    840\u001b[0m             \u001b[0mself\u001b[0m\u001b[0;34m.\u001b[0m\u001b[0m_A\u001b[0m\u001b[0;34m,\u001b[0m \u001b[0mbbox\u001b[0m\u001b[0;34m,\u001b[0m \u001b[0mtransformed_bbox\u001b[0m\u001b[0;34m,\u001b[0m \u001b[0mself\u001b[0m\u001b[0;34m.\u001b[0m\u001b[0maxes\u001b[0m\u001b[0;34m.\u001b[0m\u001b[0mbbox\u001b[0m\u001b[0;34m,\u001b[0m \u001b[0mmagnification\u001b[0m\u001b[0;34m,\u001b[0m\u001b[0;34m\u001b[0m\u001b[0;34m\u001b[0m\u001b[0m\n\u001b[0;32m--> 841\u001b[0;31m             unsampled=unsampled)\n\u001b[0m\u001b[1;32m    842\u001b[0m \u001b[0;34m\u001b[0m\u001b[0m\n\u001b[1;32m    843\u001b[0m     \u001b[0;32mdef\u001b[0m \u001b[0m_check_unsampled_image\u001b[0m\u001b[0;34m(\u001b[0m\u001b[0mself\u001b[0m\u001b[0;34m,\u001b[0m \u001b[0mrenderer\u001b[0m\u001b[0;34m)\u001b[0m\u001b[0;34m:\u001b[0m\u001b[0;34m\u001b[0m\u001b[0;34m\u001b[0m\u001b[0m\n",
      "\u001b[0;32m~/.local/share/virtualenvs/bfastmonitor_cpu-LhLEOv6G/lib/python3.6/site-packages/matplotlib/image.py\u001b[0m in \u001b[0;36m_make_image\u001b[0;34m(self, A, in_bbox, out_bbox, clip_bbox, magnification, unsampled, round_to_pixel_border)\u001b[0m\n\u001b[1;32m    487\u001b[0m \u001b[0;34m\u001b[0m\u001b[0m\n\u001b[1;32m    488\u001b[0m                 \u001b[0;31m# mask and run through the norm\u001b[0m\u001b[0;34m\u001b[0m\u001b[0;34m\u001b[0m\u001b[0;34m\u001b[0m\u001b[0m\n\u001b[0;32m--> 489\u001b[0;31m                 \u001b[0moutput\u001b[0m \u001b[0;34m=\u001b[0m \u001b[0mself\u001b[0m\u001b[0;34m.\u001b[0m\u001b[0mnorm\u001b[0m\u001b[0;34m(\u001b[0m\u001b[0mnp\u001b[0m\u001b[0;34m.\u001b[0m\u001b[0mma\u001b[0m\u001b[0;34m.\u001b[0m\u001b[0mmasked_array\u001b[0m\u001b[0;34m(\u001b[0m\u001b[0mA_resampled\u001b[0m\u001b[0;34m,\u001b[0m \u001b[0mout_mask\u001b[0m\u001b[0;34m)\u001b[0m\u001b[0;34m)\u001b[0m\u001b[0;34m\u001b[0m\u001b[0;34m\u001b[0m\u001b[0m\n\u001b[0m\u001b[1;32m    490\u001b[0m             \u001b[0;32melse\u001b[0m\u001b[0;34m:\u001b[0m\u001b[0;34m\u001b[0m\u001b[0;34m\u001b[0m\u001b[0m\n\u001b[1;32m    491\u001b[0m                 \u001b[0;31m# Always convert to RGBA, even if only RGB input\u001b[0m\u001b[0;34m\u001b[0m\u001b[0;34m\u001b[0m\u001b[0;34m\u001b[0m\u001b[0m\n",
      "\u001b[0;32m~/.local/share/virtualenvs/bfastmonitor_cpu-LhLEOv6G/lib/python3.6/site-packages/matplotlib/colors.py\u001b[0m in \u001b[0;36m__call__\u001b[0;34m(self, value, clip)\u001b[0m\n\u001b[1;32m   1327\u001b[0m             \u001b[0miret\u001b[0m\u001b[0;34m[\u001b[0m\u001b[0mxx\u001b[0m \u001b[0;34m>=\u001b[0m \u001b[0mb\u001b[0m\u001b[0;34m]\u001b[0m \u001b[0;34m=\u001b[0m \u001b[0mi\u001b[0m\u001b[0;34m\u001b[0m\u001b[0;34m\u001b[0m\u001b[0m\n\u001b[1;32m   1328\u001b[0m         \u001b[0;32mif\u001b[0m \u001b[0mself\u001b[0m\u001b[0;34m.\u001b[0m\u001b[0m_interp\u001b[0m\u001b[0;34m:\u001b[0m\u001b[0;34m\u001b[0m\u001b[0;34m\u001b[0m\u001b[0m\n\u001b[0;32m-> 1329\u001b[0;31m             \u001b[0mscalefac\u001b[0m \u001b[0;34m=\u001b[0m \u001b[0;34m(\u001b[0m\u001b[0mself\u001b[0m\u001b[0;34m.\u001b[0m\u001b[0mNcmap\u001b[0m \u001b[0;34m-\u001b[0m \u001b[0;36m1\u001b[0m\u001b[0;34m)\u001b[0m \u001b[0;34m/\u001b[0m \u001b[0;34m(\u001b[0m\u001b[0mself\u001b[0m\u001b[0;34m.\u001b[0m\u001b[0mN\u001b[0m \u001b[0;34m-\u001b[0m \u001b[0;36m2\u001b[0m\u001b[0;34m)\u001b[0m\u001b[0;34m\u001b[0m\u001b[0;34m\u001b[0m\u001b[0m\n\u001b[0m\u001b[1;32m   1330\u001b[0m             \u001b[0miret\u001b[0m \u001b[0;34m=\u001b[0m \u001b[0;34m(\u001b[0m\u001b[0miret\u001b[0m \u001b[0;34m*\u001b[0m \u001b[0mscalefac\u001b[0m\u001b[0;34m)\u001b[0m\u001b[0;34m.\u001b[0m\u001b[0mastype\u001b[0m\u001b[0;34m(\u001b[0m\u001b[0mnp\u001b[0m\u001b[0;34m.\u001b[0m\u001b[0mint16\u001b[0m\u001b[0;34m)\u001b[0m\u001b[0;34m\u001b[0m\u001b[0;34m\u001b[0m\u001b[0m\n\u001b[1;32m   1331\u001b[0m         \u001b[0miret\u001b[0m\u001b[0;34m[\u001b[0m\u001b[0mxx\u001b[0m \u001b[0;34m<\u001b[0m \u001b[0mself\u001b[0m\u001b[0;34m.\u001b[0m\u001b[0mvmin\u001b[0m\u001b[0;34m]\u001b[0m \u001b[0;34m=\u001b[0m \u001b[0;34m-\u001b[0m\u001b[0;36m1\u001b[0m\u001b[0;34m\u001b[0m\u001b[0;34m\u001b[0m\u001b[0m\n",
      "\u001b[0;31mZeroDivisionError\u001b[0m: division by zero"
     ]
    },
    {
     "ename": "ZeroDivisionError",
     "evalue": "division by zero",
     "output_type": "error",
     "traceback": [
      "\u001b[0;31m---------------------------------------------------------------------------\u001b[0m",
      "\u001b[0;31mZeroDivisionError\u001b[0m                         Traceback (most recent call last)",
      "\u001b[0;32m~/.local/share/virtualenvs/bfastmonitor_cpu-LhLEOv6G/lib/python3.6/site-packages/IPython/core/formatters.py\u001b[0m in \u001b[0;36m__call__\u001b[0;34m(self, obj)\u001b[0m\n\u001b[1;32m    339\u001b[0m                 \u001b[0;32mpass\u001b[0m\u001b[0;34m\u001b[0m\u001b[0;34m\u001b[0m\u001b[0m\n\u001b[1;32m    340\u001b[0m             \u001b[0;32melse\u001b[0m\u001b[0;34m:\u001b[0m\u001b[0;34m\u001b[0m\u001b[0;34m\u001b[0m\u001b[0m\n\u001b[0;32m--> 341\u001b[0;31m                 \u001b[0;32mreturn\u001b[0m \u001b[0mprinter\u001b[0m\u001b[0;34m(\u001b[0m\u001b[0mobj\u001b[0m\u001b[0;34m)\u001b[0m\u001b[0;34m\u001b[0m\u001b[0;34m\u001b[0m\u001b[0m\n\u001b[0m\u001b[1;32m    342\u001b[0m             \u001b[0;31m# Finally look for special method names\u001b[0m\u001b[0;34m\u001b[0m\u001b[0;34m\u001b[0m\u001b[0;34m\u001b[0m\u001b[0m\n\u001b[1;32m    343\u001b[0m             \u001b[0mmethod\u001b[0m \u001b[0;34m=\u001b[0m \u001b[0mget_real_method\u001b[0m\u001b[0;34m(\u001b[0m\u001b[0mobj\u001b[0m\u001b[0;34m,\u001b[0m \u001b[0mself\u001b[0m\u001b[0;34m.\u001b[0m\u001b[0mprint_method\u001b[0m\u001b[0;34m)\u001b[0m\u001b[0;34m\u001b[0m\u001b[0;34m\u001b[0m\u001b[0m\n",
      "\u001b[0;32m~/.local/share/virtualenvs/bfastmonitor_cpu-LhLEOv6G/lib/python3.6/site-packages/IPython/core/pylabtools.py\u001b[0m in \u001b[0;36m<lambda>\u001b[0;34m(fig)\u001b[0m\n\u001b[1;32m    246\u001b[0m \u001b[0;34m\u001b[0m\u001b[0m\n\u001b[1;32m    247\u001b[0m     \u001b[0;32mif\u001b[0m \u001b[0;34m'png'\u001b[0m \u001b[0;32min\u001b[0m \u001b[0mformats\u001b[0m\u001b[0;34m:\u001b[0m\u001b[0;34m\u001b[0m\u001b[0;34m\u001b[0m\u001b[0m\n\u001b[0;32m--> 248\u001b[0;31m         \u001b[0mpng_formatter\u001b[0m\u001b[0;34m.\u001b[0m\u001b[0mfor_type\u001b[0m\u001b[0;34m(\u001b[0m\u001b[0mFigure\u001b[0m\u001b[0;34m,\u001b[0m \u001b[0;32mlambda\u001b[0m \u001b[0mfig\u001b[0m\u001b[0;34m:\u001b[0m \u001b[0mprint_figure\u001b[0m\u001b[0;34m(\u001b[0m\u001b[0mfig\u001b[0m\u001b[0;34m,\u001b[0m \u001b[0;34m'png'\u001b[0m\u001b[0;34m,\u001b[0m \u001b[0;34m**\u001b[0m\u001b[0mkwargs\u001b[0m\u001b[0;34m)\u001b[0m\u001b[0;34m)\u001b[0m\u001b[0;34m\u001b[0m\u001b[0;34m\u001b[0m\u001b[0m\n\u001b[0m\u001b[1;32m    249\u001b[0m     \u001b[0;32mif\u001b[0m \u001b[0;34m'retina'\u001b[0m \u001b[0;32min\u001b[0m \u001b[0mformats\u001b[0m \u001b[0;32mor\u001b[0m \u001b[0;34m'png2x'\u001b[0m \u001b[0;32min\u001b[0m \u001b[0mformats\u001b[0m\u001b[0;34m:\u001b[0m\u001b[0;34m\u001b[0m\u001b[0;34m\u001b[0m\u001b[0m\n\u001b[1;32m    250\u001b[0m         \u001b[0mpng_formatter\u001b[0m\u001b[0;34m.\u001b[0m\u001b[0mfor_type\u001b[0m\u001b[0;34m(\u001b[0m\u001b[0mFigure\u001b[0m\u001b[0;34m,\u001b[0m \u001b[0;32mlambda\u001b[0m \u001b[0mfig\u001b[0m\u001b[0;34m:\u001b[0m \u001b[0mretina_figure\u001b[0m\u001b[0;34m(\u001b[0m\u001b[0mfig\u001b[0m\u001b[0;34m,\u001b[0m \u001b[0;34m**\u001b[0m\u001b[0mkwargs\u001b[0m\u001b[0;34m)\u001b[0m\u001b[0;34m)\u001b[0m\u001b[0;34m\u001b[0m\u001b[0;34m\u001b[0m\u001b[0m\n",
      "\u001b[0;32m~/.local/share/virtualenvs/bfastmonitor_cpu-LhLEOv6G/lib/python3.6/site-packages/IPython/core/pylabtools.py\u001b[0m in \u001b[0;36mprint_figure\u001b[0;34m(fig, fmt, bbox_inches, **kwargs)\u001b[0m\n\u001b[1;32m    130\u001b[0m         \u001b[0mFigureCanvasBase\u001b[0m\u001b[0;34m(\u001b[0m\u001b[0mfig\u001b[0m\u001b[0;34m)\u001b[0m\u001b[0;34m\u001b[0m\u001b[0;34m\u001b[0m\u001b[0m\n\u001b[1;32m    131\u001b[0m \u001b[0;34m\u001b[0m\u001b[0m\n\u001b[0;32m--> 132\u001b[0;31m     \u001b[0mfig\u001b[0m\u001b[0;34m.\u001b[0m\u001b[0mcanvas\u001b[0m\u001b[0;34m.\u001b[0m\u001b[0mprint_figure\u001b[0m\u001b[0;34m(\u001b[0m\u001b[0mbytes_io\u001b[0m\u001b[0;34m,\u001b[0m \u001b[0;34m**\u001b[0m\u001b[0mkw\u001b[0m\u001b[0;34m)\u001b[0m\u001b[0;34m\u001b[0m\u001b[0;34m\u001b[0m\u001b[0m\n\u001b[0m\u001b[1;32m    133\u001b[0m     \u001b[0mdata\u001b[0m \u001b[0;34m=\u001b[0m \u001b[0mbytes_io\u001b[0m\u001b[0;34m.\u001b[0m\u001b[0mgetvalue\u001b[0m\u001b[0;34m(\u001b[0m\u001b[0;34m)\u001b[0m\u001b[0;34m\u001b[0m\u001b[0;34m\u001b[0m\u001b[0m\n\u001b[1;32m    134\u001b[0m     \u001b[0;32mif\u001b[0m \u001b[0mfmt\u001b[0m \u001b[0;34m==\u001b[0m \u001b[0;34m'svg'\u001b[0m\u001b[0;34m:\u001b[0m\u001b[0;34m\u001b[0m\u001b[0;34m\u001b[0m\u001b[0m\n",
      "\u001b[0;32m~/.local/share/virtualenvs/bfastmonitor_cpu-LhLEOv6G/lib/python3.6/site-packages/matplotlib/backend_bases.py\u001b[0m in \u001b[0;36mprint_figure\u001b[0;34m(self, filename, dpi, facecolor, edgecolor, orientation, format, **kwargs)\u001b[0m\n\u001b[1;32m   2210\u001b[0m                     \u001b[0morientation\u001b[0m\u001b[0;34m=\u001b[0m\u001b[0morientation\u001b[0m\u001b[0;34m,\u001b[0m\u001b[0;34m\u001b[0m\u001b[0;34m\u001b[0m\u001b[0m\n\u001b[1;32m   2211\u001b[0m                     \u001b[0mdryrun\u001b[0m\u001b[0;34m=\u001b[0m\u001b[0;32mTrue\u001b[0m\u001b[0;34m,\u001b[0m\u001b[0;34m\u001b[0m\u001b[0;34m\u001b[0m\u001b[0m\n\u001b[0;32m-> 2212\u001b[0;31m                     **kwargs)\n\u001b[0m\u001b[1;32m   2213\u001b[0m                 \u001b[0mrenderer\u001b[0m \u001b[0;34m=\u001b[0m \u001b[0mself\u001b[0m\u001b[0;34m.\u001b[0m\u001b[0mfigure\u001b[0m\u001b[0;34m.\u001b[0m\u001b[0m_cachedRenderer\u001b[0m\u001b[0;34m\u001b[0m\u001b[0;34m\u001b[0m\u001b[0m\n\u001b[1;32m   2214\u001b[0m                 \u001b[0mbbox_inches\u001b[0m \u001b[0;34m=\u001b[0m \u001b[0mself\u001b[0m\u001b[0;34m.\u001b[0m\u001b[0mfigure\u001b[0m\u001b[0;34m.\u001b[0m\u001b[0mget_tightbbox\u001b[0m\u001b[0;34m(\u001b[0m\u001b[0mrenderer\u001b[0m\u001b[0;34m)\u001b[0m\u001b[0;34m\u001b[0m\u001b[0;34m\u001b[0m\u001b[0m\n",
      "\u001b[0;32m~/.local/share/virtualenvs/bfastmonitor_cpu-LhLEOv6G/lib/python3.6/site-packages/matplotlib/backends/backend_agg.py\u001b[0m in \u001b[0;36mprint_png\u001b[0;34m(self, filename_or_obj, *args, **kwargs)\u001b[0m\n\u001b[1;32m    511\u001b[0m \u001b[0;34m\u001b[0m\u001b[0m\n\u001b[1;32m    512\u001b[0m     \u001b[0;32mdef\u001b[0m \u001b[0mprint_png\u001b[0m\u001b[0;34m(\u001b[0m\u001b[0mself\u001b[0m\u001b[0;34m,\u001b[0m \u001b[0mfilename_or_obj\u001b[0m\u001b[0;34m,\u001b[0m \u001b[0;34m*\u001b[0m\u001b[0margs\u001b[0m\u001b[0;34m,\u001b[0m \u001b[0;34m**\u001b[0m\u001b[0mkwargs\u001b[0m\u001b[0;34m)\u001b[0m\u001b[0;34m:\u001b[0m\u001b[0;34m\u001b[0m\u001b[0;34m\u001b[0m\u001b[0m\n\u001b[0;32m--> 513\u001b[0;31m         \u001b[0mFigureCanvasAgg\u001b[0m\u001b[0;34m.\u001b[0m\u001b[0mdraw\u001b[0m\u001b[0;34m(\u001b[0m\u001b[0mself\u001b[0m\u001b[0;34m)\u001b[0m\u001b[0;34m\u001b[0m\u001b[0;34m\u001b[0m\u001b[0m\n\u001b[0m\u001b[1;32m    514\u001b[0m         \u001b[0mrenderer\u001b[0m \u001b[0;34m=\u001b[0m \u001b[0mself\u001b[0m\u001b[0;34m.\u001b[0m\u001b[0mget_renderer\u001b[0m\u001b[0;34m(\u001b[0m\u001b[0;34m)\u001b[0m\u001b[0;34m\u001b[0m\u001b[0;34m\u001b[0m\u001b[0m\n\u001b[1;32m    515\u001b[0m         \u001b[0moriginal_dpi\u001b[0m \u001b[0;34m=\u001b[0m \u001b[0mrenderer\u001b[0m\u001b[0;34m.\u001b[0m\u001b[0mdpi\u001b[0m\u001b[0;34m\u001b[0m\u001b[0;34m\u001b[0m\u001b[0m\n",
      "\u001b[0;32m~/.local/share/virtualenvs/bfastmonitor_cpu-LhLEOv6G/lib/python3.6/site-packages/matplotlib/backends/backend_agg.py\u001b[0m in \u001b[0;36mdraw\u001b[0;34m(self)\u001b[0m\n\u001b[1;32m    431\u001b[0m             \u001b[0;31m# if toolbar:\u001b[0m\u001b[0;34m\u001b[0m\u001b[0;34m\u001b[0m\u001b[0;34m\u001b[0m\u001b[0m\n\u001b[1;32m    432\u001b[0m             \u001b[0;31m#     toolbar.set_cursor(cursors.WAIT)\u001b[0m\u001b[0;34m\u001b[0m\u001b[0;34m\u001b[0m\u001b[0;34m\u001b[0m\u001b[0m\n\u001b[0;32m--> 433\u001b[0;31m             \u001b[0mself\u001b[0m\u001b[0;34m.\u001b[0m\u001b[0mfigure\u001b[0m\u001b[0;34m.\u001b[0m\u001b[0mdraw\u001b[0m\u001b[0;34m(\u001b[0m\u001b[0mself\u001b[0m\u001b[0;34m.\u001b[0m\u001b[0mrenderer\u001b[0m\u001b[0;34m)\u001b[0m\u001b[0;34m\u001b[0m\u001b[0;34m\u001b[0m\u001b[0m\n\u001b[0m\u001b[1;32m    434\u001b[0m             \u001b[0;31m# A GUI class may be need to update a window using this draw, so\u001b[0m\u001b[0;34m\u001b[0m\u001b[0;34m\u001b[0m\u001b[0;34m\u001b[0m\u001b[0m\n\u001b[1;32m    435\u001b[0m             \u001b[0;31m# don't forget to call the superclass.\u001b[0m\u001b[0;34m\u001b[0m\u001b[0;34m\u001b[0m\u001b[0;34m\u001b[0m\u001b[0m\n",
      "\u001b[0;32m~/.local/share/virtualenvs/bfastmonitor_cpu-LhLEOv6G/lib/python3.6/site-packages/matplotlib/artist.py\u001b[0m in \u001b[0;36mdraw_wrapper\u001b[0;34m(artist, renderer, *args, **kwargs)\u001b[0m\n\u001b[1;32m     53\u001b[0m                 \u001b[0mrenderer\u001b[0m\u001b[0;34m.\u001b[0m\u001b[0mstart_filter\u001b[0m\u001b[0;34m(\u001b[0m\u001b[0;34m)\u001b[0m\u001b[0;34m\u001b[0m\u001b[0;34m\u001b[0m\u001b[0m\n\u001b[1;32m     54\u001b[0m \u001b[0;34m\u001b[0m\u001b[0m\n\u001b[0;32m---> 55\u001b[0;31m             \u001b[0;32mreturn\u001b[0m \u001b[0mdraw\u001b[0m\u001b[0;34m(\u001b[0m\u001b[0martist\u001b[0m\u001b[0;34m,\u001b[0m \u001b[0mrenderer\u001b[0m\u001b[0;34m,\u001b[0m \u001b[0;34m*\u001b[0m\u001b[0margs\u001b[0m\u001b[0;34m,\u001b[0m \u001b[0;34m**\u001b[0m\u001b[0mkwargs\u001b[0m\u001b[0;34m)\u001b[0m\u001b[0;34m\u001b[0m\u001b[0;34m\u001b[0m\u001b[0m\n\u001b[0m\u001b[1;32m     56\u001b[0m         \u001b[0;32mfinally\u001b[0m\u001b[0;34m:\u001b[0m\u001b[0;34m\u001b[0m\u001b[0;34m\u001b[0m\u001b[0m\n\u001b[1;32m     57\u001b[0m             \u001b[0;32mif\u001b[0m \u001b[0martist\u001b[0m\u001b[0;34m.\u001b[0m\u001b[0mget_agg_filter\u001b[0m\u001b[0;34m(\u001b[0m\u001b[0;34m)\u001b[0m \u001b[0;32mis\u001b[0m \u001b[0;32mnot\u001b[0m \u001b[0;32mNone\u001b[0m\u001b[0;34m:\u001b[0m\u001b[0;34m\u001b[0m\u001b[0;34m\u001b[0m\u001b[0m\n",
      "\u001b[0;32m~/.local/share/virtualenvs/bfastmonitor_cpu-LhLEOv6G/lib/python3.6/site-packages/matplotlib/figure.py\u001b[0m in \u001b[0;36mdraw\u001b[0;34m(self, renderer)\u001b[0m\n\u001b[1;32m   1473\u001b[0m \u001b[0;34m\u001b[0m\u001b[0m\n\u001b[1;32m   1474\u001b[0m             mimage._draw_list_compositing_images(\n\u001b[0;32m-> 1475\u001b[0;31m                 renderer, self, artists, self.suppressComposite)\n\u001b[0m\u001b[1;32m   1476\u001b[0m \u001b[0;34m\u001b[0m\u001b[0m\n\u001b[1;32m   1477\u001b[0m             \u001b[0mrenderer\u001b[0m\u001b[0;34m.\u001b[0m\u001b[0mclose_group\u001b[0m\u001b[0;34m(\u001b[0m\u001b[0;34m'figure'\u001b[0m\u001b[0;34m)\u001b[0m\u001b[0;34m\u001b[0m\u001b[0;34m\u001b[0m\u001b[0m\n",
      "\u001b[0;32m~/.local/share/virtualenvs/bfastmonitor_cpu-LhLEOv6G/lib/python3.6/site-packages/matplotlib/image.py\u001b[0m in \u001b[0;36m_draw_list_compositing_images\u001b[0;34m(renderer, parent, artists, suppress_composite)\u001b[0m\n\u001b[1;32m    139\u001b[0m     \u001b[0;32mif\u001b[0m \u001b[0mnot_composite\u001b[0m \u001b[0;32mor\u001b[0m \u001b[0;32mnot\u001b[0m \u001b[0mhas_images\u001b[0m\u001b[0;34m:\u001b[0m\u001b[0;34m\u001b[0m\u001b[0;34m\u001b[0m\u001b[0m\n\u001b[1;32m    140\u001b[0m         \u001b[0;32mfor\u001b[0m \u001b[0ma\u001b[0m \u001b[0;32min\u001b[0m \u001b[0martists\u001b[0m\u001b[0;34m:\u001b[0m\u001b[0;34m\u001b[0m\u001b[0;34m\u001b[0m\u001b[0m\n\u001b[0;32m--> 141\u001b[0;31m             \u001b[0ma\u001b[0m\u001b[0;34m.\u001b[0m\u001b[0mdraw\u001b[0m\u001b[0;34m(\u001b[0m\u001b[0mrenderer\u001b[0m\u001b[0;34m)\u001b[0m\u001b[0;34m\u001b[0m\u001b[0;34m\u001b[0m\u001b[0m\n\u001b[0m\u001b[1;32m    142\u001b[0m     \u001b[0;32melse\u001b[0m\u001b[0;34m:\u001b[0m\u001b[0;34m\u001b[0m\u001b[0;34m\u001b[0m\u001b[0m\n\u001b[1;32m    143\u001b[0m         \u001b[0;31m# Composite any adjacent images together\u001b[0m\u001b[0;34m\u001b[0m\u001b[0;34m\u001b[0m\u001b[0;34m\u001b[0m\u001b[0m\n",
      "\u001b[0;32m~/.local/share/virtualenvs/bfastmonitor_cpu-LhLEOv6G/lib/python3.6/site-packages/matplotlib/artist.py\u001b[0m in \u001b[0;36mdraw_wrapper\u001b[0;34m(artist, renderer, *args, **kwargs)\u001b[0m\n\u001b[1;32m     53\u001b[0m                 \u001b[0mrenderer\u001b[0m\u001b[0;34m.\u001b[0m\u001b[0mstart_filter\u001b[0m\u001b[0;34m(\u001b[0m\u001b[0;34m)\u001b[0m\u001b[0;34m\u001b[0m\u001b[0;34m\u001b[0m\u001b[0m\n\u001b[1;32m     54\u001b[0m \u001b[0;34m\u001b[0m\u001b[0m\n\u001b[0;32m---> 55\u001b[0;31m             \u001b[0;32mreturn\u001b[0m \u001b[0mdraw\u001b[0m\u001b[0;34m(\u001b[0m\u001b[0martist\u001b[0m\u001b[0;34m,\u001b[0m \u001b[0mrenderer\u001b[0m\u001b[0;34m,\u001b[0m \u001b[0;34m*\u001b[0m\u001b[0margs\u001b[0m\u001b[0;34m,\u001b[0m \u001b[0;34m**\u001b[0m\u001b[0mkwargs\u001b[0m\u001b[0;34m)\u001b[0m\u001b[0;34m\u001b[0m\u001b[0;34m\u001b[0m\u001b[0m\n\u001b[0m\u001b[1;32m     56\u001b[0m         \u001b[0;32mfinally\u001b[0m\u001b[0;34m:\u001b[0m\u001b[0;34m\u001b[0m\u001b[0;34m\u001b[0m\u001b[0m\n\u001b[1;32m     57\u001b[0m             \u001b[0;32mif\u001b[0m \u001b[0martist\u001b[0m\u001b[0;34m.\u001b[0m\u001b[0mget_agg_filter\u001b[0m\u001b[0;34m(\u001b[0m\u001b[0;34m)\u001b[0m \u001b[0;32mis\u001b[0m \u001b[0;32mnot\u001b[0m \u001b[0;32mNone\u001b[0m\u001b[0;34m:\u001b[0m\u001b[0;34m\u001b[0m\u001b[0;34m\u001b[0m\u001b[0m\n",
      "\u001b[0;32m~/.local/share/virtualenvs/bfastmonitor_cpu-LhLEOv6G/lib/python3.6/site-packages/matplotlib/axes/_base.py\u001b[0m in \u001b[0;36mdraw\u001b[0;34m(self, renderer, inframe)\u001b[0m\n\u001b[1;32m   2605\u001b[0m             \u001b[0mrenderer\u001b[0m\u001b[0;34m.\u001b[0m\u001b[0mstop_rasterizing\u001b[0m\u001b[0;34m(\u001b[0m\u001b[0;34m)\u001b[0m\u001b[0;34m\u001b[0m\u001b[0;34m\u001b[0m\u001b[0m\n\u001b[1;32m   2606\u001b[0m \u001b[0;34m\u001b[0m\u001b[0m\n\u001b[0;32m-> 2607\u001b[0;31m         \u001b[0mmimage\u001b[0m\u001b[0;34m.\u001b[0m\u001b[0m_draw_list_compositing_images\u001b[0m\u001b[0;34m(\u001b[0m\u001b[0mrenderer\u001b[0m\u001b[0;34m,\u001b[0m \u001b[0mself\u001b[0m\u001b[0;34m,\u001b[0m \u001b[0martists\u001b[0m\u001b[0;34m)\u001b[0m\u001b[0;34m\u001b[0m\u001b[0;34m\u001b[0m\u001b[0m\n\u001b[0m\u001b[1;32m   2608\u001b[0m \u001b[0;34m\u001b[0m\u001b[0m\n\u001b[1;32m   2609\u001b[0m         \u001b[0mrenderer\u001b[0m\u001b[0;34m.\u001b[0m\u001b[0mclose_group\u001b[0m\u001b[0;34m(\u001b[0m\u001b[0;34m'axes'\u001b[0m\u001b[0;34m)\u001b[0m\u001b[0;34m\u001b[0m\u001b[0;34m\u001b[0m\u001b[0m\n",
      "\u001b[0;32m~/.local/share/virtualenvs/bfastmonitor_cpu-LhLEOv6G/lib/python3.6/site-packages/matplotlib/image.py\u001b[0m in \u001b[0;36m_draw_list_compositing_images\u001b[0;34m(renderer, parent, artists, suppress_composite)\u001b[0m\n\u001b[1;32m    139\u001b[0m     \u001b[0;32mif\u001b[0m \u001b[0mnot_composite\u001b[0m \u001b[0;32mor\u001b[0m \u001b[0;32mnot\u001b[0m \u001b[0mhas_images\u001b[0m\u001b[0;34m:\u001b[0m\u001b[0;34m\u001b[0m\u001b[0;34m\u001b[0m\u001b[0m\n\u001b[1;32m    140\u001b[0m         \u001b[0;32mfor\u001b[0m \u001b[0ma\u001b[0m \u001b[0;32min\u001b[0m \u001b[0martists\u001b[0m\u001b[0;34m:\u001b[0m\u001b[0;34m\u001b[0m\u001b[0;34m\u001b[0m\u001b[0m\n\u001b[0;32m--> 141\u001b[0;31m             \u001b[0ma\u001b[0m\u001b[0;34m.\u001b[0m\u001b[0mdraw\u001b[0m\u001b[0;34m(\u001b[0m\u001b[0mrenderer\u001b[0m\u001b[0;34m)\u001b[0m\u001b[0;34m\u001b[0m\u001b[0;34m\u001b[0m\u001b[0m\n\u001b[0m\u001b[1;32m    142\u001b[0m     \u001b[0;32melse\u001b[0m\u001b[0;34m:\u001b[0m\u001b[0;34m\u001b[0m\u001b[0;34m\u001b[0m\u001b[0m\n\u001b[1;32m    143\u001b[0m         \u001b[0;31m# Composite any adjacent images together\u001b[0m\u001b[0;34m\u001b[0m\u001b[0;34m\u001b[0m\u001b[0;34m\u001b[0m\u001b[0m\n",
      "\u001b[0;32m~/.local/share/virtualenvs/bfastmonitor_cpu-LhLEOv6G/lib/python3.6/site-packages/matplotlib/artist.py\u001b[0m in \u001b[0;36mdraw_wrapper\u001b[0;34m(artist, renderer, *args, **kwargs)\u001b[0m\n\u001b[1;32m     53\u001b[0m                 \u001b[0mrenderer\u001b[0m\u001b[0;34m.\u001b[0m\u001b[0mstart_filter\u001b[0m\u001b[0;34m(\u001b[0m\u001b[0;34m)\u001b[0m\u001b[0;34m\u001b[0m\u001b[0;34m\u001b[0m\u001b[0m\n\u001b[1;32m     54\u001b[0m \u001b[0;34m\u001b[0m\u001b[0m\n\u001b[0;32m---> 55\u001b[0;31m             \u001b[0;32mreturn\u001b[0m \u001b[0mdraw\u001b[0m\u001b[0;34m(\u001b[0m\u001b[0martist\u001b[0m\u001b[0;34m,\u001b[0m \u001b[0mrenderer\u001b[0m\u001b[0;34m,\u001b[0m \u001b[0;34m*\u001b[0m\u001b[0margs\u001b[0m\u001b[0;34m,\u001b[0m \u001b[0;34m**\u001b[0m\u001b[0mkwargs\u001b[0m\u001b[0;34m)\u001b[0m\u001b[0;34m\u001b[0m\u001b[0;34m\u001b[0m\u001b[0m\n\u001b[0m\u001b[1;32m     56\u001b[0m         \u001b[0;32mfinally\u001b[0m\u001b[0;34m:\u001b[0m\u001b[0;34m\u001b[0m\u001b[0;34m\u001b[0m\u001b[0m\n\u001b[1;32m     57\u001b[0m             \u001b[0;32mif\u001b[0m \u001b[0martist\u001b[0m\u001b[0;34m.\u001b[0m\u001b[0mget_agg_filter\u001b[0m\u001b[0;34m(\u001b[0m\u001b[0;34m)\u001b[0m \u001b[0;32mis\u001b[0m \u001b[0;32mnot\u001b[0m \u001b[0;32mNone\u001b[0m\u001b[0;34m:\u001b[0m\u001b[0;34m\u001b[0m\u001b[0;34m\u001b[0m\u001b[0m\n",
      "\u001b[0;32m~/.local/share/virtualenvs/bfastmonitor_cpu-LhLEOv6G/lib/python3.6/site-packages/matplotlib/image.py\u001b[0m in \u001b[0;36mdraw\u001b[0;34m(self, renderer, *args, **kwargs)\u001b[0m\n\u001b[1;32m    591\u001b[0m         \u001b[0;32melse\u001b[0m\u001b[0;34m:\u001b[0m\u001b[0;34m\u001b[0m\u001b[0;34m\u001b[0m\u001b[0m\n\u001b[1;32m    592\u001b[0m             im, l, b, trans = self.make_image(\n\u001b[0;32m--> 593\u001b[0;31m                 renderer, renderer.get_image_magnification())\n\u001b[0m\u001b[1;32m    594\u001b[0m             \u001b[0;32mif\u001b[0m \u001b[0mim\u001b[0m \u001b[0;32mis\u001b[0m \u001b[0;32mnot\u001b[0m \u001b[0;32mNone\u001b[0m\u001b[0;34m:\u001b[0m\u001b[0;34m\u001b[0m\u001b[0;34m\u001b[0m\u001b[0m\n\u001b[1;32m    595\u001b[0m                 \u001b[0mrenderer\u001b[0m\u001b[0;34m.\u001b[0m\u001b[0mdraw_image\u001b[0m\u001b[0;34m(\u001b[0m\u001b[0mgc\u001b[0m\u001b[0;34m,\u001b[0m \u001b[0ml\u001b[0m\u001b[0;34m,\u001b[0m \u001b[0mb\u001b[0m\u001b[0;34m,\u001b[0m \u001b[0mim\u001b[0m\u001b[0;34m)\u001b[0m\u001b[0;34m\u001b[0m\u001b[0;34m\u001b[0m\u001b[0m\n",
      "\u001b[0;32m~/.local/share/virtualenvs/bfastmonitor_cpu-LhLEOv6G/lib/python3.6/site-packages/matplotlib/image.py\u001b[0m in \u001b[0;36mmake_image\u001b[0;34m(self, renderer, magnification, unsampled)\u001b[0m\n\u001b[1;32m    839\u001b[0m         return self._make_image(\n\u001b[1;32m    840\u001b[0m             \u001b[0mself\u001b[0m\u001b[0;34m.\u001b[0m\u001b[0m_A\u001b[0m\u001b[0;34m,\u001b[0m \u001b[0mbbox\u001b[0m\u001b[0;34m,\u001b[0m \u001b[0mtransformed_bbox\u001b[0m\u001b[0;34m,\u001b[0m \u001b[0mself\u001b[0m\u001b[0;34m.\u001b[0m\u001b[0maxes\u001b[0m\u001b[0;34m.\u001b[0m\u001b[0mbbox\u001b[0m\u001b[0;34m,\u001b[0m \u001b[0mmagnification\u001b[0m\u001b[0;34m,\u001b[0m\u001b[0;34m\u001b[0m\u001b[0;34m\u001b[0m\u001b[0m\n\u001b[0;32m--> 841\u001b[0;31m             unsampled=unsampled)\n\u001b[0m\u001b[1;32m    842\u001b[0m \u001b[0;34m\u001b[0m\u001b[0m\n\u001b[1;32m    843\u001b[0m     \u001b[0;32mdef\u001b[0m \u001b[0m_check_unsampled_image\u001b[0m\u001b[0;34m(\u001b[0m\u001b[0mself\u001b[0m\u001b[0;34m,\u001b[0m \u001b[0mrenderer\u001b[0m\u001b[0;34m)\u001b[0m\u001b[0;34m:\u001b[0m\u001b[0;34m\u001b[0m\u001b[0;34m\u001b[0m\u001b[0m\n",
      "\u001b[0;32m~/.local/share/virtualenvs/bfastmonitor_cpu-LhLEOv6G/lib/python3.6/site-packages/matplotlib/image.py\u001b[0m in \u001b[0;36m_make_image\u001b[0;34m(self, A, in_bbox, out_bbox, clip_bbox, magnification, unsampled, round_to_pixel_border)\u001b[0m\n\u001b[1;32m    487\u001b[0m \u001b[0;34m\u001b[0m\u001b[0m\n\u001b[1;32m    488\u001b[0m                 \u001b[0;31m# mask and run through the norm\u001b[0m\u001b[0;34m\u001b[0m\u001b[0;34m\u001b[0m\u001b[0;34m\u001b[0m\u001b[0m\n\u001b[0;32m--> 489\u001b[0;31m                 \u001b[0moutput\u001b[0m \u001b[0;34m=\u001b[0m \u001b[0mself\u001b[0m\u001b[0;34m.\u001b[0m\u001b[0mnorm\u001b[0m\u001b[0;34m(\u001b[0m\u001b[0mnp\u001b[0m\u001b[0;34m.\u001b[0m\u001b[0mma\u001b[0m\u001b[0;34m.\u001b[0m\u001b[0mmasked_array\u001b[0m\u001b[0;34m(\u001b[0m\u001b[0mA_resampled\u001b[0m\u001b[0;34m,\u001b[0m \u001b[0mout_mask\u001b[0m\u001b[0;34m)\u001b[0m\u001b[0;34m)\u001b[0m\u001b[0;34m\u001b[0m\u001b[0;34m\u001b[0m\u001b[0m\n\u001b[0m\u001b[1;32m    490\u001b[0m             \u001b[0;32melse\u001b[0m\u001b[0;34m:\u001b[0m\u001b[0;34m\u001b[0m\u001b[0;34m\u001b[0m\u001b[0m\n\u001b[1;32m    491\u001b[0m                 \u001b[0;31m# Always convert to RGBA, even if only RGB input\u001b[0m\u001b[0;34m\u001b[0m\u001b[0;34m\u001b[0m\u001b[0;34m\u001b[0m\u001b[0m\n",
      "\u001b[0;32m~/.local/share/virtualenvs/bfastmonitor_cpu-LhLEOv6G/lib/python3.6/site-packages/matplotlib/colors.py\u001b[0m in \u001b[0;36m__call__\u001b[0;34m(self, value, clip)\u001b[0m\n\u001b[1;32m   1327\u001b[0m             \u001b[0miret\u001b[0m\u001b[0;34m[\u001b[0m\u001b[0mxx\u001b[0m \u001b[0;34m>=\u001b[0m \u001b[0mb\u001b[0m\u001b[0;34m]\u001b[0m \u001b[0;34m=\u001b[0m \u001b[0mi\u001b[0m\u001b[0;34m\u001b[0m\u001b[0;34m\u001b[0m\u001b[0m\n\u001b[1;32m   1328\u001b[0m         \u001b[0;32mif\u001b[0m \u001b[0mself\u001b[0m\u001b[0;34m.\u001b[0m\u001b[0m_interp\u001b[0m\u001b[0;34m:\u001b[0m\u001b[0;34m\u001b[0m\u001b[0;34m\u001b[0m\u001b[0m\n\u001b[0;32m-> 1329\u001b[0;31m             \u001b[0mscalefac\u001b[0m \u001b[0;34m=\u001b[0m \u001b[0;34m(\u001b[0m\u001b[0mself\u001b[0m\u001b[0;34m.\u001b[0m\u001b[0mNcmap\u001b[0m \u001b[0;34m-\u001b[0m \u001b[0;36m1\u001b[0m\u001b[0;34m)\u001b[0m \u001b[0;34m/\u001b[0m \u001b[0;34m(\u001b[0m\u001b[0mself\u001b[0m\u001b[0;34m.\u001b[0m\u001b[0mN\u001b[0m \u001b[0;34m-\u001b[0m \u001b[0;36m2\u001b[0m\u001b[0;34m)\u001b[0m\u001b[0;34m\u001b[0m\u001b[0;34m\u001b[0m\u001b[0m\n\u001b[0m\u001b[1;32m   1330\u001b[0m             \u001b[0miret\u001b[0m \u001b[0;34m=\u001b[0m \u001b[0;34m(\u001b[0m\u001b[0miret\u001b[0m \u001b[0;34m*\u001b[0m \u001b[0mscalefac\u001b[0m\u001b[0;34m)\u001b[0m\u001b[0;34m.\u001b[0m\u001b[0mastype\u001b[0m\u001b[0;34m(\u001b[0m\u001b[0mnp\u001b[0m\u001b[0;34m.\u001b[0m\u001b[0mint16\u001b[0m\u001b[0;34m)\u001b[0m\u001b[0;34m\u001b[0m\u001b[0;34m\u001b[0m\u001b[0m\n\u001b[1;32m   1331\u001b[0m         \u001b[0miret\u001b[0m\u001b[0;34m[\u001b[0m\u001b[0mxx\u001b[0m \u001b[0;34m<\u001b[0m \u001b[0mself\u001b[0m\u001b[0;34m.\u001b[0m\u001b[0mvmin\u001b[0m\u001b[0;34m]\u001b[0m \u001b[0;34m=\u001b[0m \u001b[0;34m-\u001b[0m\u001b[0;36m1\u001b[0m\u001b[0;34m\u001b[0m\u001b[0;34m\u001b[0m\u001b[0m\n",
      "\u001b[0;31mZeroDivisionError\u001b[0m: division by zero"
     ]
    },
    {
     "data": {
      "text/plain": [
       "<Figure size 720x720 with 2 Axes>"
      ]
     },
     "metadata": {
      "needs_background": "light"
     },
     "output_type": "display_data"
    }
   ],
   "source": [
    "bins = len(idx_starts)\n",
    "\n",
    "cmap = plt.get_cmap(\"rainbow\")\n",
    "cmaplist = [cmap(i) for i in range(cmap.N)]\n",
    "cmap = cmap.from_list('Custom cmap', cmaplist, cmap.N)\n",
    "\n",
    "bounds = np.linspace(0, bins-1, bins) #third number is the amount of bins in the colorbar 0=0, 6 = ncolors, 7= nyears\n",
    "norm = matplotlib.colors.BoundaryNorm(bounds, cmap.N)\n",
    "\n",
    "fig, axes = plt.subplots(nrows=1, ncols=1, figsize=(10, 10))\n",
    "im = axes.imshow(breaks_plot_years, cmap=cmap, vmin=0, vmax=bins, norm=norm)\n",
    "fig.subplots_adjust(right=0.8)\n",
    "cbar_ax = fig.add_axes([0.85, 0.15, 0.05, 0.7])\n",
    "fig.colorbar(im, cax=cbar_ax, ticks=range(bins))\n",
    "labels = cbar_ax.set_yticklabels(ticklist)\n",
    "\n",
    "plt.savefig(\"./output/picture.png\")\n",
    "plt.show()\n"
   ]
  },
  {
   "cell_type": "code",
   "execution_count": 53,
   "metadata": {},
   "outputs": [],
   "source": [
    "# #this doesn't work yet\n",
    "\n",
    "# output_raster = gdal.GetDriverByName('GTiff').Create('myraster.tif',cols, rows, 1 ,gdal.GDT_Float32)  # Open the file\n",
    "\n",
    "# output_raster.SetGeoTransform(geotransform)  # Specify its coordinates\n",
    "# srs = osr.SpatialReference()                 # Establish its coordinate encoding\n",
    "# srs.ImportFromEPSG(4326)                     # This one specifies WGS84 lat long.\n",
    "#                                              # Anyone know how to specify the \n",
    "#                                              # IAU2000:49900 Mars encoding?\n",
    "# output_raster.SetProjection( srs.ExportToWkt() )   # Exports the coordinate system \n",
    "#                                                    # to the file\n",
    "# output_raster.GetRasterBand(1).WriteArray(breaks_plot_years)   # Writes my array to the raster\n",
    "\n",
    "# output_raster.FlushCache()\n",
    "\n",
    "# output_raster"
   ]
  },
  {
   "cell_type": "code",
   "execution_count": 54,
   "metadata": {},
   "outputs": [
    {
     "name": "stdout",
     "output_type": "stream",
     "text": [
      "[[ 8.  4.  0.  0.  0.  9.  4.  4.  0.  0.  0.  0.  0.  0.]\n",
      " [ 8.  5.  0.  0.  0.  9. 11. 11.  0.  0.  0.  0.  0.  0.]\n",
      " [ 1.  1.  1.  1.  1.  8.  3.  3.  1.  0.  2.  2.  3.  3.]\n",
      " [ 1.  1.  1.  1.  1.  6.  6.  6.  6.  1.  6.  6.  3.  3.]\n",
      " [ 1.  1.  1.  1.  1.  7.  6.  6.  6.  7.  7.  7.  5.  3.]\n",
      " [ 1.  1.  1.  1.  1.  1.  7.  7.  8. nan  7.  7.  2.  1.]\n",
      " [ 1.  1.  1.  1.  1.  1.  1.  1.  5.  5.  2.  2.  1.  1.]\n",
      " [nan  1.  8.  8.  3.  4.  1.  1.  5.  5.  2.  2.  1.  1.]]\n",
      "[[1.24843945e-01 2.49376559e-01 1.00000000e+02 1.00000000e+02\n",
      "  1.00000000e+02 1.10987791e-01 2.49376559e-01 2.49376559e-01\n",
      "  1.00000000e+02 1.00000000e+02 1.00000000e+02 1.00000000e+02\n",
      "  1.00000000e+02 1.00000000e+02]\n",
      " [1.24843945e-01 1.99600798e-01 1.00000000e+02 1.00000000e+02\n",
      "  1.00000000e+02 1.10987791e-01 9.08265213e-02 9.08265213e-02\n",
      "  1.00000000e+02 1.00000000e+02 1.00000000e+02 1.00000000e+02\n",
      "  1.00000000e+02 1.00000000e+02]\n",
      " [9.90099010e-01 9.90099010e-01 9.90099010e-01 9.90099010e-01\n",
      "  9.90099010e-01 1.24843945e-01 3.32225914e-01 3.32225914e-01\n",
      "  9.90099010e-01 1.00000000e+02 4.97512438e-01 4.97512438e-01\n",
      "  3.32225914e-01 3.32225914e-01]\n",
      " [9.90099010e-01 9.90099010e-01 9.90099010e-01 9.90099010e-01\n",
      "  9.90099010e-01 1.66389351e-01 1.66389351e-01 1.66389351e-01\n",
      "  1.66389351e-01 9.90099010e-01 1.66389351e-01 1.66389351e-01\n",
      "  3.32225914e-01 3.32225914e-01]\n",
      " [9.90099010e-01 9.90099010e-01 9.90099010e-01 9.90099010e-01\n",
      "  9.90099010e-01 1.42653352e-01 1.66389351e-01 1.66389351e-01\n",
      "  1.66389351e-01 1.42653352e-01 1.42653352e-01 1.42653352e-01\n",
      "  1.99600798e-01 3.32225914e-01]\n",
      " [9.90099010e-01 9.90099010e-01 9.90099010e-01 9.90099010e-01\n",
      "  9.90099010e-01 9.90099010e-01 1.42653352e-01 1.42653352e-01\n",
      "  1.24843945e-01            nan 1.42653352e-01 1.42653352e-01\n",
      "  4.97512438e-01 9.90099010e-01]\n",
      " [9.90099010e-01 9.90099010e-01 9.90099010e-01 9.90099010e-01\n",
      "  9.90099010e-01 9.90099010e-01 9.90099010e-01 9.90099010e-01\n",
      "  1.99600798e-01 1.99600798e-01 4.97512438e-01 4.97512438e-01\n",
      "  9.90099010e-01 9.90099010e-01]\n",
      " [           nan 9.90099010e-01 1.24843945e-01 1.24843945e-01\n",
      "  3.32225914e-01 2.49376559e-01 9.90099010e-01 9.90099010e-01\n",
      "  1.99600798e-01 1.99600798e-01 4.97512438e-01 4.97512438e-01\n",
      "  9.90099010e-01 9.90099010e-01]]\n"
     ]
    }
   ],
   "source": [
    "print(breaks_plot_years)\n",
    "breaks_plot_years_norm = 1/(breaks_plot_years + 0.01)\n",
    "print(breaks_plot_years_norm)"
   ]
  },
  {
   "cell_type": "code",
   "execution_count": 55,
   "metadata": {},
   "outputs": [],
   "source": [
    "#cmap = plt.get_cmap(\"Oranges\")\n",
    "\n",
    "#cmaplist = [cmap(i) for i in range(cmap.N)]\n",
    "\n",
    "#cmap = cmap.from_list('Custom cmap', cmaplist, cmap.N)\n",
    "\n",
    "from matplotlib import cm\n",
    "from matplotlib.colors import ListedColormap, LinearSegmentedColormap\n",
    "\n",
    "# viridis = cm.get_cmap('viridis', 12)\n",
    "# print(viridis)\n",
    "# print(viridis(0.56))\n",
    "\n",
    "viridis = cm.get_cmap('rainbow', 256)\n",
    "newcolors = viridis(np.linspace(0, 1, 256))\n",
    "pink = np.array([248/256, 24/256, 148/256, 0])\n",
    "newcolors[:1, :] = pink\n",
    "newcmp = ListedColormap(newcolors)"
   ]
  },
  {
   "cell_type": "code",
   "execution_count": 77,
   "metadata": {},
   "outputs": [
    {
     "name": "stdout",
     "output_type": "stream",
     "text": [
      "40.701497713586164\n",
      "0.0002694945852358568\n",
      "14\n",
      "-8.420088821109099\n",
      "-0.0002694945852358568\n",
      "8\n"
     ]
    }
   ],
   "source": [
    "print(latitude)\n",
    "print(xpixelsize)\n",
    "print(cols)\n",
    "print(longitude)\n",
    "print(ypixelsize)\n",
    "print(rows)"
   ]
  },
  {
   "cell_type": "code",
   "execution_count": 81,
   "metadata": {},
   "outputs": [
    {
     "data": {
      "text/html": [
       "<div style=\"width:100%;\"><div style=\"position:relative;width:100%;height:0;padding-bottom:60%;\"><span style=\"color:#565656\">Make this Notebook Trusted to load map: File -> Trust Notebook</span><iframe src=\"about:blank\" style=\"position:absolute;width:100%;height:100%;left:0;top:0;border:none !important;\" data-html=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 onload=\"this.contentDocument.open();this.contentDocument.write(atob(this.getAttribute('data-html')));this.contentDocument.close();\" allowfullscreen webkitallowfullscreen mozallowfullscreen></iframe></div></div>"
      ],
      "text/plain": [
       "<folium.folium.Map at 0x7fbbe27f6f98>"
      ]
     },
     "execution_count": 81,
     "metadata": {},
     "output_type": "execute_result"
    }
   ],
   "source": [
    "from folium.plugins import FloatImage\n",
    "import base64\n",
    "m = folium.folium.Map(location = (latitude,longitude),tiles = \"Stamen Terrain\",zoom_start=13)\n",
    "\n",
    "# if not all data is \n",
    "#rows = 200\n",
    "#cols = 200\n",
    "\n",
    "\n",
    "# bounds = [[lat_min, lon_min], [lat_max, lon_max]]\n",
    "\n",
    "folium.raster_layers.ImageOverlay(\n",
    "    image=breaks_plot_years_norm,\n",
    "    bounds=[[latitude, longitude], [latitude + rows*xpixelsize, longitude + cols*xpixelsize]],\n",
    "    colormap = newcmp\n",
    ").add_to(m)\n",
    "img = \"output/picture.png\" \n",
    "\n",
    "\n",
    "####\n",
    "resolution, width, height = 75, 4,4\n",
    "encoded = base64.b64encode(open(\"output/picture.png\", 'rb').read()).decode()\n",
    "from folium import IFrame\n",
    "\n",
    "html = '<img src=\"data:image/png;base64,{}\">'.format\n",
    "iframe = IFrame(html(encoded), width=(width*resolution)+20, height=(height*resolution)+20)\n",
    "popup = folium.Popup(iframe, max_width=2650)\n",
    "\n",
    "icon = folium.Icon(color=\"red\", icon=\"ok\")\n",
    "marker = folium.Marker(location=[latitude, longitude], popup=popup, icon=icon)\n",
    "marker.add_to(m)\n",
    "####\n",
    "\n",
    "m.save(os.path.join('output/ImageOverlay_5.html'))\n",
    "m"
   ]
  },
  {
   "cell_type": "code",
   "execution_count": null,
   "metadata": {},
   "outputs": [],
   "source": []
  },
  {
   "cell_type": "code",
   "execution_count": null,
   "metadata": {},
   "outputs": [],
   "source": []
  }
 ],
 "metadata": {
  "kernelspec": {
   "display_name": "bfastmonitor_cpu",
   "language": "python",
   "name": "bfastmonitor_cpu"
  },
  "language_info": {
   "codemirror_mode": {
    "name": "ipython",
    "version": 3
   },
   "file_extension": ".py",
   "mimetype": "text/x-python",
   "name": "python",
   "nbconvert_exporter": "python",
   "pygments_lexer": "ipython3",
   "version": "3.6.9"
  }
 },
 "nbformat": 4,
 "nbformat_minor": 4
}
