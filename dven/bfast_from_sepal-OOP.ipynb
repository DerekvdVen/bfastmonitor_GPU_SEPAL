{
 "cells": [
  {
   "cell_type": "markdown",
   "metadata": {},
   "source": [
    "# Bfastmonitor CPU using Python\n",
    "## This is bfastmonitor Python"
   ]
  },
  {
   "cell_type": "code",
   "execution_count": 195,
   "metadata": {},
   "outputs": [],
   "source": [
    "import os\n",
    "import wget\n",
    "import numpy as np\n",
    "from datetime import datetime\n",
    "\n",
    "from bfast import BFASTMonitor\n",
    "from bfast.utils import crop_data_dates\n",
    "\n",
    "import copy\n",
    "\n",
    "import matplotlib\n",
    "import matplotlib.pyplot as plt\n",
    "\n",
    "#from sar so extra\n",
    "import csv\n",
    "from shutil import copyfile\n",
    "import pandas as pd\n",
    "from osgeo import gdal\n",
    "from osgeo import gdal_array\n",
    "from osgeo import osr\n",
    "\n",
    "import time\n",
    "import ipywidgets as widgets\n",
    "\n",
    "from ipyfilechooser import FileChooser\n",
    "import folium\n",
    "\n",
    "#specific imports\n",
    "from functions import set_output_dir, get_size, get_data_dict"
   ]
  },
  {
   "cell_type": "code",
   "execution_count": 196,
   "metadata": {},
   "outputs": [],
   "source": [
    "%matplotlib inline"
   ]
  },
  {
   "cell_type": "markdown",
   "metadata": {},
   "source": [
    "## Select a time series folder using ipyfilechooser. The standard download location is in downloads/time_series_name/[0,1,2..n]\n",
    "\n",
    "### Optional: select a name for your output folder. "
   ]
  },
  {
   "cell_type": "code",
   "execution_count": 48,
   "metadata": {},
   "outputs": [
    {
     "data": {
      "application/vnd.jupyter.widget-view+json": {
       "model_id": "13c03072f1e142cf97c12ba39b3b43d4",
       "version_major": 2,
       "version_minor": 0
      },
      "text/plain": [
       "FileChooser(path='/home/dven', filename='', title='HTML(value='', layout=Layout(display='none'))', show_hidden…"
      ]
     },
     "metadata": {},
     "output_type": "display_data"
    },
    {
     "data": {
      "application/vnd.jupyter.widget-view+json": {
       "model_id": "b5f9d95071d943f99bcaf9d7a8ebeecb",
       "version_major": 2,
       "version_minor": 0
      },
      "text/plain": [
       "interactive(children=(Text(value='', description='Output storage name:', placeholder='output', style=Descripti…"
      ]
     },
     "metadata": {},
     "output_type": "display_data"
    }
   ],
   "source": [
    "from os.path import expanduser\n",
    "path = expanduser(\"~\")\n",
    "\n",
    "def g(directory):\n",
    "    return(directory)\n",
    "                          \n",
    "output_directory_chooser = widgets.interactive(g, \n",
    "                        directory=widgets.Text(description=\"Output storage name:\", \n",
    "                                               style = {'description_width': 'initial'},\n",
    "                                               placeholder = \"output\"))\n",
    "file_chooser = FileChooser(path)\n",
    "\n",
    "display(file_chooser)\n",
    "display(output_directory_chooser)\n",
    "\n"
   ]
  },
  {
   "cell_type": "code",
   "execution_count": 197,
   "metadata": {},
   "outputs": [
    {
     "name": "stdout",
     "output_type": "stream",
     "text": [
      "/home/dven/downloads/Time_series_2020-07-07_11-51-35_Portugal/1/\n",
      "Defaulting to output directory name \"output\" \n"
     ]
    }
   ],
   "source": [
    "timeseries_directory = file_chooser.selected\n",
    "\n",
    "if not timeseries_directory:\n",
    "    raise Exception(\"Please choose a time series directory above with the file selector\")\n",
    "else:\n",
    "    print(timeseries_directory)\n",
    "    set_output_dir(output_directory_chooser)"
   ]
  },
  {
   "cell_type": "code",
   "execution_count": 284,
   "metadata": {},
   "outputs": [],
   "source": [
    "from osgeo import gdal\n",
    "import matplotlib.pyplot as plt\n",
    "import numpy as np\n",
    "from numpy import nan\n",
    "from numpy import isnan\n",
    "\n",
    "from bfast import BFASTMonitor\n",
    "from bfast.utils import crop_data_dates\n",
    "\n",
    "import pyopencl\n",
    "\n",
    "import inspect\n",
    "        \n",
    "import time\n",
    "\n",
    "from datetime import datetime\n",
    "\n",
    "class Timeseries:\n",
    "    '''\n",
    "    \n",
    "    This is a class that holds a numpy array with time series data, a csv containing dates, and associated geographical metadata.\n",
    "    \n",
    "    '''\n",
    "    \n",
    "    def __init__(self, time_series_path, dates_path):\n",
    "        \n",
    "        self.name = time_series_path + \"stack.vrt\"\n",
    "        self.dir = time_series_path\n",
    "        \n",
    "        self.time_series = gdal.Open(self.name)\n",
    "        #time_series = self.time_series\n",
    "        geotransform = self.time_series.GetGeoTransform()\n",
    "        \n",
    "        # geo metadata\n",
    "        self.xpixelsize = geotransform[1]\n",
    "        self.ypixelsize = geotransform[5]\n",
    "        self.latitude = geotransform[3]\n",
    "        self.longitude = geotransform[0]\n",
    "        self.ncols = self.time_series.RasterXSize\n",
    "        self.nrows = self.time_series.RasterYSize\n",
    "        self.projection = self.time_series.GetProjection()\n",
    "        self.nbands = self.time_series.RasterCount\n",
    "        \n",
    "        band = self.time_series.GetRasterBand(1)\n",
    "        self.block_size = band.GetBlockSize()\n",
    "        self.time_dict = {}\n",
    "        \n",
    "        # self.raster_stack_orig = time_series.ReadAsArray()\n",
    "        # This takes really long and will likely cause memory issues when running on large countries, so don't use it\n",
    "        # Use blocks and base block size on what gdal sets or on ram calculation \n",
    "        \n",
    "        # dates file\n",
    "        with open(dates_path) as f:\n",
    "            dates_list = f.read().split('\\n')\n",
    "            self.dates = [datetime.strptime(d, '%Y-%m-%d') for d in dates_list if len(d) > 0]\n",
    "        \n",
    "    def __str__(self):\n",
    "        return(\"Timeseries holds {} dates, sized {} by {}.\".format(self.nbands,\n",
    "                                                                        self.ncols,\n",
    "                                                                        self.nrows))\n",
    "    def __repr__(self):\n",
    "            return(\"Timeseries: {} \".format(self.name))\n",
    "\n",
    "    def run_bfast(self, block):\n",
    "        print(\"start monitor: \", self.start_monitor)\n",
    "        print(\"end monitor: \", self.end_monitor)\n",
    "        print(\"start history: \", self.start_hist)\n",
    "        data, dates = crop_data_dates(block, self.dates, self.start_hist, self.end_monitor)\n",
    "        print(\"First date: {}\".format(dates[0]))\n",
    "        print(\"Last date: {}\".format(dates[-1]))\n",
    "\n",
    "        # only apply on a small subset\n",
    "        #data = data[:,:80,:80]\n",
    "        \n",
    "        # change nans to a number bfastmonitor-GPU can work with\n",
    "        where_are_NaNs = isnan(data)\n",
    "        data[where_are_NaNs] = -32768\n",
    "\n",
    "        # fit model\n",
    "        self.model.fit(data, dates, nan_value = -32768) \n",
    "        \n",
    "        # save breaks and mean magnitudes\n",
    "        breaks = self.model.breaks # index of date that has a break in dates\n",
    "        means = self.model.means # magnitudes of breaks\n",
    "        \n",
    "        return(breaks,means)\n",
    "    \n",
    "    def loop_blocks(self):\n",
    "\n",
    "        start_time = time.time()\n",
    "        \n",
    "        x_block_size = self.block_size[0]\n",
    "        y_block_size = self.block_size[1]\n",
    "        print(\"rastersize: \",self.ncols,self.nrows)\n",
    "        print(\"The natural block size is the block size that is most efficient for accessing the format, gdal found blocksize: \",self.block_size)\n",
    "        print(\"set blocksize explicitly: \",x_block_size,\", \" ,y_block_size)\n",
    "        print(\"bytes required: \", str(8 * self.ncols * self.nrows * self.nbands))\n",
    "\n",
    "        first_verstack=True\n",
    "\n",
    "        # loop over yblocks\n",
    "        for i in range(0, self.nrows, y_block_size):\n",
    "            first_horstack = True\n",
    "            if i + y_block_size < self.nrows:\n",
    "                rows = y_block_size\n",
    "            else:\n",
    "                rows = self.nrows - i\n",
    "\n",
    "            # Loop over xblocks\n",
    "            for j in range(0, self.ncols, x_block_size):\n",
    "                if j + x_block_size < self.ncols:\n",
    "                    cols = x_block_size\n",
    "                else:\n",
    "                    cols = self.ncols - j\n",
    "\n",
    "                print(j,i,cols,rows)\n",
    "\n",
    "                # first step creates the array\n",
    "                if first_horstack==True:\n",
    "                    data = self.time_series.ReadAsArray(j, i, cols, rows).astype(np.int16)\n",
    "\n",
    "                    breaks,means = self.run_bfast(data)\n",
    "                    breaks_array = breaks\n",
    "                    means_array = means\n",
    "                    first_horstack=False\n",
    "                    \n",
    "                # after that add to array\n",
    "                else:                    \n",
    "                    data = self.time_series.ReadAsArray(j, i, cols, rows).astype(np.int16)\n",
    "                    \n",
    "                    breaks,means = self.run_bfast(data)\n",
    "                    breaks_array = np.concatenate((breaks_array,breaks),axis = 1)\n",
    "                    means_array = np.concatenate((means_array,means),axis = 1)\n",
    "                    \n",
    "            # first step create new variable verstack for the data\n",
    "            if first_verstack == True:\n",
    "                stack_breaks_array = breaks_array\n",
    "                stack_means_array = means_array\n",
    "                first_verstack = False\n",
    "            \n",
    "            # after that add data to array\n",
    "            else:\n",
    "                stack_breaks_array = np.concatenate((stack_breaks_array,breaks_array),axis=0)\n",
    "                stack_means_array = np.concatenate((stack_means_array,means_array),axis=0)\n",
    "                \n",
    "        self.breaks_array = stack_breaks_array\n",
    "        self.means_array = stack_means_array\n",
    "        \n",
    "        end_time = time.time()\n",
    "        print(\"Fitting model over all blocks took {} seconds.\".format(end_time - start_time))\n",
    "        self.time_dict[self.name] = str(end_time - start_time) + \" seconds\"\n",
    "        \n",
    "    def set_bfast_parameters(self, start_monitor, end_monitor, start_hist,freq,k,hfrac,trend,level,backend='opencl',verbose=1,device_id=0):\n",
    "        self.start_monitor = start_monitor\n",
    "        self.end_monitor = end_monitor\n",
    "        self.start_hist = start_hist\n",
    "        self.freq = freq\n",
    "        self.k = k\n",
    "        self.hfrac = hfrac\n",
    "        self.trend = trend\n",
    "        self.level = level\n",
    "        self.backend = backend\n",
    "        self.verbose = verbose\n",
    "        \n",
    "        self.model = BFASTMonitor(\n",
    "                    self.start_monitor,\n",
    "                    freq=freq, # add these\n",
    "                    k=k,\n",
    "                    hfrac=hfrac,\n",
    "                    trend=trend,\n",
    "                    level=level,\n",
    "                    backend=backend,\n",
    "                    verbose=verbose,\n",
    "                    device_id=device_id,\n",
    "                    )\n",
    "        \n",
    "        try:\n",
    "            print(pyopencl.get_platforms()[0].get_devices())\n",
    "        except:\n",
    "            print(\"You selected  openCL, but no device was found, are you sure you set up a gpu session?\")\n",
    "\n",
    "    \n",
    "    def get_bfast_parameters(self):\n",
    "        print(\"Monitoring starts at: \", self.start_monitor)\n",
    "        print(\"Monitoring ends at: \", self.end_monitor)\n",
    "        print(\"Dataset history starts at: \", self.start_hist)\n",
    "        print(\"frequency: \", self.freq)\n",
    "        print(\"harmonic term: \", self.k)\n",
    "        print(\"hfrac: \", self.hfrac)\n",
    "        print(\"trend: \", self.trend)\n",
    "        print(\"level: \", self.level)\n",
    "        print(\"GPU opencl or CPU python: \", self.backend)\n",
    "        print(\"verbose: \", self.verbose)\n",
    "        \n",
    "    \n",
    "    def log_output_to_txt(self):\n",
    "\n",
    "        attributes = inspect.getmembers(self, lambda a:not(inspect.isroutine(a)))\n",
    "        \n",
    "        logs_directory = \"logs\"\n",
    "        if not os.path.exists(\"logs\"):\n",
    "            os.makedirs(logs_directory)\n",
    "        \n",
    "        save_dir = self.dir\n",
    "        try:\n",
    "            start_index = save_dir.find(\"Time_series\")\n",
    "        except:\n",
    "            start_index = 1\n",
    "        save_dir = self.dir.replace(\"/\",\"-\")[start_index:] + datetime.now().strftime(\"%Y-%m-%d-%H-%M-%S\") + \".txt\"\n",
    "        \n",
    "        \n",
    "        with open(str(logs_directory + \"/\" + save_dir), \"w\") as f:\n",
    "            f.write(\"Date: \" + str(datetime.now()))\n",
    "            f.write(\"\\n\")\n",
    "            for a in attributes:\n",
    "                if not(a[0].startswith('__') and a[0].endswith('__')):\n",
    "                    f.write(str(a))\n",
    "                    f.write(\"\\n\")\n",
    "        \n",
    "#         print(self.dir)\n",
    "#         save_dir = self.dir\n",
    "#         save_dir = self.dir.replace(\"/\",\"-\")\n",
    "#         print(save_dir)\n",
    "#         with open(str(save_dir), \"w\") as f:\n",
    "#             f.write(self.get_bfast_parameters())\n",
    "    \n",
    "    # Don't work anymore, fix later\n",
    "    def plot_hist(self):\n",
    "        histlist = []\n",
    "        for x in range(self.nbands):\n",
    "            histlist.append(np.isnan(self.raster_stack[x]).sum()/(self.ncols*self.nrows))\n",
    "        plt.hist(histlist)\n",
    "        plt.show()\n",
    "        \n",
    "    def get_size(self):\n",
    "        total_size = 0\n",
    "        for dirpath, dirnames, filenames in os.walk(self.dir):\n",
    "            for f in filenames:\n",
    "                fp = os.path.join(dirpath, f)\n",
    "                # skip if it is symbolic link\n",
    "                if not os.path.islink(fp):\n",
    "                    total_size += os.path.getsize(fp)\n",
    "        print(self.dir + \"   holds  \" + str(total_size) + \" bytes\")\n",
    "\n",
    "      "
   ]
  },
  {
   "cell_type": "code",
   "execution_count": null,
   "metadata": {},
   "outputs": [],
   "source": []
  },
  {
   "cell_type": "markdown",
   "metadata": {},
   "source": [
    "# Load in data: if there are tiles in the directory, create a list and load per tile"
   ]
  },
  {
   "cell_type": "code",
   "execution_count": 285,
   "metadata": {
    "scrolled": true
   },
   "outputs": [],
   "source": [
    "# set paths to data\n",
    "dates_path = os.path.join(timeseries_directory, \"dates.csv\")\n",
    "data_list=[]\n",
    "tile_paths = []\n",
    "\n",
    "# check for tiles\n",
    "for file in os.listdir(timeseries_directory):\n",
    "    if file.startswith('tile'):\n",
    "        time_series_path =  timeseries_directory + file + \"/\"\n",
    "        tile_paths.append(time_series_path)\n"
   ]
  },
  {
   "cell_type": "code",
   "execution_count": 286,
   "metadata": {
    "scrolled": true
   },
   "outputs": [
    {
     "name": "stdout",
     "output_type": "stream",
     "text": [
      "No tiles, setting up data as one tile\n"
     ]
    }
   ],
   "source": [
    "# # Set up list of time series tiles and their metadata\n",
    "if not tile_paths:\n",
    "    print(\"No tiles, setting up data as one tile\")\n",
    "    ts_data = Timeseries(timeseries_directory, dates_path)\n",
    "    data_list.append(ts_data)\n",
    "    \n",
    "else:\n",
    "    print(\"Data consists of tiles, setting up tiles\")\n",
    "    for time_series_path in tile_paths:\n",
    "        ts_data = Timeseries(time_series_path, dates_path)\n",
    "        data_list.append(ts_data)\n",
    "        \n",
    "# log\n",
    "# with open(\"log.txt\",\"a\") as file:\n",
    "#     file.write(\"Loading in: \" + timeseries_directory)\n",
    "#     file.write(\" took {} seconds.\".format(end_time - start_time))\n",
    "#     file.write(\"\\n\")"
   ]
  },
  {
   "cell_type": "markdown",
   "metadata": {},
   "source": [
    "### Check some metadata of the created Timeseries class"
   ]
  },
  {
   "cell_type": "code",
   "execution_count": 287,
   "metadata": {
    "scrolled": true
   },
   "outputs": [
    {
     "name": "stdout",
     "output_type": "stream",
     "text": [
      "projection:  GEOGCS[\"WGS 84\",DATUM[\"WGS_1984\",SPHEROID[\"WGS 84\",6378137,298.257223563,AUTHORITY[\"EPSG\",\"7030\"]],AUTHORITY[\"EPSG\",\"6326\"]],PRIMEM[\"Greenwich\",0],UNIT[\"degree\",0.0174532925199433,AUTHORITY[\"EPSG\",\"9122\"]],AXIS[\"Latitude\",NORTH],AXIS[\"Longitude\",EAST],AUTHORITY[\"EPSG\",\"4326\"]]\n",
      "pixel size:  0.0002694945852358568\n"
     ]
    }
   ],
   "source": [
    "# data_list = data_list[0:2]\n",
    "#ts_data = data_list[0]\n",
    "print(\"projection: \", data_list[0].projection)\n",
    "print(\"pixel size: \", data_list[0].xpixelsize)\n",
    "ts_data.log_output_to_txt()\n",
    "\n"
   ]
  },
  {
   "cell_type": "markdown",
   "metadata": {},
   "source": [
    "# Set parameters"
   ]
  },
  {
   "cell_type": "code",
   "execution_count": 256,
   "metadata": {},
   "outputs": [],
   "source": [
    "# parameters\n",
    "k = 3\n",
    "freq = 365\n",
    "trend = False\n",
    "hfrac = 0.25\n",
    "level = 0.05\n",
    "position = (100,100)\n",
    "\n",
    "backend = 'opencl'\n",
    "verbose = 1\n",
    "device_id = 0\n",
    "\n",
    "\n",
    "# start_hist = datetime(2018, 1, 1)\n",
    "# start_monitor = datetime(2019, 1, 1)\n",
    "# end_monitor = datetime(2020, 1, 1)\n"
   ]
  },
  {
   "cell_type": "markdown",
   "metadata": {},
   "source": [
    "# Select monitoring period"
   ]
  },
  {
   "cell_type": "code",
   "execution_count": 257,
   "metadata": {},
   "outputs": [
    {
     "name": "stdout",
     "output_type": "stream",
     "text": [
      "start monitoring period 2000-03-04 00:00:00\n"
     ]
    },
    {
     "data": {
      "application/vnd.jupyter.widget-view+json": {
       "model_id": "e1cf8d2405584cc48f8d4965e967627a",
       "version_major": 2,
       "version_minor": 0
      },
      "text/plain": [
       "interactive(children=(SelectionRangeSlider(description='Select the monitoring date range: ', index=(0, 7400), …"
      ]
     },
     "metadata": {},
     "output_type": "display_data"
    },
    {
     "data": {
      "application/vnd.jupyter.widget-view+json": {
       "model_id": "c592554fbc43458d8450467eb36bd564",
       "version_major": 2,
       "version_minor": 0
      },
      "text/plain": [
       "interactive(children=(SelectionSlider(description='Start history period:', options=(('2000-03-04', Timestamp('…"
      ]
     },
     "metadata": {},
     "output_type": "display_data"
    }
   ],
   "source": [
    "dates = ts_data.dates\n",
    "start_date = dates[10] # 0 or 10 does not work.. 100 did\n",
    "print(\"start monitoring period\",start_date)\n",
    "end_date = dates[-1]\n",
    "\n",
    "def h(y):\n",
    "    return(y)\n",
    "\n",
    "pandas_dates = pd.date_range(start_date, end_date, freq='D')\n",
    "\n",
    "options =  [(date.strftime('%Y-%m-%d'),date) for date in pandas_dates]\n",
    "index = (0, len(options)-1)\n",
    "\n",
    "\n",
    "monitoring_period = widgets.interactive(h,\n",
    "                                     y=widgets.SelectionRangeSlider(\n",
    "                                            options=options,\n",
    "                                            index=index,\n",
    "                                            description='Select the monitoring date range: ',\n",
    "                                            style = {'description_width': 'initial'},\n",
    "                                            orientation='horizontal',\n",
    "                                            layout={'width': '800px',\"height\":\"50px\"}))\n",
    "\n",
    "\n",
    "history_period = widgets.interactive(h, \n",
    "                                     y=widgets.SelectionSlider(description=\"Start history period:\", \n",
    "                                            options = options,\n",
    "                                            style = {'description_width': 'initial'}))\n",
    "\n",
    "display(monitoring_period)\n",
    "display(history_period)"
   ]
  },
  {
   "cell_type": "code",
   "execution_count": 258,
   "metadata": {},
   "outputs": [
    {
     "name": "stdout",
     "output_type": "stream",
     "text": [
      "start monitor:  2000-10-28 00:00:00\n",
      "end monitor:  2020-06-07 00:00:00\n",
      "start history:  2000-03-04 00:00:00\n"
     ]
    }
   ],
   "source": [
    "start_monitor, end_monitor = monitoring_period.result\n",
    "start_hist = history_period.result\n",
    "\n",
    "if history_period.result > start_monitor:\n",
    "    raise Exception(\"Your history period must start before the monitoring period\")\n",
    "\n",
    "#start_monitor = datetime(2011, 11, 23)\n",
    "\n",
    "print(\"start monitor: \", start_monitor)\n",
    "print(\"end monitor: \", end_monitor)\n",
    "print(\"start history: \", start_hist)"
   ]
  },
  {
   "cell_type": "code",
   "execution_count": null,
   "metadata": {},
   "outputs": [],
   "source": []
  },
  {
   "cell_type": "markdown",
   "metadata": {},
   "source": [
    "### if you have tiles loop over them, or select the first"
   ]
  },
  {
   "cell_type": "code",
   "execution_count": 259,
   "metadata": {},
   "outputs": [
    {
     "name": "stdout",
     "output_type": "stream",
     "text": [
      "[<pyopencl.Device 'Tesla T4' on 'NVIDIA CUDA' at 0x2c403e0>]\n",
      "rastersize:  14 8\n",
      "The natural block size is the block size that is most efficient for accessing the format, gdal found blocksize:  [14, 8]\n",
      "set blocksize explicitly:  14 ,  8\n",
      "bytes required:  473984\n",
      "0 0 14 8\n",
      "start monitor:  2000-10-28 00:00:00\n",
      "end monitor:  2020-06-07 00:00:00\n",
      "start history:  2000-03-04 00:00:00\n",
      "First date: 2000-03-28 00:00:00\n",
      "Last date: 2020-06-07 00:00:00\n",
      "Processing row 0\n"
     ]
    },
    {
     "ename": "AttributeError",
     "evalue": "'BFASTMonitorPython' object has no attribute 'first_break'",
     "output_type": "error",
     "traceback": [
      "\u001b[0;31m---------------------------------------------------------------------------\u001b[0m",
      "\u001b[0;31mAttributeError\u001b[0m                            Traceback (most recent call last)",
      "\u001b[0;32m<ipython-input-259-5a13e72d93cc>\u001b[0m in \u001b[0;36m<module>\u001b[0;34m\u001b[0m\n\u001b[1;32m      1\u001b[0m \u001b[0;32mfor\u001b[0m \u001b[0mts_data\u001b[0m \u001b[0;32min\u001b[0m \u001b[0mdata_list\u001b[0m\u001b[0;34m:\u001b[0m\u001b[0;34m\u001b[0m\u001b[0;34m\u001b[0m\u001b[0m\n\u001b[1;32m      2\u001b[0m     \u001b[0mts_data\u001b[0m\u001b[0;34m.\u001b[0m\u001b[0mset_bfast_parameters\u001b[0m\u001b[0;34m(\u001b[0m\u001b[0mstart_monitor\u001b[0m\u001b[0;34m,\u001b[0m\u001b[0mend_monitor\u001b[0m\u001b[0;34m,\u001b[0m\u001b[0mstart_hist\u001b[0m\u001b[0;34m,\u001b[0m\u001b[0mfreq\u001b[0m\u001b[0;34m,\u001b[0m\u001b[0mk\u001b[0m\u001b[0;34m,\u001b[0m\u001b[0mhfrac\u001b[0m\u001b[0;34m,\u001b[0m\u001b[0mtrend\u001b[0m\u001b[0;34m,\u001b[0m\u001b[0mlevel\u001b[0m\u001b[0;34m,\u001b[0m\u001b[0mbackend\u001b[0m\u001b[0;34m=\u001b[0m\u001b[0mbackend\u001b[0m\u001b[0;34m,\u001b[0m\u001b[0mverbose\u001b[0m\u001b[0;34m=\u001b[0m\u001b[0mverbose\u001b[0m\u001b[0;34m,\u001b[0m\u001b[0mdevice_id\u001b[0m\u001b[0;34m=\u001b[0m\u001b[0mdevice_id\u001b[0m\u001b[0;34m)\u001b[0m\u001b[0;34m\u001b[0m\u001b[0;34m\u001b[0m\u001b[0m\n\u001b[0;32m----> 3\u001b[0;31m     \u001b[0mts_data\u001b[0m\u001b[0;34m.\u001b[0m\u001b[0mloop_blocks\u001b[0m\u001b[0;34m(\u001b[0m\u001b[0;34m)\u001b[0m\u001b[0;34m\u001b[0m\u001b[0;34m\u001b[0m\u001b[0m\n\u001b[0m\u001b[1;32m      4\u001b[0m     \u001b[0mts_data\u001b[0m\u001b[0;34m.\u001b[0m\u001b[0mget_bfast_parameters\u001b[0m\u001b[0;34m(\u001b[0m\u001b[0;34m)\u001b[0m\u001b[0;34m\u001b[0m\u001b[0;34m\u001b[0m\u001b[0m\n\u001b[1;32m      5\u001b[0m     \u001b[0mts_data\u001b[0m\u001b[0;34m.\u001b[0m\u001b[0mlog_output_to_txt\u001b[0m\u001b[0;34m(\u001b[0m\u001b[0;34m)\u001b[0m\u001b[0;34m\u001b[0m\u001b[0;34m\u001b[0m\u001b[0m\n",
      "\u001b[0;32m<ipython-input-241-c85a07468637>\u001b[0m in \u001b[0;36mloop_blocks\u001b[0;34m(self)\u001b[0m\n\u001b[1;32m    117\u001b[0m                     \u001b[0mdata\u001b[0m \u001b[0;34m=\u001b[0m \u001b[0mself\u001b[0m\u001b[0;34m.\u001b[0m\u001b[0mtime_series\u001b[0m\u001b[0;34m.\u001b[0m\u001b[0mReadAsArray\u001b[0m\u001b[0;34m(\u001b[0m\u001b[0mj\u001b[0m\u001b[0;34m,\u001b[0m \u001b[0mi\u001b[0m\u001b[0;34m,\u001b[0m \u001b[0mcols\u001b[0m\u001b[0;34m,\u001b[0m \u001b[0mrows\u001b[0m\u001b[0;34m)\u001b[0m\u001b[0;34m.\u001b[0m\u001b[0mastype\u001b[0m\u001b[0;34m(\u001b[0m\u001b[0mnp\u001b[0m\u001b[0;34m.\u001b[0m\u001b[0mint16\u001b[0m\u001b[0;34m)\u001b[0m\u001b[0;34m\u001b[0m\u001b[0;34m\u001b[0m\u001b[0m\n\u001b[1;32m    118\u001b[0m \u001b[0;34m\u001b[0m\u001b[0m\n\u001b[0;32m--> 119\u001b[0;31m                     \u001b[0mbreaks\u001b[0m\u001b[0;34m,\u001b[0m\u001b[0mmeans\u001b[0m \u001b[0;34m=\u001b[0m \u001b[0mself\u001b[0m\u001b[0;34m.\u001b[0m\u001b[0mrun_bfast\u001b[0m\u001b[0;34m(\u001b[0m\u001b[0mdata\u001b[0m\u001b[0;34m)\u001b[0m\u001b[0;34m\u001b[0m\u001b[0;34m\u001b[0m\u001b[0m\n\u001b[0m\u001b[1;32m    120\u001b[0m                     \u001b[0mbreaks_array\u001b[0m \u001b[0;34m=\u001b[0m \u001b[0mbreaks\u001b[0m\u001b[0;34m\u001b[0m\u001b[0;34m\u001b[0m\u001b[0m\n\u001b[1;32m    121\u001b[0m                     \u001b[0mmeans_array\u001b[0m \u001b[0;34m=\u001b[0m \u001b[0mmeans\u001b[0m\u001b[0;34m\u001b[0m\u001b[0;34m\u001b[0m\u001b[0m\n",
      "\u001b[0;32m<ipython-input-241-c85a07468637>\u001b[0m in \u001b[0;36mrun_bfast\u001b[0;34m(self, block)\u001b[0m\n\u001b[1;32m     75\u001b[0m \u001b[0;34m\u001b[0m\u001b[0m\n\u001b[1;32m     76\u001b[0m         \u001b[0;31m# fit model\u001b[0m\u001b[0;34m\u001b[0m\u001b[0;34m\u001b[0m\u001b[0;34m\u001b[0m\u001b[0m\n\u001b[0;32m---> 77\u001b[0;31m         \u001b[0mself\u001b[0m\u001b[0;34m.\u001b[0m\u001b[0mmodel\u001b[0m\u001b[0;34m.\u001b[0m\u001b[0mfit\u001b[0m\u001b[0;34m(\u001b[0m\u001b[0mdata\u001b[0m\u001b[0;34m,\u001b[0m \u001b[0mdates\u001b[0m\u001b[0;34m,\u001b[0m \u001b[0mnan_value\u001b[0m \u001b[0;34m=\u001b[0m \u001b[0;34m-\u001b[0m\u001b[0;36m32768\u001b[0m\u001b[0;34m)\u001b[0m\u001b[0;34m\u001b[0m\u001b[0;34m\u001b[0m\u001b[0m\n\u001b[0m\u001b[1;32m     78\u001b[0m \u001b[0;34m\u001b[0m\u001b[0m\n\u001b[1;32m     79\u001b[0m         \u001b[0;31m# save breaks and mean magnitudes\u001b[0m\u001b[0;34m\u001b[0m\u001b[0;34m\u001b[0m\u001b[0;34m\u001b[0m\u001b[0m\n",
      "\u001b[0;32m~/.local/share/virtualenvs/bfastmonitor_cpu-LhLEOv6G/lib/python3.6/site-packages/bfast/models.py\u001b[0m in \u001b[0;36mfit\u001b[0;34m(self, data, dates, n_chunks, nan_value)\u001b[0m\n\u001b[1;32m    159\u001b[0m                         \u001b[0mdates\u001b[0m\u001b[0;34m=\u001b[0m\u001b[0mdates\u001b[0m\u001b[0;34m,\u001b[0m\u001b[0;34m\u001b[0m\u001b[0;34m\u001b[0m\u001b[0m\n\u001b[1;32m    160\u001b[0m                         \u001b[0mn_chunks\u001b[0m\u001b[0;34m=\u001b[0m\u001b[0mn_chunks\u001b[0m\u001b[0;34m,\u001b[0m\u001b[0;34m\u001b[0m\u001b[0;34m\u001b[0m\u001b[0m\n\u001b[0;32m--> 161\u001b[0;31m                         nan_value=nan_value)\n\u001b[0m\u001b[1;32m    162\u001b[0m         \u001b[0mself\u001b[0m\u001b[0;34m.\u001b[0m\u001b[0m_model_fitted\u001b[0m \u001b[0;34m=\u001b[0m \u001b[0;32mTrue\u001b[0m\u001b[0;34m\u001b[0m\u001b[0;34m\u001b[0m\u001b[0m\n\u001b[1;32m    163\u001b[0m \u001b[0;34m\u001b[0m\u001b[0m\n",
      "\u001b[0;32m~/.local/share/virtualenvs/bfastmonitor_cpu-LhLEOv6G/lib/python3.6/site-packages/bfast/monitor/python/base.py\u001b[0m in \u001b[0;36mfit\u001b[0;34m(self, data, dates, n_chunks, nan_value)\u001b[0m\n\u001b[1;32m    138\u001b[0m                 \u001b[0my\u001b[0m \u001b[0;34m=\u001b[0m \u001b[0mdata\u001b[0m\u001b[0;34m[\u001b[0m\u001b[0;34m:\u001b[0m\u001b[0;34m,\u001b[0m\u001b[0mi\u001b[0m\u001b[0;34m,\u001b[0m\u001b[0mj\u001b[0m\u001b[0;34m]\u001b[0m\u001b[0;34m\u001b[0m\u001b[0;34m\u001b[0m\u001b[0m\n\u001b[1;32m    139\u001b[0m                 \u001b[0mself\u001b[0m\u001b[0;34m.\u001b[0m\u001b[0mfit_single\u001b[0m\u001b[0;34m(\u001b[0m\u001b[0my\u001b[0m\u001b[0;34m,\u001b[0m \u001b[0mdates\u001b[0m\u001b[0;34m)\u001b[0m\u001b[0;34m\u001b[0m\u001b[0;34m\u001b[0m\u001b[0m\n\u001b[0;32m--> 140\u001b[0;31m                 \u001b[0mbreaks_global\u001b[0m\u001b[0;34m[\u001b[0m\u001b[0mi\u001b[0m\u001b[0;34m,\u001b[0m\u001b[0mj\u001b[0m\u001b[0;34m]\u001b[0m \u001b[0;34m=\u001b[0m \u001b[0mself\u001b[0m\u001b[0;34m.\u001b[0m\u001b[0mfirst_break\u001b[0m\u001b[0;34m\u001b[0m\u001b[0;34m\u001b[0m\u001b[0m\n\u001b[0m\u001b[1;32m    141\u001b[0m                 \u001b[0mmeans_global\u001b[0m\u001b[0;34m[\u001b[0m\u001b[0mi\u001b[0m\u001b[0;34m,\u001b[0m\u001b[0mj\u001b[0m\u001b[0;34m]\u001b[0m \u001b[0;34m=\u001b[0m \u001b[0mself\u001b[0m\u001b[0;34m.\u001b[0m\u001b[0mmean\u001b[0m\u001b[0;34m\u001b[0m\u001b[0;34m\u001b[0m\u001b[0m\n\u001b[1;32m    142\u001b[0m \u001b[0;34m\u001b[0m\u001b[0m\n",
      "\u001b[0;31mAttributeError\u001b[0m: 'BFASTMonitorPython' object has no attribute 'first_break'"
     ]
    }
   ],
   "source": [
    "for ts_data in data_list:\n",
    "    ts_data.set_bfast_parameters(start_monitor,end_monitor,start_hist,freq,k,hfrac,trend,level,backend=backend,verbose=verbose,device_id=device_id)\n",
    "    ts_data.loop_blocks()\n",
    "    ts_data.get_bfast_parameters()\n",
    "    ts_data.log_output_to_txt()\n",
    "    \n",
    "# ts_data.set_bfast_parameters(start_monitor,end_monitor,start_hist,freq,k,hfrac,trend,level,backend,verbose,device_id)\n",
    "# print(ts_data.start_monitor)\n",
    "\n",
    "# ts_data.get_bfast_parameters()"
   ]
  },
  {
   "cell_type": "code",
   "execution_count": null,
   "metadata": {},
   "outputs": [],
   "source": [
    "for ts_data in  data_list:\n",
    "    print (ts_data.dir)\n",
    "    print (ts_data.means_array)\n",
    "\n",
    "# tile0_0 = data_list[0]\n",
    "# tile2048_2048 = data_list[1]\n",
    "\n",
    "\n",
    "# np.concatenate((tile0_0.means_array,tile2048_2048.means_array),axis = 0)\n",
    "# tile0_0.\n"
   ]
  },
  {
   "cell_type": "markdown",
   "metadata": {},
   "source": [
    "## Run bfastmonitor() The loop_blocks code runs over smaller blocks, that may be set based on ram space or user itself..?\n"
   ]
  },
  {
   "cell_type": "markdown",
   "metadata": {},
   "source": [
    "# Select negative magnitudes"
   ]
  },
  {
   "cell_type": "code",
   "execution_count": 230,
   "metadata": {
    "scrolled": true
   },
   "outputs": [],
   "source": [
    "breaks = ts_data.breaks_array\n",
    "means = ts_data.means_array\n",
    "\n",
    "orig_breaks = copy.deepcopy(breaks)\n",
    "orig_means = copy.deepcopy(means)\n"
   ]
  },
  {
   "cell_type": "code",
   "execution_count": 231,
   "metadata": {},
   "outputs": [],
   "source": [
    "# import seaborn as sns\n",
    "\n",
    "# select only negative magnitudes\n",
    "no_breaks_indices = (breaks == -1)\n",
    "means[no_breaks_indices] = 0\n",
    "means[means > 0] = 0 # only want negative mean changes\n",
    "\n",
    "breaks_plot = breaks.astype(np.float)\n",
    "breaks_plot[breaks == -2] = np.nan\n",
    "breaks_plot[breaks == -1] = np.nan\n",
    "breaks_plot[means >= 0] = np.nan\n",
    "\n",
    "# print(\"magnitude change heatmap\")\n",
    "# sns.heatmap(orig_means,  linewidths=1)\n"
   ]
  },
  {
   "cell_type": "code",
   "execution_count": 232,
   "metadata": {},
   "outputs": [],
   "source": [
    "dates_monitor = []\n",
    "dates = ts_data.dates\n",
    "# collect dates for monitor period\n",
    "for i in range(len(dates)):\n",
    "    if start_monitor <= dates[i]:\n",
    "        dates_monitor.append(dates[i])\n",
    "dates_array = np.array(dates_monitor) # dates_array is the dates that are in the monitoring period\n"
   ]
  },
  {
   "cell_type": "markdown",
   "metadata": {},
   "source": [
    "# Classify output for plotting"
   ]
  },
  {
   "cell_type": "code",
   "execution_count": 238,
   "metadata": {},
   "outputs": [],
   "source": [
    "idx_starts = {}\n",
    "\n",
    "# this gives the index of all the data points in the year and after\n",
    "for year in range(start_monitor.year,end_monitor.year+1):\n",
    "    idx_starts[year] = np.argmax((dates_array >= datetime(year, 1, 1)) > False) \n",
    "\n",
    "    breaks_plot_years = copy.deepcopy(breaks_plot)\n",
    "\n",
    "#classifying for plotting\n",
    "ticklist=[]\n",
    "for idx, year in enumerate(idx_starts):\n",
    "    ticklist.append(str(year))\n",
    "    \n",
    "    # if we're at the last year\n",
    "    if idx == len(idx_starts)-1:\n",
    "        breaks_plot_years[np.where(idx_starts[year] < breaks_plot)] = len(idx_starts)-1 \n",
    "        continue\n",
    "    \n",
    "    # if we're at the first year\n",
    "    if idx == 0:\n",
    "        breaks_plot_years[breaks_plot <= idx_starts[year+1]] = 0\n",
    "        continue\n",
    "    \n",
    "    # all other years in between\n",
    "    breaks_plot_years[np.where(np.logical_and(idx_starts[year] < breaks_plot, breaks_plot <= idx_starts[year+1]))] = idx\n",
    "    "
   ]
  },
  {
   "cell_type": "markdown",
   "metadata": {},
   "source": [
    "# Plot output"
   ]
  },
  {
   "cell_type": "code",
   "execution_count": 239,
   "metadata": {},
   "outputs": [
    {
     "name": "stdout",
     "output_type": "stream",
     "text": [
      "15\n"
     ]
    },
    {
     "data": {
      "image/png": "[encoded data removed]",
      "text/plain": [
       "<Figure size 720x720 with 2 Axes>"
      ]
     },
     "metadata": {
      "needs_background": "light"
     },
     "output_type": "display_data"
    }
   ],
   "source": [
    "bins = len(idx_starts)\n",
    "\n",
    "\n",
    "cmap = plt.get_cmap(\"rainbow\")\n",
    "cmaplist = [cmap(i) for i in range(cmap.N)]\n",
    "cmap = cmap.from_list('Custom cmap', cmaplist, cmap.N)\n",
    "\n",
    "bounds = np.linspace(0, bins-1, bins) #third number is the amount of bins in the colorbar 0=0, 6 = ncolors, 7= nyears\n",
    "norm = matplotlib.colors.BoundaryNorm(bounds, cmap.N)\n",
    "\n",
    "fig, axes = plt.subplots(nrows=1, ncols=1, figsize=(10, 10))\n",
    "\n",
    "#norm doesn't work with bins = 2 or less... now the colorbar is ugly, fix it later\n",
    "\n",
    "if bins == 1:\n",
    "    im = axes.imshow(breaks_plot_years,cmap=cmap,vmin=0,vmax=bins)\n",
    "if bins == 2:\n",
    "    im = axes.imshow(breaks_plot_years,cmap=cmap,vmin=0,vmax=bins)\n",
    "else:\n",
    "    im = axes.imshow(breaks_plot_years, cmap=cmap, vmin=0, vmax=bins, norm=norm)\n",
    "\n",
    "fig.subplots_adjust(right=0.8)\n",
    "cbar_ax = fig.add_axes([0.85, 0.15, 0.05, 0.7])\n",
    "fig.colorbar(im, cax=cbar_ax, ticks=range(bins))\n",
    "labels = cbar_ax.set_yticklabels(ticklist)\n",
    "\n",
    "plt.savefig(\"./output/picture.png\")\n",
    "plt.show()\n",
    "\n"
   ]
  },
  {
   "cell_type": "markdown",
   "metadata": {},
   "source": [
    "print(bounds)"
   ]
  },
  {
   "cell_type": "code",
   "execution_count": 175,
   "metadata": {},
   "outputs": [
    {
     "name": "stdout",
     "output_type": "stream",
     "text": [
      "[0. 1.]\n"
     ]
    }
   ],
   "source": [
    "print(bounds)"
   ]
  },
  {
   "cell_type": "code",
   "execution_count": null,
   "metadata": {},
   "outputs": [],
   "source": [
    "# #this doesn't work yet\n",
    "\n",
    "# output_raster = gdal.GetDriverByName('GTiff').Create('myraster.tif',cols, rows, 1 ,gdal.GDT_Float32)  # Open the file\n",
    "\n",
    "# output_raster.SetGeoTransform(geotransform)  # Specify its coordinates\n",
    "# srs = osr.SpatialReference()                 # Establish its coordinate encoding\n",
    "# srs.ImportFromEPSG(4326)                     # This one specifies WGS84 lat long.\n",
    "#                                              # Anyone know how to specify the \n",
    "#                                              # IAU2000:49900 Mars encoding?\n",
    "# output_raster.SetProjection( srs.ExportToWkt() )   # Exports the coordinate system \n",
    "#                                                    # to the file\n",
    "# output_raster.GetRasterBand(1).WriteArray(breaks_plot_years)   # Writes my array to the raster\n",
    "\n",
    "# output_raster.FlushCache()\n",
    "\n",
    "# output_raster"
   ]
  },
  {
   "cell_type": "code",
   "execution_count": 42,
   "metadata": {},
   "outputs": [
    {
     "name": "stdout",
     "output_type": "stream",
     "text": [
      "[[nan nan nan ... nan nan nan]\n",
      " [nan nan nan ... nan nan nan]\n",
      " [nan nan nan ... nan nan nan]\n",
      " ...\n",
      " [nan nan nan ... nan nan nan]\n",
      " [nan nan nan ... nan nan nan]\n",
      " [nan nan nan ... nan nan nan]]\n",
      "[[nan nan nan ... nan nan nan]\n",
      " [nan nan nan ... nan nan nan]\n",
      " [nan nan nan ... nan nan nan]\n",
      " ...\n",
      " [nan nan nan ... nan nan nan]\n",
      " [nan nan nan ... nan nan nan]\n",
      " [nan nan nan ... nan nan nan]]\n"
     ]
    }
   ],
   "source": [
    "print(breaks_plot_years)\n",
    "breaks_plot_years_norm = 1/(breaks_plot_years + 0.01)\n",
    "print(breaks_plot_years_norm)"
   ]
  },
  {
   "cell_type": "code",
   "execution_count": 43,
   "metadata": {},
   "outputs": [],
   "source": [
    "#cmap = plt.get_cmap(\"Oranges\")\n",
    "\n",
    "#cmaplist = [cmap(i) for i in range(cmap.N)]\n",
    "\n",
    "#cmap = cmap.from_list('Custom cmap', cmaplist, cmap.N)\n",
    "\n",
    "from matplotlib import cm\n",
    "from matplotlib.colors import ListedColormap, LinearSegmentedColormap\n",
    "\n",
    "# viridis = cm.get_cmap('viridis', 12)\n",
    "# print(viridis)\n",
    "# print(viridis(0.56))\n",
    "\n",
    "viridis = cm.get_cmap('rainbow', 256)\n",
    "newcolors = viridis(np.linspace(0, 1, 256))\n",
    "pink = np.array([248/256, 24/256, 148/256, 0])\n",
    "newcolors[:1, :] = pink\n",
    "newcmp = ListedColormap(newcolors)"
   ]
  },
  {
   "cell_type": "code",
   "execution_count": 182,
   "metadata": {},
   "outputs": [
    {
     "ename": "NameError",
     "evalue": "name 'latitude' is not defined",
     "output_type": "error",
     "traceback": [
      "\u001b[0;31m---------------------------------------------------------------------------\u001b[0m",
      "\u001b[0;31mNameError\u001b[0m                                 Traceback (most recent call last)",
      "\u001b[0;32m<ipython-input-182-f35afe9be848>\u001b[0m in \u001b[0;36m<module>\u001b[0;34m\u001b[0m\n\u001b[0;32m----> 1\u001b[0;31m \u001b[0mprint\u001b[0m\u001b[0;34m(\u001b[0m\u001b[0mlatitude\u001b[0m\u001b[0;34m)\u001b[0m\u001b[0;34m\u001b[0m\u001b[0;34m\u001b[0m\u001b[0m\n\u001b[0m\u001b[1;32m      2\u001b[0m \u001b[0mprint\u001b[0m\u001b[0;34m(\u001b[0m\u001b[0mxpixelsize\u001b[0m\u001b[0;34m)\u001b[0m\u001b[0;34m\u001b[0m\u001b[0;34m\u001b[0m\u001b[0m\n\u001b[1;32m      3\u001b[0m \u001b[0mprint\u001b[0m\u001b[0;34m(\u001b[0m\u001b[0mcols\u001b[0m\u001b[0;34m)\u001b[0m\u001b[0;34m\u001b[0m\u001b[0;34m\u001b[0m\u001b[0m\n\u001b[1;32m      4\u001b[0m \u001b[0mprint\u001b[0m\u001b[0;34m(\u001b[0m\u001b[0mlongitude\u001b[0m\u001b[0;34m)\u001b[0m\u001b[0;34m\u001b[0m\u001b[0;34m\u001b[0m\u001b[0m\n\u001b[1;32m      5\u001b[0m \u001b[0mprint\u001b[0m\u001b[0;34m(\u001b[0m\u001b[0mypixelsize\u001b[0m\u001b[0;34m)\u001b[0m\u001b[0;34m\u001b[0m\u001b[0;34m\u001b[0m\u001b[0m\n",
      "\u001b[0;31mNameError\u001b[0m: name 'latitude' is not defined"
     ]
    }
   ],
   "source": [
    "print(latitude)\n",
    "print(xpixelsize)\n",
    "print(cols)\n",
    "print(longitude)\n",
    "print(ypixelsize)\n",
    "print(rows)"
   ]
  },
  {
   "cell_type": "code",
   "execution_count": 183,
   "metadata": {},
   "outputs": [
    {
     "name": "stdout",
     "output_type": "stream",
     "text": [
      "40.701497713586164\n",
      "-8.420088821109099\n"
     ]
    }
   ],
   "source": [
    "print(ts_data.latitude)\n",
    "print(ts_data.longitude)"
   ]
  },
  {
   "cell_type": "code",
   "execution_count": 44,
   "metadata": {},
   "outputs": [
    {
     "data": {
      "text/html": [
       "<div style=\"width:100%;\"><div style=\"position:relative;width:100%;height:0;padding-bottom:60%;\"><span style=\"color:#565656\">Make this Notebook Trusted to load map: File -> Trust Notebook</span><iframe src=\"about:blank\" style=\"position:absolute;width:100%;height:100%;left:0;top:0;border:none !important;\" data-html=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 onload=\"this.contentDocument.open();this.contentDocument.write(atob(this.getAttribute('data-html')));this.contentDocument.close();\" allowfullscreen webkitallowfullscreen mozallowfullscreen></iframe></div></div>"
      ],
      "text/plain": [
       "<folium.folium.Map at 0x7f3a28d85128>"
      ]
     },
     "execution_count": 44,
     "metadata": {},
     "output_type": "execute_result"
    }
   ],
   "source": [
    "# this is probs still wrong\n",
    "\n",
    "from folium.plugins import FloatImage\n",
    "import base64\n",
    "latitude = ts_data.latitude\n",
    "longitude = ts_data.longitude\n",
    "xpixelsize= ts_data.xpixelsize\n",
    "ypixelsize= ts_data.ypixelsize\n",
    "rows = ts_data.nrows\n",
    "cols = ts_data.ncols\n",
    "\n",
    "m = folium.folium.Map(location = (latitude,longitude),tiles = \"Stamen Terrain\",zoom_start=13)\n",
    "\n",
    "# if not all data is \n",
    "#rows = 200\n",
    "#cols = 200\n",
    "\n",
    "\n",
    "# bounds = [[lat_min, lon_min], [lat_max, lon_max]]\n",
    "\n",
    "folium.raster_layers.ImageOverlay(\n",
    "    image=breaks_plot_years_norm,\n",
    "    bounds=[[latitude, longitude], [latitude + (rows*xpixelsize), longitude + (cols*xpixelsize)]],\n",
    "    colormap = newcmp\n",
    ").add_to(m)\n",
    "img = \"output/picture.png\" \n",
    "\n",
    "\n",
    "####\n",
    "resolution, width, height = 75, 4,4\n",
    "encoded = base64.b64encode(open(\"output/picture.png\", 'rb').read()).decode()\n",
    "from folium import IFrame\n",
    "\n",
    "html = '<img src=\"data:image/png;base64,{}\">'.format\n",
    "iframe = IFrame(html(encoded), width=(width*resolution)+20, height=(height*resolution)+20)\n",
    "popup = folium.Popup(iframe, max_width=2650)\n",
    "\n",
    "icon = folium.Icon(color=\"red\", icon=\"ok\")\n",
    "marker = folium.Marker(location=[latitude, longitude], popup=popup, icon=icon)\n",
    "marker.add_to(m)\n",
    "####\n",
    "\n",
    "m.save(os.path.join('output/PortugalBigger_gpu.html'))\n",
    "m"
   ]
  },
  {
   "cell_type": "code",
   "execution_count": null,
   "metadata": {},
   "outputs": [],
   "source": []
  },
  {
   "cell_type": "code",
   "execution_count": null,
   "metadata": {},
   "outputs": [],
   "source": []
  }
 ],
 "metadata": {
  "kernelspec": {
   "display_name": "bfastmonitor_cpu",
   "language": "python",
   "name": "bfastmonitor_cpu"
  },
  "language_info": {
   "codemirror_mode": {
    "name": "ipython",
    "version": 3
   },
   "file_extension": ".py",
   "mimetype": "text/x-python",
   "name": "python",
   "nbconvert_exporter": "python",
   "pygments_lexer": "ipython3",
   "version": "3.6.9"
  }
 },
 "nbformat": 4,
 "nbformat_minor": 4
}
