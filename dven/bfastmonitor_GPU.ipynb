{
 "cells": [
  {
   "cell_type": "markdown",
   "metadata": {},
   "source": [
    "# GPU implementation of Bfastmonitor using Python\n",
    "\n",
    "The bfast package provides a highly-efficient parallel implementation for the Breaks For Additive Season and Trend (BFASTmonitor) proposed by Verbesselt et al. The implementation is based on OpenCL."
   ]
  },
  {
   "cell_type": "markdown",
   "metadata": {},
   "source": [
    "The script below runs bfastmonitor over the timeseries data downloaded in SEPAL in blocks, and patches together tiles to export mean magnitudes and breaks as geotiffs, pngs, and .npy files. The output is also displayed in a digital map. Make sure to run through the cells sequentially.\n",
    "\n",
    "* First download data using the SEPAL time series downloader (not in this script). The downloads will be saved in your downloads folder and look like: /home/'username'/downloads/Time_series_2020-09-01_16-22-26/0|1|2|3\n",
    "\n",
    "* Import packages\n",
    "\n",
    "* Select data\n",
    "\n",
    "* Set parameters\n",
    "\n",
    "* Select monitoring period\n",
    "\n",
    "* Run bfastmonitor\n",
    "\n",
    "* Load output\n",
    "\n",
    "* Merge and save output\n",
    "\n",
    "* Display output\n",
    "\n",
    "\n"
   ]
  },
  {
   "cell_type": "markdown",
   "metadata": {},
   "source": [
    "### Import packages"
   ]
  },
  {
   "cell_type": "code",
   "execution_count": 1,
   "metadata": {},
   "outputs": [
    {
     "name": "stdout",
     "output_type": "stream",
     "text": [
      "\n",
      "    The timeseries class is a wrapper for using SEPAL timeseries data with bfast. \n",
      "    It wraps together a data tile with associated dates file and metadata. \n",
      "    It also allows for saving and loading the output rasters in a specified directory. \n",
      "    \n"
     ]
    }
   ],
   "source": [
    "import os # add a comment to test git \n",
    "from os.path import expanduser\n",
    "\n",
    "import wget\n",
    "import numpy as np\n",
    "from datetime import datetime\n",
    "import copy\n",
    "import matplotlib\n",
    "import matplotlib.pyplot as plt\n",
    "\n",
    "import json\n",
    "import subprocess\n",
    "\n",
    "from bfast import BFASTMonitor\n",
    "from bfast.utils import crop_data_dates\n",
    "\n",
    "import csv\n",
    "from shutil import copyfile\n",
    "import pandas as pd\n",
    "from osgeo import gdal, gdal_array, osr\n",
    "\n",
    "import time\n",
    "from tqdm import tqdm\n",
    "\n",
    "import ipywidgets as widgets\n",
    "from ipywidgets import Layout\n",
    "from ipyfilechooser import FileChooser\n",
    "import folium\n",
    "\n",
    "# from folium.plugins import FloatImage\n",
    "# import base64\n",
    "# import json\n",
    "\n",
    "from PIL import Image\n",
    "from matplotlib import cm\n",
    "\n",
    "# import functions from functions.py and plotting_funcs.py\n",
    "from functions import set_base_output_dir, set_output_dir, get_data_dict, merge_tiles, set_paths, _find_index_date, normalize, select_negatives, get_julian_dates\n",
    "from plotting_funcs import save_plot, merge_plots, classify_output, plot_output_matplotlib, set_corners, export_GTiff, classify_magnitudes, merge_plots2\n",
    "\n",
    "# Import the Timeseries class from time_series.py\n",
    "from time_series import Timeseries\n",
    "print(Timeseries.__doc__)\n",
    "\n",
    "# Import widgets for GUI parameter selection\n",
    "from widgets import get_widgets, get_dates_widgets\n",
    "output_directory_chooser, k_chooser,freq_chooser,trend_chooser,hfrac_chooser,level_chooser,backend_chooser, load_chooser, block_size_chooser, plot_display_data_chooser = get_widgets()"
   ]
  },
  {
   "cell_type": "code",
   "execution_count": 2,
   "metadata": {},
   "outputs": [],
   "source": [
    "%matplotlib inline"
   ]
  },
  {
   "cell_type": "markdown",
   "metadata": {},
   "source": [
    "### Select data\n",
    "\n",
    "#### Select a name for your output folder. All the segments you run through will be saved here: \"./stored_time_series/[yourfoldername]\n",
    "\n"
   ]
  },
  {
   "cell_type": "code",
   "execution_count": 3,
   "metadata": {},
   "outputs": [
    {
     "data": {
      "application/vnd.jupyter.widget-view+json": {
       "model_id": "f815299d1007446e8d6120ad7c342bc1",
       "version_major": 2,
       "version_minor": 0
      },
      "text/plain": [
       "interactive(children=(Text(value='', description='Output storage name: (country/location name, e.g. \"Guyana\")'…"
      ]
     },
     "metadata": {},
     "output_type": "display_data"
    }
   ],
   "source": [
    "display(output_directory_chooser)"
   ]
  },
  {
   "cell_type": "code",
   "execution_count": 4,
   "metadata": {},
   "outputs": [
    {
     "name": "stdout",
     "output_type": "stream",
     "text": [
      "Output directory name: stored_time_series/testtest\n"
     ]
    }
   ],
   "source": [
    "base_output_dir = set_base_output_dir(output_directory_chooser)"
   ]
  },
  {
   "cell_type": "markdown",
   "metadata": {},
   "source": [
    "#### Select a time series segment folder using ipyfilechooser.  The standard download location is in downloads/time_series_name/[0,1,2..n]\n"
   ]
  },
  {
   "cell_type": "code",
   "execution_count": 5,
   "metadata": {},
   "outputs": [
    {
     "data": {
      "application/vnd.jupyter.widget-view+json": {
       "model_id": "cddc810e67a74a42b1e208c0f9c08349",
       "version_major": 2,
       "version_minor": 0
      },
      "text/plain": [
       "FileChooser(path='/home/dven', filename='', title='HTML(value='', layout=Layout(display='none'))', show_hidden…"
      ]
     },
     "metadata": {},
     "output_type": "display_data"
    }
   ],
   "source": [
    "path = expanduser(\"~\")\n",
    "file_chooser = FileChooser(path)\n",
    "display(file_chooser)"
   ]
  },
  {
   "cell_type": "code",
   "execution_count": 6,
   "metadata": {},
   "outputs": [
    {
     "name": "stdout",
     "output_type": "stream",
     "text": [
      "/home/dven/downloads/Time_series_2020-09-09_13-02-40_Australia_small/0/\n"
     ]
    }
   ],
   "source": [
    "timeseries_directory = file_chooser.selected\n",
    "\n",
    "if not timeseries_directory:\n",
    "    raise Exception(\"Please choose a time series directory above with the file selector\")\n",
    "else:\n",
    "    print(timeseries_directory)\n",
    "    output_dir = set_output_dir(output_directory_chooser,timeseries_directory)"
   ]
  },
  {
   "cell_type": "markdown",
   "metadata": {},
   "source": [
    "#### Load in data: if there are tiles in the directory, create a list and load per tile. The Timeseries tiles and their associated data are put in the list: 'data_list'\n"
   ]
  },
  {
   "cell_type": "code",
   "execution_count": 7,
   "metadata": {
    "scrolled": true
   },
   "outputs": [
    {
     "name": "stdout",
     "output_type": "stream",
     "text": [
      "Data consists of tiles, setting up tiles in 'data_list' \n",
      "Timeseries class holding 956 dates, sized 755 by 599.\n"
     ]
    }
   ],
   "source": [
    "# Create Timeseries class objects for every tile\n",
    "data_list = set_paths(timeseries_directory = timeseries_directory, save_location = base_output_dir +\"/\",check_existing=True)\n",
    "\n",
    "if data_list:\n",
    "    for tile in data_list:\n",
    "        print(tile)\n",
    "else:\n",
    "    raise Exception(\"All tiles have already generated output, if you want to run again, change your output_dir_name or set check_existing above to False\")"
   ]
  },
  {
   "cell_type": "markdown",
   "metadata": {},
   "source": [
    "### Check some metadata of the created Timeseries class"
   ]
  },
  {
   "cell_type": "code",
   "execution_count": 8,
   "metadata": {
    "scrolled": true
   },
   "outputs": [
    {
     "name": "stdout",
     "output_type": "stream",
     "text": [
      "projection:  GEOGCS[\"WGS 84\",DATUM[\"WGS_1984\",SPHEROID[\"WGS 84\",6378137,298.257223563,AUTHORITY[\"EPSG\",\"7030\"]],AUTHORITY[\"EPSG\",\"6326\"]],PRIMEM[\"Greenwich\",0],UNIT[\"degree\",0.0174532925199433,AUTHORITY[\"EPSG\",\"9122\"]],AXIS[\"Latitude\",NORTH],AXIS[\"Longitude\",EAST],AUTHORITY[\"EPSG\",\"4326\"]]\n",
      "pixel size:  0.00026949458523586135\n",
      "n dates in timeseries:  956\n"
     ]
    }
   ],
   "source": [
    "print(\"projection: \", data_list[0].projection)\n",
    "print(\"pixel size: \", data_list[0].xpixelsize)\n",
    "print(\"n dates in timeseries: \", data_list[0].nbands)\n",
    "\n",
    "# Uncomment to see al vars associated with the tile\n",
    "#vars(data_list[0])"
   ]
  },
  {
   "cell_type": "markdown",
   "metadata": {},
   "source": [
    "# Set parameters\n",
    "\n",
    "## Make sure not to re-run these blocks if you want to use the same dates for every segment 1|2|3|4"
   ]
  },
  {
   "cell_type": "code",
   "execution_count": 9,
   "metadata": {},
   "outputs": [
    {
     "data": {
      "application/vnd.jupyter.widget-view+json": {
       "model_id": "4f9eec724964457ea8c903194d5a6220",
       "version_major": 2,
       "version_minor": 0
      },
      "text/plain": [
       "interactive(children=(Dropdown(description='k, harmonic terms', index=2, layout=Layout(height='auto', width='5…"
      ]
     },
     "metadata": {},
     "output_type": "display_data"
    },
    {
     "data": {
      "application/vnd.jupyter.widget-view+json": {
       "model_id": "e94e4962b82f4a1785d3a0202b35b8db",
       "version_major": 2,
       "version_minor": 0
      },
      "text/plain": [
       "interactive(children=(IntSlider(value=365, description='freq, frequency of seasonal model (days)', layout=Layo…"
      ]
     },
     "metadata": {},
     "output_type": "display_data"
    },
    {
     "data": {
      "application/vnd.jupyter.widget-view+json": {
       "model_id": "2f0a433d408742d084d2b8cc02fd79eb",
       "version_major": 2,
       "version_minor": 0
      },
      "text/plain": [
       "interactive(children=(Checkbox(value=False, description='add trend', layout=Layout(height='auto', width='500px…"
      ]
     },
     "metadata": {},
     "output_type": "display_data"
    },
    {
     "data": {
      "application/vnd.jupyter.widget-view+json": {
       "model_id": "9ec05b2f79bc433faa6aa5e8d7829a7a",
       "version_major": 2,
       "version_minor": 0
      },
      "text/plain": [
       "interactive(children=(FloatSlider(value=0.25, description='Bandwith relative to sample size', layout=Layout(he…"
      ]
     },
     "metadata": {},
     "output_type": "display_data"
    },
    {
     "data": {
      "application/vnd.jupyter.widget-view+json": {
       "model_id": "bb7e2429b74e43348abf203aed284bbc",
       "version_major": 2,
       "version_minor": 0
      },
      "text/plain": [
       "interactive(children=(SelectionSlider(description='Significance level of the monitoring', layout=Layout(height…"
      ]
     },
     "metadata": {},
     "output_type": "display_data"
    },
    {
     "data": {
      "application/vnd.jupyter.widget-view+json": {
       "model_id": "dfdf26f3bbec4111aca4c2a1849a5ed2",
       "version_major": 2,
       "version_minor": 0
      },
      "text/plain": [
       "interactive(children=(Dropdown(description='backend', layout=Layout(height='auto', width='500px'), options=('o…"
      ]
     },
     "metadata": {},
     "output_type": "display_data"
    }
   ],
   "source": [
    "# Choose parameters\n",
    "display(k_chooser)\n",
    "display(freq_chooser)\n",
    "display(trend_chooser)\n",
    "display(hfrac_chooser)\n",
    "display(level_chooser)\n",
    "display(backend_chooser)"
   ]
  },
  {
   "cell_type": "code",
   "execution_count": 10,
   "metadata": {},
   "outputs": [],
   "source": [
    "# Set parameters\n",
    "k = k_chooser.result\n",
    "freq = freq_chooser.result\n",
    "trend = trend_chooser.result\n",
    "hfrac = hfrac_chooser.result\n",
    "level = 1 - level_chooser.result\n",
    "backend = backend_chooser.result\n",
    "verbose = 1\n",
    "device_id = 0"
   ]
  },
  {
   "cell_type": "markdown",
   "metadata": {},
   "source": [
    "# Select monitoring period\n",
    "\n",
    "## Make sure not to re-run these blocks if you want to use the same dates for every segment 1|2|3|4"
   ]
  },
  {
   "cell_type": "code",
   "execution_count": 11,
   "metadata": {},
   "outputs": [
    {
     "data": {
      "application/vnd.jupyter.widget-view+json": {
       "model_id": "b0824dbf891149a89ff75dc5d6d572bf",
       "version_major": 2,
       "version_minor": 0
      },
      "text/plain": [
       "interactive(children=(SelectionRangeSlider(description='Select the monitoring date range: ', index=(0, 7544), …"
      ]
     },
     "metadata": {},
     "output_type": "display_data"
    },
    {
     "data": {
      "application/vnd.jupyter.widget-view+json": {
       "model_id": "e2d4e7974f724f98bf5d870895926039",
       "version_major": 2,
       "version_minor": 0
      },
      "text/plain": [
       "interactive(children=(SelectionSlider(description='Start history period:', options=(('2000-01-01', Timestamp('…"
      ]
     },
     "metadata": {},
     "output_type": "display_data"
    }
   ],
   "source": [
    "dates = data_list[0].dates\n",
    "start_date = dates[0] # 0 or 10 does not work.. 100 did ########\n",
    "end_date = dates[-1]\n",
    "pandas_dates = pd.date_range(start_date, end_date, freq='D')\n",
    "\n",
    "options =  [(date.strftime('%Y-%m-%d'),date) for date in pandas_dates]\n",
    "index = (0, len(options)-1)\n",
    "\n",
    "monitoring_period_chooser, history_period_chooser = get_dates_widgets(options = options, index = index)\n",
    "\n",
    "display(monitoring_period_chooser)\n",
    "display(history_period_chooser)"
   ]
  },
  {
   "cell_type": "code",
   "execution_count": 12,
   "metadata": {},
   "outputs": [],
   "source": [
    "start_monitor, end_monitor = monitoring_period_chooser.result\n",
    "start_hist = history_period_chooser.result\n",
    "\n",
    "if history_period_chooser.result > start_monitor:\n",
    "    raise Exception(\"Your history period must start before the monitoring period\")\n",
    "if start_monitor < dates[50]:\n",
    "    raise Warning(\"Your history period is relatively short, did you move the monitoring date range to a later date?\")\n",
    "\n"
   ]
  },
  {
   "cell_type": "markdown",
   "metadata": {},
   "source": [
    "## Loop over tiles, (or single tile), in data_list\n",
    "### Alternatively, if your magnituede_changes and breaks arrays already exist, skip this code and run load from file in the next block\n",
    "### If you get a memory error, change the x_block and y_block size to a smaller power of 2: 1080, 512, 256, 128"
   ]
  },
  {
   "cell_type": "code",
   "execution_count": 13,
   "metadata": {},
   "outputs": [
    {
     "data": {
      "application/vnd.jupyter.widget-view+json": {
       "model_id": "43cb626a29c945ed9ff1d50eba5bc153",
       "version_major": 2,
       "version_minor": 0
      },
      "text/plain": [
       "interactive(children=(Dropdown(description='block size, bigger is generally faster, but may result in memory i…"
      ]
     },
     "metadata": {},
     "output_type": "display_data"
    }
   ],
   "source": [
    "display(block_size_chooser)"
   ]
  },
  {
   "cell_type": "code",
   "execution_count": 14,
   "metadata": {
    "scrolled": true
   },
   "outputs": [
    {
     "name": "stderr",
     "output_type": "stream",
     "text": [
      "Processing tile 1 out of 1:   0%|          | 0/1 [00:00<?, ?it/s]\n",
      "  0%|          | 0/2 [00:00<?, ?it/s]\u001b[A\n",
      "Processing blocks of tile::   0%|          | 0/2 [00:00<?, ?it/s]\u001b[A"
     ]
    },
    {
     "name": "stdout",
     "output_type": "stream",
     "text": [
      "device:  [<pyopencl.Device 'Tesla T4' on 'NVIDIA CUDA' at 0x40d6e60>]\n",
      "Monitoring starts at:  2013-11-17 00:00:00\n",
      "Monitoring ends at:  2020-08-27 00:00:00\n",
      "Dataset history starts at:  2000-01-01 00:00:00\n",
      "frequency:  365\n",
      "harmonic term:  3\n",
      "Hfrac: Float in the interval (0,1) specifying the bandwidth relative to the sample size in the MOSUM/ME monitoring processes.:  0.25\n",
      "Trend: Whether a tend offset term shall be used or not:  False\n",
      "Level: Significance level of the monitoring (and ROC, if selected) procedure, i.e., probability of type I error:  0.050000000000000044\n",
      "backend: GPU opencl or CPU python:  opencl\n",
      "verbose: The verbosity level (0=no output, 1=output):  1\n",
      "rastersize:  755 599\n",
      "The natural block size is the block size that is most efficient for accessing the format, gdal found blocksize:  [128, 128]\n",
      "set blocksize explicitly:  512 ,  512\n",
      "start monitor:  2013-11-17 00:00:00\n",
      "end monitor:  2020-08-27 00:00:00\n",
      "start history:  2000-01-01 00:00:00\n",
      "0 0 512 512\n",
      "--- runtime for data initialization:\t\t0.12132096290588379\n",
      "--- runtime for data transfer (host->device):\t0.10621094703674316\n",
      "--- runtime for data preprocessing:\t\t0.01884770393371582\n"
     ]
    },
    {
     "name": "stderr",
     "output_type": "stream",
     "text": [
      "/usr/local/lib/python3.6/dist-packages/bfast/monitor/opencl/bfastfinal.py:17894: RuntimeWarning: overflow encountered in int_scalars\n",
      "  num_threads_32532 = (n_30761 * convop_x_37235)\n",
      "\n",
      "Processing blocks of tile:: 100%|██████████| 2/2 [00:26<00:00, 13.05s/it]\u001b[A"
     ]
    },
    {
     "name": "stdout",
     "output_type": "stream",
     "text": [
      "--- runtime for kernel execution:\t\t0.3338146209716797\n",
      "--- runtime for data transfer (device->host):\t0.015661001205444336\n",
      "512 0 243 512\n"
     ]
    },
    {
     "name": "stderr",
     "output_type": "stream",
     "text": [
      "/usr/local/lib/python3.6/dist-packages/bfast/monitor/opencl/bfastfinal.py:17894: RuntimeWarning: overflow encountered in int_scalars\n",
      "  num_threads_32532 = (n_30761 * convop_x_37235)\n",
      "\n",
      "Processing blocks of tile:: : 3it [00:34, 11.68s/it]                     \u001b[A"
     ]
    },
    {
     "name": "stdout",
     "output_type": "stream",
     "text": [
      "--- runtime for data initialization:\t\t0.0025691986083984375\n",
      "--- runtime for data transfer (host->device):\t0.05050230026245117\n",
      "--- runtime for data preprocessing:\t\t0.0077059268951416016\n",
      "--- runtime for kernel execution:\t\t0.07406139373779297\n",
      "--- runtime for data transfer (device->host):\t0.00966191291809082\n",
      "0 512 512 87\n"
     ]
    },
    {
     "name": "stderr",
     "output_type": "stream",
     "text": [
      "\n",
      "Processing blocks of tile:: : 4it [00:39,  9.79s/it]\u001b[A"
     ]
    },
    {
     "name": "stdout",
     "output_type": "stream",
     "text": [
      "--- runtime for data initialization:\t\t0.0025510787963867188\n",
      "--- runtime for data transfer (host->device):\t0.018451690673828125\n",
      "--- runtime for data preprocessing:\t\t0.0048389434814453125\n",
      "--- runtime for kernel execution:\t\t0.0338590145111084\n",
      "--- runtime for data transfer (device->host):\t0.004486799240112305\n",
      "512 512 243 87\n"
     ]
    },
    {
     "name": "stderr",
     "output_type": "stream",
     "text": [
      "\r",
      "Processing blocks of tile:: : 4it [00:44, 11.02s/it]"
     ]
    },
    {
     "name": "stdout",
     "output_type": "stream",
     "text": [
      "--- runtime for data initialization:\t\t0.002597808837890625\n",
      "--- runtime for data transfer (host->device):\t0.008966207504272461\n",
      "--- runtime for data preprocessing:\t\t0.002741575241088867\n",
      "--- runtime for kernel execution:\t\t0.018195152282714844\n",
      "--- runtime for data transfer (device->host):\t0.002454042434692383\n",
      "Fitting model over all blocks took 44.0885112285614 seconds.\n"
     ]
    },
    {
     "name": "stderr",
     "output_type": "stream",
     "text": [
      "\n",
      "Processing tile 1 out of 1:   0%|          | 0/1 [00:44<?, ?it/s]\n"
     ]
    }
   ],
   "source": [
    "x_block = y_block = block_size_chooser.result\n",
    "\n",
    "# loading bar\n",
    "with tqdm(total=len(data_list)) as pbar1:\n",
    "    \n",
    "    # loop over tile(s) in the data_list\n",
    "    for counter, tile in enumerate(data_list):\n",
    "        pbar1.set_description(\"Processing tile %s out of %s\" % (counter+1, len(data_list)) )\n",
    "\n",
    "        tile.set_bfast_parameters(start_monitor = start_monitor, \n",
    "                                     end_monitor = end_monitor,\n",
    "                                     start_hist = start_hist,\n",
    "                                     freq = freq,\n",
    "                                     k = k,\n",
    "                                     hfrac = hfrac,\n",
    "                                     trend = trend,\n",
    "                                     level = level,\n",
    "                                     backend=backend,\n",
    "                                     verbose=verbose,\n",
    "                                     device_id=device_id)\n",
    "        \n",
    "        tile.get_bfast_parameters()\n",
    "        \n",
    "        tile.loop_blocks(x_block_size = x_block,\n",
    "                            y_block_size=y_block)\n",
    "        \n",
    "        tile.log_all_output(output_dir_name=output_dir)\n",
    "        \n",
    "        \n",
    "        data_list[counter] = '0'\n",
    "        del(tile)\n",
    "        \n",
    "        \n",
    "        pbar1.update(counter)\n",
    "        \n",
    "pbar1.close()\n"
   ]
  },
  {
   "cell_type": "markdown",
   "metadata": {},
   "source": [
    "## Load output\n",
    "### The cell above automatically stores the output in a folder. The following loads the data."
   ]
  },
  {
   "cell_type": "code",
   "execution_count": 15,
   "metadata": {},
   "outputs": [
    {
     "name": "stdout",
     "output_type": "stream",
     "text": [
      "Data consists of tiles, setting up tiles in 'data_list' \n",
      "stored_time_series/testtest/0\n",
      "Timeseries class holding 956 dates, sized 755 by 599.\n"
     ]
    }
   ],
   "source": [
    "data_list = set_paths(timeseries_directory = timeseries_directory)\n",
    "print(output_dir)\n",
    "for tile in data_list:\n",
    "    print(tile)\n",
    "\n",
    "    tile.start_monitor, tile.end_monitor = monitoring_period_chooser.result\n",
    "    tile.start_hist = history_period_chooser.result\n",
    "\n",
    "    tile.crop_dates(tile.dates)\n",
    "    tile.load_breaks_means_arrays_from_file(output_dir_name = output_dir)"
   ]
  },
  {
   "cell_type": "markdown",
   "metadata": {},
   "source": [
    "### Check tiles for output quality"
   ]
  },
  {
   "cell_type": "code",
   "execution_count": 16,
   "metadata": {
    "scrolled": true
   },
   "outputs": [
    {
     "name": "stdout",
     "output_type": "stream",
     "text": [
      "percentage breaks found 60.5552300191268\n",
      "percentage cells lacking data to find results found 0.0\n"
     ]
    }
   ],
   "source": [
    "perc_lacking_data_sum, perc_breaks_sum= 0,0\n",
    "for tile in data_list:\n",
    "    minus2count,minus1count,perc_lacking_data,perc_breaks = tile.check_arrays()\n",
    "    perc_breaks_sum += perc_breaks\n",
    "    perc_lacking_data_sum+= perc_lacking_data\n",
    "print(\"percentage breaks found\", perc_breaks_sum/len(data_list))\n",
    "print(\"percentage cells lacking data to find results found\", perc_lacking_data_sum/len(data_list))\n"
   ]
  },
  {
   "cell_type": "markdown",
   "metadata": {},
   "source": [
    "### Merge tiles together and save as all_means.npy and all_breaks.npy"
   ]
  },
  {
   "cell_type": "code",
   "execution_count": 17,
   "metadata": {
    "scrolled": true
   },
   "outputs": [
    {
     "name": "stdout",
     "output_type": "stream",
     "text": [
      "png saved in stored_time_series/testtest/0/pngs/magnitudes_0.png\n",
      "colorbar saved in stored_time_series/testtest/0/colorbars/colorbar_magnitudes_0.png\n",
      "Geotiff saved in stored_time_series/testtest/0/geotifs/magnitudes_0.tif\n",
      "Geotiff saved in stored_time_series/testtest/0/geotifs/breaks_indexed_0.tif\n",
      "mean:  349.57083\n",
      "stdev:  211.22092\n",
      "max value:  2709.0723\n",
      "min value:  -1394.999\n",
      "uint16 set\n",
      "Geotiff saved in stored_time_series/testtest/0/geotifs/magnitudes_classified_0.tif\n"
     ]
    },
    {
     "data": {
      "text/plain": [
       "0"
      ]
     },
     "execution_count": 17,
     "metadata": {},
     "output_type": "execute_result"
    },
    {
     "data": {
      "image/png": "[encoded data removed]",
      "text/plain": [
       "<Figure size 432x72 with 1 Axes>"
      ]
     },
     "metadata": {
      "needs_background": "light"
     },
     "output_type": "display_data"
    }
   ],
   "source": [
    "if len(data_list)>1:\n",
    "    means_orig, breaks_orig = merge_tiles(data_list,output_dir_name = output_dir)\n",
    "else:\n",
    "    means_orig = data_list[0].means_array\n",
    "    breaks_orig = data_list[0].breaks_array\n",
    "\n",
    "save_plot(means_orig,output_dir, save_name = \"magnitudes_\" + timeseries_directory[-2])\n",
    "export_GTiff(data_list, output_dir, array = means_orig, output_name = \"magnitudes_\" + timeseries_directory[-2] + \".tif\")\n",
    "export_GTiff(data_list, output_dir, array = breaks_orig, output_name = \"breaks_indexed_\" + timeseries_directory[-2] + \".tif\")\n",
    "\n",
    "# color the classified raster\n",
    "classified_means = classify_magnitudes(means_orig)\n",
    "classified_means = np.nan_to_num(classified_means,nan=0).astype(\"uint16\")\n",
    "export_GTiff(data_list, output_dir, array = classified_means, output_name = \"magnitudes_classified_\" + timeseries_directory[-2] + \".tif\")\n",
    "    \n",
    "func = \"oft-addpct.py\"\n",
    "clas_tif = output_dir + \"/geotifs/magnitudes_classified_\" + timeseries_directory[-2] + \".tif\"\n",
    "clas_tif_result = output_dir + \"/geotifs/magnitudes_classified_\" + timeseries_directory[-2] + \"_result.tif\"\n",
    "color_table = \"color_table.txt\"\n",
    "\n",
    "ps = subprocess.Popen(('echo', color_table), stdout=subprocess.PIPE)\n",
    "output = subprocess.check_output((func, clas_tif, clas_tif_result), stdin=ps.stdout)\n",
    "ps.wait()"
   ]
  },
  {
   "cell_type": "markdown",
   "metadata": {},
   "source": [
    "#### Select negative magnitudes"
   ]
  },
  {
   "cell_type": "code",
   "execution_count": 18,
   "metadata": {},
   "outputs": [
    {
     "name": "stdout",
     "output_type": "stream",
     "text": [
      "png saved in stored_time_series/testtest/0/pngs/magnitudes_negative0.png\n",
      "colorbar saved in stored_time_series/testtest/0/colorbars/colorbar_magnitudes_negative0.png\n",
      "Geotiff saved in stored_time_series/testtest/0/geotifs/magnitudes_negative_0.tif\n",
      "Geotiff saved in stored_time_series/testtest/0/geotifs/breaks_binary_0.tif\n",
      "Geotiff saved in stored_time_series/testtest/0/geotifs/breaks_binary_negative_0.tif\n"
     ]
    },
    {
     "data": {
      "image/png": "[encoded data removed]",
      "text/plain": [
       "<Figure size 432x72 with 1 Axes>"
      ]
     },
     "metadata": {
      "needs_background": "light"
     },
     "output_type": "display_data"
    }
   ],
   "source": [
    "# select only negative magnitudes\n",
    "means_neg, breaks_indexed, breaks_indexed_neg, binary_breaks, negative_binary_breaks = select_negatives(means_orig, breaks_orig)\n",
    "\n",
    "save_plot(means_neg, output_dir, save_name = \"magnitudes_negative\" + timeseries_directory[-2])\n",
    "\n",
    "# save negative means and breaks\n",
    "export_GTiff(data_list, output_dir, array = means_neg ,output_name = \"magnitudes_negative_\" + timeseries_directory[-2] + \".tif\")\n",
    "export_GTiff(data_list, output_dir, array = binary_breaks ,output_name = \"breaks_binary_\" + timeseries_directory[-2] + \".tif\")\n",
    "export_GTiff(data_list, output_dir, array = negative_binary_breaks ,output_name = \"breaks_binary_negative_\" + timeseries_directory[-2] + \".tif\")\n"
   ]
  },
  {
   "cell_type": "code",
   "execution_count": 19,
   "metadata": {
    "scrolled": true
   },
   "outputs": [],
   "source": [
    "dates_monitor = []\n",
    "dates = data_list[0].cropped_dates\n",
    "\n",
    "# collect dates for monitor period\n",
    "for i in range(len(dates)):\n",
    "    if start_monitor <= dates[i]:\n",
    "        dates_monitor.append(dates[i])\n",
    "dates_array = np.array(dates_monitor) # dates_array is the dates that are in the monitoring period\n"
   ]
  },
  {
   "cell_type": "code",
   "execution_count": 20,
   "metadata": {},
   "outputs": [
    {
     "name": "stdout",
     "output_type": "stream",
     "text": [
      "Geotiff saved in stored_time_series/testtest/0/geotifs/breaks_julian_0.tif\n",
      "Geotiff saved in stored_time_series/testtest/0/geotifs/breaks_julian_negative_0.tif\n",
      "Geotiff saved in stored_time_series/testtest/0/geotifs/breaks_year_0.tif\n",
      "Geotiff saved in stored_time_series/testtest/0/geotifs/breaks_year_negative_0.tif\n"
     ]
    }
   ],
   "source": [
    "julian_breaks, year_breaks = get_julian_dates(dates_array,breaks_indexed)\n",
    "negative_julian_breaks, negative_year_breaks = get_julian_dates(dates_array,breaks_indexed_neg)\n",
    "\n",
    "# save negative means and breaks\n",
    "export_GTiff(data_list, output_dir, array = julian_breaks ,output_name = \"breaks_julian_\" + timeseries_directory[-2] + \".tif\")\n",
    "export_GTiff(data_list, output_dir, array = negative_julian_breaks ,output_name = \"breaks_julian_negative_\" + timeseries_directory[-2] + \".tif\")\n",
    "\n",
    "export_GTiff(data_list, output_dir, array = year_breaks, output_name = \"breaks_year_\" +  timeseries_directory[-2] + \".tif\")\n",
    "export_GTiff(data_list, output_dir, array = negative_year_breaks, output_name = \"breaks_year_negative_\" +  timeseries_directory[-2] + \".tif\")\n",
    "    "
   ]
  },
  {
   "cell_type": "markdown",
   "metadata": {},
   "source": [
    "# Classify output for plotting"
   ]
  },
  {
   "cell_type": "code",
   "execution_count": 21,
   "metadata": {},
   "outputs": [
    {
     "name": "stdout",
     "output_type": "stream",
     "text": [
      "{2013: 0, 2014: 6, 2015: 62, 2016: 115, 2017: 169, 2018: 230, 2019: 271, 2020: 314}\n"
     ]
    }
   ],
   "source": [
    "breaks_years_neg, idx_starts, ticklist = classify_output(start_monitor,end_monitor,breaks_indexed_neg,dates_array)\n",
    "#save_plot(breaks_years_neg, output_dir, save_name = \"all_negative_breaks_years\")"
   ]
  },
  {
   "cell_type": "markdown",
   "metadata": {},
   "source": [
    "# Plot output"
   ]
  },
  {
   "cell_type": "code",
   "execution_count": 22,
   "metadata": {
    "scrolled": false
   },
   "outputs": [
    {
     "name": "stderr",
     "output_type": "stream",
     "text": [
      "/home/dven/bfastmonitor_cpu/dven/plotting_funcs.py:209: MatplotlibDeprecationWarning: Passing parameters norm and vmin/vmax simultaneously is deprecated since 3.3 and will become an error two minor releases later. Please pass vmin/vmax directly to the norm when creating it.\n",
      "  im = axes.imshow(breaks_plot_years, cmap=cmap, vmin=0, vmax=bins, norm=norm)\n"
     ]
    },
    {
     "data": {
      "image/png": "[encoded data removed]",
      "text/plain": [
       "<Figure size 3600x3600 with 2 Axes>"
      ]
     },
     "metadata": {
      "needs_background": "light"
     },
     "output_type": "display_data"
    }
   ],
   "source": [
    "plot_output_matplotlib(idx_starts,breaks_years_neg,ticklist)\n",
    "#asave_plot(breaks_years_neg, output_dir, save_name = \"breaks_per_year\")"
   ]
  },
  {
   "cell_type": "code",
   "execution_count": 23,
   "metadata": {},
   "outputs": [],
   "source": [
    "#set_corners(output_dir,data_list)"
   ]
  },
  {
   "cell_type": "markdown",
   "metadata": {},
   "source": [
    "## Plot all of your segments and save as a html map. Small areas may not show on the map"
   ]
  },
  {
   "cell_type": "code",
   "execution_count": 24,
   "metadata": {},
   "outputs": [
    {
     "data": {
      "application/vnd.jupyter.widget-view+json": {
       "model_id": "9b8430a9cd88458693c415fc78624f4f",
       "version_major": 2,
       "version_minor": 0
      },
      "text/plain": [
       "interactive(children=(Dropdown(description='data to plot', layout=Layout(height='auto', width='500px'), option…"
      ]
     },
     "metadata": {},
     "output_type": "display_data"
    }
   ],
   "source": [
    "display(plot_display_data_chooser)"
   ]
  },
  {
   "cell_type": "code",
   "execution_count": 25,
   "metadata": {},
   "outputs": [
    {
     "name": "stdout",
     "output_type": "stream",
     "text": [
      "0\n",
      "stored_time_series/testtest/0/pngs/magnitudes_0.png\n"
     ]
    }
   ],
   "source": [
    "if not plot_display_data_chooser.result:\n",
    "    print(\"make sure to run the block above\")\n",
    "m = merge_plots2(data_list = data_list, base_output_dir=base_output_dir,plot_name= plot_display_data_chooser.result)\n",
    "m.save(base_output_dir + \"/\" +\"0/\" + plot_display_data_chooser.result + \".html\")\n"
   ]
  },
  {
   "cell_type": "code",
   "execution_count": 27,
   "metadata": {},
   "outputs": [],
   "source": [
    "#m"
   ]
  },
  {
   "cell_type": "code",
   "execution_count": null,
   "metadata": {},
   "outputs": [],
   "source": []
  }
 ],
 "metadata": {
  "kernelspec": {
   "display_name": "Python 3",
   "language": "python",
   "name": "python3"
  },
  "language_info": {
   "codemirror_mode": {
    "name": "ipython",
    "version": 3
   },
   "file_extension": ".py",
   "mimetype": "text/x-python",
   "name": "python",
   "nbconvert_exporter": "python",
   "pygments_lexer": "ipython3",
   "version": "3.6.9"
  }
 },
 "nbformat": 4,
 "nbformat_minor": 4
}
